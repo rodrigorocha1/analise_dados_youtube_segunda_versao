{
 "cells": [
  {
   "cell_type": "code",
   "execution_count": 14,
   "metadata": {},
   "outputs": [],
   "source": [
    "from pyspark.sql import SparkSession\n",
    "import pyspark.sql.functions as f\n",
    "import pickle\n",
    "from typing import List"
   ]
  },
  {
   "cell_type": "code",
   "execution_count": 41,
   "metadata": {},
   "outputs": [],
   "source": [
    "spark = SparkSession.builder.appName('Exploracao').getOrCreate()"
   ]
  },
  {
   "cell_type": "code",
   "execution_count": 38,
   "metadata": {},
   "outputs": [],
   "source": [
    "def fazer_transformacao_camada_prata(lista_assunto: List, lista_data: List):\n",
    "    spark = SparkSession.builder.appName('Exploracao').getOrCreate()\n",
    "    for assunto in lista_assunto:\n",
    "        for data in lista_data:\n",
    "            df_video_json = spark.read.json(f'../dados/bronze/assunto_{assunto}/{data}/estatisticas/req_video.json')\n",
    "            df_video_json = df_video_json.select(\n",
    "                'data_extracao',\n",
    "                f.explode('items').alias('items')\n",
    "            )\n",
    "            df_video_json = df_video_json.select(\n",
    "                'data_extracao',\n",
    "                f.col('items.id').alias('ID_VIDEO'),\n",
    "                f.col('items.snippet.publishedAt').alias('DATA_PUBLICACAO'),\n",
    "                f.col('items.snippet.channelId').alias('ID_CANAL'),\n",
    "                f.col('items.snippet.channelTitle').alias('NM_CANAL'),\n",
    "                f.col('items.snippet.categoryId').alias('ID_CATEGORIA'),\n",
    "                f.col('items.snippet.title').alias('TITULO_VIDEO'),\n",
    "                f.col('items.snippet.description').alias('DESCRICAO'),\n",
    "                f.col('items.snippet.tags').alias('TAGS'),\n",
    "                f.col('items.contentDetails.duration').alias('DURACAO_VIDEOS'),\n",
    "                f.col('items.statistics.viewCount').alias('TOTAL_VISUALIZACOES'),\n",
    "                f.col('items.statistics.likeCount').alias('TOTAL_LIKES'),\n",
    "                f.col('items.statistics.favoriteCount').alias('TOTAL_FAVORITOS'),\n",
    "                f.col('items.statistics.commentCount').alias('TOTAL_COMENTARIOS'),\n",
    "            ).sort(f.col(\"TOTAL_VISUALIZACOES\").desc())\n",
    "            df_video_json = df_video_json.withColumn('ASSUNTO', f.lit(f'assunto_{assunto}'))\n",
    "            df_video_json.write.mode('append').parquet('../dados/prata/arquivos_assuntos.parquet')\n",
    "    spark.stop()"
   ]
  },
  {
   "cell_type": "code",
   "execution_count": 16,
   "metadata": {},
   "outputs": [
    {
     "name": "stdout",
     "output_type": "stream",
     "text": [
      "+-------------------+--------------------+--------------------+--------------------+--------+\n",
      "|      data_extracao|                etag|               items|                kind|pageInfo|\n",
      "+-------------------+--------------------+--------------------+--------------------+--------+\n",
      "|2024-01-23 10:37:34|q8i-901LKIxeuVfbo...|[{{false, hd, 2d,...|youtube#videoList...|  {1, 1}|\n",
      "|2024-01-23 10:37:34|jZJPWIDBL3vKrFDwH...|[{{false, hd, 2d,...|youtube#videoList...|  {1, 1}|\n",
      "|2024-01-23 10:37:34|_94HWxFQluRa5aGnx...|[{{false, hd, 2d,...|youtube#videoList...|  {1, 1}|\n",
      "|2024-01-23 10:37:34|ddM0r9gLmEQdDP3xd...|[{{false, sd, 2d,...|youtube#videoList...|  {1, 1}|\n",
      "|2024-01-23 10:37:34|2v09ZAxp1sCZzTA88...|[{{false, hd, 2d,...|youtube#videoList...|  {1, 1}|\n",
      "|2024-01-23 10:37:34|ySqXveRJ57S1MIT59...|[{{false, hd, 2d,...|youtube#videoList...|  {1, 1}|\n",
      "|2024-01-23 10:37:34|W5AFCgNxVHD9KeDFY...|[{{false, hd, 2d,...|youtube#videoList...|  {1, 1}|\n",
      "|2024-01-23 10:37:35|ukJePRS3ofLnBqGKG...|[{{false, hd, 2d,...|youtube#videoList...|  {1, 1}|\n",
      "|2024-01-23 10:37:35|9WmrW6zwARXmD6rr2...|[{{false, hd, 2d,...|youtube#videoList...|  {1, 1}|\n",
      "|2024-01-23 10:37:35|J0huV6sloF2YwjdRP...|[{{false, hd, 2d,...|youtube#videoList...|  {1, 1}|\n",
      "|2024-01-23 10:37:35|5Ic9xCgrudHcX4t3s...|[{{false, hd, 2d,...|youtube#videoList...|  {1, 1}|\n",
      "|2024-01-23 10:37:35|6laE7pFcIBu5_si0M...|[{{false, hd, 2d,...|youtube#videoList...|  {1, 1}|\n",
      "|2024-01-23 10:37:35|SCcfFahHylmYksRVq...|[{{false, hd, 2d,...|youtube#videoList...|  {1, 1}|\n",
      "|2024-01-23 10:37:35|R2ZGTuvfC2jiqq7l0...|[{{false, hd, 2d,...|youtube#videoList...|  {1, 1}|\n",
      "|2024-01-23 10:37:35|t-1p0VRTbtgrzan5p...|[{{false, hd, 2d,...|youtube#videoList...|  {1, 1}|\n",
      "|2024-01-23 10:37:35|lH9l6K6ZPshF-wlWJ...|[{{false, hd, 2d,...|youtube#videoList...|  {1, 1}|\n",
      "|2024-01-23 10:37:35|s_mBI_McH5T_nEAVV...|[{{false, hd, 2d,...|youtube#videoList...|  {1, 1}|\n",
      "|2024-01-23 10:37:36|-6Uwmmn15yUAUuWuK...|[{{false, hd, 2d,...|youtube#videoList...|  {1, 1}|\n",
      "|2024-01-23 10:37:36|vziyr1Z4hEkc10AoO...|[{{false, hd, 2d,...|youtube#videoList...|  {1, 1}|\n",
      "|2024-01-23 10:37:36|KhBsxqDzWl25TbMGf...|[{{false, hd, 2d,...|youtube#videoList...|  {1, 1}|\n",
      "+-------------------+--------------------+--------------------+--------------------+--------+\n",
      "only showing top 20 rows\n",
      "\n"
     ]
    }
   ],
   "source": [
    "df_video_json = spark.read.json('../dados/bronze/assunto_cities_skylines/extracao_data_*/estatisticas/*.json')\n",
    "df_video_json.show()"
   ]
  },
  {
   "cell_type": "code",
   "execution_count": 17,
   "metadata": {},
   "outputs": [],
   "source": [
    "df_video_json = df_video_json.select(\n",
    "    'data_extracao',\n",
    "      f.explode('items').alias('items')\n",
    ")"
   ]
  },
  {
   "cell_type": "code",
   "execution_count": 18,
   "metadata": {},
   "outputs": [
    {
     "name": "stdout",
     "output_type": "stream",
     "text": [
      "+-------------------+--------------------+\n",
      "|      data_extracao|               items|\n",
      "+-------------------+--------------------+\n",
      "|2024-01-23 10:37:34|{{false, hd, 2d, ...|\n",
      "|2024-01-23 10:37:34|{{false, hd, 2d, ...|\n",
      "|2024-01-23 10:37:34|{{false, hd, 2d, ...|\n",
      "|2024-01-23 10:37:34|{{false, sd, 2d, ...|\n",
      "|2024-01-23 10:37:34|{{false, hd, 2d, ...|\n",
      "|2024-01-23 10:37:34|{{false, hd, 2d, ...|\n",
      "|2024-01-23 10:37:34|{{false, hd, 2d, ...|\n",
      "|2024-01-23 10:37:35|{{false, hd, 2d, ...|\n",
      "|2024-01-23 10:37:35|{{false, hd, 2d, ...|\n",
      "|2024-01-23 10:37:35|{{false, hd, 2d, ...|\n",
      "|2024-01-23 10:37:35|{{false, hd, 2d, ...|\n",
      "|2024-01-23 10:37:35|{{false, hd, 2d, ...|\n",
      "|2024-01-23 10:37:35|{{false, hd, 2d, ...|\n",
      "|2024-01-23 10:37:35|{{false, hd, 2d, ...|\n",
      "|2024-01-23 10:37:35|{{false, hd, 2d, ...|\n",
      "|2024-01-23 10:37:35|{{false, hd, 2d, ...|\n",
      "|2024-01-23 10:37:35|{{false, hd, 2d, ...|\n",
      "|2024-01-23 10:37:36|{{false, hd, 2d, ...|\n",
      "|2024-01-23 10:37:36|{{false, hd, 2d, ...|\n",
      "|2024-01-23 10:37:36|{{false, hd, 2d, ...|\n",
      "+-------------------+--------------------+\n",
      "only showing top 20 rows\n",
      "\n"
     ]
    }
   ],
   "source": [
    "df_video_json.show()"
   ]
  },
  {
   "cell_type": "code",
   "execution_count": 19,
   "metadata": {},
   "outputs": [
    {
     "name": "stdout",
     "output_type": "stream",
     "text": [
      "+-------------------+-----------+--------------------+--------------------+--------------------+------------+--------------------+--------------------+--------------------+--------------+-------------------+-----------+---------------+-----------------+-------+\n",
      "|      data_extracao|   ID_VIDEO|     DATA_PUBLICACAO|            ID_CANAL|            NM_CANAL|ID_CATEGORIA|        TITULO_VIDEO|           DESCRICAO|                TAGS|DURACAO_VIDEOS|TOTAL_VISUALIZACOES|TOTAL_LIKES|TOTAL_FAVORITOS|TOTAL_COMENTARIOS|ASSUNTO|\n",
      "+-------------------+-----------+--------------------+--------------------+--------------------+------------+--------------------+--------------------+--------------------+--------------+-------------------+-----------+---------------+-----------------+-------+\n",
      "|2024-01-22 16:54:36|5QRCMkPPr2U|2024-01-17T21:00:03Z|UCL5k8vBBo1JOHh7A...|       JulioGameplay|          20|JOGANDO Buckshot ...|buckshot roulette...|[buckshot roulett...|         PT57S|               9909|        535|              0|                8|ASSUNTO|\n",
      "|2024-01-22 11:04:57|qSIEeybcrV0|2024-01-18T21:30:08Z|UCIv5D2ro1owj6P7O...|BL4D3N | Cities S...|          20|Como FICAR RICO c...|Salve, galera!\\n\\...|[Cities Skylines ...|      PT21M12S|                 99|          8|              0|                5|ASSUNTO|\n",
      "|2024-01-20 21:52:15|D8mQZAv_tQU|2024-01-18T15:00:08Z|UCrOH1V-FyMunBIMr...|     ChratosGameplay|          20|ALCANÇANDO 10000 ...|Nessa primeira sé...|[highrise city, h...|      PT26M39S|               9895|       1240|              0|               30|ASSUNTO|\n",
      "|2024-01-23 20:00:56|38KqRAlHM2I|2024-01-21T23:00:01Z|UCL5k8vBBo1JOHh7A...|       JulioGameplay|          20|SOU MUITO BOM NO ...|buckshot roulette...|[buckshot roulett...|         PT59S|               9882|        609|              0|               13|ASSUNTO|\n",
      "|2024-01-20 21:52:14|4WrWq5vJjXk|2024-01-18T01:00:03Z|UCL5k8vBBo1JOHh7A...|       JulioGameplay|          20|MINHA SORTE ACABO...|buckshot roulette...|[buckshot roulett...|         PT37S|               9849|        404|              0|                8|ASSUNTO|\n",
      "|2024-01-23 17:08:10|38KqRAlHM2I|2024-01-21T23:00:01Z|UCL5k8vBBo1JOHh7A...|       JulioGameplay|          20|SOU MUITO BOM NO ...|buckshot roulette...|[buckshot roulett...|         PT59S|               9806|        605|              0|               13|ASSUNTO|\n",
      "|2024-01-22 11:04:57|tRIN8oo2Z60|2024-01-20T15:00:45Z|UCD9YHClUr3tSoAm-...|               Rivas|          20|Cities: Skylines ...|📢 Apoie o Nosso ...|                null|     PT1H1M34S|                 98|         17|              0|                2|ASSUNTO|\n",
      "|2024-01-20 17:35:32|4WrWq5vJjXk|2024-01-18T01:00:03Z|UCL5k8vBBo1JOHh7A...|       JulioGameplay|          20|MINHA SORTE ACABO...|buckshot roulette...|[buckshot roulett...|         PT37S|               9791|        402|              0|                8|ASSUNTO|\n",
      "|2024-01-20 17:35:32|D8mQZAv_tQU|2024-01-18T15:00:08Z|UCrOH1V-FyMunBIMr...|     ChratosGameplay|          20|ALCANÇANDO 10000 ...|Nessa primeira sé...|[highrise city, h...|      PT26M39S|               9777|       1228|              0|               30|ASSUNTO|\n",
      "|2024-01-20 11:01:37|AFLjPQpxAso|2024-01-18T23:00:08Z|UCL5k8vBBo1JOHh7A...|       JulioGameplay|          20|MUITO AZAR  E POU...|buckshot roulette...|[buckshot roulett...|         PT48S|               9768|        446|              0|               10|ASSUNTO|\n",
      "|2024-01-23 17:08:05|q4gfnofyqPA|2024-01-22T19:00:32Z|UCL5k8vBBo1JOHh7A...|       JulioGameplay|          20|Jogando CONTEXTO ...|AJUDE O CANAL A M...|[shorts, youtube ...|         PT54S|                976|         78|              0|                6|ASSUNTO|\n",
      "|2024-01-20 11:01:37|4WrWq5vJjXk|2024-01-18T01:00:03Z|UCL5k8vBBo1JOHh7A...|       JulioGameplay|          20|MINHA SORTE ACABO...|buckshot roulette...|[buckshot roulett...|         PT37S|               9708|        397|              0|                8|ASSUNTO|\n",
      "|2024-01-21 21:33:53|tRIN8oo2Z60|2024-01-20T15:00:45Z|UCD9YHClUr3tSoAm-...|               Rivas|          20|Cities: Skylines ...|📢 Apoie o Nosso ...|                null|     PT1H1M34S|                 97|         17|              0|                2|ASSUNTO|\n",
      "|2024-01-22 11:04:55|MCucUqIia7E|2024-01-21T15:00:15Z|UCD9YHClUr3tSoAm-...|               Rivas|          20|Cities: Skylines ...|📢 Apoie o Nosso ...|                null|     PT1H11M2S|                 97|         18|              0|                2|ASSUNTO|\n",
      "|2024-01-20 21:52:17|USP-svPrOME|2024-01-19T21:30:02Z|UCpA7ooMrd0-LLGlP...|           scrollzxx|          20|SA:MP #15 o hotwh...|━─────╮•╭─────━\\n...|[gta, mta, samp, ...|       PT2M29S|                 97|         19|              0|               33|ASSUNTO|\n",
      "|2024-01-23 10:37:40|38KqRAlHM2I|2024-01-21T23:00:01Z|UCL5k8vBBo1JOHh7A...|       JulioGameplay|          20|SOU MUITO BOM NO ...|buckshot roulette...|[buckshot roulett...|         PT59S|               9632|        595|              0|               13|ASSUNTO|\n",
      "|2024-01-20 11:01:37|mGtCSlnvvIE|2024-01-19T15:00:41Z|UCrOH1V-FyMunBIMr...|     ChratosGameplay|          20|PRIMEIRO PARQUE C...|Nossa PRIMEIRA CI...|[cities skylines,...|       PT35M6S|               9615|       1426|              0|               78|ASSUNTO|\n",
      "|2024-01-20 11:01:36|D8mQZAv_tQU|2024-01-18T15:00:08Z|UCrOH1V-FyMunBIMr...|     ChratosGameplay|          20|ALCANÇANDO 10000 ...|Nessa primeira sé...|[highrise city, h...|      PT26M39S|               9526|       1202|              0|               30|ASSUNTO|\n",
      "|2024-01-19 21:57:16|WUEJ4FcN5_E|2024-01-18T09:00:31Z|UCPmECmi5UoEt4c0W...|               Pires|          20|FIQUEI RICO COM O...|ABRA E TENHA UMA ...|[maxpalaro, citie...|      PT17M12S|                 94|         10|              0|                2|ASSUNTO|\n",
      "|2024-01-21 16:52:29|tRIN8oo2Z60|2024-01-20T15:00:45Z|UCD9YHClUr3tSoAm-...|               Rivas|          20|Cities: Skylines ...|📢 Apoie o Nosso ...|                null|     PT1H1M34S|                 94|         17|              0|                2|ASSUNTO|\n",
      "+-------------------+-----------+--------------------+--------------------+--------------------+------------+--------------------+--------------------+--------------------+--------------+-------------------+-----------+---------------+-----------------+-------+\n",
      "only showing top 20 rows\n",
      "\n"
     ]
    }
   ],
   "source": [
    "df_video_json = df_video_json.select(\n",
    "    'data_extracao',\n",
    "    f.col('items.id').alias('ID_VIDEO'),\n",
    "    f.col('items.snippet.publishedAt').alias('DATA_PUBLICACAO'),\n",
    "    f.col('items.snippet.channelId').alias('ID_CANAL'),\n",
    "    f.col('items.snippet.channelTitle').alias('NM_CANAL'),\n",
    "    f.col('items.snippet.categoryId').alias('ID_CATEGORIA'),\n",
    "    f.col('items.snippet.title').alias('TITULO_VIDEO'),\n",
    "    f.col('items.snippet.description').alias('DESCRICAO'),\n",
    "    f.col('items.snippet.tags').alias('TAGS'),\n",
    "    f.col('items.contentDetails.duration').alias('DURACAO_VIDEOS'),\n",
    "    f.col('items.statistics.viewCount').alias('TOTAL_VISUALIZACOES'),\n",
    "    f.col('items.statistics.likeCount').alias('TOTAL_LIKES'),\n",
    "    f.col('items.statistics.favoriteCount').alias('TOTAL_FAVORITOS'),\n",
    "    f.col('items.statistics.commentCount').alias('TOTAL_COMENTARIOS'),\n",
    "    \n",
    ").sort(f.col(\"TOTAL_VISUALIZACOES\").desc())\n",
    "df_video_json = df_video_json.withColumn('ASSUNTO', f.lit('ASSUNTO'))\n",
    "df_video_json.show()"
   ]
  },
  {
   "cell_type": "code",
   "execution_count": 39,
   "metadata": {},
   "outputs": [],
   "source": [
    "lista_assunto = [\n",
    "    'power_bi',\n",
    "    'python_and_dados',\n",
    "    'cities_skylines',\n",
    "    'cities_skylines_2',\n",
    "    'linux',\n",
    "    'linux_gamming',\n",
    "    'genshin_impact',\n",
    "    'zelda'\n",
    "]\n",
    "\n",
    "datas = [\n",
    "    'extracao_data_2024_01_17',\n",
    "    'extracao_data_2024_01_18',\n",
    "    'extracao_data_2024_01_19',\n",
    "    'extracao_data_2024_01_20',\n",
    "    'extracao_data_2024_01_21',\n",
    "    'extracao_data_2024_01_22',\n",
    "    'extracao_data_2024_01_23',\n",
    "]\n",
    "fazer_transformacao_camada_prata(lista_assunto=lista_assunto, lista_data=datas)"
   ]
  },
  {
   "cell_type": "code",
   "execution_count": 42,
   "metadata": {},
   "outputs": [
    {
     "name": "stdout",
     "output_type": "stream",
     "text": [
      "+-------------------+-----------+--------------------+--------------------+--------------------+------------+--------------------+--------------------+--------------------+--------------+-------------------+-----------+---------------+-----------------+--------------------+\n",
      "|      data_extracao|   ID_VIDEO|     DATA_PUBLICACAO|            ID_CANAL|            NM_CANAL|ID_CATEGORIA|        TITULO_VIDEO|           DESCRICAO|                TAGS|DURACAO_VIDEOS|TOTAL_VISUALIZACOES|TOTAL_LIKES|TOTAL_FAVORITOS|TOTAL_COMENTARIOS|             ASSUNTO|\n",
      "+-------------------+-----------+--------------------+--------------------+--------------------+------------+--------------------+--------------------+--------------------+--------------+-------------------+-----------+---------------+-----------------+--------------------+\n",
      "|2024-01-23 10:37:43|BVHN3nK8JR8|2024-01-19T17:35:48Z|UCMqGy4xIIGs01ZVc...|       Usando Python|          27|Conversão para St...|Diferença entre D...|[python, joao fut...|         PT34S|                 98|         13|              0|                0|assunto_python_an...|\n",
      "|2024-01-23 17:08:13|S8FcfOPjFJY|2024-01-20T20:43:41Z|UC70kawNmZCDeZDZB...|Wesley Roberto | ...|          28|Como se tornar um...|🚀 Bem-vindo ao n...|                null|       PT4M47S|                 98|         31|              0|                8|assunto_python_an...|\n",
      "|2024-01-23 10:37:41|s9hUoajuWwc|2024-01-18T15:15:11Z|UCiYrw6iAqlYXvP7n...|    Rodolfo De Nadai|          28|Python: Structure...|Fala galera!\\nNes...|[tecnologia, prog...|      PT26M44S|                 97|          2|              0|                0|assunto_python_an...|\n",
      "|2024-01-23 20:00:58|j1-IbFM7TtE|2024-01-23T12:59:19Z|UCNblNh-u0nu5mtXT...|Mestres da Inform...|          27|🔴O Novo Ciclo - ...|Nessa Aula eu vou...|  [detetive virtual]|       PT1H50M|                964|        102|              0|                2|assunto_python_an...|\n",
      "|2024-01-23 20:00:55|5Rl2CnW5ZFc|2024-01-18T22:00:02Z|UCU5vSFBBO_cp6ie0...|         Refatorando|          28|Como é o dia a di...|→ 🎁 Masterclass ...|[roger santos, re...|       PT9M59S|                956|        136|              0|               12|assunto_python_an...|\n",
      "|2024-01-23 17:08:07|5Rl2CnW5ZFc|2024-01-18T22:00:02Z|UCU5vSFBBO_cp6ie0...|         Refatorando|          28|Como é o dia a di...|→ 🎁 Masterclass ...|[roger santos, re...|       PT9M59S|                942|        133|              0|               12|assunto_python_an...|\n",
      "|2024-01-23 20:01:06|dcxNswGRL4c|2024-01-23T14:47:49Z|UCHQun4keJGrj8RqD...|Portal do Conheci...|          22|Agora vem o gross...|PRODUTOS EM PRATA...|                null|         PT46S|                939|         71|              0|                0|assunto_python_an...|\n",
      "|2024-01-23 10:37:43|S8FcfOPjFJY|2024-01-20T20:43:41Z|UC70kawNmZCDeZDZB...|Wesley Roberto | ...|          28|Como se tornar um...|🚀 Bem-vindo ao n...|                null|       PT4M47S|                 92|         28|              0|                8|assunto_python_an...|\n",
      "|2024-01-23 20:01:01|RyYKmUFpPN4|2024-01-23T20:44:06Z|UCHQun4keJGrj8RqD...|Portal do Conheci...|          22| PCO é Bolsonarista?|PRODUTOS EM PRATA...|                null|         PT48S|                 92|         31|              0|                1|assunto_python_an...|\n",
      "|2024-01-23 10:37:37|5Rl2CnW5ZFc|2024-01-18T22:00:02Z|UCU5vSFBBO_cp6ie0...|         Refatorando|          28|Como é o dia a di...|→ 🎁 Masterclass ...|[roger santos, re...|       PT9M59S|                916|        131|              0|               12|assunto_python_an...|\n",
      "|2024-01-23 10:37:36|rtyxBpb6ANI|2024-01-22T12:48:51Z|UC_Ytk3TwR-bWEHFh...|   Bueno - Fintz API|          22|Como buscar Indic...|O exemplo é com R...|                null|        PT7M5S|                  9|          2|              0|                0|assunto_python_an...|\n",
      "|2024-01-23 17:08:04|rtyxBpb6ANI|2024-01-22T12:48:51Z|UC_Ytk3TwR-bWEHFh...|   Bueno - Fintz API|          22|Como buscar Indic...|O exemplo é com R...|                null|        PT7M5S|                  9|          2|              0|                0|assunto_python_an...|\n",
      "|2024-01-23 17:08:07|fnWYI2ys_fQ|2024-01-23T13:30:08Z|UCUUFXfP7yc1pGC9h...|         PalancaCode|          27|Tuplas vs. Listas...|No Python, temos ...|[#mal@97fasttutor...|       PT3M49S|                  9|          3|              0|                0|assunto_python_an...|\n",
      "|2024-01-23 20:01:02|rtyxBpb6ANI|2024-01-22T12:48:51Z|UC_Ytk3TwR-bWEHFh...|   Bueno - Fintz API|          22|Como buscar Indic...|O exemplo é com R...|                null|        PT7M5S|                  9|          2|              0|                0|assunto_python_an...|\n",
      "|2024-01-23 17:08:12|dcxNswGRL4c|2024-01-23T14:47:49Z|UCHQun4keJGrj8RqD...|Portal do Conheci...|          22|Agora vem o gross...|PRODUTOS EM PRATA...|                null|         PT46S|                892|         62|              0|                0|assunto_python_an...|\n",
      "|2024-01-23 10:37:38|qUYkiZRiZ48|2024-01-20T11:22:56Z|UCIQ_CeDhXZDc8BEa...|      Adriano Torres|          24|Som de chuva para...|Linkedin do Adria...|[Python, Spark, P...|    PT6H21M29S|                 87|          1|              0|                0|assunto_python_an...|\n",
      "|2024-01-23 17:08:08|qUYkiZRiZ48|2024-01-20T11:22:56Z|UCIQ_CeDhXZDc8BEa...|      Adriano Torres|          24|Som de chuva para...|Linkedin do Adria...|[Python, Spark, P...|    PT6H21M29S|                 87|          1|              0|                0|assunto_python_an...|\n",
      "|2024-01-23 20:01:09|qUYkiZRiZ48|2024-01-20T11:22:56Z|UCIQ_CeDhXZDc8BEa...|      Adriano Torres|          24|Som de chuva para...|Linkedin do Adria...|[Python, Spark, P...|    PT6H21M29S|                 87|          1|              0|                0|assunto_python_an...|\n",
      "|2024-01-23 20:01:01|DgZUZgZ1al0|2024-01-18T20:00:08Z|UC70mr11REaCqgKke...|Programação Dinâmica|          28|Ciência de Dados ...|Concurso Nacional...|[programação dinâ...|      PT11M47S|               8273|        433|              0|               57|assunto_python_an...|\n",
      "|2024-01-23 17:08:14|DgZUZgZ1al0|2024-01-18T20:00:08Z|UC70mr11REaCqgKke...|Programação Dinâmica|          28|Ciência de Dados ...|Concurso Nacional...|[programação dinâ...|      PT11M47S|               8238|        431|              0|               57|assunto_python_an...|\n",
      "+-------------------+-----------+--------------------+--------------------+--------------------+------------+--------------------+--------------------+--------------------+--------------+-------------------+-----------+---------------+-----------------+--------------------+\n",
      "only showing top 20 rows\n",
      "\n"
     ]
    }
   ],
   "source": [
    "df_teste = spark.read.parquet('../dados/prata/arquivos_assuntos.parquet')\n",
    "df_teste.show()"
   ]
  },
  {
   "cell_type": "code",
   "execution_count": 43,
   "metadata": {},
   "outputs": [
    {
     "name": "stdout",
     "output_type": "stream",
     "text": [
      "+-------------------------+\n",
      "|ASSUNTO                  |\n",
      "+-------------------------+\n",
      "|assunto_linux            |\n",
      "|assunto_power_bi         |\n",
      "|assunto_genshin_impact   |\n",
      "|assunto_python_and_dados |\n",
      "|assunto_linux_gamming    |\n",
      "|assunto_zelda            |\n",
      "|assunto_cities_skylines_2|\n",
      "|assunto_cities_skylines  |\n",
      "+-------------------------+\n",
      "\n"
     ]
    }
   ],
   "source": [
    "df_teste.select('ASSUNTO').distinct().show(truncate=False)"
   ]
  },
  {
   "cell_type": "markdown",
   "metadata": {},
   "source": [
    "# Trends"
   ]
  },
  {
   "cell_type": "code",
   "execution_count": 46,
   "metadata": {},
   "outputs": [
    {
     "name": "stdout",
     "output_type": "stream",
     "text": [
      "+-------------------+--------------------+--------------------+--------------------+-------------+---------+-------------+\n",
      "|      data_extracao|                etag|               items|                kind|nextPageToken| pageInfo|prevPageToken|\n",
      "+-------------------+--------------------+--------------------+--------------------+-------------+---------+-------------+\n",
      "|2024-01-17 11:02:08|9nEFoIIx527RJDLmz...|[{{false, hd, 2d,...|youtube#videoList...|       CDIQAA|{50, 200}|         null|\n",
      "|2024-01-17 11:02:08|IfgR2EhmaLCilwcYV...|[{{false, hd, 2d,...|youtube#videoList...|       CGQQAA|{50, 200}|       CDIQAQ|\n",
      "|2024-01-17 11:02:09|ibKmOSqwqAhcqX2i4...|[{{false, hd, 2d,...|youtube#videoList...|      CJYBEAA|{50, 200}|       CGQQAQ|\n",
      "|2024-01-17 11:02:09|mcWg_LkdM0v9gVWYJ...|[{{false, hd, 2d,...|youtube#videoList...|         null|{50, 200}|      CJYBEAE|\n",
      "|2024-01-17 17:01:11|RJSX0bITJhSUh5GrP...|[{{false, hd, 2d,...|youtube#videoList...|       CDIQAA|{50, 200}|         null|\n",
      "|2024-01-17 17:01:12|bgJPoaWpDWhsrbXCC...|[{{true, hd, 2d, ...|youtube#videoList...|       CGQQAA|{50, 200}|       CDIQAQ|\n",
      "|2024-01-17 17:01:12|glDxshSMA431Va0_K...|[{{false, hd, 2d,...|youtube#videoList...|      CJYBEAA|{50, 200}|       CGQQAQ|\n",
      "|2024-01-17 17:01:13|ZvU4j_zgTHCcGmut_...|[{{false, hd, 2d,...|youtube#videoList...|         null|{50, 200}|      CJYBEAE|\n",
      "|2024-01-17 21:57:35|oAILxUdmB7BUaNMNg...|[{{false, hd, 2d,...|youtube#videoList...|       CDIQAA|{50, 200}|         null|\n",
      "|2024-01-17 21:57:36|T67VomBUONTF39RTo...|[{{false, hd, 2d,...|youtube#videoList...|       CGQQAA|{50, 200}|       CDIQAQ|\n",
      "|2024-01-17 21:57:36|0K262ujJjr-NK2n04...|[{{false, hd, 2d,...|youtube#videoList...|      CJYBEAA|{50, 200}|       CGQQAQ|\n",
      "|2024-01-17 21:57:36|nMZG44C6_PGnXU4Wa...|[{{false, hd, 2d,...|youtube#videoList...|         null|{50, 200}|      CJYBEAE|\n",
      "|2024-01-17 22:02:32|ir9tt_nxDqckBso7c...|[{{false, hd, 2d,...|youtube#videoList...|       CDIQAA|{50, 200}|         null|\n",
      "|2024-01-17 22:02:33|5dVSFWjbfVtlLJnCx...|[{{false, hd, 2d,...|youtube#videoList...|       CGQQAA|{50, 200}|       CDIQAQ|\n",
      "|2024-01-17 22:02:33|jEpTcfB2st_KK9czG...|[{{false, hd, 2d,...|youtube#videoList...|      CJYBEAA|{50, 200}|       CGQQAQ|\n",
      "|2024-01-17 22:02:33|HrSg9LpETBHxQQzjJ...|[{{false, hd, 2d,...|youtube#videoList...|         null|{50, 200}|      CJYBEAE|\n",
      "|2024-01-22 11:05:09|TLANdK_fqJo9YpnsX...|[{{false, hd, 2d,...|youtube#videoList...|       CDIQAA|{50, 200}|         null|\n",
      "|2024-01-22 11:05:09|zZjB55lbSsB-8w2OI...|[{{false, hd, 2d,...|youtube#videoList...|       CGQQAA|{50, 200}|       CDIQAQ|\n",
      "|2024-01-22 11:05:09|ErlERxjOomomJsEDz...|[{{false, hd, 2d,...|youtube#videoList...|      CJYBEAA|{50, 200}|       CGQQAQ|\n",
      "|2024-01-22 11:05:10|KXEy6K23ZrzPz35PO...|[{{false, hd, 2d,...|youtube#videoList...|         null|{50, 200}|      CJYBEAE|\n",
      "+-------------------+--------------------+--------------------+--------------------+-------------+---------+-------------+\n",
      "only showing top 20 rows\n",
      "\n"
     ]
    }
   ],
   "source": [
    "df_video_json = spark.read.json(f'../dados/bronze/top_brazil/*/top_brazil/*.json')\n",
    "df_video_json.show()"
   ]
  },
  {
   "cell_type": "code",
   "execution_count": 47,
   "metadata": {},
   "outputs": [
    {
     "name": "stderr",
     "output_type": "stream",
     "text": [
      "                                                                                \r"
     ]
    }
   ],
   "source": [
    "\n",
    "df_video_json = df_video_json.select(\n",
    "                'data_extracao',\n",
    "                f.explode('items').alias('items')\n",
    ")\n",
    "df_video_json = df_video_json.select(\n",
    "                'data_extracao',\n",
    "                f.col('items.id').alias('ID_VIDEO'),\n",
    "                f.col('items.snippet.publishedAt').alias('DATA_PUBLICACAO'),\n",
    "                f.col('items.snippet.channelId').alias('ID_CANAL'),\n",
    "                f.col('items.snippet.channelTitle').alias('NM_CANAL'),\n",
    "                f.col('items.snippet.categoryId').alias('ID_CATEGORIA'),\n",
    "                f.col('items.snippet.title').alias('TITULO_VIDEO'),\n",
    "                f.col('items.snippet.description').alias('DESCRICAO'),\n",
    "                f.col('items.snippet.tags').alias('TAGS'),\n",
    "                f.col('items.contentDetails.duration').alias('DURACAO_VIDEOS'),\n",
    "                f.col('items.statistics.viewCount').alias('TOTAL_VISUALIZACOES'),\n",
    "                f.col('items.statistics.likeCount').alias('TOTAL_LIKES'),\n",
    "                f.col('items.statistics.favoriteCount').alias('TOTAL_FAVORITOS'),\n",
    "                f.col('items.statistics.commentCount').alias('TOTAL_COMENTARIOS'),\n",
    "            ).sort(f.col(\"TOTAL_VISUALIZACOES\").desc())\n",
    "df_video_json.write.mode('append').parquet('../dados/prata/arquivos_assuntos_trends.parquet')"
   ]
  },
  {
   "cell_type": "code",
   "execution_count": 48,
   "metadata": {},
   "outputs": [
    {
     "name": "stdout",
     "output_type": "stream",
     "text": [
      "+-------------------+-----------+--------------------+--------------------+------------------+------------+--------------------+--------------------+--------------------+--------------+-------------------+-----------+---------------+-----------------+\n",
      "|      data_extracao|   ID_VIDEO|     DATA_PUBLICACAO|            ID_CANAL|          NM_CANAL|ID_CATEGORIA|        TITULO_VIDEO|           DESCRICAO|                TAGS|DURACAO_VIDEOS|TOTAL_VISUALIZACOES|TOTAL_LIKES|TOTAL_FAVORITOS|TOTAL_COMENTARIOS|\n",
      "+-------------------+-----------+--------------------+--------------------+------------------+------------+--------------------+--------------------+--------------------+--------------+-------------------+-----------+---------------+-----------------+\n",
      "|2024-01-22 11:05:09|kBnouFo40Yc|2024-01-18T00:19:35Z|UC_oToDrJ6uca7d1d...|        Canal GOAT|          17|BOTAFOGO X MADURE...|#botafogo  #madur...|[campeonato cario...|    PT2H42M37S|             995111|      54684|              0|               29|\n",
      "|2024-01-21 21:34:10|kBnouFo40Yc|2024-01-18T00:19:35Z|UC_oToDrJ6uca7d1d...|        Canal GOAT|          17|BOTAFOGO X MADURE...|#botafogo  #madur...|[campeonato cario...|    PT2H42M37S|             994744|      54685|              0|               31|\n",
      "|2024-01-23 17:08:29|a1Hr-LmNHho|2024-01-13T23:02:13Z|UCeHsnxC0B4Hukzrx...|CidadeAlertaRecord|          25|Repórter do Cidad...|Fabíola Corrêa,...|[Luiz Bacci, Cida...|      PT20M27S|             994743|      13829|              0|             null|\n",
      "|2024-01-23 10:37:54|a1Hr-LmNHho|2024-01-13T23:02:13Z|UCeHsnxC0B4Hukzrx...|CidadeAlertaRecord|          25|Repórter do Cidad...|Fabíola Corrêa,...|[Luiz Bacci, Cida...|      PT20M27S|             994557|      13829|              0|             null|\n",
      "|2024-01-20 11:01:47|8eWVW8ml9G4|2024-01-19T04:00:08Z|UC2PeMPA8PAOp-byn...| Honkai: Star Rail|          24|Myriad Celestia T...|Scene 33.\\nINT. E...|                null|        PT3M6S|             994406|      91556|              0|             2680|\n",
      "|2024-01-22 21:15:15|a1Hr-LmNHho|2024-01-13T23:02:13Z|UCeHsnxC0B4Hukzrx...|CidadeAlertaRecord|          25|Repórter do Cidad...|Fabíola Corrêa,...|[Luiz Bacci, Cida...|      PT20M27S|             994196|      13828|              0|             null|\n",
      "|2024-01-21 16:52:44|kBnouFo40Yc|2024-01-18T00:19:35Z|UC_oToDrJ6uca7d1d...|        Canal GOAT|          17|BOTAFOGO X MADURE...|#botafogo  #madur...|[campeonato cario...|    PT2H42M37S|             994021|      54681|              0|               31|\n",
      "|2024-01-22 16:54:55|a1Hr-LmNHho|2024-01-13T23:02:13Z|UCeHsnxC0B4Hukzrx...|CidadeAlertaRecord|          25|Repórter do Cidad...|Fabíola Corrêa,...|[Luiz Bacci, Cida...|      PT20M27S|             993989|      13822|              0|             null|\n",
      "|2024-01-22 11:05:10|a1Hr-LmNHho|2024-01-13T23:02:13Z|UCeHsnxC0B4Hukzrx...|CidadeAlertaRecord|          25|Repórter do Cidad...|Fabíola Corrêa,...|[Luiz Bacci, Cida...|      PT20M27S|             993763|      13821|              0|             null|\n",
      "|2024-01-23 20:01:20|iRVCnhc7z3Y|2024-01-15T22:13:45Z|UCr3S50A3UmXeBsHB...|   Marcelo Bechler|          17|Messi THE BEST? C...|                    |                null|      PT14M10S|              99349|      14208|              0|             1268|\n",
      "|2024-01-21 10:59:43|kBnouFo40Yc|2024-01-18T00:19:35Z|UC_oToDrJ6uca7d1d...|        Canal GOAT|          17|BOTAFOGO X MADURE...|#botafogo  #madur...|[campeonato cario...|    PT2H42M37S|             993427|      54680|              0|               30|\n",
      "|2024-01-21 21:34:10|a1Hr-LmNHho|2024-01-13T23:02:13Z|UCeHsnxC0B4Hukzrx...|CidadeAlertaRecord|          25|Repórter do Cidad...|Fabíola Corrêa,...|[Luiz Bacci, Cida...|      PT20M27S|             993338|      13817|              0|             null|\n",
      "|2024-01-23 17:08:29|iRVCnhc7z3Y|2024-01-15T22:13:45Z|UCr3S50A3UmXeBsHB...|   Marcelo Bechler|          17|Messi THE BEST? C...|                    |                null|      PT14M10S|              99312|      14205|              0|             1268|\n",
      "|2024-01-21 16:52:45|a1Hr-LmNHho|2024-01-13T23:02:13Z|UCeHsnxC0B4Hukzrx...|CidadeAlertaRecord|          25|Repórter do Cidad...|Fabíola Corrêa,...|[Luiz Bacci, Cida...|      PT20M27S|             993024|      13814|              0|             null|\n",
      "|2024-01-20 21:52:27|kBnouFo40Yc|2024-01-18T00:19:35Z|UC_oToDrJ6uca7d1d...|        Canal GOAT|          17|BOTAFOGO X MADURE...|#botafogo  #madur...|[campeonato cario...|    PT2H42M37S|             992833|      54682|              0|               30|\n",
      "|2024-01-22 11:05:09|gY4U84swmiI|2024-01-19T15:00:11Z|UCugD1HAP3INAiXo7...|     Pabllo Vittar|          10|Pabllo Vittar - P...|Vídeo oficial “PE...|[pabllovittar, pa...|       PT3M10S|             992533|      69495|              0|            13404|\n",
      "|2024-01-23 10:37:54|iRVCnhc7z3Y|2024-01-15T22:13:45Z|UCr3S50A3UmXeBsHB...|   Marcelo Bechler|          17|Messi THE BEST? C...|                    |                null|      PT14M10S|              99234|      14200|              0|             1268|\n",
      "|2024-01-23 17:08:27|aditICokASc|2024-01-22T15:00:00Z|UCc1l5mTmAv2GC_PX...|    Netflix Brasil|          24|Através da Minha ...|A sensação é de c...|[Ares, Yoshi, alé...|       PT1M50S|              99224|       2701|              0|              137|\n",
      "|2024-01-22 21:15:15|iRVCnhc7z3Y|2024-01-15T22:13:45Z|UCr3S50A3UmXeBsHB...|   Marcelo Bechler|          17|Messi THE BEST? C...|                    |                null|      PT14M10S|              99147|      14191|              0|             1268|\n",
      "|2024-01-21 10:59:44|a1Hr-LmNHho|2024-01-13T23:02:13Z|UCeHsnxC0B4Hukzrx...|CidadeAlertaRecord|          25|Repórter do Cidad...|Fabíola Corrêa,...|[Luiz Bacci, Cida...|      PT20M27S|             991434|      13803|              0|             null|\n",
      "+-------------------+-----------+--------------------+--------------------+------------------+------------+--------------------+--------------------+--------------------+--------------+-------------------+-----------+---------------+-----------------+\n",
      "only showing top 20 rows\n",
      "\n"
     ]
    }
   ],
   "source": [
    "df_video_json.show()"
   ]
  }
 ],
 "metadata": {
  "kernelspec": {
   "display_name": "venv",
   "language": "python",
   "name": "python3"
  },
  "language_info": {
   "codemirror_mode": {
    "name": "ipython",
    "version": 3
   },
   "file_extension": ".py",
   "mimetype": "text/x-python",
   "name": "python",
   "nbconvert_exporter": "python",
   "pygments_lexer": "ipython3",
   "version": "3.10.12"
  }
 },
 "nbformat": 4,
 "nbformat_minor": 2
}

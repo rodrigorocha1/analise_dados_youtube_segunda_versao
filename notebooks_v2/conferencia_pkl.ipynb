{
 "cells": [
  {
   "cell_type": "code",
   "execution_count": 1,
   "metadata": {},
   "outputs": [],
   "source": [
    "import pickle"
   ]
  },
  {
   "cell_type": "code",
   "execution_count": 2,
   "metadata": {},
   "outputs": [],
   "source": [
    "def obter_dados_arquivo(assunto: str, arquivo_pkl: str):\n",
    "    with open(f'../datalake/bronze/{assunto}/{arquivo_pkl}', 'rb') as arquivo_pickle:\n",
    "        lista_videos = pickle.load(arquivo_pickle)\n",
    "        return lista_videos"
   ]
  },
  {
   "cell_type": "code",
   "execution_count": 6,
   "metadata": {},
   "outputs": [
    {
     "data": {
      "text/plain": [
       "['UCuvW5NsMsbCHsXNl-PBcg6Q',\n",
       " 'UCPvIKp86I8xJKyBqYO3Y6tg',\n",
       " 'UCUy0NlW6WlVFj8V3xhXegYQ',\n",
       " 'UCq9GU2yeDDy5HJ3oMA_owyw',\n",
       " 'UCGWsbuc4bzEruawidcIcewA',\n",
       " 'UCK6DyOq2SC6zEQiyjHZIuyg',\n",
       " 'UCZP3sB2JX80bGnqbnanYxvg',\n",
       " 'UC0seCZdnZZByQZP1Lx8oL2A',\n",
       " 'UCVi-Yw5Psi19neyOm0bV5eA',\n",
       " 'UCpOFPnO6DfqgMLDFu8F9cQg',\n",
       " 'UCott-az9bNhfmnYoMPvnOxg',\n",
       " 'UCKMeQtmyTrDdz6KigD3Quwg']"
      ]
     },
     "execution_count": 6,
     "metadata": {},
     "output_type": "execute_result"
    }
   ],
   "source": [
    "obter_dados_arquivo('linux', 'id_canais.pkl')"
   ]
  }
 ],
 "metadata": {
  "kernelspec": {
   "display_name": "venv",
   "language": "python",
   "name": "python3"
  },
  "language_info": {
   "codemirror_mode": {
    "name": "ipython",
    "version": 3
   },
   "file_extension": ".py",
   "mimetype": "text/x-python",
   "name": "python",
   "nbconvert_exporter": "python",
   "pygments_lexer": "ipython3",
   "version": "3.10.14"
  }
 },
 "nbformat": 4,
 "nbformat_minor": 2
}

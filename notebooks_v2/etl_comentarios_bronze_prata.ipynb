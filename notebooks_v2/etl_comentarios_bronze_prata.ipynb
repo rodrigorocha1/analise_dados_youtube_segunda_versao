{
 "cells": [
  {
   "cell_type": "code",
   "execution_count": 1,
   "metadata": {},
   "outputs": [],
   "source": [
    "from pyspark.sql import SparkSession, DataFrame\n",
    "import pyspark.sql.functions as f\n",
    "from functools import reduce\n",
    "import pandas as pd\n",
    "import pickle\n",
    "from typing import List\n",
    "import spacy\n",
    "import string\n",
    "from unidecode import unidecode"
   ]
  },
  {
   "cell_type": "code",
   "execution_count": 2,
   "metadata": {},
   "outputs": [
    {
     "name": "stdout",
     "output_type": "stream",
     "text": [
      "24/03/03 00:16:05 WARN Utils: Your hostname, rodrigo-nitro-AN515-54 resolves to a loopback address: 127.0.1.1; using 192.168.0.105 instead (on interface wlp8s0)\n",
      "24/03/03 00:16:05 WARN Utils: Set SPARK_LOCAL_IP if you need to bind to another address\n"
     ]
    },
    {
     "name": "stderr",
     "output_type": "stream",
     "text": [
      "Setting default log level to \"WARN\".\n",
      "To adjust logging level use sc.setLogLevel(newLevel). For SparkR, use setLogLevel(newLevel).\n"
     ]
    },
    {
     "name": "stdout",
     "output_type": "stream",
     "text": [
      "24/03/03 00:16:07 WARN NativeCodeLoader: Unable to load native-hadoop library for your platform... using builtin-java classes where applicable\n"
     ]
    }
   ],
   "source": [
    "spark = SparkSession.builder.appName('Exploracao').getOrCreate()"
   ]
  },
  {
   "cell_type": "markdown",
   "metadata": {},
   "source": [
    "# Comentários"
   ]
  },
  {
   "cell_type": "code",
   "execution_count": 3,
   "metadata": {},
   "outputs": [],
   "source": [
    "lista_assunto = [\n",
    "    'power_bi',\n",
    "    'python_and_dados',\n",
    "    'cities_skylines',\n",
    "    'cities_skylines_2',\n",
    "    'linux',\n",
    "    'linux_gamming',\n",
    "    'genshin_impact',\n",
    "    'zelda'\n",
    "]\n",
    "\n",
    "datas = [\n",
    "    'extracao_data_2024_01_17',\n",
    "    'extracao_data_2024_01_18',\n",
    "    'extracao_data_2024_01_19',\n",
    "    'extracao_data_2024_01_20',\n",
    "    'extracao_data_2024_01_21',\n",
    "    'extracao_data_2024_01_22',\n",
    "    'extracao_data_2024_01_23',\n",
    "]"
   ]
  },
  {
   "cell_type": "code",
   "execution_count": 4,
   "metadata": {},
   "outputs": [
    {
     "name": "stderr",
     "output_type": "stream",
     "text": [
      "                                                                                \r"
     ]
    }
   ],
   "source": [
    "df_comentarios = spark.read.json(f'../dados/bronze/assunto_power_bi/extracao_data_2024_01_17/comentarios/req_comentarios.json')"
   ]
  },
  {
   "cell_type": "code",
   "execution_count": 5,
   "metadata": {},
   "outputs": [
    {
     "name": "stdout",
     "output_type": "stream",
     "text": [
      "root\n",
      " |-- data_extracao: string (nullable = true)\n",
      " |-- etag: string (nullable = true)\n",
      " |-- items: array (nullable = true)\n",
      " |    |-- element: struct (containsNull = true)\n",
      " |    |    |-- etag: string (nullable = true)\n",
      " |    |    |-- id: string (nullable = true)\n",
      " |    |    |-- kind: string (nullable = true)\n",
      " |    |    |-- snippet: struct (nullable = true)\n",
      " |    |    |    |-- canReply: boolean (nullable = true)\n",
      " |    |    |    |-- channelId: string (nullable = true)\n",
      " |    |    |    |-- isPublic: boolean (nullable = true)\n",
      " |    |    |    |-- topLevelComment: struct (nullable = true)\n",
      " |    |    |    |    |-- etag: string (nullable = true)\n",
      " |    |    |    |    |-- id: string (nullable = true)\n",
      " |    |    |    |    |-- kind: string (nullable = true)\n",
      " |    |    |    |    |-- snippet: struct (nullable = true)\n",
      " |    |    |    |    |    |-- authorChannelId: struct (nullable = true)\n",
      " |    |    |    |    |    |    |-- value: string (nullable = true)\n",
      " |    |    |    |    |    |-- authorChannelUrl: string (nullable = true)\n",
      " |    |    |    |    |    |-- authorDisplayName: string (nullable = true)\n",
      " |    |    |    |    |    |-- authorProfileImageUrl: string (nullable = true)\n",
      " |    |    |    |    |    |-- canRate: boolean (nullable = true)\n",
      " |    |    |    |    |    |-- channelId: string (nullable = true)\n",
      " |    |    |    |    |    |-- likeCount: long (nullable = true)\n",
      " |    |    |    |    |    |-- publishedAt: string (nullable = true)\n",
      " |    |    |    |    |    |-- textDisplay: string (nullable = true)\n",
      " |    |    |    |    |    |-- textOriginal: string (nullable = true)\n",
      " |    |    |    |    |    |-- updatedAt: string (nullable = true)\n",
      " |    |    |    |    |    |-- videoId: string (nullable = true)\n",
      " |    |    |    |    |    |-- viewerRating: string (nullable = true)\n",
      " |    |    |    |-- totalReplyCount: long (nullable = true)\n",
      " |    |    |    |-- videoId: string (nullable = true)\n",
      " |-- kind: string (nullable = true)\n",
      " |-- pageInfo: struct (nullable = true)\n",
      " |    |-- resultsPerPage: long (nullable = true)\n",
      " |    |-- totalResults: long (nullable = true)\n",
      "\n"
     ]
    }
   ],
   "source": [
    "df_comentarios.printSchema()"
   ]
  },
  {
   "cell_type": "code",
   "execution_count": 6,
   "metadata": {},
   "outputs": [],
   "source": [
    "def abrir_comentarios( lista_datas: List, lista_assunto: List) -> List[DataFrame]:\n",
    "    lista_df = []\n",
    "    for assunto in lista_assunto:\n",
    "        for datas in lista_datas:\n",
    "            df_comentarios = spark.read.json(f'../dados/bronze/assunto_{assunto}/{datas}/comentarios/req_comentarios.json')\n",
    "            \n",
    "            dataframe = df_comentarios.select(\n",
    "                    f.explode('items').alias('item'),\n",
    "                    'data_extracao',\n",
    "                    'etag',\n",
    "                    'kind',\n",
    "                    'pageInfo',\n",
    "                    \n",
    "                ).select(\n",
    "                    'item.id',\n",
    "                    'item.snippet.channelId',\n",
    "                    'item.snippet.videoId',\n",
    "                    'item.snippet.topLevelComment.snippet.textOriginal',\n",
    "                    \n",
    "                \n",
    "            )\n",
    "            lista_df.append(dataframe)\n",
    "    return lista_df\n"
   ]
  },
  {
   "cell_type": "code",
   "execution_count": 7,
   "metadata": {},
   "outputs": [],
   "source": [
    "lista_df = abrir_comentarios(lista_datas=datas, lista_assunto=lista_assunto)"
   ]
  },
  {
   "cell_type": "code",
   "execution_count": 8,
   "metadata": {},
   "outputs": [
    {
     "name": "stdout",
     "output_type": "stream",
     "text": [
      "24/03/03 00:16:40 WARN DAGScheduler: Broadcasting large task binary with size 1955.9 KiB\n",
      "+--------------------------+------------------------+-----------+---------------------------------------------------------------------------------------------------------------------------------------------------------------------------------------------------------------------------------------------------------------------------------------------------------------------------------------------------------------------------------------------------------------------------------------------------------------------------------------------------------------------------------------------------------------------------------------------------------------------------------------------------------------------------------------------------+\n",
      "|id                        |channelId               |videoId    |textOriginal                                                                                                                                                                                                                                                                                                                                                                                                                                                                                                                                                                                                                                                                                       |\n",
      "+--------------------------+------------------------+-----------+---------------------------------------------------------------------------------------------------------------------------------------------------------------------------------------------------------------------------------------------------------------------------------------------------------------------------------------------------------------------------------------------------------------------------------------------------------------------------------------------------------------------------------------------------------------------------------------------------------------------------------------------------------------------------------------------------+\n",
      "|UgwBml2VBGvh47H6CgZ4AaABAg|UCENbpaPgVhO2GtlNcwAJ8mA|nDfmW0LMAto|Excelente.                                                                                                                                                                                                                                                                                                                                                                                                                                                                                                                                                                                                                                                                                         |\n",
      "|UgzOiQoDWs3JCBPLywx4AaABAg|UCnTTl5-22qOKRSVmuGwm1Lw|_rP6fm9avmQ|Valeu, ótima análise\\nLIKE                                                                                                                                                                                                                                                                                                                                                                                                                                                                                                                                                                                                                                                                         |\n",
      "|UgwcYJjgmACxqvHtGQl4AaABAg|UCnTTl5-22qOKRSVmuGwm1Lw|_rP6fm9avmQ|Já tenho e gosto desse fi infra                                                                                                                                                                                                                                                                                                                                                                                                                                                                                                                                                                                                                                                                    |\n",
      "|Ugze4k37m59w4PSiHzp4AaABAg|UCnTTl5-22qOKRSVmuGwm1Lw|_rP6fm9avmQ|OGIN11                                                                                                                                                                                                                                                                                                                                                                                                                                                                                                                                                                                                                                                                                             |\n",
      "|UgyDJGKKqh8emjbSF054AaABAg|UCnTTl5-22qOKRSVmuGwm1Lw|_rP6fm9avmQ|Não achei nada interessante essa questão de não distribuir dividendo se a cota ficar abaixo de 100.                                                                                                                                                                                                                                                                                                                                                                                                                                                                                                                                                                                                |\n",
      "|UgyCE81O9lx_cQWFfsV4AaABAg|UCnTTl5-22qOKRSVmuGwm1Lw|_rP6fm9avmQ|Estava querendo diversificar minha carteira, que tá concentrada em CRIs. \\nPor isso, ontem, fiquei na dúvida entre comprar FATN11 ou JURO11, mas acabei optando por FATN11 por estar com um pouco de deságio. Se eu tivesse visto este vídeo ontem, talvez teria comprado o JURO11, devido à boa análise que você fez neste vídeo.                                                                                                                                                                                                                                                                                                                                                                 |\n",
      "|UgxG9eZR9QF9X4IKxTd4AaABAg|UCnTTl5-22qOKRSVmuGwm1Lw|_rP6fm9avmQ|Gosto muito desse fii infra, gestão excelente, o fogo é o ágio, mas.....                                                                                                                                                                                                                                                                                                                                                                                                                                                                                                                                                                                                                           |\n",
      "|UgzO1HUz9IJDUj483Z14AaABAg|UCcuLEJUZy4jo9iFvngkoBUg|dEXBAQucdRk|Olá Rômulo, por gentileza faz um vídeo para entrevistas para promotor de vendas e vendedor                                                                                                                                                                                                                                                                                                                                                                                                                                                                                                                                                                                                         |\n",
      "|UgwA9CFVjE03DH4u5z94AaABAg|UCcuLEJUZy4jo9iFvngkoBUg|dEXBAQucdRk|Olá professor \\nObrigada pelas grandes dicas . \\nFiz uma entrevista que caiu muito conteúdo aplicado por vc .\\nGratidão , minhas respostas estavam na ponta da lingua , maratonei seus vídeos .\\n....Aprovada com sucesso\\nDeus abençõe seu trabalho 🙏                                                                                                                                                                                                                                                                                                                                                                                                                                            |\n",
      "|UgwApxlFONE7pvdFYRd4AaABAg|UCcuLEJUZy4jo9iFvngkoBUg|dEXBAQucdRk|Fica Aí                                                                                                                                                                                                                                                                                                                                                                                                                                                                                                                                                                                                                                                                                            |\n",
      "|UgxIk3_tEF6SSnEjGDV4AaABAg|UCcuLEJUZy4jo9iFvngkoBUg|dEXBAQucdRk|Suas dicas me ajudou muito, eu passei na entrevista ja assinaram a minha carteira e começo dia 22/01 🎉🎉                                                                                                                                                                                                                                                                                                                                                                                                                                                                                                                                                                                          |\n",
      "|UgzZff_AwK5aYnauP6h4AaABAg|UCcuLEJUZy4jo9iFvngkoBUg|dEXBAQucdRk|Olá, Rômulo. \\nPassei na primeira fase da entrevista, com a ajuda de seus vídeos. Na entrevista com o gestor, há outros candidatos também ou somente eu?                                                                                                                                                                                                                                                                                                                                                                                                                                                                                                                                           |\n",
      "|UgwI2qcMM979Y1EVcaB4AaABAg|UCcuLEJUZy4jo9iFvngkoBUg|dEXBAQucdRk|Bom dia! \\nEstou trabalhando há 10 anos na mesma empresa sem fazer nenhuma entrevista nesse tempo. Estou me preparando e gostaria de saber se a maioria é feita a distância ou ainda quase tudo presencial.                                                                                                                                                                                                                                                                                                                                                                                                                                                                                        |\n",
      "|Ugya6Cw8C8yHgnRCq7Z4AaABAg|UCcuLEJUZy4jo9iFvngkoBUg|dEXBAQucdRk|Olá, Rômulo! Seus vídeos são claros e construtivos, em vista disso, eu acredito que passarei na entrevista com o gestor.                                                                                                                                                                                                                                                                                                                                                                                                                                                                                                                                                                           |\n",
      "|UgzQwjfcCgBDQVEgCkt4AaABAg|UCcuLEJUZy4jo9iFvngkoBUg|dEXBAQucdRk|Olá Rômulo tudo bem? Então, estou em um processo seletivo com várias vagas e para candidatar e somente em um link para todas.\\nEstou no processo dinâmica de grupo.\\nProvavelmente na entrevista que deve ser definido a vaga né?                                                                                                                                                                                                                                                                                                                                                                                                                                                                  |\n",
      "|UgynlX9VQ9u7_U64CHV4AaABAg|UCcuLEJUZy4jo9iFvngkoBUg|dEXBAQucdRk|Oi Rômulo, hoje chegou a minha vez de festeja!🎉 Conseguiu a minha tão sonhada vaga em uma empresa que eu queria. Tudo com base nos seus vídeos. E você ai vendo esse video, como eu já assisti  no passado, vai dar certo! Você vai achar um caminho! Por favor não perca a fé. ASSISTA tudo e pratique TUDO, anote,  se veja na vaga, nós somos energia e AÇÃO, o que o Rômulo ensina é fato, é aplicável, o cara é sensacional! Passei no RH, passei no gestor assistindo principalmente esse canal abençoadissimo. E você Rômulo me ajudou em muitos momentos de depressão viu? Aliás quem tem depressão procure ajuda essa doença é serissima! Deus te abençoe meu querido. Sucesso você ja é!|\n",
      "|UgxJ6OGL-VNRUYoXXQ54AaABAg|UCaTiVclf7mD7Wzbbsm6gGOA|J74NOHLOpzM|Central de Conteúdos\\n👉 https://url.joviano.com/qglu2                                                                                                                                                                                                                                                                                                                                                                                                                                                                                                                                                                                                                                             |\n",
      "|Ugx8hs_D3AxWPeEHND94AaABAg|UCw0leRmeaX7R_9BDd3TvCzg|vIB0D9kV_60|Fala galera!\\r\\n\\r\\nGostou do vídeo? Deixa sua curtida e se inscreva no canal!\\r\\n\\r\\n► PARA SABER MAIS SOBRE NOSSO CURSO COMPLETO EXCEL IMPRESSIONADOR ACESSE:\\r\\n\\r\\nbit.ly/links-yt-hasht (LINK NA BIO!)                                                                                                                                                                                                                                                                                                                                                                                                                                                                                        |\n",
      "|UgwXCKzTpS_XvMGLN5l4AaABAg|UC18rVtiPZXg-PBAazAkJDew|LxYPpIu7TEQ|Parabéns                                                                                                                                                                                                                                                                                                                                                                                                                                                                                                                                                                                                                                                                                           |\n",
      "|UgzmbquJURXFzb46Hh54AaABAg|UC18rVtiPZXg-PBAazAkJDew|LxYPpIu7TEQ|show mano! daora demais, parabéns!                                                                                                                                                                                                                                                                                                                                                                                                                                                                                                                                                                                                                                                                 |\n",
      "+--------------------------+------------------------+-----------+---------------------------------------------------------------------------------------------------------------------------------------------------------------------------------------------------------------------------------------------------------------------------------------------------------------------------------------------------------------------------------------------------------------------------------------------------------------------------------------------------------------------------------------------------------------------------------------------------------------------------------------------------------------------------------------------------+\n",
      "only showing top 20 rows\n",
      "\n"
     ]
    }
   ],
   "source": [
    "df_final = reduce(lambda df1, df2: df1.union(df2), lista_df)\n",
    "df_final.show(truncate=False)"
   ]
  },
  {
   "cell_type": "code",
   "execution_count": 9,
   "metadata": {},
   "outputs": [
    {
     "name": "stdout",
     "output_type": "stream",
     "text": [
      "24/03/03 00:16:44 WARN DAGScheduler: Broadcasting large task binary with size 1943.6 KiB\n"
     ]
    },
    {
     "name": "stderr",
     "output_type": "stream",
     "text": [
      "                                                                                \r"
     ]
    },
    {
     "data": {
      "text/html": [
       "<div>\n",
       "<style scoped>\n",
       "    .dataframe tbody tr th:only-of-type {\n",
       "        vertical-align: middle;\n",
       "    }\n",
       "\n",
       "    .dataframe tbody tr th {\n",
       "        vertical-align: top;\n",
       "    }\n",
       "\n",
       "    .dataframe thead th {\n",
       "        text-align: right;\n",
       "    }\n",
       "</style>\n",
       "<table border=\"1\" class=\"dataframe\">\n",
       "  <thead>\n",
       "    <tr style=\"text-align: right;\">\n",
       "      <th></th>\n",
       "      <th>id</th>\n",
       "      <th>channelId</th>\n",
       "      <th>videoId</th>\n",
       "      <th>textOriginal</th>\n",
       "    </tr>\n",
       "  </thead>\n",
       "  <tbody>\n",
       "    <tr>\n",
       "      <th>0</th>\n",
       "      <td>UgwBml2VBGvh47H6CgZ4AaABAg</td>\n",
       "      <td>UCENbpaPgVhO2GtlNcwAJ8mA</td>\n",
       "      <td>nDfmW0LMAto</td>\n",
       "      <td>Excelente.</td>\n",
       "    </tr>\n",
       "    <tr>\n",
       "      <th>1</th>\n",
       "      <td>UgzOiQoDWs3JCBPLywx4AaABAg</td>\n",
       "      <td>UCnTTl5-22qOKRSVmuGwm1Lw</td>\n",
       "      <td>_rP6fm9avmQ</td>\n",
       "      <td>Valeu, ótima análise\\nLIKE</td>\n",
       "    </tr>\n",
       "    <tr>\n",
       "      <th>2</th>\n",
       "      <td>UgwcYJjgmACxqvHtGQl4AaABAg</td>\n",
       "      <td>UCnTTl5-22qOKRSVmuGwm1Lw</td>\n",
       "      <td>_rP6fm9avmQ</td>\n",
       "      <td>Já tenho e gosto desse fi infra</td>\n",
       "    </tr>\n",
       "    <tr>\n",
       "      <th>3</th>\n",
       "      <td>Ugze4k37m59w4PSiHzp4AaABAg</td>\n",
       "      <td>UCnTTl5-22qOKRSVmuGwm1Lw</td>\n",
       "      <td>_rP6fm9avmQ</td>\n",
       "      <td>OGIN11</td>\n",
       "    </tr>\n",
       "    <tr>\n",
       "      <th>4</th>\n",
       "      <td>UgyDJGKKqh8emjbSF054AaABAg</td>\n",
       "      <td>UCnTTl5-22qOKRSVmuGwm1Lw</td>\n",
       "      <td>_rP6fm9avmQ</td>\n",
       "      <td>Não achei nada interessante essa questão de nã...</td>\n",
       "    </tr>\n",
       "  </tbody>\n",
       "</table>\n",
       "</div>"
      ],
      "text/plain": [
       "                           id                 channelId      videoId  \\\n",
       "0  UgwBml2VBGvh47H6CgZ4AaABAg  UCENbpaPgVhO2GtlNcwAJ8mA  nDfmW0LMAto   \n",
       "1  UgzOiQoDWs3JCBPLywx4AaABAg  UCnTTl5-22qOKRSVmuGwm1Lw  _rP6fm9avmQ   \n",
       "2  UgwcYJjgmACxqvHtGQl4AaABAg  UCnTTl5-22qOKRSVmuGwm1Lw  _rP6fm9avmQ   \n",
       "3  Ugze4k37m59w4PSiHzp4AaABAg  UCnTTl5-22qOKRSVmuGwm1Lw  _rP6fm9avmQ   \n",
       "4  UgyDJGKKqh8emjbSF054AaABAg  UCnTTl5-22qOKRSVmuGwm1Lw  _rP6fm9avmQ   \n",
       "\n",
       "                                        textOriginal  \n",
       "0                                         Excelente.  \n",
       "1                         Valeu, ótima análise\\nLIKE  \n",
       "2                    Já tenho e gosto desse fi infra  \n",
       "3                                             OGIN11  \n",
       "4  Não achei nada interessante essa questão de nã...  "
      ]
     },
     "execution_count": 9,
     "metadata": {},
     "output_type": "execute_result"
    }
   ],
   "source": [
    "df_comentarios_pandas = df_final.toPandas()\n",
    "df_comentarios_pandas.head()"
   ]
  },
  {
   "cell_type": "code",
   "execution_count": 10,
   "metadata": {},
   "outputs": [],
   "source": [
    "df_comentarios_pandas[['id', 'channelId', 'videoId', 'textOriginal']] = df_comentarios_pandas[['id', 'channelId', 'videoId', 'textOriginal']].astype('string') "
   ]
  },
  {
   "cell_type": "code",
   "execution_count": 11,
   "metadata": {},
   "outputs": [],
   "source": [
    "df_comentarios_pandas = df_comentarios_pandas.drop_duplicates()"
   ]
  },
  {
   "cell_type": "markdown",
   "metadata": {},
   "source": [
    "# Resposta Comentários"
   ]
  },
  {
   "cell_type": "code",
   "execution_count": 12,
   "metadata": {},
   "outputs": [],
   "source": [
    "def abrir_respostas_comentarios( lista_datas: List, lista_assunto: List) -> List[DataFrame]:\n",
    "    lista_df = []\n",
    "    for assunto in lista_assunto:\n",
    "        for datas in lista_datas:\n",
    "            df_resposta_comentarios = spark.read.json(f'../dados/bronze/assunto_{assunto}/{datas}/resposta_comentarios/resposta_comentarios.json')\n",
    "            \n",
    "            dataframe = df_resposta_comentarios.select(\n",
    "                f.explode('items').alias('item'),\n",
    "                            \n",
    "            ).select(\n",
    "                'item.id',\n",
    "                'item.snippet.channelId',\n",
    "                'item.snippet.textOriginal',\n",
    "                'item.snippet.parentId'\n",
    "            )\n",
    "            lista_df.append(dataframe)\n",
    "    return lista_df"
   ]
  },
  {
   "cell_type": "code",
   "execution_count": 13,
   "metadata": {},
   "outputs": [
    {
     "name": "stderr",
     "output_type": "stream",
     "text": [
      "                                                                                \r"
     ]
    }
   ],
   "source": [
    "lista_df_resposta_comentarios = abrir_respostas_comentarios(lista_assunto=lista_assunto, lista_datas=datas)"
   ]
  },
  {
   "cell_type": "code",
   "execution_count": 14,
   "metadata": {},
   "outputs": [
    {
     "name": "stdout",
     "output_type": "stream",
     "text": [
      "24/03/03 00:17:04 WARN DAGScheduler: Broadcasting large task binary with size 1210.0 KiB\n",
      "+-------------------------------------------------+------------------------+---------------------------------------------------------------------------------------------------------------------------------------------------------------------------------------------------------------------------------------------------------------------------------------------------------------------------------------------------------+--------------------------+\n",
      "|id                                               |channelId               |textOriginal                                                                                                                                                                                                                                                                                                                                             |parentId                  |\n",
      "+-------------------------------------------------+------------------------+---------------------------------------------------------------------------------------------------------------------------------------------------------------------------------------------------------------------------------------------------------------------------------------------------------------------------------------------------------+--------------------------+\n",
      "|UgzZff_AwK5aYnauP6h4AaABAg.9zg9VNzo-B29zgPKKBrNVO|UCcuLEJUZy4jo9iFvngkoBUg|Há pelo menos dois                                                                                                                                                                                                                                                                                                                                       |UgzZff_AwK5aYnauP6h4AaABAg|\n",
      "|UgzZff_AwK5aYnauP6h4AaABAg.9zg9VNzo-B29zgQElZCdaG|UCcuLEJUZy4jo9iFvngkoBUg|grato pelo retorno​@@SaladeEmprego                                                                                                                                                                                                                                                                                                                       |UgzZff_AwK5aYnauP6h4AaABAg|\n",
      "|UgzZff_AwK5aYnauP6h4AaABAg.9zg9VNzo-B29zgQFicpN39|UCcuLEJUZy4jo9iFvngkoBUg|grato pelo retorno​@@SaladeEmprego                                                                                                                                                                                                                                                                                                                       |UgzZff_AwK5aYnauP6h4AaABAg|\n",
      "|UgxIk3_tEF6SSnEjGDV4AaABAg.9zgB2WyYMq69zgPIGQSki6|UCcuLEJUZy4jo9iFvngkoBUg|Sucesso!                                                                                                                                                                                                                                                                                                                                                 |UgxIk3_tEF6SSnEjGDV4AaABAg|\n",
      "|UgzQwjfcCgBDQVEgCkt4AaABAg.9zfoXBRb8Lb9zgBDjFoOcm|UCcuLEJUZy4jo9iFvngkoBUg|Normalmente a entrevista em grupo costuma ser a ultima parte                                                                                                                                                                                                                                                                                             |UgzQwjfcCgBDQVEgCkt4AaABAg|\n",
      "|UgzQwjfcCgBDQVEgCkt4AaABAg.9zfoXBRb8Lb9zgBHLIazrX|UCcuLEJUZy4jo9iFvngkoBUg|Evite falar mal da empresa antiga se caso vc tenha trabalhado, mostre gratidão                                                                                                                                                                                                                                                                           |UgzQwjfcCgBDQVEgCkt4AaABAg|\n",
      "|UgwBml2VBGvh47H6CgZ4AaABAg.9zfMad51A7T9zfT8vqYrxG|UCENbpaPgVhO2GtlNcwAJ8mA|Obrigado. Hoje, quarta dia 17 às 20h, é a MasterClass. Não perde porque não vai ter reprise.                                                                                                                                                                                                                                                             |UgwBml2VBGvh47H6CgZ4AaABAg|\n",
      "|UgwXAbCjehE949ZGLud4AaABAg.9zgVgLJWZ9P9zgWo1OaH5O|UC2lolVgbKA4BT8WqLznDGWA|Since god, little g, And the \"SUN\" of god, little g Are Only Real Inside The Thoroughly Programmed From Early Childhood By Faux religions $heep-le's Orbs, So-Called god, little g, And the \"SUN\" of god, little g, And allah, little a, And $atan, little s, aka the devil, little d, And the lord, little l Do Not Unfortunately Exist . . . Ouch . . .|UgwXAbCjehE949ZGLud4AaABAg|\n",
      "|UgwXAbCjehE949ZGLud4AaABAg.9zgVgLJWZ9P9zgibAy-upZ|UC2lolVgbKA4BT8WqLznDGWA|If GOD is everything then they are God,too                                                                                                                                                                                                                                                                                                               |UgwXAbCjehE949ZGLud4AaABAg|\n",
      "|UgwXAbCjehE949ZGLud4AaABAg.9zgVgLJWZ9P9zgj9-wleDs|UC2lolVgbKA4BT8WqLznDGWA|I agree, but the way they say it puts them above us.  We are all one consciousness.                                                                                                                                                                                                                                                                      |UgwXAbCjehE949ZGLud4AaABAg|\n",
      "|UgzFCN-smxakQGNAf1x4AaABAg.9zga5vloQOL9zgceEJh6Mt|UCst_4Wi9DkGAc28uEPlHHHw|Alisson, favor desconsiderar meu questionamento. Grato.                                                                                                                                                                                                                                                                                                  |UgzFCN-smxakQGNAf1x4AaABAg|\n",
      "|UgwXCKzTpS_XvMGLN5l4AaABAg.9zgT34dbnJA9zgiYdh5jWW|UC18rVtiPZXg-PBAazAkJDew|Obrigado                                                                                                                                                                                                                                                                                                                                                 |UgwXCKzTpS_XvMGLN5l4AaABAg|\n",
      "|UgzTkXjA3lT8qeEta7B4AaABAg.9zgFMf324Ef9zgKv8CmKgE|UC2lolVgbKA4BT8WqLznDGWA|Why do people think these tablets are stories and not documents....fyi they were just people anyways they didn't come from the sky or another planet                                                                                                                                                                                                     |UgzTkXjA3lT8qeEta7B4AaABAg|\n",
      "|UgzTkXjA3lT8qeEta7B4AaABAg.9zgFMf324Ef9zgWu3xg3Ta|UC2lolVgbKA4BT8WqLznDGWA|Considering the majority of these tablets are the earliest examples of a written language, is it more likely that we figured out how to communicate through writing to make up stories or document important things they witnessed? I mean think about it lol                                                                                            |UgzTkXjA3lT8qeEta7B4AaABAg|\n",
      "|UgzTkXjA3lT8qeEta7B4AaABAg.9zgFMf324Ef9zgYitt4rzx|UC2lolVgbKA4BT8WqLznDGWA|Yes they are the same story that they changed and put in the bible                                                                                                                                                                                                                                                                                       |UgzTkXjA3lT8qeEta7B4AaABAg|\n",
      "|Ugze4k37m59w4PSiHzp4AaABAg.9zfem8NWX6O9zfhNt0aRfp|UCnTTl5-22qOKRSVmuGwm1Lw|boa, mais um infra pra gente falar aqui no canal. Obrigado pela sugestão!                                                                                                                                                                                                                                                                                |Ugze4k37m59w4PSiHzp4AaABAg|\n",
      "|UgzO1HUz9IJDUj483Z14AaABAg.9zgZfKW92sS9zgehPtiZ20|UCcuLEJUZy4jo9iFvngkoBUg|Vou fazer                                                                                                                                                                                                                                                                                                                                                |UgzO1HUz9IJDUj483Z14AaABAg|\n",
      "|UgxG9eZR9QF9X4IKxTd4AaABAg.9zfPZaNuTjz9zfVI3bXpM3|UCnTTl5-22qOKRSVmuGwm1Lw|pois é! Fundo bom sempre é difícil de entrar                                                                                                                                                                                                                                                                                                             |UgxG9eZR9QF9X4IKxTd4AaABAg|\n",
      "|UgzmbquJURXFzb46Hh54AaABAg.9zfLIDJr_nw9zgiZ4-oSl1|UC18rVtiPZXg-PBAazAkJDew|Muito obrigado ✌                                                                                                                                                                                                                                                                                                                                         |UgzmbquJURXFzb46Hh54AaABAg|\n",
      "|UgynlX9VQ9u7_U64CHV4AaABAg.9zfmqVFZqrS9zg7CZ_f2nu|UCcuLEJUZy4jo9iFvngkoBUg|Parabéns 🎊 felicidades                                                                                                                                                                                                                                                                                                                                  |UgynlX9VQ9u7_U64CHV4AaABAg|\n",
      "+-------------------------------------------------+------------------------+---------------------------------------------------------------------------------------------------------------------------------------------------------------------------------------------------------------------------------------------------------------------------------------------------------------------------------------------------------+--------------------------+\n",
      "only showing top 20 rows\n",
      "\n"
     ]
    }
   ],
   "source": [
    "df_resposta_comentarios_final = reduce(lambda df1, df2: df1.union(df2), lista_df_resposta_comentarios)\n",
    "df_resposta_comentarios_final.show(truncate=False)"
   ]
  },
  {
   "cell_type": "code",
   "execution_count": 15,
   "metadata": {},
   "outputs": [
    {
     "name": "stdout",
     "output_type": "stream",
     "text": [
      "24/03/03 00:17:06 WARN DAGScheduler: Broadcasting large task binary with size 1197.6 KiB\n"
     ]
    },
    {
     "name": "stderr",
     "output_type": "stream",
     "text": [
      "                                                                                \r"
     ]
    }
   ],
   "source": [
    "df_resposta_comentarios_final_pandas = df_resposta_comentarios_final.toPandas()"
   ]
  },
  {
   "cell_type": "code",
   "execution_count": 16,
   "metadata": {},
   "outputs": [],
   "source": [
    "spark.stop()"
   ]
  },
  {
   "cell_type": "code",
   "execution_count": 17,
   "metadata": {},
   "outputs": [],
   "source": [
    "df_resposta_comentarios_final_pandas[['id', 'channelId', 'textOriginal', 'parentId']] = df_resposta_comentarios_final_pandas[['id', 'channelId', 'textOriginal', 'parentId']].astype('string')"
   ]
  },
  {
   "cell_type": "code",
   "execution_count": 18,
   "metadata": {},
   "outputs": [],
   "source": [
    "df_resposta_comentarios_final_pandas = df_resposta_comentarios_final_pandas.drop_duplicates()"
   ]
  },
  {
   "cell_type": "markdown",
   "metadata": {},
   "source": [
    "# Concatenando dataframes de comentários"
   ]
  },
  {
   "cell_type": "code",
   "execution_count": 19,
   "metadata": {},
   "outputs": [
    {
     "data": {
      "text/html": [
       "<div>\n",
       "<style scoped>\n",
       "    .dataframe tbody tr th:only-of-type {\n",
       "        vertical-align: middle;\n",
       "    }\n",
       "\n",
       "    .dataframe tbody tr th {\n",
       "        vertical-align: top;\n",
       "    }\n",
       "\n",
       "    .dataframe thead th {\n",
       "        text-align: right;\n",
       "    }\n",
       "</style>\n",
       "<table border=\"1\" class=\"dataframe\">\n",
       "  <thead>\n",
       "    <tr style=\"text-align: right;\">\n",
       "      <th></th>\n",
       "      <th>id</th>\n",
       "      <th>channelId</th>\n",
       "      <th>videoId</th>\n",
       "      <th>textOriginal</th>\n",
       "    </tr>\n",
       "  </thead>\n",
       "  <tbody>\n",
       "    <tr>\n",
       "      <th>0</th>\n",
       "      <td>UgwBml2VBGvh47H6CgZ4AaABAg</td>\n",
       "      <td>UCENbpaPgVhO2GtlNcwAJ8mA</td>\n",
       "      <td>nDfmW0LMAto</td>\n",
       "      <td>Excelente.</td>\n",
       "    </tr>\n",
       "    <tr>\n",
       "      <th>1</th>\n",
       "      <td>UgzOiQoDWs3JCBPLywx4AaABAg</td>\n",
       "      <td>UCnTTl5-22qOKRSVmuGwm1Lw</td>\n",
       "      <td>_rP6fm9avmQ</td>\n",
       "      <td>Valeu, ótima análise\n",
       "LIKE</td>\n",
       "    </tr>\n",
       "    <tr>\n",
       "      <th>2</th>\n",
       "      <td>UgwcYJjgmACxqvHtGQl4AaABAg</td>\n",
       "      <td>UCnTTl5-22qOKRSVmuGwm1Lw</td>\n",
       "      <td>_rP6fm9avmQ</td>\n",
       "      <td>Já tenho e gosto desse fi infra</td>\n",
       "    </tr>\n",
       "    <tr>\n",
       "      <th>3</th>\n",
       "      <td>Ugze4k37m59w4PSiHzp4AaABAg</td>\n",
       "      <td>UCnTTl5-22qOKRSVmuGwm1Lw</td>\n",
       "      <td>_rP6fm9avmQ</td>\n",
       "      <td>OGIN11</td>\n",
       "    </tr>\n",
       "    <tr>\n",
       "      <th>4</th>\n",
       "      <td>UgyDJGKKqh8emjbSF054AaABAg</td>\n",
       "      <td>UCnTTl5-22qOKRSVmuGwm1Lw</td>\n",
       "      <td>_rP6fm9avmQ</td>\n",
       "      <td>Não achei nada interessante essa questão de nã...</td>\n",
       "    </tr>\n",
       "  </tbody>\n",
       "</table>\n",
       "</div>"
      ],
      "text/plain": [
       "                           id                 channelId      videoId  \\\n",
       "0  UgwBml2VBGvh47H6CgZ4AaABAg  UCENbpaPgVhO2GtlNcwAJ8mA  nDfmW0LMAto   \n",
       "1  UgzOiQoDWs3JCBPLywx4AaABAg  UCnTTl5-22qOKRSVmuGwm1Lw  _rP6fm9avmQ   \n",
       "2  UgwcYJjgmACxqvHtGQl4AaABAg  UCnTTl5-22qOKRSVmuGwm1Lw  _rP6fm9avmQ   \n",
       "3  Ugze4k37m59w4PSiHzp4AaABAg  UCnTTl5-22qOKRSVmuGwm1Lw  _rP6fm9avmQ   \n",
       "4  UgyDJGKKqh8emjbSF054AaABAg  UCnTTl5-22qOKRSVmuGwm1Lw  _rP6fm9avmQ   \n",
       "\n",
       "                                        textOriginal  \n",
       "0                                         Excelente.  \n",
       "1                          Valeu, ótima análise\n",
       "LIKE  \n",
       "2                    Já tenho e gosto desse fi infra  \n",
       "3                                             OGIN11  \n",
       "4  Não achei nada interessante essa questão de nã...  "
      ]
     },
     "execution_count": 19,
     "metadata": {},
     "output_type": "execute_result"
    }
   ],
   "source": [
    "df_comentarios_pandas.head()"
   ]
  },
  {
   "cell_type": "code",
   "execution_count": 20,
   "metadata": {},
   "outputs": [
    {
     "data": {
      "text/html": [
       "<div>\n",
       "<style scoped>\n",
       "    .dataframe tbody tr th:only-of-type {\n",
       "        vertical-align: middle;\n",
       "    }\n",
       "\n",
       "    .dataframe tbody tr th {\n",
       "        vertical-align: top;\n",
       "    }\n",
       "\n",
       "    .dataframe thead th {\n",
       "        text-align: right;\n",
       "    }\n",
       "</style>\n",
       "<table border=\"1\" class=\"dataframe\">\n",
       "  <thead>\n",
       "    <tr style=\"text-align: right;\">\n",
       "      <th></th>\n",
       "      <th>id</th>\n",
       "      <th>channelId</th>\n",
       "      <th>textOriginal</th>\n",
       "      <th>parentId</th>\n",
       "    </tr>\n",
       "  </thead>\n",
       "  <tbody>\n",
       "    <tr>\n",
       "      <th>0</th>\n",
       "      <td>UgzZff_AwK5aYnauP6h4AaABAg.9zg9VNzo-B29zgPKKBrNVO</td>\n",
       "      <td>UCcuLEJUZy4jo9iFvngkoBUg</td>\n",
       "      <td>Há pelo menos dois</td>\n",
       "      <td>UgzZff_AwK5aYnauP6h4AaABAg</td>\n",
       "    </tr>\n",
       "    <tr>\n",
       "      <th>1</th>\n",
       "      <td>UgzZff_AwK5aYnauP6h4AaABAg.9zg9VNzo-B29zgQElZCdaG</td>\n",
       "      <td>UCcuLEJUZy4jo9iFvngkoBUg</td>\n",
       "      <td>grato pelo retorno​@@SaladeEmprego</td>\n",
       "      <td>UgzZff_AwK5aYnauP6h4AaABAg</td>\n",
       "    </tr>\n",
       "    <tr>\n",
       "      <th>2</th>\n",
       "      <td>UgzZff_AwK5aYnauP6h4AaABAg.9zg9VNzo-B29zgQFicpN39</td>\n",
       "      <td>UCcuLEJUZy4jo9iFvngkoBUg</td>\n",
       "      <td>grato pelo retorno​@@SaladeEmprego</td>\n",
       "      <td>UgzZff_AwK5aYnauP6h4AaABAg</td>\n",
       "    </tr>\n",
       "    <tr>\n",
       "      <th>3</th>\n",
       "      <td>UgxIk3_tEF6SSnEjGDV4AaABAg.9zgB2WyYMq69zgPIGQSki6</td>\n",
       "      <td>UCcuLEJUZy4jo9iFvngkoBUg</td>\n",
       "      <td>Sucesso!</td>\n",
       "      <td>UgxIk3_tEF6SSnEjGDV4AaABAg</td>\n",
       "    </tr>\n",
       "    <tr>\n",
       "      <th>4</th>\n",
       "      <td>UgzQwjfcCgBDQVEgCkt4AaABAg.9zfoXBRb8Lb9zgBDjFoOcm</td>\n",
       "      <td>UCcuLEJUZy4jo9iFvngkoBUg</td>\n",
       "      <td>Normalmente a entrevista em grupo costuma ser ...</td>\n",
       "      <td>UgzQwjfcCgBDQVEgCkt4AaABAg</td>\n",
       "    </tr>\n",
       "  </tbody>\n",
       "</table>\n",
       "</div>"
      ],
      "text/plain": [
       "                                                  id  \\\n",
       "0  UgzZff_AwK5aYnauP6h4AaABAg.9zg9VNzo-B29zgPKKBrNVO   \n",
       "1  UgzZff_AwK5aYnauP6h4AaABAg.9zg9VNzo-B29zgQElZCdaG   \n",
       "2  UgzZff_AwK5aYnauP6h4AaABAg.9zg9VNzo-B29zgQFicpN39   \n",
       "3  UgxIk3_tEF6SSnEjGDV4AaABAg.9zgB2WyYMq69zgPIGQSki6   \n",
       "4  UgzQwjfcCgBDQVEgCkt4AaABAg.9zfoXBRb8Lb9zgBDjFoOcm   \n",
       "\n",
       "                  channelId  \\\n",
       "0  UCcuLEJUZy4jo9iFvngkoBUg   \n",
       "1  UCcuLEJUZy4jo9iFvngkoBUg   \n",
       "2  UCcuLEJUZy4jo9iFvngkoBUg   \n",
       "3  UCcuLEJUZy4jo9iFvngkoBUg   \n",
       "4  UCcuLEJUZy4jo9iFvngkoBUg   \n",
       "\n",
       "                                        textOriginal  \\\n",
       "0                                 Há pelo menos dois   \n",
       "1                 grato pelo retorno​@@SaladeEmprego   \n",
       "2                 grato pelo retorno​@@SaladeEmprego   \n",
       "3                                           Sucesso!   \n",
       "4  Normalmente a entrevista em grupo costuma ser ...   \n",
       "\n",
       "                     parentId  \n",
       "0  UgzZff_AwK5aYnauP6h4AaABAg  \n",
       "1  UgzZff_AwK5aYnauP6h4AaABAg  \n",
       "2  UgzZff_AwK5aYnauP6h4AaABAg  \n",
       "3  UgxIk3_tEF6SSnEjGDV4AaABAg  \n",
       "4  UgzQwjfcCgBDQVEgCkt4AaABAg  "
      ]
     },
     "execution_count": 20,
     "metadata": {},
     "output_type": "execute_result"
    }
   ],
   "source": [
    "df_resposta_comentarios_final_pandas.head()\n"
   ]
  },
  {
   "cell_type": "code",
   "execution_count": 21,
   "metadata": {},
   "outputs": [],
   "source": [
    "df_comentarios_completos = pd.merge(\n",
    "    left=df_comentarios_pandas, \n",
    "    right=df_resposta_comentarios_final_pandas,\n",
    "    how='left',\n",
    "    left_on='id',\n",
    "    right_on='parentId',\n",
    "\n",
    ")"
   ]
  },
  {
   "cell_type": "code",
   "execution_count": 22,
   "metadata": {},
   "outputs": [
    {
     "data": {
      "text/html": [
       "<div>\n",
       "<style scoped>\n",
       "    .dataframe tbody tr th:only-of-type {\n",
       "        vertical-align: middle;\n",
       "    }\n",
       "\n",
       "    .dataframe tbody tr th {\n",
       "        vertical-align: top;\n",
       "    }\n",
       "\n",
       "    .dataframe thead th {\n",
       "        text-align: right;\n",
       "    }\n",
       "</style>\n",
       "<table border=\"1\" class=\"dataframe\">\n",
       "  <thead>\n",
       "    <tr style=\"text-align: right;\">\n",
       "      <th></th>\n",
       "      <th>id_x</th>\n",
       "      <th>channelId_x</th>\n",
       "      <th>videoId</th>\n",
       "      <th>textOriginal_x</th>\n",
       "      <th>id_y</th>\n",
       "      <th>channelId_y</th>\n",
       "      <th>textOriginal_y</th>\n",
       "      <th>parentId</th>\n",
       "    </tr>\n",
       "  </thead>\n",
       "  <tbody>\n",
       "    <tr>\n",
       "      <th>0</th>\n",
       "      <td>UgwBml2VBGvh47H6CgZ4AaABAg</td>\n",
       "      <td>UCENbpaPgVhO2GtlNcwAJ8mA</td>\n",
       "      <td>nDfmW0LMAto</td>\n",
       "      <td>Excelente.</td>\n",
       "      <td>UgwBml2VBGvh47H6CgZ4AaABAg.9zfMad51A7T9zfT8vqYrxG</td>\n",
       "      <td>UCENbpaPgVhO2GtlNcwAJ8mA</td>\n",
       "      <td>Obrigado. Hoje, quarta dia 17 às 20h, é a Mast...</td>\n",
       "      <td>UgwBml2VBGvh47H6CgZ4AaABAg</td>\n",
       "    </tr>\n",
       "    <tr>\n",
       "      <th>1</th>\n",
       "      <td>UgzOiQoDWs3JCBPLywx4AaABAg</td>\n",
       "      <td>UCnTTl5-22qOKRSVmuGwm1Lw</td>\n",
       "      <td>_rP6fm9avmQ</td>\n",
       "      <td>Valeu, ótima análise\n",
       "LIKE</td>\n",
       "      <td>UgzOiQoDWs3JCBPLywx4AaABAg.9zgaq6XZ-0X9ziR1uLspMi</td>\n",
       "      <td>UCnTTl5-22qOKRSVmuGwm1Lw</td>\n",
       "      <td>Valeu 😀</td>\n",
       "      <td>UgzOiQoDWs3JCBPLywx4AaABAg</td>\n",
       "    </tr>\n",
       "    <tr>\n",
       "      <th>2</th>\n",
       "      <td>UgwcYJjgmACxqvHtGQl4AaABAg</td>\n",
       "      <td>UCnTTl5-22qOKRSVmuGwm1Lw</td>\n",
       "      <td>_rP6fm9avmQ</td>\n",
       "      <td>Já tenho e gosto desse fi infra</td>\n",
       "      <td>&lt;NA&gt;</td>\n",
       "      <td>&lt;NA&gt;</td>\n",
       "      <td>&lt;NA&gt;</td>\n",
       "      <td>&lt;NA&gt;</td>\n",
       "    </tr>\n",
       "    <tr>\n",
       "      <th>3</th>\n",
       "      <td>Ugze4k37m59w4PSiHzp4AaABAg</td>\n",
       "      <td>UCnTTl5-22qOKRSVmuGwm1Lw</td>\n",
       "      <td>_rP6fm9avmQ</td>\n",
       "      <td>OGIN11</td>\n",
       "      <td>Ugze4k37m59w4PSiHzp4AaABAg.9zfem8NWX6O9zfhNt0aRfp</td>\n",
       "      <td>UCnTTl5-22qOKRSVmuGwm1Lw</td>\n",
       "      <td>boa, mais um infra pra gente falar aqui no can...</td>\n",
       "      <td>Ugze4k37m59w4PSiHzp4AaABAg</td>\n",
       "    </tr>\n",
       "    <tr>\n",
       "      <th>4</th>\n",
       "      <td>UgyDJGKKqh8emjbSF054AaABAg</td>\n",
       "      <td>UCnTTl5-22qOKRSVmuGwm1Lw</td>\n",
       "      <td>_rP6fm9avmQ</td>\n",
       "      <td>Não achei nada interessante essa questão de nã...</td>\n",
       "      <td>UgyDJGKKqh8emjbSF054AaABAg.9zfasc_aByl9zfbBVmB5Xx</td>\n",
       "      <td>UCnTTl5-22qOKRSVmuGwm1Lw</td>\n",
       "      <td>isso faz com que o Patrimônio do fundo fique p...</td>\n",
       "      <td>UgyDJGKKqh8emjbSF054AaABAg</td>\n",
       "    </tr>\n",
       "  </tbody>\n",
       "</table>\n",
       "</div>"
      ],
      "text/plain": [
       "                         id_x               channelId_x      videoId  \\\n",
       "0  UgwBml2VBGvh47H6CgZ4AaABAg  UCENbpaPgVhO2GtlNcwAJ8mA  nDfmW0LMAto   \n",
       "1  UgzOiQoDWs3JCBPLywx4AaABAg  UCnTTl5-22qOKRSVmuGwm1Lw  _rP6fm9avmQ   \n",
       "2  UgwcYJjgmACxqvHtGQl4AaABAg  UCnTTl5-22qOKRSVmuGwm1Lw  _rP6fm9avmQ   \n",
       "3  Ugze4k37m59w4PSiHzp4AaABAg  UCnTTl5-22qOKRSVmuGwm1Lw  _rP6fm9avmQ   \n",
       "4  UgyDJGKKqh8emjbSF054AaABAg  UCnTTl5-22qOKRSVmuGwm1Lw  _rP6fm9avmQ   \n",
       "\n",
       "                                      textOriginal_x  \\\n",
       "0                                         Excelente.   \n",
       "1                          Valeu, ótima análise\n",
       "LIKE   \n",
       "2                    Já tenho e gosto desse fi infra   \n",
       "3                                             OGIN11   \n",
       "4  Não achei nada interessante essa questão de nã...   \n",
       "\n",
       "                                                id_y  \\\n",
       "0  UgwBml2VBGvh47H6CgZ4AaABAg.9zfMad51A7T9zfT8vqYrxG   \n",
       "1  UgzOiQoDWs3JCBPLywx4AaABAg.9zgaq6XZ-0X9ziR1uLspMi   \n",
       "2                                               <NA>   \n",
       "3  Ugze4k37m59w4PSiHzp4AaABAg.9zfem8NWX6O9zfhNt0aRfp   \n",
       "4  UgyDJGKKqh8emjbSF054AaABAg.9zfasc_aByl9zfbBVmB5Xx   \n",
       "\n",
       "                channelId_y  \\\n",
       "0  UCENbpaPgVhO2GtlNcwAJ8mA   \n",
       "1  UCnTTl5-22qOKRSVmuGwm1Lw   \n",
       "2                      <NA>   \n",
       "3  UCnTTl5-22qOKRSVmuGwm1Lw   \n",
       "4  UCnTTl5-22qOKRSVmuGwm1Lw   \n",
       "\n",
       "                                      textOriginal_y  \\\n",
       "0  Obrigado. Hoje, quarta dia 17 às 20h, é a Mast...   \n",
       "1                                            Valeu 😀   \n",
       "2                                               <NA>   \n",
       "3  boa, mais um infra pra gente falar aqui no can...   \n",
       "4  isso faz com que o Patrimônio do fundo fique p...   \n",
       "\n",
       "                     parentId  \n",
       "0  UgwBml2VBGvh47H6CgZ4AaABAg  \n",
       "1  UgzOiQoDWs3JCBPLywx4AaABAg  \n",
       "2                        <NA>  \n",
       "3  Ugze4k37m59w4PSiHzp4AaABAg  \n",
       "4  UgyDJGKKqh8emjbSF054AaABAg  "
      ]
     },
     "execution_count": 22,
     "metadata": {},
     "output_type": "execute_result"
    }
   ],
   "source": [
    "df_comentarios_completos.head()"
   ]
  },
  {
   "cell_type": "code",
   "execution_count": 23,
   "metadata": {},
   "outputs": [
    {
     "data": {
      "text/plain": [
       "(14348, 8)"
      ]
     },
     "execution_count": 23,
     "metadata": {},
     "output_type": "execute_result"
    }
   ],
   "source": [
    "df_comentarios_completos.shape"
   ]
  },
  {
   "cell_type": "code",
   "execution_count": 24,
   "metadata": {},
   "outputs": [
    {
     "name": "stderr",
     "output_type": "stream",
     "text": [
      "/tmp/ipykernel_78761/1939900459.py:2: SettingWithCopyWarning: \n",
      "A value is trying to be set on a copy of a slice from a DataFrame\n",
      "\n",
      "See the caveats in the documentation: https://pandas.pydata.org/pandas-docs/stable/user_guide/indexing.html#returning-a-view-versus-a-copy\n",
      "  df_comentarios_completos_um.rename(columns={\n"
     ]
    },
    {
     "data": {
      "text/html": [
       "<div>\n",
       "<style scoped>\n",
       "    .dataframe tbody tr th:only-of-type {\n",
       "        vertical-align: middle;\n",
       "    }\n",
       "\n",
       "    .dataframe tbody tr th {\n",
       "        vertical-align: top;\n",
       "    }\n",
       "\n",
       "    .dataframe thead th {\n",
       "        text-align: right;\n",
       "    }\n",
       "</style>\n",
       "<table border=\"1\" class=\"dataframe\">\n",
       "  <thead>\n",
       "    <tr style=\"text-align: right;\">\n",
       "      <th></th>\n",
       "      <th>id</th>\n",
       "      <th>channelId</th>\n",
       "      <th>videoId</th>\n",
       "      <th>textOriginal</th>\n",
       "    </tr>\n",
       "  </thead>\n",
       "  <tbody>\n",
       "    <tr>\n",
       "      <th>0</th>\n",
       "      <td>UgwBml2VBGvh47H6CgZ4AaABAg</td>\n",
       "      <td>UCENbpaPgVhO2GtlNcwAJ8mA</td>\n",
       "      <td>nDfmW0LMAto</td>\n",
       "      <td>Excelente.</td>\n",
       "    </tr>\n",
       "    <tr>\n",
       "      <th>1</th>\n",
       "      <td>UgzOiQoDWs3JCBPLywx4AaABAg</td>\n",
       "      <td>UCnTTl5-22qOKRSVmuGwm1Lw</td>\n",
       "      <td>_rP6fm9avmQ</td>\n",
       "      <td>Valeu, ótima análise\n",
       "LIKE</td>\n",
       "    </tr>\n",
       "    <tr>\n",
       "      <th>2</th>\n",
       "      <td>UgwcYJjgmACxqvHtGQl4AaABAg</td>\n",
       "      <td>UCnTTl5-22qOKRSVmuGwm1Lw</td>\n",
       "      <td>_rP6fm9avmQ</td>\n",
       "      <td>Já tenho e gosto desse fi infra</td>\n",
       "    </tr>\n",
       "    <tr>\n",
       "      <th>3</th>\n",
       "      <td>Ugze4k37m59w4PSiHzp4AaABAg</td>\n",
       "      <td>UCnTTl5-22qOKRSVmuGwm1Lw</td>\n",
       "      <td>_rP6fm9avmQ</td>\n",
       "      <td>OGIN11</td>\n",
       "    </tr>\n",
       "    <tr>\n",
       "      <th>4</th>\n",
       "      <td>UgyDJGKKqh8emjbSF054AaABAg</td>\n",
       "      <td>UCnTTl5-22qOKRSVmuGwm1Lw</td>\n",
       "      <td>_rP6fm9avmQ</td>\n",
       "      <td>Não achei nada interessante essa questão de nã...</td>\n",
       "    </tr>\n",
       "    <tr>\n",
       "      <th>...</th>\n",
       "      <td>...</td>\n",
       "      <td>...</td>\n",
       "      <td>...</td>\n",
       "      <td>...</td>\n",
       "    </tr>\n",
       "    <tr>\n",
       "      <th>14343</th>\n",
       "      <td>UgydPIbSBxU804gC97N4AaABAg</td>\n",
       "      <td>UC2bZgihqibFD_vhaYEXQZFg</td>\n",
       "      <td>UNSvXnoM2PA</td>\n",
       "      <td>HAHAHAHAHAHAHAHAHAHA mano o Hélder gritando e ...</td>\n",
       "    </tr>\n",
       "    <tr>\n",
       "      <th>14344</th>\n",
       "      <td>UgydPIbSBxU804gC97N4AaABAg</td>\n",
       "      <td>UC2bZgihqibFD_vhaYEXQZFg</td>\n",
       "      <td>UNSvXnoM2PA</td>\n",
       "      <td>HAHAHAHAHAHAHAHAHAHA mano o Hélder gritando e ...</td>\n",
       "    </tr>\n",
       "    <tr>\n",
       "      <th>14345</th>\n",
       "      <td>UgydPIbSBxU804gC97N4AaABAg</td>\n",
       "      <td>UC2bZgihqibFD_vhaYEXQZFg</td>\n",
       "      <td>UNSvXnoM2PA</td>\n",
       "      <td>HAHAHAHAHAHAHAHAHAHA mano o Hélder gritando e ...</td>\n",
       "    </tr>\n",
       "    <tr>\n",
       "      <th>14346</th>\n",
       "      <td>UgydPIbSBxU804gC97N4AaABAg</td>\n",
       "      <td>UC2bZgihqibFD_vhaYEXQZFg</td>\n",
       "      <td>UNSvXnoM2PA</td>\n",
       "      <td>HAHAHAHAHAHAHAHAHAHA mano o Hélder gritando e ...</td>\n",
       "    </tr>\n",
       "    <tr>\n",
       "      <th>14347</th>\n",
       "      <td>Ugz_Y921xpikeAMTyMV4AaABAg</td>\n",
       "      <td>UC2bZgihqibFD_vhaYEXQZFg</td>\n",
       "      <td>UNSvXnoM2PA</td>\n",
       "      <td>1</td>\n",
       "    </tr>\n",
       "  </tbody>\n",
       "</table>\n",
       "<p>14348 rows × 4 columns</p>\n",
       "</div>"
      ],
      "text/plain": [
       "                               id                 channelId      videoId  \\\n",
       "0      UgwBml2VBGvh47H6CgZ4AaABAg  UCENbpaPgVhO2GtlNcwAJ8mA  nDfmW0LMAto   \n",
       "1      UgzOiQoDWs3JCBPLywx4AaABAg  UCnTTl5-22qOKRSVmuGwm1Lw  _rP6fm9avmQ   \n",
       "2      UgwcYJjgmACxqvHtGQl4AaABAg  UCnTTl5-22qOKRSVmuGwm1Lw  _rP6fm9avmQ   \n",
       "3      Ugze4k37m59w4PSiHzp4AaABAg  UCnTTl5-22qOKRSVmuGwm1Lw  _rP6fm9avmQ   \n",
       "4      UgyDJGKKqh8emjbSF054AaABAg  UCnTTl5-22qOKRSVmuGwm1Lw  _rP6fm9avmQ   \n",
       "...                           ...                       ...          ...   \n",
       "14343  UgydPIbSBxU804gC97N4AaABAg  UC2bZgihqibFD_vhaYEXQZFg  UNSvXnoM2PA   \n",
       "14344  UgydPIbSBxU804gC97N4AaABAg  UC2bZgihqibFD_vhaYEXQZFg  UNSvXnoM2PA   \n",
       "14345  UgydPIbSBxU804gC97N4AaABAg  UC2bZgihqibFD_vhaYEXQZFg  UNSvXnoM2PA   \n",
       "14346  UgydPIbSBxU804gC97N4AaABAg  UC2bZgihqibFD_vhaYEXQZFg  UNSvXnoM2PA   \n",
       "14347  Ugz_Y921xpikeAMTyMV4AaABAg  UC2bZgihqibFD_vhaYEXQZFg  UNSvXnoM2PA   \n",
       "\n",
       "                                            textOriginal  \n",
       "0                                             Excelente.  \n",
       "1                              Valeu, ótima análise\n",
       "LIKE  \n",
       "2                        Já tenho e gosto desse fi infra  \n",
       "3                                                 OGIN11  \n",
       "4      Não achei nada interessante essa questão de nã...  \n",
       "...                                                  ...  \n",
       "14343  HAHAHAHAHAHAHAHAHAHA mano o Hélder gritando e ...  \n",
       "14344  HAHAHAHAHAHAHAHAHAHA mano o Hélder gritando e ...  \n",
       "14345  HAHAHAHAHAHAHAHAHAHA mano o Hélder gritando e ...  \n",
       "14346  HAHAHAHAHAHAHAHAHAHA mano o Hélder gritando e ...  \n",
       "14347                                                  1  \n",
       "\n",
       "[14348 rows x 4 columns]"
      ]
     },
     "execution_count": 24,
     "metadata": {},
     "output_type": "execute_result"
    }
   ],
   "source": [
    "df_comentarios_completos_um = df_comentarios_completos[['id_x', 'channelId_x', 'videoId', 'textOriginal_x']]\n",
    "df_comentarios_completos_um.rename(columns={\n",
    "    'id_x': 'id',\n",
    "    'channelId_x': 'channelId',\n",
    "    'textOriginal_x': 'textOriginal'\n",
    "}, inplace=True)\n",
    "df_comentarios_completos_um"
   ]
  },
  {
   "cell_type": "code",
   "execution_count": 25,
   "metadata": {},
   "outputs": [
    {
     "name": "stderr",
     "output_type": "stream",
     "text": [
      "/tmp/ipykernel_78761/112964936.py:2: SettingWithCopyWarning: \n",
      "A value is trying to be set on a copy of a slice from a DataFrame\n",
      "\n",
      "See the caveats in the documentation: https://pandas.pydata.org/pandas-docs/stable/user_guide/indexing.html#returning-a-view-versus-a-copy\n",
      "  df_comentarios_completos_dois.rename(columns={\n"
     ]
    },
    {
     "data": {
      "text/html": [
       "<div>\n",
       "<style scoped>\n",
       "    .dataframe tbody tr th:only-of-type {\n",
       "        vertical-align: middle;\n",
       "    }\n",
       "\n",
       "    .dataframe tbody tr th {\n",
       "        vertical-align: top;\n",
       "    }\n",
       "\n",
       "    .dataframe thead th {\n",
       "        text-align: right;\n",
       "    }\n",
       "</style>\n",
       "<table border=\"1\" class=\"dataframe\">\n",
       "  <thead>\n",
       "    <tr style=\"text-align: right;\">\n",
       "      <th></th>\n",
       "      <th>id</th>\n",
       "      <th>channelId</th>\n",
       "      <th>videoId</th>\n",
       "      <th>textOriginal</th>\n",
       "    </tr>\n",
       "  </thead>\n",
       "  <tbody>\n",
       "    <tr>\n",
       "      <th>0</th>\n",
       "      <td>UgwBml2VBGvh47H6CgZ4AaABAg</td>\n",
       "      <td>UCENbpaPgVhO2GtlNcwAJ8mA</td>\n",
       "      <td>nDfmW0LMAto</td>\n",
       "      <td>Obrigado. Hoje, quarta dia 17 às 20h, é a Mast...</td>\n",
       "    </tr>\n",
       "    <tr>\n",
       "      <th>1</th>\n",
       "      <td>UgzOiQoDWs3JCBPLywx4AaABAg</td>\n",
       "      <td>UCnTTl5-22qOKRSVmuGwm1Lw</td>\n",
       "      <td>_rP6fm9avmQ</td>\n",
       "      <td>Valeu 😀</td>\n",
       "    </tr>\n",
       "    <tr>\n",
       "      <th>2</th>\n",
       "      <td>UgwcYJjgmACxqvHtGQl4AaABAg</td>\n",
       "      <td>UCnTTl5-22qOKRSVmuGwm1Lw</td>\n",
       "      <td>_rP6fm9avmQ</td>\n",
       "      <td>&lt;NA&gt;</td>\n",
       "    </tr>\n",
       "    <tr>\n",
       "      <th>3</th>\n",
       "      <td>Ugze4k37m59w4PSiHzp4AaABAg</td>\n",
       "      <td>UCnTTl5-22qOKRSVmuGwm1Lw</td>\n",
       "      <td>_rP6fm9avmQ</td>\n",
       "      <td>boa, mais um infra pra gente falar aqui no can...</td>\n",
       "    </tr>\n",
       "    <tr>\n",
       "      <th>4</th>\n",
       "      <td>UgyDJGKKqh8emjbSF054AaABAg</td>\n",
       "      <td>UCnTTl5-22qOKRSVmuGwm1Lw</td>\n",
       "      <td>_rP6fm9avmQ</td>\n",
       "      <td>isso faz com que o Patrimônio do fundo fique p...</td>\n",
       "    </tr>\n",
       "    <tr>\n",
       "      <th>...</th>\n",
       "      <td>...</td>\n",
       "      <td>...</td>\n",
       "      <td>...</td>\n",
       "      <td>...</td>\n",
       "    </tr>\n",
       "    <tr>\n",
       "      <th>14343</th>\n",
       "      <td>UgydPIbSBxU804gC97N4AaABAg</td>\n",
       "      <td>UC2bZgihqibFD_vhaYEXQZFg</td>\n",
       "      <td>UNSvXnoM2PA</td>\n",
       "      <td>😅</td>\n",
       "    </tr>\n",
       "    <tr>\n",
       "      <th>14344</th>\n",
       "      <td>UgydPIbSBxU804gC97N4AaABAg</td>\n",
       "      <td>UC2bZgihqibFD_vhaYEXQZFg</td>\n",
       "      <td>UNSvXnoM2PA</td>\n",
       "      <td>eu achava que era edição do Bezzi pra não assu...</td>\n",
       "    </tr>\n",
       "    <tr>\n",
       "      <th>14345</th>\n",
       "      <td>UgydPIbSBxU804gC97N4AaABAg</td>\n",
       "      <td>UC2bZgihqibFD_vhaYEXQZFg</td>\n",
       "      <td>UNSvXnoM2PA</td>\n",
       "      <td>O Hélder te pega demais?</td>\n",
       "    </tr>\n",
       "    <tr>\n",
       "      <th>14346</th>\n",
       "      <td>UgydPIbSBxU804gC97N4AaABAg</td>\n",
       "      <td>UC2bZgihqibFD_vhaYEXQZFg</td>\n",
       "      <td>UNSvXnoM2PA</td>\n",
       "      <td>Ah. ...pode crer ... hahahaha, deve ser um sis...</td>\n",
       "    </tr>\n",
       "    <tr>\n",
       "      <th>14347</th>\n",
       "      <td>Ugz_Y921xpikeAMTyMV4AaABAg</td>\n",
       "      <td>UC2bZgihqibFD_vhaYEXQZFg</td>\n",
       "      <td>UNSvXnoM2PA</td>\n",
       "      <td>&lt;NA&gt;</td>\n",
       "    </tr>\n",
       "  </tbody>\n",
       "</table>\n",
       "<p>14348 rows × 4 columns</p>\n",
       "</div>"
      ],
      "text/plain": [
       "                               id                 channelId      videoId  \\\n",
       "0      UgwBml2VBGvh47H6CgZ4AaABAg  UCENbpaPgVhO2GtlNcwAJ8mA  nDfmW0LMAto   \n",
       "1      UgzOiQoDWs3JCBPLywx4AaABAg  UCnTTl5-22qOKRSVmuGwm1Lw  _rP6fm9avmQ   \n",
       "2      UgwcYJjgmACxqvHtGQl4AaABAg  UCnTTl5-22qOKRSVmuGwm1Lw  _rP6fm9avmQ   \n",
       "3      Ugze4k37m59w4PSiHzp4AaABAg  UCnTTl5-22qOKRSVmuGwm1Lw  _rP6fm9avmQ   \n",
       "4      UgyDJGKKqh8emjbSF054AaABAg  UCnTTl5-22qOKRSVmuGwm1Lw  _rP6fm9avmQ   \n",
       "...                           ...                       ...          ...   \n",
       "14343  UgydPIbSBxU804gC97N4AaABAg  UC2bZgihqibFD_vhaYEXQZFg  UNSvXnoM2PA   \n",
       "14344  UgydPIbSBxU804gC97N4AaABAg  UC2bZgihqibFD_vhaYEXQZFg  UNSvXnoM2PA   \n",
       "14345  UgydPIbSBxU804gC97N4AaABAg  UC2bZgihqibFD_vhaYEXQZFg  UNSvXnoM2PA   \n",
       "14346  UgydPIbSBxU804gC97N4AaABAg  UC2bZgihqibFD_vhaYEXQZFg  UNSvXnoM2PA   \n",
       "14347  Ugz_Y921xpikeAMTyMV4AaABAg  UC2bZgihqibFD_vhaYEXQZFg  UNSvXnoM2PA   \n",
       "\n",
       "                                            textOriginal  \n",
       "0      Obrigado. Hoje, quarta dia 17 às 20h, é a Mast...  \n",
       "1                                                Valeu 😀  \n",
       "2                                                   <NA>  \n",
       "3      boa, mais um infra pra gente falar aqui no can...  \n",
       "4      isso faz com que o Patrimônio do fundo fique p...  \n",
       "...                                                  ...  \n",
       "14343                                                  😅  \n",
       "14344  eu achava que era edição do Bezzi pra não assu...  \n",
       "14345                           O Hélder te pega demais?  \n",
       "14346  Ah. ...pode crer ... hahahaha, deve ser um sis...  \n",
       "14347                                               <NA>  \n",
       "\n",
       "[14348 rows x 4 columns]"
      ]
     },
     "execution_count": 25,
     "metadata": {},
     "output_type": "execute_result"
    }
   ],
   "source": [
    "df_comentarios_completos_dois = df_comentarios_completos[['id_x', 'channelId_x', 'videoId', 'textOriginal_y']]\n",
    "df_comentarios_completos_dois.rename(columns={\n",
    "    'id_x': 'id',\n",
    "    'channelId_x': 'channelId',\n",
    "    'textOriginal_y': 'textOriginal'\n",
    "}, inplace=True)\n",
    "df_comentarios_completos_dois"
   ]
  },
  {
   "cell_type": "code",
   "execution_count": 26,
   "metadata": {},
   "outputs": [
    {
     "data": {
      "text/html": [
       "<div>\n",
       "<style scoped>\n",
       "    .dataframe tbody tr th:only-of-type {\n",
       "        vertical-align: middle;\n",
       "    }\n",
       "\n",
       "    .dataframe tbody tr th {\n",
       "        vertical-align: top;\n",
       "    }\n",
       "\n",
       "    .dataframe thead th {\n",
       "        text-align: right;\n",
       "    }\n",
       "</style>\n",
       "<table border=\"1\" class=\"dataframe\">\n",
       "  <thead>\n",
       "    <tr style=\"text-align: right;\">\n",
       "      <th></th>\n",
       "      <th>id</th>\n",
       "      <th>channelId</th>\n",
       "      <th>videoId</th>\n",
       "      <th>textOriginal</th>\n",
       "    </tr>\n",
       "  </thead>\n",
       "  <tbody>\n",
       "    <tr>\n",
       "      <th>0</th>\n",
       "      <td>UgwBml2VBGvh47H6CgZ4AaABAg</td>\n",
       "      <td>UCENbpaPgVhO2GtlNcwAJ8mA</td>\n",
       "      <td>nDfmW0LMAto</td>\n",
       "      <td>Excelente.</td>\n",
       "    </tr>\n",
       "    <tr>\n",
       "      <th>1</th>\n",
       "      <td>UgzOiQoDWs3JCBPLywx4AaABAg</td>\n",
       "      <td>UCnTTl5-22qOKRSVmuGwm1Lw</td>\n",
       "      <td>_rP6fm9avmQ</td>\n",
       "      <td>Valeu, ótima análise\n",
       "LIKE</td>\n",
       "    </tr>\n",
       "    <tr>\n",
       "      <th>2</th>\n",
       "      <td>UgwcYJjgmACxqvHtGQl4AaABAg</td>\n",
       "      <td>UCnTTl5-22qOKRSVmuGwm1Lw</td>\n",
       "      <td>_rP6fm9avmQ</td>\n",
       "      <td>Já tenho e gosto desse fi infra</td>\n",
       "    </tr>\n",
       "    <tr>\n",
       "      <th>3</th>\n",
       "      <td>Ugze4k37m59w4PSiHzp4AaABAg</td>\n",
       "      <td>UCnTTl5-22qOKRSVmuGwm1Lw</td>\n",
       "      <td>_rP6fm9avmQ</td>\n",
       "      <td>OGIN11</td>\n",
       "    </tr>\n",
       "    <tr>\n",
       "      <th>4</th>\n",
       "      <td>UgyDJGKKqh8emjbSF054AaABAg</td>\n",
       "      <td>UCnTTl5-22qOKRSVmuGwm1Lw</td>\n",
       "      <td>_rP6fm9avmQ</td>\n",
       "      <td>Não achei nada interessante essa questão de nã...</td>\n",
       "    </tr>\n",
       "    <tr>\n",
       "      <th>...</th>\n",
       "      <td>...</td>\n",
       "      <td>...</td>\n",
       "      <td>...</td>\n",
       "      <td>...</td>\n",
       "    </tr>\n",
       "    <tr>\n",
       "      <th>14343</th>\n",
       "      <td>UgydPIbSBxU804gC97N4AaABAg</td>\n",
       "      <td>UC2bZgihqibFD_vhaYEXQZFg</td>\n",
       "      <td>UNSvXnoM2PA</td>\n",
       "      <td>😅</td>\n",
       "    </tr>\n",
       "    <tr>\n",
       "      <th>14344</th>\n",
       "      <td>UgydPIbSBxU804gC97N4AaABAg</td>\n",
       "      <td>UC2bZgihqibFD_vhaYEXQZFg</td>\n",
       "      <td>UNSvXnoM2PA</td>\n",
       "      <td>eu achava que era edição do Bezzi pra não assu...</td>\n",
       "    </tr>\n",
       "    <tr>\n",
       "      <th>14345</th>\n",
       "      <td>UgydPIbSBxU804gC97N4AaABAg</td>\n",
       "      <td>UC2bZgihqibFD_vhaYEXQZFg</td>\n",
       "      <td>UNSvXnoM2PA</td>\n",
       "      <td>O Hélder te pega demais?</td>\n",
       "    </tr>\n",
       "    <tr>\n",
       "      <th>14346</th>\n",
       "      <td>UgydPIbSBxU804gC97N4AaABAg</td>\n",
       "      <td>UC2bZgihqibFD_vhaYEXQZFg</td>\n",
       "      <td>UNSvXnoM2PA</td>\n",
       "      <td>Ah. ...pode crer ... hahahaha, deve ser um sis...</td>\n",
       "    </tr>\n",
       "    <tr>\n",
       "      <th>14347</th>\n",
       "      <td>Ugz_Y921xpikeAMTyMV4AaABAg</td>\n",
       "      <td>UC2bZgihqibFD_vhaYEXQZFg</td>\n",
       "      <td>UNSvXnoM2PA</td>\n",
       "      <td>&lt;NA&gt;</td>\n",
       "    </tr>\n",
       "  </tbody>\n",
       "</table>\n",
       "<p>28696 rows × 4 columns</p>\n",
       "</div>"
      ],
      "text/plain": [
       "                               id                 channelId      videoId  \\\n",
       "0      UgwBml2VBGvh47H6CgZ4AaABAg  UCENbpaPgVhO2GtlNcwAJ8mA  nDfmW0LMAto   \n",
       "1      UgzOiQoDWs3JCBPLywx4AaABAg  UCnTTl5-22qOKRSVmuGwm1Lw  _rP6fm9avmQ   \n",
       "2      UgwcYJjgmACxqvHtGQl4AaABAg  UCnTTl5-22qOKRSVmuGwm1Lw  _rP6fm9avmQ   \n",
       "3      Ugze4k37m59w4PSiHzp4AaABAg  UCnTTl5-22qOKRSVmuGwm1Lw  _rP6fm9avmQ   \n",
       "4      UgyDJGKKqh8emjbSF054AaABAg  UCnTTl5-22qOKRSVmuGwm1Lw  _rP6fm9avmQ   \n",
       "...                           ...                       ...          ...   \n",
       "14343  UgydPIbSBxU804gC97N4AaABAg  UC2bZgihqibFD_vhaYEXQZFg  UNSvXnoM2PA   \n",
       "14344  UgydPIbSBxU804gC97N4AaABAg  UC2bZgihqibFD_vhaYEXQZFg  UNSvXnoM2PA   \n",
       "14345  UgydPIbSBxU804gC97N4AaABAg  UC2bZgihqibFD_vhaYEXQZFg  UNSvXnoM2PA   \n",
       "14346  UgydPIbSBxU804gC97N4AaABAg  UC2bZgihqibFD_vhaYEXQZFg  UNSvXnoM2PA   \n",
       "14347  Ugz_Y921xpikeAMTyMV4AaABAg  UC2bZgihqibFD_vhaYEXQZFg  UNSvXnoM2PA   \n",
       "\n",
       "                                            textOriginal  \n",
       "0                                             Excelente.  \n",
       "1                              Valeu, ótima análise\n",
       "LIKE  \n",
       "2                        Já tenho e gosto desse fi infra  \n",
       "3                                                 OGIN11  \n",
       "4      Não achei nada interessante essa questão de nã...  \n",
       "...                                                  ...  \n",
       "14343                                                  😅  \n",
       "14344  eu achava que era edição do Bezzi pra não assu...  \n",
       "14345                           O Hélder te pega demais?  \n",
       "14346  Ah. ...pode crer ... hahahaha, deve ser um sis...  \n",
       "14347                                               <NA>  \n",
       "\n",
       "[28696 rows x 4 columns]"
      ]
     },
     "execution_count": 26,
     "metadata": {},
     "output_type": "execute_result"
    }
   ],
   "source": [
    "df_comentarios_completo = pd.concat([df_comentarios_completos_um, df_comentarios_completos_dois])\n",
    "df_comentarios_completo"
   ]
  },
  {
   "cell_type": "markdown",
   "metadata": {},
   "source": [
    "# Abrindo dataframe de canal, vídeo"
   ]
  },
  {
   "cell_type": "code",
   "execution_count": 27,
   "metadata": {},
   "outputs": [
    {
     "data": {
      "text/html": [
       "<div>\n",
       "<style scoped>\n",
       "    .dataframe tbody tr th:only-of-type {\n",
       "        vertical-align: middle;\n",
       "    }\n",
       "\n",
       "    .dataframe tbody tr th {\n",
       "        vertical-align: top;\n",
       "    }\n",
       "\n",
       "    .dataframe thead th {\n",
       "        text-align: right;\n",
       "    }\n",
       "</style>\n",
       "<table border=\"1\" class=\"dataframe\">\n",
       "  <thead>\n",
       "    <tr style=\"text-align: right;\">\n",
       "      <th></th>\n",
       "      <th>ASSUNTO</th>\n",
       "      <th>ID_CANAL</th>\n",
       "      <th>NM_CANAL</th>\n",
       "      <th>ID_VIDEO</th>\n",
       "      <th>TITULO_VIDEO</th>\n",
       "    </tr>\n",
       "  </thead>\n",
       "  <tbody>\n",
       "    <tr>\n",
       "      <th>0</th>\n",
       "      <td>assunto_python_and_dados</td>\n",
       "      <td>UCMqGy4xIIGs01ZVcBv0B8Cw</td>\n",
       "      <td>Usando Python</td>\n",
       "      <td>BVHN3nK8JR8</td>\n",
       "      <td>Conversão para String (str) em Python.#shorts</td>\n",
       "    </tr>\n",
       "    <tr>\n",
       "      <th>1</th>\n",
       "      <td>assunto_python_and_dados</td>\n",
       "      <td>UC70kawNmZCDeZDZBbeiolHA</td>\n",
       "      <td>Wesley Roberto | Data Analytics</td>\n",
       "      <td>S8FcfOPjFJY</td>\n",
       "      <td>Como se tornar um Analista de dados em 2024</td>\n",
       "    </tr>\n",
       "    <tr>\n",
       "      <th>2</th>\n",
       "      <td>assunto_python_and_dados</td>\n",
       "      <td>UCiYrw6iAqlYXvP7no7h4tUQ</td>\n",
       "      <td>Rodolfo De Nadai</td>\n",
       "      <td>s9hUoajuWwc</td>\n",
       "      <td>Python: Structure Data Types</td>\n",
       "    </tr>\n",
       "    <tr>\n",
       "      <th>3</th>\n",
       "      <td>assunto_python_and_dados</td>\n",
       "      <td>UCNblNh-u0nu5mtXT84Wgdiw</td>\n",
       "      <td>Mestres da Informática</td>\n",
       "      <td>j1-IbFM7TtE</td>\n",
       "      <td>🔴O Novo Ciclo - 1° Fase | O Detetive Virtual</td>\n",
       "    </tr>\n",
       "    <tr>\n",
       "      <th>4</th>\n",
       "      <td>assunto_python_and_dados</td>\n",
       "      <td>UCU5vSFBBO_cp6ie0OG74b2g</td>\n",
       "      <td>Refatorando</td>\n",
       "      <td>5Rl2CnW5ZFc</td>\n",
       "      <td>Como é o dia a dia de trabalho de um Programador</td>\n",
       "    </tr>\n",
       "    <tr>\n",
       "      <th>...</th>\n",
       "      <td>...</td>\n",
       "      <td>...</td>\n",
       "      <td>...</td>\n",
       "      <td>...</td>\n",
       "      <td>...</td>\n",
       "    </tr>\n",
       "    <tr>\n",
       "      <th>12063</th>\n",
       "      <td>assunto_cities_skylines_2</td>\n",
       "      <td>UCGved3ynk6ZhUvSKxzgweTw</td>\n",
       "      <td>Jogando</td>\n",
       "      <td>tjZZTkpmPo4</td>\n",
       "      <td>07 Itaquera - Cities Skylines 2 UNIVERSIDADE, ...</td>\n",
       "    </tr>\n",
       "    <tr>\n",
       "      <th>12064</th>\n",
       "      <td>assunto_cities_skylines_2</td>\n",
       "      <td>UCdrd9d0-1p8sgXOvJDc-naA</td>\n",
       "      <td>FLAVIOSUICO GAMES</td>\n",
       "      <td>J0O_HqOo4UE</td>\n",
       "      <td>Cities Skyline 2 - INTERSECÇÃO ENORME - Gamepl...</td>\n",
       "    </tr>\n",
       "    <tr>\n",
       "      <th>12065</th>\n",
       "      <td>assunto_cities_skylines_2</td>\n",
       "      <td>UCDqzBrUOm7guqqyU8eDackg</td>\n",
       "      <td>BUG CITIES</td>\n",
       "      <td>AHKQdCqYoHI</td>\n",
       "      <td>Cidade (Mods) CITIES SKYLINES I (iniciante)| C...</td>\n",
       "    </tr>\n",
       "    <tr>\n",
       "      <th>12066</th>\n",
       "      <td>assunto_cities_skylines_2</td>\n",
       "      <td>UCDqzBrUOm7guqqyU8eDackg</td>\n",
       "      <td>BUG CITIES</td>\n",
       "      <td>AHKQdCqYoHI</td>\n",
       "      <td>Cidade (Mods) CITIES SKYLINES I (iniciante)| C...</td>\n",
       "    </tr>\n",
       "    <tr>\n",
       "      <th>12067</th>\n",
       "      <td>assunto_cities_skylines_2</td>\n",
       "      <td>UCDqzBrUOm7guqqyU8eDackg</td>\n",
       "      <td>BUG CITIES</td>\n",
       "      <td>AHKQdCqYoHI</td>\n",
       "      <td>Cidade (Mods) CITIES SKYLINES I (iniciante)| C...</td>\n",
       "    </tr>\n",
       "  </tbody>\n",
       "</table>\n",
       "<p>12068 rows × 5 columns</p>\n",
       "</div>"
      ],
      "text/plain": [
       "                         ASSUNTO                  ID_CANAL  \\\n",
       "0       assunto_python_and_dados  UCMqGy4xIIGs01ZVcBv0B8Cw   \n",
       "1       assunto_python_and_dados  UC70kawNmZCDeZDZBbeiolHA   \n",
       "2       assunto_python_and_dados  UCiYrw6iAqlYXvP7no7h4tUQ   \n",
       "3       assunto_python_and_dados  UCNblNh-u0nu5mtXT84Wgdiw   \n",
       "4       assunto_python_and_dados  UCU5vSFBBO_cp6ie0OG74b2g   \n",
       "...                          ...                       ...   \n",
       "12063  assunto_cities_skylines_2  UCGved3ynk6ZhUvSKxzgweTw   \n",
       "12064  assunto_cities_skylines_2  UCdrd9d0-1p8sgXOvJDc-naA   \n",
       "12065  assunto_cities_skylines_2  UCDqzBrUOm7guqqyU8eDackg   \n",
       "12066  assunto_cities_skylines_2  UCDqzBrUOm7guqqyU8eDackg   \n",
       "12067  assunto_cities_skylines_2  UCDqzBrUOm7guqqyU8eDackg   \n",
       "\n",
       "                              NM_CANAL     ID_VIDEO  \\\n",
       "0                        Usando Python  BVHN3nK8JR8   \n",
       "1      Wesley Roberto | Data Analytics  S8FcfOPjFJY   \n",
       "2                     Rodolfo De Nadai  s9hUoajuWwc   \n",
       "3               Mestres da Informática  j1-IbFM7TtE   \n",
       "4                          Refatorando  5Rl2CnW5ZFc   \n",
       "...                                ...          ...   \n",
       "12063                          Jogando  tjZZTkpmPo4   \n",
       "12064                FLAVIOSUICO GAMES  J0O_HqOo4UE   \n",
       "12065                       BUG CITIES  AHKQdCqYoHI   \n",
       "12066                       BUG CITIES  AHKQdCqYoHI   \n",
       "12067                       BUG CITIES  AHKQdCqYoHI   \n",
       "\n",
       "                                            TITULO_VIDEO  \n",
       "0          Conversão para String (str) em Python.#shorts  \n",
       "1            Como se tornar um Analista de dados em 2024  \n",
       "2                           Python: Structure Data Types  \n",
       "3           🔴O Novo Ciclo - 1° Fase | O Detetive Virtual  \n",
       "4       Como é o dia a dia de trabalho de um Programador  \n",
       "...                                                  ...  \n",
       "12063  07 Itaquera - Cities Skylines 2 UNIVERSIDADE, ...  \n",
       "12064  Cities Skyline 2 - INTERSECÇÃO ENORME - Gamepl...  \n",
       "12065  Cidade (Mods) CITIES SKYLINES I (iniciante)| C...  \n",
       "12066  Cidade (Mods) CITIES SKYLINES I (iniciante)| C...  \n",
       "12067  Cidade (Mods) CITIES SKYLINES I (iniciante)| C...  \n",
       "\n",
       "[12068 rows x 5 columns]"
      ]
     },
     "execution_count": 27,
     "metadata": {},
     "output_type": "execute_result"
    }
   ],
   "source": [
    "df_assunto = pd.read_parquet('../dados/ouro/dados_tratado_estatisticas_gerais.parquet', columns=['ASSUNTO', 'ID_CANAL', 'NM_CANAL', 'ID_VIDEO', 'TITULO_VIDEO'])\n",
    "df_assunto"
   ]
  },
  {
   "cell_type": "code",
   "execution_count": 28,
   "metadata": {},
   "outputs": [],
   "source": [
    "df_assunto = df_assunto.drop_duplicates()"
   ]
  },
  {
   "cell_type": "code",
   "execution_count": 29,
   "metadata": {},
   "outputs": [
    {
     "data": {
      "text/html": [
       "<div>\n",
       "<style scoped>\n",
       "    .dataframe tbody tr th:only-of-type {\n",
       "        vertical-align: middle;\n",
       "    }\n",
       "\n",
       "    .dataframe tbody tr th {\n",
       "        vertical-align: top;\n",
       "    }\n",
       "\n",
       "    .dataframe thead th {\n",
       "        text-align: right;\n",
       "    }\n",
       "</style>\n",
       "<table border=\"1\" class=\"dataframe\">\n",
       "  <thead>\n",
       "    <tr style=\"text-align: right;\">\n",
       "      <th></th>\n",
       "      <th>ASSUNTO</th>\n",
       "      <th>ID_CANAL</th>\n",
       "      <th>NM_CANAL</th>\n",
       "      <th>ID_VIDEO</th>\n",
       "      <th>TITULO_VIDEO</th>\n",
       "      <th>id</th>\n",
       "      <th>channelId</th>\n",
       "      <th>videoId</th>\n",
       "      <th>textOriginal</th>\n",
       "    </tr>\n",
       "  </thead>\n",
       "  <tbody>\n",
       "    <tr>\n",
       "      <th>0</th>\n",
       "      <td>assunto_python_and_dados</td>\n",
       "      <td>UC70kawNmZCDeZDZBbeiolHA</td>\n",
       "      <td>Wesley Roberto | Data Analytics</td>\n",
       "      <td>S8FcfOPjFJY</td>\n",
       "      <td>Como se tornar um Analista de dados em 2024</td>\n",
       "      <td>UgwVZnxz6RRW7H69Q6R4AaABAg</td>\n",
       "      <td>UC70kawNmZCDeZDZBbeiolHA</td>\n",
       "      <td>S8FcfOPjFJY</td>\n",
       "      <td>Toooop</td>\n",
       "    </tr>\n",
       "    <tr>\n",
       "      <th>1</th>\n",
       "      <td>assunto_python_and_dados</td>\n",
       "      <td>UC70kawNmZCDeZDZBbeiolHA</td>\n",
       "      <td>Wesley Roberto | Data Analytics</td>\n",
       "      <td>S8FcfOPjFJY</td>\n",
       "      <td>Como se tornar um Analista de dados em 2024</td>\n",
       "      <td>UgwoxPxWmFNyQ1phrUZ4AaABAg</td>\n",
       "      <td>UC70kawNmZCDeZDZBbeiolHA</td>\n",
       "      <td>S8FcfOPjFJY</td>\n",
       "      <td>Conteúdo de qualidade e bem explicado.</td>\n",
       "    </tr>\n",
       "    <tr>\n",
       "      <th>2</th>\n",
       "      <td>assunto_python_and_dados</td>\n",
       "      <td>UC70kawNmZCDeZDZBbeiolHA</td>\n",
       "      <td>Wesley Roberto | Data Analytics</td>\n",
       "      <td>S8FcfOPjFJY</td>\n",
       "      <td>Como se tornar um Analista de dados em 2024</td>\n",
       "      <td>Ugz7sxak3OoggtRI4iN4AaABAg</td>\n",
       "      <td>UC70kawNmZCDeZDZBbeiolHA</td>\n",
       "      <td>S8FcfOPjFJY</td>\n",
       "      <td>O brabo 👏🏼</td>\n",
       "    </tr>\n",
       "    <tr>\n",
       "      <th>3</th>\n",
       "      <td>assunto_python_and_dados</td>\n",
       "      <td>UC70kawNmZCDeZDZBbeiolHA</td>\n",
       "      <td>Wesley Roberto | Data Analytics</td>\n",
       "      <td>S8FcfOPjFJY</td>\n",
       "      <td>Como se tornar um Analista de dados em 2024</td>\n",
       "      <td>Ugz2jSdhr1LqxI5BNQ54AaABAg</td>\n",
       "      <td>UC70kawNmZCDeZDZBbeiolHA</td>\n",
       "      <td>S8FcfOPjFJY</td>\n",
       "      <td>🚀👏🏻👏🏻👏🏻</td>\n",
       "    </tr>\n",
       "    <tr>\n",
       "      <th>4</th>\n",
       "      <td>assunto_python_and_dados</td>\n",
       "      <td>UC70kawNmZCDeZDZBbeiolHA</td>\n",
       "      <td>Wesley Roberto | Data Analytics</td>\n",
       "      <td>S8FcfOPjFJY</td>\n",
       "      <td>Como se tornar um Analista de dados em 2024</td>\n",
       "      <td>UgyVyL5Ws1ZYtJyL5nN4AaABAg</td>\n",
       "      <td>UC70kawNmZCDeZDZBbeiolHA</td>\n",
       "      <td>S8FcfOPjFJY</td>\n",
       "      <td>👏👏👏</td>\n",
       "    </tr>\n",
       "    <tr>\n",
       "      <th>...</th>\n",
       "      <td>...</td>\n",
       "      <td>...</td>\n",
       "      <td>...</td>\n",
       "      <td>...</td>\n",
       "      <td>...</td>\n",
       "      <td>...</td>\n",
       "      <td>...</td>\n",
       "      <td>...</td>\n",
       "      <td>...</td>\n",
       "    </tr>\n",
       "    <tr>\n",
       "      <th>34619</th>\n",
       "      <td>assunto_cities_skylines_2</td>\n",
       "      <td>UCHJJ9aeqrnliy6xDTqTWz_g</td>\n",
       "      <td>Boring Bones Tv</td>\n",
       "      <td>gvrvx8pCh4M</td>\n",
       "      <td>O CRIAR UM SIM DO THE SIMS 2 BETA ERA INCRÍVEL...</td>\n",
       "      <td>Ugz0tT97md19_R-yfgV4AaABAg</td>\n",
       "      <td>UCHJJ9aeqrnliy6xDTqTWz_g</td>\n",
       "      <td>gvrvx8pCh4M</td>\n",
       "      <td>Surra mtooooooo Hahahah e isso é de 21 anos at...</td>\n",
       "    </tr>\n",
       "    <tr>\n",
       "      <th>34620</th>\n",
       "      <td>assunto_cities_skylines_2</td>\n",
       "      <td>UCHJJ9aeqrnliy6xDTqTWz_g</td>\n",
       "      <td>Boring Bones Tv</td>\n",
       "      <td>gvrvx8pCh4M</td>\n",
       "      <td>O CRIAR UM SIM DO THE SIMS 2 BETA ERA INCRÍVEL...</td>\n",
       "      <td>Ugz0tT97md19_R-yfgV4AaABAg</td>\n",
       "      <td>UCHJJ9aeqrnliy6xDTqTWz_g</td>\n",
       "      <td>gvrvx8pCh4M</td>\n",
       "      <td>Tudo menos o cas, o cas de the Sims 4 é incrível.</td>\n",
       "    </tr>\n",
       "    <tr>\n",
       "      <th>34621</th>\n",
       "      <td>assunto_cities_skylines_2</td>\n",
       "      <td>UCHJJ9aeqrnliy6xDTqTWz_g</td>\n",
       "      <td>Boring Bones Tv</td>\n",
       "      <td>gvrvx8pCh4M</td>\n",
       "      <td>O CRIAR UM SIM DO THE SIMS 2 BETA ERA INCRÍVEL...</td>\n",
       "      <td>Ugz0tT97md19_R-yfgV4AaABAg</td>\n",
       "      <td>UCHJJ9aeqrnliy6xDTqTWz_g</td>\n",
       "      <td>gvrvx8pCh4M</td>\n",
       "      <td>so nao é como o do ts2@@chipsdiversos9427</td>\n",
       "    </tr>\n",
       "    <tr>\n",
       "      <th>34622</th>\n",
       "      <td>assunto_cities_skylines_2</td>\n",
       "      <td>UCY9SX2eszZG1C63NpRARA9g</td>\n",
       "      <td>Nicolas Gameplays</td>\n",
       "      <td>Ctq8ZpvDNb0</td>\n",
       "      <td>TOP GAME DISPONIVEL AGORA,  PLAGUE TALE REQUIE...</td>\n",
       "      <td>Ugy580FmSV6xkZJ-tM94AaABAg</td>\n",
       "      <td>UCY9SX2eszZG1C63NpRARA9g</td>\n",
       "      <td>Ctq8ZpvDNb0</td>\n",
       "      <td>Jogão meu brother as duas série o 1 e o 2 zere...</td>\n",
       "    </tr>\n",
       "    <tr>\n",
       "      <th>34623</th>\n",
       "      <td>assunto_cities_skylines_2</td>\n",
       "      <td>UCY9SX2eszZG1C63NpRARA9g</td>\n",
       "      <td>Nicolas Gameplays</td>\n",
       "      <td>Ctq8ZpvDNb0</td>\n",
       "      <td>TOP GAME DISPONIVEL AGORA,  PLAGUE TALE REQUIE...</td>\n",
       "      <td>Ugy580FmSV6xkZJ-tM94AaABAg</td>\n",
       "      <td>UCY9SX2eszZG1C63NpRARA9g</td>\n",
       "      <td>Ctq8ZpvDNb0</td>\n",
       "      <td>Salve Leandro, Verdade jogando o 1 e adorei hi...</td>\n",
       "    </tr>\n",
       "  </tbody>\n",
       "</table>\n",
       "<p>34624 rows × 9 columns</p>\n",
       "</div>"
      ],
      "text/plain": [
       "                         ASSUNTO                  ID_CANAL  \\\n",
       "0       assunto_python_and_dados  UC70kawNmZCDeZDZBbeiolHA   \n",
       "1       assunto_python_and_dados  UC70kawNmZCDeZDZBbeiolHA   \n",
       "2       assunto_python_and_dados  UC70kawNmZCDeZDZBbeiolHA   \n",
       "3       assunto_python_and_dados  UC70kawNmZCDeZDZBbeiolHA   \n",
       "4       assunto_python_and_dados  UC70kawNmZCDeZDZBbeiolHA   \n",
       "...                          ...                       ...   \n",
       "34619  assunto_cities_skylines_2  UCHJJ9aeqrnliy6xDTqTWz_g   \n",
       "34620  assunto_cities_skylines_2  UCHJJ9aeqrnliy6xDTqTWz_g   \n",
       "34621  assunto_cities_skylines_2  UCHJJ9aeqrnliy6xDTqTWz_g   \n",
       "34622  assunto_cities_skylines_2  UCY9SX2eszZG1C63NpRARA9g   \n",
       "34623  assunto_cities_skylines_2  UCY9SX2eszZG1C63NpRARA9g   \n",
       "\n",
       "                              NM_CANAL     ID_VIDEO  \\\n",
       "0      Wesley Roberto | Data Analytics  S8FcfOPjFJY   \n",
       "1      Wesley Roberto | Data Analytics  S8FcfOPjFJY   \n",
       "2      Wesley Roberto | Data Analytics  S8FcfOPjFJY   \n",
       "3      Wesley Roberto | Data Analytics  S8FcfOPjFJY   \n",
       "4      Wesley Roberto | Data Analytics  S8FcfOPjFJY   \n",
       "...                                ...          ...   \n",
       "34619                  Boring Bones Tv  gvrvx8pCh4M   \n",
       "34620                  Boring Bones Tv  gvrvx8pCh4M   \n",
       "34621                  Boring Bones Tv  gvrvx8pCh4M   \n",
       "34622                Nicolas Gameplays  Ctq8ZpvDNb0   \n",
       "34623                Nicolas Gameplays  Ctq8ZpvDNb0   \n",
       "\n",
       "                                            TITULO_VIDEO  \\\n",
       "0            Como se tornar um Analista de dados em 2024   \n",
       "1            Como se tornar um Analista de dados em 2024   \n",
       "2            Como se tornar um Analista de dados em 2024   \n",
       "3            Como se tornar um Analista de dados em 2024   \n",
       "4            Como se tornar um Analista de dados em 2024   \n",
       "...                                                  ...   \n",
       "34619  O CRIAR UM SIM DO THE SIMS 2 BETA ERA INCRÍVEL...   \n",
       "34620  O CRIAR UM SIM DO THE SIMS 2 BETA ERA INCRÍVEL...   \n",
       "34621  O CRIAR UM SIM DO THE SIMS 2 BETA ERA INCRÍVEL...   \n",
       "34622  TOP GAME DISPONIVEL AGORA,  PLAGUE TALE REQUIE...   \n",
       "34623  TOP GAME DISPONIVEL AGORA,  PLAGUE TALE REQUIE...   \n",
       "\n",
       "                               id                 channelId      videoId  \\\n",
       "0      UgwVZnxz6RRW7H69Q6R4AaABAg  UC70kawNmZCDeZDZBbeiolHA  S8FcfOPjFJY   \n",
       "1      UgwoxPxWmFNyQ1phrUZ4AaABAg  UC70kawNmZCDeZDZBbeiolHA  S8FcfOPjFJY   \n",
       "2      Ugz7sxak3OoggtRI4iN4AaABAg  UC70kawNmZCDeZDZBbeiolHA  S8FcfOPjFJY   \n",
       "3      Ugz2jSdhr1LqxI5BNQ54AaABAg  UC70kawNmZCDeZDZBbeiolHA  S8FcfOPjFJY   \n",
       "4      UgyVyL5Ws1ZYtJyL5nN4AaABAg  UC70kawNmZCDeZDZBbeiolHA  S8FcfOPjFJY   \n",
       "...                           ...                       ...          ...   \n",
       "34619  Ugz0tT97md19_R-yfgV4AaABAg  UCHJJ9aeqrnliy6xDTqTWz_g  gvrvx8pCh4M   \n",
       "34620  Ugz0tT97md19_R-yfgV4AaABAg  UCHJJ9aeqrnliy6xDTqTWz_g  gvrvx8pCh4M   \n",
       "34621  Ugz0tT97md19_R-yfgV4AaABAg  UCHJJ9aeqrnliy6xDTqTWz_g  gvrvx8pCh4M   \n",
       "34622  Ugy580FmSV6xkZJ-tM94AaABAg  UCY9SX2eszZG1C63NpRARA9g  Ctq8ZpvDNb0   \n",
       "34623  Ugy580FmSV6xkZJ-tM94AaABAg  UCY9SX2eszZG1C63NpRARA9g  Ctq8ZpvDNb0   \n",
       "\n",
       "                                            textOriginal  \n",
       "0                                                 Toooop  \n",
       "1                 Conteúdo de qualidade e bem explicado.  \n",
       "2                                             O brabo 👏🏼  \n",
       "3                                                🚀👏🏻👏🏻👏🏻  \n",
       "4                                                    👏👏👏  \n",
       "...                                                  ...  \n",
       "34619  Surra mtooooooo Hahahah e isso é de 21 anos at...  \n",
       "34620  Tudo menos o cas, o cas de the Sims 4 é incrível.  \n",
       "34621          so nao é como o do ts2@@chipsdiversos9427  \n",
       "34622  Jogão meu brother as duas série o 1 e o 2 zere...  \n",
       "34623  Salve Leandro, Verdade jogando o 1 e adorei hi...  \n",
       "\n",
       "[34624 rows x 9 columns]"
      ]
     },
     "execution_count": 29,
     "metadata": {},
     "output_type": "execute_result"
    }
   ],
   "source": [
    "df_comentarios_completo_assunto = pd.merge(\n",
    "    left=df_assunto,\n",
    "    right=df_comentarios_completo,\n",
    "    how='inner',\n",
    "    left_on='ID_VIDEO',\n",
    "    right_on='videoId'\n",
    ")\n",
    "df_comentarios_completo_assunto"
   ]
  },
  {
   "cell_type": "code",
   "execution_count": 30,
   "metadata": {},
   "outputs": [],
   "source": [
    "nlp = spacy.load(\"pt_core_news_sm\")"
   ]
  },
  {
   "cell_type": "code",
   "execution_count": 31,
   "metadata": {},
   "outputs": [],
   "source": [
    "doc = nlp('Tudo Fazer')"
   ]
  },
  {
   "cell_type": "code",
   "execution_count": 32,
   "metadata": {},
   "outputs": [
    {
     "data": {
      "text/plain": [
       "2"
      ]
     },
     "execution_count": 32,
     "metadata": {},
     "output_type": "execute_result"
    }
   ],
   "source": [
    "num_tokens = len(doc)\n",
    "num_tokens"
   ]
  },
  {
   "cell_type": "code",
   "execution_count": 33,
   "metadata": {},
   "outputs": [
    {
     "data": {
      "text/plain": [
       "Counter()"
      ]
     },
     "execution_count": 33,
     "metadata": {},
     "output_type": "execute_result"
    }
   ],
   "source": [
    "from collections import Counter\n",
    "term_freq = Counter(token.text for token in doc if not token.is_stop and not token.is_punct)\n",
    "term_freq"
   ]
  },
  {
   "cell_type": "code",
   "execution_count": 34,
   "metadata": {},
   "outputs": [
    {
     "data": {
      "text/plain": [
       "352"
      ]
     },
     "execution_count": 34,
     "metadata": {},
     "output_type": "execute_result"
    }
   ],
   "source": [
    "nlp.vocab.length"
   ]
  },
  {
   "cell_type": "code",
   "execution_count": 35,
   "metadata": {},
   "outputs": [
    {
     "data": {
      "text/plain": [
       "[('Fazer', 'LOC')]"
      ]
     },
     "execution_count": 35,
     "metadata": {},
     "output_type": "execute_result"
    }
   ],
   "source": [
    "named_entities = [(entity.text, entity.label_) for entity in doc.ents]\n",
    "named_entities"
   ]
  },
  {
   "cell_type": "code",
   "execution_count": 36,
   "metadata": {},
   "outputs": [
    {
     "data": {
      "text/plain": [
       "'abcdefghijklmnopqrstuvwxyzABCDEFGHIJKLMNOPQRSTUVWXYZ'"
      ]
     },
     "execution_count": 36,
     "metadata": {},
     "output_type": "execute_result"
    }
   ],
   "source": [
    "string.ascii_letters"
   ]
  },
  {
   "cell_type": "code",
   "execution_count": 37,
   "metadata": {},
   "outputs": [
    {
     "data": {
      "text/plain": [
       "[('Tudo', 'PRON'), ('Fazer', 'PROPN')]"
      ]
     },
     "execution_count": 37,
     "metadata": {},
     "output_type": "execute_result"
    }
   ],
   "source": [
    "pos_tags = [(token.text, token.pos_) for token in doc]\n",
    "pos_tags"
   ]
  },
  {
   "cell_type": "code",
   "execution_count": 38,
   "metadata": {},
   "outputs": [
    {
     "data": {
      "text/plain": [
       "[('Tudo', 'ROOT', 'Tudo'), ('Fazer', 'flat:name', 'Tudo')]"
      ]
     },
     "execution_count": 38,
     "metadata": {},
     "output_type": "execute_result"
    }
   ],
   "source": [
    "dependency_relations = [(token.text, token.dep_, token.head.text) for token in doc]\n",
    "dependency_relations"
   ]
  },
  {
   "cell_type": "code",
   "execution_count": 39,
   "metadata": {},
   "outputs": [
    {
     "name": "stdout",
     "output_type": "stream",
     "text": [
      "Tudo tudo\n",
      "Fazer Fazer\n"
     ]
    }
   ],
   "source": [
    "for token in doc:\n",
    "    print(token.text, token.lemma_)"
   ]
  },
  {
   "cell_type": "code",
   "execution_count": 40,
   "metadata": {},
   "outputs": [
    {
     "name": "stdout",
     "output_type": "stream",
     "text": [
      "Tudo PRON\n",
      "Fazer PROPN\n"
     ]
    }
   ],
   "source": [
    "for token in doc:\n",
    "    print(token.text, token.pos_)"
   ]
  },
  {
   "cell_type": "code",
   "execution_count": 41,
   "metadata": {},
   "outputs": [
    {
     "name": "stdout",
     "output_type": "stream",
     "text": [
      "Fazer LOC\n"
     ]
    }
   ],
   "source": [
    "for ent in doc.ents:\n",
    "    print(ent.text, ent.label_)"
   ]
  },
  {
   "cell_type": "code",
   "execution_count": 42,
   "metadata": {},
   "outputs": [],
   "source": [
    "def remove_stop_words(sentence):\n",
    "    try:\n",
    "        nlp = spacy.load(\"pt_core_news_sm\")\n",
    "        sentence = unidecode(sentence).strip().lower()\n",
    "        for c in string.punctuation:\n",
    "            sentence = sentence.replace(c, '')\n",
    "        doc = nlp(sentence)\n",
    "        filtered_tokens = [token for token in doc if not token.is_stop]\n",
    "        palavras = list(filtered_tokens)\n",
    "        lista_palavras = [palava for palava in palavras if len(palava) > 1]\n",
    "        return lista_palavras\n",
    "    except:\n",
    "        return ''"
   ]
  },
  {
   "cell_type": "code",
   "execution_count": 43,
   "metadata": {},
   "outputs": [
    {
     "data": {
      "text/plain": [
       "[brab, aviao]"
      ]
     },
     "execution_count": 43,
     "metadata": {},
     "output_type": "execute_result"
    }
   ],
   "source": [
    "texto = 'O brab avião 👏🏼'\n",
    "remove_stop_words(texto)"
   ]
  },
  {
   "cell_type": "code",
   "execution_count": 44,
   "metadata": {},
   "outputs": [],
   "source": [
    "lista_assunto = [\n",
    "    'assunto_power_bi',\n",
    "    'assunto_python_and_dados',\n",
    "    'assunto_cities_skylines',\n",
    "    'assunto_cities_skylines_2',\n",
    "    'assunto_linux',\n",
    "    'assunto_linux_gamming',\n",
    "    'assunto_genshin_impact',\n",
    "    'assunto_zelda'\n",
    "]"
   ]
  },
  {
   "cell_type": "code",
   "execution_count": null,
   "metadata": {},
   "outputs": [],
   "source": []
  },
  {
   "cell_type": "code",
   "execution_count": 45,
   "metadata": {},
   "outputs": [],
   "source": [
    "n = 10\n",
    "df_comentarios_completo_assunto['ID'] = df_comentarios_completo_assunto.index+1\n",
    "df_comentarios_completo_assunto['PARTICOES'] = df_comentarios_completo_assunto['ID'] // n\n",
    "\n"
   ]
  },
  {
   "cell_type": "code",
   "execution_count": 46,
   "metadata": {},
   "outputs": [
    {
     "name": "stdout",
     "output_type": "stream",
     "text": [
      "<class 'pandas.core.frame.DataFrame'>\n",
      "RangeIndex: 34624 entries, 0 to 34623\n",
      "Data columns (total 11 columns):\n",
      " #   Column        Non-Null Count  Dtype \n",
      "---  ------        --------------  ----- \n",
      " 0   ASSUNTO       34624 non-null  string\n",
      " 1   ID_CANAL      34624 non-null  string\n",
      " 2   NM_CANAL      34624 non-null  string\n",
      " 3   ID_VIDEO      34624 non-null  string\n",
      " 4   TITULO_VIDEO  34624 non-null  string\n",
      " 5   id            34624 non-null  string\n",
      " 6   channelId     34624 non-null  string\n",
      " 7   videoId       34624 non-null  string\n",
      " 8   textOriginal  25674 non-null  string\n",
      " 9   ID            34624 non-null  int64 \n",
      " 10  PARTICOES     34624 non-null  int64 \n",
      "dtypes: int64(2), string(9)\n",
      "memory usage: 2.9 MB\n"
     ]
    }
   ],
   "source": [
    "df_comentarios_completo_assunto.info()"
   ]
  },
  {
   "cell_type": "code",
   "execution_count": 47,
   "metadata": {},
   "outputs": [],
   "source": [
    "lista_particoes = df_comentarios_completo_assunto['PARTICOES'].unique().tolist()"
   ]
  },
  {
   "cell_type": "code",
   "execution_count": null,
   "metadata": {},
   "outputs": [],
   "source": []
  },
  {
   "cell_type": "code",
   "execution_count": 48,
   "metadata": {},
   "outputs": [
    {
     "name": "stdout",
     "output_type": "stream",
     "text": [
      "<class 'pandas.core.frame.DataFrame'>\n",
      "RangeIndex: 34624 entries, 0 to 34623\n",
      "Data columns (total 11 columns):\n",
      " #   Column        Non-Null Count  Dtype \n",
      "---  ------        --------------  ----- \n",
      " 0   ASSUNTO       34624 non-null  string\n",
      " 1   ID_CANAL      34624 non-null  string\n",
      " 2   NM_CANAL      34624 non-null  string\n",
      " 3   ID_VIDEO      34624 non-null  string\n",
      " 4   TITULO_VIDEO  34624 non-null  string\n",
      " 5   id            34624 non-null  string\n",
      " 6   channelId     34624 non-null  string\n",
      " 7   videoId       34624 non-null  string\n",
      " 8   textOriginal  25674 non-null  string\n",
      " 9   ID            34624 non-null  int64 \n",
      " 10  PARTICOES     34624 non-null  int64 \n",
      "dtypes: int64(2), string(9)\n",
      "memory usage: 2.9 MB\n"
     ]
    }
   ],
   "source": [
    "df_comentarios_completo_assunto.info()"
   ]
  },
  {
   "cell_type": "code",
   "execution_count": 49,
   "metadata": {},
   "outputs": [],
   "source": [
    "df_comentarios_completo_assunto.to_parquet('../dados/ouro/comentarios.parquet')"
   ]
  }
 ],
 "metadata": {
  "kernelspec": {
   "display_name": "venv",
   "language": "python",
   "name": "python3"
  },
  "language_info": {
   "codemirror_mode": {
    "name": "ipython",
    "version": 3
   },
   "file_extension": ".py",
   "mimetype": "text/x-python",
   "name": "python",
   "nbconvert_exporter": "python",
   "pygments_lexer": "ipython3",
   "version": "3.10.12"
  }
 },
 "nbformat": 4,
 "nbformat_minor": 2
}

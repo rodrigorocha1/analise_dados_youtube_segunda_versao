{
 "cells": [
  {
   "cell_type": "markdown",
   "metadata": {},
   "source": [
    "# Importação bibliotecas"
   ]
  },
  {
   "cell_type": "code",
   "execution_count": 3,
   "metadata": {},
   "outputs": [],
   "source": [
    "import plotly.express as px\n",
    "from plotly.subplots import make_subplots\n",
    "import plotly.graph_objects as go\n",
    "import pandas as pd\n",
    "import numpy as np\n",
    "from dash import Dash, dash_table\n",
    "from unidecode import unidecode"
   ]
  },
  {
   "cell_type": "markdown",
   "metadata": {},
   "source": [
    "# base completa"
   ]
  },
  {
   "cell_type": "code",
   "execution_count": 6,
   "metadata": {},
   "outputs": [
    {
     "name": "stdout",
     "output_type": "stream",
     "text": [
      "ASSUNTO\n",
      "<StringArray>\n",
      "[ 'assunto_python_and_dados',          'assunto_power_bi',\n",
      "    'assunto_genshin_impact',             'assunto_linux',\n",
      "     'assunto_linux_gamming',             'assunto_zelda',\n",
      "   'assunto_cities_skylines', 'assunto_cities_skylines_2']\n",
      "Length: 8, dtype: string\n",
      "\n",
      "data_extracao\n",
      "<StringArray>\n",
      "['2024-01-23', '2024-01-22', '2024-01-21', '2024-01-20', '2024-01-19',\n",
      " '2024-01-18', '2024-01-17']\n",
      "Length: 7, dtype: string\n",
      "\n",
      "DATA_PUBLICACAO\n",
      "<StringArray>\n",
      "['2024-01-19T17:35:48Z', '2024-01-20T20:43:41Z', '2024-01-18T15:15:11Z',\n",
      " '2024-01-23T12:59:19Z', '2024-01-18T22:00:02Z', '2024-01-23T14:47:49Z',\n",
      " '2024-01-23T20:44:06Z', '2024-01-22T12:48:51Z', '2024-01-23T13:30:08Z',\n",
      " '2024-01-20T11:22:56Z',\n",
      " ...\n",
      " '2024-01-17T17:42:02Z', '2024-01-19T21:02:29Z', '2024-01-19T16:40:33Z',\n",
      " '2024-01-20T00:11:14Z', '2024-01-19T19:42:50Z', '2024-01-17T19:53:33Z',\n",
      " '2024-01-18T15:17:43Z', '2024-01-18T18:23:57Z', '2024-01-17T22:04:25Z',\n",
      " '2024-01-17T14:05:59Z']\n",
      "Length: 1028, dtype: string\n",
      "\n",
      "ID_CANAL\n",
      "<StringArray>\n",
      "['UCMqGy4xIIGs01ZVcBv0B8Cw', 'UC70kawNmZCDeZDZBbeiolHA',\n",
      " 'UCiYrw6iAqlYXvP7no7h4tUQ', 'UCNblNh-u0nu5mtXT84Wgdiw',\n",
      " 'UCU5vSFBBO_cp6ie0OG74b2g', 'UCHQun4keJGrj8RqDPPpyUsg',\n",
      " 'UC_Ytk3TwR-bWEHFhHsKcVHw', 'UCUUFXfP7yc1pGC9h3oASYyQ',\n",
      " 'UCIQ_CeDhXZDc8BEaMFFXi0g', 'UC70mr11REaCqgKke7DPJoLg',\n",
      " ...\n",
      " 'UCpA7ooMrd0-LLGlPOYU_yPQ', 'UCGved3ynk6ZhUvSKxzgweTw',\n",
      " 'UC7v51W2NoLFawizgcNuVBOA', 'UCQ8caMPqaVxkT5W_cNomCsA',\n",
      " 'UC5K4NCZfOu13LcL_zpjV7NQ', 'UCY9SX2eszZG1C63NpRARA9g',\n",
      " 'UCHJJ9aeqrnliy6xDTqTWz_g', 'UCIaRBZPpN14RxrYh60HDb0A',\n",
      " 'UCoBbeu5bEvrJJDCCRSQJb4Q', 'UC5n268XImRQ_2x9SxwVRcjQ']\n",
      "Length: 478, dtype: string\n",
      "\n",
      "NM_CANAL\n",
      "<StringArray>\n",
      "[                           'Usando Python',\n",
      "          'Wesley Roberto | Data Analytics',\n",
      "                         'Rodolfo De Nadai',\n",
      "                   'Mestres da Informática',\n",
      "                              'Refatorando',\n",
      " 'Portal do Conhecimento - Equipe Morpheus',\n",
      "                        'Bueno - Fintz API',\n",
      "                              'PalancaCode',\n",
      "                           'Adriano Torres',\n",
      "                     'Programação Dinâmica',\n",
      " ...\n",
      "                          'Aqui tem Cities',\n",
      "                                 'DREGUELI',\n",
      "                        'Nicolas Gameplays',\n",
      "                          'Boring Bones Tv',\n",
      "                           'Canal Spejorin',\n",
      "                            'Cortes do Ton',\n",
      "                                'Pixis Sam',\n",
      "                                 'Bruuninz',\n",
      "          'JOSEILDA EMPREDEDORISMO DIGITAL',\n",
      "                                   'Mouany']\n",
      "Length: 485, dtype: string\n",
      "\n",
      "ID_CATEGORIA\n",
      "<StringArray>\n",
      "['27', '28', '22', '24', '20', '25', '26', '23', '10', '1']\n",
      "Length: 10, dtype: string\n",
      "\n",
      "ID_VIDEO\n",
      "<StringArray>\n",
      "['BVHN3nK8JR8', 'S8FcfOPjFJY', 's9hUoajuWwc', 'j1-IbFM7TtE', '5Rl2CnW5ZFc',\n",
      " 'dcxNswGRL4c', 'RyYKmUFpPN4', 'rtyxBpb6ANI', 'fnWYI2ys_fQ', 'qUYkiZRiZ48',\n",
      " ...\n",
      " '-7lNtAJARBQ', 'WZOQmqedhSg', '0G_TfHhGH-M', 'OY_Bw6wujNI', 'gvrvx8pCh4M',\n",
      " 'Ctq8ZpvDNb0', 'vizr8ZfENWY', 'FXe7ZPxI0_Y', '5N4UPUU87dI', 'nHfW_-QW3As']\n",
      "Length: 968, dtype: string\n",
      "\n",
      "TITULO_VIDEO\n",
      "<StringArray>\n",
      "[                                                     'Conversão para String (str) em Python.#shorts',\n",
      "                                                        'Como se tornar um Analista de dados em 2024',\n",
      "                                                                       'Python: Structure Data Types',\n",
      "                                                    '🔴O Novo Ciclo - 1° Fase | O Detetive\\xa0Virtual',\n",
      "                                                   'Como é o dia a dia de trabalho de um Programador',\n",
      "                                                                              'Agora vem o grosso...',\n",
      "                                                                                'PCO é Bolsonarista?',\n",
      "                                              'Como buscar Indicadores com Python e Jupyter Notebook',\n",
      "                                                 'Tuplas vs. Listas em Python: Quando usar cada uma?',\n",
      "                                                                 'Som de chuva para dormir e relaxar',\n",
      " ...\n",
      " 'The Legend Of Zelda: Tears Of The Kingdom - DUBLADO - Prévia - GANONDORF E RAURU - TRIFORCE HEROES',\n",
      "                                                            'COMO FAZER VIDEO VIRAL PARA O INSTAGRAN',\n",
      "                                                                               'Analista  de Sistema',\n",
      "                                      'A era do PETRÓLEO chegou na nossa cidade no CITIES SKYLINES 2',\n",
      "                                   'Teste RX580 2048SP | Xeon 2667 v4 | Cities Skylines 2 | 1.0.18f1',\n",
      "                                         'RX580 2048SP | Xeon 2667 v4 | Cities Skylines 2 | 1.0.18f1',\n",
      "                                                            'Como é um Setup Linuxer (feat DioLinux)',\n",
      "                                    '420 GEMAS no evento de rinha de besouro do itto |Genshin Impact',\n",
      "                                                        'Zuerando com o link (Zelda ocarina of time)',\n",
      "                                               'Trailler cities skylines 2 #citiesskylines2 #trailer']\n",
      "Length: 993, dtype: string\n",
      "\n",
      "DESCRICAO\n",
      "<StringArray>\n",
      "[                                                                                                                                                                                                                                                                                                                                                                                                                                                                                                                                                                                                                                                                                                                                                                                                                                                                                                                                                                                                                                                                                                                                                                                                                                                                                                                                                                                                                                                                                                                                                                                                                                                                                                                                                                                                                                                                                                                                                                                                                                                                                                                                                                                                                                                                                                                                                                                                                                                                                                                                                                                                                                                                                                                                                                                                                                                                                                                                                                                                                                                                                                                                                                                                                                                                                                                                                                                                                                                                                                                                                                                                                                                                                                                                                                                                                                                                                                                                                                                                                                                                                                                                                                                                                                                                                                                                                                                                                                                                                                                                                                                                                                                                                                                                                                                                                                                                                                                                                                                                                                                             'Diferença entre Dados, Informação, Conhecimento e Inteligência.\\n#dados #cienciadedados #python #usandopython #joaofuti #inteligenciaartificial',\n",
      "                                                                                                                                                                                                                                                                                                                                                                                                                                                                                                                                                                                                                                                                                                                                                                                                                                                                                                                                                                                                                                                                                                                                                                                                                                                                                                                                                                                                                                                                                                                                                                                                                                                                                                                                                                                                                                                                                                                                                                                                                                                                                                                                                                                                                                                                                                                                                                                                                                                                                                                                                                                                                                                                                                                                                                                                                                                                                                                                                                                                                                                                                                                                                                                                                                                                                                                                                                                                                                                                 '🚀 Bem-vindo ao nosso canal! Neste vídeo, vamos explorar passo a passo o caminho para se tornar um analista de dados em 2024, destacando as principais ferramentas do mercado. Se você está interessado em mergulhar no emocionante mundo da análise de dados, este guia é para você!\\n\\n📊 Excel: Começaremos com a base sólida do Excel, a ferramenta essencial para manipulação e organização de dados. Veremos funções avançadas, gráficos dinâmicos e como usar o Excel como ponto de partida para sua jornada na análise de dados.\\n\\n💻 SQL: Em seguida, vamos abordar o SQL, a linguagem vital para consultas em bancos de dados. Aprenderemos a extrair informações valiosas usando comandos SQL, essenciais para qualquer analista de dados.\\n\\n📈 Power BI: Avançaremos para o Power BI, uma poderosa ferramenta de visualização de dados. Descubra como criar dashboards interativos e relatórios envolventes para comunicar insights de forma eficaz.\\n\\n🐍 Python: Por fim, mergulharemos no universo da programação com Python, uma habilidade cada vez mais valorizada no campo da análise de dados. Aprenda as noções básicas de Python e como aplicá-lo para automação e manipulação avançada de dados.\\n\\n⏰ Prepare-se para uma jornada empolgante e transformadora! Seja você um iniciante ou alguém que deseja aprimorar suas habilidades, este vídeo é o guia definitivo para se tornar um analista de dados em 2024.\\n\\n👍 Se este vídeo foi útil, não se esqueça de deixar seu like, compartilhar com seus amigos e se inscrever para mais conteúdo sobre análise de dados e tecnologia!\\n\\n\\n📌 Comente abaixo sobre suas experiências e dúvidas, estamos aqui para ajudar! Obrigado por assistir e até o próximo vídeo! 🚀',\n",
      "                                                                                                                                                                                                                                                                                                                                                                                                                                                                                                                                                                                                                                                                                                                                                                                                                                                                                                                                                                                                                                                                                                                                                                                                                                                                                                                                                                                                                                                                                                                                                                                                                                                                                                                                                                                                                                                                                                                                                                                                                                                                                                                                                                                                                                                                                                                                                                                                                                                                                                                                                                                                                                                                                                                                                                                                                                                                                                                                                                                                                                                                                                                                                                                                                                                                                                                                                                                                                                                                                                                                                                                                                                                                                                                                                                                                                                                                                                                                                                                                                                                                                                                                                                                                                                                                                                                                                                                                                                                                                                                                                                                                                                                                                                                               'Fala galera!\\nNeste vídeo vou comentar das principais estrutura de dados que temos em python, falar sobre outras que temos na stdlib e mostrar uma implementação de uma nova estrutura usando classes.\\n\\nGithub\\nhttps://github.com/rdenadai/python_series/tree/main/5.python_structural_datatypes\\n\\nApresentação do Luciano Ramalho - Hash tables: como funcionam dicts e sets\\nhttps://www.youtube.com/watch?v=JfyB2YGRuDw&list=PLDC3uVLxaEQ1Bkj73iMqDTd8uDzTfjyzu&index=7',\n",
      "                                                                                                                                                                                                                                                                                                                                                                                                                                                                                                                                                                                                                                                                                                                                                                                                                                                                                                                                                                                                                                                                                                                                                                                                                                                                                                                                                                                                                                                                                                                                                                                                                                                                                                                                                                                                                                                                                                                                                                                                                                                                                                                                                                                                                                                                                                                                                                                                                                                                                                                                                                                                                                                                                                                                                                                                                                                                                                                                                                                                                                                                                                                                                                                                                                                                                                                                                                                                                                                                                                                                                                                                                                                                                                                                                                                                                                                                                                                                                                                                                                                                                                                                                                                                                                                                                                                                                                                                                                                                                                                                                                                                                                                                                                                                                                                                                                                                  'Nessa Aula eu vou te mostrar como você pode começar na sua carreira na Área de Segurança da Informação com um dos serviços mais procurados do Mercado, o Serviço de Detetive Virtual.\\n\\n🚨INSCREVA-SE PARA NÃO PERDER AS LIVES e pegar o seu CERTIFICADO\\n ➤ https://hotm.art/ONovoCiclo\\n\\n#ethicalhacking #pentest #kalilinux\\xa0#hacking',\n",
      "                                                                                                                                                                                                                                                                                                                                                                                                                                                                                                                                                                                                                                                                                                                                                                                                                                                                                                                                                                                                                                                                                                                                                                                                                                                                                                                                   '→ 🎁 Masterclass Gratuita - Como Iniciar na Carreira de TI: https://refatorando.com.br/5pow\\n🚀 Conheça nosso Curso de Fullstack: https://refatorando.com.br/9h36\\n✅ Impulsione sua trajetória na TI com o Guia de áreas: https://refatorando.com.br/53ko\\n✅ Conheça nossos cursos gratuitos:\\n→ Curso Gratuito de HTML 5 - https://refatorando.com.br/lk5l\\n→ Curso  Gratuito de CSS 3 - https://refatorando.com.br/f6cj\\n→ Curso  Gratuito de Javascript - https://refatorando.com.br/mw2v\\n→ Curso  Gratuito de Typescript - https://refatorando.com.br/q80u\\n→ Curso  Gratuito de React - https://refatorando.com.br/1w86\\n→ Curso  Gratuito de Python - https://refatorando.com.br/zozx\\n→ Curso  Gratuito de Git - https://refatorando.com.br/h265\\n→ Guia Carreira Frontend- https://refatorando.com.br/1sxs\\n→ Guia Carreira Backend- https://refatorando.com.br/lobu\\n→ Guia Carreira Fullstack - https://refatorando.com.br/btnr\\n👉 Faça parte da nossa comunidade no Discord: https://discord.gg/f869jVgs5H\\n\\n⏱️ Tópicos principais:\\n00:00 - Introdução\\n00:30 - Começando seu dia\\n01:05 - Metodologias ágeis\\n01:34 - Daily\\n02:19 - Compartilhar responsabilidade\\n03:25 - Mão na massa\\n04:50 - Git/Github/Gitlab - Pull request\\n05:22 - Seu código sendo analisado\\n06:26 - Aprovação\\n07:15 - Kanban\\n07:43 - Scrum\\n08:43 - Conclusão\\n\\n🏆 VÍDEOS MAIS ASSISTIDOS DO CANAL 🏆\\n\\n5 motivos para fazer Análise e Desenvolvimento de Sistemas\\n👉 https://youtu.be/L61VM6wPFwY\\n\\nVale a pena fazer Engenharia de software?\\n👉 https://youtu.be/uUCGKJni7Nk\\n\\nTOP 5 áreas de TI mais valorizadas no Brasil hoje\\n👉 https://youtu.be/nipk9E4SJl8\\n\\nComo criar um portfólio de programação sem experiência profissional?\\n👉 https://youtu.be/UB9gbjKS4zM\\n\\n_________________________________________________________________________\\n\\nComo é o dia a dia de trabalho de um Programador\\n\\nNesse vídeo, o Roger compartilha insights sobre a rotina diária de um programador, tanto em ambientes de trabalho remoto quanto presencial. Destaca a importância das metodologias ágeis, como Scrum e Kanban, presentes em muitas empresas de TI. A reunião diária, conhecida como Daily Standup, é mencionada como uma prática comum para alinhar o time e discutir impedimentos.\\n\\nO trabalho do programador é descrito como predominantemente solitário, envolvendo longos períodos de codificação, seja na criação de interfaces, APIs, queries de banco de dados ou outras tarefas específicas da área. O uso de ferramentas como Git para versionamento de código e pull requests é destacado como parte integrante do fluxo de trabalho.\\n\\nO ciclo de revisão do código é explicado, enfatizando a importância da análise por pares, revisores seniores e arquitetos de software. O vídeo aborda a responsabilidade compartilhada após a aprovação do código, indicando que o programador não é mais o único responsável pela manutenção daquele trecho específico.\\n\\nO desenvolvimento incremental é apresentado, seja no formato de Sprints (ciclos fixos de duas a quatro semanas) ou Kanban (fluxo contínuo com fila de prioridades). O vídeo conclui com uma observação sobre a natureza desafiadora, por vezes repetitiva, mas compensadora do trabalho de programação, destacando que, embora o salário seja atrativo, a profissão pode ser solitária, enfatizando a adequação do trabalho remoto para profissionais de TI.\\n\\n_________________________________________________________________________\\n\\nCompatilhe esse vídeo com mais pessoas: https://youtu.be/5Rl2CnW5ZFc\\n\\n▶ Increva-se no canal: https://www.youtube.com/@Refatorando/featured\\n▶  Siga-nos no Instagram: http://instagram.com/refatorandobr\\n▶ Siga-nos no Linkedin: https://www.linkedin.com/company/refatorando/\\n▶ Email para contato: contato@refatorando.com',\n",
      "                                                                                                                                                                                                                                                                                                                                                                                                                                                                                                                                                                                                                                                                                                                                                                                                                                                                                                                                                                                                                                                                                                                                                                                                                                                                                                                                                                                                                                                                                                                                                                                                                                                                                                                                                                                                                                                                                                                                                                                                                                                                                                                                                                                                                                                                                                                                                                                                                                                                                                                                                                                                                                                                                                                                                                                                                                                                                                                                                                                                                                                                                                                       'PRODUTOS EM PRATA - CUPOM: portal\\n- Site:\\nhttps://morgantis.com/\\n\\n\\nPlaylist COMO O MUNDO FUNCIONA!\\nhttps://www.youtube.com/playlist?list=PLUmdRn5asopSgau5oNW2pqiL5GIyutsGV\\n\\n\\nContato com a equipe do canal para QUALQUER assunto: tecmorpheus@gmail.com\\n\\n\\n++++++ LANÇAMENTO CICLOS DE MERCADO NA PRÁTICA!!! ++++++\\nhttps://pay.kiwify.com.br/7bmvjQj\\n++++++++++++++++++++++++++++++++++++++++++++++++++++++++\\n\\n\\n- Área de Membros - Opções (Cartão, boleto e PIX) - R$ 139.90\\nhttps://pay.kiwify.com.br/coOnydO\\n\\n\\n- Curso Opções (Cartão, boleto e PIX) - R$ 219.90:\\nhttps://pay.kiwify.com.br/c5kSMfu\\nPara mais detalhes: https://www.youtube.com/watch?v=qMoiQKC-XKs\\n\\n\\n++++++++++++++++++++++++++++++++++++++++++++++++++++++++\\n\\n\\n- Curso FINANÇAS BÁSICA - VIDA FINANCEIRA SAUDÁVEL (Cartão, boleto e PIX) - R$ 89.90:\\nhttps://pay.kiwify.com.br/KDy7iYG\\n\\n\\n- Curso: Desenvolvimento Python - Ciência de Dados (Inteligência Artificial)  - COM DESCONTO!!!\\nhttps://pay.kiwify.com.br/3UxaE5R\\nPara mais detalhes: https://youtu.be/PZY2UqPY72s\\n\\n\\n------------------------------------------------------------------- \\n\\n\\n►Comunidade Telegram apenas Leitura:\\n+ Portal 137 & Portal do Conhecimento: \\nhttps://t.me/joinchat/DK6bdNxNJhZiZDBh\\n\\n\\n► Áreas de membro no Youtube: https://www.youtube.com/c/PortaldoConhecimentoEquipeMorpheus\\nClicar em \"Seja Membro\"\\n\\n\\n-------------------------------------------------------------------\\n► NOVO CANAL: Portal 137\\nhttps://www.youtube.com/channel/UCOJ6VJ-mSIw789_N-0YwYRw\\n\\n\\n------------------------------------------------------------------- \\nDEMAIS MÍDIAS:\\n►Facebook:\\nhttps://www.facebook.com/PortaldoConhecimento137\\n► Twitter:\\nhttps://twitter.com/PortaldoConhec1\\n► Insta:\\nhttps://www.instagram.com/portalconhe/\\n\\n\\n#etf #btc #bitcoin #blackrock #vanguard #fed #sec #aprovados #inflación #eua #brasil #jpmorganchase #ethereum #eth #trump #portal #conhecimento #137 #morfeus #morpheus #canal #biden #street #state #FOMC #juros #inflação #2008 #GFC',\n",
      "                                                                                                                                                                                                                                                                                                                                                                                                                                                                                                                                                                                                                                                                                                                                                                                                                                                                                                                                                                                                                                                                                                                                                                                                                                                                                                                                                                                                                                                                                                                                                                                                                                                                                                                                                                                                                                                                                                                                                                                                                                                                                                                                                                                                                                                                                                                                                                                                                                                                                                                                                                                                                                                                                                                                                                                                                                                                                                                                                                                                                                                                                                                                                                                                                                                                                                                                                                                                                                                                                                                                                                                                                                                                                                                                                                                                                                                                                                                                                                                                                                                                                                                                                                                                                                                                                                                                                                                                                                                                                                                                                                                                                                                                                                                                                                                                                                                                                                                                                                                                           'O exemplo é com ROE de bancos, mas você pode ir muito além e escolher os indicadores e ativos que quiser, além de vários outros dados.\\n\\nCompre sua chave no link:\\nhttps://fintz.com.br/#/precos',\n",
      "                                                                                                                                                                                                                                                                                                                                                                                                                                                                                                                                                                                                                                                                                                                                                                                                                                                                                                                                                                                                                                                                                                                                                                                                                                                                                                                                                                                                                                                                                                                                                                                                                                                                                                                                                                                                                                                                                                                                                                                                                                                                                                                                                                                                                                                                                                                                                                                                                                                                                                                                                                                                                                                                                                                                                                                                                                                                                                                                                                                                                                                                                                                                                                                                                                                                                                                                                                                                                                                                                                                                                                                                                                                                                                                                                                                                                                                                                                                                                                                                                                                                                                                                                                                                                                                                                                                                                                                                                                                                                                                                                                                                                                                                                                                                                                                                                                               'No Python, temos duas estruturas de dados muito parecidas: as tuplas e as listas. Ambas são sequências de dados, mas há uma diferença fundamental entre elas: as tuplas são imutáveis, enquanto as listas são mutáveis.\\n\\nNeste vídeo, vamos discutir as vantagens e desvantagens de cada uma dessas estruturas de dados e quando é melhor usar uma ou outra.',\n",
      "                                                                                                                                                                                                                                                                                                                                                                                                                                                                                                                                                                                                                                                                                                                                                                                                                                                                                                                                                                                                                                                                                                                                                                                                                                                                                                                                                                                                                                                                                                                                                                                                                                                                                                                                                                                                                                                                                                                                                                                                                                                                                                                                                                                                                                                                                                                                                                                                                                                                                                                                                                                                                                                                                                                                                                                                                                                                                                                                                                                                                                                               'Linkedin do Adriano (eu kkk)\\nhttps://www.linkedin.com/in/adriano-torres-612a2054/\\n\\nNosso grupo do Whatsapp\\nhttps://chat.whatsapp.com/JSyyDiifSsCLFk1KuBvgJ2\\n\\nCurso Azure Básico : AZ-900\\nhttps://www.udemy.com/course/azure-basico-az-900-hands-on-simulado-com-30-questoes/?referralCode=E0336AF298B6938AE51A\\n\\nSiga-me no Instagram para ficar por dentro do mundo Data e nunca perder nossos vídeos e Lives\\nhttps://www.instagram.com/adrianotorres2307/?r=nametag\\n\\n#python #spark #data #bigdata #games #dados #análise #algoritmo #machinelearning #datascience #dataengineering #dataanalytics #azure #aws #migration #gcp #engineering #rh #recruiterjobs #recrutamento #humano #duvidas #tecnologia #dev #devops #programador #programming #programmer #carreira #transição #exterior #job #jobs #dolar #dólar #dolares #europe #euro #eurovision #contractor #contract #contracts #contractors #imposto #taxas #important #livros #livro #livrodigital #livrosgrátis #vida #lazer #curso #canada #europa #eua #norte #america #hadoop #sparkteam #sparklovers #sparkpower #sparky #yarn #kafka #skoopie #lambdaexpression #lambda #ubuntu #linux #centos #windows #vm #vmware #pc #notebook #hardware #aovivo #online #live #youtubeshorts #youtube #videos #interview #internet #international #internacional #inteligenciaartificial #machine #batepapo #estadosunidos #virtualmachines #learning #oracle #sql #sql_server #sqlqueries #sqlserver #sqlite #sqlforbeginners #bootcamp #work #workflow #workflows #automation #java #javascrpit #datafactory #freelancing #freelance #freelancer #obs #cloud #clouds #cloudcomputing #cloudmining #cloudy #etl #elt \\n#BarulhoDeChuva #ChuvaParaDormir #SomDeChuva #ASMRchuva\\n#barulhodechuva, #chuvaparadormir, #somdechuva, #chuva, #barulhodechuvaparadormir, #sonsdechuvaparadormir, #somdechuvaparadormir, #chuvaetrovoadaparadormir, #asmrchuva, #somparadormir, #sonsdechuva, #barulhoparadormir, #rainsounds, #sonsparadormir, #somdachuva, #lluvia, #somdechuvaetrovaoparadormir, #rainsoundsforsleeping, #musicaparadormir, #chuvaetrovoadasparadormir, #dormir',\n",
      "                                                                                                                                                                                                                                                                                                                                                                                                                                          'Concurso Nacional Unificado (CNU) em 2024 abriu mais de 6.000 vagas por meio de oito editais, um para cada bloco temático, entre elas vagas para Estatística, Ciência de Dados, EPPGG, Métodos Quantitativos. Neste vídeo, a Kizzy analisa o conteúdo cobrado no bloco 2 de Tecnologia, Informacão e Dados e dá dicas de materiais que ela usaria para estudar se fosse se preparar para esta oportunidade.\\n\\nDe Aprendizagem de Máquina, Banco de Dados, Big Data, Estrutura de Dados e Algoritmos a ferramentas de manipulação de dados e linguagens de programação a... desenvolvimento mobile? \\n\\n🚨 Link para os materiais de estudo: https://github.com/programacaodinamica/edital-cnu-bloco2\\nEdital Concurso Nacional Unificado (CNU) 2023: https://www.gov.br/gestao/pt-br/concursonacional/editais/edital-cpnu-bloco-2-10jan2024.pdf\\n\\nSumário do vídeo:\\n0:00 Intro\\n0:30 Apresentação\\n01:22 Blocos temáticos do CNU\\n01:37 Edital Bloco 2\\n02:50 Como serão as provas?\\n03:22 Vagas ofertadas\\n05:18 Cargos e salários\\n07:05 Conteúdos progamáticos\\n09:00 Eixos temáticos e pesos\\n09:50 Material de estudo gratuito CNU\\n\\n▶️ Outros conteúdos que você pode se interessar:\\n1. Quantas LINGUAGENS de programação EU SEI? https://youtu.be/Ab33948mbW8\\n2. Aprendizado de Máquina | Machine Learning em Python: https://youtube.com/playlist?list=PL5TJqBvpXQv5CBxLkdqmou_86syFK7U3Q\\n3. Análise e Projeto de Algoritmos: https://youtube.com/playlist?list=PL5TJqBvpXQv7KCYOIXzPnGac4t_R8MQSG\\n4. Curso básico de SQL para Análise de Dados: https://youtube.com/playlist?list=PL5TJqBvpXQv5n1N15kcK1m9oKJm_cv-m6\\n5. Ciência de Dados no concurso do Banco do Brasil | Análise do Edital com Dicas de Materiais de Estudo: https://youtu.be/c6tE8uevzbs\\n\\nO Concurso Público Nacional Unificado é um modelo inovador de seleção de servidores públicos, criado pelo Ministério da Gestão e da Inovação em Serviços Públicos. O novo modelo consiste na realização conjunta de concursos públicos para o provimento de cargos públicos efetivos no âmbito dos órgãos e das entidades da Administração Pública Federal direta, autárquica e fundacional, mediante a aplicação simultânea de provas em todos os Estados e no Distrito Federal.\\n\\nO objetivo é promover igualdade de oportunidades de acesso aos cargos públicos efetivos; padronizar procedimentos na aplicação das provas; aprimorar os métodos de seleção de servidores públicos, de modo a priorizar as qualificações necessárias para o desempenho das atividades inerentes ao setor público; e zelar pelo princípio da impessoalidade na seleção dos candidatos em todas as fases e etapas do certame.\\nFonte: https://www.gov.br/gestao/pt-br/concursonacional\\n\\nAcesse os editais de cada um dos oito blocos temáticos: https://www.gov.br/gestao/pt-br/concursonacional/editais/editais\\n\\n📚  Livro para estudar Bancos de Dados - https://amzn.to/3Hjjusc\\n📚 Livros recomendados de Data Science: https://amzn.to/2XZyxUr\\n📚 Livros de Algoritmos e Estruturas de Dados: https://amzn.to/3d5wK4m\\nSetUp - Equipamentos: https://amzn.to/37Cg3N2\\n\\n🟣 Canal na Twitch para lives: https://www.twitch.tv/pgdinamica\\n🟦 Canal do Telegram para receber todos os vídeos: https://t.me/pgdinamica\\n\\n🥰 Se você gosta do nosso trabalho e acha relevante a nossa atuação no Youtube, considere nos apoiar se tornando membro do canal: https://www.youtube.com/programacaodinamica/join\\n\\n✉️ E-mails:\\n– Propostas comerciais: pgdinamica@brunch.ag\\n– Demais assuntos: contato@programacaodinamica.com.br\\n\\n👩🏾\\u200d💻👨🏾\\u200d💻 Confira mais conteúdo em nosso blog: https://medium.com/programacaodinamica\\n\\n🔥 Faça parte da comunidade gratuita Programação Mais Dinâmica: https://bit.ly/pgsparkle (baixe o app e entre na comunidade)\\n\\nTikTok: @pgdinamica\\n\\n📸 Nos siga no Instagram: https://instagram.com/pgdinamica \\n📸 @kizzy_terra  @hallpaz\\n\\n🐦 Nos siga no Twitter: https://twitter.com/pgdinamica \\n🐦 @kizzy_terra @hallpaz\\n\\n* Curta a Programação Dinâmica no facebook: fb.com/pgdinamica\\n* Nosso repositório no Github: github.com/programacaodinamica\\n* Confira os artigos no Python Café: pythoncafe.com.br\\n\\nTags: programação dinâmica,cientista de dados, python para concursos, ciência de dados para concursos, dados, concurso nacional unificado, Ciência de Dados no Concurso Nacional Unificado (CNU), concurso tecnologia 2024, estatística CNU, métodos quantitativos CNU, concurso cientista de dados, IA, concurso IA, cnu bloco 2, estatística cnu, métodos quantitativos cnu, python cnu, dicas cnu, material de estudo cnu, python, programação, CNU, ciência de dados CNU, material de estudo gratuito cnu, ENEM dos concursos.',\n",
      " ...\n",
      "                                                                                                                                                                                                                                                                                                                                                                                                                                                                                                                                                                                                                                                                                            'DC: ale_baguncinha\\nIP FENIX :  mtasa://191.96.225.219:23583\\n\\n┏━━━━━━━━━━━━━━━━┓\\n        📌TAGS IGNORE 📌\\n┗━━━━━━━━━━━━━━━━┛\\n#GTASA\\u200b\\u200b\\u200b\\u200b\\u200b\\u200b #gtamtarp GTA\\u200b\\u200b\\u200b\\u200b\\u200b\\u200b #FiveM\\u200b\\u200b\\u200b\\u200b\\u200b\\u200b #MTA\\u200b\\u200b\\u200b\\u200b\\u200b\\u200b #tropado5 #tropadocinco #zoff #zoffzin\\n#comoganhardinheiro #comoserverificado #zoffsonhador #555roleplay\\n #DestinyRP\\u200b\\u200b\\u200b #DestinyRolePlay\\u200b\\u200b\\u200b\\u200b\\u200b\\u200b #Lowriders #NatalFiveM #GTAMTARP #RPDestiny #Natal #samp  #SAMP #GTASAMP #modsmta #mtanatal #especialnatal #sorteio \\n#MTA #FIVEM #gtarp  #MTA #GTASA #GTAV #destinyroleplay #destinyrp\\n#Destinyroleplay destiny\\n#destinyroleplay\\nLiVE\\nMta rp ao vivo\\npc fraco #recrutamentomta #segundafase   #segundafasebvo #sdfernando #tropado5 #tropadocinco #zoff  #zoffzin  #comoganhardinheiro #comoserverificado #zoffsonhador  #555roleplay  #GTASA\\u200b\\u200b\\u200b\\u200b\\u200b\\u200b #GTA\\u200b\\u200b\\u200b\\u200b\\u200b\\u200b #fivem \\u200b\\u200b\\u200b\\u200b\\u200b\\u200b #mtarppcfraco \\u200b\\u200b\\u200b\\u200b\\u200b\\u200b #DestinyRP\\u200b\\u200b\\u200b #MTA #FIVEM #GTARP #MTA #GTASA #GTAV #destinyroleplay #destinyrp#DestinyRolePlay\\u200b\\u200b\\u200b\\u200b\\u200b\\u200b #Lowriders #NatalFiveM #GTAMTARP #RPDestiny #Natal #Samp #SAMP #GTASAMP #modsmta #mtanatal #especialnatal #sorteio #Destinyroleplay destiny #destinyroleplay  #litoralrp  #destinyroleplay live gta/ live mta/ live gta rp #cidadealtarp #França #SK2 #loud #fivemdepobre #gtarp #roleplay #mtarp #mta #gtasa #tdl #tdj #grota #pm #gameplay #live #FIVEM #cidadealtarp  #destinyroleplay  #gtaonline2021  #fivem de pobre #gta san andreas 2021 #remasterais . MTA RP #gta   MTA RP #GTA SA #FIVEM #GTA V RP #SAMU MTA #corp  MTA #mta  AO VIVO #mtarp  RP AO VIVO #roleplay  #paulinhooloko   #citizenmassinha   #fivempcfraco   #modgrafico   #kushti  #gtaonline2021  #pvp Novo servidor mta rp Gta SAN Andreas #BVO #GTASA #MTA #RP assalto a lojinha mta assalto mta rp sequestro mta  #piuzinho #gta #genrl #antlag #antrp #packmta gta mta rpsamuca favela city,highlight favela city,melhores momentos sampfavela city,city,city of god,dangerous favela brazil,dangerous favela brasil,most dangerous favela brazil,favelas brazil documentary,favelacity,jagatá novela,city of god brazil,the real city of god,cities,cities:skylines,... Highlights MTA MTA RP HIGHLIGHTS qbug litefoot tripleswitch longlitefoot \\nmacrolitefoot macroqbug macrolonglitefoot macrotripleswitch highlights RP Logitech Macrologitech Highlights MTA #x4zinn roi? tags ignorem: mta tactics,tactics mta,tactics,mta,n1 tactics,tactics fzk,fzk tactics,tactics frags,mta sa,fzk tactics frags,tactics highlight,mta top gta,random frags tactics,mta top-gta,fzk highlights tactics,particle mta,mata mata mta,h2k clan mta,mta hack,mta macro,mta x1,mta gz,bcg mta,pvp mta,fzk mta,feet mta,mta qbug,mta bugs,mta h1z1... mta,highlights,mta highlights,highlights mta,mta rp,mta bcg highlights,pubg highlights mta,highlight mta,highlight de mta,highlight samuca mta,samucamta highlights,highlight free fire mta,fivem highlights,mtarp,xl mta,dd mta,mdd,melhores momentos mta,mta bcg,pvp mta,wild mta,1tap mta,pubg mta,mta 2021,raay mta,rayan mta,samuca mta,[wild] mta,xlteam mta,mtasa dd,mtasa cw,stealth mta,mta tactics,clan war mta,mta camp pubg mta,mta bcg,bcg,bcg mta,mta rp,mtarp,mta,melhores fugas mta rp,bcg fivem,xlteam mta,mta online,live de mta,mta tactics,stealth mta,bcg servidor,mta camp pubg,litefoot mta,mta litefoot\\n#pvpmontage #grandtheftauto #grandtheftautosanandreas #wiu #wiu30 #30praum #jinglebell #jinglebells #natal #christmas #tatics #edit #montageFPS,AUMENTAR FPS,MTA,PC FRACO,MTA LEVE,GTA SAN RP,GTA RP,ROLEPLAY,FPS MTA,GTA SAN FPS,AUMENTAR FPS,MTA,PC FRACO,MTA LEVE,GTA SAN RP,GTA RP,ROLEPLAY,FPS MTA,GTA SAN FPS,AUMENTAR FPS,COMO RODAR MTA COM PC FRACO,COMO RODAR FIVEM COM PC FRACO,MTA 2 DE RAM,Mutano 444,Pastor Amor do Mutano,MTA PC FRACO. #samp documentary,favelacity,jagatá novela,city of god brazil,the real city of god,cities,cities:skylines,... Highlights MTA MTA RP HIGHLIGHTS qbug litefoot tripleswitch longlitefoot macrolitefoot macroqbug macrolonglitefoot macrotripleswitch highlights RP Logitech Macrologitech Highlights MTA tags ignorem: mta tactics,tactics mta,tactics,mta,n1 tactics,tactics frags,mta sa,fzk #2gb',\n",
      "                                                                                                                                                                                                                                                                                                                                                                                                                                                                                                                                                                                                                                                                                                                                                                                                                                                                                                                                                                                                                                                                                                                                                                                                                                                                                                                                                                                                                                                                                                                                                                                                                                                                                                                                                                                                                                                                                                                                                                                                                                                                                                                                                                                             'Olá amigos bom dia, boa tarde ou boa noite!\\nJever e Cauãzinho aqui e hoje vamos trazer para vocês esta maravilha que é o Firefox Developer Edition.\\nMas antes te pedimos que nos ajude com um like, inscrição comentárie e compartilhamento!\\n\\nO que é ?\\n\\nO Firefox Developer Edition é uma versão especial do navegador web Firefox, desenvolvida pela Mozilla, que é projetada especificamente para desenvolvedores web e profissionais de tecnologia. Ele oferece várias ferramentas e recursos destinados a facilitar o desenvolvimento, teste e depuração de páginas da web e aplicativos.Alguns dos recursos chave do Firefox Developer Edition incluem:    Console do Desenvolvedor Aprimorado: Oferece um console de avançado des paraproporção para o desenvolvedor para página, depurar JavaScript e executars interativo.    Ferramentas de Inspeção: Possui ferramentas de inspeção de código, permitindo que os desenvolvedores examinem e modifiquem o HTML, CSS e JavaScript em tempo real.    Suporte para WebExtensions: Facilita a criação e teste de extensões para o Firefox, permitindo que os desenvolvedores personalizem e aprimorem a funcionalidade do navegador.    Compatibilidade com Tecnologias Web Modernas: Inclui suporte para as últimas tecnologias web, como CSS Grid, Flexbox e WebGL, garantindo que os desenvolvedores possam trabalhar com as últimas especificações.    Ferramentas de Performance: Oferece ferramentas para analisar o desempenho das páginas da web, identificando gargalos e otimizando o código para uma experiência mais rápida.    Suporte a Serviços Web e Ferramentas de Depuração: Oferece suporte para a criação e teste de serviços web, além de ferramentas de depuração avançadas para facilitar a identificação e correção de problemas no código.Lembre-se de que as versões e recursos específicos podem variar ao longo do tempo, já que o Firefox Developer Edition é atualizado regularmente para incluir as últimas melhorias e inovações para desenvolvedores web.\\n#Como_Instalar ? \\n\\ninstalador.sh\\n\"\\n\\n#!/bin/bashwget https://download-installer.cdn.mozilla.net/pub/devedition/releases/122.0b4/linux-x86_64/pt-BR/firefox-122.0b4.tar.bz2tar -xvjf firefox-122.0b4.tar.bz2find firefox -type f -exec chmod +x {} \\\\;rm -r firefox-122.0b4.tar.bz2mkdir /userdata/roms/appsmv firefox /userdata/roms/apps/userdata/roms/apps/firefox/./firefox\\n\\n\\n\"\\n\\n\\nFirefox.desktop\\n\\n\"\\n\\n\\n[Desktop Entry]Version=1.0Icon=/userdata/roms/apps/firefox/icons/firefox.pngExec=/userdata/roms/apps/firefox/./firefoxTerminal=falseType=ApplicationCategories=Game;batocera.linux;Name=FireFox Developer Edition\\n\\n\\n\"\\n\\nLogo.png link :\\n\\n\"\\n\\nhttps://www.google.com/url?sa=i&url=https%3A%2F%2Fen.m.wikipedia.org%2Fwiki%2FFile%3AFirefox_Developer_Edition_logo%2C_2019.svg&psig=AOvVaw2QyyxLDrWbwsodxNMvz8Wc&ust=1705689869226000&source=images&cd=vfe&opi=89978449&ved=0CBIQjRxqFwoTCKjVn4nM54MDFQAAAAAdAAAAABAD\\n\\n\"',\n",
      " '✦ Deixa o Like Aí Lindo(a) ♥️\\n\\n▪ 📸 Meu Instagram: https://www.instagram.com/bruuninz/\\n▪ 🚀 Discord Do Canal: https://discord.gg/dMYDPzREPa\\n▪ 🔫 Discord Fraternity #TEAM: https://dsc.gg/fraternity\\n\\n▪ ⚙️ Config Do PC:\\nINTEL I5-2400 / HD 500 GB / 8 GB RAM / SEM PLACA DE VÍDEO\\n\\n✦ Iluminado Por Deus ♥️\\n\\n▂▃▂▃▂▂▃▂TAGS IGNOREM▂▃▂▃▂▃▂\\n#live #mta #mtarp #mtapcfraco xtr xtrzin MTA TAG DO xtr #fortniteGameplay #fortnitepc #pcfraco #Fortnite highlights #highlights #freefire #fortnitegamer #Dicas #iniciantes #Dicasfortnite #fortniteworldcup dicas Básicas para iniciantes fortnite #Tournamment #campeonato leleleo #shorts #fivemSolo gameplay fortnite Pc fracoSetup Setup fortnite Setup fraco Setup caro #mta #mtalive #mtarp #hypemta #pcfracoliveobs #destiny #destinyrp #fugas #melhoresfugas#btz #fivemdepobre#fivem #rpdefamiliatags ignorem: bmr,rp,bmr 3,gta rp,mta rp,anti rp,bmr 1,bmr 4,bmr 5,gta mta rp,five m rp,connor rp,rp mta,rp gta,ant rp,gta 5 rp,samp rp,gta sa rp,rp gta sa,delux rp,mta rp fuga,gta rp fuga,fuga gta rp,policia rp,bmr2,#bmr,bmr1,bmr3,bmr4,bmr5,gta sa mta rp,piuzinho rp,cidade alta rp,gta rp vida real,servidor de mta rp,gta mta rp dando fugafuga de... tags ignorem : favela city,favela,favela city mta,favela city camp,samuca favela city,highlight favela city,melhores momentos favela city,city,city of god,dangerous favela brazil,dangerous favela brasil,most dangerous favela brazil,favelas brazil documentary,favelacity,jagatá novela,city of god brazil,the real city of god,cities,cities:skylines,... Highlights MTA MTA RP HIGHLIGHTS qbug litefoot tripleswitch longlitefoot macrolitefoot macroqbug macrolonglitefoot macrotripleswitch highlights RP Logitech Macrologitech Highlights MTA #x4zinn roi? tags ignorem: mta tactics,tactics mta,tactics,mta,n1 tactics,tactics fzk,fzk tactics,tactics frags,mta sa,fzk tactics frags,tactics highlight,mta top gta,random frags tactics,mta top-gta,fzk highlights tactics,particle mta,mata mata mta,h2k clan mta,mta hack,mta macro,mta x1,mta gz,bcg mta,pvp mta,fzk mta,feet mta,mta qbug,mta bugs,mta h1z1... mta,highlights,mta highlights,highlights mta,mta rp,mta bcg highlights,pubg highlights mta,highlight mta,highlight de mta,highlight samuca mta,samucamta highlights,highlight free fire mta,fivem highlights,mtarp,xl mta,dd mta,mta dd,melhores momentos mta,mta bcg,pvp mta,wild mta,1tap mta,pubg mta,mta 2021,raay mta,rayan mta,samuca mta,[wild] mta,xlteam mta,mtasa dd,mtasa cw,stealth mta,mta tactics,clan war mta,mta camp pubg mta,mta bcg,bcg,bcg mta,mta rp,mtarp,pubg mta,policia mta,mta bcg highlights,live mta,mta fivem,como tirar lag mta,mta sem lag,mta com mods,vídeo de mta,mta vida real,gameplay mta,xl mta,dup pubg mta,pvp mta,pvp bcg,mta bmr,live ao vivo mta rp,mtasa,kadu mta,fuga mta,melhores fugas mta rp,bcg fivem,xlteam mta,mta online,live de mta,mta tactics,stealth mta,bcg servidor,mta camp pubg,litefoot mta,mta litefootoverdose Pack overdose GENRL Pack Genrl sombra Pack sombra MTA Pack Meu pack de MTA Pack GENRL GTA 3 Anti lag #genrl  #antlag  #antrp  #packmta. Anti lag pra Pc fraco GENRL overdose sombra ícone luas GTA3.IMG banimento MTA Ban ZAP Rdm vdm ZAPLIGHTS #mutano444 mta,camp,lifefoot,hack,dll pramta,fivemFIVEMDEPOBRE, GTA MTA RP, mta,gta mta,mta rp,gta mta rp,mta roleplay,mtatv,mta bug,mta live,mta elevator,mta resources,sar mta,mta gate yapımı,mta roleplay pd,gta mta roleplay download,mta solo,mta drift,mta voice,mta five m,mta helper,mta russia,servidor de mta,mta,novo servidor de mta,mta rp,mta roleplay,melhor servidor de mta,melhor servidor de mta rp,o melhor servidor de mta rp,melhor servidor de mta 2020,melhor servidor do mta,o melhor servidor de mta rp 2020,server de rp mta,melhor servidor de mta brasileiro 2020,mejores servidores de mta sa,servidores mta sa,server leve de mta,melhor servidor de mta para pc fraco 2020,melhor servidor mta,servidor de mta leve,bope mta,mta five m,servidor novo de mta,servidor de mta leve 2020,servidor de mta,novo servidor de mta,mta rp,mta roleplay,novo servidor de mta rp,mta,novo servidor,bope mta,novo servidor de mta rp pc fraco,mta five m,destiny mta,novo servidor de rp do gta mta brasileiro,novo servidor mta,melhor servidor mta,servidor de mta rp,servidor de mta br,servidor de mta leve,melhor servidor de mta,server leve de mta,servidor de mta leve 2020,servidor de mta roleplay,melhor servidor de mta rp,melhor servidor mta pc fraco,o melhor servidor de mta rp,mta brasil,mta,mta roleplay brasil,gta mta roleplay brasil,mta rp brasil,mta brasil vida boa,mta rp,gta mta rp,mta sa,roleplay brasil,gta mta rp server brasileiro,gta mta,novo servidor de rp do gta mta brasileiro,gta mta rp pc fraco,gta mta roleplay,roleplay mta,mta viatura,servidor mta que roda em pc fraco,gta mta rp server rp,mta,servidor de mta,gta mta rp novo server,mta rp,melhor server,novo servidor de mta,mta roleplay,server de rp mta,ssamp; gta 4 para android; como instalar mod textura no gta sa androisamp android servidor br, novo servidor Br samp android hack',\n",
      "                                                                                                                                                                                                                                                                                                                                                                                                                                                                                                                                                                                                                                                                                                                                                                                                                                                                                                                                                                                                                                                                                                                                                                                                                                                                                                                                                                                                                                                                                                                                                                                                                                                                                                                                                                                                                                                                                                                                                                                                                                                                                                                                                                                                                                                                                                                                                                                                                                                                                                                                                                                                                                                                                                                                                                                                                                                                                                                                                                                                                                                                                                                                                                                                                                                                                                                                                                                                                                                                                                                                                                                           \"Let's Play / Detonado The Legend of Zelda: Breath of the Wild\\n[Completo ~ 100% ~ Pt-Br ~ Progresso na descrição]\\nConsole: Nintendo Wii U / Nintendo Switch - Ano de Lançamento: 2017\\nVersão do detonado: Nintendo Switch\\n\\n---------------------------------------\\xad-----------------------------------------\\xad--\\nPlanilha de progresso de todo o detonado: https://docs.google.com/spreadsheets/d/155Oh9ulzAFPHYTZQHFPmcgNz3lwzDeFW_bMvwH8TPhk\\n\\nKorok Seeds encontradas nesse episódio: 0\\nKorok Seeds encontradas até agora: 18 / 900\\nShrines concluídas nesse episódio: 1\\nShrines concluídas até agora: 9 / 120 (Ta'loh Naeg 5:57)\\nLocalizações encontradas nesse episódio: 1\\nLocalizações encontradas até agora: 12 / 170 (Great Fairy Fountain 14:08)\\n\\nSide Quest iniciada nesse episódio: Koko's Kitchen 27:58, Cooking with Koko 30:43, Koko Cuisine 33:17, Koko's Specialty 35:36, Playtime with Cottla 37:03\\nSide Quest concluída nesse episódio: 10 / 76 (Koko's Kitchen 29:11, Cooking with Koko 30:47, Koko Cuisine 33:22, Koko's Specialty 35:41, Playtime with Cottla 37:46)\\nSheikah Towers ativadas nesse episódio: 0\\nSheikah Towers ativadas até agora: 2 / 15\\n---------------------------------------\\xad-----------------------------------------\\xad--\\n\\nClique aqui para se inscrever ► http://bit.ly/Torne-seUmaLenda\\nTwitch ► https://www.twitch.tv/RogerzXD\\nDiscord ► https://discord.gg/EB7nP7w4Kc\\nDoações ► https://livepix.gg/rogerz\\n\\nTodo e qualquer tipo de feedback será apreciado, e para ficarem ligados em mais, inscrevam-se no canal. Muito obrigado!\",\n",
      "                                                                                                                                                                                                                                                                                                                                                                                                                                                                                                                                                                                                                                                                                                                                                                                                                                                                                                                                                                                                                                                                                                                                                                                                                                                                                                                                                                                                                                                                                                                                                                                                                                                                                                                                                                                                                                                                                                                                                                                                                                                                                                                                                                                                                                                                                                                                                                                                                                                                                                                                                                                                                                                                                                                                                                                                                                                                                                                                                                                                                                                                                                                                                                                                                                                                                                                                                                                                                                                                                                                                                                                                                                                                                                                                                                                                                                                                                                                                                                                                                                                                                                                                                                                                                                                                                                                                                                                                                                                                                                                                                                                                                                                                                                                                                                                                       'COMO FAZER VIDEO VIRAL PARA TIKTOK SEM APARECER\\nSE VOCÊ ESTA EMBUSCA DE UMA FONTE DE RENDA AQUI ESTAO ALGUMAS IDEIS DE CURSO COM CERTIFICADO\\nCURSO DE MANICURE https://go.hotmart.com/O90054544G 2024\\nBRIGADEIRO GOUMERThttps://go.hotmart.com/X90054732A\\nCursos de Excel e Power BI https://go.hotmart.com/M90054837H\\nCURSO REDE E DISPLEY VENDA COMO AFILIADO https://go.hotmart.com/J89268650B',\n",
      "                                                                                                                                                                                                                                                                                                                                                                                                                                                                                                                                                                                                                                                                                                                                                                                                                                                                                                                                                                                                                                                                                                                                                                                                                                                                                                                                                                                                                                                                                                                                                                                                                                                                                                                                                                                                                                                                                                                                                                                                                                                                                                                                                                                                                                                                                                                                                                                                                                                                                                                                                                                                                                                                                                                                                                                                                                                                                                                                                                                                                                                                                                                                                                                                                                                                                                                                                                                                                                                                                                                                                                                                                                                                                                                                                                                                                                                                                                                                                                            'Teste da RX580 com xeon 2667 v4 depois das atualizações de dezembro/23 do Cities Skylines 2 com 8 mil habitantes.\\n\\nCapitulos:\\n00:00:01 - Inicio\\n00:39:00 - 1000 Habitantes\\n00:50:00 - 2000 Habitantes\\n01:01:00 - 3000 Habitantes\\n01:11:00 - 4000 Habitantes\\n01:28:50 - 5000 Habitantes\\n01:46:45 - 6000 Habitantes\\n02:02:30 - 7000 Habitantes\\n02:23:25 - 8000 Habitantes\\n\\n#rx580 \\n#citiesskylines2 \\n#citiesskylines \\n#gameplay \\n\\n\\nCities: Skylines 2 é um jogo de construção de cidade single player produzido pela Colossal Order e publicado pela Paradox Interactive, lançado em 24 de outubro de 2023 para PC . Os jogadores se engajam no planejamento urbano, controlando o zoneamento, a construção de estradas, a tributação, os serviços públicos e o transporte público da cidade. Os jogadores gerenciam ainda seu orçamento, população, saúde, felicidade, emprego, poluição (da terra, água e ruído), fluxo de tráfego e outros fatores.\\n\\n\\nConfiguração do PC:\\nPlaca mãe: MR9APROMax\\nProcessador: Xeon E5-2667 v4\\nMemória: DDR4 - 48GB Ram 2666mhz\\nPlaca de Video: RX580 2048 8GB\\nArmazenamento: 512GB Nvme / 1T SSD\\nFonte: ATX GameMax GS600\\nTeclado: Skylion K87\\nMouse RedDragon M711',\n",
      "                                                                                                                                                                                                                                                                                                                                                                                                                                                                                                                                                                                                                                                                                                                                                                                                                                                                                                                                                                                                                                                                                                                                                                                                                                                                                                                                                                                                                                                                                                                                                                                                                                                                                                                                                                                                                                                                                                                                                                                                                                                                                                                                                                                                                                                                                                                                                                                                                                                                                                                                                                                                                                                                                                                                                                                                                                                                                                                                                                                                                                                                                                                                                                                                                                                                                                                                                                                                                                                                                                                                                                                                                                                                                                     'Como é um Setup Linuxer (feat DioLinux)\\n\\nOi, esse é um recorte de uma de nossas Lives, todo sábado as 20h fazemos REACT de vídeos Tech aqui no canal, se você gostou inscreve-se pra participar da próxima!\\n\\nLinks Material de Apoio:\\n\\nVideo Original do @Diolinux: https://youtu.be/xsEokje7QNY?si=La61bFhWQ6M_kK14\\n\\nApoie o Canal:\\n   PIX Mensagem (uma vez) -  https://livepix.gg/canalblackit\\n   PIX Assinatura (mensal) - https://livepix.gg/canalblackit/assinatura\\n   Aliexpress - https://s.click.aliexpress.com/e/_DC6mCFt\\n   Apoia-se - Em Breve!\\n   Seja Membro - https://www.youtube.com/c/CanalBlackIT/join\\n\\nEste Canal tem por missão compartilhar conhecimento, e fomentar a inclusão de pessoas Pretas, Periféricas, LGBTQIA+, Com necessidades especiais, Mulheres CIS, Pessoas TRANS, Não Bináries e todas as minorias que não tem as mesmas oportunidades nesse nosso mercado de TI.\\n\\nAbordamos temas de LABs caseiros para você treinar na sua casa as tecnologias de Data Center, da forma mais acessível possível, assim como NAS, Storage, Redes, IP, VPN, Firewall, Virtualização, Backup, Segurança, LAN e WAN, assim como outras verticais do conhecimento de TI.\\n\\nSei que não é fácil, nem é simples, meu objetivo é te ajudar a estudar, pra que você possa deixar de ser o oprimido/oprimida nesse mercado, e possa desenvolver todo o potência que eu acredito que você tem, mas que infelizmente provavelmente não te deram oportunidade para brilhar.',\n",
      "                                                                                                                                                                                                                                                                                                                                                                                                                                                                                                                                                                                                                                                                                                                                                                                                                                                                                                                                                                                                                                                                                                                                                                                                                                                                                                                                                                                                                                                                                                                                                                                                                                                                                                                                                                                                                                                                                                                                                                                                                                                                                                                                                                                                                                                                                                                                                                                                                                                                                                                                                                                                                                                                                                                                                                                                                                                                                                                                                                                                                                                                                                                                                                                                                                                                                                    '🔊  REINVENÇÃO 2024: Garanta a nova assinatura ilimitada 9.0. 👉🏽  Clique aqui: https://bit.ly/GranReinvencao2024\\n\\nInício:\\n\\n SAIBA MAIS SOBRE O CONCURSO PF ADMINISTRATIVO:\\n- Veja mais sobre o Concurso PF Administrativo aqui: https://blog.grancursosonline.com.br/concurso-pf-administrativo-nova-solicitacao/ \\n- Conheça os cursos especiais do Concurso PF Administrativo: https://bit.ly/42JZPg8\\n\\nSAIBA MAIS SOBRE O CONCURSO PRF:\\n- Veja mais sobre o Concurso PRF aqui: https://blog.grancursosonline.com.br/concurso-prf/\\n- Conheça os cursos especiais do Concurso PRF: https://bit.ly/3H9CBaD\\n\\nEstude para Todas as áreas de Concursos Públicos e provas profissionais (OAB, CFC, Residências): Mude de vida com a plataforma mais moderna, a videoaula mais didática e o PDF que mais aprova no país! \\n\\n❗ PLANOS PARA O CONCURSEIRO:\\nAssinatura Ilimitada 9.0 com mais de 35.000 cursos: https://bit.ly/AssinaturaIlimitada\\n➔ Com a Gran Garantia, se não gostar em até 30 dias, DEVOLVEMOS seu dinheiro sem burocracia! \\n\\n📖 MATERIAIS GRATUITOS:\\n➔ Confira nossos materiais gratuitos: https://gran.gratis/MaterialGratuito\\n\\nACOMPANHE O GRAN CURSOS ONLINE E FIQUE POR DENTRO DOS CONCURSOS:\\nDeixe o seu like e Assine o nosso canal para muito mais conteúdo GRATUITO e EXCLUSIVO todos os dias: ⇒\\xa0https://gran.gratis/AssineGranYouTube\\n➔ O melhor e maior portal de informações sobre concursos públicos. Acesse já: https://gran.gratis/blogGCO\\n➔ Acompanhe pelo Facebook: https://gran.gratis/GranOnline_Facebook\\n➔ Acompanhe pelo Instagram: https://gran.gratis/GranOnline_Instagram\\xa0\\n\\n📱 Acesse o link e baixe nossos aplicativos (Gran Cursos Online, Gran Cursos Questões, Gran Audiobooks e Gran gerenciador de estudos): https://www.grancursosonline.com.br/app\\n\\n#ConcursoPF #ConcursoPRF #Concursos2024 #ConcursosAbertos #ConcursosPúblicos',\n",
      "                                                                                                                                                                                                                                                                                                                                                                                                                                                                                                                                                                                                                                                                                                                                                                                                                                                                                                                                                                                                                                                                                                                                                                                                                                                                                                                                                                                                                                                                                                                                                                                                                                                                                                                                                                                                                                                                                                                                                                                                                                                                                                                                                                                                                                                                                                                                                                                                                                                                                                                                                                                                                                                                                                                                                                                                                                                                                                                                                                                                                                                                                                                                                                                                                                                                                                                                                                                                                                                                                                                                                                                                                                                                                                                                                                                                                                                                                                                                                                                                                                                                                                                                                                                                                                                                                                                                                                                                                                                                                                                                                                                                                                                                    'zuerando com o link,se vc deu alguma risada curti aí pra me ajudar 😁\\n\\n\\n\\n\\n\\ncréditos thumb: https://youtube.com/shorts/Eo3CPHvuz1w?si=BH8Es8p0N5s67DwM\\n\\n\\n\\n\\n\\n\\n\\n\\n\\n\\n\\n\\n\\n\\n\\nignore as tags\\n\\n#zelda #nintendo #link #nintendoswitch #thelegendofzelda #legendofzelda #botw #breathofthewild #mario #videogames #gaming #gamer #tloz #pokemon #zeldabreathofthewild #loz #ocarinaoftime #hyrule #supersmashbros #switch #majorasmask #art #supermario #smashbros #twilightprincess #skywardsword #games #n #ds #playstation',\n",
      "                                                                                                                                                                                                                                                                                                                                                                                                                                                                                                                                                                                                                                                                                                                                                                                                                                                                                                                                                                                                                                                                                                                                                                                                                                                                                                                                                                                                                                                                                                                                                                                                                                                                                                                                                                                                                                                                                                                                                                                                                                                                                                                                                                                                                                                                                                                                                                                                                                                                                                                                                                                                                                                                                                                                                                                                                                                                                                                                                                                                                                                                                                                                                                                                                                                                                                                                                                                                                                                                                                                                                                                                                                                                                                                                                                                                                                                                                                                                                                                                                                                                                                                                                                                                                                                                                                                                                                                                                                                                                                                                                                                                                                                                                                                                                                                                                                                                                                                                                                                                                                                                                                                                                                                 'Trailer do cities skylines 2']\n",
      "Length: 732, dtype: string\n",
      "\n",
      "TAGS\n",
      "\n",
      "DURACAO_VIDEOS\n",
      "<StringArray>\n",
      "[     'PT34S',    'PT4M47S',   'PT26M44S',    'PT1H50M',    'PT9M59S',\n",
      "      'PT46S',      'PT48S',     'PT7M5S',    'PT3M49S', 'PT6H21M29S',\n",
      " ...\n",
      " 'PT1H13M24S', 'PT1H13M19S',   'PT2H9M6S',  'PT1H30M2S',  'PT1H9M54S',\n",
      " 'PT1H59M43S',   'PT54M21S', 'PT1H15M16S',     'PT2M1S',   'PT43M41S']\n",
      "Length: 727, dtype: string\n",
      "\n",
      "TOTAL_VISUALIZACOES\n",
      "[  98   97  964 ... 7583 4546 1733]\n",
      "\n",
      "TOTAL_LIKES\n",
      "[  13   31    2 ...  964 1333 1321]\n",
      "\n",
      "TOTAL_FAVORITOS\n",
      "[0]\n",
      "\n",
      "TOTAL_COMENTARIOS\n",
      "[  0   8   2  12   1  57   4   3  15  43   9  14  13  41  31  78  85  11\n",
      "  66  67  35  36  18  17  77  28  64  23  47  10  22   7   6   5  80  79\n",
      "  75  42  34  61  16  51  91  90  21  76  19  52  49  39  38 106  72 195\n",
      "  44  83 242  48  32  20  29  25  71  26 216  81  99  73  70  96  24  69\n",
      "  46  89  53 233  27  33 231 135 184 181 178 316 227  37 277 276 275 110\n",
      " 167 109  40  55 125 165  68 313 312  30 101 100 213 212 206  74 458 543\n",
      " 457 139  54 521 505 122 355 119 147 351 223 339 220 456  86 204 222 252\n",
      " 246 240  50 218 335 328  92  62  56  84  65 124 123  45 715 714 712 118\n",
      " 705 701 683  59 105 308 209 238 169 338 265  88 314 273 272  97 128 217\n",
      " 270 129 104 271 161 269 158 103 151 303 302 154  98 541 537 535 454 451\n",
      " 180 448 137 117 146 115 144 148 327  63 315 232  58  60 112 114 660 648\n",
      " 237 236 311 168 133 310 266 264 260 268 299 289 192 130 177 533 531 526\n",
      " 441 439 436 143 111  82 235 306 288 254 247 255 248 274 226 127 522 262\n",
      " 520 116 164 507 422 157 403 142 141 322 113 631 612 590 102  95  87 569\n",
      " 550 140 211 278 126 136 219 225 138 445 132 108 155 207 185 131 121  93\n",
      " 107]\n",
      "\n",
      "data_hora_extracao\n",
      "['2024-01-23 10:37:43' '2024-01-23 17:08:13' '2024-01-23 10:37:41'\n",
      " '2024-01-23 20:00:58' '2024-01-23 20:00:55' '2024-01-23 17:08:07'\n",
      " '2024-01-23 20:01:06' '2024-01-23 20:01:01' '2024-01-23 10:37:37'\n",
      " '2024-01-23 10:37:36' '2024-01-23 17:08:04' '2024-01-23 20:01:02'\n",
      " '2024-01-23 17:08:12' '2024-01-23 10:37:38' '2024-01-23 17:08:08'\n",
      " '2024-01-23 20:01:09' '2024-01-23 17:08:14' '2024-01-23 10:37:45'\n",
      " '2024-01-23 20:01:08' '2024-01-23 17:08:11' '2024-01-23 10:37:42'\n",
      " '2024-01-23 10:37:40' '2024-01-23 20:01:07' '2024-01-23 17:08:06'\n",
      " '2024-01-23 17:08:05' '2024-01-23 20:01:04' '2024-01-23 20:00:54'\n",
      " '2024-01-23 20:01:03' '2024-01-23 10:37:44' '2024-01-23 17:08:15'\n",
      " '2024-01-23 10:37:35' '2024-01-23 20:00:57' '2024-01-23 20:01:00'\n",
      " '2024-01-23 20:00:56' '2024-01-23 20:00:53' '2024-01-23 20:00:59'\n",
      " '2024-01-23 20:01:05' '2024-01-23 17:08:03' '2024-01-23 17:08:09'\n",
      " '2024-01-23 10:37:39' '2024-01-23 10:37:34' '2024-01-23 17:08:10'\n",
      " '2024-01-23 17:08:16' '2024-01-23 17:08:02' '2024-01-23 17:08:17'\n",
      " '2024-01-23 17:08:19' '2024-01-23 10:37:48' '2024-01-23 10:37:46'\n",
      " '2024-01-23 10:37:49' '2024-01-23 17:08:21' '2024-01-23 20:01:13'\n",
      " '2024-01-23 20:01:14' '2024-01-23 20:01:12' '2024-01-23 20:01:11'\n",
      " '2024-01-23 17:08:23' '2024-01-23 20:01:10' '2024-01-23 20:01:16'\n",
      " '2024-01-23 10:37:50' '2024-01-23 17:08:25' '2024-01-23 10:37:52'\n",
      " '2024-01-23 10:37:47' '2024-01-23 17:08:18' '2024-01-23 10:37:51'\n",
      " '2024-01-23 17:08:24' '2024-01-23 20:01:15' '2024-01-23 17:08:20'\n",
      " '2024-01-23 17:08:22' '2024-01-22 21:14:58' '2024-01-22 16:54:45'\n",
      " '2024-01-22 11:04:54' '2024-01-22 21:14:59' '2024-01-22 21:15:04'\n",
      " '2024-01-22 11:04:55' '2024-01-22 16:54:37' '2024-01-22 16:54:40'\n",
      " '2024-01-22 21:15:03' '2024-01-22 21:15:00' '2024-01-22 16:54:38'\n",
      " '2024-01-22 16:54:43' '2024-01-22 11:04:52' '2024-01-22 21:14:54'\n",
      " '2024-01-22 21:14:56' '2024-01-22 16:54:42' '2024-01-22 21:15:01'\n",
      " '2024-01-22 11:04:59' '2024-01-22 11:04:53' '2024-01-22 16:54:46'\n",
      " '2024-01-22 21:14:55' '2024-01-22 16:54:41' '2024-01-22 16:54:36'\n",
      " '2024-01-22 16:54:39' '2024-01-22 21:15:02' '2024-01-22 11:04:57'\n",
      " '2024-01-22 21:14:57' '2024-01-22 11:05:01' '2024-01-22 11:04:58'\n",
      " '2024-01-22 11:05:00' '2024-01-22 16:54:44' '2024-01-22 21:15:05'\n",
      " '2024-01-22 11:04:56' '2024-01-22 21:15:07' '2024-01-22 16:54:47'\n",
      " '2024-01-22 21:15:06' '2024-01-22 11:05:02' '2024-01-22 16:54:51'\n",
      " '2024-01-22 11:05:07' '2024-01-22 21:15:08' '2024-01-22 16:54:49'\n",
      " '2024-01-22 11:05:04' '2024-01-22 11:05:05' '2024-01-22 21:15:10'\n",
      " '2024-01-22 21:15:09' '2024-01-22 11:05:06' '2024-01-22 21:15:11'\n",
      " '2024-01-22 16:54:50' '2024-01-22 16:54:48' '2024-01-22 16:54:52'\n",
      " '2024-01-22 11:05:03' '2024-01-22 21:15:12' '2024-01-21 10:59:32'\n",
      " '2024-01-21 16:52:31' '2024-01-21 21:33:55' '2024-01-21 10:59:30'\n",
      " '2024-01-21 10:59:34' '2024-01-21 16:52:33' '2024-01-21 10:59:31'\n",
      " '2024-01-21 21:34:02' '2024-01-21 16:52:32' '2024-01-21 10:59:33'\n",
      " '2024-01-21 21:34:03' '2024-01-21 21:33:59' '2024-01-21 21:33:58'\n",
      " '2024-01-21 16:52:30' '2024-01-21 21:34:01' '2024-01-21 16:52:34'\n",
      " '2024-01-21 21:33:54' '2024-01-21 10:59:29' '2024-01-21 16:52:35'\n",
      " '2024-01-21 16:52:36' '2024-01-21 10:59:36' '2024-01-21 10:59:35'\n",
      " '2024-01-21 16:52:37' '2024-01-21 10:59:28' '2024-01-21 21:33:56'\n",
      " '2024-01-21 21:33:53' '2024-01-21 21:33:57' '2024-01-21 21:34:00'\n",
      " '2024-01-21 16:52:29' '2024-01-20 21:52:18' '2024-01-20 11:01:41'\n",
      " '2024-01-20 17:35:36' '2024-01-20 21:52:20' '2024-01-20 17:35:38'\n",
      " '2024-01-20 11:01:40' '2024-01-20 11:01:39' '2024-01-20 21:52:21'\n",
      " '2024-01-20 11:01:36' '2024-01-20 21:52:15' '2024-01-20 21:52:14'\n",
      " '2024-01-20 17:35:37' '2024-01-20 11:01:37' '2024-01-20 21:52:19'\n",
      " '2024-01-20 17:35:33' '2024-01-20 21:52:17' '2024-01-20 17:35:34'\n",
      " '2024-01-20 11:01:38' '2024-01-20 17:35:35' '2024-01-20 21:52:22'\n",
      " '2024-01-20 21:52:16' '2024-01-20 17:35:31' '2024-01-20 11:01:42'\n",
      " '2024-01-20 17:35:32' '2024-01-21 16:52:38' '2024-01-21 10:59:37'\n",
      " '2024-01-21 10:59:39' '2024-01-21 16:52:40' '2024-01-21 21:34:05'\n",
      " '2024-01-21 10:59:41' '2024-01-21 21:34:07' '2024-01-21 16:52:39'\n",
      " '2024-01-21 21:34:04' '2024-01-21 16:52:41' '2024-01-21 21:34:06'\n",
      " '2024-01-21 16:52:42' '2024-01-21 10:59:40' '2024-01-21 10:59:38'\n",
      " '2024-01-19 21:57:16' '2024-01-19 21:57:15' '2024-01-19 17:00:02'\n",
      " '2024-01-19 11:00:17' '2024-01-19 11:00:18' '2024-01-19 17:00:00'\n",
      " '2024-01-19 16:59:59' '2024-01-19 16:59:58' '2024-01-19 11:00:20'\n",
      " '2024-01-19 21:57:17' '2024-01-19 17:00:03' '2024-01-19 21:57:18'\n",
      " '2024-01-19 11:00:22' '2024-01-19 11:00:21' '2024-01-19 21:57:19'\n",
      " '2024-01-19 11:00:19' '2024-01-19 21:57:14' '2024-01-19 17:00:01'\n",
      " '2024-01-19 21:57:13' '2024-01-20 17:35:41' '2024-01-20 21:52:26'\n",
      " '2024-01-20 11:01:43' '2024-01-20 11:01:45' '2024-01-20 21:52:23'\n",
      " '2024-01-20 17:35:39' '2024-01-20 11:01:44' '2024-01-20 17:35:40'\n",
      " '2024-01-20 21:52:24' '2024-01-20 21:52:25' '2024-01-20 17:35:42'\n",
      " '2024-01-19 21:57:23' '2024-01-19 21:57:22' '2024-01-19 11:00:23'\n",
      " '2024-01-19 11:00:25' '2024-01-19 11:00:24' '2024-01-19 17:00:04'\n",
      " '2024-01-19 17:00:05' '2024-01-19 21:57:21' '2024-01-19 21:57:20'\n",
      " '2024-01-19 17:00:07' '2024-01-19 17:00:06' '2024-01-18 22:30:55'\n",
      " '2024-01-18 22:30:56' '2024-01-18 17:01:51' '2024-01-18 11:08:09'\n",
      " '2024-01-18 22:30:51' '2024-01-18 22:30:52' '2024-01-18 17:01:53'\n",
      " '2024-01-18 17:01:52' '2024-01-18 11:08:08' '2024-01-18 22:30:53'\n",
      " '2024-01-18 22:30:54' '2024-01-18 11:08:10' '2024-01-18 17:01:54'\n",
      " '2024-01-18 17:01:55' '2024-01-18 22:30:58' '2024-01-18 11:08:11'\n",
      " '2024-01-18 22:30:57' '2024-01-18 17:01:56' '2024-01-18 11:08:12'\n",
      " '2024-01-17 21:57:30' '2024-01-17 22:02:28' '2024-01-17 17:01:08'\n",
      " '2024-01-17 22:02:27' '2024-01-17 17:01:09' '2024-01-17 21:57:31'\n",
      " '2024-01-17 22:02:29' '2024-01-17 11:02:06' '2024-01-17 22:02:30'\n",
      " '2024-01-17 21:57:29' '2024-01-17 21:51:26' '2024-01-17 21:51:27'\n",
      " '2024-01-17 11:02:07' '2024-01-17 17:01:10' '2024-01-17 21:57:32'\n",
      " '2024-01-17 22:02:31' '2024-01-17 21:57:33']\n",
      "\n",
      "DURACAO_VIDEO_MINUTOS\n",
      "[5.7000e-01 4.7800e+00 2.6730e+01 1.1000e+02 9.9800e+00 7.7000e-01\n",
      " 8.0000e-01 7.0800e+00 3.8200e+00 3.8148e+02 1.1780e+01 1.8550e+01\n",
      " 2.4670e+01 1.0000e+00 9.2000e-01 4.7100e+01 6.7300e+00 3.1483e+02\n",
      " 7.2000e-01 2.0780e+01 4.6338e+02 2.0900e+01 2.9080e+01 1.1620e+01\n",
      " 2.0100e+01 4.2700e+01 9.8000e-01 5.0525e+02 1.1470e+01 1.0200e+00\n",
      " 9.1350e+01 6.4970e+01 5.5872e+02 3.4500e+01 9.7000e-01 1.0250e+01\n",
      " 9.2800e+00 1.6300e+01 7.0000e+00 4.3643e+02 6.0000e-01 9.2700e+00\n",
      " 9.0000e-01 1.1030e+02 7.3000e-01 2.9000e+00 2.7570e+01 1.4350e+01\n",
      " 1.9030e+01 2.3180e+01 1.5050e+01 3.0250e+01 9.8300e+00 1.3180e+01\n",
      " 3.2730e+01 1.9870e+01 3.2350e+01 8.8000e-01 2.5170e+01 2.6130e+01\n",
      " 1.2830e+01 7.2170e+01 8.4300e+00 4.3300e+00 3.7330e+01 2.1670e+01\n",
      " 1.2780e+01 1.5970e+01 5.6800e+01 1.2720e+01 9.5100e+01 1.3300e+01\n",
      " 2.3380e+01 1.0120e+01 7.4320e+01 8.1500e+00 1.4450e+01 2.2080e+01\n",
      " 1.5500e+00 3.2078e+02 1.0720e+01 1.7370e+01 1.0740e+02 1.3870e+01\n",
      " 1.6300e+00 1.3850e+01 1.4000e+00 3.1770e+01 1.2450e+01 3.4500e+00\n",
      " 7.6420e+01 6.0080e+01 6.7430e+01 7.4700e+00 6.5000e-01 8.7000e-01\n",
      " 2.5480e+01 2.0252e+02 1.0787e+02 1.3000e+01 1.5880e+01 1.0340e+02\n",
      " 5.8520e+01 1.7730e+01 1.3600e+01 4.3420e+01 5.0300e+01 1.1170e+01\n",
      " 5.0700e+00 1.0300e+01 2.0080e+01 3.1000e+00 1.2500e+01 1.5820e+01\n",
      " 1.2000e+01 9.9270e+01 1.4180e+01 9.3320e+01 2.8000e+00 1.3100e+01\n",
      " 4.8000e-01 1.5700e+00 9.5000e-01 1.2000e-01 1.0820e+01 5.3050e+01\n",
      " 1.5800e+00 7.1500e+02 2.2150e+01 1.0827e+02 5.0500e+00 6.7000e-01\n",
      " 1.8450e+01 7.5000e-01 0.0000e+00 4.5950e+01 6.3600e+01 7.3700e+00\n",
      " 5.6500e+00 5.1800e+00 6.3200e+00 1.2700e+00 5.8300e+00 3.0200e+00\n",
      " 1.2200e+00 4.9300e+00 1.3580e+01 1.4470e+01 8.2000e-01 1.5950e+01\n",
      " 6.1700e+00 2.7000e-01 1.0330e+01 3.3420e+01 1.3500e+01 1.7800e+00\n",
      " 7.8000e-01 4.5700e+00 2.2000e-01 1.2000e+00 8.2000e+00 1.4497e+02\n",
      " 1.8570e+01 1.8280e+01 1.8270e+01 1.6720e+01 1.1070e+01 4.4000e+00\n",
      " 1.5800e+01 3.6570e+01 8.3000e-01 2.1200e+00 1.3297e+02 6.9700e+00\n",
      " 1.7300e+00 3.7200e+00 2.0000e-01 8.0200e+00 1.5450e+01 1.0320e+01\n",
      " 4.3700e+00 1.3480e+01 1.5570e+01 8.9000e+00 4.5500e+00 2.0950e+01\n",
      " 8.7000e+00 1.5000e-01 1.5650e+01 8.5500e+00 3.4970e+01 2.5000e-01\n",
      " 5.2000e-01 3.3200e+00 4.2350e+01 5.4280e+01 4.3500e+00 3.5700e+00\n",
      " 2.8330e+01 1.0000e-01 4.7200e+00 5.9300e+00 6.4480e+01 6.6370e+01\n",
      " 9.6000e+00 1.3700e+00 7.0300e+00 1.3380e+01 4.6920e+01 5.0250e+01\n",
      " 3.0000e+01 1.1920e+01 3.1700e+00 1.3270e+01 1.3300e+00 6.9000e+00\n",
      " 9.7200e+00 1.8480e+01 4.3000e-01 5.3000e-01 3.5000e-01 8.9500e+00\n",
      " 1.8000e-01 1.2630e+01 1.6270e+01 2.4220e+01 8.6000e+00 1.8400e+01\n",
      " 1.8000e+00 1.3130e+01 3.2000e-01 7.9970e+01 1.7263e+02 1.7000e-01\n",
      " 2.9500e+00 2.1545e+02 1.9203e+02 5.3770e+01 4.8730e+01 2.2363e+02\n",
      " 1.3000e-01 4.4080e+01 2.5200e+00 1.3150e+01 3.7700e+00 1.5705e+02\n",
      " 1.5420e+01 1.4300e+00 2.1568e+02 8.3200e+00 2.6280e+01 2.3700e+00\n",
      " 2.4438e+02 9.4000e+00 2.3270e+01 1.9000e+02 5.3300e+00 5.0200e+01\n",
      " 1.4750e+01 2.3000e-01 4.6800e+00 1.6800e+00 2.0562e+02 1.1980e+02\n",
      " 1.8705e+02 1.6900e+01 9.3300e+00 7.0000e-01 8.1920e+01 7.0020e+01\n",
      " 2.1700e+00 2.4885e+02 9.8800e+00 4.1242e+02 5.3300e+01 8.5000e-01\n",
      " 1.7750e+01 7.9200e+00 5.1930e+01 2.9017e+02 2.7650e+01 4.5570e+01\n",
      " 4.7670e+01 1.3420e+01 1.4030e+01 2.0037e+02 3.3288e+02 7.8300e+00\n",
      " 1.2798e+02 8.9600e+01 2.2930e+01 4.0000e-01 2.9652e+02 2.4350e+01\n",
      " 1.1030e+01 1.6970e+01 4.3200e+00 2.5858e+02 1.1883e+02 5.3800e+00\n",
      " 9.4200e+00 2.3500e+00 2.3170e+01 1.0300e+00 3.6502e+02 8.8200e+00\n",
      " 2.3780e+01 1.9752e+02 1.4700e+00 7.2500e+00 1.9630e+01 3.5000e+00\n",
      " 1.7988e+02 1.0150e+01 1.2848e+02 8.1200e+00 1.9647e+02 6.8000e-01\n",
      " 3.7000e-01 3.8000e-01 1.0630e+01 1.9450e+01 1.5838e+02 5.1970e+01\n",
      " 1.8418e+02 1.7873e+02 6.5500e+00 1.9920e+02 1.0850e+01 6.5800e+00\n",
      " 1.3450e+01 1.2903e+02 4.4200e+00 2.9943e+02 2.9712e+02 3.0000e-01\n",
      " 3.2500e+00 5.4380e+01 9.8800e+01 1.7105e+02 7.9700e+00 1.2220e+01\n",
      " 9.5700e+00 1.9930e+01 5.9700e+00 9.9200e+00 1.6898e+02 6.5420e+01\n",
      " 5.0000e-01 4.5000e+00 2.8550e+01 1.1700e+01 1.8698e+02 4.5000e-01\n",
      " 1.4555e+02 2.8000e-01 3.1255e+02 2.9300e+00 2.2200e+00 1.3578e+02\n",
      " 8.0700e+00 6.9300e+00 8.0800e+00 1.0538e+02 1.4240e+02 1.1768e+02\n",
      " 9.0300e+00 7.2800e+00 1.2080e+01 7.5830e+01 1.9150e+01 1.4120e+02\n",
      " 1.0702e+02 1.5795e+02 2.6573e+02 1.5200e+01 4.1300e+00 3.7650e+01\n",
      " 1.7080e+01 1.7100e+01 1.7220e+01 3.4050e+01 9.7000e+00 1.6080e+01\n",
      " 1.2170e+01 1.5220e+01 1.2020e+01 2.8470e+01 2.4870e+01 2.0020e+01\n",
      " 1.6020e+01 3.7000e+00 2.0800e+00 4.8000e+00 9.4700e+00 9.7500e+00\n",
      " 4.1200e+00 1.2670e+01 4.2780e+01 1.9230e+01 3.1800e+00 6.1120e+01\n",
      " 4.2000e-01 1.2490e+02 2.1420e+01 9.7800e+00 1.0970e+01 2.0280e+01\n",
      " 8.8800e+00 5.5000e+00 2.9870e+01 4.0200e+00 8.4700e+00 2.4100e+01\n",
      " 1.7400e+01 1.0450e+01 1.0270e+01 7.5200e+00 1.5500e+01 4.6200e+00\n",
      " 3.5948e+02 1.8380e+01 5.7300e+00 4.6770e+01 4.4800e+00 3.2170e+01\n",
      " 2.3700e+01 1.5100e+01 4.9000e+00 8.9170e+01 2.5230e+01 7.5100e+01\n",
      " 4.1500e+00 8.3800e+00 2.1220e+01 1.0750e+01 2.1300e+01 8.0500e+00\n",
      " 2.2770e+01 3.6000e+00 1.1100e+01 8.6700e+00 1.6730e+02 8.0000e+00\n",
      " 6.2000e+00 5.9200e+00 8.6300e+00 9.4500e+00 4.0000e+00 7.4300e+00\n",
      " 6.8300e+00 1.9770e+01 3.8400e+01 2.7800e+00 1.1383e+02 1.7030e+01\n",
      " 2.2300e+00 1.7200e+00 3.4900e+01 7.6880e+01 2.4020e+01 9.5730e+01\n",
      " 3.1880e+01 1.4400e+01 9.2500e+00 2.5470e+01 1.5130e+01 9.5520e+01\n",
      " 1.2870e+01 2.8580e+01 1.7180e+01 1.1880e+01 6.7800e+00 8.5300e+00\n",
      " 5.1500e+00 1.5843e+02 4.5200e+00 3.4420e+01 1.5020e+01 6.8500e+00\n",
      " 4.3230e+01 4.0470e+01 1.9330e+01 1.1730e+01 3.0320e+01 1.2700e+01\n",
      " 9.5200e+00 1.3470e+01 1.8520e+01 1.2930e+01 2.3670e+01 6.9180e+01\n",
      " 1.4020e+01 8.1800e+00 1.7050e+01 7.3800e+00 7.7720e+01 2.7247e+02\n",
      " 8.5200e+00 2.1430e+01 5.7880e+01 3.4330e+01 1.1680e+01 1.2820e+01\n",
      " 5.9342e+02 6.4548e+02 3.2207e+02 8.9700e+00 1.9537e+02 2.2778e+02\n",
      " 7.3300e+00 1.6670e+01 2.6520e+01 2.1700e+01 2.1960e+02 3.5520e+01\n",
      " 4.0980e+01 5.4700e+00 3.9820e+01 3.0422e+02 1.7570e+01 3.2728e+02\n",
      " 2.2680e+01 1.1530e+01 1.6400e+01 1.9500e+00 3.5300e+01 1.3530e+01\n",
      " 2.3330e+01 6.2820e+01 1.1880e+02 6.1020e+01 3.5353e+02 4.8050e+01\n",
      " 8.2700e+00 1.9700e+01 1.3928e+02 4.8500e+01 5.3000e+00 1.3920e+02\n",
      " 3.4780e+01 3.6785e+02 5.6200e+00 2.0700e+00 3.8630e+01 9.1500e+00\n",
      " 2.3350e+01 1.1630e+01 2.4820e+01 9.6500e+01 1.0817e+02 1.1027e+02\n",
      " 7.7170e+01 6.7980e+01 3.7980e+01 1.0678e+02 1.1872e+02 3.1408e+02\n",
      " 6.5220e+01 1.9720e+01 2.4722e+02 2.6680e+01 1.1932e+02 2.8050e+02\n",
      " 9.4900e+01 7.0920e+01 1.1760e+02 1.5070e+01 2.7545e+02 4.4400e+01\n",
      " 2.9660e+02 3.1820e+01 1.0905e+02 7.0550e+01 2.4320e+01 1.3403e+02\n",
      " 1.3898e+02 1.5008e+02 2.6300e+00 3.8180e+01 4.3650e+01 1.0330e+02\n",
      " 7.5980e+01 4.1620e+01 9.2630e+01 7.7400e+01 2.3480e+01 5.3480e+01\n",
      " 7.2620e+01 1.8588e+02 2.6200e+00 1.4800e+00 1.5120e+01 3.4675e+02\n",
      " 1.0998e+02 4.0300e+00 1.8000e+01 2.5830e+01 2.7777e+02 2.3570e+01\n",
      " 9.2900e+01 6.2420e+01 9.0000e+00 1.1933e+02 9.7830e+01 1.8700e+00\n",
      " 2.6660e+02 4.0878e+02 1.6768e+02 6.0480e+01 2.0138e+02 3.9200e+01\n",
      " 2.5263e+02 3.6870e+01 9.5000e+00 7.4150e+01 3.1583e+02 1.0590e+02\n",
      " 9.3000e-01 1.6500e+01 9.0480e+01 1.1820e+01 5.3470e+01 6.3350e+01\n",
      " 4.7300e+00 2.2000e+00 5.5300e+00 1.0917e+02 3.9170e+01 4.6350e+01\n",
      " 1.1287e+02 3.7780e+01 2.0170e+01 4.4520e+01 3.1670e+01 2.8130e+01\n",
      " 1.5925e+02 2.7675e+02 3.6280e+01 3.0300e+01 2.9720e+01 1.4198e+02\n",
      " 2.2850e+01 3.4400e+01 5.4530e+01 2.1937e+02 7.5600e+01 8.9520e+01\n",
      " 3.3330e+01 8.9380e+01 6.4400e+01 1.4220e+01 3.7970e+01 1.7550e+01\n",
      " 9.9300e+00 1.0130e+01 8.2900e+01 8.7770e+01 1.9280e+01 2.9880e+01\n",
      " 1.4070e+02 3.7130e+01 1.7420e+01 2.8280e+01 3.9700e+01 1.6983e+02\n",
      " 3.5880e+01 4.0770e+01 4.1230e+01 2.4330e+01 3.8300e+01 1.0000e+01\n",
      " 3.3670e+01 3.3930e+01 5.0220e+01 6.1600e+01 9.0020e+01 3.7270e+01\n",
      " 3.3000e-01 1.5277e+02 7.1120e+01 1.0100e+01 1.0170e+01 1.2950e+01\n",
      " 4.9925e+02 1.7200e+01 6.2000e-01 3.2320e+01 1.0230e+01 6.3000e-01\n",
      " 8.5800e+00 5.2350e+01 3.8250e+01 1.9850e+01 7.1030e+01 2.4800e+00\n",
      " 3.5100e+01 5.7120e+01 2.1200e+01 2.6650e+01 6.1570e+01 1.0030e+01\n",
      " 1.9070e+01 9.1980e+01 5.6330e+01 5.8300e+01 3.8870e+01 2.9647e+02\n",
      " 8.8750e+01 2.6700e+00 1.0780e+01 1.5830e+01 8.5700e+00 1.2120e+01\n",
      " 5.2300e+01 6.2570e+01 6.2330e+01 7.3400e+01 7.3320e+01 1.2910e+02\n",
      " 9.0030e+01 6.9900e+01 1.1972e+02 5.4350e+01 7.5270e+01 2.0200e+00\n",
      " 4.3680e+01]\n",
      "\n",
      "TOTAL_CARACTERE_VIDEO\n",
      "[ 45  43  28  44  48  21  19  53  50  34 100  87  52  73  11  76  77  56\n",
      "  22  66  82  63  78  85  30  55  61  88  37  35  31  12  46  89  65  49\n",
      "  90  64  80  24  51  17  38  97  70  42  60  15  54  58  39  96  40  47\n",
      "  75   5  59  83  99  74  32  41  72  98  27  36  69  29  91  26  79  33\n",
      "  95  71  25  86  18  81  84  57  67  94  93  23  92  14  62  68  20  13]\n",
      "\n",
      "TOTAL_TAGS\n",
      "[18  0  2  1 28 25 61 22 16  3 32 21  7 29 11  5 40 30 12 13 27 14 19 60\n",
      "  4 15 31 10  8 26 43 17 24 46  6 36 20 23 35  9 45 64 51 47 37 63 34 44\n",
      " 42 39 33 66 41 48 53]\n",
      "\n",
      "HORA_EXTRACAO\n",
      "[10 17 20 21 16 11 22]\n",
      "\n",
      "TURNO_EXTRACAO\n",
      "<StringArray>\n",
      "['Manhã', 'Tarde', 'Noite']\n",
      "Length: 3, dtype: string\n",
      "\n",
      "INDICE_TURNO_EXTRACAO\n",
      "[1 2 3]\n",
      "\n"
     ]
    }
   ],
   "source": [
    "base_completa = pd.read_parquet('../dados/ouro/dados_tratado_estatisticas_gerais.parquet')\n",
    "for coluna in base_completa.columns:\n",
    "    print(coluna)\n",
    "    try:\n",
    "        print(base_completa[coluna].unique())\n",
    "    except:\n",
    "        pass\n",
    "    print()"
   ]
  },
  {
   "cell_type": "code",
   "execution_count": 36,
   "metadata": {},
   "outputs": [
    {
     "data": {
      "text/html": [
       "<div>\n",
       "<style scoped>\n",
       "    .dataframe tbody tr th:only-of-type {\n",
       "        vertical-align: middle;\n",
       "    }\n",
       "\n",
       "    .dataframe tbody tr th {\n",
       "        vertical-align: top;\n",
       "    }\n",
       "\n",
       "    .dataframe thead th {\n",
       "        text-align: right;\n",
       "    }\n",
       "</style>\n",
       "<table border=\"1\" class=\"dataframe\">\n",
       "  <thead>\n",
       "    <tr style=\"text-align: right;\">\n",
       "      <th></th>\n",
       "      <th>TAGS</th>\n",
       "    </tr>\n",
       "  </thead>\n",
       "  <tbody>\n",
       "    <tr>\n",
       "      <th>0</th>\n",
       "      <td>[python, joao futi muanda, usando python, usan...</td>\n",
       "    </tr>\n",
       "    <tr>\n",
       "      <th>1</th>\n",
       "      <td>None</td>\n",
       "    </tr>\n",
       "    <tr>\n",
       "      <th>2</th>\n",
       "      <td>[tecnologia, programming]</td>\n",
       "    </tr>\n",
       "    <tr>\n",
       "      <th>3</th>\n",
       "      <td>[detetive virtual]</td>\n",
       "    </tr>\n",
       "    <tr>\n",
       "      <th>4</th>\n",
       "      <td>[roger santos, refatorando, Como é o dia a dia...</td>\n",
       "    </tr>\n",
       "    <tr>\n",
       "      <th>...</th>\n",
       "      <td>...</td>\n",
       "    </tr>\n",
       "    <tr>\n",
       "      <th>12063</th>\n",
       "      <td>[Canal Jogando, Canal Jogando Raiz, Cities, Ci...</td>\n",
       "    </tr>\n",
       "    <tr>\n",
       "      <th>12064</th>\n",
       "      <td>[#Citiesskyline2, #cities, #skyline, #gameplay...</td>\n",
       "    </tr>\n",
       "    <tr>\n",
       "      <th>12065</th>\n",
       "      <td>[Simulação de cidade, Construção de cidade, Ge...</td>\n",
       "    </tr>\n",
       "    <tr>\n",
       "      <th>12066</th>\n",
       "      <td>[Simulação de cidade, Construção de cidade, Ge...</td>\n",
       "    </tr>\n",
       "    <tr>\n",
       "      <th>12067</th>\n",
       "      <td>[Simulação de cidade, Construção de cidade, Ge...</td>\n",
       "    </tr>\n",
       "  </tbody>\n",
       "</table>\n",
       "<p>12068 rows × 1 columns</p>\n",
       "</div>"
      ],
      "text/plain": [
       "                                                    TAGS\n",
       "0      [python, joao futi muanda, usando python, usan...\n",
       "1                                                   None\n",
       "2                              [tecnologia, programming]\n",
       "3                                     [detetive virtual]\n",
       "4      [roger santos, refatorando, Como é o dia a dia...\n",
       "...                                                  ...\n",
       "12063  [Canal Jogando, Canal Jogando Raiz, Cities, Ci...\n",
       "12064  [#Citiesskyline2, #cities, #skyline, #gameplay...\n",
       "12065  [Simulação de cidade, Construção de cidade, Ge...\n",
       "12066  [Simulação de cidade, Construção de cidade, Ge...\n",
       "12067  [Simulação de cidade, Construção de cidade, Ge...\n",
       "\n",
       "[12068 rows x 1 columns]"
      ]
     },
     "execution_count": 36,
     "metadata": {},
     "output_type": "execute_result"
    }
   ],
   "source": [
    "base_completa[['TAGS']]"
   ]
  },
  {
   "cell_type": "code",
   "execution_count": 53,
   "metadata": {},
   "outputs": [
    {
     "data": {
      "text/plain": [
       "array(['python', 'joao futi muanda', 'usando python', 'usandopy',\n",
       "       'Diferença entre Dados', 'Informação',\n",
       "       'Conhecimento e Inteligência', 'inteligencia artificial',\n",
       "       'banco de dados', 'sql', 'mysql',\n",
       "       'Conversão para String (str) em Python', 'learn python',\n",
       "       'python tutorial', 'what is python', 'aprender python',\n",
       "       'dicas de python', 'aulas de python'], dtype=object)"
      ]
     },
     "execution_count": 53,
     "metadata": {},
     "output_type": "execute_result"
    }
   ],
   "source": [
    "base_completa['TAGS'][0]"
   ]
  },
  {
   "cell_type": "markdown",
   "metadata": {},
   "source": [
    "# Variação de views/likes/comentários em relação ao dia anterior e Análise do total de views/likes/comentários"
   ]
  },
  {
   "cell_type": "code",
   "execution_count": 5,
   "metadata": {},
   "outputs": [
    {
     "data": {
      "text/plain": [
       "array([  98.,   97.,  964., ..., 7583., 4546., 1733.])"
      ]
     },
     "execution_count": 5,
     "metadata": {},
     "output_type": "execute_result"
    }
   ],
   "source": [
    "tipos = {\n",
    "    'data_extracao':  'datetime64[ns]',\n",
    "    'total_visualizacoes_turno': 'int32',\n",
    "    'turno_extracao': 'string',\n",
    "\n",
    "}\n",
    "\n",
    "coluna_analise = 'TOTAL_VISUALIZACOES'\n",
    "assunto = 'assunto_genshin_impact'\n",
    "base = pd.read_parquet('../dados/ouro/dados_tratado_estatisticas_gerais.parquet', columns=['ASSUNTO','data_extracao', 'ID_VIDEO', coluna_analise, 'TURNO_EXTRACAO', 'INDICE_TURNO_EXTRACAO'])\n",
    "base['TOTAL_VISUALIZACOES'].unique()"
   ]
  },
  {
   "cell_type": "code",
   "execution_count": 6,
   "metadata": {},
   "outputs": [],
   "source": [
    "base = base.query(f'ASSUNTO == \"{assunto}\"')\n",
    "base['data_extracao'] = base['data_extracao'].astype('datetime64[ns]')\n",
    "base.fillna(0, inplace=True)\n",
    "base[coluna_analise] = base[coluna_analise].astype('int32')\n",
    "base['TURNO_EXTRACAO'] = base['TURNO_EXTRACAO'].astype('string')\n",
    "base['INDICE_TURNO_EXTRACAO'] = base['INDICE_TURNO_EXTRACAO'].astype('string')\n",
    "base['ASSUNTO'] = base['ASSUNTO'].astype('string')\n",
    "base = base.sort_values(by=['data_extracao', 'INDICE_TURNO_EXTRACAO'])"
   ]
  },
  {
   "cell_type": "code",
   "execution_count": 7,
   "metadata": {},
   "outputs": [
    {
     "name": "stdout",
     "output_type": "stream",
     "text": [
      "<class 'pandas.core.frame.DataFrame'>\n",
      "Index: 2591 entries, 11421 to 1428\n",
      "Data columns (total 6 columns):\n",
      " #   Column                 Non-Null Count  Dtype         \n",
      "---  ------                 --------------  -----         \n",
      " 0   ASSUNTO                2591 non-null   string        \n",
      " 1   data_extracao          2591 non-null   datetime64[ns]\n",
      " 2   ID_VIDEO               2591 non-null   object        \n",
      " 3   TOTAL_VISUALIZACOES    2591 non-null   int32         \n",
      " 4   TURNO_EXTRACAO         2591 non-null   string        \n",
      " 5   INDICE_TURNO_EXTRACAO  2591 non-null   string        \n",
      "dtypes: datetime64[ns](1), int32(1), object(1), string(3)\n",
      "memory usage: 131.6+ KB\n"
     ]
    }
   ],
   "source": [
    "base.info()"
   ]
  },
  {
   "cell_type": "code",
   "execution_count": 8,
   "metadata": {},
   "outputs": [
    {
     "data": {
      "text/plain": [
       "(2591, 6)"
      ]
     },
     "execution_count": 8,
     "metadata": {},
     "output_type": "execute_result"
    }
   ],
   "source": [
    "base.shape"
   ]
  },
  {
   "cell_type": "code",
   "execution_count": 9,
   "metadata": {},
   "outputs": [
    {
     "data": {
      "text/html": [
       "<div>\n",
       "<style scoped>\n",
       "    .dataframe tbody tr th:only-of-type {\n",
       "        vertical-align: middle;\n",
       "    }\n",
       "\n",
       "    .dataframe tbody tr th {\n",
       "        vertical-align: top;\n",
       "    }\n",
       "\n",
       "    .dataframe thead th {\n",
       "        text-align: right;\n",
       "    }\n",
       "</style>\n",
       "<table border=\"1\" class=\"dataframe\">\n",
       "  <thead>\n",
       "    <tr style=\"text-align: right;\">\n",
       "      <th></th>\n",
       "      <th>ASSUNTO</th>\n",
       "      <th>data_extracao</th>\n",
       "      <th>ID_VIDEO</th>\n",
       "      <th>TOTAL_VISUALIZACOES</th>\n",
       "      <th>TURNO_EXTRACAO</th>\n",
       "      <th>INDICE_TURNO_EXTRACAO</th>\n",
       "    </tr>\n",
       "  </thead>\n",
       "  <tbody>\n",
       "    <tr>\n",
       "      <th>11499</th>\n",
       "      <td>assunto_genshin_impact</td>\n",
       "      <td>2024-01-17</td>\n",
       "      <td>SFVPQqmXYP0</td>\n",
       "      <td>10</td>\n",
       "      <td>Manhã</td>\n",
       "      <td>1</td>\n",
       "    </tr>\n",
       "    <tr>\n",
       "      <th>11475</th>\n",
       "      <td>assunto_genshin_impact</td>\n",
       "      <td>2024-01-17</td>\n",
       "      <td>VeK5ckWlvJc</td>\n",
       "      <td>14</td>\n",
       "      <td>Manhã</td>\n",
       "      <td>1</td>\n",
       "    </tr>\n",
       "    <tr>\n",
       "      <th>11423</th>\n",
       "      <td>assunto_genshin_impact</td>\n",
       "      <td>2024-01-17</td>\n",
       "      <td>GcpvUW4qyqk</td>\n",
       "      <td>52</td>\n",
       "      <td>Manhã</td>\n",
       "      <td>1</td>\n",
       "    </tr>\n",
       "    <tr>\n",
       "      <th>11426</th>\n",
       "      <td>assunto_genshin_impact</td>\n",
       "      <td>2024-01-17</td>\n",
       "      <td>HdttQbvN9Nk</td>\n",
       "      <td>474</td>\n",
       "      <td>Manhã</td>\n",
       "      <td>1</td>\n",
       "    </tr>\n",
       "    <tr>\n",
       "      <th>11421</th>\n",
       "      <td>assunto_genshin_impact</td>\n",
       "      <td>2024-01-17</td>\n",
       "      <td>jaCgfkInPcg</td>\n",
       "      <td>546</td>\n",
       "      <td>Manhã</td>\n",
       "      <td>1</td>\n",
       "    </tr>\n",
       "    <tr>\n",
       "      <th>...</th>\n",
       "      <td>...</td>\n",
       "      <td>...</td>\n",
       "      <td>...</td>\n",
       "      <td>...</td>\n",
       "      <td>...</td>\n",
       "      <td>...</td>\n",
       "    </tr>\n",
       "    <tr>\n",
       "      <th>11497</th>\n",
       "      <td>assunto_genshin_impact</td>\n",
       "      <td>2024-01-17</td>\n",
       "      <td>Inw5TdGJQDY</td>\n",
       "      <td>10284</td>\n",
       "      <td>Noite</td>\n",
       "      <td>3</td>\n",
       "    </tr>\n",
       "    <tr>\n",
       "      <th>11486</th>\n",
       "      <td>assunto_genshin_impact</td>\n",
       "      <td>2024-01-17</td>\n",
       "      <td>QWNi7O_dXv0</td>\n",
       "      <td>12081</td>\n",
       "      <td>Noite</td>\n",
       "      <td>3</td>\n",
       "    </tr>\n",
       "    <tr>\n",
       "      <th>11485</th>\n",
       "      <td>assunto_genshin_impact</td>\n",
       "      <td>2024-01-17</td>\n",
       "      <td>QWNi7O_dXv0</td>\n",
       "      <td>12152</td>\n",
       "      <td>Noite</td>\n",
       "      <td>3</td>\n",
       "    </tr>\n",
       "    <tr>\n",
       "      <th>11481</th>\n",
       "      <td>assunto_genshin_impact</td>\n",
       "      <td>2024-01-17</td>\n",
       "      <td>vUPCA5gKrqY</td>\n",
       "      <td>12453</td>\n",
       "      <td>Noite</td>\n",
       "      <td>3</td>\n",
       "    </tr>\n",
       "    <tr>\n",
       "      <th>11480</th>\n",
       "      <td>assunto_genshin_impact</td>\n",
       "      <td>2024-01-17</td>\n",
       "      <td>vUPCA5gKrqY</td>\n",
       "      <td>12530</td>\n",
       "      <td>Noite</td>\n",
       "      <td>3</td>\n",
       "    </tr>\n",
       "  </tbody>\n",
       "</table>\n",
       "<p>112 rows × 6 columns</p>\n",
       "</div>"
      ],
      "text/plain": [
       "                      ASSUNTO data_extracao     ID_VIDEO  TOTAL_VISUALIZACOES  \\\n",
       "11499  assunto_genshin_impact    2024-01-17  SFVPQqmXYP0                   10   \n",
       "11475  assunto_genshin_impact    2024-01-17  VeK5ckWlvJc                   14   \n",
       "11423  assunto_genshin_impact    2024-01-17  GcpvUW4qyqk                   52   \n",
       "11426  assunto_genshin_impact    2024-01-17  HdttQbvN9Nk                  474   \n",
       "11421  assunto_genshin_impact    2024-01-17  jaCgfkInPcg                  546   \n",
       "...                       ...           ...          ...                  ...   \n",
       "11497  assunto_genshin_impact    2024-01-17  Inw5TdGJQDY                10284   \n",
       "11486  assunto_genshin_impact    2024-01-17  QWNi7O_dXv0                12081   \n",
       "11485  assunto_genshin_impact    2024-01-17  QWNi7O_dXv0                12152   \n",
       "11481  assunto_genshin_impact    2024-01-17  vUPCA5gKrqY                12453   \n",
       "11480  assunto_genshin_impact    2024-01-17  vUPCA5gKrqY                12530   \n",
       "\n",
       "      TURNO_EXTRACAO INDICE_TURNO_EXTRACAO  \n",
       "11499          Manhã                     1  \n",
       "11475          Manhã                     1  \n",
       "11423          Manhã                     1  \n",
       "11426          Manhã                     1  \n",
       "11421          Manhã                     1  \n",
       "...              ...                   ...  \n",
       "11497          Noite                     3  \n",
       "11486          Noite                     3  \n",
       "11485          Noite                     3  \n",
       "11481          Noite                     3  \n",
       "11480          Noite                     3  \n",
       "\n",
       "[112 rows x 6 columns]"
      ]
     },
     "execution_count": 9,
     "metadata": {},
     "output_type": "execute_result"
    }
   ],
   "source": [
    "base_teste = base.query(' data_extracao == \"2024-01-17\"').sort_values(by=['data_extracao',  'INDICE_TURNO_EXTRACAO' , 'TOTAL_VISUALIZACOES'])\n",
    "base_teste"
   ]
  },
  {
   "cell_type": "code",
   "execution_count": 10,
   "metadata": {},
   "outputs": [
    {
     "data": {
      "text/html": [
       "<div>\n",
       "<style scoped>\n",
       "    .dataframe tbody tr th:only-of-type {\n",
       "        vertical-align: middle;\n",
       "    }\n",
       "\n",
       "    .dataframe tbody tr th {\n",
       "        vertical-align: top;\n",
       "    }\n",
       "\n",
       "    .dataframe thead th {\n",
       "        text-align: right;\n",
       "    }\n",
       "</style>\n",
       "<table border=\"1\" class=\"dataframe\">\n",
       "  <thead>\n",
       "    <tr style=\"text-align: right;\">\n",
       "      <th></th>\n",
       "      <th>data_extracao</th>\n",
       "      <th>ID_VIDEO</th>\n",
       "      <th>TOTAL_MAX</th>\n",
       "    </tr>\n",
       "  </thead>\n",
       "  <tbody>\n",
       "    <tr>\n",
       "      <th>0</th>\n",
       "      <td>2024-01-17</td>\n",
       "      <td>01FD9IqMfq4</td>\n",
       "      <td>600</td>\n",
       "    </tr>\n",
       "    <tr>\n",
       "      <th>23</th>\n",
       "      <td>2024-01-17</td>\n",
       "      <td>Y4XL221-wqY</td>\n",
       "      <td>42</td>\n",
       "    </tr>\n",
       "    <tr>\n",
       "      <th>24</th>\n",
       "      <td>2024-01-17</td>\n",
       "      <td>YJ2JGViDHPM</td>\n",
       "      <td>288</td>\n",
       "    </tr>\n",
       "    <tr>\n",
       "      <th>25</th>\n",
       "      <td>2024-01-17</td>\n",
       "      <td>abUin1ltldg</td>\n",
       "      <td>88</td>\n",
       "    </tr>\n",
       "    <tr>\n",
       "      <th>26</th>\n",
       "      <td>2024-01-17</td>\n",
       "      <td>dbsb65YlyPc</td>\n",
       "      <td>1794</td>\n",
       "    </tr>\n",
       "    <tr>\n",
       "      <th>...</th>\n",
       "      <td>...</td>\n",
       "      <td>...</td>\n",
       "      <td>...</td>\n",
       "    </tr>\n",
       "    <tr>\n",
       "      <th>796</th>\n",
       "      <td>2024-01-23</td>\n",
       "      <td>MnePXt0EQH8</td>\n",
       "      <td>3301</td>\n",
       "    </tr>\n",
       "    <tr>\n",
       "      <th>797</th>\n",
       "      <td>2024-01-23</td>\n",
       "      <td>MsK9M9OwsvE</td>\n",
       "      <td>3185</td>\n",
       "    </tr>\n",
       "    <tr>\n",
       "      <th>798</th>\n",
       "      <td>2024-01-23</td>\n",
       "      <td>NSispHpAHu4</td>\n",
       "      <td>5753</td>\n",
       "    </tr>\n",
       "    <tr>\n",
       "      <th>800</th>\n",
       "      <td>2024-01-23</td>\n",
       "      <td>OEju-RnqMzE</td>\n",
       "      <td>1461</td>\n",
       "    </tr>\n",
       "    <tr>\n",
       "      <th>943</th>\n",
       "      <td>2024-01-23</td>\n",
       "      <td>zv-szH40gXg</td>\n",
       "      <td>8</td>\n",
       "    </tr>\n",
       "  </tbody>\n",
       "</table>\n",
       "<p>944 rows × 3 columns</p>\n",
       "</div>"
      ],
      "text/plain": [
       "    data_extracao     ID_VIDEO  TOTAL_MAX\n",
       "0      2024-01-17  01FD9IqMfq4        600\n",
       "23     2024-01-17  Y4XL221-wqY         42\n",
       "24     2024-01-17  YJ2JGViDHPM        288\n",
       "25     2024-01-17  abUin1ltldg         88\n",
       "26     2024-01-17  dbsb65YlyPc       1794\n",
       "..            ...          ...        ...\n",
       "796    2024-01-23  MnePXt0EQH8       3301\n",
       "797    2024-01-23  MsK9M9OwsvE       3185\n",
       "798    2024-01-23  NSispHpAHu4       5753\n",
       "800    2024-01-23  OEju-RnqMzE       1461\n",
       "943    2024-01-23  zv-szH40gXg          8\n",
       "\n",
       "[944 rows x 3 columns]"
      ]
     },
     "execution_count": 10,
     "metadata": {},
     "output_type": "execute_result"
    }
   ],
   "source": [
    "base_teste = base.groupby(['data_extracao','ID_VIDEO'])  \\\n",
    "    .agg(\n",
    "        TOTAL_MAX=(coluna_analise, 'max')\n",
    "    ).reset_index().sort_values(by='data_extracao')\n",
    "\n",
    "base_teste"
   ]
  },
  {
   "cell_type": "code",
   "execution_count": 11,
   "metadata": {},
   "outputs": [
    {
     "data": {
      "text/plain": [
       "'TOTAL_VISUALIZACOES'"
      ]
     },
     "execution_count": 11,
     "metadata": {},
     "output_type": "execute_result"
    }
   ],
   "source": [
    "coluna_analise"
   ]
  },
  {
   "cell_type": "code",
   "execution_count": 12,
   "metadata": {},
   "outputs": [
    {
     "data": {
      "text/html": [
       "<div>\n",
       "<style scoped>\n",
       "    .dataframe tbody tr th:only-of-type {\n",
       "        vertical-align: middle;\n",
       "    }\n",
       "\n",
       "    .dataframe tbody tr th {\n",
       "        vertical-align: top;\n",
       "    }\n",
       "\n",
       "    .dataframe thead th {\n",
       "        text-align: right;\n",
       "    }\n",
       "</style>\n",
       "<table border=\"1\" class=\"dataframe\">\n",
       "  <thead>\n",
       "    <tr style=\"text-align: right;\">\n",
       "      <th></th>\n",
       "      <th>data_extracao</th>\n",
       "      <th>TOTAL_MAX</th>\n",
       "    </tr>\n",
       "  </thead>\n",
       "  <tbody>\n",
       "    <tr>\n",
       "      <th>0</th>\n",
       "      <td>2024-01-17</td>\n",
       "      <td>113588</td>\n",
       "    </tr>\n",
       "    <tr>\n",
       "      <th>1</th>\n",
       "      <td>2024-01-18</td>\n",
       "      <td>322230</td>\n",
       "    </tr>\n",
       "    <tr>\n",
       "      <th>2</th>\n",
       "      <td>2024-01-19</td>\n",
       "      <td>593716</td>\n",
       "    </tr>\n",
       "    <tr>\n",
       "      <th>3</th>\n",
       "      <td>2024-01-20</td>\n",
       "      <td>802715</td>\n",
       "    </tr>\n",
       "    <tr>\n",
       "      <th>4</th>\n",
       "      <td>2024-01-21</td>\n",
       "      <td>931486</td>\n",
       "    </tr>\n",
       "    <tr>\n",
       "      <th>5</th>\n",
       "      <td>2024-01-22</td>\n",
       "      <td>1229704</td>\n",
       "    </tr>\n",
       "    <tr>\n",
       "      <th>6</th>\n",
       "      <td>2024-01-23</td>\n",
       "      <td>1495090</td>\n",
       "    </tr>\n",
       "  </tbody>\n",
       "</table>\n",
       "</div>"
      ],
      "text/plain": [
       "  data_extracao  TOTAL_MAX\n",
       "0    2024-01-17     113588\n",
       "1    2024-01-18     322230\n",
       "2    2024-01-19     593716\n",
       "3    2024-01-20     802715\n",
       "4    2024-01-21     931486\n",
       "5    2024-01-22    1229704\n",
       "6    2024-01-23    1495090"
      ]
     },
     "execution_count": 12,
     "metadata": {},
     "output_type": "execute_result"
    }
   ],
   "source": [
    "base_teste = base_teste.groupby('data_extracao') \\\n",
    "    .agg(\n",
    "        TOTAL_MAX=(f'TOTAL_MAX', 'sum')\n",
    "    ).reset_index()\n",
    "base_teste"
   ]
  },
  {
   "cell_type": "code",
   "execution_count": null,
   "metadata": {},
   "outputs": [],
   "source": []
  },
  {
   "cell_type": "code",
   "execution_count": 13,
   "metadata": {},
   "outputs": [
    {
     "data": {
      "text/html": [
       "<div>\n",
       "<style scoped>\n",
       "    .dataframe tbody tr th:only-of-type {\n",
       "        vertical-align: middle;\n",
       "    }\n",
       "\n",
       "    .dataframe tbody tr th {\n",
       "        vertical-align: top;\n",
       "    }\n",
       "\n",
       "    .dataframe thead th {\n",
       "        text-align: right;\n",
       "    }\n",
       "</style>\n",
       "<table border=\"1\" class=\"dataframe\">\n",
       "  <thead>\n",
       "    <tr style=\"text-align: right;\">\n",
       "      <th></th>\n",
       "      <th>data_extracao</th>\n",
       "      <th>TOTAL_MAX</th>\n",
       "      <th>TOTAL_MAX_DIA</th>\n",
       "      <th>PERCENTUAL_VARIACAO</th>\n",
       "    </tr>\n",
       "  </thead>\n",
       "  <tbody>\n",
       "    <tr>\n",
       "      <th>0</th>\n",
       "      <td>2024-01-17</td>\n",
       "      <td>113588</td>\n",
       "      <td>113588</td>\n",
       "      <td>0.00</td>\n",
       "    </tr>\n",
       "    <tr>\n",
       "      <th>1</th>\n",
       "      <td>2024-01-18</td>\n",
       "      <td>322230</td>\n",
       "      <td>208642</td>\n",
       "      <td>83.68</td>\n",
       "    </tr>\n",
       "    <tr>\n",
       "      <th>2</th>\n",
       "      <td>2024-01-19</td>\n",
       "      <td>593716</td>\n",
       "      <td>271486</td>\n",
       "      <td>30.12</td>\n",
       "    </tr>\n",
       "    <tr>\n",
       "      <th>3</th>\n",
       "      <td>2024-01-20</td>\n",
       "      <td>802715</td>\n",
       "      <td>208999</td>\n",
       "      <td>-23.02</td>\n",
       "    </tr>\n",
       "    <tr>\n",
       "      <th>4</th>\n",
       "      <td>2024-01-21</td>\n",
       "      <td>931486</td>\n",
       "      <td>128771</td>\n",
       "      <td>-38.39</td>\n",
       "    </tr>\n",
       "    <tr>\n",
       "      <th>5</th>\n",
       "      <td>2024-01-22</td>\n",
       "      <td>1229704</td>\n",
       "      <td>298218</td>\n",
       "      <td>131.59</td>\n",
       "    </tr>\n",
       "    <tr>\n",
       "      <th>6</th>\n",
       "      <td>2024-01-23</td>\n",
       "      <td>1495090</td>\n",
       "      <td>265386</td>\n",
       "      <td>-11.01</td>\n",
       "    </tr>\n",
       "  </tbody>\n",
       "</table>\n",
       "</div>"
      ],
      "text/plain": [
       "  data_extracao  TOTAL_MAX  TOTAL_MAX_DIA  PERCENTUAL_VARIACAO\n",
       "0    2024-01-17     113588         113588                 0.00\n",
       "1    2024-01-18     322230         208642                83.68\n",
       "2    2024-01-19     593716         271486                30.12\n",
       "3    2024-01-20     802715         208999               -23.02\n",
       "4    2024-01-21     931486         128771               -38.39\n",
       "5    2024-01-22    1229704         298218               131.59\n",
       "6    2024-01-23    1495090         265386               -11.01"
      ]
     },
     "execution_count": 13,
     "metadata": {},
     "output_type": "execute_result"
    }
   ],
   "source": [
    "base_teste['TOTAL_MAX_DESLOCADO'] = base_teste['TOTAL_MAX'].shift(1)\n",
    "base_teste.fillna(0, inplace=True)\n",
    "base_teste['TOTAL_MAX_DIA'] = base_teste['TOTAL_MAX'] - base_teste['TOTAL_MAX_DESLOCADO'].astype('int32')\n",
    "base_teste['TOTAL_MAX_DIA_DESLOCADO'] = base_teste['TOTAL_MAX_DIA'].shift(1)\n",
    "base_teste.fillna(0, inplace=True)\n",
    "base_teste['PERCENTUAL_VARIACAO'] = round(((base_teste['TOTAL_MAX_DIA'] -  base_teste['TOTAL_MAX_DIA_DESLOCADO']) / base_teste['TOTAL_MAX_DIA_DESLOCADO']) * 100 , 2)\n",
    "base_teste.drop(['TOTAL_MAX_DESLOCADO', 'TOTAL_MAX_DIA_DESLOCADO'], axis=1, inplace=True)\n",
    "base_teste.replace([np.inf, -np.inf], 0, inplace=True)\n",
    "base_teste"
   ]
  },
  {
   "cell_type": "code",
   "execution_count": 14,
   "metadata": {},
   "outputs": [
    {
     "name": "stdout",
     "output_type": "stream",
     "text": [
      "<class 'pandas.core.frame.DataFrame'>\n",
      "RangeIndex: 7 entries, 0 to 6\n",
      "Data columns (total 4 columns):\n",
      " #   Column               Non-Null Count  Dtype         \n",
      "---  ------               --------------  -----         \n",
      " 0   data_extracao        7 non-null      datetime64[ns]\n",
      " 1   TOTAL_MAX            7 non-null      int32         \n",
      " 2   TOTAL_MAX_DIA        7 non-null      int32         \n",
      " 3   PERCENTUAL_VARIACAO  7 non-null      float64       \n",
      "dtypes: datetime64[ns](1), float64(1), int32(2)\n",
      "memory usage: 296.0 bytes\n"
     ]
    }
   ],
   "source": [
    "base_teste.info()"
   ]
  },
  {
   "cell_type": "code",
   "execution_count": 15,
   "metadata": {},
   "outputs": [
    {
     "data": {
      "text/plain": [
       "131.59"
      ]
     },
     "execution_count": 15,
     "metadata": {},
     "output_type": "execute_result"
    }
   ],
   "source": [
    "base_teste.nlargest(1, columns=['PERCENTUAL_VARIACAO'])['PERCENTUAL_VARIACAO'].values[0]"
   ]
  },
  {
   "cell_type": "code",
   "execution_count": 16,
   "metadata": {},
   "outputs": [],
   "source": [
    "top_dez_asc = base_teste.nlargest(1, columns=['PERCENTUAL_VARIACAO'])\n",
    "top_dez_desc = base_teste.nsmallest(1, columns=['PERCENTUAL_VARIACAO'])"
   ]
  },
  {
   "cell_type": "code",
   "execution_count": 17,
   "metadata": {},
   "outputs": [
    {
     "data": {
      "text/html": [
       "<div>\n",
       "<style scoped>\n",
       "    .dataframe tbody tr th:only-of-type {\n",
       "        vertical-align: middle;\n",
       "    }\n",
       "\n",
       "    .dataframe tbody tr th {\n",
       "        vertical-align: top;\n",
       "    }\n",
       "\n",
       "    .dataframe thead th {\n",
       "        text-align: right;\n",
       "    }\n",
       "</style>\n",
       "<table border=\"1\" class=\"dataframe\">\n",
       "  <thead>\n",
       "    <tr style=\"text-align: right;\">\n",
       "      <th></th>\n",
       "      <th>data_extracao</th>\n",
       "      <th>TOTAL_MAX</th>\n",
       "      <th>TOTAL_MAX_DIA</th>\n",
       "      <th>PERCENTUAL_VARIACAO</th>\n",
       "    </tr>\n",
       "  </thead>\n",
       "  <tbody>\n",
       "    <tr>\n",
       "      <th>5</th>\n",
       "      <td>2024-01-22</td>\n",
       "      <td>1229704</td>\n",
       "      <td>298218</td>\n",
       "      <td>131.59</td>\n",
       "    </tr>\n",
       "  </tbody>\n",
       "</table>\n",
       "</div>"
      ],
      "text/plain": [
       "  data_extracao  TOTAL_MAX  TOTAL_MAX_DIA  PERCENTUAL_VARIACAO\n",
       "5    2024-01-22    1229704         298218               131.59"
      ]
     },
     "execution_count": 17,
     "metadata": {},
     "output_type": "execute_result"
    }
   ],
   "source": [
    "top_dez_asc"
   ]
  },
  {
   "cell_type": "code",
   "execution_count": 18,
   "metadata": {},
   "outputs": [
    {
     "data": {
      "text/html": [
       "<div>\n",
       "<style scoped>\n",
       "    .dataframe tbody tr th:only-of-type {\n",
       "        vertical-align: middle;\n",
       "    }\n",
       "\n",
       "    .dataframe tbody tr th {\n",
       "        vertical-align: top;\n",
       "    }\n",
       "\n",
       "    .dataframe thead th {\n",
       "        text-align: right;\n",
       "    }\n",
       "</style>\n",
       "<table border=\"1\" class=\"dataframe\">\n",
       "  <thead>\n",
       "    <tr style=\"text-align: right;\">\n",
       "      <th></th>\n",
       "      <th>data_extracao</th>\n",
       "      <th>TOTAL_MAX</th>\n",
       "      <th>TOTAL_MAX_DIA</th>\n",
       "      <th>PERCENTUAL_VARIACAO</th>\n",
       "    </tr>\n",
       "  </thead>\n",
       "  <tbody>\n",
       "    <tr>\n",
       "      <th>4</th>\n",
       "      <td>2024-01-21</td>\n",
       "      <td>931486</td>\n",
       "      <td>128771</td>\n",
       "      <td>-38.39</td>\n",
       "    </tr>\n",
       "  </tbody>\n",
       "</table>\n",
       "</div>"
      ],
      "text/plain": [
       "  data_extracao  TOTAL_MAX  TOTAL_MAX_DIA  PERCENTUAL_VARIACAO\n",
       "4    2024-01-21     931486         128771               -38.39"
      ]
     },
     "execution_count": 18,
     "metadata": {},
     "output_type": "execute_result"
    }
   ],
   "source": [
    "top_dez_desc"
   ]
  },
  {
   "cell_type": "code",
   "execution_count": 19,
   "metadata": {},
   "outputs": [],
   "source": [
    "min_value = base_teste['TOTAL_MAX_DIA'].min()\n",
    "max_value = base_teste['TOTAL_MAX_DIA'].max()"
   ]
  },
  {
   "cell_type": "code",
   "execution_count": 20,
   "metadata": {},
   "outputs": [
    {
     "data": {
      "text/html": [
       "<div>\n",
       "<style scoped>\n",
       "    .dataframe tbody tr th:only-of-type {\n",
       "        vertical-align: middle;\n",
       "    }\n",
       "\n",
       "    .dataframe tbody tr th {\n",
       "        vertical-align: top;\n",
       "    }\n",
       "\n",
       "    .dataframe thead th {\n",
       "        text-align: right;\n",
       "    }\n",
       "</style>\n",
       "<table border=\"1\" class=\"dataframe\">\n",
       "  <thead>\n",
       "    <tr style=\"text-align: right;\">\n",
       "      <th></th>\n",
       "      <th>data_extracao</th>\n",
       "      <th>TOTAL_MAX</th>\n",
       "      <th>TOTAL_MAX_DIA</th>\n",
       "      <th>PERCENTUAL_VARIACAO</th>\n",
       "    </tr>\n",
       "  </thead>\n",
       "  <tbody>\n",
       "    <tr>\n",
       "      <th>0</th>\n",
       "      <td>2024-01-17</td>\n",
       "      <td>113588</td>\n",
       "      <td>113588</td>\n",
       "      <td>0.00</td>\n",
       "    </tr>\n",
       "    <tr>\n",
       "      <th>1</th>\n",
       "      <td>2024-01-18</td>\n",
       "      <td>322230</td>\n",
       "      <td>208642</td>\n",
       "      <td>83.68</td>\n",
       "    </tr>\n",
       "    <tr>\n",
       "      <th>2</th>\n",
       "      <td>2024-01-19</td>\n",
       "      <td>593716</td>\n",
       "      <td>271486</td>\n",
       "      <td>30.12</td>\n",
       "    </tr>\n",
       "    <tr>\n",
       "      <th>3</th>\n",
       "      <td>2024-01-20</td>\n",
       "      <td>802715</td>\n",
       "      <td>208999</td>\n",
       "      <td>-23.02</td>\n",
       "    </tr>\n",
       "    <tr>\n",
       "      <th>4</th>\n",
       "      <td>2024-01-21</td>\n",
       "      <td>931486</td>\n",
       "      <td>128771</td>\n",
       "      <td>-38.39</td>\n",
       "    </tr>\n",
       "    <tr>\n",
       "      <th>5</th>\n",
       "      <td>2024-01-22</td>\n",
       "      <td>1229704</td>\n",
       "      <td>298218</td>\n",
       "      <td>131.59</td>\n",
       "    </tr>\n",
       "    <tr>\n",
       "      <th>6</th>\n",
       "      <td>2024-01-23</td>\n",
       "      <td>1495090</td>\n",
       "      <td>265386</td>\n",
       "      <td>-11.01</td>\n",
       "    </tr>\n",
       "  </tbody>\n",
       "</table>\n",
       "</div>"
      ],
      "text/plain": [
       "  data_extracao  TOTAL_MAX  TOTAL_MAX_DIA  PERCENTUAL_VARIACAO\n",
       "0    2024-01-17     113588         113588                 0.00\n",
       "1    2024-01-18     322230         208642                83.68\n",
       "2    2024-01-19     593716         271486                30.12\n",
       "3    2024-01-20     802715         208999               -23.02\n",
       "4    2024-01-21     931486         128771               -38.39\n",
       "5    2024-01-22    1229704         298218               131.59\n",
       "6    2024-01-23    1495090         265386               -11.01"
      ]
     },
     "execution_count": 20,
     "metadata": {},
     "output_type": "execute_result"
    }
   ],
   "source": [
    "base_teste"
   ]
  },
  {
   "cell_type": "code",
   "execution_count": 21,
   "metadata": {},
   "outputs": [
    {
     "data": {
      "application/vnd.plotly.v1+json": {
       "config": {
        "plotlyServerURL": "https://plot.ly"
       },
       "data": [
        {
         "alignmentgroup": "True",
         "hovertemplate": "<b>DATA</b>: %{x}<br>Total Visualizações dia: %{y}",
         "legendgroup": "blue",
         "marker": {
          "color": "#636efa",
          "pattern": {
           "shape": ""
          }
         },
         "name": "blue",
         "offsetgroup": "blue",
         "orientation": "v",
         "showlegend": true,
         "text": "None",
         "textposition": "auto",
         "texttemplate": "%{y:0}",
         "type": "bar",
         "x": [
          "2024-01-17T00:00:00"
         ],
         "xaxis": "x",
         "y": [
          113588
         ],
         "yaxis": "y"
        },
        {
         "alignmentgroup": "True",
         "hovertemplate": "<b>DATA</b>: %{x}<br>Total Visualizações dia: %{y}",
         "legendgroup": "red",
         "marker": {
          "color": "#EF553B",
          "pattern": {
           "shape": ""
          }
         },
         "name": "red",
         "offsetgroup": "red",
         "orientation": "v",
         "showlegend": true,
         "text": "None",
         "textposition": "auto",
         "texttemplate": "%{y:0}",
         "type": "bar",
         "x": [
          "2024-01-18T00:00:00",
          "2024-01-19T00:00:00",
          "2024-01-20T00:00:00",
          "2024-01-21T00:00:00",
          "2024-01-23T00:00:00"
         ],
         "xaxis": "x",
         "y": [
          208642,
          271486,
          208999,
          128771,
          265386
         ],
         "yaxis": "y"
        },
        {
         "alignmentgroup": "True",
         "hovertemplate": "<b>DATA</b>: %{x}<br>Total Visualizações dia: %{y}",
         "legendgroup": "green",
         "marker": {
          "color": "#00cc96",
          "pattern": {
           "shape": ""
          }
         },
         "name": "green",
         "offsetgroup": "green",
         "orientation": "v",
         "showlegend": true,
         "text": "None",
         "textposition": "auto",
         "texttemplate": "%{y:0}",
         "type": "bar",
         "x": [
          "2024-01-22T00:00:00"
         ],
         "xaxis": "x",
         "y": [
          298218
         ],
         "yaxis": "y"
        }
       ],
       "layout": {
        "annotations": [
         {
          "ax": 8,
          "axref": "x",
          "ay": 40000,
          "ayref": "y",
          "showarrow": false,
          "text": "A maior Variação de views observada foi no dia 18/01/2024 com o percentual de 176,6%<br>A menor Variação de views observada foi no dia 23/01/2024 com o percentual de -22,96%",
          "x": 0.01,
          "xref": "paper",
          "y": 1,
          "yref": "paper"
         }
        ],
        "barmode": "relative",
        "legend": {
         "title": {
          "text": "color"
         },
         "tracegroupgap": 0
        },
        "margin": {
         "t": 60
        },
        "plot_bgcolor": "white",
        "showlegend": false,
        "template": {
         "data": {
          "bar": [
           {
            "error_x": {
             "color": "#2a3f5f"
            },
            "error_y": {
             "color": "#2a3f5f"
            },
            "marker": {
             "line": {
              "color": "#E5ECF6",
              "width": 0.5
             },
             "pattern": {
              "fillmode": "overlay",
              "size": 10,
              "solidity": 0.2
             }
            },
            "type": "bar"
           }
          ],
          "barpolar": [
           {
            "marker": {
             "line": {
              "color": "#E5ECF6",
              "width": 0.5
             },
             "pattern": {
              "fillmode": "overlay",
              "size": 10,
              "solidity": 0.2
             }
            },
            "type": "barpolar"
           }
          ],
          "carpet": [
           {
            "aaxis": {
             "endlinecolor": "#2a3f5f",
             "gridcolor": "white",
             "linecolor": "white",
             "minorgridcolor": "white",
             "startlinecolor": "#2a3f5f"
            },
            "baxis": {
             "endlinecolor": "#2a3f5f",
             "gridcolor": "white",
             "linecolor": "white",
             "minorgridcolor": "white",
             "startlinecolor": "#2a3f5f"
            },
            "type": "carpet"
           }
          ],
          "choropleth": [
           {
            "colorbar": {
             "outlinewidth": 0,
             "ticks": ""
            },
            "type": "choropleth"
           }
          ],
          "contour": [
           {
            "colorbar": {
             "outlinewidth": 0,
             "ticks": ""
            },
            "colorscale": [
             [
              0,
              "#0d0887"
             ],
             [
              0.1111111111111111,
              "#46039f"
             ],
             [
              0.2222222222222222,
              "#7201a8"
             ],
             [
              0.3333333333333333,
              "#9c179e"
             ],
             [
              0.4444444444444444,
              "#bd3786"
             ],
             [
              0.5555555555555556,
              "#d8576b"
             ],
             [
              0.6666666666666666,
              "#ed7953"
             ],
             [
              0.7777777777777778,
              "#fb9f3a"
             ],
             [
              0.8888888888888888,
              "#fdca26"
             ],
             [
              1,
              "#f0f921"
             ]
            ],
            "type": "contour"
           }
          ],
          "contourcarpet": [
           {
            "colorbar": {
             "outlinewidth": 0,
             "ticks": ""
            },
            "type": "contourcarpet"
           }
          ],
          "heatmap": [
           {
            "colorbar": {
             "outlinewidth": 0,
             "ticks": ""
            },
            "colorscale": [
             [
              0,
              "#0d0887"
             ],
             [
              0.1111111111111111,
              "#46039f"
             ],
             [
              0.2222222222222222,
              "#7201a8"
             ],
             [
              0.3333333333333333,
              "#9c179e"
             ],
             [
              0.4444444444444444,
              "#bd3786"
             ],
             [
              0.5555555555555556,
              "#d8576b"
             ],
             [
              0.6666666666666666,
              "#ed7953"
             ],
             [
              0.7777777777777778,
              "#fb9f3a"
             ],
             [
              0.8888888888888888,
              "#fdca26"
             ],
             [
              1,
              "#f0f921"
             ]
            ],
            "type": "heatmap"
           }
          ],
          "heatmapgl": [
           {
            "colorbar": {
             "outlinewidth": 0,
             "ticks": ""
            },
            "colorscale": [
             [
              0,
              "#0d0887"
             ],
             [
              0.1111111111111111,
              "#46039f"
             ],
             [
              0.2222222222222222,
              "#7201a8"
             ],
             [
              0.3333333333333333,
              "#9c179e"
             ],
             [
              0.4444444444444444,
              "#bd3786"
             ],
             [
              0.5555555555555556,
              "#d8576b"
             ],
             [
              0.6666666666666666,
              "#ed7953"
             ],
             [
              0.7777777777777778,
              "#fb9f3a"
             ],
             [
              0.8888888888888888,
              "#fdca26"
             ],
             [
              1,
              "#f0f921"
             ]
            ],
            "type": "heatmapgl"
           }
          ],
          "histogram": [
           {
            "marker": {
             "pattern": {
              "fillmode": "overlay",
              "size": 10,
              "solidity": 0.2
             }
            },
            "type": "histogram"
           }
          ],
          "histogram2d": [
           {
            "colorbar": {
             "outlinewidth": 0,
             "ticks": ""
            },
            "colorscale": [
             [
              0,
              "#0d0887"
             ],
             [
              0.1111111111111111,
              "#46039f"
             ],
             [
              0.2222222222222222,
              "#7201a8"
             ],
             [
              0.3333333333333333,
              "#9c179e"
             ],
             [
              0.4444444444444444,
              "#bd3786"
             ],
             [
              0.5555555555555556,
              "#d8576b"
             ],
             [
              0.6666666666666666,
              "#ed7953"
             ],
             [
              0.7777777777777778,
              "#fb9f3a"
             ],
             [
              0.8888888888888888,
              "#fdca26"
             ],
             [
              1,
              "#f0f921"
             ]
            ],
            "type": "histogram2d"
           }
          ],
          "histogram2dcontour": [
           {
            "colorbar": {
             "outlinewidth": 0,
             "ticks": ""
            },
            "colorscale": [
             [
              0,
              "#0d0887"
             ],
             [
              0.1111111111111111,
              "#46039f"
             ],
             [
              0.2222222222222222,
              "#7201a8"
             ],
             [
              0.3333333333333333,
              "#9c179e"
             ],
             [
              0.4444444444444444,
              "#bd3786"
             ],
             [
              0.5555555555555556,
              "#d8576b"
             ],
             [
              0.6666666666666666,
              "#ed7953"
             ],
             [
              0.7777777777777778,
              "#fb9f3a"
             ],
             [
              0.8888888888888888,
              "#fdca26"
             ],
             [
              1,
              "#f0f921"
             ]
            ],
            "type": "histogram2dcontour"
           }
          ],
          "mesh3d": [
           {
            "colorbar": {
             "outlinewidth": 0,
             "ticks": ""
            },
            "type": "mesh3d"
           }
          ],
          "parcoords": [
           {
            "line": {
             "colorbar": {
              "outlinewidth": 0,
              "ticks": ""
             }
            },
            "type": "parcoords"
           }
          ],
          "pie": [
           {
            "automargin": true,
            "type": "pie"
           }
          ],
          "scatter": [
           {
            "fillpattern": {
             "fillmode": "overlay",
             "size": 10,
             "solidity": 0.2
            },
            "type": "scatter"
           }
          ],
          "scatter3d": [
           {
            "line": {
             "colorbar": {
              "outlinewidth": 0,
              "ticks": ""
             }
            },
            "marker": {
             "colorbar": {
              "outlinewidth": 0,
              "ticks": ""
             }
            },
            "type": "scatter3d"
           }
          ],
          "scattercarpet": [
           {
            "marker": {
             "colorbar": {
              "outlinewidth": 0,
              "ticks": ""
             }
            },
            "type": "scattercarpet"
           }
          ],
          "scattergeo": [
           {
            "marker": {
             "colorbar": {
              "outlinewidth": 0,
              "ticks": ""
             }
            },
            "type": "scattergeo"
           }
          ],
          "scattergl": [
           {
            "marker": {
             "colorbar": {
              "outlinewidth": 0,
              "ticks": ""
             }
            },
            "type": "scattergl"
           }
          ],
          "scattermapbox": [
           {
            "marker": {
             "colorbar": {
              "outlinewidth": 0,
              "ticks": ""
             }
            },
            "type": "scattermapbox"
           }
          ],
          "scatterpolar": [
           {
            "marker": {
             "colorbar": {
              "outlinewidth": 0,
              "ticks": ""
             }
            },
            "type": "scatterpolar"
           }
          ],
          "scatterpolargl": [
           {
            "marker": {
             "colorbar": {
              "outlinewidth": 0,
              "ticks": ""
             }
            },
            "type": "scatterpolargl"
           }
          ],
          "scatterternary": [
           {
            "marker": {
             "colorbar": {
              "outlinewidth": 0,
              "ticks": ""
             }
            },
            "type": "scatterternary"
           }
          ],
          "surface": [
           {
            "colorbar": {
             "outlinewidth": 0,
             "ticks": ""
            },
            "colorscale": [
             [
              0,
              "#0d0887"
             ],
             [
              0.1111111111111111,
              "#46039f"
             ],
             [
              0.2222222222222222,
              "#7201a8"
             ],
             [
              0.3333333333333333,
              "#9c179e"
             ],
             [
              0.4444444444444444,
              "#bd3786"
             ],
             [
              0.5555555555555556,
              "#d8576b"
             ],
             [
              0.6666666666666666,
              "#ed7953"
             ],
             [
              0.7777777777777778,
              "#fb9f3a"
             ],
             [
              0.8888888888888888,
              "#fdca26"
             ],
             [
              1,
              "#f0f921"
             ]
            ],
            "type": "surface"
           }
          ],
          "table": [
           {
            "cells": {
             "fill": {
              "color": "#EBF0F8"
             },
             "line": {
              "color": "white"
             }
            },
            "header": {
             "fill": {
              "color": "#C8D4E3"
             },
             "line": {
              "color": "white"
             }
            },
            "type": "table"
           }
          ]
         },
         "layout": {
          "annotationdefaults": {
           "arrowcolor": "#2a3f5f",
           "arrowhead": 0,
           "arrowwidth": 1
          },
          "autotypenumbers": "strict",
          "coloraxis": {
           "colorbar": {
            "outlinewidth": 0,
            "ticks": ""
           }
          },
          "colorscale": {
           "diverging": [
            [
             0,
             "#8e0152"
            ],
            [
             0.1,
             "#c51b7d"
            ],
            [
             0.2,
             "#de77ae"
            ],
            [
             0.3,
             "#f1b6da"
            ],
            [
             0.4,
             "#fde0ef"
            ],
            [
             0.5,
             "#f7f7f7"
            ],
            [
             0.6,
             "#e6f5d0"
            ],
            [
             0.7,
             "#b8e186"
            ],
            [
             0.8,
             "#7fbc41"
            ],
            [
             0.9,
             "#4d9221"
            ],
            [
             1,
             "#276419"
            ]
           ],
           "sequential": [
            [
             0,
             "#0d0887"
            ],
            [
             0.1111111111111111,
             "#46039f"
            ],
            [
             0.2222222222222222,
             "#7201a8"
            ],
            [
             0.3333333333333333,
             "#9c179e"
            ],
            [
             0.4444444444444444,
             "#bd3786"
            ],
            [
             0.5555555555555556,
             "#d8576b"
            ],
            [
             0.6666666666666666,
             "#ed7953"
            ],
            [
             0.7777777777777778,
             "#fb9f3a"
            ],
            [
             0.8888888888888888,
             "#fdca26"
            ],
            [
             1,
             "#f0f921"
            ]
           ],
           "sequentialminus": [
            [
             0,
             "#0d0887"
            ],
            [
             0.1111111111111111,
             "#46039f"
            ],
            [
             0.2222222222222222,
             "#7201a8"
            ],
            [
             0.3333333333333333,
             "#9c179e"
            ],
            [
             0.4444444444444444,
             "#bd3786"
            ],
            [
             0.5555555555555556,
             "#d8576b"
            ],
            [
             0.6666666666666666,
             "#ed7953"
            ],
            [
             0.7777777777777778,
             "#fb9f3a"
            ],
            [
             0.8888888888888888,
             "#fdca26"
            ],
            [
             1,
             "#f0f921"
            ]
           ]
          },
          "colorway": [
           "#636efa",
           "#EF553B",
           "#00cc96",
           "#ab63fa",
           "#FFA15A",
           "#19d3f3",
           "#FF6692",
           "#B6E880",
           "#FF97FF",
           "#FECB52"
          ],
          "font": {
           "color": "#2a3f5f"
          },
          "geo": {
           "bgcolor": "white",
           "lakecolor": "white",
           "landcolor": "#E5ECF6",
           "showlakes": true,
           "showland": true,
           "subunitcolor": "white"
          },
          "hoverlabel": {
           "align": "left"
          },
          "hovermode": "closest",
          "mapbox": {
           "style": "light"
          },
          "paper_bgcolor": "white",
          "plot_bgcolor": "#E5ECF6",
          "polar": {
           "angularaxis": {
            "gridcolor": "white",
            "linecolor": "white",
            "ticks": ""
           },
           "bgcolor": "#E5ECF6",
           "radialaxis": {
            "gridcolor": "white",
            "linecolor": "white",
            "ticks": ""
           }
          },
          "scene": {
           "xaxis": {
            "backgroundcolor": "#E5ECF6",
            "gridcolor": "white",
            "gridwidth": 2,
            "linecolor": "white",
            "showbackground": true,
            "ticks": "",
            "zerolinecolor": "white"
           },
           "yaxis": {
            "backgroundcolor": "#E5ECF6",
            "gridcolor": "white",
            "gridwidth": 2,
            "linecolor": "white",
            "showbackground": true,
            "ticks": "",
            "zerolinecolor": "white"
           },
           "zaxis": {
            "backgroundcolor": "#E5ECF6",
            "gridcolor": "white",
            "gridwidth": 2,
            "linecolor": "white",
            "showbackground": true,
            "ticks": "",
            "zerolinecolor": "white"
           }
          },
          "shapedefaults": {
           "line": {
            "color": "#2a3f5f"
           }
          },
          "ternary": {
           "aaxis": {
            "gridcolor": "white",
            "linecolor": "white",
            "ticks": ""
           },
           "baxis": {
            "gridcolor": "white",
            "linecolor": "white",
            "ticks": ""
           },
           "bgcolor": "#E5ECF6",
           "caxis": {
            "gridcolor": "white",
            "linecolor": "white",
            "ticks": ""
           }
          },
          "title": {
           "x": 0.05
          },
          "xaxis": {
           "automargin": true,
           "gridcolor": "white",
           "linecolor": "white",
           "ticks": "",
           "title": {
            "standoff": 15
           },
           "zerolinecolor": "white",
           "zerolinewidth": 2
          },
          "yaxis": {
           "automargin": true,
           "gridcolor": "white",
           "linecolor": "white",
           "ticks": "",
           "title": {
            "standoff": 15
           },
           "zerolinecolor": "white",
           "zerolinewidth": 2
          }
         }
        },
        "xaxis": {
         "anchor": "y",
         "domain": [
          0,
          1
         ],
         "showgrid": false,
         "showline": false,
         "tickformat": "%d/%m/%Y",
         "title": {
          "text": "data_extracao"
         }
        },
        "yaxis": {
         "anchor": "x",
         "domain": [
          0,
          1
         ],
         "showgrid": false,
         "showline": false,
         "title": {
          "text": "TOTAL_MAX_DIA"
         }
        }
       }
      }
     },
     "metadata": {},
     "output_type": "display_data"
    }
   ],
   "source": [
    "fig = px.bar(\n",
    "    base_teste, \n",
    "    x='data_extracao', \n",
    "    y='TOTAL_MAX_DIA', \n",
    "    text_auto='0',\n",
    "    color=base_teste['TOTAL_MAX_DIA'].apply(lambda x: 'blue' if x == min_value else ('green' if x == max_value else 'red')), \n",
    ")\n",
    "fig.update_layout(\n",
    "    xaxis_tickformat='%d/%m/%Y',\n",
    "    plot_bgcolor= 'white',\n",
    "     xaxis=dict(\n",
    "        showgrid=False,\n",
    "        showline=False,\n",
    "    ),\n",
    "    yaxis=dict(\n",
    "        showgrid=False,\n",
    "        showline=False,\n",
    "    ),\n",
    "    showlegend=False,\n",
    "\n",
    ")\n",
    "fig.add_annotation(\n",
    "    text='A maior Variação de views observada foi no dia 18/01/2024 com o percentual de 176,6%<br>'\n",
    "        'A menor Variação de views observada foi no dia 23/01/2024 com o percentual de -22,96%',  \n",
    "    xref=\"paper\", \n",
    "    yref=\"paper\",\n",
    "    axref = 'x', \n",
    "    ayref='y', \n",
    "    x=0.01, \n",
    "    y=1,\n",
    "    ax=8, \n",
    "    ay=40e3,\n",
    "    showarrow=False\n",
    ")\n",
    "fig.update_traces(\n",
    "    hovertemplate='<b>DATA</b>: %{x}' \n",
    "    '<br>Total Visualizações dia: %{y}',\n",
    "    text='None'\n",
    ")\n",
    "\n",
    "fig.show()"
   ]
  },
  {
   "cell_type": "code",
   "execution_count": 22,
   "metadata": {},
   "outputs": [
    {
     "data": {
      "application/vnd.plotly.v1+json": {
       "config": {
        "plotlyServerURL": "https://plot.ly"
       },
       "data": [
        {
         "hovertemplate": "<b>Data: %{x}</b><br>Total Visualização: %{y}",
         "marker": {
          "color": [
           "blue",
           "red",
           "red",
           "red",
           "red",
           "green",
           "red"
          ]
         },
         "text": [
          113588,
          208642,
          271486,
          208999,
          128771,
          298218,
          265386
         ],
         "type": "bar",
         "x": [
          "2024-01-17T00:00:00.000000000",
          "2024-01-18T00:00:00.000000000",
          "2024-01-19T00:00:00.000000000",
          "2024-01-20T00:00:00.000000000",
          "2024-01-21T00:00:00.000000000",
          "2024-01-22T00:00:00.000000000",
          "2024-01-23T00:00:00.000000000"
         ],
         "y": [
          113588,
          208642,
          271486,
          208999,
          128771,
          298218,
          265386
         ]
        }
       ],
       "layout": {
        "annotations": [
         {
          "axref": "x",
          "ayref": "y",
          "bordercolor": "red",
          "showarrow": false,
          "text": "A <b>maior</b> variação de views observada foi no dia 18/01/2024 com o percentual de176,6% <br> em relação ao dia anterior",
          "x": 0.01,
          "xref": "paper",
          "y": 1,
          "yref": "paper"
         },
         {
          "axref": "x",
          "ayref": "y",
          "bordercolor": "red",
          "borderpad": 4,
          "borderwidth": 1,
          "showarrow": false,
          "text": "A <b>menor</b> variação de views observada foi no dia 23/01/2024 com o percentual de -22,96%<br>em relação ao dia anterior",
          "x": 0.01,
          "xref": "paper",
          "y": 0.9,
          "yref": "paper"
         }
        ],
        "plot_bgcolor": "white",
        "showlegend": false,
        "template": {
         "data": {
          "bar": [
           {
            "error_x": {
             "color": "#2a3f5f"
            },
            "error_y": {
             "color": "#2a3f5f"
            },
            "marker": {
             "line": {
              "color": "#E5ECF6",
              "width": 0.5
             },
             "pattern": {
              "fillmode": "overlay",
              "size": 10,
              "solidity": 0.2
             }
            },
            "type": "bar"
           }
          ],
          "barpolar": [
           {
            "marker": {
             "line": {
              "color": "#E5ECF6",
              "width": 0.5
             },
             "pattern": {
              "fillmode": "overlay",
              "size": 10,
              "solidity": 0.2
             }
            },
            "type": "barpolar"
           }
          ],
          "carpet": [
           {
            "aaxis": {
             "endlinecolor": "#2a3f5f",
             "gridcolor": "white",
             "linecolor": "white",
             "minorgridcolor": "white",
             "startlinecolor": "#2a3f5f"
            },
            "baxis": {
             "endlinecolor": "#2a3f5f",
             "gridcolor": "white",
             "linecolor": "white",
             "minorgridcolor": "white",
             "startlinecolor": "#2a3f5f"
            },
            "type": "carpet"
           }
          ],
          "choropleth": [
           {
            "colorbar": {
             "outlinewidth": 0,
             "ticks": ""
            },
            "type": "choropleth"
           }
          ],
          "contour": [
           {
            "colorbar": {
             "outlinewidth": 0,
             "ticks": ""
            },
            "colorscale": [
             [
              0,
              "#0d0887"
             ],
             [
              0.1111111111111111,
              "#46039f"
             ],
             [
              0.2222222222222222,
              "#7201a8"
             ],
             [
              0.3333333333333333,
              "#9c179e"
             ],
             [
              0.4444444444444444,
              "#bd3786"
             ],
             [
              0.5555555555555556,
              "#d8576b"
             ],
             [
              0.6666666666666666,
              "#ed7953"
             ],
             [
              0.7777777777777778,
              "#fb9f3a"
             ],
             [
              0.8888888888888888,
              "#fdca26"
             ],
             [
              1,
              "#f0f921"
             ]
            ],
            "type": "contour"
           }
          ],
          "contourcarpet": [
           {
            "colorbar": {
             "outlinewidth": 0,
             "ticks": ""
            },
            "type": "contourcarpet"
           }
          ],
          "heatmap": [
           {
            "colorbar": {
             "outlinewidth": 0,
             "ticks": ""
            },
            "colorscale": [
             [
              0,
              "#0d0887"
             ],
             [
              0.1111111111111111,
              "#46039f"
             ],
             [
              0.2222222222222222,
              "#7201a8"
             ],
             [
              0.3333333333333333,
              "#9c179e"
             ],
             [
              0.4444444444444444,
              "#bd3786"
             ],
             [
              0.5555555555555556,
              "#d8576b"
             ],
             [
              0.6666666666666666,
              "#ed7953"
             ],
             [
              0.7777777777777778,
              "#fb9f3a"
             ],
             [
              0.8888888888888888,
              "#fdca26"
             ],
             [
              1,
              "#f0f921"
             ]
            ],
            "type": "heatmap"
           }
          ],
          "heatmapgl": [
           {
            "colorbar": {
             "outlinewidth": 0,
             "ticks": ""
            },
            "colorscale": [
             [
              0,
              "#0d0887"
             ],
             [
              0.1111111111111111,
              "#46039f"
             ],
             [
              0.2222222222222222,
              "#7201a8"
             ],
             [
              0.3333333333333333,
              "#9c179e"
             ],
             [
              0.4444444444444444,
              "#bd3786"
             ],
             [
              0.5555555555555556,
              "#d8576b"
             ],
             [
              0.6666666666666666,
              "#ed7953"
             ],
             [
              0.7777777777777778,
              "#fb9f3a"
             ],
             [
              0.8888888888888888,
              "#fdca26"
             ],
             [
              1,
              "#f0f921"
             ]
            ],
            "type": "heatmapgl"
           }
          ],
          "histogram": [
           {
            "marker": {
             "pattern": {
              "fillmode": "overlay",
              "size": 10,
              "solidity": 0.2
             }
            },
            "type": "histogram"
           }
          ],
          "histogram2d": [
           {
            "colorbar": {
             "outlinewidth": 0,
             "ticks": ""
            },
            "colorscale": [
             [
              0,
              "#0d0887"
             ],
             [
              0.1111111111111111,
              "#46039f"
             ],
             [
              0.2222222222222222,
              "#7201a8"
             ],
             [
              0.3333333333333333,
              "#9c179e"
             ],
             [
              0.4444444444444444,
              "#bd3786"
             ],
             [
              0.5555555555555556,
              "#d8576b"
             ],
             [
              0.6666666666666666,
              "#ed7953"
             ],
             [
              0.7777777777777778,
              "#fb9f3a"
             ],
             [
              0.8888888888888888,
              "#fdca26"
             ],
             [
              1,
              "#f0f921"
             ]
            ],
            "type": "histogram2d"
           }
          ],
          "histogram2dcontour": [
           {
            "colorbar": {
             "outlinewidth": 0,
             "ticks": ""
            },
            "colorscale": [
             [
              0,
              "#0d0887"
             ],
             [
              0.1111111111111111,
              "#46039f"
             ],
             [
              0.2222222222222222,
              "#7201a8"
             ],
             [
              0.3333333333333333,
              "#9c179e"
             ],
             [
              0.4444444444444444,
              "#bd3786"
             ],
             [
              0.5555555555555556,
              "#d8576b"
             ],
             [
              0.6666666666666666,
              "#ed7953"
             ],
             [
              0.7777777777777778,
              "#fb9f3a"
             ],
             [
              0.8888888888888888,
              "#fdca26"
             ],
             [
              1,
              "#f0f921"
             ]
            ],
            "type": "histogram2dcontour"
           }
          ],
          "mesh3d": [
           {
            "colorbar": {
             "outlinewidth": 0,
             "ticks": ""
            },
            "type": "mesh3d"
           }
          ],
          "parcoords": [
           {
            "line": {
             "colorbar": {
              "outlinewidth": 0,
              "ticks": ""
             }
            },
            "type": "parcoords"
           }
          ],
          "pie": [
           {
            "automargin": true,
            "type": "pie"
           }
          ],
          "scatter": [
           {
            "fillpattern": {
             "fillmode": "overlay",
             "size": 10,
             "solidity": 0.2
            },
            "type": "scatter"
           }
          ],
          "scatter3d": [
           {
            "line": {
             "colorbar": {
              "outlinewidth": 0,
              "ticks": ""
             }
            },
            "marker": {
             "colorbar": {
              "outlinewidth": 0,
              "ticks": ""
             }
            },
            "type": "scatter3d"
           }
          ],
          "scattercarpet": [
           {
            "marker": {
             "colorbar": {
              "outlinewidth": 0,
              "ticks": ""
             }
            },
            "type": "scattercarpet"
           }
          ],
          "scattergeo": [
           {
            "marker": {
             "colorbar": {
              "outlinewidth": 0,
              "ticks": ""
             }
            },
            "type": "scattergeo"
           }
          ],
          "scattergl": [
           {
            "marker": {
             "colorbar": {
              "outlinewidth": 0,
              "ticks": ""
             }
            },
            "type": "scattergl"
           }
          ],
          "scattermapbox": [
           {
            "marker": {
             "colorbar": {
              "outlinewidth": 0,
              "ticks": ""
             }
            },
            "type": "scattermapbox"
           }
          ],
          "scatterpolar": [
           {
            "marker": {
             "colorbar": {
              "outlinewidth": 0,
              "ticks": ""
             }
            },
            "type": "scatterpolar"
           }
          ],
          "scatterpolargl": [
           {
            "marker": {
             "colorbar": {
              "outlinewidth": 0,
              "ticks": ""
             }
            },
            "type": "scatterpolargl"
           }
          ],
          "scatterternary": [
           {
            "marker": {
             "colorbar": {
              "outlinewidth": 0,
              "ticks": ""
             }
            },
            "type": "scatterternary"
           }
          ],
          "surface": [
           {
            "colorbar": {
             "outlinewidth": 0,
             "ticks": ""
            },
            "colorscale": [
             [
              0,
              "#0d0887"
             ],
             [
              0.1111111111111111,
              "#46039f"
             ],
             [
              0.2222222222222222,
              "#7201a8"
             ],
             [
              0.3333333333333333,
              "#9c179e"
             ],
             [
              0.4444444444444444,
              "#bd3786"
             ],
             [
              0.5555555555555556,
              "#d8576b"
             ],
             [
              0.6666666666666666,
              "#ed7953"
             ],
             [
              0.7777777777777778,
              "#fb9f3a"
             ],
             [
              0.8888888888888888,
              "#fdca26"
             ],
             [
              1,
              "#f0f921"
             ]
            ],
            "type": "surface"
           }
          ],
          "table": [
           {
            "cells": {
             "fill": {
              "color": "#EBF0F8"
             },
             "line": {
              "color": "white"
             }
            },
            "header": {
             "fill": {
              "color": "#C8D4E3"
             },
             "line": {
              "color": "white"
             }
            },
            "type": "table"
           }
          ]
         },
         "layout": {
          "annotationdefaults": {
           "arrowcolor": "#2a3f5f",
           "arrowhead": 0,
           "arrowwidth": 1
          },
          "autotypenumbers": "strict",
          "coloraxis": {
           "colorbar": {
            "outlinewidth": 0,
            "ticks": ""
           }
          },
          "colorscale": {
           "diverging": [
            [
             0,
             "#8e0152"
            ],
            [
             0.1,
             "#c51b7d"
            ],
            [
             0.2,
             "#de77ae"
            ],
            [
             0.3,
             "#f1b6da"
            ],
            [
             0.4,
             "#fde0ef"
            ],
            [
             0.5,
             "#f7f7f7"
            ],
            [
             0.6,
             "#e6f5d0"
            ],
            [
             0.7,
             "#b8e186"
            ],
            [
             0.8,
             "#7fbc41"
            ],
            [
             0.9,
             "#4d9221"
            ],
            [
             1,
             "#276419"
            ]
           ],
           "sequential": [
            [
             0,
             "#0d0887"
            ],
            [
             0.1111111111111111,
             "#46039f"
            ],
            [
             0.2222222222222222,
             "#7201a8"
            ],
            [
             0.3333333333333333,
             "#9c179e"
            ],
            [
             0.4444444444444444,
             "#bd3786"
            ],
            [
             0.5555555555555556,
             "#d8576b"
            ],
            [
             0.6666666666666666,
             "#ed7953"
            ],
            [
             0.7777777777777778,
             "#fb9f3a"
            ],
            [
             0.8888888888888888,
             "#fdca26"
            ],
            [
             1,
             "#f0f921"
            ]
           ],
           "sequentialminus": [
            [
             0,
             "#0d0887"
            ],
            [
             0.1111111111111111,
             "#46039f"
            ],
            [
             0.2222222222222222,
             "#7201a8"
            ],
            [
             0.3333333333333333,
             "#9c179e"
            ],
            [
             0.4444444444444444,
             "#bd3786"
            ],
            [
             0.5555555555555556,
             "#d8576b"
            ],
            [
             0.6666666666666666,
             "#ed7953"
            ],
            [
             0.7777777777777778,
             "#fb9f3a"
            ],
            [
             0.8888888888888888,
             "#fdca26"
            ],
            [
             1,
             "#f0f921"
            ]
           ]
          },
          "colorway": [
           "#636efa",
           "#EF553B",
           "#00cc96",
           "#ab63fa",
           "#FFA15A",
           "#19d3f3",
           "#FF6692",
           "#B6E880",
           "#FF97FF",
           "#FECB52"
          ],
          "font": {
           "color": "#2a3f5f"
          },
          "geo": {
           "bgcolor": "white",
           "lakecolor": "white",
           "landcolor": "#E5ECF6",
           "showlakes": true,
           "showland": true,
           "subunitcolor": "white"
          },
          "hoverlabel": {
           "align": "left"
          },
          "hovermode": "closest",
          "mapbox": {
           "style": "light"
          },
          "paper_bgcolor": "white",
          "plot_bgcolor": "#E5ECF6",
          "polar": {
           "angularaxis": {
            "gridcolor": "white",
            "linecolor": "white",
            "ticks": ""
           },
           "bgcolor": "#E5ECF6",
           "radialaxis": {
            "gridcolor": "white",
            "linecolor": "white",
            "ticks": ""
           }
          },
          "scene": {
           "xaxis": {
            "backgroundcolor": "#E5ECF6",
            "gridcolor": "white",
            "gridwidth": 2,
            "linecolor": "white",
            "showbackground": true,
            "ticks": "",
            "zerolinecolor": "white"
           },
           "yaxis": {
            "backgroundcolor": "#E5ECF6",
            "gridcolor": "white",
            "gridwidth": 2,
            "linecolor": "white",
            "showbackground": true,
            "ticks": "",
            "zerolinecolor": "white"
           },
           "zaxis": {
            "backgroundcolor": "#E5ECF6",
            "gridcolor": "white",
            "gridwidth": 2,
            "linecolor": "white",
            "showbackground": true,
            "ticks": "",
            "zerolinecolor": "white"
           }
          },
          "shapedefaults": {
           "line": {
            "color": "#2a3f5f"
           }
          },
          "ternary": {
           "aaxis": {
            "gridcolor": "white",
            "linecolor": "white",
            "ticks": ""
           },
           "baxis": {
            "gridcolor": "white",
            "linecolor": "white",
            "ticks": ""
           },
           "bgcolor": "#E5ECF6",
           "caxis": {
            "gridcolor": "white",
            "linecolor": "white",
            "ticks": ""
           }
          },
          "title": {
           "x": 0.05
          },
          "xaxis": {
           "automargin": true,
           "gridcolor": "white",
           "linecolor": "white",
           "ticks": "",
           "title": {
            "standoff": 15
           },
           "zerolinecolor": "white",
           "zerolinewidth": 2
          },
          "yaxis": {
           "automargin": true,
           "gridcolor": "white",
           "linecolor": "white",
           "ticks": "",
           "title": {
            "standoff": 15
           },
           "zerolinecolor": "white",
           "zerolinewidth": 2
          }
         }
        },
        "title": {
         "text": "teste"
        },
        "xaxis": {
         "showgrid": false,
         "showline": false,
         "tickformat": "%d/%m/%Y"
        },
        "yaxis": {
         "showgrid": false,
         "showline": false
        }
       }
      }
     },
     "metadata": {},
     "output_type": "display_data"
    }
   ],
   "source": [
    "fig = go.Figure(\n",
    "    go.Bar(\n",
    "        x=base_teste['data_extracao'].values,\n",
    "        y=base_teste['TOTAL_MAX_DIA'].values,\n",
    "        text=base_teste['TOTAL_MAX_DIA'].values,\n",
    "        marker=dict(\n",
    "            color=base_teste['TOTAL_MAX_DIA'].apply(lambda x: 'blue' if x == min_value else ('green' if x == max_value else 'red'))\n",
    "        ),\n",
    "        hovertemplate='<b>Data: %{x}</b>' +\n",
    "                      '<br>Total Visualização: %{y}',\n",
    "    )\n",
    ")\n",
    "\n",
    "fig.update_layout(\n",
    "    xaxis_tickformat='%d/%m/%Y',\n",
    "    plot_bgcolor='white',\n",
    "    title='teste',\n",
    "    xaxis=dict(\n",
    "        showgrid=False,\n",
    "        showline=False,\n",
    "    ),\n",
    "    yaxis=dict(\n",
    "        showgrid=False,\n",
    "        showline=False,\n",
    "    ),\n",
    "    showlegend=False,\n",
    ")\n",
    "\n",
    "fig.add_annotation(\n",
    "    text='A <b>maior</b> variação de views observada foi no dia 18/01/2024 com o percentual de176,6% <br> em relação ao dia anterior' ,\n",
    "    bordercolor='red',\n",
    "    xref=\"paper\", \n",
    "    yref=\"paper\",\n",
    "    axref = 'x', \n",
    "    ayref='y', \n",
    "    x=0.01, \n",
    "    y=1,\n",
    "\n",
    "    showarrow=False,\n",
    "\n",
    ") \n",
    "# Tooltip para informar os TOP com a maior e menor variação do add anotation\n",
    "fig.add_annotation(\n",
    "    text='A <b>menor</b> variação de views observada foi no dia 23/01/2024 com o percentual de -22,96%<br>'\n",
    "         'em relação ao dia anterior',  \n",
    "         borderwidth=1, borderpad=4, bordercolor='red',\n",
    "    xref=\"paper\", \n",
    "    yref=\"paper\",\n",
    "    axref = 'x', \n",
    "    ayref='y', \n",
    "    x=0.01, \n",
    "    y=.9,\n",
    "\n",
    "    showarrow=False,\n",
    "\n",
    ") \n",
    "\n",
    "fig.show()"
   ]
  },
  {
   "cell_type": "markdown",
   "metadata": {},
   "source": [
    "# Dia em que os vídeos são Públicados com alta frequência"
   ]
  },
  {
   "cell_type": "code",
   "execution_count": 23,
   "metadata": {},
   "outputs": [
    {
     "data": {
      "text/plain": [
       "Index(['ASSUNTO', 'data_extracao', 'DATA_PUBLICACAO', 'ID_CANAL', 'NM_CANAL',\n",
       "       'ID_CATEGORIA', 'ID_VIDEO', 'TITULO_VIDEO', 'DESCRICAO', 'TAGS',\n",
       "       'DURACAO_VIDEOS', 'TOTAL_VISUALIZACOES', 'TOTAL_LIKES',\n",
       "       'TOTAL_FAVORITOS', 'TOTAL_COMENTARIOS', 'data_hora_extracao',\n",
       "       'DURACAO_VIDEO_MINUTOS', 'TOTAL_CARACTERE_VIDEO', 'TOTAL_TAGS',\n",
       "       'HORA_EXTRACAO', 'TURNO_EXTRACAO', 'INDICE_TURNO_EXTRACAO'],\n",
       "      dtype='object')"
      ]
     },
     "execution_count": 23,
     "metadata": {},
     "output_type": "execute_result"
    }
   ],
   "source": [
    "base_completa.columns"
   ]
  },
  {
   "cell_type": "code",
   "execution_count": 24,
   "metadata": {},
   "outputs": [],
   "source": [
    "def indice_semana(dia: str) -> int: \n",
    "    dias_semana = {\n",
    "        'Domingo': 1,\n",
    "        'Segunda-feira' : 2,\n",
    "        'Terça-feira' : 3,\n",
    "        'Quarta-feira' : 4,\n",
    "        'Quinta-feira': 5,\n",
    "        'Sexta-feira': 6,\n",
    "        'Sábado' : 7\n",
    "    }\n",
    "\n",
    "    return dias_semana.get(dia)\n"
   ]
  },
  {
   "cell_type": "code",
   "execution_count": 25,
   "metadata": {},
   "outputs": [],
   "source": [
    "traducao_dias = {\n",
    "    'Monday': 'Segunda-feira',\n",
    "    'Tuesday': 'Terça-feira',\n",
    "    'Wednesday': 'Quarta-feira',\n",
    "    'Thursday': 'Quinta-feira',\n",
    "    'Friday': 'Sexta-feira',\n",
    "    'Saturday': 'Sábado',\n",
    "    'Sunday': 'Domingo'\n",
    "}"
   ]
  },
  {
   "cell_type": "code",
   "execution_count": 26,
   "metadata": {},
   "outputs": [
    {
     "data": {
      "text/html": [
       "<div>\n",
       "<style scoped>\n",
       "    .dataframe tbody tr th:only-of-type {\n",
       "        vertical-align: middle;\n",
       "    }\n",
       "\n",
       "    .dataframe tbody tr th {\n",
       "        vertical-align: top;\n",
       "    }\n",
       "\n",
       "    .dataframe thead th {\n",
       "        text-align: right;\n",
       "    }\n",
       "</style>\n",
       "<table border=\"1\" class=\"dataframe\">\n",
       "  <thead>\n",
       "    <tr style=\"text-align: right;\">\n",
       "      <th></th>\n",
       "      <th>DATA_PUBLICACAO</th>\n",
       "      <th>ASSUNTO</th>\n",
       "      <th>ID_VIDEO</th>\n",
       "      <th>DIA_PUBLICACAO</th>\n",
       "      <th>INDEX_DIA_PUBLICACAO</th>\n",
       "    </tr>\n",
       "  </thead>\n",
       "  <tbody>\n",
       "    <tr>\n",
       "      <th>9139</th>\n",
       "      <td>2024-01-21</td>\n",
       "      <td>assunto_cities_skylines_2</td>\n",
       "      <td>38KqRAlHM2I</td>\n",
       "      <td>Domingo</td>\n",
       "      <td>6</td>\n",
       "    </tr>\n",
       "    <tr>\n",
       "      <th>9141</th>\n",
       "      <td>2024-01-22</td>\n",
       "      <td>assunto_cities_skylines_2</td>\n",
       "      <td>q4gfnofyqPA</td>\n",
       "      <td>Segunda-feira</td>\n",
       "      <td>0</td>\n",
       "    </tr>\n",
       "    <tr>\n",
       "      <th>9143</th>\n",
       "      <td>2024-01-17</td>\n",
       "      <td>assunto_cities_skylines_2</td>\n",
       "      <td>J0O_HqOo4UE</td>\n",
       "      <td>Quarta-feira</td>\n",
       "      <td>2</td>\n",
       "    </tr>\n",
       "    <tr>\n",
       "      <th>9144</th>\n",
       "      <td>2024-01-22</td>\n",
       "      <td>assunto_cities_skylines_2</td>\n",
       "      <td>YFtLefRNzRg</td>\n",
       "      <td>Segunda-feira</td>\n",
       "      <td>0</td>\n",
       "    </tr>\n",
       "    <tr>\n",
       "      <th>9145</th>\n",
       "      <td>2024-01-21</td>\n",
       "      <td>assunto_cities_skylines_2</td>\n",
       "      <td>eSlVZlnXEHo</td>\n",
       "      <td>Domingo</td>\n",
       "      <td>6</td>\n",
       "    </tr>\n",
       "    <tr>\n",
       "      <th>...</th>\n",
       "      <td>...</td>\n",
       "      <td>...</td>\n",
       "      <td>...</td>\n",
       "      <td>...</td>\n",
       "      <td>...</td>\n",
       "    </tr>\n",
       "    <tr>\n",
       "      <th>9350</th>\n",
       "      <td>2024-01-20</td>\n",
       "      <td>assunto_cities_skylines_2</td>\n",
       "      <td>21NHBH_8nWc</td>\n",
       "      <td>Sábado</td>\n",
       "      <td>5</td>\n",
       "    </tr>\n",
       "    <tr>\n",
       "      <th>10687</th>\n",
       "      <td>2024-01-20</td>\n",
       "      <td>assunto_cities_skylines_2</td>\n",
       "      <td>5wcfAXfymPw</td>\n",
       "      <td>Sábado</td>\n",
       "      <td>5</td>\n",
       "    </tr>\n",
       "    <tr>\n",
       "      <th>11288</th>\n",
       "      <td>2024-01-20</td>\n",
       "      <td>assunto_cities_skylines_2</td>\n",
       "      <td>Io5RCyWSZ0I</td>\n",
       "      <td>Sábado</td>\n",
       "      <td>5</td>\n",
       "    </tr>\n",
       "    <tr>\n",
       "      <th>11754</th>\n",
       "      <td>2024-01-19</td>\n",
       "      <td>assunto_cities_skylines_2</td>\n",
       "      <td>75r_7SpQ3bQ</td>\n",
       "      <td>Sexta-feira</td>\n",
       "      <td>4</td>\n",
       "    </tr>\n",
       "    <tr>\n",
       "      <th>11934</th>\n",
       "      <td>2024-01-18</td>\n",
       "      <td>assunto_cities_skylines_2</td>\n",
       "      <td>nHfW_-QW3As</td>\n",
       "      <td>Quinta-feira</td>\n",
       "      <td>3</td>\n",
       "    </tr>\n",
       "  </tbody>\n",
       "</table>\n",
       "<p>81 rows × 5 columns</p>\n",
       "</div>"
      ],
      "text/plain": [
       "      DATA_PUBLICACAO                    ASSUNTO     ID_VIDEO DIA_PUBLICACAO  \\\n",
       "9139       2024-01-21  assunto_cities_skylines_2  38KqRAlHM2I        Domingo   \n",
       "9141       2024-01-22  assunto_cities_skylines_2  q4gfnofyqPA  Segunda-feira   \n",
       "9143       2024-01-17  assunto_cities_skylines_2  J0O_HqOo4UE   Quarta-feira   \n",
       "9144       2024-01-22  assunto_cities_skylines_2  YFtLefRNzRg  Segunda-feira   \n",
       "9145       2024-01-21  assunto_cities_skylines_2  eSlVZlnXEHo        Domingo   \n",
       "...               ...                        ...          ...            ...   \n",
       "9350       2024-01-20  assunto_cities_skylines_2  21NHBH_8nWc         Sábado   \n",
       "10687      2024-01-20  assunto_cities_skylines_2  5wcfAXfymPw         Sábado   \n",
       "11288      2024-01-20  assunto_cities_skylines_2  Io5RCyWSZ0I         Sábado   \n",
       "11754      2024-01-19  assunto_cities_skylines_2  75r_7SpQ3bQ    Sexta-feira   \n",
       "11934      2024-01-18  assunto_cities_skylines_2  nHfW_-QW3As   Quinta-feira   \n",
       "\n",
       "       INDEX_DIA_PUBLICACAO  \n",
       "9139                      6  \n",
       "9141                      0  \n",
       "9143                      2  \n",
       "9144                      0  \n",
       "9145                      6  \n",
       "...                     ...  \n",
       "9350                      5  \n",
       "10687                     5  \n",
       "11288                     5  \n",
       "11754                     4  \n",
       "11934                     3  \n",
       "\n",
       "[81 rows x 5 columns]"
      ]
     },
     "execution_count": 26,
     "metadata": {},
     "output_type": "execute_result"
    }
   ],
   "source": [
    "tipos = {\n",
    "    'DATA_PUBLICACAO':  'datetime64[ns]',\n",
    "    'ASSUNTO' : 'string',\n",
    "    'ID_VIDEO': 'string',\n",
    "\n",
    "}\n",
    "assunto = 'assunto_cities_skylines'\n",
    "base = pd.read_parquet('../dados/ouro/dados_tratado_estatisticas_gerais.parquet', columns=['DATA_PUBLICACAO','ASSUNTO', 'ID_VIDEO'])\n",
    "base['DATA_PUBLICACAO'] = pd.to_datetime(base['DATA_PUBLICACAO']).dt.date\n",
    "base = base.query(f'ASSUNTO == \"assunto_cities_skylines_2\"')\n",
    "base['DIA_PUBLICACAO'] = pd.to_datetime(base['DATA_PUBLICACAO']).dt.day_name()\n",
    "base['INDEX_DIA_PUBLICACAO'] = pd.to_datetime(base['DATA_PUBLICACAO']).dt.day_of_week\n",
    "base['DIA_PUBLICACAO'] = base['DIA_PUBLICACAO'].map(traducao_dias)\n",
    "base = base.drop_duplicates()\n",
    "base"
   ]
  },
  {
   "cell_type": "code",
   "execution_count": 27,
   "metadata": {},
   "outputs": [],
   "source": [
    "base_publicacao_video = base.groupby(['DIA_PUBLICACAO', 'INDEX_DIA_PUBLICACAO']) \\\n",
    "    .agg(\n",
    "        TOTAL_VIDEOS_PUBLICADOS=('ID_VIDEO', 'count')\n",
    "    ).sort_values(by='INDEX_DIA_PUBLICACAO').reset_index()"
   ]
  },
  {
   "cell_type": "code",
   "execution_count": 28,
   "metadata": {},
   "outputs": [
    {
     "data": {
      "application/vnd.plotly.v1+json": {
       "config": {
        "plotlyServerURL": "https://plot.ly"
       },
       "data": [
        {
         "alignmentgroup": "True",
         "hovertemplate": "DIA_PUBLICACAO=%{x}<br>TOTAL_VIDEOS_PUBLICADOS=%{y}<extra></extra>",
         "legendgroup": "",
         "marker": {
          "color": "#FFA500",
          "pattern": {
           "shape": ""
          }
         },
         "name": "",
         "offsetgroup": "",
         "orientation": "v",
         "showlegend": false,
         "textfont": {
          "color": "white",
          "size": 16
         },
         "textposition": "auto",
         "texttemplate": "%{y}",
         "type": "bar",
         "x": [
          "Segunda-feira",
          "Terça-feira",
          "Quarta-feira",
          "Quinta-feira",
          "Sexta-feira",
          "Sábado",
          "Domingo"
         ],
         "xaxis": "x",
         "y": [
          12,
          13,
          7,
          11,
          11,
          12,
          15
         ],
         "yaxis": "y"
        }
       ],
       "layout": {
        "barmode": "relative",
        "legend": {
         "font": {
          "color": "white"
         },
         "tracegroupgap": 0
        },
        "margin": {
         "b": 20,
         "l": 20,
         "pad": 4,
         "r": 20,
         "t": 40
        },
        "paper_bgcolor": "#1F2326",
        "plot_bgcolor": "#1F2326",
        "showlegend": true,
        "template": {
         "data": {
          "bar": [
           {
            "error_x": {
             "color": "#2a3f5f"
            },
            "error_y": {
             "color": "#2a3f5f"
            },
            "marker": {
             "line": {
              "color": "#E5ECF6",
              "width": 0.5
             },
             "pattern": {
              "fillmode": "overlay",
              "size": 10,
              "solidity": 0.2
             }
            },
            "type": "bar"
           }
          ],
          "barpolar": [
           {
            "marker": {
             "line": {
              "color": "#E5ECF6",
              "width": 0.5
             },
             "pattern": {
              "fillmode": "overlay",
              "size": 10,
              "solidity": 0.2
             }
            },
            "type": "barpolar"
           }
          ],
          "carpet": [
           {
            "aaxis": {
             "endlinecolor": "#2a3f5f",
             "gridcolor": "white",
             "linecolor": "white",
             "minorgridcolor": "white",
             "startlinecolor": "#2a3f5f"
            },
            "baxis": {
             "endlinecolor": "#2a3f5f",
             "gridcolor": "white",
             "linecolor": "white",
             "minorgridcolor": "white",
             "startlinecolor": "#2a3f5f"
            },
            "type": "carpet"
           }
          ],
          "choropleth": [
           {
            "colorbar": {
             "outlinewidth": 0,
             "ticks": ""
            },
            "type": "choropleth"
           }
          ],
          "contour": [
           {
            "colorbar": {
             "outlinewidth": 0,
             "ticks": ""
            },
            "colorscale": [
             [
              0,
              "#0d0887"
             ],
             [
              0.1111111111111111,
              "#46039f"
             ],
             [
              0.2222222222222222,
              "#7201a8"
             ],
             [
              0.3333333333333333,
              "#9c179e"
             ],
             [
              0.4444444444444444,
              "#bd3786"
             ],
             [
              0.5555555555555556,
              "#d8576b"
             ],
             [
              0.6666666666666666,
              "#ed7953"
             ],
             [
              0.7777777777777778,
              "#fb9f3a"
             ],
             [
              0.8888888888888888,
              "#fdca26"
             ],
             [
              1,
              "#f0f921"
             ]
            ],
            "type": "contour"
           }
          ],
          "contourcarpet": [
           {
            "colorbar": {
             "outlinewidth": 0,
             "ticks": ""
            },
            "type": "contourcarpet"
           }
          ],
          "heatmap": [
           {
            "colorbar": {
             "outlinewidth": 0,
             "ticks": ""
            },
            "colorscale": [
             [
              0,
              "#0d0887"
             ],
             [
              0.1111111111111111,
              "#46039f"
             ],
             [
              0.2222222222222222,
              "#7201a8"
             ],
             [
              0.3333333333333333,
              "#9c179e"
             ],
             [
              0.4444444444444444,
              "#bd3786"
             ],
             [
              0.5555555555555556,
              "#d8576b"
             ],
             [
              0.6666666666666666,
              "#ed7953"
             ],
             [
              0.7777777777777778,
              "#fb9f3a"
             ],
             [
              0.8888888888888888,
              "#fdca26"
             ],
             [
              1,
              "#f0f921"
             ]
            ],
            "type": "heatmap"
           }
          ],
          "heatmapgl": [
           {
            "colorbar": {
             "outlinewidth": 0,
             "ticks": ""
            },
            "colorscale": [
             [
              0,
              "#0d0887"
             ],
             [
              0.1111111111111111,
              "#46039f"
             ],
             [
              0.2222222222222222,
              "#7201a8"
             ],
             [
              0.3333333333333333,
              "#9c179e"
             ],
             [
              0.4444444444444444,
              "#bd3786"
             ],
             [
              0.5555555555555556,
              "#d8576b"
             ],
             [
              0.6666666666666666,
              "#ed7953"
             ],
             [
              0.7777777777777778,
              "#fb9f3a"
             ],
             [
              0.8888888888888888,
              "#fdca26"
             ],
             [
              1,
              "#f0f921"
             ]
            ],
            "type": "heatmapgl"
           }
          ],
          "histogram": [
           {
            "marker": {
             "pattern": {
              "fillmode": "overlay",
              "size": 10,
              "solidity": 0.2
             }
            },
            "type": "histogram"
           }
          ],
          "histogram2d": [
           {
            "colorbar": {
             "outlinewidth": 0,
             "ticks": ""
            },
            "colorscale": [
             [
              0,
              "#0d0887"
             ],
             [
              0.1111111111111111,
              "#46039f"
             ],
             [
              0.2222222222222222,
              "#7201a8"
             ],
             [
              0.3333333333333333,
              "#9c179e"
             ],
             [
              0.4444444444444444,
              "#bd3786"
             ],
             [
              0.5555555555555556,
              "#d8576b"
             ],
             [
              0.6666666666666666,
              "#ed7953"
             ],
             [
              0.7777777777777778,
              "#fb9f3a"
             ],
             [
              0.8888888888888888,
              "#fdca26"
             ],
             [
              1,
              "#f0f921"
             ]
            ],
            "type": "histogram2d"
           }
          ],
          "histogram2dcontour": [
           {
            "colorbar": {
             "outlinewidth": 0,
             "ticks": ""
            },
            "colorscale": [
             [
              0,
              "#0d0887"
             ],
             [
              0.1111111111111111,
              "#46039f"
             ],
             [
              0.2222222222222222,
              "#7201a8"
             ],
             [
              0.3333333333333333,
              "#9c179e"
             ],
             [
              0.4444444444444444,
              "#bd3786"
             ],
             [
              0.5555555555555556,
              "#d8576b"
             ],
             [
              0.6666666666666666,
              "#ed7953"
             ],
             [
              0.7777777777777778,
              "#fb9f3a"
             ],
             [
              0.8888888888888888,
              "#fdca26"
             ],
             [
              1,
              "#f0f921"
             ]
            ],
            "type": "histogram2dcontour"
           }
          ],
          "mesh3d": [
           {
            "colorbar": {
             "outlinewidth": 0,
             "ticks": ""
            },
            "type": "mesh3d"
           }
          ],
          "parcoords": [
           {
            "line": {
             "colorbar": {
              "outlinewidth": 0,
              "ticks": ""
             }
            },
            "type": "parcoords"
           }
          ],
          "pie": [
           {
            "automargin": true,
            "type": "pie"
           }
          ],
          "scatter": [
           {
            "fillpattern": {
             "fillmode": "overlay",
             "size": 10,
             "solidity": 0.2
            },
            "type": "scatter"
           }
          ],
          "scatter3d": [
           {
            "line": {
             "colorbar": {
              "outlinewidth": 0,
              "ticks": ""
             }
            },
            "marker": {
             "colorbar": {
              "outlinewidth": 0,
              "ticks": ""
             }
            },
            "type": "scatter3d"
           }
          ],
          "scattercarpet": [
           {
            "marker": {
             "colorbar": {
              "outlinewidth": 0,
              "ticks": ""
             }
            },
            "type": "scattercarpet"
           }
          ],
          "scattergeo": [
           {
            "marker": {
             "colorbar": {
              "outlinewidth": 0,
              "ticks": ""
             }
            },
            "type": "scattergeo"
           }
          ],
          "scattergl": [
           {
            "marker": {
             "colorbar": {
              "outlinewidth": 0,
              "ticks": ""
             }
            },
            "type": "scattergl"
           }
          ],
          "scattermapbox": [
           {
            "marker": {
             "colorbar": {
              "outlinewidth": 0,
              "ticks": ""
             }
            },
            "type": "scattermapbox"
           }
          ],
          "scatterpolar": [
           {
            "marker": {
             "colorbar": {
              "outlinewidth": 0,
              "ticks": ""
             }
            },
            "type": "scatterpolar"
           }
          ],
          "scatterpolargl": [
           {
            "marker": {
             "colorbar": {
              "outlinewidth": 0,
              "ticks": ""
             }
            },
            "type": "scatterpolargl"
           }
          ],
          "scatterternary": [
           {
            "marker": {
             "colorbar": {
              "outlinewidth": 0,
              "ticks": ""
             }
            },
            "type": "scatterternary"
           }
          ],
          "surface": [
           {
            "colorbar": {
             "outlinewidth": 0,
             "ticks": ""
            },
            "colorscale": [
             [
              0,
              "#0d0887"
             ],
             [
              0.1111111111111111,
              "#46039f"
             ],
             [
              0.2222222222222222,
              "#7201a8"
             ],
             [
              0.3333333333333333,
              "#9c179e"
             ],
             [
              0.4444444444444444,
              "#bd3786"
             ],
             [
              0.5555555555555556,
              "#d8576b"
             ],
             [
              0.6666666666666666,
              "#ed7953"
             ],
             [
              0.7777777777777778,
              "#fb9f3a"
             ],
             [
              0.8888888888888888,
              "#fdca26"
             ],
             [
              1,
              "#f0f921"
             ]
            ],
            "type": "surface"
           }
          ],
          "table": [
           {
            "cells": {
             "fill": {
              "color": "#EBF0F8"
             },
             "line": {
              "color": "white"
             }
            },
            "header": {
             "fill": {
              "color": "#C8D4E3"
             },
             "line": {
              "color": "white"
             }
            },
            "type": "table"
           }
          ]
         },
         "layout": {
          "annotationdefaults": {
           "arrowcolor": "#2a3f5f",
           "arrowhead": 0,
           "arrowwidth": 1
          },
          "autotypenumbers": "strict",
          "coloraxis": {
           "colorbar": {
            "outlinewidth": 0,
            "ticks": ""
           }
          },
          "colorscale": {
           "diverging": [
            [
             0,
             "#8e0152"
            ],
            [
             0.1,
             "#c51b7d"
            ],
            [
             0.2,
             "#de77ae"
            ],
            [
             0.3,
             "#f1b6da"
            ],
            [
             0.4,
             "#fde0ef"
            ],
            [
             0.5,
             "#f7f7f7"
            ],
            [
             0.6,
             "#e6f5d0"
            ],
            [
             0.7,
             "#b8e186"
            ],
            [
             0.8,
             "#7fbc41"
            ],
            [
             0.9,
             "#4d9221"
            ],
            [
             1,
             "#276419"
            ]
           ],
           "sequential": [
            [
             0,
             "#0d0887"
            ],
            [
             0.1111111111111111,
             "#46039f"
            ],
            [
             0.2222222222222222,
             "#7201a8"
            ],
            [
             0.3333333333333333,
             "#9c179e"
            ],
            [
             0.4444444444444444,
             "#bd3786"
            ],
            [
             0.5555555555555556,
             "#d8576b"
            ],
            [
             0.6666666666666666,
             "#ed7953"
            ],
            [
             0.7777777777777778,
             "#fb9f3a"
            ],
            [
             0.8888888888888888,
             "#fdca26"
            ],
            [
             1,
             "#f0f921"
            ]
           ],
           "sequentialminus": [
            [
             0,
             "#0d0887"
            ],
            [
             0.1111111111111111,
             "#46039f"
            ],
            [
             0.2222222222222222,
             "#7201a8"
            ],
            [
             0.3333333333333333,
             "#9c179e"
            ],
            [
             0.4444444444444444,
             "#bd3786"
            ],
            [
             0.5555555555555556,
             "#d8576b"
            ],
            [
             0.6666666666666666,
             "#ed7953"
            ],
            [
             0.7777777777777778,
             "#fb9f3a"
            ],
            [
             0.8888888888888888,
             "#fdca26"
            ],
            [
             1,
             "#f0f921"
            ]
           ]
          },
          "colorway": [
           "#636efa",
           "#EF553B",
           "#00cc96",
           "#ab63fa",
           "#FFA15A",
           "#19d3f3",
           "#FF6692",
           "#B6E880",
           "#FF97FF",
           "#FECB52"
          ],
          "font": {
           "color": "#2a3f5f"
          },
          "geo": {
           "bgcolor": "white",
           "lakecolor": "white",
           "landcolor": "#E5ECF6",
           "showlakes": true,
           "showland": true,
           "subunitcolor": "white"
          },
          "hoverlabel": {
           "align": "left"
          },
          "hovermode": "closest",
          "mapbox": {
           "style": "light"
          },
          "paper_bgcolor": "white",
          "plot_bgcolor": "#E5ECF6",
          "polar": {
           "angularaxis": {
            "gridcolor": "white",
            "linecolor": "white",
            "ticks": ""
           },
           "bgcolor": "#E5ECF6",
           "radialaxis": {
            "gridcolor": "white",
            "linecolor": "white",
            "ticks": ""
           }
          },
          "scene": {
           "xaxis": {
            "backgroundcolor": "#E5ECF6",
            "gridcolor": "white",
            "gridwidth": 2,
            "linecolor": "white",
            "showbackground": true,
            "ticks": "",
            "zerolinecolor": "white"
           },
           "yaxis": {
            "backgroundcolor": "#E5ECF6",
            "gridcolor": "white",
            "gridwidth": 2,
            "linecolor": "white",
            "showbackground": true,
            "ticks": "",
            "zerolinecolor": "white"
           },
           "zaxis": {
            "backgroundcolor": "#E5ECF6",
            "gridcolor": "white",
            "gridwidth": 2,
            "linecolor": "white",
            "showbackground": true,
            "ticks": "",
            "zerolinecolor": "white"
           }
          },
          "shapedefaults": {
           "line": {
            "color": "#2a3f5f"
           }
          },
          "ternary": {
           "aaxis": {
            "gridcolor": "white",
            "linecolor": "white",
            "ticks": ""
           },
           "baxis": {
            "gridcolor": "white",
            "linecolor": "white",
            "ticks": ""
           },
           "bgcolor": "#E5ECF6",
           "caxis": {
            "gridcolor": "white",
            "linecolor": "white",
            "ticks": ""
           }
          },
          "title": {
           "x": 0.05
          },
          "xaxis": {
           "automargin": true,
           "gridcolor": "white",
           "linecolor": "white",
           "ticks": "",
           "title": {
            "standoff": 15
           },
           "zerolinecolor": "white",
           "zerolinewidth": 2
          },
          "yaxis": {
           "automargin": true,
           "gridcolor": "white",
           "linecolor": "white",
           "ticks": "",
           "title": {
            "standoff": 15
           },
           "zerolinecolor": "white",
           "zerolinewidth": 2
          }
         }
        },
        "title": {
         "font": {
          "color": "white"
         },
         "text": "Envio de Vídeo por Semana",
         "x": 0.5
        },
        "xaxis": {
         "anchor": "y",
         "domain": [
          0,
          1
         ],
         "tickfont": {
          "color": "white"
         },
         "title": {
          "text": ""
         }
        },
        "yaxis": {
         "anchor": "x",
         "domain": [
          0,
          1
         ],
         "title": {
          "text": "TOTAL_VIDEOS_PUBLICADOS"
         },
         "visible": false
        }
       }
      }
     },
     "metadata": {},
     "output_type": "display_data"
    }
   ],
   "source": [
    "fig = px.bar(base_publicacao_video, x='DIA_PUBLICACAO',y='TOTAL_VIDEOS_PUBLICADOS', text_auto=True)\n",
    "\n",
    "\n",
    "fig.update_layout(\n",
    "    title_text='Envio de Vídeo por Semana',\n",
    "    showlegend=True,\n",
    "    title=dict(x=0.5, font=dict(color='white')),\n",
    "    plot_bgcolor='#1F2326',\n",
    "    yaxis=dict(visible=False),  \n",
    "    margin=dict(l=20, r=20, t=40, b=20, pad=4),\n",
    "    paper_bgcolor='#1F2326',\n",
    "    xaxis=dict(title='', tickfont=dict(color='white')),\n",
    "    legend=dict(font=dict(color='white')),\n",
    ")\n",
    "fig.update_traces(\n",
    "    textfont_color='white',\n",
    "    marker_color='#FFA500',\n",
    "    textfont_size=16  \n",
    ")\n",
    "\n",
    "fig.show()"
   ]
  },
  {
   "cell_type": "markdown",
   "metadata": {},
   "source": [
    "# Total Víews/likes/comentarios DIA por Vídeo"
   ]
  },
  {
   "cell_type": "code",
   "execution_count": 29,
   "metadata": {},
   "outputs": [
    {
     "data": {
      "text/plain": [
       "Index(['ASSUNTO', 'data_extracao', 'DATA_PUBLICACAO', 'ID_CANAL', 'NM_CANAL',\n",
       "       'ID_CATEGORIA', 'ID_VIDEO', 'TITULO_VIDEO', 'DESCRICAO', 'TAGS',\n",
       "       'DURACAO_VIDEOS', 'TOTAL_VISUALIZACOES', 'TOTAL_LIKES',\n",
       "       'TOTAL_FAVORITOS', 'TOTAL_COMENTARIOS', 'data_hora_extracao',\n",
       "       'DURACAO_VIDEO_MINUTOS', 'TOTAL_CARACTERE_VIDEO', 'TOTAL_TAGS',\n",
       "       'HORA_EXTRACAO', 'TURNO_EXTRACAO', 'INDICE_TURNO_EXTRACAO'],\n",
       "      dtype='object')"
      ]
     },
     "execution_count": 29,
     "metadata": {},
     "output_type": "execute_result"
    }
   ],
   "source": [
    "base_completa.columns"
   ]
  },
  {
   "cell_type": "code",
   "execution_count": 30,
   "metadata": {},
   "outputs": [
    {
     "data": {
      "text/html": [
       "<div>\n",
       "<style scoped>\n",
       "    .dataframe tbody tr th:only-of-type {\n",
       "        vertical-align: middle;\n",
       "    }\n",
       "\n",
       "    .dataframe tbody tr th {\n",
       "        vertical-align: top;\n",
       "    }\n",
       "\n",
       "    .dataframe thead th {\n",
       "        text-align: right;\n",
       "    }\n",
       "</style>\n",
       "<table border=\"1\" class=\"dataframe\">\n",
       "  <thead>\n",
       "    <tr style=\"text-align: right;\">\n",
       "      <th></th>\n",
       "      <th>data_extracao</th>\n",
       "      <th>ASSUNTO</th>\n",
       "      <th>ID_VIDEO</th>\n",
       "      <th>TOTAL_COMENTARIOS</th>\n",
       "      <th>TURNO_EXTRACAO</th>\n",
       "      <th>INDICE_TURNO_EXTRACAO</th>\n",
       "    </tr>\n",
       "  </thead>\n",
       "  <tbody>\n",
       "    <tr>\n",
       "      <th>12020</th>\n",
       "      <td>2024-01-17</td>\n",
       "      <td>assunto_cities_skylines</td>\n",
       "      <td>WEet1zBsDvk</td>\n",
       "      <td>38.0</td>\n",
       "      <td>Noite</td>\n",
       "      <td>3</td>\n",
       "    </tr>\n",
       "    <tr>\n",
       "      <th>12021</th>\n",
       "      <td>2024-01-17</td>\n",
       "      <td>assunto_cities_skylines</td>\n",
       "      <td>WEet1zBsDvk</td>\n",
       "      <td>38.0</td>\n",
       "      <td>Noite</td>\n",
       "      <td>3</td>\n",
       "    </tr>\n",
       "    <tr>\n",
       "      <th>12022</th>\n",
       "      <td>2024-01-17</td>\n",
       "      <td>assunto_cities_skylines</td>\n",
       "      <td>3UYHeTyeX_k</td>\n",
       "      <td>0.0</td>\n",
       "      <td>Noite</td>\n",
       "      <td>3</td>\n",
       "    </tr>\n",
       "    <tr>\n",
       "      <th>12023</th>\n",
       "      <td>2024-01-17</td>\n",
       "      <td>assunto_cities_skylines</td>\n",
       "      <td>3UYHeTyeX_k</td>\n",
       "      <td>0.0</td>\n",
       "      <td>Noite</td>\n",
       "      <td>3</td>\n",
       "    </tr>\n",
       "    <tr>\n",
       "      <th>12025</th>\n",
       "      <td>2024-01-17</td>\n",
       "      <td>assunto_cities_skylines</td>\n",
       "      <td>tjZZTkpmPo4</td>\n",
       "      <td>0.0</td>\n",
       "      <td>Noite</td>\n",
       "      <td>3</td>\n",
       "    </tr>\n",
       "    <tr>\n",
       "      <th>12026</th>\n",
       "      <td>2024-01-17</td>\n",
       "      <td>assunto_cities_skylines</td>\n",
       "      <td>A9pni0TYSeM</td>\n",
       "      <td>0.0</td>\n",
       "      <td>Noite</td>\n",
       "      <td>3</td>\n",
       "    </tr>\n",
       "    <tr>\n",
       "      <th>12027</th>\n",
       "      <td>2024-01-17</td>\n",
       "      <td>assunto_cities_skylines</td>\n",
       "      <td>tjZZTkpmPo4</td>\n",
       "      <td>0.0</td>\n",
       "      <td>Noite</td>\n",
       "      <td>3</td>\n",
       "    </tr>\n",
       "    <tr>\n",
       "      <th>12028</th>\n",
       "      <td>2024-01-17</td>\n",
       "      <td>assunto_cities_skylines</td>\n",
       "      <td>A9pni0TYSeM</td>\n",
       "      <td>0.0</td>\n",
       "      <td>Noite</td>\n",
       "      <td>3</td>\n",
       "    </tr>\n",
       "    <tr>\n",
       "      <th>12029</th>\n",
       "      <td>2024-01-17</td>\n",
       "      <td>assunto_cities_skylines</td>\n",
       "      <td>0Wn1ZcnE7iM</td>\n",
       "      <td>0.0</td>\n",
       "      <td>Noite</td>\n",
       "      <td>3</td>\n",
       "    </tr>\n",
       "    <tr>\n",
       "      <th>12031</th>\n",
       "      <td>2024-01-17</td>\n",
       "      <td>assunto_cities_skylines</td>\n",
       "      <td>0Wn1ZcnE7iM</td>\n",
       "      <td>0.0</td>\n",
       "      <td>Noite</td>\n",
       "      <td>3</td>\n",
       "    </tr>\n",
       "    <tr>\n",
       "      <th>12032</th>\n",
       "      <td>2024-01-17</td>\n",
       "      <td>assunto_cities_skylines</td>\n",
       "      <td>tbBIq2RY3Yc</td>\n",
       "      <td>27.0</td>\n",
       "      <td>Noite</td>\n",
       "      <td>3</td>\n",
       "    </tr>\n",
       "    <tr>\n",
       "      <th>12033</th>\n",
       "      <td>2024-01-17</td>\n",
       "      <td>assunto_cities_skylines</td>\n",
       "      <td>tbBIq2RY3Yc</td>\n",
       "      <td>27.0</td>\n",
       "      <td>Noite</td>\n",
       "      <td>3</td>\n",
       "    </tr>\n",
       "    <tr>\n",
       "      <th>12035</th>\n",
       "      <td>2024-01-17</td>\n",
       "      <td>assunto_cities_skylines</td>\n",
       "      <td>5QRCMkPPr2U</td>\n",
       "      <td>2.0</td>\n",
       "      <td>Noite</td>\n",
       "      <td>3</td>\n",
       "    </tr>\n",
       "    <tr>\n",
       "      <th>12036</th>\n",
       "      <td>2024-01-17</td>\n",
       "      <td>assunto_cities_skylines</td>\n",
       "      <td>5QRCMkPPr2U</td>\n",
       "      <td>2.0</td>\n",
       "      <td>Noite</td>\n",
       "      <td>3</td>\n",
       "    </tr>\n",
       "    <tr>\n",
       "      <th>12041</th>\n",
       "      <td>2024-01-17</td>\n",
       "      <td>assunto_cities_skylines</td>\n",
       "      <td>AHKQdCqYoHI</td>\n",
       "      <td>0.0</td>\n",
       "      <td>Noite</td>\n",
       "      <td>3</td>\n",
       "    </tr>\n",
       "    <tr>\n",
       "      <th>12042</th>\n",
       "      <td>2024-01-17</td>\n",
       "      <td>assunto_cities_skylines</td>\n",
       "      <td>AHKQdCqYoHI</td>\n",
       "      <td>0.0</td>\n",
       "      <td>Noite</td>\n",
       "      <td>3</td>\n",
       "    </tr>\n",
       "    <tr>\n",
       "      <th>12043</th>\n",
       "      <td>2024-01-17</td>\n",
       "      <td>assunto_cities_skylines</td>\n",
       "      <td>4WrWq5vJjXk</td>\n",
       "      <td>0.0</td>\n",
       "      <td>Noite</td>\n",
       "      <td>3</td>\n",
       "    </tr>\n",
       "  </tbody>\n",
       "</table>\n",
       "</div>"
      ],
      "text/plain": [
       "      data_extracao                  ASSUNTO     ID_VIDEO  TOTAL_COMENTARIOS  \\\n",
       "12020    2024-01-17  assunto_cities_skylines  WEet1zBsDvk               38.0   \n",
       "12021    2024-01-17  assunto_cities_skylines  WEet1zBsDvk               38.0   \n",
       "12022    2024-01-17  assunto_cities_skylines  3UYHeTyeX_k                0.0   \n",
       "12023    2024-01-17  assunto_cities_skylines  3UYHeTyeX_k                0.0   \n",
       "12025    2024-01-17  assunto_cities_skylines  tjZZTkpmPo4                0.0   \n",
       "12026    2024-01-17  assunto_cities_skylines  A9pni0TYSeM                0.0   \n",
       "12027    2024-01-17  assunto_cities_skylines  tjZZTkpmPo4                0.0   \n",
       "12028    2024-01-17  assunto_cities_skylines  A9pni0TYSeM                0.0   \n",
       "12029    2024-01-17  assunto_cities_skylines  0Wn1ZcnE7iM                0.0   \n",
       "12031    2024-01-17  assunto_cities_skylines  0Wn1ZcnE7iM                0.0   \n",
       "12032    2024-01-17  assunto_cities_skylines  tbBIq2RY3Yc               27.0   \n",
       "12033    2024-01-17  assunto_cities_skylines  tbBIq2RY3Yc               27.0   \n",
       "12035    2024-01-17  assunto_cities_skylines  5QRCMkPPr2U                2.0   \n",
       "12036    2024-01-17  assunto_cities_skylines  5QRCMkPPr2U                2.0   \n",
       "12041    2024-01-17  assunto_cities_skylines  AHKQdCqYoHI                0.0   \n",
       "12042    2024-01-17  assunto_cities_skylines  AHKQdCqYoHI                0.0   \n",
       "12043    2024-01-17  assunto_cities_skylines  4WrWq5vJjXk                0.0   \n",
       "\n",
       "      TURNO_EXTRACAO  INDICE_TURNO_EXTRACAO  \n",
       "12020          Noite                      3  \n",
       "12021          Noite                      3  \n",
       "12022          Noite                      3  \n",
       "12023          Noite                      3  \n",
       "12025          Noite                      3  \n",
       "12026          Noite                      3  \n",
       "12027          Noite                      3  \n",
       "12028          Noite                      3  \n",
       "12029          Noite                      3  \n",
       "12031          Noite                      3  \n",
       "12032          Noite                      3  \n",
       "12033          Noite                      3  \n",
       "12035          Noite                      3  \n",
       "12036          Noite                      3  \n",
       "12041          Noite                      3  \n",
       "12042          Noite                      3  \n",
       "12043          Noite                      3  "
      ]
     },
     "execution_count": 30,
     "metadata": {},
     "output_type": "execute_result"
    }
   ],
   "source": [
    "metricas = 'TOTAL_COMENTARIOS'\n",
    "tipos = {\n",
    "    'DATA_EXTRACAO':  'datetime64[ns]',\n",
    "    'ASSUNTO' : 'string',\n",
    "    'ID_VIDEO': 'string',\n",
    "    'TURNO_EXTRACAO': 'string',\n",
    "    'INDICE_TURNO_EXTRACAO' : 'int4',\n",
    "    metricas : 'int32'\n",
    "}\n",
    "\n",
    "assunto = 'assunto_cities_skylines'\n",
    "base = pd.read_parquet('../dados/ouro/dados_tratado_estatisticas_gerais.parquet', columns=['data_extracao','ASSUNTO', 'ID_VIDEO', metricas, 'TURNO_EXTRACAO', 'INDICE_TURNO_EXTRACAO'])\n",
    "base = base.query(f' ASSUNTO == \"{assunto}\" and TURNO_EXTRACAO == \"Noite\" and data_extracao == \"2024-01-17\"')\n",
    "base['data_extracao'] = pd.to_datetime(base['data_extracao']).dt.tz_localize(None)\n",
    "base['data_extracao'] = base['data_extracao'].dt.date\n",
    "base['ASSUNTO'] = base['ASSUNTO'].astype('string')\n",
    "base['ID_VIDEO'] = base['ID_VIDEO'].astype('string')\n",
    "base['TURNO_EXTRACAO'] = base['TURNO_EXTRACAO'].astype('string')\n",
    "base['INDICE_TURNO_EXTRACAO'] = base['INDICE_TURNO_EXTRACAO'].astype('int8')\n",
    "base[metricas] = round(base[metricas].astype('float32'), 0)\n",
    "base\n",
    "\n"
   ]
  },
  {
   "cell_type": "code",
   "execution_count": 31,
   "metadata": {},
   "outputs": [
    {
     "data": {
      "text/html": [
       "<div>\n",
       "<style scoped>\n",
       "    .dataframe tbody tr th:only-of-type {\n",
       "        vertical-align: middle;\n",
       "    }\n",
       "\n",
       "    .dataframe tbody tr th {\n",
       "        vertical-align: top;\n",
       "    }\n",
       "\n",
       "    .dataframe thead th {\n",
       "        text-align: right;\n",
       "    }\n",
       "</style>\n",
       "<table border=\"1\" class=\"dataframe\">\n",
       "  <thead>\n",
       "    <tr style=\"text-align: right;\">\n",
       "      <th></th>\n",
       "      <th>ID_VIDEO</th>\n",
       "      <th>TOTAL</th>\n",
       "    </tr>\n",
       "  </thead>\n",
       "  <tbody>\n",
       "    <tr>\n",
       "      <th>0</th>\n",
       "      <td>0Wn1ZcnE7iM</td>\n",
       "      <td>0.0</td>\n",
       "    </tr>\n",
       "    <tr>\n",
       "      <th>1</th>\n",
       "      <td>3UYHeTyeX_k</td>\n",
       "      <td>0.0</td>\n",
       "    </tr>\n",
       "    <tr>\n",
       "      <th>2</th>\n",
       "      <td>4WrWq5vJjXk</td>\n",
       "      <td>0.0</td>\n",
       "    </tr>\n",
       "    <tr>\n",
       "      <th>3</th>\n",
       "      <td>5QRCMkPPr2U</td>\n",
       "      <td>2.0</td>\n",
       "    </tr>\n",
       "    <tr>\n",
       "      <th>4</th>\n",
       "      <td>A9pni0TYSeM</td>\n",
       "      <td>0.0</td>\n",
       "    </tr>\n",
       "    <tr>\n",
       "      <th>5</th>\n",
       "      <td>AHKQdCqYoHI</td>\n",
       "      <td>0.0</td>\n",
       "    </tr>\n",
       "    <tr>\n",
       "      <th>6</th>\n",
       "      <td>WEet1zBsDvk</td>\n",
       "      <td>38.0</td>\n",
       "    </tr>\n",
       "    <tr>\n",
       "      <th>7</th>\n",
       "      <td>tbBIq2RY3Yc</td>\n",
       "      <td>27.0</td>\n",
       "    </tr>\n",
       "    <tr>\n",
       "      <th>8</th>\n",
       "      <td>tjZZTkpmPo4</td>\n",
       "      <td>0.0</td>\n",
       "    </tr>\n",
       "  </tbody>\n",
       "</table>\n",
       "</div>"
      ],
      "text/plain": [
       "      ID_VIDEO  TOTAL\n",
       "0  0Wn1ZcnE7iM    0.0\n",
       "1  3UYHeTyeX_k    0.0\n",
       "2  4WrWq5vJjXk    0.0\n",
       "3  5QRCMkPPr2U    2.0\n",
       "4  A9pni0TYSeM    0.0\n",
       "5  AHKQdCqYoHI    0.0\n",
       "6  WEet1zBsDvk   38.0\n",
       "7  tbBIq2RY3Yc   27.0\n",
       "8  tjZZTkpmPo4    0.0"
      ]
     },
     "execution_count": 31,
     "metadata": {},
     "output_type": "execute_result"
    }
   ],
   "source": [
    "base = base.groupby(['ID_VIDEO']).agg(\n",
    "    TOTAL=(metricas, 'max')\n",
    ").reset_index()\n",
    "base\n",
    "# base_top_dez = base.nlargest(10, columns=[metricas])"
   ]
  },
  {
   "cell_type": "code",
   "execution_count": 34,
   "metadata": {},
   "outputs": [
    {
     "data": {
      "application/vnd.plotly.v1+json": {
       "config": {
        "plotlyServerURL": "https://plot.ly"
       },
       "data": [
        {
         "alignmentgroup": "True",
         "hovertemplate": "TOTAL=%{x}<br>ID_VIDEO=%{y}<extra></extra>",
         "legendgroup": "",
         "marker": {
          "color": "#04BE5F",
          "pattern": {
           "shape": ""
          }
         },
         "name": "",
         "offsetgroup": "",
         "orientation": "h",
         "showlegend": false,
         "textfont": {
          "color": "white",
          "size": 18
         },
         "textposition": "outside",
         "texttemplate": "%{x}",
         "type": "bar",
         "x": [
          0,
          0,
          0,
          2,
          0,
          0,
          38,
          27,
          0
         ],
         "xaxis": "x",
         "y": [
          "0Wn1ZcnE7iM",
          "3UYHeTyeX_k",
          "4WrWq5vJjXk",
          "5QRCMkPPr2U",
          "A9pni0TYSeM",
          "AHKQdCqYoHI",
          "WEet1zBsDvk",
          "tbBIq2RY3Yc",
          "tjZZTkpmPo4"
         ],
         "yaxis": "y"
        }
       ],
       "layout": {
        "barmode": "relative",
        "legend": {
         "font": {
          "color": "white"
         },
         "orientation": "h",
         "tracegroupgap": 0,
         "y": 4
        },
        "margin": {
         "b": 20,
         "l": 10,
         "pad": 2,
         "r": 20,
         "t": 40
        },
        "paper_bgcolor": "#1F2326",
        "plot_bgcolor": "#1F2326",
        "showlegend": true,
        "template": {
         "data": {
          "bar": [
           {
            "error_x": {
             "color": "#2a3f5f"
            },
            "error_y": {
             "color": "#2a3f5f"
            },
            "marker": {
             "line": {
              "color": "#E5ECF6",
              "width": 0.5
             },
             "pattern": {
              "fillmode": "overlay",
              "size": 10,
              "solidity": 0.2
             }
            },
            "type": "bar"
           }
          ],
          "barpolar": [
           {
            "marker": {
             "line": {
              "color": "#E5ECF6",
              "width": 0.5
             },
             "pattern": {
              "fillmode": "overlay",
              "size": 10,
              "solidity": 0.2
             }
            },
            "type": "barpolar"
           }
          ],
          "carpet": [
           {
            "aaxis": {
             "endlinecolor": "#2a3f5f",
             "gridcolor": "white",
             "linecolor": "white",
             "minorgridcolor": "white",
             "startlinecolor": "#2a3f5f"
            },
            "baxis": {
             "endlinecolor": "#2a3f5f",
             "gridcolor": "white",
             "linecolor": "white",
             "minorgridcolor": "white",
             "startlinecolor": "#2a3f5f"
            },
            "type": "carpet"
           }
          ],
          "choropleth": [
           {
            "colorbar": {
             "outlinewidth": 0,
             "ticks": ""
            },
            "type": "choropleth"
           }
          ],
          "contour": [
           {
            "colorbar": {
             "outlinewidth": 0,
             "ticks": ""
            },
            "colorscale": [
             [
              0,
              "#0d0887"
             ],
             [
              0.1111111111111111,
              "#46039f"
             ],
             [
              0.2222222222222222,
              "#7201a8"
             ],
             [
              0.3333333333333333,
              "#9c179e"
             ],
             [
              0.4444444444444444,
              "#bd3786"
             ],
             [
              0.5555555555555556,
              "#d8576b"
             ],
             [
              0.6666666666666666,
              "#ed7953"
             ],
             [
              0.7777777777777778,
              "#fb9f3a"
             ],
             [
              0.8888888888888888,
              "#fdca26"
             ],
             [
              1,
              "#f0f921"
             ]
            ],
            "type": "contour"
           }
          ],
          "contourcarpet": [
           {
            "colorbar": {
             "outlinewidth": 0,
             "ticks": ""
            },
            "type": "contourcarpet"
           }
          ],
          "heatmap": [
           {
            "colorbar": {
             "outlinewidth": 0,
             "ticks": ""
            },
            "colorscale": [
             [
              0,
              "#0d0887"
             ],
             [
              0.1111111111111111,
              "#46039f"
             ],
             [
              0.2222222222222222,
              "#7201a8"
             ],
             [
              0.3333333333333333,
              "#9c179e"
             ],
             [
              0.4444444444444444,
              "#bd3786"
             ],
             [
              0.5555555555555556,
              "#d8576b"
             ],
             [
              0.6666666666666666,
              "#ed7953"
             ],
             [
              0.7777777777777778,
              "#fb9f3a"
             ],
             [
              0.8888888888888888,
              "#fdca26"
             ],
             [
              1,
              "#f0f921"
             ]
            ],
            "type": "heatmap"
           }
          ],
          "heatmapgl": [
           {
            "colorbar": {
             "outlinewidth": 0,
             "ticks": ""
            },
            "colorscale": [
             [
              0,
              "#0d0887"
             ],
             [
              0.1111111111111111,
              "#46039f"
             ],
             [
              0.2222222222222222,
              "#7201a8"
             ],
             [
              0.3333333333333333,
              "#9c179e"
             ],
             [
              0.4444444444444444,
              "#bd3786"
             ],
             [
              0.5555555555555556,
              "#d8576b"
             ],
             [
              0.6666666666666666,
              "#ed7953"
             ],
             [
              0.7777777777777778,
              "#fb9f3a"
             ],
             [
              0.8888888888888888,
              "#fdca26"
             ],
             [
              1,
              "#f0f921"
             ]
            ],
            "type": "heatmapgl"
           }
          ],
          "histogram": [
           {
            "marker": {
             "pattern": {
              "fillmode": "overlay",
              "size": 10,
              "solidity": 0.2
             }
            },
            "type": "histogram"
           }
          ],
          "histogram2d": [
           {
            "colorbar": {
             "outlinewidth": 0,
             "ticks": ""
            },
            "colorscale": [
             [
              0,
              "#0d0887"
             ],
             [
              0.1111111111111111,
              "#46039f"
             ],
             [
              0.2222222222222222,
              "#7201a8"
             ],
             [
              0.3333333333333333,
              "#9c179e"
             ],
             [
              0.4444444444444444,
              "#bd3786"
             ],
             [
              0.5555555555555556,
              "#d8576b"
             ],
             [
              0.6666666666666666,
              "#ed7953"
             ],
             [
              0.7777777777777778,
              "#fb9f3a"
             ],
             [
              0.8888888888888888,
              "#fdca26"
             ],
             [
              1,
              "#f0f921"
             ]
            ],
            "type": "histogram2d"
           }
          ],
          "histogram2dcontour": [
           {
            "colorbar": {
             "outlinewidth": 0,
             "ticks": ""
            },
            "colorscale": [
             [
              0,
              "#0d0887"
             ],
             [
              0.1111111111111111,
              "#46039f"
             ],
             [
              0.2222222222222222,
              "#7201a8"
             ],
             [
              0.3333333333333333,
              "#9c179e"
             ],
             [
              0.4444444444444444,
              "#bd3786"
             ],
             [
              0.5555555555555556,
              "#d8576b"
             ],
             [
              0.6666666666666666,
              "#ed7953"
             ],
             [
              0.7777777777777778,
              "#fb9f3a"
             ],
             [
              0.8888888888888888,
              "#fdca26"
             ],
             [
              1,
              "#f0f921"
             ]
            ],
            "type": "histogram2dcontour"
           }
          ],
          "mesh3d": [
           {
            "colorbar": {
             "outlinewidth": 0,
             "ticks": ""
            },
            "type": "mesh3d"
           }
          ],
          "parcoords": [
           {
            "line": {
             "colorbar": {
              "outlinewidth": 0,
              "ticks": ""
             }
            },
            "type": "parcoords"
           }
          ],
          "pie": [
           {
            "automargin": true,
            "type": "pie"
           }
          ],
          "scatter": [
           {
            "fillpattern": {
             "fillmode": "overlay",
             "size": 10,
             "solidity": 0.2
            },
            "type": "scatter"
           }
          ],
          "scatter3d": [
           {
            "line": {
             "colorbar": {
              "outlinewidth": 0,
              "ticks": ""
             }
            },
            "marker": {
             "colorbar": {
              "outlinewidth": 0,
              "ticks": ""
             }
            },
            "type": "scatter3d"
           }
          ],
          "scattercarpet": [
           {
            "marker": {
             "colorbar": {
              "outlinewidth": 0,
              "ticks": ""
             }
            },
            "type": "scattercarpet"
           }
          ],
          "scattergeo": [
           {
            "marker": {
             "colorbar": {
              "outlinewidth": 0,
              "ticks": ""
             }
            },
            "type": "scattergeo"
           }
          ],
          "scattergl": [
           {
            "marker": {
             "colorbar": {
              "outlinewidth": 0,
              "ticks": ""
             }
            },
            "type": "scattergl"
           }
          ],
          "scattermapbox": [
           {
            "marker": {
             "colorbar": {
              "outlinewidth": 0,
              "ticks": ""
             }
            },
            "type": "scattermapbox"
           }
          ],
          "scatterpolar": [
           {
            "marker": {
             "colorbar": {
              "outlinewidth": 0,
              "ticks": ""
             }
            },
            "type": "scatterpolar"
           }
          ],
          "scatterpolargl": [
           {
            "marker": {
             "colorbar": {
              "outlinewidth": 0,
              "ticks": ""
             }
            },
            "type": "scatterpolargl"
           }
          ],
          "scatterternary": [
           {
            "marker": {
             "colorbar": {
              "outlinewidth": 0,
              "ticks": ""
             }
            },
            "type": "scatterternary"
           }
          ],
          "surface": [
           {
            "colorbar": {
             "outlinewidth": 0,
             "ticks": ""
            },
            "colorscale": [
             [
              0,
              "#0d0887"
             ],
             [
              0.1111111111111111,
              "#46039f"
             ],
             [
              0.2222222222222222,
              "#7201a8"
             ],
             [
              0.3333333333333333,
              "#9c179e"
             ],
             [
              0.4444444444444444,
              "#bd3786"
             ],
             [
              0.5555555555555556,
              "#d8576b"
             ],
             [
              0.6666666666666666,
              "#ed7953"
             ],
             [
              0.7777777777777778,
              "#fb9f3a"
             ],
             [
              0.8888888888888888,
              "#fdca26"
             ],
             [
              1,
              "#f0f921"
             ]
            ],
            "type": "surface"
           }
          ],
          "table": [
           {
            "cells": {
             "fill": {
              "color": "#EBF0F8"
             },
             "line": {
              "color": "white"
             }
            },
            "header": {
             "fill": {
              "color": "#C8D4E3"
             },
             "line": {
              "color": "white"
             }
            },
            "type": "table"
           }
          ]
         },
         "layout": {
          "annotationdefaults": {
           "arrowcolor": "#2a3f5f",
           "arrowhead": 0,
           "arrowwidth": 1
          },
          "autotypenumbers": "strict",
          "coloraxis": {
           "colorbar": {
            "outlinewidth": 0,
            "ticks": ""
           }
          },
          "colorscale": {
           "diverging": [
            [
             0,
             "#8e0152"
            ],
            [
             0.1,
             "#c51b7d"
            ],
            [
             0.2,
             "#de77ae"
            ],
            [
             0.3,
             "#f1b6da"
            ],
            [
             0.4,
             "#fde0ef"
            ],
            [
             0.5,
             "#f7f7f7"
            ],
            [
             0.6,
             "#e6f5d0"
            ],
            [
             0.7,
             "#b8e186"
            ],
            [
             0.8,
             "#7fbc41"
            ],
            [
             0.9,
             "#4d9221"
            ],
            [
             1,
             "#276419"
            ]
           ],
           "sequential": [
            [
             0,
             "#0d0887"
            ],
            [
             0.1111111111111111,
             "#46039f"
            ],
            [
             0.2222222222222222,
             "#7201a8"
            ],
            [
             0.3333333333333333,
             "#9c179e"
            ],
            [
             0.4444444444444444,
             "#bd3786"
            ],
            [
             0.5555555555555556,
             "#d8576b"
            ],
            [
             0.6666666666666666,
             "#ed7953"
            ],
            [
             0.7777777777777778,
             "#fb9f3a"
            ],
            [
             0.8888888888888888,
             "#fdca26"
            ],
            [
             1,
             "#f0f921"
            ]
           ],
           "sequentialminus": [
            [
             0,
             "#0d0887"
            ],
            [
             0.1111111111111111,
             "#46039f"
            ],
            [
             0.2222222222222222,
             "#7201a8"
            ],
            [
             0.3333333333333333,
             "#9c179e"
            ],
            [
             0.4444444444444444,
             "#bd3786"
            ],
            [
             0.5555555555555556,
             "#d8576b"
            ],
            [
             0.6666666666666666,
             "#ed7953"
            ],
            [
             0.7777777777777778,
             "#fb9f3a"
            ],
            [
             0.8888888888888888,
             "#fdca26"
            ],
            [
             1,
             "#f0f921"
            ]
           ]
          },
          "colorway": [
           "#636efa",
           "#EF553B",
           "#00cc96",
           "#ab63fa",
           "#FFA15A",
           "#19d3f3",
           "#FF6692",
           "#B6E880",
           "#FF97FF",
           "#FECB52"
          ],
          "font": {
           "color": "#2a3f5f"
          },
          "geo": {
           "bgcolor": "white",
           "lakecolor": "white",
           "landcolor": "#E5ECF6",
           "showlakes": true,
           "showland": true,
           "subunitcolor": "white"
          },
          "hoverlabel": {
           "align": "left"
          },
          "hovermode": "closest",
          "mapbox": {
           "style": "light"
          },
          "paper_bgcolor": "white",
          "plot_bgcolor": "#E5ECF6",
          "polar": {
           "angularaxis": {
            "gridcolor": "white",
            "linecolor": "white",
            "ticks": ""
           },
           "bgcolor": "#E5ECF6",
           "radialaxis": {
            "gridcolor": "white",
            "linecolor": "white",
            "ticks": ""
           }
          },
          "scene": {
           "xaxis": {
            "backgroundcolor": "#E5ECF6",
            "gridcolor": "white",
            "gridwidth": 2,
            "linecolor": "white",
            "showbackground": true,
            "ticks": "",
            "zerolinecolor": "white"
           },
           "yaxis": {
            "backgroundcolor": "#E5ECF6",
            "gridcolor": "white",
            "gridwidth": 2,
            "linecolor": "white",
            "showbackground": true,
            "ticks": "",
            "zerolinecolor": "white"
           },
           "zaxis": {
            "backgroundcolor": "#E5ECF6",
            "gridcolor": "white",
            "gridwidth": 2,
            "linecolor": "white",
            "showbackground": true,
            "ticks": "",
            "zerolinecolor": "white"
           }
          },
          "shapedefaults": {
           "line": {
            "color": "#2a3f5f"
           }
          },
          "ternary": {
           "aaxis": {
            "gridcolor": "white",
            "linecolor": "white",
            "ticks": ""
           },
           "baxis": {
            "gridcolor": "white",
            "linecolor": "white",
            "ticks": ""
           },
           "bgcolor": "#E5ECF6",
           "caxis": {
            "gridcolor": "white",
            "linecolor": "white",
            "ticks": ""
           }
          },
          "title": {
           "x": 0.05
          },
          "xaxis": {
           "automargin": true,
           "gridcolor": "white",
           "linecolor": "white",
           "ticks": "",
           "title": {
            "standoff": 15
           },
           "zerolinecolor": "white",
           "zerolinewidth": 2
          },
          "yaxis": {
           "automargin": true,
           "gridcolor": "white",
           "linecolor": "white",
           "ticks": "",
           "title": {
            "standoff": 15
           },
           "zerolinecolor": "white",
           "zerolinewidth": 2
          }
         }
        },
        "title": {
         "font": {
          "color": "white"
         },
         "text": "Total Visualizações",
         "x": 0.5
        },
        "xaxis": {
         "anchor": "y",
         "domain": [
          0,
          1
         ],
         "tickfont": {
          "color": "white"
         },
         "title": {
          "text": ""
         },
         "visible": false
        },
        "yaxis": {
         "anchor": "x",
         "categoryarray": [
          "tjZZTkpmPo4",
          "tbBIq2RY3Yc",
          "WEet1zBsDvk",
          "AHKQdCqYoHI",
          "A9pni0TYSeM",
          "5QRCMkPPr2U",
          "4WrWq5vJjXk",
          "3UYHeTyeX_k",
          "0Wn1ZcnE7iM"
         ],
         "categoryorder": "array",
         "domain": [
          0,
          1
         ],
         "tickfont": {
          "color": "white",
          "size": 16
         },
         "ticklen": 1,
         "tickmode": "array",
         "title": {
          "text": ""
         }
        }
       }
      }
     },
     "metadata": {},
     "output_type": "display_data"
    }
   ],
   "source": [
    "fig = px.bar(\n",
    "    base, \n",
    "    x='TOTAL', \n",
    "    y='ID_VIDEO', \n",
    "    orientation='h', \n",
    "    text_auto=True, \n",
    "    category_orders={'ID_VIDEO': base['ID_VIDEO'].tolist()}\n",
    ")\n",
    "\n",
    "\n",
    "fig.update_layout(\n",
    "    title_text='Total Visualizações',\n",
    "    showlegend=True,\n",
    "    title=dict(x=0.5, font=dict(color='white')),\n",
    "    plot_bgcolor='#1F2326',\n",
    "    margin=dict(l=10, r=20, t=40, b=20, pad=2),\n",
    "    paper_bgcolor='#1F2326',\n",
    "    yaxis=dict(title='', tickfont=dict(color='white', size=16), tickmode='array', ticklen=1),\n",
    "    xaxis=dict(title='', tickfont=dict(color='white'), visible=False),\n",
    "    legend=dict(font=dict(color='white'), orientation='h', y=4)\n",
    ")\n",
    "    \n",
    "fig.update_traces(\n",
    "    textfont_color='white',\n",
    "    marker_color='#04BE5F',\n",
    "    textfont_size=18 ,\n",
    "    textposition='outside',  \n",
    ")\n",
    "\n",
    "\n",
    "fig.show()\n"
   ]
  },
  {
   "cell_type": "markdown",
   "metadata": {},
   "source": [
    "# Correlação View/comentários e Likes"
   ]
  },
  {
   "cell_type": "code",
   "execution_count": 35,
   "metadata": {},
   "outputs": [
    {
     "data": {
      "text/plain": [
       "Index(['ASSUNTO', 'data_extracao', 'DATA_PUBLICACAO', 'ID_CANAL', 'NM_CANAL',\n",
       "       'ID_CATEGORIA', 'ID_VIDEO', 'TITULO_VIDEO', 'DESCRICAO', 'TAGS',\n",
       "       'DURACAO_VIDEOS', 'TOTAL_VISUALIZACOES', 'TOTAL_LIKES',\n",
       "       'TOTAL_FAVORITOS', 'TOTAL_COMENTARIOS', 'data_hora_extracao',\n",
       "       'DURACAO_VIDEO_MINUTOS', 'TOTAL_CARACTERE_VIDEO', 'TOTAL_TAGS',\n",
       "       'HORA_EXTRACAO', 'TURNO_EXTRACAO', 'INDICE_TURNO_EXTRACAO'],\n",
       "      dtype='object')"
      ]
     },
     "execution_count": 35,
     "metadata": {},
     "output_type": "execute_result"
    }
   ],
   "source": [
    "base_completa.columns"
   ]
  },
  {
   "cell_type": "code",
   "execution_count": null,
   "metadata": {},
   "outputs": [],
   "source": [
    "coluna_analise = 'TOTAL_COMENTARIOS'"
   ]
  },
  {
   "cell_type": "markdown",
   "metadata": {},
   "source": [
    "- Assunto"
   ]
  },
  {
   "cell_type": "code",
   "execution_count": null,
   "metadata": {},
   "outputs": [
    {
     "name": "stdout",
     "output_type": "stream",
     "text": [
      "<class 'pandas.core.frame.DataFrame'>\n",
      "Index: 1628 entries, 0 to 11391\n",
      "Data columns (total 6 columns):\n",
      " #   Column               Non-Null Count  Dtype         \n",
      "---  ------               --------------  -----         \n",
      " 0   data_extracao        1628 non-null   datetime64[ns]\n",
      " 1   ASSUNTO              1628 non-null   string        \n",
      " 2   TOTAL_COMENTARIOS    1614 non-null   float64       \n",
      " 3   ID_VIDEO             1628 non-null   string        \n",
      " 4   TOTAL_VISUALIZACOES  1625 non-null   float64       \n",
      " 5   TURNO_EXTRACAO       1628 non-null   string        \n",
      "dtypes: datetime64[ns](1), float64(2), string(3)\n",
      "memory usage: 89.0 KB\n"
     ]
    }
   ],
   "source": [
    "base = pd.read_parquet('../dados/ouro/dados_tratado_estatisticas_gerais.parquet', columns=['data_extracao','ASSUNTO',coluna_analise, 'ID_VIDEO', 'TOTAL_VISUALIZACOES', 'TURNO_EXTRACAO'])\n",
    "base = base.query( '  ASSUNTO == \"assunto_python_and_dados\" ')\n",
    "base['data_extracao'] = pd.to_datetime(base['data_extracao'])\n",
    "base['data_extracao'] = pd.to_datetime(base['data_extracao'])\n",
    "base['ASSUNTO'] = base['ASSUNTO'].astype('string')\n",
    "base['TURNO_EXTRACAO'] = base['TURNO_EXTRACAO'].astype('string')\n",
    "base['ID_VIDEO'] = base['ID_VIDEO'].astype('string')\n",
    "base.info()"
   ]
  },
  {
   "cell_type": "code",
   "execution_count": null,
   "metadata": {},
   "outputs": [
    {
     "data": {
      "text/html": [
       "<div>\n",
       "<style scoped>\n",
       "    .dataframe tbody tr th:only-of-type {\n",
       "        vertical-align: middle;\n",
       "    }\n",
       "\n",
       "    .dataframe tbody tr th {\n",
       "        vertical-align: top;\n",
       "    }\n",
       "\n",
       "    .dataframe thead th {\n",
       "        text-align: right;\n",
       "    }\n",
       "</style>\n",
       "<table border=\"1\" class=\"dataframe\">\n",
       "  <thead>\n",
       "    <tr style=\"text-align: right;\">\n",
       "      <th></th>\n",
       "      <th>data_extracao</th>\n",
       "      <th>ASSUNTO</th>\n",
       "      <th>TOTAL_COMENTARIOS</th>\n",
       "      <th>ID_VIDEO</th>\n",
       "      <th>TOTAL_VISUALIZACOES</th>\n",
       "      <th>TURNO_EXTRACAO</th>\n",
       "    </tr>\n",
       "  </thead>\n",
       "  <tbody>\n",
       "    <tr>\n",
       "      <th>0</th>\n",
       "      <td>2024-01-23</td>\n",
       "      <td>assunto_python_and_dados</td>\n",
       "      <td>0.0</td>\n",
       "      <td>BVHN3nK8JR8</td>\n",
       "      <td>98.0</td>\n",
       "      <td>Manhã</td>\n",
       "    </tr>\n",
       "    <tr>\n",
       "      <th>1</th>\n",
       "      <td>2024-01-23</td>\n",
       "      <td>assunto_python_and_dados</td>\n",
       "      <td>8.0</td>\n",
       "      <td>S8FcfOPjFJY</td>\n",
       "      <td>98.0</td>\n",
       "      <td>Tarde</td>\n",
       "    </tr>\n",
       "    <tr>\n",
       "      <th>2</th>\n",
       "      <td>2024-01-23</td>\n",
       "      <td>assunto_python_and_dados</td>\n",
       "      <td>0.0</td>\n",
       "      <td>s9hUoajuWwc</td>\n",
       "      <td>97.0</td>\n",
       "      <td>Manhã</td>\n",
       "    </tr>\n",
       "    <tr>\n",
       "      <th>3</th>\n",
       "      <td>2024-01-23</td>\n",
       "      <td>assunto_python_and_dados</td>\n",
       "      <td>2.0</td>\n",
       "      <td>j1-IbFM7TtE</td>\n",
       "      <td>964.0</td>\n",
       "      <td>Noite</td>\n",
       "    </tr>\n",
       "    <tr>\n",
       "      <th>4</th>\n",
       "      <td>2024-01-23</td>\n",
       "      <td>assunto_python_and_dados</td>\n",
       "      <td>12.0</td>\n",
       "      <td>5Rl2CnW5ZFc</td>\n",
       "      <td>956.0</td>\n",
       "      <td>Noite</td>\n",
       "    </tr>\n",
       "  </tbody>\n",
       "</table>\n",
       "</div>"
      ],
      "text/plain": [
       "  data_extracao                   ASSUNTO  TOTAL_COMENTARIOS     ID_VIDEO  \\\n",
       "0    2024-01-23  assunto_python_and_dados                0.0  BVHN3nK8JR8   \n",
       "1    2024-01-23  assunto_python_and_dados                8.0  S8FcfOPjFJY   \n",
       "2    2024-01-23  assunto_python_and_dados                0.0  s9hUoajuWwc   \n",
       "3    2024-01-23  assunto_python_and_dados                2.0  j1-IbFM7TtE   \n",
       "4    2024-01-23  assunto_python_and_dados               12.0  5Rl2CnW5ZFc   \n",
       "\n",
       "   TOTAL_VISUALIZACOES TURNO_EXTRACAO  \n",
       "0                 98.0          Manhã  \n",
       "1                 98.0          Tarde  \n",
       "2                 97.0          Manhã  \n",
       "3                964.0          Noite  \n",
       "4                956.0          Noite  "
      ]
     },
     "execution_count": 490,
     "metadata": {},
     "output_type": "execute_result"
    }
   ],
   "source": [
    "base.head()"
   ]
  },
  {
   "cell_type": "code",
   "execution_count": null,
   "metadata": {},
   "outputs": [
    {
     "data": {
      "application/vnd.plotly.v1+json": {
       "config": {
        "plotlyServerURL": "https://plot.ly"
       },
       "data": [
        {
         "hovertemplate": "TOTAL_COMENTARIOS=%{x}<br>TOTAL_VISUALIZACOES=%{y}<extra></extra>",
         "legendgroup": "",
         "marker": {
          "color": "#636efa",
          "symbol": "circle"
         },
         "mode": "markers",
         "name": "",
         "showlegend": false,
         "type": "scattergl",
         "x": [
          0,
          8,
          0,
          2,
          12,
          12,
          0,
          8,
          1,
          12,
          0,
          0,
          0,
          0,
          0,
          0,
          0,
          0,
          57,
          57,
          57,
          0,
          4,
          4,
          4,
          3,
          3,
          3,
          0,
          0,
          0,
          0,
          0,
          0,
          0,
          0,
          15,
          0,
          0,
          0,
          0,
          0,
          0,
          0,
          0,
          0,
          0,
          0,
          0,
          0,
          4,
          0,
          2,
          1,
          0,
          43,
          0,
          4,
          0,
          0,
          0,
          0,
          0,
          9,
          8,
          8,
          0,
          0,
          0,
          0,
          2,
          0,
          0,
          0,
          2,
          0,
          14,
          14,
          9,
          9,
          1,
          0,
          0,
          1,
          13,
          1,
          1,
          9,
          9,
          9,
          41,
          1,
          0,
          0,
          1,
          0,
          0,
          0,
          0,
          0,
          9,
          1,
          1,
          1,
          31,
          31,
          78,
          85,
          85,
          0,
          31,
          1,
          1,
          9,
          11,
          1,
          1,
          11,
          3,
          3,
          11,
          2,
          3,
          1,
          1,
          1,
          1,
          null,
          null,
          null,
          0,
          0,
          0,
          0,
          0,
          0,
          0,
          0,
          0,
          4,
          0,
          0,
          1,
          1,
          0,
          66,
          66,
          1,
          67,
          2,
          35,
          2,
          2,
          0,
          35,
          0,
          0,
          0,
          0,
          1,
          1,
          1,
          0,
          1,
          36,
          18,
          36,
          0,
          0,
          36,
          1,
          18,
          1,
          17,
          0,
          0,
          0,
          77,
          77,
          1,
          77,
          0,
          14,
          0,
          0,
          14,
          0,
          14,
          0,
          2,
          28,
          1,
          1,
          0,
          0,
          2,
          0,
          0,
          0,
          1,
          0,
          0,
          3,
          0,
          0,
          3,
          64,
          64,
          0,
          0,
          2,
          0,
          35,
          23,
          64,
          23,
          2,
          0,
          0,
          23,
          0,
          0,
          47,
          47,
          47,
          3,
          0,
          1,
          0,
          1,
          9,
          0,
          0,
          0,
          0,
          9,
          9,
          0,
          0,
          0,
          1,
          1,
          1,
          10,
          10,
          10,
          0,
          0,
          0,
          0,
          0,
          0,
          22,
          22,
          22,
          3,
          0,
          0,
          0,
          1,
          3,
          4,
          3,
          2,
          0,
          1,
          0,
          3,
          3,
          0,
          0,
          0,
          3,
          0,
          7,
          7,
          1,
          7,
          0,
          0,
          2,
          0,
          2,
          0,
          2,
          0,
          7,
          7,
          0,
          0,
          2,
          2,
          8,
          6,
          1,
          6,
          5,
          5,
          6,
          0,
          1,
          5,
          7,
          6,
          6,
          13,
          0,
          1,
          0,
          0,
          0,
          0,
          0,
          0,
          0,
          0,
          0,
          13,
          7,
          6,
          1,
          13,
          0,
          0,
          0,
          0,
          0,
          0,
          0,
          0,
          0,
          7,
          7,
          7,
          80,
          5,
          5,
          0,
          5,
          2,
          2,
          2,
          79,
          0,
          0,
          0,
          2,
          1,
          0,
          0,
          0,
          0,
          0,
          0,
          2,
          2,
          2,
          1,
          2,
          0,
          2,
          0,
          75,
          2,
          0,
          0,
          0,
          10,
          10,
          10,
          2,
          0,
          0,
          0,
          0,
          10,
          10,
          1,
          1,
          10,
          0,
          0,
          0,
          0,
          1,
          11,
          1,
          0,
          0,
          0,
          2,
          2,
          0,
          2,
          0,
          0,
          1,
          0,
          0,
          0,
          0,
          8,
          0,
          0,
          0,
          0,
          0,
          0,
          0,
          1,
          0,
          0,
          0,
          0,
          0,
          0,
          11,
          11,
          11,
          0,
          0,
          2,
          0,
          0,
          0,
          9,
          0,
          0,
          0,
          0,
          27,
          0,
          0,
          1,
          0,
          0,
          0,
          0,
          12,
          8,
          11,
          1,
          8,
          62,
          0,
          0,
          11,
          8,
          4,
          57,
          3,
          3,
          3,
          56,
          4,
          0,
          0,
          0,
          0,
          0,
          0,
          0,
          0,
          0,
          0,
          0,
          0,
          0,
          0,
          0,
          0,
          11,
          11,
          55,
          4,
          8,
          8,
          0,
          0,
          0,
          0,
          0,
          0,
          8,
          0,
          0,
          0,
          0,
          11,
          12,
          12,
          0,
          1,
          1,
          0,
          1,
          1,
          12,
          0,
          0,
          1,
          0,
          85,
          84,
          83,
          0,
          1,
          31,
          1,
          31,
          1,
          1,
          6,
          3,
          11,
          1,
          11,
          3,
          11,
          3,
          31,
          0,
          9,
          5,
          1,
          0,
          0,
          0,
          0,
          9,
          0,
          5,
          1,
          null,
          8,
          0,
          0,
          2,
          67,
          65,
          65,
          0,
          2,
          2,
          0,
          null,
          0,
          0,
          0,
          0,
          0,
          1,
          0,
          0,
          0,
          36,
          13,
          0,
          0,
          0,
          14,
          77,
          76,
          76,
          17,
          null,
          14,
          0,
          0,
          16,
          34,
          0,
          0,
          0,
          1,
          0,
          0,
          16,
          1,
          0,
          0,
          0,
          0,
          1,
          33,
          1,
          0,
          1,
          62,
          62,
          62,
          1,
          1,
          28,
          0,
          48,
          47,
          22,
          2,
          0,
          2,
          0,
          0,
          2,
          1,
          0,
          1,
          1,
          46,
          9,
          10,
          22,
          0,
          0,
          10,
          10,
          10,
          10,
          0,
          0,
          0,
          22,
          22,
          22,
          0,
          0,
          0,
          0,
          0,
          0,
          11,
          0,
          11,
          0,
          20,
          0,
          11,
          3,
          3,
          3,
          0,
          0,
          3,
          7,
          7,
          7,
          0,
          2,
          2,
          0,
          2,
          0,
          0,
          0,
          0,
          0,
          5,
          4,
          6,
          0,
          0,
          0,
          0,
          0,
          0,
          0,
          0,
          0,
          13,
          4,
          5,
          6,
          6,
          0,
          0,
          13,
          5,
          5,
          12,
          6,
          5,
          5,
          5,
          5,
          6,
          6,
          0,
          0,
          0,
          0,
          0,
          6,
          3,
          0,
          0,
          0,
          6,
          2,
          2,
          1,
          2,
          10,
          2,
          2,
          2,
          10,
          10,
          0,
          0,
          0,
          1,
          0,
          1,
          9,
          1,
          9,
          1,
          0,
          0,
          0,
          0,
          1,
          0,
          9,
          0,
          0,
          0,
          2,
          2,
          2,
          0,
          0,
          0,
          0,
          0,
          0,
          0,
          0,
          0,
          0,
          0,
          0,
          0,
          0,
          0,
          0,
          0,
          0,
          9,
          0,
          1,
          0,
          0,
          0,
          0,
          0,
          4,
          0,
          0,
          0,
          2,
          0,
          0,
          3,
          3,
          10,
          0,
          0,
          3,
          0,
          7,
          0,
          0,
          0,
          10,
          0,
          0,
          0,
          0,
          0,
          0,
          0,
          0,
          0,
          0,
          3,
          2,
          10,
          0,
          0,
          0,
          0,
          0,
          0,
          0,
          8,
          8,
          8,
          7,
          4,
          54,
          0,
          1,
          0,
          0,
          54,
          0,
          12,
          12,
          0,
          4,
          2,
          89,
          12,
          89,
          0,
          1,
          0,
          11,
          11,
          80,
          4,
          52,
          11,
          3,
          11,
          1,
          0,
          0,
          0,
          0,
          3,
          3,
          29,
          11,
          5,
          1,
          11,
          1,
          1,
          1,
          1,
          29,
          8,
          64,
          1,
          2,
          2,
          0,
          2,
          64,
          58,
          0,
          0,
          0,
          8,
          0,
          0,
          0,
          0,
          29,
          0,
          8,
          13,
          75,
          75,
          74,
          5,
          12,
          0,
          null,
          0,
          7,
          0,
          0,
          null,
          0,
          0,
          null,
          0,
          0,
          0,
          0,
          0,
          15,
          0,
          0,
          0,
          15,
          1,
          15,
          0,
          62,
          1,
          62,
          1,
          60,
          1,
          1,
          1,
          1,
          0,
          1,
          0,
          10,
          1,
          2,
          0,
          2,
          0,
          10,
          5,
          10,
          10,
          38,
          2,
          0,
          0,
          0,
          0,
          0,
          0,
          0,
          22,
          22,
          22,
          10,
          0,
          10,
          3,
          3,
          38,
          3,
          0,
          0,
          10,
          0,
          10,
          0,
          10,
          7,
          0,
          0,
          7,
          0,
          7,
          2,
          0,
          2,
          17,
          2,
          0,
          0,
          0,
          0,
          0,
          0,
          0,
          0,
          0,
          4,
          4,
          0,
          4,
          0,
          0,
          0,
          0,
          5,
          11,
          5,
          5,
          5,
          10,
          5,
          5,
          11,
          5,
          5,
          5,
          10,
          0,
          0,
          0,
          2,
          2,
          2,
          10,
          10,
          2,
          10,
          2,
          6,
          0,
          0,
          0,
          0,
          0,
          0,
          9,
          4,
          9,
          2,
          0,
          2,
          2,
          6,
          9,
          0,
          1,
          1,
          0,
          0,
          0,
          0,
          0,
          0,
          2,
          0,
          0,
          0,
          0,
          0,
          0,
          0,
          9,
          2,
          9,
          0,
          0,
          8,
          0,
          0,
          2,
          0,
          0,
          0,
          3,
          0,
          3,
          3,
          0,
          0,
          0,
          0,
          0,
          2,
          1,
          1,
          0,
          0,
          0,
          0,
          0,
          0,
          0,
          8,
          8,
          8,
          9,
          0,
          0,
          9,
          0,
          7,
          0,
          0,
          0,
          0,
          0,
          0,
          0,
          0,
          0,
          12,
          12,
          69,
          9,
          0,
          4,
          0,
          0,
          0,
          0,
          0,
          0,
          0,
          0,
          3,
          1,
          1,
          69,
          3,
          10,
          52,
          3,
          10,
          2,
          2,
          9,
          50,
          54,
          4,
          1,
          1,
          54,
          11,
          11,
          1,
          0,
          0,
          52,
          11,
          2,
          1,
          0,
          1,
          74,
          74,
          74,
          1,
          0,
          7,
          0,
          0,
          0,
          0,
          0,
          0,
          null,
          1,
          null,
          0,
          null,
          16,
          46,
          0,
          7,
          0,
          0,
          8,
          26,
          0,
          15,
          0,
          0,
          15,
          1,
          1,
          0,
          1,
          59,
          1,
          67,
          1,
          14,
          64,
          0,
          4,
          0,
          1,
          0,
          7,
          10,
          10,
          22,
          22,
          22,
          0,
          24,
          0,
          0,
          1,
          10,
          0,
          0,
          1,
          0,
          3,
          10,
          3,
          10,
          3,
          0,
          0,
          0,
          10,
          0,
          0,
          0,
          1,
          0,
          2,
          0,
          0,
          0,
          7,
          7,
          10,
          7,
          0,
          0,
          0,
          2,
          0,
          0,
          2,
          2,
          10,
          0,
          0,
          2,
          4,
          0,
          0,
          0,
          4,
          0,
          0,
          0,
          0,
          5,
          0,
          23,
          4,
          2,
          5,
          0,
          5,
          4,
          0,
          0,
          0,
          5,
          0,
          10,
          3,
          0,
          9,
          2,
          2,
          2,
          4,
          2,
          10,
          10,
          0,
          0,
          0,
          10,
          0,
          4,
          9,
          4,
          2,
          2,
          0,
          0,
          0,
          0,
          0,
          0,
          0,
          0,
          0,
          0,
          2,
          2,
          0,
          0,
          0,
          10,
          2,
          10,
          10,
          1,
          0,
          0,
          0,
          2,
          2,
          22,
          2,
          2,
          1,
          2,
          0,
          8,
          17,
          3,
          7,
          0,
          2,
          0,
          0,
          3,
          3,
          3,
          1,
          0,
          1,
          0,
          0,
          1,
          0,
          7,
          0,
          0,
          7,
          0,
          0,
          0,
          0,
          7,
          6,
          0,
          0,
          0,
          0,
          0,
          7,
          0,
          19,
          0,
          0,
          0,
          0,
          0,
          0,
          0,
          9,
          8,
          8,
          7,
          0,
          3,
          3,
          9,
          0,
          2,
          0,
          0,
          3,
          52,
          8,
          2,
          74,
          74,
          74,
          2,
          1,
          43,
          2,
          1,
          1,
          0,
          7,
          0,
          0,
          1,
          0,
          7,
          0,
          43,
          0,
          0,
          1,
          0,
          1,
          0,
          1,
          11,
          11,
          11,
          0,
          null,
          0,
          0,
          16,
          14,
          16,
          16,
          61,
          1,
          0,
          10,
          10,
          1,
          3,
          14,
          3,
          0,
          3,
          10,
          0,
          0,
          45,
          10,
          1,
          0,
          0,
          0,
          48,
          0,
          0,
          9,
          7,
          0,
          12,
          0,
          7,
          0,
          7,
          0,
          0,
          null,
          9,
          2,
          0,
          1,
          0,
          2,
          43,
          0,
          1,
          0,
          0,
          0,
          5,
          0,
          1,
          5,
          0,
          4,
          0,
          0,
          0,
          0,
          5,
          2,
          2,
          2,
          38,
          2,
          0,
          0,
          0,
          0,
          0,
          0,
          0,
          0,
          0,
          0,
          0,
          0,
          0,
          7,
          0,
          0,
          0,
          9,
          19,
          9,
          2,
          0,
          4,
          0,
          9,
          0,
          0,
          0,
          9,
          3,
          0,
          0,
          0,
          2,
          1,
          3,
          1,
          2,
          1,
          23,
          0,
          0,
          0,
          7,
          0,
          0,
          0,
          7,
          8,
          0,
          0,
          1,
          0,
          0,
          8,
          0,
          0,
          6,
          0,
          3,
          73,
          70,
          2,
          6,
          1,
          1,
          66,
          0,
          1,
          0,
          16,
          1,
          16,
          2,
          3,
          0,
          0,
          10,
          0,
          0,
          0,
          0,
          1,
          3,
          3,
          0,
          1,
          2,
          10,
          0,
          7,
          0,
          1,
          11,
          11,
          6,
          0,
          0,
          3,
          1,
          3,
          2,
          0,
          2,
          0,
          0,
          10,
          11,
          0,
          0,
          0,
          1,
          0,
          0,
          5,
          0,
          5,
          5,
          0,
          2,
          0,
          0,
          0,
          0,
          0,
          0,
          0,
          0,
          0,
          1,
          1,
          0,
          0,
          1,
          32,
          32,
          0,
          0,
          0,
          0,
          0,
          1,
          1,
          9,
          9,
          1,
          7,
          7,
          2,
          0,
          1,
          2,
          0,
          6,
          0,
          0,
          6,
          0,
          0,
          7,
          2,
          1,
          1,
          0,
          1,
          0,
          0,
          0,
          1,
          1,
          0,
          4,
          4,
          0,
          6,
          0,
          5,
          0,
          0,
          0,
          0,
          1,
          1,
          5
         ],
         "xaxis": "x",
         "y": [
          98,
          98,
          97,
          964,
          956,
          942,
          939,
          92,
          92,
          916,
          9,
          9,
          9,
          9,
          892,
          87,
          87,
          87,
          8273,
          8238,
          8119,
          8,
          79,
          77,
          77,
          769,
          768,
          766,
          76,
          737,
          732,
          72,
          72,
          72,
          72,
          72,
          714,
          71,
          71,
          70,
          70,
          70,
          7,
          7,
          7,
          7,
          7,
          7,
          7,
          7,
          698,
          691,
          69,
          685,
          68,
          6782,
          67,
          661,
          66,
          66,
          66,
          66,
          66,
          6586,
          6572,
          6554,
          65,
          65,
          65,
          65,
          65,
          65,
          64,
          64,
          633,
          63,
          628,
          626,
          626,
          620,
          62,
          62,
          62,
          62,
          616,
          61,
          61,
          609,
          607,
          604,
          6028,
          60,
          60,
          60,
          60,
          60,
          6,
          6,
          6,
          6,
          592,
          59,
          59,
          59,
          5899,
          5872,
          5866,
          5854,
          5833,
          58,
          5763,
          57,
          57,
          568,
          561,
          56,
          56,
          558,
          553,
          549,
          548,
          544,
          542,
          54,
          54,
          53,
          51,
          51,
          51,
          50,
          50,
          50,
          5,
          5,
          5,
          5,
          5,
          5,
          5,
          493,
          49,
          48,
          48,
          47,
          47,
          4645,
          4633,
          463,
          4611,
          46,
          4572,
          45,
          45,
          445,
          4421,
          441,
          44,
          438,
          435,
          43,
          43,
          42,
          42,
          42,
          4152,
          4146,
          4142,
          412,
          411,
          4101,
          41,
          4095,
          406,
          4037,
          402,
          40,
          40,
          3902,
          3902,
          3902,
          3901,
          39,
          39,
          39,
          39,
          39,
          39,
          39,
          39,
          39,
          3899,
          3874,
          3810,
          38,
          38,
          38,
          38,
          378,
          374,
          37,
          37,
          367,
          363,
          36,
          36,
          359,
          3528,
          3504,
          35,
          35,
          35,
          35,
          3493,
          346,
          3459,
          341,
          34,
          34,
          34,
          337,
          333,
          33,
          3297,
          3283,
          3252,
          324,
          32,
          32,
          32,
          319,
          3115,
          31,
          31,
          31,
          31,
          3095,
          3049,
          30,
          30,
          3,
          3,
          3,
          3,
          297,
          296,
          295,
          29,
          29,
          282,
          28,
          28,
          28,
          2738,
          2737,
          2734,
          2705,
          27,
          27,
          27,
          27,
          2694,
          269,
          2675,
          262,
          26,
          26,
          26,
          257,
          257,
          256,
          256,
          256,
          254,
          248,
          245,
          243,
          242,
          240,
          24,
          24,
          2390,
          236,
          236,
          236,
          235,
          234,
          233,
          232,
          23,
          23,
          228,
          2264,
          2252,
          2172,
          217,
          2164,
          215,
          214,
          2129,
          21,
          21,
          206,
          206,
          2028,
          202,
          200,
          20,
          20,
          20,
          2,
          2,
          2,
          2,
          2,
          2,
          2,
          2,
          198,
          197,
          195,
          195,
          194,
          19,
          19,
          19,
          19,
          19,
          19,
          19,
          19,
          18,
          179,
          175,
          172,
          1605,
          16,
          16,
          16,
          16,
          158,
          154,
          153,
          1527,
          15,
          15,
          15,
          149,
          140,
          14,
          14,
          14,
          14,
          14,
          14,
          138,
          138,
          138,
          137,
          1342,
          134,
          1332,
          133,
          1324,
          1319,
          130,
          13,
          13,
          129,
          129,
          129,
          128,
          125,
          125,
          124,
          123,
          1226,
          1220,
          121,
          121,
          1204,
          120,
          12,
          12,
          119,
          118,
          1176,
          116,
          116,
          116,
          115,
          113,
          113,
          111,
          110,
          11,
          11,
          109,
          108,
          105,
          100,
          100,
          100,
          100,
          1,
          1,
          1,
          0,
          0,
          0,
          0,
          0,
          0,
          0,
          0,
          0,
          0,
          null,
          null,
          null,
          99,
          97,
          97,
          96,
          96,
          96,
          959,
          94,
          94,
          93,
          93,
          929,
          92,
          90,
          90,
          9,
          9,
          88,
          86,
          859,
          84,
          822,
          81,
          81,
          800,
          8,
          8,
          780,
          77,
          76,
          7598,
          756,
          752,
          742,
          7280,
          72,
          72,
          72,
          72,
          71,
          71,
          71,
          70,
          70,
          70,
          7,
          7,
          7,
          7,
          7,
          7,
          7,
          6766,
          6764,
          6719,
          67,
          6531,
          6517,
          65,
          65,
          65,
          65,
          65,
          65,
          6487,
          61,
          60,
          6,
          6,
          5998,
          595,
          593,
          59,
          59,
          59,
          59,
          59,
          59,
          583,
          58,
          58,
          58,
          58,
          5786,
          5759,
          5716,
          56,
          56,
          5530,
          55,
          5417,
          54,
          54,
          537,
          535,
          533,
          53,
          529,
          526,
          523,
          522,
          5216,
          52,
          515,
          513,
          51,
          50,
          5,
          5,
          5,
          498,
          49,
          482,
          48,
          48,
          476,
          47,
          47,
          46,
          4556,
          4530,
          4508,
          45,
          44,
          44,
          44,
          43,
          427,
          422,
          42,
          413,
          41,
          41,
          4,
          4,
          4,
          3940,
          39,
          39,
          39,
          39,
          39,
          3897,
          3894,
          3887,
          3878,
          38,
          38,
          38,
          378,
          3776,
          3729,
          37,
          37,
          37,
          3688,
          367,
          366,
          3634,
          3632,
          362,
          360,
          36,
          36,
          36,
          351,
          3504,
          344,
          34,
          3387,
          3362,
          3326,
          33,
          33,
          3270,
          32,
          3171,
          3115,
          302,
          30,
          30,
          30,
          30,
          30,
          30,
          3,
          3,
          3,
          3,
          2989,
          2982,
          2932,
          291,
          29,
          29,
          289,
          2871,
          287,
          285,
          28,
          28,
          28,
          2734,
          2729,
          2709,
          27,
          27,
          27,
          27,
          27,
          27,
          2616,
          26,
          2575,
          254,
          253,
          253,
          2525,
          251,
          251,
          249,
          249,
          24,
          230,
          229,
          226,
          224,
          224,
          221,
          219,
          216,
          212,
          208,
          2,
          2,
          2,
          2,
          199,
          193,
          1903,
          19,
          19,
          19,
          19,
          19,
          19,
          19,
          19,
          19,
          189,
          188,
          1840,
          183,
          182,
          18,
          18,
          178,
          1757,
          175,
          171,
          171,
          162,
          16,
          16,
          16,
          158,
          154,
          15,
          15,
          15,
          15,
          15,
          147,
          146,
          14,
          14,
          14,
          136,
          136,
          136,
          136,
          134,
          127,
          1268,
          1265,
          1263,
          126,
          125,
          125,
          122,
          122,
          12,
          12,
          117,
          1168,
          116,
          1140,
          114,
          114,
          113,
          113,
          113,
          112,
          111,
          1100,
          11,
          11,
          107,
          107,
          106,
          106,
          10,
          1,
          1,
          1,
          1,
          1,
          1,
          1,
          0,
          0,
          0,
          0,
          0,
          0,
          0,
          0,
          0,
          990,
          99,
          94,
          93,
          93,
          93,
          91,
          91,
          90,
          9,
          84,
          805,
          78,
          76,
          76,
          75,
          737,
          734,
          734,
          73,
          73,
          729,
          72,
          72,
          71,
          71,
          71,
          700,
          70,
          70,
          70,
          70,
          7,
          7,
          7,
          7,
          69,
          69,
          686,
          679,
          656,
          65,
          65,
          65,
          65,
          65,
          65,
          65,
          6450,
          6425,
          6397,
          62,
          61,
          6083,
          6,
          59,
          58,
          58,
          5730,
          57,
          567,
          562,
          56,
          56,
          56,
          5597,
          552,
          5511,
          55,
          55,
          55,
          5436,
          5429,
          5411,
          54,
          5215,
          518,
          509,
          503,
          50,
          5,
          5,
          5,
          5,
          497,
          490,
          4868,
          486,
          48,
          48,
          4719,
          47,
          47,
          47,
          47,
          4651,
          444,
          4432,
          44,
          44,
          44,
          44,
          44,
          4375,
          4314,
          43,
          43,
          43,
          422,
          42,
          42,
          42,
          42,
          4181,
          40,
          390,
          39,
          3877,
          3860,
          3850,
          383,
          38,
          38,
          38,
          38,
          37,
          37,
          37,
          37,
          37,
          362,
          36,
          36,
          36,
          358,
          358,
          355,
          3508,
          350,
          35,
          348,
          3429,
          3323,
          3303,
          33,
          3279,
          3243,
          3211,
          3147,
          3131,
          30,
          30,
          3,
          3,
          3,
          3,
          284,
          280,
          28,
          28,
          28,
          28,
          279,
          278,
          275,
          2745,
          274,
          2738,
          27,
          27,
          27,
          27,
          27,
          27,
          27,
          27,
          2697,
          2691,
          2687,
          2659,
          26,
          2540,
          247,
          245,
          2445,
          243,
          243,
          242,
          2400,
          236,
          2332,
          23,
          2249,
          221,
          22,
          22,
          218,
          215,
          215,
          206,
          205,
          204,
          2007,
          200,
          20,
          20,
          2,
          2,
          2,
          196,
          19,
          19,
          186,
          184,
          180,
          18,
          179,
          17,
          17,
          17,
          17,
          1649,
          160,
          16,
          16,
          16,
          157,
          157,
          1568,
          151,
          150,
          1493,
          146,
          145,
          14,
          14,
          14,
          134,
          132,
          131,
          126,
          124,
          1232,
          123,
          1211,
          120,
          12,
          119,
          119,
          118,
          11,
          11,
          1074,
          106,
          1041,
          104,
          104,
          103,
          102,
          102,
          1012,
          101,
          101,
          100,
          1,
          1,
          1,
          1,
          0,
          0,
          0,
          0,
          0,
          0,
          0,
          0,
          0,
          0,
          966,
          95,
          933,
          91,
          90,
          887,
          86,
          83,
          8,
          8,
          76,
          73,
          722,
          72,
          718,
          708,
          70,
          70,
          70,
          7,
          69,
          675,
          669,
          664,
          66,
          65,
          65,
          65,
          65,
          65,
          65,
          6362,
          6326,
          6290,
          626,
          62,
          62,
          611,
          58,
          571,
          57,
          56,
          56,
          56,
          55,
          55,
          54,
          54,
          530,
          530,
          520,
          5074,
          501,
          50,
          50,
          5,
          5,
          5,
          5,
          5,
          5,
          49,
          48,
          478,
          47,
          47,
          4696,
          467,
          461,
          4603,
          450,
          448,
          44,
          43,
          428,
          4221,
          4218,
          42,
          42,
          42,
          4174,
          4152,
          4149,
          41,
          41,
          41,
          4081,
          4042,
          40,
          40,
          39,
          39,
          3832,
          3824,
          3819,
          38,
          37,
          37,
          37,
          36,
          36,
          36,
          36,
          36,
          35,
          35,
          35,
          35,
          35,
          3482,
          3477,
          34,
          34,
          34,
          34,
          328,
          3244,
          32,
          3100,
          31,
          31,
          3033,
          3,
          3,
          3,
          3,
          2983,
          2969,
          2936,
          2896,
          2892,
          2884,
          284,
          28,
          276,
          2736,
          273,
          272,
          270,
          269,
          2683,
          2678,
          2670,
          267,
          2643,
          263,
          26,
          26,
          259,
          25,
          25,
          25,
          25,
          245,
          2429,
          241,
          2372,
          237,
          233,
          230,
          23,
          2287,
          227,
          224,
          220,
          22,
          22,
          22,
          22,
          21,
          21,
          208,
          206,
          2059,
          205,
          20,
          20,
          20,
          20,
          20,
          197,
          191,
          186,
          1830,
          182,
          18,
          179,
          172,
          17,
          168,
          167,
          167,
          16,
          16,
          16,
          16,
          16,
          16,
          1551,
          155,
          1524,
          15,
          15,
          15,
          142,
          14,
          14,
          14,
          1360,
          135,
          134,
          132,
          13,
          129,
          129,
          128,
          126,
          1244,
          119,
          118,
          118,
          115,
          113,
          112,
          110,
          11,
          1056,
          104,
          103,
          101,
          100,
          10,
          1,
          1,
          1,
          1,
          1,
          0,
          0,
          0,
          0,
          0,
          0,
          0,
          0,
          0,
          99,
          97,
          95,
          94,
          9,
          9,
          9,
          9,
          89,
          87,
          858,
          85,
          83,
          828,
          80,
          8,
          781,
          720,
          72,
          708,
          70,
          69,
          69,
          69,
          685,
          671,
          660,
          655,
          65,
          644,
          64,
          64,
          637,
          63,
          6237,
          62,
          62,
          6163,
          61,
          6,
          6,
          6,
          5774,
          573,
          56,
          55,
          53,
          53,
          53,
          524,
          52,
          513,
          51,
          50,
          5,
          5,
          5,
          5,
          49,
          484,
          466,
          457,
          443,
          44,
          435,
          417,
          409,
          40,
          40,
          4,
          4,
          396,
          3865,
          385,
          38,
          3796,
          3781,
          3758,
          37,
          36,
          3596,
          35,
          35,
          35,
          35,
          345,
          34,
          34,
          33,
          32,
          310,
          31,
          3016,
          30,
          30,
          3,
          3,
          3,
          3,
          3,
          2938,
          2933,
          2932,
          29,
          29,
          27,
          27,
          2662,
          2650,
          2642,
          2622,
          2592,
          2527,
          25,
          246,
          239,
          2356,
          235,
          2335,
          231,
          23,
          228,
          224,
          221,
          22,
          2177,
          2172,
          2141,
          214,
          21,
          21,
          2075,
          207,
          205,
          2009,
          200,
          20,
          1974,
          194,
          194,
          19,
          189,
          18,
          17,
          17,
          1681,
          167,
          164,
          16,
          16,
          157,
          1520,
          15,
          15,
          15,
          15,
          148,
          14,
          14,
          14,
          14,
          133,
          131,
          13,
          13,
          13,
          13,
          12,
          119,
          118,
          114,
          1120,
          112,
          110,
          109,
          107,
          105,
          10,
          10,
          10,
          1,
          1,
          0,
          0,
          0,
          0,
          981,
          97,
          96,
          88,
          88,
          858,
          85,
          82,
          80,
          76,
          74,
          73,
          7,
          7,
          7,
          695,
          642,
          63,
          63,
          63,
          621,
          621,
          62,
          600,
          586,
          578,
          574,
          54,
          52,
          51,
          5027,
          5,
          5,
          49,
          4372,
          429,
          42,
          41,
          40,
          4,
          4,
          397,
          39,
          39,
          3848,
          38,
          374,
          3680,
          3484,
          341,
          325,
          31,
          31,
          3011,
          3,
          28,
          28,
          2542,
          254,
          2436,
          24,
          224,
          21,
          21,
          203,
          20,
          2,
          2,
          2,
          2,
          199,
          194,
          193,
          19,
          19,
          188,
          184,
          180,
          18,
          1746,
          1739,
          1721,
          171,
          170,
          17,
          166,
          166,
          163,
          16,
          16,
          154,
          1492,
          147,
          1464,
          1445,
          141,
          14,
          14,
          136,
          13,
          127,
          12,
          12,
          12,
          12,
          11,
          107,
          100,
          1,
          0,
          0,
          0,
          0,
          0,
          0,
          99,
          98,
          91,
          9,
          9,
          89,
          865,
          828,
          8,
          60,
          60,
          60,
          57,
          554,
          554,
          552,
          550,
          518,
          51,
          51,
          47,
          45,
          446,
          44,
          44,
          409,
          31,
          31,
          2914,
          29,
          29,
          23,
          211,
          21,
          20,
          20,
          20,
          20,
          2,
          2,
          17,
          17,
          13,
          127,
          127,
          125,
          125,
          125,
          122,
          120,
          116,
          115,
          110,
          106,
          105,
          10
         ],
         "yaxis": "y"
        },
        {
         "hovertemplate": "<b>OLS trendline</b><br>TOTAL_VISUALIZACOES = 66.6914 * TOTAL_COMENTARIOS + 243.26<br>R<sup>2</sup>=0.507338<br><br>TOTAL_COMENTARIOS=%{x}<br>TOTAL_VISUALIZACOES=%{y} <b>(trend)</b><extra></extra>",
         "legendgroup": "",
         "marker": {
          "color": "#636efa",
          "symbol": "circle"
         },
         "mode": "lines",
         "name": "",
         "showlegend": false,
         "type": "scattergl",
         "x": [
          0,
          0,
          0,
          0,
          0,
          0,
          0,
          0,
          0,
          0,
          0,
          0,
          0,
          0,
          0,
          0,
          0,
          0,
          0,
          0,
          0,
          0,
          0,
          0,
          0,
          0,
          0,
          0,
          0,
          0,
          0,
          0,
          0,
          0,
          0,
          0,
          0,
          0,
          0,
          0,
          0,
          0,
          0,
          0,
          0,
          0,
          0,
          0,
          0,
          0,
          0,
          0,
          0,
          0,
          0,
          0,
          0,
          0,
          0,
          0,
          0,
          0,
          0,
          0,
          0,
          0,
          0,
          0,
          0,
          0,
          0,
          0,
          0,
          0,
          0,
          0,
          0,
          0,
          0,
          0,
          0,
          0,
          0,
          0,
          0,
          0,
          0,
          0,
          0,
          0,
          0,
          0,
          0,
          0,
          0,
          0,
          0,
          0,
          0,
          0,
          0,
          0,
          0,
          0,
          0,
          0,
          0,
          0,
          0,
          0,
          0,
          0,
          0,
          0,
          0,
          0,
          0,
          0,
          0,
          0,
          0,
          0,
          0,
          0,
          0,
          0,
          0,
          0,
          0,
          0,
          0,
          0,
          0,
          0,
          0,
          0,
          0,
          0,
          0,
          0,
          0,
          0,
          0,
          0,
          0,
          0,
          0,
          0,
          0,
          0,
          0,
          0,
          0,
          0,
          0,
          0,
          0,
          0,
          0,
          0,
          0,
          0,
          0,
          0,
          0,
          0,
          0,
          0,
          0,
          0,
          0,
          0,
          0,
          0,
          0,
          0,
          0,
          0,
          0,
          0,
          0,
          0,
          0,
          0,
          0,
          0,
          0,
          0,
          0,
          0,
          0,
          0,
          0,
          0,
          0,
          0,
          0,
          0,
          0,
          0,
          0,
          0,
          0,
          0,
          0,
          0,
          0,
          0,
          0,
          0,
          0,
          0,
          0,
          0,
          0,
          0,
          0,
          0,
          0,
          0,
          0,
          0,
          0,
          0,
          0,
          0,
          0,
          0,
          0,
          0,
          0,
          0,
          0,
          0,
          0,
          0,
          0,
          0,
          0,
          0,
          0,
          0,
          0,
          0,
          0,
          0,
          0,
          0,
          0,
          0,
          0,
          0,
          0,
          0,
          0,
          0,
          0,
          0,
          0,
          0,
          0,
          0,
          0,
          0,
          0,
          0,
          0,
          0,
          0,
          0,
          0,
          0,
          0,
          0,
          0,
          0,
          0,
          0,
          0,
          0,
          0,
          0,
          0,
          0,
          0,
          0,
          0,
          0,
          0,
          0,
          0,
          0,
          0,
          0,
          0,
          0,
          0,
          0,
          0,
          0,
          0,
          0,
          0,
          0,
          0,
          0,
          0,
          0,
          0,
          0,
          0,
          0,
          0,
          0,
          0,
          0,
          0,
          0,
          0,
          0,
          0,
          0,
          0,
          0,
          0,
          0,
          0,
          0,
          0,
          0,
          0,
          0,
          0,
          0,
          0,
          0,
          0,
          0,
          0,
          0,
          0,
          0,
          0,
          0,
          0,
          0,
          0,
          0,
          0,
          0,
          0,
          0,
          0,
          0,
          0,
          0,
          0,
          0,
          0,
          0,
          0,
          0,
          0,
          0,
          0,
          0,
          0,
          0,
          0,
          0,
          0,
          0,
          0,
          0,
          0,
          0,
          0,
          0,
          0,
          0,
          0,
          0,
          0,
          0,
          0,
          0,
          0,
          0,
          0,
          0,
          0,
          0,
          0,
          0,
          0,
          0,
          0,
          0,
          0,
          0,
          0,
          0,
          0,
          0,
          0,
          0,
          0,
          0,
          0,
          0,
          0,
          0,
          0,
          0,
          0,
          0,
          0,
          0,
          0,
          0,
          0,
          0,
          0,
          0,
          0,
          0,
          0,
          0,
          0,
          0,
          0,
          0,
          0,
          0,
          0,
          0,
          0,
          0,
          0,
          0,
          0,
          0,
          0,
          0,
          0,
          0,
          0,
          0,
          0,
          0,
          0,
          0,
          0,
          0,
          0,
          0,
          0,
          0,
          0,
          0,
          0,
          0,
          0,
          0,
          0,
          0,
          0,
          0,
          0,
          0,
          0,
          0,
          0,
          0,
          0,
          0,
          0,
          0,
          0,
          0,
          0,
          0,
          0,
          0,
          0,
          0,
          0,
          0,
          0,
          0,
          0,
          0,
          0,
          0,
          0,
          0,
          0,
          0,
          0,
          0,
          0,
          0,
          0,
          0,
          0,
          0,
          0,
          0,
          0,
          0,
          0,
          0,
          0,
          0,
          0,
          0,
          0,
          0,
          0,
          0,
          0,
          0,
          0,
          0,
          0,
          0,
          0,
          0,
          0,
          0,
          0,
          0,
          0,
          0,
          0,
          0,
          0,
          0,
          0,
          0,
          0,
          0,
          0,
          0,
          0,
          0,
          0,
          0,
          0,
          0,
          0,
          0,
          0,
          0,
          0,
          0,
          0,
          0,
          0,
          0,
          0,
          0,
          0,
          0,
          0,
          0,
          0,
          0,
          0,
          0,
          0,
          0,
          0,
          0,
          0,
          0,
          0,
          0,
          0,
          0,
          0,
          0,
          0,
          0,
          0,
          0,
          0,
          0,
          0,
          0,
          0,
          0,
          0,
          0,
          0,
          0,
          0,
          0,
          0,
          0,
          0,
          0,
          0,
          0,
          0,
          0,
          0,
          0,
          0,
          0,
          0,
          0,
          0,
          0,
          0,
          0,
          0,
          0,
          0,
          0,
          0,
          0,
          0,
          0,
          0,
          0,
          0,
          0,
          0,
          0,
          0,
          0,
          0,
          0,
          0,
          0,
          0,
          0,
          0,
          0,
          0,
          0,
          0,
          0,
          0,
          0,
          0,
          0,
          0,
          0,
          0,
          0,
          0,
          0,
          0,
          0,
          0,
          0,
          0,
          0,
          0,
          0,
          0,
          0,
          0,
          0,
          0,
          0,
          0,
          0,
          0,
          0,
          0,
          0,
          0,
          0,
          0,
          0,
          0,
          0,
          0,
          0,
          0,
          0,
          0,
          0,
          0,
          0,
          0,
          0,
          0,
          0,
          0,
          0,
          0,
          0,
          0,
          0,
          0,
          0,
          0,
          0,
          0,
          0,
          0,
          0,
          0,
          0,
          0,
          0,
          0,
          0,
          0,
          0,
          0,
          0,
          0,
          0,
          0,
          0,
          0,
          0,
          0,
          0,
          0,
          0,
          0,
          0,
          0,
          0,
          0,
          0,
          0,
          0,
          0,
          0,
          0,
          0,
          0,
          0,
          0,
          0,
          0,
          0,
          0,
          0,
          0,
          0,
          0,
          0,
          0,
          0,
          0,
          0,
          0,
          0,
          0,
          0,
          0,
          0,
          0,
          0,
          0,
          0,
          0,
          0,
          0,
          1,
          1,
          1,
          1,
          1,
          1,
          1,
          1,
          1,
          1,
          1,
          1,
          1,
          1,
          1,
          1,
          1,
          1,
          1,
          1,
          1,
          1,
          1,
          1,
          1,
          1,
          1,
          1,
          1,
          1,
          1,
          1,
          1,
          1,
          1,
          1,
          1,
          1,
          1,
          1,
          1,
          1,
          1,
          1,
          1,
          1,
          1,
          1,
          1,
          1,
          1,
          1,
          1,
          1,
          1,
          1,
          1,
          1,
          1,
          1,
          1,
          1,
          1,
          1,
          1,
          1,
          1,
          1,
          1,
          1,
          1,
          1,
          1,
          1,
          1,
          1,
          1,
          1,
          1,
          1,
          1,
          1,
          1,
          1,
          1,
          1,
          1,
          1,
          1,
          1,
          1,
          1,
          1,
          1,
          1,
          1,
          1,
          1,
          1,
          1,
          1,
          1,
          1,
          1,
          1,
          1,
          1,
          1,
          1,
          1,
          1,
          1,
          1,
          1,
          1,
          1,
          1,
          1,
          1,
          1,
          1,
          1,
          1,
          1,
          1,
          1,
          1,
          1,
          1,
          1,
          1,
          1,
          1,
          1,
          1,
          1,
          1,
          1,
          1,
          1,
          1,
          1,
          1,
          1,
          1,
          1,
          1,
          1,
          1,
          1,
          1,
          1,
          1,
          1,
          1,
          1,
          1,
          1,
          1,
          1,
          1,
          1,
          1,
          1,
          1,
          1,
          1,
          1,
          1,
          2,
          2,
          2,
          2,
          2,
          2,
          2,
          2,
          2,
          2,
          2,
          2,
          2,
          2,
          2,
          2,
          2,
          2,
          2,
          2,
          2,
          2,
          2,
          2,
          2,
          2,
          2,
          2,
          2,
          2,
          2,
          2,
          2,
          2,
          2,
          2,
          2,
          2,
          2,
          2,
          2,
          2,
          2,
          2,
          2,
          2,
          2,
          2,
          2,
          2,
          2,
          2,
          2,
          2,
          2,
          2,
          2,
          2,
          2,
          2,
          2,
          2,
          2,
          2,
          2,
          2,
          2,
          2,
          2,
          2,
          2,
          2,
          2,
          2,
          2,
          2,
          2,
          2,
          2,
          2,
          2,
          2,
          2,
          2,
          2,
          2,
          2,
          2,
          2,
          2,
          2,
          2,
          2,
          2,
          2,
          2,
          2,
          2,
          2,
          2,
          2,
          2,
          2,
          2,
          2,
          2,
          2,
          2,
          2,
          2,
          2,
          2,
          2,
          2,
          2,
          2,
          2,
          2,
          2,
          2,
          2,
          3,
          3,
          3,
          3,
          3,
          3,
          3,
          3,
          3,
          3,
          3,
          3,
          3,
          3,
          3,
          3,
          3,
          3,
          3,
          3,
          3,
          3,
          3,
          3,
          3,
          3,
          3,
          3,
          3,
          3,
          3,
          3,
          3,
          3,
          3,
          3,
          3,
          3,
          3,
          3,
          3,
          3,
          3,
          3,
          3,
          3,
          3,
          3,
          3,
          3,
          3,
          3,
          3,
          3,
          3,
          3,
          3,
          3,
          3,
          3,
          3,
          3,
          3,
          3,
          4,
          4,
          4,
          4,
          4,
          4,
          4,
          4,
          4,
          4,
          4,
          4,
          4,
          4,
          4,
          4,
          4,
          4,
          4,
          4,
          4,
          4,
          4,
          4,
          4,
          4,
          4,
          4,
          4,
          4,
          4,
          4,
          4,
          4,
          5,
          5,
          5,
          5,
          5,
          5,
          5,
          5,
          5,
          5,
          5,
          5,
          5,
          5,
          5,
          5,
          5,
          5,
          5,
          5,
          5,
          5,
          5,
          5,
          5,
          5,
          5,
          5,
          5,
          5,
          5,
          5,
          5,
          5,
          5,
          5,
          5,
          5,
          5,
          5,
          6,
          6,
          6,
          6,
          6,
          6,
          6,
          6,
          6,
          6,
          6,
          6,
          6,
          6,
          6,
          6,
          6,
          6,
          6,
          6,
          6,
          6,
          6,
          6,
          7,
          7,
          7,
          7,
          7,
          7,
          7,
          7,
          7,
          7,
          7,
          7,
          7,
          7,
          7,
          7,
          7,
          7,
          7,
          7,
          7,
          7,
          7,
          7,
          7,
          7,
          7,
          7,
          7,
          7,
          7,
          7,
          7,
          7,
          7,
          7,
          7,
          7,
          7,
          7,
          7,
          7,
          7,
          7,
          8,
          8,
          8,
          8,
          8,
          8,
          8,
          8,
          8,
          8,
          8,
          8,
          8,
          8,
          8,
          8,
          8,
          8,
          8,
          8,
          8,
          8,
          8,
          8,
          8,
          8,
          8,
          8,
          8,
          8,
          9,
          9,
          9,
          9,
          9,
          9,
          9,
          9,
          9,
          9,
          9,
          9,
          9,
          9,
          9,
          9,
          9,
          9,
          9,
          9,
          9,
          9,
          9,
          9,
          9,
          9,
          9,
          9,
          9,
          9,
          9,
          9,
          9,
          9,
          9,
          9,
          9,
          9,
          9,
          9,
          10,
          10,
          10,
          10,
          10,
          10,
          10,
          10,
          10,
          10,
          10,
          10,
          10,
          10,
          10,
          10,
          10,
          10,
          10,
          10,
          10,
          10,
          10,
          10,
          10,
          10,
          10,
          10,
          10,
          10,
          10,
          10,
          10,
          10,
          10,
          10,
          10,
          10,
          10,
          10,
          10,
          10,
          10,
          10,
          10,
          10,
          10,
          10,
          10,
          10,
          10,
          10,
          10,
          10,
          10,
          10,
          10,
          10,
          11,
          11,
          11,
          11,
          11,
          11,
          11,
          11,
          11,
          11,
          11,
          11,
          11,
          11,
          11,
          11,
          11,
          11,
          11,
          11,
          11,
          11,
          11,
          11,
          11,
          11,
          11,
          11,
          11,
          11,
          11,
          11,
          12,
          12,
          12,
          12,
          12,
          12,
          12,
          12,
          12,
          12,
          12,
          12,
          12,
          12,
          12,
          13,
          13,
          13,
          13,
          13,
          13,
          13,
          13,
          14,
          14,
          14,
          14,
          14,
          14,
          14,
          14,
          14,
          14,
          15,
          15,
          15,
          15,
          15,
          15,
          16,
          16,
          16,
          16,
          16,
          16,
          16,
          16,
          17,
          17,
          17,
          17,
          18,
          18,
          19,
          19,
          20,
          22,
          22,
          22,
          22,
          22,
          22,
          22,
          22,
          22,
          22,
          22,
          22,
          22,
          22,
          22,
          23,
          23,
          23,
          23,
          23,
          24,
          26,
          27,
          28,
          28,
          29,
          29,
          29,
          31,
          31,
          31,
          31,
          31,
          31,
          32,
          32,
          33,
          34,
          35,
          35,
          35,
          36,
          36,
          36,
          36,
          38,
          38,
          38,
          41,
          43,
          43,
          43,
          43,
          45,
          46,
          46,
          47,
          47,
          47,
          47,
          48,
          48,
          50,
          52,
          52,
          52,
          52,
          54,
          54,
          54,
          54,
          55,
          56,
          57,
          57,
          57,
          57,
          58,
          59,
          60,
          61,
          62,
          62,
          62,
          62,
          62,
          62,
          64,
          64,
          64,
          64,
          64,
          64,
          65,
          65,
          66,
          66,
          66,
          67,
          67,
          67,
          69,
          69,
          70,
          73,
          74,
          74,
          74,
          74,
          74,
          74,
          74,
          75,
          75,
          75,
          76,
          76,
          77,
          77,
          77,
          77,
          78,
          79,
          80,
          80,
          83,
          84,
          85,
          85,
          85,
          89,
          89
         ],
         "xaxis": "x",
         "y": [
          243.25990443104297,
          243.25990443104297,
          243.25990443104297,
          243.25990443104297,
          243.25990443104297,
          243.25990443104297,
          243.25990443104297,
          243.25990443104297,
          243.25990443104297,
          243.25990443104297,
          243.25990443104297,
          243.25990443104297,
          243.25990443104297,
          243.25990443104297,
          243.25990443104297,
          243.25990443104297,
          243.25990443104297,
          243.25990443104297,
          243.25990443104297,
          243.25990443104297,
          243.25990443104297,
          243.25990443104297,
          243.25990443104297,
          243.25990443104297,
          243.25990443104297,
          243.25990443104297,
          243.25990443104297,
          243.25990443104297,
          243.25990443104297,
          243.25990443104297,
          243.25990443104297,
          243.25990443104297,
          243.25990443104297,
          243.25990443104297,
          243.25990443104297,
          243.25990443104297,
          243.25990443104297,
          243.25990443104297,
          243.25990443104297,
          243.25990443104297,
          243.25990443104297,
          243.25990443104297,
          243.25990443104297,
          243.25990443104297,
          243.25990443104297,
          243.25990443104297,
          243.25990443104297,
          243.25990443104297,
          243.25990443104297,
          243.25990443104297,
          243.25990443104297,
          243.25990443104297,
          243.25990443104297,
          243.25990443104297,
          243.25990443104297,
          243.25990443104297,
          243.25990443104297,
          243.25990443104297,
          243.25990443104297,
          243.25990443104297,
          243.25990443104297,
          243.25990443104297,
          243.25990443104297,
          243.25990443104297,
          243.25990443104297,
          243.25990443104297,
          243.25990443104297,
          243.25990443104297,
          243.25990443104297,
          243.25990443104297,
          243.25990443104297,
          243.25990443104297,
          243.25990443104297,
          243.25990443104297,
          243.25990443104297,
          243.25990443104297,
          243.25990443104297,
          243.25990443104297,
          243.25990443104297,
          243.25990443104297,
          243.25990443104297,
          243.25990443104297,
          243.25990443104297,
          243.25990443104297,
          243.25990443104297,
          243.25990443104297,
          243.25990443104297,
          243.25990443104297,
          243.25990443104297,
          243.25990443104297,
          243.25990443104297,
          243.25990443104297,
          243.25990443104297,
          243.25990443104297,
          243.25990443104297,
          243.25990443104297,
          243.25990443104297,
          243.25990443104297,
          243.25990443104297,
          243.25990443104297,
          243.25990443104297,
          243.25990443104297,
          243.25990443104297,
          243.25990443104297,
          243.25990443104297,
          243.25990443104297,
          243.25990443104297,
          243.25990443104297,
          243.25990443104297,
          243.25990443104297,
          243.25990443104297,
          243.25990443104297,
          243.25990443104297,
          243.25990443104297,
          243.25990443104297,
          243.25990443104297,
          243.25990443104297,
          243.25990443104297,
          243.25990443104297,
          243.25990443104297,
          243.25990443104297,
          243.25990443104297,
          243.25990443104297,
          243.25990443104297,
          243.25990443104297,
          243.25990443104297,
          243.25990443104297,
          243.25990443104297,
          243.25990443104297,
          243.25990443104297,
          243.25990443104297,
          243.25990443104297,
          243.25990443104297,
          243.25990443104297,
          243.25990443104297,
          243.25990443104297,
          243.25990443104297,
          243.25990443104297,
          243.25990443104297,
          243.25990443104297,
          243.25990443104297,
          243.25990443104297,
          243.25990443104297,
          243.25990443104297,
          243.25990443104297,
          243.25990443104297,
          243.25990443104297,
          243.25990443104297,
          243.25990443104297,
          243.25990443104297,
          243.25990443104297,
          243.25990443104297,
          243.25990443104297,
          243.25990443104297,
          243.25990443104297,
          243.25990443104297,
          243.25990443104297,
          243.25990443104297,
          243.25990443104297,
          243.25990443104297,
          243.25990443104297,
          243.25990443104297,
          243.25990443104297,
          243.25990443104297,
          243.25990443104297,
          243.25990443104297,
          243.25990443104297,
          243.25990443104297,
          243.25990443104297,
          243.25990443104297,
          243.25990443104297,
          243.25990443104297,
          243.25990443104297,
          243.25990443104297,
          243.25990443104297,
          243.25990443104297,
          243.25990443104297,
          243.25990443104297,
          243.25990443104297,
          243.25990443104297,
          243.25990443104297,
          243.25990443104297,
          243.25990443104297,
          243.25990443104297,
          243.25990443104297,
          243.25990443104297,
          243.25990443104297,
          243.25990443104297,
          243.25990443104297,
          243.25990443104297,
          243.25990443104297,
          243.25990443104297,
          243.25990443104297,
          243.25990443104297,
          243.25990443104297,
          243.25990443104297,
          243.25990443104297,
          243.25990443104297,
          243.25990443104297,
          243.25990443104297,
          243.25990443104297,
          243.25990443104297,
          243.25990443104297,
          243.25990443104297,
          243.25990443104297,
          243.25990443104297,
          243.25990443104297,
          243.25990443104297,
          243.25990443104297,
          243.25990443104297,
          243.25990443104297,
          243.25990443104297,
          243.25990443104297,
          243.25990443104297,
          243.25990443104297,
          243.25990443104297,
          243.25990443104297,
          243.25990443104297,
          243.25990443104297,
          243.25990443104297,
          243.25990443104297,
          243.25990443104297,
          243.25990443104297,
          243.25990443104297,
          243.25990443104297,
          243.25990443104297,
          243.25990443104297,
          243.25990443104297,
          243.25990443104297,
          243.25990443104297,
          243.25990443104297,
          243.25990443104297,
          243.25990443104297,
          243.25990443104297,
          243.25990443104297,
          243.25990443104297,
          243.25990443104297,
          243.25990443104297,
          243.25990443104297,
          243.25990443104297,
          243.25990443104297,
          243.25990443104297,
          243.25990443104297,
          243.25990443104297,
          243.25990443104297,
          243.25990443104297,
          243.25990443104297,
          243.25990443104297,
          243.25990443104297,
          243.25990443104297,
          243.25990443104297,
          243.25990443104297,
          243.25990443104297,
          243.25990443104297,
          243.25990443104297,
          243.25990443104297,
          243.25990443104297,
          243.25990443104297,
          243.25990443104297,
          243.25990443104297,
          243.25990443104297,
          243.25990443104297,
          243.25990443104297,
          243.25990443104297,
          243.25990443104297,
          243.25990443104297,
          243.25990443104297,
          243.25990443104297,
          243.25990443104297,
          243.25990443104297,
          243.25990443104297,
          243.25990443104297,
          243.25990443104297,
          243.25990443104297,
          243.25990443104297,
          243.25990443104297,
          243.25990443104297,
          243.25990443104297,
          243.25990443104297,
          243.25990443104297,
          243.25990443104297,
          243.25990443104297,
          243.25990443104297,
          243.25990443104297,
          243.25990443104297,
          243.25990443104297,
          243.25990443104297,
          243.25990443104297,
          243.25990443104297,
          243.25990443104297,
          243.25990443104297,
          243.25990443104297,
          243.25990443104297,
          243.25990443104297,
          243.25990443104297,
          243.25990443104297,
          243.25990443104297,
          243.25990443104297,
          243.25990443104297,
          243.25990443104297,
          243.25990443104297,
          243.25990443104297,
          243.25990443104297,
          243.25990443104297,
          243.25990443104297,
          243.25990443104297,
          243.25990443104297,
          243.25990443104297,
          243.25990443104297,
          243.25990443104297,
          243.25990443104297,
          243.25990443104297,
          243.25990443104297,
          243.25990443104297,
          243.25990443104297,
          243.25990443104297,
          243.25990443104297,
          243.25990443104297,
          243.25990443104297,
          243.25990443104297,
          243.25990443104297,
          243.25990443104297,
          243.25990443104297,
          243.25990443104297,
          243.25990443104297,
          243.25990443104297,
          243.25990443104297,
          243.25990443104297,
          243.25990443104297,
          243.25990443104297,
          243.25990443104297,
          243.25990443104297,
          243.25990443104297,
          243.25990443104297,
          243.25990443104297,
          243.25990443104297,
          243.25990443104297,
          243.25990443104297,
          243.25990443104297,
          243.25990443104297,
          243.25990443104297,
          243.25990443104297,
          243.25990443104297,
          243.25990443104297,
          243.25990443104297,
          243.25990443104297,
          243.25990443104297,
          243.25990443104297,
          243.25990443104297,
          243.25990443104297,
          243.25990443104297,
          243.25990443104297,
          243.25990443104297,
          243.25990443104297,
          243.25990443104297,
          243.25990443104297,
          243.25990443104297,
          243.25990443104297,
          243.25990443104297,
          243.25990443104297,
          243.25990443104297,
          243.25990443104297,
          243.25990443104297,
          243.25990443104297,
          243.25990443104297,
          243.25990443104297,
          243.25990443104297,
          243.25990443104297,
          243.25990443104297,
          243.25990443104297,
          243.25990443104297,
          243.25990443104297,
          243.25990443104297,
          243.25990443104297,
          243.25990443104297,
          243.25990443104297,
          243.25990443104297,
          243.25990443104297,
          243.25990443104297,
          243.25990443104297,
          243.25990443104297,
          243.25990443104297,
          243.25990443104297,
          243.25990443104297,
          243.25990443104297,
          243.25990443104297,
          243.25990443104297,
          243.25990443104297,
          243.25990443104297,
          243.25990443104297,
          243.25990443104297,
          243.25990443104297,
          243.25990443104297,
          243.25990443104297,
          243.25990443104297,
          243.25990443104297,
          243.25990443104297,
          243.25990443104297,
          243.25990443104297,
          243.25990443104297,
          243.25990443104297,
          243.25990443104297,
          243.25990443104297,
          243.25990443104297,
          243.25990443104297,
          243.25990443104297,
          243.25990443104297,
          243.25990443104297,
          243.25990443104297,
          243.25990443104297,
          243.25990443104297,
          243.25990443104297,
          243.25990443104297,
          243.25990443104297,
          243.25990443104297,
          243.25990443104297,
          243.25990443104297,
          243.25990443104297,
          243.25990443104297,
          243.25990443104297,
          243.25990443104297,
          243.25990443104297,
          243.25990443104297,
          243.25990443104297,
          243.25990443104297,
          243.25990443104297,
          243.25990443104297,
          243.25990443104297,
          243.25990443104297,
          243.25990443104297,
          243.25990443104297,
          243.25990443104297,
          243.25990443104297,
          243.25990443104297,
          243.25990443104297,
          243.25990443104297,
          243.25990443104297,
          243.25990443104297,
          243.25990443104297,
          243.25990443104297,
          243.25990443104297,
          243.25990443104297,
          243.25990443104297,
          243.25990443104297,
          243.25990443104297,
          243.25990443104297,
          243.25990443104297,
          243.25990443104297,
          243.25990443104297,
          243.25990443104297,
          243.25990443104297,
          243.25990443104297,
          243.25990443104297,
          243.25990443104297,
          243.25990443104297,
          243.25990443104297,
          243.25990443104297,
          243.25990443104297,
          243.25990443104297,
          243.25990443104297,
          243.25990443104297,
          243.25990443104297,
          243.25990443104297,
          243.25990443104297,
          243.25990443104297,
          243.25990443104297,
          243.25990443104297,
          243.25990443104297,
          243.25990443104297,
          243.25990443104297,
          243.25990443104297,
          243.25990443104297,
          243.25990443104297,
          243.25990443104297,
          243.25990443104297,
          243.25990443104297,
          243.25990443104297,
          243.25990443104297,
          243.25990443104297,
          243.25990443104297,
          243.25990443104297,
          243.25990443104297,
          243.25990443104297,
          243.25990443104297,
          243.25990443104297,
          243.25990443104297,
          243.25990443104297,
          243.25990443104297,
          243.25990443104297,
          243.25990443104297,
          243.25990443104297,
          243.25990443104297,
          243.25990443104297,
          243.25990443104297,
          243.25990443104297,
          243.25990443104297,
          243.25990443104297,
          243.25990443104297,
          243.25990443104297,
          243.25990443104297,
          243.25990443104297,
          243.25990443104297,
          243.25990443104297,
          243.25990443104297,
          243.25990443104297,
          243.25990443104297,
          243.25990443104297,
          243.25990443104297,
          243.25990443104297,
          243.25990443104297,
          243.25990443104297,
          243.25990443104297,
          243.25990443104297,
          243.25990443104297,
          243.25990443104297,
          243.25990443104297,
          243.25990443104297,
          243.25990443104297,
          243.25990443104297,
          243.25990443104297,
          243.25990443104297,
          243.25990443104297,
          243.25990443104297,
          243.25990443104297,
          243.25990443104297,
          243.25990443104297,
          243.25990443104297,
          243.25990443104297,
          243.25990443104297,
          243.25990443104297,
          243.25990443104297,
          243.25990443104297,
          243.25990443104297,
          243.25990443104297,
          243.25990443104297,
          243.25990443104297,
          243.25990443104297,
          243.25990443104297,
          243.25990443104297,
          243.25990443104297,
          243.25990443104297,
          243.25990443104297,
          243.25990443104297,
          243.25990443104297,
          243.25990443104297,
          243.25990443104297,
          243.25990443104297,
          243.25990443104297,
          243.25990443104297,
          243.25990443104297,
          243.25990443104297,
          243.25990443104297,
          243.25990443104297,
          243.25990443104297,
          243.25990443104297,
          243.25990443104297,
          243.25990443104297,
          243.25990443104297,
          243.25990443104297,
          243.25990443104297,
          243.25990443104297,
          243.25990443104297,
          243.25990443104297,
          243.25990443104297,
          243.25990443104297,
          243.25990443104297,
          243.25990443104297,
          243.25990443104297,
          243.25990443104297,
          243.25990443104297,
          243.25990443104297,
          243.25990443104297,
          243.25990443104297,
          243.25990443104297,
          243.25990443104297,
          243.25990443104297,
          243.25990443104297,
          243.25990443104297,
          243.25990443104297,
          243.25990443104297,
          243.25990443104297,
          243.25990443104297,
          243.25990443104297,
          243.25990443104297,
          243.25990443104297,
          243.25990443104297,
          243.25990443104297,
          243.25990443104297,
          243.25990443104297,
          243.25990443104297,
          243.25990443104297,
          243.25990443104297,
          243.25990443104297,
          243.25990443104297,
          243.25990443104297,
          243.25990443104297,
          243.25990443104297,
          243.25990443104297,
          243.25990443104297,
          243.25990443104297,
          243.25990443104297,
          243.25990443104297,
          243.25990443104297,
          243.25990443104297,
          243.25990443104297,
          243.25990443104297,
          243.25990443104297,
          243.25990443104297,
          243.25990443104297,
          243.25990443104297,
          243.25990443104297,
          243.25990443104297,
          243.25990443104297,
          243.25990443104297,
          243.25990443104297,
          243.25990443104297,
          243.25990443104297,
          243.25990443104297,
          243.25990443104297,
          243.25990443104297,
          243.25990443104297,
          243.25990443104297,
          243.25990443104297,
          243.25990443104297,
          243.25990443104297,
          243.25990443104297,
          243.25990443104297,
          243.25990443104297,
          243.25990443104297,
          243.25990443104297,
          243.25990443104297,
          243.25990443104297,
          243.25990443104297,
          243.25990443104297,
          243.25990443104297,
          243.25990443104297,
          243.25990443104297,
          243.25990443104297,
          243.25990443104297,
          243.25990443104297,
          243.25990443104297,
          243.25990443104297,
          243.25990443104297,
          243.25990443104297,
          243.25990443104297,
          243.25990443104297,
          243.25990443104297,
          243.25990443104297,
          243.25990443104297,
          243.25990443104297,
          243.25990443104297,
          243.25990443104297,
          243.25990443104297,
          243.25990443104297,
          243.25990443104297,
          243.25990443104297,
          243.25990443104297,
          243.25990443104297,
          243.25990443104297,
          243.25990443104297,
          243.25990443104297,
          243.25990443104297,
          243.25990443104297,
          243.25990443104297,
          243.25990443104297,
          243.25990443104297,
          243.25990443104297,
          243.25990443104297,
          243.25990443104297,
          243.25990443104297,
          243.25990443104297,
          243.25990443104297,
          243.25990443104297,
          243.25990443104297,
          243.25990443104297,
          243.25990443104297,
          243.25990443104297,
          243.25990443104297,
          243.25990443104297,
          243.25990443104297,
          243.25990443104297,
          243.25990443104297,
          243.25990443104297,
          243.25990443104297,
          243.25990443104297,
          243.25990443104297,
          243.25990443104297,
          243.25990443104297,
          243.25990443104297,
          243.25990443104297,
          243.25990443104297,
          243.25990443104297,
          243.25990443104297,
          243.25990443104297,
          243.25990443104297,
          243.25990443104297,
          243.25990443104297,
          243.25990443104297,
          243.25990443104297,
          243.25990443104297,
          243.25990443104297,
          243.25990443104297,
          243.25990443104297,
          243.25990443104297,
          243.25990443104297,
          243.25990443104297,
          243.25990443104297,
          243.25990443104297,
          243.25990443104297,
          243.25990443104297,
          243.25990443104297,
          243.25990443104297,
          243.25990443104297,
          243.25990443104297,
          243.25990443104297,
          243.25990443104297,
          243.25990443104297,
          243.25990443104297,
          243.25990443104297,
          243.25990443104297,
          243.25990443104297,
          243.25990443104297,
          243.25990443104297,
          243.25990443104297,
          243.25990443104297,
          243.25990443104297,
          243.25990443104297,
          243.25990443104297,
          243.25990443104297,
          243.25990443104297,
          243.25990443104297,
          243.25990443104297,
          243.25990443104297,
          243.25990443104297,
          243.25990443104297,
          243.25990443104297,
          243.25990443104297,
          243.25990443104297,
          243.25990443104297,
          243.25990443104297,
          243.25990443104297,
          243.25990443104297,
          243.25990443104297,
          243.25990443104297,
          243.25990443104297,
          243.25990443104297,
          243.25990443104297,
          243.25990443104297,
          243.25990443104297,
          243.25990443104297,
          243.25990443104297,
          243.25990443104297,
          243.25990443104297,
          243.25990443104297,
          243.25990443104297,
          243.25990443104297,
          243.25990443104297,
          243.25990443104297,
          243.25990443104297,
          243.25990443104297,
          243.25990443104297,
          243.25990443104297,
          243.25990443104297,
          243.25990443104297,
          243.25990443104297,
          243.25990443104297,
          243.25990443104297,
          309.951304791245,
          309.951304791245,
          309.951304791245,
          309.951304791245,
          309.951304791245,
          309.951304791245,
          309.951304791245,
          309.951304791245,
          309.951304791245,
          309.951304791245,
          309.951304791245,
          309.951304791245,
          309.951304791245,
          309.951304791245,
          309.951304791245,
          309.951304791245,
          309.951304791245,
          309.951304791245,
          309.951304791245,
          309.951304791245,
          309.951304791245,
          309.951304791245,
          309.951304791245,
          309.951304791245,
          309.951304791245,
          309.951304791245,
          309.951304791245,
          309.951304791245,
          309.951304791245,
          309.951304791245,
          309.951304791245,
          309.951304791245,
          309.951304791245,
          309.951304791245,
          309.951304791245,
          309.951304791245,
          309.951304791245,
          309.951304791245,
          309.951304791245,
          309.951304791245,
          309.951304791245,
          309.951304791245,
          309.951304791245,
          309.951304791245,
          309.951304791245,
          309.951304791245,
          309.951304791245,
          309.951304791245,
          309.951304791245,
          309.951304791245,
          309.951304791245,
          309.951304791245,
          309.951304791245,
          309.951304791245,
          309.951304791245,
          309.951304791245,
          309.951304791245,
          309.951304791245,
          309.951304791245,
          309.951304791245,
          309.951304791245,
          309.951304791245,
          309.951304791245,
          309.951304791245,
          309.951304791245,
          309.951304791245,
          309.951304791245,
          309.951304791245,
          309.951304791245,
          309.951304791245,
          309.951304791245,
          309.951304791245,
          309.951304791245,
          309.951304791245,
          309.951304791245,
          309.951304791245,
          309.951304791245,
          309.951304791245,
          309.951304791245,
          309.951304791245,
          309.951304791245,
          309.951304791245,
          309.951304791245,
          309.951304791245,
          309.951304791245,
          309.951304791245,
          309.951304791245,
          309.951304791245,
          309.951304791245,
          309.951304791245,
          309.951304791245,
          309.951304791245,
          309.951304791245,
          309.951304791245,
          309.951304791245,
          309.951304791245,
          309.951304791245,
          309.951304791245,
          309.951304791245,
          309.951304791245,
          309.951304791245,
          309.951304791245,
          309.951304791245,
          309.951304791245,
          309.951304791245,
          309.951304791245,
          309.951304791245,
          309.951304791245,
          309.951304791245,
          309.951304791245,
          309.951304791245,
          309.951304791245,
          309.951304791245,
          309.951304791245,
          309.951304791245,
          309.951304791245,
          309.951304791245,
          309.951304791245,
          309.951304791245,
          309.951304791245,
          309.951304791245,
          309.951304791245,
          309.951304791245,
          309.951304791245,
          309.951304791245,
          309.951304791245,
          309.951304791245,
          309.951304791245,
          309.951304791245,
          309.951304791245,
          309.951304791245,
          309.951304791245,
          309.951304791245,
          309.951304791245,
          309.951304791245,
          309.951304791245,
          309.951304791245,
          309.951304791245,
          309.951304791245,
          309.951304791245,
          309.951304791245,
          309.951304791245,
          309.951304791245,
          309.951304791245,
          309.951304791245,
          309.951304791245,
          309.951304791245,
          309.951304791245,
          309.951304791245,
          309.951304791245,
          309.951304791245,
          309.951304791245,
          309.951304791245,
          309.951304791245,
          309.951304791245,
          309.951304791245,
          309.951304791245,
          309.951304791245,
          309.951304791245,
          309.951304791245,
          309.951304791245,
          309.951304791245,
          309.951304791245,
          309.951304791245,
          309.951304791245,
          309.951304791245,
          309.951304791245,
          309.951304791245,
          309.951304791245,
          376.642705151447,
          376.642705151447,
          376.642705151447,
          376.642705151447,
          376.642705151447,
          376.642705151447,
          376.642705151447,
          376.642705151447,
          376.642705151447,
          376.642705151447,
          376.642705151447,
          376.642705151447,
          376.642705151447,
          376.642705151447,
          376.642705151447,
          376.642705151447,
          376.642705151447,
          376.642705151447,
          376.642705151447,
          376.642705151447,
          376.642705151447,
          376.642705151447,
          376.642705151447,
          376.642705151447,
          376.642705151447,
          376.642705151447,
          376.642705151447,
          376.642705151447,
          376.642705151447,
          376.642705151447,
          376.642705151447,
          376.642705151447,
          376.642705151447,
          376.642705151447,
          376.642705151447,
          376.642705151447,
          376.642705151447,
          376.642705151447,
          376.642705151447,
          376.642705151447,
          376.642705151447,
          376.642705151447,
          376.642705151447,
          376.642705151447,
          376.642705151447,
          376.642705151447,
          376.642705151447,
          376.642705151447,
          376.642705151447,
          376.642705151447,
          376.642705151447,
          376.642705151447,
          376.642705151447,
          376.642705151447,
          376.642705151447,
          376.642705151447,
          376.642705151447,
          376.642705151447,
          376.642705151447,
          376.642705151447,
          376.642705151447,
          376.642705151447,
          376.642705151447,
          376.642705151447,
          376.642705151447,
          376.642705151447,
          376.642705151447,
          376.642705151447,
          376.642705151447,
          376.642705151447,
          376.642705151447,
          376.642705151447,
          376.642705151447,
          376.642705151447,
          376.642705151447,
          376.642705151447,
          376.642705151447,
          376.642705151447,
          376.642705151447,
          376.642705151447,
          376.642705151447,
          376.642705151447,
          376.642705151447,
          376.642705151447,
          376.642705151447,
          376.642705151447,
          376.642705151447,
          376.642705151447,
          376.642705151447,
          376.642705151447,
          376.642705151447,
          376.642705151447,
          376.642705151447,
          376.642705151447,
          376.642705151447,
          376.642705151447,
          376.642705151447,
          376.642705151447,
          376.642705151447,
          376.642705151447,
          376.642705151447,
          376.642705151447,
          376.642705151447,
          376.642705151447,
          376.642705151447,
          376.642705151447,
          376.642705151447,
          376.642705151447,
          376.642705151447,
          376.642705151447,
          376.642705151447,
          376.642705151447,
          376.642705151447,
          376.642705151447,
          376.642705151447,
          376.642705151447,
          376.642705151447,
          376.642705151447,
          376.642705151447,
          376.642705151447,
          376.642705151447,
          443.33410551164894,
          443.33410551164894,
          443.33410551164894,
          443.33410551164894,
          443.33410551164894,
          443.33410551164894,
          443.33410551164894,
          443.33410551164894,
          443.33410551164894,
          443.33410551164894,
          443.33410551164894,
          443.33410551164894,
          443.33410551164894,
          443.33410551164894,
          443.33410551164894,
          443.33410551164894,
          443.33410551164894,
          443.33410551164894,
          443.33410551164894,
          443.33410551164894,
          443.33410551164894,
          443.33410551164894,
          443.33410551164894,
          443.33410551164894,
          443.33410551164894,
          443.33410551164894,
          443.33410551164894,
          443.33410551164894,
          443.33410551164894,
          443.33410551164894,
          443.33410551164894,
          443.33410551164894,
          443.33410551164894,
          443.33410551164894,
          443.33410551164894,
          443.33410551164894,
          443.33410551164894,
          443.33410551164894,
          443.33410551164894,
          443.33410551164894,
          443.33410551164894,
          443.33410551164894,
          443.33410551164894,
          443.33410551164894,
          443.33410551164894,
          443.33410551164894,
          443.33410551164894,
          443.33410551164894,
          443.33410551164894,
          443.33410551164894,
          443.33410551164894,
          443.33410551164894,
          443.33410551164894,
          443.33410551164894,
          443.33410551164894,
          443.33410551164894,
          443.33410551164894,
          443.33410551164894,
          443.33410551164894,
          443.33410551164894,
          443.33410551164894,
          443.33410551164894,
          443.33410551164894,
          443.33410551164894,
          510.02550587185095,
          510.02550587185095,
          510.02550587185095,
          510.02550587185095,
          510.02550587185095,
          510.02550587185095,
          510.02550587185095,
          510.02550587185095,
          510.02550587185095,
          510.02550587185095,
          510.02550587185095,
          510.02550587185095,
          510.02550587185095,
          510.02550587185095,
          510.02550587185095,
          510.02550587185095,
          510.02550587185095,
          510.02550587185095,
          510.02550587185095,
          510.02550587185095,
          510.02550587185095,
          510.02550587185095,
          510.02550587185095,
          510.02550587185095,
          510.02550587185095,
          510.02550587185095,
          510.02550587185095,
          510.02550587185095,
          510.02550587185095,
          510.02550587185095,
          510.02550587185095,
          510.02550587185095,
          510.02550587185095,
          510.02550587185095,
          576.7169062320529,
          576.7169062320529,
          576.7169062320529,
          576.7169062320529,
          576.7169062320529,
          576.7169062320529,
          576.7169062320529,
          576.7169062320529,
          576.7169062320529,
          576.7169062320529,
          576.7169062320529,
          576.7169062320529,
          576.7169062320529,
          576.7169062320529,
          576.7169062320529,
          576.7169062320529,
          576.7169062320529,
          576.7169062320529,
          576.7169062320529,
          576.7169062320529,
          576.7169062320529,
          576.7169062320529,
          576.7169062320529,
          576.7169062320529,
          576.7169062320529,
          576.7169062320529,
          576.7169062320529,
          576.7169062320529,
          576.7169062320529,
          576.7169062320529,
          576.7169062320529,
          576.7169062320529,
          576.7169062320529,
          576.7169062320529,
          576.7169062320529,
          576.7169062320529,
          576.7169062320529,
          576.7169062320529,
          576.7169062320529,
          576.7169062320529,
          643.4083065922549,
          643.4083065922549,
          643.4083065922549,
          643.4083065922549,
          643.4083065922549,
          643.4083065922549,
          643.4083065922549,
          643.4083065922549,
          643.4083065922549,
          643.4083065922549,
          643.4083065922549,
          643.4083065922549,
          643.4083065922549,
          643.4083065922549,
          643.4083065922549,
          643.4083065922549,
          643.4083065922549,
          643.4083065922549,
          643.4083065922549,
          643.4083065922549,
          643.4083065922549,
          643.4083065922549,
          643.4083065922549,
          643.4083065922549,
          710.0997069524569,
          710.0997069524569,
          710.0997069524569,
          710.0997069524569,
          710.0997069524569,
          710.0997069524569,
          710.0997069524569,
          710.0997069524569,
          710.0997069524569,
          710.0997069524569,
          710.0997069524569,
          710.0997069524569,
          710.0997069524569,
          710.0997069524569,
          710.0997069524569,
          710.0997069524569,
          710.0997069524569,
          710.0997069524569,
          710.0997069524569,
          710.0997069524569,
          710.0997069524569,
          710.0997069524569,
          710.0997069524569,
          710.0997069524569,
          710.0997069524569,
          710.0997069524569,
          710.0997069524569,
          710.0997069524569,
          710.0997069524569,
          710.0997069524569,
          710.0997069524569,
          710.0997069524569,
          710.0997069524569,
          710.0997069524569,
          710.0997069524569,
          710.0997069524569,
          710.0997069524569,
          710.0997069524569,
          710.0997069524569,
          710.0997069524569,
          710.0997069524569,
          710.0997069524569,
          710.0997069524569,
          710.0997069524569,
          776.7911073126589,
          776.7911073126589,
          776.7911073126589,
          776.7911073126589,
          776.7911073126589,
          776.7911073126589,
          776.7911073126589,
          776.7911073126589,
          776.7911073126589,
          776.7911073126589,
          776.7911073126589,
          776.7911073126589,
          776.7911073126589,
          776.7911073126589,
          776.7911073126589,
          776.7911073126589,
          776.7911073126589,
          776.7911073126589,
          776.7911073126589,
          776.7911073126589,
          776.7911073126589,
          776.7911073126589,
          776.7911073126589,
          776.7911073126589,
          776.7911073126589,
          776.7911073126589,
          776.7911073126589,
          776.7911073126589,
          776.7911073126589,
          776.7911073126589,
          843.482507672861,
          843.482507672861,
          843.482507672861,
          843.482507672861,
          843.482507672861,
          843.482507672861,
          843.482507672861,
          843.482507672861,
          843.482507672861,
          843.482507672861,
          843.482507672861,
          843.482507672861,
          843.482507672861,
          843.482507672861,
          843.482507672861,
          843.482507672861,
          843.482507672861,
          843.482507672861,
          843.482507672861,
          843.482507672861,
          843.482507672861,
          843.482507672861,
          843.482507672861,
          843.482507672861,
          843.482507672861,
          843.482507672861,
          843.482507672861,
          843.482507672861,
          843.482507672861,
          843.482507672861,
          843.482507672861,
          843.482507672861,
          843.482507672861,
          843.482507672861,
          843.482507672861,
          843.482507672861,
          843.482507672861,
          843.482507672861,
          843.482507672861,
          843.482507672861,
          910.173908033063,
          910.173908033063,
          910.173908033063,
          910.173908033063,
          910.173908033063,
          910.173908033063,
          910.173908033063,
          910.173908033063,
          910.173908033063,
          910.173908033063,
          910.173908033063,
          910.173908033063,
          910.173908033063,
          910.173908033063,
          910.173908033063,
          910.173908033063,
          910.173908033063,
          910.173908033063,
          910.173908033063,
          910.173908033063,
          910.173908033063,
          910.173908033063,
          910.173908033063,
          910.173908033063,
          910.173908033063,
          910.173908033063,
          910.173908033063,
          910.173908033063,
          910.173908033063,
          910.173908033063,
          910.173908033063,
          910.173908033063,
          910.173908033063,
          910.173908033063,
          910.173908033063,
          910.173908033063,
          910.173908033063,
          910.173908033063,
          910.173908033063,
          910.173908033063,
          910.173908033063,
          910.173908033063,
          910.173908033063,
          910.173908033063,
          910.173908033063,
          910.173908033063,
          910.173908033063,
          910.173908033063,
          910.173908033063,
          910.173908033063,
          910.173908033063,
          910.173908033063,
          910.173908033063,
          910.173908033063,
          910.173908033063,
          910.173908033063,
          910.173908033063,
          910.173908033063,
          976.865308393265,
          976.865308393265,
          976.865308393265,
          976.865308393265,
          976.865308393265,
          976.865308393265,
          976.865308393265,
          976.865308393265,
          976.865308393265,
          976.865308393265,
          976.865308393265,
          976.865308393265,
          976.865308393265,
          976.865308393265,
          976.865308393265,
          976.865308393265,
          976.865308393265,
          976.865308393265,
          976.865308393265,
          976.865308393265,
          976.865308393265,
          976.865308393265,
          976.865308393265,
          976.865308393265,
          976.865308393265,
          976.865308393265,
          976.865308393265,
          976.865308393265,
          976.865308393265,
          976.865308393265,
          976.865308393265,
          976.865308393265,
          1043.5567087534669,
          1043.5567087534669,
          1043.5567087534669,
          1043.5567087534669,
          1043.5567087534669,
          1043.5567087534669,
          1043.5567087534669,
          1043.5567087534669,
          1043.5567087534669,
          1043.5567087534669,
          1043.5567087534669,
          1043.5567087534669,
          1043.5567087534669,
          1043.5567087534669,
          1043.5567087534669,
          1110.2481091136688,
          1110.2481091136688,
          1110.2481091136688,
          1110.2481091136688,
          1110.2481091136688,
          1110.2481091136688,
          1110.2481091136688,
          1110.2481091136688,
          1176.9395094738709,
          1176.9395094738709,
          1176.9395094738709,
          1176.9395094738709,
          1176.9395094738709,
          1176.9395094738709,
          1176.9395094738709,
          1176.9395094738709,
          1176.9395094738709,
          1176.9395094738709,
          1243.630909834073,
          1243.630909834073,
          1243.630909834073,
          1243.630909834073,
          1243.630909834073,
          1243.630909834073,
          1310.322310194275,
          1310.322310194275,
          1310.322310194275,
          1310.322310194275,
          1310.322310194275,
          1310.322310194275,
          1310.322310194275,
          1310.322310194275,
          1377.0137105544768,
          1377.0137105544768,
          1377.0137105544768,
          1377.0137105544768,
          1443.705110914679,
          1443.705110914679,
          1510.3965112748808,
          1510.3965112748808,
          1577.087911635083,
          1710.470712355487,
          1710.470712355487,
          1710.470712355487,
          1710.470712355487,
          1710.470712355487,
          1710.470712355487,
          1710.470712355487,
          1710.470712355487,
          1710.470712355487,
          1710.470712355487,
          1710.470712355487,
          1710.470712355487,
          1710.470712355487,
          1710.470712355487,
          1710.470712355487,
          1777.1621127156889,
          1777.1621127156889,
          1777.1621127156889,
          1777.1621127156889,
          1777.1621127156889,
          1843.8535130758908,
          1977.2363137962948,
          2043.927714156497,
          2110.6191145166986,
          2110.6191145166986,
          2177.310514876901,
          2177.310514876901,
          2177.310514876901,
          2310.6933155973047,
          2310.6933155973047,
          2310.6933155973047,
          2310.6933155973047,
          2310.6933155973047,
          2310.6933155973047,
          2377.384715957507,
          2377.384715957507,
          2444.0761163177085,
          2510.767516677911,
          2577.458917038113,
          2577.458917038113,
          2577.458917038113,
          2644.1503173983147,
          2644.1503173983147,
          2644.1503173983147,
          2644.1503173983147,
          2777.5331181187184,
          2777.5331181187184,
          2777.5331181187184,
          2977.6073191993246,
          3110.9901199197284,
          3110.9901199197284,
          3110.9901199197284,
          3110.9901199197284,
          3244.372920640133,
          3311.0643210003345,
          3311.0643210003345,
          3377.755721360537,
          3377.755721360537,
          3377.755721360537,
          3377.755721360537,
          3444.4471217207383,
          3444.4471217207383,
          3577.829922441143,
          3711.212723161547,
          3711.212723161547,
          3711.212723161547,
          3711.212723161547,
          3844.5955238819506,
          3844.5955238819506,
          3844.5955238819506,
          3844.5955238819506,
          3911.286924242153,
          3977.9783246023544,
          4044.6697249625568,
          4044.6697249625568,
          4044.6697249625568,
          4044.6697249625568,
          4111.361125322759,
          4178.052525682961,
          4244.743926043163,
          4311.435326403364,
          4378.126726763567,
          4378.126726763567,
          4378.126726763567,
          4378.126726763567,
          4378.126726763567,
          4378.126726763567,
          4511.5095274839705,
          4511.5095274839705,
          4511.5095274839705,
          4511.5095274839705,
          4511.5095274839705,
          4511.5095274839705,
          4578.200927844173,
          4578.200927844173,
          4644.892328204374,
          4644.892328204374,
          4644.892328204374,
          4711.583728564577,
          4711.583728564577,
          4711.583728564577,
          4844.96652928498,
          4844.96652928498,
          4911.657929645183,
          5111.732130725788,
          5178.42353108599,
          5178.42353108599,
          5178.42353108599,
          5178.42353108599,
          5178.42353108599,
          5178.42353108599,
          5178.42353108599,
          5245.114931446193,
          5245.114931446193,
          5245.114931446193,
          5311.806331806394,
          5311.806331806394,
          5378.4977321665965,
          5378.4977321665965,
          5378.4977321665965,
          5378.4977321665965,
          5445.189132526799,
          5511.880532887,
          5578.571933247203,
          5578.571933247203,
          5778.646134327809,
          5845.33753468801,
          5912.028935048213,
          5912.028935048213,
          5912.028935048213,
          6178.79453648902,
          6178.79453648902
         ],
         "yaxis": "y"
        }
       ],
       "layout": {
        "legend": {
         "tracegroupgap": 0
        },
        "margin": {
         "t": 60
        },
        "template": {
         "data": {
          "bar": [
           {
            "error_x": {
             "color": "#2a3f5f"
            },
            "error_y": {
             "color": "#2a3f5f"
            },
            "marker": {
             "line": {
              "color": "#E5ECF6",
              "width": 0.5
             },
             "pattern": {
              "fillmode": "overlay",
              "size": 10,
              "solidity": 0.2
             }
            },
            "type": "bar"
           }
          ],
          "barpolar": [
           {
            "marker": {
             "line": {
              "color": "#E5ECF6",
              "width": 0.5
             },
             "pattern": {
              "fillmode": "overlay",
              "size": 10,
              "solidity": 0.2
             }
            },
            "type": "barpolar"
           }
          ],
          "carpet": [
           {
            "aaxis": {
             "endlinecolor": "#2a3f5f",
             "gridcolor": "white",
             "linecolor": "white",
             "minorgridcolor": "white",
             "startlinecolor": "#2a3f5f"
            },
            "baxis": {
             "endlinecolor": "#2a3f5f",
             "gridcolor": "white",
             "linecolor": "white",
             "minorgridcolor": "white",
             "startlinecolor": "#2a3f5f"
            },
            "type": "carpet"
           }
          ],
          "choropleth": [
           {
            "colorbar": {
             "outlinewidth": 0,
             "ticks": ""
            },
            "type": "choropleth"
           }
          ],
          "contour": [
           {
            "colorbar": {
             "outlinewidth": 0,
             "ticks": ""
            },
            "colorscale": [
             [
              0,
              "#0d0887"
             ],
             [
              0.1111111111111111,
              "#46039f"
             ],
             [
              0.2222222222222222,
              "#7201a8"
             ],
             [
              0.3333333333333333,
              "#9c179e"
             ],
             [
              0.4444444444444444,
              "#bd3786"
             ],
             [
              0.5555555555555556,
              "#d8576b"
             ],
             [
              0.6666666666666666,
              "#ed7953"
             ],
             [
              0.7777777777777778,
              "#fb9f3a"
             ],
             [
              0.8888888888888888,
              "#fdca26"
             ],
             [
              1,
              "#f0f921"
             ]
            ],
            "type": "contour"
           }
          ],
          "contourcarpet": [
           {
            "colorbar": {
             "outlinewidth": 0,
             "ticks": ""
            },
            "type": "contourcarpet"
           }
          ],
          "heatmap": [
           {
            "colorbar": {
             "outlinewidth": 0,
             "ticks": ""
            },
            "colorscale": [
             [
              0,
              "#0d0887"
             ],
             [
              0.1111111111111111,
              "#46039f"
             ],
             [
              0.2222222222222222,
              "#7201a8"
             ],
             [
              0.3333333333333333,
              "#9c179e"
             ],
             [
              0.4444444444444444,
              "#bd3786"
             ],
             [
              0.5555555555555556,
              "#d8576b"
             ],
             [
              0.6666666666666666,
              "#ed7953"
             ],
             [
              0.7777777777777778,
              "#fb9f3a"
             ],
             [
              0.8888888888888888,
              "#fdca26"
             ],
             [
              1,
              "#f0f921"
             ]
            ],
            "type": "heatmap"
           }
          ],
          "heatmapgl": [
           {
            "colorbar": {
             "outlinewidth": 0,
             "ticks": ""
            },
            "colorscale": [
             [
              0,
              "#0d0887"
             ],
             [
              0.1111111111111111,
              "#46039f"
             ],
             [
              0.2222222222222222,
              "#7201a8"
             ],
             [
              0.3333333333333333,
              "#9c179e"
             ],
             [
              0.4444444444444444,
              "#bd3786"
             ],
             [
              0.5555555555555556,
              "#d8576b"
             ],
             [
              0.6666666666666666,
              "#ed7953"
             ],
             [
              0.7777777777777778,
              "#fb9f3a"
             ],
             [
              0.8888888888888888,
              "#fdca26"
             ],
             [
              1,
              "#f0f921"
             ]
            ],
            "type": "heatmapgl"
           }
          ],
          "histogram": [
           {
            "marker": {
             "pattern": {
              "fillmode": "overlay",
              "size": 10,
              "solidity": 0.2
             }
            },
            "type": "histogram"
           }
          ],
          "histogram2d": [
           {
            "colorbar": {
             "outlinewidth": 0,
             "ticks": ""
            },
            "colorscale": [
             [
              0,
              "#0d0887"
             ],
             [
              0.1111111111111111,
              "#46039f"
             ],
             [
              0.2222222222222222,
              "#7201a8"
             ],
             [
              0.3333333333333333,
              "#9c179e"
             ],
             [
              0.4444444444444444,
              "#bd3786"
             ],
             [
              0.5555555555555556,
              "#d8576b"
             ],
             [
              0.6666666666666666,
              "#ed7953"
             ],
             [
              0.7777777777777778,
              "#fb9f3a"
             ],
             [
              0.8888888888888888,
              "#fdca26"
             ],
             [
              1,
              "#f0f921"
             ]
            ],
            "type": "histogram2d"
           }
          ],
          "histogram2dcontour": [
           {
            "colorbar": {
             "outlinewidth": 0,
             "ticks": ""
            },
            "colorscale": [
             [
              0,
              "#0d0887"
             ],
             [
              0.1111111111111111,
              "#46039f"
             ],
             [
              0.2222222222222222,
              "#7201a8"
             ],
             [
              0.3333333333333333,
              "#9c179e"
             ],
             [
              0.4444444444444444,
              "#bd3786"
             ],
             [
              0.5555555555555556,
              "#d8576b"
             ],
             [
              0.6666666666666666,
              "#ed7953"
             ],
             [
              0.7777777777777778,
              "#fb9f3a"
             ],
             [
              0.8888888888888888,
              "#fdca26"
             ],
             [
              1,
              "#f0f921"
             ]
            ],
            "type": "histogram2dcontour"
           }
          ],
          "mesh3d": [
           {
            "colorbar": {
             "outlinewidth": 0,
             "ticks": ""
            },
            "type": "mesh3d"
           }
          ],
          "parcoords": [
           {
            "line": {
             "colorbar": {
              "outlinewidth": 0,
              "ticks": ""
             }
            },
            "type": "parcoords"
           }
          ],
          "pie": [
           {
            "automargin": true,
            "type": "pie"
           }
          ],
          "scatter": [
           {
            "fillpattern": {
             "fillmode": "overlay",
             "size": 10,
             "solidity": 0.2
            },
            "type": "scatter"
           }
          ],
          "scatter3d": [
           {
            "line": {
             "colorbar": {
              "outlinewidth": 0,
              "ticks": ""
             }
            },
            "marker": {
             "colorbar": {
              "outlinewidth": 0,
              "ticks": ""
             }
            },
            "type": "scatter3d"
           }
          ],
          "scattercarpet": [
           {
            "marker": {
             "colorbar": {
              "outlinewidth": 0,
              "ticks": ""
             }
            },
            "type": "scattercarpet"
           }
          ],
          "scattergeo": [
           {
            "marker": {
             "colorbar": {
              "outlinewidth": 0,
              "ticks": ""
             }
            },
            "type": "scattergeo"
           }
          ],
          "scattergl": [
           {
            "marker": {
             "colorbar": {
              "outlinewidth": 0,
              "ticks": ""
             }
            },
            "type": "scattergl"
           }
          ],
          "scattermapbox": [
           {
            "marker": {
             "colorbar": {
              "outlinewidth": 0,
              "ticks": ""
             }
            },
            "type": "scattermapbox"
           }
          ],
          "scatterpolar": [
           {
            "marker": {
             "colorbar": {
              "outlinewidth": 0,
              "ticks": ""
             }
            },
            "type": "scatterpolar"
           }
          ],
          "scatterpolargl": [
           {
            "marker": {
             "colorbar": {
              "outlinewidth": 0,
              "ticks": ""
             }
            },
            "type": "scatterpolargl"
           }
          ],
          "scatterternary": [
           {
            "marker": {
             "colorbar": {
              "outlinewidth": 0,
              "ticks": ""
             }
            },
            "type": "scatterternary"
           }
          ],
          "surface": [
           {
            "colorbar": {
             "outlinewidth": 0,
             "ticks": ""
            },
            "colorscale": [
             [
              0,
              "#0d0887"
             ],
             [
              0.1111111111111111,
              "#46039f"
             ],
             [
              0.2222222222222222,
              "#7201a8"
             ],
             [
              0.3333333333333333,
              "#9c179e"
             ],
             [
              0.4444444444444444,
              "#bd3786"
             ],
             [
              0.5555555555555556,
              "#d8576b"
             ],
             [
              0.6666666666666666,
              "#ed7953"
             ],
             [
              0.7777777777777778,
              "#fb9f3a"
             ],
             [
              0.8888888888888888,
              "#fdca26"
             ],
             [
              1,
              "#f0f921"
             ]
            ],
            "type": "surface"
           }
          ],
          "table": [
           {
            "cells": {
             "fill": {
              "color": "#EBF0F8"
             },
             "line": {
              "color": "white"
             }
            },
            "header": {
             "fill": {
              "color": "#C8D4E3"
             },
             "line": {
              "color": "white"
             }
            },
            "type": "table"
           }
          ]
         },
         "layout": {
          "annotationdefaults": {
           "arrowcolor": "#2a3f5f",
           "arrowhead": 0,
           "arrowwidth": 1
          },
          "autotypenumbers": "strict",
          "coloraxis": {
           "colorbar": {
            "outlinewidth": 0,
            "ticks": ""
           }
          },
          "colorscale": {
           "diverging": [
            [
             0,
             "#8e0152"
            ],
            [
             0.1,
             "#c51b7d"
            ],
            [
             0.2,
             "#de77ae"
            ],
            [
             0.3,
             "#f1b6da"
            ],
            [
             0.4,
             "#fde0ef"
            ],
            [
             0.5,
             "#f7f7f7"
            ],
            [
             0.6,
             "#e6f5d0"
            ],
            [
             0.7,
             "#b8e186"
            ],
            [
             0.8,
             "#7fbc41"
            ],
            [
             0.9,
             "#4d9221"
            ],
            [
             1,
             "#276419"
            ]
           ],
           "sequential": [
            [
             0,
             "#0d0887"
            ],
            [
             0.1111111111111111,
             "#46039f"
            ],
            [
             0.2222222222222222,
             "#7201a8"
            ],
            [
             0.3333333333333333,
             "#9c179e"
            ],
            [
             0.4444444444444444,
             "#bd3786"
            ],
            [
             0.5555555555555556,
             "#d8576b"
            ],
            [
             0.6666666666666666,
             "#ed7953"
            ],
            [
             0.7777777777777778,
             "#fb9f3a"
            ],
            [
             0.8888888888888888,
             "#fdca26"
            ],
            [
             1,
             "#f0f921"
            ]
           ],
           "sequentialminus": [
            [
             0,
             "#0d0887"
            ],
            [
             0.1111111111111111,
             "#46039f"
            ],
            [
             0.2222222222222222,
             "#7201a8"
            ],
            [
             0.3333333333333333,
             "#9c179e"
            ],
            [
             0.4444444444444444,
             "#bd3786"
            ],
            [
             0.5555555555555556,
             "#d8576b"
            ],
            [
             0.6666666666666666,
             "#ed7953"
            ],
            [
             0.7777777777777778,
             "#fb9f3a"
            ],
            [
             0.8888888888888888,
             "#fdca26"
            ],
            [
             1,
             "#f0f921"
            ]
           ]
          },
          "colorway": [
           "#636efa",
           "#EF553B",
           "#00cc96",
           "#ab63fa",
           "#FFA15A",
           "#19d3f3",
           "#FF6692",
           "#B6E880",
           "#FF97FF",
           "#FECB52"
          ],
          "font": {
           "color": "#2a3f5f"
          },
          "geo": {
           "bgcolor": "white",
           "lakecolor": "white",
           "landcolor": "#E5ECF6",
           "showlakes": true,
           "showland": true,
           "subunitcolor": "white"
          },
          "hoverlabel": {
           "align": "left"
          },
          "hovermode": "closest",
          "mapbox": {
           "style": "light"
          },
          "paper_bgcolor": "white",
          "plot_bgcolor": "#E5ECF6",
          "polar": {
           "angularaxis": {
            "gridcolor": "white",
            "linecolor": "white",
            "ticks": ""
           },
           "bgcolor": "#E5ECF6",
           "radialaxis": {
            "gridcolor": "white",
            "linecolor": "white",
            "ticks": ""
           }
          },
          "scene": {
           "xaxis": {
            "backgroundcolor": "#E5ECF6",
            "gridcolor": "white",
            "gridwidth": 2,
            "linecolor": "white",
            "showbackground": true,
            "ticks": "",
            "zerolinecolor": "white"
           },
           "yaxis": {
            "backgroundcolor": "#E5ECF6",
            "gridcolor": "white",
            "gridwidth": 2,
            "linecolor": "white",
            "showbackground": true,
            "ticks": "",
            "zerolinecolor": "white"
           },
           "zaxis": {
            "backgroundcolor": "#E5ECF6",
            "gridcolor": "white",
            "gridwidth": 2,
            "linecolor": "white",
            "showbackground": true,
            "ticks": "",
            "zerolinecolor": "white"
           }
          },
          "shapedefaults": {
           "line": {
            "color": "#2a3f5f"
           }
          },
          "ternary": {
           "aaxis": {
            "gridcolor": "white",
            "linecolor": "white",
            "ticks": ""
           },
           "baxis": {
            "gridcolor": "white",
            "linecolor": "white",
            "ticks": ""
           },
           "bgcolor": "#E5ECF6",
           "caxis": {
            "gridcolor": "white",
            "linecolor": "white",
            "ticks": ""
           }
          },
          "title": {
           "x": 0.05
          },
          "xaxis": {
           "automargin": true,
           "gridcolor": "white",
           "linecolor": "white",
           "ticks": "",
           "title": {
            "standoff": 15
           },
           "zerolinecolor": "white",
           "zerolinewidth": 2
          },
          "yaxis": {
           "automargin": true,
           "gridcolor": "white",
           "linecolor": "white",
           "ticks": "",
           "title": {
            "standoff": 15
           },
           "zerolinecolor": "white",
           "zerolinewidth": 2
          }
         }
        },
        "xaxis": {
         "anchor": "y",
         "domain": [
          0,
          1
         ],
         "title": {
          "text": "TOTAL_COMENTARIOS"
         }
        },
        "yaxis": {
         "anchor": "x",
         "domain": [
          0,
          1
         ],
         "title": {
          "text": "TOTAL_VISUALIZACOES"
         }
        }
       }
      }
     },
     "metadata": {},
     "output_type": "display_data"
    }
   ],
   "source": [
    "fig = px.scatter(base, x=coluna_analise, y='TOTAL_VISUALIZACOES', trendline='ols')\n",
    "fig.show()"
   ]
  },
  {
   "cell_type": "code",
   "execution_count": null,
   "metadata": {},
   "outputs": [
    {
     "data": {
      "text/plain": [
       "(array([243.25990443,  66.69140036]), pandas.core.frame.DataFrame)"
      ]
     },
     "execution_count": 492,
     "metadata": {},
     "output_type": "execute_result"
    }
   ],
   "source": [
    "results = px.get_trendline_results(fig)\n",
    "\n",
    "# Acesse os resultados do ajuste linear\n",
    "fit_results = results.iloc[0].px_fit_results.params\n",
    "\n",
    "fit_results, type(results)"
   ]
  },
  {
   "cell_type": "code",
   "execution_count": null,
   "metadata": {},
   "outputs": [
    {
     "data": {
      "text/plain": [
       "array([243.25990443,  66.69140036])"
      ]
     },
     "execution_count": 493,
     "metadata": {},
     "output_type": "execute_result"
    }
   ],
   "source": [
    "fit_results"
   ]
  },
  {
   "cell_type": "code",
   "execution_count": null,
   "metadata": {},
   "outputs": [
    {
     "data": {
      "text/plain": [
       "array([243.25990443,  66.69140036])"
      ]
     },
     "execution_count": 494,
     "metadata": {},
     "output_type": "execute_result"
    }
   ],
   "source": [
    "results.iloc[0].px_fit_results.params"
   ]
  },
  {
   "cell_type": "code",
   "execution_count": null,
   "metadata": {},
   "outputs": [
    {
     "data": {
      "text/html": [
       "<table class=\"simpletable\">\n",
       "<caption>OLS Regression Results</caption>\n",
       "<tr>\n",
       "  <th>Dep. Variable:</th>            <td>y</td>        <th>  R-squared:         </th> <td>   0.507</td> \n",
       "</tr>\n",
       "<tr>\n",
       "  <th>Model:</th>                   <td>OLS</td>       <th>  Adj. R-squared:    </th> <td>   0.507</td> \n",
       "</tr>\n",
       "<tr>\n",
       "  <th>Method:</th>             <td>Least Squares</td>  <th>  F-statistic:       </th> <td>   1657.</td> \n",
       "</tr>\n",
       "<tr>\n",
       "  <th>Date:</th>             <td>Sat, 03 Feb 2024</td> <th>  Prob (F-statistic):</th> <td>1.26e-249</td>\n",
       "</tr>\n",
       "<tr>\n",
       "  <th>Time:</th>                 <td>19:50:27</td>     <th>  Log-Likelihood:    </th> <td> -13387.</td> \n",
       "</tr>\n",
       "<tr>\n",
       "  <th>No. Observations:</th>      <td>  1611</td>      <th>  AIC:               </th> <td>2.678e+04</td>\n",
       "</tr>\n",
       "<tr>\n",
       "  <th>Df Residuals:</th>          <td>  1609</td>      <th>  BIC:               </th> <td>2.679e+04</td>\n",
       "</tr>\n",
       "<tr>\n",
       "  <th>Df Model:</th>              <td>     1</td>      <th>                     </th>     <td> </td>    \n",
       "</tr>\n",
       "<tr>\n",
       "  <th>Covariance Type:</th>      <td>nonrobust</td>    <th>                     </th>     <td> </td>    \n",
       "</tr>\n",
       "</table>\n",
       "<table class=\"simpletable\">\n",
       "<tr>\n",
       "    <td></td>       <th>coef</th>     <th>std err</th>      <th>t</th>      <th>P>|t|</th>  <th>[0.025</th>    <th>0.975]</th>  \n",
       "</tr>\n",
       "<tr>\n",
       "  <th>const</th> <td>  243.2599</td> <td>   26.710</td> <td>    9.107</td> <td> 0.000</td> <td>  190.869</td> <td>  295.650</td>\n",
       "</tr>\n",
       "<tr>\n",
       "  <th>x1</th>    <td>   66.6914</td> <td>    1.638</td> <td>   40.705</td> <td> 0.000</td> <td>   63.478</td> <td>   69.905</td>\n",
       "</tr>\n",
       "</table>\n",
       "<table class=\"simpletable\">\n",
       "<tr>\n",
       "  <th>Omnibus:</th>       <td>1111.578</td> <th>  Durbin-Watson:     </th> <td>   1.127</td> \n",
       "</tr>\n",
       "<tr>\n",
       "  <th>Prob(Omnibus):</th>  <td> 0.000</td>  <th>  Jarque-Bera (JB):  </th> <td>15566.937</td>\n",
       "</tr>\n",
       "<tr>\n",
       "  <th>Skew:</th>           <td> 3.116</td>  <th>  Prob(JB):          </th> <td>    0.00</td> \n",
       "</tr>\n",
       "<tr>\n",
       "  <th>Kurtosis:</th>       <td>16.895</td>  <th>  Cond. No.          </th> <td>    17.8</td> \n",
       "</tr>\n",
       "</table><br/><br/>Notes:<br/>[1] Standard Errors assume that the covariance matrix of the errors is correctly specified."
      ],
      "text/latex": [
       "\\begin{center}\n",
       "\\begin{tabular}{lclc}\n",
       "\\toprule\n",
       "\\textbf{Dep. Variable:}    &        y         & \\textbf{  R-squared:         } &     0.507   \\\\\n",
       "\\textbf{Model:}            &       OLS        & \\textbf{  Adj. R-squared:    } &     0.507   \\\\\n",
       "\\textbf{Method:}           &  Least Squares   & \\textbf{  F-statistic:       } &     1657.   \\\\\n",
       "\\textbf{Date:}             & Sat, 03 Feb 2024 & \\textbf{  Prob (F-statistic):} & 1.26e-249   \\\\\n",
       "\\textbf{Time:}             &     19:50:27     & \\textbf{  Log-Likelihood:    } &   -13387.   \\\\\n",
       "\\textbf{No. Observations:} &        1611      & \\textbf{  AIC:               } & 2.678e+04   \\\\\n",
       "\\textbf{Df Residuals:}     &        1609      & \\textbf{  BIC:               } & 2.679e+04   \\\\\n",
       "\\textbf{Df Model:}         &           1      & \\textbf{                     } &             \\\\\n",
       "\\textbf{Covariance Type:}  &    nonrobust     & \\textbf{                     } &             \\\\\n",
       "\\bottomrule\n",
       "\\end{tabular}\n",
       "\\begin{tabular}{lcccccc}\n",
       "               & \\textbf{coef} & \\textbf{std err} & \\textbf{t} & \\textbf{P$> |$t$|$} & \\textbf{[0.025} & \\textbf{0.975]}  \\\\\n",
       "\\midrule\n",
       "\\textbf{const} &     243.2599  &       26.710     &     9.107  &         0.000        &      190.869    &      295.650     \\\\\n",
       "\\textbf{x1}    &      66.6914  &        1.638     &    40.705  &         0.000        &       63.478    &       69.905     \\\\\n",
       "\\bottomrule\n",
       "\\end{tabular}\n",
       "\\begin{tabular}{lclc}\n",
       "\\textbf{Omnibus:}       & 1111.578 & \\textbf{  Durbin-Watson:     } &     1.127  \\\\\n",
       "\\textbf{Prob(Omnibus):} &   0.000  & \\textbf{  Jarque-Bera (JB):  } & 15566.937  \\\\\n",
       "\\textbf{Skew:}          &   3.116  & \\textbf{  Prob(JB):          } &      0.00  \\\\\n",
       "\\textbf{Kurtosis:}      &  16.895  & \\textbf{  Cond. No.          } &      17.8  \\\\\n",
       "\\bottomrule\n",
       "\\end{tabular}\n",
       "%\\caption{OLS Regression Results}\n",
       "\\end{center}\n",
       "\n",
       "Notes: \\newline\n",
       " [1] Standard Errors assume that the covariance matrix of the errors is correctly specified."
      ],
      "text/plain": [
       "<class 'statsmodels.iolib.summary.Summary'>\n",
       "\"\"\"\n",
       "                            OLS Regression Results                            \n",
       "==============================================================================\n",
       "Dep. Variable:                      y   R-squared:                       0.507\n",
       "Model:                            OLS   Adj. R-squared:                  0.507\n",
       "Method:                 Least Squares   F-statistic:                     1657.\n",
       "Date:                Sat, 03 Feb 2024   Prob (F-statistic):          1.26e-249\n",
       "Time:                        19:50:27   Log-Likelihood:                -13387.\n",
       "No. Observations:                1611   AIC:                         2.678e+04\n",
       "Df Residuals:                    1609   BIC:                         2.679e+04\n",
       "Df Model:                           1                                         \n",
       "Covariance Type:            nonrobust                                         \n",
       "==============================================================================\n",
       "                 coef    std err          t      P>|t|      [0.025      0.975]\n",
       "------------------------------------------------------------------------------\n",
       "const        243.2599     26.710      9.107      0.000     190.869     295.650\n",
       "x1            66.6914      1.638     40.705      0.000      63.478      69.905\n",
       "==============================================================================\n",
       "Omnibus:                     1111.578   Durbin-Watson:                   1.127\n",
       "Prob(Omnibus):                  0.000   Jarque-Bera (JB):            15566.937\n",
       "Skew:                           3.116   Prob(JB):                         0.00\n",
       "Kurtosis:                      16.895   Cond. No.                         17.8\n",
       "==============================================================================\n",
       "\n",
       "Notes:\n",
       "[1] Standard Errors assume that the covariance matrix of the errors is correctly specified.\n",
       "\"\"\""
      ]
     },
     "execution_count": 495,
     "metadata": {},
     "output_type": "execute_result"
    }
   ],
   "source": [
    "fit_results = results.iloc[0].px_fit_results.summary()\n",
    "fit_results"
   ]
  },
  {
   "cell_type": "markdown",
   "metadata": {},
   "source": [
    "- Canal"
   ]
  },
  {
   "cell_type": "code",
   "execution_count": null,
   "metadata": {},
   "outputs": [
    {
     "name": "stdout",
     "output_type": "stream",
     "text": [
      "<class 'pandas.core.frame.DataFrame'>\n",
      "Index: 204 entries, 8611 to 12043\n",
      "Data columns (total 6 columns):\n",
      " #   Column               Non-Null Count  Dtype         \n",
      "---  ------               --------------  -----         \n",
      " 0   data_extracao        204 non-null    datetime64[ns]\n",
      " 1   ASSUNTO              204 non-null    string        \n",
      " 2   TOTAL_LIKES          204 non-null    float64       \n",
      " 3   ID_CANAL             204 non-null    string        \n",
      " 4   TOTAL_VISUALIZACOES  204 non-null    float64       \n",
      " 5   TURNO_EXTRACAO       204 non-null    string        \n",
      "dtypes: datetime64[ns](1), float64(2), string(3)\n",
      "memory usage: 11.2 KB\n"
     ]
    }
   ],
   "source": [
    "coluna_analise = \"TOTAL_LIKES\"\n",
    "base = pd.read_parquet('../dados/ouro/dados_tratado_estatisticas_gerais.parquet', columns=['data_extracao','ASSUNTO',coluna_analise, 'ID_CANAL', 'TOTAL_VISUALIZACOES', 'TURNO_EXTRACAO'])\n",
    "base = base.query( '  ASSUNTO == \"assunto_cities_skylines\"  and ID_CANAL == \"UCL5k8vBBo1JOHh7AnvoD8xQ\"')\n",
    "base['data_extracao'] = pd.to_datetime(base['data_extracao'])\n",
    "base['data_extracao'] = pd.to_datetime(base['data_extracao'])\n",
    "base['ASSUNTO'] = base['ASSUNTO'].astype('string')\n",
    "base['TURNO_EXTRACAO'] = base['TURNO_EXTRACAO'].astype('string')\n",
    "base['ID_CANAL'] = base['ID_CANAL'].astype('string')\n",
    "base.info()"
   ]
  },
  {
   "cell_type": "code",
   "execution_count": null,
   "metadata": {},
   "outputs": [
    {
     "data": {
      "text/html": [
       "<div>\n",
       "<style scoped>\n",
       "    .dataframe tbody tr th:only-of-type {\n",
       "        vertical-align: middle;\n",
       "    }\n",
       "\n",
       "    .dataframe tbody tr th {\n",
       "        vertical-align: top;\n",
       "    }\n",
       "\n",
       "    .dataframe thead th {\n",
       "        text-align: right;\n",
       "    }\n",
       "</style>\n",
       "<table border=\"1\" class=\"dataframe\">\n",
       "  <thead>\n",
       "    <tr style=\"text-align: right;\">\n",
       "      <th></th>\n",
       "      <th>data_extracao</th>\n",
       "      <th>ASSUNTO</th>\n",
       "      <th>TOTAL_LIKES</th>\n",
       "      <th>ID_CANAL</th>\n",
       "      <th>TOTAL_VISUALIZACOES</th>\n",
       "      <th>TURNO_EXTRACAO</th>\n",
       "    </tr>\n",
       "  </thead>\n",
       "  <tbody>\n",
       "    <tr>\n",
       "      <th>8611</th>\n",
       "      <td>2024-01-23</td>\n",
       "      <td>assunto_cities_skylines</td>\n",
       "      <td>609.0</td>\n",
       "      <td>UCL5k8vBBo1JOHh7AnvoD8xQ</td>\n",
       "      <td>9882.0</td>\n",
       "      <td>Noite</td>\n",
       "    </tr>\n",
       "    <tr>\n",
       "      <th>8612</th>\n",
       "      <td>2024-01-23</td>\n",
       "      <td>assunto_cities_skylines</td>\n",
       "      <td>605.0</td>\n",
       "      <td>UCL5k8vBBo1JOHh7AnvoD8xQ</td>\n",
       "      <td>9806.0</td>\n",
       "      <td>Tarde</td>\n",
       "    </tr>\n",
       "    <tr>\n",
       "      <th>8613</th>\n",
       "      <td>2024-01-23</td>\n",
       "      <td>assunto_cities_skylines</td>\n",
       "      <td>78.0</td>\n",
       "      <td>UCL5k8vBBo1JOHh7AnvoD8xQ</td>\n",
       "      <td>976.0</td>\n",
       "      <td>Tarde</td>\n",
       "    </tr>\n",
       "    <tr>\n",
       "      <th>8614</th>\n",
       "      <td>2024-01-23</td>\n",
       "      <td>assunto_cities_skylines</td>\n",
       "      <td>595.0</td>\n",
       "      <td>UCL5k8vBBo1JOHh7AnvoD8xQ</td>\n",
       "      <td>9632.0</td>\n",
       "      <td>Manhã</td>\n",
       "    </tr>\n",
       "    <tr>\n",
       "      <th>8619</th>\n",
       "      <td>2024-01-23</td>\n",
       "      <td>assunto_cities_skylines</td>\n",
       "      <td>348.0</td>\n",
       "      <td>UCL5k8vBBo1JOHh7AnvoD8xQ</td>\n",
       "      <td>8976.0</td>\n",
       "      <td>Noite</td>\n",
       "    </tr>\n",
       "  </tbody>\n",
       "</table>\n",
       "</div>"
      ],
      "text/plain": [
       "     data_extracao                  ASSUNTO  TOTAL_LIKES  \\\n",
       "8611    2024-01-23  assunto_cities_skylines        609.0   \n",
       "8612    2024-01-23  assunto_cities_skylines        605.0   \n",
       "8613    2024-01-23  assunto_cities_skylines         78.0   \n",
       "8614    2024-01-23  assunto_cities_skylines        595.0   \n",
       "8619    2024-01-23  assunto_cities_skylines        348.0   \n",
       "\n",
       "                      ID_CANAL  TOTAL_VISUALIZACOES TURNO_EXTRACAO  \n",
       "8611  UCL5k8vBBo1JOHh7AnvoD8xQ               9882.0          Noite  \n",
       "8612  UCL5k8vBBo1JOHh7AnvoD8xQ               9806.0          Tarde  \n",
       "8613  UCL5k8vBBo1JOHh7AnvoD8xQ                976.0          Tarde  \n",
       "8614  UCL5k8vBBo1JOHh7AnvoD8xQ               9632.0          Manhã  \n",
       "8619  UCL5k8vBBo1JOHh7AnvoD8xQ               8976.0          Noite  "
      ]
     },
     "execution_count": 497,
     "metadata": {},
     "output_type": "execute_result"
    }
   ],
   "source": [
    "base.head()"
   ]
  },
  {
   "cell_type": "code",
   "execution_count": null,
   "metadata": {},
   "outputs": [
    {
     "data": {
      "application/vnd.plotly.v1+json": {
       "config": {
        "plotlyServerURL": "https://plot.ly"
       },
       "data": [
        {
         "hovertemplate": "TOTAL_LIKES=%{x}<br>TOTAL_VISUALIZACOES=%{y}<extra></extra>",
         "legendgroup": "",
         "marker": {
          "color": "#636efa",
          "symbol": "circle"
         },
         "mode": "markers",
         "name": "",
         "orientation": "v",
         "showlegend": false,
         "type": "scatter",
         "x": [
          609,
          605,
          78,
          595,
          348,
          343,
          341,
          4,
          381,
          380,
          378,
          504,
          496,
          59,
          439,
          417,
          446,
          394,
          23,
          483,
          481,
          480,
          59,
          55,
          54,
          277,
          275,
          267,
          65,
          241,
          174,
          165,
          140,
          137,
          135,
          129,
          132,
          122,
          104,
          103,
          100,
          209,
          202,
          172,
          563,
          554,
          541,
          518,
          513,
          556,
          671,
          544,
          493,
          528,
          629,
          83,
          575,
          75,
          2,
          535,
          486,
          560,
          335,
          521,
          331,
          319,
          375,
          372,
          370,
          92,
          509,
          382,
          476,
          475,
          473,
          414,
          375,
          361,
          387,
          369,
          50,
          44,
          43,
          261,
          6,
          258,
          254,
          86,
          9,
          29,
          95,
          91,
          90,
          100,
          124,
          527,
          525,
          521,
          474,
          517,
          130,
          512,
          462,
          503,
          453,
          544,
          311,
          422,
          381,
          471,
          83,
          335,
          467,
          357,
          347,
          338,
          340,
          323,
          295,
          247,
          243,
          41,
          242,
          39,
          164,
          10,
          34,
          206,
          101,
          120,
          116,
          112,
          80,
          511,
          506,
          498,
          494,
          484,
          439,
          482,
          427,
          418,
          404,
          402,
          446,
          397,
          325,
          276,
          241,
          242,
          240,
          276,
          232,
          266,
          291,
          257,
          231,
          30,
          27,
          170,
          23,
          101,
          112,
          100,
          30,
          490,
          466,
          463,
          457,
          101,
          393,
          375,
          372,
          215,
          221,
          249,
          191,
          217,
          198,
          123,
          152,
          20,
          103,
          150,
          122,
          99,
          87,
          77,
          358,
          30,
          120,
          70,
          122,
          107,
          81,
          84,
          81,
          33,
          123,
          1,
          1,
          4,
          4,
          0
         ],
         "xaxis": "x",
         "y": [
          9882,
          9806,
          976,
          9632,
          8976,
          8928,
          8832,
          8,
          7707,
          7693,
          7667,
          7524,
          7384,
          722,
          7175,
          6965,
          6917,
          6710,
          67,
          6569,
          6556,
          6543,
          611,
          594,
          562,
          4920,
          4891,
          4816,
          449,
          4442,
          3517,
          3416,
          2506,
          2473,
          2444,
          2387,
          2370,
          2238,
          1984,
          1970,
          1953,
          1929,
          1842,
          1626,
          13309,
          13166,
          12955,
          12268,
          12143,
          11972,
          11851,
          11833,
          11831,
          11603,
          11311,
          1058,
          10572,
          1003,
          1,
          9909,
          9108,
          8950,
          8692,
          8649,
          8577,
          8178,
          7608,
          7574,
          7527,
          695,
          6637,
          6551,
          6522,
          6514,
          6492,
          6443,
          6410,
          6276,
          6208,
          5849,
          515,
          501,
          479,
          4722,
          47,
          4656,
          4605,
          45,
          4,
          313,
          1922,
          1904,
          1868,
          140,
          1311,
          12872,
          12829,
          12722,
          11451,
          11391,
          1135,
          11251,
          11240,
          11090,
          10975,
          10096,
          7882,
          7826,
          7037,
          6450,
          64,
          6270,
          6253,
          6052,
          5883,
          5763,
          5277,
          5000,
          4699,
          4531,
          4499,
          449,
          4460,
          423,
          4005,
          4,
          388,
          2947,
          2703,
          2590,
          2555,
          2144,
          1596,
          12506,
          12354,
          12259,
          10795,
          10668,
          10539,
          10510,
          10308,
          10056,
          9849,
          9791,
          9768,
          9708,
          5431,
          5050,
          4428,
          4407,
          4365,
          4346,
          4306,
          4190,
          4121,
          4048,
          3644,
          359,
          341,
          3105,
          304,
          2401,
          2224,
          2003,
          12,
          11961,
          11562,
          10298,
          10160,
          101,
          9293,
          9192,
          9115,
          3983,
          3886,
          3731,
          3391,
          3203,
          3086,
          2945,
          2845,
          251,
          2500,
          2460,
          2404,
          2219,
          2016,
          144,
          8891,
          598,
          3148,
          2611,
          2491,
          2326,
          1910,
          1840,
          1732,
          13,
          1224,
          4,
          4,
          13,
          10,
          0
         ],
         "yaxis": "y"
        },
        {
         "hovertemplate": "<b>OLS trendline</b><br>TOTAL_VISUALIZACOES = 20.6339 * TOTAL_LIKES + -367.925<br>R<sup>2</sup>=0.890705<br><br>TOTAL_LIKES=%{x}<br>TOTAL_VISUALIZACOES=%{y} <b>(trend)</b><extra></extra>",
         "legendgroup": "",
         "marker": {
          "color": "#636efa",
          "symbol": "circle"
         },
         "mode": "lines",
         "name": "",
         "showlegend": false,
         "type": "scatter",
         "x": [
          0,
          1,
          1,
          2,
          4,
          4,
          4,
          6,
          9,
          10,
          20,
          23,
          23,
          27,
          29,
          30,
          30,
          30,
          33,
          34,
          39,
          41,
          43,
          44,
          50,
          54,
          55,
          59,
          59,
          65,
          70,
          75,
          77,
          78,
          80,
          81,
          81,
          83,
          83,
          84,
          86,
          87,
          90,
          91,
          92,
          95,
          99,
          100,
          100,
          100,
          101,
          101,
          101,
          103,
          103,
          104,
          107,
          112,
          112,
          116,
          120,
          120,
          122,
          122,
          122,
          123,
          123,
          124,
          129,
          130,
          132,
          135,
          137,
          140,
          150,
          152,
          164,
          165,
          170,
          172,
          174,
          191,
          198,
          202,
          206,
          209,
          215,
          217,
          221,
          231,
          232,
          240,
          241,
          241,
          242,
          242,
          243,
          247,
          249,
          254,
          257,
          258,
          261,
          266,
          267,
          275,
          276,
          276,
          277,
          291,
          295,
          311,
          319,
          323,
          325,
          331,
          335,
          335,
          338,
          340,
          341,
          343,
          347,
          348,
          357,
          358,
          361,
          369,
          370,
          372,
          372,
          375,
          375,
          375,
          378,
          380,
          381,
          381,
          382,
          387,
          393,
          394,
          397,
          402,
          404,
          414,
          417,
          418,
          422,
          427,
          439,
          439,
          446,
          446,
          453,
          457,
          462,
          463,
          466,
          467,
          471,
          473,
          474,
          475,
          476,
          480,
          481,
          482,
          483,
          484,
          486,
          490,
          493,
          494,
          496,
          498,
          503,
          504,
          506,
          509,
          511,
          512,
          513,
          517,
          518,
          521,
          521,
          525,
          527,
          528,
          535,
          541,
          544,
          544,
          554,
          556,
          560,
          563,
          575,
          595,
          605,
          609,
          629,
          671
         ],
         "xaxis": "x",
         "y": [
          -367.92519876932784,
          -347.29132441769724,
          -347.29132441769724,
          -326.65745006606664,
          -285.3897013628054,
          -285.3897013628054,
          -285.3897013628054,
          -244.1219526595442,
          -182.2203296046524,
          -161.58645525302177,
          44.7522882632843,
          106.65391131817609,
          106.65391131817609,
          189.18940872469852,
          230.45715742795971,
          251.09103177959037,
          251.09103177959037,
          251.09103177959037,
          312.9926548344822,
          333.62652918611275,
          436.7959009442658,
          478.063649647527,
          519.3313983507883,
          539.9652727024188,
          663.7685188122025,
          746.3040162187249,
          766.9378905703554,
          849.473387976878,
          849.473387976878,
          973.2766340866615,
          1076.4460058448146,
          1179.6153776029676,
          1220.8831263062289,
          1241.5170006578594,
          1282.7847493611207,
          1303.4186237127512,
          1303.4186237127512,
          1344.6863724160125,
          1344.6863724160125,
          1365.320246767643,
          1406.5879954709044,
          1427.221869822535,
          1489.1234928774268,
          1509.7573672290573,
          1530.3912415806878,
          1592.2928646355797,
          1674.828362042102,
          1695.4622363937328,
          1695.4622363937328,
          1695.4622363937328,
          1716.0961107453631,
          1716.0961107453631,
          1716.0961107453631,
          1757.3638594486247,
          1757.3638594486247,
          1777.997733800255,
          1839.8993568551468,
          1943.0687286133002,
          1943.0687286133002,
          2025.6042260198224,
          2108.139723426345,
          2108.139723426345,
          2149.407472129606,
          2149.407472129606,
          2149.407472129606,
          2170.041346481237,
          2170.041346481237,
          2190.675220832867,
          2293.8445925910205,
          2314.478466942651,
          2355.7462156459123,
          2417.647838700804,
          2458.9155874040653,
          2520.817210458957,
          2727.155953975263,
          2768.4237026785245,
          3016.0301948980914,
          3036.664069249722,
          3139.833441007875,
          3181.1011897111366,
          3222.3689384143977,
          3573.144802392118,
          3717.581922853532,
          3800.117420260054,
          3882.652917666577,
          3944.5545407214686,
          4068.3577868312523,
          4109.625535534514,
          4192.161032941036,
          4398.499776457342,
          4419.133650808973,
          4584.204645622018,
          4604.8385199736485,
          4604.8385199736485,
          4625.472394325278,
          4625.472394325278,
          4646.106268676909,
          4728.641766083432,
          4769.909514786693,
          4873.078886544846,
          4934.980509599738,
          4955.614383951369,
          5017.51600700626,
          5120.685378764413,
          5141.319253116044,
          5306.390247929089,
          5327.024122280719,
          5327.024122280719,
          5347.65799663235,
          5636.532237555179,
          5719.067734961701,
          6049.20972458779,
          6214.280719400836,
          6296.816216807358,
          6338.083965510619,
          6461.887211620403,
          6544.422709026925,
          6544.422709026925,
          6606.324332081817,
          6647.592080785078,
          6668.225955136709,
          6709.49370383997,
          6792.029201246492,
          6812.663075598123,
          6998.367944762798,
          7019.001819114429,
          7080.903442169321,
          7245.974436982366,
          7266.608311333996,
          7307.876060037258,
          7307.876060037258,
          7369.777683092149,
          7369.777683092149,
          7369.777683092149,
          7431.679306147042,
          7472.947054850302,
          7493.580929201933,
          7493.580929201933,
          7514.214803553564,
          7617.384175311717,
          7741.1874214215,
          7761.821295773131,
          7823.722918828023,
          7926.892290586176,
          7968.160039289436,
          8174.498782805744,
          8236.400405860635,
          8257.034280212265,
          8339.569777618788,
          8442.739149376941,
          8690.345641596508,
          8690.345641596508,
          8834.782762057923,
          8834.782762057923,
          8979.219882519337,
          9061.755379925859,
          9164.924751684011,
          9185.558626035643,
          9247.460249090534,
          9268.094123442164,
          9350.629620848687,
          9391.897369551949,
          9412.531243903579,
          9433.16511825521,
          9453.79899260684,
          9536.334490013363,
          9556.968364364993,
          9577.602238716625,
          9598.236113068255,
          9618.869987419885,
          9660.137736123146,
          9742.67323352967,
          9804.57485658456,
          9825.208730936192,
          9866.476479639452,
          9907.744228342714,
          10010.913600100866,
          10031.547474452498,
          10072.81522315576,
          10134.716846210651,
          10175.984594913913,
          10196.618469265542,
          10217.252343617172,
          10299.787841023695,
          10320.421715375325,
          10382.323338430218,
          10382.323338430218,
          10464.85883583674,
          10506.126584540001,
          10526.760458891633,
          10671.197579353046,
          10795.00082546283,
          10856.902448517721,
          10856.902448517721,
          11063.241192034027,
          11104.508940737289,
          11187.044438143812,
          11248.946061198703,
          11496.55255341827,
          11909.230040450882,
          12115.568783967188,
          12198.104281373711,
          12610.781768406323,
          13477.40449117481
         ],
         "yaxis": "y"
        }
       ],
       "layout": {
        "legend": {
         "tracegroupgap": 0
        },
        "margin": {
         "t": 60
        },
        "template": {
         "data": {
          "bar": [
           {
            "error_x": {
             "color": "#2a3f5f"
            },
            "error_y": {
             "color": "#2a3f5f"
            },
            "marker": {
             "line": {
              "color": "#E5ECF6",
              "width": 0.5
             },
             "pattern": {
              "fillmode": "overlay",
              "size": 10,
              "solidity": 0.2
             }
            },
            "type": "bar"
           }
          ],
          "barpolar": [
           {
            "marker": {
             "line": {
              "color": "#E5ECF6",
              "width": 0.5
             },
             "pattern": {
              "fillmode": "overlay",
              "size": 10,
              "solidity": 0.2
             }
            },
            "type": "barpolar"
           }
          ],
          "carpet": [
           {
            "aaxis": {
             "endlinecolor": "#2a3f5f",
             "gridcolor": "white",
             "linecolor": "white",
             "minorgridcolor": "white",
             "startlinecolor": "#2a3f5f"
            },
            "baxis": {
             "endlinecolor": "#2a3f5f",
             "gridcolor": "white",
             "linecolor": "white",
             "minorgridcolor": "white",
             "startlinecolor": "#2a3f5f"
            },
            "type": "carpet"
           }
          ],
          "choropleth": [
           {
            "colorbar": {
             "outlinewidth": 0,
             "ticks": ""
            },
            "type": "choropleth"
           }
          ],
          "contour": [
           {
            "colorbar": {
             "outlinewidth": 0,
             "ticks": ""
            },
            "colorscale": [
             [
              0,
              "#0d0887"
             ],
             [
              0.1111111111111111,
              "#46039f"
             ],
             [
              0.2222222222222222,
              "#7201a8"
             ],
             [
              0.3333333333333333,
              "#9c179e"
             ],
             [
              0.4444444444444444,
              "#bd3786"
             ],
             [
              0.5555555555555556,
              "#d8576b"
             ],
             [
              0.6666666666666666,
              "#ed7953"
             ],
             [
              0.7777777777777778,
              "#fb9f3a"
             ],
             [
              0.8888888888888888,
              "#fdca26"
             ],
             [
              1,
              "#f0f921"
             ]
            ],
            "type": "contour"
           }
          ],
          "contourcarpet": [
           {
            "colorbar": {
             "outlinewidth": 0,
             "ticks": ""
            },
            "type": "contourcarpet"
           }
          ],
          "heatmap": [
           {
            "colorbar": {
             "outlinewidth": 0,
             "ticks": ""
            },
            "colorscale": [
             [
              0,
              "#0d0887"
             ],
             [
              0.1111111111111111,
              "#46039f"
             ],
             [
              0.2222222222222222,
              "#7201a8"
             ],
             [
              0.3333333333333333,
              "#9c179e"
             ],
             [
              0.4444444444444444,
              "#bd3786"
             ],
             [
              0.5555555555555556,
              "#d8576b"
             ],
             [
              0.6666666666666666,
              "#ed7953"
             ],
             [
              0.7777777777777778,
              "#fb9f3a"
             ],
             [
              0.8888888888888888,
              "#fdca26"
             ],
             [
              1,
              "#f0f921"
             ]
            ],
            "type": "heatmap"
           }
          ],
          "heatmapgl": [
           {
            "colorbar": {
             "outlinewidth": 0,
             "ticks": ""
            },
            "colorscale": [
             [
              0,
              "#0d0887"
             ],
             [
              0.1111111111111111,
              "#46039f"
             ],
             [
              0.2222222222222222,
              "#7201a8"
             ],
             [
              0.3333333333333333,
              "#9c179e"
             ],
             [
              0.4444444444444444,
              "#bd3786"
             ],
             [
              0.5555555555555556,
              "#d8576b"
             ],
             [
              0.6666666666666666,
              "#ed7953"
             ],
             [
              0.7777777777777778,
              "#fb9f3a"
             ],
             [
              0.8888888888888888,
              "#fdca26"
             ],
             [
              1,
              "#f0f921"
             ]
            ],
            "type": "heatmapgl"
           }
          ],
          "histogram": [
           {
            "marker": {
             "pattern": {
              "fillmode": "overlay",
              "size": 10,
              "solidity": 0.2
             }
            },
            "type": "histogram"
           }
          ],
          "histogram2d": [
           {
            "colorbar": {
             "outlinewidth": 0,
             "ticks": ""
            },
            "colorscale": [
             [
              0,
              "#0d0887"
             ],
             [
              0.1111111111111111,
              "#46039f"
             ],
             [
              0.2222222222222222,
              "#7201a8"
             ],
             [
              0.3333333333333333,
              "#9c179e"
             ],
             [
              0.4444444444444444,
              "#bd3786"
             ],
             [
              0.5555555555555556,
              "#d8576b"
             ],
             [
              0.6666666666666666,
              "#ed7953"
             ],
             [
              0.7777777777777778,
              "#fb9f3a"
             ],
             [
              0.8888888888888888,
              "#fdca26"
             ],
             [
              1,
              "#f0f921"
             ]
            ],
            "type": "histogram2d"
           }
          ],
          "histogram2dcontour": [
           {
            "colorbar": {
             "outlinewidth": 0,
             "ticks": ""
            },
            "colorscale": [
             [
              0,
              "#0d0887"
             ],
             [
              0.1111111111111111,
              "#46039f"
             ],
             [
              0.2222222222222222,
              "#7201a8"
             ],
             [
              0.3333333333333333,
              "#9c179e"
             ],
             [
              0.4444444444444444,
              "#bd3786"
             ],
             [
              0.5555555555555556,
              "#d8576b"
             ],
             [
              0.6666666666666666,
              "#ed7953"
             ],
             [
              0.7777777777777778,
              "#fb9f3a"
             ],
             [
              0.8888888888888888,
              "#fdca26"
             ],
             [
              1,
              "#f0f921"
             ]
            ],
            "type": "histogram2dcontour"
           }
          ],
          "mesh3d": [
           {
            "colorbar": {
             "outlinewidth": 0,
             "ticks": ""
            },
            "type": "mesh3d"
           }
          ],
          "parcoords": [
           {
            "line": {
             "colorbar": {
              "outlinewidth": 0,
              "ticks": ""
             }
            },
            "type": "parcoords"
           }
          ],
          "pie": [
           {
            "automargin": true,
            "type": "pie"
           }
          ],
          "scatter": [
           {
            "fillpattern": {
             "fillmode": "overlay",
             "size": 10,
             "solidity": 0.2
            },
            "type": "scatter"
           }
          ],
          "scatter3d": [
           {
            "line": {
             "colorbar": {
              "outlinewidth": 0,
              "ticks": ""
             }
            },
            "marker": {
             "colorbar": {
              "outlinewidth": 0,
              "ticks": ""
             }
            },
            "type": "scatter3d"
           }
          ],
          "scattercarpet": [
           {
            "marker": {
             "colorbar": {
              "outlinewidth": 0,
              "ticks": ""
             }
            },
            "type": "scattercarpet"
           }
          ],
          "scattergeo": [
           {
            "marker": {
             "colorbar": {
              "outlinewidth": 0,
              "ticks": ""
             }
            },
            "type": "scattergeo"
           }
          ],
          "scattergl": [
           {
            "marker": {
             "colorbar": {
              "outlinewidth": 0,
              "ticks": ""
             }
            },
            "type": "scattergl"
           }
          ],
          "scattermapbox": [
           {
            "marker": {
             "colorbar": {
              "outlinewidth": 0,
              "ticks": ""
             }
            },
            "type": "scattermapbox"
           }
          ],
          "scatterpolar": [
           {
            "marker": {
             "colorbar": {
              "outlinewidth": 0,
              "ticks": ""
             }
            },
            "type": "scatterpolar"
           }
          ],
          "scatterpolargl": [
           {
            "marker": {
             "colorbar": {
              "outlinewidth": 0,
              "ticks": ""
             }
            },
            "type": "scatterpolargl"
           }
          ],
          "scatterternary": [
           {
            "marker": {
             "colorbar": {
              "outlinewidth": 0,
              "ticks": ""
             }
            },
            "type": "scatterternary"
           }
          ],
          "surface": [
           {
            "colorbar": {
             "outlinewidth": 0,
             "ticks": ""
            },
            "colorscale": [
             [
              0,
              "#0d0887"
             ],
             [
              0.1111111111111111,
              "#46039f"
             ],
             [
              0.2222222222222222,
              "#7201a8"
             ],
             [
              0.3333333333333333,
              "#9c179e"
             ],
             [
              0.4444444444444444,
              "#bd3786"
             ],
             [
              0.5555555555555556,
              "#d8576b"
             ],
             [
              0.6666666666666666,
              "#ed7953"
             ],
             [
              0.7777777777777778,
              "#fb9f3a"
             ],
             [
              0.8888888888888888,
              "#fdca26"
             ],
             [
              1,
              "#f0f921"
             ]
            ],
            "type": "surface"
           }
          ],
          "table": [
           {
            "cells": {
             "fill": {
              "color": "#EBF0F8"
             },
             "line": {
              "color": "white"
             }
            },
            "header": {
             "fill": {
              "color": "#C8D4E3"
             },
             "line": {
              "color": "white"
             }
            },
            "type": "table"
           }
          ]
         },
         "layout": {
          "annotationdefaults": {
           "arrowcolor": "#2a3f5f",
           "arrowhead": 0,
           "arrowwidth": 1
          },
          "autotypenumbers": "strict",
          "coloraxis": {
           "colorbar": {
            "outlinewidth": 0,
            "ticks": ""
           }
          },
          "colorscale": {
           "diverging": [
            [
             0,
             "#8e0152"
            ],
            [
             0.1,
             "#c51b7d"
            ],
            [
             0.2,
             "#de77ae"
            ],
            [
             0.3,
             "#f1b6da"
            ],
            [
             0.4,
             "#fde0ef"
            ],
            [
             0.5,
             "#f7f7f7"
            ],
            [
             0.6,
             "#e6f5d0"
            ],
            [
             0.7,
             "#b8e186"
            ],
            [
             0.8,
             "#7fbc41"
            ],
            [
             0.9,
             "#4d9221"
            ],
            [
             1,
             "#276419"
            ]
           ],
           "sequential": [
            [
             0,
             "#0d0887"
            ],
            [
             0.1111111111111111,
             "#46039f"
            ],
            [
             0.2222222222222222,
             "#7201a8"
            ],
            [
             0.3333333333333333,
             "#9c179e"
            ],
            [
             0.4444444444444444,
             "#bd3786"
            ],
            [
             0.5555555555555556,
             "#d8576b"
            ],
            [
             0.6666666666666666,
             "#ed7953"
            ],
            [
             0.7777777777777778,
             "#fb9f3a"
            ],
            [
             0.8888888888888888,
             "#fdca26"
            ],
            [
             1,
             "#f0f921"
            ]
           ],
           "sequentialminus": [
            [
             0,
             "#0d0887"
            ],
            [
             0.1111111111111111,
             "#46039f"
            ],
            [
             0.2222222222222222,
             "#7201a8"
            ],
            [
             0.3333333333333333,
             "#9c179e"
            ],
            [
             0.4444444444444444,
             "#bd3786"
            ],
            [
             0.5555555555555556,
             "#d8576b"
            ],
            [
             0.6666666666666666,
             "#ed7953"
            ],
            [
             0.7777777777777778,
             "#fb9f3a"
            ],
            [
             0.8888888888888888,
             "#fdca26"
            ],
            [
             1,
             "#f0f921"
            ]
           ]
          },
          "colorway": [
           "#636efa",
           "#EF553B",
           "#00cc96",
           "#ab63fa",
           "#FFA15A",
           "#19d3f3",
           "#FF6692",
           "#B6E880",
           "#FF97FF",
           "#FECB52"
          ],
          "font": {
           "color": "#2a3f5f"
          },
          "geo": {
           "bgcolor": "white",
           "lakecolor": "white",
           "landcolor": "#E5ECF6",
           "showlakes": true,
           "showland": true,
           "subunitcolor": "white"
          },
          "hoverlabel": {
           "align": "left"
          },
          "hovermode": "closest",
          "mapbox": {
           "style": "light"
          },
          "paper_bgcolor": "white",
          "plot_bgcolor": "#E5ECF6",
          "polar": {
           "angularaxis": {
            "gridcolor": "white",
            "linecolor": "white",
            "ticks": ""
           },
           "bgcolor": "#E5ECF6",
           "radialaxis": {
            "gridcolor": "white",
            "linecolor": "white",
            "ticks": ""
           }
          },
          "scene": {
           "xaxis": {
            "backgroundcolor": "#E5ECF6",
            "gridcolor": "white",
            "gridwidth": 2,
            "linecolor": "white",
            "showbackground": true,
            "ticks": "",
            "zerolinecolor": "white"
           },
           "yaxis": {
            "backgroundcolor": "#E5ECF6",
            "gridcolor": "white",
            "gridwidth": 2,
            "linecolor": "white",
            "showbackground": true,
            "ticks": "",
            "zerolinecolor": "white"
           },
           "zaxis": {
            "backgroundcolor": "#E5ECF6",
            "gridcolor": "white",
            "gridwidth": 2,
            "linecolor": "white",
            "showbackground": true,
            "ticks": "",
            "zerolinecolor": "white"
           }
          },
          "shapedefaults": {
           "line": {
            "color": "#2a3f5f"
           }
          },
          "ternary": {
           "aaxis": {
            "gridcolor": "white",
            "linecolor": "white",
            "ticks": ""
           },
           "baxis": {
            "gridcolor": "white",
            "linecolor": "white",
            "ticks": ""
           },
           "bgcolor": "#E5ECF6",
           "caxis": {
            "gridcolor": "white",
            "linecolor": "white",
            "ticks": ""
           }
          },
          "title": {
           "x": 0.05
          },
          "xaxis": {
           "automargin": true,
           "gridcolor": "white",
           "linecolor": "white",
           "ticks": "",
           "title": {
            "standoff": 15
           },
           "zerolinecolor": "white",
           "zerolinewidth": 2
          },
          "yaxis": {
           "automargin": true,
           "gridcolor": "white",
           "linecolor": "white",
           "ticks": "",
           "title": {
            "standoff": 15
           },
           "zerolinecolor": "white",
           "zerolinewidth": 2
          }
         }
        },
        "xaxis": {
         "anchor": "y",
         "domain": [
          0,
          1
         ],
         "title": {
          "text": "TOTAL_LIKES"
         }
        },
        "yaxis": {
         "anchor": "x",
         "domain": [
          0,
          1
         ],
         "title": {
          "text": "TOTAL_VISUALIZACOES"
         }
        }
       }
      }
     },
     "metadata": {},
     "output_type": "display_data"
    }
   ],
   "source": [
    "fig = px.scatter(base, x=coluna_analise, y='TOTAL_VISUALIZACOES', trendline='ols')\n",
    "fig.show()"
   ]
  },
  {
   "cell_type": "code",
   "execution_count": null,
   "metadata": {},
   "outputs": [
    {
     "data": {
      "text/html": [
       "<table class=\"simpletable\">\n",
       "<caption>OLS Regression Results</caption>\n",
       "<tr>\n",
       "  <th>Dep. Variable:</th>            <td>y</td>        <th>  R-squared:         </th> <td>   0.891</td>\n",
       "</tr>\n",
       "<tr>\n",
       "  <th>Model:</th>                   <td>OLS</td>       <th>  Adj. R-squared:    </th> <td>   0.890</td>\n",
       "</tr>\n",
       "<tr>\n",
       "  <th>Method:</th>             <td>Least Squares</td>  <th>  F-statistic:       </th> <td>   1646.</td>\n",
       "</tr>\n",
       "<tr>\n",
       "  <th>Date:</th>             <td>Sat, 03 Feb 2024</td> <th>  Prob (F-statistic):</th> <td>4.70e-99</td>\n",
       "</tr>\n",
       "<tr>\n",
       "  <th>Time:</th>                 <td>19:50:29</td>     <th>  Log-Likelihood:    </th> <td> -1755.2</td>\n",
       "</tr>\n",
       "<tr>\n",
       "  <th>No. Observations:</th>      <td>   204</td>      <th>  AIC:               </th> <td>   3514.</td>\n",
       "</tr>\n",
       "<tr>\n",
       "  <th>Df Residuals:</th>          <td>   202</td>      <th>  BIC:               </th> <td>   3521.</td>\n",
       "</tr>\n",
       "<tr>\n",
       "  <th>Df Model:</th>              <td>     1</td>      <th>                     </th>     <td> </td>   \n",
       "</tr>\n",
       "<tr>\n",
       "  <th>Covariance Type:</th>      <td>nonrobust</td>    <th>                     </th>     <td> </td>   \n",
       "</tr>\n",
       "</table>\n",
       "<table class=\"simpletable\">\n",
       "<tr>\n",
       "    <td></td>       <th>coef</th>     <th>std err</th>      <th>t</th>      <th>P>|t|</th>  <th>[0.025</th>    <th>0.975]</th>  \n",
       "</tr>\n",
       "<tr>\n",
       "  <th>const</th> <td> -367.9252</td> <td>  167.310</td> <td>   -2.199</td> <td> 0.029</td> <td> -697.823</td> <td>  -38.027</td>\n",
       "</tr>\n",
       "<tr>\n",
       "  <th>x1</th>    <td>   20.6339</td> <td>    0.509</td> <td>   40.573</td> <td> 0.000</td> <td>   19.631</td> <td>   21.637</td>\n",
       "</tr>\n",
       "</table>\n",
       "<table class=\"simpletable\">\n",
       "<tr>\n",
       "  <th>Omnibus:</th>       <td> 1.759</td> <th>  Durbin-Watson:     </th> <td>   1.905</td>\n",
       "</tr>\n",
       "<tr>\n",
       "  <th>Prob(Omnibus):</th> <td> 0.415</td> <th>  Jarque-Bera (JB):  </th> <td>   1.819</td>\n",
       "</tr>\n",
       "<tr>\n",
       "  <th>Skew:</th>          <td>-0.217</td> <th>  Prob(JB):          </th> <td>   0.403</td>\n",
       "</tr>\n",
       "<tr>\n",
       "  <th>Kurtosis:</th>      <td> 2.839</td> <th>  Cond. No.          </th> <td>    593.</td>\n",
       "</tr>\n",
       "</table><br/><br/>Notes:<br/>[1] Standard Errors assume that the covariance matrix of the errors is correctly specified."
      ],
      "text/latex": [
       "\\begin{center}\n",
       "\\begin{tabular}{lclc}\n",
       "\\toprule\n",
       "\\textbf{Dep. Variable:}    &        y         & \\textbf{  R-squared:         } &     0.891   \\\\\n",
       "\\textbf{Model:}            &       OLS        & \\textbf{  Adj. R-squared:    } &     0.890   \\\\\n",
       "\\textbf{Method:}           &  Least Squares   & \\textbf{  F-statistic:       } &     1646.   \\\\\n",
       "\\textbf{Date:}             & Sat, 03 Feb 2024 & \\textbf{  Prob (F-statistic):} &  4.70e-99   \\\\\n",
       "\\textbf{Time:}             &     19:50:29     & \\textbf{  Log-Likelihood:    } &   -1755.2   \\\\\n",
       "\\textbf{No. Observations:} &         204      & \\textbf{  AIC:               } &     3514.   \\\\\n",
       "\\textbf{Df Residuals:}     &         202      & \\textbf{  BIC:               } &     3521.   \\\\\n",
       "\\textbf{Df Model:}         &           1      & \\textbf{                     } &             \\\\\n",
       "\\textbf{Covariance Type:}  &    nonrobust     & \\textbf{                     } &             \\\\\n",
       "\\bottomrule\n",
       "\\end{tabular}\n",
       "\\begin{tabular}{lcccccc}\n",
       "               & \\textbf{coef} & \\textbf{std err} & \\textbf{t} & \\textbf{P$> |$t$|$} & \\textbf{[0.025} & \\textbf{0.975]}  \\\\\n",
       "\\midrule\n",
       "\\textbf{const} &    -367.9252  &      167.310     &    -2.199  &         0.029        &     -697.823    &      -38.027     \\\\\n",
       "\\textbf{x1}    &      20.6339  &        0.509     &    40.573  &         0.000        &       19.631    &       21.637     \\\\\n",
       "\\bottomrule\n",
       "\\end{tabular}\n",
       "\\begin{tabular}{lclc}\n",
       "\\textbf{Omnibus:}       &  1.759 & \\textbf{  Durbin-Watson:     } &    1.905  \\\\\n",
       "\\textbf{Prob(Omnibus):} &  0.415 & \\textbf{  Jarque-Bera (JB):  } &    1.819  \\\\\n",
       "\\textbf{Skew:}          & -0.217 & \\textbf{  Prob(JB):          } &    0.403  \\\\\n",
       "\\textbf{Kurtosis:}      &  2.839 & \\textbf{  Cond. No.          } &     593.  \\\\\n",
       "\\bottomrule\n",
       "\\end{tabular}\n",
       "%\\caption{OLS Regression Results}\n",
       "\\end{center}\n",
       "\n",
       "Notes: \\newline\n",
       " [1] Standard Errors assume that the covariance matrix of the errors is correctly specified."
      ],
      "text/plain": [
       "<class 'statsmodels.iolib.summary.Summary'>\n",
       "\"\"\"\n",
       "                            OLS Regression Results                            \n",
       "==============================================================================\n",
       "Dep. Variable:                      y   R-squared:                       0.891\n",
       "Model:                            OLS   Adj. R-squared:                  0.890\n",
       "Method:                 Least Squares   F-statistic:                     1646.\n",
       "Date:                Sat, 03 Feb 2024   Prob (F-statistic):           4.70e-99\n",
       "Time:                        19:50:29   Log-Likelihood:                -1755.2\n",
       "No. Observations:                 204   AIC:                             3514.\n",
       "Df Residuals:                     202   BIC:                             3521.\n",
       "Df Model:                           1                                         \n",
       "Covariance Type:            nonrobust                                         \n",
       "==============================================================================\n",
       "                 coef    std err          t      P>|t|      [0.025      0.975]\n",
       "------------------------------------------------------------------------------\n",
       "const       -367.9252    167.310     -2.199      0.029    -697.823     -38.027\n",
       "x1            20.6339      0.509     40.573      0.000      19.631      21.637\n",
       "==============================================================================\n",
       "Omnibus:                        1.759   Durbin-Watson:                   1.905\n",
       "Prob(Omnibus):                  0.415   Jarque-Bera (JB):                1.819\n",
       "Skew:                          -0.217   Prob(JB):                        0.403\n",
       "Kurtosis:                       2.839   Cond. No.                         593.\n",
       "==============================================================================\n",
       "\n",
       "Notes:\n",
       "[1] Standard Errors assume that the covariance matrix of the errors is correctly specified.\n",
       "\"\"\""
      ]
     },
     "execution_count": 499,
     "metadata": {},
     "output_type": "execute_result"
    }
   ],
   "source": [
    "results = px.get_trendline_results(fig)\n",
    "fit_results = results.iloc[0].px_fit_results.summary()\n",
    "fit_results"
   ]
  },
  {
   "cell_type": "markdown",
   "metadata": {},
   "source": [
    "- Vídeo"
   ]
  },
  {
   "cell_type": "code",
   "execution_count": null,
   "metadata": {},
   "outputs": [
    {
     "data": {
      "text/html": [
       "<div>\n",
       "<style scoped>\n",
       "    .dataframe tbody tr th:only-of-type {\n",
       "        vertical-align: middle;\n",
       "    }\n",
       "\n",
       "    .dataframe tbody tr th {\n",
       "        vertical-align: top;\n",
       "    }\n",
       "\n",
       "    .dataframe thead th {\n",
       "        text-align: right;\n",
       "    }\n",
       "</style>\n",
       "<table border=\"1\" class=\"dataframe\">\n",
       "  <thead>\n",
       "    <tr style=\"text-align: right;\">\n",
       "      <th></th>\n",
       "      <th>data_extracao</th>\n",
       "      <th>ASSUNTO</th>\n",
       "      <th>TOTAL_LIKES</th>\n",
       "      <th>ID_VIDEO</th>\n",
       "      <th>TOTAL_VISUALIZACOES</th>\n",
       "      <th>TURNO_EXTRACAO</th>\n",
       "    </tr>\n",
       "  </thead>\n",
       "  <tbody>\n",
       "    <tr>\n",
       "      <th>8611</th>\n",
       "      <td>2024-01-23</td>\n",
       "      <td>assunto_cities_skylines</td>\n",
       "      <td>609.0</td>\n",
       "      <td>38KqRAlHM2I</td>\n",
       "      <td>9882.0</td>\n",
       "      <td>Noite</td>\n",
       "    </tr>\n",
       "    <tr>\n",
       "      <th>8612</th>\n",
       "      <td>2024-01-23</td>\n",
       "      <td>assunto_cities_skylines</td>\n",
       "      <td>605.0</td>\n",
       "      <td>38KqRAlHM2I</td>\n",
       "      <td>9806.0</td>\n",
       "      <td>Tarde</td>\n",
       "    </tr>\n",
       "    <tr>\n",
       "      <th>8614</th>\n",
       "      <td>2024-01-23</td>\n",
       "      <td>assunto_cities_skylines</td>\n",
       "      <td>595.0</td>\n",
       "      <td>38KqRAlHM2I</td>\n",
       "      <td>9632.0</td>\n",
       "      <td>Manhã</td>\n",
       "    </tr>\n",
       "    <tr>\n",
       "      <th>9481</th>\n",
       "      <td>2024-01-22</td>\n",
       "      <td>assunto_cities_skylines</td>\n",
       "      <td>560.0</td>\n",
       "      <td>38KqRAlHM2I</td>\n",
       "      <td>8950.0</td>\n",
       "      <td>Noite</td>\n",
       "    </tr>\n",
       "    <tr>\n",
       "      <th>9483</th>\n",
       "      <td>2024-01-22</td>\n",
       "      <td>assunto_cities_skylines</td>\n",
       "      <td>521.0</td>\n",
       "      <td>38KqRAlHM2I</td>\n",
       "      <td>8649.0</td>\n",
       "      <td>Tarde</td>\n",
       "    </tr>\n",
       "  </tbody>\n",
       "</table>\n",
       "</div>"
      ],
      "text/plain": [
       "     data_extracao                  ASSUNTO  TOTAL_LIKES     ID_VIDEO  \\\n",
       "8611    2024-01-23  assunto_cities_skylines        609.0  38KqRAlHM2I   \n",
       "8612    2024-01-23  assunto_cities_skylines        605.0  38KqRAlHM2I   \n",
       "8614    2024-01-23  assunto_cities_skylines        595.0  38KqRAlHM2I   \n",
       "9481    2024-01-22  assunto_cities_skylines        560.0  38KqRAlHM2I   \n",
       "9483    2024-01-22  assunto_cities_skylines        521.0  38KqRAlHM2I   \n",
       "\n",
       "      TOTAL_VISUALIZACOES TURNO_EXTRACAO  \n",
       "8611               9882.0          Noite  \n",
       "8612               9806.0          Tarde  \n",
       "8614               9632.0          Manhã  \n",
       "9481               8950.0          Noite  \n",
       "9483               8649.0          Tarde  "
      ]
     },
     "execution_count": 500,
     "metadata": {},
     "output_type": "execute_result"
    }
   ],
   "source": [
    "coluna_analise = \"TOTAL_LIKES\"\n",
    "base = pd.read_parquet('../dados/ouro/dados_tratado_estatisticas_gerais.parquet', columns=['data_extracao','ASSUNTO',coluna_analise, 'ID_VIDEO', 'TOTAL_VISUALIZACOES', 'TURNO_EXTRACAO'])\n",
    "base = base.query( '  ASSUNTO == \"assunto_cities_skylines\"  and ID_VIDEO == \"38KqRAlHM2I\"')\n",
    "base['data_extracao'] = pd.to_datetime(base['data_extracao'])\n",
    "base['data_extracao'] = pd.to_datetime(base['data_extracao'])\n",
    "base['ASSUNTO'] = base['ASSUNTO'].astype('string')\n",
    "base['TURNO_EXTRACAO'] = base['TURNO_EXTRACAO'].astype('string')\n",
    "base['ID_VIDEO'] = base['ID_VIDEO'].astype('string')\n",
    "base.head()"
   ]
  },
  {
   "cell_type": "code",
   "execution_count": null,
   "metadata": {},
   "outputs": [
    {
     "data": {
      "application/vnd.plotly.v1+json": {
       "config": {
        "plotlyServerURL": "https://plot.ly"
       },
       "data": [
        {
         "hovertemplate": "TOTAL_LIKES=%{x}<br>TOTAL_VISUALIZACOES=%{y}<extra></extra>",
         "legendgroup": "",
         "marker": {
          "color": "#636efa",
          "symbol": "circle"
         },
         "mode": "markers",
         "name": "",
         "orientation": "v",
         "showlegend": false,
         "type": "scatter",
         "x": [
          609,
          605,
          595,
          560,
          521,
          509,
          83
         ],
         "xaxis": "x",
         "y": [
          9882,
          9806,
          9632,
          8950,
          8649,
          6637,
          64
         ],
         "yaxis": "y"
        },
        {
         "hovertemplate": "<b>OLS trendline</b><br>TOTAL_VISUALIZACOES = 18.6348 * TOTAL_LIKES + -1609.48<br>R<sup>2</sup>=0.974178<br><br>TOTAL_LIKES=%{x}<br>TOTAL_VISUALIZACOES=%{y} <b>(trend)</b><extra></extra>",
         "legendgroup": "",
         "marker": {
          "color": "#636efa",
          "symbol": "circle"
         },
         "mode": "lines",
         "name": "",
         "showlegend": false,
         "type": "scatter",
         "x": [
          83,
          509,
          521,
          560,
          595,
          605,
          609
         ],
         "xaxis": "x",
         "y": [
          -62.78829758996085,
          7875.631110687622,
          8099.248558808116,
          8826.005265199727,
          9478.222822217838,
          9664.570695651584,
          9739.109845025083
         ],
         "yaxis": "y"
        }
       ],
       "layout": {
        "legend": {
         "tracegroupgap": 0
        },
        "margin": {
         "t": 60
        },
        "template": {
         "data": {
          "bar": [
           {
            "error_x": {
             "color": "#2a3f5f"
            },
            "error_y": {
             "color": "#2a3f5f"
            },
            "marker": {
             "line": {
              "color": "#E5ECF6",
              "width": 0.5
             },
             "pattern": {
              "fillmode": "overlay",
              "size": 10,
              "solidity": 0.2
             }
            },
            "type": "bar"
           }
          ],
          "barpolar": [
           {
            "marker": {
             "line": {
              "color": "#E5ECF6",
              "width": 0.5
             },
             "pattern": {
              "fillmode": "overlay",
              "size": 10,
              "solidity": 0.2
             }
            },
            "type": "barpolar"
           }
          ],
          "carpet": [
           {
            "aaxis": {
             "endlinecolor": "#2a3f5f",
             "gridcolor": "white",
             "linecolor": "white",
             "minorgridcolor": "white",
             "startlinecolor": "#2a3f5f"
            },
            "baxis": {
             "endlinecolor": "#2a3f5f",
             "gridcolor": "white",
             "linecolor": "white",
             "minorgridcolor": "white",
             "startlinecolor": "#2a3f5f"
            },
            "type": "carpet"
           }
          ],
          "choropleth": [
           {
            "colorbar": {
             "outlinewidth": 0,
             "ticks": ""
            },
            "type": "choropleth"
           }
          ],
          "contour": [
           {
            "colorbar": {
             "outlinewidth": 0,
             "ticks": ""
            },
            "colorscale": [
             [
              0,
              "#0d0887"
             ],
             [
              0.1111111111111111,
              "#46039f"
             ],
             [
              0.2222222222222222,
              "#7201a8"
             ],
             [
              0.3333333333333333,
              "#9c179e"
             ],
             [
              0.4444444444444444,
              "#bd3786"
             ],
             [
              0.5555555555555556,
              "#d8576b"
             ],
             [
              0.6666666666666666,
              "#ed7953"
             ],
             [
              0.7777777777777778,
              "#fb9f3a"
             ],
             [
              0.8888888888888888,
              "#fdca26"
             ],
             [
              1,
              "#f0f921"
             ]
            ],
            "type": "contour"
           }
          ],
          "contourcarpet": [
           {
            "colorbar": {
             "outlinewidth": 0,
             "ticks": ""
            },
            "type": "contourcarpet"
           }
          ],
          "heatmap": [
           {
            "colorbar": {
             "outlinewidth": 0,
             "ticks": ""
            },
            "colorscale": [
             [
              0,
              "#0d0887"
             ],
             [
              0.1111111111111111,
              "#46039f"
             ],
             [
              0.2222222222222222,
              "#7201a8"
             ],
             [
              0.3333333333333333,
              "#9c179e"
             ],
             [
              0.4444444444444444,
              "#bd3786"
             ],
             [
              0.5555555555555556,
              "#d8576b"
             ],
             [
              0.6666666666666666,
              "#ed7953"
             ],
             [
              0.7777777777777778,
              "#fb9f3a"
             ],
             [
              0.8888888888888888,
              "#fdca26"
             ],
             [
              1,
              "#f0f921"
             ]
            ],
            "type": "heatmap"
           }
          ],
          "heatmapgl": [
           {
            "colorbar": {
             "outlinewidth": 0,
             "ticks": ""
            },
            "colorscale": [
             [
              0,
              "#0d0887"
             ],
             [
              0.1111111111111111,
              "#46039f"
             ],
             [
              0.2222222222222222,
              "#7201a8"
             ],
             [
              0.3333333333333333,
              "#9c179e"
             ],
             [
              0.4444444444444444,
              "#bd3786"
             ],
             [
              0.5555555555555556,
              "#d8576b"
             ],
             [
              0.6666666666666666,
              "#ed7953"
             ],
             [
              0.7777777777777778,
              "#fb9f3a"
             ],
             [
              0.8888888888888888,
              "#fdca26"
             ],
             [
              1,
              "#f0f921"
             ]
            ],
            "type": "heatmapgl"
           }
          ],
          "histogram": [
           {
            "marker": {
             "pattern": {
              "fillmode": "overlay",
              "size": 10,
              "solidity": 0.2
             }
            },
            "type": "histogram"
           }
          ],
          "histogram2d": [
           {
            "colorbar": {
             "outlinewidth": 0,
             "ticks": ""
            },
            "colorscale": [
             [
              0,
              "#0d0887"
             ],
             [
              0.1111111111111111,
              "#46039f"
             ],
             [
              0.2222222222222222,
              "#7201a8"
             ],
             [
              0.3333333333333333,
              "#9c179e"
             ],
             [
              0.4444444444444444,
              "#bd3786"
             ],
             [
              0.5555555555555556,
              "#d8576b"
             ],
             [
              0.6666666666666666,
              "#ed7953"
             ],
             [
              0.7777777777777778,
              "#fb9f3a"
             ],
             [
              0.8888888888888888,
              "#fdca26"
             ],
             [
              1,
              "#f0f921"
             ]
            ],
            "type": "histogram2d"
           }
          ],
          "histogram2dcontour": [
           {
            "colorbar": {
             "outlinewidth": 0,
             "ticks": ""
            },
            "colorscale": [
             [
              0,
              "#0d0887"
             ],
             [
              0.1111111111111111,
              "#46039f"
             ],
             [
              0.2222222222222222,
              "#7201a8"
             ],
             [
              0.3333333333333333,
              "#9c179e"
             ],
             [
              0.4444444444444444,
              "#bd3786"
             ],
             [
              0.5555555555555556,
              "#d8576b"
             ],
             [
              0.6666666666666666,
              "#ed7953"
             ],
             [
              0.7777777777777778,
              "#fb9f3a"
             ],
             [
              0.8888888888888888,
              "#fdca26"
             ],
             [
              1,
              "#f0f921"
             ]
            ],
            "type": "histogram2dcontour"
           }
          ],
          "mesh3d": [
           {
            "colorbar": {
             "outlinewidth": 0,
             "ticks": ""
            },
            "type": "mesh3d"
           }
          ],
          "parcoords": [
           {
            "line": {
             "colorbar": {
              "outlinewidth": 0,
              "ticks": ""
             }
            },
            "type": "parcoords"
           }
          ],
          "pie": [
           {
            "automargin": true,
            "type": "pie"
           }
          ],
          "scatter": [
           {
            "fillpattern": {
             "fillmode": "overlay",
             "size": 10,
             "solidity": 0.2
            },
            "type": "scatter"
           }
          ],
          "scatter3d": [
           {
            "line": {
             "colorbar": {
              "outlinewidth": 0,
              "ticks": ""
             }
            },
            "marker": {
             "colorbar": {
              "outlinewidth": 0,
              "ticks": ""
             }
            },
            "type": "scatter3d"
           }
          ],
          "scattercarpet": [
           {
            "marker": {
             "colorbar": {
              "outlinewidth": 0,
              "ticks": ""
             }
            },
            "type": "scattercarpet"
           }
          ],
          "scattergeo": [
           {
            "marker": {
             "colorbar": {
              "outlinewidth": 0,
              "ticks": ""
             }
            },
            "type": "scattergeo"
           }
          ],
          "scattergl": [
           {
            "marker": {
             "colorbar": {
              "outlinewidth": 0,
              "ticks": ""
             }
            },
            "type": "scattergl"
           }
          ],
          "scattermapbox": [
           {
            "marker": {
             "colorbar": {
              "outlinewidth": 0,
              "ticks": ""
             }
            },
            "type": "scattermapbox"
           }
          ],
          "scatterpolar": [
           {
            "marker": {
             "colorbar": {
              "outlinewidth": 0,
              "ticks": ""
             }
            },
            "type": "scatterpolar"
           }
          ],
          "scatterpolargl": [
           {
            "marker": {
             "colorbar": {
              "outlinewidth": 0,
              "ticks": ""
             }
            },
            "type": "scatterpolargl"
           }
          ],
          "scatterternary": [
           {
            "marker": {
             "colorbar": {
              "outlinewidth": 0,
              "ticks": ""
             }
            },
            "type": "scatterternary"
           }
          ],
          "surface": [
           {
            "colorbar": {
             "outlinewidth": 0,
             "ticks": ""
            },
            "colorscale": [
             [
              0,
              "#0d0887"
             ],
             [
              0.1111111111111111,
              "#46039f"
             ],
             [
              0.2222222222222222,
              "#7201a8"
             ],
             [
              0.3333333333333333,
              "#9c179e"
             ],
             [
              0.4444444444444444,
              "#bd3786"
             ],
             [
              0.5555555555555556,
              "#d8576b"
             ],
             [
              0.6666666666666666,
              "#ed7953"
             ],
             [
              0.7777777777777778,
              "#fb9f3a"
             ],
             [
              0.8888888888888888,
              "#fdca26"
             ],
             [
              1,
              "#f0f921"
             ]
            ],
            "type": "surface"
           }
          ],
          "table": [
           {
            "cells": {
             "fill": {
              "color": "#EBF0F8"
             },
             "line": {
              "color": "white"
             }
            },
            "header": {
             "fill": {
              "color": "#C8D4E3"
             },
             "line": {
              "color": "white"
             }
            },
            "type": "table"
           }
          ]
         },
         "layout": {
          "annotationdefaults": {
           "arrowcolor": "#2a3f5f",
           "arrowhead": 0,
           "arrowwidth": 1
          },
          "autotypenumbers": "strict",
          "coloraxis": {
           "colorbar": {
            "outlinewidth": 0,
            "ticks": ""
           }
          },
          "colorscale": {
           "diverging": [
            [
             0,
             "#8e0152"
            ],
            [
             0.1,
             "#c51b7d"
            ],
            [
             0.2,
             "#de77ae"
            ],
            [
             0.3,
             "#f1b6da"
            ],
            [
             0.4,
             "#fde0ef"
            ],
            [
             0.5,
             "#f7f7f7"
            ],
            [
             0.6,
             "#e6f5d0"
            ],
            [
             0.7,
             "#b8e186"
            ],
            [
             0.8,
             "#7fbc41"
            ],
            [
             0.9,
             "#4d9221"
            ],
            [
             1,
             "#276419"
            ]
           ],
           "sequential": [
            [
             0,
             "#0d0887"
            ],
            [
             0.1111111111111111,
             "#46039f"
            ],
            [
             0.2222222222222222,
             "#7201a8"
            ],
            [
             0.3333333333333333,
             "#9c179e"
            ],
            [
             0.4444444444444444,
             "#bd3786"
            ],
            [
             0.5555555555555556,
             "#d8576b"
            ],
            [
             0.6666666666666666,
             "#ed7953"
            ],
            [
             0.7777777777777778,
             "#fb9f3a"
            ],
            [
             0.8888888888888888,
             "#fdca26"
            ],
            [
             1,
             "#f0f921"
            ]
           ],
           "sequentialminus": [
            [
             0,
             "#0d0887"
            ],
            [
             0.1111111111111111,
             "#46039f"
            ],
            [
             0.2222222222222222,
             "#7201a8"
            ],
            [
             0.3333333333333333,
             "#9c179e"
            ],
            [
             0.4444444444444444,
             "#bd3786"
            ],
            [
             0.5555555555555556,
             "#d8576b"
            ],
            [
             0.6666666666666666,
             "#ed7953"
            ],
            [
             0.7777777777777778,
             "#fb9f3a"
            ],
            [
             0.8888888888888888,
             "#fdca26"
            ],
            [
             1,
             "#f0f921"
            ]
           ]
          },
          "colorway": [
           "#636efa",
           "#EF553B",
           "#00cc96",
           "#ab63fa",
           "#FFA15A",
           "#19d3f3",
           "#FF6692",
           "#B6E880",
           "#FF97FF",
           "#FECB52"
          ],
          "font": {
           "color": "#2a3f5f"
          },
          "geo": {
           "bgcolor": "white",
           "lakecolor": "white",
           "landcolor": "#E5ECF6",
           "showlakes": true,
           "showland": true,
           "subunitcolor": "white"
          },
          "hoverlabel": {
           "align": "left"
          },
          "hovermode": "closest",
          "mapbox": {
           "style": "light"
          },
          "paper_bgcolor": "white",
          "plot_bgcolor": "#E5ECF6",
          "polar": {
           "angularaxis": {
            "gridcolor": "white",
            "linecolor": "white",
            "ticks": ""
           },
           "bgcolor": "#E5ECF6",
           "radialaxis": {
            "gridcolor": "white",
            "linecolor": "white",
            "ticks": ""
           }
          },
          "scene": {
           "xaxis": {
            "backgroundcolor": "#E5ECF6",
            "gridcolor": "white",
            "gridwidth": 2,
            "linecolor": "white",
            "showbackground": true,
            "ticks": "",
            "zerolinecolor": "white"
           },
           "yaxis": {
            "backgroundcolor": "#E5ECF6",
            "gridcolor": "white",
            "gridwidth": 2,
            "linecolor": "white",
            "showbackground": true,
            "ticks": "",
            "zerolinecolor": "white"
           },
           "zaxis": {
            "backgroundcolor": "#E5ECF6",
            "gridcolor": "white",
            "gridwidth": 2,
            "linecolor": "white",
            "showbackground": true,
            "ticks": "",
            "zerolinecolor": "white"
           }
          },
          "shapedefaults": {
           "line": {
            "color": "#2a3f5f"
           }
          },
          "ternary": {
           "aaxis": {
            "gridcolor": "white",
            "linecolor": "white",
            "ticks": ""
           },
           "baxis": {
            "gridcolor": "white",
            "linecolor": "white",
            "ticks": ""
           },
           "bgcolor": "#E5ECF6",
           "caxis": {
            "gridcolor": "white",
            "linecolor": "white",
            "ticks": ""
           }
          },
          "title": {
           "x": 0.05
          },
          "xaxis": {
           "automargin": true,
           "gridcolor": "white",
           "linecolor": "white",
           "ticks": "",
           "title": {
            "standoff": 15
           },
           "zerolinecolor": "white",
           "zerolinewidth": 2
          },
          "yaxis": {
           "automargin": true,
           "gridcolor": "white",
           "linecolor": "white",
           "ticks": "",
           "title": {
            "standoff": 15
           },
           "zerolinecolor": "white",
           "zerolinewidth": 2
          }
         }
        },
        "xaxis": {
         "anchor": "y",
         "domain": [
          0,
          1
         ],
         "title": {
          "text": "TOTAL_LIKES"
         }
        },
        "yaxis": {
         "anchor": "x",
         "domain": [
          0,
          1
         ],
         "title": {
          "text": "TOTAL_VISUALIZACOES"
         }
        }
       }
      }
     },
     "metadata": {},
     "output_type": "display_data"
    }
   ],
   "source": [
    "fig = px.scatter(base, x=coluna_analise, y='TOTAL_VISUALIZACOES', trendline='ols')\n",
    "fig.show()"
   ]
  },
  {
   "cell_type": "code",
   "execution_count": null,
   "metadata": {},
   "outputs": [
    {
     "name": "stderr",
     "output_type": "stream",
     "text": [
      "/home/rodrigo/Documentos/projetos/analise_dados_youtube/venv/lib/python3.10/site-packages/statsmodels/stats/stattools.py:74: ValueWarning:\n",
      "\n",
      "omni_normtest is not valid with less than 8 observations; 7 samples were given.\n",
      "\n"
     ]
    },
    {
     "data": {
      "text/html": [
       "<table class=\"simpletable\">\n",
       "<caption>OLS Regression Results</caption>\n",
       "<tr>\n",
       "  <th>Dep. Variable:</th>            <td>y</td>        <th>  R-squared:         </th> <td>   0.974</td>\n",
       "</tr>\n",
       "<tr>\n",
       "  <th>Model:</th>                   <td>OLS</td>       <th>  Adj. R-squared:    </th> <td>   0.969</td>\n",
       "</tr>\n",
       "<tr>\n",
       "  <th>Method:</th>             <td>Least Squares</td>  <th>  F-statistic:       </th> <td>   188.6</td>\n",
       "</tr>\n",
       "<tr>\n",
       "  <th>Date:</th>             <td>Sat, 03 Feb 2024</td> <th>  Prob (F-statistic):</th> <td>3.67e-05</td>\n",
       "</tr>\n",
       "<tr>\n",
       "  <th>Time:</th>                 <td>19:50:30</td>     <th>  Log-Likelihood:    </th> <td> -53.781</td>\n",
       "</tr>\n",
       "<tr>\n",
       "  <th>No. Observations:</th>      <td>     7</td>      <th>  AIC:               </th> <td>   111.6</td>\n",
       "</tr>\n",
       "<tr>\n",
       "  <th>Df Residuals:</th>          <td>     5</td>      <th>  BIC:               </th> <td>   111.5</td>\n",
       "</tr>\n",
       "<tr>\n",
       "  <th>Df Model:</th>              <td>     1</td>      <th>                     </th>     <td> </td>   \n",
       "</tr>\n",
       "<tr>\n",
       "  <th>Covariance Type:</th>      <td>nonrobust</td>    <th>                     </th>     <td> </td>   \n",
       "</tr>\n",
       "</table>\n",
       "<table class=\"simpletable\">\n",
       "<tr>\n",
       "    <td></td>       <th>coef</th>     <th>std err</th>      <th>t</th>      <th>P>|t|</th>  <th>[0.025</th>    <th>0.975]</th>  \n",
       "</tr>\n",
       "<tr>\n",
       "  <th>const</th> <td>-1609.4756</td> <td>  714.629</td> <td>   -2.252</td> <td> 0.074</td> <td>-3446.487</td> <td>  227.536</td>\n",
       "</tr>\n",
       "<tr>\n",
       "  <th>x1</th>    <td>   18.6348</td> <td>    1.357</td> <td>   13.735</td> <td> 0.000</td> <td>   15.147</td> <td>   22.123</td>\n",
       "</tr>\n",
       "</table>\n",
       "<table class=\"simpletable\">\n",
       "<tr>\n",
       "  <th>Omnibus:</th>       <td>   nan</td> <th>  Durbin-Watson:     </th> <td>   2.715</td>\n",
       "</tr>\n",
       "<tr>\n",
       "  <th>Prob(Omnibus):</th> <td>   nan</td> <th>  Jarque-Bera (JB):  </th> <td>   4.090</td>\n",
       "</tr>\n",
       "<tr>\n",
       "  <th>Skew:</th>          <td>-1.695</td> <th>  Prob(JB):          </th> <td>   0.129</td>\n",
       "</tr>\n",
       "<tr>\n",
       "  <th>Kurtosis:</th>      <td> 4.589</td> <th>  Cond. No.          </th> <td>1.60e+03</td>\n",
       "</tr>\n",
       "</table><br/><br/>Notes:<br/>[1] Standard Errors assume that the covariance matrix of the errors is correctly specified.<br/>[2] The condition number is large, 1.6e+03. This might indicate that there are<br/>strong multicollinearity or other numerical problems."
      ],
      "text/latex": [
       "\\begin{center}\n",
       "\\begin{tabular}{lclc}\n",
       "\\toprule\n",
       "\\textbf{Dep. Variable:}    &        y         & \\textbf{  R-squared:         } &     0.974   \\\\\n",
       "\\textbf{Model:}            &       OLS        & \\textbf{  Adj. R-squared:    } &     0.969   \\\\\n",
       "\\textbf{Method:}           &  Least Squares   & \\textbf{  F-statistic:       } &     188.6   \\\\\n",
       "\\textbf{Date:}             & Sat, 03 Feb 2024 & \\textbf{  Prob (F-statistic):} &  3.67e-05   \\\\\n",
       "\\textbf{Time:}             &     19:50:30     & \\textbf{  Log-Likelihood:    } &   -53.781   \\\\\n",
       "\\textbf{No. Observations:} &           7      & \\textbf{  AIC:               } &     111.6   \\\\\n",
       "\\textbf{Df Residuals:}     &           5      & \\textbf{  BIC:               } &     111.5   \\\\\n",
       "\\textbf{Df Model:}         &           1      & \\textbf{                     } &             \\\\\n",
       "\\textbf{Covariance Type:}  &    nonrobust     & \\textbf{                     } &             \\\\\n",
       "\\bottomrule\n",
       "\\end{tabular}\n",
       "\\begin{tabular}{lcccccc}\n",
       "               & \\textbf{coef} & \\textbf{std err} & \\textbf{t} & \\textbf{P$> |$t$|$} & \\textbf{[0.025} & \\textbf{0.975]}  \\\\\n",
       "\\midrule\n",
       "\\textbf{const} &   -1609.4756  &      714.629     &    -2.252  &         0.074        &    -3446.487    &      227.536     \\\\\n",
       "\\textbf{x1}    &      18.6348  &        1.357     &    13.735  &         0.000        &       15.147    &       22.123     \\\\\n",
       "\\bottomrule\n",
       "\\end{tabular}\n",
       "\\begin{tabular}{lclc}\n",
       "\\textbf{Omnibus:}       &    nan & \\textbf{  Durbin-Watson:     } &    2.715  \\\\\n",
       "\\textbf{Prob(Omnibus):} &    nan & \\textbf{  Jarque-Bera (JB):  } &    4.090  \\\\\n",
       "\\textbf{Skew:}          & -1.695 & \\textbf{  Prob(JB):          } &    0.129  \\\\\n",
       "\\textbf{Kurtosis:}      &  4.589 & \\textbf{  Cond. No.          } & 1.60e+03  \\\\\n",
       "\\bottomrule\n",
       "\\end{tabular}\n",
       "%\\caption{OLS Regression Results}\n",
       "\\end{center}\n",
       "\n",
       "Notes: \\newline\n",
       " [1] Standard Errors assume that the covariance matrix of the errors is correctly specified. \\newline\n",
       " [2] The condition number is large, 1.6e+03. This might indicate that there are \\newline\n",
       " strong multicollinearity or other numerical problems."
      ],
      "text/plain": [
       "<class 'statsmodels.iolib.summary.Summary'>\n",
       "\"\"\"\n",
       "                            OLS Regression Results                            \n",
       "==============================================================================\n",
       "Dep. Variable:                      y   R-squared:                       0.974\n",
       "Model:                            OLS   Adj. R-squared:                  0.969\n",
       "Method:                 Least Squares   F-statistic:                     188.6\n",
       "Date:                Sat, 03 Feb 2024   Prob (F-statistic):           3.67e-05\n",
       "Time:                        19:50:30   Log-Likelihood:                -53.781\n",
       "No. Observations:                   7   AIC:                             111.6\n",
       "Df Residuals:                       5   BIC:                             111.5\n",
       "Df Model:                           1                                         \n",
       "Covariance Type:            nonrobust                                         \n",
       "==============================================================================\n",
       "                 coef    std err          t      P>|t|      [0.025      0.975]\n",
       "------------------------------------------------------------------------------\n",
       "const      -1609.4756    714.629     -2.252      0.074   -3446.487     227.536\n",
       "x1            18.6348      1.357     13.735      0.000      15.147      22.123\n",
       "==============================================================================\n",
       "Omnibus:                          nan   Durbin-Watson:                   2.715\n",
       "Prob(Omnibus):                    nan   Jarque-Bera (JB):                4.090\n",
       "Skew:                          -1.695   Prob(JB):                        0.129\n",
       "Kurtosis:                       4.589   Cond. No.                     1.60e+03\n",
       "==============================================================================\n",
       "\n",
       "Notes:\n",
       "[1] Standard Errors assume that the covariance matrix of the errors is correctly specified.\n",
       "[2] The condition number is large, 1.6e+03. This might indicate that there are\n",
       "strong multicollinearity or other numerical problems.\n",
       "\"\"\""
      ]
     },
     "execution_count": 502,
     "metadata": {},
     "output_type": "execute_result"
    }
   ],
   "source": [
    "results = px.get_trendline_results(fig)\n",
    "fit_results = results.iloc[0].px_fit_results.summary()\n",
    "fit_results"
   ]
  },
  {
   "cell_type": "markdown",
   "metadata": {},
   "source": [
    "# Desempenho do canal por dia (selecionando canal )"
   ]
  },
  {
   "cell_type": "code",
   "execution_count": 16,
   "metadata": {},
   "outputs": [
    {
     "data": {
      "text/plain": [
       "Index(['ASSUNTO', 'data_extracao', 'DATA_PUBLICACAO', 'ID_CANAL', 'NM_CANAL',\n",
       "       'ID_CATEGORIA', 'ID_VIDEO', 'TITULO_VIDEO', 'DESCRICAO', 'TAGS',\n",
       "       'DURACAO_VIDEOS', 'TOTAL_VISUALIZACOES', 'TOTAL_LIKES',\n",
       "       'TOTAL_FAVORITOS', 'TOTAL_COMENTARIOS', 'data_hora_extracao',\n",
       "       'DURACAO_VIDEO_MINUTOS', 'TOTAL_CARACTERE_VIDEO', 'TOTAL_TAGS',\n",
       "       'HORA_EXTRACAO', 'TURNO_EXTRACAO', 'INDICE_TURNO_EXTRACAO'],\n",
       "      dtype='object')"
      ]
     },
     "execution_count": 16,
     "metadata": {},
     "output_type": "execute_result"
    }
   ],
   "source": [
    "base_completa.columns"
   ]
  },
  {
   "cell_type": "code",
   "execution_count": 32,
   "metadata": {},
   "outputs": [],
   "source": [
    "metrica = 'TOTAL_VISUALIZACOES'\n",
    "colunas = ['ID_CANAL', 'NM_CANAL', 'data_extracao', 'ID_VIDEO', 'TITULO_VIDEO', 'TURNO_EXTRACAO', metrica, 'INDICE_TURNO_EXTRACAO']"
   ]
  },
  {
   "cell_type": "code",
   "execution_count": 33,
   "metadata": {},
   "outputs": [],
   "source": [
    "lista_canais = [\"UCe9jrI0YQ5SM6h5QRZ9FZlA\"]"
   ]
  },
  {
   "cell_type": "code",
   "execution_count": 34,
   "metadata": {},
   "outputs": [
    {
     "data": {
      "text/html": [
       "<div>\n",
       "<style scoped>\n",
       "    .dataframe tbody tr th:only-of-type {\n",
       "        vertical-align: middle;\n",
       "    }\n",
       "\n",
       "    .dataframe tbody tr th {\n",
       "        vertical-align: top;\n",
       "    }\n",
       "\n",
       "    .dataframe thead th {\n",
       "        text-align: right;\n",
       "    }\n",
       "</style>\n",
       "<table border=\"1\" class=\"dataframe\">\n",
       "  <thead>\n",
       "    <tr style=\"text-align: right;\">\n",
       "      <th></th>\n",
       "      <th>ID_CANAL</th>\n",
       "      <th>NM_CANAL</th>\n",
       "      <th>data_extracao</th>\n",
       "      <th>ID_VIDEO</th>\n",
       "      <th>TITULO_VIDEO</th>\n",
       "      <th>TURNO_EXTRACAO</th>\n",
       "      <th>TOTAL_VISUALIZACOES</th>\n",
       "      <th>INDICE_TURNO_EXTRACAO</th>\n",
       "    </tr>\n",
       "  </thead>\n",
       "  <tbody>\n",
       "    <tr>\n",
       "      <th>12030</th>\n",
       "      <td>UCe9jrI0YQ5SM6h5QRZ9FZlA</td>\n",
       "      <td>Barbosa Cities</td>\n",
       "      <td>2024-01-17</td>\n",
       "      <td>tbBIq2RY3Yc</td>\n",
       "      <td>#RIVIERA 34 | ÁREA DE PROCESSAMENTO DA FAZENDA...</td>\n",
       "      <td>Manhã</td>\n",
       "      <td>346</td>\n",
       "      <td>1</td>\n",
       "    </tr>\n",
       "    <tr>\n",
       "      <th>12034</th>\n",
       "      <td>UCe9jrI0YQ5SM6h5QRZ9FZlA</td>\n",
       "      <td>Barbosa Cities</td>\n",
       "      <td>2024-01-17</td>\n",
       "      <td>tbBIq2RY3Yc</td>\n",
       "      <td>#RIVIERA 34 | ÁREA DE PROCESSAMENTO DA FAZENDA...</td>\n",
       "      <td>Tarde</td>\n",
       "      <td>1733</td>\n",
       "      <td>2</td>\n",
       "    </tr>\n",
       "    <tr>\n",
       "      <th>12032</th>\n",
       "      <td>UCe9jrI0YQ5SM6h5QRZ9FZlA</td>\n",
       "      <td>Barbosa Cities</td>\n",
       "      <td>2024-01-17</td>\n",
       "      <td>tbBIq2RY3Yc</td>\n",
       "      <td>#RIVIERA 34 | ÁREA DE PROCESSAMENTO DA FAZENDA...</td>\n",
       "      <td>Noite</td>\n",
       "      <td>2571</td>\n",
       "      <td>3</td>\n",
       "    </tr>\n",
       "    <tr>\n",
       "      <th>12033</th>\n",
       "      <td>UCe9jrI0YQ5SM6h5QRZ9FZlA</td>\n",
       "      <td>Barbosa Cities</td>\n",
       "      <td>2024-01-17</td>\n",
       "      <td>tbBIq2RY3Yc</td>\n",
       "      <td>#RIVIERA 34 | ÁREA DE PROCESSAMENTO DA FAZENDA...</td>\n",
       "      <td>Noite</td>\n",
       "      <td>2540</td>\n",
       "      <td>3</td>\n",
       "    </tr>\n",
       "    <tr>\n",
       "      <th>11662</th>\n",
       "      <td>UCe9jrI0YQ5SM6h5QRZ9FZlA</td>\n",
       "      <td>Barbosa Cities</td>\n",
       "      <td>2024-01-18</td>\n",
       "      <td>tbBIq2RY3Yc</td>\n",
       "      <td>#RIVIERA 34 | ÁREA DE PROCESSAMENTO DA FAZENDA...</td>\n",
       "      <td>Manhã</td>\n",
       "      <td>3393</td>\n",
       "      <td>1</td>\n",
       "    </tr>\n",
       "    <tr>\n",
       "      <th>...</th>\n",
       "      <td>...</td>\n",
       "      <td>...</td>\n",
       "      <td>...</td>\n",
       "      <td>...</td>\n",
       "      <td>...</td>\n",
       "      <td>...</td>\n",
       "      <td>...</td>\n",
       "      <td>...</td>\n",
       "    </tr>\n",
       "    <tr>\n",
       "      <th>8622</th>\n",
       "      <td>UCe9jrI0YQ5SM6h5QRZ9FZlA</td>\n",
       "      <td>Barbosa Cities</td>\n",
       "      <td>2024-01-23</td>\n",
       "      <td>Q-wLBZ9OI1o</td>\n",
       "      <td>CS2 #32 | BAIRRO INTEIRO PARA TENTAR ATENDER D...</td>\n",
       "      <td>Noite</td>\n",
       "      <td>8312</td>\n",
       "      <td>3</td>\n",
       "    </tr>\n",
       "    <tr>\n",
       "      <th>8662</th>\n",
       "      <td>UCe9jrI0YQ5SM6h5QRZ9FZlA</td>\n",
       "      <td>Barbosa Cities</td>\n",
       "      <td>2024-01-23</td>\n",
       "      <td>rWNkkdnEyng</td>\n",
       "      <td>CS2 #33 | GERANDO EMPREGO COM INDÚSTRIA MINERA...</td>\n",
       "      <td>Noite</td>\n",
       "      <td>6186</td>\n",
       "      <td>3</td>\n",
       "    </tr>\n",
       "    <tr>\n",
       "      <th>8688</th>\n",
       "      <td>UCe9jrI0YQ5SM6h5QRZ9FZlA</td>\n",
       "      <td>Barbosa Cities</td>\n",
       "      <td>2024-01-23</td>\n",
       "      <td>tbBIq2RY3Yc</td>\n",
       "      <td>#RIVIERA 34 | ÁREA DE PROCESSAMENTO DA FAZENDA...</td>\n",
       "      <td>Noite</td>\n",
       "      <td>4767</td>\n",
       "      <td>3</td>\n",
       "    </tr>\n",
       "    <tr>\n",
       "      <th>9154</th>\n",
       "      <td>UCe9jrI0YQ5SM6h5QRZ9FZlA</td>\n",
       "      <td>Barbosa Cities</td>\n",
       "      <td>2024-01-23</td>\n",
       "      <td>Q-wLBZ9OI1o</td>\n",
       "      <td>CS2 #32 | BAIRRO INTEIRO PARA TENTAR ATENDER D...</td>\n",
       "      <td>Noite</td>\n",
       "      <td>8312</td>\n",
       "      <td>3</td>\n",
       "    </tr>\n",
       "    <tr>\n",
       "      <th>9189</th>\n",
       "      <td>UCe9jrI0YQ5SM6h5QRZ9FZlA</td>\n",
       "      <td>Barbosa Cities</td>\n",
       "      <td>2024-01-23</td>\n",
       "      <td>rWNkkdnEyng</td>\n",
       "      <td>CS2 #33 | GERANDO EMPREGO COM INDÚSTRIA MINERA...</td>\n",
       "      <td>Noite</td>\n",
       "      <td>6186</td>\n",
       "      <td>3</td>\n",
       "    </tr>\n",
       "  </tbody>\n",
       "</table>\n",
       "<p>68 rows × 8 columns</p>\n",
       "</div>"
      ],
      "text/plain": [
       "                       ID_CANAL        NM_CANAL data_extracao     ID_VIDEO  \\\n",
       "12030  UCe9jrI0YQ5SM6h5QRZ9FZlA  Barbosa Cities    2024-01-17  tbBIq2RY3Yc   \n",
       "12034  UCe9jrI0YQ5SM6h5QRZ9FZlA  Barbosa Cities    2024-01-17  tbBIq2RY3Yc   \n",
       "12032  UCe9jrI0YQ5SM6h5QRZ9FZlA  Barbosa Cities    2024-01-17  tbBIq2RY3Yc   \n",
       "12033  UCe9jrI0YQ5SM6h5QRZ9FZlA  Barbosa Cities    2024-01-17  tbBIq2RY3Yc   \n",
       "11662  UCe9jrI0YQ5SM6h5QRZ9FZlA  Barbosa Cities    2024-01-18  tbBIq2RY3Yc   \n",
       "...                         ...             ...           ...          ...   \n",
       "8622   UCe9jrI0YQ5SM6h5QRZ9FZlA  Barbosa Cities    2024-01-23  Q-wLBZ9OI1o   \n",
       "8662   UCe9jrI0YQ5SM6h5QRZ9FZlA  Barbosa Cities    2024-01-23  rWNkkdnEyng   \n",
       "8688   UCe9jrI0YQ5SM6h5QRZ9FZlA  Barbosa Cities    2024-01-23  tbBIq2RY3Yc   \n",
       "9154   UCe9jrI0YQ5SM6h5QRZ9FZlA  Barbosa Cities    2024-01-23  Q-wLBZ9OI1o   \n",
       "9189   UCe9jrI0YQ5SM6h5QRZ9FZlA  Barbosa Cities    2024-01-23  rWNkkdnEyng   \n",
       "\n",
       "                                            TITULO_VIDEO TURNO_EXTRACAO  \\\n",
       "12030  #RIVIERA 34 | ÁREA DE PROCESSAMENTO DA FAZENDA...          Manhã   \n",
       "12034  #RIVIERA 34 | ÁREA DE PROCESSAMENTO DA FAZENDA...          Tarde   \n",
       "12032  #RIVIERA 34 | ÁREA DE PROCESSAMENTO DA FAZENDA...          Noite   \n",
       "12033  #RIVIERA 34 | ÁREA DE PROCESSAMENTO DA FAZENDA...          Noite   \n",
       "11662  #RIVIERA 34 | ÁREA DE PROCESSAMENTO DA FAZENDA...          Manhã   \n",
       "...                                                  ...            ...   \n",
       "8622   CS2 #32 | BAIRRO INTEIRO PARA TENTAR ATENDER D...          Noite   \n",
       "8662   CS2 #33 | GERANDO EMPREGO COM INDÚSTRIA MINERA...          Noite   \n",
       "8688   #RIVIERA 34 | ÁREA DE PROCESSAMENTO DA FAZENDA...          Noite   \n",
       "9154   CS2 #32 | BAIRRO INTEIRO PARA TENTAR ATENDER D...          Noite   \n",
       "9189   CS2 #33 | GERANDO EMPREGO COM INDÚSTRIA MINERA...          Noite   \n",
       "\n",
       "       TOTAL_VISUALIZACOES  INDICE_TURNO_EXTRACAO  \n",
       "12030                  346                      1  \n",
       "12034                 1733                      2  \n",
       "12032                 2571                      3  \n",
       "12033                 2540                      3  \n",
       "11662                 3393                      1  \n",
       "...                    ...                    ...  \n",
       "8622                  8312                      3  \n",
       "8662                  6186                      3  \n",
       "8688                  4767                      3  \n",
       "9154                  8312                      3  \n",
       "9189                  6186                      3  \n",
       "\n",
       "[68 rows x 8 columns]"
      ]
     },
     "execution_count": 34,
     "metadata": {},
     "output_type": "execute_result"
    }
   ],
   "source": [
    "base_canal = pd.read_parquet('../dados/ouro/dados_tratado_estatisticas_gerais.parquet', columns=colunas)\n",
    "base_canal = base_canal.query(f'ID_CANAL in {lista_canais}')\n",
    "base_canal.sort_values(by=['data_extracao', 'INDICE_TURNO_EXTRACAO', 'NM_CANAL'])"
   ]
  },
  {
   "cell_type": "code",
   "execution_count": 35,
   "metadata": {},
   "outputs": [
    {
     "name": "stdout",
     "output_type": "stream",
     "text": [
      "<class 'pandas.core.frame.DataFrame'>\n",
      "Index: 68 entries, 8622 to 12034\n",
      "Data columns (total 8 columns):\n",
      " #   Column                 Non-Null Count  Dtype \n",
      "---  ------                 --------------  ----- \n",
      " 0   ID_CANAL               68 non-null     string\n",
      " 1   NM_CANAL               68 non-null     string\n",
      " 2   data_extracao          68 non-null     object\n",
      " 3   ID_VIDEO               68 non-null     string\n",
      " 4   TITULO_VIDEO           68 non-null     string\n",
      " 5   TURNO_EXTRACAO         68 non-null     string\n",
      " 6   TOTAL_VISUALIZACOES    68 non-null     int32 \n",
      " 7   INDICE_TURNO_EXTRACAO  68 non-null     int32 \n",
      "dtypes: int32(2), object(1), string(5)\n",
      "memory usage: 4.2+ KB\n"
     ]
    }
   ],
   "source": [
    "base_canal[['ID_CANAL', 'NM_CANAL', 'ID_VIDEO', 'TURNO_EXTRACAO', ]] = base_canal[['ID_CANAL', 'NM_CANAL', 'ID_VIDEO', 'TURNO_EXTRACAO']].astype('string')\n",
    "base_canal['data_extracao'] = pd.to_datetime(base_canal['data_extracao'], format='%Y-%m-%d').dt.date\n",
    "base_canal.info()"
   ]
  },
  {
   "cell_type": "code",
   "execution_count": 36,
   "metadata": {},
   "outputs": [],
   "source": [
    "base_canal =  base_canal.groupby(['data_extracao', 'ID_CANAL', 'NM_CANAL']) \\\n",
    "    .agg(TOTAL=(metrica, 'max')).reset_index().sort_values(by=['NM_CANAL'])"
   ]
  },
  {
   "cell_type": "code",
   "execution_count": 37,
   "metadata": {},
   "outputs": [
    {
     "data": {
      "text/html": [
       "<div>\n",
       "<style scoped>\n",
       "    .dataframe tbody tr th:only-of-type {\n",
       "        vertical-align: middle;\n",
       "    }\n",
       "\n",
       "    .dataframe tbody tr th {\n",
       "        vertical-align: top;\n",
       "    }\n",
       "\n",
       "    .dataframe thead th {\n",
       "        text-align: right;\n",
       "    }\n",
       "</style>\n",
       "<table border=\"1\" class=\"dataframe\">\n",
       "  <thead>\n",
       "    <tr style=\"text-align: right;\">\n",
       "      <th></th>\n",
       "      <th>data_extracao</th>\n",
       "      <th>ID_CANAL</th>\n",
       "      <th>NM_CANAL</th>\n",
       "      <th>TOTAL</th>\n",
       "      <th>TOTAL_DESLOCADO</th>\n",
       "    </tr>\n",
       "  </thead>\n",
       "  <tbody>\n",
       "    <tr>\n",
       "      <th>0</th>\n",
       "      <td>2024-01-17</td>\n",
       "      <td>UCe9jrI0YQ5SM6h5QRZ9FZlA</td>\n",
       "      <td>Barbosa Cities</td>\n",
       "      <td>2571.0</td>\n",
       "      <td>0.0</td>\n",
       "    </tr>\n",
       "    <tr>\n",
       "      <th>1</th>\n",
       "      <td>2024-01-18</td>\n",
       "      <td>UCe9jrI0YQ5SM6h5QRZ9FZlA</td>\n",
       "      <td>Barbosa Cities</td>\n",
       "      <td>3826.0</td>\n",
       "      <td>2571.0</td>\n",
       "    </tr>\n",
       "    <tr>\n",
       "      <th>2</th>\n",
       "      <td>2024-01-19</td>\n",
       "      <td>UCe9jrI0YQ5SM6h5QRZ9FZlA</td>\n",
       "      <td>Barbosa Cities</td>\n",
       "      <td>4188.0</td>\n",
       "      <td>3826.0</td>\n",
       "    </tr>\n",
       "    <tr>\n",
       "      <th>3</th>\n",
       "      <td>2024-01-20</td>\n",
       "      <td>UCe9jrI0YQ5SM6h5QRZ9FZlA</td>\n",
       "      <td>Barbosa Cities</td>\n",
       "      <td>6290.0</td>\n",
       "      <td>4188.0</td>\n",
       "    </tr>\n",
       "    <tr>\n",
       "      <th>4</th>\n",
       "      <td>2024-01-21</td>\n",
       "      <td>UCe9jrI0YQ5SM6h5QRZ9FZlA</td>\n",
       "      <td>Barbosa Cities</td>\n",
       "      <td>7556.0</td>\n",
       "      <td>6290.0</td>\n",
       "    </tr>\n",
       "    <tr>\n",
       "      <th>5</th>\n",
       "      <td>2024-01-22</td>\n",
       "      <td>UCe9jrI0YQ5SM6h5QRZ9FZlA</td>\n",
       "      <td>Barbosa Cities</td>\n",
       "      <td>8067.0</td>\n",
       "      <td>7556.0</td>\n",
       "    </tr>\n",
       "    <tr>\n",
       "      <th>6</th>\n",
       "      <td>2024-01-23</td>\n",
       "      <td>UCe9jrI0YQ5SM6h5QRZ9FZlA</td>\n",
       "      <td>Barbosa Cities</td>\n",
       "      <td>8312.0</td>\n",
       "      <td>8067.0</td>\n",
       "    </tr>\n",
       "  </tbody>\n",
       "</table>\n",
       "</div>"
      ],
      "text/plain": [
       "  data_extracao                  ID_CANAL        NM_CANAL   TOTAL  \\\n",
       "0    2024-01-17  UCe9jrI0YQ5SM6h5QRZ9FZlA  Barbosa Cities  2571.0   \n",
       "1    2024-01-18  UCe9jrI0YQ5SM6h5QRZ9FZlA  Barbosa Cities  3826.0   \n",
       "2    2024-01-19  UCe9jrI0YQ5SM6h5QRZ9FZlA  Barbosa Cities  4188.0   \n",
       "3    2024-01-20  UCe9jrI0YQ5SM6h5QRZ9FZlA  Barbosa Cities  6290.0   \n",
       "4    2024-01-21  UCe9jrI0YQ5SM6h5QRZ9FZlA  Barbosa Cities  7556.0   \n",
       "5    2024-01-22  UCe9jrI0YQ5SM6h5QRZ9FZlA  Barbosa Cities  8067.0   \n",
       "6    2024-01-23  UCe9jrI0YQ5SM6h5QRZ9FZlA  Barbosa Cities  8312.0   \n",
       "\n",
       "   TOTAL_DESLOCADO  \n",
       "0              0.0  \n",
       "1           2571.0  \n",
       "2           3826.0  \n",
       "3           4188.0  \n",
       "4           6290.0  \n",
       "5           7556.0  \n",
       "6           8067.0  "
      ]
     },
     "execution_count": 37,
     "metadata": {},
     "output_type": "execute_result"
    }
   ],
   "source": [
    "base_canal['TOTAL_DESLOCADO'] = (base_canal.groupby('NM_CANAL')['TOTAL'].shift(1))\n",
    "base_canal.fillna(0, axis=1, inplace=True)\n",
    "base_canal[['TOTAL_DESLOCADO', 'TOTAL']] = base_canal[['TOTAL_DESLOCADO', 'TOTAL']].astype('float32')\n",
    "base_canal[['data_extracao', 'ID_CANAL',  'NM_CANAL']] = base_canal[['data_extracao', 'ID_CANAL', 'NM_CANAL']].astype('string')\n",
    "base_canal"
   ]
  },
  {
   "cell_type": "code",
   "execution_count": 1,
   "metadata": {},
   "outputs": [
    {
     "ename": "NameError",
     "evalue": "name 'base_canal' is not defined",
     "output_type": "error",
     "traceback": [
      "\u001b[0;31m---------------------------------------------------------------------------\u001b[0m",
      "\u001b[0;31mNameError\u001b[0m                                 Traceback (most recent call last)",
      "Cell \u001b[0;32mIn[1], line 1\u001b[0m\n\u001b[0;32m----> 1\u001b[0m base_canal[\u001b[38;5;124m'\u001b[39m\u001b[38;5;124mTOTAL_DIA\u001b[39m\u001b[38;5;124m'\u001b[39m] \u001b[38;5;241m=\u001b[39m \u001b[43mbase_canal\u001b[49m[\u001b[38;5;124m'\u001b[39m\u001b[38;5;124mTOTAL\u001b[39m\u001b[38;5;124m'\u001b[39m] \u001b[38;5;241m-\u001b[39m base_canal[\u001b[38;5;124m'\u001b[39m\u001b[38;5;124mTOTAL_DESLOCADO\u001b[39m\u001b[38;5;124m'\u001b[39m]\n\u001b[1;32m      2\u001b[0m base_canal\u001b[38;5;241m.\u001b[39mdrop([\u001b[38;5;124m'\u001b[39m\u001b[38;5;124mTOTAL\u001b[39m\u001b[38;5;124m'\u001b[39m,\u001b[38;5;124m'\u001b[39m\u001b[38;5;124mTOTAL_DESLOCADO\u001b[39m\u001b[38;5;124m'\u001b[39m ], axis\u001b[38;5;241m=\u001b[39m\u001b[38;5;241m1\u001b[39m, inplace\u001b[38;5;241m=\u001b[39m\u001b[38;5;28;01mTrue\u001b[39;00m)\n\u001b[1;32m      3\u001b[0m base_canal\n",
      "\u001b[0;31mNameError\u001b[0m: name 'base_canal' is not defined"
     ]
    }
   ],
   "source": [
    "base_canal['TOTAL_DIA'] = base_canal['TOTAL'] - base_canal['TOTAL_DESLOCADO']\n",
    "base_canal.drop(['TOTAL','TOTAL_DESLOCADO' ], axis=1, inplace=True)\n",
    "base_canal"
   ]
  },
  {
   "cell_type": "code",
   "execution_count": 39,
   "metadata": {},
   "outputs": [
    {
     "data": {
      "application/vnd.plotly.v1+json": {
       "config": {
        "plotlyServerURL": "https://plot.ly"
       },
       "data": [
        {
         "hovertemplate": "ID_CANAL=UCe9jrI0YQ5SM6h5QRZ9FZlA<br>data_extracao=%{x}<br>TOTAL_DIA=%{y}<extra></extra>",
         "legendgroup": "UCe9jrI0YQ5SM6h5QRZ9FZlA",
         "line": {
          "color": "#636efa",
          "dash": "solid"
         },
         "marker": {
          "symbol": "circle"
         },
         "mode": "lines",
         "name": "UCe9jrI0YQ5SM6h5QRZ9FZlA",
         "orientation": "v",
         "showlegend": true,
         "type": "scatter",
         "x": [
          "2024-01-17",
          "2024-01-18",
          "2024-01-19",
          "2024-01-20",
          "2024-01-21",
          "2024-01-22",
          "2024-01-23"
         ],
         "xaxis": "x",
         "y": [
          2571,
          1255,
          362,
          2102,
          1266,
          511,
          245
         ],
         "yaxis": "y"
        }
       ],
       "layout": {
        "legend": {
         "title": {
          "text": "ID_CANAL"
         },
         "tracegroupgap": 0
        },
        "margin": {
         "t": 60
        },
        "template": {
         "data": {
          "bar": [
           {
            "error_x": {
             "color": "#2a3f5f"
            },
            "error_y": {
             "color": "#2a3f5f"
            },
            "marker": {
             "line": {
              "color": "#E5ECF6",
              "width": 0.5
             },
             "pattern": {
              "fillmode": "overlay",
              "size": 10,
              "solidity": 0.2
             }
            },
            "type": "bar"
           }
          ],
          "barpolar": [
           {
            "marker": {
             "line": {
              "color": "#E5ECF6",
              "width": 0.5
             },
             "pattern": {
              "fillmode": "overlay",
              "size": 10,
              "solidity": 0.2
             }
            },
            "type": "barpolar"
           }
          ],
          "carpet": [
           {
            "aaxis": {
             "endlinecolor": "#2a3f5f",
             "gridcolor": "white",
             "linecolor": "white",
             "minorgridcolor": "white",
             "startlinecolor": "#2a3f5f"
            },
            "baxis": {
             "endlinecolor": "#2a3f5f",
             "gridcolor": "white",
             "linecolor": "white",
             "minorgridcolor": "white",
             "startlinecolor": "#2a3f5f"
            },
            "type": "carpet"
           }
          ],
          "choropleth": [
           {
            "colorbar": {
             "outlinewidth": 0,
             "ticks": ""
            },
            "type": "choropleth"
           }
          ],
          "contour": [
           {
            "colorbar": {
             "outlinewidth": 0,
             "ticks": ""
            },
            "colorscale": [
             [
              0,
              "#0d0887"
             ],
             [
              0.1111111111111111,
              "#46039f"
             ],
             [
              0.2222222222222222,
              "#7201a8"
             ],
             [
              0.3333333333333333,
              "#9c179e"
             ],
             [
              0.4444444444444444,
              "#bd3786"
             ],
             [
              0.5555555555555556,
              "#d8576b"
             ],
             [
              0.6666666666666666,
              "#ed7953"
             ],
             [
              0.7777777777777778,
              "#fb9f3a"
             ],
             [
              0.8888888888888888,
              "#fdca26"
             ],
             [
              1,
              "#f0f921"
             ]
            ],
            "type": "contour"
           }
          ],
          "contourcarpet": [
           {
            "colorbar": {
             "outlinewidth": 0,
             "ticks": ""
            },
            "type": "contourcarpet"
           }
          ],
          "heatmap": [
           {
            "colorbar": {
             "outlinewidth": 0,
             "ticks": ""
            },
            "colorscale": [
             [
              0,
              "#0d0887"
             ],
             [
              0.1111111111111111,
              "#46039f"
             ],
             [
              0.2222222222222222,
              "#7201a8"
             ],
             [
              0.3333333333333333,
              "#9c179e"
             ],
             [
              0.4444444444444444,
              "#bd3786"
             ],
             [
              0.5555555555555556,
              "#d8576b"
             ],
             [
              0.6666666666666666,
              "#ed7953"
             ],
             [
              0.7777777777777778,
              "#fb9f3a"
             ],
             [
              0.8888888888888888,
              "#fdca26"
             ],
             [
              1,
              "#f0f921"
             ]
            ],
            "type": "heatmap"
           }
          ],
          "heatmapgl": [
           {
            "colorbar": {
             "outlinewidth": 0,
             "ticks": ""
            },
            "colorscale": [
             [
              0,
              "#0d0887"
             ],
             [
              0.1111111111111111,
              "#46039f"
             ],
             [
              0.2222222222222222,
              "#7201a8"
             ],
             [
              0.3333333333333333,
              "#9c179e"
             ],
             [
              0.4444444444444444,
              "#bd3786"
             ],
             [
              0.5555555555555556,
              "#d8576b"
             ],
             [
              0.6666666666666666,
              "#ed7953"
             ],
             [
              0.7777777777777778,
              "#fb9f3a"
             ],
             [
              0.8888888888888888,
              "#fdca26"
             ],
             [
              1,
              "#f0f921"
             ]
            ],
            "type": "heatmapgl"
           }
          ],
          "histogram": [
           {
            "marker": {
             "pattern": {
              "fillmode": "overlay",
              "size": 10,
              "solidity": 0.2
             }
            },
            "type": "histogram"
           }
          ],
          "histogram2d": [
           {
            "colorbar": {
             "outlinewidth": 0,
             "ticks": ""
            },
            "colorscale": [
             [
              0,
              "#0d0887"
             ],
             [
              0.1111111111111111,
              "#46039f"
             ],
             [
              0.2222222222222222,
              "#7201a8"
             ],
             [
              0.3333333333333333,
              "#9c179e"
             ],
             [
              0.4444444444444444,
              "#bd3786"
             ],
             [
              0.5555555555555556,
              "#d8576b"
             ],
             [
              0.6666666666666666,
              "#ed7953"
             ],
             [
              0.7777777777777778,
              "#fb9f3a"
             ],
             [
              0.8888888888888888,
              "#fdca26"
             ],
             [
              1,
              "#f0f921"
             ]
            ],
            "type": "histogram2d"
           }
          ],
          "histogram2dcontour": [
           {
            "colorbar": {
             "outlinewidth": 0,
             "ticks": ""
            },
            "colorscale": [
             [
              0,
              "#0d0887"
             ],
             [
              0.1111111111111111,
              "#46039f"
             ],
             [
              0.2222222222222222,
              "#7201a8"
             ],
             [
              0.3333333333333333,
              "#9c179e"
             ],
             [
              0.4444444444444444,
              "#bd3786"
             ],
             [
              0.5555555555555556,
              "#d8576b"
             ],
             [
              0.6666666666666666,
              "#ed7953"
             ],
             [
              0.7777777777777778,
              "#fb9f3a"
             ],
             [
              0.8888888888888888,
              "#fdca26"
             ],
             [
              1,
              "#f0f921"
             ]
            ],
            "type": "histogram2dcontour"
           }
          ],
          "mesh3d": [
           {
            "colorbar": {
             "outlinewidth": 0,
             "ticks": ""
            },
            "type": "mesh3d"
           }
          ],
          "parcoords": [
           {
            "line": {
             "colorbar": {
              "outlinewidth": 0,
              "ticks": ""
             }
            },
            "type": "parcoords"
           }
          ],
          "pie": [
           {
            "automargin": true,
            "type": "pie"
           }
          ],
          "scatter": [
           {
            "fillpattern": {
             "fillmode": "overlay",
             "size": 10,
             "solidity": 0.2
            },
            "type": "scatter"
           }
          ],
          "scatter3d": [
           {
            "line": {
             "colorbar": {
              "outlinewidth": 0,
              "ticks": ""
             }
            },
            "marker": {
             "colorbar": {
              "outlinewidth": 0,
              "ticks": ""
             }
            },
            "type": "scatter3d"
           }
          ],
          "scattercarpet": [
           {
            "marker": {
             "colorbar": {
              "outlinewidth": 0,
              "ticks": ""
             }
            },
            "type": "scattercarpet"
           }
          ],
          "scattergeo": [
           {
            "marker": {
             "colorbar": {
              "outlinewidth": 0,
              "ticks": ""
             }
            },
            "type": "scattergeo"
           }
          ],
          "scattergl": [
           {
            "marker": {
             "colorbar": {
              "outlinewidth": 0,
              "ticks": ""
             }
            },
            "type": "scattergl"
           }
          ],
          "scattermapbox": [
           {
            "marker": {
             "colorbar": {
              "outlinewidth": 0,
              "ticks": ""
             }
            },
            "type": "scattermapbox"
           }
          ],
          "scatterpolar": [
           {
            "marker": {
             "colorbar": {
              "outlinewidth": 0,
              "ticks": ""
             }
            },
            "type": "scatterpolar"
           }
          ],
          "scatterpolargl": [
           {
            "marker": {
             "colorbar": {
              "outlinewidth": 0,
              "ticks": ""
             }
            },
            "type": "scatterpolargl"
           }
          ],
          "scatterternary": [
           {
            "marker": {
             "colorbar": {
              "outlinewidth": 0,
              "ticks": ""
             }
            },
            "type": "scatterternary"
           }
          ],
          "surface": [
           {
            "colorbar": {
             "outlinewidth": 0,
             "ticks": ""
            },
            "colorscale": [
             [
              0,
              "#0d0887"
             ],
             [
              0.1111111111111111,
              "#46039f"
             ],
             [
              0.2222222222222222,
              "#7201a8"
             ],
             [
              0.3333333333333333,
              "#9c179e"
             ],
             [
              0.4444444444444444,
              "#bd3786"
             ],
             [
              0.5555555555555556,
              "#d8576b"
             ],
             [
              0.6666666666666666,
              "#ed7953"
             ],
             [
              0.7777777777777778,
              "#fb9f3a"
             ],
             [
              0.8888888888888888,
              "#fdca26"
             ],
             [
              1,
              "#f0f921"
             ]
            ],
            "type": "surface"
           }
          ],
          "table": [
           {
            "cells": {
             "fill": {
              "color": "#EBF0F8"
             },
             "line": {
              "color": "white"
             }
            },
            "header": {
             "fill": {
              "color": "#C8D4E3"
             },
             "line": {
              "color": "white"
             }
            },
            "type": "table"
           }
          ]
         },
         "layout": {
          "annotationdefaults": {
           "arrowcolor": "#2a3f5f",
           "arrowhead": 0,
           "arrowwidth": 1
          },
          "autotypenumbers": "strict",
          "coloraxis": {
           "colorbar": {
            "outlinewidth": 0,
            "ticks": ""
           }
          },
          "colorscale": {
           "diverging": [
            [
             0,
             "#8e0152"
            ],
            [
             0.1,
             "#c51b7d"
            ],
            [
             0.2,
             "#de77ae"
            ],
            [
             0.3,
             "#f1b6da"
            ],
            [
             0.4,
             "#fde0ef"
            ],
            [
             0.5,
             "#f7f7f7"
            ],
            [
             0.6,
             "#e6f5d0"
            ],
            [
             0.7,
             "#b8e186"
            ],
            [
             0.8,
             "#7fbc41"
            ],
            [
             0.9,
             "#4d9221"
            ],
            [
             1,
             "#276419"
            ]
           ],
           "sequential": [
            [
             0,
             "#0d0887"
            ],
            [
             0.1111111111111111,
             "#46039f"
            ],
            [
             0.2222222222222222,
             "#7201a8"
            ],
            [
             0.3333333333333333,
             "#9c179e"
            ],
            [
             0.4444444444444444,
             "#bd3786"
            ],
            [
             0.5555555555555556,
             "#d8576b"
            ],
            [
             0.6666666666666666,
             "#ed7953"
            ],
            [
             0.7777777777777778,
             "#fb9f3a"
            ],
            [
             0.8888888888888888,
             "#fdca26"
            ],
            [
             1,
             "#f0f921"
            ]
           ],
           "sequentialminus": [
            [
             0,
             "#0d0887"
            ],
            [
             0.1111111111111111,
             "#46039f"
            ],
            [
             0.2222222222222222,
             "#7201a8"
            ],
            [
             0.3333333333333333,
             "#9c179e"
            ],
            [
             0.4444444444444444,
             "#bd3786"
            ],
            [
             0.5555555555555556,
             "#d8576b"
            ],
            [
             0.6666666666666666,
             "#ed7953"
            ],
            [
             0.7777777777777778,
             "#fb9f3a"
            ],
            [
             0.8888888888888888,
             "#fdca26"
            ],
            [
             1,
             "#f0f921"
            ]
           ]
          },
          "colorway": [
           "#636efa",
           "#EF553B",
           "#00cc96",
           "#ab63fa",
           "#FFA15A",
           "#19d3f3",
           "#FF6692",
           "#B6E880",
           "#FF97FF",
           "#FECB52"
          ],
          "font": {
           "color": "#2a3f5f"
          },
          "geo": {
           "bgcolor": "white",
           "lakecolor": "white",
           "landcolor": "#E5ECF6",
           "showlakes": true,
           "showland": true,
           "subunitcolor": "white"
          },
          "hoverlabel": {
           "align": "left"
          },
          "hovermode": "closest",
          "mapbox": {
           "style": "light"
          },
          "paper_bgcolor": "white",
          "plot_bgcolor": "#E5ECF6",
          "polar": {
           "angularaxis": {
            "gridcolor": "white",
            "linecolor": "white",
            "ticks": ""
           },
           "bgcolor": "#E5ECF6",
           "radialaxis": {
            "gridcolor": "white",
            "linecolor": "white",
            "ticks": ""
           }
          },
          "scene": {
           "xaxis": {
            "backgroundcolor": "#E5ECF6",
            "gridcolor": "white",
            "gridwidth": 2,
            "linecolor": "white",
            "showbackground": true,
            "ticks": "",
            "zerolinecolor": "white"
           },
           "yaxis": {
            "backgroundcolor": "#E5ECF6",
            "gridcolor": "white",
            "gridwidth": 2,
            "linecolor": "white",
            "showbackground": true,
            "ticks": "",
            "zerolinecolor": "white"
           },
           "zaxis": {
            "backgroundcolor": "#E5ECF6",
            "gridcolor": "white",
            "gridwidth": 2,
            "linecolor": "white",
            "showbackground": true,
            "ticks": "",
            "zerolinecolor": "white"
           }
          },
          "shapedefaults": {
           "line": {
            "color": "#2a3f5f"
           }
          },
          "ternary": {
           "aaxis": {
            "gridcolor": "white",
            "linecolor": "white",
            "ticks": ""
           },
           "baxis": {
            "gridcolor": "white",
            "linecolor": "white",
            "ticks": ""
           },
           "bgcolor": "#E5ECF6",
           "caxis": {
            "gridcolor": "white",
            "linecolor": "white",
            "ticks": ""
           }
          },
          "title": {
           "x": 0.05
          },
          "xaxis": {
           "automargin": true,
           "gridcolor": "white",
           "linecolor": "white",
           "ticks": "",
           "title": {
            "standoff": 15
           },
           "zerolinecolor": "white",
           "zerolinewidth": 2
          },
          "yaxis": {
           "automargin": true,
           "gridcolor": "white",
           "linecolor": "white",
           "ticks": "",
           "title": {
            "standoff": 15
           },
           "zerolinecolor": "white",
           "zerolinewidth": 2
          }
         }
        },
        "xaxis": {
         "anchor": "y",
         "domain": [
          0,
          1
         ],
         "title": {
          "text": "data_extracao"
         }
        },
        "yaxis": {
         "anchor": "x",
         "domain": [
          0,
          1
         ],
         "title": {
          "text": "TOTAL_DIA"
         }
        }
       }
      }
     },
     "metadata": {},
     "output_type": "display_data"
    }
   ],
   "source": [
    "fig = px.line(base_canal, x='data_extracao', y='TOTAL_DIA', color='ID_CANAL')\n",
    "fig.show()"
   ]
  },
  {
   "cell_type": "code",
   "execution_count": 207,
   "metadata": {},
   "outputs": [
    {
     "name": "stdout",
     "output_type": "stream",
     "text": [
      "<class 'pandas.core.frame.DataFrame'>\n",
      "Index: 14 entries, 1 to 12\n",
      "Data columns (total 4 columns):\n",
      " #   Column         Non-Null Count  Dtype  \n",
      "---  ------         --------------  -----  \n",
      " 0   data_extracao  14 non-null     string \n",
      " 1   ID_CANAL       14 non-null     string \n",
      " 2   NM_CANAL       14 non-null     string \n",
      " 3   TOTAL_DIA      14 non-null     float32\n",
      "dtypes: float32(1), string(3)\n",
      "memory usage: 504.0 bytes\n"
     ]
    }
   ],
   "source": [
    "base_canal.info()"
   ]
  },
  {
   "cell_type": "markdown",
   "metadata": {},
   "source": [
    "# Desempenho Vídeo"
   ]
  },
  {
   "cell_type": "code",
   "execution_count": 44,
   "metadata": {},
   "outputs": [],
   "source": [
    "metrica = 'TOTAL_LIKES'\n",
    "colunas = ['data_extracao', 'ID_VIDEO', 'TITULO_VIDEO', 'TURNO_EXTRACAO', metrica, 'INDICE_TURNO_EXTRACAO']\n",
    "base_video = pd.read_parquet('../dados/ouro/dados_tratado_estatisticas_gerais.parquet', columns=colunas)\n"
   ]
  },
  {
   "cell_type": "code",
   "execution_count": 45,
   "metadata": {},
   "outputs": [
    {
     "data": {
      "text/html": [
       "<div>\n",
       "<style scoped>\n",
       "    .dataframe tbody tr th:only-of-type {\n",
       "        vertical-align: middle;\n",
       "    }\n",
       "\n",
       "    .dataframe tbody tr th {\n",
       "        vertical-align: top;\n",
       "    }\n",
       "\n",
       "    .dataframe thead th {\n",
       "        text-align: right;\n",
       "    }\n",
       "</style>\n",
       "<table border=\"1\" class=\"dataframe\">\n",
       "  <thead>\n",
       "    <tr style=\"text-align: right;\">\n",
       "      <th></th>\n",
       "      <th>data_extracao</th>\n",
       "      <th>ID_VIDEO</th>\n",
       "      <th>TITULO_VIDEO</th>\n",
       "      <th>TURNO_EXTRACAO</th>\n",
       "      <th>TOTAL_LIKES</th>\n",
       "      <th>INDICE_TURNO_EXTRACAO</th>\n",
       "    </tr>\n",
       "  </thead>\n",
       "  <tbody>\n",
       "    <tr>\n",
       "      <th>614</th>\n",
       "      <td>2024-01-23</td>\n",
       "      <td>_rP6fm9avmQ</td>\n",
       "      <td>JURO11 - MAIOR FI-INFRA DA BOLSA. VALE A PENA?</td>\n",
       "      <td>Noite</td>\n",
       "      <td>54.0</td>\n",
       "      <td>3</td>\n",
       "    </tr>\n",
       "    <tr>\n",
       "      <th>617</th>\n",
       "      <td>2024-01-23</td>\n",
       "      <td>_rP6fm9avmQ</td>\n",
       "      <td>JURO11 - MAIOR FI-INFRA DA BOLSA. VALE A PENA?</td>\n",
       "      <td>Tarde</td>\n",
       "      <td>53.0</td>\n",
       "      <td>2</td>\n",
       "    </tr>\n",
       "    <tr>\n",
       "      <th>620</th>\n",
       "      <td>2024-01-23</td>\n",
       "      <td>_rP6fm9avmQ</td>\n",
       "      <td>JURO11 - MAIOR FI-INFRA DA BOLSA. VALE A PENA?</td>\n",
       "      <td>Manhã</td>\n",
       "      <td>52.0</td>\n",
       "      <td>1</td>\n",
       "    </tr>\n",
       "    <tr>\n",
       "      <th>3252</th>\n",
       "      <td>2024-01-22</td>\n",
       "      <td>_rP6fm9avmQ</td>\n",
       "      <td>JURO11 - MAIOR FI-INFRA DA BOLSA. VALE A PENA?</td>\n",
       "      <td>Noite</td>\n",
       "      <td>52.0</td>\n",
       "      <td>3</td>\n",
       "    </tr>\n",
       "    <tr>\n",
       "      <th>3255</th>\n",
       "      <td>2024-01-22</td>\n",
       "      <td>_rP6fm9avmQ</td>\n",
       "      <td>JURO11 - MAIOR FI-INFRA DA BOLSA. VALE A PENA?</td>\n",
       "      <td>Tarde</td>\n",
       "      <td>52.0</td>\n",
       "      <td>2</td>\n",
       "    </tr>\n",
       "    <tr>\n",
       "      <th>3259</th>\n",
       "      <td>2024-01-22</td>\n",
       "      <td>_rP6fm9avmQ</td>\n",
       "      <td>JURO11 - MAIOR FI-INFRA DA BOLSA. VALE A PENA?</td>\n",
       "      <td>Manhã</td>\n",
       "      <td>52.0</td>\n",
       "      <td>1</td>\n",
       "    </tr>\n",
       "    <tr>\n",
       "      <th>5568</th>\n",
       "      <td>2024-01-21</td>\n",
       "      <td>_rP6fm9avmQ</td>\n",
       "      <td>JURO11 - MAIOR FI-INFRA DA BOLSA. VALE A PENA?</td>\n",
       "      <td>Noite</td>\n",
       "      <td>48.0</td>\n",
       "      <td>3</td>\n",
       "    </tr>\n",
       "    <tr>\n",
       "      <th>5569</th>\n",
       "      <td>2024-01-21</td>\n",
       "      <td>_rP6fm9avmQ</td>\n",
       "      <td>JURO11 - MAIOR FI-INFRA DA BOLSA. VALE A PENA?</td>\n",
       "      <td>Tarde</td>\n",
       "      <td>48.0</td>\n",
       "      <td>2</td>\n",
       "    </tr>\n",
       "    <tr>\n",
       "      <th>5572</th>\n",
       "      <td>2024-01-21</td>\n",
       "      <td>_rP6fm9avmQ</td>\n",
       "      <td>JURO11 - MAIOR FI-INFRA DA BOLSA. VALE A PENA?</td>\n",
       "      <td>Manhã</td>\n",
       "      <td>46.0</td>\n",
       "      <td>1</td>\n",
       "    </tr>\n",
       "    <tr>\n",
       "      <th>6102</th>\n",
       "      <td>2024-01-20</td>\n",
       "      <td>_rP6fm9avmQ</td>\n",
       "      <td>JURO11 - MAIOR FI-INFRA DA BOLSA. VALE A PENA?</td>\n",
       "      <td>Noite</td>\n",
       "      <td>44.0</td>\n",
       "      <td>3</td>\n",
       "    </tr>\n",
       "    <tr>\n",
       "      <th>6103</th>\n",
       "      <td>2024-01-20</td>\n",
       "      <td>_rP6fm9avmQ</td>\n",
       "      <td>JURO11 - MAIOR FI-INFRA DA BOLSA. VALE A PENA?</td>\n",
       "      <td>Tarde</td>\n",
       "      <td>43.0</td>\n",
       "      <td>2</td>\n",
       "    </tr>\n",
       "    <tr>\n",
       "      <th>6104</th>\n",
       "      <td>2024-01-20</td>\n",
       "      <td>_rP6fm9avmQ</td>\n",
       "      <td>JURO11 - MAIOR FI-INFRA DA BOLSA. VALE A PENA?</td>\n",
       "      <td>Manhã</td>\n",
       "      <td>43.0</td>\n",
       "      <td>1</td>\n",
       "    </tr>\n",
       "    <tr>\n",
       "      <th>8142</th>\n",
       "      <td>2024-01-19</td>\n",
       "      <td>_rP6fm9avmQ</td>\n",
       "      <td>JURO11 - MAIOR FI-INFRA DA BOLSA. VALE A PENA?</td>\n",
       "      <td>Noite</td>\n",
       "      <td>43.0</td>\n",
       "      <td>3</td>\n",
       "    </tr>\n",
       "    <tr>\n",
       "      <th>8143</th>\n",
       "      <td>2024-01-19</td>\n",
       "      <td>_rP6fm9avmQ</td>\n",
       "      <td>JURO11 - MAIOR FI-INFRA DA BOLSA. VALE A PENA?</td>\n",
       "      <td>Tarde</td>\n",
       "      <td>43.0</td>\n",
       "      <td>2</td>\n",
       "    </tr>\n",
       "    <tr>\n",
       "      <th>8145</th>\n",
       "      <td>2024-01-19</td>\n",
       "      <td>_rP6fm9avmQ</td>\n",
       "      <td>JURO11 - MAIOR FI-INFRA DA BOLSA. VALE A PENA?</td>\n",
       "      <td>Manhã</td>\n",
       "      <td>42.0</td>\n",
       "      <td>1</td>\n",
       "    </tr>\n",
       "    <tr>\n",
       "      <th>8564</th>\n",
       "      <td>2024-01-18</td>\n",
       "      <td>_rP6fm9avmQ</td>\n",
       "      <td>JURO11 - MAIOR FI-INFRA DA BOLSA. VALE A PENA?</td>\n",
       "      <td>Noite</td>\n",
       "      <td>41.0</td>\n",
       "      <td>3</td>\n",
       "    </tr>\n",
       "    <tr>\n",
       "      <th>8565</th>\n",
       "      <td>2024-01-18</td>\n",
       "      <td>_rP6fm9avmQ</td>\n",
       "      <td>JURO11 - MAIOR FI-INFRA DA BOLSA. VALE A PENA?</td>\n",
       "      <td>Tarde</td>\n",
       "      <td>40.0</td>\n",
       "      <td>2</td>\n",
       "    </tr>\n",
       "    <tr>\n",
       "      <th>8567</th>\n",
       "      <td>2024-01-18</td>\n",
       "      <td>_rP6fm9avmQ</td>\n",
       "      <td>JURO11 - MAIOR FI-INFRA DA BOLSA. VALE A PENA?</td>\n",
       "      <td>Manhã</td>\n",
       "      <td>39.0</td>\n",
       "      <td>1</td>\n",
       "    </tr>\n",
       "    <tr>\n",
       "      <th>10999</th>\n",
       "      <td>2024-01-17</td>\n",
       "      <td>_rP6fm9avmQ</td>\n",
       "      <td>JURO11 - MAIOR FI-INFRA DA BOLSA. VALE A PENA?</td>\n",
       "      <td>Tarde</td>\n",
       "      <td>24.0</td>\n",
       "      <td>2</td>\n",
       "    </tr>\n",
       "    <tr>\n",
       "      <th>11048</th>\n",
       "      <td>2024-01-17</td>\n",
       "      <td>_rP6fm9avmQ</td>\n",
       "      <td>JURO11 - MAIOR FI-INFRA DA BOLSA. VALE A PENA?</td>\n",
       "      <td>Noite</td>\n",
       "      <td>35.0</td>\n",
       "      <td>3</td>\n",
       "    </tr>\n",
       "    <tr>\n",
       "      <th>11049</th>\n",
       "      <td>2024-01-17</td>\n",
       "      <td>_rP6fm9avmQ</td>\n",
       "      <td>JURO11 - MAIOR FI-INFRA DA BOLSA. VALE A PENA?</td>\n",
       "      <td>Noite</td>\n",
       "      <td>35.0</td>\n",
       "      <td>3</td>\n",
       "    </tr>\n",
       "  </tbody>\n",
       "</table>\n",
       "</div>"
      ],
      "text/plain": [
       "      data_extracao     ID_VIDEO  \\\n",
       "614      2024-01-23  _rP6fm9avmQ   \n",
       "617      2024-01-23  _rP6fm9avmQ   \n",
       "620      2024-01-23  _rP6fm9avmQ   \n",
       "3252     2024-01-22  _rP6fm9avmQ   \n",
       "3255     2024-01-22  _rP6fm9avmQ   \n",
       "3259     2024-01-22  _rP6fm9avmQ   \n",
       "5568     2024-01-21  _rP6fm9avmQ   \n",
       "5569     2024-01-21  _rP6fm9avmQ   \n",
       "5572     2024-01-21  _rP6fm9avmQ   \n",
       "6102     2024-01-20  _rP6fm9avmQ   \n",
       "6103     2024-01-20  _rP6fm9avmQ   \n",
       "6104     2024-01-20  _rP6fm9avmQ   \n",
       "8142     2024-01-19  _rP6fm9avmQ   \n",
       "8143     2024-01-19  _rP6fm9avmQ   \n",
       "8145     2024-01-19  _rP6fm9avmQ   \n",
       "8564     2024-01-18  _rP6fm9avmQ   \n",
       "8565     2024-01-18  _rP6fm9avmQ   \n",
       "8567     2024-01-18  _rP6fm9avmQ   \n",
       "10999    2024-01-17  _rP6fm9avmQ   \n",
       "11048    2024-01-17  _rP6fm9avmQ   \n",
       "11049    2024-01-17  _rP6fm9avmQ   \n",
       "\n",
       "                                         TITULO_VIDEO TURNO_EXTRACAO  \\\n",
       "614    JURO11 - MAIOR FI-INFRA DA BOLSA. VALE A PENA?          Noite   \n",
       "617    JURO11 - MAIOR FI-INFRA DA BOLSA. VALE A PENA?          Tarde   \n",
       "620    JURO11 - MAIOR FI-INFRA DA BOLSA. VALE A PENA?          Manhã   \n",
       "3252   JURO11 - MAIOR FI-INFRA DA BOLSA. VALE A PENA?          Noite   \n",
       "3255   JURO11 - MAIOR FI-INFRA DA BOLSA. VALE A PENA?          Tarde   \n",
       "3259   JURO11 - MAIOR FI-INFRA DA BOLSA. VALE A PENA?          Manhã   \n",
       "5568   JURO11 - MAIOR FI-INFRA DA BOLSA. VALE A PENA?          Noite   \n",
       "5569   JURO11 - MAIOR FI-INFRA DA BOLSA. VALE A PENA?          Tarde   \n",
       "5572   JURO11 - MAIOR FI-INFRA DA BOLSA. VALE A PENA?          Manhã   \n",
       "6102   JURO11 - MAIOR FI-INFRA DA BOLSA. VALE A PENA?          Noite   \n",
       "6103   JURO11 - MAIOR FI-INFRA DA BOLSA. VALE A PENA?          Tarde   \n",
       "6104   JURO11 - MAIOR FI-INFRA DA BOLSA. VALE A PENA?          Manhã   \n",
       "8142   JURO11 - MAIOR FI-INFRA DA BOLSA. VALE A PENA?          Noite   \n",
       "8143   JURO11 - MAIOR FI-INFRA DA BOLSA. VALE A PENA?          Tarde   \n",
       "8145   JURO11 - MAIOR FI-INFRA DA BOLSA. VALE A PENA?          Manhã   \n",
       "8564   JURO11 - MAIOR FI-INFRA DA BOLSA. VALE A PENA?          Noite   \n",
       "8565   JURO11 - MAIOR FI-INFRA DA BOLSA. VALE A PENA?          Tarde   \n",
       "8567   JURO11 - MAIOR FI-INFRA DA BOLSA. VALE A PENA?          Manhã   \n",
       "10999  JURO11 - MAIOR FI-INFRA DA BOLSA. VALE A PENA?          Tarde   \n",
       "11048  JURO11 - MAIOR FI-INFRA DA BOLSA. VALE A PENA?          Noite   \n",
       "11049  JURO11 - MAIOR FI-INFRA DA BOLSA. VALE A PENA?          Noite   \n",
       "\n",
       "       TOTAL_LIKES  INDICE_TURNO_EXTRACAO  \n",
       "614           54.0                      3  \n",
       "617           53.0                      2  \n",
       "620           52.0                      1  \n",
       "3252          52.0                      3  \n",
       "3255          52.0                      2  \n",
       "3259          52.0                      1  \n",
       "5568          48.0                      3  \n",
       "5569          48.0                      2  \n",
       "5572          46.0                      1  \n",
       "6102          44.0                      3  \n",
       "6103          43.0                      2  \n",
       "6104          43.0                      1  \n",
       "8142          43.0                      3  \n",
       "8143          43.0                      2  \n",
       "8145          42.0                      1  \n",
       "8564          41.0                      3  \n",
       "8565          40.0                      2  \n",
       "8567          39.0                      1  \n",
       "10999         24.0                      2  \n",
       "11048         35.0                      3  \n",
       "11049         35.0                      3  "
      ]
     },
     "execution_count": 45,
     "metadata": {},
     "output_type": "execute_result"
    }
   ],
   "source": [
    "base_video = base_video.query('ID_VIDEO == \"_rP6fm9avmQ\"')\n",
    "base_video"
   ]
  },
  {
   "cell_type": "code",
   "execution_count": 46,
   "metadata": {},
   "outputs": [
    {
     "data": {
      "text/html": [
       "<div>\n",
       "<style scoped>\n",
       "    .dataframe tbody tr th:only-of-type {\n",
       "        vertical-align: middle;\n",
       "    }\n",
       "\n",
       "    .dataframe tbody tr th {\n",
       "        vertical-align: top;\n",
       "    }\n",
       "\n",
       "    .dataframe thead th {\n",
       "        text-align: right;\n",
       "    }\n",
       "</style>\n",
       "<table border=\"1\" class=\"dataframe\">\n",
       "  <thead>\n",
       "    <tr style=\"text-align: right;\">\n",
       "      <th></th>\n",
       "      <th>data_extracao</th>\n",
       "      <th>ID_VIDEO</th>\n",
       "      <th>TITULO_VIDEO</th>\n",
       "      <th>TOTAL</th>\n",
       "    </tr>\n",
       "  </thead>\n",
       "  <tbody>\n",
       "    <tr>\n",
       "      <th>0</th>\n",
       "      <td>2024-01-17</td>\n",
       "      <td>_rP6fm9avmQ</td>\n",
       "      <td>JURO11 - MAIOR FI-INFRA DA BOLSA. VALE A PENA?</td>\n",
       "      <td>35.0</td>\n",
       "    </tr>\n",
       "    <tr>\n",
       "      <th>1</th>\n",
       "      <td>2024-01-18</td>\n",
       "      <td>_rP6fm9avmQ</td>\n",
       "      <td>JURO11 - MAIOR FI-INFRA DA BOLSA. VALE A PENA?</td>\n",
       "      <td>41.0</td>\n",
       "    </tr>\n",
       "    <tr>\n",
       "      <th>2</th>\n",
       "      <td>2024-01-19</td>\n",
       "      <td>_rP6fm9avmQ</td>\n",
       "      <td>JURO11 - MAIOR FI-INFRA DA BOLSA. VALE A PENA?</td>\n",
       "      <td>43.0</td>\n",
       "    </tr>\n",
       "    <tr>\n",
       "      <th>3</th>\n",
       "      <td>2024-01-20</td>\n",
       "      <td>_rP6fm9avmQ</td>\n",
       "      <td>JURO11 - MAIOR FI-INFRA DA BOLSA. VALE A PENA?</td>\n",
       "      <td>44.0</td>\n",
       "    </tr>\n",
       "    <tr>\n",
       "      <th>4</th>\n",
       "      <td>2024-01-21</td>\n",
       "      <td>_rP6fm9avmQ</td>\n",
       "      <td>JURO11 - MAIOR FI-INFRA DA BOLSA. VALE A PENA?</td>\n",
       "      <td>48.0</td>\n",
       "    </tr>\n",
       "    <tr>\n",
       "      <th>5</th>\n",
       "      <td>2024-01-22</td>\n",
       "      <td>_rP6fm9avmQ</td>\n",
       "      <td>JURO11 - MAIOR FI-INFRA DA BOLSA. VALE A PENA?</td>\n",
       "      <td>52.0</td>\n",
       "    </tr>\n",
       "    <tr>\n",
       "      <th>6</th>\n",
       "      <td>2024-01-23</td>\n",
       "      <td>_rP6fm9avmQ</td>\n",
       "      <td>JURO11 - MAIOR FI-INFRA DA BOLSA. VALE A PENA?</td>\n",
       "      <td>54.0</td>\n",
       "    </tr>\n",
       "  </tbody>\n",
       "</table>\n",
       "</div>"
      ],
      "text/plain": [
       "  data_extracao     ID_VIDEO                                    TITULO_VIDEO  \\\n",
       "0    2024-01-17  _rP6fm9avmQ  JURO11 - MAIOR FI-INFRA DA BOLSA. VALE A PENA?   \n",
       "1    2024-01-18  _rP6fm9avmQ  JURO11 - MAIOR FI-INFRA DA BOLSA. VALE A PENA?   \n",
       "2    2024-01-19  _rP6fm9avmQ  JURO11 - MAIOR FI-INFRA DA BOLSA. VALE A PENA?   \n",
       "3    2024-01-20  _rP6fm9avmQ  JURO11 - MAIOR FI-INFRA DA BOLSA. VALE A PENA?   \n",
       "4    2024-01-21  _rP6fm9avmQ  JURO11 - MAIOR FI-INFRA DA BOLSA. VALE A PENA?   \n",
       "5    2024-01-22  _rP6fm9avmQ  JURO11 - MAIOR FI-INFRA DA BOLSA. VALE A PENA?   \n",
       "6    2024-01-23  _rP6fm9avmQ  JURO11 - MAIOR FI-INFRA DA BOLSA. VALE A PENA?   \n",
       "\n",
       "   TOTAL  \n",
       "0   35.0  \n",
       "1   41.0  \n",
       "2   43.0  \n",
       "3   44.0  \n",
       "4   48.0  \n",
       "5   52.0  \n",
       "6   54.0  "
      ]
     },
     "execution_count": 46,
     "metadata": {},
     "output_type": "execute_result"
    }
   ],
   "source": [
    "\n",
    "base_video = base_video.groupby(['data_extracao', 'ID_VIDEO', 'TITULO_VIDEO']) \\\n",
    "    .agg(\n",
    "        TOTAL=('TOTAL_LIKES', 'max')\n",
    "    ).reset_index()\n",
    "base_video"
   ]
  },
  {
   "cell_type": "code",
   "execution_count": 47,
   "metadata": {},
   "outputs": [
    {
     "data": {
      "text/html": [
       "<div>\n",
       "<style scoped>\n",
       "    .dataframe tbody tr th:only-of-type {\n",
       "        vertical-align: middle;\n",
       "    }\n",
       "\n",
       "    .dataframe tbody tr th {\n",
       "        vertical-align: top;\n",
       "    }\n",
       "\n",
       "    .dataframe thead th {\n",
       "        text-align: right;\n",
       "    }\n",
       "</style>\n",
       "<table border=\"1\" class=\"dataframe\">\n",
       "  <thead>\n",
       "    <tr style=\"text-align: right;\">\n",
       "      <th></th>\n",
       "      <th>data_extracao</th>\n",
       "      <th>ID_VIDEO</th>\n",
       "      <th>TITULO_VIDEO</th>\n",
       "      <th>TOTAL_DIA</th>\n",
       "    </tr>\n",
       "  </thead>\n",
       "  <tbody>\n",
       "    <tr>\n",
       "      <th>0</th>\n",
       "      <td>2024-01-17</td>\n",
       "      <td>_rP6fm9avmQ</td>\n",
       "      <td>JURO11 - MAIOR FI-INFRA DA BOLSA. VALE A PENA?</td>\n",
       "      <td>35.0</td>\n",
       "    </tr>\n",
       "    <tr>\n",
       "      <th>1</th>\n",
       "      <td>2024-01-18</td>\n",
       "      <td>_rP6fm9avmQ</td>\n",
       "      <td>JURO11 - MAIOR FI-INFRA DA BOLSA. VALE A PENA?</td>\n",
       "      <td>6.0</td>\n",
       "    </tr>\n",
       "    <tr>\n",
       "      <th>2</th>\n",
       "      <td>2024-01-19</td>\n",
       "      <td>_rP6fm9avmQ</td>\n",
       "      <td>JURO11 - MAIOR FI-INFRA DA BOLSA. VALE A PENA?</td>\n",
       "      <td>2.0</td>\n",
       "    </tr>\n",
       "    <tr>\n",
       "      <th>3</th>\n",
       "      <td>2024-01-20</td>\n",
       "      <td>_rP6fm9avmQ</td>\n",
       "      <td>JURO11 - MAIOR FI-INFRA DA BOLSA. VALE A PENA?</td>\n",
       "      <td>1.0</td>\n",
       "    </tr>\n",
       "    <tr>\n",
       "      <th>4</th>\n",
       "      <td>2024-01-21</td>\n",
       "      <td>_rP6fm9avmQ</td>\n",
       "      <td>JURO11 - MAIOR FI-INFRA DA BOLSA. VALE A PENA?</td>\n",
       "      <td>4.0</td>\n",
       "    </tr>\n",
       "    <tr>\n",
       "      <th>5</th>\n",
       "      <td>2024-01-22</td>\n",
       "      <td>_rP6fm9avmQ</td>\n",
       "      <td>JURO11 - MAIOR FI-INFRA DA BOLSA. VALE A PENA?</td>\n",
       "      <td>4.0</td>\n",
       "    </tr>\n",
       "    <tr>\n",
       "      <th>6</th>\n",
       "      <td>2024-01-23</td>\n",
       "      <td>_rP6fm9avmQ</td>\n",
       "      <td>JURO11 - MAIOR FI-INFRA DA BOLSA. VALE A PENA?</td>\n",
       "      <td>2.0</td>\n",
       "    </tr>\n",
       "  </tbody>\n",
       "</table>\n",
       "</div>"
      ],
      "text/plain": [
       "  data_extracao     ID_VIDEO                                    TITULO_VIDEO  \\\n",
       "0    2024-01-17  _rP6fm9avmQ  JURO11 - MAIOR FI-INFRA DA BOLSA. VALE A PENA?   \n",
       "1    2024-01-18  _rP6fm9avmQ  JURO11 - MAIOR FI-INFRA DA BOLSA. VALE A PENA?   \n",
       "2    2024-01-19  _rP6fm9avmQ  JURO11 - MAIOR FI-INFRA DA BOLSA. VALE A PENA?   \n",
       "3    2024-01-20  _rP6fm9avmQ  JURO11 - MAIOR FI-INFRA DA BOLSA. VALE A PENA?   \n",
       "4    2024-01-21  _rP6fm9avmQ  JURO11 - MAIOR FI-INFRA DA BOLSA. VALE A PENA?   \n",
       "5    2024-01-22  _rP6fm9avmQ  JURO11 - MAIOR FI-INFRA DA BOLSA. VALE A PENA?   \n",
       "6    2024-01-23  _rP6fm9avmQ  JURO11 - MAIOR FI-INFRA DA BOLSA. VALE A PENA?   \n",
       "\n",
       "   TOTAL_DIA  \n",
       "0       35.0  \n",
       "1        6.0  \n",
       "2        2.0  \n",
       "3        1.0  \n",
       "4        4.0  \n",
       "5        4.0  \n",
       "6        2.0  "
      ]
     },
     "execution_count": 47,
     "metadata": {},
     "output_type": "execute_result"
    }
   ],
   "source": [
    "base_video['TOTAL_DESLOCADO'] = base_video['TOTAL'].shift(1)\n",
    "base_video.fillna(0, inplace=True)\n",
    "base_video['TOTAL_DIA'] = base_video['TOTAL'] - base_video['TOTAL_DESLOCADO']\n",
    "base_video.drop(['TOTAL_DESLOCADO', 'TOTAL'], axis=1, inplace=True)\n",
    "base_video"
   ]
  },
  {
   "cell_type": "markdown",
   "metadata": {},
   "source": [
    "# TOP 10 Análise engajamento"
   ]
  },
  {
   "cell_type": "code",
   "execution_count": 5,
   "metadata": {},
   "outputs": [
    {
     "ename": "NameError",
     "evalue": "name 'base_completa' is not defined",
     "output_type": "error",
     "traceback": [
      "\u001b[0;31m---------------------------------------------------------------------------\u001b[0m",
      "\u001b[0;31mNameError\u001b[0m                                 Traceback (most recent call last)",
      "Cell \u001b[0;32mIn[5], line 1\u001b[0m\n\u001b[0;32m----> 1\u001b[0m \u001b[43mbase_completa\u001b[49m\u001b[38;5;241m.\u001b[39mcolumns\n",
      "\u001b[0;31mNameError\u001b[0m: name 'base_completa' is not defined"
     ]
    }
   ],
   "source": [
    "base_completa.columns"
   ]
  },
  {
   "cell_type": "code",
   "execution_count": 6,
   "metadata": {},
   "outputs": [
    {
     "data": {
      "text/html": [
       "<div>\n",
       "<style scoped>\n",
       "    .dataframe tbody tr th:only-of-type {\n",
       "        vertical-align: middle;\n",
       "    }\n",
       "\n",
       "    .dataframe tbody tr th {\n",
       "        vertical-align: top;\n",
       "    }\n",
       "\n",
       "    .dataframe thead th {\n",
       "        text-align: right;\n",
       "    }\n",
       "</style>\n",
       "<table border=\"1\" class=\"dataframe\">\n",
       "  <thead>\n",
       "    <tr style=\"text-align: right;\">\n",
       "      <th></th>\n",
       "      <th>data_extracao</th>\n",
       "      <th>ASSUNTO</th>\n",
       "      <th>ID_VIDEO</th>\n",
       "      <th>TURNO_EXTRACAO</th>\n",
       "      <th>TOTAL_LIKES</th>\n",
       "      <th>TOTAL_COMENTARIOS</th>\n",
       "      <th>TOTAL_VISUALIZACOES</th>\n",
       "      <th>INDICE_TURNO_EXTRACAO</th>\n",
       "      <th>TOTAL_FAVORITOS</th>\n",
       "    </tr>\n",
       "  </thead>\n",
       "  <tbody>\n",
       "    <tr>\n",
       "      <th>8611</th>\n",
       "      <td>2024-01-23</td>\n",
       "      <td>assunto_cities_skylines</td>\n",
       "      <td>38KqRAlHM2I</td>\n",
       "      <td>Noite</td>\n",
       "      <td>609</td>\n",
       "      <td>13</td>\n",
       "      <td>9882</td>\n",
       "      <td>3</td>\n",
       "      <td>0</td>\n",
       "    </tr>\n",
       "    <tr>\n",
       "      <th>8612</th>\n",
       "      <td>2024-01-23</td>\n",
       "      <td>assunto_cities_skylines</td>\n",
       "      <td>38KqRAlHM2I</td>\n",
       "      <td>Tarde</td>\n",
       "      <td>605</td>\n",
       "      <td>13</td>\n",
       "      <td>9806</td>\n",
       "      <td>2</td>\n",
       "      <td>0</td>\n",
       "    </tr>\n",
       "    <tr>\n",
       "      <th>8613</th>\n",
       "      <td>2024-01-23</td>\n",
       "      <td>assunto_cities_skylines</td>\n",
       "      <td>q4gfnofyqPA</td>\n",
       "      <td>Tarde</td>\n",
       "      <td>78</td>\n",
       "      <td>6</td>\n",
       "      <td>976</td>\n",
       "      <td>2</td>\n",
       "      <td>0</td>\n",
       "    </tr>\n",
       "    <tr>\n",
       "      <th>8614</th>\n",
       "      <td>2024-01-23</td>\n",
       "      <td>assunto_cities_skylines</td>\n",
       "      <td>38KqRAlHM2I</td>\n",
       "      <td>Manhã</td>\n",
       "      <td>595</td>\n",
       "      <td>13</td>\n",
       "      <td>9632</td>\n",
       "      <td>1</td>\n",
       "      <td>0</td>\n",
       "    </tr>\n",
       "    <tr>\n",
       "      <th>8615</th>\n",
       "      <td>2024-01-23</td>\n",
       "      <td>assunto_cities_skylines</td>\n",
       "      <td>WKR-okKAagk</td>\n",
       "      <td>Manhã</td>\n",
       "      <td>2</td>\n",
       "      <td>0</td>\n",
       "      <td>9</td>\n",
       "      <td>1</td>\n",
       "      <td>0</td>\n",
       "    </tr>\n",
       "    <tr>\n",
       "      <th>...</th>\n",
       "      <td>...</td>\n",
       "      <td>...</td>\n",
       "      <td>...</td>\n",
       "      <td>...</td>\n",
       "      <td>...</td>\n",
       "      <td>...</td>\n",
       "      <td>...</td>\n",
       "      <td>...</td>\n",
       "      <td>...</td>\n",
       "    </tr>\n",
       "    <tr>\n",
       "      <th>8863</th>\n",
       "      <td>2024-01-23</td>\n",
       "      <td>assunto_cities_skylines</td>\n",
       "      <td>lTu4TRT-SoQ</td>\n",
       "      <td>Tarde</td>\n",
       "      <td>0</td>\n",
       "      <td>0</td>\n",
       "      <td>0</td>\n",
       "      <td>2</td>\n",
       "      <td>0</td>\n",
       "    </tr>\n",
       "    <tr>\n",
       "      <th>8864</th>\n",
       "      <td>2024-01-23</td>\n",
       "      <td>assunto_cities_skylines</td>\n",
       "      <td>mjMCMNM-AOI</td>\n",
       "      <td>Noite</td>\n",
       "      <td>0</td>\n",
       "      <td>0</td>\n",
       "      <td>0</td>\n",
       "      <td>3</td>\n",
       "      <td>0</td>\n",
       "    </tr>\n",
       "    <tr>\n",
       "      <th>8865</th>\n",
       "      <td>2024-01-23</td>\n",
       "      <td>assunto_cities_skylines</td>\n",
       "      <td>21NHBH_8nWc</td>\n",
       "      <td>Noite</td>\n",
       "      <td>0</td>\n",
       "      <td>0</td>\n",
       "      <td>0</td>\n",
       "      <td>3</td>\n",
       "      <td>0</td>\n",
       "    </tr>\n",
       "    <tr>\n",
       "      <th>8866</th>\n",
       "      <td>2024-01-23</td>\n",
       "      <td>assunto_cities_skylines</td>\n",
       "      <td>lTu4TRT-SoQ</td>\n",
       "      <td>Noite</td>\n",
       "      <td>0</td>\n",
       "      <td>0</td>\n",
       "      <td>0</td>\n",
       "      <td>3</td>\n",
       "      <td>0</td>\n",
       "    </tr>\n",
       "    <tr>\n",
       "      <th>8867</th>\n",
       "      <td>2024-01-23</td>\n",
       "      <td>assunto_cities_skylines</td>\n",
       "      <td>pT7M1iH1s4M</td>\n",
       "      <td>Noite</td>\n",
       "      <td>0</td>\n",
       "      <td>0</td>\n",
       "      <td>0</td>\n",
       "      <td>3</td>\n",
       "      <td>0</td>\n",
       "    </tr>\n",
       "  </tbody>\n",
       "</table>\n",
       "<p>257 rows × 9 columns</p>\n",
       "</div>"
      ],
      "text/plain": [
       "     data_extracao                  ASSUNTO     ID_VIDEO TURNO_EXTRACAO  \\\n",
       "8611    2024-01-23  assunto_cities_skylines  38KqRAlHM2I          Noite   \n",
       "8612    2024-01-23  assunto_cities_skylines  38KqRAlHM2I          Tarde   \n",
       "8613    2024-01-23  assunto_cities_skylines  q4gfnofyqPA          Tarde   \n",
       "8614    2024-01-23  assunto_cities_skylines  38KqRAlHM2I          Manhã   \n",
       "8615    2024-01-23  assunto_cities_skylines  WKR-okKAagk          Manhã   \n",
       "...            ...                      ...          ...            ...   \n",
       "8863    2024-01-23  assunto_cities_skylines  lTu4TRT-SoQ          Tarde   \n",
       "8864    2024-01-23  assunto_cities_skylines  mjMCMNM-AOI          Noite   \n",
       "8865    2024-01-23  assunto_cities_skylines  21NHBH_8nWc          Noite   \n",
       "8866    2024-01-23  assunto_cities_skylines  lTu4TRT-SoQ          Noite   \n",
       "8867    2024-01-23  assunto_cities_skylines  pT7M1iH1s4M          Noite   \n",
       "\n",
       "      TOTAL_LIKES  TOTAL_COMENTARIOS  TOTAL_VISUALIZACOES  \\\n",
       "8611          609                 13                 9882   \n",
       "8612          605                 13                 9806   \n",
       "8613           78                  6                  976   \n",
       "8614          595                 13                 9632   \n",
       "8615            2                  0                    9   \n",
       "...           ...                ...                  ...   \n",
       "8863            0                  0                    0   \n",
       "8864            0                  0                    0   \n",
       "8865            0                  0                    0   \n",
       "8866            0                  0                    0   \n",
       "8867            0                  0                    0   \n",
       "\n",
       "      INDICE_TURNO_EXTRACAO  TOTAL_FAVORITOS  \n",
       "8611                      3                0  \n",
       "8612                      2                0  \n",
       "8613                      2                0  \n",
       "8614                      1                0  \n",
       "8615                      1                0  \n",
       "...                     ...              ...  \n",
       "8863                      2                0  \n",
       "8864                      3                0  \n",
       "8865                      3                0  \n",
       "8866                      3                0  \n",
       "8867                      3                0  \n",
       "\n",
       "[257 rows x 9 columns]"
      ]
     },
     "execution_count": 6,
     "metadata": {},
     "output_type": "execute_result"
    }
   ],
   "source": [
    "colunas = ['data_extracao', 'ASSUNTO', 'ID_VIDEO', 'TURNO_EXTRACAO', 'TOTAL_LIKES', 'TOTAL_COMENTARIOS', 'TOTAL_VISUALIZACOES', 'INDICE_TURNO_EXTRACAO', 'TOTAL_FAVORITOS']\n",
    "base_video = pd.read_parquet('../dados/ouro/dados_tratado_estatisticas_gerais.parquet', columns=colunas)\n",
    "base_video = base_video.query('ASSUNTO == \"assunto_cities_skylines\" and data_extracao == \"2024-01-23\"')\n",
    "base_video"
   ]
  },
  {
   "cell_type": "code",
   "execution_count": 7,
   "metadata": {},
   "outputs": [
    {
     "data": {
      "text/html": [
       "<div>\n",
       "<style scoped>\n",
       "    .dataframe tbody tr th:only-of-type {\n",
       "        vertical-align: middle;\n",
       "    }\n",
       "\n",
       "    .dataframe tbody tr th {\n",
       "        vertical-align: top;\n",
       "    }\n",
       "\n",
       "    .dataframe thead th {\n",
       "        text-align: right;\n",
       "    }\n",
       "</style>\n",
       "<table border=\"1\" class=\"dataframe\">\n",
       "  <thead>\n",
       "    <tr style=\"text-align: right;\">\n",
       "      <th></th>\n",
       "      <th>ID_VIDEO</th>\n",
       "      <th>TOTAL_LIKES</th>\n",
       "      <th>TOTAL_COMENTARIOS</th>\n",
       "      <th>TOTAL_VISUALIZACOES</th>\n",
       "    </tr>\n",
       "  </thead>\n",
       "  <tbody>\n",
       "    <tr>\n",
       "      <th>0</th>\n",
       "      <td>0Wn1ZcnE7iM</td>\n",
       "      <td>0</td>\n",
       "      <td>1</td>\n",
       "      <td>5</td>\n",
       "    </tr>\n",
       "    <tr>\n",
       "      <th>1</th>\n",
       "      <td>1OAQ0TBwQ0w</td>\n",
       "      <td>992</td>\n",
       "      <td>28</td>\n",
       "      <td>6659</td>\n",
       "    </tr>\n",
       "    <tr>\n",
       "      <th>2</th>\n",
       "      <td>1xwK-5-4Hsk</td>\n",
       "      <td>347</td>\n",
       "      <td>30</td>\n",
       "      <td>3354</td>\n",
       "    </tr>\n",
       "    <tr>\n",
       "      <th>3</th>\n",
       "      <td>21NHBH_8nWc</td>\n",
       "      <td>0</td>\n",
       "      <td>0</td>\n",
       "      <td>0</td>\n",
       "    </tr>\n",
       "    <tr>\n",
       "      <th>4</th>\n",
       "      <td>22MPsbir-Nk</td>\n",
       "      <td>119</td>\n",
       "      <td>10</td>\n",
       "      <td>623</td>\n",
       "    </tr>\n",
       "    <tr>\n",
       "      <th>...</th>\n",
       "      <td>...</td>\n",
       "      <td>...</td>\n",
       "      <td>...</td>\n",
       "      <td>...</td>\n",
       "    </tr>\n",
       "    <tr>\n",
       "      <th>86</th>\n",
       "      <td>wdY0TGPfrAs</td>\n",
       "      <td>135</td>\n",
       "      <td>0</td>\n",
       "      <td>2444</td>\n",
       "    </tr>\n",
       "    <tr>\n",
       "      <th>87</th>\n",
       "      <td>xKEr-US5wo8</td>\n",
       "      <td>3</td>\n",
       "      <td>0</td>\n",
       "      <td>7</td>\n",
       "    </tr>\n",
       "    <tr>\n",
       "      <th>88</th>\n",
       "      <td>xPK8y7NidnA</td>\n",
       "      <td>209</td>\n",
       "      <td>12</td>\n",
       "      <td>1929</td>\n",
       "    </tr>\n",
       "    <tr>\n",
       "      <th>89</th>\n",
       "      <td>xtlw_u8B--E</td>\n",
       "      <td>2</td>\n",
       "      <td>0</td>\n",
       "      <td>2</td>\n",
       "    </tr>\n",
       "    <tr>\n",
       "      <th>90</th>\n",
       "      <td>ySUyzBe0Qjo</td>\n",
       "      <td>1326</td>\n",
       "      <td>79</td>\n",
       "      <td>4607</td>\n",
       "    </tr>\n",
       "  </tbody>\n",
       "</table>\n",
       "<p>91 rows × 4 columns</p>\n",
       "</div>"
      ],
      "text/plain": [
       "       ID_VIDEO  TOTAL_LIKES  TOTAL_COMENTARIOS  TOTAL_VISUALIZACOES\n",
       "0   0Wn1ZcnE7iM            0                  1                    5\n",
       "1   1OAQ0TBwQ0w          992                 28                 6659\n",
       "2   1xwK-5-4Hsk          347                 30                 3354\n",
       "3   21NHBH_8nWc            0                  0                    0\n",
       "4   22MPsbir-Nk          119                 10                  623\n",
       "..          ...          ...                ...                  ...\n",
       "86  wdY0TGPfrAs          135                  0                 2444\n",
       "87  xKEr-US5wo8            3                  0                    7\n",
       "88  xPK8y7NidnA          209                 12                 1929\n",
       "89  xtlw_u8B--E            2                  0                    2\n",
       "90  ySUyzBe0Qjo         1326                 79                 4607\n",
       "\n",
       "[91 rows x 4 columns]"
      ]
     },
     "execution_count": 7,
     "metadata": {},
     "output_type": "execute_result"
    }
   ],
   "source": [
    "base_video = base_video.groupby([ 'ID_VIDEO']) \\\n",
    "    .agg(\n",
    "        TOTAL_LIKES=('TOTAL_LIKES', 'max'),\n",
    "        TOTAL_COMENTARIOS=('TOTAL_COMENTARIOS', 'max'),\n",
    "        TOTAL_VISUALIZACOES=('TOTAL_VISUALIZACOES', 'max')\n",
    "    ).reset_index()\n",
    "base_video"
   ]
  },
  {
   "cell_type": "code",
   "execution_count": 8,
   "metadata": {},
   "outputs": [],
   "source": [
    "base_video['TOTAL_VISUALIZACOES_DESLOCADO'] = base_video.groupby('ID_VIDEO')['TOTAL_VISUALIZACOES'].shift(1)\n",
    "base_video['TOTAL_COMENTARIOS_DESLOCADO'] = base_video.groupby('ID_VIDEO')['TOTAL_COMENTARIOS'].shift(1)\n",
    "base_video['TOTAL_LIKES_DESLOCADO'] = base_video.groupby('ID_VIDEO')['TOTAL_LIKES'].shift(1)\n",
    "base_video.fillna(0, axis=1, inplace=True)\n",
    "base_video['TOTAL_LIKES_DIAS'] = base_video['TOTAL_LIKES'] - base_video['TOTAL_LIKES_DESLOCADO']\n",
    "base_video['TOTAL_COMENTARIOS_DIAS'] = base_video['TOTAL_COMENTARIOS'] - base_video['TOTAL_COMENTARIOS_DESLOCADO']\n",
    "base_video['TOTAL_VISUALIZACAO_DIAS'] = base_video['TOTAL_VISUALIZACOES'] - base_video['TOTAL_VISUALIZACOES_DESLOCADO']\n",
    "base_video.drop(['TOTAL_LIKES', 'TOTAL_LIKES_DESLOCADO', 'TOTAL_COMENTARIOS', 'TOTAL_COMENTARIOS_DESLOCADO', 'TOTAL_VISUALIZACOES', 'TOTAL_VISUALIZACOES_DESLOCADO'],axis=1, inplace=True)\n"
   ]
  },
  {
   "cell_type": "code",
   "execution_count": 9,
   "metadata": {},
   "outputs": [],
   "source": [
    "def calcular_taxa_engajamento(linha : pd.Series):\n",
    "    try:\n",
    "        taxa_engajamento = ((linha['TOTAL_LIKES_DIAS'] + linha['TOTAL_COMENTARIOS_DIAS']) / linha['TOTAL_VISUALIZACAO_DIAS']) * 100\n",
    "    except ZeroDivisionError:\n",
    "        taxa_engajamento = 0 \n",
    "    return round(taxa_engajamento, 2)\n"
   ]
  },
  {
   "cell_type": "code",
   "execution_count": 10,
   "metadata": {},
   "outputs": [
    {
     "data": {
      "text/html": [
       "<div>\n",
       "<style scoped>\n",
       "    .dataframe tbody tr th:only-of-type {\n",
       "        vertical-align: middle;\n",
       "    }\n",
       "\n",
       "    .dataframe tbody tr th {\n",
       "        vertical-align: top;\n",
       "    }\n",
       "\n",
       "    .dataframe thead th {\n",
       "        text-align: right;\n",
       "    }\n",
       "</style>\n",
       "<table border=\"1\" class=\"dataframe\">\n",
       "  <thead>\n",
       "    <tr style=\"text-align: right;\">\n",
       "      <th></th>\n",
       "      <th>ID_VIDEO</th>\n",
       "      <th>TOTAL_LIKES_DIAS</th>\n",
       "      <th>TOTAL_COMENTARIOS_DIAS</th>\n",
       "      <th>TOTAL_VISUALIZACAO_DIAS</th>\n",
       "      <th>TAXA_ENGAJAMENTO_DIA</th>\n",
       "    </tr>\n",
       "  </thead>\n",
       "  <tbody>\n",
       "    <tr>\n",
       "      <th>0</th>\n",
       "      <td>0Wn1ZcnE7iM</td>\n",
       "      <td>0.0</td>\n",
       "      <td>1.0</td>\n",
       "      <td>5.0</td>\n",
       "      <td>20.00</td>\n",
       "    </tr>\n",
       "    <tr>\n",
       "      <th>1</th>\n",
       "      <td>1OAQ0TBwQ0w</td>\n",
       "      <td>992.0</td>\n",
       "      <td>28.0</td>\n",
       "      <td>6659.0</td>\n",
       "      <td>15.32</td>\n",
       "    </tr>\n",
       "    <tr>\n",
       "      <th>2</th>\n",
       "      <td>1xwK-5-4Hsk</td>\n",
       "      <td>347.0</td>\n",
       "      <td>30.0</td>\n",
       "      <td>3354.0</td>\n",
       "      <td>11.24</td>\n",
       "    </tr>\n",
       "    <tr>\n",
       "      <th>3</th>\n",
       "      <td>21NHBH_8nWc</td>\n",
       "      <td>0.0</td>\n",
       "      <td>0.0</td>\n",
       "      <td>0.0</td>\n",
       "      <td>0.00</td>\n",
       "    </tr>\n",
       "    <tr>\n",
       "      <th>4</th>\n",
       "      <td>22MPsbir-Nk</td>\n",
       "      <td>119.0</td>\n",
       "      <td>10.0</td>\n",
       "      <td>623.0</td>\n",
       "      <td>20.71</td>\n",
       "    </tr>\n",
       "    <tr>\n",
       "      <th>...</th>\n",
       "      <td>...</td>\n",
       "      <td>...</td>\n",
       "      <td>...</td>\n",
       "      <td>...</td>\n",
       "      <td>...</td>\n",
       "    </tr>\n",
       "    <tr>\n",
       "      <th>86</th>\n",
       "      <td>wdY0TGPfrAs</td>\n",
       "      <td>135.0</td>\n",
       "      <td>0.0</td>\n",
       "      <td>2444.0</td>\n",
       "      <td>5.52</td>\n",
       "    </tr>\n",
       "    <tr>\n",
       "      <th>87</th>\n",
       "      <td>xKEr-US5wo8</td>\n",
       "      <td>3.0</td>\n",
       "      <td>0.0</td>\n",
       "      <td>7.0</td>\n",
       "      <td>42.86</td>\n",
       "    </tr>\n",
       "    <tr>\n",
       "      <th>88</th>\n",
       "      <td>xPK8y7NidnA</td>\n",
       "      <td>209.0</td>\n",
       "      <td>12.0</td>\n",
       "      <td>1929.0</td>\n",
       "      <td>11.46</td>\n",
       "    </tr>\n",
       "    <tr>\n",
       "      <th>89</th>\n",
       "      <td>xtlw_u8B--E</td>\n",
       "      <td>2.0</td>\n",
       "      <td>0.0</td>\n",
       "      <td>2.0</td>\n",
       "      <td>100.00</td>\n",
       "    </tr>\n",
       "    <tr>\n",
       "      <th>90</th>\n",
       "      <td>ySUyzBe0Qjo</td>\n",
       "      <td>1326.0</td>\n",
       "      <td>79.0</td>\n",
       "      <td>4607.0</td>\n",
       "      <td>30.50</td>\n",
       "    </tr>\n",
       "  </tbody>\n",
       "</table>\n",
       "<p>91 rows × 5 columns</p>\n",
       "</div>"
      ],
      "text/plain": [
       "       ID_VIDEO  TOTAL_LIKES_DIAS  TOTAL_COMENTARIOS_DIAS  \\\n",
       "0   0Wn1ZcnE7iM               0.0                     1.0   \n",
       "1   1OAQ0TBwQ0w             992.0                    28.0   \n",
       "2   1xwK-5-4Hsk             347.0                    30.0   \n",
       "3   21NHBH_8nWc               0.0                     0.0   \n",
       "4   22MPsbir-Nk             119.0                    10.0   \n",
       "..          ...               ...                     ...   \n",
       "86  wdY0TGPfrAs             135.0                     0.0   \n",
       "87  xKEr-US5wo8               3.0                     0.0   \n",
       "88  xPK8y7NidnA             209.0                    12.0   \n",
       "89  xtlw_u8B--E               2.0                     0.0   \n",
       "90  ySUyzBe0Qjo            1326.0                    79.0   \n",
       "\n",
       "    TOTAL_VISUALIZACAO_DIAS  TAXA_ENGAJAMENTO_DIA  \n",
       "0                       5.0                 20.00  \n",
       "1                    6659.0                 15.32  \n",
       "2                    3354.0                 11.24  \n",
       "3                       0.0                  0.00  \n",
       "4                     623.0                 20.71  \n",
       "..                      ...                   ...  \n",
       "86                   2444.0                  5.52  \n",
       "87                      7.0                 42.86  \n",
       "88                   1929.0                 11.46  \n",
       "89                      2.0                100.00  \n",
       "90                   4607.0                 30.50  \n",
       "\n",
       "[91 rows x 5 columns]"
      ]
     },
     "execution_count": 10,
     "metadata": {},
     "output_type": "execute_result"
    }
   ],
   "source": [
    "base_video['TAXA_ENGAJAMENTO_DIA'] = base_video.apply(calcular_taxa_engajamento, axis=1)\n",
    "base_video[['ID_VIDEO']] = base_video[['ID_VIDEO']].astype('string')\n",
    "base_video[['TOTAL_LIKES_DIAS','TOTAL_COMENTARIOS_DIAS', 'TOTAL_VISUALIZACAO_DIAS', 'TAXA_ENGAJAMENTO_DIA']] = base_video[['TOTAL_LIKES_DIAS','TOTAL_COMENTARIOS_DIAS', 'TOTAL_VISUALIZACAO_DIAS', 'TAXA_ENGAJAMENTO_DIA']].astype('float')\n",
    "base_video"
   ]
  },
  {
   "cell_type": "code",
   "execution_count": 11,
   "metadata": {},
   "outputs": [
    {
     "data": {
      "text/html": [
       "<div>\n",
       "<style scoped>\n",
       "    .dataframe tbody tr th:only-of-type {\n",
       "        vertical-align: middle;\n",
       "    }\n",
       "\n",
       "    .dataframe tbody tr th {\n",
       "        vertical-align: top;\n",
       "    }\n",
       "\n",
       "    .dataframe thead th {\n",
       "        text-align: right;\n",
       "    }\n",
       "</style>\n",
       "<table border=\"1\" class=\"dataframe\">\n",
       "  <thead>\n",
       "    <tr style=\"text-align: right;\">\n",
       "      <th></th>\n",
       "      <th>ID_VIDEO</th>\n",
       "      <th>TOTAL_LIKES_DIAS</th>\n",
       "      <th>TOTAL_COMENTARIOS_DIAS</th>\n",
       "      <th>TOTAL_VISUALIZACAO_DIAS</th>\n",
       "      <th>TAXA_ENGAJAMENTO_DIA</th>\n",
       "    </tr>\n",
       "  </thead>\n",
       "  <tbody>\n",
       "    <tr>\n",
       "      <th>45</th>\n",
       "      <td>SH1pVQcObMc</td>\n",
       "      <td>2256.0</td>\n",
       "      <td>126.0</td>\n",
       "      <td>15348.0</td>\n",
       "      <td>15.52</td>\n",
       "    </tr>\n",
       "    <tr>\n",
       "      <th>49</th>\n",
       "      <td>WEet1zBsDvk</td>\n",
       "      <td>1936.0</td>\n",
       "      <td>50.0</td>\n",
       "      <td>13909.0</td>\n",
       "      <td>14.28</td>\n",
       "    </tr>\n",
       "    <tr>\n",
       "      <th>42</th>\n",
       "      <td>QN33FxO7Irw</td>\n",
       "      <td>563.0</td>\n",
       "      <td>6.0</td>\n",
       "      <td>13309.0</td>\n",
       "      <td>4.28</td>\n",
       "    </tr>\n",
       "    <tr>\n",
       "      <th>69</th>\n",
       "      <td>mGtCSlnvvIE</td>\n",
       "      <td>1714.0</td>\n",
       "      <td>105.0</td>\n",
       "      <td>13189.0</td>\n",
       "      <td>13.79</td>\n",
       "    </tr>\n",
       "    <tr>\n",
       "      <th>10</th>\n",
       "      <td>4WrWq5vJjXk</td>\n",
       "      <td>518.0</td>\n",
       "      <td>8.0</td>\n",
       "      <td>12268.0</td>\n",
       "      <td>4.29</td>\n",
       "    </tr>\n",
       "    <tr>\n",
       "      <th>20</th>\n",
       "      <td>AFLjPQpxAso</td>\n",
       "      <td>556.0</td>\n",
       "      <td>13.0</td>\n",
       "      <td>11972.0</td>\n",
       "      <td>4.75</td>\n",
       "    </tr>\n",
       "    <tr>\n",
       "      <th>12</th>\n",
       "      <td>5QRCMkPPr2U</td>\n",
       "      <td>671.0</td>\n",
       "      <td>8.0</td>\n",
       "      <td>11851.0</td>\n",
       "      <td>5.73</td>\n",
       "    </tr>\n",
       "    <tr>\n",
       "      <th>24</th>\n",
       "      <td>D8mQZAv_tQU</td>\n",
       "      <td>1328.0</td>\n",
       "      <td>35.0</td>\n",
       "      <td>10936.0</td>\n",
       "      <td>12.46</td>\n",
       "    </tr>\n",
       "    <tr>\n",
       "      <th>7</th>\n",
       "      <td>38KqRAlHM2I</td>\n",
       "      <td>609.0</td>\n",
       "      <td>13.0</td>\n",
       "      <td>9882.0</td>\n",
       "      <td>6.29</td>\n",
       "    </tr>\n",
       "    <tr>\n",
       "      <th>57</th>\n",
       "      <td>d2LXShfdO9Q</td>\n",
       "      <td>348.0</td>\n",
       "      <td>11.0</td>\n",
       "      <td>8976.0</td>\n",
       "      <td>4.00</td>\n",
       "    </tr>\n",
       "  </tbody>\n",
       "</table>\n",
       "</div>"
      ],
      "text/plain": [
       "       ID_VIDEO  TOTAL_LIKES_DIAS  TOTAL_COMENTARIOS_DIAS  \\\n",
       "45  SH1pVQcObMc            2256.0                   126.0   \n",
       "49  WEet1zBsDvk            1936.0                    50.0   \n",
       "42  QN33FxO7Irw             563.0                     6.0   \n",
       "69  mGtCSlnvvIE            1714.0                   105.0   \n",
       "10  4WrWq5vJjXk             518.0                     8.0   \n",
       "20  AFLjPQpxAso             556.0                    13.0   \n",
       "12  5QRCMkPPr2U             671.0                     8.0   \n",
       "24  D8mQZAv_tQU            1328.0                    35.0   \n",
       "7   38KqRAlHM2I             609.0                    13.0   \n",
       "57  d2LXShfdO9Q             348.0                    11.0   \n",
       "\n",
       "    TOTAL_VISUALIZACAO_DIAS  TAXA_ENGAJAMENTO_DIA  \n",
       "45                  15348.0                 15.52  \n",
       "49                  13909.0                 14.28  \n",
       "42                  13309.0                  4.28  \n",
       "69                  13189.0                 13.79  \n",
       "10                  12268.0                  4.29  \n",
       "20                  11972.0                  4.75  \n",
       "12                  11851.0                  5.73  \n",
       "24                  10936.0                 12.46  \n",
       "7                    9882.0                  6.29  \n",
       "57                   8976.0                  4.00  "
      ]
     },
     "execution_count": 11,
     "metadata": {},
     "output_type": "execute_result"
    }
   ],
   "source": [
    "base_video_top_10 = base_video.nlargest(10, columns=['TOTAL_VISUALIZACAO_DIAS'])\n",
    "base_video_top_10"
   ]
  },
  {
   "cell_type": "code",
   "execution_count": 12,
   "metadata": {},
   "outputs": [
    {
     "data": {
      "text/html": [
       "\n",
       "        <iframe\n",
       "            width=\"100%\"\n",
       "            height=\"650\"\n",
       "            src=\"http://127.0.0.1:8049/\"\n",
       "            frameborder=\"0\"\n",
       "            allowfullscreen\n",
       "            \n",
       "        ></iframe>\n",
       "        "
      ],
      "text/plain": [
       "<IPython.lib.display.IFrame at 0x7f699a97d540>"
      ]
     },
     "metadata": {},
     "output_type": "display_data"
    }
   ],
   "source": [
    "\n",
    "app = Dash(__name__)\n",
    "\n",
    "app.layout = dash_table.DataTable(base_video_top_10.to_dict('records'), [{\"name\": i, \"id\": i} for i in base_video_top_10.columns])\n",
    "\n",
    "if __name__ == '__main__':\n",
    "    app.run(debug=True, port=8049)"
   ]
  },
  {
   "cell_type": "markdown",
   "metadata": {},
   "source": [
    "# Análise popularidade tags"
   ]
  },
  {
   "cell_type": "markdown",
   "metadata": {},
   "source": [
    "- Por assunto"
   ]
  },
  {
   "cell_type": "code",
   "execution_count": 420,
   "metadata": {},
   "outputs": [
    {
     "data": {
      "text/html": [
       "<div>\n",
       "<style scoped>\n",
       "    .dataframe tbody tr th:only-of-type {\n",
       "        vertical-align: middle;\n",
       "    }\n",
       "\n",
       "    .dataframe tbody tr th {\n",
       "        vertical-align: top;\n",
       "    }\n",
       "\n",
       "    .dataframe thead th {\n",
       "        text-align: right;\n",
       "    }\n",
       "</style>\n",
       "<table border=\"1\" class=\"dataframe\">\n",
       "  <thead>\n",
       "    <tr style=\"text-align: right;\">\n",
       "      <th></th>\n",
       "      <th>data_extracao</th>\n",
       "      <th>ASSUNTO</th>\n",
       "      <th>ID_VIDEO</th>\n",
       "      <th>TITULO_VIDEO</th>\n",
       "      <th>TAGS</th>\n",
       "      <th>TOTAL_VISUALIZACOES</th>\n",
       "      <th>TOTAL_LIKES</th>\n",
       "      <th>TOTAL_COMENTARIOS</th>\n",
       "      <th>ID_CANAL</th>\n",
       "      <th>NM_CANAL</th>\n",
       "      <th>TURNO_EXTRACAO</th>\n",
       "      <th>INDICE_TURNO_EXTRACAO</th>\n",
       "    </tr>\n",
       "  </thead>\n",
       "  <tbody>\n",
       "    <tr>\n",
       "      <th>8784</th>\n",
       "      <td>2024-01-23</td>\n",
       "      <td>assunto_cities_skylines</td>\n",
       "      <td>SH1pVQcObMc</td>\n",
       "      <td>MINHA EXPERIÊNCIA COM CITIES SKYLINES 2 (FIM) ...</td>\n",
       "      <td>[cities skylines, cities skylines 2, cities sk...</td>\n",
       "      <td>15348</td>\n",
       "      <td>2256</td>\n",
       "      <td>126</td>\n",
       "      <td>UCrOH1V-FyMunBIMrKL0y0xQ</td>\n",
       "      <td>ChratosGameplay</td>\n",
       "      <td>Noite</td>\n",
       "      <td>3</td>\n",
       "    </tr>\n",
       "    <tr>\n",
       "      <th>8791</th>\n",
       "      <td>2024-01-23</td>\n",
       "      <td>assunto_cities_skylines</td>\n",
       "      <td>WEet1zBsDvk</td>\n",
       "      <td>PRISÃO E FBI PARA COMBATER CRIMINALIDADE 🏙️ - ...</td>\n",
       "      <td>[cities skylines, cities skylines 2, cities sk...</td>\n",
       "      <td>13909</td>\n",
       "      <td>1936</td>\n",
       "      <td>50</td>\n",
       "      <td>UCrOH1V-FyMunBIMrKL0y0xQ</td>\n",
       "      <td>ChratosGameplay</td>\n",
       "      <td>Noite</td>\n",
       "      <td>3</td>\n",
       "    </tr>\n",
       "    <tr>\n",
       "      <th>8795</th>\n",
       "      <td>2024-01-23</td>\n",
       "      <td>assunto_cities_skylines</td>\n",
       "      <td>QN33FxO7Irw</td>\n",
       "      <td>new update parte 8 Buckshot roulette #buckshot...</td>\n",
       "      <td>[buckshot roulette, buckshot roulette gameplay...</td>\n",
       "      <td>13309</td>\n",
       "      <td>563</td>\n",
       "      <td>6</td>\n",
       "      <td>UCL5k8vBBo1JOHh7AnvoD8xQ</td>\n",
       "      <td>JulioGameplay</td>\n",
       "      <td>Noite</td>\n",
       "      <td>3</td>\n",
       "    </tr>\n",
       "    <tr>\n",
       "      <th>8799</th>\n",
       "      <td>2024-01-23</td>\n",
       "      <td>assunto_cities_skylines</td>\n",
       "      <td>mGtCSlnvvIE</td>\n",
       "      <td>PRIMEIRO PARQUE COM LAGOS ARTIFICAIS 🏙️ - Citi...</td>\n",
       "      <td>[cities skylines, cities skylines 2, cities sk...</td>\n",
       "      <td>13189</td>\n",
       "      <td>1714</td>\n",
       "      <td>105</td>\n",
       "      <td>UCrOH1V-FyMunBIMrKL0y0xQ</td>\n",
       "      <td>ChratosGameplay</td>\n",
       "      <td>Noite</td>\n",
       "      <td>3</td>\n",
       "    </tr>\n",
       "    <tr>\n",
       "      <th>8809</th>\n",
       "      <td>2024-01-23</td>\n",
       "      <td>assunto_cities_skylines</td>\n",
       "      <td>4WrWq5vJjXk</td>\n",
       "      <td>MINHA SORTE ACABOU NO Buckshot roulette #bucks...</td>\n",
       "      <td>[buckshot roulette, buckshot roulette gameplay...</td>\n",
       "      <td>12268</td>\n",
       "      <td>518</td>\n",
       "      <td>8</td>\n",
       "      <td>UCL5k8vBBo1JOHh7AnvoD8xQ</td>\n",
       "      <td>JulioGameplay</td>\n",
       "      <td>Noite</td>\n",
       "      <td>3</td>\n",
       "    </tr>\n",
       "    <tr>\n",
       "      <th>...</th>\n",
       "      <td>...</td>\n",
       "      <td>...</td>\n",
       "      <td>...</td>\n",
       "      <td>...</td>\n",
       "      <td>...</td>\n",
       "      <td>...</td>\n",
       "      <td>...</td>\n",
       "      <td>...</td>\n",
       "      <td>...</td>\n",
       "      <td>...</td>\n",
       "      <td>...</td>\n",
       "      <td>...</td>\n",
       "    </tr>\n",
       "    <tr>\n",
       "      <th>8854</th>\n",
       "      <td>2024-01-23</td>\n",
       "      <td>assunto_cities_skylines</td>\n",
       "      <td>FdGxglmL90Y</td>\n",
       "      <td>CITIES SKYLINES II - UM NOVO COMEÇO| A NEW BEG...</td>\n",
       "      <td>[Simulação de cidade, Construção de cidade, Ge...</td>\n",
       "      <td>1</td>\n",
       "      <td>0</td>\n",
       "      <td>0</td>\n",
       "      <td>UCDqzBrUOm7guqqyU8eDackg</td>\n",
       "      <td>BUG CITIES</td>\n",
       "      <td>Noite</td>\n",
       "      <td>3</td>\n",
       "    </tr>\n",
       "    <tr>\n",
       "      <th>8864</th>\n",
       "      <td>2024-01-23</td>\n",
       "      <td>assunto_cities_skylines</td>\n",
       "      <td>mjMCMNM-AOI</td>\n",
       "      <td>CITIES SKYLINES | MAPA PICOS VERDES | HAND BEA...</td>\n",
       "      <td>[cities skylines, cities skylines gameplay, ci...</td>\n",
       "      <td>0</td>\n",
       "      <td>0</td>\n",
       "      <td>0</td>\n",
       "      <td>UC7v51W2NoLFawizgcNuVBOA</td>\n",
       "      <td>CANAL HAND - GAME WITH MUSIC</td>\n",
       "      <td>Noite</td>\n",
       "      <td>3</td>\n",
       "    </tr>\n",
       "    <tr>\n",
       "      <th>8865</th>\n",
       "      <td>2024-01-23</td>\n",
       "      <td>assunto_cities_skylines</td>\n",
       "      <td>21NHBH_8nWc</td>\n",
       "      <td>#44 - Cities: Skylines 2 - Enfim, Trem de pass...</td>\n",
       "      <td>[cities skylines 2, cities skylines 2 gameplay...</td>\n",
       "      <td>0</td>\n",
       "      <td>0</td>\n",
       "      <td>0</td>\n",
       "      <td>UC17XM9GSP667Hle_ce1JeJw</td>\n",
       "      <td>AMJ Gameplays</td>\n",
       "      <td>Noite</td>\n",
       "      <td>3</td>\n",
       "    </tr>\n",
       "    <tr>\n",
       "      <th>8866</th>\n",
       "      <td>2024-01-23</td>\n",
       "      <td>assunto_cities_skylines</td>\n",
       "      <td>lTu4TRT-SoQ</td>\n",
       "      <td>CITIES SKYLINES II - UM NOVO COMEÇO| A NEW BEG...</td>\n",
       "      <td>[Simulação de cidade, Construção de cidade, Ge...</td>\n",
       "      <td>0</td>\n",
       "      <td>0</td>\n",
       "      <td>0</td>\n",
       "      <td>UCDqzBrUOm7guqqyU8eDackg</td>\n",
       "      <td>BUG CITIES</td>\n",
       "      <td>Noite</td>\n",
       "      <td>3</td>\n",
       "    </tr>\n",
       "    <tr>\n",
       "      <th>8867</th>\n",
       "      <td>2024-01-23</td>\n",
       "      <td>assunto_cities_skylines</td>\n",
       "      <td>pT7M1iH1s4M</td>\n",
       "      <td>CITIES SKYLINES | MAPA PICOS VERDES | HAND BEA...</td>\n",
       "      <td>[cities skylines, cities skylines gameplay, ci...</td>\n",
       "      <td>0</td>\n",
       "      <td>0</td>\n",
       "      <td>0</td>\n",
       "      <td>UC7v51W2NoLFawizgcNuVBOA</td>\n",
       "      <td>CANAL HAND - GAME WITH MUSIC</td>\n",
       "      <td>Noite</td>\n",
       "      <td>3</td>\n",
       "    </tr>\n",
       "  </tbody>\n",
       "</table>\n",
       "<p>91 rows × 12 columns</p>\n",
       "</div>"
      ],
      "text/plain": [
       "     data_extracao                  ASSUNTO     ID_VIDEO  \\\n",
       "8784    2024-01-23  assunto_cities_skylines  SH1pVQcObMc   \n",
       "8791    2024-01-23  assunto_cities_skylines  WEet1zBsDvk   \n",
       "8795    2024-01-23  assunto_cities_skylines  QN33FxO7Irw   \n",
       "8799    2024-01-23  assunto_cities_skylines  mGtCSlnvvIE   \n",
       "8809    2024-01-23  assunto_cities_skylines  4WrWq5vJjXk   \n",
       "...            ...                      ...          ...   \n",
       "8854    2024-01-23  assunto_cities_skylines  FdGxglmL90Y   \n",
       "8864    2024-01-23  assunto_cities_skylines  mjMCMNM-AOI   \n",
       "8865    2024-01-23  assunto_cities_skylines  21NHBH_8nWc   \n",
       "8866    2024-01-23  assunto_cities_skylines  lTu4TRT-SoQ   \n",
       "8867    2024-01-23  assunto_cities_skylines  pT7M1iH1s4M   \n",
       "\n",
       "                                           TITULO_VIDEO  \\\n",
       "8784  MINHA EXPERIÊNCIA COM CITIES SKYLINES 2 (FIM) ...   \n",
       "8791  PRISÃO E FBI PARA COMBATER CRIMINALIDADE 🏙️ - ...   \n",
       "8795  new update parte 8 Buckshot roulette #buckshot...   \n",
       "8799  PRIMEIRO PARQUE COM LAGOS ARTIFICAIS 🏙️ - Citi...   \n",
       "8809  MINHA SORTE ACABOU NO Buckshot roulette #bucks...   \n",
       "...                                                 ...   \n",
       "8854  CITIES SKYLINES II - UM NOVO COMEÇO| A NEW BEG...   \n",
       "8864  CITIES SKYLINES | MAPA PICOS VERDES | HAND BEA...   \n",
       "8865  #44 - Cities: Skylines 2 - Enfim, Trem de pass...   \n",
       "8866  CITIES SKYLINES II - UM NOVO COMEÇO| A NEW BEG...   \n",
       "8867  CITIES SKYLINES | MAPA PICOS VERDES | HAND BEA...   \n",
       "\n",
       "                                                   TAGS  TOTAL_VISUALIZACOES  \\\n",
       "8784  [cities skylines, cities skylines 2, cities sk...                15348   \n",
       "8791  [cities skylines, cities skylines 2, cities sk...                13909   \n",
       "8795  [buckshot roulette, buckshot roulette gameplay...                13309   \n",
       "8799  [cities skylines, cities skylines 2, cities sk...                13189   \n",
       "8809  [buckshot roulette, buckshot roulette gameplay...                12268   \n",
       "...                                                 ...                  ...   \n",
       "8854  [Simulação de cidade, Construção de cidade, Ge...                    1   \n",
       "8864  [cities skylines, cities skylines gameplay, ci...                    0   \n",
       "8865  [cities skylines 2, cities skylines 2 gameplay...                    0   \n",
       "8866  [Simulação de cidade, Construção de cidade, Ge...                    0   \n",
       "8867  [cities skylines, cities skylines gameplay, ci...                    0   \n",
       "\n",
       "      TOTAL_LIKES  TOTAL_COMENTARIOS                  ID_CANAL  \\\n",
       "8784         2256                126  UCrOH1V-FyMunBIMrKL0y0xQ   \n",
       "8791         1936                 50  UCrOH1V-FyMunBIMrKL0y0xQ   \n",
       "8795          563                  6  UCL5k8vBBo1JOHh7AnvoD8xQ   \n",
       "8799         1714                105  UCrOH1V-FyMunBIMrKL0y0xQ   \n",
       "8809          518                  8  UCL5k8vBBo1JOHh7AnvoD8xQ   \n",
       "...           ...                ...                       ...   \n",
       "8854            0                  0  UCDqzBrUOm7guqqyU8eDackg   \n",
       "8864            0                  0  UC7v51W2NoLFawizgcNuVBOA   \n",
       "8865            0                  0  UC17XM9GSP667Hle_ce1JeJw   \n",
       "8866            0                  0  UCDqzBrUOm7guqqyU8eDackg   \n",
       "8867            0                  0  UC7v51W2NoLFawizgcNuVBOA   \n",
       "\n",
       "                          NM_CANAL TURNO_EXTRACAO  INDICE_TURNO_EXTRACAO  \n",
       "8784               ChratosGameplay          Noite                      3  \n",
       "8791               ChratosGameplay          Noite                      3  \n",
       "8795                 JulioGameplay          Noite                      3  \n",
       "8799               ChratosGameplay          Noite                      3  \n",
       "8809                 JulioGameplay          Noite                      3  \n",
       "...                            ...            ...                    ...  \n",
       "8854                    BUG CITIES          Noite                      3  \n",
       "8864  CANAL HAND - GAME WITH MUSIC          Noite                      3  \n",
       "8865                 AMJ Gameplays          Noite                      3  \n",
       "8866                    BUG CITIES          Noite                      3  \n",
       "8867  CANAL HAND - GAME WITH MUSIC          Noite                      3  \n",
       "\n",
       "[91 rows x 12 columns]"
      ]
     },
     "execution_count": 420,
     "metadata": {},
     "output_type": "execute_result"
    }
   ],
   "source": [
    "colunas = ['data_extracao', 'ASSUNTO', 'ID_VIDEO', 'TITULO_VIDEO', 'TAGS', 'TOTAL_VISUALIZACOES', 'TOTAL_LIKES', 'TOTAL_COMENTARIOS' , 'ID_CANAL', 'NM_CANAL', 'TURNO_EXTRACAO', 'INDICE_TURNO_EXTRACAO']\n",
    "base_video = pd.read_parquet('../dados/ouro/dados_tratado_estatisticas_gerais.parquet', columns=colunas)\n",
    "base_video = base_video.query('ASSUNTO == \"assunto_cities_skylines\" and data_extracao == \"2024-01-23\" and INDICE_TURNO_EXTRACAO == 3 ').sort_values(by=['TOTAL_VISUALIZACOES'], ascending=False)\n",
    "base_video.drop_duplicates(subset=['data_extracao', 'ASSUNTO', 'ID_VIDEO', 'TITULO_VIDEO', 'TOTAL_VISUALIZACOES', 'TOTAL_LIKES', 'TOTAL_COMENTARIOS' , 'ID_CANAL', 'NM_CANAL', 'TURNO_EXTRACAO', 'INDICE_TURNO_EXTRACAO'],  inplace=True)\n",
    "base_video.fillna('[]', inplace=True)\n",
    "base_video"
   ]
  },
  {
   "cell_type": "code",
   "execution_count": 421,
   "metadata": {},
   "outputs": [
    {
     "data": {
      "text/html": [
       "<div>\n",
       "<style scoped>\n",
       "    .dataframe tbody tr th:only-of-type {\n",
       "        vertical-align: middle;\n",
       "    }\n",
       "\n",
       "    .dataframe tbody tr th {\n",
       "        vertical-align: top;\n",
       "    }\n",
       "\n",
       "    .dataframe thead th {\n",
       "        text-align: right;\n",
       "    }\n",
       "</style>\n",
       "<table border=\"1\" class=\"dataframe\">\n",
       "  <thead>\n",
       "    <tr style=\"text-align: right;\">\n",
       "      <th></th>\n",
       "      <th>data_extracao</th>\n",
       "      <th>ASSUNTO</th>\n",
       "      <th>ID_VIDEO</th>\n",
       "      <th>TITULO_VIDEO</th>\n",
       "      <th>TAGS</th>\n",
       "      <th>TOTAL_VISUALIZACOES</th>\n",
       "      <th>TOTAL_LIKES</th>\n",
       "      <th>TOTAL_COMENTARIOS</th>\n",
       "      <th>ID_CANAL</th>\n",
       "      <th>NM_CANAL</th>\n",
       "      <th>TURNO_EXTRACAO</th>\n",
       "      <th>INDICE_TURNO_EXTRACAO</th>\n",
       "    </tr>\n",
       "  </thead>\n",
       "  <tbody>\n",
       "    <tr>\n",
       "      <th>8784</th>\n",
       "      <td>2024-01-23</td>\n",
       "      <td>assunto_cities_skylines</td>\n",
       "      <td>SH1pVQcObMc</td>\n",
       "      <td>MINHA EXPERIÊNCIA COM CITIES SKYLINES 2 (FIM) ...</td>\n",
       "      <td>[cities skylines, cities skylines 2, cities sk...</td>\n",
       "      <td>15348</td>\n",
       "      <td>2256</td>\n",
       "      <td>126</td>\n",
       "      <td>UCrOH1V-FyMunBIMrKL0y0xQ</td>\n",
       "      <td>ChratosGameplay</td>\n",
       "      <td>Noite</td>\n",
       "      <td>3</td>\n",
       "    </tr>\n",
       "    <tr>\n",
       "      <th>8791</th>\n",
       "      <td>2024-01-23</td>\n",
       "      <td>assunto_cities_skylines</td>\n",
       "      <td>WEet1zBsDvk</td>\n",
       "      <td>PRISÃO E FBI PARA COMBATER CRIMINALIDADE 🏙️ - ...</td>\n",
       "      <td>[cities skylines, cities skylines 2, cities sk...</td>\n",
       "      <td>13909</td>\n",
       "      <td>1936</td>\n",
       "      <td>50</td>\n",
       "      <td>UCrOH1V-FyMunBIMrKL0y0xQ</td>\n",
       "      <td>ChratosGameplay</td>\n",
       "      <td>Noite</td>\n",
       "      <td>3</td>\n",
       "    </tr>\n",
       "    <tr>\n",
       "      <th>8795</th>\n",
       "      <td>2024-01-23</td>\n",
       "      <td>assunto_cities_skylines</td>\n",
       "      <td>QN33FxO7Irw</td>\n",
       "      <td>new update parte 8 Buckshot roulette #buckshot...</td>\n",
       "      <td>[buckshot roulette, buckshot roulette gameplay...</td>\n",
       "      <td>13309</td>\n",
       "      <td>563</td>\n",
       "      <td>6</td>\n",
       "      <td>UCL5k8vBBo1JOHh7AnvoD8xQ</td>\n",
       "      <td>JulioGameplay</td>\n",
       "      <td>Noite</td>\n",
       "      <td>3</td>\n",
       "    </tr>\n",
       "    <tr>\n",
       "      <th>8799</th>\n",
       "      <td>2024-01-23</td>\n",
       "      <td>assunto_cities_skylines</td>\n",
       "      <td>mGtCSlnvvIE</td>\n",
       "      <td>PRIMEIRO PARQUE COM LAGOS ARTIFICAIS 🏙️ - Citi...</td>\n",
       "      <td>[cities skylines, cities skylines 2, cities sk...</td>\n",
       "      <td>13189</td>\n",
       "      <td>1714</td>\n",
       "      <td>105</td>\n",
       "      <td>UCrOH1V-FyMunBIMrKL0y0xQ</td>\n",
       "      <td>ChratosGameplay</td>\n",
       "      <td>Noite</td>\n",
       "      <td>3</td>\n",
       "    </tr>\n",
       "    <tr>\n",
       "      <th>8809</th>\n",
       "      <td>2024-01-23</td>\n",
       "      <td>assunto_cities_skylines</td>\n",
       "      <td>4WrWq5vJjXk</td>\n",
       "      <td>MINHA SORTE ACABOU NO Buckshot roulette #bucks...</td>\n",
       "      <td>[buckshot roulette, buckshot roulette gameplay...</td>\n",
       "      <td>12268</td>\n",
       "      <td>518</td>\n",
       "      <td>8</td>\n",
       "      <td>UCL5k8vBBo1JOHh7AnvoD8xQ</td>\n",
       "      <td>JulioGameplay</td>\n",
       "      <td>Noite</td>\n",
       "      <td>3</td>\n",
       "    </tr>\n",
       "    <tr>\n",
       "      <th>...</th>\n",
       "      <td>...</td>\n",
       "      <td>...</td>\n",
       "      <td>...</td>\n",
       "      <td>...</td>\n",
       "      <td>...</td>\n",
       "      <td>...</td>\n",
       "      <td>...</td>\n",
       "      <td>...</td>\n",
       "      <td>...</td>\n",
       "      <td>...</td>\n",
       "      <td>...</td>\n",
       "      <td>...</td>\n",
       "    </tr>\n",
       "    <tr>\n",
       "      <th>8854</th>\n",
       "      <td>2024-01-23</td>\n",
       "      <td>assunto_cities_skylines</td>\n",
       "      <td>FdGxglmL90Y</td>\n",
       "      <td>CITIES SKYLINES II - UM NOVO COMEÇO| A NEW BEG...</td>\n",
       "      <td>[Simulação de cidade, Construção de cidade, Ge...</td>\n",
       "      <td>1</td>\n",
       "      <td>0</td>\n",
       "      <td>0</td>\n",
       "      <td>UCDqzBrUOm7guqqyU8eDackg</td>\n",
       "      <td>BUG CITIES</td>\n",
       "      <td>Noite</td>\n",
       "      <td>3</td>\n",
       "    </tr>\n",
       "    <tr>\n",
       "      <th>8864</th>\n",
       "      <td>2024-01-23</td>\n",
       "      <td>assunto_cities_skylines</td>\n",
       "      <td>mjMCMNM-AOI</td>\n",
       "      <td>CITIES SKYLINES | MAPA PICOS VERDES | HAND BEA...</td>\n",
       "      <td>[cities skylines, cities skylines gameplay, ci...</td>\n",
       "      <td>0</td>\n",
       "      <td>0</td>\n",
       "      <td>0</td>\n",
       "      <td>UC7v51W2NoLFawizgcNuVBOA</td>\n",
       "      <td>CANAL HAND - GAME WITH MUSIC</td>\n",
       "      <td>Noite</td>\n",
       "      <td>3</td>\n",
       "    </tr>\n",
       "    <tr>\n",
       "      <th>8865</th>\n",
       "      <td>2024-01-23</td>\n",
       "      <td>assunto_cities_skylines</td>\n",
       "      <td>21NHBH_8nWc</td>\n",
       "      <td>#44 - Cities: Skylines 2 - Enfim, Trem de pass...</td>\n",
       "      <td>[cities skylines 2, cities skylines 2 gameplay...</td>\n",
       "      <td>0</td>\n",
       "      <td>0</td>\n",
       "      <td>0</td>\n",
       "      <td>UC17XM9GSP667Hle_ce1JeJw</td>\n",
       "      <td>AMJ Gameplays</td>\n",
       "      <td>Noite</td>\n",
       "      <td>3</td>\n",
       "    </tr>\n",
       "    <tr>\n",
       "      <th>8866</th>\n",
       "      <td>2024-01-23</td>\n",
       "      <td>assunto_cities_skylines</td>\n",
       "      <td>lTu4TRT-SoQ</td>\n",
       "      <td>CITIES SKYLINES II - UM NOVO COMEÇO| A NEW BEG...</td>\n",
       "      <td>[Simulação de cidade, Construção de cidade, Ge...</td>\n",
       "      <td>0</td>\n",
       "      <td>0</td>\n",
       "      <td>0</td>\n",
       "      <td>UCDqzBrUOm7guqqyU8eDackg</td>\n",
       "      <td>BUG CITIES</td>\n",
       "      <td>Noite</td>\n",
       "      <td>3</td>\n",
       "    </tr>\n",
       "    <tr>\n",
       "      <th>8867</th>\n",
       "      <td>2024-01-23</td>\n",
       "      <td>assunto_cities_skylines</td>\n",
       "      <td>pT7M1iH1s4M</td>\n",
       "      <td>CITIES SKYLINES | MAPA PICOS VERDES | HAND BEA...</td>\n",
       "      <td>[cities skylines, cities skylines gameplay, ci...</td>\n",
       "      <td>0</td>\n",
       "      <td>0</td>\n",
       "      <td>0</td>\n",
       "      <td>UC7v51W2NoLFawizgcNuVBOA</td>\n",
       "      <td>CANAL HAND - GAME WITH MUSIC</td>\n",
       "      <td>Noite</td>\n",
       "      <td>3</td>\n",
       "    </tr>\n",
       "  </tbody>\n",
       "</table>\n",
       "<p>91 rows × 12 columns</p>\n",
       "</div>"
      ],
      "text/plain": [
       "     data_extracao                  ASSUNTO     ID_VIDEO  \\\n",
       "8784    2024-01-23  assunto_cities_skylines  SH1pVQcObMc   \n",
       "8791    2024-01-23  assunto_cities_skylines  WEet1zBsDvk   \n",
       "8795    2024-01-23  assunto_cities_skylines  QN33FxO7Irw   \n",
       "8799    2024-01-23  assunto_cities_skylines  mGtCSlnvvIE   \n",
       "8809    2024-01-23  assunto_cities_skylines  4WrWq5vJjXk   \n",
       "...            ...                      ...          ...   \n",
       "8854    2024-01-23  assunto_cities_skylines  FdGxglmL90Y   \n",
       "8864    2024-01-23  assunto_cities_skylines  mjMCMNM-AOI   \n",
       "8865    2024-01-23  assunto_cities_skylines  21NHBH_8nWc   \n",
       "8866    2024-01-23  assunto_cities_skylines  lTu4TRT-SoQ   \n",
       "8867    2024-01-23  assunto_cities_skylines  pT7M1iH1s4M   \n",
       "\n",
       "                                           TITULO_VIDEO  \\\n",
       "8784  MINHA EXPERIÊNCIA COM CITIES SKYLINES 2 (FIM) ...   \n",
       "8791  PRISÃO E FBI PARA COMBATER CRIMINALIDADE 🏙️ - ...   \n",
       "8795  new update parte 8 Buckshot roulette #buckshot...   \n",
       "8799  PRIMEIRO PARQUE COM LAGOS ARTIFICAIS 🏙️ - Citi...   \n",
       "8809  MINHA SORTE ACABOU NO Buckshot roulette #bucks...   \n",
       "...                                                 ...   \n",
       "8854  CITIES SKYLINES II - UM NOVO COMEÇO| A NEW BEG...   \n",
       "8864  CITIES SKYLINES | MAPA PICOS VERDES | HAND BEA...   \n",
       "8865  #44 - Cities: Skylines 2 - Enfim, Trem de pass...   \n",
       "8866  CITIES SKYLINES II - UM NOVO COMEÇO| A NEW BEG...   \n",
       "8867  CITIES SKYLINES | MAPA PICOS VERDES | HAND BEA...   \n",
       "\n",
       "                                                   TAGS  TOTAL_VISUALIZACOES  \\\n",
       "8784  [cities skylines, cities skylines 2, cities sk...                15348   \n",
       "8791  [cities skylines, cities skylines 2, cities sk...                13909   \n",
       "8795  [buckshot roulette, buckshot roulette gameplay...                13309   \n",
       "8799  [cities skylines, cities skylines 2, cities sk...                13189   \n",
       "8809  [buckshot roulette, buckshot roulette gameplay...                12268   \n",
       "...                                                 ...                  ...   \n",
       "8854  [Simulação de cidade, Construção de cidade, Ge...                    1   \n",
       "8864  [cities skylines, cities skylines gameplay, ci...                    0   \n",
       "8865  [cities skylines 2, cities skylines 2 gameplay...                    0   \n",
       "8866  [Simulação de cidade, Construção de cidade, Ge...                    0   \n",
       "8867  [cities skylines, cities skylines gameplay, ci...                    0   \n",
       "\n",
       "      TOTAL_LIKES  TOTAL_COMENTARIOS                  ID_CANAL  \\\n",
       "8784         2256                126  UCrOH1V-FyMunBIMrKL0y0xQ   \n",
       "8791         1936                 50  UCrOH1V-FyMunBIMrKL0y0xQ   \n",
       "8795          563                  6  UCL5k8vBBo1JOHh7AnvoD8xQ   \n",
       "8799         1714                105  UCrOH1V-FyMunBIMrKL0y0xQ   \n",
       "8809          518                  8  UCL5k8vBBo1JOHh7AnvoD8xQ   \n",
       "...           ...                ...                       ...   \n",
       "8854            0                  0  UCDqzBrUOm7guqqyU8eDackg   \n",
       "8864            0                  0  UC7v51W2NoLFawizgcNuVBOA   \n",
       "8865            0                  0  UC17XM9GSP667Hle_ce1JeJw   \n",
       "8866            0                  0  UCDqzBrUOm7guqqyU8eDackg   \n",
       "8867            0                  0  UC7v51W2NoLFawizgcNuVBOA   \n",
       "\n",
       "                          NM_CANAL TURNO_EXTRACAO  INDICE_TURNO_EXTRACAO  \n",
       "8784               ChratosGameplay          Noite                      3  \n",
       "8791               ChratosGameplay          Noite                      3  \n",
       "8795                 JulioGameplay          Noite                      3  \n",
       "8799               ChratosGameplay          Noite                      3  \n",
       "8809                 JulioGameplay          Noite                      3  \n",
       "...                            ...            ...                    ...  \n",
       "8854                    BUG CITIES          Noite                      3  \n",
       "8864  CANAL HAND - GAME WITH MUSIC          Noite                      3  \n",
       "8865                 AMJ Gameplays          Noite                      3  \n",
       "8866                    BUG CITIES          Noite                      3  \n",
       "8867  CANAL HAND - GAME WITH MUSIC          Noite                      3  \n",
       "\n",
       "[91 rows x 12 columns]"
      ]
     },
     "execution_count": 421,
     "metadata": {},
     "output_type": "execute_result"
    }
   ],
   "source": [
    "base_video['TAGS'] = base_video['TAGS'].to_list()\n",
    "base_video"
   ]
  },
  {
   "cell_type": "code",
   "execution_count": 422,
   "metadata": {},
   "outputs": [
    {
     "data": {
      "text/html": [
       "<div>\n",
       "<style scoped>\n",
       "    .dataframe tbody tr th:only-of-type {\n",
       "        vertical-align: middle;\n",
       "    }\n",
       "\n",
       "    .dataframe tbody tr th {\n",
       "        vertical-align: top;\n",
       "    }\n",
       "\n",
       "    .dataframe thead th {\n",
       "        text-align: right;\n",
       "    }\n",
       "</style>\n",
       "<table border=\"1\" class=\"dataframe\">\n",
       "  <thead>\n",
       "    <tr style=\"text-align: right;\">\n",
       "      <th></th>\n",
       "      <th>ID_CANAL</th>\n",
       "      <th>ID_VIDEO</th>\n",
       "      <th>TOTAL_MAX</th>\n",
       "    </tr>\n",
       "  </thead>\n",
       "  <tbody>\n",
       "    <tr>\n",
       "      <th>83</th>\n",
       "      <td>UCrOH1V-FyMunBIMrKL0y0xQ</td>\n",
       "      <td>SH1pVQcObMc</td>\n",
       "      <td>15348</td>\n",
       "    </tr>\n",
       "    <tr>\n",
       "      <th>84</th>\n",
       "      <td>UCrOH1V-FyMunBIMrKL0y0xQ</td>\n",
       "      <td>WEet1zBsDvk</td>\n",
       "      <td>13909</td>\n",
       "    </tr>\n",
       "    <tr>\n",
       "      <th>46</th>\n",
       "      <td>UCL5k8vBBo1JOHh7AnvoD8xQ</td>\n",
       "      <td>QN33FxO7Irw</td>\n",
       "      <td>13309</td>\n",
       "    </tr>\n",
       "    <tr>\n",
       "      <th>85</th>\n",
       "      <td>UCrOH1V-FyMunBIMrKL0y0xQ</td>\n",
       "      <td>mGtCSlnvvIE</td>\n",
       "      <td>13189</td>\n",
       "    </tr>\n",
       "    <tr>\n",
       "      <th>39</th>\n",
       "      <td>UCL5k8vBBo1JOHh7AnvoD8xQ</td>\n",
       "      <td>4WrWq5vJjXk</td>\n",
       "      <td>12268</td>\n",
       "    </tr>\n",
       "    <tr>\n",
       "      <th>...</th>\n",
       "      <td>...</td>\n",
       "      <td>...</td>\n",
       "      <td>...</td>\n",
       "    </tr>\n",
       "    <tr>\n",
       "      <th>28</th>\n",
       "      <td>UCDqzBrUOm7guqqyU8eDackg</td>\n",
       "      <td>Yxi6Pkmb2VM</td>\n",
       "      <td>1</td>\n",
       "    </tr>\n",
       "    <tr>\n",
       "      <th>32</th>\n",
       "      <td>UCDqzBrUOm7guqqyU8eDackg</td>\n",
       "      <td>lTu4TRT-SoQ</td>\n",
       "      <td>0</td>\n",
       "    </tr>\n",
       "    <tr>\n",
       "      <th>9</th>\n",
       "      <td>UC7v51W2NoLFawizgcNuVBOA</td>\n",
       "      <td>mjMCMNM-AOI</td>\n",
       "      <td>0</td>\n",
       "    </tr>\n",
       "    <tr>\n",
       "      <th>10</th>\n",
       "      <td>UC7v51W2NoLFawizgcNuVBOA</td>\n",
       "      <td>pT7M1iH1s4M</td>\n",
       "      <td>0</td>\n",
       "    </tr>\n",
       "    <tr>\n",
       "      <th>1</th>\n",
       "      <td>UC17XM9GSP667Hle_ce1JeJw</td>\n",
       "      <td>21NHBH_8nWc</td>\n",
       "      <td>0</td>\n",
       "    </tr>\n",
       "  </tbody>\n",
       "</table>\n",
       "<p>91 rows × 3 columns</p>\n",
       "</div>"
      ],
      "text/plain": [
       "                    ID_CANAL     ID_VIDEO  TOTAL_MAX\n",
       "83  UCrOH1V-FyMunBIMrKL0y0xQ  SH1pVQcObMc      15348\n",
       "84  UCrOH1V-FyMunBIMrKL0y0xQ  WEet1zBsDvk      13909\n",
       "46  UCL5k8vBBo1JOHh7AnvoD8xQ  QN33FxO7Irw      13309\n",
       "85  UCrOH1V-FyMunBIMrKL0y0xQ  mGtCSlnvvIE      13189\n",
       "39  UCL5k8vBBo1JOHh7AnvoD8xQ  4WrWq5vJjXk      12268\n",
       "..                       ...          ...        ...\n",
       "28  UCDqzBrUOm7guqqyU8eDackg  Yxi6Pkmb2VM          1\n",
       "32  UCDqzBrUOm7guqqyU8eDackg  lTu4TRT-SoQ          0\n",
       "9   UC7v51W2NoLFawizgcNuVBOA  mjMCMNM-AOI          0\n",
       "10  UC7v51W2NoLFawizgcNuVBOA  pT7M1iH1s4M          0\n",
       "1   UC17XM9GSP667Hle_ce1JeJw  21NHBH_8nWc          0\n",
       "\n",
       "[91 rows x 3 columns]"
      ]
     },
     "execution_count": 422,
     "metadata": {},
     "output_type": "execute_result"
    }
   ],
   "source": [
    "base_video.groupby(['ID_CANAL', 'ID_VIDEO']) \\\n",
    "    .agg(\n",
    "        TOTAL_MAX=('TOTAL_VISUALIZACOES', 'max')\n",
    "    ).reset_index().sort_values(['TOTAL_MAX','ID_CANAL'], ascending=[False, False])"
   ]
  },
  {
   "cell_type": "code",
   "execution_count": 423,
   "metadata": {},
   "outputs": [
    {
     "data": {
      "text/html": [
       "<div>\n",
       "<style scoped>\n",
       "    .dataframe tbody tr th:only-of-type {\n",
       "        vertical-align: middle;\n",
       "    }\n",
       "\n",
       "    .dataframe tbody tr th {\n",
       "        vertical-align: top;\n",
       "    }\n",
       "\n",
       "    .dataframe thead th {\n",
       "        text-align: right;\n",
       "    }\n",
       "</style>\n",
       "<table border=\"1\" class=\"dataframe\">\n",
       "  <thead>\n",
       "    <tr style=\"text-align: right;\">\n",
       "      <th></th>\n",
       "      <th>ID_CANAL</th>\n",
       "      <th>ID_VIDEO</th>\n",
       "      <th>TOTAL_MAX</th>\n",
       "    </tr>\n",
       "  </thead>\n",
       "  <tbody>\n",
       "    <tr>\n",
       "      <th>0</th>\n",
       "      <td>UCrOH1V-FyMunBIMrKL0y0xQ</td>\n",
       "      <td>SH1pVQcObMc</td>\n",
       "      <td>15348</td>\n",
       "    </tr>\n",
       "    <tr>\n",
       "      <th>1</th>\n",
       "      <td>UCL5k8vBBo1JOHh7AnvoD8xQ</td>\n",
       "      <td>QN33FxO7Irw</td>\n",
       "      <td>13309</td>\n",
       "    </tr>\n",
       "    <tr>\n",
       "      <th>2</th>\n",
       "      <td>UCe9jrI0YQ5SM6h5QRZ9FZlA</td>\n",
       "      <td>Q-wLBZ9OI1o</td>\n",
       "      <td>8312</td>\n",
       "    </tr>\n",
       "    <tr>\n",
       "      <th>3</th>\n",
       "      <td>UCCe4Be21OPPltTTIHP4lDvg</td>\n",
       "      <td>F8eyXMzbpTE</td>\n",
       "      <td>3544</td>\n",
       "    </tr>\n",
       "    <tr>\n",
       "      <th>4</th>\n",
       "      <td>UCDGo_s0I-2JpO3o3xlkMQVA</td>\n",
       "      <td>1xwK-5-4Hsk</td>\n",
       "      <td>3354</td>\n",
       "    </tr>\n",
       "    <tr>\n",
       "      <th>5</th>\n",
       "      <td>UCaj6FB2mFZ2T9a61QtZsKPA</td>\n",
       "      <td>i4h08DIfjKw</td>\n",
       "      <td>2295</td>\n",
       "    </tr>\n",
       "    <tr>\n",
       "      <th>6</th>\n",
       "      <td>UCYEb5mbKZ5JJzN0xBuKyaig</td>\n",
       "      <td>sAvBu12YElQ</td>\n",
       "      <td>509</td>\n",
       "    </tr>\n",
       "    <tr>\n",
       "      <th>7</th>\n",
       "      <td>UCPmECmi5UoEt4c0WRLuslnA</td>\n",
       "      <td>WUEJ4FcN5_E</td>\n",
       "      <td>250</td>\n",
       "    </tr>\n",
       "    <tr>\n",
       "      <th>8</th>\n",
       "      <td>UCtThvq93ISUNSv06wyxbzOA</td>\n",
       "      <td>Qzq01Tg6VFs</td>\n",
       "      <td>137</td>\n",
       "    </tr>\n",
       "    <tr>\n",
       "      <th>9</th>\n",
       "      <td>UCD9YHClUr3tSoAm-kj8ejDA</td>\n",
       "      <td>MCucUqIia7E</td>\n",
       "      <td>132</td>\n",
       "    </tr>\n",
       "    <tr>\n",
       "      <th>10</th>\n",
       "      <td>UCpA7ooMrd0-LLGlPOYU_yPQ</td>\n",
       "      <td>USP-svPrOME</td>\n",
       "      <td>132</td>\n",
       "    </tr>\n",
       "    <tr>\n",
       "      <th>11</th>\n",
       "      <td>UCIv5D2ro1owj6P7OdZ4-BiA</td>\n",
       "      <td>qSIEeybcrV0</td>\n",
       "      <td>111</td>\n",
       "    </tr>\n",
       "    <tr>\n",
       "      <th>12</th>\n",
       "      <td>UCcVrstSSA7Zt5SkOZRlhVKw</td>\n",
       "      <td>3VVcrPpoQ2M</td>\n",
       "      <td>82</td>\n",
       "    </tr>\n",
       "    <tr>\n",
       "      <th>13</th>\n",
       "      <td>UCMsbzwrSvRJoa0JhS5YcsqQ</td>\n",
       "      <td>cJjVUX6VuBQ</td>\n",
       "      <td>78</td>\n",
       "    </tr>\n",
       "    <tr>\n",
       "      <th>14</th>\n",
       "      <td>UC9c1ArBS7twtRpy_NJ_qGwA</td>\n",
       "      <td>g2gBZHWaLMs</td>\n",
       "      <td>65</td>\n",
       "    </tr>\n",
       "    <tr>\n",
       "      <th>15</th>\n",
       "      <td>UCrhZH-oxUpmnZRISf8Xw7rQ</td>\n",
       "      <td>7z-SFZnc_Oo</td>\n",
       "      <td>50</td>\n",
       "    </tr>\n",
       "    <tr>\n",
       "      <th>16</th>\n",
       "      <td>UCrAfEv5uN7C9pLtn4X1ouwA</td>\n",
       "      <td>tl68vXSkX_w</td>\n",
       "      <td>49</td>\n",
       "    </tr>\n",
       "    <tr>\n",
       "      <th>17</th>\n",
       "      <td>UCMLxzf6bkTtKe_V5novlVwg</td>\n",
       "      <td>oY2MTnqxvR0</td>\n",
       "      <td>32</td>\n",
       "    </tr>\n",
       "    <tr>\n",
       "      <th>18</th>\n",
       "      <td>UC1tTvOdY0rribnVuMDcDvKg</td>\n",
       "      <td>gJG8qr7SK1E</td>\n",
       "      <td>32</td>\n",
       "    </tr>\n",
       "    <tr>\n",
       "      <th>19</th>\n",
       "      <td>UCpNdpRnuSoVAJ0CcIj3dIqw</td>\n",
       "      <td>75r_7SpQ3bQ</td>\n",
       "      <td>31</td>\n",
       "    </tr>\n",
       "    <tr>\n",
       "      <th>20</th>\n",
       "      <td>UCdlymqDTjKMEuFPxBy94zCg</td>\n",
       "      <td>pFif37EQIHU</td>\n",
       "      <td>20</td>\n",
       "    </tr>\n",
       "    <tr>\n",
       "      <th>21</th>\n",
       "      <td>UCws6aF9JdDUOiqJDTRnI7RA</td>\n",
       "      <td>KFK_3P9faLs</td>\n",
       "      <td>18</td>\n",
       "    </tr>\n",
       "    <tr>\n",
       "      <th>22</th>\n",
       "      <td>UC_a5ykpZR8o-5exRDYCFp0Q</td>\n",
       "      <td>wDmEpat1r_0</td>\n",
       "      <td>16</td>\n",
       "    </tr>\n",
       "    <tr>\n",
       "      <th>23</th>\n",
       "      <td>UCGved3ynk6ZhUvSKxzgweTw</td>\n",
       "      <td>tjZZTkpmPo4</td>\n",
       "      <td>12</td>\n",
       "    </tr>\n",
       "    <tr>\n",
       "      <th>24</th>\n",
       "      <td>UCDqzBrUOm7guqqyU8eDackg</td>\n",
       "      <td>oAkbeQ7465U</td>\n",
       "      <td>10</td>\n",
       "    </tr>\n",
       "    <tr>\n",
       "      <th>25</th>\n",
       "      <td>UC17XM9GSP667Hle_ce1JeJw</td>\n",
       "      <td>eSlVZlnXEHo</td>\n",
       "      <td>9</td>\n",
       "    </tr>\n",
       "    <tr>\n",
       "      <th>26</th>\n",
       "      <td>UCdrd9d0-1p8sgXOvJDc-naA</td>\n",
       "      <td>MNkHbA1LdiQ</td>\n",
       "      <td>7</td>\n",
       "    </tr>\n",
       "    <tr>\n",
       "      <th>27</th>\n",
       "      <td>UCWG9rWwHoswYWl6To1PXg0A</td>\n",
       "      <td>ISQtUzZTSeY</td>\n",
       "      <td>4</td>\n",
       "    </tr>\n",
       "    <tr>\n",
       "      <th>28</th>\n",
       "      <td>UCNCMu1_0mQFX5NsB2Um4Oxg</td>\n",
       "      <td>CdN_8c_Xuxg</td>\n",
       "      <td>4</td>\n",
       "    </tr>\n",
       "    <tr>\n",
       "      <th>29</th>\n",
       "      <td>UCNrslTbPfIQFf1fLFrLYdgg</td>\n",
       "      <td>GqqIY4uACX0</td>\n",
       "      <td>3</td>\n",
       "    </tr>\n",
       "    <tr>\n",
       "      <th>30</th>\n",
       "      <td>UCUzIPjovwqbS1y6l1Ze7WBg</td>\n",
       "      <td>ALYHDsToYF8</td>\n",
       "      <td>2</td>\n",
       "    </tr>\n",
       "    <tr>\n",
       "      <th>31</th>\n",
       "      <td>UC7v51W2NoLFawizgcNuVBOA</td>\n",
       "      <td>mjMCMNM-AOI</td>\n",
       "      <td>0</td>\n",
       "    </tr>\n",
       "  </tbody>\n",
       "</table>\n",
       "</div>"
      ],
      "text/plain": [
       "                    ID_CANAL     ID_VIDEO  TOTAL_MAX\n",
       "0   UCrOH1V-FyMunBIMrKL0y0xQ  SH1pVQcObMc      15348\n",
       "1   UCL5k8vBBo1JOHh7AnvoD8xQ  QN33FxO7Irw      13309\n",
       "2   UCe9jrI0YQ5SM6h5QRZ9FZlA  Q-wLBZ9OI1o       8312\n",
       "3   UCCe4Be21OPPltTTIHP4lDvg  F8eyXMzbpTE       3544\n",
       "4   UCDGo_s0I-2JpO3o3xlkMQVA  1xwK-5-4Hsk       3354\n",
       "5   UCaj6FB2mFZ2T9a61QtZsKPA  i4h08DIfjKw       2295\n",
       "6   UCYEb5mbKZ5JJzN0xBuKyaig  sAvBu12YElQ        509\n",
       "7   UCPmECmi5UoEt4c0WRLuslnA  WUEJ4FcN5_E        250\n",
       "8   UCtThvq93ISUNSv06wyxbzOA  Qzq01Tg6VFs        137\n",
       "9   UCD9YHClUr3tSoAm-kj8ejDA  MCucUqIia7E        132\n",
       "10  UCpA7ooMrd0-LLGlPOYU_yPQ  USP-svPrOME        132\n",
       "11  UCIv5D2ro1owj6P7OdZ4-BiA  qSIEeybcrV0        111\n",
       "12  UCcVrstSSA7Zt5SkOZRlhVKw  3VVcrPpoQ2M         82\n",
       "13  UCMsbzwrSvRJoa0JhS5YcsqQ  cJjVUX6VuBQ         78\n",
       "14  UC9c1ArBS7twtRpy_NJ_qGwA  g2gBZHWaLMs         65\n",
       "15  UCrhZH-oxUpmnZRISf8Xw7rQ  7z-SFZnc_Oo         50\n",
       "16  UCrAfEv5uN7C9pLtn4X1ouwA  tl68vXSkX_w         49\n",
       "17  UCMLxzf6bkTtKe_V5novlVwg  oY2MTnqxvR0         32\n",
       "18  UC1tTvOdY0rribnVuMDcDvKg  gJG8qr7SK1E         32\n",
       "19  UCpNdpRnuSoVAJ0CcIj3dIqw  75r_7SpQ3bQ         31\n",
       "20  UCdlymqDTjKMEuFPxBy94zCg  pFif37EQIHU         20\n",
       "21  UCws6aF9JdDUOiqJDTRnI7RA  KFK_3P9faLs         18\n",
       "22  UC_a5ykpZR8o-5exRDYCFp0Q  wDmEpat1r_0         16\n",
       "23  UCGved3ynk6ZhUvSKxzgweTw  tjZZTkpmPo4         12\n",
       "24  UCDqzBrUOm7guqqyU8eDackg  oAkbeQ7465U         10\n",
       "25  UC17XM9GSP667Hle_ce1JeJw  eSlVZlnXEHo          9\n",
       "26  UCdrd9d0-1p8sgXOvJDc-naA  MNkHbA1LdiQ          7\n",
       "27  UCWG9rWwHoswYWl6To1PXg0A  ISQtUzZTSeY          4\n",
       "28  UCNCMu1_0mQFX5NsB2Um4Oxg  CdN_8c_Xuxg          4\n",
       "29  UCNrslTbPfIQFf1fLFrLYdgg  GqqIY4uACX0          3\n",
       "30  UCUzIPjovwqbS1y6l1Ze7WBg  ALYHDsToYF8          2\n",
       "31  UC7v51W2NoLFawizgcNuVBOA  mjMCMNM-AOI          0"
      ]
     },
     "execution_count": 423,
     "metadata": {},
     "output_type": "execute_result"
    }
   ],
   "source": [
    "base_video_agg = base_video.groupby(['ID_CANAL', 'ID_VIDEO']) \\\n",
    "    .agg(\n",
    "        TOTAL_MAX=('TOTAL_VISUALIZACOES', 'max')\n",
    "    ).reset_index().sort_values(['TOTAL_MAX','ID_CANAL'], ascending=[False, False]).groupby('ID_CANAL').first().sort_values(by=['TOTAL_MAX'], ascending=False).reset_index()\n",
    "base_video_agg"
   ]
  },
  {
   "cell_type": "code",
   "execution_count": 424,
   "metadata": {},
   "outputs": [
    {
     "data": {
      "text/plain": [
       "0"
      ]
     },
     "execution_count": 424,
     "metadata": {},
     "output_type": "execute_result"
    }
   ],
   "source": [
    "base_video['TAGS'].isna().sum()"
   ]
  },
  {
   "cell_type": "code",
   "execution_count": 425,
   "metadata": {},
   "outputs": [
    {
     "data": {
      "text/html": [
       "<div>\n",
       "<style scoped>\n",
       "    .dataframe tbody tr th:only-of-type {\n",
       "        vertical-align: middle;\n",
       "    }\n",
       "\n",
       "    .dataframe tbody tr th {\n",
       "        vertical-align: top;\n",
       "    }\n",
       "\n",
       "    .dataframe thead th {\n",
       "        text-align: right;\n",
       "    }\n",
       "</style>\n",
       "<table border=\"1\" class=\"dataframe\">\n",
       "  <thead>\n",
       "    <tr style=\"text-align: right;\">\n",
       "      <th></th>\n",
       "      <th>ID_CANAL_x</th>\n",
       "      <th>NM_CANAL</th>\n",
       "      <th>ID_VIDEO</th>\n",
       "      <th>TITULO_VIDEO</th>\n",
       "      <th>TAGS</th>\n",
       "      <th>TOTAL_MAX</th>\n",
       "    </tr>\n",
       "  </thead>\n",
       "  <tbody>\n",
       "    <tr>\n",
       "      <th>0</th>\n",
       "      <td>UCrOH1V-FyMunBIMrKL0y0xQ</td>\n",
       "      <td>ChratosGameplay</td>\n",
       "      <td>SH1pVQcObMc</td>\n",
       "      <td>MINHA EXPERIÊNCIA COM CITIES SKYLINES 2 (FIM) ...</td>\n",
       "      <td>[cities skylines, cities skylines 2, cities sk...</td>\n",
       "      <td>15348</td>\n",
       "    </tr>\n",
       "    <tr>\n",
       "      <th>1</th>\n",
       "      <td>UCL5k8vBBo1JOHh7AnvoD8xQ</td>\n",
       "      <td>JulioGameplay</td>\n",
       "      <td>QN33FxO7Irw</td>\n",
       "      <td>new update parte 8 Buckshot roulette #buckshot...</td>\n",
       "      <td>[buckshot roulette, buckshot roulette gameplay...</td>\n",
       "      <td>13309</td>\n",
       "    </tr>\n",
       "    <tr>\n",
       "      <th>2</th>\n",
       "      <td>UCe9jrI0YQ5SM6h5QRZ9FZlA</td>\n",
       "      <td>Barbosa Cities</td>\n",
       "      <td>Q-wLBZ9OI1o</td>\n",
       "      <td>CS2 #32 | BAIRRO INTEIRO PARA TENTAR ATENDER D...</td>\n",
       "      <td>[cities, skylines, gameplay, ps4, playstation ...</td>\n",
       "      <td>8312</td>\n",
       "    </tr>\n",
       "    <tr>\n",
       "      <th>3</th>\n",
       "      <td>UCCe4Be21OPPltTTIHP4lDvg</td>\n",
       "      <td>Octopolis</td>\n",
       "      <td>F8eyXMzbpTE</td>\n",
       "      <td>SOLUÇÃO de problemas de PRODUÇÃO | HAMILTON - ...</td>\n",
       "      <td>[cities skylines 2, cities: skylines 2, cities...</td>\n",
       "      <td>3544</td>\n",
       "    </tr>\n",
       "    <tr>\n",
       "      <th>4</th>\n",
       "      <td>UCDGo_s0I-2JpO3o3xlkMQVA</td>\n",
       "      <td>Simularies</td>\n",
       "      <td>1xwK-5-4Hsk</td>\n",
       "      <td>✨ COMEÇANDO A CIDADE DE ALTA VISTA! 🏙️ EP 01 |...</td>\n",
       "      <td>[simularies, cities skylines 2, cities skyline...</td>\n",
       "      <td>3354</td>\n",
       "    </tr>\n",
       "    <tr>\n",
       "      <th>5</th>\n",
       "      <td>UCaj6FB2mFZ2T9a61QtZsKPA</td>\n",
       "      <td>TioChuckZ</td>\n",
       "      <td>i4h08DIfjKw</td>\n",
       "      <td>Finalmente ALTA DENSIDADE! | Cities Skylines 2...</td>\n",
       "      <td>[cities skylines 2, tio chuck, tiochuckz, citi...</td>\n",
       "      <td>2295</td>\n",
       "    </tr>\n",
       "    <tr>\n",
       "      <th>6</th>\n",
       "      <td>UCYEb5mbKZ5JJzN0xBuKyaig</td>\n",
       "      <td>Canal Sala de Jogos</td>\n",
       "      <td>sAvBu12YElQ</td>\n",
       "      <td>Conheça a Ilha de TioChuckZ - Cities: Skylines...</td>\n",
       "      <td>[cities skylines 2, cities skylines gameplay, ...</td>\n",
       "      <td>509</td>\n",
       "    </tr>\n",
       "    <tr>\n",
       "      <th>7</th>\n",
       "      <td>UCPmECmi5UoEt4c0WRLuslnA</td>\n",
       "      <td>Pires</td>\n",
       "      <td>WUEJ4FcN5_E</td>\n",
       "      <td>FIQUEI RICO COM O AGRO NO CITIES SKYLINES 2! -...</td>\n",
       "      <td>[maxpalaro, cities skylines, cities skylines 2...</td>\n",
       "      <td>250</td>\n",
       "    </tr>\n",
       "    <tr>\n",
       "      <th>8</th>\n",
       "      <td>UCtThvq93ISUNSv06wyxbzOA</td>\n",
       "      <td>Mr. Eu123</td>\n",
       "      <td>Qzq01Tg6VFs</td>\n",
       "      <td>Trânsito no cities skylines em 2024 #citiessky...</td>\n",
       "      <td>[]</td>\n",
       "      <td>137</td>\n",
       "    </tr>\n",
       "    <tr>\n",
       "      <th>9</th>\n",
       "      <td>UCD9YHClUr3tSoAm-kj8ejDA</td>\n",
       "      <td>Rivas</td>\n",
       "      <td>MCucUqIia7E</td>\n",
       "      <td>Cities: Skylines II | Episódio 04: Construindo...</td>\n",
       "      <td>[]</td>\n",
       "      <td>132</td>\n",
       "    </tr>\n",
       "    <tr>\n",
       "      <th>10</th>\n",
       "      <td>UCpA7ooMrd0-LLGlPOYU_yPQ</td>\n",
       "      <td>scrollzxx</td>\n",
       "      <td>USP-svPrOME</td>\n",
       "      <td>SA:MP #15 o hotwheels é tão brabo que deu unba...</td>\n",
       "      <td>[gta, mta, samp, mtarp, samprp, sampmobile, mt...</td>\n",
       "      <td>132</td>\n",
       "    </tr>\n",
       "    <tr>\n",
       "      <th>11</th>\n",
       "      <td>UCIv5D2ro1owj6P7OdZ4-BiA</td>\n",
       "      <td>BL4D3N | Cities Skylines</td>\n",
       "      <td>qSIEeybcrV0</td>\n",
       "      <td>Como FICAR RICO com PETRÓLEO no CITIES SKYLINES 2</td>\n",
       "      <td>[Cities Skylines 2, Inundações Urbanas, Petrol...</td>\n",
       "      <td>111</td>\n",
       "    </tr>\n",
       "    <tr>\n",
       "      <th>12</th>\n",
       "      <td>UCcVrstSSA7Zt5SkOZRlhVKw</td>\n",
       "      <td>Dede Joga!</td>\n",
       "      <td>3VVcrPpoQ2M</td>\n",
       "      <td>Os 5 Melhores Jogos Feitos Na Unity 🎮</td>\n",
       "      <td>[Unity, Jogos, Informação, Indie, Cinco, Novo,...</td>\n",
       "      <td>82</td>\n",
       "    </tr>\n",
       "    <tr>\n",
       "      <th>13</th>\n",
       "      <td>UCMsbzwrSvRJoa0JhS5YcsqQ</td>\n",
       "      <td>rlkpedrom</td>\n",
       "      <td>cJjVUX6VuBQ</td>\n",
       "      <td>💎🔥 LIVE ONN!! - VANISH ROLEPLAY - MTA - GTA SA...</td>\n",
       "      <td>[]</td>\n",
       "      <td>78</td>\n",
       "    </tr>\n",
       "    <tr>\n",
       "      <th>14</th>\n",
       "      <td>UC9c1ArBS7twtRpy_NJ_qGwA</td>\n",
       "      <td>Ale_Bagunçinha MTA</td>\n",
       "      <td>g2gBZHWaLMs</td>\n",
       "      <td>🔥 AO VIVO  |  ALE_BAGUNCINHA  FENIX CITY ROLEP...</td>\n",
       "      <td>[GTA SAMP, SAMP RP, NOVO SERVIDOR, VAGAS PARA ...</td>\n",
       "      <td>65</td>\n",
       "    </tr>\n",
       "    <tr>\n",
       "      <th>15</th>\n",
       "      <td>UCrhZH-oxUpmnZRISf8Xw7rQ</td>\n",
       "      <td>HughesGames</td>\n",
       "      <td>7z-SFZnc_Oo</td>\n",
       "      <td>Cities Skylines 2 _ Vamos bater um papo na cidade</td>\n",
       "      <td>[#hughesgames]</td>\n",
       "      <td>50</td>\n",
       "    </tr>\n",
       "    <tr>\n",
       "      <th>16</th>\n",
       "      <td>UCrAfEv5uN7C9pLtn4X1ouwA</td>\n",
       "      <td>Games Com LK</td>\n",
       "      <td>tl68vXSkX_w</td>\n",
       "      <td>CITIES: SKYLINES - PARTE #01 [PLAYSTATION 4] -...</td>\n",
       "      <td>[Games Com LK, Canal De Jogos, Canal De Games,...</td>\n",
       "      <td>49</td>\n",
       "    </tr>\n",
       "    <tr>\n",
       "      <th>17</th>\n",
       "      <td>UCMLxzf6bkTtKe_V5novlVwg</td>\n",
       "      <td>Matholla Plays</td>\n",
       "      <td>oY2MTnqxvR0</td>\n",
       "      <td>Muita treta na 2ª Assembleia de Prefeitos do m...</td>\n",
       "      <td>[vale, comprar, como, começar, how, to, start,...</td>\n",
       "      <td>32</td>\n",
       "    </tr>\n",
       "    <tr>\n",
       "      <th>18</th>\n",
       "      <td>UC1tTvOdY0rribnVuMDcDvKg</td>\n",
       "      <td>RSTech BR</td>\n",
       "      <td>gJG8qr7SK1E</td>\n",
       "      <td>RX580 roda Cities Skylines 2 depois das atuali...</td>\n",
       "      <td>[citiesskylines 2, citiesskylines, jogos, game...</td>\n",
       "      <td>32</td>\n",
       "    </tr>\n",
       "    <tr>\n",
       "      <th>19</th>\n",
       "      <td>UCpNdpRnuSoVAJ0CcIj3dIqw</td>\n",
       "      <td>XV Gamer Pro</td>\n",
       "      <td>75r_7SpQ3bQ</td>\n",
       "      <td>K-POP Cities: Skylines Remaster DLC Gameplay B...</td>\n",
       "      <td>[#PS5Live, Cities: Skylines Remastered, PlaySt...</td>\n",
       "      <td>31</td>\n",
       "    </tr>\n",
       "    <tr>\n",
       "      <th>20</th>\n",
       "      <td>UCdlymqDTjKMEuFPxBy94zCg</td>\n",
       "      <td>Krow Benchmarks</td>\n",
       "      <td>pFif37EQIHU</td>\n",
       "      <td>Radeon HD 6670 1GB | Test in 45 Games [HD 6670...</td>\n",
       "      <td>[gaming, benchmark, amd, nvidia, steam, window...</td>\n",
       "      <td>20</td>\n",
       "    </tr>\n",
       "    <tr>\n",
       "      <th>21</th>\n",
       "      <td>UCws6aF9JdDUOiqJDTRnI7RA</td>\n",
       "      <td>Feperamuller</td>\n",
       "      <td>KFK_3P9faLs</td>\n",
       "      <td>Primeiros Habitantes! (Cities Skylines II)</td>\n",
       "      <td>[]</td>\n",
       "      <td>18</td>\n",
       "    </tr>\n",
       "    <tr>\n",
       "      <th>22</th>\n",
       "      <td>UC_a5ykpZR8o-5exRDYCFp0Q</td>\n",
       "      <td>GalileZinski</td>\n",
       "      <td>wDmEpat1r_0</td>\n",
       "      <td>Tutorial de Energia no Workers &amp; Resources: So...</td>\n",
       "      <td>[]</td>\n",
       "      <td>16</td>\n",
       "    </tr>\n",
       "    <tr>\n",
       "      <th>23</th>\n",
       "      <td>UCGved3ynk6ZhUvSKxzgweTw</td>\n",
       "      <td>Jogando</td>\n",
       "      <td>tjZZTkpmPo4</td>\n",
       "      <td>07 Itaquera - Cities Skylines 2 UNIVERSIDADE, ...</td>\n",
       "      <td>[Canal Jogando, Canal Jogando Raiz, Cities, Ci...</td>\n",
       "      <td>12</td>\n",
       "    </tr>\n",
       "    <tr>\n",
       "      <th>24</th>\n",
       "      <td>UCDqzBrUOm7guqqyU8eDackg</td>\n",
       "      <td>BUG CITIES</td>\n",
       "      <td>oAkbeQ7465U</td>\n",
       "      <td>Cidade (Mods) CITIES SKYLINES I (iniciante)| C...</td>\n",
       "      <td>[Simulação de cidade, Construção de cidade, Ge...</td>\n",
       "      <td>10</td>\n",
       "    </tr>\n",
       "    <tr>\n",
       "      <th>25</th>\n",
       "      <td>UC17XM9GSP667Hle_ce1JeJw</td>\n",
       "      <td>AMJ Gameplays</td>\n",
       "      <td>eSlVZlnXEHo</td>\n",
       "      <td>#45 - Cities: Skylines 2 - Tolerância zero: Se...</td>\n",
       "      <td>[cities skylines 2, cities skylines 2 gameplay...</td>\n",
       "      <td>9</td>\n",
       "    </tr>\n",
       "    <tr>\n",
       "      <th>26</th>\n",
       "      <td>UCdrd9d0-1p8sgXOvJDc-naA</td>\n",
       "      <td>FLAVIOSUICO GAMES</td>\n",
       "      <td>MNkHbA1LdiQ</td>\n",
       "      <td>Cities Skyline 2 - QUE VENHA O TRANSPORTE PÚBL...</td>\n",
       "      <td>[#Citiesskyline2, #cities, #skyline, #gameplay...</td>\n",
       "      <td>7</td>\n",
       "    </tr>\n",
       "    <tr>\n",
       "      <th>27</th>\n",
       "      <td>UCWG9rWwHoswYWl6To1PXg0A</td>\n",
       "      <td>Maelstrom</td>\n",
       "      <td>ISQtUzZTSeY</td>\n",
       "      <td>Cities Skylines II - Finalmente Fazendas  - Ar...</td>\n",
       "      <td>[]</td>\n",
       "      <td>4</td>\n",
       "    </tr>\n",
       "    <tr>\n",
       "      <th>28</th>\n",
       "      <td>UCNCMu1_0mQFX5NsB2Um4Oxg</td>\n",
       "      <td>gastro games</td>\n",
       "      <td>CdN_8c_Xuxg</td>\n",
       "      <td>Cities Skylines: central park Mapeamento (Part...</td>\n",
       "      <td>[#PS4share, Cities: Skylines, Gastrosgames, Pl...</td>\n",
       "      <td>4</td>\n",
       "    </tr>\n",
       "    <tr>\n",
       "      <th>29</th>\n",
       "      <td>UCNrslTbPfIQFf1fLFrLYdgg</td>\n",
       "      <td>Renan DZ</td>\n",
       "      <td>GqqIY4uACX0</td>\n",
       "      <td>O MAIOR PROJETO DE CIDADE NO CITIES SKYLINES -...</td>\n",
       "      <td>[renan dz, renan, dz, CITIES SKYLINES, CITIES ...</td>\n",
       "      <td>3</td>\n",
       "    </tr>\n",
       "    <tr>\n",
       "      <th>30</th>\n",
       "      <td>UCUzIPjovwqbS1y6l1Ze7WBg</td>\n",
       "      <td>Patrik PJ</td>\n",
       "      <td>ALYHDsToYF8</td>\n",
       "      <td>Cities Skylines - Cidade de Monte Plano - Reso...</td>\n",
       "      <td>[]</td>\n",
       "      <td>2</td>\n",
       "    </tr>\n",
       "    <tr>\n",
       "      <th>31</th>\n",
       "      <td>UC7v51W2NoLFawizgcNuVBOA</td>\n",
       "      <td>CANAL HAND - GAME WITH MUSIC</td>\n",
       "      <td>mjMCMNM-AOI</td>\n",
       "      <td>CITIES SKYLINES | MAPA PICOS VERDES | HAND BEA...</td>\n",
       "      <td>[cities skylines, cities skylines gameplay, ci...</td>\n",
       "      <td>0</td>\n",
       "    </tr>\n",
       "  </tbody>\n",
       "</table>\n",
       "</div>"
      ],
      "text/plain": [
       "                  ID_CANAL_x                      NM_CANAL     ID_VIDEO  \\\n",
       "0   UCrOH1V-FyMunBIMrKL0y0xQ               ChratosGameplay  SH1pVQcObMc   \n",
       "1   UCL5k8vBBo1JOHh7AnvoD8xQ                 JulioGameplay  QN33FxO7Irw   \n",
       "2   UCe9jrI0YQ5SM6h5QRZ9FZlA                Barbosa Cities  Q-wLBZ9OI1o   \n",
       "3   UCCe4Be21OPPltTTIHP4lDvg                     Octopolis  F8eyXMzbpTE   \n",
       "4   UCDGo_s0I-2JpO3o3xlkMQVA                    Simularies  1xwK-5-4Hsk   \n",
       "5   UCaj6FB2mFZ2T9a61QtZsKPA                     TioChuckZ  i4h08DIfjKw   \n",
       "6   UCYEb5mbKZ5JJzN0xBuKyaig           Canal Sala de Jogos  sAvBu12YElQ   \n",
       "7   UCPmECmi5UoEt4c0WRLuslnA                         Pires  WUEJ4FcN5_E   \n",
       "8   UCtThvq93ISUNSv06wyxbzOA                     Mr. Eu123  Qzq01Tg6VFs   \n",
       "9   UCD9YHClUr3tSoAm-kj8ejDA                         Rivas  MCucUqIia7E   \n",
       "10  UCpA7ooMrd0-LLGlPOYU_yPQ                     scrollzxx  USP-svPrOME   \n",
       "11  UCIv5D2ro1owj6P7OdZ4-BiA      BL4D3N | Cities Skylines  qSIEeybcrV0   \n",
       "12  UCcVrstSSA7Zt5SkOZRlhVKw                    Dede Joga!  3VVcrPpoQ2M   \n",
       "13  UCMsbzwrSvRJoa0JhS5YcsqQ                     rlkpedrom  cJjVUX6VuBQ   \n",
       "14  UC9c1ArBS7twtRpy_NJ_qGwA            Ale_Bagunçinha MTA  g2gBZHWaLMs   \n",
       "15  UCrhZH-oxUpmnZRISf8Xw7rQ                   HughesGames  7z-SFZnc_Oo   \n",
       "16  UCrAfEv5uN7C9pLtn4X1ouwA                  Games Com LK  tl68vXSkX_w   \n",
       "17  UCMLxzf6bkTtKe_V5novlVwg                Matholla Plays  oY2MTnqxvR0   \n",
       "18  UC1tTvOdY0rribnVuMDcDvKg                     RSTech BR  gJG8qr7SK1E   \n",
       "19  UCpNdpRnuSoVAJ0CcIj3dIqw                  XV Gamer Pro  75r_7SpQ3bQ   \n",
       "20  UCdlymqDTjKMEuFPxBy94zCg               Krow Benchmarks  pFif37EQIHU   \n",
       "21  UCws6aF9JdDUOiqJDTRnI7RA                  Feperamuller  KFK_3P9faLs   \n",
       "22  UC_a5ykpZR8o-5exRDYCFp0Q                  GalileZinski  wDmEpat1r_0   \n",
       "23  UCGved3ynk6ZhUvSKxzgweTw                       Jogando  tjZZTkpmPo4   \n",
       "24  UCDqzBrUOm7guqqyU8eDackg                    BUG CITIES  oAkbeQ7465U   \n",
       "25  UC17XM9GSP667Hle_ce1JeJw                 AMJ Gameplays  eSlVZlnXEHo   \n",
       "26  UCdrd9d0-1p8sgXOvJDc-naA             FLAVIOSUICO GAMES  MNkHbA1LdiQ   \n",
       "27  UCWG9rWwHoswYWl6To1PXg0A                     Maelstrom  ISQtUzZTSeY   \n",
       "28  UCNCMu1_0mQFX5NsB2Um4Oxg                  gastro games  CdN_8c_Xuxg   \n",
       "29  UCNrslTbPfIQFf1fLFrLYdgg                      Renan DZ  GqqIY4uACX0   \n",
       "30  UCUzIPjovwqbS1y6l1Ze7WBg                     Patrik PJ  ALYHDsToYF8   \n",
       "31  UC7v51W2NoLFawizgcNuVBOA  CANAL HAND - GAME WITH MUSIC  mjMCMNM-AOI   \n",
       "\n",
       "                                         TITULO_VIDEO  \\\n",
       "0   MINHA EXPERIÊNCIA COM CITIES SKYLINES 2 (FIM) ...   \n",
       "1   new update parte 8 Buckshot roulette #buckshot...   \n",
       "2   CS2 #32 | BAIRRO INTEIRO PARA TENTAR ATENDER D...   \n",
       "3   SOLUÇÃO de problemas de PRODUÇÃO | HAMILTON - ...   \n",
       "4   ✨ COMEÇANDO A CIDADE DE ALTA VISTA! 🏙️ EP 01 |...   \n",
       "5   Finalmente ALTA DENSIDADE! | Cities Skylines 2...   \n",
       "6   Conheça a Ilha de TioChuckZ - Cities: Skylines...   \n",
       "7   FIQUEI RICO COM O AGRO NO CITIES SKYLINES 2! -...   \n",
       "8   Trânsito no cities skylines em 2024 #citiessky...   \n",
       "9   Cities: Skylines II | Episódio 04: Construindo...   \n",
       "10  SA:MP #15 o hotwheels é tão brabo que deu unba...   \n",
       "11  Como FICAR RICO com PETRÓLEO no CITIES SKYLINES 2   \n",
       "12              Os 5 Melhores Jogos Feitos Na Unity 🎮   \n",
       "13  💎🔥 LIVE ONN!! - VANISH ROLEPLAY - MTA - GTA SA...   \n",
       "14  🔥 AO VIVO  |  ALE_BAGUNCINHA  FENIX CITY ROLEP...   \n",
       "15  Cities Skylines 2 _ Vamos bater um papo na cidade   \n",
       "16  CITIES: SKYLINES - PARTE #01 [PLAYSTATION 4] -...   \n",
       "17  Muita treta na 2ª Assembleia de Prefeitos do m...   \n",
       "18  RX580 roda Cities Skylines 2 depois das atuali...   \n",
       "19  K-POP Cities: Skylines Remaster DLC Gameplay B...   \n",
       "20  Radeon HD 6670 1GB | Test in 45 Games [HD 6670...   \n",
       "21         Primeiros Habitantes! (Cities Skylines II)   \n",
       "22  Tutorial de Energia no Workers & Resources: So...   \n",
       "23  07 Itaquera - Cities Skylines 2 UNIVERSIDADE, ...   \n",
       "24  Cidade (Mods) CITIES SKYLINES I (iniciante)| C...   \n",
       "25  #45 - Cities: Skylines 2 - Tolerância zero: Se...   \n",
       "26  Cities Skyline 2 - QUE VENHA O TRANSPORTE PÚBL...   \n",
       "27  Cities Skylines II - Finalmente Fazendas  - Ar...   \n",
       "28  Cities Skylines: central park Mapeamento (Part...   \n",
       "29  O MAIOR PROJETO DE CIDADE NO CITIES SKYLINES -...   \n",
       "30  Cities Skylines - Cidade de Monte Plano - Reso...   \n",
       "31  CITIES SKYLINES | MAPA PICOS VERDES | HAND BEA...   \n",
       "\n",
       "                                                 TAGS  TOTAL_MAX  \n",
       "0   [cities skylines, cities skylines 2, cities sk...      15348  \n",
       "1   [buckshot roulette, buckshot roulette gameplay...      13309  \n",
       "2   [cities, skylines, gameplay, ps4, playstation ...       8312  \n",
       "3   [cities skylines 2, cities: skylines 2, cities...       3544  \n",
       "4   [simularies, cities skylines 2, cities skyline...       3354  \n",
       "5   [cities skylines 2, tio chuck, tiochuckz, citi...       2295  \n",
       "6   [cities skylines 2, cities skylines gameplay, ...        509  \n",
       "7   [maxpalaro, cities skylines, cities skylines 2...        250  \n",
       "8                                                  []        137  \n",
       "9                                                  []        132  \n",
       "10  [gta, mta, samp, mtarp, samprp, sampmobile, mt...        132  \n",
       "11  [Cities Skylines 2, Inundações Urbanas, Petrol...        111  \n",
       "12  [Unity, Jogos, Informação, Indie, Cinco, Novo,...         82  \n",
       "13                                                 []         78  \n",
       "14  [GTA SAMP, SAMP RP, NOVO SERVIDOR, VAGAS PARA ...         65  \n",
       "15                                     [#hughesgames]         50  \n",
       "16  [Games Com LK, Canal De Jogos, Canal De Games,...         49  \n",
       "17  [vale, comprar, como, começar, how, to, start,...         32  \n",
       "18  [citiesskylines 2, citiesskylines, jogos, game...         32  \n",
       "19  [#PS5Live, Cities: Skylines Remastered, PlaySt...         31  \n",
       "20  [gaming, benchmark, amd, nvidia, steam, window...         20  \n",
       "21                                                 []         18  \n",
       "22                                                 []         16  \n",
       "23  [Canal Jogando, Canal Jogando Raiz, Cities, Ci...         12  \n",
       "24  [Simulação de cidade, Construção de cidade, Ge...         10  \n",
       "25  [cities skylines 2, cities skylines 2 gameplay...          9  \n",
       "26  [#Citiesskyline2, #cities, #skyline, #gameplay...          7  \n",
       "27                                                 []          4  \n",
       "28  [#PS4share, Cities: Skylines, Gastrosgames, Pl...          4  \n",
       "29  [renan dz, renan, dz, CITIES SKYLINES, CITIES ...          3  \n",
       "30                                                 []          2  \n",
       "31  [cities skylines, cities skylines gameplay, ci...          0  "
      ]
     },
     "execution_count": 425,
     "metadata": {},
     "output_type": "execute_result"
    }
   ],
   "source": [
    "base_video_agg_completa = pd.merge(left=base_video_agg, right=base_video, how='inner', left_on='ID_VIDEO', right_on='ID_VIDEO', )\n",
    "base_video_agg_completa = base_video_agg_completa[['ID_CANAL_x', 'NM_CANAL', 'ID_VIDEO', 'TITULO_VIDEO', 'TAGS', 'TOTAL_MAX' ]]\n",
    "base_video_agg_completa.drop_duplicates(subset=['ID_CANAL_x', 'NM_CANAL', 'ID_VIDEO', 'TITULO_VIDEO', 'TOTAL_MAX'], inplace=True)\n",
    "\n",
    "base_video_agg_completa"
   ]
  },
  {
   "cell_type": "markdown",
   "metadata": {},
   "source": [
    "- Tags com canais de mais de 1000 vísualizações "
   ]
  },
  {
   "cell_type": "code",
   "execution_count": 426,
   "metadata": {},
   "outputs": [
    {
     "data": {
      "text/html": [
       "<div>\n",
       "<style scoped>\n",
       "    .dataframe tbody tr th:only-of-type {\n",
       "        vertical-align: middle;\n",
       "    }\n",
       "\n",
       "    .dataframe tbody tr th {\n",
       "        vertical-align: top;\n",
       "    }\n",
       "\n",
       "    .dataframe thead th {\n",
       "        text-align: right;\n",
       "    }\n",
       "</style>\n",
       "<table border=\"1\" class=\"dataframe\">\n",
       "  <thead>\n",
       "    <tr style=\"text-align: right;\">\n",
       "      <th></th>\n",
       "      <th>ID_CANAL_x</th>\n",
       "      <th>NM_CANAL</th>\n",
       "      <th>ID_VIDEO</th>\n",
       "      <th>TITULO_VIDEO</th>\n",
       "      <th>TAGS</th>\n",
       "      <th>TOTAL_MAX</th>\n",
       "    </tr>\n",
       "  </thead>\n",
       "  <tbody>\n",
       "    <tr>\n",
       "      <th>0</th>\n",
       "      <td>UCrOH1V-FyMunBIMrKL0y0xQ</td>\n",
       "      <td>ChratosGameplay</td>\n",
       "      <td>SH1pVQcObMc</td>\n",
       "      <td>MINHA EXPERIÊNCIA COM CITIES SKYLINES 2 (FIM) ...</td>\n",
       "      <td>[cities skylines, cities skylines 2, cities sk...</td>\n",
       "      <td>15348</td>\n",
       "    </tr>\n",
       "    <tr>\n",
       "      <th>1</th>\n",
       "      <td>UCL5k8vBBo1JOHh7AnvoD8xQ</td>\n",
       "      <td>JulioGameplay</td>\n",
       "      <td>QN33FxO7Irw</td>\n",
       "      <td>new update parte 8 Buckshot roulette #buckshot...</td>\n",
       "      <td>[buckshot roulette, buckshot roulette gameplay...</td>\n",
       "      <td>13309</td>\n",
       "    </tr>\n",
       "    <tr>\n",
       "      <th>2</th>\n",
       "      <td>UCe9jrI0YQ5SM6h5QRZ9FZlA</td>\n",
       "      <td>Barbosa Cities</td>\n",
       "      <td>Q-wLBZ9OI1o</td>\n",
       "      <td>CS2 #32 | BAIRRO INTEIRO PARA TENTAR ATENDER D...</td>\n",
       "      <td>[cities, skylines, gameplay, ps4, playstation ...</td>\n",
       "      <td>8312</td>\n",
       "    </tr>\n",
       "    <tr>\n",
       "      <th>3</th>\n",
       "      <td>UCCe4Be21OPPltTTIHP4lDvg</td>\n",
       "      <td>Octopolis</td>\n",
       "      <td>F8eyXMzbpTE</td>\n",
       "      <td>SOLUÇÃO de problemas de PRODUÇÃO | HAMILTON - ...</td>\n",
       "      <td>[cities skylines 2, cities: skylines 2, cities...</td>\n",
       "      <td>3544</td>\n",
       "    </tr>\n",
       "    <tr>\n",
       "      <th>4</th>\n",
       "      <td>UCDGo_s0I-2JpO3o3xlkMQVA</td>\n",
       "      <td>Simularies</td>\n",
       "      <td>1xwK-5-4Hsk</td>\n",
       "      <td>✨ COMEÇANDO A CIDADE DE ALTA VISTA! 🏙️ EP 01 |...</td>\n",
       "      <td>[simularies, cities skylines 2, cities skyline...</td>\n",
       "      <td>3354</td>\n",
       "    </tr>\n",
       "    <tr>\n",
       "      <th>5</th>\n",
       "      <td>UCaj6FB2mFZ2T9a61QtZsKPA</td>\n",
       "      <td>TioChuckZ</td>\n",
       "      <td>i4h08DIfjKw</td>\n",
       "      <td>Finalmente ALTA DENSIDADE! | Cities Skylines 2...</td>\n",
       "      <td>[cities skylines 2, tio chuck, tiochuckz, citi...</td>\n",
       "      <td>2295</td>\n",
       "    </tr>\n",
       "  </tbody>\n",
       "</table>\n",
       "</div>"
      ],
      "text/plain": [
       "                 ID_CANAL_x         NM_CANAL     ID_VIDEO  \\\n",
       "0  UCrOH1V-FyMunBIMrKL0y0xQ  ChratosGameplay  SH1pVQcObMc   \n",
       "1  UCL5k8vBBo1JOHh7AnvoD8xQ    JulioGameplay  QN33FxO7Irw   \n",
       "2  UCe9jrI0YQ5SM6h5QRZ9FZlA   Barbosa Cities  Q-wLBZ9OI1o   \n",
       "3  UCCe4Be21OPPltTTIHP4lDvg        Octopolis  F8eyXMzbpTE   \n",
       "4  UCDGo_s0I-2JpO3o3xlkMQVA       Simularies  1xwK-5-4Hsk   \n",
       "5  UCaj6FB2mFZ2T9a61QtZsKPA        TioChuckZ  i4h08DIfjKw   \n",
       "\n",
       "                                        TITULO_VIDEO  \\\n",
       "0  MINHA EXPERIÊNCIA COM CITIES SKYLINES 2 (FIM) ...   \n",
       "1  new update parte 8 Buckshot roulette #buckshot...   \n",
       "2  CS2 #32 | BAIRRO INTEIRO PARA TENTAR ATENDER D...   \n",
       "3  SOLUÇÃO de problemas de PRODUÇÃO | HAMILTON - ...   \n",
       "4  ✨ COMEÇANDO A CIDADE DE ALTA VISTA! 🏙️ EP 01 |...   \n",
       "5  Finalmente ALTA DENSIDADE! | Cities Skylines 2...   \n",
       "\n",
       "                                                TAGS  TOTAL_MAX  \n",
       "0  [cities skylines, cities skylines 2, cities sk...      15348  \n",
       "1  [buckshot roulette, buckshot roulette gameplay...      13309  \n",
       "2  [cities, skylines, gameplay, ps4, playstation ...       8312  \n",
       "3  [cities skylines 2, cities: skylines 2, cities...       3544  \n",
       "4  [simularies, cities skylines 2, cities skyline...       3354  \n",
       "5  [cities skylines 2, tio chuck, tiochuckz, citi...       2295  "
      ]
     },
     "execution_count": 426,
     "metadata": {},
     "output_type": "execute_result"
    }
   ],
   "source": [
    "base_video_agg_completa_mil_v = base_video_agg_completa.query(\"TOTAL_MAX >= 1000\")\n",
    "base_video_agg_completa_mil_v\n"
   ]
  },
  {
   "cell_type": "code",
   "execution_count": 427,
   "metadata": {},
   "outputs": [
    {
     "data": {
      "text/html": [
       "<div>\n",
       "<style scoped>\n",
       "    .dataframe tbody tr th:only-of-type {\n",
       "        vertical-align: middle;\n",
       "    }\n",
       "\n",
       "    .dataframe tbody tr th {\n",
       "        vertical-align: top;\n",
       "    }\n",
       "\n",
       "    .dataframe thead th {\n",
       "        text-align: right;\n",
       "    }\n",
       "</style>\n",
       "<table border=\"1\" class=\"dataframe\">\n",
       "  <thead>\n",
       "    <tr style=\"text-align: right;\">\n",
       "      <th></th>\n",
       "      <th>Tag</th>\n",
       "      <th>Frequência</th>\n",
       "    </tr>\n",
       "  </thead>\n",
       "  <tbody>\n",
       "    <tr>\n",
       "      <th>1</th>\n",
       "      <td>cities skylines 2</td>\n",
       "      <td>4</td>\n",
       "    </tr>\n",
       "    <tr>\n",
       "      <th>0</th>\n",
       "      <td>cities skylines</td>\n",
       "      <td>3</td>\n",
       "    </tr>\n",
       "    <tr>\n",
       "      <th>3</th>\n",
       "      <td>cities skylines 2 gameplay</td>\n",
       "      <td>3</td>\n",
       "    </tr>\n",
       "    <tr>\n",
       "      <th>6</th>\n",
       "      <td>gameplay</td>\n",
       "      <td>3</td>\n",
       "    </tr>\n",
       "    <tr>\n",
       "      <th>24</th>\n",
       "      <td>cs2</td>\n",
       "      <td>2</td>\n",
       "    </tr>\n",
       "    <tr>\n",
       "      <th>...</th>\n",
       "      <td>...</td>\n",
       "      <td>...</td>\n",
       "    </tr>\n",
       "    <tr>\n",
       "      <th>44</th>\n",
       "      <td>iniciantes</td>\n",
       "      <td>1</td>\n",
       "    </tr>\n",
       "    <tr>\n",
       "      <th>43</th>\n",
       "      <td>tuturiais</td>\n",
       "      <td>1</td>\n",
       "    </tr>\n",
       "    <tr>\n",
       "      <th>42</th>\n",
       "      <td>dicas</td>\n",
       "      <td>1</td>\n",
       "    </tr>\n",
       "    <tr>\n",
       "      <th>41</th>\n",
       "      <td>infraestrutura</td>\n",
       "      <td>1</td>\n",
       "    </tr>\n",
       "    <tr>\n",
       "      <th>117</th>\n",
       "      <td>cities skylines 2 gameplay br</td>\n",
       "      <td>1</td>\n",
       "    </tr>\n",
       "  </tbody>\n",
       "</table>\n",
       "<p>118 rows × 2 columns</p>\n",
       "</div>"
      ],
      "text/plain": [
       "                               Tag  Frequência\n",
       "1                cities skylines 2           4\n",
       "0                  cities skylines           3\n",
       "3       cities skylines 2 gameplay           3\n",
       "6                         gameplay           3\n",
       "24                             cs2           2\n",
       "..                             ...         ...\n",
       "44                      iniciantes           1\n",
       "43                       tuturiais           1\n",
       "42                           dicas           1\n",
       "41                  infraestrutura           1\n",
       "117  cities skylines 2 gameplay br           1\n",
       "\n",
       "[118 rows x 2 columns]"
      ]
     },
     "execution_count": 427,
     "metadata": {},
     "output_type": "execute_result"
    }
   ],
   "source": [
    "tags_populares = {}\n",
    "for tags in base_video_agg_completa_mil_v['TAGS']:\n",
    "    if len(tags) > 2:\n",
    "        for tag in tags:\n",
    "            if tag in tags_populares:\n",
    "                tags_populares[tag] += 1\n",
    "            else:\n",
    "                tags_populares[tag] = 1\n",
    "df_tags_populares = pd.DataFrame(list(tags_populares.items()), columns=['Tag', 'Frequência']).sort_values(by=['Frequência'], ascending=False)\n",
    "df_tags_populares"
   ]
  },
  {
   "cell_type": "code",
   "execution_count": 428,
   "metadata": {},
   "outputs": [
    {
     "data": {
      "text/html": [
       "\n",
       "        <iframe\n",
       "            width=\"100%\"\n",
       "            height=\"650\"\n",
       "            src=\"http://127.0.0.1:8048/\"\n",
       "            frameborder=\"0\"\n",
       "            allowfullscreen\n",
       "            \n",
       "        ></iframe>\n",
       "        "
      ],
      "text/plain": [
       "<IPython.lib.display.IFrame at 0x7f488e902ce0>"
      ]
     },
     "metadata": {},
     "output_type": "display_data"
    }
   ],
   "source": [
    "\n",
    "app = Dash(__name__)\n",
    "\n",
    "app.layout = dash_table.DataTable(df_tags_populares.to_dict('records'), [{\"name\": i, \"id\": i} for i in df_tags_populares.columns])\n",
    "\n",
    "if __name__ == '__main__':\n",
    "    app.run(debug=True, port=8048)"
   ]
  },
  {
   "cell_type": "markdown",
   "metadata": {},
   "source": [
    "- Tags Geral"
   ]
  },
  {
   "cell_type": "code",
   "execution_count": 429,
   "metadata": {},
   "outputs": [
    {
     "data": {
      "text/html": [
       "<div>\n",
       "<style scoped>\n",
       "    .dataframe tbody tr th:only-of-type {\n",
       "        vertical-align: middle;\n",
       "    }\n",
       "\n",
       "    .dataframe tbody tr th {\n",
       "        vertical-align: top;\n",
       "    }\n",
       "\n",
       "    .dataframe thead th {\n",
       "        text-align: right;\n",
       "    }\n",
       "</style>\n",
       "<table border=\"1\" class=\"dataframe\">\n",
       "  <thead>\n",
       "    <tr style=\"text-align: right;\">\n",
       "      <th></th>\n",
       "      <th>Tag</th>\n",
       "      <th>Frequência</th>\n",
       "    </tr>\n",
       "  </thead>\n",
       "  <tbody>\n",
       "    <tr>\n",
       "      <th>1</th>\n",
       "      <td>cities skylines 2</td>\n",
       "      <td>28</td>\n",
       "    </tr>\n",
       "    <tr>\n",
       "      <th>6</th>\n",
       "      <td>gameplay</td>\n",
       "      <td>27</td>\n",
       "    </tr>\n",
       "    <tr>\n",
       "      <th>0</th>\n",
       "      <td>cities skylines</td>\n",
       "      <td>20</td>\n",
       "    </tr>\n",
       "    <tr>\n",
       "      <th>31</th>\n",
       "      <td>buckshot roulette</td>\n",
       "      <td>19</td>\n",
       "    </tr>\n",
       "    <tr>\n",
       "      <th>5</th>\n",
       "      <td>skylines</td>\n",
       "      <td>16</td>\n",
       "    </tr>\n",
       "    <tr>\n",
       "      <th>...</th>\n",
       "      <td>...</td>\n",
       "      <td>...</td>\n",
       "    </tr>\n",
       "    <tr>\n",
       "      <th>174</th>\n",
       "      <td>cities skylines octopolis</td>\n",
       "      <td>1</td>\n",
       "    </tr>\n",
       "    <tr>\n",
       "      <th>228</th>\n",
       "      <td>gta</td>\n",
       "      <td>1</td>\n",
       "    </tr>\n",
       "    <tr>\n",
       "      <th>190</th>\n",
       "      <td>tiochuckz</td>\n",
       "      <td>1</td>\n",
       "    </tr>\n",
       "    <tr>\n",
       "      <th>192</th>\n",
       "      <td>cities skylines vanilla</td>\n",
       "      <td>1</td>\n",
       "    </tr>\n",
       "    <tr>\n",
       "      <th>246</th>\n",
       "      <td>family</td>\n",
       "      <td>1</td>\n",
       "    </tr>\n",
       "  </tbody>\n",
       "</table>\n",
       "<p>493 rows × 2 columns</p>\n",
       "</div>"
      ],
      "text/plain": [
       "                           Tag  Frequência\n",
       "1            cities skylines 2          28\n",
       "6                     gameplay          27\n",
       "0              cities skylines          20\n",
       "31           buckshot roulette          19\n",
       "5                     skylines          16\n",
       "..                         ...         ...\n",
       "174  cities skylines octopolis           1\n",
       "228                        gta           1\n",
       "190                  tiochuckz           1\n",
       "192    cities skylines vanilla           1\n",
       "246                     family           1\n",
       "\n",
       "[493 rows x 2 columns]"
      ]
     },
     "execution_count": 429,
     "metadata": {},
     "output_type": "execute_result"
    }
   ],
   "source": [
    "tags_populares = {}\n",
    "for tags in base_video['TAGS']:\n",
    "    if len(tags) > 2:\n",
    "        for tag in tags:\n",
    "            if tag in tags_populares:\n",
    "                tags_populares[tag] += 1\n",
    "            else:\n",
    "                tags_populares[tag] = 1\n",
    "df_tags_populares = pd.DataFrame(list(tags_populares.items()), columns=['Tag', 'Frequência']).sort_values(by=['Frequência'], ascending=False)\n",
    "df_tags_populares"
   ]
  },
  {
   "cell_type": "code",
   "execution_count": 430,
   "metadata": {},
   "outputs": [
    {
     "data": {
      "text/html": [
       "\n",
       "        <iframe\n",
       "            width=\"100%\"\n",
       "            height=\"650\"\n",
       "            src=\"http://127.0.0.1:8049/\"\n",
       "            frameborder=\"0\"\n",
       "            allowfullscreen\n",
       "            \n",
       "        ></iframe>\n",
       "        "
      ],
      "text/plain": [
       "<IPython.lib.display.IFrame at 0x7f488e8dfd00>"
      ]
     },
     "metadata": {},
     "output_type": "display_data"
    }
   ],
   "source": [
    "\n",
    "app = Dash(__name__)\n",
    "\n",
    "app.layout = dash_table.DataTable(df_tags_populares.to_dict('records'), [{\"name\": i, \"id\": i} for i in df_tags_populares.columns])\n",
    "\n",
    "if __name__ == '__main__':\n",
    "    app.run(debug=True, port=8049)"
   ]
  },
  {
   "cell_type": "markdown",
   "metadata": {},
   "source": [
    "- Por canal"
   ]
  },
  {
   "cell_type": "code",
   "execution_count": 431,
   "metadata": {},
   "outputs": [
    {
     "data": {
      "text/html": [
       "<div>\n",
       "<style scoped>\n",
       "    .dataframe tbody tr th:only-of-type {\n",
       "        vertical-align: middle;\n",
       "    }\n",
       "\n",
       "    .dataframe tbody tr th {\n",
       "        vertical-align: top;\n",
       "    }\n",
       "\n",
       "    .dataframe thead th {\n",
       "        text-align: right;\n",
       "    }\n",
       "</style>\n",
       "<table border=\"1\" class=\"dataframe\">\n",
       "  <thead>\n",
       "    <tr style=\"text-align: right;\">\n",
       "      <th></th>\n",
       "      <th>data_extracao</th>\n",
       "      <th>ASSUNTO</th>\n",
       "      <th>ID_VIDEO</th>\n",
       "      <th>TITULO_VIDEO</th>\n",
       "      <th>TAGS</th>\n",
       "      <th>TOTAL_VISUALIZACOES</th>\n",
       "      <th>TOTAL_LIKES</th>\n",
       "      <th>TOTAL_COMENTARIOS</th>\n",
       "      <th>ID_CANAL</th>\n",
       "      <th>NM_CANAL</th>\n",
       "      <th>TURNO_EXTRACAO</th>\n",
       "      <th>INDICE_TURNO_EXTRACAO</th>\n",
       "    </tr>\n",
       "  </thead>\n",
       "  <tbody>\n",
       "    <tr>\n",
       "      <th>8784</th>\n",
       "      <td>2024-01-23</td>\n",
       "      <td>assunto_cities_skylines</td>\n",
       "      <td>SH1pVQcObMc</td>\n",
       "      <td>MINHA EXPERIÊNCIA COM CITIES SKYLINES 2 (FIM) ...</td>\n",
       "      <td>[cities skylines, cities skylines 2, cities sk...</td>\n",
       "      <td>15348</td>\n",
       "      <td>2256</td>\n",
       "      <td>126</td>\n",
       "      <td>UCrOH1V-FyMunBIMrKL0y0xQ</td>\n",
       "      <td>ChratosGameplay</td>\n",
       "      <td>Noite</td>\n",
       "      <td>3</td>\n",
       "    </tr>\n",
       "    <tr>\n",
       "      <th>8791</th>\n",
       "      <td>2024-01-23</td>\n",
       "      <td>assunto_cities_skylines</td>\n",
       "      <td>WEet1zBsDvk</td>\n",
       "      <td>PRISÃO E FBI PARA COMBATER CRIMINALIDADE 🏙️ - ...</td>\n",
       "      <td>[cities skylines, cities skylines 2, cities sk...</td>\n",
       "      <td>13909</td>\n",
       "      <td>1936</td>\n",
       "      <td>50</td>\n",
       "      <td>UCrOH1V-FyMunBIMrKL0y0xQ</td>\n",
       "      <td>ChratosGameplay</td>\n",
       "      <td>Noite</td>\n",
       "      <td>3</td>\n",
       "    </tr>\n",
       "    <tr>\n",
       "      <th>8799</th>\n",
       "      <td>2024-01-23</td>\n",
       "      <td>assunto_cities_skylines</td>\n",
       "      <td>mGtCSlnvvIE</td>\n",
       "      <td>PRIMEIRO PARQUE COM LAGOS ARTIFICAIS 🏙️ - Citi...</td>\n",
       "      <td>[cities skylines, cities skylines 2, cities sk...</td>\n",
       "      <td>13189</td>\n",
       "      <td>1714</td>\n",
       "      <td>105</td>\n",
       "      <td>UCrOH1V-FyMunBIMrKL0y0xQ</td>\n",
       "      <td>ChratosGameplay</td>\n",
       "      <td>Noite</td>\n",
       "      <td>3</td>\n",
       "    </tr>\n",
       "    <tr>\n",
       "      <th>8825</th>\n",
       "      <td>2024-01-23</td>\n",
       "      <td>assunto_cities_skylines</td>\n",
       "      <td>D8mQZAv_tQU</td>\n",
       "      <td>ALCANÇANDO 10000 HABITANTES NA EXPANSÃO FRENÉT...</td>\n",
       "      <td>[highrise city, highrise city gameplay, highri...</td>\n",
       "      <td>10936</td>\n",
       "      <td>1328</td>\n",
       "      <td>35</td>\n",
       "      <td>UCrOH1V-FyMunBIMrKL0y0xQ</td>\n",
       "      <td>ChratosGameplay</td>\n",
       "      <td>Noite</td>\n",
       "      <td>3</td>\n",
       "    </tr>\n",
       "    <tr>\n",
       "      <th>8652</th>\n",
       "      <td>2024-01-23</td>\n",
       "      <td>assunto_cities_skylines</td>\n",
       "      <td>1OAQ0TBwQ0w</td>\n",
       "      <td>INDÚSTRIA SIDERÚRGICA E USINAGEM TRAZ BOOM ECO...</td>\n",
       "      <td>[highrise city, highrise city gameplay, highri...</td>\n",
       "      <td>6659</td>\n",
       "      <td>992</td>\n",
       "      <td>28</td>\n",
       "      <td>UCrOH1V-FyMunBIMrKL0y0xQ</td>\n",
       "      <td>ChratosGameplay</td>\n",
       "      <td>Noite</td>\n",
       "      <td>3</td>\n",
       "    </tr>\n",
       "    <tr>\n",
       "      <th>8669</th>\n",
       "      <td>2024-01-23</td>\n",
       "      <td>assunto_cities_skylines</td>\n",
       "      <td>5hcsBCwxs9A</td>\n",
       "      <td>REFORMA PARA URBANIZAÇÃO E EXPANSÃO DE TRÁFEGO...</td>\n",
       "      <td>[highrise city, highrise city gameplay, highri...</td>\n",
       "      <td>5564</td>\n",
       "      <td>869</td>\n",
       "      <td>23</td>\n",
       "      <td>UCrOH1V-FyMunBIMrKL0y0xQ</td>\n",
       "      <td>ChratosGameplay</td>\n",
       "      <td>Noite</td>\n",
       "      <td>3</td>\n",
       "    </tr>\n",
       "    <tr>\n",
       "      <th>8691</th>\n",
       "      <td>2024-01-23</td>\n",
       "      <td>assunto_cities_skylines</td>\n",
       "      <td>ySUyzBe0Qjo</td>\n",
       "      <td>NOVO INCRÍVEL JOGO DE GERENCIAMENTO DE FÁBRICA...</td>\n",
       "      <td>[arms trade tycoon tanks, tank tycoon game, ar...</td>\n",
       "      <td>4607</td>\n",
       "      <td>1326</td>\n",
       "      <td>79</td>\n",
       "      <td>UCrOH1V-FyMunBIMrKL0y0xQ</td>\n",
       "      <td>ChratosGameplay</td>\n",
       "      <td>Noite</td>\n",
       "      <td>3</td>\n",
       "    </tr>\n",
       "  </tbody>\n",
       "</table>\n",
       "</div>"
      ],
      "text/plain": [
       "     data_extracao                  ASSUNTO     ID_VIDEO  \\\n",
       "8784    2024-01-23  assunto_cities_skylines  SH1pVQcObMc   \n",
       "8791    2024-01-23  assunto_cities_skylines  WEet1zBsDvk   \n",
       "8799    2024-01-23  assunto_cities_skylines  mGtCSlnvvIE   \n",
       "8825    2024-01-23  assunto_cities_skylines  D8mQZAv_tQU   \n",
       "8652    2024-01-23  assunto_cities_skylines  1OAQ0TBwQ0w   \n",
       "8669    2024-01-23  assunto_cities_skylines  5hcsBCwxs9A   \n",
       "8691    2024-01-23  assunto_cities_skylines  ySUyzBe0Qjo   \n",
       "\n",
       "                                           TITULO_VIDEO  \\\n",
       "8784  MINHA EXPERIÊNCIA COM CITIES SKYLINES 2 (FIM) ...   \n",
       "8791  PRISÃO E FBI PARA COMBATER CRIMINALIDADE 🏙️ - ...   \n",
       "8799  PRIMEIRO PARQUE COM LAGOS ARTIFICAIS 🏙️ - Citi...   \n",
       "8825  ALCANÇANDO 10000 HABITANTES NA EXPANSÃO FRENÉT...   \n",
       "8652  INDÚSTRIA SIDERÚRGICA E USINAGEM TRAZ BOOM ECO...   \n",
       "8669  REFORMA PARA URBANIZAÇÃO E EXPANSÃO DE TRÁFEGO...   \n",
       "8691  NOVO INCRÍVEL JOGO DE GERENCIAMENTO DE FÁBRICA...   \n",
       "\n",
       "                                                   TAGS  TOTAL_VISUALIZACOES  \\\n",
       "8784  [cities skylines, cities skylines 2, cities sk...                15348   \n",
       "8791  [cities skylines, cities skylines 2, cities sk...                13909   \n",
       "8799  [cities skylines, cities skylines 2, cities sk...                13189   \n",
       "8825  [highrise city, highrise city gameplay, highri...                10936   \n",
       "8652  [highrise city, highrise city gameplay, highri...                 6659   \n",
       "8669  [highrise city, highrise city gameplay, highri...                 5564   \n",
       "8691  [arms trade tycoon tanks, tank tycoon game, ar...                 4607   \n",
       "\n",
       "      TOTAL_LIKES  TOTAL_COMENTARIOS                  ID_CANAL  \\\n",
       "8784         2256                126  UCrOH1V-FyMunBIMrKL0y0xQ   \n",
       "8791         1936                 50  UCrOH1V-FyMunBIMrKL0y0xQ   \n",
       "8799         1714                105  UCrOH1V-FyMunBIMrKL0y0xQ   \n",
       "8825         1328                 35  UCrOH1V-FyMunBIMrKL0y0xQ   \n",
       "8652          992                 28  UCrOH1V-FyMunBIMrKL0y0xQ   \n",
       "8669          869                 23  UCrOH1V-FyMunBIMrKL0y0xQ   \n",
       "8691         1326                 79  UCrOH1V-FyMunBIMrKL0y0xQ   \n",
       "\n",
       "             NM_CANAL TURNO_EXTRACAO  INDICE_TURNO_EXTRACAO  \n",
       "8784  ChratosGameplay          Noite                      3  \n",
       "8791  ChratosGameplay          Noite                      3  \n",
       "8799  ChratosGameplay          Noite                      3  \n",
       "8825  ChratosGameplay          Noite                      3  \n",
       "8652  ChratosGameplay          Noite                      3  \n",
       "8669  ChratosGameplay          Noite                      3  \n",
       "8691  ChratosGameplay          Noite                      3  "
      ]
     },
     "execution_count": 431,
     "metadata": {},
     "output_type": "execute_result"
    }
   ],
   "source": [
    "colunas = ['data_extracao', 'ASSUNTO', 'ID_VIDEO', 'TITULO_VIDEO', 'TAGS', 'TOTAL_VISUALIZACOES', 'TOTAL_LIKES', 'TOTAL_COMENTARIOS' , 'ID_CANAL', 'NM_CANAL', 'TURNO_EXTRACAO', 'INDICE_TURNO_EXTRACAO']\n",
    "base_video_canal = pd.read_parquet('../dados/ouro/dados_tratado_estatisticas_gerais.parquet', columns=colunas)\n",
    "base_video_canal = base_video_canal.query('ASSUNTO == \"assunto_cities_skylines\" and data_extracao == \"2024-01-23\" and ID_CANAL==\"UCrOH1V-FyMunBIMrKL0y0xQ\" and INDICE_TURNO_EXTRACAO == 3' ).sort_values(by=['TOTAL_VISUALIZACOES'], ascending=False)\n",
    "base_video_canal.fillna('[]', inplace=True)\n",
    "base_video_canal"
   ]
  },
  {
   "cell_type": "code",
   "execution_count": 432,
   "metadata": {},
   "outputs": [
    {
     "data": {
      "text/html": [
       "<div>\n",
       "<style scoped>\n",
       "    .dataframe tbody tr th:only-of-type {\n",
       "        vertical-align: middle;\n",
       "    }\n",
       "\n",
       "    .dataframe tbody tr th {\n",
       "        vertical-align: top;\n",
       "    }\n",
       "\n",
       "    .dataframe thead th {\n",
       "        text-align: right;\n",
       "    }\n",
       "</style>\n",
       "<table border=\"1\" class=\"dataframe\">\n",
       "  <thead>\n",
       "    <tr style=\"text-align: right;\">\n",
       "      <th></th>\n",
       "      <th>Tag</th>\n",
       "      <th>Frequência</th>\n",
       "    </tr>\n",
       "  </thead>\n",
       "  <tbody>\n",
       "    <tr>\n",
       "      <th>18</th>\n",
       "      <td>chratos</td>\n",
       "      <td>7</td>\n",
       "    </tr>\n",
       "    <tr>\n",
       "      <th>30</th>\n",
       "      <td>ptbr</td>\n",
       "      <td>7</td>\n",
       "    </tr>\n",
       "    <tr>\n",
       "      <th>29</th>\n",
       "      <td>br</td>\n",
       "      <td>7</td>\n",
       "    </tr>\n",
       "    <tr>\n",
       "      <th>6</th>\n",
       "      <td>gameplay</td>\n",
       "      <td>7</td>\n",
       "    </tr>\n",
       "    <tr>\n",
       "      <th>28</th>\n",
       "      <td>pt</td>\n",
       "      <td>7</td>\n",
       "    </tr>\n",
       "    <tr>\n",
       "      <th>...</th>\n",
       "      <td>...</td>\n",
       "      <td>...</td>\n",
       "    </tr>\n",
       "    <tr>\n",
       "      <th>58</th>\n",
       "      <td>arms trade tycoon tanks gameplay</td>\n",
       "      <td>1</td>\n",
       "    </tr>\n",
       "    <tr>\n",
       "      <th>57</th>\n",
       "      <td>tycoon game</td>\n",
       "      <td>1</td>\n",
       "    </tr>\n",
       "    <tr>\n",
       "      <th>56</th>\n",
       "      <td>arms trade tycoon</td>\n",
       "      <td>1</td>\n",
       "    </tr>\n",
       "    <tr>\n",
       "      <th>55</th>\n",
       "      <td>tank tycoon game</td>\n",
       "      <td>1</td>\n",
       "    </tr>\n",
       "    <tr>\n",
       "      <th>75</th>\n",
       "      <td>economia</td>\n",
       "      <td>1</td>\n",
       "    </tr>\n",
       "  </tbody>\n",
       "</table>\n",
       "<p>76 rows × 2 columns</p>\n",
       "</div>"
      ],
      "text/plain": [
       "                                 Tag  Frequência\n",
       "18                           chratos           7\n",
       "30                              ptbr           7\n",
       "29                                br           7\n",
       "6                           gameplay           7\n",
       "28                                pt           7\n",
       "..                               ...         ...\n",
       "58  arms trade tycoon tanks gameplay           1\n",
       "57                       tycoon game           1\n",
       "56                 arms trade tycoon           1\n",
       "55                  tank tycoon game           1\n",
       "75                          economia           1\n",
       "\n",
       "[76 rows x 2 columns]"
      ]
     },
     "execution_count": 432,
     "metadata": {},
     "output_type": "execute_result"
    }
   ],
   "source": [
    "tags_populares = {}\n",
    "for tags in base_video_canal['TAGS']:\n",
    "    if len(tags) > 2:\n",
    "        for tag in tags:\n",
    "            if tag in tags_populares:\n",
    "                tags_populares[tag] += 1\n",
    "            else:\n",
    "                tags_populares[tag] = 1\n",
    "df_tags_populares = pd.DataFrame(list(tags_populares.items()), columns=['Tag', 'Frequência']).sort_values(by=['Frequência'], ascending=False)\n",
    "df_tags_populares"
   ]
  },
  {
   "cell_type": "code",
   "execution_count": 433,
   "metadata": {},
   "outputs": [
    {
     "data": {
      "text/html": [
       "\n",
       "        <iframe\n",
       "            width=\"100%\"\n",
       "            height=\"650\"\n",
       "            src=\"http://127.0.0.1:8049/\"\n",
       "            frameborder=\"0\"\n",
       "            allowfullscreen\n",
       "            \n",
       "        ></iframe>\n",
       "        "
      ],
      "text/plain": [
       "<IPython.lib.display.IFrame at 0x7f488e903f40>"
      ]
     },
     "metadata": {},
     "output_type": "display_data"
    }
   ],
   "source": [
    "\n",
    "app = Dash(__name__)\n",
    "\n",
    "app.layout = dash_table.DataTable(df_tags_populares.to_dict('records'), [{\"name\": i, \"id\": i} for i in df_tags_populares.columns])\n",
    "\n",
    "if __name__ == '__main__':\n",
    "    app.run(debug=True, port=8049)"
   ]
  },
  {
   "cell_type": "markdown",
   "metadata": {},
   "source": [
    "# Duração dos Vídeos vs Engajamento:"
   ]
  },
  {
   "cell_type": "code",
   "execution_count": 434,
   "metadata": {},
   "outputs": [
    {
     "data": {
      "text/html": [
       "<div>\n",
       "<style scoped>\n",
       "    .dataframe tbody tr th:only-of-type {\n",
       "        vertical-align: middle;\n",
       "    }\n",
       "\n",
       "    .dataframe tbody tr th {\n",
       "        vertical-align: top;\n",
       "    }\n",
       "\n",
       "    .dataframe thead th {\n",
       "        text-align: right;\n",
       "    }\n",
       "</style>\n",
       "<table border=\"1\" class=\"dataframe\">\n",
       "  <thead>\n",
       "    <tr style=\"text-align: right;\">\n",
       "      <th></th>\n",
       "      <th>data_extracao</th>\n",
       "      <th>DATA_PUBLICACAO</th>\n",
       "      <th>ASSUNTO</th>\n",
       "      <th>ID_CANAL</th>\n",
       "      <th>NM_CANAL</th>\n",
       "      <th>ID_VIDEO</th>\n",
       "      <th>TITULO_VIDEO</th>\n",
       "      <th>DURACAO_VIDEO_MINUTOS</th>\n",
       "      <th>TOTAL_VISUALIZACOES</th>\n",
       "      <th>TOTAL_LIKES</th>\n",
       "      <th>TOTAL_COMENTARIOS</th>\n",
       "      <th>TURNO_EXTRACAO</th>\n",
       "      <th>INDICE_TURNO_EXTRACAO</th>\n",
       "    </tr>\n",
       "  </thead>\n",
       "  <tbody>\n",
       "    <tr>\n",
       "      <th>8784</th>\n",
       "      <td>2024-01-23</td>\n",
       "      <td>2024-01-21T15:00:20Z</td>\n",
       "      <td>assunto_cities_skylines</td>\n",
       "      <td>UCrOH1V-FyMunBIMrKL0y0xQ</td>\n",
       "      <td>ChratosGameplay</td>\n",
       "      <td>SH1pVQcObMc</td>\n",
       "      <td>MINHA EXPERIÊNCIA COM CITIES SKYLINES 2 (FIM) ...</td>\n",
       "      <td>38.250000</td>\n",
       "      <td>15348</td>\n",
       "      <td>2256</td>\n",
       "      <td>126</td>\n",
       "      <td>Noite</td>\n",
       "      <td>3</td>\n",
       "    </tr>\n",
       "    <tr>\n",
       "      <th>8791</th>\n",
       "      <td>2024-01-23</td>\n",
       "      <td>2024-01-17T15:00:33Z</td>\n",
       "      <td>assunto_cities_skylines</td>\n",
       "      <td>UCrOH1V-FyMunBIMrKL0y0xQ</td>\n",
       "      <td>ChratosGameplay</td>\n",
       "      <td>WEet1zBsDvk</td>\n",
       "      <td>PRISÃO E FBI PARA COMBATER CRIMINALIDADE 🏙️ - ...</td>\n",
       "      <td>19.850000</td>\n",
       "      <td>13909</td>\n",
       "      <td>1936</td>\n",
       "      <td>50</td>\n",
       "      <td>Noite</td>\n",
       "      <td>3</td>\n",
       "    </tr>\n",
       "    <tr>\n",
       "      <th>8795</th>\n",
       "      <td>2024-01-23</td>\n",
       "      <td>2024-01-19T23:00:14Z</td>\n",
       "      <td>assunto_cities_skylines</td>\n",
       "      <td>UCL5k8vBBo1JOHh7AnvoD8xQ</td>\n",
       "      <td>JulioGameplay</td>\n",
       "      <td>QN33FxO7Irw</td>\n",
       "      <td>new update parte 8 Buckshot roulette #buckshot...</td>\n",
       "      <td>0.570000</td>\n",
       "      <td>13309</td>\n",
       "      <td>563</td>\n",
       "      <td>6</td>\n",
       "      <td>Noite</td>\n",
       "      <td>3</td>\n",
       "    </tr>\n",
       "    <tr>\n",
       "      <th>8799</th>\n",
       "      <td>2024-01-23</td>\n",
       "      <td>2024-01-19T15:00:41Z</td>\n",
       "      <td>assunto_cities_skylines</td>\n",
       "      <td>UCrOH1V-FyMunBIMrKL0y0xQ</td>\n",
       "      <td>ChratosGameplay</td>\n",
       "      <td>mGtCSlnvvIE</td>\n",
       "      <td>PRIMEIRO PARQUE COM LAGOS ARTIFICAIS 🏙️ - Citi...</td>\n",
       "      <td>35.099998</td>\n",
       "      <td>13189</td>\n",
       "      <td>1714</td>\n",
       "      <td>105</td>\n",
       "      <td>Noite</td>\n",
       "      <td>3</td>\n",
       "    </tr>\n",
       "    <tr>\n",
       "      <th>8809</th>\n",
       "      <td>2024-01-23</td>\n",
       "      <td>2024-01-18T01:00:03Z</td>\n",
       "      <td>assunto_cities_skylines</td>\n",
       "      <td>UCL5k8vBBo1JOHh7AnvoD8xQ</td>\n",
       "      <td>JulioGameplay</td>\n",
       "      <td>4WrWq5vJjXk</td>\n",
       "      <td>MINHA SORTE ACABOU NO Buckshot roulette #bucks...</td>\n",
       "      <td>0.620000</td>\n",
       "      <td>12268</td>\n",
       "      <td>518</td>\n",
       "      <td>8</td>\n",
       "      <td>Noite</td>\n",
       "      <td>3</td>\n",
       "    </tr>\n",
       "    <tr>\n",
       "      <th>8814</th>\n",
       "      <td>2024-01-23</td>\n",
       "      <td>2024-01-18T23:00:08Z</td>\n",
       "      <td>assunto_cities_skylines</td>\n",
       "      <td>UCL5k8vBBo1JOHh7AnvoD8xQ</td>\n",
       "      <td>JulioGameplay</td>\n",
       "      <td>AFLjPQpxAso</td>\n",
       "      <td>MUITO AZAR  E POUCA SORTE Buckshot roulette #b...</td>\n",
       "      <td>0.800000</td>\n",
       "      <td>11972</td>\n",
       "      <td>556</td>\n",
       "      <td>13</td>\n",
       "      <td>Noite</td>\n",
       "      <td>3</td>\n",
       "    </tr>\n",
       "    <tr>\n",
       "      <th>8815</th>\n",
       "      <td>2024-01-23</td>\n",
       "      <td>2024-01-17T21:00:03Z</td>\n",
       "      <td>assunto_cities_skylines</td>\n",
       "      <td>UCL5k8vBBo1JOHh7AnvoD8xQ</td>\n",
       "      <td>JulioGameplay</td>\n",
       "      <td>5QRCMkPPr2U</td>\n",
       "      <td>JOGANDO Buckshot roulette #buckshotroulette #s...</td>\n",
       "      <td>0.950000</td>\n",
       "      <td>11851</td>\n",
       "      <td>671</td>\n",
       "      <td>8</td>\n",
       "      <td>Noite</td>\n",
       "      <td>3</td>\n",
       "    </tr>\n",
       "    <tr>\n",
       "      <th>8825</th>\n",
       "      <td>2024-01-23</td>\n",
       "      <td>2024-01-18T15:00:08Z</td>\n",
       "      <td>assunto_cities_skylines</td>\n",
       "      <td>UCrOH1V-FyMunBIMrKL0y0xQ</td>\n",
       "      <td>ChratosGameplay</td>\n",
       "      <td>D8mQZAv_tQU</td>\n",
       "      <td>ALCANÇANDO 10000 HABITANTES NA EXPANSÃO FRENÉT...</td>\n",
       "      <td>26.650000</td>\n",
       "      <td>10936</td>\n",
       "      <td>1328</td>\n",
       "      <td>35</td>\n",
       "      <td>Noite</td>\n",
       "      <td>3</td>\n",
       "    </tr>\n",
       "    <tr>\n",
       "      <th>8611</th>\n",
       "      <td>2024-01-23</td>\n",
       "      <td>2024-01-21T23:00:01Z</td>\n",
       "      <td>assunto_cities_skylines</td>\n",
       "      <td>UCL5k8vBBo1JOHh7AnvoD8xQ</td>\n",
       "      <td>JulioGameplay</td>\n",
       "      <td>38KqRAlHM2I</td>\n",
       "      <td>SOU MUITO BOM NO Buckshot roulette #buckshotro...</td>\n",
       "      <td>0.980000</td>\n",
       "      <td>9882</td>\n",
       "      <td>609</td>\n",
       "      <td>13</td>\n",
       "      <td>Noite</td>\n",
       "      <td>3</td>\n",
       "    </tr>\n",
       "    <tr>\n",
       "      <th>8619</th>\n",
       "      <td>2024-01-23</td>\n",
       "      <td>2024-01-20T23:00:19Z</td>\n",
       "      <td>assunto_cities_skylines</td>\n",
       "      <td>UCL5k8vBBo1JOHh7AnvoD8xQ</td>\n",
       "      <td>JulioGameplay</td>\n",
       "      <td>d2LXShfdO9Q</td>\n",
       "      <td>perdi por 1 simples erro no buckshot roulette ...</td>\n",
       "      <td>0.980000</td>\n",
       "      <td>8976</td>\n",
       "      <td>348</td>\n",
       "      <td>11</td>\n",
       "      <td>Noite</td>\n",
       "      <td>3</td>\n",
       "    </tr>\n",
       "    <tr>\n",
       "      <th>8622</th>\n",
       "      <td>2024-01-23</td>\n",
       "      <td>2024-01-19T13:00:30Z</td>\n",
       "      <td>assunto_cities_skylines</td>\n",
       "      <td>UCe9jrI0YQ5SM6h5QRZ9FZlA</td>\n",
       "      <td>Barbosa Cities</td>\n",
       "      <td>Q-wLBZ9OI1o</td>\n",
       "      <td>CS2 #32 | BAIRRO INTEIRO PARA TENTAR ATENDER D...</td>\n",
       "      <td>17.549999</td>\n",
       "      <td>8312</td>\n",
       "      <td>1189</td>\n",
       "      <td>52</td>\n",
       "      <td>Noite</td>\n",
       "      <td>3</td>\n",
       "    </tr>\n",
       "    <tr>\n",
       "      <th>8631</th>\n",
       "      <td>2024-01-23</td>\n",
       "      <td>2024-01-20T21:00:01Z</td>\n",
       "      <td>assunto_cities_skylines</td>\n",
       "      <td>UCL5k8vBBo1JOHh7AnvoD8xQ</td>\n",
       "      <td>JulioGameplay</td>\n",
       "      <td>alOYlPfi8dE</td>\n",
       "      <td>uma algema e um sonho parte 10 bunckshot roule...</td>\n",
       "      <td>0.670000</td>\n",
       "      <td>7707</td>\n",
       "      <td>381</td>\n",
       "      <td>8</td>\n",
       "      <td>Noite</td>\n",
       "      <td>3</td>\n",
       "    </tr>\n",
       "    <tr>\n",
       "      <th>8635</th>\n",
       "      <td>2024-01-23</td>\n",
       "      <td>2024-01-19T01:00:16Z</td>\n",
       "      <td>assunto_cities_skylines</td>\n",
       "      <td>UCL5k8vBBo1JOHh7AnvoD8xQ</td>\n",
       "      <td>JulioGameplay</td>\n",
       "      <td>NIY0htgS6Zg</td>\n",
       "      <td>não estou deixando o inimigo jogar no Buckshot...</td>\n",
       "      <td>0.770000</td>\n",
       "      <td>7524</td>\n",
       "      <td>504</td>\n",
       "      <td>23</td>\n",
       "      <td>Noite</td>\n",
       "      <td>3</td>\n",
       "    </tr>\n",
       "    <tr>\n",
       "      <th>8639</th>\n",
       "      <td>2024-01-23</td>\n",
       "      <td>2024-01-19T21:00:22Z</td>\n",
       "      <td>assunto_cities_skylines</td>\n",
       "      <td>UCL5k8vBBo1JOHh7AnvoD8xQ</td>\n",
       "      <td>JulioGameplay</td>\n",
       "      <td>QDzzR45EY_A</td>\n",
       "      <td>new update parte 7  Buckshot roulette #bucksho...</td>\n",
       "      <td>0.780000</td>\n",
       "      <td>7175</td>\n",
       "      <td>439</td>\n",
       "      <td>12</td>\n",
       "      <td>Noite</td>\n",
       "      <td>3</td>\n",
       "    </tr>\n",
       "    <tr>\n",
       "      <th>8652</th>\n",
       "      <td>2024-01-23</td>\n",
       "      <td>2024-01-20T15:00:01Z</td>\n",
       "      <td>assunto_cities_skylines</td>\n",
       "      <td>UCrOH1V-FyMunBIMrKL0y0xQ</td>\n",
       "      <td>ChratosGameplay</td>\n",
       "      <td>1OAQ0TBwQ0w</td>\n",
       "      <td>INDÚSTRIA SIDERÚRGICA E USINAGEM TRAZ BOOM ECO...</td>\n",
       "      <td>29.879999</td>\n",
       "      <td>6659</td>\n",
       "      <td>992</td>\n",
       "      <td>28</td>\n",
       "      <td>Noite</td>\n",
       "      <td>3</td>\n",
       "    </tr>\n",
       "    <tr>\n",
       "      <th>8654</th>\n",
       "      <td>2024-01-23</td>\n",
       "      <td>2024-01-20T19:15:00Z</td>\n",
       "      <td>assunto_cities_skylines</td>\n",
       "      <td>UCL5k8vBBo1JOHh7AnvoD8xQ</td>\n",
       "      <td>JulioGameplay</td>\n",
       "      <td>c-00A0U1LyY</td>\n",
       "      <td>TERMO ep 1 achando a palavra NOIVA #shorts</td>\n",
       "      <td>0.980000</td>\n",
       "      <td>6569</td>\n",
       "      <td>483</td>\n",
       "      <td>12</td>\n",
       "      <td>Noite</td>\n",
       "      <td>3</td>\n",
       "    </tr>\n",
       "    <tr>\n",
       "      <th>8662</th>\n",
       "      <td>2024-01-23</td>\n",
       "      <td>2024-01-21T14:00:38Z</td>\n",
       "      <td>assunto_cities_skylines</td>\n",
       "      <td>UCe9jrI0YQ5SM6h5QRZ9FZlA</td>\n",
       "      <td>Barbosa Cities</td>\n",
       "      <td>rWNkkdnEyng</td>\n",
       "      <td>CS2 #33 | GERANDO EMPREGO COM INDÚSTRIA MINERA...</td>\n",
       "      <td>18.570000</td>\n",
       "      <td>6186</td>\n",
       "      <td>1161</td>\n",
       "      <td>58</td>\n",
       "      <td>Noite</td>\n",
       "      <td>3</td>\n",
       "    </tr>\n",
       "    <tr>\n",
       "      <th>8669</th>\n",
       "      <td>2024-01-23</td>\n",
       "      <td>2024-01-22T15:00:08Z</td>\n",
       "      <td>assunto_cities_skylines</td>\n",
       "      <td>UCrOH1V-FyMunBIMrKL0y0xQ</td>\n",
       "      <td>ChratosGameplay</td>\n",
       "      <td>5hcsBCwxs9A</td>\n",
       "      <td>REFORMA PARA URBANIZAÇÃO E EXPANSÃO DE TRÁFEGO...</td>\n",
       "      <td>28.280001</td>\n",
       "      <td>5564</td>\n",
       "      <td>869</td>\n",
       "      <td>23</td>\n",
       "      <td>Noite</td>\n",
       "      <td>3</td>\n",
       "    </tr>\n",
       "    <tr>\n",
       "      <th>8683</th>\n",
       "      <td>2024-01-23</td>\n",
       "      <td>2024-01-17T23:00:06Z</td>\n",
       "      <td>assunto_cities_skylines</td>\n",
       "      <td>UCL5k8vBBo1JOHh7AnvoD8xQ</td>\n",
       "      <td>JulioGameplay</td>\n",
       "      <td>A9pni0TYSeM</td>\n",
       "      <td>minha gameplay no Buckshot roulette esta avanç...</td>\n",
       "      <td>0.500000</td>\n",
       "      <td>4920</td>\n",
       "      <td>277</td>\n",
       "      <td>9</td>\n",
       "      <td>Noite</td>\n",
       "      <td>3</td>\n",
       "    </tr>\n",
       "    <tr>\n",
       "      <th>8688</th>\n",
       "      <td>2024-01-23</td>\n",
       "      <td>2024-01-17T13:00:56Z</td>\n",
       "      <td>assunto_cities_skylines</td>\n",
       "      <td>UCe9jrI0YQ5SM6h5QRZ9FZlA</td>\n",
       "      <td>Barbosa Cities</td>\n",
       "      <td>tbBIq2RY3Yc</td>\n",
       "      <td>#RIVIERA 34 | ÁREA DE PROCESSAMENTO DA FAZENDA...</td>\n",
       "      <td>24.330000</td>\n",
       "      <td>4767</td>\n",
       "      <td>822</td>\n",
       "      <td>38</td>\n",
       "      <td>Noite</td>\n",
       "      <td>3</td>\n",
       "    </tr>\n",
       "    <tr>\n",
       "      <th>8691</th>\n",
       "      <td>2024-01-23</td>\n",
       "      <td>2024-01-23T15:00:20Z</td>\n",
       "      <td>assunto_cities_skylines</td>\n",
       "      <td>UCrOH1V-FyMunBIMrKL0y0xQ</td>\n",
       "      <td>ChratosGameplay</td>\n",
       "      <td>ySUyzBe0Qjo</td>\n",
       "      <td>NOVO INCRÍVEL JOGO DE GERENCIAMENTO DE FÁBRICA...</td>\n",
       "      <td>38.299999</td>\n",
       "      <td>4607</td>\n",
       "      <td>1326</td>\n",
       "      <td>79</td>\n",
       "      <td>Noite</td>\n",
       "      <td>3</td>\n",
       "    </tr>\n",
       "    <tr>\n",
       "      <th>8694</th>\n",
       "      <td>2024-01-23</td>\n",
       "      <td>2024-01-22T17:00:15Z</td>\n",
       "      <td>assunto_cities_skylines</td>\n",
       "      <td>UCL5k8vBBo1JOHh7AnvoD8xQ</td>\n",
       "      <td>JulioGameplay</td>\n",
       "      <td>MCQdJcFcibk</td>\n",
       "      <td>Jogando STOP com a letra A #shorts</td>\n",
       "      <td>0.730000</td>\n",
       "      <td>4442</td>\n",
       "      <td>241</td>\n",
       "      <td>21</td>\n",
       "      <td>Noite</td>\n",
       "      <td>3</td>\n",
       "    </tr>\n",
       "    <tr>\n",
       "      <th>8716</th>\n",
       "      <td>2024-01-23</td>\n",
       "      <td>2024-01-20T18:02:00Z</td>\n",
       "      <td>assunto_cities_skylines</td>\n",
       "      <td>UCCe4Be21OPPltTTIHP4lDvg</td>\n",
       "      <td>Octopolis</td>\n",
       "      <td>F8eyXMzbpTE</td>\n",
       "      <td>SOLUÇÃO de problemas de PRODUÇÃO | HAMILTON - ...</td>\n",
       "      <td>23.170000</td>\n",
       "      <td>3544</td>\n",
       "      <td>534</td>\n",
       "      <td>38</td>\n",
       "      <td>Noite</td>\n",
       "      <td>3</td>\n",
       "    </tr>\n",
       "    <tr>\n",
       "      <th>8721</th>\n",
       "      <td>2024-01-23</td>\n",
       "      <td>2024-01-18T15:10:43Z</td>\n",
       "      <td>assunto_cities_skylines</td>\n",
       "      <td>UCDGo_s0I-2JpO3o3xlkMQVA</td>\n",
       "      <td>Simularies</td>\n",
       "      <td>1xwK-5-4Hsk</td>\n",
       "      <td>✨ COMEÇANDO A CIDADE DE ALTA VISTA! 🏙️ EP 01 |...</td>\n",
       "      <td>37.270000</td>\n",
       "      <td>3354</td>\n",
       "      <td>347</td>\n",
       "      <td>29</td>\n",
       "      <td>Noite</td>\n",
       "      <td>3</td>\n",
       "    </tr>\n",
       "    <tr>\n",
       "      <th>8747</th>\n",
       "      <td>2024-01-23</td>\n",
       "      <td>2024-01-21T21:39:07Z</td>\n",
       "      <td>assunto_cities_skylines</td>\n",
       "      <td>UCCe4Be21OPPltTTIHP4lDvg</td>\n",
       "      <td>Octopolis</td>\n",
       "      <td>5wcfAXfymPw</td>\n",
       "      <td>DESAFIO: Cidade em uma ILHA ISOLADA | LIVE | C...</td>\n",
       "      <td>499.250000</td>\n",
       "      <td>2751</td>\n",
       "      <td>224</td>\n",
       "      <td>25</td>\n",
       "      <td>Noite</td>\n",
       "      <td>3</td>\n",
       "    </tr>\n",
       "    <tr>\n",
       "      <th>8751</th>\n",
       "      <td>2024-01-23</td>\n",
       "      <td>2024-01-22T21:00:00Z</td>\n",
       "      <td>assunto_cities_skylines</td>\n",
       "      <td>UCL5k8vBBo1JOHh7AnvoD8xQ</td>\n",
       "      <td>JulioGameplay</td>\n",
       "      <td>25ipYar0Ulw</td>\n",
       "      <td>prefeito resolvendo os problemas da população ...</td>\n",
       "      <td>0.570000</td>\n",
       "      <td>2506</td>\n",
       "      <td>140</td>\n",
       "      <td>14</td>\n",
       "      <td>Noite</td>\n",
       "      <td>3</td>\n",
       "    </tr>\n",
       "    <tr>\n",
       "      <th>8754</th>\n",
       "      <td>2024-01-23</td>\n",
       "      <td>2024-01-22T23:00:28Z</td>\n",
       "      <td>assunto_cities_skylines</td>\n",
       "      <td>UCL5k8vBBo1JOHh7AnvoD8xQ</td>\n",
       "      <td>JulioGameplay</td>\n",
       "      <td>wdY0TGPfrAs</td>\n",
       "      <td>aja paciencia pra jogar buckshot roulette #sho...</td>\n",
       "      <td>0.620000</td>\n",
       "      <td>2444</td>\n",
       "      <td>135</td>\n",
       "      <td>0</td>\n",
       "      <td>Noite</td>\n",
       "      <td>3</td>\n",
       "    </tr>\n",
       "    <tr>\n",
       "      <th>8758</th>\n",
       "      <td>2024-01-23</td>\n",
       "      <td>2024-01-18T14:00:26Z</td>\n",
       "      <td>assunto_cities_skylines</td>\n",
       "      <td>UCaj6FB2mFZ2T9a61QtZsKPA</td>\n",
       "      <td>TioChuckZ</td>\n",
       "      <td>i4h08DIfjKw</td>\n",
       "      <td>Finalmente ALTA DENSIDADE! | Cities Skylines 2...</td>\n",
       "      <td>32.320000</td>\n",
       "      <td>2295</td>\n",
       "      <td>293</td>\n",
       "      <td>34</td>\n",
       "      <td>Noite</td>\n",
       "      <td>3</td>\n",
       "    </tr>\n",
       "    <tr>\n",
       "      <th>8772</th>\n",
       "      <td>2024-01-23</td>\n",
       "      <td>2024-01-21T19:00:13Z</td>\n",
       "      <td>assunto_cities_skylines</td>\n",
       "      <td>UCL5k8vBBo1JOHh7AnvoD8xQ</td>\n",
       "      <td>JulioGameplay</td>\n",
       "      <td>Su_Fct1dBBE</td>\n",
       "      <td>achei a palavra no termo sem querer #shorts</td>\n",
       "      <td>0.680000</td>\n",
       "      <td>1984</td>\n",
       "      <td>104</td>\n",
       "      <td>2</td>\n",
       "      <td>Noite</td>\n",
       "      <td>3</td>\n",
       "    </tr>\n",
       "    <tr>\n",
       "      <th>8775</th>\n",
       "      <td>2024-01-23</td>\n",
       "      <td>2024-01-22T15:00:54Z</td>\n",
       "      <td>assunto_cities_skylines</td>\n",
       "      <td>UCL5k8vBBo1JOHh7AnvoD8xQ</td>\n",
       "      <td>JulioGameplay</td>\n",
       "      <td>xPK8y7NidnA</td>\n",
       "      <td>Jogando TERMO sozinho, palavra ALUNO #shorts</td>\n",
       "      <td>0.630000</td>\n",
       "      <td>1929</td>\n",
       "      <td>209</td>\n",
       "      <td>12</td>\n",
       "      <td>Noite</td>\n",
       "      <td>3</td>\n",
       "    </tr>\n",
       "    <tr>\n",
       "      <th>8831</th>\n",
       "      <td>2024-01-23</td>\n",
       "      <td>2024-01-22T19:00:32Z</td>\n",
       "      <td>assunto_cities_skylines</td>\n",
       "      <td>UCL5k8vBBo1JOHh7AnvoD8xQ</td>\n",
       "      <td>JulioGameplay</td>\n",
       "      <td>q4gfnofyqPA</td>\n",
       "      <td>Jogando CONTEXTO pela primeira VEZ #shorts</td>\n",
       "      <td>0.900000</td>\n",
       "      <td>1058</td>\n",
       "      <td>83</td>\n",
       "      <td>6</td>\n",
       "      <td>Noite</td>\n",
       "      <td>3</td>\n",
       "    </tr>\n",
       "    <tr>\n",
       "      <th>8833</th>\n",
       "      <td>2024-01-23</td>\n",
       "      <td>2024-01-23T17:00:38Z</td>\n",
       "      <td>assunto_cities_skylines</td>\n",
       "      <td>UCL5k8vBBo1JOHh7AnvoD8xQ</td>\n",
       "      <td>JulioGameplay</td>\n",
       "      <td>lRzoqqkbcLs</td>\n",
       "      <td>achei um MINEIRO no TERMO #shorts</td>\n",
       "      <td>0.980000</td>\n",
       "      <td>1003</td>\n",
       "      <td>75</td>\n",
       "      <td>8</td>\n",
       "      <td>Noite</td>\n",
       "      <td>3</td>\n",
       "    </tr>\n",
       "  </tbody>\n",
       "</table>\n",
       "</div>"
      ],
      "text/plain": [
       "     data_extracao       DATA_PUBLICACAO                  ASSUNTO  \\\n",
       "8784    2024-01-23  2024-01-21T15:00:20Z  assunto_cities_skylines   \n",
       "8791    2024-01-23  2024-01-17T15:00:33Z  assunto_cities_skylines   \n",
       "8795    2024-01-23  2024-01-19T23:00:14Z  assunto_cities_skylines   \n",
       "8799    2024-01-23  2024-01-19T15:00:41Z  assunto_cities_skylines   \n",
       "8809    2024-01-23  2024-01-18T01:00:03Z  assunto_cities_skylines   \n",
       "8814    2024-01-23  2024-01-18T23:00:08Z  assunto_cities_skylines   \n",
       "8815    2024-01-23  2024-01-17T21:00:03Z  assunto_cities_skylines   \n",
       "8825    2024-01-23  2024-01-18T15:00:08Z  assunto_cities_skylines   \n",
       "8611    2024-01-23  2024-01-21T23:00:01Z  assunto_cities_skylines   \n",
       "8619    2024-01-23  2024-01-20T23:00:19Z  assunto_cities_skylines   \n",
       "8622    2024-01-23  2024-01-19T13:00:30Z  assunto_cities_skylines   \n",
       "8631    2024-01-23  2024-01-20T21:00:01Z  assunto_cities_skylines   \n",
       "8635    2024-01-23  2024-01-19T01:00:16Z  assunto_cities_skylines   \n",
       "8639    2024-01-23  2024-01-19T21:00:22Z  assunto_cities_skylines   \n",
       "8652    2024-01-23  2024-01-20T15:00:01Z  assunto_cities_skylines   \n",
       "8654    2024-01-23  2024-01-20T19:15:00Z  assunto_cities_skylines   \n",
       "8662    2024-01-23  2024-01-21T14:00:38Z  assunto_cities_skylines   \n",
       "8669    2024-01-23  2024-01-22T15:00:08Z  assunto_cities_skylines   \n",
       "8683    2024-01-23  2024-01-17T23:00:06Z  assunto_cities_skylines   \n",
       "8688    2024-01-23  2024-01-17T13:00:56Z  assunto_cities_skylines   \n",
       "8691    2024-01-23  2024-01-23T15:00:20Z  assunto_cities_skylines   \n",
       "8694    2024-01-23  2024-01-22T17:00:15Z  assunto_cities_skylines   \n",
       "8716    2024-01-23  2024-01-20T18:02:00Z  assunto_cities_skylines   \n",
       "8721    2024-01-23  2024-01-18T15:10:43Z  assunto_cities_skylines   \n",
       "8747    2024-01-23  2024-01-21T21:39:07Z  assunto_cities_skylines   \n",
       "8751    2024-01-23  2024-01-22T21:00:00Z  assunto_cities_skylines   \n",
       "8754    2024-01-23  2024-01-22T23:00:28Z  assunto_cities_skylines   \n",
       "8758    2024-01-23  2024-01-18T14:00:26Z  assunto_cities_skylines   \n",
       "8772    2024-01-23  2024-01-21T19:00:13Z  assunto_cities_skylines   \n",
       "8775    2024-01-23  2024-01-22T15:00:54Z  assunto_cities_skylines   \n",
       "8831    2024-01-23  2024-01-22T19:00:32Z  assunto_cities_skylines   \n",
       "8833    2024-01-23  2024-01-23T17:00:38Z  assunto_cities_skylines   \n",
       "\n",
       "                      ID_CANAL         NM_CANAL     ID_VIDEO  \\\n",
       "8784  UCrOH1V-FyMunBIMrKL0y0xQ  ChratosGameplay  SH1pVQcObMc   \n",
       "8791  UCrOH1V-FyMunBIMrKL0y0xQ  ChratosGameplay  WEet1zBsDvk   \n",
       "8795  UCL5k8vBBo1JOHh7AnvoD8xQ    JulioGameplay  QN33FxO7Irw   \n",
       "8799  UCrOH1V-FyMunBIMrKL0y0xQ  ChratosGameplay  mGtCSlnvvIE   \n",
       "8809  UCL5k8vBBo1JOHh7AnvoD8xQ    JulioGameplay  4WrWq5vJjXk   \n",
       "8814  UCL5k8vBBo1JOHh7AnvoD8xQ    JulioGameplay  AFLjPQpxAso   \n",
       "8815  UCL5k8vBBo1JOHh7AnvoD8xQ    JulioGameplay  5QRCMkPPr2U   \n",
       "8825  UCrOH1V-FyMunBIMrKL0y0xQ  ChratosGameplay  D8mQZAv_tQU   \n",
       "8611  UCL5k8vBBo1JOHh7AnvoD8xQ    JulioGameplay  38KqRAlHM2I   \n",
       "8619  UCL5k8vBBo1JOHh7AnvoD8xQ    JulioGameplay  d2LXShfdO9Q   \n",
       "8622  UCe9jrI0YQ5SM6h5QRZ9FZlA   Barbosa Cities  Q-wLBZ9OI1o   \n",
       "8631  UCL5k8vBBo1JOHh7AnvoD8xQ    JulioGameplay  alOYlPfi8dE   \n",
       "8635  UCL5k8vBBo1JOHh7AnvoD8xQ    JulioGameplay  NIY0htgS6Zg   \n",
       "8639  UCL5k8vBBo1JOHh7AnvoD8xQ    JulioGameplay  QDzzR45EY_A   \n",
       "8652  UCrOH1V-FyMunBIMrKL0y0xQ  ChratosGameplay  1OAQ0TBwQ0w   \n",
       "8654  UCL5k8vBBo1JOHh7AnvoD8xQ    JulioGameplay  c-00A0U1LyY   \n",
       "8662  UCe9jrI0YQ5SM6h5QRZ9FZlA   Barbosa Cities  rWNkkdnEyng   \n",
       "8669  UCrOH1V-FyMunBIMrKL0y0xQ  ChratosGameplay  5hcsBCwxs9A   \n",
       "8683  UCL5k8vBBo1JOHh7AnvoD8xQ    JulioGameplay  A9pni0TYSeM   \n",
       "8688  UCe9jrI0YQ5SM6h5QRZ9FZlA   Barbosa Cities  tbBIq2RY3Yc   \n",
       "8691  UCrOH1V-FyMunBIMrKL0y0xQ  ChratosGameplay  ySUyzBe0Qjo   \n",
       "8694  UCL5k8vBBo1JOHh7AnvoD8xQ    JulioGameplay  MCQdJcFcibk   \n",
       "8716  UCCe4Be21OPPltTTIHP4lDvg        Octopolis  F8eyXMzbpTE   \n",
       "8721  UCDGo_s0I-2JpO3o3xlkMQVA       Simularies  1xwK-5-4Hsk   \n",
       "8747  UCCe4Be21OPPltTTIHP4lDvg        Octopolis  5wcfAXfymPw   \n",
       "8751  UCL5k8vBBo1JOHh7AnvoD8xQ    JulioGameplay  25ipYar0Ulw   \n",
       "8754  UCL5k8vBBo1JOHh7AnvoD8xQ    JulioGameplay  wdY0TGPfrAs   \n",
       "8758  UCaj6FB2mFZ2T9a61QtZsKPA        TioChuckZ  i4h08DIfjKw   \n",
       "8772  UCL5k8vBBo1JOHh7AnvoD8xQ    JulioGameplay  Su_Fct1dBBE   \n",
       "8775  UCL5k8vBBo1JOHh7AnvoD8xQ    JulioGameplay  xPK8y7NidnA   \n",
       "8831  UCL5k8vBBo1JOHh7AnvoD8xQ    JulioGameplay  q4gfnofyqPA   \n",
       "8833  UCL5k8vBBo1JOHh7AnvoD8xQ    JulioGameplay  lRzoqqkbcLs   \n",
       "\n",
       "                                           TITULO_VIDEO  \\\n",
       "8784  MINHA EXPERIÊNCIA COM CITIES SKYLINES 2 (FIM) ...   \n",
       "8791  PRISÃO E FBI PARA COMBATER CRIMINALIDADE 🏙️ - ...   \n",
       "8795  new update parte 8 Buckshot roulette #buckshot...   \n",
       "8799  PRIMEIRO PARQUE COM LAGOS ARTIFICAIS 🏙️ - Citi...   \n",
       "8809  MINHA SORTE ACABOU NO Buckshot roulette #bucks...   \n",
       "8814  MUITO AZAR  E POUCA SORTE Buckshot roulette #b...   \n",
       "8815  JOGANDO Buckshot roulette #buckshotroulette #s...   \n",
       "8825  ALCANÇANDO 10000 HABITANTES NA EXPANSÃO FRENÉT...   \n",
       "8611  SOU MUITO BOM NO Buckshot roulette #buckshotro...   \n",
       "8619  perdi por 1 simples erro no buckshot roulette ...   \n",
       "8622  CS2 #32 | BAIRRO INTEIRO PARA TENTAR ATENDER D...   \n",
       "8631  uma algema e um sonho parte 10 bunckshot roule...   \n",
       "8635  não estou deixando o inimigo jogar no Buckshot...   \n",
       "8639  new update parte 7  Buckshot roulette #bucksho...   \n",
       "8652  INDÚSTRIA SIDERÚRGICA E USINAGEM TRAZ BOOM ECO...   \n",
       "8654         TERMO ep 1 achando a palavra NOIVA #shorts   \n",
       "8662  CS2 #33 | GERANDO EMPREGO COM INDÚSTRIA MINERA...   \n",
       "8669  REFORMA PARA URBANIZAÇÃO E EXPANSÃO DE TRÁFEGO...   \n",
       "8683  minha gameplay no Buckshot roulette esta avanç...   \n",
       "8688  #RIVIERA 34 | ÁREA DE PROCESSAMENTO DA FAZENDA...   \n",
       "8691  NOVO INCRÍVEL JOGO DE GERENCIAMENTO DE FÁBRICA...   \n",
       "8694                 Jogando STOP com a letra A #shorts   \n",
       "8716  SOLUÇÃO de problemas de PRODUÇÃO | HAMILTON - ...   \n",
       "8721  ✨ COMEÇANDO A CIDADE DE ALTA VISTA! 🏙️ EP 01 |...   \n",
       "8747  DESAFIO: Cidade em uma ILHA ISOLADA | LIVE | C...   \n",
       "8751  prefeito resolvendo os problemas da população ...   \n",
       "8754  aja paciencia pra jogar buckshot roulette #sho...   \n",
       "8758  Finalmente ALTA DENSIDADE! | Cities Skylines 2...   \n",
       "8772        achei a palavra no termo sem querer #shorts   \n",
       "8775       Jogando TERMO sozinho, palavra ALUNO #shorts   \n",
       "8831         Jogando CONTEXTO pela primeira VEZ #shorts   \n",
       "8833                  achei um MINEIRO no TERMO #shorts   \n",
       "\n",
       "      DURACAO_VIDEO_MINUTOS  TOTAL_VISUALIZACOES  TOTAL_LIKES  \\\n",
       "8784              38.250000                15348         2256   \n",
       "8791              19.850000                13909         1936   \n",
       "8795               0.570000                13309          563   \n",
       "8799              35.099998                13189         1714   \n",
       "8809               0.620000                12268          518   \n",
       "8814               0.800000                11972          556   \n",
       "8815               0.950000                11851          671   \n",
       "8825              26.650000                10936         1328   \n",
       "8611               0.980000                 9882          609   \n",
       "8619               0.980000                 8976          348   \n",
       "8622              17.549999                 8312         1189   \n",
       "8631               0.670000                 7707          381   \n",
       "8635               0.770000                 7524          504   \n",
       "8639               0.780000                 7175          439   \n",
       "8652              29.879999                 6659          992   \n",
       "8654               0.980000                 6569          483   \n",
       "8662              18.570000                 6186         1161   \n",
       "8669              28.280001                 5564          869   \n",
       "8683               0.500000                 4920          277   \n",
       "8688              24.330000                 4767          822   \n",
       "8691              38.299999                 4607         1326   \n",
       "8694               0.730000                 4442          241   \n",
       "8716              23.170000                 3544          534   \n",
       "8721              37.270000                 3354          347   \n",
       "8747             499.250000                 2751          224   \n",
       "8751               0.570000                 2506          140   \n",
       "8754               0.620000                 2444          135   \n",
       "8758              32.320000                 2295          293   \n",
       "8772               0.680000                 1984          104   \n",
       "8775               0.630000                 1929          209   \n",
       "8831               0.900000                 1058           83   \n",
       "8833               0.980000                 1003           75   \n",
       "\n",
       "      TOTAL_COMENTARIOS TURNO_EXTRACAO  INDICE_TURNO_EXTRACAO  \n",
       "8784                126          Noite                      3  \n",
       "8791                 50          Noite                      3  \n",
       "8795                  6          Noite                      3  \n",
       "8799                105          Noite                      3  \n",
       "8809                  8          Noite                      3  \n",
       "8814                 13          Noite                      3  \n",
       "8815                  8          Noite                      3  \n",
       "8825                 35          Noite                      3  \n",
       "8611                 13          Noite                      3  \n",
       "8619                 11          Noite                      3  \n",
       "8622                 52          Noite                      3  \n",
       "8631                  8          Noite                      3  \n",
       "8635                 23          Noite                      3  \n",
       "8639                 12          Noite                      3  \n",
       "8652                 28          Noite                      3  \n",
       "8654                 12          Noite                      3  \n",
       "8662                 58          Noite                      3  \n",
       "8669                 23          Noite                      3  \n",
       "8683                  9          Noite                      3  \n",
       "8688                 38          Noite                      3  \n",
       "8691                 79          Noite                      3  \n",
       "8694                 21          Noite                      3  \n",
       "8716                 38          Noite                      3  \n",
       "8721                 29          Noite                      3  \n",
       "8747                 25          Noite                      3  \n",
       "8751                 14          Noite                      3  \n",
       "8754                  0          Noite                      3  \n",
       "8758                 34          Noite                      3  \n",
       "8772                  2          Noite                      3  \n",
       "8775                 12          Noite                      3  \n",
       "8831                  6          Noite                      3  \n",
       "8833                  8          Noite                      3  "
      ]
     },
     "execution_count": 434,
     "metadata": {},
     "output_type": "execute_result"
    }
   ],
   "source": [
    "colunas = ['data_extracao', 'DATA_PUBLICACAO', 'ASSUNTO',  'ID_CANAL', 'NM_CANAL', 'ID_VIDEO', 'TITULO_VIDEO', 'DURACAO_VIDEO_MINUTOS', 'TOTAL_VISUALIZACOES', 'TOTAL_LIKES', 'TOTAL_COMENTARIOS' , 'TURNO_EXTRACAO', 'INDICE_TURNO_EXTRACAO']\n",
    "base_video_canal = pd.read_parquet('../dados/ouro/dados_tratado_estatisticas_gerais.parquet', columns=colunas)\n",
    "base_video_canal = base_video_canal.query('ASSUNTO == \"assunto_cities_skylines\" and data_extracao == \"2024-01-23\" and INDICE_TURNO_EXTRACAO == 3 and TOTAL_VISUALIZACOES >= 1000' ).sort_values(by=['TOTAL_VISUALIZACOES'], ascending=False)\n",
    "base_video_canal.fillna('[]', inplace=True)\n",
    "base_video_canal"
   ]
  },
  {
   "cell_type": "code",
   "execution_count": 435,
   "metadata": {},
   "outputs": [
    {
     "data": {
      "text/html": [
       "<div>\n",
       "<style scoped>\n",
       "    .dataframe tbody tr th:only-of-type {\n",
       "        vertical-align: middle;\n",
       "    }\n",
       "\n",
       "    .dataframe tbody tr th {\n",
       "        vertical-align: top;\n",
       "    }\n",
       "\n",
       "    .dataframe thead th {\n",
       "        text-align: right;\n",
       "    }\n",
       "</style>\n",
       "<table border=\"1\" class=\"dataframe\">\n",
       "  <thead>\n",
       "    <tr style=\"text-align: right;\">\n",
       "      <th></th>\n",
       "      <th>data_extracao</th>\n",
       "      <th>DATA_PUBLICACAO</th>\n",
       "      <th>ASSUNTO</th>\n",
       "      <th>ID_CANAL</th>\n",
       "      <th>NM_CANAL</th>\n",
       "      <th>ID_VIDEO</th>\n",
       "      <th>TITULO_VIDEO</th>\n",
       "      <th>DURACAO_VIDEO_MINUTOS</th>\n",
       "      <th>TOTAL_VISUALIZACOES</th>\n",
       "      <th>TOTAL_LIKES</th>\n",
       "      <th>TOTAL_COMENTARIOS</th>\n",
       "      <th>TURNO_EXTRACAO</th>\n",
       "      <th>INDICE_TURNO_EXTRACAO</th>\n",
       "      <th>TAXA_ENGAJAMENTO</th>\n",
       "    </tr>\n",
       "  </thead>\n",
       "  <tbody>\n",
       "    <tr>\n",
       "      <th>8784</th>\n",
       "      <td>2024-01-23</td>\n",
       "      <td>2024-01-21T15:00:20Z</td>\n",
       "      <td>assunto_cities_skylines</td>\n",
       "      <td>UCrOH1V-FyMunBIMrKL0y0xQ</td>\n",
       "      <td>ChratosGameplay</td>\n",
       "      <td>SH1pVQcObMc</td>\n",
       "      <td>MINHA EXPERIÊNCIA COM CITIES SKYLINES 2 (FIM) ...</td>\n",
       "      <td>38.250000</td>\n",
       "      <td>15348</td>\n",
       "      <td>2256</td>\n",
       "      <td>126</td>\n",
       "      <td>Noite</td>\n",
       "      <td>3</td>\n",
       "      <td>15.519937</td>\n",
       "    </tr>\n",
       "    <tr>\n",
       "      <th>8791</th>\n",
       "      <td>2024-01-23</td>\n",
       "      <td>2024-01-17T15:00:33Z</td>\n",
       "      <td>assunto_cities_skylines</td>\n",
       "      <td>UCrOH1V-FyMunBIMrKL0y0xQ</td>\n",
       "      <td>ChratosGameplay</td>\n",
       "      <td>WEet1zBsDvk</td>\n",
       "      <td>PRISÃO E FBI PARA COMBATER CRIMINALIDADE 🏙️ - ...</td>\n",
       "      <td>19.850000</td>\n",
       "      <td>13909</td>\n",
       "      <td>1936</td>\n",
       "      <td>50</td>\n",
       "      <td>Noite</td>\n",
       "      <td>3</td>\n",
       "      <td>14.278525</td>\n",
       "    </tr>\n",
       "    <tr>\n",
       "      <th>8795</th>\n",
       "      <td>2024-01-23</td>\n",
       "      <td>2024-01-19T23:00:14Z</td>\n",
       "      <td>assunto_cities_skylines</td>\n",
       "      <td>UCL5k8vBBo1JOHh7AnvoD8xQ</td>\n",
       "      <td>JulioGameplay</td>\n",
       "      <td>QN33FxO7Irw</td>\n",
       "      <td>new update parte 8 Buckshot roulette #buckshot...</td>\n",
       "      <td>0.570000</td>\n",
       "      <td>13309</td>\n",
       "      <td>563</td>\n",
       "      <td>6</td>\n",
       "      <td>Noite</td>\n",
       "      <td>3</td>\n",
       "      <td>4.275302</td>\n",
       "    </tr>\n",
       "    <tr>\n",
       "      <th>8799</th>\n",
       "      <td>2024-01-23</td>\n",
       "      <td>2024-01-19T15:00:41Z</td>\n",
       "      <td>assunto_cities_skylines</td>\n",
       "      <td>UCrOH1V-FyMunBIMrKL0y0xQ</td>\n",
       "      <td>ChratosGameplay</td>\n",
       "      <td>mGtCSlnvvIE</td>\n",
       "      <td>PRIMEIRO PARQUE COM LAGOS ARTIFICAIS 🏙️ - Citi...</td>\n",
       "      <td>35.099998</td>\n",
       "      <td>13189</td>\n",
       "      <td>1714</td>\n",
       "      <td>105</td>\n",
       "      <td>Noite</td>\n",
       "      <td>3</td>\n",
       "      <td>13.791796</td>\n",
       "    </tr>\n",
       "    <tr>\n",
       "      <th>8809</th>\n",
       "      <td>2024-01-23</td>\n",
       "      <td>2024-01-18T01:00:03Z</td>\n",
       "      <td>assunto_cities_skylines</td>\n",
       "      <td>UCL5k8vBBo1JOHh7AnvoD8xQ</td>\n",
       "      <td>JulioGameplay</td>\n",
       "      <td>4WrWq5vJjXk</td>\n",
       "      <td>MINHA SORTE ACABOU NO Buckshot roulette #bucks...</td>\n",
       "      <td>0.620000</td>\n",
       "      <td>12268</td>\n",
       "      <td>518</td>\n",
       "      <td>8</td>\n",
       "      <td>Noite</td>\n",
       "      <td>3</td>\n",
       "      <td>4.287577</td>\n",
       "    </tr>\n",
       "    <tr>\n",
       "      <th>8814</th>\n",
       "      <td>2024-01-23</td>\n",
       "      <td>2024-01-18T23:00:08Z</td>\n",
       "      <td>assunto_cities_skylines</td>\n",
       "      <td>UCL5k8vBBo1JOHh7AnvoD8xQ</td>\n",
       "      <td>JulioGameplay</td>\n",
       "      <td>AFLjPQpxAso</td>\n",
       "      <td>MUITO AZAR  E POUCA SORTE Buckshot roulette #b...</td>\n",
       "      <td>0.800000</td>\n",
       "      <td>11972</td>\n",
       "      <td>556</td>\n",
       "      <td>13</td>\n",
       "      <td>Noite</td>\n",
       "      <td>3</td>\n",
       "      <td>4.752756</td>\n",
       "    </tr>\n",
       "    <tr>\n",
       "      <th>8815</th>\n",
       "      <td>2024-01-23</td>\n",
       "      <td>2024-01-17T21:00:03Z</td>\n",
       "      <td>assunto_cities_skylines</td>\n",
       "      <td>UCL5k8vBBo1JOHh7AnvoD8xQ</td>\n",
       "      <td>JulioGameplay</td>\n",
       "      <td>5QRCMkPPr2U</td>\n",
       "      <td>JOGANDO Buckshot roulette #buckshotroulette #s...</td>\n",
       "      <td>0.950000</td>\n",
       "      <td>11851</td>\n",
       "      <td>671</td>\n",
       "      <td>8</td>\n",
       "      <td>Noite</td>\n",
       "      <td>3</td>\n",
       "      <td>5.729474</td>\n",
       "    </tr>\n",
       "    <tr>\n",
       "      <th>8825</th>\n",
       "      <td>2024-01-23</td>\n",
       "      <td>2024-01-18T15:00:08Z</td>\n",
       "      <td>assunto_cities_skylines</td>\n",
       "      <td>UCrOH1V-FyMunBIMrKL0y0xQ</td>\n",
       "      <td>ChratosGameplay</td>\n",
       "      <td>D8mQZAv_tQU</td>\n",
       "      <td>ALCANÇANDO 10000 HABITANTES NA EXPANSÃO FRENÉT...</td>\n",
       "      <td>26.650000</td>\n",
       "      <td>10936</td>\n",
       "      <td>1328</td>\n",
       "      <td>35</td>\n",
       "      <td>Noite</td>\n",
       "      <td>3</td>\n",
       "      <td>12.463424</td>\n",
       "    </tr>\n",
       "    <tr>\n",
       "      <th>8611</th>\n",
       "      <td>2024-01-23</td>\n",
       "      <td>2024-01-21T23:00:01Z</td>\n",
       "      <td>assunto_cities_skylines</td>\n",
       "      <td>UCL5k8vBBo1JOHh7AnvoD8xQ</td>\n",
       "      <td>JulioGameplay</td>\n",
       "      <td>38KqRAlHM2I</td>\n",
       "      <td>SOU MUITO BOM NO Buckshot roulette #buckshotro...</td>\n",
       "      <td>0.980000</td>\n",
       "      <td>9882</td>\n",
       "      <td>609</td>\n",
       "      <td>13</td>\n",
       "      <td>Noite</td>\n",
       "      <td>3</td>\n",
       "      <td>6.294272</td>\n",
       "    </tr>\n",
       "    <tr>\n",
       "      <th>8619</th>\n",
       "      <td>2024-01-23</td>\n",
       "      <td>2024-01-20T23:00:19Z</td>\n",
       "      <td>assunto_cities_skylines</td>\n",
       "      <td>UCL5k8vBBo1JOHh7AnvoD8xQ</td>\n",
       "      <td>JulioGameplay</td>\n",
       "      <td>d2LXShfdO9Q</td>\n",
       "      <td>perdi por 1 simples erro no buckshot roulette ...</td>\n",
       "      <td>0.980000</td>\n",
       "      <td>8976</td>\n",
       "      <td>348</td>\n",
       "      <td>11</td>\n",
       "      <td>Noite</td>\n",
       "      <td>3</td>\n",
       "      <td>3.999554</td>\n",
       "    </tr>\n",
       "    <tr>\n",
       "      <th>8622</th>\n",
       "      <td>2024-01-23</td>\n",
       "      <td>2024-01-19T13:00:30Z</td>\n",
       "      <td>assunto_cities_skylines</td>\n",
       "      <td>UCe9jrI0YQ5SM6h5QRZ9FZlA</td>\n",
       "      <td>Barbosa Cities</td>\n",
       "      <td>Q-wLBZ9OI1o</td>\n",
       "      <td>CS2 #32 | BAIRRO INTEIRO PARA TENTAR ATENDER D...</td>\n",
       "      <td>17.549999</td>\n",
       "      <td>8312</td>\n",
       "      <td>1189</td>\n",
       "      <td>52</td>\n",
       "      <td>Noite</td>\n",
       "      <td>3</td>\n",
       "      <td>14.930221</td>\n",
       "    </tr>\n",
       "    <tr>\n",
       "      <th>8631</th>\n",
       "      <td>2024-01-23</td>\n",
       "      <td>2024-01-20T21:00:01Z</td>\n",
       "      <td>assunto_cities_skylines</td>\n",
       "      <td>UCL5k8vBBo1JOHh7AnvoD8xQ</td>\n",
       "      <td>JulioGameplay</td>\n",
       "      <td>alOYlPfi8dE</td>\n",
       "      <td>uma algema e um sonho parte 10 bunckshot roule...</td>\n",
       "      <td>0.670000</td>\n",
       "      <td>7707</td>\n",
       "      <td>381</td>\n",
       "      <td>8</td>\n",
       "      <td>Noite</td>\n",
       "      <td>3</td>\n",
       "      <td>5.047360</td>\n",
       "    </tr>\n",
       "    <tr>\n",
       "      <th>8635</th>\n",
       "      <td>2024-01-23</td>\n",
       "      <td>2024-01-19T01:00:16Z</td>\n",
       "      <td>assunto_cities_skylines</td>\n",
       "      <td>UCL5k8vBBo1JOHh7AnvoD8xQ</td>\n",
       "      <td>JulioGameplay</td>\n",
       "      <td>NIY0htgS6Zg</td>\n",
       "      <td>não estou deixando o inimigo jogar no Buckshot...</td>\n",
       "      <td>0.770000</td>\n",
       "      <td>7524</td>\n",
       "      <td>504</td>\n",
       "      <td>23</td>\n",
       "      <td>Noite</td>\n",
       "      <td>3</td>\n",
       "      <td>7.004253</td>\n",
       "    </tr>\n",
       "    <tr>\n",
       "      <th>8639</th>\n",
       "      <td>2024-01-23</td>\n",
       "      <td>2024-01-19T21:00:22Z</td>\n",
       "      <td>assunto_cities_skylines</td>\n",
       "      <td>UCL5k8vBBo1JOHh7AnvoD8xQ</td>\n",
       "      <td>JulioGameplay</td>\n",
       "      <td>QDzzR45EY_A</td>\n",
       "      <td>new update parte 7  Buckshot roulette #bucksho...</td>\n",
       "      <td>0.780000</td>\n",
       "      <td>7175</td>\n",
       "      <td>439</td>\n",
       "      <td>12</td>\n",
       "      <td>Noite</td>\n",
       "      <td>3</td>\n",
       "      <td>6.285714</td>\n",
       "    </tr>\n",
       "    <tr>\n",
       "      <th>8652</th>\n",
       "      <td>2024-01-23</td>\n",
       "      <td>2024-01-20T15:00:01Z</td>\n",
       "      <td>assunto_cities_skylines</td>\n",
       "      <td>UCrOH1V-FyMunBIMrKL0y0xQ</td>\n",
       "      <td>ChratosGameplay</td>\n",
       "      <td>1OAQ0TBwQ0w</td>\n",
       "      <td>INDÚSTRIA SIDERÚRGICA E USINAGEM TRAZ BOOM ECO...</td>\n",
       "      <td>29.879999</td>\n",
       "      <td>6659</td>\n",
       "      <td>992</td>\n",
       "      <td>28</td>\n",
       "      <td>Noite</td>\n",
       "      <td>3</td>\n",
       "      <td>15.317615</td>\n",
       "    </tr>\n",
       "    <tr>\n",
       "      <th>8654</th>\n",
       "      <td>2024-01-23</td>\n",
       "      <td>2024-01-20T19:15:00Z</td>\n",
       "      <td>assunto_cities_skylines</td>\n",
       "      <td>UCL5k8vBBo1JOHh7AnvoD8xQ</td>\n",
       "      <td>JulioGameplay</td>\n",
       "      <td>c-00A0U1LyY</td>\n",
       "      <td>TERMO ep 1 achando a palavra NOIVA #shorts</td>\n",
       "      <td>0.980000</td>\n",
       "      <td>6569</td>\n",
       "      <td>483</td>\n",
       "      <td>12</td>\n",
       "      <td>Noite</td>\n",
       "      <td>3</td>\n",
       "      <td>7.535394</td>\n",
       "    </tr>\n",
       "    <tr>\n",
       "      <th>8662</th>\n",
       "      <td>2024-01-23</td>\n",
       "      <td>2024-01-21T14:00:38Z</td>\n",
       "      <td>assunto_cities_skylines</td>\n",
       "      <td>UCe9jrI0YQ5SM6h5QRZ9FZlA</td>\n",
       "      <td>Barbosa Cities</td>\n",
       "      <td>rWNkkdnEyng</td>\n",
       "      <td>CS2 #33 | GERANDO EMPREGO COM INDÚSTRIA MINERA...</td>\n",
       "      <td>18.570000</td>\n",
       "      <td>6186</td>\n",
       "      <td>1161</td>\n",
       "      <td>58</td>\n",
       "      <td>Noite</td>\n",
       "      <td>3</td>\n",
       "      <td>19.705787</td>\n",
       "    </tr>\n",
       "    <tr>\n",
       "      <th>8669</th>\n",
       "      <td>2024-01-23</td>\n",
       "      <td>2024-01-22T15:00:08Z</td>\n",
       "      <td>assunto_cities_skylines</td>\n",
       "      <td>UCrOH1V-FyMunBIMrKL0y0xQ</td>\n",
       "      <td>ChratosGameplay</td>\n",
       "      <td>5hcsBCwxs9A</td>\n",
       "      <td>REFORMA PARA URBANIZAÇÃO E EXPANSÃO DE TRÁFEGO...</td>\n",
       "      <td>28.280001</td>\n",
       "      <td>5564</td>\n",
       "      <td>869</td>\n",
       "      <td>23</td>\n",
       "      <td>Noite</td>\n",
       "      <td>3</td>\n",
       "      <td>16.031632</td>\n",
       "    </tr>\n",
       "    <tr>\n",
       "      <th>8683</th>\n",
       "      <td>2024-01-23</td>\n",
       "      <td>2024-01-17T23:00:06Z</td>\n",
       "      <td>assunto_cities_skylines</td>\n",
       "      <td>UCL5k8vBBo1JOHh7AnvoD8xQ</td>\n",
       "      <td>JulioGameplay</td>\n",
       "      <td>A9pni0TYSeM</td>\n",
       "      <td>minha gameplay no Buckshot roulette esta avanç...</td>\n",
       "      <td>0.500000</td>\n",
       "      <td>4920</td>\n",
       "      <td>277</td>\n",
       "      <td>9</td>\n",
       "      <td>Noite</td>\n",
       "      <td>3</td>\n",
       "      <td>5.813008</td>\n",
       "    </tr>\n",
       "    <tr>\n",
       "      <th>8688</th>\n",
       "      <td>2024-01-23</td>\n",
       "      <td>2024-01-17T13:00:56Z</td>\n",
       "      <td>assunto_cities_skylines</td>\n",
       "      <td>UCe9jrI0YQ5SM6h5QRZ9FZlA</td>\n",
       "      <td>Barbosa Cities</td>\n",
       "      <td>tbBIq2RY3Yc</td>\n",
       "      <td>#RIVIERA 34 | ÁREA DE PROCESSAMENTO DA FAZENDA...</td>\n",
       "      <td>24.330000</td>\n",
       "      <td>4767</td>\n",
       "      <td>822</td>\n",
       "      <td>38</td>\n",
       "      <td>Noite</td>\n",
       "      <td>3</td>\n",
       "      <td>18.040696</td>\n",
       "    </tr>\n",
       "    <tr>\n",
       "      <th>8691</th>\n",
       "      <td>2024-01-23</td>\n",
       "      <td>2024-01-23T15:00:20Z</td>\n",
       "      <td>assunto_cities_skylines</td>\n",
       "      <td>UCrOH1V-FyMunBIMrKL0y0xQ</td>\n",
       "      <td>ChratosGameplay</td>\n",
       "      <td>ySUyzBe0Qjo</td>\n",
       "      <td>NOVO INCRÍVEL JOGO DE GERENCIAMENTO DE FÁBRICA...</td>\n",
       "      <td>38.299999</td>\n",
       "      <td>4607</td>\n",
       "      <td>1326</td>\n",
       "      <td>79</td>\n",
       "      <td>Noite</td>\n",
       "      <td>3</td>\n",
       "      <td>30.497070</td>\n",
       "    </tr>\n",
       "    <tr>\n",
       "      <th>8694</th>\n",
       "      <td>2024-01-23</td>\n",
       "      <td>2024-01-22T17:00:15Z</td>\n",
       "      <td>assunto_cities_skylines</td>\n",
       "      <td>UCL5k8vBBo1JOHh7AnvoD8xQ</td>\n",
       "      <td>JulioGameplay</td>\n",
       "      <td>MCQdJcFcibk</td>\n",
       "      <td>Jogando STOP com a letra A #shorts</td>\n",
       "      <td>0.730000</td>\n",
       "      <td>4442</td>\n",
       "      <td>241</td>\n",
       "      <td>21</td>\n",
       "      <td>Noite</td>\n",
       "      <td>3</td>\n",
       "      <td>5.898244</td>\n",
       "    </tr>\n",
       "    <tr>\n",
       "      <th>8716</th>\n",
       "      <td>2024-01-23</td>\n",
       "      <td>2024-01-20T18:02:00Z</td>\n",
       "      <td>assunto_cities_skylines</td>\n",
       "      <td>UCCe4Be21OPPltTTIHP4lDvg</td>\n",
       "      <td>Octopolis</td>\n",
       "      <td>F8eyXMzbpTE</td>\n",
       "      <td>SOLUÇÃO de problemas de PRODUÇÃO | HAMILTON - ...</td>\n",
       "      <td>23.170000</td>\n",
       "      <td>3544</td>\n",
       "      <td>534</td>\n",
       "      <td>38</td>\n",
       "      <td>Noite</td>\n",
       "      <td>3</td>\n",
       "      <td>16.139955</td>\n",
       "    </tr>\n",
       "    <tr>\n",
       "      <th>8721</th>\n",
       "      <td>2024-01-23</td>\n",
       "      <td>2024-01-18T15:10:43Z</td>\n",
       "      <td>assunto_cities_skylines</td>\n",
       "      <td>UCDGo_s0I-2JpO3o3xlkMQVA</td>\n",
       "      <td>Simularies</td>\n",
       "      <td>1xwK-5-4Hsk</td>\n",
       "      <td>✨ COMEÇANDO A CIDADE DE ALTA VISTA! 🏙️ EP 01 |...</td>\n",
       "      <td>37.270000</td>\n",
       "      <td>3354</td>\n",
       "      <td>347</td>\n",
       "      <td>29</td>\n",
       "      <td>Noite</td>\n",
       "      <td>3</td>\n",
       "      <td>11.210495</td>\n",
       "    </tr>\n",
       "    <tr>\n",
       "      <th>8747</th>\n",
       "      <td>2024-01-23</td>\n",
       "      <td>2024-01-21T21:39:07Z</td>\n",
       "      <td>assunto_cities_skylines</td>\n",
       "      <td>UCCe4Be21OPPltTTIHP4lDvg</td>\n",
       "      <td>Octopolis</td>\n",
       "      <td>5wcfAXfymPw</td>\n",
       "      <td>DESAFIO: Cidade em uma ILHA ISOLADA | LIVE | C...</td>\n",
       "      <td>499.250000</td>\n",
       "      <td>2751</td>\n",
       "      <td>224</td>\n",
       "      <td>25</td>\n",
       "      <td>Noite</td>\n",
       "      <td>3</td>\n",
       "      <td>9.051254</td>\n",
       "    </tr>\n",
       "    <tr>\n",
       "      <th>8751</th>\n",
       "      <td>2024-01-23</td>\n",
       "      <td>2024-01-22T21:00:00Z</td>\n",
       "      <td>assunto_cities_skylines</td>\n",
       "      <td>UCL5k8vBBo1JOHh7AnvoD8xQ</td>\n",
       "      <td>JulioGameplay</td>\n",
       "      <td>25ipYar0Ulw</td>\n",
       "      <td>prefeito resolvendo os problemas da população ...</td>\n",
       "      <td>0.570000</td>\n",
       "      <td>2506</td>\n",
       "      <td>140</td>\n",
       "      <td>14</td>\n",
       "      <td>Noite</td>\n",
       "      <td>3</td>\n",
       "      <td>6.145251</td>\n",
       "    </tr>\n",
       "    <tr>\n",
       "      <th>8754</th>\n",
       "      <td>2024-01-23</td>\n",
       "      <td>2024-01-22T23:00:28Z</td>\n",
       "      <td>assunto_cities_skylines</td>\n",
       "      <td>UCL5k8vBBo1JOHh7AnvoD8xQ</td>\n",
       "      <td>JulioGameplay</td>\n",
       "      <td>wdY0TGPfrAs</td>\n",
       "      <td>aja paciencia pra jogar buckshot roulette #sho...</td>\n",
       "      <td>0.620000</td>\n",
       "      <td>2444</td>\n",
       "      <td>135</td>\n",
       "      <td>0</td>\n",
       "      <td>Noite</td>\n",
       "      <td>3</td>\n",
       "      <td>5.523732</td>\n",
       "    </tr>\n",
       "    <tr>\n",
       "      <th>8758</th>\n",
       "      <td>2024-01-23</td>\n",
       "      <td>2024-01-18T14:00:26Z</td>\n",
       "      <td>assunto_cities_skylines</td>\n",
       "      <td>UCaj6FB2mFZ2T9a61QtZsKPA</td>\n",
       "      <td>TioChuckZ</td>\n",
       "      <td>i4h08DIfjKw</td>\n",
       "      <td>Finalmente ALTA DENSIDADE! | Cities Skylines 2...</td>\n",
       "      <td>32.320000</td>\n",
       "      <td>2295</td>\n",
       "      <td>293</td>\n",
       "      <td>34</td>\n",
       "      <td>Noite</td>\n",
       "      <td>3</td>\n",
       "      <td>14.248366</td>\n",
       "    </tr>\n",
       "    <tr>\n",
       "      <th>8772</th>\n",
       "      <td>2024-01-23</td>\n",
       "      <td>2024-01-21T19:00:13Z</td>\n",
       "      <td>assunto_cities_skylines</td>\n",
       "      <td>UCL5k8vBBo1JOHh7AnvoD8xQ</td>\n",
       "      <td>JulioGameplay</td>\n",
       "      <td>Su_Fct1dBBE</td>\n",
       "      <td>achei a palavra no termo sem querer #shorts</td>\n",
       "      <td>0.680000</td>\n",
       "      <td>1984</td>\n",
       "      <td>104</td>\n",
       "      <td>2</td>\n",
       "      <td>Noite</td>\n",
       "      <td>3</td>\n",
       "      <td>5.342742</td>\n",
       "    </tr>\n",
       "    <tr>\n",
       "      <th>8775</th>\n",
       "      <td>2024-01-23</td>\n",
       "      <td>2024-01-22T15:00:54Z</td>\n",
       "      <td>assunto_cities_skylines</td>\n",
       "      <td>UCL5k8vBBo1JOHh7AnvoD8xQ</td>\n",
       "      <td>JulioGameplay</td>\n",
       "      <td>xPK8y7NidnA</td>\n",
       "      <td>Jogando TERMO sozinho, palavra ALUNO #shorts</td>\n",
       "      <td>0.630000</td>\n",
       "      <td>1929</td>\n",
       "      <td>209</td>\n",
       "      <td>12</td>\n",
       "      <td>Noite</td>\n",
       "      <td>3</td>\n",
       "      <td>11.456713</td>\n",
       "    </tr>\n",
       "    <tr>\n",
       "      <th>8831</th>\n",
       "      <td>2024-01-23</td>\n",
       "      <td>2024-01-22T19:00:32Z</td>\n",
       "      <td>assunto_cities_skylines</td>\n",
       "      <td>UCL5k8vBBo1JOHh7AnvoD8xQ</td>\n",
       "      <td>JulioGameplay</td>\n",
       "      <td>q4gfnofyqPA</td>\n",
       "      <td>Jogando CONTEXTO pela primeira VEZ #shorts</td>\n",
       "      <td>0.900000</td>\n",
       "      <td>1058</td>\n",
       "      <td>83</td>\n",
       "      <td>6</td>\n",
       "      <td>Noite</td>\n",
       "      <td>3</td>\n",
       "      <td>8.412098</td>\n",
       "    </tr>\n",
       "    <tr>\n",
       "      <th>8833</th>\n",
       "      <td>2024-01-23</td>\n",
       "      <td>2024-01-23T17:00:38Z</td>\n",
       "      <td>assunto_cities_skylines</td>\n",
       "      <td>UCL5k8vBBo1JOHh7AnvoD8xQ</td>\n",
       "      <td>JulioGameplay</td>\n",
       "      <td>lRzoqqkbcLs</td>\n",
       "      <td>achei um MINEIRO no TERMO #shorts</td>\n",
       "      <td>0.980000</td>\n",
       "      <td>1003</td>\n",
       "      <td>75</td>\n",
       "      <td>8</td>\n",
       "      <td>Noite</td>\n",
       "      <td>3</td>\n",
       "      <td>8.275174</td>\n",
       "    </tr>\n",
       "  </tbody>\n",
       "</table>\n",
       "</div>"
      ],
      "text/plain": [
       "     data_extracao       DATA_PUBLICACAO                  ASSUNTO  \\\n",
       "8784    2024-01-23  2024-01-21T15:00:20Z  assunto_cities_skylines   \n",
       "8791    2024-01-23  2024-01-17T15:00:33Z  assunto_cities_skylines   \n",
       "8795    2024-01-23  2024-01-19T23:00:14Z  assunto_cities_skylines   \n",
       "8799    2024-01-23  2024-01-19T15:00:41Z  assunto_cities_skylines   \n",
       "8809    2024-01-23  2024-01-18T01:00:03Z  assunto_cities_skylines   \n",
       "8814    2024-01-23  2024-01-18T23:00:08Z  assunto_cities_skylines   \n",
       "8815    2024-01-23  2024-01-17T21:00:03Z  assunto_cities_skylines   \n",
       "8825    2024-01-23  2024-01-18T15:00:08Z  assunto_cities_skylines   \n",
       "8611    2024-01-23  2024-01-21T23:00:01Z  assunto_cities_skylines   \n",
       "8619    2024-01-23  2024-01-20T23:00:19Z  assunto_cities_skylines   \n",
       "8622    2024-01-23  2024-01-19T13:00:30Z  assunto_cities_skylines   \n",
       "8631    2024-01-23  2024-01-20T21:00:01Z  assunto_cities_skylines   \n",
       "8635    2024-01-23  2024-01-19T01:00:16Z  assunto_cities_skylines   \n",
       "8639    2024-01-23  2024-01-19T21:00:22Z  assunto_cities_skylines   \n",
       "8652    2024-01-23  2024-01-20T15:00:01Z  assunto_cities_skylines   \n",
       "8654    2024-01-23  2024-01-20T19:15:00Z  assunto_cities_skylines   \n",
       "8662    2024-01-23  2024-01-21T14:00:38Z  assunto_cities_skylines   \n",
       "8669    2024-01-23  2024-01-22T15:00:08Z  assunto_cities_skylines   \n",
       "8683    2024-01-23  2024-01-17T23:00:06Z  assunto_cities_skylines   \n",
       "8688    2024-01-23  2024-01-17T13:00:56Z  assunto_cities_skylines   \n",
       "8691    2024-01-23  2024-01-23T15:00:20Z  assunto_cities_skylines   \n",
       "8694    2024-01-23  2024-01-22T17:00:15Z  assunto_cities_skylines   \n",
       "8716    2024-01-23  2024-01-20T18:02:00Z  assunto_cities_skylines   \n",
       "8721    2024-01-23  2024-01-18T15:10:43Z  assunto_cities_skylines   \n",
       "8747    2024-01-23  2024-01-21T21:39:07Z  assunto_cities_skylines   \n",
       "8751    2024-01-23  2024-01-22T21:00:00Z  assunto_cities_skylines   \n",
       "8754    2024-01-23  2024-01-22T23:00:28Z  assunto_cities_skylines   \n",
       "8758    2024-01-23  2024-01-18T14:00:26Z  assunto_cities_skylines   \n",
       "8772    2024-01-23  2024-01-21T19:00:13Z  assunto_cities_skylines   \n",
       "8775    2024-01-23  2024-01-22T15:00:54Z  assunto_cities_skylines   \n",
       "8831    2024-01-23  2024-01-22T19:00:32Z  assunto_cities_skylines   \n",
       "8833    2024-01-23  2024-01-23T17:00:38Z  assunto_cities_skylines   \n",
       "\n",
       "                      ID_CANAL         NM_CANAL     ID_VIDEO  \\\n",
       "8784  UCrOH1V-FyMunBIMrKL0y0xQ  ChratosGameplay  SH1pVQcObMc   \n",
       "8791  UCrOH1V-FyMunBIMrKL0y0xQ  ChratosGameplay  WEet1zBsDvk   \n",
       "8795  UCL5k8vBBo1JOHh7AnvoD8xQ    JulioGameplay  QN33FxO7Irw   \n",
       "8799  UCrOH1V-FyMunBIMrKL0y0xQ  ChratosGameplay  mGtCSlnvvIE   \n",
       "8809  UCL5k8vBBo1JOHh7AnvoD8xQ    JulioGameplay  4WrWq5vJjXk   \n",
       "8814  UCL5k8vBBo1JOHh7AnvoD8xQ    JulioGameplay  AFLjPQpxAso   \n",
       "8815  UCL5k8vBBo1JOHh7AnvoD8xQ    JulioGameplay  5QRCMkPPr2U   \n",
       "8825  UCrOH1V-FyMunBIMrKL0y0xQ  ChratosGameplay  D8mQZAv_tQU   \n",
       "8611  UCL5k8vBBo1JOHh7AnvoD8xQ    JulioGameplay  38KqRAlHM2I   \n",
       "8619  UCL5k8vBBo1JOHh7AnvoD8xQ    JulioGameplay  d2LXShfdO9Q   \n",
       "8622  UCe9jrI0YQ5SM6h5QRZ9FZlA   Barbosa Cities  Q-wLBZ9OI1o   \n",
       "8631  UCL5k8vBBo1JOHh7AnvoD8xQ    JulioGameplay  alOYlPfi8dE   \n",
       "8635  UCL5k8vBBo1JOHh7AnvoD8xQ    JulioGameplay  NIY0htgS6Zg   \n",
       "8639  UCL5k8vBBo1JOHh7AnvoD8xQ    JulioGameplay  QDzzR45EY_A   \n",
       "8652  UCrOH1V-FyMunBIMrKL0y0xQ  ChratosGameplay  1OAQ0TBwQ0w   \n",
       "8654  UCL5k8vBBo1JOHh7AnvoD8xQ    JulioGameplay  c-00A0U1LyY   \n",
       "8662  UCe9jrI0YQ5SM6h5QRZ9FZlA   Barbosa Cities  rWNkkdnEyng   \n",
       "8669  UCrOH1V-FyMunBIMrKL0y0xQ  ChratosGameplay  5hcsBCwxs9A   \n",
       "8683  UCL5k8vBBo1JOHh7AnvoD8xQ    JulioGameplay  A9pni0TYSeM   \n",
       "8688  UCe9jrI0YQ5SM6h5QRZ9FZlA   Barbosa Cities  tbBIq2RY3Yc   \n",
       "8691  UCrOH1V-FyMunBIMrKL0y0xQ  ChratosGameplay  ySUyzBe0Qjo   \n",
       "8694  UCL5k8vBBo1JOHh7AnvoD8xQ    JulioGameplay  MCQdJcFcibk   \n",
       "8716  UCCe4Be21OPPltTTIHP4lDvg        Octopolis  F8eyXMzbpTE   \n",
       "8721  UCDGo_s0I-2JpO3o3xlkMQVA       Simularies  1xwK-5-4Hsk   \n",
       "8747  UCCe4Be21OPPltTTIHP4lDvg        Octopolis  5wcfAXfymPw   \n",
       "8751  UCL5k8vBBo1JOHh7AnvoD8xQ    JulioGameplay  25ipYar0Ulw   \n",
       "8754  UCL5k8vBBo1JOHh7AnvoD8xQ    JulioGameplay  wdY0TGPfrAs   \n",
       "8758  UCaj6FB2mFZ2T9a61QtZsKPA        TioChuckZ  i4h08DIfjKw   \n",
       "8772  UCL5k8vBBo1JOHh7AnvoD8xQ    JulioGameplay  Su_Fct1dBBE   \n",
       "8775  UCL5k8vBBo1JOHh7AnvoD8xQ    JulioGameplay  xPK8y7NidnA   \n",
       "8831  UCL5k8vBBo1JOHh7AnvoD8xQ    JulioGameplay  q4gfnofyqPA   \n",
       "8833  UCL5k8vBBo1JOHh7AnvoD8xQ    JulioGameplay  lRzoqqkbcLs   \n",
       "\n",
       "                                           TITULO_VIDEO  \\\n",
       "8784  MINHA EXPERIÊNCIA COM CITIES SKYLINES 2 (FIM) ...   \n",
       "8791  PRISÃO E FBI PARA COMBATER CRIMINALIDADE 🏙️ - ...   \n",
       "8795  new update parte 8 Buckshot roulette #buckshot...   \n",
       "8799  PRIMEIRO PARQUE COM LAGOS ARTIFICAIS 🏙️ - Citi...   \n",
       "8809  MINHA SORTE ACABOU NO Buckshot roulette #bucks...   \n",
       "8814  MUITO AZAR  E POUCA SORTE Buckshot roulette #b...   \n",
       "8815  JOGANDO Buckshot roulette #buckshotroulette #s...   \n",
       "8825  ALCANÇANDO 10000 HABITANTES NA EXPANSÃO FRENÉT...   \n",
       "8611  SOU MUITO BOM NO Buckshot roulette #buckshotro...   \n",
       "8619  perdi por 1 simples erro no buckshot roulette ...   \n",
       "8622  CS2 #32 | BAIRRO INTEIRO PARA TENTAR ATENDER D...   \n",
       "8631  uma algema e um sonho parte 10 bunckshot roule...   \n",
       "8635  não estou deixando o inimigo jogar no Buckshot...   \n",
       "8639  new update parte 7  Buckshot roulette #bucksho...   \n",
       "8652  INDÚSTRIA SIDERÚRGICA E USINAGEM TRAZ BOOM ECO...   \n",
       "8654         TERMO ep 1 achando a palavra NOIVA #shorts   \n",
       "8662  CS2 #33 | GERANDO EMPREGO COM INDÚSTRIA MINERA...   \n",
       "8669  REFORMA PARA URBANIZAÇÃO E EXPANSÃO DE TRÁFEGO...   \n",
       "8683  minha gameplay no Buckshot roulette esta avanç...   \n",
       "8688  #RIVIERA 34 | ÁREA DE PROCESSAMENTO DA FAZENDA...   \n",
       "8691  NOVO INCRÍVEL JOGO DE GERENCIAMENTO DE FÁBRICA...   \n",
       "8694                 Jogando STOP com a letra A #shorts   \n",
       "8716  SOLUÇÃO de problemas de PRODUÇÃO | HAMILTON - ...   \n",
       "8721  ✨ COMEÇANDO A CIDADE DE ALTA VISTA! 🏙️ EP 01 |...   \n",
       "8747  DESAFIO: Cidade em uma ILHA ISOLADA | LIVE | C...   \n",
       "8751  prefeito resolvendo os problemas da população ...   \n",
       "8754  aja paciencia pra jogar buckshot roulette #sho...   \n",
       "8758  Finalmente ALTA DENSIDADE! | Cities Skylines 2...   \n",
       "8772        achei a palavra no termo sem querer #shorts   \n",
       "8775       Jogando TERMO sozinho, palavra ALUNO #shorts   \n",
       "8831         Jogando CONTEXTO pela primeira VEZ #shorts   \n",
       "8833                  achei um MINEIRO no TERMO #shorts   \n",
       "\n",
       "      DURACAO_VIDEO_MINUTOS  TOTAL_VISUALIZACOES  TOTAL_LIKES  \\\n",
       "8784              38.250000                15348         2256   \n",
       "8791              19.850000                13909         1936   \n",
       "8795               0.570000                13309          563   \n",
       "8799              35.099998                13189         1714   \n",
       "8809               0.620000                12268          518   \n",
       "8814               0.800000                11972          556   \n",
       "8815               0.950000                11851          671   \n",
       "8825              26.650000                10936         1328   \n",
       "8611               0.980000                 9882          609   \n",
       "8619               0.980000                 8976          348   \n",
       "8622              17.549999                 8312         1189   \n",
       "8631               0.670000                 7707          381   \n",
       "8635               0.770000                 7524          504   \n",
       "8639               0.780000                 7175          439   \n",
       "8652              29.879999                 6659          992   \n",
       "8654               0.980000                 6569          483   \n",
       "8662              18.570000                 6186         1161   \n",
       "8669              28.280001                 5564          869   \n",
       "8683               0.500000                 4920          277   \n",
       "8688              24.330000                 4767          822   \n",
       "8691              38.299999                 4607         1326   \n",
       "8694               0.730000                 4442          241   \n",
       "8716              23.170000                 3544          534   \n",
       "8721              37.270000                 3354          347   \n",
       "8747             499.250000                 2751          224   \n",
       "8751               0.570000                 2506          140   \n",
       "8754               0.620000                 2444          135   \n",
       "8758              32.320000                 2295          293   \n",
       "8772               0.680000                 1984          104   \n",
       "8775               0.630000                 1929          209   \n",
       "8831               0.900000                 1058           83   \n",
       "8833               0.980000                 1003           75   \n",
       "\n",
       "      TOTAL_COMENTARIOS TURNO_EXTRACAO  INDICE_TURNO_EXTRACAO  \\\n",
       "8784                126          Noite                      3   \n",
       "8791                 50          Noite                      3   \n",
       "8795                  6          Noite                      3   \n",
       "8799                105          Noite                      3   \n",
       "8809                  8          Noite                      3   \n",
       "8814                 13          Noite                      3   \n",
       "8815                  8          Noite                      3   \n",
       "8825                 35          Noite                      3   \n",
       "8611                 13          Noite                      3   \n",
       "8619                 11          Noite                      3   \n",
       "8622                 52          Noite                      3   \n",
       "8631                  8          Noite                      3   \n",
       "8635                 23          Noite                      3   \n",
       "8639                 12          Noite                      3   \n",
       "8652                 28          Noite                      3   \n",
       "8654                 12          Noite                      3   \n",
       "8662                 58          Noite                      3   \n",
       "8669                 23          Noite                      3   \n",
       "8683                  9          Noite                      3   \n",
       "8688                 38          Noite                      3   \n",
       "8691                 79          Noite                      3   \n",
       "8694                 21          Noite                      3   \n",
       "8716                 38          Noite                      3   \n",
       "8721                 29          Noite                      3   \n",
       "8747                 25          Noite                      3   \n",
       "8751                 14          Noite                      3   \n",
       "8754                  0          Noite                      3   \n",
       "8758                 34          Noite                      3   \n",
       "8772                  2          Noite                      3   \n",
       "8775                 12          Noite                      3   \n",
       "8831                  6          Noite                      3   \n",
       "8833                  8          Noite                      3   \n",
       "\n",
       "      TAXA_ENGAJAMENTO  \n",
       "8784         15.519937  \n",
       "8791         14.278525  \n",
       "8795          4.275302  \n",
       "8799         13.791796  \n",
       "8809          4.287577  \n",
       "8814          4.752756  \n",
       "8815          5.729474  \n",
       "8825         12.463424  \n",
       "8611          6.294272  \n",
       "8619          3.999554  \n",
       "8622         14.930221  \n",
       "8631          5.047360  \n",
       "8635          7.004253  \n",
       "8639          6.285714  \n",
       "8652         15.317615  \n",
       "8654          7.535394  \n",
       "8662         19.705787  \n",
       "8669         16.031632  \n",
       "8683          5.813008  \n",
       "8688         18.040696  \n",
       "8691         30.497070  \n",
       "8694          5.898244  \n",
       "8716         16.139955  \n",
       "8721         11.210495  \n",
       "8747          9.051254  \n",
       "8751          6.145251  \n",
       "8754          5.523732  \n",
       "8758         14.248366  \n",
       "8772          5.342742  \n",
       "8775         11.456713  \n",
       "8831          8.412098  \n",
       "8833          8.275174  "
      ]
     },
     "execution_count": 435,
     "metadata": {},
     "output_type": "execute_result"
    }
   ],
   "source": [
    "base_video_canal['TAXA_ENGAJAMENTO'] = ((base_video_canal['TOTAL_LIKES'] + base_video_canal['TOTAL_COMENTARIOS']) / base_video_canal['TOTAL_VISUALIZACOES']) * 100\n",
    "base_video_canal.fillna(0, inplace=True)\n",
    "base_video_canal = base_video_canal.sort_values(by='TOTAL_VISUALIZACOES', ascending=False)\n",
    "base_video_canal"
   ]
  },
  {
   "cell_type": "code",
   "execution_count": 436,
   "metadata": {},
   "outputs": [
    {
     "data": {
      "application/vnd.plotly.v1+json": {
       "config": {
        "plotlyServerURL": "https://plot.ly"
       },
       "data": [
        {
         "alignmentgroup": "True",
         "hovertemplate": "TAXA_ENGAJAMENTO=%{y}<extra></extra>",
         "legendgroup": "",
         "marker": {
          "color": "#636efa"
         },
         "name": "",
         "notched": false,
         "offsetgroup": "",
         "orientation": "v",
         "showlegend": false,
         "type": "box",
         "x0": " ",
         "xaxis": "x",
         "y": [
          15.519937451133698,
          14.278524696239844,
          4.275302426929146,
          13.791796193797861,
          4.2875774372350826,
          4.752756431673906,
          5.729474305965741,
          12.463423555230431,
          6.294272414490994,
          3.999554367201426,
          14.930221366698749,
          5.04735954327235,
          7.004253056884637,
          6.2857142857142865,
          15.317615257546176,
          7.535393514994672,
          19.705787261558356,
          16.031631919482386,
          5.8130081300813,
          18.04069645479337,
          30.49706967657912,
          5.898244034218821,
          16.13995485327314,
          11.210494931425163,
          9.051254089422029,
          6.145251396648044,
          5.523731587561375,
          14.248366013071895,
          5.342741935483871,
          11.456713322965268,
          8.412098298676748,
          8.275174476570289
         ],
         "y0": " ",
         "yaxis": "y"
        }
       ],
       "layout": {
        "boxmode": "group",
        "legend": {
         "tracegroupgap": 0
        },
        "margin": {
         "t": 60
        },
        "template": {
         "data": {
          "bar": [
           {
            "error_x": {
             "color": "#2a3f5f"
            },
            "error_y": {
             "color": "#2a3f5f"
            },
            "marker": {
             "line": {
              "color": "#E5ECF6",
              "width": 0.5
             },
             "pattern": {
              "fillmode": "overlay",
              "size": 10,
              "solidity": 0.2
             }
            },
            "type": "bar"
           }
          ],
          "barpolar": [
           {
            "marker": {
             "line": {
              "color": "#E5ECF6",
              "width": 0.5
             },
             "pattern": {
              "fillmode": "overlay",
              "size": 10,
              "solidity": 0.2
             }
            },
            "type": "barpolar"
           }
          ],
          "carpet": [
           {
            "aaxis": {
             "endlinecolor": "#2a3f5f",
             "gridcolor": "white",
             "linecolor": "white",
             "minorgridcolor": "white",
             "startlinecolor": "#2a3f5f"
            },
            "baxis": {
             "endlinecolor": "#2a3f5f",
             "gridcolor": "white",
             "linecolor": "white",
             "minorgridcolor": "white",
             "startlinecolor": "#2a3f5f"
            },
            "type": "carpet"
           }
          ],
          "choropleth": [
           {
            "colorbar": {
             "outlinewidth": 0,
             "ticks": ""
            },
            "type": "choropleth"
           }
          ],
          "contour": [
           {
            "colorbar": {
             "outlinewidth": 0,
             "ticks": ""
            },
            "colorscale": [
             [
              0,
              "#0d0887"
             ],
             [
              0.1111111111111111,
              "#46039f"
             ],
             [
              0.2222222222222222,
              "#7201a8"
             ],
             [
              0.3333333333333333,
              "#9c179e"
             ],
             [
              0.4444444444444444,
              "#bd3786"
             ],
             [
              0.5555555555555556,
              "#d8576b"
             ],
             [
              0.6666666666666666,
              "#ed7953"
             ],
             [
              0.7777777777777778,
              "#fb9f3a"
             ],
             [
              0.8888888888888888,
              "#fdca26"
             ],
             [
              1,
              "#f0f921"
             ]
            ],
            "type": "contour"
           }
          ],
          "contourcarpet": [
           {
            "colorbar": {
             "outlinewidth": 0,
             "ticks": ""
            },
            "type": "contourcarpet"
           }
          ],
          "heatmap": [
           {
            "colorbar": {
             "outlinewidth": 0,
             "ticks": ""
            },
            "colorscale": [
             [
              0,
              "#0d0887"
             ],
             [
              0.1111111111111111,
              "#46039f"
             ],
             [
              0.2222222222222222,
              "#7201a8"
             ],
             [
              0.3333333333333333,
              "#9c179e"
             ],
             [
              0.4444444444444444,
              "#bd3786"
             ],
             [
              0.5555555555555556,
              "#d8576b"
             ],
             [
              0.6666666666666666,
              "#ed7953"
             ],
             [
              0.7777777777777778,
              "#fb9f3a"
             ],
             [
              0.8888888888888888,
              "#fdca26"
             ],
             [
              1,
              "#f0f921"
             ]
            ],
            "type": "heatmap"
           }
          ],
          "heatmapgl": [
           {
            "colorbar": {
             "outlinewidth": 0,
             "ticks": ""
            },
            "colorscale": [
             [
              0,
              "#0d0887"
             ],
             [
              0.1111111111111111,
              "#46039f"
             ],
             [
              0.2222222222222222,
              "#7201a8"
             ],
             [
              0.3333333333333333,
              "#9c179e"
             ],
             [
              0.4444444444444444,
              "#bd3786"
             ],
             [
              0.5555555555555556,
              "#d8576b"
             ],
             [
              0.6666666666666666,
              "#ed7953"
             ],
             [
              0.7777777777777778,
              "#fb9f3a"
             ],
             [
              0.8888888888888888,
              "#fdca26"
             ],
             [
              1,
              "#f0f921"
             ]
            ],
            "type": "heatmapgl"
           }
          ],
          "histogram": [
           {
            "marker": {
             "pattern": {
              "fillmode": "overlay",
              "size": 10,
              "solidity": 0.2
             }
            },
            "type": "histogram"
           }
          ],
          "histogram2d": [
           {
            "colorbar": {
             "outlinewidth": 0,
             "ticks": ""
            },
            "colorscale": [
             [
              0,
              "#0d0887"
             ],
             [
              0.1111111111111111,
              "#46039f"
             ],
             [
              0.2222222222222222,
              "#7201a8"
             ],
             [
              0.3333333333333333,
              "#9c179e"
             ],
             [
              0.4444444444444444,
              "#bd3786"
             ],
             [
              0.5555555555555556,
              "#d8576b"
             ],
             [
              0.6666666666666666,
              "#ed7953"
             ],
             [
              0.7777777777777778,
              "#fb9f3a"
             ],
             [
              0.8888888888888888,
              "#fdca26"
             ],
             [
              1,
              "#f0f921"
             ]
            ],
            "type": "histogram2d"
           }
          ],
          "histogram2dcontour": [
           {
            "colorbar": {
             "outlinewidth": 0,
             "ticks": ""
            },
            "colorscale": [
             [
              0,
              "#0d0887"
             ],
             [
              0.1111111111111111,
              "#46039f"
             ],
             [
              0.2222222222222222,
              "#7201a8"
             ],
             [
              0.3333333333333333,
              "#9c179e"
             ],
             [
              0.4444444444444444,
              "#bd3786"
             ],
             [
              0.5555555555555556,
              "#d8576b"
             ],
             [
              0.6666666666666666,
              "#ed7953"
             ],
             [
              0.7777777777777778,
              "#fb9f3a"
             ],
             [
              0.8888888888888888,
              "#fdca26"
             ],
             [
              1,
              "#f0f921"
             ]
            ],
            "type": "histogram2dcontour"
           }
          ],
          "mesh3d": [
           {
            "colorbar": {
             "outlinewidth": 0,
             "ticks": ""
            },
            "type": "mesh3d"
           }
          ],
          "parcoords": [
           {
            "line": {
             "colorbar": {
              "outlinewidth": 0,
              "ticks": ""
             }
            },
            "type": "parcoords"
           }
          ],
          "pie": [
           {
            "automargin": true,
            "type": "pie"
           }
          ],
          "scatter": [
           {
            "fillpattern": {
             "fillmode": "overlay",
             "size": 10,
             "solidity": 0.2
            },
            "type": "scatter"
           }
          ],
          "scatter3d": [
           {
            "line": {
             "colorbar": {
              "outlinewidth": 0,
              "ticks": ""
             }
            },
            "marker": {
             "colorbar": {
              "outlinewidth": 0,
              "ticks": ""
             }
            },
            "type": "scatter3d"
           }
          ],
          "scattercarpet": [
           {
            "marker": {
             "colorbar": {
              "outlinewidth": 0,
              "ticks": ""
             }
            },
            "type": "scattercarpet"
           }
          ],
          "scattergeo": [
           {
            "marker": {
             "colorbar": {
              "outlinewidth": 0,
              "ticks": ""
             }
            },
            "type": "scattergeo"
           }
          ],
          "scattergl": [
           {
            "marker": {
             "colorbar": {
              "outlinewidth": 0,
              "ticks": ""
             }
            },
            "type": "scattergl"
           }
          ],
          "scattermapbox": [
           {
            "marker": {
             "colorbar": {
              "outlinewidth": 0,
              "ticks": ""
             }
            },
            "type": "scattermapbox"
           }
          ],
          "scatterpolar": [
           {
            "marker": {
             "colorbar": {
              "outlinewidth": 0,
              "ticks": ""
             }
            },
            "type": "scatterpolar"
           }
          ],
          "scatterpolargl": [
           {
            "marker": {
             "colorbar": {
              "outlinewidth": 0,
              "ticks": ""
             }
            },
            "type": "scatterpolargl"
           }
          ],
          "scatterternary": [
           {
            "marker": {
             "colorbar": {
              "outlinewidth": 0,
              "ticks": ""
             }
            },
            "type": "scatterternary"
           }
          ],
          "surface": [
           {
            "colorbar": {
             "outlinewidth": 0,
             "ticks": ""
            },
            "colorscale": [
             [
              0,
              "#0d0887"
             ],
             [
              0.1111111111111111,
              "#46039f"
             ],
             [
              0.2222222222222222,
              "#7201a8"
             ],
             [
              0.3333333333333333,
              "#9c179e"
             ],
             [
              0.4444444444444444,
              "#bd3786"
             ],
             [
              0.5555555555555556,
              "#d8576b"
             ],
             [
              0.6666666666666666,
              "#ed7953"
             ],
             [
              0.7777777777777778,
              "#fb9f3a"
             ],
             [
              0.8888888888888888,
              "#fdca26"
             ],
             [
              1,
              "#f0f921"
             ]
            ],
            "type": "surface"
           }
          ],
          "table": [
           {
            "cells": {
             "fill": {
              "color": "#EBF0F8"
             },
             "line": {
              "color": "white"
             }
            },
            "header": {
             "fill": {
              "color": "#C8D4E3"
             },
             "line": {
              "color": "white"
             }
            },
            "type": "table"
           }
          ]
         },
         "layout": {
          "annotationdefaults": {
           "arrowcolor": "#2a3f5f",
           "arrowhead": 0,
           "arrowwidth": 1
          },
          "autotypenumbers": "strict",
          "coloraxis": {
           "colorbar": {
            "outlinewidth": 0,
            "ticks": ""
           }
          },
          "colorscale": {
           "diverging": [
            [
             0,
             "#8e0152"
            ],
            [
             0.1,
             "#c51b7d"
            ],
            [
             0.2,
             "#de77ae"
            ],
            [
             0.3,
             "#f1b6da"
            ],
            [
             0.4,
             "#fde0ef"
            ],
            [
             0.5,
             "#f7f7f7"
            ],
            [
             0.6,
             "#e6f5d0"
            ],
            [
             0.7,
             "#b8e186"
            ],
            [
             0.8,
             "#7fbc41"
            ],
            [
             0.9,
             "#4d9221"
            ],
            [
             1,
             "#276419"
            ]
           ],
           "sequential": [
            [
             0,
             "#0d0887"
            ],
            [
             0.1111111111111111,
             "#46039f"
            ],
            [
             0.2222222222222222,
             "#7201a8"
            ],
            [
             0.3333333333333333,
             "#9c179e"
            ],
            [
             0.4444444444444444,
             "#bd3786"
            ],
            [
             0.5555555555555556,
             "#d8576b"
            ],
            [
             0.6666666666666666,
             "#ed7953"
            ],
            [
             0.7777777777777778,
             "#fb9f3a"
            ],
            [
             0.8888888888888888,
             "#fdca26"
            ],
            [
             1,
             "#f0f921"
            ]
           ],
           "sequentialminus": [
            [
             0,
             "#0d0887"
            ],
            [
             0.1111111111111111,
             "#46039f"
            ],
            [
             0.2222222222222222,
             "#7201a8"
            ],
            [
             0.3333333333333333,
             "#9c179e"
            ],
            [
             0.4444444444444444,
             "#bd3786"
            ],
            [
             0.5555555555555556,
             "#d8576b"
            ],
            [
             0.6666666666666666,
             "#ed7953"
            ],
            [
             0.7777777777777778,
             "#fb9f3a"
            ],
            [
             0.8888888888888888,
             "#fdca26"
            ],
            [
             1,
             "#f0f921"
            ]
           ]
          },
          "colorway": [
           "#636efa",
           "#EF553B",
           "#00cc96",
           "#ab63fa",
           "#FFA15A",
           "#19d3f3",
           "#FF6692",
           "#B6E880",
           "#FF97FF",
           "#FECB52"
          ],
          "font": {
           "color": "#2a3f5f"
          },
          "geo": {
           "bgcolor": "white",
           "lakecolor": "white",
           "landcolor": "#E5ECF6",
           "showlakes": true,
           "showland": true,
           "subunitcolor": "white"
          },
          "hoverlabel": {
           "align": "left"
          },
          "hovermode": "closest",
          "mapbox": {
           "style": "light"
          },
          "paper_bgcolor": "white",
          "plot_bgcolor": "#E5ECF6",
          "polar": {
           "angularaxis": {
            "gridcolor": "white",
            "linecolor": "white",
            "ticks": ""
           },
           "bgcolor": "#E5ECF6",
           "radialaxis": {
            "gridcolor": "white",
            "linecolor": "white",
            "ticks": ""
           }
          },
          "scene": {
           "xaxis": {
            "backgroundcolor": "#E5ECF6",
            "gridcolor": "white",
            "gridwidth": 2,
            "linecolor": "white",
            "showbackground": true,
            "ticks": "",
            "zerolinecolor": "white"
           },
           "yaxis": {
            "backgroundcolor": "#E5ECF6",
            "gridcolor": "white",
            "gridwidth": 2,
            "linecolor": "white",
            "showbackground": true,
            "ticks": "",
            "zerolinecolor": "white"
           },
           "zaxis": {
            "backgroundcolor": "#E5ECF6",
            "gridcolor": "white",
            "gridwidth": 2,
            "linecolor": "white",
            "showbackground": true,
            "ticks": "",
            "zerolinecolor": "white"
           }
          },
          "shapedefaults": {
           "line": {
            "color": "#2a3f5f"
           }
          },
          "ternary": {
           "aaxis": {
            "gridcolor": "white",
            "linecolor": "white",
            "ticks": ""
           },
           "baxis": {
            "gridcolor": "white",
            "linecolor": "white",
            "ticks": ""
           },
           "bgcolor": "#E5ECF6",
           "caxis": {
            "gridcolor": "white",
            "linecolor": "white",
            "ticks": ""
           }
          },
          "title": {
           "x": 0.05
          },
          "xaxis": {
           "automargin": true,
           "gridcolor": "white",
           "linecolor": "white",
           "ticks": "",
           "title": {
            "standoff": 15
           },
           "zerolinecolor": "white",
           "zerolinewidth": 2
          },
          "yaxis": {
           "automargin": true,
           "gridcolor": "white",
           "linecolor": "white",
           "ticks": "",
           "title": {
            "standoff": 15
           },
           "zerolinecolor": "white",
           "zerolinewidth": 2
          }
         }
        },
        "xaxis": {
         "anchor": "y",
         "domain": [
          0,
          1
         ]
        },
        "yaxis": {
         "anchor": "x",
         "domain": [
          0,
          1
         ],
         "title": {
          "text": "TAXA_ENGAJAMENTO"
         }
        }
       }
      }
     },
     "metadata": {},
     "output_type": "display_data"
    }
   ],
   "source": [
    "fig = px.box(base_video_canal, y='TAXA_ENGAJAMENTO')\n",
    "fig.show()"
   ]
  },
  {
   "cell_type": "code",
   "execution_count": 437,
   "metadata": {},
   "outputs": [],
   "source": [
    "def faixa_duracao_video(minutos : float) -> str:\n",
    "    if 0 <= minutos < 15:\n",
    "        z = 'Curta'\n",
    "    elif 15 <= minutos < 30:\n",
    "        z = 'Média'\n",
    "    else:\n",
    "        z = 'Longa' \n",
    "    return z"
   ]
  },
  {
   "cell_type": "code",
   "execution_count": 438,
   "metadata": {},
   "outputs": [
    {
     "data": {
      "text/html": [
       "<div>\n",
       "<style scoped>\n",
       "    .dataframe tbody tr th:only-of-type {\n",
       "        vertical-align: middle;\n",
       "    }\n",
       "\n",
       "    .dataframe tbody tr th {\n",
       "        vertical-align: top;\n",
       "    }\n",
       "\n",
       "    .dataframe thead th {\n",
       "        text-align: right;\n",
       "    }\n",
       "</style>\n",
       "<table border=\"1\" class=\"dataframe\">\n",
       "  <thead>\n",
       "    <tr style=\"text-align: right;\">\n",
       "      <th></th>\n",
       "      <th>data_extracao</th>\n",
       "      <th>DATA_PUBLICACAO</th>\n",
       "      <th>ASSUNTO</th>\n",
       "      <th>ID_CANAL</th>\n",
       "      <th>NM_CANAL</th>\n",
       "      <th>ID_VIDEO</th>\n",
       "      <th>TITULO_VIDEO</th>\n",
       "      <th>DURACAO_VIDEO_MINUTOS</th>\n",
       "      <th>TOTAL_VISUALIZACOES</th>\n",
       "      <th>TOTAL_LIKES</th>\n",
       "      <th>TOTAL_COMENTARIOS</th>\n",
       "      <th>TURNO_EXTRACAO</th>\n",
       "      <th>INDICE_TURNO_EXTRACAO</th>\n",
       "      <th>TAXA_ENGAJAMENTO</th>\n",
       "      <th>FAIXA_DURACAO_VIDEO</th>\n",
       "    </tr>\n",
       "  </thead>\n",
       "  <tbody>\n",
       "    <tr>\n",
       "      <th>8784</th>\n",
       "      <td>2024-01-23</td>\n",
       "      <td>2024-01-21T15:00:20Z</td>\n",
       "      <td>assunto_cities_skylines</td>\n",
       "      <td>UCrOH1V-FyMunBIMrKL0y0xQ</td>\n",
       "      <td>ChratosGameplay</td>\n",
       "      <td>SH1pVQcObMc</td>\n",
       "      <td>MINHA EXPERIÊNCIA COM CITIES SKYLINES 2 (FIM) ...</td>\n",
       "      <td>38.250000</td>\n",
       "      <td>15348</td>\n",
       "      <td>2256</td>\n",
       "      <td>126</td>\n",
       "      <td>Noite</td>\n",
       "      <td>3</td>\n",
       "      <td>15.519937</td>\n",
       "      <td>Longa</td>\n",
       "    </tr>\n",
       "    <tr>\n",
       "      <th>8791</th>\n",
       "      <td>2024-01-23</td>\n",
       "      <td>2024-01-17T15:00:33Z</td>\n",
       "      <td>assunto_cities_skylines</td>\n",
       "      <td>UCrOH1V-FyMunBIMrKL0y0xQ</td>\n",
       "      <td>ChratosGameplay</td>\n",
       "      <td>WEet1zBsDvk</td>\n",
       "      <td>PRISÃO E FBI PARA COMBATER CRIMINALIDADE 🏙️ - ...</td>\n",
       "      <td>19.850000</td>\n",
       "      <td>13909</td>\n",
       "      <td>1936</td>\n",
       "      <td>50</td>\n",
       "      <td>Noite</td>\n",
       "      <td>3</td>\n",
       "      <td>14.278525</td>\n",
       "      <td>Média</td>\n",
       "    </tr>\n",
       "    <tr>\n",
       "      <th>8795</th>\n",
       "      <td>2024-01-23</td>\n",
       "      <td>2024-01-19T23:00:14Z</td>\n",
       "      <td>assunto_cities_skylines</td>\n",
       "      <td>UCL5k8vBBo1JOHh7AnvoD8xQ</td>\n",
       "      <td>JulioGameplay</td>\n",
       "      <td>QN33FxO7Irw</td>\n",
       "      <td>new update parte 8 Buckshot roulette #buckshot...</td>\n",
       "      <td>0.570000</td>\n",
       "      <td>13309</td>\n",
       "      <td>563</td>\n",
       "      <td>6</td>\n",
       "      <td>Noite</td>\n",
       "      <td>3</td>\n",
       "      <td>4.275302</td>\n",
       "      <td>Curta</td>\n",
       "    </tr>\n",
       "    <tr>\n",
       "      <th>8799</th>\n",
       "      <td>2024-01-23</td>\n",
       "      <td>2024-01-19T15:00:41Z</td>\n",
       "      <td>assunto_cities_skylines</td>\n",
       "      <td>UCrOH1V-FyMunBIMrKL0y0xQ</td>\n",
       "      <td>ChratosGameplay</td>\n",
       "      <td>mGtCSlnvvIE</td>\n",
       "      <td>PRIMEIRO PARQUE COM LAGOS ARTIFICAIS 🏙️ - Citi...</td>\n",
       "      <td>35.099998</td>\n",
       "      <td>13189</td>\n",
       "      <td>1714</td>\n",
       "      <td>105</td>\n",
       "      <td>Noite</td>\n",
       "      <td>3</td>\n",
       "      <td>13.791796</td>\n",
       "      <td>Longa</td>\n",
       "    </tr>\n",
       "    <tr>\n",
       "      <th>8809</th>\n",
       "      <td>2024-01-23</td>\n",
       "      <td>2024-01-18T01:00:03Z</td>\n",
       "      <td>assunto_cities_skylines</td>\n",
       "      <td>UCL5k8vBBo1JOHh7AnvoD8xQ</td>\n",
       "      <td>JulioGameplay</td>\n",
       "      <td>4WrWq5vJjXk</td>\n",
       "      <td>MINHA SORTE ACABOU NO Buckshot roulette #bucks...</td>\n",
       "      <td>0.620000</td>\n",
       "      <td>12268</td>\n",
       "      <td>518</td>\n",
       "      <td>8</td>\n",
       "      <td>Noite</td>\n",
       "      <td>3</td>\n",
       "      <td>4.287577</td>\n",
       "      <td>Curta</td>\n",
       "    </tr>\n",
       "    <tr>\n",
       "      <th>8814</th>\n",
       "      <td>2024-01-23</td>\n",
       "      <td>2024-01-18T23:00:08Z</td>\n",
       "      <td>assunto_cities_skylines</td>\n",
       "      <td>UCL5k8vBBo1JOHh7AnvoD8xQ</td>\n",
       "      <td>JulioGameplay</td>\n",
       "      <td>AFLjPQpxAso</td>\n",
       "      <td>MUITO AZAR  E POUCA SORTE Buckshot roulette #b...</td>\n",
       "      <td>0.800000</td>\n",
       "      <td>11972</td>\n",
       "      <td>556</td>\n",
       "      <td>13</td>\n",
       "      <td>Noite</td>\n",
       "      <td>3</td>\n",
       "      <td>4.752756</td>\n",
       "      <td>Curta</td>\n",
       "    </tr>\n",
       "    <tr>\n",
       "      <th>8815</th>\n",
       "      <td>2024-01-23</td>\n",
       "      <td>2024-01-17T21:00:03Z</td>\n",
       "      <td>assunto_cities_skylines</td>\n",
       "      <td>UCL5k8vBBo1JOHh7AnvoD8xQ</td>\n",
       "      <td>JulioGameplay</td>\n",
       "      <td>5QRCMkPPr2U</td>\n",
       "      <td>JOGANDO Buckshot roulette #buckshotroulette #s...</td>\n",
       "      <td>0.950000</td>\n",
       "      <td>11851</td>\n",
       "      <td>671</td>\n",
       "      <td>8</td>\n",
       "      <td>Noite</td>\n",
       "      <td>3</td>\n",
       "      <td>5.729474</td>\n",
       "      <td>Curta</td>\n",
       "    </tr>\n",
       "    <tr>\n",
       "      <th>8825</th>\n",
       "      <td>2024-01-23</td>\n",
       "      <td>2024-01-18T15:00:08Z</td>\n",
       "      <td>assunto_cities_skylines</td>\n",
       "      <td>UCrOH1V-FyMunBIMrKL0y0xQ</td>\n",
       "      <td>ChratosGameplay</td>\n",
       "      <td>D8mQZAv_tQU</td>\n",
       "      <td>ALCANÇANDO 10000 HABITANTES NA EXPANSÃO FRENÉT...</td>\n",
       "      <td>26.650000</td>\n",
       "      <td>10936</td>\n",
       "      <td>1328</td>\n",
       "      <td>35</td>\n",
       "      <td>Noite</td>\n",
       "      <td>3</td>\n",
       "      <td>12.463424</td>\n",
       "      <td>Média</td>\n",
       "    </tr>\n",
       "    <tr>\n",
       "      <th>8611</th>\n",
       "      <td>2024-01-23</td>\n",
       "      <td>2024-01-21T23:00:01Z</td>\n",
       "      <td>assunto_cities_skylines</td>\n",
       "      <td>UCL5k8vBBo1JOHh7AnvoD8xQ</td>\n",
       "      <td>JulioGameplay</td>\n",
       "      <td>38KqRAlHM2I</td>\n",
       "      <td>SOU MUITO BOM NO Buckshot roulette #buckshotro...</td>\n",
       "      <td>0.980000</td>\n",
       "      <td>9882</td>\n",
       "      <td>609</td>\n",
       "      <td>13</td>\n",
       "      <td>Noite</td>\n",
       "      <td>3</td>\n",
       "      <td>6.294272</td>\n",
       "      <td>Curta</td>\n",
       "    </tr>\n",
       "    <tr>\n",
       "      <th>8619</th>\n",
       "      <td>2024-01-23</td>\n",
       "      <td>2024-01-20T23:00:19Z</td>\n",
       "      <td>assunto_cities_skylines</td>\n",
       "      <td>UCL5k8vBBo1JOHh7AnvoD8xQ</td>\n",
       "      <td>JulioGameplay</td>\n",
       "      <td>d2LXShfdO9Q</td>\n",
       "      <td>perdi por 1 simples erro no buckshot roulette ...</td>\n",
       "      <td>0.980000</td>\n",
       "      <td>8976</td>\n",
       "      <td>348</td>\n",
       "      <td>11</td>\n",
       "      <td>Noite</td>\n",
       "      <td>3</td>\n",
       "      <td>3.999554</td>\n",
       "      <td>Curta</td>\n",
       "    </tr>\n",
       "    <tr>\n",
       "      <th>8622</th>\n",
       "      <td>2024-01-23</td>\n",
       "      <td>2024-01-19T13:00:30Z</td>\n",
       "      <td>assunto_cities_skylines</td>\n",
       "      <td>UCe9jrI0YQ5SM6h5QRZ9FZlA</td>\n",
       "      <td>Barbosa Cities</td>\n",
       "      <td>Q-wLBZ9OI1o</td>\n",
       "      <td>CS2 #32 | BAIRRO INTEIRO PARA TENTAR ATENDER D...</td>\n",
       "      <td>17.549999</td>\n",
       "      <td>8312</td>\n",
       "      <td>1189</td>\n",
       "      <td>52</td>\n",
       "      <td>Noite</td>\n",
       "      <td>3</td>\n",
       "      <td>14.930221</td>\n",
       "      <td>Média</td>\n",
       "    </tr>\n",
       "    <tr>\n",
       "      <th>8631</th>\n",
       "      <td>2024-01-23</td>\n",
       "      <td>2024-01-20T21:00:01Z</td>\n",
       "      <td>assunto_cities_skylines</td>\n",
       "      <td>UCL5k8vBBo1JOHh7AnvoD8xQ</td>\n",
       "      <td>JulioGameplay</td>\n",
       "      <td>alOYlPfi8dE</td>\n",
       "      <td>uma algema e um sonho parte 10 bunckshot roule...</td>\n",
       "      <td>0.670000</td>\n",
       "      <td>7707</td>\n",
       "      <td>381</td>\n",
       "      <td>8</td>\n",
       "      <td>Noite</td>\n",
       "      <td>3</td>\n",
       "      <td>5.047360</td>\n",
       "      <td>Curta</td>\n",
       "    </tr>\n",
       "    <tr>\n",
       "      <th>8635</th>\n",
       "      <td>2024-01-23</td>\n",
       "      <td>2024-01-19T01:00:16Z</td>\n",
       "      <td>assunto_cities_skylines</td>\n",
       "      <td>UCL5k8vBBo1JOHh7AnvoD8xQ</td>\n",
       "      <td>JulioGameplay</td>\n",
       "      <td>NIY0htgS6Zg</td>\n",
       "      <td>não estou deixando o inimigo jogar no Buckshot...</td>\n",
       "      <td>0.770000</td>\n",
       "      <td>7524</td>\n",
       "      <td>504</td>\n",
       "      <td>23</td>\n",
       "      <td>Noite</td>\n",
       "      <td>3</td>\n",
       "      <td>7.004253</td>\n",
       "      <td>Curta</td>\n",
       "    </tr>\n",
       "    <tr>\n",
       "      <th>8639</th>\n",
       "      <td>2024-01-23</td>\n",
       "      <td>2024-01-19T21:00:22Z</td>\n",
       "      <td>assunto_cities_skylines</td>\n",
       "      <td>UCL5k8vBBo1JOHh7AnvoD8xQ</td>\n",
       "      <td>JulioGameplay</td>\n",
       "      <td>QDzzR45EY_A</td>\n",
       "      <td>new update parte 7  Buckshot roulette #bucksho...</td>\n",
       "      <td>0.780000</td>\n",
       "      <td>7175</td>\n",
       "      <td>439</td>\n",
       "      <td>12</td>\n",
       "      <td>Noite</td>\n",
       "      <td>3</td>\n",
       "      <td>6.285714</td>\n",
       "      <td>Curta</td>\n",
       "    </tr>\n",
       "    <tr>\n",
       "      <th>8652</th>\n",
       "      <td>2024-01-23</td>\n",
       "      <td>2024-01-20T15:00:01Z</td>\n",
       "      <td>assunto_cities_skylines</td>\n",
       "      <td>UCrOH1V-FyMunBIMrKL0y0xQ</td>\n",
       "      <td>ChratosGameplay</td>\n",
       "      <td>1OAQ0TBwQ0w</td>\n",
       "      <td>INDÚSTRIA SIDERÚRGICA E USINAGEM TRAZ BOOM ECO...</td>\n",
       "      <td>29.879999</td>\n",
       "      <td>6659</td>\n",
       "      <td>992</td>\n",
       "      <td>28</td>\n",
       "      <td>Noite</td>\n",
       "      <td>3</td>\n",
       "      <td>15.317615</td>\n",
       "      <td>Média</td>\n",
       "    </tr>\n",
       "    <tr>\n",
       "      <th>8654</th>\n",
       "      <td>2024-01-23</td>\n",
       "      <td>2024-01-20T19:15:00Z</td>\n",
       "      <td>assunto_cities_skylines</td>\n",
       "      <td>UCL5k8vBBo1JOHh7AnvoD8xQ</td>\n",
       "      <td>JulioGameplay</td>\n",
       "      <td>c-00A0U1LyY</td>\n",
       "      <td>TERMO ep 1 achando a palavra NOIVA #shorts</td>\n",
       "      <td>0.980000</td>\n",
       "      <td>6569</td>\n",
       "      <td>483</td>\n",
       "      <td>12</td>\n",
       "      <td>Noite</td>\n",
       "      <td>3</td>\n",
       "      <td>7.535394</td>\n",
       "      <td>Curta</td>\n",
       "    </tr>\n",
       "    <tr>\n",
       "      <th>8662</th>\n",
       "      <td>2024-01-23</td>\n",
       "      <td>2024-01-21T14:00:38Z</td>\n",
       "      <td>assunto_cities_skylines</td>\n",
       "      <td>UCe9jrI0YQ5SM6h5QRZ9FZlA</td>\n",
       "      <td>Barbosa Cities</td>\n",
       "      <td>rWNkkdnEyng</td>\n",
       "      <td>CS2 #33 | GERANDO EMPREGO COM INDÚSTRIA MINERA...</td>\n",
       "      <td>18.570000</td>\n",
       "      <td>6186</td>\n",
       "      <td>1161</td>\n",
       "      <td>58</td>\n",
       "      <td>Noite</td>\n",
       "      <td>3</td>\n",
       "      <td>19.705787</td>\n",
       "      <td>Média</td>\n",
       "    </tr>\n",
       "    <tr>\n",
       "      <th>8669</th>\n",
       "      <td>2024-01-23</td>\n",
       "      <td>2024-01-22T15:00:08Z</td>\n",
       "      <td>assunto_cities_skylines</td>\n",
       "      <td>UCrOH1V-FyMunBIMrKL0y0xQ</td>\n",
       "      <td>ChratosGameplay</td>\n",
       "      <td>5hcsBCwxs9A</td>\n",
       "      <td>REFORMA PARA URBANIZAÇÃO E EXPANSÃO DE TRÁFEGO...</td>\n",
       "      <td>28.280001</td>\n",
       "      <td>5564</td>\n",
       "      <td>869</td>\n",
       "      <td>23</td>\n",
       "      <td>Noite</td>\n",
       "      <td>3</td>\n",
       "      <td>16.031632</td>\n",
       "      <td>Média</td>\n",
       "    </tr>\n",
       "    <tr>\n",
       "      <th>8683</th>\n",
       "      <td>2024-01-23</td>\n",
       "      <td>2024-01-17T23:00:06Z</td>\n",
       "      <td>assunto_cities_skylines</td>\n",
       "      <td>UCL5k8vBBo1JOHh7AnvoD8xQ</td>\n",
       "      <td>JulioGameplay</td>\n",
       "      <td>A9pni0TYSeM</td>\n",
       "      <td>minha gameplay no Buckshot roulette esta avanç...</td>\n",
       "      <td>0.500000</td>\n",
       "      <td>4920</td>\n",
       "      <td>277</td>\n",
       "      <td>9</td>\n",
       "      <td>Noite</td>\n",
       "      <td>3</td>\n",
       "      <td>5.813008</td>\n",
       "      <td>Curta</td>\n",
       "    </tr>\n",
       "    <tr>\n",
       "      <th>8688</th>\n",
       "      <td>2024-01-23</td>\n",
       "      <td>2024-01-17T13:00:56Z</td>\n",
       "      <td>assunto_cities_skylines</td>\n",
       "      <td>UCe9jrI0YQ5SM6h5QRZ9FZlA</td>\n",
       "      <td>Barbosa Cities</td>\n",
       "      <td>tbBIq2RY3Yc</td>\n",
       "      <td>#RIVIERA 34 | ÁREA DE PROCESSAMENTO DA FAZENDA...</td>\n",
       "      <td>24.330000</td>\n",
       "      <td>4767</td>\n",
       "      <td>822</td>\n",
       "      <td>38</td>\n",
       "      <td>Noite</td>\n",
       "      <td>3</td>\n",
       "      <td>18.040696</td>\n",
       "      <td>Média</td>\n",
       "    </tr>\n",
       "    <tr>\n",
       "      <th>8691</th>\n",
       "      <td>2024-01-23</td>\n",
       "      <td>2024-01-23T15:00:20Z</td>\n",
       "      <td>assunto_cities_skylines</td>\n",
       "      <td>UCrOH1V-FyMunBIMrKL0y0xQ</td>\n",
       "      <td>ChratosGameplay</td>\n",
       "      <td>ySUyzBe0Qjo</td>\n",
       "      <td>NOVO INCRÍVEL JOGO DE GERENCIAMENTO DE FÁBRICA...</td>\n",
       "      <td>38.299999</td>\n",
       "      <td>4607</td>\n",
       "      <td>1326</td>\n",
       "      <td>79</td>\n",
       "      <td>Noite</td>\n",
       "      <td>3</td>\n",
       "      <td>30.497070</td>\n",
       "      <td>Longa</td>\n",
       "    </tr>\n",
       "    <tr>\n",
       "      <th>8694</th>\n",
       "      <td>2024-01-23</td>\n",
       "      <td>2024-01-22T17:00:15Z</td>\n",
       "      <td>assunto_cities_skylines</td>\n",
       "      <td>UCL5k8vBBo1JOHh7AnvoD8xQ</td>\n",
       "      <td>JulioGameplay</td>\n",
       "      <td>MCQdJcFcibk</td>\n",
       "      <td>Jogando STOP com a letra A #shorts</td>\n",
       "      <td>0.730000</td>\n",
       "      <td>4442</td>\n",
       "      <td>241</td>\n",
       "      <td>21</td>\n",
       "      <td>Noite</td>\n",
       "      <td>3</td>\n",
       "      <td>5.898244</td>\n",
       "      <td>Curta</td>\n",
       "    </tr>\n",
       "    <tr>\n",
       "      <th>8716</th>\n",
       "      <td>2024-01-23</td>\n",
       "      <td>2024-01-20T18:02:00Z</td>\n",
       "      <td>assunto_cities_skylines</td>\n",
       "      <td>UCCe4Be21OPPltTTIHP4lDvg</td>\n",
       "      <td>Octopolis</td>\n",
       "      <td>F8eyXMzbpTE</td>\n",
       "      <td>SOLUÇÃO de problemas de PRODUÇÃO | HAMILTON - ...</td>\n",
       "      <td>23.170000</td>\n",
       "      <td>3544</td>\n",
       "      <td>534</td>\n",
       "      <td>38</td>\n",
       "      <td>Noite</td>\n",
       "      <td>3</td>\n",
       "      <td>16.139955</td>\n",
       "      <td>Média</td>\n",
       "    </tr>\n",
       "    <tr>\n",
       "      <th>8721</th>\n",
       "      <td>2024-01-23</td>\n",
       "      <td>2024-01-18T15:10:43Z</td>\n",
       "      <td>assunto_cities_skylines</td>\n",
       "      <td>UCDGo_s0I-2JpO3o3xlkMQVA</td>\n",
       "      <td>Simularies</td>\n",
       "      <td>1xwK-5-4Hsk</td>\n",
       "      <td>✨ COMEÇANDO A CIDADE DE ALTA VISTA! 🏙️ EP 01 |...</td>\n",
       "      <td>37.270000</td>\n",
       "      <td>3354</td>\n",
       "      <td>347</td>\n",
       "      <td>29</td>\n",
       "      <td>Noite</td>\n",
       "      <td>3</td>\n",
       "      <td>11.210495</td>\n",
       "      <td>Longa</td>\n",
       "    </tr>\n",
       "    <tr>\n",
       "      <th>8747</th>\n",
       "      <td>2024-01-23</td>\n",
       "      <td>2024-01-21T21:39:07Z</td>\n",
       "      <td>assunto_cities_skylines</td>\n",
       "      <td>UCCe4Be21OPPltTTIHP4lDvg</td>\n",
       "      <td>Octopolis</td>\n",
       "      <td>5wcfAXfymPw</td>\n",
       "      <td>DESAFIO: Cidade em uma ILHA ISOLADA | LIVE | C...</td>\n",
       "      <td>499.250000</td>\n",
       "      <td>2751</td>\n",
       "      <td>224</td>\n",
       "      <td>25</td>\n",
       "      <td>Noite</td>\n",
       "      <td>3</td>\n",
       "      <td>9.051254</td>\n",
       "      <td>Longa</td>\n",
       "    </tr>\n",
       "    <tr>\n",
       "      <th>8751</th>\n",
       "      <td>2024-01-23</td>\n",
       "      <td>2024-01-22T21:00:00Z</td>\n",
       "      <td>assunto_cities_skylines</td>\n",
       "      <td>UCL5k8vBBo1JOHh7AnvoD8xQ</td>\n",
       "      <td>JulioGameplay</td>\n",
       "      <td>25ipYar0Ulw</td>\n",
       "      <td>prefeito resolvendo os problemas da população ...</td>\n",
       "      <td>0.570000</td>\n",
       "      <td>2506</td>\n",
       "      <td>140</td>\n",
       "      <td>14</td>\n",
       "      <td>Noite</td>\n",
       "      <td>3</td>\n",
       "      <td>6.145251</td>\n",
       "      <td>Curta</td>\n",
       "    </tr>\n",
       "    <tr>\n",
       "      <th>8754</th>\n",
       "      <td>2024-01-23</td>\n",
       "      <td>2024-01-22T23:00:28Z</td>\n",
       "      <td>assunto_cities_skylines</td>\n",
       "      <td>UCL5k8vBBo1JOHh7AnvoD8xQ</td>\n",
       "      <td>JulioGameplay</td>\n",
       "      <td>wdY0TGPfrAs</td>\n",
       "      <td>aja paciencia pra jogar buckshot roulette #sho...</td>\n",
       "      <td>0.620000</td>\n",
       "      <td>2444</td>\n",
       "      <td>135</td>\n",
       "      <td>0</td>\n",
       "      <td>Noite</td>\n",
       "      <td>3</td>\n",
       "      <td>5.523732</td>\n",
       "      <td>Curta</td>\n",
       "    </tr>\n",
       "    <tr>\n",
       "      <th>8758</th>\n",
       "      <td>2024-01-23</td>\n",
       "      <td>2024-01-18T14:00:26Z</td>\n",
       "      <td>assunto_cities_skylines</td>\n",
       "      <td>UCaj6FB2mFZ2T9a61QtZsKPA</td>\n",
       "      <td>TioChuckZ</td>\n",
       "      <td>i4h08DIfjKw</td>\n",
       "      <td>Finalmente ALTA DENSIDADE! | Cities Skylines 2...</td>\n",
       "      <td>32.320000</td>\n",
       "      <td>2295</td>\n",
       "      <td>293</td>\n",
       "      <td>34</td>\n",
       "      <td>Noite</td>\n",
       "      <td>3</td>\n",
       "      <td>14.248366</td>\n",
       "      <td>Longa</td>\n",
       "    </tr>\n",
       "    <tr>\n",
       "      <th>8772</th>\n",
       "      <td>2024-01-23</td>\n",
       "      <td>2024-01-21T19:00:13Z</td>\n",
       "      <td>assunto_cities_skylines</td>\n",
       "      <td>UCL5k8vBBo1JOHh7AnvoD8xQ</td>\n",
       "      <td>JulioGameplay</td>\n",
       "      <td>Su_Fct1dBBE</td>\n",
       "      <td>achei a palavra no termo sem querer #shorts</td>\n",
       "      <td>0.680000</td>\n",
       "      <td>1984</td>\n",
       "      <td>104</td>\n",
       "      <td>2</td>\n",
       "      <td>Noite</td>\n",
       "      <td>3</td>\n",
       "      <td>5.342742</td>\n",
       "      <td>Curta</td>\n",
       "    </tr>\n",
       "    <tr>\n",
       "      <th>8775</th>\n",
       "      <td>2024-01-23</td>\n",
       "      <td>2024-01-22T15:00:54Z</td>\n",
       "      <td>assunto_cities_skylines</td>\n",
       "      <td>UCL5k8vBBo1JOHh7AnvoD8xQ</td>\n",
       "      <td>JulioGameplay</td>\n",
       "      <td>xPK8y7NidnA</td>\n",
       "      <td>Jogando TERMO sozinho, palavra ALUNO #shorts</td>\n",
       "      <td>0.630000</td>\n",
       "      <td>1929</td>\n",
       "      <td>209</td>\n",
       "      <td>12</td>\n",
       "      <td>Noite</td>\n",
       "      <td>3</td>\n",
       "      <td>11.456713</td>\n",
       "      <td>Curta</td>\n",
       "    </tr>\n",
       "    <tr>\n",
       "      <th>8831</th>\n",
       "      <td>2024-01-23</td>\n",
       "      <td>2024-01-22T19:00:32Z</td>\n",
       "      <td>assunto_cities_skylines</td>\n",
       "      <td>UCL5k8vBBo1JOHh7AnvoD8xQ</td>\n",
       "      <td>JulioGameplay</td>\n",
       "      <td>q4gfnofyqPA</td>\n",
       "      <td>Jogando CONTEXTO pela primeira VEZ #shorts</td>\n",
       "      <td>0.900000</td>\n",
       "      <td>1058</td>\n",
       "      <td>83</td>\n",
       "      <td>6</td>\n",
       "      <td>Noite</td>\n",
       "      <td>3</td>\n",
       "      <td>8.412098</td>\n",
       "      <td>Curta</td>\n",
       "    </tr>\n",
       "    <tr>\n",
       "      <th>8833</th>\n",
       "      <td>2024-01-23</td>\n",
       "      <td>2024-01-23T17:00:38Z</td>\n",
       "      <td>assunto_cities_skylines</td>\n",
       "      <td>UCL5k8vBBo1JOHh7AnvoD8xQ</td>\n",
       "      <td>JulioGameplay</td>\n",
       "      <td>lRzoqqkbcLs</td>\n",
       "      <td>achei um MINEIRO no TERMO #shorts</td>\n",
       "      <td>0.980000</td>\n",
       "      <td>1003</td>\n",
       "      <td>75</td>\n",
       "      <td>8</td>\n",
       "      <td>Noite</td>\n",
       "      <td>3</td>\n",
       "      <td>8.275174</td>\n",
       "      <td>Curta</td>\n",
       "    </tr>\n",
       "  </tbody>\n",
       "</table>\n",
       "</div>"
      ],
      "text/plain": [
       "     data_extracao       DATA_PUBLICACAO                  ASSUNTO  \\\n",
       "8784    2024-01-23  2024-01-21T15:00:20Z  assunto_cities_skylines   \n",
       "8791    2024-01-23  2024-01-17T15:00:33Z  assunto_cities_skylines   \n",
       "8795    2024-01-23  2024-01-19T23:00:14Z  assunto_cities_skylines   \n",
       "8799    2024-01-23  2024-01-19T15:00:41Z  assunto_cities_skylines   \n",
       "8809    2024-01-23  2024-01-18T01:00:03Z  assunto_cities_skylines   \n",
       "8814    2024-01-23  2024-01-18T23:00:08Z  assunto_cities_skylines   \n",
       "8815    2024-01-23  2024-01-17T21:00:03Z  assunto_cities_skylines   \n",
       "8825    2024-01-23  2024-01-18T15:00:08Z  assunto_cities_skylines   \n",
       "8611    2024-01-23  2024-01-21T23:00:01Z  assunto_cities_skylines   \n",
       "8619    2024-01-23  2024-01-20T23:00:19Z  assunto_cities_skylines   \n",
       "8622    2024-01-23  2024-01-19T13:00:30Z  assunto_cities_skylines   \n",
       "8631    2024-01-23  2024-01-20T21:00:01Z  assunto_cities_skylines   \n",
       "8635    2024-01-23  2024-01-19T01:00:16Z  assunto_cities_skylines   \n",
       "8639    2024-01-23  2024-01-19T21:00:22Z  assunto_cities_skylines   \n",
       "8652    2024-01-23  2024-01-20T15:00:01Z  assunto_cities_skylines   \n",
       "8654    2024-01-23  2024-01-20T19:15:00Z  assunto_cities_skylines   \n",
       "8662    2024-01-23  2024-01-21T14:00:38Z  assunto_cities_skylines   \n",
       "8669    2024-01-23  2024-01-22T15:00:08Z  assunto_cities_skylines   \n",
       "8683    2024-01-23  2024-01-17T23:00:06Z  assunto_cities_skylines   \n",
       "8688    2024-01-23  2024-01-17T13:00:56Z  assunto_cities_skylines   \n",
       "8691    2024-01-23  2024-01-23T15:00:20Z  assunto_cities_skylines   \n",
       "8694    2024-01-23  2024-01-22T17:00:15Z  assunto_cities_skylines   \n",
       "8716    2024-01-23  2024-01-20T18:02:00Z  assunto_cities_skylines   \n",
       "8721    2024-01-23  2024-01-18T15:10:43Z  assunto_cities_skylines   \n",
       "8747    2024-01-23  2024-01-21T21:39:07Z  assunto_cities_skylines   \n",
       "8751    2024-01-23  2024-01-22T21:00:00Z  assunto_cities_skylines   \n",
       "8754    2024-01-23  2024-01-22T23:00:28Z  assunto_cities_skylines   \n",
       "8758    2024-01-23  2024-01-18T14:00:26Z  assunto_cities_skylines   \n",
       "8772    2024-01-23  2024-01-21T19:00:13Z  assunto_cities_skylines   \n",
       "8775    2024-01-23  2024-01-22T15:00:54Z  assunto_cities_skylines   \n",
       "8831    2024-01-23  2024-01-22T19:00:32Z  assunto_cities_skylines   \n",
       "8833    2024-01-23  2024-01-23T17:00:38Z  assunto_cities_skylines   \n",
       "\n",
       "                      ID_CANAL         NM_CANAL     ID_VIDEO  \\\n",
       "8784  UCrOH1V-FyMunBIMrKL0y0xQ  ChratosGameplay  SH1pVQcObMc   \n",
       "8791  UCrOH1V-FyMunBIMrKL0y0xQ  ChratosGameplay  WEet1zBsDvk   \n",
       "8795  UCL5k8vBBo1JOHh7AnvoD8xQ    JulioGameplay  QN33FxO7Irw   \n",
       "8799  UCrOH1V-FyMunBIMrKL0y0xQ  ChratosGameplay  mGtCSlnvvIE   \n",
       "8809  UCL5k8vBBo1JOHh7AnvoD8xQ    JulioGameplay  4WrWq5vJjXk   \n",
       "8814  UCL5k8vBBo1JOHh7AnvoD8xQ    JulioGameplay  AFLjPQpxAso   \n",
       "8815  UCL5k8vBBo1JOHh7AnvoD8xQ    JulioGameplay  5QRCMkPPr2U   \n",
       "8825  UCrOH1V-FyMunBIMrKL0y0xQ  ChratosGameplay  D8mQZAv_tQU   \n",
       "8611  UCL5k8vBBo1JOHh7AnvoD8xQ    JulioGameplay  38KqRAlHM2I   \n",
       "8619  UCL5k8vBBo1JOHh7AnvoD8xQ    JulioGameplay  d2LXShfdO9Q   \n",
       "8622  UCe9jrI0YQ5SM6h5QRZ9FZlA   Barbosa Cities  Q-wLBZ9OI1o   \n",
       "8631  UCL5k8vBBo1JOHh7AnvoD8xQ    JulioGameplay  alOYlPfi8dE   \n",
       "8635  UCL5k8vBBo1JOHh7AnvoD8xQ    JulioGameplay  NIY0htgS6Zg   \n",
       "8639  UCL5k8vBBo1JOHh7AnvoD8xQ    JulioGameplay  QDzzR45EY_A   \n",
       "8652  UCrOH1V-FyMunBIMrKL0y0xQ  ChratosGameplay  1OAQ0TBwQ0w   \n",
       "8654  UCL5k8vBBo1JOHh7AnvoD8xQ    JulioGameplay  c-00A0U1LyY   \n",
       "8662  UCe9jrI0YQ5SM6h5QRZ9FZlA   Barbosa Cities  rWNkkdnEyng   \n",
       "8669  UCrOH1V-FyMunBIMrKL0y0xQ  ChratosGameplay  5hcsBCwxs9A   \n",
       "8683  UCL5k8vBBo1JOHh7AnvoD8xQ    JulioGameplay  A9pni0TYSeM   \n",
       "8688  UCe9jrI0YQ5SM6h5QRZ9FZlA   Barbosa Cities  tbBIq2RY3Yc   \n",
       "8691  UCrOH1V-FyMunBIMrKL0y0xQ  ChratosGameplay  ySUyzBe0Qjo   \n",
       "8694  UCL5k8vBBo1JOHh7AnvoD8xQ    JulioGameplay  MCQdJcFcibk   \n",
       "8716  UCCe4Be21OPPltTTIHP4lDvg        Octopolis  F8eyXMzbpTE   \n",
       "8721  UCDGo_s0I-2JpO3o3xlkMQVA       Simularies  1xwK-5-4Hsk   \n",
       "8747  UCCe4Be21OPPltTTIHP4lDvg        Octopolis  5wcfAXfymPw   \n",
       "8751  UCL5k8vBBo1JOHh7AnvoD8xQ    JulioGameplay  25ipYar0Ulw   \n",
       "8754  UCL5k8vBBo1JOHh7AnvoD8xQ    JulioGameplay  wdY0TGPfrAs   \n",
       "8758  UCaj6FB2mFZ2T9a61QtZsKPA        TioChuckZ  i4h08DIfjKw   \n",
       "8772  UCL5k8vBBo1JOHh7AnvoD8xQ    JulioGameplay  Su_Fct1dBBE   \n",
       "8775  UCL5k8vBBo1JOHh7AnvoD8xQ    JulioGameplay  xPK8y7NidnA   \n",
       "8831  UCL5k8vBBo1JOHh7AnvoD8xQ    JulioGameplay  q4gfnofyqPA   \n",
       "8833  UCL5k8vBBo1JOHh7AnvoD8xQ    JulioGameplay  lRzoqqkbcLs   \n",
       "\n",
       "                                           TITULO_VIDEO  \\\n",
       "8784  MINHA EXPERIÊNCIA COM CITIES SKYLINES 2 (FIM) ...   \n",
       "8791  PRISÃO E FBI PARA COMBATER CRIMINALIDADE 🏙️ - ...   \n",
       "8795  new update parte 8 Buckshot roulette #buckshot...   \n",
       "8799  PRIMEIRO PARQUE COM LAGOS ARTIFICAIS 🏙️ - Citi...   \n",
       "8809  MINHA SORTE ACABOU NO Buckshot roulette #bucks...   \n",
       "8814  MUITO AZAR  E POUCA SORTE Buckshot roulette #b...   \n",
       "8815  JOGANDO Buckshot roulette #buckshotroulette #s...   \n",
       "8825  ALCANÇANDO 10000 HABITANTES NA EXPANSÃO FRENÉT...   \n",
       "8611  SOU MUITO BOM NO Buckshot roulette #buckshotro...   \n",
       "8619  perdi por 1 simples erro no buckshot roulette ...   \n",
       "8622  CS2 #32 | BAIRRO INTEIRO PARA TENTAR ATENDER D...   \n",
       "8631  uma algema e um sonho parte 10 bunckshot roule...   \n",
       "8635  não estou deixando o inimigo jogar no Buckshot...   \n",
       "8639  new update parte 7  Buckshot roulette #bucksho...   \n",
       "8652  INDÚSTRIA SIDERÚRGICA E USINAGEM TRAZ BOOM ECO...   \n",
       "8654         TERMO ep 1 achando a palavra NOIVA #shorts   \n",
       "8662  CS2 #33 | GERANDO EMPREGO COM INDÚSTRIA MINERA...   \n",
       "8669  REFORMA PARA URBANIZAÇÃO E EXPANSÃO DE TRÁFEGO...   \n",
       "8683  minha gameplay no Buckshot roulette esta avanç...   \n",
       "8688  #RIVIERA 34 | ÁREA DE PROCESSAMENTO DA FAZENDA...   \n",
       "8691  NOVO INCRÍVEL JOGO DE GERENCIAMENTO DE FÁBRICA...   \n",
       "8694                 Jogando STOP com a letra A #shorts   \n",
       "8716  SOLUÇÃO de problemas de PRODUÇÃO | HAMILTON - ...   \n",
       "8721  ✨ COMEÇANDO A CIDADE DE ALTA VISTA! 🏙️ EP 01 |...   \n",
       "8747  DESAFIO: Cidade em uma ILHA ISOLADA | LIVE | C...   \n",
       "8751  prefeito resolvendo os problemas da população ...   \n",
       "8754  aja paciencia pra jogar buckshot roulette #sho...   \n",
       "8758  Finalmente ALTA DENSIDADE! | Cities Skylines 2...   \n",
       "8772        achei a palavra no termo sem querer #shorts   \n",
       "8775       Jogando TERMO sozinho, palavra ALUNO #shorts   \n",
       "8831         Jogando CONTEXTO pela primeira VEZ #shorts   \n",
       "8833                  achei um MINEIRO no TERMO #shorts   \n",
       "\n",
       "      DURACAO_VIDEO_MINUTOS  TOTAL_VISUALIZACOES  TOTAL_LIKES  \\\n",
       "8784              38.250000                15348         2256   \n",
       "8791              19.850000                13909         1936   \n",
       "8795               0.570000                13309          563   \n",
       "8799              35.099998                13189         1714   \n",
       "8809               0.620000                12268          518   \n",
       "8814               0.800000                11972          556   \n",
       "8815               0.950000                11851          671   \n",
       "8825              26.650000                10936         1328   \n",
       "8611               0.980000                 9882          609   \n",
       "8619               0.980000                 8976          348   \n",
       "8622              17.549999                 8312         1189   \n",
       "8631               0.670000                 7707          381   \n",
       "8635               0.770000                 7524          504   \n",
       "8639               0.780000                 7175          439   \n",
       "8652              29.879999                 6659          992   \n",
       "8654               0.980000                 6569          483   \n",
       "8662              18.570000                 6186         1161   \n",
       "8669              28.280001                 5564          869   \n",
       "8683               0.500000                 4920          277   \n",
       "8688              24.330000                 4767          822   \n",
       "8691              38.299999                 4607         1326   \n",
       "8694               0.730000                 4442          241   \n",
       "8716              23.170000                 3544          534   \n",
       "8721              37.270000                 3354          347   \n",
       "8747             499.250000                 2751          224   \n",
       "8751               0.570000                 2506          140   \n",
       "8754               0.620000                 2444          135   \n",
       "8758              32.320000                 2295          293   \n",
       "8772               0.680000                 1984          104   \n",
       "8775               0.630000                 1929          209   \n",
       "8831               0.900000                 1058           83   \n",
       "8833               0.980000                 1003           75   \n",
       "\n",
       "      TOTAL_COMENTARIOS TURNO_EXTRACAO  INDICE_TURNO_EXTRACAO  \\\n",
       "8784                126          Noite                      3   \n",
       "8791                 50          Noite                      3   \n",
       "8795                  6          Noite                      3   \n",
       "8799                105          Noite                      3   \n",
       "8809                  8          Noite                      3   \n",
       "8814                 13          Noite                      3   \n",
       "8815                  8          Noite                      3   \n",
       "8825                 35          Noite                      3   \n",
       "8611                 13          Noite                      3   \n",
       "8619                 11          Noite                      3   \n",
       "8622                 52          Noite                      3   \n",
       "8631                  8          Noite                      3   \n",
       "8635                 23          Noite                      3   \n",
       "8639                 12          Noite                      3   \n",
       "8652                 28          Noite                      3   \n",
       "8654                 12          Noite                      3   \n",
       "8662                 58          Noite                      3   \n",
       "8669                 23          Noite                      3   \n",
       "8683                  9          Noite                      3   \n",
       "8688                 38          Noite                      3   \n",
       "8691                 79          Noite                      3   \n",
       "8694                 21          Noite                      3   \n",
       "8716                 38          Noite                      3   \n",
       "8721                 29          Noite                      3   \n",
       "8747                 25          Noite                      3   \n",
       "8751                 14          Noite                      3   \n",
       "8754                  0          Noite                      3   \n",
       "8758                 34          Noite                      3   \n",
       "8772                  2          Noite                      3   \n",
       "8775                 12          Noite                      3   \n",
       "8831                  6          Noite                      3   \n",
       "8833                  8          Noite                      3   \n",
       "\n",
       "      TAXA_ENGAJAMENTO FAIXA_DURACAO_VIDEO  \n",
       "8784         15.519937               Longa  \n",
       "8791         14.278525               Média  \n",
       "8795          4.275302               Curta  \n",
       "8799         13.791796               Longa  \n",
       "8809          4.287577               Curta  \n",
       "8814          4.752756               Curta  \n",
       "8815          5.729474               Curta  \n",
       "8825         12.463424               Média  \n",
       "8611          6.294272               Curta  \n",
       "8619          3.999554               Curta  \n",
       "8622         14.930221               Média  \n",
       "8631          5.047360               Curta  \n",
       "8635          7.004253               Curta  \n",
       "8639          6.285714               Curta  \n",
       "8652         15.317615               Média  \n",
       "8654          7.535394               Curta  \n",
       "8662         19.705787               Média  \n",
       "8669         16.031632               Média  \n",
       "8683          5.813008               Curta  \n",
       "8688         18.040696               Média  \n",
       "8691         30.497070               Longa  \n",
       "8694          5.898244               Curta  \n",
       "8716         16.139955               Média  \n",
       "8721         11.210495               Longa  \n",
       "8747          9.051254               Longa  \n",
       "8751          6.145251               Curta  \n",
       "8754          5.523732               Curta  \n",
       "8758         14.248366               Longa  \n",
       "8772          5.342742               Curta  \n",
       "8775         11.456713               Curta  \n",
       "8831          8.412098               Curta  \n",
       "8833          8.275174               Curta  "
      ]
     },
     "execution_count": 438,
     "metadata": {},
     "output_type": "execute_result"
    }
   ],
   "source": [
    "base_video_canal['FAIXA_DURACAO_VIDEO'] = base_video_canal['DURACAO_VIDEO_MINUTOS'].apply(faixa_duracao_video).astype('string')\n",
    "base_video_canal"
   ]
  },
  {
   "cell_type": "code",
   "execution_count": 439,
   "metadata": {},
   "outputs": [
    {
     "data": {
      "text/html": [
       "<div>\n",
       "<style scoped>\n",
       "    .dataframe tbody tr th:only-of-type {\n",
       "        vertical-align: middle;\n",
       "    }\n",
       "\n",
       "    .dataframe tbody tr th {\n",
       "        vertical-align: top;\n",
       "    }\n",
       "\n",
       "    .dataframe thead th {\n",
       "        text-align: right;\n",
       "    }\n",
       "</style>\n",
       "<table border=\"1\" class=\"dataframe\">\n",
       "  <thead>\n",
       "    <tr style=\"text-align: right;\">\n",
       "      <th></th>\n",
       "      <th>DURACAO_VIDEO_MINUTOS</th>\n",
       "      <th>TOTAL_VISUALIZACOES</th>\n",
       "      <th>TOTAL_LIKES</th>\n",
       "      <th>TOTAL_COMENTARIOS</th>\n",
       "      <th>INDICE_TURNO_EXTRACAO</th>\n",
       "      <th>TAXA_ENGAJAMENTO</th>\n",
       "    </tr>\n",
       "  </thead>\n",
       "  <tbody>\n",
       "    <tr>\n",
       "      <th>count</th>\n",
       "      <td>32.000000</td>\n",
       "      <td>32.000000</td>\n",
       "      <td>32.000000</td>\n",
       "      <td>32.000000</td>\n",
       "      <td>32.0</td>\n",
       "      <td>32.000000</td>\n",
       "    </tr>\n",
       "    <tr>\n",
       "      <th>mean</th>\n",
       "      <td>27.577499</td>\n",
       "      <td>6841.875000</td>\n",
       "      <td>666.468750</td>\n",
       "      <td>28.312500</td>\n",
       "      <td>3.0</td>\n",
       "      <td>10.415794</td>\n",
       "    </tr>\n",
       "    <tr>\n",
       "      <th>std</th>\n",
       "      <td>87.270233</td>\n",
       "      <td>4227.794474</td>\n",
       "      <td>559.468007</td>\n",
       "      <td>29.280003</td>\n",
       "      <td>0.0</td>\n",
       "      <td>5.963864</td>\n",
       "    </tr>\n",
       "    <tr>\n",
       "      <th>min</th>\n",
       "      <td>0.500000</td>\n",
       "      <td>1003.000000</td>\n",
       "      <td>75.000000</td>\n",
       "      <td>0.000000</td>\n",
       "      <td>3.0</td>\n",
       "      <td>3.999554</td>\n",
       "    </tr>\n",
       "    <tr>\n",
       "      <th>25%</th>\n",
       "      <td>0.717500</td>\n",
       "      <td>3203.250000</td>\n",
       "      <td>268.000000</td>\n",
       "      <td>8.750000</td>\n",
       "      <td>3.0</td>\n",
       "      <td>5.792125</td>\n",
       "    </tr>\n",
       "    <tr>\n",
       "      <th>50%</th>\n",
       "      <td>0.980000</td>\n",
       "      <td>6377.500000</td>\n",
       "      <td>511.000000</td>\n",
       "      <td>17.500000</td>\n",
       "      <td>3.0</td>\n",
       "      <td>8.343636</td>\n",
       "    </tr>\n",
       "    <tr>\n",
       "      <th>75%</th>\n",
       "      <td>27.057500</td>\n",
       "      <td>10145.500000</td>\n",
       "      <td>899.750000</td>\n",
       "      <td>35.750000</td>\n",
       "      <td>3.0</td>\n",
       "      <td>14.441449</td>\n",
       "    </tr>\n",
       "    <tr>\n",
       "      <th>max</th>\n",
       "      <td>499.250000</td>\n",
       "      <td>15348.000000</td>\n",
       "      <td>2256.000000</td>\n",
       "      <td>126.000000</td>\n",
       "      <td>3.0</td>\n",
       "      <td>30.497070</td>\n",
       "    </tr>\n",
       "  </tbody>\n",
       "</table>\n",
       "</div>"
      ],
      "text/plain": [
       "       DURACAO_VIDEO_MINUTOS  TOTAL_VISUALIZACOES  TOTAL_LIKES  \\\n",
       "count              32.000000            32.000000    32.000000   \n",
       "mean               27.577499          6841.875000   666.468750   \n",
       "std                87.270233          4227.794474   559.468007   \n",
       "min                 0.500000          1003.000000    75.000000   \n",
       "25%                 0.717500          3203.250000   268.000000   \n",
       "50%                 0.980000          6377.500000   511.000000   \n",
       "75%                27.057500         10145.500000   899.750000   \n",
       "max               499.250000         15348.000000  2256.000000   \n",
       "\n",
       "       TOTAL_COMENTARIOS  INDICE_TURNO_EXTRACAO  TAXA_ENGAJAMENTO  \n",
       "count          32.000000                   32.0         32.000000  \n",
       "mean           28.312500                    3.0         10.415794  \n",
       "std            29.280003                    0.0          5.963864  \n",
       "min             0.000000                    3.0          3.999554  \n",
       "25%             8.750000                    3.0          5.792125  \n",
       "50%            17.500000                    3.0          8.343636  \n",
       "75%            35.750000                    3.0         14.441449  \n",
       "max           126.000000                    3.0         30.497070  "
      ]
     },
     "execution_count": 439,
     "metadata": {},
     "output_type": "execute_result"
    }
   ],
   "source": [
    "base_video_canal.describe()"
   ]
  },
  {
   "cell_type": "code",
   "execution_count": 440,
   "metadata": {},
   "outputs": [],
   "source": [
    "base_teste = base_video_canal.groupby(['FAIXA_DURACAO_VIDEO']) \\\n",
    "    .agg(\n",
    "        MEDIA_LIKES=('TOTAL_LIKES','mean'),\n",
    "        MEDIA_COMENTARIOS=('TOTAL_COMENTARIOS','mean'),\n",
    "        MEDIA_VISUALIZACOES=('TOTAL_VISUALIZACOES','mean'),\n",
    "        MEDIA_EMGAJAMENTO=('TAXA_ENGAJAMENTO','mean'),\n",
    "\n",
    "    )\n",
    "base_teste_g = base_teste.reset_index()"
   ]
  },
  {
   "cell_type": "code",
   "execution_count": 441,
   "metadata": {},
   "outputs": [
    {
     "data": {
      "application/vnd.plotly.v1+json": {
       "config": {
        "plotlyServerURL": "https://plot.ly"
       },
       "data": [
        {
         "alignmentgroup": "True",
         "hovertemplate": "MEDIA_LIKES=%{x}<br>FAIXA_DURACAO_VIDEO=%{y}<extra></extra>",
         "legendgroup": "",
         "marker": {
          "color": "#636efa",
          "pattern": {
           "shape": ""
          }
         },
         "name": "",
         "offsetgroup": "",
         "orientation": "h",
         "showlegend": false,
         "textposition": "auto",
         "type": "bar",
         "x": [
          352,
          1026.6666666666667,
          1103.875
         ],
         "xaxis": "x",
         "y": [
          "Curta",
          "Longa",
          "Média"
         ],
         "yaxis": "y"
        }
       ],
       "layout": {
        "barmode": "relative",
        "legend": {
         "tracegroupgap": 0
        },
        "margin": {
         "t": 60
        },
        "template": {
         "data": {
          "bar": [
           {
            "error_x": {
             "color": "#2a3f5f"
            },
            "error_y": {
             "color": "#2a3f5f"
            },
            "marker": {
             "line": {
              "color": "#E5ECF6",
              "width": 0.5
             },
             "pattern": {
              "fillmode": "overlay",
              "size": 10,
              "solidity": 0.2
             }
            },
            "type": "bar"
           }
          ],
          "barpolar": [
           {
            "marker": {
             "line": {
              "color": "#E5ECF6",
              "width": 0.5
             },
             "pattern": {
              "fillmode": "overlay",
              "size": 10,
              "solidity": 0.2
             }
            },
            "type": "barpolar"
           }
          ],
          "carpet": [
           {
            "aaxis": {
             "endlinecolor": "#2a3f5f",
             "gridcolor": "white",
             "linecolor": "white",
             "minorgridcolor": "white",
             "startlinecolor": "#2a3f5f"
            },
            "baxis": {
             "endlinecolor": "#2a3f5f",
             "gridcolor": "white",
             "linecolor": "white",
             "minorgridcolor": "white",
             "startlinecolor": "#2a3f5f"
            },
            "type": "carpet"
           }
          ],
          "choropleth": [
           {
            "colorbar": {
             "outlinewidth": 0,
             "ticks": ""
            },
            "type": "choropleth"
           }
          ],
          "contour": [
           {
            "colorbar": {
             "outlinewidth": 0,
             "ticks": ""
            },
            "colorscale": [
             [
              0,
              "#0d0887"
             ],
             [
              0.1111111111111111,
              "#46039f"
             ],
             [
              0.2222222222222222,
              "#7201a8"
             ],
             [
              0.3333333333333333,
              "#9c179e"
             ],
             [
              0.4444444444444444,
              "#bd3786"
             ],
             [
              0.5555555555555556,
              "#d8576b"
             ],
             [
              0.6666666666666666,
              "#ed7953"
             ],
             [
              0.7777777777777778,
              "#fb9f3a"
             ],
             [
              0.8888888888888888,
              "#fdca26"
             ],
             [
              1,
              "#f0f921"
             ]
            ],
            "type": "contour"
           }
          ],
          "contourcarpet": [
           {
            "colorbar": {
             "outlinewidth": 0,
             "ticks": ""
            },
            "type": "contourcarpet"
           }
          ],
          "heatmap": [
           {
            "colorbar": {
             "outlinewidth": 0,
             "ticks": ""
            },
            "colorscale": [
             [
              0,
              "#0d0887"
             ],
             [
              0.1111111111111111,
              "#46039f"
             ],
             [
              0.2222222222222222,
              "#7201a8"
             ],
             [
              0.3333333333333333,
              "#9c179e"
             ],
             [
              0.4444444444444444,
              "#bd3786"
             ],
             [
              0.5555555555555556,
              "#d8576b"
             ],
             [
              0.6666666666666666,
              "#ed7953"
             ],
             [
              0.7777777777777778,
              "#fb9f3a"
             ],
             [
              0.8888888888888888,
              "#fdca26"
             ],
             [
              1,
              "#f0f921"
             ]
            ],
            "type": "heatmap"
           }
          ],
          "heatmapgl": [
           {
            "colorbar": {
             "outlinewidth": 0,
             "ticks": ""
            },
            "colorscale": [
             [
              0,
              "#0d0887"
             ],
             [
              0.1111111111111111,
              "#46039f"
             ],
             [
              0.2222222222222222,
              "#7201a8"
             ],
             [
              0.3333333333333333,
              "#9c179e"
             ],
             [
              0.4444444444444444,
              "#bd3786"
             ],
             [
              0.5555555555555556,
              "#d8576b"
             ],
             [
              0.6666666666666666,
              "#ed7953"
             ],
             [
              0.7777777777777778,
              "#fb9f3a"
             ],
             [
              0.8888888888888888,
              "#fdca26"
             ],
             [
              1,
              "#f0f921"
             ]
            ],
            "type": "heatmapgl"
           }
          ],
          "histogram": [
           {
            "marker": {
             "pattern": {
              "fillmode": "overlay",
              "size": 10,
              "solidity": 0.2
             }
            },
            "type": "histogram"
           }
          ],
          "histogram2d": [
           {
            "colorbar": {
             "outlinewidth": 0,
             "ticks": ""
            },
            "colorscale": [
             [
              0,
              "#0d0887"
             ],
             [
              0.1111111111111111,
              "#46039f"
             ],
             [
              0.2222222222222222,
              "#7201a8"
             ],
             [
              0.3333333333333333,
              "#9c179e"
             ],
             [
              0.4444444444444444,
              "#bd3786"
             ],
             [
              0.5555555555555556,
              "#d8576b"
             ],
             [
              0.6666666666666666,
              "#ed7953"
             ],
             [
              0.7777777777777778,
              "#fb9f3a"
             ],
             [
              0.8888888888888888,
              "#fdca26"
             ],
             [
              1,
              "#f0f921"
             ]
            ],
            "type": "histogram2d"
           }
          ],
          "histogram2dcontour": [
           {
            "colorbar": {
             "outlinewidth": 0,
             "ticks": ""
            },
            "colorscale": [
             [
              0,
              "#0d0887"
             ],
             [
              0.1111111111111111,
              "#46039f"
             ],
             [
              0.2222222222222222,
              "#7201a8"
             ],
             [
              0.3333333333333333,
              "#9c179e"
             ],
             [
              0.4444444444444444,
              "#bd3786"
             ],
             [
              0.5555555555555556,
              "#d8576b"
             ],
             [
              0.6666666666666666,
              "#ed7953"
             ],
             [
              0.7777777777777778,
              "#fb9f3a"
             ],
             [
              0.8888888888888888,
              "#fdca26"
             ],
             [
              1,
              "#f0f921"
             ]
            ],
            "type": "histogram2dcontour"
           }
          ],
          "mesh3d": [
           {
            "colorbar": {
             "outlinewidth": 0,
             "ticks": ""
            },
            "type": "mesh3d"
           }
          ],
          "parcoords": [
           {
            "line": {
             "colorbar": {
              "outlinewidth": 0,
              "ticks": ""
             }
            },
            "type": "parcoords"
           }
          ],
          "pie": [
           {
            "automargin": true,
            "type": "pie"
           }
          ],
          "scatter": [
           {
            "fillpattern": {
             "fillmode": "overlay",
             "size": 10,
             "solidity": 0.2
            },
            "type": "scatter"
           }
          ],
          "scatter3d": [
           {
            "line": {
             "colorbar": {
              "outlinewidth": 0,
              "ticks": ""
             }
            },
            "marker": {
             "colorbar": {
              "outlinewidth": 0,
              "ticks": ""
             }
            },
            "type": "scatter3d"
           }
          ],
          "scattercarpet": [
           {
            "marker": {
             "colorbar": {
              "outlinewidth": 0,
              "ticks": ""
             }
            },
            "type": "scattercarpet"
           }
          ],
          "scattergeo": [
           {
            "marker": {
             "colorbar": {
              "outlinewidth": 0,
              "ticks": ""
             }
            },
            "type": "scattergeo"
           }
          ],
          "scattergl": [
           {
            "marker": {
             "colorbar": {
              "outlinewidth": 0,
              "ticks": ""
             }
            },
            "type": "scattergl"
           }
          ],
          "scattermapbox": [
           {
            "marker": {
             "colorbar": {
              "outlinewidth": 0,
              "ticks": ""
             }
            },
            "type": "scattermapbox"
           }
          ],
          "scatterpolar": [
           {
            "marker": {
             "colorbar": {
              "outlinewidth": 0,
              "ticks": ""
             }
            },
            "type": "scatterpolar"
           }
          ],
          "scatterpolargl": [
           {
            "marker": {
             "colorbar": {
              "outlinewidth": 0,
              "ticks": ""
             }
            },
            "type": "scatterpolargl"
           }
          ],
          "scatterternary": [
           {
            "marker": {
             "colorbar": {
              "outlinewidth": 0,
              "ticks": ""
             }
            },
            "type": "scatterternary"
           }
          ],
          "surface": [
           {
            "colorbar": {
             "outlinewidth": 0,
             "ticks": ""
            },
            "colorscale": [
             [
              0,
              "#0d0887"
             ],
             [
              0.1111111111111111,
              "#46039f"
             ],
             [
              0.2222222222222222,
              "#7201a8"
             ],
             [
              0.3333333333333333,
              "#9c179e"
             ],
             [
              0.4444444444444444,
              "#bd3786"
             ],
             [
              0.5555555555555556,
              "#d8576b"
             ],
             [
              0.6666666666666666,
              "#ed7953"
             ],
             [
              0.7777777777777778,
              "#fb9f3a"
             ],
             [
              0.8888888888888888,
              "#fdca26"
             ],
             [
              1,
              "#f0f921"
             ]
            ],
            "type": "surface"
           }
          ],
          "table": [
           {
            "cells": {
             "fill": {
              "color": "#EBF0F8"
             },
             "line": {
              "color": "white"
             }
            },
            "header": {
             "fill": {
              "color": "#C8D4E3"
             },
             "line": {
              "color": "white"
             }
            },
            "type": "table"
           }
          ]
         },
         "layout": {
          "annotationdefaults": {
           "arrowcolor": "#2a3f5f",
           "arrowhead": 0,
           "arrowwidth": 1
          },
          "autotypenumbers": "strict",
          "coloraxis": {
           "colorbar": {
            "outlinewidth": 0,
            "ticks": ""
           }
          },
          "colorscale": {
           "diverging": [
            [
             0,
             "#8e0152"
            ],
            [
             0.1,
             "#c51b7d"
            ],
            [
             0.2,
             "#de77ae"
            ],
            [
             0.3,
             "#f1b6da"
            ],
            [
             0.4,
             "#fde0ef"
            ],
            [
             0.5,
             "#f7f7f7"
            ],
            [
             0.6,
             "#e6f5d0"
            ],
            [
             0.7,
             "#b8e186"
            ],
            [
             0.8,
             "#7fbc41"
            ],
            [
             0.9,
             "#4d9221"
            ],
            [
             1,
             "#276419"
            ]
           ],
           "sequential": [
            [
             0,
             "#0d0887"
            ],
            [
             0.1111111111111111,
             "#46039f"
            ],
            [
             0.2222222222222222,
             "#7201a8"
            ],
            [
             0.3333333333333333,
             "#9c179e"
            ],
            [
             0.4444444444444444,
             "#bd3786"
            ],
            [
             0.5555555555555556,
             "#d8576b"
            ],
            [
             0.6666666666666666,
             "#ed7953"
            ],
            [
             0.7777777777777778,
             "#fb9f3a"
            ],
            [
             0.8888888888888888,
             "#fdca26"
            ],
            [
             1,
             "#f0f921"
            ]
           ],
           "sequentialminus": [
            [
             0,
             "#0d0887"
            ],
            [
             0.1111111111111111,
             "#46039f"
            ],
            [
             0.2222222222222222,
             "#7201a8"
            ],
            [
             0.3333333333333333,
             "#9c179e"
            ],
            [
             0.4444444444444444,
             "#bd3786"
            ],
            [
             0.5555555555555556,
             "#d8576b"
            ],
            [
             0.6666666666666666,
             "#ed7953"
            ],
            [
             0.7777777777777778,
             "#fb9f3a"
            ],
            [
             0.8888888888888888,
             "#fdca26"
            ],
            [
             1,
             "#f0f921"
            ]
           ]
          },
          "colorway": [
           "#636efa",
           "#EF553B",
           "#00cc96",
           "#ab63fa",
           "#FFA15A",
           "#19d3f3",
           "#FF6692",
           "#B6E880",
           "#FF97FF",
           "#FECB52"
          ],
          "font": {
           "color": "#2a3f5f"
          },
          "geo": {
           "bgcolor": "white",
           "lakecolor": "white",
           "landcolor": "#E5ECF6",
           "showlakes": true,
           "showland": true,
           "subunitcolor": "white"
          },
          "hoverlabel": {
           "align": "left"
          },
          "hovermode": "closest",
          "mapbox": {
           "style": "light"
          },
          "paper_bgcolor": "white",
          "plot_bgcolor": "#E5ECF6",
          "polar": {
           "angularaxis": {
            "gridcolor": "white",
            "linecolor": "white",
            "ticks": ""
           },
           "bgcolor": "#E5ECF6",
           "radialaxis": {
            "gridcolor": "white",
            "linecolor": "white",
            "ticks": ""
           }
          },
          "scene": {
           "xaxis": {
            "backgroundcolor": "#E5ECF6",
            "gridcolor": "white",
            "gridwidth": 2,
            "linecolor": "white",
            "showbackground": true,
            "ticks": "",
            "zerolinecolor": "white"
           },
           "yaxis": {
            "backgroundcolor": "#E5ECF6",
            "gridcolor": "white",
            "gridwidth": 2,
            "linecolor": "white",
            "showbackground": true,
            "ticks": "",
            "zerolinecolor": "white"
           },
           "zaxis": {
            "backgroundcolor": "#E5ECF6",
            "gridcolor": "white",
            "gridwidth": 2,
            "linecolor": "white",
            "showbackground": true,
            "ticks": "",
            "zerolinecolor": "white"
           }
          },
          "shapedefaults": {
           "line": {
            "color": "#2a3f5f"
           }
          },
          "ternary": {
           "aaxis": {
            "gridcolor": "white",
            "linecolor": "white",
            "ticks": ""
           },
           "baxis": {
            "gridcolor": "white",
            "linecolor": "white",
            "ticks": ""
           },
           "bgcolor": "#E5ECF6",
           "caxis": {
            "gridcolor": "white",
            "linecolor": "white",
            "ticks": ""
           }
          },
          "title": {
           "x": 0.05
          },
          "xaxis": {
           "automargin": true,
           "gridcolor": "white",
           "linecolor": "white",
           "ticks": "",
           "title": {
            "standoff": 15
           },
           "zerolinecolor": "white",
           "zerolinewidth": 2
          },
          "yaxis": {
           "automargin": true,
           "gridcolor": "white",
           "linecolor": "white",
           "ticks": "",
           "title": {
            "standoff": 15
           },
           "zerolinecolor": "white",
           "zerolinewidth": 2
          }
         }
        },
        "xaxis": {
         "anchor": "y",
         "domain": [
          0,
          1
         ],
         "title": {
          "text": "MEDIA_LIKES"
         }
        },
        "yaxis": {
         "anchor": "x",
         "domain": [
          0,
          1
         ],
         "title": {
          "text": "FAIXA_DURACAO_VIDEO"
         }
        }
       }
      }
     },
     "metadata": {},
     "output_type": "display_data"
    }
   ],
   "source": [
    "fig = px.bar(base_teste_g, x='MEDIA_LIKES', y='FAIXA_DURACAO_VIDEO', orientation='h')\n",
    "fig.show()"
   ]
  },
  {
   "cell_type": "code",
   "execution_count": 442,
   "metadata": {},
   "outputs": [
    {
     "data": {
      "text/html": [
       "<div>\n",
       "<style scoped>\n",
       "    .dataframe tbody tr th:only-of-type {\n",
       "        vertical-align: middle;\n",
       "    }\n",
       "\n",
       "    .dataframe tbody tr th {\n",
       "        vertical-align: top;\n",
       "    }\n",
       "\n",
       "    .dataframe thead th {\n",
       "        text-align: right;\n",
       "    }\n",
       "</style>\n",
       "<table border=\"1\" class=\"dataframe\">\n",
       "  <thead>\n",
       "    <tr style=\"text-align: right;\">\n",
       "      <th></th>\n",
       "      <th>MEDIA_LIKES</th>\n",
       "      <th>MEDIA_COMENTARIOS</th>\n",
       "      <th>MEDIA_VISUALIZACOES</th>\n",
       "      <th>MEDIA_EMGAJAMENTO</th>\n",
       "    </tr>\n",
       "  </thead>\n",
       "  <tbody>\n",
       "    <tr>\n",
       "      <th>MEDIA_LIKES</th>\n",
       "      <td>1.000000</td>\n",
       "      <td>0.837793</td>\n",
       "      <td>0.862937</td>\n",
       "      <td>0.996765</td>\n",
       "    </tr>\n",
       "    <tr>\n",
       "      <th>MEDIA_COMENTARIOS</th>\n",
       "      <td>0.837793</td>\n",
       "      <td>1.000000</td>\n",
       "      <td>0.447067</td>\n",
       "      <td>0.878967</td>\n",
       "    </tr>\n",
       "    <tr>\n",
       "      <th>MEDIA_VISUALIZACOES</th>\n",
       "      <td>0.862937</td>\n",
       "      <td>0.447067</td>\n",
       "      <td>1.000000</td>\n",
       "      <td>0.819529</td>\n",
       "    </tr>\n",
       "    <tr>\n",
       "      <th>MEDIA_EMGAJAMENTO</th>\n",
       "      <td>0.996765</td>\n",
       "      <td>0.878967</td>\n",
       "      <td>0.819529</td>\n",
       "      <td>1.000000</td>\n",
       "    </tr>\n",
       "  </tbody>\n",
       "</table>\n",
       "</div>"
      ],
      "text/plain": [
       "                     MEDIA_LIKES  MEDIA_COMENTARIOS  MEDIA_VISUALIZACOES  \\\n",
       "MEDIA_LIKES             1.000000           0.837793             0.862937   \n",
       "MEDIA_COMENTARIOS       0.837793           1.000000             0.447067   \n",
       "MEDIA_VISUALIZACOES     0.862937           0.447067             1.000000   \n",
       "MEDIA_EMGAJAMENTO       0.996765           0.878967             0.819529   \n",
       "\n",
       "                     MEDIA_EMGAJAMENTO  \n",
       "MEDIA_LIKES                   0.996765  \n",
       "MEDIA_COMENTARIOS             0.878967  \n",
       "MEDIA_VISUALIZACOES           0.819529  \n",
       "MEDIA_EMGAJAMENTO             1.000000  "
      ]
     },
     "execution_count": 442,
     "metadata": {},
     "output_type": "execute_result"
    }
   ],
   "source": [
    "base_teste.corr()"
   ]
  },
  {
   "cell_type": "code",
   "execution_count": 443,
   "metadata": {},
   "outputs": [
    {
     "data": {
      "application/vnd.plotly.v1+json": {
       "config": {
        "plotlyServerURL": "https://plot.ly"
       },
       "data": [
        {
         "coloraxis": "coloraxis",
         "hovertemplate": "x: %{x}<br>y: %{y}<br>color: %{z}<extra></extra>",
         "name": "0",
         "texttemplate": "%{z}",
         "type": "heatmap",
         "x": [
          "MEDIA_LIKES",
          "MEDIA_COMENTARIOS",
          "MEDIA_VISUALIZACOES",
          "MEDIA_EMGAJAMENTO"
         ],
         "xaxis": "x",
         "y": [
          "MEDIA_LIKES",
          "MEDIA_COMENTARIOS",
          "MEDIA_VISUALIZACOES",
          "MEDIA_EMGAJAMENTO"
         ],
         "yaxis": "y",
         "z": [
          [
           100,
           83.77926993739686,
           86.2936633339594,
           99.67645468352063
          ],
          [
           83.77926993739686,
           100,
           44.706741255041074,
           87.89668930054334
          ],
          [
           86.2936633339594,
           44.706741255041074,
           100,
           81.95292430694072
          ],
          [
           99.67645468352063,
           87.89668930054334,
           81.95292430694072,
           100
          ]
         ]
        }
       ],
       "layout": {
        "coloraxis": {
         "colorscale": [
          [
           0,
           "#0d0887"
          ],
          [
           0.1111111111111111,
           "#46039f"
          ],
          [
           0.2222222222222222,
           "#7201a8"
          ],
          [
           0.3333333333333333,
           "#9c179e"
          ],
          [
           0.4444444444444444,
           "#bd3786"
          ],
          [
           0.5555555555555556,
           "#d8576b"
          ],
          [
           0.6666666666666666,
           "#ed7953"
          ],
          [
           0.7777777777777778,
           "#fb9f3a"
          ],
          [
           0.8888888888888888,
           "#fdca26"
          ],
          [
           1,
           "#f0f921"
          ]
         ]
        },
        "margin": {
         "t": 60
        },
        "template": {
         "data": {
          "bar": [
           {
            "error_x": {
             "color": "#2a3f5f"
            },
            "error_y": {
             "color": "#2a3f5f"
            },
            "marker": {
             "line": {
              "color": "#E5ECF6",
              "width": 0.5
             },
             "pattern": {
              "fillmode": "overlay",
              "size": 10,
              "solidity": 0.2
             }
            },
            "type": "bar"
           }
          ],
          "barpolar": [
           {
            "marker": {
             "line": {
              "color": "#E5ECF6",
              "width": 0.5
             },
             "pattern": {
              "fillmode": "overlay",
              "size": 10,
              "solidity": 0.2
             }
            },
            "type": "barpolar"
           }
          ],
          "carpet": [
           {
            "aaxis": {
             "endlinecolor": "#2a3f5f",
             "gridcolor": "white",
             "linecolor": "white",
             "minorgridcolor": "white",
             "startlinecolor": "#2a3f5f"
            },
            "baxis": {
             "endlinecolor": "#2a3f5f",
             "gridcolor": "white",
             "linecolor": "white",
             "minorgridcolor": "white",
             "startlinecolor": "#2a3f5f"
            },
            "type": "carpet"
           }
          ],
          "choropleth": [
           {
            "colorbar": {
             "outlinewidth": 0,
             "ticks": ""
            },
            "type": "choropleth"
           }
          ],
          "contour": [
           {
            "colorbar": {
             "outlinewidth": 0,
             "ticks": ""
            },
            "colorscale": [
             [
              0,
              "#0d0887"
             ],
             [
              0.1111111111111111,
              "#46039f"
             ],
             [
              0.2222222222222222,
              "#7201a8"
             ],
             [
              0.3333333333333333,
              "#9c179e"
             ],
             [
              0.4444444444444444,
              "#bd3786"
             ],
             [
              0.5555555555555556,
              "#d8576b"
             ],
             [
              0.6666666666666666,
              "#ed7953"
             ],
             [
              0.7777777777777778,
              "#fb9f3a"
             ],
             [
              0.8888888888888888,
              "#fdca26"
             ],
             [
              1,
              "#f0f921"
             ]
            ],
            "type": "contour"
           }
          ],
          "contourcarpet": [
           {
            "colorbar": {
             "outlinewidth": 0,
             "ticks": ""
            },
            "type": "contourcarpet"
           }
          ],
          "heatmap": [
           {
            "colorbar": {
             "outlinewidth": 0,
             "ticks": ""
            },
            "colorscale": [
             [
              0,
              "#0d0887"
             ],
             [
              0.1111111111111111,
              "#46039f"
             ],
             [
              0.2222222222222222,
              "#7201a8"
             ],
             [
              0.3333333333333333,
              "#9c179e"
             ],
             [
              0.4444444444444444,
              "#bd3786"
             ],
             [
              0.5555555555555556,
              "#d8576b"
             ],
             [
              0.6666666666666666,
              "#ed7953"
             ],
             [
              0.7777777777777778,
              "#fb9f3a"
             ],
             [
              0.8888888888888888,
              "#fdca26"
             ],
             [
              1,
              "#f0f921"
             ]
            ],
            "type": "heatmap"
           }
          ],
          "heatmapgl": [
           {
            "colorbar": {
             "outlinewidth": 0,
             "ticks": ""
            },
            "colorscale": [
             [
              0,
              "#0d0887"
             ],
             [
              0.1111111111111111,
              "#46039f"
             ],
             [
              0.2222222222222222,
              "#7201a8"
             ],
             [
              0.3333333333333333,
              "#9c179e"
             ],
             [
              0.4444444444444444,
              "#bd3786"
             ],
             [
              0.5555555555555556,
              "#d8576b"
             ],
             [
              0.6666666666666666,
              "#ed7953"
             ],
             [
              0.7777777777777778,
              "#fb9f3a"
             ],
             [
              0.8888888888888888,
              "#fdca26"
             ],
             [
              1,
              "#f0f921"
             ]
            ],
            "type": "heatmapgl"
           }
          ],
          "histogram": [
           {
            "marker": {
             "pattern": {
              "fillmode": "overlay",
              "size": 10,
              "solidity": 0.2
             }
            },
            "type": "histogram"
           }
          ],
          "histogram2d": [
           {
            "colorbar": {
             "outlinewidth": 0,
             "ticks": ""
            },
            "colorscale": [
             [
              0,
              "#0d0887"
             ],
             [
              0.1111111111111111,
              "#46039f"
             ],
             [
              0.2222222222222222,
              "#7201a8"
             ],
             [
              0.3333333333333333,
              "#9c179e"
             ],
             [
              0.4444444444444444,
              "#bd3786"
             ],
             [
              0.5555555555555556,
              "#d8576b"
             ],
             [
              0.6666666666666666,
              "#ed7953"
             ],
             [
              0.7777777777777778,
              "#fb9f3a"
             ],
             [
              0.8888888888888888,
              "#fdca26"
             ],
             [
              1,
              "#f0f921"
             ]
            ],
            "type": "histogram2d"
           }
          ],
          "histogram2dcontour": [
           {
            "colorbar": {
             "outlinewidth": 0,
             "ticks": ""
            },
            "colorscale": [
             [
              0,
              "#0d0887"
             ],
             [
              0.1111111111111111,
              "#46039f"
             ],
             [
              0.2222222222222222,
              "#7201a8"
             ],
             [
              0.3333333333333333,
              "#9c179e"
             ],
             [
              0.4444444444444444,
              "#bd3786"
             ],
             [
              0.5555555555555556,
              "#d8576b"
             ],
             [
              0.6666666666666666,
              "#ed7953"
             ],
             [
              0.7777777777777778,
              "#fb9f3a"
             ],
             [
              0.8888888888888888,
              "#fdca26"
             ],
             [
              1,
              "#f0f921"
             ]
            ],
            "type": "histogram2dcontour"
           }
          ],
          "mesh3d": [
           {
            "colorbar": {
             "outlinewidth": 0,
             "ticks": ""
            },
            "type": "mesh3d"
           }
          ],
          "parcoords": [
           {
            "line": {
             "colorbar": {
              "outlinewidth": 0,
              "ticks": ""
             }
            },
            "type": "parcoords"
           }
          ],
          "pie": [
           {
            "automargin": true,
            "type": "pie"
           }
          ],
          "scatter": [
           {
            "fillpattern": {
             "fillmode": "overlay",
             "size": 10,
             "solidity": 0.2
            },
            "type": "scatter"
           }
          ],
          "scatter3d": [
           {
            "line": {
             "colorbar": {
              "outlinewidth": 0,
              "ticks": ""
             }
            },
            "marker": {
             "colorbar": {
              "outlinewidth": 0,
              "ticks": ""
             }
            },
            "type": "scatter3d"
           }
          ],
          "scattercarpet": [
           {
            "marker": {
             "colorbar": {
              "outlinewidth": 0,
              "ticks": ""
             }
            },
            "type": "scattercarpet"
           }
          ],
          "scattergeo": [
           {
            "marker": {
             "colorbar": {
              "outlinewidth": 0,
              "ticks": ""
             }
            },
            "type": "scattergeo"
           }
          ],
          "scattergl": [
           {
            "marker": {
             "colorbar": {
              "outlinewidth": 0,
              "ticks": ""
             }
            },
            "type": "scattergl"
           }
          ],
          "scattermapbox": [
           {
            "marker": {
             "colorbar": {
              "outlinewidth": 0,
              "ticks": ""
             }
            },
            "type": "scattermapbox"
           }
          ],
          "scatterpolar": [
           {
            "marker": {
             "colorbar": {
              "outlinewidth": 0,
              "ticks": ""
             }
            },
            "type": "scatterpolar"
           }
          ],
          "scatterpolargl": [
           {
            "marker": {
             "colorbar": {
              "outlinewidth": 0,
              "ticks": ""
             }
            },
            "type": "scatterpolargl"
           }
          ],
          "scatterternary": [
           {
            "marker": {
             "colorbar": {
              "outlinewidth": 0,
              "ticks": ""
             }
            },
            "type": "scatterternary"
           }
          ],
          "surface": [
           {
            "colorbar": {
             "outlinewidth": 0,
             "ticks": ""
            },
            "colorscale": [
             [
              0,
              "#0d0887"
             ],
             [
              0.1111111111111111,
              "#46039f"
             ],
             [
              0.2222222222222222,
              "#7201a8"
             ],
             [
              0.3333333333333333,
              "#9c179e"
             ],
             [
              0.4444444444444444,
              "#bd3786"
             ],
             [
              0.5555555555555556,
              "#d8576b"
             ],
             [
              0.6666666666666666,
              "#ed7953"
             ],
             [
              0.7777777777777778,
              "#fb9f3a"
             ],
             [
              0.8888888888888888,
              "#fdca26"
             ],
             [
              1,
              "#f0f921"
             ]
            ],
            "type": "surface"
           }
          ],
          "table": [
           {
            "cells": {
             "fill": {
              "color": "#EBF0F8"
             },
             "line": {
              "color": "white"
             }
            },
            "header": {
             "fill": {
              "color": "#C8D4E3"
             },
             "line": {
              "color": "white"
             }
            },
            "type": "table"
           }
          ]
         },
         "layout": {
          "annotationdefaults": {
           "arrowcolor": "#2a3f5f",
           "arrowhead": 0,
           "arrowwidth": 1
          },
          "autotypenumbers": "strict",
          "coloraxis": {
           "colorbar": {
            "outlinewidth": 0,
            "ticks": ""
           }
          },
          "colorscale": {
           "diverging": [
            [
             0,
             "#8e0152"
            ],
            [
             0.1,
             "#c51b7d"
            ],
            [
             0.2,
             "#de77ae"
            ],
            [
             0.3,
             "#f1b6da"
            ],
            [
             0.4,
             "#fde0ef"
            ],
            [
             0.5,
             "#f7f7f7"
            ],
            [
             0.6,
             "#e6f5d0"
            ],
            [
             0.7,
             "#b8e186"
            ],
            [
             0.8,
             "#7fbc41"
            ],
            [
             0.9,
             "#4d9221"
            ],
            [
             1,
             "#276419"
            ]
           ],
           "sequential": [
            [
             0,
             "#0d0887"
            ],
            [
             0.1111111111111111,
             "#46039f"
            ],
            [
             0.2222222222222222,
             "#7201a8"
            ],
            [
             0.3333333333333333,
             "#9c179e"
            ],
            [
             0.4444444444444444,
             "#bd3786"
            ],
            [
             0.5555555555555556,
             "#d8576b"
            ],
            [
             0.6666666666666666,
             "#ed7953"
            ],
            [
             0.7777777777777778,
             "#fb9f3a"
            ],
            [
             0.8888888888888888,
             "#fdca26"
            ],
            [
             1,
             "#f0f921"
            ]
           ],
           "sequentialminus": [
            [
             0,
             "#0d0887"
            ],
            [
             0.1111111111111111,
             "#46039f"
            ],
            [
             0.2222222222222222,
             "#7201a8"
            ],
            [
             0.3333333333333333,
             "#9c179e"
            ],
            [
             0.4444444444444444,
             "#bd3786"
            ],
            [
             0.5555555555555556,
             "#d8576b"
            ],
            [
             0.6666666666666666,
             "#ed7953"
            ],
            [
             0.7777777777777778,
             "#fb9f3a"
            ],
            [
             0.8888888888888888,
             "#fdca26"
            ],
            [
             1,
             "#f0f921"
            ]
           ]
          },
          "colorway": [
           "#636efa",
           "#EF553B",
           "#00cc96",
           "#ab63fa",
           "#FFA15A",
           "#19d3f3",
           "#FF6692",
           "#B6E880",
           "#FF97FF",
           "#FECB52"
          ],
          "font": {
           "color": "#2a3f5f"
          },
          "geo": {
           "bgcolor": "white",
           "lakecolor": "white",
           "landcolor": "#E5ECF6",
           "showlakes": true,
           "showland": true,
           "subunitcolor": "white"
          },
          "hoverlabel": {
           "align": "left"
          },
          "hovermode": "closest",
          "mapbox": {
           "style": "light"
          },
          "paper_bgcolor": "white",
          "plot_bgcolor": "#E5ECF6",
          "polar": {
           "angularaxis": {
            "gridcolor": "white",
            "linecolor": "white",
            "ticks": ""
           },
           "bgcolor": "#E5ECF6",
           "radialaxis": {
            "gridcolor": "white",
            "linecolor": "white",
            "ticks": ""
           }
          },
          "scene": {
           "xaxis": {
            "backgroundcolor": "#E5ECF6",
            "gridcolor": "white",
            "gridwidth": 2,
            "linecolor": "white",
            "showbackground": true,
            "ticks": "",
            "zerolinecolor": "white"
           },
           "yaxis": {
            "backgroundcolor": "#E5ECF6",
            "gridcolor": "white",
            "gridwidth": 2,
            "linecolor": "white",
            "showbackground": true,
            "ticks": "",
            "zerolinecolor": "white"
           },
           "zaxis": {
            "backgroundcolor": "#E5ECF6",
            "gridcolor": "white",
            "gridwidth": 2,
            "linecolor": "white",
            "showbackground": true,
            "ticks": "",
            "zerolinecolor": "white"
           }
          },
          "shapedefaults": {
           "line": {
            "color": "#2a3f5f"
           }
          },
          "ternary": {
           "aaxis": {
            "gridcolor": "white",
            "linecolor": "white",
            "ticks": ""
           },
           "baxis": {
            "gridcolor": "white",
            "linecolor": "white",
            "ticks": ""
           },
           "bgcolor": "#E5ECF6",
           "caxis": {
            "gridcolor": "white",
            "linecolor": "white",
            "ticks": ""
           }
          },
          "title": {
           "x": 0.05
          },
          "xaxis": {
           "automargin": true,
           "gridcolor": "white",
           "linecolor": "white",
           "ticks": "",
           "title": {
            "standoff": 15
           },
           "zerolinecolor": "white",
           "zerolinewidth": 2
          },
          "yaxis": {
           "automargin": true,
           "gridcolor": "white",
           "linecolor": "white",
           "ticks": "",
           "title": {
            "standoff": 15
           },
           "zerolinecolor": "white",
           "zerolinewidth": 2
          }
         }
        },
        "xaxis": {
         "anchor": "y",
         "constrain": "domain",
         "domain": [
          0,
          1
         ],
         "scaleanchor": "y"
        },
        "yaxis": {
         "anchor": "x",
         "autorange": "reversed",
         "constrain": "domain",
         "domain": [
          0,
          1
         ]
        }
       }
      }
     },
     "metadata": {},
     "output_type": "display_data"
    }
   ],
   "source": [
    "fig = px.imshow(base_teste.corr() *100, text_auto=True)\n",
    "fig.show()"
   ]
  },
  {
   "cell_type": "code",
   "execution_count": 444,
   "metadata": {},
   "outputs": [
    {
     "data": {
      "text/html": [
       "<div>\n",
       "<style scoped>\n",
       "    .dataframe tbody tr th:only-of-type {\n",
       "        vertical-align: middle;\n",
       "    }\n",
       "\n",
       "    .dataframe tbody tr th {\n",
       "        vertical-align: top;\n",
       "    }\n",
       "\n",
       "    .dataframe thead th {\n",
       "        text-align: right;\n",
       "    }\n",
       "</style>\n",
       "<table border=\"1\" class=\"dataframe\">\n",
       "  <thead>\n",
       "    <tr style=\"text-align: right;\">\n",
       "      <th></th>\n",
       "      <th>data_extracao</th>\n",
       "      <th>DATA_PUBLICACAO</th>\n",
       "      <th>ASSUNTO</th>\n",
       "      <th>ID_CANAL</th>\n",
       "      <th>NM_CANAL</th>\n",
       "      <th>ID_VIDEO</th>\n",
       "      <th>TITULO_VIDEO</th>\n",
       "      <th>DURACAO_VIDEO_MINUTOS</th>\n",
       "      <th>TOTAL_VISUALIZACOES</th>\n",
       "      <th>TOTAL_LIKES</th>\n",
       "      <th>TOTAL_COMENTARIOS</th>\n",
       "      <th>TURNO_EXTRACAO</th>\n",
       "      <th>INDICE_TURNO_EXTRACAO</th>\n",
       "      <th>TAXA_ENGAJAMENTO</th>\n",
       "      <th>FAIXA_DURACAO_VIDEO</th>\n",
       "    </tr>\n",
       "  </thead>\n",
       "  <tbody>\n",
       "    <tr>\n",
       "      <th>8747</th>\n",
       "      <td>2024-01-23</td>\n",
       "      <td>2024-01-21T21:39:07Z</td>\n",
       "      <td>assunto_cities_skylines</td>\n",
       "      <td>UCCe4Be21OPPltTTIHP4lDvg</td>\n",
       "      <td>Octopolis</td>\n",
       "      <td>5wcfAXfymPw</td>\n",
       "      <td>DESAFIO: Cidade em uma ILHA ISOLADA | LIVE | C...</td>\n",
       "      <td>499.25</td>\n",
       "      <td>2751</td>\n",
       "      <td>224</td>\n",
       "      <td>25</td>\n",
       "      <td>Noite</td>\n",
       "      <td>3</td>\n",
       "      <td>9.051254</td>\n",
       "      <td>Longa</td>\n",
       "    </tr>\n",
       "  </tbody>\n",
       "</table>\n",
       "</div>"
      ],
      "text/plain": [
       "     data_extracao       DATA_PUBLICACAO                  ASSUNTO  \\\n",
       "8747    2024-01-23  2024-01-21T21:39:07Z  assunto_cities_skylines   \n",
       "\n",
       "                      ID_CANAL   NM_CANAL     ID_VIDEO  \\\n",
       "8747  UCCe4Be21OPPltTTIHP4lDvg  Octopolis  5wcfAXfymPw   \n",
       "\n",
       "                                           TITULO_VIDEO  \\\n",
       "8747  DESAFIO: Cidade em uma ILHA ISOLADA | LIVE | C...   \n",
       "\n",
       "      DURACAO_VIDEO_MINUTOS  TOTAL_VISUALIZACOES  TOTAL_LIKES  \\\n",
       "8747                 499.25                 2751          224   \n",
       "\n",
       "      TOTAL_COMENTARIOS TURNO_EXTRACAO  INDICE_TURNO_EXTRACAO  \\\n",
       "8747                 25          Noite                      3   \n",
       "\n",
       "      TAXA_ENGAJAMENTO FAIXA_DURACAO_VIDEO  \n",
       "8747          9.051254               Longa  "
      ]
     },
     "execution_count": 444,
     "metadata": {},
     "output_type": "execute_result"
    }
   ],
   "source": [
    "base_video_canal[base_video_canal['DURACAO_VIDEO_MINUTOS'] == base_video_canal['DURACAO_VIDEO_MINUTOS'].max() ]"
   ]
  },
  {
   "cell_type": "code",
   "execution_count": 445,
   "metadata": {},
   "outputs": [
    {
     "name": "stdout",
     "output_type": "stream",
     "text": [
      "<class 'pandas.core.frame.DataFrame'>\n",
      "Index: 32 entries, 8784 to 8833\n",
      "Data columns (total 15 columns):\n",
      " #   Column                 Non-Null Count  Dtype  \n",
      "---  ------                 --------------  -----  \n",
      " 0   data_extracao          32 non-null     string \n",
      " 1   DATA_PUBLICACAO        32 non-null     string \n",
      " 2   ASSUNTO                32 non-null     string \n",
      " 3   ID_CANAL               32 non-null     string \n",
      " 4   NM_CANAL               32 non-null     string \n",
      " 5   ID_VIDEO               32 non-null     string \n",
      " 6   TITULO_VIDEO           32 non-null     string \n",
      " 7   DURACAO_VIDEO_MINUTOS  32 non-null     float32\n",
      " 8   TOTAL_VISUALIZACOES    32 non-null     int32  \n",
      " 9   TOTAL_LIKES            32 non-null     int32  \n",
      " 10  TOTAL_COMENTARIOS      32 non-null     int32  \n",
      " 11  TURNO_EXTRACAO         32 non-null     string \n",
      " 12  INDICE_TURNO_EXTRACAO  32 non-null     int32  \n",
      " 13  TAXA_ENGAJAMENTO       32 non-null     float64\n",
      " 14  FAIXA_DURACAO_VIDEO    32 non-null     string \n",
      "dtypes: float32(1), float64(1), int32(4), string(9)\n",
      "memory usage: 3.4 KB\n"
     ]
    }
   ],
   "source": [
    "base_video_canal.info()"
   ]
  },
  {
   "cell_type": "code",
   "execution_count": 446,
   "metadata": {},
   "outputs": [
    {
     "data": {
      "application/vnd.plotly.v1+json": {
       "config": {
        "plotlyServerURL": "https://plot.ly"
       },
       "data": [
        {
         "hovertemplate": "DURACAO_VIDEO_MINUTOS=%{x}<br>TOTAL_LIKES=%{y}<extra></extra>",
         "legendgroup": "",
         "line": {
          "color": "#636efa",
          "dash": "solid"
         },
         "marker": {
          "symbol": "circle"
         },
         "mode": "lines",
         "name": "",
         "orientation": "v",
         "showlegend": false,
         "type": "scatter",
         "x": [
          38.25,
          19.850000381469727,
          0.5699999928474426,
          35.099998474121094,
          0.6200000047683716,
          0.800000011920929,
          0.949999988079071,
          26.649999618530273,
          0.9800000190734863,
          0.9800000190734863,
          17.549999237060547,
          0.6700000166893005,
          0.7699999809265137,
          0.7799999713897705,
          29.8799991607666,
          0.9800000190734863,
          18.56999969482422,
          28.280000686645508,
          0.5,
          24.329999923706055,
          38.29999923706055,
          0.7300000190734863,
          23.170000076293945,
          37.27000045776367,
          499.25,
          0.5699999928474426,
          0.6200000047683716,
          32.31999969482422,
          0.6800000071525574,
          0.6299999952316284,
          0.8999999761581421,
          0.9800000190734863
         ],
         "xaxis": "x",
         "y": [
          2256,
          1936,
          563,
          1714,
          518,
          556,
          671,
          1328,
          609,
          348,
          1189,
          381,
          504,
          439,
          992,
          483,
          1161,
          869,
          277,
          822,
          1326,
          241,
          534,
          347,
          224,
          140,
          135,
          293,
          104,
          209,
          83,
          75
         ],
         "yaxis": "y"
        }
       ],
       "layout": {
        "legend": {
         "tracegroupgap": 0
        },
        "margin": {
         "t": 60
        },
        "template": {
         "data": {
          "bar": [
           {
            "error_x": {
             "color": "#2a3f5f"
            },
            "error_y": {
             "color": "#2a3f5f"
            },
            "marker": {
             "line": {
              "color": "#E5ECF6",
              "width": 0.5
             },
             "pattern": {
              "fillmode": "overlay",
              "size": 10,
              "solidity": 0.2
             }
            },
            "type": "bar"
           }
          ],
          "barpolar": [
           {
            "marker": {
             "line": {
              "color": "#E5ECF6",
              "width": 0.5
             },
             "pattern": {
              "fillmode": "overlay",
              "size": 10,
              "solidity": 0.2
             }
            },
            "type": "barpolar"
           }
          ],
          "carpet": [
           {
            "aaxis": {
             "endlinecolor": "#2a3f5f",
             "gridcolor": "white",
             "linecolor": "white",
             "minorgridcolor": "white",
             "startlinecolor": "#2a3f5f"
            },
            "baxis": {
             "endlinecolor": "#2a3f5f",
             "gridcolor": "white",
             "linecolor": "white",
             "minorgridcolor": "white",
             "startlinecolor": "#2a3f5f"
            },
            "type": "carpet"
           }
          ],
          "choropleth": [
           {
            "colorbar": {
             "outlinewidth": 0,
             "ticks": ""
            },
            "type": "choropleth"
           }
          ],
          "contour": [
           {
            "colorbar": {
             "outlinewidth": 0,
             "ticks": ""
            },
            "colorscale": [
             [
              0,
              "#0d0887"
             ],
             [
              0.1111111111111111,
              "#46039f"
             ],
             [
              0.2222222222222222,
              "#7201a8"
             ],
             [
              0.3333333333333333,
              "#9c179e"
             ],
             [
              0.4444444444444444,
              "#bd3786"
             ],
             [
              0.5555555555555556,
              "#d8576b"
             ],
             [
              0.6666666666666666,
              "#ed7953"
             ],
             [
              0.7777777777777778,
              "#fb9f3a"
             ],
             [
              0.8888888888888888,
              "#fdca26"
             ],
             [
              1,
              "#f0f921"
             ]
            ],
            "type": "contour"
           }
          ],
          "contourcarpet": [
           {
            "colorbar": {
             "outlinewidth": 0,
             "ticks": ""
            },
            "type": "contourcarpet"
           }
          ],
          "heatmap": [
           {
            "colorbar": {
             "outlinewidth": 0,
             "ticks": ""
            },
            "colorscale": [
             [
              0,
              "#0d0887"
             ],
             [
              0.1111111111111111,
              "#46039f"
             ],
             [
              0.2222222222222222,
              "#7201a8"
             ],
             [
              0.3333333333333333,
              "#9c179e"
             ],
             [
              0.4444444444444444,
              "#bd3786"
             ],
             [
              0.5555555555555556,
              "#d8576b"
             ],
             [
              0.6666666666666666,
              "#ed7953"
             ],
             [
              0.7777777777777778,
              "#fb9f3a"
             ],
             [
              0.8888888888888888,
              "#fdca26"
             ],
             [
              1,
              "#f0f921"
             ]
            ],
            "type": "heatmap"
           }
          ],
          "heatmapgl": [
           {
            "colorbar": {
             "outlinewidth": 0,
             "ticks": ""
            },
            "colorscale": [
             [
              0,
              "#0d0887"
             ],
             [
              0.1111111111111111,
              "#46039f"
             ],
             [
              0.2222222222222222,
              "#7201a8"
             ],
             [
              0.3333333333333333,
              "#9c179e"
             ],
             [
              0.4444444444444444,
              "#bd3786"
             ],
             [
              0.5555555555555556,
              "#d8576b"
             ],
             [
              0.6666666666666666,
              "#ed7953"
             ],
             [
              0.7777777777777778,
              "#fb9f3a"
             ],
             [
              0.8888888888888888,
              "#fdca26"
             ],
             [
              1,
              "#f0f921"
             ]
            ],
            "type": "heatmapgl"
           }
          ],
          "histogram": [
           {
            "marker": {
             "pattern": {
              "fillmode": "overlay",
              "size": 10,
              "solidity": 0.2
             }
            },
            "type": "histogram"
           }
          ],
          "histogram2d": [
           {
            "colorbar": {
             "outlinewidth": 0,
             "ticks": ""
            },
            "colorscale": [
             [
              0,
              "#0d0887"
             ],
             [
              0.1111111111111111,
              "#46039f"
             ],
             [
              0.2222222222222222,
              "#7201a8"
             ],
             [
              0.3333333333333333,
              "#9c179e"
             ],
             [
              0.4444444444444444,
              "#bd3786"
             ],
             [
              0.5555555555555556,
              "#d8576b"
             ],
             [
              0.6666666666666666,
              "#ed7953"
             ],
             [
              0.7777777777777778,
              "#fb9f3a"
             ],
             [
              0.8888888888888888,
              "#fdca26"
             ],
             [
              1,
              "#f0f921"
             ]
            ],
            "type": "histogram2d"
           }
          ],
          "histogram2dcontour": [
           {
            "colorbar": {
             "outlinewidth": 0,
             "ticks": ""
            },
            "colorscale": [
             [
              0,
              "#0d0887"
             ],
             [
              0.1111111111111111,
              "#46039f"
             ],
             [
              0.2222222222222222,
              "#7201a8"
             ],
             [
              0.3333333333333333,
              "#9c179e"
             ],
             [
              0.4444444444444444,
              "#bd3786"
             ],
             [
              0.5555555555555556,
              "#d8576b"
             ],
             [
              0.6666666666666666,
              "#ed7953"
             ],
             [
              0.7777777777777778,
              "#fb9f3a"
             ],
             [
              0.8888888888888888,
              "#fdca26"
             ],
             [
              1,
              "#f0f921"
             ]
            ],
            "type": "histogram2dcontour"
           }
          ],
          "mesh3d": [
           {
            "colorbar": {
             "outlinewidth": 0,
             "ticks": ""
            },
            "type": "mesh3d"
           }
          ],
          "parcoords": [
           {
            "line": {
             "colorbar": {
              "outlinewidth": 0,
              "ticks": ""
             }
            },
            "type": "parcoords"
           }
          ],
          "pie": [
           {
            "automargin": true,
            "type": "pie"
           }
          ],
          "scatter": [
           {
            "fillpattern": {
             "fillmode": "overlay",
             "size": 10,
             "solidity": 0.2
            },
            "type": "scatter"
           }
          ],
          "scatter3d": [
           {
            "line": {
             "colorbar": {
              "outlinewidth": 0,
              "ticks": ""
             }
            },
            "marker": {
             "colorbar": {
              "outlinewidth": 0,
              "ticks": ""
             }
            },
            "type": "scatter3d"
           }
          ],
          "scattercarpet": [
           {
            "marker": {
             "colorbar": {
              "outlinewidth": 0,
              "ticks": ""
             }
            },
            "type": "scattercarpet"
           }
          ],
          "scattergeo": [
           {
            "marker": {
             "colorbar": {
              "outlinewidth": 0,
              "ticks": ""
             }
            },
            "type": "scattergeo"
           }
          ],
          "scattergl": [
           {
            "marker": {
             "colorbar": {
              "outlinewidth": 0,
              "ticks": ""
             }
            },
            "type": "scattergl"
           }
          ],
          "scattermapbox": [
           {
            "marker": {
             "colorbar": {
              "outlinewidth": 0,
              "ticks": ""
             }
            },
            "type": "scattermapbox"
           }
          ],
          "scatterpolar": [
           {
            "marker": {
             "colorbar": {
              "outlinewidth": 0,
              "ticks": ""
             }
            },
            "type": "scatterpolar"
           }
          ],
          "scatterpolargl": [
           {
            "marker": {
             "colorbar": {
              "outlinewidth": 0,
              "ticks": ""
             }
            },
            "type": "scatterpolargl"
           }
          ],
          "scatterternary": [
           {
            "marker": {
             "colorbar": {
              "outlinewidth": 0,
              "ticks": ""
             }
            },
            "type": "scatterternary"
           }
          ],
          "surface": [
           {
            "colorbar": {
             "outlinewidth": 0,
             "ticks": ""
            },
            "colorscale": [
             [
              0,
              "#0d0887"
             ],
             [
              0.1111111111111111,
              "#46039f"
             ],
             [
              0.2222222222222222,
              "#7201a8"
             ],
             [
              0.3333333333333333,
              "#9c179e"
             ],
             [
              0.4444444444444444,
              "#bd3786"
             ],
             [
              0.5555555555555556,
              "#d8576b"
             ],
             [
              0.6666666666666666,
              "#ed7953"
             ],
             [
              0.7777777777777778,
              "#fb9f3a"
             ],
             [
              0.8888888888888888,
              "#fdca26"
             ],
             [
              1,
              "#f0f921"
             ]
            ],
            "type": "surface"
           }
          ],
          "table": [
           {
            "cells": {
             "fill": {
              "color": "#EBF0F8"
             },
             "line": {
              "color": "white"
             }
            },
            "header": {
             "fill": {
              "color": "#C8D4E3"
             },
             "line": {
              "color": "white"
             }
            },
            "type": "table"
           }
          ]
         },
         "layout": {
          "annotationdefaults": {
           "arrowcolor": "#2a3f5f",
           "arrowhead": 0,
           "arrowwidth": 1
          },
          "autotypenumbers": "strict",
          "coloraxis": {
           "colorbar": {
            "outlinewidth": 0,
            "ticks": ""
           }
          },
          "colorscale": {
           "diverging": [
            [
             0,
             "#8e0152"
            ],
            [
             0.1,
             "#c51b7d"
            ],
            [
             0.2,
             "#de77ae"
            ],
            [
             0.3,
             "#f1b6da"
            ],
            [
             0.4,
             "#fde0ef"
            ],
            [
             0.5,
             "#f7f7f7"
            ],
            [
             0.6,
             "#e6f5d0"
            ],
            [
             0.7,
             "#b8e186"
            ],
            [
             0.8,
             "#7fbc41"
            ],
            [
             0.9,
             "#4d9221"
            ],
            [
             1,
             "#276419"
            ]
           ],
           "sequential": [
            [
             0,
             "#0d0887"
            ],
            [
             0.1111111111111111,
             "#46039f"
            ],
            [
             0.2222222222222222,
             "#7201a8"
            ],
            [
             0.3333333333333333,
             "#9c179e"
            ],
            [
             0.4444444444444444,
             "#bd3786"
            ],
            [
             0.5555555555555556,
             "#d8576b"
            ],
            [
             0.6666666666666666,
             "#ed7953"
            ],
            [
             0.7777777777777778,
             "#fb9f3a"
            ],
            [
             0.8888888888888888,
             "#fdca26"
            ],
            [
             1,
             "#f0f921"
            ]
           ],
           "sequentialminus": [
            [
             0,
             "#0d0887"
            ],
            [
             0.1111111111111111,
             "#46039f"
            ],
            [
             0.2222222222222222,
             "#7201a8"
            ],
            [
             0.3333333333333333,
             "#9c179e"
            ],
            [
             0.4444444444444444,
             "#bd3786"
            ],
            [
             0.5555555555555556,
             "#d8576b"
            ],
            [
             0.6666666666666666,
             "#ed7953"
            ],
            [
             0.7777777777777778,
             "#fb9f3a"
            ],
            [
             0.8888888888888888,
             "#fdca26"
            ],
            [
             1,
             "#f0f921"
            ]
           ]
          },
          "colorway": [
           "#636efa",
           "#EF553B",
           "#00cc96",
           "#ab63fa",
           "#FFA15A",
           "#19d3f3",
           "#FF6692",
           "#B6E880",
           "#FF97FF",
           "#FECB52"
          ],
          "font": {
           "color": "#2a3f5f"
          },
          "geo": {
           "bgcolor": "white",
           "lakecolor": "white",
           "landcolor": "#E5ECF6",
           "showlakes": true,
           "showland": true,
           "subunitcolor": "white"
          },
          "hoverlabel": {
           "align": "left"
          },
          "hovermode": "closest",
          "mapbox": {
           "style": "light"
          },
          "paper_bgcolor": "white",
          "plot_bgcolor": "#E5ECF6",
          "polar": {
           "angularaxis": {
            "gridcolor": "white",
            "linecolor": "white",
            "ticks": ""
           },
           "bgcolor": "#E5ECF6",
           "radialaxis": {
            "gridcolor": "white",
            "linecolor": "white",
            "ticks": ""
           }
          },
          "scene": {
           "xaxis": {
            "backgroundcolor": "#E5ECF6",
            "gridcolor": "white",
            "gridwidth": 2,
            "linecolor": "white",
            "showbackground": true,
            "ticks": "",
            "zerolinecolor": "white"
           },
           "yaxis": {
            "backgroundcolor": "#E5ECF6",
            "gridcolor": "white",
            "gridwidth": 2,
            "linecolor": "white",
            "showbackground": true,
            "ticks": "",
            "zerolinecolor": "white"
           },
           "zaxis": {
            "backgroundcolor": "#E5ECF6",
            "gridcolor": "white",
            "gridwidth": 2,
            "linecolor": "white",
            "showbackground": true,
            "ticks": "",
            "zerolinecolor": "white"
           }
          },
          "shapedefaults": {
           "line": {
            "color": "#2a3f5f"
           }
          },
          "ternary": {
           "aaxis": {
            "gridcolor": "white",
            "linecolor": "white",
            "ticks": ""
           },
           "baxis": {
            "gridcolor": "white",
            "linecolor": "white",
            "ticks": ""
           },
           "bgcolor": "#E5ECF6",
           "caxis": {
            "gridcolor": "white",
            "linecolor": "white",
            "ticks": ""
           }
          },
          "title": {
           "x": 0.05
          },
          "xaxis": {
           "automargin": true,
           "gridcolor": "white",
           "linecolor": "white",
           "ticks": "",
           "title": {
            "standoff": 15
           },
           "zerolinecolor": "white",
           "zerolinewidth": 2
          },
          "yaxis": {
           "automargin": true,
           "gridcolor": "white",
           "linecolor": "white",
           "ticks": "",
           "title": {
            "standoff": 15
           },
           "zerolinecolor": "white",
           "zerolinewidth": 2
          }
         }
        },
        "xaxis": {
         "anchor": "y",
         "domain": [
          0,
          1
         ],
         "title": {
          "text": "DURACAO_VIDEO_MINUTOS"
         }
        },
        "yaxis": {
         "anchor": "x",
         "domain": [
          0,
          1
         ],
         "title": {
          "text": "TOTAL_LIKES"
         }
        }
       }
      }
     },
     "metadata": {},
     "output_type": "display_data"
    }
   ],
   "source": [
    "fig = px.line(base_video_canal, x='DURACAO_VIDEO_MINUTOS', y='TOTAL_LIKES')\n",
    "fig.show()"
   ]
  },
  {
   "cell_type": "markdown",
   "metadata": {},
   "source": [
    "# Análise de Palavras-Chave em Títulos"
   ]
  },
  {
   "cell_type": "code",
   "execution_count": 447,
   "metadata": {},
   "outputs": [
    {
     "data": {
      "text/html": [
       "<div>\n",
       "<style scoped>\n",
       "    .dataframe tbody tr th:only-of-type {\n",
       "        vertical-align: middle;\n",
       "    }\n",
       "\n",
       "    .dataframe tbody tr th {\n",
       "        vertical-align: top;\n",
       "    }\n",
       "\n",
       "    .dataframe thead th {\n",
       "        text-align: right;\n",
       "    }\n",
       "</style>\n",
       "<table border=\"1\" class=\"dataframe\">\n",
       "  <thead>\n",
       "    <tr style=\"text-align: right;\">\n",
       "      <th></th>\n",
       "      <th>data_extracao</th>\n",
       "      <th>ASSUNTO</th>\n",
       "      <th>ID_VIDEO</th>\n",
       "      <th>TITULO_VIDEO</th>\n",
       "      <th>ID_CANAL</th>\n",
       "      <th>NM_CANAL</th>\n",
       "    </tr>\n",
       "  </thead>\n",
       "  <tbody>\n",
       "    <tr>\n",
       "      <th>8611</th>\n",
       "      <td>2024-01-23</td>\n",
       "      <td>assunto_cities_skylines</td>\n",
       "      <td>38KqRAlHM2I</td>\n",
       "      <td>SOU MUITO BOM NO Buckshot roulette #buckshotro...</td>\n",
       "      <td>UCL5k8vBBo1JOHh7AnvoD8xQ</td>\n",
       "      <td>JulioGameplay</td>\n",
       "    </tr>\n",
       "    <tr>\n",
       "      <th>8613</th>\n",
       "      <td>2024-01-23</td>\n",
       "      <td>assunto_cities_skylines</td>\n",
       "      <td>q4gfnofyqPA</td>\n",
       "      <td>Jogando CONTEXTO pela primeira VEZ #shorts</td>\n",
       "      <td>UCL5k8vBBo1JOHh7AnvoD8xQ</td>\n",
       "      <td>JulioGameplay</td>\n",
       "    </tr>\n",
       "    <tr>\n",
       "      <th>8615</th>\n",
       "      <td>2024-01-23</td>\n",
       "      <td>assunto_cities_skylines</td>\n",
       "      <td>WKR-okKAagk</td>\n",
       "      <td>Como Instalar MODs no Cities Skylines 2</td>\n",
       "      <td>UC1tTvOdY0rribnVuMDcDvKg</td>\n",
       "      <td>RSTech BR</td>\n",
       "    </tr>\n",
       "    <tr>\n",
       "      <th>8616</th>\n",
       "      <td>2024-01-23</td>\n",
       "      <td>assunto_cities_skylines</td>\n",
       "      <td>4gfuvo_ETbw</td>\n",
       "      <td>Expansão da MALHA FERROVIÁRIA na nossa cidade ...</td>\n",
       "      <td>UCIv5D2ro1owj6P7OdZ4-BiA</td>\n",
       "      <td>BL4D3N | Cities Skylines</td>\n",
       "    </tr>\n",
       "    <tr>\n",
       "      <th>8617</th>\n",
       "      <td>2024-01-23</td>\n",
       "      <td>assunto_cities_skylines</td>\n",
       "      <td>eSlVZlnXEHo</td>\n",
       "      <td>#45 - Cities: Skylines 2 - Tolerância zero: Se...</td>\n",
       "      <td>UC17XM9GSP667Hle_ce1JeJw</td>\n",
       "      <td>AMJ Gameplays</td>\n",
       "    </tr>\n",
       "    <tr>\n",
       "      <th>...</th>\n",
       "      <td>...</td>\n",
       "      <td>...</td>\n",
       "      <td>...</td>\n",
       "      <td>...</td>\n",
       "      <td>...</td>\n",
       "      <td>...</td>\n",
       "    </tr>\n",
       "    <tr>\n",
       "      <th>8843</th>\n",
       "      <td>2024-01-23</td>\n",
       "      <td>assunto_cities_skylines</td>\n",
       "      <td>Llcr630b8CE</td>\n",
       "      <td>Cidade (Mods) CITIES SKYLINES I (iniciante)| C...</td>\n",
       "      <td>UCDqzBrUOm7guqqyU8eDackg</td>\n",
       "      <td>BUG CITIES</td>\n",
       "    </tr>\n",
       "    <tr>\n",
       "      <th>8855</th>\n",
       "      <td>2024-01-23</td>\n",
       "      <td>assunto_cities_skylines</td>\n",
       "      <td>mjMCMNM-AOI</td>\n",
       "      <td>CITIES SKYLINES | MAPA PICOS VERDES | HAND BEA...</td>\n",
       "      <td>UC7v51W2NoLFawizgcNuVBOA</td>\n",
       "      <td>CANAL HAND - GAME WITH MUSIC</td>\n",
       "    </tr>\n",
       "    <tr>\n",
       "      <th>8856</th>\n",
       "      <td>2024-01-23</td>\n",
       "      <td>assunto_cities_skylines</td>\n",
       "      <td>21NHBH_8nWc</td>\n",
       "      <td>#44 - Cities: Skylines 2 - Enfim, Trem de pass...</td>\n",
       "      <td>UC17XM9GSP667Hle_ce1JeJw</td>\n",
       "      <td>AMJ Gameplays</td>\n",
       "    </tr>\n",
       "    <tr>\n",
       "      <th>8857</th>\n",
       "      <td>2024-01-23</td>\n",
       "      <td>assunto_cities_skylines</td>\n",
       "      <td>pT7M1iH1s4M</td>\n",
       "      <td>CITIES SKYLINES | MAPA PICOS VERDES | HAND BEA...</td>\n",
       "      <td>UC7v51W2NoLFawizgcNuVBOA</td>\n",
       "      <td>CANAL HAND - GAME WITH MUSIC</td>\n",
       "    </tr>\n",
       "    <tr>\n",
       "      <th>8858</th>\n",
       "      <td>2024-01-23</td>\n",
       "      <td>assunto_cities_skylines</td>\n",
       "      <td>lTu4TRT-SoQ</td>\n",
       "      <td>CITIES SKYLINES II - UM NOVO COMEÇO| A NEW BEG...</td>\n",
       "      <td>UCDqzBrUOm7guqqyU8eDackg</td>\n",
       "      <td>BUG CITIES</td>\n",
       "    </tr>\n",
       "  </tbody>\n",
       "</table>\n",
       "<p>91 rows × 6 columns</p>\n",
       "</div>"
      ],
      "text/plain": [
       "     data_extracao                  ASSUNTO     ID_VIDEO  \\\n",
       "8611    2024-01-23  assunto_cities_skylines  38KqRAlHM2I   \n",
       "8613    2024-01-23  assunto_cities_skylines  q4gfnofyqPA   \n",
       "8615    2024-01-23  assunto_cities_skylines  WKR-okKAagk   \n",
       "8616    2024-01-23  assunto_cities_skylines  4gfuvo_ETbw   \n",
       "8617    2024-01-23  assunto_cities_skylines  eSlVZlnXEHo   \n",
       "...            ...                      ...          ...   \n",
       "8843    2024-01-23  assunto_cities_skylines  Llcr630b8CE   \n",
       "8855    2024-01-23  assunto_cities_skylines  mjMCMNM-AOI   \n",
       "8856    2024-01-23  assunto_cities_skylines  21NHBH_8nWc   \n",
       "8857    2024-01-23  assunto_cities_skylines  pT7M1iH1s4M   \n",
       "8858    2024-01-23  assunto_cities_skylines  lTu4TRT-SoQ   \n",
       "\n",
       "                                           TITULO_VIDEO  \\\n",
       "8611  SOU MUITO BOM NO Buckshot roulette #buckshotro...   \n",
       "8613         Jogando CONTEXTO pela primeira VEZ #shorts   \n",
       "8615            Como Instalar MODs no Cities Skylines 2   \n",
       "8616  Expansão da MALHA FERROVIÁRIA na nossa cidade ...   \n",
       "8617  #45 - Cities: Skylines 2 - Tolerância zero: Se...   \n",
       "...                                                 ...   \n",
       "8843  Cidade (Mods) CITIES SKYLINES I (iniciante)| C...   \n",
       "8855  CITIES SKYLINES | MAPA PICOS VERDES | HAND BEA...   \n",
       "8856  #44 - Cities: Skylines 2 - Enfim, Trem de pass...   \n",
       "8857  CITIES SKYLINES | MAPA PICOS VERDES | HAND BEA...   \n",
       "8858  CITIES SKYLINES II - UM NOVO COMEÇO| A NEW BEG...   \n",
       "\n",
       "                      ID_CANAL                      NM_CANAL  \n",
       "8611  UCL5k8vBBo1JOHh7AnvoD8xQ                 JulioGameplay  \n",
       "8613  UCL5k8vBBo1JOHh7AnvoD8xQ                 JulioGameplay  \n",
       "8615  UC1tTvOdY0rribnVuMDcDvKg                     RSTech BR  \n",
       "8616  UCIv5D2ro1owj6P7OdZ4-BiA      BL4D3N | Cities Skylines  \n",
       "8617  UC17XM9GSP667Hle_ce1JeJw                 AMJ Gameplays  \n",
       "...                        ...                           ...  \n",
       "8843  UCDqzBrUOm7guqqyU8eDackg                    BUG CITIES  \n",
       "8855  UC7v51W2NoLFawizgcNuVBOA  CANAL HAND - GAME WITH MUSIC  \n",
       "8856  UC17XM9GSP667Hle_ce1JeJw                 AMJ Gameplays  \n",
       "8857  UC7v51W2NoLFawizgcNuVBOA  CANAL HAND - GAME WITH MUSIC  \n",
       "8858  UCDqzBrUOm7guqqyU8eDackg                    BUG CITIES  \n",
       "\n",
       "[91 rows x 6 columns]"
      ]
     },
     "execution_count": 447,
     "metadata": {},
     "output_type": "execute_result"
    }
   ],
   "source": [
    "colunas = ['data_extracao', 'ASSUNTO', 'ID_VIDEO', 'TITULO_VIDEO','ID_CANAL', 'NM_CANAL' ]\n",
    "base_video_canal = pd.read_parquet('../dados/ouro/dados_tratado_estatisticas_gerais.parquet', columns=colunas)\n",
    "base_video_canal = base_video_canal.query('ASSUNTO == \"assunto_cities_skylines\" and data_extracao == \"2024-01-23\"  ')\n",
    "base_video_canal.fillna('[]', inplace=True)\n",
    "base_video_canal.drop_duplicates(inplace=True)\n",
    "base_video_canal"
   ]
  },
  {
   "cell_type": "code",
   "execution_count": 448,
   "metadata": {},
   "outputs": [
    {
     "data": {
      "text/plain": [
       "'!\"#$%&\\'()*+,-./:;<=>?@[\\\\]^_`{|}~'"
      ]
     },
     "execution_count": 448,
     "metadata": {},
     "output_type": "execute_result"
    }
   ],
   "source": [
    "import string\n",
    "import spacy\n",
    "nlp = spacy.load(\"pt_core_news_sm\")\n",
    "string.punctuation"
   ]
  },
  {
   "cell_type": "code",
   "execution_count": 449,
   "metadata": {},
   "outputs": [],
   "source": [
    "stop_words = spacy.lang.pt.stop_words.STOP_WORDS \n",
    "\n",
    "\n",
    "def remove_stop_words(sentence): \n",
    "  sentence = unidecode(sentence).strip().lower()\n",
    "  for c in string.punctuation:\n",
    "    sentence = sentence.replace(c, '')\n",
    "  doc = nlp(sentence) \n",
    "  filtered_tokens = [token for token in doc if not token.is_stop] \n",
    "  palavras = list(filtered_tokens)\n",
    "  lista_palavras =  [palava for palava in palavras if len(palava) > 1]\n",
    "  return lista_palavras\n",
    "  "
   ]
  },
  {
   "cell_type": "code",
   "execution_count": 450,
   "metadata": {},
   "outputs": [
    {
     "data": {
      "text/html": [
       "<div>\n",
       "<style scoped>\n",
       "    .dataframe tbody tr th:only-of-type {\n",
       "        vertical-align: middle;\n",
       "    }\n",
       "\n",
       "    .dataframe tbody tr th {\n",
       "        vertical-align: top;\n",
       "    }\n",
       "\n",
       "    .dataframe thead th {\n",
       "        text-align: right;\n",
       "    }\n",
       "</style>\n",
       "<table border=\"1\" class=\"dataframe\">\n",
       "  <thead>\n",
       "    <tr style=\"text-align: right;\">\n",
       "      <th></th>\n",
       "      <th>data_extracao</th>\n",
       "      <th>ASSUNTO</th>\n",
       "      <th>ID_VIDEO</th>\n",
       "      <th>TITULO_VIDEO</th>\n",
       "      <th>ID_CANAL</th>\n",
       "      <th>NM_CANAL</th>\n",
       "    </tr>\n",
       "  </thead>\n",
       "  <tbody>\n",
       "    <tr>\n",
       "      <th>8611</th>\n",
       "      <td>2024-01-23</td>\n",
       "      <td>assunto_cities_skylines</td>\n",
       "      <td>38KqRAlHM2I</td>\n",
       "      <td>SOU MUITO BOM NO Buckshot roulette #buckshotro...</td>\n",
       "      <td>UCL5k8vBBo1JOHh7AnvoD8xQ</td>\n",
       "      <td>JulioGameplay</td>\n",
       "    </tr>\n",
       "    <tr>\n",
       "      <th>8613</th>\n",
       "      <td>2024-01-23</td>\n",
       "      <td>assunto_cities_skylines</td>\n",
       "      <td>q4gfnofyqPA</td>\n",
       "      <td>Jogando CONTEXTO pela primeira VEZ #shorts</td>\n",
       "      <td>UCL5k8vBBo1JOHh7AnvoD8xQ</td>\n",
       "      <td>JulioGameplay</td>\n",
       "    </tr>\n",
       "    <tr>\n",
       "      <th>8615</th>\n",
       "      <td>2024-01-23</td>\n",
       "      <td>assunto_cities_skylines</td>\n",
       "      <td>WKR-okKAagk</td>\n",
       "      <td>Como Instalar MODs no Cities Skylines 2</td>\n",
       "      <td>UC1tTvOdY0rribnVuMDcDvKg</td>\n",
       "      <td>RSTech BR</td>\n",
       "    </tr>\n",
       "    <tr>\n",
       "      <th>8616</th>\n",
       "      <td>2024-01-23</td>\n",
       "      <td>assunto_cities_skylines</td>\n",
       "      <td>4gfuvo_ETbw</td>\n",
       "      <td>Expanso da MALHA FERROVIRIA na nossa cidade do...</td>\n",
       "      <td>UCIv5D2ro1owj6P7OdZ4-BiA</td>\n",
       "      <td>BL4D3N | Cities Skylines</td>\n",
       "    </tr>\n",
       "    <tr>\n",
       "      <th>8617</th>\n",
       "      <td>2024-01-23</td>\n",
       "      <td>assunto_cities_skylines</td>\n",
       "      <td>eSlVZlnXEHo</td>\n",
       "      <td>#45 - Cities: Skylines 2 - Tolerncia zero: Sed...</td>\n",
       "      <td>UC17XM9GSP667Hle_ce1JeJw</td>\n",
       "      <td>AMJ Gameplays</td>\n",
       "    </tr>\n",
       "    <tr>\n",
       "      <th>...</th>\n",
       "      <td>...</td>\n",
       "      <td>...</td>\n",
       "      <td>...</td>\n",
       "      <td>...</td>\n",
       "      <td>...</td>\n",
       "      <td>...</td>\n",
       "    </tr>\n",
       "    <tr>\n",
       "      <th>8843</th>\n",
       "      <td>2024-01-23</td>\n",
       "      <td>assunto_cities_skylines</td>\n",
       "      <td>Llcr630b8CE</td>\n",
       "      <td>Cidade (Mods) CITIES SKYLINES I (iniciante)| C...</td>\n",
       "      <td>UCDqzBrUOm7guqqyU8eDackg</td>\n",
       "      <td>BUG CITIES</td>\n",
       "    </tr>\n",
       "    <tr>\n",
       "      <th>8855</th>\n",
       "      <td>2024-01-23</td>\n",
       "      <td>assunto_cities_skylines</td>\n",
       "      <td>mjMCMNM-AOI</td>\n",
       "      <td>CITIES SKYLINES | MAPA PICOS VERDES | HAND BEA...</td>\n",
       "      <td>UC7v51W2NoLFawizgcNuVBOA</td>\n",
       "      <td>CANAL HAND - GAME WITH MUSIC</td>\n",
       "    </tr>\n",
       "    <tr>\n",
       "      <th>8856</th>\n",
       "      <td>2024-01-23</td>\n",
       "      <td>assunto_cities_skylines</td>\n",
       "      <td>21NHBH_8nWc</td>\n",
       "      <td>#44 - Cities: Skylines 2 - Enfim, Trem de pass...</td>\n",
       "      <td>UC17XM9GSP667Hle_ce1JeJw</td>\n",
       "      <td>AMJ Gameplays</td>\n",
       "    </tr>\n",
       "    <tr>\n",
       "      <th>8857</th>\n",
       "      <td>2024-01-23</td>\n",
       "      <td>assunto_cities_skylines</td>\n",
       "      <td>pT7M1iH1s4M</td>\n",
       "      <td>CITIES SKYLINES | MAPA PICOS VERDES | HAND BEA...</td>\n",
       "      <td>UC7v51W2NoLFawizgcNuVBOA</td>\n",
       "      <td>CANAL HAND - GAME WITH MUSIC</td>\n",
       "    </tr>\n",
       "    <tr>\n",
       "      <th>8858</th>\n",
       "      <td>2024-01-23</td>\n",
       "      <td>assunto_cities_skylines</td>\n",
       "      <td>lTu4TRT-SoQ</td>\n",
       "      <td>CITIES SKYLINES II - UM NOVO COMEO| A NEW BEGI...</td>\n",
       "      <td>UCDqzBrUOm7guqqyU8eDackg</td>\n",
       "      <td>BUG CITIES</td>\n",
       "    </tr>\n",
       "  </tbody>\n",
       "</table>\n",
       "<p>91 rows × 6 columns</p>\n",
       "</div>"
      ],
      "text/plain": [
       "     data_extracao                  ASSUNTO     ID_VIDEO  \\\n",
       "8611    2024-01-23  assunto_cities_skylines  38KqRAlHM2I   \n",
       "8613    2024-01-23  assunto_cities_skylines  q4gfnofyqPA   \n",
       "8615    2024-01-23  assunto_cities_skylines  WKR-okKAagk   \n",
       "8616    2024-01-23  assunto_cities_skylines  4gfuvo_ETbw   \n",
       "8617    2024-01-23  assunto_cities_skylines  eSlVZlnXEHo   \n",
       "...            ...                      ...          ...   \n",
       "8843    2024-01-23  assunto_cities_skylines  Llcr630b8CE   \n",
       "8855    2024-01-23  assunto_cities_skylines  mjMCMNM-AOI   \n",
       "8856    2024-01-23  assunto_cities_skylines  21NHBH_8nWc   \n",
       "8857    2024-01-23  assunto_cities_skylines  pT7M1iH1s4M   \n",
       "8858    2024-01-23  assunto_cities_skylines  lTu4TRT-SoQ   \n",
       "\n",
       "                                           TITULO_VIDEO  \\\n",
       "8611  SOU MUITO BOM NO Buckshot roulette #buckshotro...   \n",
       "8613         Jogando CONTEXTO pela primeira VEZ #shorts   \n",
       "8615            Como Instalar MODs no Cities Skylines 2   \n",
       "8616  Expanso da MALHA FERROVIRIA na nossa cidade do...   \n",
       "8617  #45 - Cities: Skylines 2 - Tolerncia zero: Sed...   \n",
       "...                                                 ...   \n",
       "8843  Cidade (Mods) CITIES SKYLINES I (iniciante)| C...   \n",
       "8855  CITIES SKYLINES | MAPA PICOS VERDES | HAND BEA...   \n",
       "8856  #44 - Cities: Skylines 2 - Enfim, Trem de pass...   \n",
       "8857  CITIES SKYLINES | MAPA PICOS VERDES | HAND BEA...   \n",
       "8858  CITIES SKYLINES II - UM NOVO COMEO| A NEW BEGI...   \n",
       "\n",
       "                      ID_CANAL                      NM_CANAL  \n",
       "8611  UCL5k8vBBo1JOHh7AnvoD8xQ                 JulioGameplay  \n",
       "8613  UCL5k8vBBo1JOHh7AnvoD8xQ                 JulioGameplay  \n",
       "8615  UC1tTvOdY0rribnVuMDcDvKg                     RSTech BR  \n",
       "8616  UCIv5D2ro1owj6P7OdZ4-BiA      BL4D3N | Cities Skylines  \n",
       "8617  UC17XM9GSP667Hle_ce1JeJw                 AMJ Gameplays  \n",
       "...                        ...                           ...  \n",
       "8843  UCDqzBrUOm7guqqyU8eDackg                    BUG CITIES  \n",
       "8855  UC7v51W2NoLFawizgcNuVBOA  CANAL HAND - GAME WITH MUSIC  \n",
       "8856  UC17XM9GSP667Hle_ce1JeJw                 AMJ Gameplays  \n",
       "8857  UC7v51W2NoLFawizgcNuVBOA  CANAL HAND - GAME WITH MUSIC  \n",
       "8858  UCDqzBrUOm7guqqyU8eDackg                    BUG CITIES  \n",
       "\n",
       "[91 rows x 6 columns]"
      ]
     },
     "execution_count": 450,
     "metadata": {},
     "output_type": "execute_result"
    }
   ],
   "source": [
    "\n",
    "base_video_canal['TITULO_VIDEO'] = base_video_canal['TITULO_VIDEO'].str.replace(r'[^\\x00-\\x7F]+', '', regex=True)\n",
    "base_video_canal['TITULO_VIDEO'] =  base_video_canal['TITULO_VIDEO'].astype('string')\n",
    "base_video_canal"
   ]
  },
  {
   "cell_type": "code",
   "execution_count": 451,
   "metadata": {},
   "outputs": [
    {
     "data": {
      "text/html": [
       "<div>\n",
       "<style scoped>\n",
       "    .dataframe tbody tr th:only-of-type {\n",
       "        vertical-align: middle;\n",
       "    }\n",
       "\n",
       "    .dataframe tbody tr th {\n",
       "        vertical-align: top;\n",
       "    }\n",
       "\n",
       "    .dataframe thead th {\n",
       "        text-align: right;\n",
       "    }\n",
       "</style>\n",
       "<table border=\"1\" class=\"dataframe\">\n",
       "  <thead>\n",
       "    <tr style=\"text-align: right;\">\n",
       "      <th></th>\n",
       "      <th>data_extracao</th>\n",
       "      <th>ASSUNTO</th>\n",
       "      <th>ID_VIDEO</th>\n",
       "      <th>TITULO_VIDEO</th>\n",
       "      <th>ID_CANAL</th>\n",
       "      <th>NM_CANAL</th>\n",
       "    </tr>\n",
       "  </thead>\n",
       "  <tbody>\n",
       "    <tr>\n",
       "      <th>8611</th>\n",
       "      <td>2024-01-23</td>\n",
       "      <td>assunto_cities_skylines</td>\n",
       "      <td>38KqRAlHM2I</td>\n",
       "      <td>[buckshot, roulette, buckshotroulette, shorts]</td>\n",
       "      <td>UCL5k8vBBo1JOHh7AnvoD8xQ</td>\n",
       "      <td>JulioGameplay</td>\n",
       "    </tr>\n",
       "    <tr>\n",
       "      <th>8613</th>\n",
       "      <td>2024-01-23</td>\n",
       "      <td>assunto_cities_skylines</td>\n",
       "      <td>q4gfnofyqPA</td>\n",
       "      <td>[jogando, contexto, shorts]</td>\n",
       "      <td>UCL5k8vBBo1JOHh7AnvoD8xQ</td>\n",
       "      <td>JulioGameplay</td>\n",
       "    </tr>\n",
       "    <tr>\n",
       "      <th>8615</th>\n",
       "      <td>2024-01-23</td>\n",
       "      <td>assunto_cities_skylines</td>\n",
       "      <td>WKR-okKAagk</td>\n",
       "      <td>[instalar, mods, cities, skylines]</td>\n",
       "      <td>UC1tTvOdY0rribnVuMDcDvKg</td>\n",
       "      <td>RSTech BR</td>\n",
       "    </tr>\n",
       "    <tr>\n",
       "      <th>8616</th>\n",
       "      <td>2024-01-23</td>\n",
       "      <td>assunto_cities_skylines</td>\n",
       "      <td>4gfuvo_ETbw</td>\n",
       "      <td>[expanso, malha, ferroviria, cidade, cities, s...</td>\n",
       "      <td>UCIv5D2ro1owj6P7OdZ4-BiA</td>\n",
       "      <td>BL4D3N | Cities Skylines</td>\n",
       "    </tr>\n",
       "    <tr>\n",
       "      <th>8617</th>\n",
       "      <td>2024-01-23</td>\n",
       "      <td>assunto_cities_skylines</td>\n",
       "      <td>eSlVZlnXEHo</td>\n",
       "      <td>[45, cities, skylines, tolerncia, sede, polcia...</td>\n",
       "      <td>UC17XM9GSP667Hle_ce1JeJw</td>\n",
       "      <td>AMJ Gameplays</td>\n",
       "    </tr>\n",
       "    <tr>\n",
       "      <th>...</th>\n",
       "      <td>...</td>\n",
       "      <td>...</td>\n",
       "      <td>...</td>\n",
       "      <td>...</td>\n",
       "      <td>...</td>\n",
       "      <td>...</td>\n",
       "    </tr>\n",
       "    <tr>\n",
       "      <th>8843</th>\n",
       "      <td>2024-01-23</td>\n",
       "      <td>assunto_cities_skylines</td>\n",
       "      <td>Llcr630b8CE</td>\n",
       "      <td>[cidade, mods, cities, skylines, iniciante, ci...</td>\n",
       "      <td>UCDqzBrUOm7guqqyU8eDackg</td>\n",
       "      <td>BUG CITIES</td>\n",
       "    </tr>\n",
       "    <tr>\n",
       "      <th>8855</th>\n",
       "      <td>2024-01-23</td>\n",
       "      <td>assunto_cities_skylines</td>\n",
       "      <td>mjMCMNM-AOI</td>\n",
       "      <td>[cities, skylines, mapa, picos, verdes, hand, ...</td>\n",
       "      <td>UC7v51W2NoLFawizgcNuVBOA</td>\n",
       "      <td>CANAL HAND - GAME WITH MUSIC</td>\n",
       "    </tr>\n",
       "    <tr>\n",
       "      <th>8856</th>\n",
       "      <td>2024-01-23</td>\n",
       "      <td>assunto_cities_skylines</td>\n",
       "      <td>21NHBH_8nWc</td>\n",
       "      <td>[44, cities, skylines, enfim, trem, passageiro...</td>\n",
       "      <td>UC17XM9GSP667Hle_ce1JeJw</td>\n",
       "      <td>AMJ Gameplays</td>\n",
       "    </tr>\n",
       "    <tr>\n",
       "      <th>8857</th>\n",
       "      <td>2024-01-23</td>\n",
       "      <td>assunto_cities_skylines</td>\n",
       "      <td>pT7M1iH1s4M</td>\n",
       "      <td>[cities, skylines, mapa, picos, verdes, hand, ...</td>\n",
       "      <td>UC7v51W2NoLFawizgcNuVBOA</td>\n",
       "      <td>CANAL HAND - GAME WITH MUSIC</td>\n",
       "    </tr>\n",
       "    <tr>\n",
       "      <th>8858</th>\n",
       "      <td>2024-01-23</td>\n",
       "      <td>assunto_cities_skylines</td>\n",
       "      <td>lTu4TRT-SoQ</td>\n",
       "      <td>[cities, skylines, ii, comeo, new, beginning, ...</td>\n",
       "      <td>UCDqzBrUOm7guqqyU8eDackg</td>\n",
       "      <td>BUG CITIES</td>\n",
       "    </tr>\n",
       "  </tbody>\n",
       "</table>\n",
       "<p>91 rows × 6 columns</p>\n",
       "</div>"
      ],
      "text/plain": [
       "     data_extracao                  ASSUNTO     ID_VIDEO  \\\n",
       "8611    2024-01-23  assunto_cities_skylines  38KqRAlHM2I   \n",
       "8613    2024-01-23  assunto_cities_skylines  q4gfnofyqPA   \n",
       "8615    2024-01-23  assunto_cities_skylines  WKR-okKAagk   \n",
       "8616    2024-01-23  assunto_cities_skylines  4gfuvo_ETbw   \n",
       "8617    2024-01-23  assunto_cities_skylines  eSlVZlnXEHo   \n",
       "...            ...                      ...          ...   \n",
       "8843    2024-01-23  assunto_cities_skylines  Llcr630b8CE   \n",
       "8855    2024-01-23  assunto_cities_skylines  mjMCMNM-AOI   \n",
       "8856    2024-01-23  assunto_cities_skylines  21NHBH_8nWc   \n",
       "8857    2024-01-23  assunto_cities_skylines  pT7M1iH1s4M   \n",
       "8858    2024-01-23  assunto_cities_skylines  lTu4TRT-SoQ   \n",
       "\n",
       "                                           TITULO_VIDEO  \\\n",
       "8611     [buckshot, roulette, buckshotroulette, shorts]   \n",
       "8613                        [jogando, contexto, shorts]   \n",
       "8615                 [instalar, mods, cities, skylines]   \n",
       "8616  [expanso, malha, ferroviria, cidade, cities, s...   \n",
       "8617  [45, cities, skylines, tolerncia, sede, polcia...   \n",
       "...                                                 ...   \n",
       "8843  [cidade, mods, cities, skylines, iniciante, ci...   \n",
       "8855  [cities, skylines, mapa, picos, verdes, hand, ...   \n",
       "8856  [44, cities, skylines, enfim, trem, passageiro...   \n",
       "8857  [cities, skylines, mapa, picos, verdes, hand, ...   \n",
       "8858  [cities, skylines, ii, comeo, new, beginning, ...   \n",
       "\n",
       "                      ID_CANAL                      NM_CANAL  \n",
       "8611  UCL5k8vBBo1JOHh7AnvoD8xQ                 JulioGameplay  \n",
       "8613  UCL5k8vBBo1JOHh7AnvoD8xQ                 JulioGameplay  \n",
       "8615  UC1tTvOdY0rribnVuMDcDvKg                     RSTech BR  \n",
       "8616  UCIv5D2ro1owj6P7OdZ4-BiA      BL4D3N | Cities Skylines  \n",
       "8617  UC17XM9GSP667Hle_ce1JeJw                 AMJ Gameplays  \n",
       "...                        ...                           ...  \n",
       "8843  UCDqzBrUOm7guqqyU8eDackg                    BUG CITIES  \n",
       "8855  UC7v51W2NoLFawizgcNuVBOA  CANAL HAND - GAME WITH MUSIC  \n",
       "8856  UC17XM9GSP667Hle_ce1JeJw                 AMJ Gameplays  \n",
       "8857  UC7v51W2NoLFawizgcNuVBOA  CANAL HAND - GAME WITH MUSIC  \n",
       "8858  UCDqzBrUOm7guqqyU8eDackg                    BUG CITIES  \n",
       "\n",
       "[91 rows x 6 columns]"
      ]
     },
     "execution_count": 451,
     "metadata": {},
     "output_type": "execute_result"
    }
   ],
   "source": [
    "base_video_canal['TITULO_VIDEO'] = base_video_canal['TITULO_VIDEO'].apply(remove_stop_words)\n",
    "base_video_canal"
   ]
  },
  {
   "cell_type": "code",
   "execution_count": 452,
   "metadata": {},
   "outputs": [],
   "source": [
    "palavra_titulo_populares = {}\n",
    "for palavras_titulo in base_video_canal['TITULO_VIDEO']:\n",
    "    for palavra_titulo in palavras_titulo:\n",
    "        palavra_titulo = str(palavra_titulo)\n",
    "        if not palavra_titulo.isdigit():\n",
    "            if palavra_titulo in palavra_titulo_populares:\n",
    "                palavra_titulo_populares[palavra_titulo] += 1\n",
    "            else:\n",
    "                palavra_titulo_populares[palavra_titulo] = 1\n"
   ]
  },
  {
   "cell_type": "code",
   "execution_count": 453,
   "metadata": {},
   "outputs": [
    {
     "data": {
      "text/html": [
       "<div>\n",
       "<style scoped>\n",
       "    .dataframe tbody tr th:only-of-type {\n",
       "        vertical-align: middle;\n",
       "    }\n",
       "\n",
       "    .dataframe tbody tr th {\n",
       "        vertical-align: top;\n",
       "    }\n",
       "\n",
       "    .dataframe thead th {\n",
       "        text-align: right;\n",
       "    }\n",
       "</style>\n",
       "<table border=\"1\" class=\"dataframe\">\n",
       "  <thead>\n",
       "    <tr style=\"text-align: right;\">\n",
       "      <th></th>\n",
       "      <th>Palavra</th>\n",
       "      <th>Quantidade</th>\n",
       "    </tr>\n",
       "  </thead>\n",
       "  <tbody>\n",
       "    <tr>\n",
       "      <th>8</th>\n",
       "      <td>cities</td>\n",
       "      <td>65</td>\n",
       "    </tr>\n",
       "    <tr>\n",
       "      <th>9</th>\n",
       "      <td>skylines</td>\n",
       "      <td>64</td>\n",
       "    </tr>\n",
       "    <tr>\n",
       "      <th>3</th>\n",
       "      <td>shorts</td>\n",
       "      <td>21</td>\n",
       "    </tr>\n",
       "    <tr>\n",
       "      <th>17</th>\n",
       "      <td>gameplay</td>\n",
       "      <td>19</td>\n",
       "    </tr>\n",
       "    <tr>\n",
       "      <th>13</th>\n",
       "      <td>cidade</td>\n",
       "      <td>16</td>\n",
       "    </tr>\n",
       "    <tr>\n",
       "      <th>...</th>\n",
       "      <td>...</td>\n",
       "      <td>...</td>\n",
       "    </tr>\n",
       "    <tr>\n",
       "      <th>134</th>\n",
       "      <td>stop</td>\n",
       "      <td>1</td>\n",
       "    </tr>\n",
       "    <tr>\n",
       "      <th>135</th>\n",
       "      <td>letra</td>\n",
       "      <td>1</td>\n",
       "    </tr>\n",
       "    <tr>\n",
       "      <th>40</th>\n",
       "      <td>ep34ch34</td>\n",
       "      <td>1</td>\n",
       "    </tr>\n",
       "    <tr>\n",
       "      <th>32</th>\n",
       "      <td>vida</td>\n",
       "      <td>1</td>\n",
       "    </tr>\n",
       "    <tr>\n",
       "      <th>264</th>\n",
       "      <td>ep31ch31</td>\n",
       "      <td>1</td>\n",
       "    </tr>\n",
       "  </tbody>\n",
       "</table>\n",
       "<p>265 rows × 2 columns</p>\n",
       "</div>"
      ],
      "text/plain": [
       "      Palavra  Quantidade\n",
       "8      cities          65\n",
       "9    skylines          64\n",
       "3      shorts          21\n",
       "17   gameplay          19\n",
       "13     cidade          16\n",
       "..        ...         ...\n",
       "134      stop           1\n",
       "135     letra           1\n",
       "40   ep34ch34           1\n",
       "32       vida           1\n",
       "264  ep31ch31           1\n",
       "\n",
       "[265 rows x 2 columns]"
      ]
     },
     "execution_count": 453,
     "metadata": {},
     "output_type": "execute_result"
    }
   ],
   "source": [
    "df_palavra_titulo_populares = pd.DataFrame(list(palavra_titulo_populares.items()), columns=['Palavra', 'Quantidade'])\n",
    "\n",
    "df_palavra_titulo_populares.sort_values(by='Quantidade', ascending=False)"
   ]
  },
  {
   "cell_type": "code",
   "execution_count": 454,
   "metadata": {},
   "outputs": [
    {
     "data": {
      "text/plain": [
       "{'buckshot': 11,\n",
       " 'roulette': 12,\n",
       " 'buckshotroulette': 11,\n",
       " 'shorts': 21,\n",
       " 'jogando': 6,\n",
       " 'contexto': 1,\n",
       " 'instalar': 1,\n",
       " 'mods': 15,\n",
       " 'cities': 65,\n",
       " 'skylines': 64,\n",
       " 'expanso': 5,\n",
       " 'malha': 1,\n",
       " 'ferroviria': 1,\n",
       " 'cidade': 16,\n",
       " 'tolerncia': 1,\n",
       " 'sede': 1,\n",
       " 'polcia': 1,\n",
       " 'gameplay': 19,\n",
       " 'comentrios': 9,\n",
       " 'perdi': 1,\n",
       " 'simples': 1,\n",
       " 'erro': 1,\n",
       " 'cs2': 2,\n",
       " 'bairro': 1,\n",
       " 'inteiro': 1,\n",
       " 'atender': 1,\n",
       " 'demandas': 1,\n",
       " 'ptbr': 6,\n",
       " 'melhores': 1,\n",
       " 'jogos': 1,\n",
       " 'feitos': 1,\n",
       " 'unity': 1,\n",
       " 'vida': 1,\n",
       " 'prefeito': 2,\n",
       " 'ep': 8,\n",
       " 'citiesskylines2': 3,\n",
       " 'ii': 11,\n",
       " 'comeo': 7,\n",
       " 'new': 9,\n",
       " 'beginning': 7,\n",
       " 'ep34ch34': 1,\n",
       " 'live': 2,\n",
       " 'onn': 1,\n",
       " 'vanish': 1,\n",
       " 'roleplay': 4,\n",
       " 'mta': 4,\n",
       " 'gta': 4,\n",
       " 'san': 2,\n",
       " 'pc': 1,\n",
       " 'fraco': 1,\n",
       " 'algema': 1,\n",
       " 'sonho': 1,\n",
       " 'bunckshot': 1,\n",
       " 'deixando': 1,\n",
       " 'inimigo': 1,\n",
       " 'jogar': 2,\n",
       " 'update': 2,\n",
       " 'skyline': 1,\n",
       " 'venha': 1,\n",
       " 'transporte': 3,\n",
       " 'pblico': 3,\n",
       " 'vastoland': 1,\n",
       " 'ep28ch28': 1,\n",
       " 'tutorial': 2,\n",
       " 'energia': 1,\n",
       " 'workers': 1,\n",
       " 'resources': 1,\n",
       " 'soviet': 1,\n",
       " 'republic': 1,\n",
       " 'reforma': 2,\n",
       " 'martinpolis': 2,\n",
       " 'imparavel': 1,\n",
       " 'termo': 5,\n",
       " 'indstria': 2,\n",
       " 'siderrgica': 1,\n",
       " 'usinagem': 1,\n",
       " 'traz': 1,\n",
       " 'boom': 1,\n",
       " 'econmico': 1,\n",
       " '  ': 9,\n",
       " 'highrise': 3,\n",
       " 'city': 13,\n",
       " 'achando': 1,\n",
       " 'palavra': 3,\n",
       " 'noiva': 1,\n",
       " 'vivo': 1,\n",
       " '   ': 1,\n",
       " 'alebaguncinha': 1,\n",
       " 'fenix': 3,\n",
       " 'txis': 1,\n",
       " 'nibus': 1,\n",
       " 'anel': 1,\n",
       " 'rodovirio': 1,\n",
       " 'pt': 2,\n",
       " 'br': 2,\n",
       " 'gerando': 1,\n",
       " 'emprego': 1,\n",
       " 'mineral': 1,\n",
       " 'chamaro': 1,\n",
       " 'hack': 1,\n",
       " 'residncias': 1,\n",
       " 'urbanizao': 1,\n",
       " 'trfego': 1,\n",
       " 'conhea': 1,\n",
       " 'ilha': 2,\n",
       " 'tiochuckz': 1,\n",
       " 'vamos': 1,\n",
       " 'bater': 1,\n",
       " 'papo': 1,\n",
       " 'urgente': 1,\n",
       " 'incndios': 1,\n",
       " 'comrcios': 1,\n",
       " 'faculdade': 1,\n",
       " 'bondes': 1,\n",
       " 'chegam': 1,\n",
       " 'carlos': 1,\n",
       " 'centro': 1,\n",
       " 'avanada': 1,\n",
       " 'playstation': 2,\n",
       " 'riviera': 1,\n",
       " 'rea': 1,\n",
       " 'processamento': 1,\n",
       " 'fazenda': 1,\n",
       " 'incrvel': 1,\n",
       " 'jogo': 1,\n",
       " 'gerenciamento': 1,\n",
       " 'fbrica': 1,\n",
       " 'tanques': 1,\n",
       " 'arms': 1,\n",
       " 'trade': 1,\n",
       " 'tycoon': 1,\n",
       " 'tanks': 1,\n",
       " 'achei': 2,\n",
       " 'mineiro': 1,\n",
       " 'stop': 1,\n",
       " 'letra': 1,\n",
       " 'iniciante': 7,\n",
       " 'in': 9,\n",
       " 'beginner': 6,\n",
       " 'ep98': 1,\n",
       " 'ch98': 1,\n",
       " 'monte': 1,\n",
       " 'plano': 1,\n",
       " 'resolvendo': 2,\n",
       " 'problemas': 3,\n",
       " 'central': 1,\n",
       " 'park': 1,\n",
       " 'mapeamento': 1,\n",
       " 'citiesskylines': 2,\n",
       " 'sofrendo': 1,\n",
       " 'trilhos': 1,\n",
       " 'trem': 2,\n",
       " 'passageiros': 3,\n",
       " 'capturando': 1,\n",
       " 'guerrilheiro': 1,\n",
       " 'marco': 1,\n",
       " 'moreno': 1,\n",
       " 'tropico': 1,\n",
       " 'campanha': 1,\n",
       " 'finalmente': 2,\n",
       " 'fazendas': 1,\n",
       " 'arborettum': 1,\n",
       " 'ep04': 1,\n",
       " 'vanilla': 1,\n",
       " 'soluo': 1,\n",
       " 'produo': 1,\n",
       " 'hamilton': 1,\n",
       " 'comeando': 1,\n",
       " 'alta': 2,\n",
       " 'vista': 1,\n",
       " 'muita': 1,\n",
       " 'treta': 1,\n",
       " 'assembleia': 1,\n",
       " 'prefeitos': 1,\n",
       " 'multiplayer': 1,\n",
       " 'rx580': 1,\n",
       " 'roda': 1,\n",
       " 'atualizaes': 1,\n",
       " '1018f1': 1,\n",
       " 'kpop': 1,\n",
       " 'remaster': 1,\n",
       " 'dlc': 1,\n",
       " 'brpt': 1,\n",
       " 'webcam': 1,\n",
       " 'ps5': 1,\n",
       " 'ep95': 1,\n",
       " 'ch95': 1,\n",
       " 'ep94': 1,\n",
       " 'ch94': 1,\n",
       " 'ep29ch29': 1,\n",
       " 'projeto': 1,\n",
       " 'ibeginnerep100': 1,\n",
       " 'ch100': 1,\n",
       " 'desafio': 1,\n",
       " 'isolada': 1,\n",
       " 'populao': 1,\n",
       " 'fiquei': 1,\n",
       " 'rico': 2,\n",
       " 'agro': 1,\n",
       " 'aja': 1,\n",
       " 'paciencia': 1,\n",
       " 'pra': 1,\n",
       " 'roletarussa': 1,\n",
       " 'densidade': 1,\n",
       " 'ep29': 1,\n",
       " 'radeon': 1,\n",
       " 'hd': 2,\n",
       " 'gb': 1,\n",
       " 'test': 1,\n",
       " 'games': 1,\n",
       " 'ep99': 1,\n",
       " 'ch99': 1,\n",
       " 'querer': 1,\n",
       " 'sozinho': 1,\n",
       " 'aluno': 1,\n",
       " 'primeiros': 1,\n",
       " 'habitantes': 2,\n",
       " 'experincia': 1,\n",
       " 'priso': 1,\n",
       " 'fbi': 1,\n",
       " 'combater': 1,\n",
       " 'criminalidade': 1,\n",
       " 'trnsito': 1,\n",
       " 'episdio': 2,\n",
       " 'construindo': 1,\n",
       " 'melhorias': 1,\n",
       " 'samp': 1,\n",
       " 'hotwheels': 1,\n",
       " 'to': 1,\n",
       " 'brabo': 1,\n",
       " 'deu': 1,\n",
       " 'unban': 1,\n",
       " 'gratis': 1,\n",
       " 'noyse': 1,\n",
       " 'parque': 1,\n",
       " 'lagos': 1,\n",
       " 'artificais': 1,\n",
       " 'sorte': 2,\n",
       " 'acabou': 1,\n",
       " 'itaquera': 1,\n",
       " 'universidade': 1,\n",
       " 'metr': 1,\n",
       " 'porto': 1,\n",
       " 'azar': 1,\n",
       " 'ficar': 1,\n",
       " 'petrleo': 1,\n",
       " 'alcanando': 1,\n",
       " 'frentica': 1,\n",
       " 'expandindo': 1,\n",
       " 'ep97': 1,\n",
       " 'ch97': 1,\n",
       " 'ep33ch33': 1,\n",
       " 'ep32ch32': 1,\n",
       " 'organizao': 2,\n",
       " 'viria': 2,\n",
       " 'ep30ch30': 1,\n",
       " 'ep96': 1,\n",
       " 'ch96': 1,\n",
       " 'mapa': 2,\n",
       " 'picos': 2,\n",
       " 'verdes': 2,\n",
       " 'hand': 2,\n",
       " 'beach': 2,\n",
       " 'enfim': 1,\n",
       " 'ep31ch31': 1}"
      ]
     },
     "execution_count": 454,
     "metadata": {},
     "output_type": "execute_result"
    }
   ],
   "source": [
    "palavra_titulo_populares"
   ]
  },
  {
   "cell_type": "markdown",
   "metadata": {},
   "source": [
    "# Relação Taxa Engajamento X Duração Vídeo"
   ]
  },
  {
   "cell_type": "code",
   "execution_count": 7,
   "metadata": {},
   "outputs": [
    {
     "data": {
      "text/plain": [
       "Index(['ASSUNTO', 'data_extracao', 'DATA_PUBLICACAO', 'ID_CANAL', 'NM_CANAL',\n",
       "       'ID_CATEGORIA', 'ID_VIDEO', 'TITULO_VIDEO', 'DESCRICAO', 'TAGS',\n",
       "       'DURACAO_VIDEOS', 'TOTAL_VISUALIZACOES', 'TOTAL_LIKES',\n",
       "       'TOTAL_FAVORITOS', 'TOTAL_COMENTARIOS', 'data_hora_extracao',\n",
       "       'DURACAO_VIDEO_MINUTOS', 'TOTAL_CARACTERE_VIDEO', 'TOTAL_TAGS',\n",
       "       'HORA_EXTRACAO', 'TURNO_EXTRACAO', 'INDICE_TURNO_EXTRACAO'],\n",
       "      dtype='object')"
      ]
     },
     "execution_count": 7,
     "metadata": {},
     "output_type": "execute_result"
    }
   ],
   "source": [
    "base_completa.columns"
   ]
  },
  {
   "cell_type": "code",
   "execution_count": 19,
   "metadata": {},
   "outputs": [
    {
     "data": {
      "text/html": [
       "<div>\n",
       "<style scoped>\n",
       "    .dataframe tbody tr th:only-of-type {\n",
       "        vertical-align: middle;\n",
       "    }\n",
       "\n",
       "    .dataframe tbody tr th {\n",
       "        vertical-align: top;\n",
       "    }\n",
       "\n",
       "    .dataframe thead th {\n",
       "        text-align: right;\n",
       "    }\n",
       "</style>\n",
       "<table border=\"1\" class=\"dataframe\">\n",
       "  <thead>\n",
       "    <tr style=\"text-align: right;\">\n",
       "      <th></th>\n",
       "      <th>data_extracao</th>\n",
       "      <th>ASSUNTO</th>\n",
       "      <th>ID_VIDEO</th>\n",
       "      <th>TITULO_VIDEO</th>\n",
       "      <th>ID_CANAL</th>\n",
       "      <th>NM_CANAL</th>\n",
       "      <th>DURACAO_VIDEO_MINUTOS</th>\n",
       "      <th>TOTAL_VISUALIZACOES</th>\n",
       "      <th>TOTAL_LIKES</th>\n",
       "      <th>INDICE_TURNO_EXTRACAO</th>\n",
       "      <th>TOTAL_FAVORITOS</th>\n",
       "      <th>TOTAL_COMENTARIOS</th>\n",
       "    </tr>\n",
       "  </thead>\n",
       "  <tbody>\n",
       "    <tr>\n",
       "      <th>8611</th>\n",
       "      <td>2024-01-23</td>\n",
       "      <td>assunto_cities_skylines</td>\n",
       "      <td>38KqRAlHM2I</td>\n",
       "      <td>SOU MUITO BOM NO Buckshot roulette #buckshotro...</td>\n",
       "      <td>UCL5k8vBBo1JOHh7AnvoD8xQ</td>\n",
       "      <td>JulioGameplay</td>\n",
       "      <td>0.980000</td>\n",
       "      <td>9882</td>\n",
       "      <td>609</td>\n",
       "      <td>3</td>\n",
       "      <td>0</td>\n",
       "      <td>13</td>\n",
       "    </tr>\n",
       "    <tr>\n",
       "      <th>8618</th>\n",
       "      <td>2024-01-23</td>\n",
       "      <td>assunto_cities_skylines</td>\n",
       "      <td>eSlVZlnXEHo</td>\n",
       "      <td>#45 - Cities: Skylines 2 - Tolerância zero: Se...</td>\n",
       "      <td>UC17XM9GSP667Hle_ce1JeJw</td>\n",
       "      <td>AMJ Gameplays</td>\n",
       "      <td>37.970001</td>\n",
       "      <td>9</td>\n",
       "      <td>0</td>\n",
       "      <td>3</td>\n",
       "      <td>0</td>\n",
       "      <td>0</td>\n",
       "    </tr>\n",
       "    <tr>\n",
       "      <th>8619</th>\n",
       "      <td>2024-01-23</td>\n",
       "      <td>assunto_cities_skylines</td>\n",
       "      <td>d2LXShfdO9Q</td>\n",
       "      <td>perdi por 1 simples erro no buckshot roulette ...</td>\n",
       "      <td>UCL5k8vBBo1JOHh7AnvoD8xQ</td>\n",
       "      <td>JulioGameplay</td>\n",
       "      <td>0.980000</td>\n",
       "      <td>8976</td>\n",
       "      <td>348</td>\n",
       "      <td>3</td>\n",
       "      <td>0</td>\n",
       "      <td>11</td>\n",
       "    </tr>\n",
       "    <tr>\n",
       "      <th>8622</th>\n",
       "      <td>2024-01-23</td>\n",
       "      <td>assunto_cities_skylines</td>\n",
       "      <td>Q-wLBZ9OI1o</td>\n",
       "      <td>CS2 #32 | BAIRRO INTEIRO PARA TENTAR ATENDER D...</td>\n",
       "      <td>UCe9jrI0YQ5SM6h5QRZ9FZlA</td>\n",
       "      <td>Barbosa Cities</td>\n",
       "      <td>17.549999</td>\n",
       "      <td>8312</td>\n",
       "      <td>1189</td>\n",
       "      <td>3</td>\n",
       "      <td>0</td>\n",
       "      <td>52</td>\n",
       "    </tr>\n",
       "    <tr>\n",
       "      <th>8626</th>\n",
       "      <td>2024-01-23</td>\n",
       "      <td>assunto_cities_skylines</td>\n",
       "      <td>3VVcrPpoQ2M</td>\n",
       "      <td>Os 5 Melhores Jogos Feitos Na Unity 🎮</td>\n",
       "      <td>UCcVrstSSA7Zt5SkOZRlhVKw</td>\n",
       "      <td>Dede Joga!</td>\n",
       "      <td>9.930000</td>\n",
       "      <td>82</td>\n",
       "      <td>19</td>\n",
       "      <td>3</td>\n",
       "      <td>0</td>\n",
       "      <td>16</td>\n",
       "    </tr>\n",
       "    <tr>\n",
       "      <th>...</th>\n",
       "      <td>...</td>\n",
       "      <td>...</td>\n",
       "      <td>...</td>\n",
       "      <td>...</td>\n",
       "      <td>...</td>\n",
       "      <td>...</td>\n",
       "      <td>...</td>\n",
       "      <td>...</td>\n",
       "      <td>...</td>\n",
       "      <td>...</td>\n",
       "      <td>...</td>\n",
       "      <td>...</td>\n",
       "    </tr>\n",
       "    <tr>\n",
       "      <th>8854</th>\n",
       "      <td>2024-01-23</td>\n",
       "      <td>assunto_cities_skylines</td>\n",
       "      <td>FdGxglmL90Y</td>\n",
       "      <td>CITIES SKYLINES II - UM NOVO COMEÇO| A NEW BEG...</td>\n",
       "      <td>UCDqzBrUOm7guqqyU8eDackg</td>\n",
       "      <td>BUG CITIES</td>\n",
       "      <td>10.030000</td>\n",
       "      <td>1</td>\n",
       "      <td>0</td>\n",
       "      <td>3</td>\n",
       "      <td>0</td>\n",
       "      <td>0</td>\n",
       "    </tr>\n",
       "    <tr>\n",
       "      <th>8864</th>\n",
       "      <td>2024-01-23</td>\n",
       "      <td>assunto_cities_skylines</td>\n",
       "      <td>mjMCMNM-AOI</td>\n",
       "      <td>CITIES SKYLINES | MAPA PICOS VERDES | HAND BEA...</td>\n",
       "      <td>UC7v51W2NoLFawizgcNuVBOA</td>\n",
       "      <td>CANAL HAND - GAME WITH MUSIC</td>\n",
       "      <td>91.980003</td>\n",
       "      <td>0</td>\n",
       "      <td>0</td>\n",
       "      <td>3</td>\n",
       "      <td>0</td>\n",
       "      <td>0</td>\n",
       "    </tr>\n",
       "    <tr>\n",
       "      <th>8865</th>\n",
       "      <td>2024-01-23</td>\n",
       "      <td>assunto_cities_skylines</td>\n",
       "      <td>21NHBH_8nWc</td>\n",
       "      <td>#44 - Cities: Skylines 2 - Enfim, Trem de pass...</td>\n",
       "      <td>UC17XM9GSP667Hle_ce1JeJw</td>\n",
       "      <td>AMJ Gameplays</td>\n",
       "      <td>56.330002</td>\n",
       "      <td>0</td>\n",
       "      <td>0</td>\n",
       "      <td>3</td>\n",
       "      <td>0</td>\n",
       "      <td>0</td>\n",
       "    </tr>\n",
       "    <tr>\n",
       "      <th>8866</th>\n",
       "      <td>2024-01-23</td>\n",
       "      <td>assunto_cities_skylines</td>\n",
       "      <td>lTu4TRT-SoQ</td>\n",
       "      <td>CITIES SKYLINES II - UM NOVO COMEÇO| A NEW BEG...</td>\n",
       "      <td>UCDqzBrUOm7guqqyU8eDackg</td>\n",
       "      <td>BUG CITIES</td>\n",
       "      <td>38.869999</td>\n",
       "      <td>0</td>\n",
       "      <td>0</td>\n",
       "      <td>3</td>\n",
       "      <td>0</td>\n",
       "      <td>0</td>\n",
       "    </tr>\n",
       "    <tr>\n",
       "      <th>8867</th>\n",
       "      <td>2024-01-23</td>\n",
       "      <td>assunto_cities_skylines</td>\n",
       "      <td>pT7M1iH1s4M</td>\n",
       "      <td>CITIES SKYLINES | MAPA PICOS VERDES | HAND BEA...</td>\n",
       "      <td>UC7v51W2NoLFawizgcNuVBOA</td>\n",
       "      <td>CANAL HAND - GAME WITH MUSIC</td>\n",
       "      <td>58.299999</td>\n",
       "      <td>0</td>\n",
       "      <td>0</td>\n",
       "      <td>3</td>\n",
       "      <td>0</td>\n",
       "      <td>0</td>\n",
       "    </tr>\n",
       "  </tbody>\n",
       "</table>\n",
       "<p>91 rows × 12 columns</p>\n",
       "</div>"
      ],
      "text/plain": [
       "     data_extracao                  ASSUNTO     ID_VIDEO  \\\n",
       "8611    2024-01-23  assunto_cities_skylines  38KqRAlHM2I   \n",
       "8618    2024-01-23  assunto_cities_skylines  eSlVZlnXEHo   \n",
       "8619    2024-01-23  assunto_cities_skylines  d2LXShfdO9Q   \n",
       "8622    2024-01-23  assunto_cities_skylines  Q-wLBZ9OI1o   \n",
       "8626    2024-01-23  assunto_cities_skylines  3VVcrPpoQ2M   \n",
       "...            ...                      ...          ...   \n",
       "8854    2024-01-23  assunto_cities_skylines  FdGxglmL90Y   \n",
       "8864    2024-01-23  assunto_cities_skylines  mjMCMNM-AOI   \n",
       "8865    2024-01-23  assunto_cities_skylines  21NHBH_8nWc   \n",
       "8866    2024-01-23  assunto_cities_skylines  lTu4TRT-SoQ   \n",
       "8867    2024-01-23  assunto_cities_skylines  pT7M1iH1s4M   \n",
       "\n",
       "                                           TITULO_VIDEO  \\\n",
       "8611  SOU MUITO BOM NO Buckshot roulette #buckshotro...   \n",
       "8618  #45 - Cities: Skylines 2 - Tolerância zero: Se...   \n",
       "8619  perdi por 1 simples erro no buckshot roulette ...   \n",
       "8622  CS2 #32 | BAIRRO INTEIRO PARA TENTAR ATENDER D...   \n",
       "8626              Os 5 Melhores Jogos Feitos Na Unity 🎮   \n",
       "...                                                 ...   \n",
       "8854  CITIES SKYLINES II - UM NOVO COMEÇO| A NEW BEG...   \n",
       "8864  CITIES SKYLINES | MAPA PICOS VERDES | HAND BEA...   \n",
       "8865  #44 - Cities: Skylines 2 - Enfim, Trem de pass...   \n",
       "8866  CITIES SKYLINES II - UM NOVO COMEÇO| A NEW BEG...   \n",
       "8867  CITIES SKYLINES | MAPA PICOS VERDES | HAND BEA...   \n",
       "\n",
       "                      ID_CANAL                      NM_CANAL  \\\n",
       "8611  UCL5k8vBBo1JOHh7AnvoD8xQ                 JulioGameplay   \n",
       "8618  UC17XM9GSP667Hle_ce1JeJw                 AMJ Gameplays   \n",
       "8619  UCL5k8vBBo1JOHh7AnvoD8xQ                 JulioGameplay   \n",
       "8622  UCe9jrI0YQ5SM6h5QRZ9FZlA                Barbosa Cities   \n",
       "8626  UCcVrstSSA7Zt5SkOZRlhVKw                    Dede Joga!   \n",
       "...                        ...                           ...   \n",
       "8854  UCDqzBrUOm7guqqyU8eDackg                    BUG CITIES   \n",
       "8864  UC7v51W2NoLFawizgcNuVBOA  CANAL HAND - GAME WITH MUSIC   \n",
       "8865  UC17XM9GSP667Hle_ce1JeJw                 AMJ Gameplays   \n",
       "8866  UCDqzBrUOm7guqqyU8eDackg                    BUG CITIES   \n",
       "8867  UC7v51W2NoLFawizgcNuVBOA  CANAL HAND - GAME WITH MUSIC   \n",
       "\n",
       "      DURACAO_VIDEO_MINUTOS  TOTAL_VISUALIZACOES  TOTAL_LIKES  \\\n",
       "8611               0.980000                 9882          609   \n",
       "8618              37.970001                    9            0   \n",
       "8619               0.980000                 8976          348   \n",
       "8622              17.549999                 8312         1189   \n",
       "8626               9.930000                   82           19   \n",
       "...                     ...                  ...          ...   \n",
       "8854              10.030000                    1            0   \n",
       "8864              91.980003                    0            0   \n",
       "8865              56.330002                    0            0   \n",
       "8866              38.869999                    0            0   \n",
       "8867              58.299999                    0            0   \n",
       "\n",
       "      INDICE_TURNO_EXTRACAO  TOTAL_FAVORITOS  TOTAL_COMENTARIOS  \n",
       "8611                      3                0                 13  \n",
       "8618                      3                0                  0  \n",
       "8619                      3                0                 11  \n",
       "8622                      3                0                 52  \n",
       "8626                      3                0                 16  \n",
       "...                     ...              ...                ...  \n",
       "8854                      3                0                  0  \n",
       "8864                      3                0                  0  \n",
       "8865                      3                0                  0  \n",
       "8866                      3                0                  0  \n",
       "8867                      3                0                  0  \n",
       "\n",
       "[91 rows x 12 columns]"
      ]
     },
     "execution_count": 19,
     "metadata": {},
     "output_type": "execute_result"
    }
   ],
   "source": [
    "colunas = ['data_extracao', 'ASSUNTO', 'ID_VIDEO', 'TITULO_VIDEO','ID_CANAL', 'NM_CANAL' , 'DURACAO_VIDEO_MINUTOS', 'TOTAL_VISUALIZACOES', 'TOTAL_LIKES', 'INDICE_TURNO_EXTRACAO',\n",
    "       'TOTAL_FAVORITOS', 'TOTAL_COMENTARIOS', ]\n",
    "base_video_canal = pd.read_parquet('../dados/ouro/dados_tratado_estatisticas_gerais.parquet', columns=colunas)\n",
    "base_video_canal = base_video_canal.query('ASSUNTO == \"assunto_cities_skylines\" and data_extracao == \"2024-01-23\" and INDICE_TURNO_EXTRACAO == 3   ')\n",
    "base_video_canal.fillna('[]', inplace=True)\n",
    "base_video_canal.drop_duplicates(inplace=True)\n",
    "base_video_canal"
   ]
  },
  {
   "cell_type": "code",
   "execution_count": 21,
   "metadata": {},
   "outputs": [],
   "source": [
    "base_video_canal['TAXA_ENGAJAMENTO'] = ((base_video_canal['TOTAL_LIKES'] + base_video_canal['TOTAL_COMENTARIOS']) / base_video_canal['TOTAL_VISUALIZACOES']) * 100\n",
    "base_video_canal.fillna(0, inplace=True)\n"
   ]
  },
  {
   "cell_type": "code",
   "execution_count": 26,
   "metadata": {},
   "outputs": [
    {
     "data": {
      "application/vnd.plotly.v1+json": {
       "config": {
        "plotlyServerURL": "https://plot.ly"
       },
       "data": [
        {
         "hovertemplate": "DURACAO_VIDEO_MINUTOS=%{x}<br>TAXA_ENGAJAMENTO=%{y}<extra></extra>",
         "legendgroup": "",
         "line": {
          "color": "#636efa",
          "dash": "solid"
         },
         "marker": {
          "symbol": "circle"
         },
         "mode": "lines",
         "name": "",
         "orientation": "v",
         "showlegend": false,
         "type": "scatter",
         "x": [
          0.9800000190734863,
          37.970001220703125,
          0.9800000190734863,
          17.549999237060547,
          9.930000305175781,
          0.9300000071525574,
          10.130000114440918,
          82.9000015258789,
          0.6700000166893005,
          0.7699999809265137,
          0.7799999713897705,
          87.7699966430664,
          19.280000686645508,
          10.149999618530273,
          0.949999988079071,
          29.8799991607666,
          0.9800000190734863,
          140.6999969482422,
          37.130001068115234,
          18.56999969482422,
          17.420000076293945,
          23.479999542236328,
          28.280000686645508,
          39.70000076293945,
          169.8300018310547,
          50.20000076293945,
          40.77000045776367,
          41.22999954223633,
          35.880001068115234,
          0.5,
          22.079999923706055,
          24.329999923706055,
          38.29999923706055,
          0.7300000190734863,
          10,
          33.93000030517578,
          10,
          61.599998474121094,
          50.220001220703125,
          90.0199966430664,
          23.170000076293945,
          37.27000045776367,
          0.33000001311302185,
          152.77000427246094,
          71.12000274658203,
          10.319999694824219,
          10.119999885559082,
          10.100000381469727,
          10.170000076293945,
          12.949999809265137,
          499.25,
          0.5699999928474426,
          17.200000762939453,
          0.6200000047683716,
          32.31999969482422,
          89.5999984741211,
          10.229999542236328,
          23.270000457763672,
          33.66999816894531,
          0.6800000071525574,
          0.6299999952316284,
          8.579999923706055,
          15.569999694824219,
          52.349998474121094,
          7.03000020980835,
          38.25,
          19.850000381469727,
          1.0199999809265137,
          0.5699999928474426,
          71.02999877929688,
          2.4800000190734863,
          35.099998474121094,
          0.6200000047683716,
          57.119998931884766,
          0.800000011920929,
          0.949999988079071,
          21.200000762939453,
          14.220000267028809,
          26.649999618530273,
          61.56999969482422,
          0.8999999761581421,
          0.9800000190734863,
          8.600000381469727,
          10,
          10,
          19.06999969482422,
          10.029999732971191,
          91.9800033569336,
          56.33000183105469,
          38.869998931884766,
          58.29999923706055
         ],
         "xaxis": "x",
         "y": [
          6.294272414490994,
          0,
          3.999554367201426,
          14.930221366698749,
          42.68292682926829,
          50,
          0,
          8.974358974358974,
          5.04735954327235,
          7.004253056884637,
          6.2857142857142865,
          0,
          42.857142857142854,
          14.285714285714285,
          34.32835820895522,
          15.317615257546176,
          7.535393514994672,
          7.6923076923076925,
          20.706260032102726,
          19.705787261558356,
          12.438625204582651,
          66.66666666666666,
          16.031631919482386,
          17.288801571709232,
          26,
          0,
          0,
          0,
          20,
          5.8130081300813,
          4.081632653061225,
          18.04069645479337,
          30.49706967657912,
          5.898244034218821,
          0,
          0,
          25,
          75,
          0,
          5.555555555555555,
          16.13995485327314,
          11.210494931425163,
          6.25,
          6.25,
          6.451612903225806,
          0,
          0,
          0,
          33.33333333333333,
          0,
          9.051254089422029,
          6.145251396648044,
          8.799999999999999,
          5.523731587561375,
          14.248366013071895,
          10,
          0,
          100,
          250,
          5.342741935483871,
          11.456713322965268,
          22.22222222222222,
          68.75,
          12.5,
          0,
          15.519937451133698,
          14.278524696239844,
          8.02919708029197,
          4.275302426929146,
          16.666666666666664,
          40.909090909090914,
          13.791796193797861,
          4.2875774372350826,
          25,
          4.752756431673906,
          5.729474305965741,
          18.01801801801802,
          27.27272727272727,
          12.463423555230431,
          17.431192660550458,
          8.412098298676748,
          8.275174476570289,
          0,
          100,
          0,
          0,
          0,
          0,
          0,
          0,
          0
         ],
         "yaxis": "y"
        }
       ],
       "layout": {
        "legend": {
         "tracegroupgap": 0
        },
        "margin": {
         "t": 60
        },
        "template": {
         "data": {
          "bar": [
           {
            "error_x": {
             "color": "#2a3f5f"
            },
            "error_y": {
             "color": "#2a3f5f"
            },
            "marker": {
             "line": {
              "color": "#E5ECF6",
              "width": 0.5
             },
             "pattern": {
              "fillmode": "overlay",
              "size": 10,
              "solidity": 0.2
             }
            },
            "type": "bar"
           }
          ],
          "barpolar": [
           {
            "marker": {
             "line": {
              "color": "#E5ECF6",
              "width": 0.5
             },
             "pattern": {
              "fillmode": "overlay",
              "size": 10,
              "solidity": 0.2
             }
            },
            "type": "barpolar"
           }
          ],
          "carpet": [
           {
            "aaxis": {
             "endlinecolor": "#2a3f5f",
             "gridcolor": "white",
             "linecolor": "white",
             "minorgridcolor": "white",
             "startlinecolor": "#2a3f5f"
            },
            "baxis": {
             "endlinecolor": "#2a3f5f",
             "gridcolor": "white",
             "linecolor": "white",
             "minorgridcolor": "white",
             "startlinecolor": "#2a3f5f"
            },
            "type": "carpet"
           }
          ],
          "choropleth": [
           {
            "colorbar": {
             "outlinewidth": 0,
             "ticks": ""
            },
            "type": "choropleth"
           }
          ],
          "contour": [
           {
            "colorbar": {
             "outlinewidth": 0,
             "ticks": ""
            },
            "colorscale": [
             [
              0,
              "#0d0887"
             ],
             [
              0.1111111111111111,
              "#46039f"
             ],
             [
              0.2222222222222222,
              "#7201a8"
             ],
             [
              0.3333333333333333,
              "#9c179e"
             ],
             [
              0.4444444444444444,
              "#bd3786"
             ],
             [
              0.5555555555555556,
              "#d8576b"
             ],
             [
              0.6666666666666666,
              "#ed7953"
             ],
             [
              0.7777777777777778,
              "#fb9f3a"
             ],
             [
              0.8888888888888888,
              "#fdca26"
             ],
             [
              1,
              "#f0f921"
             ]
            ],
            "type": "contour"
           }
          ],
          "contourcarpet": [
           {
            "colorbar": {
             "outlinewidth": 0,
             "ticks": ""
            },
            "type": "contourcarpet"
           }
          ],
          "heatmap": [
           {
            "colorbar": {
             "outlinewidth": 0,
             "ticks": ""
            },
            "colorscale": [
             [
              0,
              "#0d0887"
             ],
             [
              0.1111111111111111,
              "#46039f"
             ],
             [
              0.2222222222222222,
              "#7201a8"
             ],
             [
              0.3333333333333333,
              "#9c179e"
             ],
             [
              0.4444444444444444,
              "#bd3786"
             ],
             [
              0.5555555555555556,
              "#d8576b"
             ],
             [
              0.6666666666666666,
              "#ed7953"
             ],
             [
              0.7777777777777778,
              "#fb9f3a"
             ],
             [
              0.8888888888888888,
              "#fdca26"
             ],
             [
              1,
              "#f0f921"
             ]
            ],
            "type": "heatmap"
           }
          ],
          "heatmapgl": [
           {
            "colorbar": {
             "outlinewidth": 0,
             "ticks": ""
            },
            "colorscale": [
             [
              0,
              "#0d0887"
             ],
             [
              0.1111111111111111,
              "#46039f"
             ],
             [
              0.2222222222222222,
              "#7201a8"
             ],
             [
              0.3333333333333333,
              "#9c179e"
             ],
             [
              0.4444444444444444,
              "#bd3786"
             ],
             [
              0.5555555555555556,
              "#d8576b"
             ],
             [
              0.6666666666666666,
              "#ed7953"
             ],
             [
              0.7777777777777778,
              "#fb9f3a"
             ],
             [
              0.8888888888888888,
              "#fdca26"
             ],
             [
              1,
              "#f0f921"
             ]
            ],
            "type": "heatmapgl"
           }
          ],
          "histogram": [
           {
            "marker": {
             "pattern": {
              "fillmode": "overlay",
              "size": 10,
              "solidity": 0.2
             }
            },
            "type": "histogram"
           }
          ],
          "histogram2d": [
           {
            "colorbar": {
             "outlinewidth": 0,
             "ticks": ""
            },
            "colorscale": [
             [
              0,
              "#0d0887"
             ],
             [
              0.1111111111111111,
              "#46039f"
             ],
             [
              0.2222222222222222,
              "#7201a8"
             ],
             [
              0.3333333333333333,
              "#9c179e"
             ],
             [
              0.4444444444444444,
              "#bd3786"
             ],
             [
              0.5555555555555556,
              "#d8576b"
             ],
             [
              0.6666666666666666,
              "#ed7953"
             ],
             [
              0.7777777777777778,
              "#fb9f3a"
             ],
             [
              0.8888888888888888,
              "#fdca26"
             ],
             [
              1,
              "#f0f921"
             ]
            ],
            "type": "histogram2d"
           }
          ],
          "histogram2dcontour": [
           {
            "colorbar": {
             "outlinewidth": 0,
             "ticks": ""
            },
            "colorscale": [
             [
              0,
              "#0d0887"
             ],
             [
              0.1111111111111111,
              "#46039f"
             ],
             [
              0.2222222222222222,
              "#7201a8"
             ],
             [
              0.3333333333333333,
              "#9c179e"
             ],
             [
              0.4444444444444444,
              "#bd3786"
             ],
             [
              0.5555555555555556,
              "#d8576b"
             ],
             [
              0.6666666666666666,
              "#ed7953"
             ],
             [
              0.7777777777777778,
              "#fb9f3a"
             ],
             [
              0.8888888888888888,
              "#fdca26"
             ],
             [
              1,
              "#f0f921"
             ]
            ],
            "type": "histogram2dcontour"
           }
          ],
          "mesh3d": [
           {
            "colorbar": {
             "outlinewidth": 0,
             "ticks": ""
            },
            "type": "mesh3d"
           }
          ],
          "parcoords": [
           {
            "line": {
             "colorbar": {
              "outlinewidth": 0,
              "ticks": ""
             }
            },
            "type": "parcoords"
           }
          ],
          "pie": [
           {
            "automargin": true,
            "type": "pie"
           }
          ],
          "scatter": [
           {
            "fillpattern": {
             "fillmode": "overlay",
             "size": 10,
             "solidity": 0.2
            },
            "type": "scatter"
           }
          ],
          "scatter3d": [
           {
            "line": {
             "colorbar": {
              "outlinewidth": 0,
              "ticks": ""
             }
            },
            "marker": {
             "colorbar": {
              "outlinewidth": 0,
              "ticks": ""
             }
            },
            "type": "scatter3d"
           }
          ],
          "scattercarpet": [
           {
            "marker": {
             "colorbar": {
              "outlinewidth": 0,
              "ticks": ""
             }
            },
            "type": "scattercarpet"
           }
          ],
          "scattergeo": [
           {
            "marker": {
             "colorbar": {
              "outlinewidth": 0,
              "ticks": ""
             }
            },
            "type": "scattergeo"
           }
          ],
          "scattergl": [
           {
            "marker": {
             "colorbar": {
              "outlinewidth": 0,
              "ticks": ""
             }
            },
            "type": "scattergl"
           }
          ],
          "scattermapbox": [
           {
            "marker": {
             "colorbar": {
              "outlinewidth": 0,
              "ticks": ""
             }
            },
            "type": "scattermapbox"
           }
          ],
          "scatterpolar": [
           {
            "marker": {
             "colorbar": {
              "outlinewidth": 0,
              "ticks": ""
             }
            },
            "type": "scatterpolar"
           }
          ],
          "scatterpolargl": [
           {
            "marker": {
             "colorbar": {
              "outlinewidth": 0,
              "ticks": ""
             }
            },
            "type": "scatterpolargl"
           }
          ],
          "scatterternary": [
           {
            "marker": {
             "colorbar": {
              "outlinewidth": 0,
              "ticks": ""
             }
            },
            "type": "scatterternary"
           }
          ],
          "surface": [
           {
            "colorbar": {
             "outlinewidth": 0,
             "ticks": ""
            },
            "colorscale": [
             [
              0,
              "#0d0887"
             ],
             [
              0.1111111111111111,
              "#46039f"
             ],
             [
              0.2222222222222222,
              "#7201a8"
             ],
             [
              0.3333333333333333,
              "#9c179e"
             ],
             [
              0.4444444444444444,
              "#bd3786"
             ],
             [
              0.5555555555555556,
              "#d8576b"
             ],
             [
              0.6666666666666666,
              "#ed7953"
             ],
             [
              0.7777777777777778,
              "#fb9f3a"
             ],
             [
              0.8888888888888888,
              "#fdca26"
             ],
             [
              1,
              "#f0f921"
             ]
            ],
            "type": "surface"
           }
          ],
          "table": [
           {
            "cells": {
             "fill": {
              "color": "#EBF0F8"
             },
             "line": {
              "color": "white"
             }
            },
            "header": {
             "fill": {
              "color": "#C8D4E3"
             },
             "line": {
              "color": "white"
             }
            },
            "type": "table"
           }
          ]
         },
         "layout": {
          "annotationdefaults": {
           "arrowcolor": "#2a3f5f",
           "arrowhead": 0,
           "arrowwidth": 1
          },
          "autotypenumbers": "strict",
          "coloraxis": {
           "colorbar": {
            "outlinewidth": 0,
            "ticks": ""
           }
          },
          "colorscale": {
           "diverging": [
            [
             0,
             "#8e0152"
            ],
            [
             0.1,
             "#c51b7d"
            ],
            [
             0.2,
             "#de77ae"
            ],
            [
             0.3,
             "#f1b6da"
            ],
            [
             0.4,
             "#fde0ef"
            ],
            [
             0.5,
             "#f7f7f7"
            ],
            [
             0.6,
             "#e6f5d0"
            ],
            [
             0.7,
             "#b8e186"
            ],
            [
             0.8,
             "#7fbc41"
            ],
            [
             0.9,
             "#4d9221"
            ],
            [
             1,
             "#276419"
            ]
           ],
           "sequential": [
            [
             0,
             "#0d0887"
            ],
            [
             0.1111111111111111,
             "#46039f"
            ],
            [
             0.2222222222222222,
             "#7201a8"
            ],
            [
             0.3333333333333333,
             "#9c179e"
            ],
            [
             0.4444444444444444,
             "#bd3786"
            ],
            [
             0.5555555555555556,
             "#d8576b"
            ],
            [
             0.6666666666666666,
             "#ed7953"
            ],
            [
             0.7777777777777778,
             "#fb9f3a"
            ],
            [
             0.8888888888888888,
             "#fdca26"
            ],
            [
             1,
             "#f0f921"
            ]
           ],
           "sequentialminus": [
            [
             0,
             "#0d0887"
            ],
            [
             0.1111111111111111,
             "#46039f"
            ],
            [
             0.2222222222222222,
             "#7201a8"
            ],
            [
             0.3333333333333333,
             "#9c179e"
            ],
            [
             0.4444444444444444,
             "#bd3786"
            ],
            [
             0.5555555555555556,
             "#d8576b"
            ],
            [
             0.6666666666666666,
             "#ed7953"
            ],
            [
             0.7777777777777778,
             "#fb9f3a"
            ],
            [
             0.8888888888888888,
             "#fdca26"
            ],
            [
             1,
             "#f0f921"
            ]
           ]
          },
          "colorway": [
           "#636efa",
           "#EF553B",
           "#00cc96",
           "#ab63fa",
           "#FFA15A",
           "#19d3f3",
           "#FF6692",
           "#B6E880",
           "#FF97FF",
           "#FECB52"
          ],
          "font": {
           "color": "#2a3f5f"
          },
          "geo": {
           "bgcolor": "white",
           "lakecolor": "white",
           "landcolor": "#E5ECF6",
           "showlakes": true,
           "showland": true,
           "subunitcolor": "white"
          },
          "hoverlabel": {
           "align": "left"
          },
          "hovermode": "closest",
          "mapbox": {
           "style": "light"
          },
          "paper_bgcolor": "white",
          "plot_bgcolor": "#E5ECF6",
          "polar": {
           "angularaxis": {
            "gridcolor": "white",
            "linecolor": "white",
            "ticks": ""
           },
           "bgcolor": "#E5ECF6",
           "radialaxis": {
            "gridcolor": "white",
            "linecolor": "white",
            "ticks": ""
           }
          },
          "scene": {
           "xaxis": {
            "backgroundcolor": "#E5ECF6",
            "gridcolor": "white",
            "gridwidth": 2,
            "linecolor": "white",
            "showbackground": true,
            "ticks": "",
            "zerolinecolor": "white"
           },
           "yaxis": {
            "backgroundcolor": "#E5ECF6",
            "gridcolor": "white",
            "gridwidth": 2,
            "linecolor": "white",
            "showbackground": true,
            "ticks": "",
            "zerolinecolor": "white"
           },
           "zaxis": {
            "backgroundcolor": "#E5ECF6",
            "gridcolor": "white",
            "gridwidth": 2,
            "linecolor": "white",
            "showbackground": true,
            "ticks": "",
            "zerolinecolor": "white"
           }
          },
          "shapedefaults": {
           "line": {
            "color": "#2a3f5f"
           }
          },
          "ternary": {
           "aaxis": {
            "gridcolor": "white",
            "linecolor": "white",
            "ticks": ""
           },
           "baxis": {
            "gridcolor": "white",
            "linecolor": "white",
            "ticks": ""
           },
           "bgcolor": "#E5ECF6",
           "caxis": {
            "gridcolor": "white",
            "linecolor": "white",
            "ticks": ""
           }
          },
          "title": {
           "x": 0.05
          },
          "xaxis": {
           "automargin": true,
           "gridcolor": "white",
           "linecolor": "white",
           "ticks": "",
           "title": {
            "standoff": 15
           },
           "zerolinecolor": "white",
           "zerolinewidth": 2
          },
          "yaxis": {
           "automargin": true,
           "gridcolor": "white",
           "linecolor": "white",
           "ticks": "",
           "title": {
            "standoff": 15
           },
           "zerolinecolor": "white",
           "zerolinewidth": 2
          }
         }
        },
        "xaxis": {
         "anchor": "y",
         "domain": [
          0,
          1
         ],
         "title": {
          "text": "DURACAO_VIDEO_MINUTOS"
         }
        },
        "yaxis": {
         "anchor": "x",
         "domain": [
          0,
          1
         ],
         "title": {
          "text": "TAXA_ENGAJAMENTO"
         }
        }
       }
      }
     },
     "metadata": {},
     "output_type": "display_data"
    }
   ],
   "source": [
    "fig = px.line(base_video_canal, x='DURACAO_VIDEO_MINUTOS', y='TAXA_ENGAJAMENTO')\n",
    "fig.show()"
   ]
  },
  {
   "cell_type": "code",
   "execution_count": 27,
   "metadata": {},
   "outputs": [
    {
     "data": {
      "text/html": [
       "<div>\n",
       "<style scoped>\n",
       "    .dataframe tbody tr th:only-of-type {\n",
       "        vertical-align: middle;\n",
       "    }\n",
       "\n",
       "    .dataframe tbody tr th {\n",
       "        vertical-align: top;\n",
       "    }\n",
       "\n",
       "    .dataframe thead th {\n",
       "        text-align: right;\n",
       "    }\n",
       "</style>\n",
       "<table border=\"1\" class=\"dataframe\">\n",
       "  <thead>\n",
       "    <tr style=\"text-align: right;\">\n",
       "      <th></th>\n",
       "      <th>DURACAO_VIDEO_MINUTOS</th>\n",
       "      <th>TAXA_ENGAJAMENTO</th>\n",
       "    </tr>\n",
       "  </thead>\n",
       "  <tbody>\n",
       "    <tr>\n",
       "      <th>DURACAO_VIDEO_MINUTOS</th>\n",
       "      <td>1.000000</td>\n",
       "      <td>-0.028448</td>\n",
       "    </tr>\n",
       "    <tr>\n",
       "      <th>TAXA_ENGAJAMENTO</th>\n",
       "      <td>-0.028448</td>\n",
       "      <td>1.000000</td>\n",
       "    </tr>\n",
       "  </tbody>\n",
       "</table>\n",
       "</div>"
      ],
      "text/plain": [
       "                       DURACAO_VIDEO_MINUTOS  TAXA_ENGAJAMENTO\n",
       "DURACAO_VIDEO_MINUTOS               1.000000         -0.028448\n",
       "TAXA_ENGAJAMENTO                   -0.028448          1.000000"
      ]
     },
     "execution_count": 27,
     "metadata": {},
     "output_type": "execute_result"
    }
   ],
   "source": [
    "base_video_canal[['DURACAO_VIDEO_MINUTOS', 'TAXA_ENGAJAMENTO']].corr()"
   ]
  }
 ],
 "metadata": {
  "kernelspec": {
   "display_name": "venv",
   "language": "python",
   "name": "python3"
  },
  "language_info": {
   "codemirror_mode": {
    "name": "ipython",
    "version": 3
   },
   "file_extension": ".py",
   "mimetype": "text/x-python",
   "name": "python",
   "nbconvert_exporter": "python",
   "pygments_lexer": "ipython3",
   "version": "3.10.12"
  }
 },
 "nbformat": 4,
 "nbformat_minor": 2
}

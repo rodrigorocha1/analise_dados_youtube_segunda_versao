{
 "cells": [
  {
   "cell_type": "code",
   "execution_count": 79,
   "metadata": {},
   "outputs": [],
   "source": [
    "from pyspark.sql import SparkSession, DataFrame\n",
    "import pyspark.sql.functions as F\n",
    "import duckdb"
   ]
  },
  {
   "cell_type": "code",
   "execution_count": 68,
   "metadata": {},
   "outputs": [],
   "source": [
    "spark = SparkSession.builder.appName('DEPARA').getOrCreate()"
   ]
  },
  {
   "cell_type": "code",
   "execution_count": 69,
   "metadata": {},
   "outputs": [
    {
     "name": "stdout",
     "output_type": "stream",
     "text": [
      "+-------------------+--------------------+--------------------+---------------+-----------------------+-------------------+------------+------------+------------+------------+--------------+\n",
      "|      DATA_EXTRACAO|            ID_CANAL|            NM_CANAL|TOTAL_INSCRITOS|TOTAL_VIDEOS_PUBLICADOS|TOTAL_VISUALIZACOES|     ASSUNTO|ANO_EXTRACAO|MES_EXTRACAO|DIA_EXTRACAO|TURNO_EXTRACAO|\n",
      "+-------------------+--------------------+--------------------+---------------+-----------------------+-------------------+------------+------------+------------+------------+--------------+\n",
      "|2024-07-23 17:01:04|UCugnQIyiYZczLEAf...|Resultados Inteli...|              9|                      3|                 84|python_dados|        2024|           7|          23|         Tarde|\n",
      "|2024-07-23 17:01:05|UCqmJGTdcMIRXOZuu...|Waldemar Neto - D...|          20500|                    172|             895177|python_dados|        2024|           7|          23|         Tarde|\n",
      "|2024-07-23 17:01:05|UChvwkhC3eHxJsVxW...|Estratégia Concursos|        2710000|                  22520|          232464359|python_dados|        2024|           7|          23|         Tarde|\n",
      "|2024-07-23 17:01:05|UCi8P9S-PW7AF71g8...|Acadi-TI - Academ...|          16800|                    117|             172545|python_dados|        2024|           7|          23|         Tarde|\n",
      "|2024-07-23 17:01:05|UCFVystQhz_-MeIGg...|     Flamengo Online|          80300|                   9167|           57920079|python_dados|        2024|           7|          23|         Tarde|\n",
      "|2024-07-23 17:01:05|UCcZs-ZgGsVpg5LGV...|           ProEvolua|           2420|                     54|              30214|python_dados|        2024|           7|          23|         Tarde|\n",
      "|2024-07-23 17:01:05|UCmv5YuV0m0Tg1MTL...|   Universo  Curioso|           4500|                    146|              51598|python_dados|        2024|           7|          23|         Tarde|\n",
      "|2024-07-23 17:01:05|UCbxOci4TMmzJJA46...|          Irmãos Dev|             69|                      9|                220|python_dados|        2024|           7|          23|         Tarde|\n",
      "|2024-07-23 17:01:05|UC_8CzrTagsQ_1vop...|Grupo Utah Consul...|           7700|                      5|              12628|python_dados|        2024|           7|          23|         Tarde|\n",
      "|2024-07-23 17:01:05|UCvMmv1qKphatAWH7...|     Computação Raiz|           1440|                    116|              80893|python_dados|        2024|           7|          23|         Tarde|\n",
      "|2024-07-23 17:01:05|UCsKmkCa8BMdwh_2o...|DevClub | Análise...|            587|                     18|              13880|python_dados|        2024|           7|          23|         Tarde|\n",
      "|2024-07-23 17:01:05|UCqqJsllgIjDZjLE7...|        webmundi.com|           9630|                    173|            1112760|python_dados|        2024|           7|          23|         Tarde|\n",
      "|2024-07-23 17:01:06|UCkfyKm2S5eSurJDt...|        Guia Anônima|          94300|                    700|            4737641|python_dados|        2024|           7|          23|         Tarde|\n",
      "|2024-07-23 17:01:06|UCwwLM_dJ2o52sTJH...|Ciência de Dados ...|             72|                    142|               5635|python_dados|        2024|           7|          23|         Tarde|\n",
      "|2024-07-23 17:01:06|UCevpIU8i-pdoKOxU...|     Mundo AUTOMATIK|           3340|                     67|             110737|python_dados|        2024|           7|          23|         Tarde|\n",
      "|2024-07-23 17:01:06|UCPMNnaMd4y2zfLUv...|          PodCaverna|           3670|                   1461|             524415|python_dados|        2024|           7|          23|         Tarde|\n",
      "|2024-07-23 17:01:06|UCDvA6dimWFCsbYdh...|  Niteo Technologies|           4230|                    169|             574377|python_dados|        2024|           7|          23|         Tarde|\n",
      "|2024-07-23 17:01:06|UCsRCtkY7CzttkLFI...|Professor Eugenio...|            251|                     51|               6703|python_dados|        2024|           7|          23|         Tarde|\n",
      "|2024-07-23 17:01:06|UC70mr11REaCqgKke...|Programação Dinâmica|         198000|                    598|            6633998|python_dados|        2024|           7|          23|         Tarde|\n",
      "|2024-07-23 17:01:06|UCdHR_M4vqK1rtKo5...|         Mente Maker|           1190|                    427|             114837|python_dados|        2024|           7|          23|         Tarde|\n",
      "+-------------------+--------------------+--------------------+---------------+-----------------------+-------------------+------------+------------+------------+------------+--------------+\n",
      "only showing top 20 rows\n",
      "\n"
     ]
    }
   ],
   "source": [
    "df_estatisticas_canais = spark.read.parquet('../datalake/prata/estatisticas_canais/estatisticas_canais.parquet/')\n",
    "df_estatisticas_canais.show()"
   ]
  },
  {
   "cell_type": "code",
   "execution_count": 70,
   "metadata": {},
   "outputs": [
    {
     "name": "stdout",
     "output_type": "stream",
     "text": [
      "+-------------------+--------------------+--------------------+---------------+-----------------------+-------------------+------------+------------+------------+------------+--------------+\n",
      "|      DATA_EXTRACAO|            ID_CANAL|            NM_CANAL|TOTAL_INSCRITOS|TOTAL_VIDEOS_PUBLICADOS|TOTAL_VISUALIZACOES|     ASSUNTO|ANO_EXTRACAO|MES_EXTRACAO|DIA_EXTRACAO|TURNO_EXTRACAO|\n",
      "+-------------------+--------------------+--------------------+---------------+-----------------------+-------------------+------------+------------+------------+------------+--------------+\n",
      "|2024-07-20 18:13:46|UCShgvN-cGaRtsu4J...|       Análise Macro|           6430|                    479|             242007|python_dados|        2024|           7|          20|         Noite|\n",
      "|2024-07-20 18:13:46|UCs7_1qf2plPkoUnh...|FM2S Educação e C...|          24300|                    548|            2299976|python_dados|        2024|           7|          20|         Noite|\n",
      "|2024-07-20 18:13:46|UCXAph_oHxQlE7dJA...|      Vagner Fonseca|          13000|                    177|             558955|python_dados|        2024|           7|          20|         Noite|\n",
      "|2024-07-20 18:13:46|UCmv5YuV0m0Tg1MTL...|   Universo  Curioso|           4390|                    119|              35852|python_dados|        2024|           7|          20|         Noite|\n",
      "|2024-07-20 18:13:46|UCDvA6dimWFCsbYdh...|  Niteo Technologies|           4210|                    168|             572122|python_dados|        2024|           7|          20|         Noite|\n",
      "|2024-07-20 18:13:46|UCSCtlb4ozQxyuaRa...|        devAnalytics|           9340|                    186|             344229|python_dados|        2024|           7|          20|         Noite|\n",
      "|2024-07-20 18:13:46|UCbxOci4TMmzJJA46...|          Irmãos Dev|             61|                     12|                219|python_dados|        2024|           7|          20|         Noite|\n",
      "|2024-07-20 18:13:46|UCbtSB7ASqe--Rcla...|Um GamePlay Aleat...|             21|                     34|               1460|python_dados|        2024|           7|          20|         Noite|\n",
      "|2024-07-20 18:13:46|UCD72t672otDUxeJV...|            Lan Code|           1440|                     37|              50125|python_dados|        2024|           7|          20|         Noite|\n",
      "|2024-07-20 18:13:46|UCPASYoRvu9cuOFJQ...|           Escala XZ|           6870|                    393|             272471|python_dados|        2024|           7|          20|         Noite|\n",
      "|2024-07-20 18:13:47|UC2bNxKuS-tciTvL2...|       bymauriciodev|            196|                    507|              32703|python_dados|        2024|           7|          20|         Noite|\n",
      "|2024-07-20 18:13:47|UCuzqctHBqHLAzi4x...|            Vortecxx|             77|                     21|               4323|python_dados|        2024|           7|          20|         Noite|\n",
      "|2024-07-20 18:13:47|UCmyLyYr0wq0oFeDG...|      SDR ELETRÔNICA|            721|                    697|             102419|python_dados|        2024|           7|          20|         Noite|\n",
      "|2024-07-20 18:13:47|UCbOsWOrD0LZoXWHU...| Curso De Tecnologia|          49700|                    342|            1881580|python_dados|        2024|           7|          20|         Noite|\n",
      "|2024-07-20 18:13:47|UCyhhfAYg6psBJyNO...|       Bruce Fonseca|           9750|                    250|             221481|python_dados|        2024|           7|          20|         Noite|\n",
      "|2024-07-20 18:13:47|UCRZps3dH47Yd7pj8...|Análise de dados ...|            811|                     49|              55138|python_dados|        2024|           7|          20|         Noite|\n",
      "|2024-07-20 18:13:47|UCa_SyKg3lRLjCL9o...|       Cida Castello|           8600|                    164|             385878|python_dados|        2024|           7|          20|         Noite|\n",
      "|2024-07-20 18:13:47|UCmhLixGhGF155ttl...|         Dario Silva|             86|                      6|                749|python_dados|        2024|           7|          20|         Noite|\n",
      "|2024-07-20 18:13:47|UC2Hi8DPGEzSihX8Z...|    DataEngineerHelp|           1050|                    143|              75166|python_dados|        2024|           7|          20|         Noite|\n",
      "|2024-07-20 18:13:47|UCl-5oPIbTAwLZ0hF...|Jornada de Dados ...|           4470|                     33|              76326|python_dados|        2024|           7|          20|         Noite|\n",
      "+-------------------+--------------------+--------------------+---------------+-----------------------+-------------------+------------+------------+------------+------------+--------------+\n",
      "only showing top 20 rows\n",
      "\n"
     ]
    }
   ],
   "source": [
    "from pyspark.sql.functions import to_timestamp, hour, col\n",
    "df_estatisticas_canais.filter(\n",
    "    (col('DIA_EXTRACAO') == 20) &\n",
    "    (hour(col('DATA_EXTRACAO')) == 18)\n",
    ").show()"
   ]
  },
  {
   "cell_type": "code",
   "execution_count": 71,
   "metadata": {},
   "outputs": [
    {
     "name": "stdout",
     "output_type": "stream",
     "text": [
      "+-------------------+--------------------+--------------------+---------------+-----------------------+-------------------+------------+------------+------------+------------+--------------+\n",
      "|      DATA_EXTRACAO|            ID_CANAL|            NM_CANAL|TOTAL_INSCRITOS|TOTAL_VIDEOS_PUBLICADOS|TOTAL_VISUALIZACOES|     ASSUNTO|ANO_EXTRACAO|MES_EXTRACAO|DIA_EXTRACAO|TURNO_EXTRACAO|\n",
      "+-------------------+--------------------+--------------------+---------------+-----------------------+-------------------+------------+------------+------------+------------+--------------+\n",
      "|2024-07-23 17:01:04|UCugnQIyiYZczLEAf...|Resultados Inteli...|              9|                      3|                 84|python_dados|        2024|           7|          23|         Tarde|\n",
      "|2024-07-23 17:01:05|UCqmJGTdcMIRXOZuu...|Waldemar Neto - D...|          20500|                    172|             895177|python_dados|        2024|           7|          23|         Tarde|\n",
      "|2024-07-23 17:01:05|UChvwkhC3eHxJsVxW...|Estratégia Concursos|        2710000|                  22520|          232464359|python_dados|        2024|           7|          23|         Tarde|\n",
      "|2024-07-23 17:01:05|UCi8P9S-PW7AF71g8...|Acadi-TI - Academ...|          16800|                    117|             172545|python_dados|        2024|           7|          23|         Tarde|\n",
      "|2024-07-23 17:01:05|UCFVystQhz_-MeIGg...|     Flamengo Online|          80300|                   9167|           57920079|python_dados|        2024|           7|          23|         Tarde|\n",
      "|2024-07-23 17:01:05|UCcZs-ZgGsVpg5LGV...|           ProEvolua|           2420|                     54|              30214|python_dados|        2024|           7|          23|         Tarde|\n",
      "|2024-07-23 17:01:05|UCmv5YuV0m0Tg1MTL...|   Universo  Curioso|           4500|                    146|              51598|python_dados|        2024|           7|          23|         Tarde|\n",
      "|2024-07-23 17:01:05|UCbxOci4TMmzJJA46...|          Irmãos Dev|             69|                      9|                220|python_dados|        2024|           7|          23|         Tarde|\n",
      "|2024-07-23 17:01:05|UC_8CzrTagsQ_1vop...|Grupo Utah Consul...|           7700|                      5|              12628|python_dados|        2024|           7|          23|         Tarde|\n",
      "|2024-07-23 17:01:05|UCvMmv1qKphatAWH7...|     Computação Raiz|           1440|                    116|              80893|python_dados|        2024|           7|          23|         Tarde|\n",
      "|2024-07-23 17:01:05|UCsKmkCa8BMdwh_2o...|DevClub | Análise...|            587|                     18|              13880|python_dados|        2024|           7|          23|         Tarde|\n",
      "|2024-07-23 17:01:05|UCqqJsllgIjDZjLE7...|        webmundi.com|           9630|                    173|            1112760|python_dados|        2024|           7|          23|         Tarde|\n",
      "|2024-07-23 17:01:06|UCkfyKm2S5eSurJDt...|        Guia Anônima|          94300|                    700|            4737641|python_dados|        2024|           7|          23|         Tarde|\n",
      "|2024-07-23 17:01:06|UCwwLM_dJ2o52sTJH...|Ciência de Dados ...|             72|                    142|               5635|python_dados|        2024|           7|          23|         Tarde|\n",
      "|2024-07-23 17:01:06|UCevpIU8i-pdoKOxU...|     Mundo AUTOMATIK|           3340|                     67|             110737|python_dados|        2024|           7|          23|         Tarde|\n",
      "|2024-07-23 17:01:06|UCPMNnaMd4y2zfLUv...|          PodCaverna|           3670|                   1461|             524415|python_dados|        2024|           7|          23|         Tarde|\n",
      "|2024-07-23 17:01:06|UCDvA6dimWFCsbYdh...|  Niteo Technologies|           4230|                    169|             574377|python_dados|        2024|           7|          23|         Tarde|\n",
      "|2024-07-23 17:01:06|UCsRCtkY7CzttkLFI...|Professor Eugenio...|            251|                     51|               6703|python_dados|        2024|           7|          23|         Tarde|\n",
      "|2024-07-23 17:01:06|UC70mr11REaCqgKke...|Programação Dinâmica|         198000|                    598|            6633998|python_dados|        2024|           7|          23|         Tarde|\n",
      "|2024-07-23 17:01:06|UCdHR_M4vqK1rtKo5...|         Mente Maker|           1190|                    427|             114837|python_dados|        2024|           7|          23|         Tarde|\n",
      "+-------------------+--------------------+--------------------+---------------+-----------------------+-------------------+------------+------------+------------+------------+--------------+\n",
      "only showing top 20 rows\n",
      "\n"
     ]
    }
   ],
   "source": [
    "df_estatisticas_canais = df_estatisticas_canais.withColumn(\n",
    "    'TURNO_EXTRACAO', F.when((col('DIA_EXTRACAO') == 20) &\n",
    "                             (hour(col('DATA_EXTRACAO')) == 18), 'Tarde')\n",
    "    .otherwise(col('TURNO_EXTRACAO'))\n",
    ")\n",
    "df_estatisticas_canais.show()"
   ]
  },
  {
   "cell_type": "code",
   "execution_count": 72,
   "metadata": {},
   "outputs": [
    {
     "data": {
      "text/html": [
       "<div>\n",
       "<style scoped>\n",
       "    .dataframe tbody tr th:only-of-type {\n",
       "        vertical-align: middle;\n",
       "    }\n",
       "\n",
       "    .dataframe tbody tr th {\n",
       "        vertical-align: top;\n",
       "    }\n",
       "\n",
       "    .dataframe thead th {\n",
       "        text-align: right;\n",
       "    }\n",
       "</style>\n",
       "<table border=\"1\" class=\"dataframe\">\n",
       "  <thead>\n",
       "    <tr style=\"text-align: right;\">\n",
       "      <th></th>\n",
       "      <th>DATA_EXTRACAO</th>\n",
       "      <th>ID_CANAL</th>\n",
       "      <th>NM_CANAL</th>\n",
       "      <th>TOTAL_INSCRITOS</th>\n",
       "      <th>TOTAL_VIDEOS_PUBLICADOS</th>\n",
       "      <th>TOTAL_VISUALIZACOES</th>\n",
       "      <th>ASSUNTO</th>\n",
       "      <th>ANO_EXTRACAO</th>\n",
       "      <th>MES_EXTRACAO</th>\n",
       "      <th>DIA_EXTRACAO</th>\n",
       "      <th>TURNO_EXTRACAO</th>\n",
       "    </tr>\n",
       "  </thead>\n",
       "  <tbody>\n",
       "    <tr>\n",
       "      <th>0</th>\n",
       "      <td>2024-07-23 17:01:04</td>\n",
       "      <td>UCugnQIyiYZczLEAfhZfx3kQ</td>\n",
       "      <td>Resultados Inteligentes com Ricardo O Pereira</td>\n",
       "      <td>9</td>\n",
       "      <td>3</td>\n",
       "      <td>84</td>\n",
       "      <td>python_dados</td>\n",
       "      <td>2024</td>\n",
       "      <td>7</td>\n",
       "      <td>23</td>\n",
       "      <td>Tarde</td>\n",
       "    </tr>\n",
       "    <tr>\n",
       "      <th>1</th>\n",
       "      <td>2024-07-23 17:01:05</td>\n",
       "      <td>UCqmJGTdcMIRXOZuukHZ8TqA</td>\n",
       "      <td>Waldemar Neto - Dev Lab</td>\n",
       "      <td>20500</td>\n",
       "      <td>172</td>\n",
       "      <td>895177</td>\n",
       "      <td>python_dados</td>\n",
       "      <td>2024</td>\n",
       "      <td>7</td>\n",
       "      <td>23</td>\n",
       "      <td>Tarde</td>\n",
       "    </tr>\n",
       "    <tr>\n",
       "      <th>2</th>\n",
       "      <td>2024-07-23 17:01:05</td>\n",
       "      <td>UChvwkhC3eHxJsVxW_ItDjdA</td>\n",
       "      <td>Estratégia Concursos</td>\n",
       "      <td>2710000</td>\n",
       "      <td>22520</td>\n",
       "      <td>232464359</td>\n",
       "      <td>python_dados</td>\n",
       "      <td>2024</td>\n",
       "      <td>7</td>\n",
       "      <td>23</td>\n",
       "      <td>Tarde</td>\n",
       "    </tr>\n",
       "    <tr>\n",
       "      <th>3</th>\n",
       "      <td>2024-07-23 17:01:05</td>\n",
       "      <td>UCi8P9S-PW7AF71g8Pi0W6Jw</td>\n",
       "      <td>Acadi-TI - Academia inovadora de TI</td>\n",
       "      <td>16800</td>\n",
       "      <td>117</td>\n",
       "      <td>172545</td>\n",
       "      <td>python_dados</td>\n",
       "      <td>2024</td>\n",
       "      <td>7</td>\n",
       "      <td>23</td>\n",
       "      <td>Tarde</td>\n",
       "    </tr>\n",
       "    <tr>\n",
       "      <th>4</th>\n",
       "      <td>2024-07-23 17:01:05</td>\n",
       "      <td>UCFVystQhz_-MeIGgJWWSwyQ</td>\n",
       "      <td>Flamengo Online</td>\n",
       "      <td>80300</td>\n",
       "      <td>9167</td>\n",
       "      <td>57920079</td>\n",
       "      <td>python_dados</td>\n",
       "      <td>2024</td>\n",
       "      <td>7</td>\n",
       "      <td>23</td>\n",
       "      <td>Tarde</td>\n",
       "    </tr>\n",
       "  </tbody>\n",
       "</table>\n",
       "</div>"
      ],
      "text/plain": [
       "         DATA_EXTRACAO                  ID_CANAL  \\\n",
       "0  2024-07-23 17:01:04  UCugnQIyiYZczLEAfhZfx3kQ   \n",
       "1  2024-07-23 17:01:05  UCqmJGTdcMIRXOZuukHZ8TqA   \n",
       "2  2024-07-23 17:01:05  UChvwkhC3eHxJsVxW_ItDjdA   \n",
       "3  2024-07-23 17:01:05  UCi8P9S-PW7AF71g8Pi0W6Jw   \n",
       "4  2024-07-23 17:01:05  UCFVystQhz_-MeIGgJWWSwyQ   \n",
       "\n",
       "                                        NM_CANAL TOTAL_INSCRITOS  \\\n",
       "0  Resultados Inteligentes com Ricardo O Pereira               9   \n",
       "1                        Waldemar Neto - Dev Lab           20500   \n",
       "2                           Estratégia Concursos         2710000   \n",
       "3            Acadi-TI - Academia inovadora de TI           16800   \n",
       "4                                Flamengo Online           80300   \n",
       "\n",
       "  TOTAL_VIDEOS_PUBLICADOS TOTAL_VISUALIZACOES       ASSUNTO  ANO_EXTRACAO  \\\n",
       "0                       3                  84  python_dados          2024   \n",
       "1                     172              895177  python_dados          2024   \n",
       "2                   22520           232464359  python_dados          2024   \n",
       "3                     117              172545  python_dados          2024   \n",
       "4                    9167            57920079  python_dados          2024   \n",
       "\n",
       "   MES_EXTRACAO  DIA_EXTRACAO TURNO_EXTRACAO  \n",
       "0             7            23          Tarde  \n",
       "1             7            23          Tarde  \n",
       "2             7            23          Tarde  \n",
       "3             7            23          Tarde  \n",
       "4             7            23          Tarde  "
      ]
     },
     "execution_count": 72,
     "metadata": {},
     "output_type": "execute_result"
    }
   ],
   "source": [
    "df_estatisticas_canais_pandas = df_estatisticas_canais.toPandas()\n",
    "df_estatisticas_canais_pandas.head()"
   ]
  },
  {
   "cell_type": "code",
   "execution_count": 73,
   "metadata": {},
   "outputs": [
    {
     "name": "stdout",
     "output_type": "stream",
     "text": [
      "<class 'pandas.core.frame.DataFrame'>\n",
      "RangeIndex: 4439 entries, 0 to 4438\n",
      "Data columns (total 11 columns):\n",
      " #   Column                   Non-Null Count  Dtype \n",
      "---  ------                   --------------  ----- \n",
      " 0   DATA_EXTRACAO            4439 non-null   object\n",
      " 1   ID_CANAL                 4439 non-null   object\n",
      " 2   NM_CANAL                 4439 non-null   object\n",
      " 3   TOTAL_INSCRITOS          4439 non-null   object\n",
      " 4   TOTAL_VIDEOS_PUBLICADOS  4439 non-null   object\n",
      " 5   TOTAL_VISUALIZACOES      4439 non-null   object\n",
      " 6   ASSUNTO                  4439 non-null   object\n",
      " 7   ANO_EXTRACAO             4439 non-null   int32 \n",
      " 8   MES_EXTRACAO             4439 non-null   int32 \n",
      " 9   DIA_EXTRACAO             4439 non-null   int32 \n",
      " 10  TURNO_EXTRACAO           4439 non-null   object\n",
      "dtypes: int32(3), object(8)\n",
      "memory usage: 329.6+ KB\n"
     ]
    }
   ],
   "source": [
    "df_estatisticas_canais_pandas.info()"
   ]
  },
  {
   "cell_type": "code",
   "execution_count": 74,
   "metadata": {},
   "outputs": [],
   "source": [
    "df_estatisticas_canais_pandas[['ID_CANAL', 'ASSUNTO', 'TURNO_EXTRACAO', 'NM_CANAL']\n",
    "                              ] = df_estatisticas_canais_pandas[['ID_CANAL', 'ASSUNTO', 'TURNO_EXTRACAO', 'NM_CANAL']].astype('string')"
   ]
  },
  {
   "cell_type": "code",
   "execution_count": 75,
   "metadata": {},
   "outputs": [],
   "source": [
    "df_estatisticas_canais_pandas[['TOTAL_INSCRITOS', 'TOTAL_VIDEOS_PUBLICADOS', 'TOTAL_VISUALIZACOES']\n",
    "                              ] = df_estatisticas_canais_pandas[['TOTAL_INSCRITOS', 'TOTAL_VIDEOS_PUBLICADOS', 'TOTAL_VISUALIZACOES']].astype('int64')"
   ]
  },
  {
   "cell_type": "code",
   "execution_count": 76,
   "metadata": {},
   "outputs": [],
   "source": [
    "df_estatisticas_canais_pandas[[ 'ANO_EXTRACAO', 'MES_EXTRACAO', 'DIA_EXTRACAO']\n",
    "                              ] = df_estatisticas_canais_pandas[['ANO_EXTRACAO', 'MES_EXTRACAO', 'DIA_EXTRACAO']].astype('int32')"
   ]
  },
  {
   "cell_type": "code",
   "execution_count": 77,
   "metadata": {},
   "outputs": [],
   "source": [
    "df_estatisticas_canais_pandas['DATA_EXTRACAO'] = df_estatisticas_canais_pandas['DATA_EXTRACAO'].astype(\n",
    "    'datetime64[ns]')"
   ]
  },
  {
   "cell_type": "code",
   "execution_count": 78,
   "metadata": {},
   "outputs": [
    {
     "name": "stdout",
     "output_type": "stream",
     "text": [
      "<class 'pandas.core.frame.DataFrame'>\n",
      "RangeIndex: 4439 entries, 0 to 4438\n",
      "Data columns (total 11 columns):\n",
      " #   Column                   Non-Null Count  Dtype         \n",
      "---  ------                   --------------  -----         \n",
      " 0   DATA_EXTRACAO            4439 non-null   datetime64[ns]\n",
      " 1   ID_CANAL                 4439 non-null   string        \n",
      " 2   NM_CANAL                 4439 non-null   string        \n",
      " 3   TOTAL_INSCRITOS          4439 non-null   int64         \n",
      " 4   TOTAL_VIDEOS_PUBLICADOS  4439 non-null   int64         \n",
      " 5   TOTAL_VISUALIZACOES      4439 non-null   int64         \n",
      " 6   ASSUNTO                  4439 non-null   string        \n",
      " 7   ANO_EXTRACAO             4439 non-null   int32         \n",
      " 8   MES_EXTRACAO             4439 non-null   int32         \n",
      " 9   DIA_EXTRACAO             4439 non-null   int32         \n",
      " 10  TURNO_EXTRACAO           4439 non-null   string        \n",
      "dtypes: datetime64[ns](1), int32(3), int64(3), string(4)\n",
      "memory usage: 329.6 KB\n"
     ]
    }
   ],
   "source": [
    "df_estatisticas_canais_pandas.info()"
   ]
  },
  {
   "cell_type": "code",
   "execution_count": 80,
   "metadata": {},
   "outputs": [],
   "source": [
    "con = duckdb.connect()\n",
    "con.execute"
   ]
  },
  {
   "cell_type": "code",
   "execution_count": 83,
   "metadata": {},
   "outputs": [],
   "source": [
    "with duckdb.connect() as conn:\n",
    "    conn.execute(\"\"\"\n",
    "        COPY df_estatisticas_canais_pandas\n",
    "        TO '/home/rodrigo/Documentos/projetos/analise_dados_youtube_segunda_versao/datalake/ouro/estatisticas_canais'\n",
    "        (FORMAT PARQUET, PARTITION_BY ('ASSUNTO', 'ANO_EXTRACAO', 'MES_EXTRACAO','DIA_EXTRACAO', 'TURNO_EXTRACAO'))\n",
    "\"\"\")"
   ]
  },
  {
   "cell_type": "markdown",
   "metadata": {},
   "source": [
    "- dados Vídeos\n"
   ]
  },
  {
   "cell_type": "code",
   "execution_count": 84,
   "metadata": {},
   "outputs": [
    {
     "name": "stderr",
     "output_type": "stream",
     "text": [
      "[Stage 86:>                                                         (0 + 1) / 1]\r"
     ]
    },
    {
     "name": "stdout",
     "output_type": "stream",
     "text": [
      "+-------------------+--------------------+--------------------+----------+--------------------+------------+-------------------+-----------+---------------+----------+---------------------+------------------------+------------+------------+------------+------------+--------------+--------------------+-----------+\n",
      "|      DATA_EXTRACAO|        TITULO_VIDEO|           DESCRICAO|   DURACAO|                TAGS|ID_CATEGORIA|TOTAL_VISUALIZACOES|TOTAL_LIKES|TOTAL_FAVORITOS|TOTAL_TAGS|TOTAL_PALAVRAS_TITULO|TOTAL_PALAVRAS_DESCRICAO|     ASSUNTO|ANO_EXTRACAO|MES_EXTRACAO|DIA_EXTRACAO|TURNO_EXTRACAO|            ID_CANAL|   ID_VIDEO|\n",
      "+-------------------+--------------------+--------------------+----------+--------------------+------------+-------------------+-----------+---------------+----------+---------------------+------------------------+------------+------------+------------+------------+--------------+--------------------+-----------+\n",
      "|2024-07-22 17:01:18|Desvendando os Pe...|Desvendando os Pe...|PT1H20M38S|[Big Data, Desafi...|          27|                227|         67|              0|        26|                   11|                     248|python_dados|        2024|           7|          22|         Tarde|UCfpv91g04FgdO25S...|6pug0oRJRhg|\n",
      "|2024-07-22 22:01:25|Desvendando os Pe...|Desvendando os Pe...|PT1H20M38S|[Big Data, Desafi...|          27|                230|         67|              0|        26|                   11|                     248|python_dados|        2024|           7|          22|         Noite|UCfpv91g04FgdO25S...|6pug0oRJRhg|\n",
      "|2024-07-17 22:00:57|Desvendando os Pe...|Desvendando os Pe...|PT1H20M38S|[Big Data, Desafi...|          27|                240|         60|              0|        26|                   11|                     248|python_dados|        2024|           7|          17|         Noite|UCfpv91g04FgdO25S...|6pug0oRJRhg|\n",
      "|2024-07-18 22:00:54|Desvendando os Pe...|Desvendando os Pe...|PT1H20M38S|[Big Data, Desafi...|          27|                265|         62|              0|        26|                   11|                     248|python_dados|        2024|           7|          18|         Noite|UCfpv91g04FgdO25S...|6pug0oRJRhg|\n",
      "|2024-07-19 17:01:07|Desvendando os Pe...|Desvendando os Pe...|PT1H20M38S|[Big Data, Desafi...|          27|                246|         66|              0|        26|                   11|                     248|python_dados|        2024|           7|          19|         Tarde|UCfpv91g04FgdO25S...|6pug0oRJRhg|\n",
      "|2024-07-23 17:01:17|Desvendando os Pe...|Desvendando os Pe...|PT1H20M38S|[Big Data, Desafi...|          27|                235|         67|              0|        26|                   11|                     248|python_dados|        2024|           7|          23|         Tarde|UCfpv91g04FgdO25S...|6pug0oRJRhg|\n",
      "|2024-07-20 11:01:07|Desvendando os Pe...|Desvendando os Pe...|PT1H20M38S|[Big Data, Desafi...|          27|                215|         66|              0|        26|                   11|                     248|python_dados|        2024|           7|          20|         Manhã|UCfpv91g04FgdO25S...|6pug0oRJRhg|\n",
      "|2024-07-22 11:01:10|Desvendando os Pe...|Desvendando os Pe...|PT1H20M38S|[Big Data, Desafi...|          27|                226|         67|              0|        26|                   11|                     248|python_dados|        2024|           7|          22|         Manhã|UCfpv91g04FgdO25S...|6pug0oRJRhg|\n",
      "|2024-07-20 22:01:01|Desvendando os Pe...|Desvendando os Pe...|PT1H20M38S|[Big Data, Desafi...|          27|                217|         66|              0|        26|                   11|                     248|python_dados|        2024|           7|          20|         Noite|UCfpv91g04FgdO25S...|6pug0oRJRhg|\n",
      "|2024-07-23 11:01:14|Desvendando os Pe...|Desvendando os Pe...|PT1H20M38S|[Big Data, Desafi...|          27|                235|         67|              0|        26|                   11|                     248|python_dados|        2024|           7|          23|         Manhã|UCfpv91g04FgdO25S...|6pug0oRJRhg|\n",
      "|2024-07-17 17:00:57|Desvendando os Pe...|Desvendando os Pe...|PT1H20M38S|[Big Data, Desafi...|          27|                225|         59|              0|        26|                   11|                     248|python_dados|        2024|           7|          17|         Tarde|UCfpv91g04FgdO25S...|6pug0oRJRhg|\n",
      "|2024-07-19 11:00:56|Desvendando os Pe...|Desvendando os Pe...|PT1H20M38S|[Big Data, Desafi...|          27|                240|         66|              0|        26|                   11|                     248|python_dados|        2024|           7|          19|         Manhã|UCfpv91g04FgdO25S...|6pug0oRJRhg|\n",
      "|2024-07-18 11:00:55|Desvendando os Pe...|Desvendando os Pe...|PT1H20M38S|[Big Data, Desafi...|          27|                247|         60|              0|        26|                   11|                     248|python_dados|        2024|           7|          18|         Manhã|UCfpv91g04FgdO25S...|6pug0oRJRhg|\n",
      "|2024-07-19 22:01:08|Desvendando os Pe...|Desvendando os Pe...|PT1H20M38S|[Big Data, Desafi...|          27|                247|         66|              0|        26|                   11|                     248|python_dados|        2024|           7|          19|         Noite|UCfpv91g04FgdO25S...|6pug0oRJRhg|\n",
      "|2024-07-22 17:01:19|Desvendando Pytho...|🚀Turbine sua car...|  PT24M12S|[programação, esc...|          27|                 32|          2|              0|        21|                   10|                     245|python_dados|        2024|           7|          22|         Tarde|UC28bZX0d_qdl3mHE...|7flf9eV8wcc|\n",
      "|2024-07-20 22:01:04|Desvendando Pytho...|🚀Turbine sua car...|  PT24M12S|[programação, esc...|          27|                 27|          3|              0|        21|                   10|                     245|python_dados|        2024|           7|          20|         Noite|UC28bZX0d_qdl3mHE...|7flf9eV8wcc|\n",
      "|2024-07-21 11:01:09|Desvendando Pytho...|🚀Turbine sua car...|  PT24M12S|[programação, esc...|          27|                 29|          3|              0|        21|                   10|                     245|python_dados|        2024|           7|          21|         Manhã|UC28bZX0d_qdl3mHE...|7flf9eV8wcc|\n",
      "|2024-07-23 11:01:18|Desvendando Pytho...|🚀Turbine sua car...|  PT24M12S|[programação, esc...|          27|                 33|          2|              0|        21|                   10|                     245|python_dados|        2024|           7|          23|         Manhã|UC28bZX0d_qdl3mHE...|7flf9eV8wcc|\n",
      "|2024-07-20 11:01:04|Desvendando Pytho...|🚀Turbine sua car...|  PT24M12S|[programação, esc...|          27|                 22|          2|              0|        21|                   10|                     245|python_dados|        2024|           7|          20|         Manhã|UC28bZX0d_qdl3mHE...|7flf9eV8wcc|\n",
      "|2024-07-22 11:01:16|Desvendando Pytho...|🚀Turbine sua car...|  PT24M12S|[programação, esc...|          27|                 31|          2|              0|        21|                   10|                     245|python_dados|        2024|           7|          22|         Manhã|UC28bZX0d_qdl3mHE...|7flf9eV8wcc|\n",
      "+-------------------+--------------------+--------------------+----------+--------------------+------------+-------------------+-----------+---------------+----------+---------------------+------------------------+------------+------------+------------+------------+--------------+--------------------+-----------+\n",
      "only showing top 20 rows\n",
      "\n"
     ]
    },
    {
     "name": "stderr",
     "output_type": "stream",
     "text": [
      "                                                                                \r"
     ]
    }
   ],
   "source": [
    "df_videos = spark.read.parquet('../datalake/prata/estatisticas_videos/estatisticas_videos.parquet/')\n",
    "df_videos.show()"
   ]
  },
  {
   "cell_type": "code",
   "execution_count": 85,
   "metadata": {},
   "outputs": [
    {
     "name": "stdout",
     "output_type": "stream",
     "text": [
      "+-------------------+--------------------+--------------------+----------+--------------------+------------+-------------------+-----------+---------------+----------+---------------------+------------------------+------------+------------+------------+------------+--------------+--------------------+-----------+\n",
      "|      DATA_EXTRACAO|        TITULO_VIDEO|           DESCRICAO|   DURACAO|                TAGS|ID_CATEGORIA|TOTAL_VISUALIZACOES|TOTAL_LIKES|TOTAL_FAVORITOS|TOTAL_TAGS|TOTAL_PALAVRAS_TITULO|TOTAL_PALAVRAS_DESCRICAO|     ASSUNTO|ANO_EXTRACAO|MES_EXTRACAO|DIA_EXTRACAO|TURNO_EXTRACAO|            ID_CANAL|   ID_VIDEO|\n",
      "+-------------------+--------------------+--------------------+----------+--------------------+------------+-------------------+-----------+---------------+----------+---------------------+------------------------+------------+------------+------------+------------+--------------+--------------------+-----------+\n",
      "|2024-07-22 17:01:18|Desvendando os Pe...|Desvendando os Pe...|PT1H20M38S|[Big Data, Desafi...|          27|                227|         67|              0|        26|                   11|                     248|python_dados|        2024|           7|          22|         Tarde|UCfpv91g04FgdO25S...|6pug0oRJRhg|\n",
      "|2024-07-22 22:01:25|Desvendando os Pe...|Desvendando os Pe...|PT1H20M38S|[Big Data, Desafi...|          27|                230|         67|              0|        26|                   11|                     248|python_dados|        2024|           7|          22|         Noite|UCfpv91g04FgdO25S...|6pug0oRJRhg|\n",
      "|2024-07-17 22:00:57|Desvendando os Pe...|Desvendando os Pe...|PT1H20M38S|[Big Data, Desafi...|          27|                240|         60|              0|        26|                   11|                     248|python_dados|        2024|           7|          17|         Noite|UCfpv91g04FgdO25S...|6pug0oRJRhg|\n",
      "|2024-07-18 22:00:54|Desvendando os Pe...|Desvendando os Pe...|PT1H20M38S|[Big Data, Desafi...|          27|                265|         62|              0|        26|                   11|                     248|python_dados|        2024|           7|          18|         Noite|UCfpv91g04FgdO25S...|6pug0oRJRhg|\n",
      "|2024-07-19 17:01:07|Desvendando os Pe...|Desvendando os Pe...|PT1H20M38S|[Big Data, Desafi...|          27|                246|         66|              0|        26|                   11|                     248|python_dados|        2024|           7|          19|         Tarde|UCfpv91g04FgdO25S...|6pug0oRJRhg|\n",
      "|2024-07-23 17:01:17|Desvendando os Pe...|Desvendando os Pe...|PT1H20M38S|[Big Data, Desafi...|          27|                235|         67|              0|        26|                   11|                     248|python_dados|        2024|           7|          23|         Tarde|UCfpv91g04FgdO25S...|6pug0oRJRhg|\n",
      "|2024-07-20 11:01:07|Desvendando os Pe...|Desvendando os Pe...|PT1H20M38S|[Big Data, Desafi...|          27|                215|         66|              0|        26|                   11|                     248|python_dados|        2024|           7|          20|         Manhã|UCfpv91g04FgdO25S...|6pug0oRJRhg|\n",
      "|2024-07-22 11:01:10|Desvendando os Pe...|Desvendando os Pe...|PT1H20M38S|[Big Data, Desafi...|          27|                226|         67|              0|        26|                   11|                     248|python_dados|        2024|           7|          22|         Manhã|UCfpv91g04FgdO25S...|6pug0oRJRhg|\n",
      "|2024-07-20 22:01:01|Desvendando os Pe...|Desvendando os Pe...|PT1H20M38S|[Big Data, Desafi...|          27|                217|         66|              0|        26|                   11|                     248|python_dados|        2024|           7|          20|         Noite|UCfpv91g04FgdO25S...|6pug0oRJRhg|\n",
      "|2024-07-23 11:01:14|Desvendando os Pe...|Desvendando os Pe...|PT1H20M38S|[Big Data, Desafi...|          27|                235|         67|              0|        26|                   11|                     248|python_dados|        2024|           7|          23|         Manhã|UCfpv91g04FgdO25S...|6pug0oRJRhg|\n",
      "|2024-07-17 17:00:57|Desvendando os Pe...|Desvendando os Pe...|PT1H20M38S|[Big Data, Desafi...|          27|                225|         59|              0|        26|                   11|                     248|python_dados|        2024|           7|          17|         Tarde|UCfpv91g04FgdO25S...|6pug0oRJRhg|\n",
      "|2024-07-19 11:00:56|Desvendando os Pe...|Desvendando os Pe...|PT1H20M38S|[Big Data, Desafi...|          27|                240|         66|              0|        26|                   11|                     248|python_dados|        2024|           7|          19|         Manhã|UCfpv91g04FgdO25S...|6pug0oRJRhg|\n",
      "|2024-07-18 11:00:55|Desvendando os Pe...|Desvendando os Pe...|PT1H20M38S|[Big Data, Desafi...|          27|                247|         60|              0|        26|                   11|                     248|python_dados|        2024|           7|          18|         Manhã|UCfpv91g04FgdO25S...|6pug0oRJRhg|\n",
      "|2024-07-19 22:01:08|Desvendando os Pe...|Desvendando os Pe...|PT1H20M38S|[Big Data, Desafi...|          27|                247|         66|              0|        26|                   11|                     248|python_dados|        2024|           7|          19|         Noite|UCfpv91g04FgdO25S...|6pug0oRJRhg|\n",
      "|2024-07-22 17:01:19|Desvendando Pytho...|🚀Turbine sua car...|  PT24M12S|[programação, esc...|          27|                 32|          2|              0|        21|                   10|                     245|python_dados|        2024|           7|          22|         Tarde|UC28bZX0d_qdl3mHE...|7flf9eV8wcc|\n",
      "|2024-07-20 22:01:04|Desvendando Pytho...|🚀Turbine sua car...|  PT24M12S|[programação, esc...|          27|                 27|          3|              0|        21|                   10|                     245|python_dados|        2024|           7|          20|         Noite|UC28bZX0d_qdl3mHE...|7flf9eV8wcc|\n",
      "|2024-07-21 11:01:09|Desvendando Pytho...|🚀Turbine sua car...|  PT24M12S|[programação, esc...|          27|                 29|          3|              0|        21|                   10|                     245|python_dados|        2024|           7|          21|         Manhã|UC28bZX0d_qdl3mHE...|7flf9eV8wcc|\n",
      "|2024-07-23 11:01:18|Desvendando Pytho...|🚀Turbine sua car...|  PT24M12S|[programação, esc...|          27|                 33|          2|              0|        21|                   10|                     245|python_dados|        2024|           7|          23|         Manhã|UC28bZX0d_qdl3mHE...|7flf9eV8wcc|\n",
      "|2024-07-20 11:01:04|Desvendando Pytho...|🚀Turbine sua car...|  PT24M12S|[programação, esc...|          27|                 22|          2|              0|        21|                   10|                     245|python_dados|        2024|           7|          20|         Manhã|UC28bZX0d_qdl3mHE...|7flf9eV8wcc|\n",
      "|2024-07-22 11:01:16|Desvendando Pytho...|🚀Turbine sua car...|  PT24M12S|[programação, esc...|          27|                 31|          2|              0|        21|                   10|                     245|python_dados|        2024|           7|          22|         Manhã|UC28bZX0d_qdl3mHE...|7flf9eV8wcc|\n",
      "+-------------------+--------------------+--------------------+----------+--------------------+------------+-------------------+-----------+---------------+----------+---------------------+------------------------+------------+------------+------------+------------+--------------+--------------------+-----------+\n",
      "only showing top 20 rows\n",
      "\n"
     ]
    }
   ],
   "source": [
    "df_videos = df_videos.withColumn(\n",
    "    'TURNO_EXTRACAO', F.when((col('DIA_EXTRACAO') == 20) &\n",
    "                             (hour(col('DATA_EXTRACAO')) == 18), 'Tarde')\n",
    "    .otherwise(col('TURNO_EXTRACAO'))\n",
    ")\n",
    "df_videos.show()"
   ]
  },
  {
   "cell_type": "code",
   "execution_count": 113,
   "metadata": {},
   "outputs": [],
   "source": [
    "import re\n",
    "def convert_to_minutes(tempo):\n",
    "    try:\n",
    "        pattern = re.compile(r'PT(\\d+H)?(\\d+M)?(\\d+S)?')\n",
    "        match = pattern.match(tempo)\n",
    "        hours = int(match.group(1)[:-1]) if match.group(1) else 0\n",
    "        minutes = int(match.group(2)[:-1]) if match.group(2) else 0\n",
    "        seconds = int(match.group(3)[:-1]) if match.group(3) else 0\n",
    "        total_minutes = hours * 60 + minutes + seconds / 60\n",
    "        return total_minutes\n",
    "    except:\n",
    "        return 0\n",
    "\n",
    "\n",
    "# Aplicando a função ao dataframe"
   ]
  },
  {
   "cell_type": "code",
   "execution_count": 104,
   "metadata": {},
   "outputs": [
    {
     "name": "stderr",
     "output_type": "stream",
     "text": [
      "                                                                                \r"
     ]
    },
    {
     "data": {
      "text/html": [
       "<div>\n",
       "<style scoped>\n",
       "    .dataframe tbody tr th:only-of-type {\n",
       "        vertical-align: middle;\n",
       "    }\n",
       "\n",
       "    .dataframe tbody tr th {\n",
       "        vertical-align: top;\n",
       "    }\n",
       "\n",
       "    .dataframe thead th {\n",
       "        text-align: right;\n",
       "    }\n",
       "</style>\n",
       "<table border=\"1\" class=\"dataframe\">\n",
       "  <thead>\n",
       "    <tr style=\"text-align: right;\">\n",
       "      <th></th>\n",
       "      <th>DATA_EXTRACAO</th>\n",
       "      <th>TITULO_VIDEO</th>\n",
       "      <th>DESCRICAO</th>\n",
       "      <th>DURACAO</th>\n",
       "      <th>TAGS</th>\n",
       "      <th>ID_CATEGORIA</th>\n",
       "      <th>TOTAL_VISUALIZACOES</th>\n",
       "      <th>TOTAL_LIKES</th>\n",
       "      <th>TOTAL_FAVORITOS</th>\n",
       "      <th>TOTAL_TAGS</th>\n",
       "      <th>TOTAL_PALAVRAS_TITULO</th>\n",
       "      <th>TOTAL_PALAVRAS_DESCRICAO</th>\n",
       "      <th>ASSUNTO</th>\n",
       "      <th>ANO_EXTRACAO</th>\n",
       "      <th>MES_EXTRACAO</th>\n",
       "      <th>DIA_EXTRACAO</th>\n",
       "      <th>TURNO_EXTRACAO</th>\n",
       "      <th>ID_CANAL</th>\n",
       "      <th>ID_VIDEO</th>\n",
       "    </tr>\n",
       "  </thead>\n",
       "  <tbody>\n",
       "    <tr>\n",
       "      <th>0</th>\n",
       "      <td>2024-07-22 17:01:18</td>\n",
       "      <td>Desvendando os Perigos Ocultos da Clonagem de ...</td>\n",
       "      <td>Desvendando os Perigos Ocultos da Clonagem de ...</td>\n",
       "      <td>PT1H20M38S</td>\n",
       "      <td>[Big Data, Desafios, LabData, FIA, Business Sc...</td>\n",
       "      <td>27</td>\n",
       "      <td>227</td>\n",
       "      <td>67</td>\n",
       "      <td>0</td>\n",
       "      <td>26</td>\n",
       "      <td>11</td>\n",
       "      <td>248</td>\n",
       "      <td>python_dados</td>\n",
       "      <td>2024</td>\n",
       "      <td>7</td>\n",
       "      <td>22</td>\n",
       "      <td>Tarde</td>\n",
       "      <td>UCfpv91g04FgdO25S3lsZjsA</td>\n",
       "      <td>6pug0oRJRhg</td>\n",
       "    </tr>\n",
       "    <tr>\n",
       "      <th>1</th>\n",
       "      <td>2024-07-22 22:01:25</td>\n",
       "      <td>Desvendando os Perigos Ocultos da Clonagem de ...</td>\n",
       "      <td>Desvendando os Perigos Ocultos da Clonagem de ...</td>\n",
       "      <td>PT1H20M38S</td>\n",
       "      <td>[Big Data, Desafios, LabData, FIA, Business Sc...</td>\n",
       "      <td>27</td>\n",
       "      <td>230</td>\n",
       "      <td>67</td>\n",
       "      <td>0</td>\n",
       "      <td>26</td>\n",
       "      <td>11</td>\n",
       "      <td>248</td>\n",
       "      <td>python_dados</td>\n",
       "      <td>2024</td>\n",
       "      <td>7</td>\n",
       "      <td>22</td>\n",
       "      <td>Noite</td>\n",
       "      <td>UCfpv91g04FgdO25S3lsZjsA</td>\n",
       "      <td>6pug0oRJRhg</td>\n",
       "    </tr>\n",
       "    <tr>\n",
       "      <th>2</th>\n",
       "      <td>2024-07-17 22:00:57</td>\n",
       "      <td>Desvendando os Perigos Ocultos da Clonagem de ...</td>\n",
       "      <td>Desvendando os Perigos Ocultos da Clonagem de ...</td>\n",
       "      <td>PT1H20M38S</td>\n",
       "      <td>[Big Data, Desafios, LabData, FIA, Business Sc...</td>\n",
       "      <td>27</td>\n",
       "      <td>240</td>\n",
       "      <td>60</td>\n",
       "      <td>0</td>\n",
       "      <td>26</td>\n",
       "      <td>11</td>\n",
       "      <td>248</td>\n",
       "      <td>python_dados</td>\n",
       "      <td>2024</td>\n",
       "      <td>7</td>\n",
       "      <td>17</td>\n",
       "      <td>Noite</td>\n",
       "      <td>UCfpv91g04FgdO25S3lsZjsA</td>\n",
       "      <td>6pug0oRJRhg</td>\n",
       "    </tr>\n",
       "    <tr>\n",
       "      <th>3</th>\n",
       "      <td>2024-07-18 22:00:54</td>\n",
       "      <td>Desvendando os Perigos Ocultos da Clonagem de ...</td>\n",
       "      <td>Desvendando os Perigos Ocultos da Clonagem de ...</td>\n",
       "      <td>PT1H20M38S</td>\n",
       "      <td>[Big Data, Desafios, LabData, FIA, Business Sc...</td>\n",
       "      <td>27</td>\n",
       "      <td>265</td>\n",
       "      <td>62</td>\n",
       "      <td>0</td>\n",
       "      <td>26</td>\n",
       "      <td>11</td>\n",
       "      <td>248</td>\n",
       "      <td>python_dados</td>\n",
       "      <td>2024</td>\n",
       "      <td>7</td>\n",
       "      <td>18</td>\n",
       "      <td>Noite</td>\n",
       "      <td>UCfpv91g04FgdO25S3lsZjsA</td>\n",
       "      <td>6pug0oRJRhg</td>\n",
       "    </tr>\n",
       "    <tr>\n",
       "      <th>4</th>\n",
       "      <td>2024-07-19 17:01:07</td>\n",
       "      <td>Desvendando os Perigos Ocultos da Clonagem de ...</td>\n",
       "      <td>Desvendando os Perigos Ocultos da Clonagem de ...</td>\n",
       "      <td>PT1H20M38S</td>\n",
       "      <td>[Big Data, Desafios, LabData, FIA, Business Sc...</td>\n",
       "      <td>27</td>\n",
       "      <td>246</td>\n",
       "      <td>66</td>\n",
       "      <td>0</td>\n",
       "      <td>26</td>\n",
       "      <td>11</td>\n",
       "      <td>248</td>\n",
       "      <td>python_dados</td>\n",
       "      <td>2024</td>\n",
       "      <td>7</td>\n",
       "      <td>19</td>\n",
       "      <td>Tarde</td>\n",
       "      <td>UCfpv91g04FgdO25S3lsZjsA</td>\n",
       "      <td>6pug0oRJRhg</td>\n",
       "    </tr>\n",
       "  </tbody>\n",
       "</table>\n",
       "</div>"
      ],
      "text/plain": [
       "         DATA_EXTRACAO                                       TITULO_VIDEO  \\\n",
       "0  2024-07-22 17:01:18  Desvendando os Perigos Ocultos da Clonagem de ...   \n",
       "1  2024-07-22 22:01:25  Desvendando os Perigos Ocultos da Clonagem de ...   \n",
       "2  2024-07-17 22:00:57  Desvendando os Perigos Ocultos da Clonagem de ...   \n",
       "3  2024-07-18 22:00:54  Desvendando os Perigos Ocultos da Clonagem de ...   \n",
       "4  2024-07-19 17:01:07  Desvendando os Perigos Ocultos da Clonagem de ...   \n",
       "\n",
       "                                           DESCRICAO     DURACAO  \\\n",
       "0  Desvendando os Perigos Ocultos da Clonagem de ...  PT1H20M38S   \n",
       "1  Desvendando os Perigos Ocultos da Clonagem de ...  PT1H20M38S   \n",
       "2  Desvendando os Perigos Ocultos da Clonagem de ...  PT1H20M38S   \n",
       "3  Desvendando os Perigos Ocultos da Clonagem de ...  PT1H20M38S   \n",
       "4  Desvendando os Perigos Ocultos da Clonagem de ...  PT1H20M38S   \n",
       "\n",
       "                                                TAGS ID_CATEGORIA  \\\n",
       "0  [Big Data, Desafios, LabData, FIA, Business Sc...           27   \n",
       "1  [Big Data, Desafios, LabData, FIA, Business Sc...           27   \n",
       "2  [Big Data, Desafios, LabData, FIA, Business Sc...           27   \n",
       "3  [Big Data, Desafios, LabData, FIA, Business Sc...           27   \n",
       "4  [Big Data, Desafios, LabData, FIA, Business Sc...           27   \n",
       "\n",
       "  TOTAL_VISUALIZACOES TOTAL_LIKES TOTAL_FAVORITOS  TOTAL_TAGS  \\\n",
       "0                 227          67               0          26   \n",
       "1                 230          67               0          26   \n",
       "2                 240          60               0          26   \n",
       "3                 265          62               0          26   \n",
       "4                 246          66               0          26   \n",
       "\n",
       "   TOTAL_PALAVRAS_TITULO  TOTAL_PALAVRAS_DESCRICAO       ASSUNTO  \\\n",
       "0                     11                       248  python_dados   \n",
       "1                     11                       248  python_dados   \n",
       "2                     11                       248  python_dados   \n",
       "3                     11                       248  python_dados   \n",
       "4                     11                       248  python_dados   \n",
       "\n",
       "   ANO_EXTRACAO  MES_EXTRACAO  DIA_EXTRACAO TURNO_EXTRACAO  \\\n",
       "0          2024             7            22          Tarde   \n",
       "1          2024             7            22          Noite   \n",
       "2          2024             7            17          Noite   \n",
       "3          2024             7            18          Noite   \n",
       "4          2024             7            19          Tarde   \n",
       "\n",
       "                   ID_CANAL     ID_VIDEO  \n",
       "0  UCfpv91g04FgdO25S3lsZjsA  6pug0oRJRhg  \n",
       "1  UCfpv91g04FgdO25S3lsZjsA  6pug0oRJRhg  \n",
       "2  UCfpv91g04FgdO25S3lsZjsA  6pug0oRJRhg  \n",
       "3  UCfpv91g04FgdO25S3lsZjsA  6pug0oRJRhg  \n",
       "4  UCfpv91g04FgdO25S3lsZjsA  6pug0oRJRhg  "
      ]
     },
     "execution_count": 104,
     "metadata": {},
     "output_type": "execute_result"
    }
   ],
   "source": [
    "df_videos_pandas = df_videos.toPandas()\n",
    "df_videos_pandas.head()\n"
   ]
  },
  {
   "cell_type": "code",
   "execution_count": 105,
   "metadata": {},
   "outputs": [
    {
     "name": "stdout",
     "output_type": "stream",
     "text": [
      "<class 'pandas.core.frame.DataFrame'>\n",
      "RangeIndex: 5869 entries, 0 to 5868\n",
      "Data columns (total 19 columns):\n",
      " #   Column                    Non-Null Count  Dtype \n",
      "---  ------                    --------------  ----- \n",
      " 0   DATA_EXTRACAO             5869 non-null   object\n",
      " 1   TITULO_VIDEO              5869 non-null   object\n",
      " 2   DESCRICAO                 5869 non-null   object\n",
      " 3   DURACAO                   5847 non-null   object\n",
      " 4   TAGS                      3994 non-null   object\n",
      " 5   ID_CATEGORIA              5869 non-null   object\n",
      " 6   TOTAL_VISUALIZACOES       5869 non-null   object\n",
      " 7   TOTAL_LIKES               5792 non-null   object\n",
      " 8   TOTAL_FAVORITOS           5869 non-null   object\n",
      " 9   TOTAL_TAGS                5869 non-null   int32 \n",
      " 10  TOTAL_PALAVRAS_TITULO     5869 non-null   int32 \n",
      " 11  TOTAL_PALAVRAS_DESCRICAO  5869 non-null   int32 \n",
      " 12  ASSUNTO                   5869 non-null   object\n",
      " 13  ANO_EXTRACAO              5869 non-null   int32 \n",
      " 14  MES_EXTRACAO              5869 non-null   int32 \n",
      " 15  DIA_EXTRACAO              5869 non-null   int32 \n",
      " 16  TURNO_EXTRACAO            5869 non-null   object\n",
      " 17  ID_CANAL                  5869 non-null   object\n",
      " 18  ID_VIDEO                  5869 non-null   object\n",
      "dtypes: int32(6), object(13)\n",
      "memory usage: 733.8+ KB\n"
     ]
    }
   ],
   "source": [
    "df_videos_pandas.info()"
   ]
  },
  {
   "cell_type": "code",
   "execution_count": 106,
   "metadata": {},
   "outputs": [],
   "source": [
    "df_videos_pandas['DATA_EXTRACAO'] = df_videos_pandas['DATA_EXTRACAO'].astype(\n",
    "    'datetime64[ns]')\n",
    "\n",
    "df_videos_pandas[\n",
    "    ['TITULO_VIDEO', 'DESCRICAO','DURACAO', 'ASSUNTO', 'TURNO_EXTRACAO', 'ID_CANAL', 'ID_VIDEO']\n",
    "] = df_videos_pandas[\n",
    "    ['TITULO_VIDEO', 'DESCRICAO','DURACAO', 'ASSUNTO', 'TURNO_EXTRACAO', 'ID_CANAL', 'ID_VIDEO']\n",
    "    ].astype('string')\n"
   ]
  },
  {
   "cell_type": "code",
   "execution_count": 107,
   "metadata": {},
   "outputs": [
    {
     "name": "stdout",
     "output_type": "stream",
     "text": [
      "<class 'pandas.core.frame.DataFrame'>\n",
      "RangeIndex: 5869 entries, 0 to 5868\n",
      "Data columns (total 19 columns):\n",
      " #   Column                    Non-Null Count  Dtype         \n",
      "---  ------                    --------------  -----         \n",
      " 0   DATA_EXTRACAO             5869 non-null   datetime64[ns]\n",
      " 1   TITULO_VIDEO              5869 non-null   string        \n",
      " 2   DESCRICAO                 5869 non-null   string        \n",
      " 3   DURACAO                   5847 non-null   string        \n",
      " 4   TAGS                      3994 non-null   object        \n",
      " 5   ID_CATEGORIA              5869 non-null   object        \n",
      " 6   TOTAL_VISUALIZACOES       5869 non-null   object        \n",
      " 7   TOTAL_LIKES               5792 non-null   object        \n",
      " 8   TOTAL_FAVORITOS           5869 non-null   object        \n",
      " 9   TOTAL_TAGS                5869 non-null   int32         \n",
      " 10  TOTAL_PALAVRAS_TITULO     5869 non-null   int32         \n",
      " 11  TOTAL_PALAVRAS_DESCRICAO  5869 non-null   int32         \n",
      " 12  ASSUNTO                   5869 non-null   string        \n",
      " 13  ANO_EXTRACAO              5869 non-null   int32         \n",
      " 14  MES_EXTRACAO              5869 non-null   int32         \n",
      " 15  DIA_EXTRACAO              5869 non-null   int32         \n",
      " 16  TURNO_EXTRACAO            5869 non-null   string        \n",
      " 17  ID_CANAL                  5869 non-null   string        \n",
      " 18  ID_VIDEO                  5869 non-null   string        \n",
      "dtypes: datetime64[ns](1), int32(6), object(5), string(7)\n",
      "memory usage: 733.8+ KB\n"
     ]
    }
   ],
   "source": [
    "df_videos_pandas.info()"
   ]
  },
  {
   "cell_type": "code",
   "execution_count": 108,
   "metadata": {},
   "outputs": [
    {
     "data": {
      "text/plain": [
       "DATA_EXTRACAO                  0\n",
       "TITULO_VIDEO                   0\n",
       "DESCRICAO                      0\n",
       "DURACAO                       22\n",
       "TAGS                        1875\n",
       "ID_CATEGORIA                   0\n",
       "TOTAL_VISUALIZACOES            0\n",
       "TOTAL_LIKES                   77\n",
       "TOTAL_FAVORITOS                0\n",
       "TOTAL_TAGS                     0\n",
       "TOTAL_PALAVRAS_TITULO          0\n",
       "TOTAL_PALAVRAS_DESCRICAO       0\n",
       "ASSUNTO                        0\n",
       "ANO_EXTRACAO                   0\n",
       "MES_EXTRACAO                   0\n",
       "DIA_EXTRACAO                   0\n",
       "TURNO_EXTRACAO                 0\n",
       "ID_CANAL                       0\n",
       "ID_VIDEO                       0\n",
       "dtype: int64"
      ]
     },
     "execution_count": 108,
     "metadata": {},
     "output_type": "execute_result"
    }
   ],
   "source": [
    "df_videos_pandas.isna().sum()"
   ]
  },
  {
   "cell_type": "code",
   "execution_count": 109,
   "metadata": {},
   "outputs": [],
   "source": [
    "df_videos_pandas.fillna('0', inplace=True)"
   ]
  },
  {
   "cell_type": "code",
   "execution_count": 110,
   "metadata": {},
   "outputs": [],
   "source": [
    "df_videos_pandas[\n",
    "    ['ID_CATEGORIA', 'TOTAL_VISUALIZACOES','TOTAL_LIKES', 'TOTAL_FAVORITOS']\n",
    "] = df_videos_pandas[\n",
    "    ['ID_CATEGORIA', 'TOTAL_VISUALIZACOES','TOTAL_LIKES', 'TOTAL_FAVORITOS']\n",
    "].astype('int64')\n"
   ]
  },
  {
   "cell_type": "code",
   "execution_count": 114,
   "metadata": {},
   "outputs": [],
   "source": [
    "df_videos_pandas['DURACAO_VIDEO_MINUTOS'] = df_videos_pandas['DURACAO'].apply(\n",
    "    convert_to_minutes)\n",
    "df_videos_pandas['DURACAO_VIDEO_MINUTOS'] = df_videos_pandas['DURACAO_VIDEO_MINUTOS'].astype(\n",
    "    'float64')"
   ]
  },
  {
   "cell_type": "code",
   "execution_count": 115,
   "metadata": {},
   "outputs": [],
   "source": [
    "with duckdb.connect() as conn:\n",
    "    conn.execute(\"\"\"\n",
    "        COPY df_videos_pandas\n",
    "        TO '/home/rodrigo/Documentos/projetos/analise_dados_youtube_segunda_versao/datalake/ouro/estatisticas_videos'\n",
    "        (FORMAT PARQUET, PARTITION_BY ('ASSUNTO', 'ANO_EXTRACAO', 'MES_EXTRACAO','DIA_EXTRACAO', 'TURNO_EXTRACAO', 'ID_CANAL', 'ID_VIDEO'))\n",
    "\"\"\")"
   ]
  },
  {
   "cell_type": "code",
   "execution_count": 100,
   "metadata": {},
   "outputs": [
    {
     "name": "stdout",
     "output_type": "stream",
     "text": [
      "        tempo     minutos\n",
      "0  PT1H20M38S   80.633333\n",
      "1  PT0H45M22S   45.366667\n",
      "2  PT2H10M00S  130.000000\n"
     ]
    }
   ],
   "source": [
    "import pandas as pd\n",
    "import re\n",
    "\n",
    "# Exemplo de dataframe\n",
    "df = pd.DataFrame({'tempo': ['PT1H20M38S', 'PT0H45M22S', 'PT2H10M00S']})\n",
    "\n",
    "# Função para converter o tempo para minutos\n",
    "\n",
    "\n",
    "def convert_to_minutes(tempo):\n",
    "    pattern = re.compile(r'PT(\\d+H)?(\\d+M)?(\\d+S)?')\n",
    "    match = pattern.match(tempo)\n",
    "    hours = int(match.group(1)[:-1]) if match.group(1) else 0\n",
    "    minutes = int(match.group(2)[:-1]) if match.group(2) else 0\n",
    "    seconds = int(match.group(3)[:-1]) if match.group(3) else 0\n",
    "    total_minutes = hours * 60 + minutes + seconds / 60\n",
    "    return total_minutes\n",
    "\n",
    "\n",
    "# Aplicando a função ao dataframe\n",
    "df['minutos'] = df['tempo'].apply(convert_to_minutes)\n",
    "\n",
    "print(df)"
   ]
  }
 ],
 "metadata": {
  "kernelspec": {
   "display_name": "Python 3",
   "language": "python",
   "name": "python3"
  },
  "language_info": {
   "codemirror_mode": {
    "name": "ipython",
    "version": 3
   },
   "file_extension": ".py",
   "mimetype": "text/x-python",
   "name": "python",
   "nbconvert_exporter": "python",
   "pygments_lexer": "ipython3",
   "version": "3.10.14"
  }
 },
 "nbformat": 4,
 "nbformat_minor": 2
}

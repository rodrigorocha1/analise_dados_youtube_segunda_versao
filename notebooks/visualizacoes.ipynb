{
 "cells": [
  {
   "cell_type": "code",
   "execution_count": 40,
   "metadata": {},
   "outputs": [],
   "source": [
    "import duckdb\n",
    "import pandas as pd\n",
    "import sqlalchemy"
   ]
  },
  {
   "cell_type": "code",
   "execution_count": 41,
   "metadata": {},
   "outputs": [
    {
     "name": "stdout",
     "output_type": "stream",
     "text": [
      "   DIA_EXTRACAO  TOTAL_VISUALIZACOES_ACC\n",
      "0            16                      275\n",
      "1            17                      279\n",
      "2            18                      283\n",
      "3            20                      282\n",
      "4            22                      283\n"
     ]
    }
   ],
   "source": [
    "import sqlalchemy\n",
    "import pandas as pd\n",
    "\n",
    "# Crie o engine para o DuckDB\n",
    "engine = sqlalchemy.create_engine('duckdb:///:memory:')\n",
    "\n",
    "# Sua consulta SQL\n",
    "sql = \"\"\"\n",
    "    SELECT DIA_EXTRACAO, \n",
    "    max(TOTAL_VISUALIZACOES) AS TOTAL_VISUALIZACOES_ACC\n",
    "    FROM read_parquet('/home/rodrigo/Documentos/projetos/analise_dados_youtube_segunda_versao/datalake/ouro/estatisticas_videos/*/*/*/*/*/*/*/*.parquet')\n",
    "    WHERE ASSUNTO='linux'\n",
    "    AND ID_VIDEO IN ('U2iVEkrsJis')\n",
    "    GROUP BY DIA_EXTRACAO\n",
    "    ORDER BY DIA_EXTRACAO\n",
    "\"\"\"\n",
    "\n",
    "# Exemplo de criação de uma tabela e inserção de dados\n",
    "with engine.connect() as connection:\n",
    "    # Executar a consulta e carregar os dados em um DataFrame\n",
    "    df = pd.read_sql(sql, connection)\n",
    "\n",
    "print(df)"
   ]
  },
  {
   "cell_type": "code",
   "execution_count": 42,
   "metadata": {},
   "outputs": [],
   "source": [
    "from sqlalchemy import create_engine\n",
    "from sqlalchemy.pool import NullPool\n",
    "from sqlalchemy import text\n",
    "\n",
    "\n",
    "engine = create_engine(\n",
    "    'duckdb:///my_database.duckdb',\n",
    "    poolclass=NullPool\n",
    ")"
   ]
  },
  {
   "cell_type": "code",
   "execution_count": 43,
   "metadata": {},
   "outputs": [],
   "source": [
    "nome_coluna = 'TOTAL_VISUALIZACOES'"
   ]
  },
  {
   "cell_type": "code",
   "execution_count": 44,
   "metadata": {},
   "outputs": [],
   "source": [
    "sql = f\"\"\"\n",
    "    SELECT DIA_EXTRACAO, \n",
    "\tmax({nome_coluna}) AS TOTAL_VISUALIZACOES_ACC\n",
    "    FROM read_parquet('/home/rodrigo/Documentos/projetos/analise_dados_youtube_segunda_versao/datalake/ouro/estatisticas_videos/*/*/*/*/*/*/*/*.parquet')\n",
    "    WHERE ASSUNTO='elder_ring'\n",
    "    AND ID_VIDEO IN ('wlgI9eu4XoE')\n",
    "    GROUP BY DIA_EXTRACAO\n",
    "    ORDER BY DIA_EXTRACAO;\n",
    "\"\"\""
   ]
  },
  {
   "cell_type": "code",
   "execution_count": 45,
   "metadata": {},
   "outputs": [
    {
     "data": {
      "text/html": [
       "<div>\n",
       "<style scoped>\n",
       "    .dataframe tbody tr th:only-of-type {\n",
       "        vertical-align: middle;\n",
       "    }\n",
       "\n",
       "    .dataframe tbody tr th {\n",
       "        vertical-align: top;\n",
       "    }\n",
       "\n",
       "    .dataframe thead th {\n",
       "        text-align: right;\n",
       "    }\n",
       "</style>\n",
       "<table border=\"1\" class=\"dataframe\">\n",
       "  <thead>\n",
       "    <tr style=\"text-align: right;\">\n",
       "      <th></th>\n",
       "      <th>DIA_EXTRACAO</th>\n",
       "      <th>TOTAL_VISUALIZACOES_ACC</th>\n",
       "    </tr>\n",
       "  </thead>\n",
       "  <tbody>\n",
       "    <tr>\n",
       "      <th>0</th>\n",
       "      <td>16</td>\n",
       "      <td>31122</td>\n",
       "    </tr>\n",
       "    <tr>\n",
       "      <th>1</th>\n",
       "      <td>17</td>\n",
       "      <td>50560</td>\n",
       "    </tr>\n",
       "    <tr>\n",
       "      <th>2</th>\n",
       "      <td>18</td>\n",
       "      <td>53390</td>\n",
       "    </tr>\n",
       "    <tr>\n",
       "      <th>3</th>\n",
       "      <td>19</td>\n",
       "      <td>54367</td>\n",
       "    </tr>\n",
       "    <tr>\n",
       "      <th>4</th>\n",
       "      <td>20</td>\n",
       "      <td>54841</td>\n",
       "    </tr>\n",
       "    <tr>\n",
       "      <th>5</th>\n",
       "      <td>21</td>\n",
       "      <td>55253</td>\n",
       "    </tr>\n",
       "    <tr>\n",
       "      <th>6</th>\n",
       "      <td>22</td>\n",
       "      <td>55691</td>\n",
       "    </tr>\n",
       "    <tr>\n",
       "      <th>7</th>\n",
       "      <td>23</td>\n",
       "      <td>55864</td>\n",
       "    </tr>\n",
       "  </tbody>\n",
       "</table>\n",
       "</div>"
      ],
      "text/plain": [
       "   DIA_EXTRACAO  TOTAL_VISUALIZACOES_ACC\n",
       "0            16                    31122\n",
       "1            17                    50560\n",
       "2            18                    53390\n",
       "3            19                    54367\n",
       "4            20                    54841\n",
       "5            21                    55253\n",
       "6            22                    55691\n",
       "7            23                    55864"
      ]
     },
     "execution_count": 45,
     "metadata": {},
     "output_type": "execute_result"
    }
   ],
   "source": [
    "t = text(sql)\n",
    "result = pd.read_sql(t, con=engine)\n",
    "result"
   ]
  },
  {
   "cell_type": "code",
   "execution_count": 46,
   "metadata": {},
   "outputs": [
    {
     "data": {
      "text/html": [
       "<div>\n",
       "<style scoped>\n",
       "    .dataframe tbody tr th:only-of-type {\n",
       "        vertical-align: middle;\n",
       "    }\n",
       "\n",
       "    .dataframe tbody tr th {\n",
       "        vertical-align: top;\n",
       "    }\n",
       "\n",
       "    .dataframe thead th {\n",
       "        text-align: right;\n",
       "    }\n",
       "</style>\n",
       "<table border=\"1\" class=\"dataframe\">\n",
       "  <thead>\n",
       "    <tr style=\"text-align: right;\">\n",
       "      <th></th>\n",
       "      <th>DIA_EXTRACAO</th>\n",
       "      <th>TOTAL_VISUALIZACOES_ACC</th>\n",
       "      <th>TOTAL_VISUALIZACOES_DESLO</th>\n",
       "      <th>TOTAL_VISUALIZACOES_DIA</th>\n",
       "    </tr>\n",
       "  </thead>\n",
       "  <tbody>\n",
       "    <tr>\n",
       "      <th>0</th>\n",
       "      <td>16</td>\n",
       "      <td>31122</td>\n",
       "      <td>0.0</td>\n",
       "      <td>31122.0</td>\n",
       "    </tr>\n",
       "    <tr>\n",
       "      <th>1</th>\n",
       "      <td>17</td>\n",
       "      <td>50560</td>\n",
       "      <td>31122.0</td>\n",
       "      <td>19438.0</td>\n",
       "    </tr>\n",
       "    <tr>\n",
       "      <th>2</th>\n",
       "      <td>18</td>\n",
       "      <td>53390</td>\n",
       "      <td>50560.0</td>\n",
       "      <td>2830.0</td>\n",
       "    </tr>\n",
       "    <tr>\n",
       "      <th>3</th>\n",
       "      <td>19</td>\n",
       "      <td>54367</td>\n",
       "      <td>53390.0</td>\n",
       "      <td>977.0</td>\n",
       "    </tr>\n",
       "    <tr>\n",
       "      <th>4</th>\n",
       "      <td>20</td>\n",
       "      <td>54841</td>\n",
       "      <td>54367.0</td>\n",
       "      <td>474.0</td>\n",
       "    </tr>\n",
       "    <tr>\n",
       "      <th>5</th>\n",
       "      <td>21</td>\n",
       "      <td>55253</td>\n",
       "      <td>54841.0</td>\n",
       "      <td>412.0</td>\n",
       "    </tr>\n",
       "    <tr>\n",
       "      <th>6</th>\n",
       "      <td>22</td>\n",
       "      <td>55691</td>\n",
       "      <td>55253.0</td>\n",
       "      <td>438.0</td>\n",
       "    </tr>\n",
       "    <tr>\n",
       "      <th>7</th>\n",
       "      <td>23</td>\n",
       "      <td>55864</td>\n",
       "      <td>55691.0</td>\n",
       "      <td>173.0</td>\n",
       "    </tr>\n",
       "  </tbody>\n",
       "</table>\n",
       "</div>"
      ],
      "text/plain": [
       "   DIA_EXTRACAO  TOTAL_VISUALIZACOES_ACC  TOTAL_VISUALIZACOES_DESLO  \\\n",
       "0            16                    31122                        0.0   \n",
       "1            17                    50560                    31122.0   \n",
       "2            18                    53390                    50560.0   \n",
       "3            19                    54367                    53390.0   \n",
       "4            20                    54841                    54367.0   \n",
       "5            21                    55253                    54841.0   \n",
       "6            22                    55691                    55253.0   \n",
       "7            23                    55864                    55691.0   \n",
       "\n",
       "   TOTAL_VISUALIZACOES_DIA  \n",
       "0                  31122.0  \n",
       "1                  19438.0  \n",
       "2                   2830.0  \n",
       "3                    977.0  \n",
       "4                    474.0  \n",
       "5                    412.0  \n",
       "6                    438.0  \n",
       "7                    173.0  "
      ]
     },
     "execution_count": 46,
     "metadata": {},
     "output_type": "execute_result"
    }
   ],
   "source": [
    "result[f'{nome_coluna}_DESLO'] = result[f'{nome_coluna}_ACC'].shift(1)\n",
    "result.fillna(0, inplace=True)\n",
    "result[f'{nome_coluna}_DIA'] = result[f'{nome_coluna}_ACC'] - \\\n",
    "    result[f'{nome_coluna}_DESLO']\n",
    "result"
   ]
  },
  {
   "cell_type": "code",
   "execution_count": 47,
   "metadata": {},
   "outputs": [
    {
     "name": "stdout",
     "output_type": "stream",
     "text": [
      "<class 'pandas.core.frame.DataFrame'>\n",
      "RangeIndex: 8 entries, 0 to 7\n",
      "Data columns (total 4 columns):\n",
      " #   Column                     Non-Null Count  Dtype  \n",
      "---  ------                     --------------  -----  \n",
      " 0   DIA_EXTRACAO               8 non-null      int64  \n",
      " 1   TOTAL_VISUALIZACOES_ACC    8 non-null      int64  \n",
      " 2   TOTAL_VISUALIZACOES_DESLO  8 non-null      float64\n",
      " 3   TOTAL_VISUALIZACOES_DIA    8 non-null      float64\n",
      "dtypes: float64(2), int64(2)\n",
      "memory usage: 384.0 bytes\n"
     ]
    }
   ],
   "source": [
    "result.info()"
   ]
  }
 ],
 "metadata": {
  "kernelspec": {
   "display_name": "venv",
   "language": "python",
   "name": "python3"
  },
  "language_info": {
   "codemirror_mode": {
    "name": "ipython",
    "version": 3
   },
   "file_extension": ".py",
   "mimetype": "text/x-python",
   "name": "python",
   "nbconvert_exporter": "python",
   "pygments_lexer": "ipython3",
   "version": "3.10.14"
  }
 },
 "nbformat": 4,
 "nbformat_minor": 2
}

{
 "cells": [
  {
   "cell_type": "code",
   "execution_count": 15,
   "metadata": {},
   "outputs": [],
   "source": [
    "from pyspark.sql import SparkSession, DataFrame\n",
    "import pyspark.sql.functions as F\n",
    "import requests\n",
    "import pandas as pd\n",
    "import pickle\n",
    "import os"
   ]
  },
  {
   "cell_type": "code",
   "execution_count": 16,
   "metadata": {},
   "outputs": [],
   "source": [
    "chaves = {\n",
    "    'a': 1,\n",
    "    'b': 2\n",
    "}\n",
    "\n",
    "def soma(a, b):\n",
    "    return a + b"
   ]
  },
  {
   "cell_type": "code",
   "execution_count": 17,
   "metadata": {},
   "outputs": [
    {
     "data": {
      "text/plain": [
       "1"
      ]
     },
     "execution_count": 17,
     "metadata": {},
     "output_type": "execute_result"
    }
   ],
   "source": [
    "chaves['a']"
   ]
  },
  {
   "cell_type": "code",
   "execution_count": 18,
   "metadata": {},
   "outputs": [],
   "source": [
    "import pendulum"
   ]
  },
  {
   "cell_type": "code",
   "execution_count": 19,
   "metadata": {},
   "outputs": [],
   "source": [
    "import pendulum\n",
    "data_hora_atual = pendulum.now('America/Sao_Paulo').to_iso8601_string()\n",
    "data_hora_atual = pendulum.parse(data_hora_atual)\n",
    "data_hora_busca = data_hora_atual.subtract(hours=7)\n",
    "data_hora_busca_formatada = data_hora_busca.format('YYYY_MM_DD_HH_mm_ss')\n",
    "data = f'extracao_data_{data_hora_busca_formatada}'\n"
   ]
  },
  {
   "cell_type": "code",
   "execution_count": 20,
   "metadata": {},
   "outputs": [
    {
     "data": {
      "text/plain": [
       "'extracao_data_2024_07_03_13_46_47'"
      ]
     },
     "execution_count": 20,
     "metadata": {},
     "output_type": "execute_result"
    }
   ],
   "source": [
    "data"
   ]
  },
  {
   "cell_type": "code",
   "execution_count": 21,
   "metadata": {},
   "outputs": [
    {
     "data": {
      "text/plain": [
       "3"
      ]
     },
     "execution_count": 21,
     "metadata": {},
     "output_type": "execute_result"
    }
   ],
   "source": [
    "soma(**chaves)"
   ]
  },
  {
   "cell_type": "code",
   "execution_count": 22,
   "metadata": {},
   "outputs": [],
   "source": [
    "spark = SparkSession.builder.appName('DEPARA').getOrCreate()"
   ]
  },
  {
   "cell_type": "code",
   "execution_count": 23,
   "metadata": {},
   "outputs": [],
   "source": [
    "df_estatisticas_videos = spark.read.json(\n",
    "    '../datalake/bronze/cities_skylines/extracao_data_2024_06_29/estatisticas_canais_brasileiros/req_estatisticas_canais_brasileiros.json')"
   ]
  },
  {
   "cell_type": "code",
   "execution_count": null,
   "metadata": {},
   "outputs": [],
   "source": []
  },
  {
   "cell_type": "code",
   "execution_count": 24,
   "metadata": {},
   "outputs": [
    {
     "name": "stdout",
     "output_type": "stream",
     "text": [
      "root\n",
      " |-- data_extracao: string (nullable = true)\n",
      " |-- etag: string (nullable = true)\n",
      " |-- items: array (nullable = true)\n",
      " |    |-- element: struct (containsNull = true)\n",
      " |    |    |-- etag: string (nullable = true)\n",
      " |    |    |-- id: string (nullable = true)\n",
      " |    |    |-- kind: string (nullable = true)\n",
      " |    |    |-- snippet: struct (nullable = true)\n",
      " |    |    |    |-- country: string (nullable = true)\n",
      " |    |    |    |-- customUrl: string (nullable = true)\n",
      " |    |    |    |-- description: string (nullable = true)\n",
      " |    |    |    |-- localized: struct (nullable = true)\n",
      " |    |    |    |    |-- description: string (nullable = true)\n",
      " |    |    |    |    |-- title: string (nullable = true)\n",
      " |    |    |    |-- publishedAt: string (nullable = true)\n",
      " |    |    |    |-- thumbnails: struct (nullable = true)\n",
      " |    |    |    |    |-- default: struct (nullable = true)\n",
      " |    |    |    |    |    |-- height: long (nullable = true)\n",
      " |    |    |    |    |    |-- url: string (nullable = true)\n",
      " |    |    |    |    |    |-- width: long (nullable = true)\n",
      " |    |    |    |    |-- high: struct (nullable = true)\n",
      " |    |    |    |    |    |-- height: long (nullable = true)\n",
      " |    |    |    |    |    |-- url: string (nullable = true)\n",
      " |    |    |    |    |    |-- width: long (nullable = true)\n",
      " |    |    |    |    |-- medium: struct (nullable = true)\n",
      " |    |    |    |    |    |-- height: long (nullable = true)\n",
      " |    |    |    |    |    |-- url: string (nullable = true)\n",
      " |    |    |    |    |    |-- width: long (nullable = true)\n",
      " |    |    |    |-- title: string (nullable = true)\n",
      " |    |    |-- statistics: struct (nullable = true)\n",
      " |    |    |    |-- hiddenSubscriberCount: boolean (nullable = true)\n",
      " |    |    |    |-- subscriberCount: string (nullable = true)\n",
      " |    |    |    |-- videoCount: string (nullable = true)\n",
      " |    |    |    |-- viewCount: string (nullable = true)\n",
      " |-- kind: string (nullable = true)\n",
      " |-- pageInfo: struct (nullable = true)\n",
      " |    |-- resultsPerPage: long (nullable = true)\n",
      " |    |-- totalResults: long (nullable = true)\n",
      "\n"
     ]
    }
   ],
   "source": [
    "df_estatisticas_videos.printSchema()"
   ]
  },
  {
   "cell_type": "code",
   "execution_count": 25,
   "metadata": {},
   "outputs": [
    {
     "name": "stdout",
     "output_type": "stream",
     "text": [
      "root\n",
      " |-- data_extracao: string (nullable = true)\n",
      " |-- col: struct (nullable = true)\n",
      " |    |-- etag: string (nullable = true)\n",
      " |    |-- id: string (nullable = true)\n",
      " |    |-- kind: string (nullable = true)\n",
      " |    |-- snippet: struct (nullable = true)\n",
      " |    |    |-- country: string (nullable = true)\n",
      " |    |    |-- customUrl: string (nullable = true)\n",
      " |    |    |-- description: string (nullable = true)\n",
      " |    |    |-- localized: struct (nullable = true)\n",
      " |    |    |    |-- description: string (nullable = true)\n",
      " |    |    |    |-- title: string (nullable = true)\n",
      " |    |    |-- publishedAt: string (nullable = true)\n",
      " |    |    |-- thumbnails: struct (nullable = true)\n",
      " |    |    |    |-- default: struct (nullable = true)\n",
      " |    |    |    |    |-- height: long (nullable = true)\n",
      " |    |    |    |    |-- url: string (nullable = true)\n",
      " |    |    |    |    |-- width: long (nullable = true)\n",
      " |    |    |    |-- high: struct (nullable = true)\n",
      " |    |    |    |    |-- height: long (nullable = true)\n",
      " |    |    |    |    |-- url: string (nullable = true)\n",
      " |    |    |    |    |-- width: long (nullable = true)\n",
      " |    |    |    |-- medium: struct (nullable = true)\n",
      " |    |    |    |    |-- height: long (nullable = true)\n",
      " |    |    |    |    |-- url: string (nullable = true)\n",
      " |    |    |    |    |-- width: long (nullable = true)\n",
      " |    |    |-- title: string (nullable = true)\n",
      " |    |-- statistics: struct (nullable = true)\n",
      " |    |    |-- hiddenSubscriberCount: boolean (nullable = true)\n",
      " |    |    |-- subscriberCount: string (nullable = true)\n",
      " |    |    |-- videoCount: string (nullable = true)\n",
      " |    |    |-- viewCount: string (nullable = true)\n",
      "\n"
     ]
    }
   ],
   "source": [
    "df_estatisticas_videos.select(\n",
    "    'data_extracao',\n",
    "    F.explode('items')\n",
    ").printSchema()"
   ]
  },
  {
   "cell_type": "code",
   "execution_count": 26,
   "metadata": {},
   "outputs": [],
   "source": [
    "def obter_hora(dataframe: DataFrame):\n",
    "    dataframe = dataframe.withColumn('TURNO_EXTRACAO', F.when((F.col('HORA') >= 0) & (F.col('HORA') < 6), 'Madrugada')\n",
    "                .when((F.col('HORA') >= 6) & (F.col('HORA') < 12), 'Manhã')\n",
    "                .when((F.col('HORA') >= 12) & (F.col('HORA') < 18), 'Tarde')\n",
    "                .otherwise('Noite'))"
   ]
  },
  {
   "cell_type": "code",
   "execution_count": 31,
   "metadata": {},
   "outputs": [],
   "source": [
    "df_estatisticas_videos = spark.read.json(\n",
    "    '/home/rodrigo/Documentos/projetos/analise_dados_youtube_segunda_versao/datalake/bronze/cities_skylines/extracao_data_2024_06_29/estatisticas_videos/req_estatisticas_videos.json')"
   ]
  },
  {
   "cell_type": "code",
   "execution_count": 32,
   "metadata": {},
   "outputs": [
    {
     "name": "stdout",
     "output_type": "stream",
     "text": [
      "root\n",
      " |-- data_extracao: string (nullable = true)\n",
      " |-- etag: string (nullable = true)\n",
      " |-- items: array (nullable = true)\n",
      " |    |-- element: struct (containsNull = true)\n",
      " |    |    |-- contentDetails: struct (nullable = true)\n",
      " |    |    |    |-- caption: string (nullable = true)\n",
      " |    |    |    |-- definition: string (nullable = true)\n",
      " |    |    |    |-- dimension: string (nullable = true)\n",
      " |    |    |    |-- duration: string (nullable = true)\n",
      " |    |    |    |-- licensedContent: boolean (nullable = true)\n",
      " |    |    |    |-- projection: string (nullable = true)\n",
      " |    |    |-- etag: string (nullable = true)\n",
      " |    |    |-- id: string (nullable = true)\n",
      " |    |    |-- kind: string (nullable = true)\n",
      " |    |    |-- snippet: struct (nullable = true)\n",
      " |    |    |    |-- categoryId: string (nullable = true)\n",
      " |    |    |    |-- channelId: string (nullable = true)\n",
      " |    |    |    |-- channelTitle: string (nullable = true)\n",
      " |    |    |    |-- defaultAudioLanguage: string (nullable = true)\n",
      " |    |    |    |-- defaultLanguage: string (nullable = true)\n",
      " |    |    |    |-- description: string (nullable = true)\n",
      " |    |    |    |-- liveBroadcastContent: string (nullable = true)\n",
      " |    |    |    |-- localized: struct (nullable = true)\n",
      " |    |    |    |    |-- description: string (nullable = true)\n",
      " |    |    |    |    |-- title: string (nullable = true)\n",
      " |    |    |    |-- publishedAt: string (nullable = true)\n",
      " |    |    |    |-- tags: array (nullable = true)\n",
      " |    |    |    |    |-- element: string (containsNull = true)\n",
      " |    |    |    |-- thumbnails: struct (nullable = true)\n",
      " |    |    |    |    |-- default: struct (nullable = true)\n",
      " |    |    |    |    |    |-- height: long (nullable = true)\n",
      " |    |    |    |    |    |-- url: string (nullable = true)\n",
      " |    |    |    |    |    |-- width: long (nullable = true)\n",
      " |    |    |    |    |-- high: struct (nullable = true)\n",
      " |    |    |    |    |    |-- height: long (nullable = true)\n",
      " |    |    |    |    |    |-- url: string (nullable = true)\n",
      " |    |    |    |    |    |-- width: long (nullable = true)\n",
      " |    |    |    |    |-- maxres: struct (nullable = true)\n",
      " |    |    |    |    |    |-- height: long (nullable = true)\n",
      " |    |    |    |    |    |-- url: string (nullable = true)\n",
      " |    |    |    |    |    |-- width: long (nullable = true)\n",
      " |    |    |    |    |-- medium: struct (nullable = true)\n",
      " |    |    |    |    |    |-- height: long (nullable = true)\n",
      " |    |    |    |    |    |-- url: string (nullable = true)\n",
      " |    |    |    |    |    |-- width: long (nullable = true)\n",
      " |    |    |    |    |-- standard: struct (nullable = true)\n",
      " |    |    |    |    |    |-- height: long (nullable = true)\n",
      " |    |    |    |    |    |-- url: string (nullable = true)\n",
      " |    |    |    |    |    |-- width: long (nullable = true)\n",
      " |    |    |    |-- title: string (nullable = true)\n",
      " |    |    |-- statistics: struct (nullable = true)\n",
      " |    |    |    |-- commentCount: string (nullable = true)\n",
      " |    |    |    |-- favoriteCount: string (nullable = true)\n",
      " |    |    |    |-- likeCount: string (nullable = true)\n",
      " |    |    |    |-- viewCount: string (nullable = true)\n",
      " |    |    |-- status: struct (nullable = true)\n",
      " |    |    |    |-- embeddable: boolean (nullable = true)\n",
      " |    |    |    |-- license: string (nullable = true)\n",
      " |    |    |    |-- madeForKids: boolean (nullable = true)\n",
      " |    |    |    |-- privacyStatus: string (nullable = true)\n",
      " |    |    |    |-- publicStatsViewable: boolean (nullable = true)\n",
      " |    |    |    |-- uploadStatus: string (nullable = true)\n",
      " |-- kind: string (nullable = true)\n",
      " |-- pageInfo: struct (nullable = true)\n",
      " |    |-- resultsPerPage: long (nullable = true)\n",
      " |    |-- totalResults: long (nullable = true)\n",
      "\n"
     ]
    }
   ],
   "source": [
    "df_estatisticas_videos.printSchema()"
   ]
  },
  {
   "cell_type": "code",
   "execution_count": 33,
   "metadata": {},
   "outputs": [
    {
     "name": "stdout",
     "output_type": "stream",
     "text": [
      "+-------------------+--------------------+--------------------+--------------------+--------+\n",
      "|      data_extracao|                etag|               items|                kind|pageInfo|\n",
      "+-------------------+--------------------+--------------------+--------------------+--------+\n",
      "|2024-06-29 23:34:31|uAyX8MJ2B_udlVdcg...|[{{false, hd, 2d,...|youtube#videoList...|  {1, 1}|\n",
      "|2024-06-29 23:34:31|10FPEusBbGUKmxKyG...|[{{false, sd, 2d,...|youtube#videoList...|  {1, 1}|\n",
      "|2024-06-29 23:34:31|_iBTFxkhxH866lRpi...|[{{false, hd, 2d,...|youtube#videoList...|  {1, 1}|\n",
      "|2024-06-29 23:34:31|cTQwUCzBrNZG08DKD...|[{{false, sd, 2d,...|youtube#videoList...|  {1, 1}|\n",
      "|2024-06-29 23:37:01|uAyX8MJ2B_udlVdcg...|[{{false, hd, 2d,...|youtube#videoList...|  {1, 1}|\n",
      "|2024-06-29 23:37:01|10FPEusBbGUKmxKyG...|[{{false, sd, 2d,...|youtube#videoList...|  {1, 1}|\n",
      "|2024-06-29 23:37:01|_iBTFxkhxH866lRpi...|[{{false, hd, 2d,...|youtube#videoList...|  {1, 1}|\n",
      "|2024-06-29 23:37:01|cTQwUCzBrNZG08DKD...|[{{false, sd, 2d,...|youtube#videoList...|  {1, 1}|\n",
      "|2024-06-29 23:39:26|uAyX8MJ2B_udlVdcg...|[{{false, hd, 2d,...|youtube#videoList...|  {1, 1}|\n",
      "|2024-06-29 23:39:26|10FPEusBbGUKmxKyG...|[{{false, sd, 2d,...|youtube#videoList...|  {1, 1}|\n",
      "|2024-06-29 23:39:26|_iBTFxkhxH866lRpi...|[{{false, hd, 2d,...|youtube#videoList...|  {1, 1}|\n",
      "|2024-06-29 23:39:26|cTQwUCzBrNZG08DKD...|[{{false, sd, 2d,...|youtube#videoList...|  {1, 1}|\n",
      "+-------------------+--------------------+--------------------+--------------------+--------+\n",
      "\n"
     ]
    }
   ],
   "source": [
    "df_estatisticas_videos.show()"
   ]
  },
  {
   "cell_type": "code",
   "execution_count": 59,
   "metadata": {},
   "outputs": [
    {
     "name": "stdout",
     "output_type": "stream",
     "text": [
      "root\n",
      " |-- col: struct (nullable = true)\n",
      " |    |-- contentDetails: struct (nullable = true)\n",
      " |    |    |-- caption: string (nullable = true)\n",
      " |    |    |-- definition: string (nullable = true)\n",
      " |    |    |-- dimension: string (nullable = true)\n",
      " |    |    |-- duration: string (nullable = true)\n",
      " |    |    |-- licensedContent: boolean (nullable = true)\n",
      " |    |    |-- projection: string (nullable = true)\n",
      " |    |-- etag: string (nullable = true)\n",
      " |    |-- id: string (nullable = true)\n",
      " |    |-- kind: string (nullable = true)\n",
      " |    |-- snippet: struct (nullable = true)\n",
      " |    |    |-- categoryId: string (nullable = true)\n",
      " |    |    |-- channelId: string (nullable = true)\n",
      " |    |    |-- channelTitle: string (nullable = true)\n",
      " |    |    |-- defaultAudioLanguage: string (nullable = true)\n",
      " |    |    |-- defaultLanguage: string (nullable = true)\n",
      " |    |    |-- description: string (nullable = true)\n",
      " |    |    |-- liveBroadcastContent: string (nullable = true)\n",
      " |    |    |-- localized: struct (nullable = true)\n",
      " |    |    |    |-- description: string (nullable = true)\n",
      " |    |    |    |-- title: string (nullable = true)\n",
      " |    |    |-- publishedAt: string (nullable = true)\n",
      " |    |    |-- tags: array (nullable = true)\n",
      " |    |    |    |-- element: string (containsNull = true)\n",
      " |    |    |-- thumbnails: struct (nullable = true)\n",
      " |    |    |    |-- default: struct (nullable = true)\n",
      " |    |    |    |    |-- height: long (nullable = true)\n",
      " |    |    |    |    |-- url: string (nullable = true)\n",
      " |    |    |    |    |-- width: long (nullable = true)\n",
      " |    |    |    |-- high: struct (nullable = true)\n",
      " |    |    |    |    |-- height: long (nullable = true)\n",
      " |    |    |    |    |-- url: string (nullable = true)\n",
      " |    |    |    |    |-- width: long (nullable = true)\n",
      " |    |    |    |-- maxres: struct (nullable = true)\n",
      " |    |    |    |    |-- height: long (nullable = true)\n",
      " |    |    |    |    |-- url: string (nullable = true)\n",
      " |    |    |    |    |-- width: long (nullable = true)\n",
      " |    |    |    |-- medium: struct (nullable = true)\n",
      " |    |    |    |    |-- height: long (nullable = true)\n",
      " |    |    |    |    |-- url: string (nullable = true)\n",
      " |    |    |    |    |-- width: long (nullable = true)\n",
      " |    |    |    |-- standard: struct (nullable = true)\n",
      " |    |    |    |    |-- height: long (nullable = true)\n",
      " |    |    |    |    |-- url: string (nullable = true)\n",
      " |    |    |    |    |-- width: long (nullable = true)\n",
      " |    |    |-- title: string (nullable = true)\n",
      " |    |-- statistics: struct (nullable = true)\n",
      " |    |    |-- commentCount: string (nullable = true)\n",
      " |    |    |-- favoriteCount: string (nullable = true)\n",
      " |    |    |-- likeCount: string (nullable = true)\n",
      " |    |    |-- viewCount: string (nullable = true)\n",
      " |    |-- status: struct (nullable = true)\n",
      " |    |    |-- embeddable: boolean (nullable = true)\n",
      " |    |    |-- license: string (nullable = true)\n",
      " |    |    |-- madeForKids: boolean (nullable = true)\n",
      " |    |    |-- privacyStatus: string (nullable = true)\n",
      " |    |    |-- publicStatsViewable: boolean (nullable = true)\n",
      " |    |    |-- uploadStatus: string (nullable = true)\n",
      "\n"
     ]
    }
   ],
   "source": [
    "df_estatisticas_videos.select(F.explode('items')) \\\n",
    "    .printSchema()"
   ]
  },
  {
   "cell_type": "code",
   "execution_count": 79,
   "metadata": {},
   "outputs": [
    {
     "name": "stdout",
     "output_type": "stream",
     "text": [
      "+-----------+--------------------+--------------------+--------------------+--------+--------------------+------------+-------------------+-----------+---------------+----------+---------------------+------------------------+\n",
      "|   ID_VIDEO|            ID_CANAL|        TITULO_VIDEO|           DESCRICAO| DURACAO|                TAGS|ID_CATEGORIA|TOTAL_VISUALIZACOES|TOTAL_LIKES|TOTAL_FAVORITOS|TOTAL_TAGS|TOTAL_PALAVRAS_TITULO|TOTAL_PALAVRAS_DESCRICAO|\n",
      "+-----------+--------------------+--------------------+--------------------+--------+--------------------+------------+-------------------+-----------+---------------+----------+---------------------+------------------------+\n",
      "|FudZWNcwonU|UC3OZQD5qIIt27gu_...|Tutorial de como ...|Meta Race\\nIP: mt...| PT4M11S|                null|          22|                 59|         16|              0|         0|                   16|                     577|\n",
      "|RhSZfR7reTM|UCsFvpmOu04Tyf9gs...|Encontrei O Melho...|Slv Tropa Deixa O...| PT1M44S|                null|          22|                 11|          3|              0|         0|                   12|                     619|\n",
      "|P9ZuQ3ClLeg|UCTdehZL8aTm70QB6...|ESTAMOS CRESCENDO...|Bem-vindo ao Dang...|PT13M23S|[cities, br, citi...|          20|                  2|          0|              0|         7|                    6|                      34|\n",
      "|hCCheh9_pro|UCOCp_GcNLExKx-Ox...|   Cities skylines 1|Opa eae, eu sou o...|     P0D|[#PS4Live, Cities...|          20|                  2|          2|              0|         4|                    3|                      20|\n",
      "|FudZWNcwonU|UC3OZQD5qIIt27gu_...|Tutorial de como ...|Meta Race\\nIP: mt...| PT4M11S|                null|          22|                 59|         16|              0|         0|                   16|                     577|\n",
      "|RhSZfR7reTM|UCsFvpmOu04Tyf9gs...|Encontrei O Melho...|Slv Tropa Deixa O...| PT1M44S|                null|          22|                 11|          3|              0|         0|                   12|                     619|\n",
      "|P9ZuQ3ClLeg|UCTdehZL8aTm70QB6...|ESTAMOS CRESCENDO...|Bem-vindo ao Dang...|PT13M23S|[cities, br, citi...|          20|                  2|          0|              0|         7|                    6|                      34|\n",
      "|hCCheh9_pro|UCOCp_GcNLExKx-Ox...|   Cities skylines 1|Opa eae, eu sou o...|     P0D|[#PS4Live, Cities...|          20|                  2|          2|              0|         4|                    3|                      20|\n",
      "|FudZWNcwonU|UC3OZQD5qIIt27gu_...|Tutorial de como ...|Meta Race\\nIP: mt...| PT4M11S|                null|          22|                 59|         16|              0|         0|                   16|                     577|\n",
      "|RhSZfR7reTM|UCsFvpmOu04Tyf9gs...|Encontrei O Melho...|Slv Tropa Deixa O...| PT1M44S|                null|          22|                 11|          3|              0|         0|                   12|                     619|\n",
      "|P9ZuQ3ClLeg|UCTdehZL8aTm70QB6...|ESTAMOS CRESCENDO...|Bem-vindo ao Dang...|PT13M23S|[cities, br, citi...|          20|                  2|          0|              0|         7|                    6|                      34|\n",
      "|hCCheh9_pro|UCOCp_GcNLExKx-Ox...|   Cities skylines 1|Opa eae, eu sou o...|     P0D|[#PS4Live, Cities...|          20|                  2|          2|              0|         4|                    3|                      20|\n",
      "+-----------+--------------------+--------------------+--------------------+--------+--------------------+------------+-------------------+-----------+---------------+----------+---------------------+------------------------+\n",
      "\n"
     ]
    }
   ],
   "source": [
    "df_teste = df_estatisticas_videos.select(F.explode('items').alias('items')) \\\n",
    "    .select(\n",
    "        F.col('items.id').alias('ID_VIDEO'),\n",
    "        F.col('items.snippet.channelId').alias('ID_CANAL'),\n",
    "        F.col('items.snippet.title').alias('TITULO_VIDEO'),\n",
    "        F.col('items.snippet.description').alias('DESCRICAO'),\n",
    "        F.col('items.contentDetails.duration').alias('DURACAO'),\n",
    "        F.col('items.snippet.tags').alias('TAGS'),\n",
    "        \n",
    "        F.col('items.snippet.categoryid').alias('ID_CATEGORIA'),\n",
    "        F.col('items.statistics.viewCount').alias('TOTAL_VISUALIZACOES'),\n",
    "        F.col('items.statistics.likeCount').alias('TOTAL_LIKES'),\n",
    "        F.col('items.statistics.favoriteCount').alias('TOTAL_FAVORITOS'),\n",
    "    )\n",
    "df_teste = df_teste.withColumn('TOTAL_TAGS', F.when(\n",
    "    F.size(df_teste.TAGS) <= 0, 0).otherwise(F.size(df_teste.TAGS)))\n",
    "df_teste = df_teste.withColumn('TOTAL_PALAVRAS_TITULO', F.size(F.split(df_teste.TITULO_VIDEO, \" \")))\n",
    "df_teste = df_teste.withColumn(\n",
    "    'TOTAL_PALAVRAS_DESCRICAO', F.size(F.split(df_teste.DESCRICAO, \" \")))\n",
    "df_teste.show()"
   ]
  },
  {
   "cell_type": "code",
   "execution_count": 80,
   "metadata": {},
   "outputs": [],
   "source": [
    "spark.stop()"
   ]
  },
  {
   "cell_type": "markdown",
   "metadata": {},
   "source": [
    "- DuckDb"
   ]
  },
  {
   "cell_type": "code",
   "execution_count": 1,
   "metadata": {},
   "outputs": [],
   "source": [
    "import duckdb"
   ]
  },
  {
   "cell_type": "code",
   "execution_count": null,
   "metadata": {},
   "outputs": [],
   "source": []
  },
  {
   "cell_type": "code",
   "execution_count": 89,
   "metadata": {},
   "outputs": [
    {
     "data": {
      "text/plain": [
       "['req_estatisticas_canais_brasileiros.parquet']"
      ]
     },
     "execution_count": 89,
     "metadata": {},
     "output_type": "execute_result"
    }
   ],
   "source": [
    "import os\n",
    "lista_pasta = os.listdir('../datalake/prata/cities_skylines/extracao_data_2024_06_29/estatisticas_canais_brasileiros/')\n",
    "lista_pasta"
   ]
  }
 ],
 "metadata": {
  "kernelspec": {
   "display_name": "venv",
   "language": "python",
   "name": "python3"
  },
  "language_info": {
   "codemirror_mode": {
    "name": "ipython",
    "version": 3
   },
   "file_extension": ".py",
   "mimetype": "text/x-python",
   "name": "python",
   "nbconvert_exporter": "python",
   "pygments_lexer": "ipython3",
   "version": "3.10.14"
  }
 },
 "nbformat": 4,
 "nbformat_minor": 2
}

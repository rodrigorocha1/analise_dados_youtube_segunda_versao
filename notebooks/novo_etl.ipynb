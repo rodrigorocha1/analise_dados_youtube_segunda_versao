{
 "cells": [
  {
   "cell_type": "code",
   "execution_count": 114,
   "metadata": {},
   "outputs": [],
   "source": [
    "from pyspark.sql import SparkSession, DataFrame\n",
    "import pyspark.sql.functions as F\n",
    "import requests\n",
    "import pandas as pd\n",
    "import pickle\n",
    "import os"
   ]
  },
  {
   "cell_type": "code",
   "execution_count": 115,
   "metadata": {},
   "outputs": [],
   "source": [
    "chaves = {\n",
    "    'a': 1,\n",
    "    'b': 2\n",
    "}\n",
    "\n",
    "def soma(a, b):\n",
    "    return a + b"
   ]
  },
  {
   "cell_type": "code",
   "execution_count": 116,
   "metadata": {},
   "outputs": [
    {
     "data": {
      "text/plain": [
       "1"
      ]
     },
     "execution_count": 116,
     "metadata": {},
     "output_type": "execute_result"
    }
   ],
   "source": [
    "chaves['a']"
   ]
  },
  {
   "cell_type": "code",
   "execution_count": 117,
   "metadata": {},
   "outputs": [],
   "source": [
    "import pendulum"
   ]
  },
  {
   "cell_type": "code",
   "execution_count": 118,
   "metadata": {},
   "outputs": [],
   "source": [
    "import pendulum\n",
    "data_hora_atual = pendulum.now('America/Sao_Paulo').to_iso8601_string()\n",
    "data_hora_atual = pendulum.parse(data_hora_atual)\n",
    "data_hora_busca = data_hora_atual.subtract(hours=7)\n",
    "data_hora_busca_formatada = data_hora_busca.format('YYYY_MM_DD_HH_mm_ss')\n",
    "data = f'extracao_data_{data_hora_busca_formatada}'\n"
   ]
  },
  {
   "cell_type": "code",
   "execution_count": 119,
   "metadata": {},
   "outputs": [
    {
     "data": {
      "text/plain": [
       "'extracao_data_2024_07_09_05_37_40'"
      ]
     },
     "execution_count": 119,
     "metadata": {},
     "output_type": "execute_result"
    }
   ],
   "source": [
    "data"
   ]
  },
  {
   "cell_type": "code",
   "execution_count": 120,
   "metadata": {},
   "outputs": [
    {
     "data": {
      "text/plain": [
       "3"
      ]
     },
     "execution_count": 120,
     "metadata": {},
     "output_type": "execute_result"
    }
   ],
   "source": [
    "soma(**chaves)"
   ]
  },
  {
   "cell_type": "code",
   "execution_count": 121,
   "metadata": {},
   "outputs": [],
   "source": [
    "spark = SparkSession.builder.appName('DEPARA').getOrCreate()"
   ]
  },
  {
   "cell_type": "markdown",
   "metadata": {},
   "source": [
    "- Estatísticas Canais"
   ]
  },
  {
   "cell_type": "code",
   "execution_count": 122,
   "metadata": {},
   "outputs": [],
   "source": [
    "df_estatisticas_canais = spark.read.json(\n",
    "    '../datalake/bronze/cities_skylines/extracao_data_2024_06_29/estatisticas_canais_brasileiros/req_estatisticas_canais_brasileiros.json')"
   ]
  },
  {
   "cell_type": "code",
   "execution_count": 123,
   "metadata": {},
   "outputs": [
    {
     "name": "stdout",
     "output_type": "stream",
     "text": [
      "root\n",
      " |-- data_extracao: string (nullable = true)\n",
      " |-- etag: string (nullable = true)\n",
      " |-- items: array (nullable = true)\n",
      " |    |-- element: struct (containsNull = true)\n",
      " |    |    |-- etag: string (nullable = true)\n",
      " |    |    |-- id: string (nullable = true)\n",
      " |    |    |-- kind: string (nullable = true)\n",
      " |    |    |-- snippet: struct (nullable = true)\n",
      " |    |    |    |-- country: string (nullable = true)\n",
      " |    |    |    |-- customUrl: string (nullable = true)\n",
      " |    |    |    |-- description: string (nullable = true)\n",
      " |    |    |    |-- localized: struct (nullable = true)\n",
      " |    |    |    |    |-- description: string (nullable = true)\n",
      " |    |    |    |    |-- title: string (nullable = true)\n",
      " |    |    |    |-- publishedAt: string (nullable = true)\n",
      " |    |    |    |-- thumbnails: struct (nullable = true)\n",
      " |    |    |    |    |-- default: struct (nullable = true)\n",
      " |    |    |    |    |    |-- height: long (nullable = true)\n",
      " |    |    |    |    |    |-- url: string (nullable = true)\n",
      " |    |    |    |    |    |-- width: long (nullable = true)\n",
      " |    |    |    |    |-- high: struct (nullable = true)\n",
      " |    |    |    |    |    |-- height: long (nullable = true)\n",
      " |    |    |    |    |    |-- url: string (nullable = true)\n",
      " |    |    |    |    |    |-- width: long (nullable = true)\n",
      " |    |    |    |    |-- medium: struct (nullable = true)\n",
      " |    |    |    |    |    |-- height: long (nullable = true)\n",
      " |    |    |    |    |    |-- url: string (nullable = true)\n",
      " |    |    |    |    |    |-- width: long (nullable = true)\n",
      " |    |    |    |-- title: string (nullable = true)\n",
      " |    |    |-- statistics: struct (nullable = true)\n",
      " |    |    |    |-- hiddenSubscriberCount: boolean (nullable = true)\n",
      " |    |    |    |-- subscriberCount: string (nullable = true)\n",
      " |    |    |    |-- videoCount: string (nullable = true)\n",
      " |    |    |    |-- viewCount: string (nullable = true)\n",
      " |-- kind: string (nullable = true)\n",
      " |-- pageInfo: struct (nullable = true)\n",
      " |    |-- resultsPerPage: long (nullable = true)\n",
      " |    |-- totalResults: long (nullable = true)\n",
      "\n"
     ]
    }
   ],
   "source": [
    "df_estatisticas_canais.printSchema()"
   ]
  },
  {
   "cell_type": "code",
   "execution_count": 124,
   "metadata": {},
   "outputs": [],
   "source": [
    "def obter_turno(data_extracao_col: F.col):\n",
    "    return F.when((F.hour(data_extracao_col) >= 0) & (F.hour(data_extracao_col) < 8), 'Manhã') \\\n",
    "            .when((F.hour(data_extracao_col) >= 8) & (F.hour(data_extracao_col) < 16), 'Tarde') \\\n",
    "            .otherwise('Noite')"
   ]
  },
  {
   "cell_type": "code",
   "execution_count": 125,
   "metadata": {},
   "outputs": [
    {
     "name": "stdout",
     "output_type": "stream",
     "text": [
      "<class 'pyspark.sql.column.Column'>\n",
      "+-------------------+--------------+------------------------+---------------------+---------------+-----------------------+-------------------+\n",
      "|DATA_EXTRACAO      |TURNO_EXTRACAO|ID_CANAL                |NM_CANAL             |TOTAL_INSCRITOS|TOTAL_VIDEOS_PUBLICADOS|TOTAL_VISUALIZACOES|\n",
      "+-------------------+--------------+------------------------+---------------------+---------------+-----------------------+-------------------+\n",
      "|2024-06-29 23:34:29|Noite         |UCTdehZL8aTm70QB6KxMw6yQ|DangerZone           |79             |58                     |3541               |\n",
      "|2024-06-29 23:34:29|Noite         |UCsFvpmOu04Tyf9gszXVvzew|JVR ZIKA             |225            |4                      |312                |\n",
      "|2024-06-29 23:34:29|Noite         |UCOCp_GcNLExKx-OxMIziRFA|Bandeira Quadriculada|305            |117                    |77521              |\n",
      "|2024-06-29 23:34:29|Noite         |UC3OZQD5qIIt27gu_rPqOoWA|Rc MTA               |87             |16                     |2297               |\n",
      "|2024-06-29 23:36:58|Noite         |UCTdehZL8aTm70QB6KxMw6yQ|DangerZone           |79             |58                     |3541               |\n",
      "|2024-06-29 23:36:58|Noite         |UCsFvpmOu04Tyf9gszXVvzew|JVR ZIKA             |225            |4                      |312                |\n",
      "|2024-06-29 23:36:58|Noite         |UCOCp_GcNLExKx-OxMIziRFA|Bandeira Quadriculada|305            |117                    |77521              |\n",
      "|2024-06-29 23:36:59|Noite         |UC3OZQD5qIIt27gu_rPqOoWA|Rc MTA               |87             |16                     |2297               |\n",
      "|2024-06-29 23:39:24|Noite         |UCTdehZL8aTm70QB6KxMw6yQ|DangerZone           |79             |58                     |3541               |\n",
      "|2024-06-29 23:39:24|Noite         |UCsFvpmOu04Tyf9gszXVvzew|JVR ZIKA             |225            |4                      |312                |\n",
      "|2024-06-29 23:39:24|Noite         |UCOCp_GcNLExKx-OxMIziRFA|Bandeira Quadriculada|305            |117                    |77521              |\n",
      "|2024-06-29 23:39:25|Noite         |UC3OZQD5qIIt27gu_rPqOoWA|Rc MTA               |87             |16                     |2297               |\n",
      "+-------------------+--------------+------------------------+---------------------+---------------+-----------------------+-------------------+\n",
      "\n"
     ]
    }
   ],
   "source": [
    "df_estatisticas_canais = df_estatisticas_canais.select(\n",
    "    'data_extracao',\n",
    "    F.explode('items').alias('items')\n",
    ").select(\n",
    "    F.col('data_extracao').alias('DATA_EXTRACAO'),\n",
    "    obter_turno(F.col('data_extracao')).alias('TURNO_EXTRACAO'),\n",
    "    F.col('items.id').alias('ID_CANAL'),\n",
    "    F.col('items.snippet.title').alias('NM_CANAL'),\n",
    "    F.col('items.statistics.subscriberCount').alias('TOTAL_INSCRITOS'),\n",
    "    F.col('items.statistics.videoCount').alias('TOTAL_VIDEOS_PUBLICADOS'),\n",
    "    F.col('items.statistics.viewCount').alias('TOTAL_VISUALIZACOES')\n",
    ")\n",
    "# df_estatisticas_canais = df_estatisticas_canais.withColumn('')\n",
    "df_estatisticas_canais.show(truncate=False)"
   ]
  },
  {
   "cell_type": "markdown",
   "metadata": {},
   "source": [
    "- Estatísticas Vídeos Brasileiros"
   ]
  },
  {
   "cell_type": "code",
   "execution_count": 13,
   "metadata": {},
   "outputs": [],
   "source": [
    "df_estatisticas_videos = spark.read.json(\n",
    "    '/home/rodrigo/Documentos/projetos/analise_dados_youtube_segunda_versao/datalake/bronze/cities_skylines/extracao_data_2024_06_29/estatisticas_videos/req_estatisticas_videos.json')"
   ]
  },
  {
   "cell_type": "code",
   "execution_count": 14,
   "metadata": {},
   "outputs": [
    {
     "name": "stdout",
     "output_type": "stream",
     "text": [
      "root\n",
      " |-- data_extracao: string (nullable = true)\n",
      " |-- etag: string (nullable = true)\n",
      " |-- items: array (nullable = true)\n",
      " |    |-- element: struct (containsNull = true)\n",
      " |    |    |-- contentDetails: struct (nullable = true)\n",
      " |    |    |    |-- caption: string (nullable = true)\n",
      " |    |    |    |-- definition: string (nullable = true)\n",
      " |    |    |    |-- dimension: string (nullable = true)\n",
      " |    |    |    |-- duration: string (nullable = true)\n",
      " |    |    |    |-- licensedContent: boolean (nullable = true)\n",
      " |    |    |    |-- projection: string (nullable = true)\n",
      " |    |    |-- etag: string (nullable = true)\n",
      " |    |    |-- id: string (nullable = true)\n",
      " |    |    |-- kind: string (nullable = true)\n",
      " |    |    |-- snippet: struct (nullable = true)\n",
      " |    |    |    |-- categoryId: string (nullable = true)\n",
      " |    |    |    |-- channelId: string (nullable = true)\n",
      " |    |    |    |-- channelTitle: string (nullable = true)\n",
      " |    |    |    |-- defaultAudioLanguage: string (nullable = true)\n",
      " |    |    |    |-- defaultLanguage: string (nullable = true)\n",
      " |    |    |    |-- description: string (nullable = true)\n",
      " |    |    |    |-- liveBroadcastContent: string (nullable = true)\n",
      " |    |    |    |-- localized: struct (nullable = true)\n",
      " |    |    |    |    |-- description: string (nullable = true)\n",
      " |    |    |    |    |-- title: string (nullable = true)\n",
      " |    |    |    |-- publishedAt: string (nullable = true)\n",
      " |    |    |    |-- tags: array (nullable = true)\n",
      " |    |    |    |    |-- element: string (containsNull = true)\n",
      " |    |    |    |-- thumbnails: struct (nullable = true)\n",
      " |    |    |    |    |-- default: struct (nullable = true)\n",
      " |    |    |    |    |    |-- height: long (nullable = true)\n",
      " |    |    |    |    |    |-- url: string (nullable = true)\n",
      " |    |    |    |    |    |-- width: long (nullable = true)\n",
      " |    |    |    |    |-- high: struct (nullable = true)\n",
      " |    |    |    |    |    |-- height: long (nullable = true)\n",
      " |    |    |    |    |    |-- url: string (nullable = true)\n",
      " |    |    |    |    |    |-- width: long (nullable = true)\n",
      " |    |    |    |    |-- maxres: struct (nullable = true)\n",
      " |    |    |    |    |    |-- height: long (nullable = true)\n",
      " |    |    |    |    |    |-- url: string (nullable = true)\n",
      " |    |    |    |    |    |-- width: long (nullable = true)\n",
      " |    |    |    |    |-- medium: struct (nullable = true)\n",
      " |    |    |    |    |    |-- height: long (nullable = true)\n",
      " |    |    |    |    |    |-- url: string (nullable = true)\n",
      " |    |    |    |    |    |-- width: long (nullable = true)\n",
      " |    |    |    |    |-- standard: struct (nullable = true)\n",
      " |    |    |    |    |    |-- height: long (nullable = true)\n",
      " |    |    |    |    |    |-- url: string (nullable = true)\n",
      " |    |    |    |    |    |-- width: long (nullable = true)\n",
      " |    |    |    |-- title: string (nullable = true)\n",
      " |    |    |-- statistics: struct (nullable = true)\n",
      " |    |    |    |-- commentCount: string (nullable = true)\n",
      " |    |    |    |-- favoriteCount: string (nullable = true)\n",
      " |    |    |    |-- likeCount: string (nullable = true)\n",
      " |    |    |    |-- viewCount: string (nullable = true)\n",
      " |    |    |-- status: struct (nullable = true)\n",
      " |    |    |    |-- embeddable: boolean (nullable = true)\n",
      " |    |    |    |-- license: string (nullable = true)\n",
      " |    |    |    |-- madeForKids: boolean (nullable = true)\n",
      " |    |    |    |-- privacyStatus: string (nullable = true)\n",
      " |    |    |    |-- publicStatsViewable: boolean (nullable = true)\n",
      " |    |    |    |-- uploadStatus: string (nullable = true)\n",
      " |-- kind: string (nullable = true)\n",
      " |-- pageInfo: struct (nullable = true)\n",
      " |    |-- resultsPerPage: long (nullable = true)\n",
      " |    |-- totalResults: long (nullable = true)\n",
      "\n"
     ]
    }
   ],
   "source": [
    "df_estatisticas_videos.printSchema()"
   ]
  },
  {
   "cell_type": "code",
   "execution_count": 15,
   "metadata": {},
   "outputs": [
    {
     "name": "stdout",
     "output_type": "stream",
     "text": [
      "+-------------------+--------------------+--------------------+--------------------+--------+\n",
      "|      data_extracao|                etag|               items|                kind|pageInfo|\n",
      "+-------------------+--------------------+--------------------+--------------------+--------+\n",
      "|2024-06-29 23:34:31|uAyX8MJ2B_udlVdcg...|[{{false, hd, 2d,...|youtube#videoList...|  {1, 1}|\n",
      "|2024-06-29 23:34:31|10FPEusBbGUKmxKyG...|[{{false, sd, 2d,...|youtube#videoList...|  {1, 1}|\n",
      "|2024-06-29 23:34:31|_iBTFxkhxH866lRpi...|[{{false, hd, 2d,...|youtube#videoList...|  {1, 1}|\n",
      "|2024-06-29 23:34:31|cTQwUCzBrNZG08DKD...|[{{false, sd, 2d,...|youtube#videoList...|  {1, 1}|\n",
      "|2024-06-29 23:37:01|uAyX8MJ2B_udlVdcg...|[{{false, hd, 2d,...|youtube#videoList...|  {1, 1}|\n",
      "|2024-06-29 23:37:01|10FPEusBbGUKmxKyG...|[{{false, sd, 2d,...|youtube#videoList...|  {1, 1}|\n",
      "|2024-06-29 23:37:01|_iBTFxkhxH866lRpi...|[{{false, hd, 2d,...|youtube#videoList...|  {1, 1}|\n",
      "|2024-06-29 23:37:01|cTQwUCzBrNZG08DKD...|[{{false, sd, 2d,...|youtube#videoList...|  {1, 1}|\n",
      "|2024-06-29 23:39:26|uAyX8MJ2B_udlVdcg...|[{{false, hd, 2d,...|youtube#videoList...|  {1, 1}|\n",
      "|2024-06-29 23:39:26|10FPEusBbGUKmxKyG...|[{{false, sd, 2d,...|youtube#videoList...|  {1, 1}|\n",
      "|2024-06-29 23:39:26|_iBTFxkhxH866lRpi...|[{{false, hd, 2d,...|youtube#videoList...|  {1, 1}|\n",
      "|2024-06-29 23:39:26|cTQwUCzBrNZG08DKD...|[{{false, sd, 2d,...|youtube#videoList...|  {1, 1}|\n",
      "+-------------------+--------------------+--------------------+--------------------+--------+\n",
      "\n"
     ]
    }
   ],
   "source": [
    "df_estatisticas_videos.show()"
   ]
  },
  {
   "cell_type": "code",
   "execution_count": 16,
   "metadata": {},
   "outputs": [
    {
     "name": "stdout",
     "output_type": "stream",
     "text": [
      "root\n",
      " |-- col: struct (nullable = true)\n",
      " |    |-- contentDetails: struct (nullable = true)\n",
      " |    |    |-- caption: string (nullable = true)\n",
      " |    |    |-- definition: string (nullable = true)\n",
      " |    |    |-- dimension: string (nullable = true)\n",
      " |    |    |-- duration: string (nullable = true)\n",
      " |    |    |-- licensedContent: boolean (nullable = true)\n",
      " |    |    |-- projection: string (nullable = true)\n",
      " |    |-- etag: string (nullable = true)\n",
      " |    |-- id: string (nullable = true)\n",
      " |    |-- kind: string (nullable = true)\n",
      " |    |-- snippet: struct (nullable = true)\n",
      " |    |    |-- categoryId: string (nullable = true)\n",
      " |    |    |-- channelId: string (nullable = true)\n",
      " |    |    |-- channelTitle: string (nullable = true)\n",
      " |    |    |-- defaultAudioLanguage: string (nullable = true)\n",
      " |    |    |-- defaultLanguage: string (nullable = true)\n",
      " |    |    |-- description: string (nullable = true)\n",
      " |    |    |-- liveBroadcastContent: string (nullable = true)\n",
      " |    |    |-- localized: struct (nullable = true)\n",
      " |    |    |    |-- description: string (nullable = true)\n",
      " |    |    |    |-- title: string (nullable = true)\n",
      " |    |    |-- publishedAt: string (nullable = true)\n",
      " |    |    |-- tags: array (nullable = true)\n",
      " |    |    |    |-- element: string (containsNull = true)\n",
      " |    |    |-- thumbnails: struct (nullable = true)\n",
      " |    |    |    |-- default: struct (nullable = true)\n",
      " |    |    |    |    |-- height: long (nullable = true)\n",
      " |    |    |    |    |-- url: string (nullable = true)\n",
      " |    |    |    |    |-- width: long (nullable = true)\n",
      " |    |    |    |-- high: struct (nullable = true)\n",
      " |    |    |    |    |-- height: long (nullable = true)\n",
      " |    |    |    |    |-- url: string (nullable = true)\n",
      " |    |    |    |    |-- width: long (nullable = true)\n",
      " |    |    |    |-- maxres: struct (nullable = true)\n",
      " |    |    |    |    |-- height: long (nullable = true)\n",
      " |    |    |    |    |-- url: string (nullable = true)\n",
      " |    |    |    |    |-- width: long (nullable = true)\n",
      " |    |    |    |-- medium: struct (nullable = true)\n",
      " |    |    |    |    |-- height: long (nullable = true)\n",
      " |    |    |    |    |-- url: string (nullable = true)\n",
      " |    |    |    |    |-- width: long (nullable = true)\n",
      " |    |    |    |-- standard: struct (nullable = true)\n",
      " |    |    |    |    |-- height: long (nullable = true)\n",
      " |    |    |    |    |-- url: string (nullable = true)\n",
      " |    |    |    |    |-- width: long (nullable = true)\n",
      " |    |    |-- title: string (nullable = true)\n",
      " |    |-- statistics: struct (nullable = true)\n",
      " |    |    |-- commentCount: string (nullable = true)\n",
      " |    |    |-- favoriteCount: string (nullable = true)\n",
      " |    |    |-- likeCount: string (nullable = true)\n",
      " |    |    |-- viewCount: string (nullable = true)\n",
      " |    |-- status: struct (nullable = true)\n",
      " |    |    |-- embeddable: boolean (nullable = true)\n",
      " |    |    |-- license: string (nullable = true)\n",
      " |    |    |-- madeForKids: boolean (nullable = true)\n",
      " |    |    |-- privacyStatus: string (nullable = true)\n",
      " |    |    |-- publicStatsViewable: boolean (nullable = true)\n",
      " |    |    |-- uploadStatus: string (nullable = true)\n",
      "\n"
     ]
    }
   ],
   "source": [
    "df_estatisticas_videos.select(F.explode('items')) \\\n",
    "    .printSchema()"
   ]
  },
  {
   "cell_type": "code",
   "execution_count": 18,
   "metadata": {},
   "outputs": [
    {
     "name": "stdout",
     "output_type": "stream",
     "text": [
      "+-----------+------------------------+-----------------------------------------------------------------------+-------------------------------------------------------------------------------------------------------------------------------------------------------------------------------------------------------------------------------------------------------------------------------------------------------------------------------------------------------------------------------------------------------------------------------------------------------------------------------------------------------------------------------------------------------------------------------------------------------------------------------------------------------------------------------------------------------------------------------------------------------------------------------------------------------------------------------------------------------------------------------------------------------------------------------------------------------------------------------------------------------------------------------------------------------------------------------------------------------------------------------------------------------------------------------------------------------------------------------------------------------------------------------------------------------------------------------------------------------------------------------------------------------------------------------------------------------------------------------------------------------------------------------------------------------------------------------------------------------------------------------------------------------------------------------------------------------------------------------------------------------------------------------------------------------------------------------------------------------------------------------------------------------------------------------------------------------------------------------------------------------------------------------------------------------------------------------------------------------------------------------------------------------------------------------------------------------------------------------------------------------------------------------------------------------------------------------------------------------------------------------------------------------------------------------------------------------------------------------------------------------------------------------------------------------------------------------------------------------------------------------------------------------------------------------------------------------------------------------------------------------------------------------------------------------------------------------------------------------------------------------------------------------------------------------------------------------------------------------------------------------------------------------------------------------------------------------------------------------------------------------------------------------------------------------------------------------------------------------------------------------------------------------------------------------------------------------------------------------------------------------------------------------------------------------------------------------------------------------------------------------------------------------------------------------------------------------------------------------------------------------------------------------------------------------------------------------------------------------------------------------------------------------------------------------------------------------------------------------------------------------------------------------------------------------------------------------------------------------------------------------------------------------------------------------------------------------------------------------------------------------------------------------------------------------------------------------------------------------------------------------------------------------------------------------------------------------------------------------------------------------------------------------------------------------------------------------------------------------------------------------------------------------------------------------------------------------------------------------------------------------------------------------------------------------------------------------------------------------------------------------------------------------------------------------------------------------------------------------------------------------------------------------------------------------------------------------------------------------------------------------------------------------------------------------------------------------------------------------------------------------------------------------------------------+--------+------------------------------------------------------------------------------------------------------------------------------------------+------------+-------------------+-----------+---------------+----------+---------------------+------------------------+\n",
      "|ID_VIDEO   |ID_CANAL                |TITULO_VIDEO                                                           |DESCRICAO                                                                                                                                                                                                                                                                                                                                                                                                                                                                                                                                                                                                                                                                                                                                                                                                                                                                                                                                                                                                                                                                                                                                                                                                                                                                                                                                                                                                                                                                                                                                                                                                                                                                                                                                                                                                                                                                                                                                                                                                                                                                                                                                                                                                                                                                                                                                                                                                                                                                                                                                                                                                                                                                                                                                                                                                                                                                                                                                                                                                                                                                                                                                                                                                                                                                                                                                                                                                                                                                                                                                                                                                                                                                                                                                                                                                                                                                                                                                                                                                                                                                                                                                                                                                                                                                                                                                                                                                                                                                                                                                                                                                                                                                                                                                                                                                                                                                                                                                                                                                                                                                                                                                                                |DURACAO |TAGS                                                                                                                                      |ID_CATEGORIA|TOTAL_VISUALIZACOES|TOTAL_LIKES|TOTAL_FAVORITOS|TOTAL_TAGS|TOTAL_PALAVRAS_TITULO|TOTAL_PALAVRAS_DESCRICAO|\n",
      "+-----------+------------------------+-----------------------------------------------------------------------+-------------------------------------------------------------------------------------------------------------------------------------------------------------------------------------------------------------------------------------------------------------------------------------------------------------------------------------------------------------------------------------------------------------------------------------------------------------------------------------------------------------------------------------------------------------------------------------------------------------------------------------------------------------------------------------------------------------------------------------------------------------------------------------------------------------------------------------------------------------------------------------------------------------------------------------------------------------------------------------------------------------------------------------------------------------------------------------------------------------------------------------------------------------------------------------------------------------------------------------------------------------------------------------------------------------------------------------------------------------------------------------------------------------------------------------------------------------------------------------------------------------------------------------------------------------------------------------------------------------------------------------------------------------------------------------------------------------------------------------------------------------------------------------------------------------------------------------------------------------------------------------------------------------------------------------------------------------------------------------------------------------------------------------------------------------------------------------------------------------------------------------------------------------------------------------------------------------------------------------------------------------------------------------------------------------------------------------------------------------------------------------------------------------------------------------------------------------------------------------------------------------------------------------------------------------------------------------------------------------------------------------------------------------------------------------------------------------------------------------------------------------------------------------------------------------------------------------------------------------------------------------------------------------------------------------------------------------------------------------------------------------------------------------------------------------------------------------------------------------------------------------------------------------------------------------------------------------------------------------------------------------------------------------------------------------------------------------------------------------------------------------------------------------------------------------------------------------------------------------------------------------------------------------------------------------------------------------------------------------------------------------------------------------------------------------------------------------------------------------------------------------------------------------------------------------------------------------------------------------------------------------------------------------------------------------------------------------------------------------------------------------------------------------------------------------------------------------------------------------------------------------------------------------------------------------------------------------------------------------------------------------------------------------------------------------------------------------------------------------------------------------------------------------------------------------------------------------------------------------------------------------------------------------------------------------------------------------------------------------------------------------------------------------------------------------------------------------------------------------------------------------------------------------------------------------------------------------------------------------------------------------------------------------------------------------------------------------------------------------------------------------------------------------------------------------------------------------------------------------------------------------------------------------------------+--------+------------------------------------------------------------------------------------------------------------------------------------------+------------+-------------------+-----------+---------------+----------+---------------------+------------------------+\n",
      "|FudZWNcwonU|UC3OZQD5qIIt27gu_rPqOoWA|Tutorial de como bater em um membro da Zona Norte (ZN) | Meta Race | 🤣|Meta Race\\nIP: mtasa://104.234.189.50:22563\\nID: 11\\nClã: 021\\n\\nᴍᴇᴜ ᴘᴄ:\\n\\nPlaca De Vídeo: RTX 2060 Super 8G\\nProcessador: i5 8500\\nMemória RAM: 16G\\nSSD Kingston: 500G \\n\\n(Tags)\\n\\n#live #mta #mtarp #mtapcfraco  #MTA #fortniteGameplay #fortnitepc #pcfraco #Fortnite #highlights #highlights #freefire #fortnitegamer #Dicas #iniciantes #Dicasfortnite #fortniteworldcup dicas Básicas para iniciantes fortnite #Tournamment #campeonato leleleo #shorts #fivemSolo #gameplay #fortnite #Pc #fracoSetup #Setup #fortnite #Setup #fraco #Setup #caro #mta #mtalive #mtarp #hypemta #pcfracoliveobs #destiny #destinyrp #fugas #melhoresfugas#btz #fivemdepobre#fivem #rpdefamiliatags  #bmr #rp #bmr #gtarp #mtarp #antirp #bmr1 #bmr4 #bmr 5 #gtamtarp #fivem rp,connor rp,rp mta,rp gta,ant rp,gta 5 rp,samp rp,gta sa rp,rp gta sa,delux rp,mta rp fuga,gta rp fuga,fuga gta rp,policia rp,bmr2,#bmr,bmr1,bmr3,bmr4,bmr5,gta sa mta rp,piuzinho rp,cidade alta rp,gta rp vida real,servidor de mta rp,gta mta rp dando fugafuga de... tags ignorem : favela city,favela,favela city mta,favela city camp,samuca favela city,highlight favela city,melhores momentos favela city,city,city of god,dangerous favela brazil,dangerous favela brasil,most dangerous favela brazil,favelas brazil documentary,favelacity,jagatá novela,city of god brazil,the real city of god,cities,cities:skylines,... Highlights MTA MTA RP HIGHLIGHTS qbug litefoot tripleswitch longlitefoot macrolitefoot macroqbug macrolonglitefoot macrotripleswitch highlights RP Logitech Macrologitech Highlights MTA #x4zinn roi? tags ignorem: mta tactics,tactics mta,tactics,mta,n1 tactics,tactics fzk,fzk tactics,tactics frags,mta sa,fzk tactics frags,tactics highlight,mta top gta,random frags tactics,mta top-gta,fzk highlights tactics,particle mta,mata mata mta,h2k clan mta,mta hack,mta macro,mta x1,mta gz,bcg mta,pvp mta,fzk mta,feet mta,mta qbug,mta bugs,mta h1z1... mta,highlights,mta highlights,highlights mta,mta rp,mta bcg highlights,pubg highlights mta,highlight mta,highlight de mta,highlight samuca mta,samucamta highlights,highlight free fire mta,fivem highlights,mtarp,xl mta,dd mta,mta dd,melhores momentos mta,mta bcg,pvp mta,wild mta,1tap mta,pubg mta,mta 2021,raay mta,rayan mta,samuca mta,[wild] mta,xlteam mta,mtasa dd,mtasa cw,stealth mta,mta tactics,clan war mta,mta camp pubg mta,mta bcg,bcg,bcg mta,mta rp,mtarp,pubg mta,policia mta,mta bcg highlights,live mta,mta fivem,como tirar lag mta,mta sem lag,mta com mods,vídeo de mta,mta vida real,gameplay mta,xl mta,dup pubg mta,pvp mta,pvp bcg,mta bmr,live ao vivo mta rp,mtasa,kadu mta,fuga mta,melhores fugas mta rp,bcg fivem,xlteam mta,mta online,live de mta,mta tactics,stealth mta,bcg servidor,mta camp pubg,litefoot mta,mta litefootoverdose Pack overdose GENRL Pack Genrl sombra Pack sombra MTA Pack Meu pack de MTA Pack GENRL GTA 3 Anti lag #genrl  #antlag  #antrp  #packmta. Anti lag pra Pc fraco GENRL overdose sombra ícone luas GTA3.IMG banimento MTA Ban ZAP Rdm vdm ZAPLIGHTS #mutano444 mta,camp,lifefoot,hack,dll pramta,fivemFIVEMDEPOBRE, GTA MTA RP, mta,gta mta,mta rp,gta mta rp,mta roleplay,mtatv,mta bug,mta live,mta elevator,mta resources,sar mta,mta gate yapımı,mta roleplay pd,gta mta roleplay download,mta solo,mta drift,mta voice,mta five m,mta helper,mta russia,servidor de mta,mta,novo servidor de mta,mta rp,mta roleplay,melhor servidor de mta,melhor servidor de mta rp,o melhor servidor de mta rp,melhor servidor de mta 2020,melhor servidor do mta,o melhor servidor de mta rp 2020,server de rp mta,melhor servidor de mta brasileiro 2020,mejores servidores de mta sa,servidores mta sa,server leve de mta,melhor servidor de mta para pc fraco 2020,melhor servidor mta,servidor de mta leve,bope mta,mta five m,servidor novo de mta,servidor de mta leve 2020,servidor de mta,novo servidor de mta,mta rp,mta roleplay,novo servidor de mta rp,mta,novo servidor,bope mta,novo servidor de mta rp pc fraco,mta five m,destiny mta,novo servidor de rp do gta mta brasileiro,novo servidor mta,melhor servidor mta,servidor de mta rp,servidor de mta br,servidor de mta leve,melhor servidor de mta,server leve de mta,servidor de mta leve 2020,servidor de mta roleplay,melhor servidor de mta rp,melhor servidor mta pc fraco,o melhor servidor de mta rp,mta brasil,mta,mta roleplay brasil,gta mta roleplay brasil,mta rp brasil,mta brasil vida boa,mta rp,gta mta rp,mta sa,roleplay brasil,gta mta rp server brasileiro,gta mta,novo servidor de rp do gta mta brasileiro,gta mta rp pc fraco,gta mta roleplay,roleplay mta,mta viatura,servidor mta que roda em pc fraco,gta mta rp server rp,mta,servidor de mta,gta mta rp novo server,mta rp,melhor server,novo servidor de mta,mta roleplay,server de rp mta,ssamp; gta                                                                                                                                                                                                                                                              |PT4M11S |null                                                                                                                                      |22          |59                 |16         |0              |0         |16                   |577                     |\n",
      "|RhSZfR7reTM|UCsFvpmOu04Tyf9gszXVvzew|Encontrei O Melhor Servidor De Fuga Do Mta Pra Pc Fraco 😱             |Slv Tropa Deixa O Like E Se Inscreva Pra Me Ajudar 💔\\n\\nHIGH FUGAS\\n\\nDISCORD : https://discord.gg/xDbWbpAYvH\\nIP SERVIDOR : mtasa://104.234.189.50:23533\\n\\nFALEM NO CHAT QUE ENTROU POR MIM @JVRZIKA \\n\\n\\n\\nTAGS IGNOREM\\n\\n#live #mta #mtarp #mtapcfraco xtr xtrzin MTA TAG DO xtr #fortniteGameplay #fortnitepc #pcfraco #Fortnite highlights #highlights #freefire #fortnitegamer #Dicas #iniciantes #Dicasfortnite #fortniteworldcup dicas Básicas para iniciantes fortnite #Tournamment #campeonato leleleo #shorts #fivemSolo gameplay fortnite Pc fracoSetup Setup fortnite Setup fraco Setup caro #mta #mtalive #mtarp #hypemta #pcfracoliveobs #destiny #destinyrp #fugas #melhoresfugas#btz #fivemdepobre#fivem #rpdefamiliatags ignorem: bmr,rp,bmr 3,gta rp,mta rp,anti rp,bmr 1,bmr 4,bmr 5,gta mta rp,five m rp,connor rp,rp mta,rp gta,ant rp,gta 5 rp,samp rp,gta sa rp,rp gta sa,delux rp,mta rp fuga,gta rp fuga,fuga gta rp,policia rp,bmr2,#bmr,bmr1,bmr3,bmr4,bmr5,gta sa mta rp,piuzinho rp,cidade alta rp,gta rp vida real,servidor de mta rp,gta mta rp dando fugafuga de... tags ignorem : favela city,favela,favela city mta,favela city camp,samuca favela city,highlight favela city,melhores momentos favela city,city,city of god,dangerous favela brazil,dangerous favela brasil,most dangerous favela brazil,favelas brazil documentary,favelacity,jagatá novela,city of god brazil,the real city of god,cities,cities:skylines,... Highlights MTA MTA RP HIGHLIGHTS qbug litefoot tripleswitch longlitefoot macrolitefoot macroqbug macrolonglitefoot macrotripleswitch highlights RP Logitech Macrologitech Highlights MTA #x4zinn roi? tags ignorem: mta tactics,tactics mta,tactics,mta,n1 tactics,tactics fzk,fzk tactics,tactics frags,mta sa,fzk tactics frags,tactics highlight,mta top gta,random frags tactics,mta top-gta,fzk highlights tactics,particle mta,mata mata mta,h2k clan mta,mta hack,mta macro,mta x1,mta gz,bcg mta,pvp mta,fzk mta,feet mta,mta qbug,mta bugs,mta h1z1... mta,highlights,mta highlights,highlights mta,mta rp,mta bcg highlights,pubg highlights mta,highlight mta,highlight de mta,highlight samuca mta,samucamta highlights,highlight free fire mta,fivem highlights,mtarp,xl mta,dd mta,mta dd,melhores momentos mta,mta bcg,pvp mta,wild mta,1tap mta,pubg mta,mta 2021,raay mta,rayan mta,samuca mta,[wild] mta,xlteam mta,mtasa dd,mtasa cw,stealth mta,mta tactics,clan war mta,mta camp pubg mta,mta bcg,bcg,bcg mta,mta rp,mtarp,pubg mta,policia mta,mta bcg highlights,live mta,mta fivem,como tirar lag mta,mta sem lag,mta com mods,vídeo de mta,mta vida real,gameplay mta,xl mta,dup pubg mta,pvp mta,pvp bcg,mta bmr,live ao vivo mta rp,mtasa,kadu mta,fuga mta,melhores fugas mta rp,bcg fivem,xlteam mta,mta online,live de mta,mta tactics,stealth mta,bcg servidor,mta camp pubg,litefoot mta,mta litefootoverdose Pack overdose GENRL Pack Genrl sombra Pack sombra MTA Pack Meu pack de MTA Pack GENRL GTA 3 Anti lag #genrl  #antlag  #antrp  #packmta. Anti lag pra Pc fraco GENRL overdose sombra ícone luas GTA3.IMG banimento MTA Ban ZAP Rdm vdm ZAPLIGHTS #mutano444 mta,camp,lifefoot,hack,dll pramta,fivemFIVEMDEPOBRE, GTA MTA RP, mta,gta mta,mta rp,gta mta rp,mta roleplay,mtatv,mta bug,mta live,mta elevator,mta resources,sar mta,mta gate yapımı,mta roleplay pd,gta mta roleplay download,mta solo,mta drift,mta voice,mta five m,mta helper,mta russia,servidor de mta,mta,novo servidor de mta,mta rp,mta roleplay,melhor servidor de mta,melhor servidor de mta rp,o melhor servidor de mta rp,melhor servidor de mta 2020,melhor servidor do mta,o melhor servidor de mta rp 2020,server de rp mta,melhor servidor de mta brasileiro 2020,mejores servidores de mta sa,servidores mta sa,server leve de mta,melhor servidor de mta para pc fraco 2020,melhor servidor mta,servidor de mta leve,bope mta,mta five m,servidor novo de mta,servidor de mta leve 2020,servidor de mta,novo servidor de mta,mta rp,mta roleplay,novo servidor de mta rp,mta,novo servidor,bope mta,novo servidor de mta rp pc fraco,mta five m,destiny mta,novo servidor de rp do gta mta brasileiro,novo servidor mta,melhor servidor mta,servidor de mta rp,servidor de mta br,servidor de mta leve,melhor servidor de mta,server leve de mta,servidor de mta leve 2020,servidor de mta roleplay,melhor servidor de mta rp,melhor servidor mta pc fraco,o melhor servidor de mta rp,mta brasil,mta,mta roleplay brasil,gta mta roleplay brasil,mta rp brasil,mta brasil vida boa,mta rp,gta mta rp,mta sa,roleplay brasil,gta mta rp server brasileiro,gta mta,novo servidor de rp do gta mta brasileiro,gta mta rp pc fraco,gta mta roleplay,roleplay mta,mta viatura,servidor mta que roda em pc fraco,gta mta rp server rp,mta,servidor de mta,gta mta rp novo server,mta rp,melhor server,novo servidor de mta,mta roleplay,server de rp mta,ssamp; gta 4 para android; como instalar mod textura no gta sa androisamp android servidor br, novo servidor Br samp android hack, novo servidor brasileiro no samp android, nova atualização samp android, samp|PT1M44S |null                                                                                                                                      |22          |11                 |3          |0              |0         |12                   |619                     |\n",
      "|P9ZuQ3ClLeg|UCTdehZL8aTm70QB6KxMw6yQ|ESTAMOS CRESCENDO - Cities Skyline #2                                  |Bem-vindo ao DangerZone\\n\\n Aqui no canal você encontra gameplays, dicas e truques dos seus jogos favoritos!\\n\\n Não se esqueça de se inscrever e ativar o sininho para receber todas as notificações dos novos vídeos.                                                                                                                                                                                                                                                                                                                                                                                                                                                                                                                                                                                                                                                                                                                                                                                                                                                                                                                                                                                                                                                                                                                                                                                                                                                                                                                                                                                                                                                                                                                                                                                                                                                                                                                                                                                                                                                                                                                                                                                                                                                                                                                                                                                                                                                                                                                                                                                                                                                                                                                                                                                                                                                                                                                                                                                                                                                                                                                                                                                                                                                                                                                                                                                                                                                                                                                                                                                                                                                                                                                                                                                                                                                                                                                                                                                                                                                                                                                                                                                                                                                                                                                                                                                                                                                                                                                                                                                                                                                                                                                                                                                                                                                                                                                                                                                                                                                                                                                                                  |PT13M23S|[cities, br, cities: skylines 2 pt br, most dangerous cities in europe, europe violent crime rate vs us, cities throttle fortnite, cidade]|20          |2                  |0          |0              |7         |6                    |34                      |\n",
      "|hCCheh9_pro|UCOCp_GcNLExKx-OxMIziRFA|Cities skylines 1                                                      |Opa eae, eu sou o Christian!!!\\nAqui temos gameplay focado no automobilismo, de jogos SINCADE com Forza Motorsport E Gran Turismo                                                                                                                                                                                                                                                                                                                                                                                                                                                                                                                                                                                                                                                                                                                                                                                                                                                                                                                                                                                                                                                                                                                                                                                                                                                                                                                                                                                                                                                                                                                                                                                                                                                                                                                                                                                                                                                                                                                                                                                                                                                                                                                                                                                                                                                                                                                                                                                                                                                                                                                                                                                                                                                                                                                                                                                                                                                                                                                                                                                                                                                                                                                                                                                                                                                                                                                                                                                                                                                                                                                                                                                                                                                                                                                                                                                                                                                                                                                                                                                                                                                                                                                                                                                                                                                                                                                                                                                                                                                                                                                                                                                                                                                                                                                                                                                                                                                                                                                                                                                                                                        |P0D     |[#PS4Live, Cities: Skylines, PlayStation 4, Sony Interactive Entertainment]                                                               |20          |2                  |2          |0              |4         |3                    |20                      |\n",
      "|FudZWNcwonU|UC3OZQD5qIIt27gu_rPqOoWA|Tutorial de como bater em um membro da Zona Norte (ZN) | Meta Race | 🤣|Meta Race\\nIP: mtasa://104.234.189.50:22563\\nID: 11\\nClã: 021\\n\\nᴍᴇᴜ ᴘᴄ:\\n\\nPlaca De Vídeo: RTX 2060 Super 8G\\nProcessador: i5 8500\\nMemória RAM: 16G\\nSSD Kingston: 500G \\n\\n(Tags)\\n\\n#live #mta #mtarp #mtapcfraco  #MTA #fortniteGameplay #fortnitepc #pcfraco #Fortnite #highlights #highlights #freefire #fortnitegamer #Dicas #iniciantes #Dicasfortnite #fortniteworldcup dicas Básicas para iniciantes fortnite #Tournamment #campeonato leleleo #shorts #fivemSolo #gameplay #fortnite #Pc #fracoSetup #Setup #fortnite #Setup #fraco #Setup #caro #mta #mtalive #mtarp #hypemta #pcfracoliveobs #destiny #destinyrp #fugas #melhoresfugas#btz #fivemdepobre#fivem #rpdefamiliatags  #bmr #rp #bmr #gtarp #mtarp #antirp #bmr1 #bmr4 #bmr 5 #gtamtarp #fivem rp,connor rp,rp mta,rp gta,ant rp,gta 5 rp,samp rp,gta sa rp,rp gta sa,delux rp,mta rp fuga,gta rp fuga,fuga gta rp,policia rp,bmr2,#bmr,bmr1,bmr3,bmr4,bmr5,gta sa mta rp,piuzinho rp,cidade alta rp,gta rp vida real,servidor de mta rp,gta mta rp dando fugafuga de... tags ignorem : favela city,favela,favela city mta,favela city camp,samuca favela city,highlight favela city,melhores momentos favela city,city,city of god,dangerous favela brazil,dangerous favela brasil,most dangerous favela brazil,favelas brazil documentary,favelacity,jagatá novela,city of god brazil,the real city of god,cities,cities:skylines,... Highlights MTA MTA RP HIGHLIGHTS qbug litefoot tripleswitch longlitefoot macrolitefoot macroqbug macrolonglitefoot macrotripleswitch highlights RP Logitech Macrologitech Highlights MTA #x4zinn roi? tags ignorem: mta tactics,tactics mta,tactics,mta,n1 tactics,tactics fzk,fzk tactics,tactics frags,mta sa,fzk tactics frags,tactics highlight,mta top gta,random frags tactics,mta top-gta,fzk highlights tactics,particle mta,mata mata mta,h2k clan mta,mta hack,mta macro,mta x1,mta gz,bcg mta,pvp mta,fzk mta,feet mta,mta qbug,mta bugs,mta h1z1... mta,highlights,mta highlights,highlights mta,mta rp,mta bcg highlights,pubg highlights mta,highlight mta,highlight de mta,highlight samuca mta,samucamta highlights,highlight free fire mta,fivem highlights,mtarp,xl mta,dd mta,mta dd,melhores momentos mta,mta bcg,pvp mta,wild mta,1tap mta,pubg mta,mta 2021,raay mta,rayan mta,samuca mta,[wild] mta,xlteam mta,mtasa dd,mtasa cw,stealth mta,mta tactics,clan war mta,mta camp pubg mta,mta bcg,bcg,bcg mta,mta rp,mtarp,pubg mta,policia mta,mta bcg highlights,live mta,mta fivem,como tirar lag mta,mta sem lag,mta com mods,vídeo de mta,mta vida real,gameplay mta,xl mta,dup pubg mta,pvp mta,pvp bcg,mta bmr,live ao vivo mta rp,mtasa,kadu mta,fuga mta,melhores fugas mta rp,bcg fivem,xlteam mta,mta online,live de mta,mta tactics,stealth mta,bcg servidor,mta camp pubg,litefoot mta,mta litefootoverdose Pack overdose GENRL Pack Genrl sombra Pack sombra MTA Pack Meu pack de MTA Pack GENRL GTA 3 Anti lag #genrl  #antlag  #antrp  #packmta. Anti lag pra Pc fraco GENRL overdose sombra ícone luas GTA3.IMG banimento MTA Ban ZAP Rdm vdm ZAPLIGHTS #mutano444 mta,camp,lifefoot,hack,dll pramta,fivemFIVEMDEPOBRE, GTA MTA RP, mta,gta mta,mta rp,gta mta rp,mta roleplay,mtatv,mta bug,mta live,mta elevator,mta resources,sar mta,mta gate yapımı,mta roleplay pd,gta mta roleplay download,mta solo,mta drift,mta voice,mta five m,mta helper,mta russia,servidor de mta,mta,novo servidor de mta,mta rp,mta roleplay,melhor servidor de mta,melhor servidor de mta rp,o melhor servidor de mta rp,melhor servidor de mta 2020,melhor servidor do mta,o melhor servidor de mta rp 2020,server de rp mta,melhor servidor de mta brasileiro 2020,mejores servidores de mta sa,servidores mta sa,server leve de mta,melhor servidor de mta para pc fraco 2020,melhor servidor mta,servidor de mta leve,bope mta,mta five m,servidor novo de mta,servidor de mta leve 2020,servidor de mta,novo servidor de mta,mta rp,mta roleplay,novo servidor de mta rp,mta,novo servidor,bope mta,novo servidor de mta rp pc fraco,mta five m,destiny mta,novo servidor de rp do gta mta brasileiro,novo servidor mta,melhor servidor mta,servidor de mta rp,servidor de mta br,servidor de mta leve,melhor servidor de mta,server leve de mta,servidor de mta leve 2020,servidor de mta roleplay,melhor servidor de mta rp,melhor servidor mta pc fraco,o melhor servidor de mta rp,mta brasil,mta,mta roleplay brasil,gta mta roleplay brasil,mta rp brasil,mta brasil vida boa,mta rp,gta mta rp,mta sa,roleplay brasil,gta mta rp server brasileiro,gta mta,novo servidor de rp do gta mta brasileiro,gta mta rp pc fraco,gta mta roleplay,roleplay mta,mta viatura,servidor mta que roda em pc fraco,gta mta rp server rp,mta,servidor de mta,gta mta rp novo server,mta rp,melhor server,novo servidor de mta,mta roleplay,server de rp mta,ssamp; gta                                                                                                                                                                                                                                                              |PT4M11S |null                                                                                                                                      |22          |59                 |16         |0              |0         |16                   |577                     |\n",
      "|RhSZfR7reTM|UCsFvpmOu04Tyf9gszXVvzew|Encontrei O Melhor Servidor De Fuga Do Mta Pra Pc Fraco 😱             |Slv Tropa Deixa O Like E Se Inscreva Pra Me Ajudar 💔\\n\\nHIGH FUGAS\\n\\nDISCORD : https://discord.gg/xDbWbpAYvH\\nIP SERVIDOR : mtasa://104.234.189.50:23533\\n\\nFALEM NO CHAT QUE ENTROU POR MIM @JVRZIKA \\n\\n\\n\\nTAGS IGNOREM\\n\\n#live #mta #mtarp #mtapcfraco xtr xtrzin MTA TAG DO xtr #fortniteGameplay #fortnitepc #pcfraco #Fortnite highlights #highlights #freefire #fortnitegamer #Dicas #iniciantes #Dicasfortnite #fortniteworldcup dicas Básicas para iniciantes fortnite #Tournamment #campeonato leleleo #shorts #fivemSolo gameplay fortnite Pc fracoSetup Setup fortnite Setup fraco Setup caro #mta #mtalive #mtarp #hypemta #pcfracoliveobs #destiny #destinyrp #fugas #melhoresfugas#btz #fivemdepobre#fivem #rpdefamiliatags ignorem: bmr,rp,bmr 3,gta rp,mta rp,anti rp,bmr 1,bmr 4,bmr 5,gta mta rp,five m rp,connor rp,rp mta,rp gta,ant rp,gta 5 rp,samp rp,gta sa rp,rp gta sa,delux rp,mta rp fuga,gta rp fuga,fuga gta rp,policia rp,bmr2,#bmr,bmr1,bmr3,bmr4,bmr5,gta sa mta rp,piuzinho rp,cidade alta rp,gta rp vida real,servidor de mta rp,gta mta rp dando fugafuga de... tags ignorem : favela city,favela,favela city mta,favela city camp,samuca favela city,highlight favela city,melhores momentos favela city,city,city of god,dangerous favela brazil,dangerous favela brasil,most dangerous favela brazil,favelas brazil documentary,favelacity,jagatá novela,city of god brazil,the real city of god,cities,cities:skylines,... Highlights MTA MTA RP HIGHLIGHTS qbug litefoot tripleswitch longlitefoot macrolitefoot macroqbug macrolonglitefoot macrotripleswitch highlights RP Logitech Macrologitech Highlights MTA #x4zinn roi? tags ignorem: mta tactics,tactics mta,tactics,mta,n1 tactics,tactics fzk,fzk tactics,tactics frags,mta sa,fzk tactics frags,tactics highlight,mta top gta,random frags tactics,mta top-gta,fzk highlights tactics,particle mta,mata mata mta,h2k clan mta,mta hack,mta macro,mta x1,mta gz,bcg mta,pvp mta,fzk mta,feet mta,mta qbug,mta bugs,mta h1z1... mta,highlights,mta highlights,highlights mta,mta rp,mta bcg highlights,pubg highlights mta,highlight mta,highlight de mta,highlight samuca mta,samucamta highlights,highlight free fire mta,fivem highlights,mtarp,xl mta,dd mta,mta dd,melhores momentos mta,mta bcg,pvp mta,wild mta,1tap mta,pubg mta,mta 2021,raay mta,rayan mta,samuca mta,[wild] mta,xlteam mta,mtasa dd,mtasa cw,stealth mta,mta tactics,clan war mta,mta camp pubg mta,mta bcg,bcg,bcg mta,mta rp,mtarp,pubg mta,policia mta,mta bcg highlights,live mta,mta fivem,como tirar lag mta,mta sem lag,mta com mods,vídeo de mta,mta vida real,gameplay mta,xl mta,dup pubg mta,pvp mta,pvp bcg,mta bmr,live ao vivo mta rp,mtasa,kadu mta,fuga mta,melhores fugas mta rp,bcg fivem,xlteam mta,mta online,live de mta,mta tactics,stealth mta,bcg servidor,mta camp pubg,litefoot mta,mta litefootoverdose Pack overdose GENRL Pack Genrl sombra Pack sombra MTA Pack Meu pack de MTA Pack GENRL GTA 3 Anti lag #genrl  #antlag  #antrp  #packmta. Anti lag pra Pc fraco GENRL overdose sombra ícone luas GTA3.IMG banimento MTA Ban ZAP Rdm vdm ZAPLIGHTS #mutano444 mta,camp,lifefoot,hack,dll pramta,fivemFIVEMDEPOBRE, GTA MTA RP, mta,gta mta,mta rp,gta mta rp,mta roleplay,mtatv,mta bug,mta live,mta elevator,mta resources,sar mta,mta gate yapımı,mta roleplay pd,gta mta roleplay download,mta solo,mta drift,mta voice,mta five m,mta helper,mta russia,servidor de mta,mta,novo servidor de mta,mta rp,mta roleplay,melhor servidor de mta,melhor servidor de mta rp,o melhor servidor de mta rp,melhor servidor de mta 2020,melhor servidor do mta,o melhor servidor de mta rp 2020,server de rp mta,melhor servidor de mta brasileiro 2020,mejores servidores de mta sa,servidores mta sa,server leve de mta,melhor servidor de mta para pc fraco 2020,melhor servidor mta,servidor de mta leve,bope mta,mta five m,servidor novo de mta,servidor de mta leve 2020,servidor de mta,novo servidor de mta,mta rp,mta roleplay,novo servidor de mta rp,mta,novo servidor,bope mta,novo servidor de mta rp pc fraco,mta five m,destiny mta,novo servidor de rp do gta mta brasileiro,novo servidor mta,melhor servidor mta,servidor de mta rp,servidor de mta br,servidor de mta leve,melhor servidor de mta,server leve de mta,servidor de mta leve 2020,servidor de mta roleplay,melhor servidor de mta rp,melhor servidor mta pc fraco,o melhor servidor de mta rp,mta brasil,mta,mta roleplay brasil,gta mta roleplay brasil,mta rp brasil,mta brasil vida boa,mta rp,gta mta rp,mta sa,roleplay brasil,gta mta rp server brasileiro,gta mta,novo servidor de rp do gta mta brasileiro,gta mta rp pc fraco,gta mta roleplay,roleplay mta,mta viatura,servidor mta que roda em pc fraco,gta mta rp server rp,mta,servidor de mta,gta mta rp novo server,mta rp,melhor server,novo servidor de mta,mta roleplay,server de rp mta,ssamp; gta 4 para android; como instalar mod textura no gta sa androisamp android servidor br, novo servidor Br samp android hack, novo servidor brasileiro no samp android, nova atualização samp android, samp|PT1M44S |null                                                                                                                                      |22          |11                 |3          |0              |0         |12                   |619                     |\n",
      "|P9ZuQ3ClLeg|UCTdehZL8aTm70QB6KxMw6yQ|ESTAMOS CRESCENDO - Cities Skyline #2                                  |Bem-vindo ao DangerZone\\n\\n Aqui no canal você encontra gameplays, dicas e truques dos seus jogos favoritos!\\n\\n Não se esqueça de se inscrever e ativar o sininho para receber todas as notificações dos novos vídeos.                                                                                                                                                                                                                                                                                                                                                                                                                                                                                                                                                                                                                                                                                                                                                                                                                                                                                                                                                                                                                                                                                                                                                                                                                                                                                                                                                                                                                                                                                                                                                                                                                                                                                                                                                                                                                                                                                                                                                                                                                                                                                                                                                                                                                                                                                                                                                                                                                                                                                                                                                                                                                                                                                                                                                                                                                                                                                                                                                                                                                                                                                                                                                                                                                                                                                                                                                                                                                                                                                                                                                                                                                                                                                                                                                                                                                                                                                                                                                                                                                                                                                                                                                                                                                                                                                                                                                                                                                                                                                                                                                                                                                                                                                                                                                                                                                                                                                                                                                  |PT13M23S|[cities, br, cities: skylines 2 pt br, most dangerous cities in europe, europe violent crime rate vs us, cities throttle fortnite, cidade]|20          |2                  |0          |0              |7         |6                    |34                      |\n",
      "|hCCheh9_pro|UCOCp_GcNLExKx-OxMIziRFA|Cities skylines 1                                                      |Opa eae, eu sou o Christian!!!\\nAqui temos gameplay focado no automobilismo, de jogos SINCADE com Forza Motorsport E Gran Turismo                                                                                                                                                                                                                                                                                                                                                                                                                                                                                                                                                                                                                                                                                                                                                                                                                                                                                                                                                                                                                                                                                                                                                                                                                                                                                                                                                                                                                                                                                                                                                                                                                                                                                                                                                                                                                                                                                                                                                                                                                                                                                                                                                                                                                                                                                                                                                                                                                                                                                                                                                                                                                                                                                                                                                                                                                                                                                                                                                                                                                                                                                                                                                                                                                                                                                                                                                                                                                                                                                                                                                                                                                                                                                                                                                                                                                                                                                                                                                                                                                                                                                                                                                                                                                                                                                                                                                                                                                                                                                                                                                                                                                                                                                                                                                                                                                                                                                                                                                                                                                                        |P0D     |[#PS4Live, Cities: Skylines, PlayStation 4, Sony Interactive Entertainment]                                                               |20          |2                  |2          |0              |4         |3                    |20                      |\n",
      "|FudZWNcwonU|UC3OZQD5qIIt27gu_rPqOoWA|Tutorial de como bater em um membro da Zona Norte (ZN) | Meta Race | 🤣|Meta Race\\nIP: mtasa://104.234.189.50:22563\\nID: 11\\nClã: 021\\n\\nᴍᴇᴜ ᴘᴄ:\\n\\nPlaca De Vídeo: RTX 2060 Super 8G\\nProcessador: i5 8500\\nMemória RAM: 16G\\nSSD Kingston: 500G \\n\\n(Tags)\\n\\n#live #mta #mtarp #mtapcfraco  #MTA #fortniteGameplay #fortnitepc #pcfraco #Fortnite #highlights #highlights #freefire #fortnitegamer #Dicas #iniciantes #Dicasfortnite #fortniteworldcup dicas Básicas para iniciantes fortnite #Tournamment #campeonato leleleo #shorts #fivemSolo #gameplay #fortnite #Pc #fracoSetup #Setup #fortnite #Setup #fraco #Setup #caro #mta #mtalive #mtarp #hypemta #pcfracoliveobs #destiny #destinyrp #fugas #melhoresfugas#btz #fivemdepobre#fivem #rpdefamiliatags  #bmr #rp #bmr #gtarp #mtarp #antirp #bmr1 #bmr4 #bmr 5 #gtamtarp #fivem rp,connor rp,rp mta,rp gta,ant rp,gta 5 rp,samp rp,gta sa rp,rp gta sa,delux rp,mta rp fuga,gta rp fuga,fuga gta rp,policia rp,bmr2,#bmr,bmr1,bmr3,bmr4,bmr5,gta sa mta rp,piuzinho rp,cidade alta rp,gta rp vida real,servidor de mta rp,gta mta rp dando fugafuga de... tags ignorem : favela city,favela,favela city mta,favela city camp,samuca favela city,highlight favela city,melhores momentos favela city,city,city of god,dangerous favela brazil,dangerous favela brasil,most dangerous favela brazil,favelas brazil documentary,favelacity,jagatá novela,city of god brazil,the real city of god,cities,cities:skylines,... Highlights MTA MTA RP HIGHLIGHTS qbug litefoot tripleswitch longlitefoot macrolitefoot macroqbug macrolonglitefoot macrotripleswitch highlights RP Logitech Macrologitech Highlights MTA #x4zinn roi? tags ignorem: mta tactics,tactics mta,tactics,mta,n1 tactics,tactics fzk,fzk tactics,tactics frags,mta sa,fzk tactics frags,tactics highlight,mta top gta,random frags tactics,mta top-gta,fzk highlights tactics,particle mta,mata mata mta,h2k clan mta,mta hack,mta macro,mta x1,mta gz,bcg mta,pvp mta,fzk mta,feet mta,mta qbug,mta bugs,mta h1z1... mta,highlights,mta highlights,highlights mta,mta rp,mta bcg highlights,pubg highlights mta,highlight mta,highlight de mta,highlight samuca mta,samucamta highlights,highlight free fire mta,fivem highlights,mtarp,xl mta,dd mta,mta dd,melhores momentos mta,mta bcg,pvp mta,wild mta,1tap mta,pubg mta,mta 2021,raay mta,rayan mta,samuca mta,[wild] mta,xlteam mta,mtasa dd,mtasa cw,stealth mta,mta tactics,clan war mta,mta camp pubg mta,mta bcg,bcg,bcg mta,mta rp,mtarp,pubg mta,policia mta,mta bcg highlights,live mta,mta fivem,como tirar lag mta,mta sem lag,mta com mods,vídeo de mta,mta vida real,gameplay mta,xl mta,dup pubg mta,pvp mta,pvp bcg,mta bmr,live ao vivo mta rp,mtasa,kadu mta,fuga mta,melhores fugas mta rp,bcg fivem,xlteam mta,mta online,live de mta,mta tactics,stealth mta,bcg servidor,mta camp pubg,litefoot mta,mta litefootoverdose Pack overdose GENRL Pack Genrl sombra Pack sombra MTA Pack Meu pack de MTA Pack GENRL GTA 3 Anti lag #genrl  #antlag  #antrp  #packmta. Anti lag pra Pc fraco GENRL overdose sombra ícone luas GTA3.IMG banimento MTA Ban ZAP Rdm vdm ZAPLIGHTS #mutano444 mta,camp,lifefoot,hack,dll pramta,fivemFIVEMDEPOBRE, GTA MTA RP, mta,gta mta,mta rp,gta mta rp,mta roleplay,mtatv,mta bug,mta live,mta elevator,mta resources,sar mta,mta gate yapımı,mta roleplay pd,gta mta roleplay download,mta solo,mta drift,mta voice,mta five m,mta helper,mta russia,servidor de mta,mta,novo servidor de mta,mta rp,mta roleplay,melhor servidor de mta,melhor servidor de mta rp,o melhor servidor de mta rp,melhor servidor de mta 2020,melhor servidor do mta,o melhor servidor de mta rp 2020,server de rp mta,melhor servidor de mta brasileiro 2020,mejores servidores de mta sa,servidores mta sa,server leve de mta,melhor servidor de mta para pc fraco 2020,melhor servidor mta,servidor de mta leve,bope mta,mta five m,servidor novo de mta,servidor de mta leve 2020,servidor de mta,novo servidor de mta,mta rp,mta roleplay,novo servidor de mta rp,mta,novo servidor,bope mta,novo servidor de mta rp pc fraco,mta five m,destiny mta,novo servidor de rp do gta mta brasileiro,novo servidor mta,melhor servidor mta,servidor de mta rp,servidor de mta br,servidor de mta leve,melhor servidor de mta,server leve de mta,servidor de mta leve 2020,servidor de mta roleplay,melhor servidor de mta rp,melhor servidor mta pc fraco,o melhor servidor de mta rp,mta brasil,mta,mta roleplay brasil,gta mta roleplay brasil,mta rp brasil,mta brasil vida boa,mta rp,gta mta rp,mta sa,roleplay brasil,gta mta rp server brasileiro,gta mta,novo servidor de rp do gta mta brasileiro,gta mta rp pc fraco,gta mta roleplay,roleplay mta,mta viatura,servidor mta que roda em pc fraco,gta mta rp server rp,mta,servidor de mta,gta mta rp novo server,mta rp,melhor server,novo servidor de mta,mta roleplay,server de rp mta,ssamp; gta                                                                                                                                                                                                                                                              |PT4M11S |null                                                                                                                                      |22          |59                 |16         |0              |0         |16                   |577                     |\n",
      "|RhSZfR7reTM|UCsFvpmOu04Tyf9gszXVvzew|Encontrei O Melhor Servidor De Fuga Do Mta Pra Pc Fraco 😱             |Slv Tropa Deixa O Like E Se Inscreva Pra Me Ajudar 💔\\n\\nHIGH FUGAS\\n\\nDISCORD : https://discord.gg/xDbWbpAYvH\\nIP SERVIDOR : mtasa://104.234.189.50:23533\\n\\nFALEM NO CHAT QUE ENTROU POR MIM @JVRZIKA \\n\\n\\n\\nTAGS IGNOREM\\n\\n#live #mta #mtarp #mtapcfraco xtr xtrzin MTA TAG DO xtr #fortniteGameplay #fortnitepc #pcfraco #Fortnite highlights #highlights #freefire #fortnitegamer #Dicas #iniciantes #Dicasfortnite #fortniteworldcup dicas Básicas para iniciantes fortnite #Tournamment #campeonato leleleo #shorts #fivemSolo gameplay fortnite Pc fracoSetup Setup fortnite Setup fraco Setup caro #mta #mtalive #mtarp #hypemta #pcfracoliveobs #destiny #destinyrp #fugas #melhoresfugas#btz #fivemdepobre#fivem #rpdefamiliatags ignorem: bmr,rp,bmr 3,gta rp,mta rp,anti rp,bmr 1,bmr 4,bmr 5,gta mta rp,five m rp,connor rp,rp mta,rp gta,ant rp,gta 5 rp,samp rp,gta sa rp,rp gta sa,delux rp,mta rp fuga,gta rp fuga,fuga gta rp,policia rp,bmr2,#bmr,bmr1,bmr3,bmr4,bmr5,gta sa mta rp,piuzinho rp,cidade alta rp,gta rp vida real,servidor de mta rp,gta mta rp dando fugafuga de... tags ignorem : favela city,favela,favela city mta,favela city camp,samuca favela city,highlight favela city,melhores momentos favela city,city,city of god,dangerous favela brazil,dangerous favela brasil,most dangerous favela brazil,favelas brazil documentary,favelacity,jagatá novela,city of god brazil,the real city of god,cities,cities:skylines,... Highlights MTA MTA RP HIGHLIGHTS qbug litefoot tripleswitch longlitefoot macrolitefoot macroqbug macrolonglitefoot macrotripleswitch highlights RP Logitech Macrologitech Highlights MTA #x4zinn roi? tags ignorem: mta tactics,tactics mta,tactics,mta,n1 tactics,tactics fzk,fzk tactics,tactics frags,mta sa,fzk tactics frags,tactics highlight,mta top gta,random frags tactics,mta top-gta,fzk highlights tactics,particle mta,mata mata mta,h2k clan mta,mta hack,mta macro,mta x1,mta gz,bcg mta,pvp mta,fzk mta,feet mta,mta qbug,mta bugs,mta h1z1... mta,highlights,mta highlights,highlights mta,mta rp,mta bcg highlights,pubg highlights mta,highlight mta,highlight de mta,highlight samuca mta,samucamta highlights,highlight free fire mta,fivem highlights,mtarp,xl mta,dd mta,mta dd,melhores momentos mta,mta bcg,pvp mta,wild mta,1tap mta,pubg mta,mta 2021,raay mta,rayan mta,samuca mta,[wild] mta,xlteam mta,mtasa dd,mtasa cw,stealth mta,mta tactics,clan war mta,mta camp pubg mta,mta bcg,bcg,bcg mta,mta rp,mtarp,pubg mta,policia mta,mta bcg highlights,live mta,mta fivem,como tirar lag mta,mta sem lag,mta com mods,vídeo de mta,mta vida real,gameplay mta,xl mta,dup pubg mta,pvp mta,pvp bcg,mta bmr,live ao vivo mta rp,mtasa,kadu mta,fuga mta,melhores fugas mta rp,bcg fivem,xlteam mta,mta online,live de mta,mta tactics,stealth mta,bcg servidor,mta camp pubg,litefoot mta,mta litefootoverdose Pack overdose GENRL Pack Genrl sombra Pack sombra MTA Pack Meu pack de MTA Pack GENRL GTA 3 Anti lag #genrl  #antlag  #antrp  #packmta. Anti lag pra Pc fraco GENRL overdose sombra ícone luas GTA3.IMG banimento MTA Ban ZAP Rdm vdm ZAPLIGHTS #mutano444 mta,camp,lifefoot,hack,dll pramta,fivemFIVEMDEPOBRE, GTA MTA RP, mta,gta mta,mta rp,gta mta rp,mta roleplay,mtatv,mta bug,mta live,mta elevator,mta resources,sar mta,mta gate yapımı,mta roleplay pd,gta mta roleplay download,mta solo,mta drift,mta voice,mta five m,mta helper,mta russia,servidor de mta,mta,novo servidor de mta,mta rp,mta roleplay,melhor servidor de mta,melhor servidor de mta rp,o melhor servidor de mta rp,melhor servidor de mta 2020,melhor servidor do mta,o melhor servidor de mta rp 2020,server de rp mta,melhor servidor de mta brasileiro 2020,mejores servidores de mta sa,servidores mta sa,server leve de mta,melhor servidor de mta para pc fraco 2020,melhor servidor mta,servidor de mta leve,bope mta,mta five m,servidor novo de mta,servidor de mta leve 2020,servidor de mta,novo servidor de mta,mta rp,mta roleplay,novo servidor de mta rp,mta,novo servidor,bope mta,novo servidor de mta rp pc fraco,mta five m,destiny mta,novo servidor de rp do gta mta brasileiro,novo servidor mta,melhor servidor mta,servidor de mta rp,servidor de mta br,servidor de mta leve,melhor servidor de mta,server leve de mta,servidor de mta leve 2020,servidor de mta roleplay,melhor servidor de mta rp,melhor servidor mta pc fraco,o melhor servidor de mta rp,mta brasil,mta,mta roleplay brasil,gta mta roleplay brasil,mta rp brasil,mta brasil vida boa,mta rp,gta mta rp,mta sa,roleplay brasil,gta mta rp server brasileiro,gta mta,novo servidor de rp do gta mta brasileiro,gta mta rp pc fraco,gta mta roleplay,roleplay mta,mta viatura,servidor mta que roda em pc fraco,gta mta rp server rp,mta,servidor de mta,gta mta rp novo server,mta rp,melhor server,novo servidor de mta,mta roleplay,server de rp mta,ssamp; gta 4 para android; como instalar mod textura no gta sa androisamp android servidor br, novo servidor Br samp android hack, novo servidor brasileiro no samp android, nova atualização samp android, samp|PT1M44S |null                                                                                                                                      |22          |11                 |3          |0              |0         |12                   |619                     |\n",
      "|P9ZuQ3ClLeg|UCTdehZL8aTm70QB6KxMw6yQ|ESTAMOS CRESCENDO - Cities Skyline #2                                  |Bem-vindo ao DangerZone\\n\\n Aqui no canal você encontra gameplays, dicas e truques dos seus jogos favoritos!\\n\\n Não se esqueça de se inscrever e ativar o sininho para receber todas as notificações dos novos vídeos.                                                                                                                                                                                                                                                                                                                                                                                                                                                                                                                                                                                                                                                                                                                                                                                                                                                                                                                                                                                                                                                                                                                                                                                                                                                                                                                                                                                                                                                                                                                                                                                                                                                                                                                                                                                                                                                                                                                                                                                                                                                                                                                                                                                                                                                                                                                                                                                                                                                                                                                                                                                                                                                                                                                                                                                                                                                                                                                                                                                                                                                                                                                                                                                                                                                                                                                                                                                                                                                                                                                                                                                                                                                                                                                                                                                                                                                                                                                                                                                                                                                                                                                                                                                                                                                                                                                                                                                                                                                                                                                                                                                                                                                                                                                                                                                                                                                                                                                                                  |PT13M23S|[cities, br, cities: skylines 2 pt br, most dangerous cities in europe, europe violent crime rate vs us, cities throttle fortnite, cidade]|20          |2                  |0          |0              |7         |6                    |34                      |\n",
      "|hCCheh9_pro|UCOCp_GcNLExKx-OxMIziRFA|Cities skylines 1                                                      |Opa eae, eu sou o Christian!!!\\nAqui temos gameplay focado no automobilismo, de jogos SINCADE com Forza Motorsport E Gran Turismo                                                                                                                                                                                                                                                                                                                                                                                                                                                                                                                                                                                                                                                                                                                                                                                                                                                                                                                                                                                                                                                                                                                                                                                                                                                                                                                                                                                                                                                                                                                                                                                                                                                                                                                                                                                                                                                                                                                                                                                                                                                                                                                                                                                                                                                                                                                                                                                                                                                                                                                                                                                                                                                                                                                                                                                                                                                                                                                                                                                                                                                                                                                                                                                                                                                                                                                                                                                                                                                                                                                                                                                                                                                                                                                                                                                                                                                                                                                                                                                                                                                                                                                                                                                                                                                                                                                                                                                                                                                                                                                                                                                                                                                                                                                                                                                                                                                                                                                                                                                                                                        |P0D     |[#PS4Live, Cities: Skylines, PlayStation 4, Sony Interactive Entertainment]                                                               |20          |2                  |2          |0              |4         |3                    |20                      |\n",
      "+-----------+------------------------+-----------------------------------------------------------------------+-------------------------------------------------------------------------------------------------------------------------------------------------------------------------------------------------------------------------------------------------------------------------------------------------------------------------------------------------------------------------------------------------------------------------------------------------------------------------------------------------------------------------------------------------------------------------------------------------------------------------------------------------------------------------------------------------------------------------------------------------------------------------------------------------------------------------------------------------------------------------------------------------------------------------------------------------------------------------------------------------------------------------------------------------------------------------------------------------------------------------------------------------------------------------------------------------------------------------------------------------------------------------------------------------------------------------------------------------------------------------------------------------------------------------------------------------------------------------------------------------------------------------------------------------------------------------------------------------------------------------------------------------------------------------------------------------------------------------------------------------------------------------------------------------------------------------------------------------------------------------------------------------------------------------------------------------------------------------------------------------------------------------------------------------------------------------------------------------------------------------------------------------------------------------------------------------------------------------------------------------------------------------------------------------------------------------------------------------------------------------------------------------------------------------------------------------------------------------------------------------------------------------------------------------------------------------------------------------------------------------------------------------------------------------------------------------------------------------------------------------------------------------------------------------------------------------------------------------------------------------------------------------------------------------------------------------------------------------------------------------------------------------------------------------------------------------------------------------------------------------------------------------------------------------------------------------------------------------------------------------------------------------------------------------------------------------------------------------------------------------------------------------------------------------------------------------------------------------------------------------------------------------------------------------------------------------------------------------------------------------------------------------------------------------------------------------------------------------------------------------------------------------------------------------------------------------------------------------------------------------------------------------------------------------------------------------------------------------------------------------------------------------------------------------------------------------------------------------------------------------------------------------------------------------------------------------------------------------------------------------------------------------------------------------------------------------------------------------------------------------------------------------------------------------------------------------------------------------------------------------------------------------------------------------------------------------------------------------------------------------------------------------------------------------------------------------------------------------------------------------------------------------------------------------------------------------------------------------------------------------------------------------------------------------------------------------------------------------------------------------------------------------------------------------------------------------------------------------------------------------------------------------------------------------+--------+------------------------------------------------------------------------------------------------------------------------------------------+------------+-------------------+-----------+---------------+----------+---------------------+------------------------+\n",
      "\n"
     ]
    }
   ],
   "source": [
    "df_teste = df_estatisticas_videos.select(F.explode('items').alias('items')) \\\n",
    "    .select(\n",
    "        F.col('items.id').alias('ID_VIDEO'),\n",
    "        F.col('items.snippet.channelId').alias('ID_CANAL'),\n",
    "        F.col('items.snippet.title').alias('TITULO_VIDEO'),\n",
    "        F.col('items.snippet.description').alias('DESCRICAO'),\n",
    "        F.col('items.contentDetails.duration').alias('DURACAO'),\n",
    "        F.col('items.snippet.tags').alias('TAGS'),\n",
    "        \n",
    "        F.col('items.snippet.categoryid').alias('ID_CATEGORIA'),\n",
    "        F.col('items.statistics.viewCount').alias('TOTAL_VISUALIZACOES'),\n",
    "        F.col('items.statistics.likeCount').alias('TOTAL_LIKES'),\n",
    "        F.col('items.statistics.favoriteCount').alias('TOTAL_FAVORITOS'),\n",
    "    )\n",
    "df_teste = df_teste.withColumn('TOTAL_TAGS', F.when(\n",
    "    F.size(df_teste.TAGS) <= 0, 0).otherwise(F.size(df_teste.TAGS)))\n",
    "df_teste = df_teste.withColumn('TOTAL_PALAVRAS_TITULO', F.size(F.split(df_teste.TITULO_VIDEO, \" \")))\n",
    "df_teste = df_teste.withColumn(\n",
    "    'TOTAL_PALAVRAS_DESCRICAO', F.size(F.split(df_teste.DESCRICAO, \" \")))\n",
    "df_teste.show(truncate=False)"
   ]
  },
  {
   "cell_type": "code",
   "execution_count": 80,
   "metadata": {},
   "outputs": [],
   "source": [
    "spark.stop()"
   ]
  },
  {
   "cell_type": "markdown",
   "metadata": {},
   "source": [
    "- DuckDb"
   ]
  },
  {
   "cell_type": "code",
   "execution_count": 1,
   "metadata": {},
   "outputs": [],
   "source": [
    "import duckdb"
   ]
  },
  {
   "cell_type": "code",
   "execution_count": null,
   "metadata": {},
   "outputs": [],
   "source": []
  },
  {
   "cell_type": "code",
   "execution_count": 89,
   "metadata": {},
   "outputs": [
    {
     "data": {
      "text/plain": [
       "['req_estatisticas_canais_brasileiros.parquet']"
      ]
     },
     "execution_count": 89,
     "metadata": {},
     "output_type": "execute_result"
    }
   ],
   "source": [
    "import os\n",
    "lista_pasta = os.listdir('../datalake/prata/cities_skylines/extracao_data_2024_06_29/estatisticas_canais_brasileiros/')\n",
    "lista_pasta"
   ]
  }
 ],
 "metadata": {
  "kernelspec": {
   "display_name": "venv",
   "language": "python",
   "name": "python3"
  },
  "language_info": {
   "codemirror_mode": {
    "name": "ipython",
    "version": 3
   },
   "file_extension": ".py",
   "mimetype": "text/x-python",
   "name": "python",
   "nbconvert_exporter": "python",
   "pygments_lexer": "ipython3",
   "version": "3.10.14"
  }
 },
 "nbformat": 4,
 "nbformat_minor": 2
}

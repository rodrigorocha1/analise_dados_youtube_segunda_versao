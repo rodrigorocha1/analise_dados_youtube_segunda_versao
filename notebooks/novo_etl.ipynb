{
 "cells": [
  {
   "cell_type": "code",
   "execution_count": 11,
   "metadata": {},
   "outputs": [],
   "source": [
    "from pyspark.sql import SparkSession, DataFrame\n",
    "import pyspark.sql.functions as F\n",
    "import requests\n",
    "import pandas as pd\n",
    "import pickle\n",
    "import os"
   ]
  },
  {
   "cell_type": "code",
   "execution_count": 3,
   "metadata": {},
   "outputs": [],
   "source": [
    "chaves = {\n",
    "    'a': 1,\n",
    "    'b': 2\n",
    "}\n",
    "\n",
    "def soma(a, b):\n",
    "    return a + b"
   ]
  },
  {
   "cell_type": "code",
   "execution_count": 5,
   "metadata": {},
   "outputs": [
    {
     "data": {
      "text/plain": [
       "1"
      ]
     },
     "execution_count": 5,
     "metadata": {},
     "output_type": "execute_result"
    }
   ],
   "source": [
    "chaves['a']"
   ]
  },
  {
   "cell_type": "code",
   "execution_count": 6,
   "metadata": {},
   "outputs": [],
   "source": [
    "import pendulum"
   ]
  },
  {
   "cell_type": "code",
   "execution_count": 19,
   "metadata": {},
   "outputs": [],
   "source": [
    "import pendulum\n",
    "data_hora_atual = pendulum.now('America/Sao_Paulo').to_iso8601_string()\n",
    "data_hora_atual = pendulum.parse(data_hora_atual)\n",
    "data_hora_busca = data_hora_atual.subtract(hours=7)\n",
    "data_hora_busca_formatada = data_hora_busca.format('YYYY_MM_DD_HH_mm_ss')\n",
    "data = f'extracao_data_{data_hora_busca_formatada}'\n"
   ]
  },
  {
   "cell_type": "code",
   "execution_count": 20,
   "metadata": {},
   "outputs": [
    {
     "data": {
      "text/plain": [
       "'extracao_data_2024_07_02_15_05_38'"
      ]
     },
     "execution_count": 20,
     "metadata": {},
     "output_type": "execute_result"
    }
   ],
   "source": [
    "data"
   ]
  },
  {
   "cell_type": "code",
   "execution_count": 2,
   "metadata": {},
   "outputs": [
    {
     "data": {
      "text/plain": [
       "3"
      ]
     },
     "execution_count": 2,
     "metadata": {},
     "output_type": "execute_result"
    }
   ],
   "source": [
    "soma(**chaves)"
   ]
  },
  {
   "cell_type": "code",
   "execution_count": 5,
   "metadata": {},
   "outputs": [
    {
     "name": "stdout",
     "output_type": "stream",
     "text": [
      "24/07/02 19:45:37 WARN Utils: Your hostname, rodrigo-nitroan51554 resolves to a loopback address: 127.0.1.1; using 192.168.3.6 instead (on interface wlp8s0)\n",
      "24/07/02 19:45:37 WARN Utils: Set SPARK_LOCAL_IP if you need to bind to another address\n"
     ]
    },
    {
     "name": "stderr",
     "output_type": "stream",
     "text": [
      "Setting default log level to \"WARN\".\n",
      "To adjust logging level use sc.setLogLevel(newLevel). For SparkR, use setLogLevel(newLevel).\n"
     ]
    },
    {
     "name": "stdout",
     "output_type": "stream",
     "text": [
      "24/07/02 19:45:39 WARN NativeCodeLoader: Unable to load native-hadoop library for your platform... using builtin-java classes where applicable\n"
     ]
    }
   ],
   "source": [
    "spark = SparkSession.builder.appName('DEPARA').getOrCreate()"
   ]
  },
  {
   "cell_type": "code",
   "execution_count": 6,
   "metadata": {},
   "outputs": [
    {
     "name": "stderr",
     "output_type": "stream",
     "text": [
      "                                                                                \r"
     ]
    }
   ],
   "source": [
    "df_estatisticas_videos = spark.read.json(\n",
    "    '../datalake/bronze/cities_skylines/extracao_data_2024_06_29/estatisticas_canais_brasileiros/req_estatisticas_canais_brasileiros.json')"
   ]
  },
  {
   "cell_type": "code",
   "execution_count": 9,
   "metadata": {},
   "outputs": [
    {
     "name": "stdout",
     "output_type": "stream",
     "text": [
      "root\n",
      " |-- data_extracao: string (nullable = true)\n",
      " |-- etag: string (nullable = true)\n",
      " |-- items: array (nullable = true)\n",
      " |    |-- element: struct (containsNull = true)\n",
      " |    |    |-- etag: string (nullable = true)\n",
      " |    |    |-- id: string (nullable = true)\n",
      " |    |    |-- kind: string (nullable = true)\n",
      " |    |    |-- snippet: struct (nullable = true)\n",
      " |    |    |    |-- country: string (nullable = true)\n",
      " |    |    |    |-- customUrl: string (nullable = true)\n",
      " |    |    |    |-- description: string (nullable = true)\n",
      " |    |    |    |-- localized: struct (nullable = true)\n",
      " |    |    |    |    |-- description: string (nullable = true)\n",
      " |    |    |    |    |-- title: string (nullable = true)\n",
      " |    |    |    |-- publishedAt: string (nullable = true)\n",
      " |    |    |    |-- thumbnails: struct (nullable = true)\n",
      " |    |    |    |    |-- default: struct (nullable = true)\n",
      " |    |    |    |    |    |-- height: long (nullable = true)\n",
      " |    |    |    |    |    |-- url: string (nullable = true)\n",
      " |    |    |    |    |    |-- width: long (nullable = true)\n",
      " |    |    |    |    |-- high: struct (nullable = true)\n",
      " |    |    |    |    |    |-- height: long (nullable = true)\n",
      " |    |    |    |    |    |-- url: string (nullable = true)\n",
      " |    |    |    |    |    |-- width: long (nullable = true)\n",
      " |    |    |    |    |-- medium: struct (nullable = true)\n",
      " |    |    |    |    |    |-- height: long (nullable = true)\n",
      " |    |    |    |    |    |-- url: string (nullable = true)\n",
      " |    |    |    |    |    |-- width: long (nullable = true)\n",
      " |    |    |    |-- title: string (nullable = true)\n",
      " |    |    |-- statistics: struct (nullable = true)\n",
      " |    |    |    |-- hiddenSubscriberCount: boolean (nullable = true)\n",
      " |    |    |    |-- subscriberCount: string (nullable = true)\n",
      " |    |    |    |-- videoCount: string (nullable = true)\n",
      " |    |    |    |-- viewCount: string (nullable = true)\n",
      " |-- kind: string (nullable = true)\n",
      " |-- pageInfo: struct (nullable = true)\n",
      " |    |-- resultsPerPage: long (nullable = true)\n",
      " |    |-- totalResults: long (nullable = true)\n",
      "\n"
     ]
    }
   ],
   "source": [
    "df_estatisticas_videos.printSchema()"
   ]
  },
  {
   "cell_type": "code",
   "execution_count": 14,
   "metadata": {},
   "outputs": [
    {
     "name": "stdout",
     "output_type": "stream",
     "text": [
      "root\n",
      " |-- data_extracao: string (nullable = true)\n",
      " |-- col: struct (nullable = true)\n",
      " |    |-- etag: string (nullable = true)\n",
      " |    |-- id: string (nullable = true)\n",
      " |    |-- kind: string (nullable = true)\n",
      " |    |-- snippet: struct (nullable = true)\n",
      " |    |    |-- country: string (nullable = true)\n",
      " |    |    |-- customUrl: string (nullable = true)\n",
      " |    |    |-- description: string (nullable = true)\n",
      " |    |    |-- localized: struct (nullable = true)\n",
      " |    |    |    |-- description: string (nullable = true)\n",
      " |    |    |    |-- title: string (nullable = true)\n",
      " |    |    |-- publishedAt: string (nullable = true)\n",
      " |    |    |-- thumbnails: struct (nullable = true)\n",
      " |    |    |    |-- default: struct (nullable = true)\n",
      " |    |    |    |    |-- height: long (nullable = true)\n",
      " |    |    |    |    |-- url: string (nullable = true)\n",
      " |    |    |    |    |-- width: long (nullable = true)\n",
      " |    |    |    |-- high: struct (nullable = true)\n",
      " |    |    |    |    |-- height: long (nullable = true)\n",
      " |    |    |    |    |-- url: string (nullable = true)\n",
      " |    |    |    |    |-- width: long (nullable = true)\n",
      " |    |    |    |-- medium: struct (nullable = true)\n",
      " |    |    |    |    |-- height: long (nullable = true)\n",
      " |    |    |    |    |-- url: string (nullable = true)\n",
      " |    |    |    |    |-- width: long (nullable = true)\n",
      " |    |    |-- title: string (nullable = true)\n",
      " |    |-- statistics: struct (nullable = true)\n",
      " |    |    |-- hiddenSubscriberCount: boolean (nullable = true)\n",
      " |    |    |-- subscriberCount: string (nullable = true)\n",
      " |    |    |-- videoCount: string (nullable = true)\n",
      " |    |    |-- viewCount: string (nullable = true)\n",
      "\n"
     ]
    }
   ],
   "source": [
    "df_estatisticas_videos.select(\n",
    "    'data_extracao',\n",
    "    F.explode('items')\n",
    ").printSchema()"
   ]
  },
  {
   "cell_type": "code",
   "execution_count": null,
   "metadata": {},
   "outputs": [],
   "source": [
    "def obter_hora(dataframe: DataFrame):\n",
    "    dataframe = dataframe.withColumn('TURNO_EXTRACAO', F.when((F.col('HORA') >= 0) & (F.col('HORA') < 6), 'Madrugada')\n",
    "                .when((F.col('HORA') >= 6) & (F.col('HORA') < 12), 'Manhã')\n",
    "                .when((F.col('HORA') >= 12) & (F.col('HORA') < 18), 'Tarde')\n",
    "                .otherwise('Noite'))"
   ]
  },
  {
   "cell_type": "code",
   "execution_count": 34,
   "metadata": {},
   "outputs": [
    {
     "name": "stdout",
     "output_type": "stream",
     "text": [
      "+-------------------+--------------+----+--------------------+--------------------+---------------+---------------------+-------------------+\n",
      "|      DATA_EXTRACAO|TURNO_EXTRACAO|HORA|                  ID|            NM_CANAL|TOTAL_INSCRITOS|TOTAL_VIDEO_PUBLICADO|TOTAL_VISUALIZACOES|\n",
      "+-------------------+--------------+----+--------------------+--------------------+---------------+---------------------+-------------------+\n",
      "|2024-06-29 23:34:29|         Noite|  23|UCTdehZL8aTm70QB6...|          DangerZone|             79|                   58|               3541|\n",
      "|2024-06-29 23:34:29|         Noite|  23|UCsFvpmOu04Tyf9gs...|            JVR ZIKA|            225|                    4|                312|\n",
      "|2024-06-29 23:34:29|         Noite|  23|UCOCp_GcNLExKx-Ox...|Bandeira Quadricu...|            305|                  117|              77521|\n",
      "|2024-06-29 23:34:29|         Noite|  23|UC3OZQD5qIIt27gu_...|              Rc MTA|             87|                   16|               2297|\n",
      "|2024-06-29 23:36:58|         Noite|  23|UCTdehZL8aTm70QB6...|          DangerZone|             79|                   58|               3541|\n",
      "|2024-06-29 23:36:58|         Noite|  23|UCsFvpmOu04Tyf9gs...|            JVR ZIKA|            225|                    4|                312|\n",
      "|2024-06-29 23:36:58|         Noite|  23|UCOCp_GcNLExKx-Ox...|Bandeira Quadricu...|            305|                  117|              77521|\n",
      "|2024-06-29 23:36:59|         Noite|  23|UC3OZQD5qIIt27gu_...|              Rc MTA|             87|                   16|               2297|\n",
      "|2024-06-29 23:39:24|         Noite|  23|UCTdehZL8aTm70QB6...|          DangerZone|             79|                   58|               3541|\n",
      "|2024-06-29 23:39:24|         Noite|  23|UCsFvpmOu04Tyf9gs...|            JVR ZIKA|            225|                    4|                312|\n",
      "|2024-06-29 23:39:24|         Noite|  23|UCOCp_GcNLExKx-Ox...|Bandeira Quadricu...|            305|                  117|              77521|\n",
      "|2024-06-29 23:39:25|         Noite|  23|UC3OZQD5qIIt27gu_...|              Rc MTA|             87|                   16|               2297|\n",
      "+-------------------+--------------+----+--------------------+--------------------+---------------+---------------------+-------------------+\n",
      "\n"
     ]
    }
   ],
   "source": [
    "from pyspark.sql import functions as F\n",
    "\n",
    "df_estatisticas_videos.select(\n",
    "    'data_extracao',\n",
    "    F.explode('items').alias('item')\n",
    ").withColumn('HORA', F.hour('data_extracao')) \\\n",
    "    .select(\n",
    "        F.col('data_extracao').alias('DATA_EXTRACAO'),\n",
    "        F.col('TURNO_EXTRACAO'),\n",
    "        F.col('HORA'),\n",
    "        F.col('item.id').alias('ID'),\n",
    "        F.col('item.snippet.title').alias('NM_CANAL'),\n",
    "        F.col('item.statistics.subscriberCount').alias('TOTAL_INSCRITOS'),\n",
    "        F.col('item.statistics.videoCount').alias('TOTAL_VIDEO_PUBLICADO'),\n",
    "        F.col('item.statistics.viewCount').alias('TOTAL_VISUALIZACOES'),\n",
    ").show()"
   ]
  }
 ],
 "metadata": {
  "kernelspec": {
   "display_name": "venv",
   "language": "python",
   "name": "python3"
  },
  "language_info": {
   "codemirror_mode": {
    "name": "ipython",
    "version": 3
   },
   "file_extension": ".py",
   "mimetype": "text/x-python",
   "name": "python",
   "nbconvert_exporter": "python",
   "pygments_lexer": "ipython3",
   "version": "3.10.14"
  }
 },
 "nbformat": 4,
 "nbformat_minor": 2
}

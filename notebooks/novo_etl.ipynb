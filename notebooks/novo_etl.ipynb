{
 "cells": [
  {
   "cell_type": "code",
   "execution_count": 1,
   "metadata": {},
   "outputs": [],
   "source": [
    "from pyspark.sql import SparkSession, DataFrame\n",
    "import pyspark.sql.functions as F\n",
    "import requests\n",
    "import pandas as pd\n",
    "import pickle\n",
    "import os"
   ]
  },
  {
   "cell_type": "code",
   "execution_count": 2,
   "metadata": {},
   "outputs": [],
   "source": [
    "chaves = {\n",
    "    'a': 1,\n",
    "    'b': 2\n",
    "}\n",
    "\n",
    "def soma(a, b):\n",
    "    return a + b"
   ]
  },
  {
   "cell_type": "code",
   "execution_count": 3,
   "metadata": {},
   "outputs": [
    {
     "data": {
      "text/plain": [
       "1"
      ]
     },
     "execution_count": 3,
     "metadata": {},
     "output_type": "execute_result"
    }
   ],
   "source": [
    "chaves['a']"
   ]
  },
  {
   "cell_type": "code",
   "execution_count": 4,
   "metadata": {},
   "outputs": [],
   "source": [
    "import pendulum"
   ]
  },
  {
   "cell_type": "code",
   "execution_count": 5,
   "metadata": {},
   "outputs": [],
   "source": [
    "def obter_turno_pasta(hora: int) -> str: \n",
    "    if 0 >= hora < 6:\n",
    "        turno = 'madrugada'\n",
    "    elif 6 >= hora < 12:\n",
    "        turno = 'manha'\n",
    "    elif 12 >= hora < 18:\n",
    "        turno = 'tarde'\n",
    "    else:\n",
    "        turno = 'noite'\n",
    "    return turno"
   ]
  },
  {
   "cell_type": "code",
   "execution_count": 6,
   "metadata": {},
   "outputs": [
    {
     "data": {
      "text/plain": [
       "20"
      ]
     },
     "execution_count": 6,
     "metadata": {},
     "output_type": "execute_result"
    }
   ],
   "source": [
    "import pendulum\n",
    "data_hora_atual = pendulum.now('America/Sao_Paulo').to_iso8601_string()\n",
    "data_hora_atual = pendulum.parse(data_hora_atual)\n",
    "hora = data_hora_atual.hour\n",
    "hora"
   ]
  },
  {
   "cell_type": "code",
   "execution_count": 7,
   "metadata": {},
   "outputs": [
    {
     "data": {
      "text/plain": [
       "'noite'"
      ]
     },
     "execution_count": 7,
     "metadata": {},
     "output_type": "execute_result"
    }
   ],
   "source": [
    "obter_turno_pasta(hora)"
   ]
  },
  {
   "cell_type": "code",
   "execution_count": 8,
   "metadata": {},
   "outputs": [
    {
     "data": {
      "text/plain": [
       "'2024_07_09_noite'"
      ]
     },
     "execution_count": 8,
     "metadata": {},
     "output_type": "execute_result"
    }
   ],
   "source": [
    "data = data_hora_atual.format('YYYY_MM_DD')\n",
    "data + '_' + str(obter_turno_pasta(hora))"
   ]
  },
  {
   "cell_type": "code",
   "execution_count": 9,
   "metadata": {},
   "outputs": [
    {
     "data": {
      "text/plain": [
       "DateTime(2024, 7, 9, 20, 15, 22, 342128, tzinfo=Timezone('-03:00'))"
      ]
     },
     "execution_count": 9,
     "metadata": {},
     "output_type": "execute_result"
    }
   ],
   "source": [
    "data_hora_atual"
   ]
  },
  {
   "cell_type": "code",
   "execution_count": null,
   "metadata": {},
   "outputs": [],
   "source": []
  },
  {
   "cell_type": "code",
   "execution_count": 10,
   "metadata": {},
   "outputs": [
    {
     "data": {
      "text/plain": [
       "3"
      ]
     },
     "execution_count": 10,
     "metadata": {},
     "output_type": "execute_result"
    }
   ],
   "source": [
    "soma(**chaves)"
   ]
  },
  {
   "cell_type": "code",
   "execution_count": 11,
   "metadata": {},
   "outputs": [
    {
     "name": "stdout",
     "output_type": "stream",
     "text": [
      "24/07/09 20:15:36 WARN Utils: Your hostname, rodrigo-nitroan51554 resolves to a loopback address: 127.0.1.1; using 192.168.3.6 instead (on interface wlp8s0)\n",
      "24/07/09 20:15:36 WARN Utils: Set SPARK_LOCAL_IP if you need to bind to another address\n"
     ]
    },
    {
     "name": "stderr",
     "output_type": "stream",
     "text": [
      "Setting default log level to \"WARN\".\n",
      "To adjust logging level use sc.setLogLevel(newLevel). For SparkR, use setLogLevel(newLevel).\n"
     ]
    },
    {
     "name": "stdout",
     "output_type": "stream",
     "text": [
      "24/07/09 20:15:37 WARN NativeCodeLoader: Unable to load native-hadoop library for your platform... using builtin-java classes where applicable\n"
     ]
    }
   ],
   "source": [
    "spark = SparkSession.builder.appName('DEPARA').getOrCreate()"
   ]
  },
  {
   "cell_type": "markdown",
   "metadata": {},
   "source": [
    "- Estatísticas Canais"
   ]
  },
  {
   "cell_type": "code",
   "execution_count": 12,
   "metadata": {},
   "outputs": [],
   "source": [
    "df_estatisticas_canais = spark.read.json(\n",
    "    '../datalake/bronze/*/extracao_data_2024_07_09_tarde/estatisticas_canais_brasileiros/req_estatisticas_canais_brasileiros.json')"
   ]
  },
  {
   "cell_type": "code",
   "execution_count": 13,
   "metadata": {},
   "outputs": [
    {
     "name": "stdout",
     "output_type": "stream",
     "text": [
      "root\n",
      " |-- assunto: string (nullable = true)\n",
      " |-- data_extracao: string (nullable = true)\n",
      " |-- etag: string (nullable = true)\n",
      " |-- items: array (nullable = true)\n",
      " |    |-- element: struct (containsNull = true)\n",
      " |    |    |-- etag: string (nullable = true)\n",
      " |    |    |-- id: string (nullable = true)\n",
      " |    |    |-- kind: string (nullable = true)\n",
      " |    |    |-- snippet: struct (nullable = true)\n",
      " |    |    |    |-- country: string (nullable = true)\n",
      " |    |    |    |-- customUrl: string (nullable = true)\n",
      " |    |    |    |-- description: string (nullable = true)\n",
      " |    |    |    |-- localized: struct (nullable = true)\n",
      " |    |    |    |    |-- description: string (nullable = true)\n",
      " |    |    |    |    |-- title: string (nullable = true)\n",
      " |    |    |    |-- publishedAt: string (nullable = true)\n",
      " |    |    |    |-- thumbnails: struct (nullable = true)\n",
      " |    |    |    |    |-- default: struct (nullable = true)\n",
      " |    |    |    |    |    |-- height: long (nullable = true)\n",
      " |    |    |    |    |    |-- url: string (nullable = true)\n",
      " |    |    |    |    |    |-- width: long (nullable = true)\n",
      " |    |    |    |    |-- high: struct (nullable = true)\n",
      " |    |    |    |    |    |-- height: long (nullable = true)\n",
      " |    |    |    |    |    |-- url: string (nullable = true)\n",
      " |    |    |    |    |    |-- width: long (nullable = true)\n",
      " |    |    |    |    |-- medium: struct (nullable = true)\n",
      " |    |    |    |    |    |-- height: long (nullable = true)\n",
      " |    |    |    |    |    |-- url: string (nullable = true)\n",
      " |    |    |    |    |    |-- width: long (nullable = true)\n",
      " |    |    |    |-- title: string (nullable = true)\n",
      " |    |    |-- statistics: struct (nullable = true)\n",
      " |    |    |    |-- hiddenSubscriberCount: boolean (nullable = true)\n",
      " |    |    |    |-- subscriberCount: string (nullable = true)\n",
      " |    |    |    |-- videoCount: string (nullable = true)\n",
      " |    |    |    |-- viewCount: string (nullable = true)\n",
      " |-- kind: string (nullable = true)\n",
      " |-- pageInfo: struct (nullable = true)\n",
      " |    |-- resultsPerPage: long (nullable = true)\n",
      " |    |-- totalResults: long (nullable = true)\n",
      "\n"
     ]
    }
   ],
   "source": [
    "df_estatisticas_canais.printSchema()"
   ]
  },
  {
   "cell_type": "code",
   "execution_count": 14,
   "metadata": {},
   "outputs": [],
   "source": [
    "def obter_turno(data_extracao_col: F.col):\n",
    "    return F.when((F.hour(data_extracao_col) >= 0) & (F.hour(data_extracao_col) < 8), 'Manhã') \\\n",
    "            .when((F.hour(data_extracao_col) >= 8) & (F.hour(data_extracao_col) < 16), 'Tarde') \\\n",
    "            .otherwise('Noite')"
   ]
  },
  {
   "cell_type": "code",
   "execution_count": 15,
   "metadata": {},
   "outputs": [
    {
     "name": "stdout",
     "output_type": "stream",
     "text": [
      "+---------------+-------------------+------------+------------+------------+--------------+------------------------+------------------------------------+---------------+-----------------------+-------------------+\n",
      "|ASSUNTO        |DATA_EXTRACAO      |ANO_EXTRACAO|MES_EXTRACAO|DIA_EXTRACAO|TURNO_EXTRACAO|ID_CANAL                |NM_CANAL                            |TOTAL_INSCRITOS|TOTAL_VIDEOS_PUBLICADOS|TOTAL_VISUALIZACOES|\n",
      "+---------------+-------------------+------------+------------+------------+--------------+------------------------+------------------------------------+---------------+-----------------------+-------------------+\n",
      "|linux          |2024-07-09 15:10:31|15          |7           |9           |Tarde         |UCU2ar87kwe2ZkNKB8-ctVtQ|Objetivo Concursos                  |151000         |5366                   |11473628           |\n",
      "|linux          |2024-07-09 15:10:31|15          |7           |9           |Tarde         |UCkh8ofkguG5Dta9cW_1T-9A|Liberdade e Harmonia com o Universo.|20300          |3122                   |3101952            |\n",
      "|linux          |2024-07-09 15:10:31|15          |7           |9           |Tarde         |UCGo6_H7WxesC9FUbMrKuISg|Kraken Academy                      |4520           |114                    |133574             |\n",
      "|linux          |2024-07-09 15:10:31|15          |7           |9           |Tarde         |UCXAph_oHxQlE7dJALrx4wBQ|Vagner Fonseca                      |12800          |175                    |550484             |\n",
      "|linux          |2024-07-09 15:10:31|15          |7           |9           |Tarde         |UC92I-C2UFlfGBrMjcSB5U8w|Achados e Descontos                 |257            |16                     |220                |\n",
      "|linux          |2024-07-09 15:10:32|15          |7           |9           |Tarde         |UCuvW5NsMsbCHsXNl-PBcg6Q|LW Tech Linux                       |3660           |662                    |619504             |\n",
      "|linux          |2024-07-09 15:10:32|15          |7           |9           |Tarde         |UCpIYXOF825aX8qq77xnTCLQ|prog.shell.linux                    |6590           |279                    |199089             |\n",
      "|cities_skylines|2024-07-09 15:10:31|15          |7           |9           |Tarde         |UCCcrm5jUae68y7Z8rQTAPDw|gordo dychavas                      |80             |8                      |874                |\n",
      "|cities_skylines|2024-07-09 15:10:31|15          |7           |9           |Tarde         |UC8gD6VKEZVRfswMk7ehHe2g|LuizGamer                           |1250           |1215                   |209917             |\n",
      "+---------------+-------------------+------------+------------+------------+--------------+------------------------+------------------------------------+---------------+-----------------------+-------------------+\n",
      "\n"
     ]
    }
   ],
   "source": [
    "df_estatisticas_canais = df_estatisticas_canais.select(\n",
    "    'data_extracao',\n",
    "    'assunto',\n",
    "    F.explode('items').alias('items')\n",
    ").select(\n",
    "    F.col('assunto').alias('ASSUNTO'),\n",
    "    F.col('data_extracao').alias('DATA_EXTRACAO'),\n",
    "    F.hour('data_extracao').alias('ANO_EXTRACAO'),\n",
    "    F.month('data_extracao').alias('MES_EXTRACAO'),\n",
    "    F.dayofmonth('data_extracao').alias('DIA_EXTRACAO'),\n",
    "    obter_turno(F.col('data_extracao')).alias('TURNO_EXTRACAO'),\n",
    "    F.col('items.id').alias('ID_CANAL'),\n",
    "    F.col('items.snippet.title').alias('NM_CANAL'),\n",
    "    F.col('items.statistics.subscriberCount').alias('TOTAL_INSCRITOS'),\n",
    "    F.col('items.statistics.videoCount').alias('TOTAL_VIDEOS_PUBLICADOS'),\n",
    "    F.col('items.statistics.viewCount').alias('TOTAL_VISUALIZACOES')\n",
    ")\n",
    "# df_estatisticas_canais = df_estatisticas_canais.withColumn('')\n",
    "df_estatisticas_canais.show(truncate=False)"
   ]
  },
  {
   "cell_type": "code",
   "execution_count": 16,
   "metadata": {},
   "outputs": [],
   "source": [
    "df_estatisticas_canais_pandas = df_estatisticas_canais.toPandas()"
   ]
  },
  {
   "cell_type": "code",
   "execution_count": 17,
   "metadata": {},
   "outputs": [],
   "source": [
    "\n",
    "# df_estatisticas_canais_pandas.to_parquet(\n",
    "#     path='../datalake/prata/estatisticas_canais/estatisticas_canais_pandas.parquet', partition_cols=['TURNO_EXTRACAO'])"
   ]
  },
  {
   "cell_type": "code",
   "execution_count": 4,
   "metadata": {},
   "outputs": [
    {
     "name": "stdout",
     "output_type": "stream",
     "text": [
      "10 <class 'int'>\n"
     ]
    },
    {
     "data": {
      "text/plain": [
       "'extracao_data_2024_07_12_manha'"
      ]
     },
     "execution_count": 4,
     "metadata": {},
     "output_type": "execute_result"
    }
   ],
   "source": [
    "def obter_turno_pasta(hora: int) -> str:\n",
    "    print(hora, type(hora))\n",
    "    if 0 <= hora < 6:\n",
    "        turno = 'madrugada'\n",
    "    elif 6 <= hora < 12:\n",
    "        turno = 'manha'\n",
    "    elif 12 <= hora < 18:\n",
    "        turno = 'tarde'\n",
    "    else:\n",
    "        turno = 'noite'\n",
    "    return turno\n",
    "\n",
    "import pendulum\n",
    "data_hora_atual = pendulum.now('America/Sao_Paulo').to_iso8601_string()\n",
    "data_hora_atual = pendulum.parse(data_hora_atual)\n",
    "hora_atual = int(data_hora_atual.hour)\n",
    "data = data_hora_atual.format('YYYY_MM_DD')\n",
    "data_hora_busca = data_hora_atual.subtract(hours=6)\n",
    "data_hora_busca = data_hora_busca.strftime('%Y-%m-%dT%H:%M:%SZ')\n",
    "data = f'extracao_data_{data}_{obter_turno_pasta(hora_atual)}'\n",
    "data"
   ]
  },
  {
   "cell_type": "code",
   "execution_count": 7,
   "metadata": {},
   "outputs": [
    {
     "name": "stdout",
     "output_type": "stream",
     "text": [
      "22 <class 'int'>\n"
     ]
    },
    {
     "data": {
      "text/plain": [
       "'noite'"
      ]
     },
     "execution_count": 7,
     "metadata": {},
     "output_type": "execute_result"
    }
   ],
   "source": [
    "obter_turno_pasta(22)"
   ]
  },
  {
   "cell_type": "code",
   "execution_count": 18,
   "metadata": {},
   "outputs": [],
   "source": [
    "import duckdb\n",
    "\n",
    "con = duckdb.connect()\n",
    "\n",
    "# Salvando o DataFrame em formato Parquet com partições\n",
    "con.execute(\"\"\"\n",
    "    COPY (SELECT * FROM df_estatisticas_canais_pandas) \n",
    "    TO '{}' \n",
    "    (FORMAT PARQUET, PARTITION_BY ('TURNO_EXTRACAO'))\n",
    "\"\"\".format('../datalake/prata/estatisticas_canais.parquet'))\n",
    "\n",
    "con.close()"
   ]
  },
  {
   "cell_type": "markdown",
   "metadata": {},
   "source": [
    "- Estatísticas Vídeos Brasileiros"
   ]
  },
  {
   "cell_type": "code",
   "execution_count": 16,
   "metadata": {},
   "outputs": [],
   "source": [
    "df_estatisticas_videos = spark.read.json(\n",
    "    '../datalake/bronze/*/extracao_data_2024_07_09_tarde/estatisticas_videos/req_estatisticas_videos.json')"
   ]
  },
  {
   "cell_type": "code",
   "execution_count": 17,
   "metadata": {},
   "outputs": [
    {
     "name": "stdout",
     "output_type": "stream",
     "text": [
      "root\n",
      " |-- assunto: string (nullable = true)\n",
      " |-- data_extracao: string (nullable = true)\n",
      " |-- etag: string (nullable = true)\n",
      " |-- items: array (nullable = true)\n",
      " |    |-- element: struct (containsNull = true)\n",
      " |    |    |-- contentDetails: struct (nullable = true)\n",
      " |    |    |    |-- caption: string (nullable = true)\n",
      " |    |    |    |-- definition: string (nullable = true)\n",
      " |    |    |    |-- dimension: string (nullable = true)\n",
      " |    |    |    |-- duration: string (nullable = true)\n",
      " |    |    |    |-- licensedContent: boolean (nullable = true)\n",
      " |    |    |    |-- projection: string (nullable = true)\n",
      " |    |    |-- etag: string (nullable = true)\n",
      " |    |    |-- id: string (nullable = true)\n",
      " |    |    |-- kind: string (nullable = true)\n",
      " |    |    |-- snippet: struct (nullable = true)\n",
      " |    |    |    |-- categoryId: string (nullable = true)\n",
      " |    |    |    |-- channelId: string (nullable = true)\n",
      " |    |    |    |-- channelTitle: string (nullable = true)\n",
      " |    |    |    |-- defaultAudioLanguage: string (nullable = true)\n",
      " |    |    |    |-- defaultLanguage: string (nullable = true)\n",
      " |    |    |    |-- description: string (nullable = true)\n",
      " |    |    |    |-- liveBroadcastContent: string (nullable = true)\n",
      " |    |    |    |-- localized: struct (nullable = true)\n",
      " |    |    |    |    |-- description: string (nullable = true)\n",
      " |    |    |    |    |-- title: string (nullable = true)\n",
      " |    |    |    |-- publishedAt: string (nullable = true)\n",
      " |    |    |    |-- tags: array (nullable = true)\n",
      " |    |    |    |    |-- element: string (containsNull = true)\n",
      " |    |    |    |-- thumbnails: struct (nullable = true)\n",
      " |    |    |    |    |-- default: struct (nullable = true)\n",
      " |    |    |    |    |    |-- height: long (nullable = true)\n",
      " |    |    |    |    |    |-- url: string (nullable = true)\n",
      " |    |    |    |    |    |-- width: long (nullable = true)\n",
      " |    |    |    |    |-- high: struct (nullable = true)\n",
      " |    |    |    |    |    |-- height: long (nullable = true)\n",
      " |    |    |    |    |    |-- url: string (nullable = true)\n",
      " |    |    |    |    |    |-- width: long (nullable = true)\n",
      " |    |    |    |    |-- maxres: struct (nullable = true)\n",
      " |    |    |    |    |    |-- height: long (nullable = true)\n",
      " |    |    |    |    |    |-- url: string (nullable = true)\n",
      " |    |    |    |    |    |-- width: long (nullable = true)\n",
      " |    |    |    |    |-- medium: struct (nullable = true)\n",
      " |    |    |    |    |    |-- height: long (nullable = true)\n",
      " |    |    |    |    |    |-- url: string (nullable = true)\n",
      " |    |    |    |    |    |-- width: long (nullable = true)\n",
      " |    |    |    |    |-- standard: struct (nullable = true)\n",
      " |    |    |    |    |    |-- height: long (nullable = true)\n",
      " |    |    |    |    |    |-- url: string (nullable = true)\n",
      " |    |    |    |    |    |-- width: long (nullable = true)\n",
      " |    |    |    |-- title: string (nullable = true)\n",
      " |    |    |-- statistics: struct (nullable = true)\n",
      " |    |    |    |-- commentCount: string (nullable = true)\n",
      " |    |    |    |-- favoriteCount: string (nullable = true)\n",
      " |    |    |    |-- likeCount: string (nullable = true)\n",
      " |    |    |    |-- viewCount: string (nullable = true)\n",
      " |    |    |-- status: struct (nullable = true)\n",
      " |    |    |    |-- embeddable: boolean (nullable = true)\n",
      " |    |    |    |-- license: string (nullable = true)\n",
      " |    |    |    |-- madeForKids: boolean (nullable = true)\n",
      " |    |    |    |-- privacyStatus: string (nullable = true)\n",
      " |    |    |    |-- publicStatsViewable: boolean (nullable = true)\n",
      " |    |    |    |-- uploadStatus: string (nullable = true)\n",
      " |-- kind: string (nullable = true)\n",
      " |-- pageInfo: struct (nullable = true)\n",
      " |    |-- resultsPerPage: long (nullable = true)\n",
      " |    |-- totalResults: long (nullable = true)\n",
      "\n"
     ]
    }
   ],
   "source": [
    "df_estatisticas_videos.printSchema()"
   ]
  },
  {
   "cell_type": "code",
   "execution_count": 20,
   "metadata": {},
   "outputs": [
    {
     "name": "stdout",
     "output_type": "stream",
     "text": [
      "+---------------+-------------------+------------+------------+------------+--------------+-----------+------------------------+--------------------------------------------------------------------------------------+-------------------------------------------------------------------------------------------------------------------------------------------------------------------------------------------------------------------------------------------------------------------------------------------------------------------------------------------------------------------------------------------------------------------------------------------------------------------------------------------------------------------------------------------------------------------------------------------------------------------------------------------------------------------------------------------------------------------------------------------------------------------------------------------------------------------------------------------------------------------------------------------------------------------------------------------------------------------------------------------------------------------------------------------------------------------------------------------------------------------------------------------------------------------------------------------------------------------------------------------------------------------------------------------------------------------------------------------------------------------------------------------------------------------------------------------------------------------------------------------------------------------------------------------------------------------------------------------------------------------------------------------------------------------------------------------------------------------------------------------------------------------------------------------------------------------------------------------------------------------------------------------------------------------------------------------------------------------------------------------------------------------------------------------------------------------------------------------------------------------------------------------------------------------------------------------------------------------------------------------------------------------------------------------------------------------------------------------------------------------------------------------------------------------------------------------------------------------------------------------------------------------------------------------------------------------------------------------------------------------------------------------------------------------------------------------------------------------------------------------------------------------------------------------------------------------------------------------------------------------------------------------------------------------------------------------+----------+----------------------------------------------------------------------------------------------------------------------------------------------------------------------------------------------------------------------------------------------------------------------------------------------------------------------------------------------------------------------------------------------------------------------------------------------------------------------------------+------------+-------------------+-----------+---------------+----------+---------------------+------------------------+\n",
      "|ASSUNTO        |DATA_EXTRACAO      |ANO_EXTRACAO|MES_EXTRACAO|DIA_EXTRACAO|TURNO_EXTRACAO|ID_VIDEO   |ID_CANAL                |TITULO_VIDEO                                                                          |DESCRICAO                                                                                                                                                                                                                                                                                                                                                                                                                                                                                                                                                                                                                                                                                                                                                                                                                                                                                                                                                                                                                                                                                                                                                                                                                                                                                                                                                                                                                                                                                                                                                                                                                                                                                                                                                                                                                                                                                                                                                                                                                                                                                                                                                                                                                                                                                                                                                                                                                                                                                                                                                                                                                                                                                                                                                                                                                                                                                                                                  |DURACAO   |TAGS                                                                                                                                                                                                                                                                                                                                                                                                                                                                              |ID_CATEGORIA|TOTAL_VISUALIZACOES|TOTAL_LIKES|TOTAL_FAVORITOS|TOTAL_TAGS|TOTAL_PALAVRAS_TITULO|TOTAL_PALAVRAS_DESCRICAO|\n",
      "+---------------+-------------------+------------+------------+------------+--------------+-----------+------------------------+--------------------------------------------------------------------------------------+-------------------------------------------------------------------------------------------------------------------------------------------------------------------------------------------------------------------------------------------------------------------------------------------------------------------------------------------------------------------------------------------------------------------------------------------------------------------------------------------------------------------------------------------------------------------------------------------------------------------------------------------------------------------------------------------------------------------------------------------------------------------------------------------------------------------------------------------------------------------------------------------------------------------------------------------------------------------------------------------------------------------------------------------------------------------------------------------------------------------------------------------------------------------------------------------------------------------------------------------------------------------------------------------------------------------------------------------------------------------------------------------------------------------------------------------------------------------------------------------------------------------------------------------------------------------------------------------------------------------------------------------------------------------------------------------------------------------------------------------------------------------------------------------------------------------------------------------------------------------------------------------------------------------------------------------------------------------------------------------------------------------------------------------------------------------------------------------------------------------------------------------------------------------------------------------------------------------------------------------------------------------------------------------------------------------------------------------------------------------------------------------------------------------------------------------------------------------------------------------------------------------------------------------------------------------------------------------------------------------------------------------------------------------------------------------------------------------------------------------------------------------------------------------------------------------------------------------------------------------------------------------------------------------------------------------+----------+----------------------------------------------------------------------------------------------------------------------------------------------------------------------------------------------------------------------------------------------------------------------------------------------------------------------------------------------------------------------------------------------------------------------------------------------------------------------------------+------------+-------------------+-----------+---------------+----------+---------------------+------------------------+\n",
      "|linux          |2024-07-09 15:10:33|15          |7           |9           |Tarde         |p_vi_zrJ1dQ|UCU2ar87kwe2ZkNKB8-ctVtQ|ESQUENTA EDITAL PPAL | Informática: Sistema Operacional Linux - Prof. Lourival Kerlon.|Baixe seu material de apoio: https://objetivoconcurso.online/materiais-gratuitos-youtube/\\n\\n➡️ Assine o OBJETIVOPLAY e seja acompanhado de domingo a domingo:\\nhttps://objetivoconcurso.online/objetivo-play/\\n\\n➡️ Programas de Técnicas de Estudo e Planner diário com Lucas Neto (APROVAÇÃO METEÓRICA + ORÁCULO)\\nhttps://lucasneto.online/link-bio/\\n\\n➡️ Nos acompanhe no Instagram para mais conteúdos:\\nhttps://www.instagram.com/objetivooconcursos\\n\\n➡️ Tudo sobre o mundo dos concursos, veja agora no Objetivo News:\\nhttps://objetivoconcursos.com.br/blog\\n\\n➡️ Faça parte da nossa comunidade no Telegram:\\nhttps://t.me/+vXwZLqRrdWs3YzMx\\n\\n➡️ Nos acompanhe no tiktok para: Memes, vídeos motivacionais e tudo que rola no mundo dos concursos públicos\\nhttps://bit.ly/objerivoconcursos                                                                                                                                                                                                                                                                                                                                                                                                                                                                                                                                                                                                                                                                                                                                                                                                                                                                                                                                                                                                                                                                                                                                                                                                                                                                                                                                                                                                                                                                                                                                                                                                                                                                                                                                                                                                                                                                                                                                                                                                                                                                                                                               |PT49M34S  |null                                                                                                                                                                                                                                                                                                                                                                                                                                                                              |27          |66                 |13         |0              |0         |12                   |73                      |\n",
      "|linux          |2024-07-09 15:10:33|15          |7           |9           |Tarde         |fS3sVWPJCAw|UCuvW5NsMsbCHsXNl-PBcg6Q|Customizando Linux Mint 21!!! Mate Desktop  [Mac-OS Custom] Tema moderno.             |Vamos aprender a customizar o tema do Linux Mint Mate, com um dos melhores temas da atualidade, baseado no famoso Mac OS.\\n\\nAcesse nosso blog para conferir as melhores dicas de Linux:\\nlinuxwork.com.br\\n\\nAcesse nosso Discord:\\nhttps://discord.gg/ChF5SPVtwb\\n\\n\\nCONHEÇA O LINUX MINT ANTIGO E MODERNO!!! MATE DESKTOP É INCRÍVEL.\\nhttps://www.youtube.com/watch?v=te5hTiSVBWY\\n\\nPAGUEI R$18 PELO MAC OS!!!\\nhttps://www.youtube.com/watch?v=7Jn3uig1-4A\\n\\nLINK DO MESMO HEADSET QUE USO:\\nhttps://s.shopee.com.br/30TClQv8Yw\\n\\nLINK DO HEADSET PORÉM DE OUTRA COR:\\nhttps://s.shopee.com.br/9KNGJ7IXxr\\n\\nCONFIGURAÇÃO DO MEU PC:\\n\\nPLACA MÃE: GIGABYTE H110M\\nMEMÓRIA: 16GB RAM DDR4 2400MHZ\\nCPU: CORE I5 7500 3.8GHZ\\nSSD: KINSTON A400 240\\nSSD: GOLDENFIR 120GB\\nMONITOR AOC 21.5 G2260 FULL HD 75HZ.\\nHEADSET: B-MAX BM218 (EXCELENTE CUSTO BENEFICIO).\\n\\nForte abraço galera!!!                                                                                                                                                                                                                                                                                                                                                                                                                                                                                                                                                                                                                                                                                                                                                                                                                                                                                                                                                                                                                                                                                                                                                                                                                                                                                                                                                                                                                                                                                                                                                                                                                                                                                                                                                                                                                                                                                                                                                                                                                                       |PT24M14S  |[Como customizar Linux Mint 21 Mate, Mate Desktop, tema Mac OS para Mate Desktop]                                                                                                                                                                                                                                                                                                                                                                                                 |28          |26                 |8          |0              |3         |11                   |90                      |\n",
      "|linux          |2024-07-09 15:10:33|15          |7           |9           |Tarde         |fP3j4_OuB2Q|UCGo6_H7WxesC9FUbMrKuISg|Vulnerabilidade Crítica OpenSSH - 2024!                                               |Neste vídeo (Vulnerabilidade Crítica OpenSSH - 2024!) \\nVamos abordar uma vulnerabilidade descoberta em Julho deste ano, que permite executar comandos remotamente em seu server, caso você possua as versões afetadas do OpenSSH! \\n\\nNeste vídeo (Linux para Pentesters: Gestão de usuários e permissões!) \\nVamos abordar alguns comandos muito importantes no linux para você que deseja ingressar ou se aperfeiçar na Área de Pentest, também vamos abordar sobre as permissões do Linux! \\n\\nFontes utilizadas:\\nhttps://hostmf.com.br/central/announcements/26/Proteja-Seu-Servidor-Vulnerabilidade-Critica-no-OpenSSH-CVE-2024-6387.html\\n\\nhttps://medium.com/@souzaw/threat-hunting-cve-2024-6387-vulnerabilidade-cr%C3%ADtica-de-rce-ao-openssh-regresshion-9aaeecb7d5ba\\n\\nhttps://nvd.nist.gov/vuln/detail/CVE-2024-6387\\n\\nSe você gostou desse conteúdo dê uma olhada em nosso curso de introdução ao Pentest no link abaixo:\\nhttps://www.krakenacademy.com.br/introaopentest\\n\\n============================================================\\n🗺️ Nossos Destinos: https://linktr.ee/krakenacademy\\nCursos Online de Segurança Cibernética: Navegue pelo nosso curso de introdução ao PENTEST. Atualmente com +90 aulas voltadas para te apresentar um novo mundo cibernético.\\n\\nComunidades de Pentesters: Mergulhe nas comunidades online onde entusiastas e profissionais compartilham conhecimentos, dicas e desafios. Aprenda com as experiências de outros navegantes destemidos.\\n\\nTreinamentos Práticos: Aprenda fazendo! Explore as plataformas que oferecem ambientes práticos para aprimorar suas habilidades, proporcionando experiência prática fundamental para qualquer pentester.                                                                                                                                                                                                                                                                                                                                                                                                                                                                                                                                                                                                                                                                                                                                                                                                                                                                                                                                                                                                                                                                                                                                                                                                                       |null      |null                                                                                                                                                                                                                                                                                                                                                                                                                                                                              |28          |0                  |2          |0              |0         |5                    |160                     |\n",
      "|linux          |2024-07-09 15:10:33|15          |7           |9           |Tarde         |2B21WJO3o4g|UCpIYXOF825aX8qq77xnTCLQ|Semana da Programação Shell Linux: Aula 1                                             |Bem-vindos à abertura oficial da Semana da Programação Shell Linux, um evento imperdível para todos os entusiastas de tecnologia, profissionais de TI, e qualquer pessoa interessada em compreender o poder e a influência do Linux no mundo digital atual. Nesta primeira aula, intitulada \"Dominando o Ecossistema Linux: A Chave para o Futuro da Tecnologia\", mergulharemos profundamente no universo do software livre, explorando o ecossistema Linux em detalhes e descobrindo por que essa tecnologia é essencial para o desenvolvimento e a manutenção da infraestrutura global da internet.\\r\\n\\r\\nO que você vai aprender:\\r\\n\\r\\n➡︎ Introdução ao Software Livre: Uma visão geral sobre o que é software livre, sua filosofia, e como o Linux se encaixa nesse contexto.\\r\\n\\r\\n➡︎ A Disseminação do Linux: Entenda como o Linux evoluiu de um projeto pessoal para a espinha dorsal da infraestrutura tecnológica mundial, estando presente em servidores, dispositivos móveis, sistemas embarcados e muito mais.\\r\\n\\r\\n➡︎ Importância do Linux para Profissionais de TI: Discutiremos a relevância do domínio do Linux para profissionais de TI, abordando como essa habilidade se tornou quase uma exigência no mercado atual, onde a demanda por profissionais qualificados supera significativamente a oferta.\\r\\n\\r\\n➡︎ Carreiras e Oportunidades: Exploraremos as diversas carreiras que se beneficiam do conhecimento em Linux, desde administradores de sistema e desenvolvedores até especialistas em segurança cibernética e engenheiros de infraestrutura de nuvem.\\r\\n\\r\\nPor que participar?\\r\\n\\r\\nEsta live é uma oportunidade única para expandir seus horizontes tecnológicos, entender o papel crucial do Linux no cenário atual e futuro da TI, e como você pode se posicionar estrategicamente neste mercado em constante crescimento. Seja você um estudante, um profissional buscando aprimorar suas habilidades, ou simplesmente um curioso sobre o mundo da tecnologia, esta aula oferecerá insights valiosos e conhecimento prático para dar o próximo passo na sua carreira ou hobby.\\r\\n\\r\\nNão perca esta chance de se aprofundar no Linux e descobrir como você pode fazer parte da próxima geração de profissionais de TI preparados para enfrentar os desafios tecnológicos do futuro.\\r\\n\\r\\nNota: A live será interativa, então prepare suas perguntas! Teremos uma sessão de Q&A ao final para responder às suas dúvidas ao vivo.\\r\\n\\r\\nQuer criar transmissões ao vivo como esta? Confira o StreamYard: https://streamyard.com/pal/d/4623284954202112                                                                                                                                                                                                                                                                                                                                    |PT1H52M43S|null                                                                                                                                                                                                                                                                                                                                                                                                                                                                              |27          |518                |119        |0              |0         |7                    |352                     |\n",
      "|linux          |2024-07-09 15:10:33|15          |7           |9           |Tarde         |jD5Mg0BYQWw|UCXAph_oHxQlE7dJALrx4wBQ|Introdução ao Gerenciamento de Pacotes no Linux (Red Hat / Rocky Linux)               |Nessa aula vamos fazer uma introdução ao Gerenciamento de Pacotes no Linux (Red Hat / Rocky Linux).\\n\\nSe você tem interesse em se tornar um Especialista Linux, esse conteúdo é pra você.\\n\\nEntão não perde tempo e clica agora no botão \"Definir lembrete\" para ser avisado quando a aula começar.\\n\\n=======================================\\n\\nDÊ UM LIKE NESTE VÍDEO para me ajudar a impactar mais profissionais de TI que estão comprometidos a se tornarem melhores profissionais a cada dia.\\n\\nINSCREVA-SE NO CANAL para ser avisado sempre que sair um conteúdo relevante para você.\\n\\n=======================================\\n\\nQUER MAIS CONTEÚDO?\\n\\n👉 Acesse o site: \\nhttps://vagnerfonseca.com.br/links\\n\\n✅ Gostou do vídeo? Deixa seu like, comente e se inscreva no canal.                                                                                                                                                                                                                                                                                                                                                                                                                                                                                                                                                                                                                                                                                                                                                                                                                                                                                                                                                                                                                                                                                                                                                                                                                                                                                                                                                                                                                                                                                                                                                                                                                                                                                                                                                                                                                                                                                                                                                                                                                                                                                                                                         |P0D       |[RPM Package Manager, Red Hat Enterprise Linux, yum, rpm, gerenciamento de pacotes no linux, gerenciamento de pacotes no red hat, rocky linux, red hat, yellowdog Updater, yum linux, rpm linux, comando rpm, comando yum, comando rpm linux, comando yum linux, dnf linux, comando dnf, linux, vagner fonseca, linux admin pro, especialista linux, sysadmin linux]                                                                                                              |28          |0                  |6          |0              |22        |12                   |103                     |\n",
      "|linux          |2024-07-09 15:10:33|15          |7           |9           |Tarde         |bCpj0-z8HG8|UCkh8ofkguG5Dta9cW_1T-9A|Quando o Linux fecha a área de trabalho e aparece:hora e data, que fazer?             |#linux                                                                                                                                                                                                                                                                                                                                                                                                                                                                                                                                                                                                                                                                                                                                                                                                                                                                                                                                                                                                                                                                                                                                                                                                                                                                                                                                                                                                                                                                                                                                                                                                                                                                                                                                                                                                                                                                                                                                                                                                                                                                                                                                                                                                                                                                                                                                                                                                                                                                                                                                                                                                                                                                                                                                                                                                                                                                                                                                     |PT1M27S   |[Linux]                                                                                                                                                                                                                                                                                                                                                                                                                                                                           |22          |0                  |0          |0              |1         |14                   |1                       |\n",
      "|cities_skylines|2024-07-09 15:10:33|15          |7           |9           |Tarde         |Da0gVMTcqi8|UCCcrm5jUae68y7Z8rQTAPDw|LIVE ON JOGANDO  MTA                                                                  |config do pc\\nI5 3470\\n12 GB RAM\\n1 HD DE 1T\\nResolução : 800x600\\n\\n\\nTags Ingnorem\\n#roleplay #fivem #gtarp #mta #samp #freefire #freefireshorts #freefireindia #gtasanandreas #gta #roblox #games #brawlstars #reels #shorts #short #shortsviral #humor #loud #fluxo #244#hackergameplay \\n  #mta #mtalive #mtarp #hypemta #pcfracoliveobs #destiny #destinyrp #fugas #melhoresfugas\\n#btz #fivemdepobre#fivem #rpdefamiliatags ignorem: bmr,rp,bmr 3,gta rp,mta rp,anti rp,bmr 1,bmr 4,bmr 5,gta mta rp,five m rp,connor rp,rp mta,rp gta,ant rp,gta 5 rp,samp rp,gta sa rp,rp gta sa,delux rp,mta rp fuga,gta rp fuga,fuga gta rp,policia rp,bmr2,#bmr,bmr1,bmr3,bmr4,bmr5,gta sa mta rp,piuzinho rp,cidade alta rp,gta rp vida real,servidor de mta rp,gta mta rp dando fugafuga de... tags ignorem : favela city,favela,favela city mta,favela city camp,samuca favela city,highlight favela city,melhores momentos favela city,city,city of god,dangerous favela brazil,dangerous favela brasil,most dangerous favela brazil,favelas brazil documentary,favelacity,jagatá novela,city of god brazil,the real city of god,cities,cities:skylines,... Highlights MTA MTA RP HIGHLIGHTS qbug litefoot tripleswitch longlitefoot \\nmacrolitefoot macroqbug macrolonglitefoot macrotripleswitch highlights RP Logitech Macrologitech Highlights MTA #ticomta roi? tags ignorem: mta tactics,tactics mta,tactics,mta,n1 tactics,tactics fzk,fzk tactics,tactics frags,mta sa,fzk tactics frags,tactics highlight,mta top gta,random frags tactics,mta top-gta,fzk highlights tactics,particle mta,mata mata mta,h2k clan mta,mta hack,mta macro,mta x1,mta gz,bcg mta,pvp mta,fzk mta,feet mta,mta qbug,mta bugs,mta h1z1... mta,highlights,mta highlights,highlights mta,mta rp,mta bcg highlights,pubg highlights mta,highlight mta,highlight de mta,highlight samuca mta,samucamta highlights, bebemta, free fire mta,fivem highlights,mtarp,xl mta,dd mta,mta dd,melhores momentos mta,mta bcg,pvp mta,wild mta,1tap mta,pubg mta,mta 2021,raay mta,rayan mta,samuca mta,[wild] mta,xlteam mta,mtasa dd,mtasa cw,stealth mta,mta tactics,clan war mta,mta camp pubg mta,mta bcg,bcg,bcg mta,mta rp,mtarp,pubg mta,policia mta,mta bcg highlights,live mta,mta fivem,como tirar lag mta,mta sem lag,mta com mods,vídeo de mta,mta vida real,gameplay mta,xl mta,dup pubg mta,pvp mta,pvp bcg,mta bmr,live ao vivo mta rp,mtasa,kadu mta,fuga mta,melhores fugas mta rp,bcg fivem,xlteam mta,mta online,live de mta,mta tactics,stealth mta,bcg servidor,mta camp pubg,litefoot mta,mta litefoot, #BebeMTA\\noverdose Pack overdose GENRL Pack Genrl sombra Pack sombra MTA Pack Meu pack de MTA Pack GENRL GTA 3 Anti lag #genrl  #antlag  #antrp  #packmta gta samp gta samp Highlights melhor servidor samp mods gta melhor servidor samp #HIGHLIGHTSSAMP #SAMPHIGHLIGHTS​​​​  #SAMPHIGHLIGHTS #samponline #samplauncher\\nTranscrição|PT43M     |null                                                                                                                                                                                                                                                                                                                                                                                                                                                                              |20          |6                  |1          |0              |0         |5                    |325                     |\n",
      "|cities_skylines|2024-07-09 15:10:33|15          |7           |9           |Tarde         |8lDgDqmSsPE|UC8gD6VKEZVRfswMk7ehHe2g|CITIES SKYLINES 2 é ADIADO nos CONSOLES... 🎮 #shorts                                 |Curtiu o video de hoje? Então deixa o Like :)\\n\\n✔ SE INSCREVA NO CANAL: https://www.youtube.com/channel/UC8gD6VKEZVRfswMk7ehHe2g\\n✔ Twitter: https://twitter.com/LuizGus64773949\\n✔ Instagram: https://www.instagram.com/yt_luizgamer/\\n✔ TikTok: https://www.tiktok.com/@user733061404\\n\\nClique no Like =)\\n\\n#shorts                                                                                                                                                                                                                                                                                                                                                                                                                                                                                                                                                                                                                                                                                                                                                                                                                                                                                                                                                                                                                                                                                                                                                                                                                                                                                                                                                                                                                                                                                                                                                                                                                                                                                                                                                                                                                                                                                                                                                                                                                                                                                                                                                                                                                                                                                                                                                                                                                                                                                                                                                                                                                   |PT1M1S    |[luizgamer, shorts, shorts do cities skylines 2, cities skylines 2 shorts, ign, ign brasil, central, vlog, gamervlog, noticias, noticia sobre os games, flow games, cortes do flow games, cortes da davy jones, Cities Skylines 2 é adiado nos consoles, Cities Skylines 2, Cities Skylines, lipaogamer, gameplayrj, brksedu, m2games, montalvao, dmenor11, hayashii, zangado, funky, tapgameplay, playhard, authenticgames, alanzoka, consolesesjogosbrasil, console, mobile, pc]|20          |2                  |2          |0              |34        |9                    |24                      |\n",
      "+---------------+-------------------+------------+------------+------------+--------------+-----------+------------------------+--------------------------------------------------------------------------------------+-------------------------------------------------------------------------------------------------------------------------------------------------------------------------------------------------------------------------------------------------------------------------------------------------------------------------------------------------------------------------------------------------------------------------------------------------------------------------------------------------------------------------------------------------------------------------------------------------------------------------------------------------------------------------------------------------------------------------------------------------------------------------------------------------------------------------------------------------------------------------------------------------------------------------------------------------------------------------------------------------------------------------------------------------------------------------------------------------------------------------------------------------------------------------------------------------------------------------------------------------------------------------------------------------------------------------------------------------------------------------------------------------------------------------------------------------------------------------------------------------------------------------------------------------------------------------------------------------------------------------------------------------------------------------------------------------------------------------------------------------------------------------------------------------------------------------------------------------------------------------------------------------------------------------------------------------------------------------------------------------------------------------------------------------------------------------------------------------------------------------------------------------------------------------------------------------------------------------------------------------------------------------------------------------------------------------------------------------------------------------------------------------------------------------------------------------------------------------------------------------------------------------------------------------------------------------------------------------------------------------------------------------------------------------------------------------------------------------------------------------------------------------------------------------------------------------------------------------------------------------------------------------------------------------------------------+----------+----------------------------------------------------------------------------------------------------------------------------------------------------------------------------------------------------------------------------------------------------------------------------------------------------------------------------------------------------------------------------------------------------------------------------------------------------------------------------------+------------+-------------------+-----------+---------------+----------+---------------------+------------------------+\n",
      "\n"
     ]
    }
   ],
   "source": [
    "df_teste = df_estatisticas_videos.select('data_extracao', 'assunto', F.explode('items').alias('items')) \\\n",
    "    .select(\n",
    "        F.col('assunto').alias('ASSUNTO'),\n",
    "        F.col('data_extracao').alias('DATA_EXTRACAO'),\n",
    "        F.hour('data_extracao').alias('ANO_EXTRACAO'),\n",
    "        F.month('data_extracao').alias('MES_EXTRACAO'),\n",
    "        F.dayofmonth('data_extracao').alias('DIA_EXTRACAO'),\n",
    "        obter_turno(F.col('data_extracao')).alias('TURNO_EXTRACAO'),\n",
    "        F.col('items.id').alias('ID_VIDEO'),\n",
    "        F.col('items.snippet.channelId').alias('ID_CANAL'),\n",
    "        F.col('items.snippet.title').alias('TITULO_VIDEO'),\n",
    "        F.col('items.snippet.description').alias('DESCRICAO'),\n",
    "        F.col('items.contentDetails.duration').alias('DURACAO'),\n",
    "        F.col('items.snippet.tags').alias('TAGS'),\n",
    "        \n",
    "        F.col('items.snippet.categoryid').alias('ID_CATEGORIA'),\n",
    "        F.col('items.statistics.viewCount').alias('TOTAL_VISUALIZACOES'),\n",
    "        F.col('items.statistics.likeCount').alias('TOTAL_LIKES'),\n",
    "        F.col('items.statistics.favoriteCount').alias('TOTAL_FAVORITOS'),\n",
    "    )\n",
    "df_teste = df_teste.withColumn('TOTAL_TAGS', F.when(\n",
    "    F.size(df_teste.TAGS) <= 0, 0).otherwise(F.size(df_teste.TAGS)))\n",
    "df_teste = df_teste.withColumn('TOTAL_PALAVRAS_TITULO', F.size(F.split(df_teste.TITULO_VIDEO, \" \")))\n",
    "df_teste = df_teste.withColumn(\n",
    "    'TOTAL_PALAVRAS_DESCRICAO', F.size(F.split(df_teste.DESCRICAO, \" \")))\n",
    "df_teste.show(truncate=False)"
   ]
  },
  {
   "cell_type": "code",
   "execution_count": 19,
   "metadata": {},
   "outputs": [],
   "source": [
    "spark.stop()"
   ]
  },
  {
   "cell_type": "code",
   "execution_count": 22,
   "metadata": {},
   "outputs": [],
   "source": [
    "import pandas as pd"
   ]
  },
  {
   "cell_type": "code",
   "execution_count": 25,
   "metadata": {},
   "outputs": [
    {
     "data": {
      "text/html": [
       "<div>\n",
       "<style scoped>\n",
       "    .dataframe tbody tr th:only-of-type {\n",
       "        vertical-align: middle;\n",
       "    }\n",
       "\n",
       "    .dataframe tbody tr th {\n",
       "        vertical-align: top;\n",
       "    }\n",
       "\n",
       "    .dataframe thead th {\n",
       "        text-align: right;\n",
       "    }\n",
       "</style>\n",
       "<table border=\"1\" class=\"dataframe\">\n",
       "  <thead>\n",
       "    <tr style=\"text-align: right;\">\n",
       "      <th></th>\n",
       "      <th>ASSUNTO</th>\n",
       "      <th>DATA_EXTRACAO</th>\n",
       "      <th>ANO_EXTRACAO</th>\n",
       "      <th>MES_EXTRACAO</th>\n",
       "      <th>DIA_EXTRACAO</th>\n",
       "      <th>TURNO_EXTRACAO</th>\n",
       "      <th>ID_VIDEO</th>\n",
       "      <th>ID_CANAL</th>\n",
       "      <th>TITULO_VIDEO</th>\n",
       "      <th>DESCRICAO</th>\n",
       "      <th>DURACAO</th>\n",
       "      <th>TAGS</th>\n",
       "      <th>ID_CATEGORIA</th>\n",
       "      <th>TOTAL_VISUALIZACOES</th>\n",
       "      <th>TOTAL_LIKES</th>\n",
       "      <th>TOTAL_FAVORITOS</th>\n",
       "      <th>TOTAL_TAGS</th>\n",
       "      <th>TOTAL_PALAVRAS_TITULO</th>\n",
       "      <th>TOTAL_PALAVRAS_DESCRICAO</th>\n",
       "    </tr>\n",
       "  </thead>\n",
       "  <tbody>\n",
       "    <tr>\n",
       "      <th>0</th>\n",
       "      <td>cities_skylines</td>\n",
       "      <td>2024-07-09 21:34:11</td>\n",
       "      <td>2024</td>\n",
       "      <td>7</td>\n",
       "      <td>9</td>\n",
       "      <td>Noite</td>\n",
       "      <td>Da0gVMTcqi8</td>\n",
       "      <td>UCCcrm5jUae68y7Z8rQTAPDw</td>\n",
       "      <td>LIVE ON JOGANDO  MTA</td>\n",
       "      <td>config do pc\\nI5 3470\\n12 GB RAM\\n1 HD DE 1T\\n...</td>\n",
       "      <td>PT43M</td>\n",
       "      <td>None</td>\n",
       "      <td>20</td>\n",
       "      <td>18</td>\n",
       "      <td>2</td>\n",
       "      <td>0</td>\n",
       "      <td>0</td>\n",
       "      <td>5</td>\n",
       "      <td>325</td>\n",
       "    </tr>\n",
       "  </tbody>\n",
       "</table>\n",
       "</div>"
      ],
      "text/plain": [
       "           ASSUNTO        DATA_EXTRACAO  ANO_EXTRACAO  MES_EXTRACAO  \\\n",
       "0  cities_skylines  2024-07-09 21:34:11          2024             7   \n",
       "\n",
       "   DIA_EXTRACAO TURNO_EXTRACAO     ID_VIDEO                  ID_CANAL  \\\n",
       "0             9          Noite  Da0gVMTcqi8  UCCcrm5jUae68y7Z8rQTAPDw   \n",
       "\n",
       "           TITULO_VIDEO                                          DESCRICAO  \\\n",
       "0  LIVE ON JOGANDO  MTA  config do pc\\nI5 3470\\n12 GB RAM\\n1 HD DE 1T\\n...   \n",
       "\n",
       "  DURACAO  TAGS ID_CATEGORIA TOTAL_VISUALIZACOES TOTAL_LIKES TOTAL_FAVORITOS  \\\n",
       "0   PT43M  None           20                  18           2               0   \n",
       "\n",
       "   TOTAL_TAGS  TOTAL_PALAVRAS_TITULO  TOTAL_PALAVRAS_DESCRICAO  \n",
       "0           0                      5                       325  "
      ]
     },
     "execution_count": 25,
     "metadata": {},
     "output_type": "execute_result"
    }
   ],
   "source": [
    "df_parquet = pd.read_parquet('/home/rodrigo/Documentos/projetos/analise_dados_youtube_segunda_versao/datalake/prata/estatisticas_videos/estatisticas_videos.parquet/ASSUNTO=cities_skylines/ANO_EXTRACAO=2024/MES_EXTRACAO=7/DIA_EXTRACAO=9/TURNO_EXTRACAO=Noite/ID_CANAL=UCCcrm5jUae68y7Z8rQTAPDw/ID_VIDEO=Da0gVMTcqi8/data_0.parquet')\n",
    "df_parquet"
   ]
  }
 ],
 "metadata": {
  "kernelspec": {
   "display_name": "venv",
   "language": "python",
   "name": "python3"
  },
  "language_info": {
   "codemirror_mode": {
    "name": "ipython",
    "version": 3
   },
   "file_extension": ".py",
   "mimetype": "text/x-python",
   "name": "python",
   "nbconvert_exporter": "python",
   "pygments_lexer": "ipython3",
   "version": "3.10.14"
  }
 },
 "nbformat": 4,
 "nbformat_minor": 2
}

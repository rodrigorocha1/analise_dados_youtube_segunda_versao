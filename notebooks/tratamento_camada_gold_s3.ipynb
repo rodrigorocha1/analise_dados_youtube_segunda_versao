{
 "cells": [
  {
   "cell_type": "code",
   "execution_count": 6,
   "metadata": {},
   "outputs": [],
   "source": [
    "from pyspark.sql import SparkSession, DataFrame\n",
    "import pyspark.sql.functions as f\n",
    "from pyspark.sql.window import Window\n",
    "from isodate import parse_duration\n",
    "import pyspark.sql.types as t\n",
    "from typing import Tuple, List\n",
    "import os"
   ]
  },
  {
   "cell_type": "code",
   "execution_count": 7,
   "metadata": {},
   "outputs": [],
   "source": [
    "@f.udf(returnType=t.FloatType())\n",
    "def converter_minutos(tempo: str) -> float:\n",
    "    \"\"\"Converte para o total de seguntos\n",
    "\n",
    "    Args:\n",
    "        tempo (str): tempo\n",
    "\n",
    "    Returns:\n",
    "        int: total segundos\n",
    "    \"\"\"\n",
    "    duracao = parse_duration(tempo)\n",
    "    total_segundos = duracao.total_seconds() \n",
    "    total_minutos = total_segundos / 60\n",
    "   \n",
    "    return round(total_minutos, 2)\n"
   ]
  },
  {
   "cell_type": "code",
   "execution_count": 8,
   "metadata": {},
   "outputs": [],
   "source": [
    "spark = (\n",
    "    SparkSession.builder\n",
    "    .appName('tratamento_camada_ouro')\n",
    "    .config(\"spark.hadoop.fs.s3a.endpoint\", \"http://192.168.0.112:9001\") \n",
    "    .config(\"spark.hadoop.fs.s3a.access.key\", \"GyRUCHFyONKd4BSb9dbS\") \n",
    "    .config(\"spark.hadoop.fs.s3a.secret.key\", \"KZuHsceRBf2UrNWQWmoa444S1w6HJwJpVRrKEijD\") \n",
    "    .config(\"spark.hadoop.fs.s3a.path.style.access\", True)\n",
    "    .getOrCreate()\n",
    ")"
   ]
  },
  {
   "cell_type": "code",
   "execution_count": 9,
   "metadata": {},
   "outputs": [],
   "source": [
    "def carregar_dataframe_prata(spark_session : SparkSession, assunto: str, metrica: str = None):\n",
    "    if metrica is not None:\n",
    "        df_cities_skylines = spark_session \\\n",
    "            .read \\\n",
    "                .parquet(f'/home/rodrigo/projetos/analise_dados_youtube/data/dados_youtube/prata/{assunto}/extracao_data_*/{metrica}/*.parquet')\n",
    "    else:\n",
    "        df_cities_skylines = spark_session \\\n",
    "            .read \\\n",
    "                .parquet(f'/home/rodrigo/projetos/analise_dados_youtube/data/dados_youtube/prata/{assunto}/extracao_data_*/*.parquet')\n",
    "    return df_cities_skylines"
   ]
  },
  {
   "cell_type": "code",
   "execution_count": 21,
   "metadata": {},
   "outputs": [],
   "source": [
    "def criar_particao_ouro(dataframe: DataFrame, assunto_pesquisa: str, metrica: str,  nome_arquivo: str, colunas_particao: Tuple = None ):\n",
    "    caminho_datalake_ouro = 's3a://youtubedatalake:/ouro'\n",
    "    caminho_completo = f'{caminho_datalake_ouro}/{assunto_pesquisa}/{metrica}/{nome_arquivo}'\n",
    "    if colunas_particao == None:\n",
    "        dataframe.write. \\\n",
    "            parquet(caminho_completo)\n",
    "    else: \n",
    "        if isinstance(colunas_particao, Tuple) :\n",
    "            dataframe.write. \\\n",
    "                partitionBy(*colunas_particao). \\\n",
    "                parquet(caminho_completo)\n",
    "        else:\n",
    "            dataframe.write. \\\n",
    "                partitionBy(colunas_particao). \\\n",
    "                parquet(caminho_completo)\n"
   ]
  },
  {
   "cell_type": "code",
   "execution_count": 11,
   "metadata": {},
   "outputs": [],
   "source": [
    "def transformacao_dataframe(dataframe_transform: DataFrame):\n",
    "    dataframe_transform = dataframe_transform.select(\n",
    "        'data_extracao',\n",
    "        f.explode('DATA_PUBLICACAO').alias('DATA_PUBLICACAO'),\n",
    "        'ID_CANAL',\n",
    "        'NM_CANAL',\n",
    "        'ID_CATEGORIA',\n",
    "        'ID_VIDEO',\n",
    "        'TITULO_VIDEO',\n",
    "        'DESCRICAO',\n",
    "        'TAGS',\n",
    "        'DURACAO_VIDEOS',\n",
    "        'TOTAL_VISUALIZACOES',\n",
    "        'TOTAL_LIKES',\n",
    "        'TOTAL_FAVORITOS',\n",
    "        'TOTAL_COMENTARIOS',\n",
    "        \n",
    "     ).select(\n",
    "                'data_extracao',\n",
    "                'DATA_PUBLICACAO',\n",
    "                f.explode('ID_CANAL').alias('ID_CANAL'),\n",
    "                'NM_CANAL',\n",
    "                'ID_CATEGORIA',\n",
    "                'ID_VIDEO',\n",
    "                'TITULO_VIDEO',\n",
    "                'DESCRICAO',\n",
    "                'TAGS',\n",
    "                'DURACAO_VIDEOS',\n",
    "                'TOTAL_VISUALIZACOES',\n",
    "                'TOTAL_LIKES',\n",
    "                'TOTAL_FAVORITOS',\n",
    "                'TOTAL_COMENTARIOS',\n",
    "        ).select(\n",
    "                'data_extracao',\n",
    "                'DATA_PUBLICACAO',\n",
    "                'ID_CANAL',\n",
    "                f.explode('NM_CANAL').alias('NM_CANAL'), \n",
    "                'ID_CATEGORIA',\n",
    "                'ID_VIDEO',\n",
    "                'TITULO_VIDEO',\n",
    "                'DESCRICAO',\n",
    "                'TAGS',\n",
    "                'DURACAO_VIDEOS',\n",
    "                'TOTAL_VISUALIZACOES',\n",
    "                'TOTAL_LIKES',\n",
    "                'TOTAL_FAVORITOS',\n",
    "                'TOTAL_COMENTARIOS',\n",
    "        ).select(\n",
    "                'data_extracao',\n",
    "                'DATA_PUBLICACAO',\n",
    "                'ID_CANAL',\n",
    "                'NM_CANAL',\n",
    "                f.explode('ID_CATEGORIA').alias('ID_CATEGORIA'),\n",
    "                'ID_VIDEO',\n",
    "                'TITULO_VIDEO',\n",
    "                'DESCRICAO',\n",
    "                'TAGS',\n",
    "                'DURACAO_VIDEOS',\n",
    "                'TOTAL_VISUALIZACOES',\n",
    "                'TOTAL_LIKES',\n",
    "                'TOTAL_FAVORITOS',\n",
    "                'TOTAL_COMENTARIOS',\n",
    "        ).select(\n",
    "                'data_extracao',\n",
    "                'DATA_PUBLICACAO',\n",
    "                'ID_CANAL',\n",
    "                'NM_CANAL',\n",
    "                'ID_CATEGORIA',\n",
    "                f.explode('ID_VIDEO').alias('ID_VIDEO'),\n",
    "                'TITULO_VIDEO',\n",
    "                'DESCRICAO',\n",
    "                'TAGS',\n",
    "                'DURACAO_VIDEOS',\n",
    "                'TOTAL_VISUALIZACOES',\n",
    "                'TOTAL_LIKES',\n",
    "                'TOTAL_FAVORITOS',\n",
    "                'TOTAL_COMENTARIOS',\n",
    "        ).select(\n",
    "                'data_extracao',\n",
    "                'DATA_PUBLICACAO',\n",
    "                'ID_CANAL',\n",
    "                'NM_CANAL',\n",
    "                'ID_CATEGORIA',\n",
    "                'ID_VIDEO',\n",
    "                f.explode('TITULO_VIDEO').alias('TITULO_VIDEO'),\n",
    "                'DESCRICAO',\n",
    "                'TAGS',\n",
    "                'DURACAO_VIDEOS',\n",
    "                'TOTAL_VISUALIZACOES',\n",
    "                'TOTAL_LIKES',\n",
    "                'TOTAL_FAVORITOS',\n",
    "                'TOTAL_COMENTARIOS',\n",
    "        ).select(\n",
    "                'data_extracao',\n",
    "                'DATA_PUBLICACAO',\n",
    "                'ID_CANAL',\n",
    "                'NM_CANAL',\n",
    "                'ID_CATEGORIA',\n",
    "                'TITULO_VIDEO',\n",
    "                'ID_VIDEO',\n",
    "                f.explode('DESCRICAO').alias('DESCRICAO'),\n",
    "                'TAGS',\n",
    "                'DURACAO_VIDEOS',\n",
    "                'TOTAL_VISUALIZACOES',\n",
    "                'TOTAL_LIKES',\n",
    "                'TOTAL_FAVORITOS',\n",
    "                'TOTAL_COMENTARIOS',\n",
    "        ).select(\n",
    "                'data_extracao',\n",
    "                'DATA_PUBLICACAO',\n",
    "                'ID_CANAL',\n",
    "                'NM_CANAL',\n",
    "                'ID_CATEGORIA',\n",
    "                'ID_VIDEO',\n",
    "                'TITULO_VIDEO',\n",
    "                'DESCRICAO',\n",
    "                f.explode('TAGS').alias('TAGS'),\n",
    "                'DURACAO_VIDEOS',\n",
    "                'TOTAL_VISUALIZACOES',\n",
    "                'TOTAL_LIKES',\n",
    "                'TOTAL_FAVORITOS',\n",
    "                'TOTAL_COMENTARIOS',\n",
    "        ).select(\n",
    "                'data_extracao',\n",
    "                'DATA_PUBLICACAO',\n",
    "                'ID_CANAL',\n",
    "                'NM_CANAL',\n",
    "                'ID_CATEGORIA',\n",
    "                'ID_VIDEO',\n",
    "                'TITULO_VIDEO',\n",
    "                'DESCRICAO',\n",
    "                'TAGS',\n",
    "                f.explode('DURACAO_VIDEOS').alias('DURACAO_VIDEOS'),\n",
    "                'TOTAL_VISUALIZACOES',\n",
    "                'TOTAL_LIKES',\n",
    "                'TOTAL_FAVORITOS',\n",
    "                'TOTAL_COMENTARIOS',\n",
    "        ).select(\n",
    "                'data_extracao',\n",
    "                'DATA_PUBLICACAO',\n",
    "                'ID_CANAL',\n",
    "                'NM_CANAL',\n",
    "                'ID_CATEGORIA',\n",
    "                'ID_VIDEO',\n",
    "                'TITULO_VIDEO',\n",
    "                'DESCRICAO',\n",
    "                'TAGS',\n",
    "                'DURACAO_VIDEOS',\n",
    "                f.explode('TOTAL_VISUALIZACOES').alias('TOTAL_VISUALIZACOES'),\n",
    "                'TOTAL_LIKES',\n",
    "                'TOTAL_FAVORITOS',\n",
    "                'TOTAL_COMENTARIOS',\n",
    "        ).select(\n",
    "                'data_extracao',\n",
    "                'DATA_PUBLICACAO',\n",
    "                'ID_CANAL',\n",
    "                'NM_CANAL',\n",
    "                'ID_CATEGORIA',\n",
    "                'ID_VIDEO',\n",
    "                'TITULO_VIDEO',\n",
    "                'DESCRICAO',\n",
    "                'TAGS',\n",
    "                'DURACAO_VIDEOS',\n",
    "                'TOTAL_VISUALIZACOES',\n",
    "                f.explode('TOTAL_LIKES').alias('TOTAL_LIKES'),\n",
    "                'TOTAL_FAVORITOS',\n",
    "                'TOTAL_COMENTARIOS',\n",
    "        ).select(\n",
    "                'data_extracao',\n",
    "                'DATA_PUBLICACAO',\n",
    "                'ID_CANAL',\n",
    "                'NM_CANAL',\n",
    "                'ID_CATEGORIA',\n",
    "                'ID_VIDEO',\n",
    "                'TITULO_VIDEO',\n",
    "                'DESCRICAO',\n",
    "                'TAGS',\n",
    "                'DURACAO_VIDEOS',\n",
    "                'TOTAL_VISUALIZACOES',\n",
    "                'TOTAL_LIKES',\n",
    "                f.explode('TOTAL_FAVORITOS').alias('TOTAL_FAVORITOS'),\n",
    "                'TOTAL_COMENTARIOS',\n",
    "        ).select(\n",
    "                'data_extracao',\n",
    "                'DATA_PUBLICACAO',\n",
    "                'ID_CANAL',\n",
    "                'NM_CANAL',\n",
    "                'ID_CATEGORIA',\n",
    "                'ID_VIDEO',\n",
    "                'TITULO_VIDEO',\n",
    "                'DESCRICAO',\n",
    "                'TAGS',\n",
    "                'DURACAO_VIDEOS',\n",
    "                'TOTAL_VISUALIZACOES',\n",
    "                'TOTAL_LIKES',\n",
    "                'TOTAL_FAVORITOS',\n",
    "                f.explode('TOTAL_COMENTARIOS').alias('TOTAL_COMENTARIOS'),\n",
    "        )\n",
    "    dataframe_transform  = dataframe_transform.na.drop('all')\n",
    "    dataframe_transform = dataframe_transform.withColumn(\"data_hora_extracao\", f.col('data_extracao'))\n",
    "    dataframe_transform = dataframe_transform.withColumn(\"data_extracao\", f.date_format(f.unix_timestamp(\"data_extracao\", \"yyyy-MM-dd HH:mm:ss\").cast(\"timestamp\"), \"yyyy-MM-dd\" ))\n",
    "    dataframe_transform = dataframe_transform.withColumn('DURACAO_VIDEO_MINUTOS', converter_minutos(f.col('DURACAO_VIDEOS')))\n",
    "    dataframe_transform = dataframe_transform.withColumn('TOTAL_VISUALIZACOES', f.col('TOTAL_VISUALIZACOES').cast('int'))\n",
    "    dataframe_transform = dataframe_transform.withColumn('TOTAL_LIKES', f.col('TOTAL_LIKES').cast('int'))\n",
    "    dataframe_transform = dataframe_transform.withColumn('TOTAL_FAVORITOS', f.col('TOTAL_FAVORITOS').cast('int'))\n",
    "    dataframe_transform = dataframe_transform.withColumn('TOTAL_COMENTARIOS', f.col('TOTAL_COMENTARIOS').cast('int'))\n",
    "    dataframe_transform = dataframe_transform.withColumn('TOTAL_CARACTERE_VIDEO', f.length('TITULO_VIDEO'))\n",
    "    dataframe_transform = dataframe_transform.withColumn('TOTAL_TAGS', f.when(f.size('TAGS') > 0, f.size('TAGS')).otherwise(0))\n",
    "    dataframe_transform = dataframe_transform.withColumn('HORA_EXTRACAO', f.hour(\"data_hora_extracao\"))\n",
    "    dataframe_transform = dataframe_transform.withColumn(\n",
    "        'TURNO_EXTRACAO',\n",
    "        (\n",
    "            f.when(\n",
    "                (dataframe_transform.HORA_EXTRACAO >=6) & (dataframe_transform.HORA_EXTRACAO < 12), 'Manhã')\n",
    "            .when((dataframe_transform.HORA_EXTRACAO >= 12) & (dataframe_transform.HORA_EXTRACAO < 18), 'Tarde')\n",
    "            .otherwise('Noite')\n",
    "        )\n",
    "    )\n",
    "    dataframe_transform = dataframe_transform.withColumn(\n",
    "        'INDICE_TURNO_EXTRACAO',\n",
    "        (\n",
    "            f.when(\n",
    "                (dataframe_transform.TURNO_EXTRACAO == 'Manhã'), 1)\n",
    "            .when((dataframe_transform.TURNO_EXTRACAO == 'Tarde'), 2)\n",
    "            .otherwise(3)\n",
    "        )\n",
    "    )\n",
    "    return dataframe_transform\n",
    "  "
   ]
  },
  {
   "cell_type": "code",
   "execution_count": 12,
   "metadata": {},
   "outputs": [],
   "source": [
    "@f.udf(returnType=t.StringType())\n",
    "def traduzir_dia_da_semana(dia):\n",
    "    traducao = {\n",
    "        'Sunday': 'Domingo',\n",
    "        'Monday': 'Segunda-feira',\n",
    "        'Tuesday': 'Terça-feira',\n",
    "        'Wednesday': 'Quarta-feira',\n",
    "        'Thursday': 'Quinta-feira',\n",
    "        'Friday': 'Sexta-feira',\n",
    "        'Saturday': 'Sábado'\n",
    "    }\n",
    "    return traducao.get(dia, dia)"
   ]
  },
  {
   "cell_type": "code",
   "execution_count": 13,
   "metadata": {},
   "outputs": [],
   "source": [
    "@f.udf(returnType=t.IntegerType())\n",
    "def indice_semana(dia):\n",
    "    traducao = {\n",
    "        'Domingo': 1,\n",
    "        'Segunda-feira': 2,\n",
    "        'Terça-feira': 3,\n",
    "        'Quarta-feira': 4,\n",
    "        'Quinta-feira': 5,\n",
    "        'Sexta-feira': 6,\n",
    "        'Sábado': 7\n",
    "    }\n",
    "    return traducao.get(dia, dia)"
   ]
  },
  {
   "cell_type": "code",
   "execution_count": 14,
   "metadata": {},
   "outputs": [
    {
     "name": "stderr",
     "output_type": "stream",
     "text": [
      "[Stage 1:>                                                          (0 + 1) / 1]\r"
     ]
    },
    {
     "name": "stdout",
     "output_type": "stream",
     "text": [
      "+-------------------+-------------+--------------------+--------------------+--------------------+------------+--------------------+--------------------+--------------------+--------------+-------------------+-----------+---------------+-----------------+\n",
      "|      data_extracao|     ID_VIDEO|     DATA_PUBLICACAO|            ID_CANAL|            NM_CANAL|ID_CATEGORIA|        TITULO_VIDEO|           DESCRICAO|                TAGS|DURACAO_VIDEOS|TOTAL_VISUALIZACOES|TOTAL_LIKES|TOTAL_FAVORITOS|TOTAL_COMENTARIOS|\n",
      "+-------------------+-------------+--------------------+--------------------+--------------------+------------+--------------------+--------------------+--------------------+--------------+-------------------+-----------+---------------+-----------------+\n",
      "|               null|         null|                null|                null|                null|        null|                null|                null|                null|          null|               null|       null|           null|             null|\n",
      "|2023-10-27 08:15:16|[ozbFzsakdGw]|[2023-10-24T00:50...|[UCNv3_KHnWEzLc3B...|   [Quinto Controle]|        [24]|[Quinto Controle ...|[Quinto Controle ...|              [null]|  [PT2H23M38S]|               [29]|        [7]|            [0]|              [1]|\n",
      "|2023-10-27 08:15:17|[lswkJnLdvHU]|[2023-10-22T17:00...|[UCOe_x5ararWwWaj...|      [O Veio Games]|        [20]|[🎮 Imagina se dá...|[Vídeo Completo e...|[[review, gamepla...|        [PT1M]|             [2411]|       [84]|            [0]|              [0]|\n",
      "|2023-10-27 08:15:17|[mfCGsYnClDU]|[2023-10-19T14:24...|[UCrOH1V-FyMunBIM...|   [ChratosGameplay]|        [20]|[CITIES SKYLINES ...|[LIVE SEG-SEX: ht...|              [null]|         [P0D]|                [0]|      [149]|            [0]|              [0]|\n",
      "|2023-10-27 08:15:17|[C1s-hsI9JaY]|[2023-10-21T14:30...|[UCDGo_s0I-2JpO3o...|        [Simularies]|        [20]|[🏙️ PRIMEIRO BAI...|[⭐ Fala galera, b...|[[simularies, cit...|     [PT51M4S]|             [6667]|      [707]|            [0]|             [45]|\n",
      "|2023-10-27 08:15:17|[my8vZ-tMzVs]|[2023-10-18T14:24...|[UColWqaBtRa6AEyD...|             [MONTE]|        [20]|[MONTEZINHOSO MTA...|[----------------...|[[gta rp, mta, gt...|       [PT48S]|              [104]|        [7]|            [0]|              [9]|\n",
      "|2023-10-27 08:15:17|[EMJho5TI26w]|[2023-10-16T15:31...|[UCvEj9EurcC8q5hk...|              [Sr L]|        [20]|[HOTEIS DE L City...|                  []|[[#shorts, #citie...|       [PT58S]|               [26]|        [2]|            [0]|              [1]|\n",
      "|2023-10-27 08:15:17|[Nfd7IGFBEhM]|[2023-10-25T21:00...|[UCn7w7H6jL0G3TNp...|[Lives do IVDMALUCO]|        [20]|[CITIES SKYLINES:...|[Salve esse é o J...|[[cities skylines...|  [PT1H56M28S]|               [28]|        [2]|            [0]|              [1]|\n",
      "|2023-10-27 08:15:17|[8p7ulXmubg8]|[2023-10-16T16:00...|[UCOYJm7BsLV8VCkW...|[Lucas gameplays ...|        [24]|[Cities Skylines ...|[garagem personal...|[[euro truck 2, l...|    [PT17M35S]|               [71]|        [2]|            [0]|              [0]|\n",
      "|2023-10-27 08:15:17|[rCwCKTDaoV8]|[2023-10-26T14:09...|[UCmCavIluxnSwtPR...|     [TTauros Gamer]|        [20]|[Cities: Skylines...|[Começando hoje u...|[[citiesskylines2...|     [PT24M7S]|              [106]|       [22]|            [0]|              [7]|\n",
      "|2023-10-27 08:15:17|[ANa7la0wqNc]|[2023-10-19T16:00...|[UCrUcdH_bCfX77xp...|     [Canal do Void]|        [20]|[A Volta do Melho...|[★Série Completa:...|[[Cities Skylines...|    [PT35M36S]|            [21630]|     [2673]|            [0]|             [97]|\n",
      "|2023-10-27 08:15:18|[tpBDkZWDK3o]|[2023-10-19T19:00...|[UCp7gzkfbWE7jazP...|    [Ganso GamePlay]|        [20]|[Como Fazer Estac...|[Saaalve Saalveee...|[[cities skylines...|    [PT13M25S]|              [566]|       [22]|            [0]|              [0]|\n",
      "|2023-10-27 08:15:18|[rWncF2wcFWs]|[2023-10-19T20:51...|[UCoBbeu5bEvrJJDC...|          [Bruuninz]|        [20]|[#47 ( MTA Highli...|[Iluminado Por De...|              [null]|     [PT1M11S]|              [384]|       [31]|            [0]|              [9]|\n",
      "|2023-10-27 08:15:18|[YKCXBP9dZso]|[2023-10-22T04:05...|[UCDGo_s0I-2JpO3o...|        [Simularies]|        [20]|[🏙️ Papeando e t...|[⭐ Fala galera, b...|[[simularies, cit...|  [PT4H24M41S]|             [4766]|      [388]|            [0]|              [4]|\n",
      "|2023-10-27 08:15:18|[Z5JT2QG6vEI]|[2023-10-25T16:55...|[UCEZ12_9vkxdT1Bu...|             [GxTec]|        [20]|[COMO BAIXAR CITI...|[Vá até a steam\\n...|[[Cities Skylines...|       [PT13S]|               [85]|        [2]|            [0]|              [1]|\n",
      "|2023-10-27 08:15:18|[6RgEh-9KAgY]|[2023-10-25T15:07...|[UCrOH1V-FyMunBIM...|   [ChratosGameplay]|        [20]|[PREFEITURA E PRE...|[Nossa PRIMEIRA C...|[[cities skylines...|    [PT26M53S]|            [41271]|     [5455]|            [0]|            [218]|\n",
      "|2023-10-27 08:15:18|[MEafMxF9AHc]|[2023-10-26T18:25...|[UCayiH2Y5JBEOSub...|  [Lives do Chratos]|        [20]|[Nosso novo DISTR...|[Leia a descrição...|[[Chratos, Chrato...|   [PT1H7M49S]|             [3410]|      [225]|            [0]|             [10]|\n",
      "|2023-10-27 08:15:18|[M34bccK5G1U]|[2023-10-15T23:30...|[UC7v51W2NoLFawiz...|[CANAL HAND - GAM...|        [20]|[CITIES SKYLINES ...|[- AJUDE O CANAL ...|[[cities skylines...|   [PT3H55M5S]|               [44]|        [4]|            [0]|              [1]|\n",
      "|2023-10-27 08:15:18|[V_d6T_UKRDg]|[2023-10-24T15:41...|[UCrOH1V-FyMunBIM...|   [ChratosGameplay]|        [20]|[CITIES SKYLINES ...|[LIVE SEG-SEX: ht...|              [null]|         [P0D]|                [0]|       [51]|            [0]|              [0]|\n",
      "|2023-10-27 08:15:18|[gYl77Ot9oDU]|[2023-10-21T13:45...|[UCCe4Be21OPPltTT...|         [Octopolis]|        [20]|[ESTÁDIO Moderno ...|[Hoje faço o está...|[[cities skylines...|    [PT36M29S]|             [3155]|      [493]|            [0]|             [71]|\n",
      "+-------------------+-------------+--------------------+--------------------+--------------------+------------+--------------------+--------------------+--------------------+--------------+-------------------+-----------+---------------+-----------------+\n",
      "only showing top 20 rows\n",
      "\n"
     ]
    },
    {
     "name": "stderr",
     "output_type": "stream",
     "text": [
      "                                                                                \r"
     ]
    }
   ],
   "source": [
    "df_estatisticas_teste = carregar_dataframe_prata(spark_session=spark, assunto='assunto_cities_skylines', metrica='estatisticas')\n",
    "df_estatisticas_teste.show()"
   ]
  },
  {
   "cell_type": "code",
   "execution_count": 15,
   "metadata": {},
   "outputs": [
    {
     "name": "stderr",
     "output_type": "stream",
     "text": [
      "[Stage 3:>                                                          (0 + 1) / 1]\r"
     ]
    },
    {
     "name": "stdout",
     "output_type": "stream",
     "text": [
      "+-------------+--------------------+------------------------+----------------------------+------------+-----------+------------------------------------------------------------------------------------------+-------------------------------------------------------------------------------------------------------------------------------------------------------------------------------------------------------------------------------------------------------------------------------------------------------------------------------------------------------------------------------------------------------------------------------------------------------------------------------------------------------------------------------------------------------------------------------------------------------------------------------------------------------------------------------------------------------------------------------------------------------------------------------------------------------------------------------------------------------------------------------------------------------------------------------------------------------------------------------------------------------------------------------------------------------------------------------------------------------------------------------------------------------------------------------------------------------------------------------------------------------------------------------------------------------------------------------------------------------------------------------------------------------------------------------------------------------------------------------------------------------------------------------------------------------------------------------------------------------------------------------------------------------------------------------------------------------------------------------------------------------------------------------------------------------------------------------------------------------------------------------------------------------------------------------------------------------------------------------------------------------------------------------------------------------------------------------------------------------------------------------------------------------------------------------------------------------------------------------------------------------------------------------------------------------------------------------------------------------------------------------------------------------------------------------------------------------------------------------------------------------------------------------------------------------------------------------------------------------------------------------------------------------------------------------------------------------------------------------------------------------------------------------------------------------------------------------------------------------------------------------------------------------------------------------------------------------------------------------------------------------------------------------------------------------------------------------------------------------------------------------------------------------------------------------+-----------------------------------------------------------------------------------------------------------------------------------------------------------------------------------------------------------------------------------------------------------------------------------------------------------------------------------------------------------------------------------------------------------------------------------------------------------------------------------------------------------+--------------+-------------------+-----------+---------------+-----------------+-------------------+---------------------+---------------------+----------+-------------+--------------+---------------------+\n",
      "|data_extracao|DATA_PUBLICACAO     |ID_CANAL                |NM_CANAL                    |ID_CATEGORIA|ID_VIDEO   |TITULO_VIDEO                                                                              |DESCRICAO                                                                                                                                                                                                                                                                                                                                                                                                                                                                                                                                                                                                                                                                                                                                                                                                                                                                                                                                                                                                                                                                                                                                                                                                                                                                                                                                                                                                                                                                                                                                                                                                                                                                                                                                                                                                                                                                                                                                                                                                                                                                                                                                                                                                                                                                                                                                                                                                                                                                                                                                                                                                                                                                                                                                                                                                                                                                                                                                                                                                                                                                                                                                                                      |TAGS                                                                                                                                                                                                                                                                                                                                                                                                                                                                                                       |DURACAO_VIDEOS|TOTAL_VISUALIZACOES|TOTAL_LIKES|TOTAL_FAVORITOS|TOTAL_COMENTARIOS|data_hora_extracao |DURACAO_VIDEO_MINUTOS|TOTAL_CARACTERE_VIDEO|TOTAL_TAGS|HORA_EXTRACAO|TURNO_EXTRACAO|INDICE_TURNO_EXTRACAO|\n",
      "+-------------+--------------------+------------------------+----------------------------+------------+-----------+------------------------------------------------------------------------------------------+-------------------------------------------------------------------------------------------------------------------------------------------------------------------------------------------------------------------------------------------------------------------------------------------------------------------------------------------------------------------------------------------------------------------------------------------------------------------------------------------------------------------------------------------------------------------------------------------------------------------------------------------------------------------------------------------------------------------------------------------------------------------------------------------------------------------------------------------------------------------------------------------------------------------------------------------------------------------------------------------------------------------------------------------------------------------------------------------------------------------------------------------------------------------------------------------------------------------------------------------------------------------------------------------------------------------------------------------------------------------------------------------------------------------------------------------------------------------------------------------------------------------------------------------------------------------------------------------------------------------------------------------------------------------------------------------------------------------------------------------------------------------------------------------------------------------------------------------------------------------------------------------------------------------------------------------------------------------------------------------------------------------------------------------------------------------------------------------------------------------------------------------------------------------------------------------------------------------------------------------------------------------------------------------------------------------------------------------------------------------------------------------------------------------------------------------------------------------------------------------------------------------------------------------------------------------------------------------------------------------------------------------------------------------------------------------------------------------------------------------------------------------------------------------------------------------------------------------------------------------------------------------------------------------------------------------------------------------------------------------------------------------------------------------------------------------------------------------------------------------------------------------------------------------------------+-----------------------------------------------------------------------------------------------------------------------------------------------------------------------------------------------------------------------------------------------------------------------------------------------------------------------------------------------------------------------------------------------------------------------------------------------------------------------------------------------------------+--------------+-------------------+-----------+---------------+-----------------+-------------------+---------------------+---------------------+----------+-------------+--------------+---------------------+\n",
      "|2023-10-27   |2023-10-24T00:50:04Z|UCNv3_KHnWEzLc3BCxYXpHFQ|Quinto Controle             |24          |ozbFzsakdGw|Quinto Controle #11 - Cities Skylines 2, Mario Wonder, Lords of Fallen Spider-Man 2 e mais|Quinto Controle #11 - Cities Skylines 2, Mario Wonder, Lords of Fallen Spider-Man 2 e mais\\r\\n\\r\\n------------------------------------------------------\\r\\n✂️ CORTES DO QUINTO CONTROLE\\r\\nCortes estão liberados, só pedimos que marquem a gente nas redes que postarem.\\r\\n----------------------------------------------------\\r\\nDISCORD: \\r\\n----------------------------------------------------\\r\\nCONHEÇA NOSSAS REDES\\r\\n\\r\\n-------------------------------------------------------\\r\\nAPRESENTADORES:\\r\\n🎮 QUINTO CONTROLE\\r\\n\\r\\n🎮 Mocano\\r\\n- Twitter: @mocanoplays\\r\\n- Instagram: @renato.mocano\\r\\n- Youtube: @MocanoPlays\\r\\n- Kick: MocanoPlays\\r\\n\\r\\n🎮 LêFrancê\\r\\n- Twitter: @LeFranceGPlay\\r\\n- Kick: LeFrance\\r\\n\\r\\n🎮 FlavioReD\\r\\n- Twitter: @FlaviooReD\\r\\n- Instagram: @flaviored1\\r\\n- Kick: FlavioReD\\r\\n\\r\\n🎮 Furflez\\r\\n- Twitter: @furflez_\\r\\n- Instagram: @furflez\\r\\n- Youtube: @furflez\\r\\n- Kick: @furflez\\r\\n- Twitch: @furflez                                                                                                                                                                                                                                                                                                                                                                                                                                                                                                                                                                                                                                                                                                                                                                                                                                                                                                                                                                                                                                                                                                                                                                                                                                                                                                                                                                                                                                                                                                                                                                                                                                                                                                                                                                                                                                                                                                                                                                                                                                                                                                                                                                                                    |null                                                                                                                                                                                                                                                                                                                                                                                                                                                                                                       |PT2H23M38S    |29                 |7          |0              |1                |2023-10-27 08:15:16|143.63               |90                   |0         |8            |Manhã         |1                    |\n",
      "|2023-10-27   |2023-10-22T17:00:27Z|UCOe_x5ararWwWajBKbFKNkA|O Veio Games                |20          |lswkJnLdvHU|🎮 Imagina se dá um Tsunami nesta ilha - Cities Skyline - Gameplay com memes              |Vídeo Completo em: https://youtu.be/qTb54gpsefo\\n\\nPlaylist de outros jogos 🎮 https://www.youtube.com/playlist?list=PLHXXTMsXGOPdtSkYKQBgDZupd38UGMZv4\\n\\nPlaylist de Shorts 👍 https://www.youtube.com/playlist?list=PLHXXTMsXGOPfzEEP9DvH65kIxfVI_6WBm\\n\\nNeste vídeo vamos ver um Engenheiro Civil transformar uma ilha muito pequena em uma metrópole no Cities Skylines.\\n\\nVamos tentar criar a melhor cidade possível em uma pequena ilha. \\n\\n#citiesskylines  #citiesskylinesgameplay #games #cities \\n\\nSOBRE ESTE JOGO\\nCities: Skylines é uma versão moderna dos simuladores de cidade clássicos. O jogo introduz novos elementos de jogabilidade para que você sinta a emoção e a dificuldade de criar e manter uma cidade de verdade, além de aprimorar os elementos clássicos da construção de cidades. \\n\\nDos criadores da franquia Cities in Motion, este jogo contêm um sistema de transporte incrível. Também inclui a habilidade de modificar o jogo para o seu próprio estilo, contrabalançando uma simulação complexa e desafiadora. Seu único limite é a sua imaginação, então tome o controle e vá até o céu! \\n\\n\\nSimulação desafiadora e multi-camadas\\nConstruir uma cidade do nada pode ser fácil de aprender, mas é difícil de dominar. No papel do prefeito de uma cidade, você vai ter que balancear requisitos essenciais como educação, hidroeletricidade, polícia, bombeiros, saúde e muito mais ao lidar com o sistema econômico realista de sua cidade. Seus cidadãos vão reagir de forma fluida, com uma seriedade que dá um peso real a múltiplos cenários de jogo.\\n\\n\\nSimulação de tráfego local extensiva\\nA longa experiência da Colossal Order no desenvolvimento da série Cities in Motion é utilizada ao máximo, criando um jogo bem concretizado e trabalhado.\\n\\n\\nDistritos e políticas\\nSeja mais do que apenas um administrador na prefeitura. Designar partes da sua cidade como distritos resulta na aplicação de políticas públicas que resultam na sua ascensão a prefeito de sua própria cidade.\\n\\n\\nUtilize o ciclo de dia e noite\\nA cidade muda com o tempo, afetando a rotina de seus habitantes. O tráfego é bem mais lento durante a noite, e algumas áreas não operam à toda eficiência. Esta expansão coloca você no controle dos diferentes aspectos do ciclo do dia para a noite.                                                                                                                                                                                                                                                                                                                                                                                                                                                                                                                                                                                                                                                                                                                                                                                                                        |[review, gameplay, jogo pc, jogos pc, pc game, jogando jogos, lançamento jogos, jogos lançamento, games, novos jogos, game, polybridge, poly bridge, game com memes, cities skylines, desafio cities skylines, engenheiro jogando cities skylines, engenharia, engenheiro civil, engenheiro civil jogos, engenharia jogos, cities skylines 2, gameplay cities, gameplay cities skylines, skylines, cities, cities vanilla, cities skylines 2 gameplay, engenheiro jogando cities, desafio cities, jogos]   |PT1M          |2411               |84         |0              |0                |2023-10-27 08:15:17|1.0                  |75                   |31        |8            |Manhã         |1                    |\n",
      "|2023-10-27   |2023-10-19T14:24:13Z|UCrOH1V-FyMunBIMrKL0y0xQ|ChratosGameplay             |20          |mfCGsYnClDU|CITIES SKYLINES 2: BORA LEVANTAR UMA CIDADE COM A PARTICIPAÇÃO DO CHAT! (LINK DESCRIÇÃO)  |LIVE SEG-SEX: https://www.twitch.tv/chratosgameplay\\n\\nApoie o canal/Padrim: https://www.padrim.com.br/chratosgameplay\\nDoe para suportar o canal: https://bityli.com/O8zJk\\nConverse com a gente/Discord: https://discord.gg/Wv64Sm5\\nReddit: https://www.reddit.com/r/ChratosGameplay/\\nInstagram: @chratosgameplay\\nPágina do Facebook: http://www.facebook.com/ChratosGameplay\\nTwitter: https://twitter.com/ChratosGameplay                                                                                                                                                                                                                                                                                                                                                                                                                                                                                                                                                                                                                                                                                                                                                                                                                                                                                                                                                                                                                                                                                                                                                                                                                                                                                                                                                                                                                                                                                                                                                                                                                                                                                                                                                                                                                                                                                                                                                                                                                                                                                                                                                                                                                                                                                                                                                                                                                                                                                                                                                                                                                                                                                                                                               |null                                                                                                                                                                                                                                                                                                                                                                                                                                                                                                       |P0D           |0                  |149        |0              |0                |2023-10-27 08:15:17|0.0                  |88                   |0         |8            |Manhã         |1                    |\n",
      "|2023-10-27   |2023-10-21T14:30:09Z|UCDGo_s0I-2JpO3o3xlkMQVA|Simularies                  |20          |C1s-hsI9JaY|🏙️ PRIMEIRO BAIRRO INDUSTRIAL 🏗️ Cities Skylines 2 | Gameplay PT BR ⭐                   |⭐ Fala galera, beleza? ⭐\\n\\nSejam bem vindos ao meu canal no YouTube! 🔥 Leia a descrição! ⬇️ \\nHoje vamos continuar nossa primeira temporada de Cities Skylines 2 no mapa de São Franscisco. A primeira cidade feita no canal vai servir como base pra aprender as novas mecânicas e funções do jogo enquanto acompanhamos a otimização e melhorias do jogo que infelizmente ainda não está 100%. Participe nos comentários e ajude na criação dessa cidade! ♥\\n\\n\\nGameplay comentada em português - PT-BR.\\n\\n___\\n\\n➡️ TESTE O REQUERIMENTO DO CITIES 2 NO SEU PC:\\nAcesse o site e clique no botão em azul escrito \"Can You Run It?\", o site vai baixar um arquivo para executar e ler seu sistema. Com isso o site irá dizer se você pode ou não rodar algum jogo considerando os requerimentos dito pelos desenvolvedores.\\nhttps://www.systemrequirementslab.com/cyri/requirements/cities-skylines-2/22585\\n\\n➡️ LINK DO SITE OFICIAL DO GAME:\\nhttps://www.paradoxinteractive.com/games/cities-skylines-ii\\n\\n___\\n\\n⭐SEJA MEMBRO E APOIE O CANAL!\\n💻 https://bit.ly/SimuApoio\\n\\n_____\\n\\n⭐Me siga nas Redes Sociais!\\n\\n💻 Twitch: https://bit.ly/LiveSimu\\n💻 Instagram: https://bit.ly/InstaSimu\\n💻 Twitter: https://bit.ly/TwitterSimu\\n💻 Discord: https://bit.ly/DiscSimu\\n🎵 Playlist do Canal: https://spoti.fi/3McWrly\\n\\n_____\\n\\n🎮 Compre e jogue Cities Skylines 2:\\nSteam: https://store.steampowered.com/app/949230/Cities_Skylines_II/\\n\\n_____\\n\\n🔥 O Game:\\nErga uma cidade do chão e a transforme em uma metrópole próspera que só você é capaz de imaginar. Você nunca construiu nessa escala. Com uma simulação profunda e uma economia viva, Cities: Skylines II é a construção de mundos sem limites.\\n\\n_____\\n\\n#CitiesSkylines2 #Simularies #Analise #review #CitiesSkylines #gameplay #letsplay #ptbr #vamosjogar #comocomeçar #mods #jogando #acessoantecipado #beta #earlyaccess #cities2\\n\\n_____\\n\\n00:00 Início\\n\\n_____\\n\\nSetup usado no vídeo:\\nProcessador: Ryzen 7 5700X\\nPlaca de Vídeo: GTX 3060TI 8gb \\nMemória: 32GB Ram\\nGabinete: Nzxt S340\\nPlaca Mãe: Gigabyte AB550M-DS3H\\nSSD: 1x512GB, 1x480GB\\nHDD: 2Tb\\nMicrofone: Hyperx QuadCast\\nHeadset: Edifier w800BT Plus                                                                                                                                                                                                                                                                                                                                                                                                                                                                                                                                                                                                                                                                                                                                                                                                                                                                                                                                                |[simularies, cities skylines 2, cities skylines ii, cities skylines 2 lançamento, cities skylines 2 noticias, cities skylines 2 novidades, cities 2, cities skylines 2 trailer, cities skylines 2 gameplay, cities: skylines, cities skylines, Cities skylines 2023, Cities Skylines 2 ptbr, Cities: Skylines 2 br, Cities: Skylines 2 pt br, Cities: Skylines 2 brasil, cities skylines 2 analise, cities skylines 2 review, cities skylines 2 ps5, cities skylines 2 xbox, cs2 update]                   |PT51M4S       |6667               |707        |0              |45               |2023-10-27 08:15:17|51.07                |69                   |21        |8            |Manhã         |1                    |\n",
      "|2023-10-27   |2023-10-18T14:24:18Z|UColWqaBtRa6AEyDen2h5lRg|MONTE                       |20          |my8vZ-tMzVs|MONTEZINHOSO MTA HIGHLIGHTS #162                                                          |-------------------------------DESCRIÇÃO-------------------------------\\nSalve tropa, deixa o like e se inscreva 💖\\n\\n\\n00:00 discord.gg/Yewm9TEYzp\\n00:20 DEIXA O LIKE!\\n\\n\\n\\n\\n\\n\\n\\n\\n\\n\\n #mtarp  #mtapcfraco #Lipelok #BVL #bcg\\n #mta #mtalive #mtarp #hypemta #pcfracoliveobs #destiny #destinyrp #fugas #melhoresfugas\\n#btz #fivemdepobre#fivem #rpdefamiliatags ignorem: bmr,rp,bmr 3,gta rp,mta rp,anti rp,bmr 1,bmr 4,bmr 5,gta mta rp,five m rp,connor rp,rp mta,rp gta,ant rp,gta 5 rp,samp rp,gta sa rp,rp gta sa,delux rp,mta rp fuga,gta rp fuga,fuga gta rp,policia rp,bmr2,#bmr,bmr1,bmr3,bmr4,bmr5,gta sa mta rp,piuzinho rp,cidade alta rp,gta rp vida real,servidor de mta rp,gta mta rp dando fugafuga de... tags ignorem : favela city,favela,favela city mta,favela city camp,samuca favela city,highlight favela city,melhores momentos favela city,city,city of god,dangerous favela brazil,dangerous favela brasil,most dangerous favela brazil,favelas brazil documentary,favelacity,jagatá novela,city of god brazil,the real city of god,cities,cities:skylines,... Highlights MTA MTA RP HIGHLIGHTS qbug litefoot tripleswitch longlitefoot \\nmacrolitefoot macroqbug macrolonglitefoot macrotripleswitch highlights RP Logitech Macrologitech Highlights MTA #ticomta roi? tags ignorem: mta tactics,tactics mta,tactics,mta,n1 tactics,tactics fzk,fzk tactics,tactics frags,mta sa,fzk tactics frags,tactics highlight,mta top gta,random frags tactics,mta top-gta,fzk highlights tactics,particle mta,mata mata mta,h2k clan mta,mta hack,mta macro,mta x1,mta gz,bcg mta,pvp mta,fzk mta,feet mta,mta qbug,mta bugs,mta h1z1... mta,highlights,mta highlights,highlights mta,mta rp,mta bcg highlights,pubg highlights mta,highlight mta,highlight de mta,highlight samuca mta,samucamta highlights,highlight free fire mta,fivem highlights,mtarp,xl mta,dd mta,mta dd,melhores momentos mta,mta bcg,pvp mta,wild mta,1tap mta,pubg mta,mta 2021,raay mta,rayan mta,samuca mta,[wild] mta,xlteam mta,mtasa dd,mtasa cw,stealth mta,mta tactics,clan war mta,mta camp pubg mta,mta bcg,bcg,bcg mta,mta rp,mtarp,pubg mta,policia mta,mta bcg highlights,live mta,mta fivem,como tirar lag mta,mta sem lag,mta com mods,vídeo de mta,mta vida real,gameplay mta,xl mta,dup pubg mta,pvp mta,pvp bcg,mta bmr,live ao vivo mta rp,mtasa,kadu mta,fuga mta,melhores fugas mta rp,bcg fivem,xlteam mta,mta online,live de mta,mta tactics,stealth mta,bcg servidor,mta camp pubg,litefoot mta,mta litefoot\\noverdose Pack overdose GENRL Pack Genrl sombra Pack sombra MTA Pack Meu pack de MTA Pack GENRL GTA 3 Anti lag #genrl  #antlag  #antrp  #packmta                                                                                                                                                                                                                                                                                                                                                                                                                                                                                 |[gta rp, mta, gta, pvp, pvp player, mta highlights, gta rp highlights, highlights, cidade alta, clips, tropa da russia, tropa da frança, brasil gta, mta pvp, pvp gta, gabepeixe, matei no rolas bibi, matei no rolas, lock fps, lock gta, fivem highlights, krozz fivem, grota, juaofrangorp, mica, montezinho, MONTE, copa, copa2022, kush pvp, meno felps beat, beat meno felps, new jazz, mta servers, servers mta, mta bcg, mta bcr, bvb mta, rp mta bcg, destiny mta, samp, fugas, samp mobile]      |PT48S         |104                |7          |0              |9                |2023-10-27 08:15:17|0.8                  |32                   |43        |8            |Manhã         |1                    |\n",
      "|2023-10-27   |2023-10-16T15:31:13Z|UCvEj9EurcC8q5hkV-Apf4jA|Sr L                        |20          |EMJho5TI26w|HOTEIS DE L City  - Cities Skylines - Parte 2                                             |                                                                                                                                                                                                                                                                                                                                                                                                                                                                                                                                                                                                                                                                                                                                                                                                                                                                                                                                                                                                                                                                                                                                                                                                                                                                                                                                                                                                                                                                                                                                                                                                                                                                                                                                                                                                                                                                                                                                                                                                                                                                                                                                                                                                                                                                                                                                                                                                                                                                                                                                                                                                                                                                                                                                                                                                                                                                                                                                                                                                                                                                                                                                                                               |[#shorts, #citiesskylines, jogos, hoteis, srl]                                                                                                                                                                                                                                                                                                                                                                                                                                                             |PT58S         |26                 |2          |0              |1                |2023-10-27 08:15:17|0.97                 |45                   |5         |8            |Manhã         |1                    |\n",
      "|2023-10-27   |2023-10-25T21:00:07Z|UCn7w7H6jL0G3TNpV1v0SZRg|Lives do IVDMALUCO          |20          |Nfd7IGFBEhM|CITIES SKYLINES: O CAOS Gameplay não é o Cities Skylines 2 pt.3                           |Salve esse é o Jogo do CITIES SKYLINES GAMEPLAY e \\nCITIES SKYLINES GAMEPLAY e o ivdmaluco,\\nnão é o alanzoka jogando mas é o ivd e garanto que você também vai se divertir! \\n\\nConfira todo o capitulo 1 de CITIES SKYLINES GAMEPLAY e o ivdmaluco aqui no canal, vamos jogar o 2 se esse CITIES SKYLINES GAMEPLAY e o ivdmaluco ter mais de 100 views, então compartilhe o nosso video do CITIES SKYLINES GAMEPLAY e o ivdmaluco para jogar o cap 2 de CITIES SKYLINES GAMEPLAY e o ivdmaluco!\\n\\nEspero que voces se divirtam, não é o alanzoka jogando CITIES SKYLINES GAMEPLAY e o ivdmaluco, mas é o IVDMALUCO jogando CITIES SKYLINES GAMEPLAY e o ivdmaluco,\\n\\nVeja o vídeo de como conectar por Bluetooth\\nhttps://youtu.be/tcpKYgTubDk\\n\\n\\nCompre seu Adapatador Bluetooth e Controle de Playstation Dualshock 4 (ps4) pela Amazon e ajude o IVD\\n\\nOfertas:\\n\\nControle de Playstation Dualshock 4 (PS4)\\nhttps://amzn.to/3J0EAfE\\n\\nMini Adaptador Usb Bluetooth 4.0 Orico Original BTA-403 Vermelho\\nhttps://amzn.to/3LN7BNV\\n\\nMini Adaptador Usb Bluetooth 4.0 Orico Original BTA-403 Branco\\nhttps://amzn.to/3IXVdZg\\n\\n\\n\\nConheça IVDMALUCO\\nRedes Sociais - \\n\\nTwitch: http://twitch.tv/IVDMALUCO\\nTwitter : http://twitter.com/ivdmaluco\\nInsta : https://instagram.com/ivdmaluco \\nFacebook : http://fb.com/ivdmaluco\\n\\nNão clique aqui: https://bit.ly/3ihxF7P\\n\\n\\nAjude o canal e compre os acessórios/ controle / gamepad para melhorar sua gameplay\\nCompre pelo nosso link de afiliado da Amazon e ajude o IVD\\n\\n_______________________\\n\\nEquipamentos IVD:\\n\\nMicrofone:\\nHyperX QuadCast\\nhttps://amzn.to/3xPI1Ut\\n\\nHeadset:\\nHyperX Revolver S\\nhttps://amzn.to/3MvbCqz\\n\\n\\nControle Genérico USB \\n\\nControle Dual Shock Usb Dazz\\nhttps://amzn.to/3KwOVl1\\n\\nControle Dual Shock Fighter Usb Dazz\\nhttps://amzn.to/3JuBaBY\\n\\n\\nControles originais \\nControle de Playstation Dualshock 4 (PS4)\\nhttps://amzn.to/3J0EAfE\\n\\nAdaptadores\\nMini Adaptador Usb Bluetooth 4.0 Orico Original BTA-403 Vermelho\\nhttps://amzn.to/3LN7BNV\\n\\nMini Adaptador Usb Bluetooth 4.0 Orico Original BTA-403 Branco\\nhttps://amzn.to/3IXVdZg\\n\\n\\n\\nConheça IVDMALUCO\\nRedes Sociais - \\n\\nTwitch: http://twitch.tv/IVDMALUCO\\nTwitter : http://twitter.com/ivdmaluco\\nInsta : https://instagram.com/ivdmaluco \\nFacebook : http://fb.com/ivdmaluco\\n\\n\\n_________\\n\\nCITIES SKYLINES,CITIES SKYLINES Gameplay,\\nJogo CITIES SKYLINES,\\nCITIES SKYLINES Jogo,\\nGame CITIES SKYLINES,\\nCITIES SKYLINES Game,\\nCITIES SKYLINES Limbo,\\nLimbo,CITIES SKYLINES Portugues,\\nCITIES SKYLINES alanzoka,\\nivdmaluco CITIES SKYLINES,\\nCITIES SKYLINES Gameplay ivdmaluco,\\nivdmaluco,\\nalan CITIES SKYLINES,\\nivdmaluco,\\nivd,\\nfJ368GPpWI,\\nivdmaluco gameplay,\\ngameplay,\\nCITIES SKYLINES,\\nCITIES SKYLINES repentance,\\nrepentance,\\nCITIES SKYLINES dlc,\\ndlc,\\nexpansão,\\nfinal,\\nroguelike,\\nbinding of isaac,\\nCITIES SKYLINES ivdmaluco,\\nCITIES SKYLINES alanzoka,\\nbrksedu CITIES SKYLINES,\\nCITIES SKYLINES repentance gameplay\\nfJ368GPpWI,\\nivdmaluco gameplay,\\n\\n\\n\\n\\n#cities #gameplay #ivdmaluco\\nNão clique aqui: https://bit.ly/3ihxF7P|[cities skylines, cities skylines 2, cities skylines gameplay, cities skylines 2 gameplay, cities skylines financial district, cities skylines airport, cities skylines timelapse, cities skylines vanilla, cities skylines mods, cities skylines dlc, cities, skylines, gameplay, cities skylines como começar, cities skylines tutorial, city skylines, tutorial, colossal order, citybuilder, paradox, brasil, lets play, cities: skylines, mods, cities skylines pt br, fJ368GPpWI, ivdmaluco gameplay]|PT1H56M28S    |28                 |2          |0              |1                |2023-10-27 08:15:17|116.47               |63                   |27        |8            |Manhã         |1                    |\n",
      "|2023-10-27   |2023-10-16T16:00:08Z|UCOYJm7BsLV8VCkW2DC1MI5w|Lucas gameplays brasil      |24          |8p7ulXmubg8|Cities Skylines aumentando os impostos resolvendo problemas da cidade                     |garagem personalizada ensinando a baixar https://www.youtube.com/watch?v=tBd8pfUgHxQ&lc=UgwVNPHJWrXv0YKjcpd4AaABAg.9ZsvC_S_NbK9tTrgngk3kv\\ndesenvolvido pelo Leandro Guedes Bezerra\\n---\\nSeja membro deste canal e ganhe benefícios:\\nhttps://www.youtube.com/channel/UCOYJm7BsLV8VCkW2DC1MI5w/join\\n\\nlink do mapa farming 22 : https://www.farming-simulator.com/mod.php?lang=fr&country=fr&mod_id=249026&title=fs2022\\n-----------------\\nmods steam q eu uso\\nmod menu : https://steamcommunity.com/sharedfiles/filedetails/?id=2892218612\\nhttps://steamcommunity.com/sharedfiles/filedetails/?id=2482863044\\n\\n---------------------------\\ncreditos g6 DD  https://www.youtube.com/watch?v=lDt9FRCU6e4&t=0s\\n------------------------------------------\\nhttps://modshop.com.br/?ref=11222 \\n-----------------------\\n\\nlink do g8 modshop   https://modshop.com.br/product/pre-venda-paradiso-g8-1800-dd-scania-15m/?ref=11222\\n--------------------------------------------------------------\\n\\ncreditos skin da gardenia https://steamcommunity.com/sharedfiles/filedetails/?id=2923561078\\n-----------------\\ncomandos:\\n!eu\\n\\n\\n\\n\\n---------------- \\nmapa peru : https://drive.google.com/u/0/uc?id=1Eu_dKvqVvE7riEQmSPUb31XrNyrLY0pp&export=download\\n---------------------------------------------------------------------------------------------------------------\\nfifa 22 patch fifa mania melhor patch  https://www.fifamanianews.com.br/patch-fifamania-fmn-22-liberado/\\n------------------------------------------\\nface pagina : https://www.facebook.com/gaming/lucasgameplaysbrasil/\\n------\\nnorte sul: https://www.youtube.com/watch?v=ugqaosEwe7U&ab_channel=MapaNorteSul\\n---------------------------------------------------------------------\\nplacar automatico pes 21: https://www.youtube.com/watch?v=Gw_p90o73PQ&ab_channel=MatheusGogosz\\n----------------------------------------------------------------------------------------------------\\nbaixar mapa br brasil www.youtube.com/channel/UCYwsyTNsH4ZHZpp7EwIgQIw\\n-----------------------------\\ndiscord do canal https://discord.gg/Y9RvEBhDy5\\npes 2017 patch SMOKE PATCH \\n---\\nmeu pc\\nryzen 3 3200g \\n16 (2x8) gb ram hyperx 2400 mhz\\nplaca mae asus a320m k br\\nhd 500 gb\\ngabinete   Cooler Master MasterBox Q300L\\nfonte corsair  cv 550w\\nnvme 515\\nssd 240\\nrx 580 8 gb \\nmods que eu uso\\ncd3dshop ...  new g7 1800 dd volvo dd iriar i6  gv 1150\\n\\nmodshop : g7 1200 g7 1800 dd vista bus 1600 ld\\n\\nb4d: new g7 1600 ld\\nmapas pagos: rbr, mapa rotas brasil \\ngratis: eaa                                                                                                                                                                                                                                                                                                                                                                                                                                                                                                                                                                                       |[euro truck 2, lucas gameplays brasil, mapa eaa, mod bus eaa, g7 1800dd, g7 1600 ld, canal de simulacao, pes 21, efootball 21, pes 17, mapa rbr, rbr mod bus, lukas gameplays brasil, Lucas gameplays brasil euro truck ao vivo, ets 2 live, fifa 22 flamengo, fifa 22 modo carreira, fifa mania patch]                                                                                                                                                                                                    |PT17M35S      |71                 |2          |0              |0                |2023-10-27 08:15:17|17.58                |69                   |18        |8            |Manhã         |1                    |\n",
      "|2023-10-27   |2023-10-26T14:09:33Z|UCmCavIluxnSwtPRLgxw3bYA|TTauros Gamer               |20          |rCwCKTDaoV8|Cities: Skylines II - Bora construir nossa cidade povo?                                   |Começando hoje uma nova série de Cities Skylines, porem agora, finalmente, no II. Vamos começar a cidade com a criação com a base de vias, alguns serviços e nos familiarizando com as ferramentas do jogo, novos recursos, novas dinâmicas... Então bora lá! \\n\\nSobre o GAME:\\nConstrua uma metrópole do zero com o jogo de construção de cidades mais realista já criado. Leve a criatividade e capacidade de resolver problemas a uma escala inédita. Simulação profunda e economia viva. Jogo de construção de cidades sem limites.\\n\\nDicas: Guia para otimizar o desempenho: https://store.steampowered.com/news/app/949230/view/3744239011016263869\\n\\n\\n#citiesskylines2 #citiesskylines #citybuilding #paradox #estratégia #gerenciamento #citybuilder  #citiesskylines #citiesskylines2 #citiesskylinesll #jogosdeestratégia #jogosdesimulação #jogosdesobrevivência #estrategia                                                                                                                                                                                                                                                                                                                                                                                                                                                                                                                                                                                                                                                                                                                                                                                                                                                                                                                                                                                                                                                                                                                                                                                                                                                                                                                                                                                                                                                                                                                                                                                                                                                                                                                                                                                                                                                                                                                                                                                                                                                                                                                                                                                                                                                                                    |[citiesskylines2, citiesskylines, citybuilding, paradox, estratégia, gerenciamento, citybuilder, citiesskylinesll, jogosdeestratégia, jogosdesimulação, jogosdesobrevivência, estrategia]                                                                                                                                                                                                                                                                                                                  |PT24M7S       |106                |22         |0              |7                |2023-10-27 08:15:17|24.12                |55                   |12        |8            |Manhã         |1                    |\n",
      "|2023-10-27   |2023-10-19T16:00:08Z|UCrUcdH_bCfX77xpXHyq2fJw|Canal do Void               |20          |ANa7la0wqNc|A Volta do Melhor CONSTRUTOR DE CIDADES do Mundo - Cities Skylines 2 [Gameplay PT-BR]     |★Série Completa: https://www.youtube.com/playlist?list=PLP3E_c-R2Nna_8FNv0s5JO5QhZfWmLxe0\\n►Meu Canal no Rumble: https://rumble.com/c/c-946543\\n►Meu Canal no Odysee: https://odysee.com/@CanalDoVoid\\n►Meu Canal no Bitchute: https://www.bitchute.com/channel/a6aBU1fDQgdY/\\n►Conheça o Outro Void: https://www.youtube.com/channel/UC4JVj-8pb4BKxYnm6jzyzEg/\\n❤Seja um Apoiador e ajude o canal: https://apoia.se/canaldovoid\\n❤Torne-se Membro do Canal do Void: https://www.youtube.com/channel/UCrUcdH_bCfX77xpXHyq2fJw/join\\n❤Compre jogos na promoção e ganhe 6 ou mais no fim do mês: https://www.humblebundle.com/monthly?partner=void\\n❤Vive fora do Brasil? Quer fazer uma única doação? Faça pelo Streamlabs! https://youtube.streamlabs.com/canaldovoid0\\n_________________________________________________________________\\nSe inscreva-se a si mesmo no canal!\\n►Link do Discord: https://discord.gg/aYbWBr4\\n►Curta a página: https://www.facebook.com/CanalDoVoid\\n►Siga-nos no Twitter: https://twitter.com/Canal_do_Void\\n_________________________________________________________________\\n★Video do jogo Cities Skylines 2 no estilo Let's Play / Vamos Jogar mostrando a gameplay / Jogabilidade em português brasileiro (PTBR) aqui no Canal do Void                                                                                                                                                                                                                                                                                                                                                                                                                                                                                                                                                                                                                                                                                                                                                                                                                                                                                                                                                                                                                                                                                                                                                                                                                                                                                                                                                                                                                                                                                                                                                                                                                                                                                                                                                                                                                                                                                                  |[Cities Skylines 2, canal do void, Cities Skylines 2 gameplay BR, Cities Skylines 2 br, Cities Skylines 2 PTBR, Cities Skylines 2 portugues, Cities Skylines 2 brasil, Cities Skylines 2 jogabilidade, Cities Skylines 2 gameplay, Cities Skylines 2 Gameplay portugues, Cities Skylines 2 canal do void, Cities Skylines 2 void, Cities Skylines 2 jogo, Cities Skylines 2 game, lets play Cities Skylines 2, lets play Cities Skylines 2 portugues, Skylines, Skylines2, CS2, CS, Paradox]               |PT35M36S      |21630              |2673       |0              |97               |2023-10-27 08:15:17|35.6                 |85                   |21        |8            |Manhã         |1                    |\n",
      "|2023-10-27   |2023-10-19T19:00:24Z|UCp7gzkfbWE7jazP65W9ZtWg|Ganso GamePlay              |20          |tpBDkZWDK3o|Como Fazer Estacionamento Para a População - Cities Skylines #citiesskylines              |Saaalve Saalveeee prefeitos\\n\\n\\ncontinuando a expandir nossas atrações turisticas hoje vamos colocar algumas estruturas para show em nossa cidade aqui do cities skylines e dando assim locais para a população de divertir.. aproveitando essas instalações fiz um tutorial para voces verem um jeito simples de colocar estacionamentos na cidade sem precisas de mods ou assets. \\n\\nse inscreva no canal                                                                                                                                                                                                                                                                                                                                                                                                                                                                                                                                                                                                                                                                                                                                                                                                                                                                                                                                                                                                                                                                                                                                                                                                                                                                                                                                                                                                                                                                                                                                                                                                                                                                                                                                                                                                                                                                                                                                                                                                                                                                                                                                                                                                                                                                                                                                                                                                                                                                                                                                                                                                                                                                                                                                                                  |[cities skylines, cities builder, cities planning, jogo de cidade, construindo cidade, como jogar cities, cities skylines população, cities skylines transito, cities skylines industries, jogo de estrategia, jogo de gerenciamento, jogo de simulação, steam mods, epic games, colossal order, cities skylines 2, tutorial cities, jogatina, gameplay, pc gamer]                                                                                                                                         |PT13M25S      |566                |22         |0              |0                |2023-10-27 08:15:18|13.42                |76                   |20        |8            |Manhã         |1                    |\n",
      "|2023-10-27   |2023-10-19T20:51:18Z|UCoBbeu5bEvrJJDCCRSQJb4Q|Bruuninz                    |20          |rWncF2wcFWs|#47 ( MTA Highlights ) - Xit Do Samp Também Funciona Aqui? 😃                             |Iluminado Por Deus ♥️\\nIG: @bruuninz\\nBruuninz Community: https://discord.gg/dMYDPzREPa\\n\\n💻 Config Do PC Fraco:\\nProcessador: Intel I5-2400\\nPlaca De Vídeo: ? Integrada\\n8 GB RAM\\n\\n#47 ( MTA Highlights ) - Xit Do Samp Também Funciona Aqui? 😃\\n\\n📌 Tags ( Ignorem )\\n-\\n#mta #mtarp #mtapcfraco #ticomta\\n  #mta #mtalive #mtarp #hypemta #pcfracoliveobs #destiny #destinyrp #fugas #melhoresfugas\\n#btz #fivemdepobre#fivem #rpdefamiliatags ignorem: bmr,rp,bmr 3,gta rp,mta rp,anti rp,bmr 1,bmr 4,bmr 5,gta mta rp,five m rp,connor rp,rp mta,rp gta,ant rp,gta 5 rp,samp rp,gta sa rp,rp gta sa,delux rp,mta rp fuga,gta rp fuga,fuga gta rp,policia rp,bmr2,#bmr,bmr1,bmr3,bmr4,bmr5,gta sa mta rp,piuzinho rp,cidade alta rp,gta rp vida real,servidor de mta rp,gta mta rp dando fugafuga de... tags ignorem : favela city,favela,favela city mta,favela city camp,samuca favela city,highlight favela city,melhores momentos favela city,city,city of god,dangerous favela brazil,dangerous favela brasil,most dangerous favela brazil,favelas brazil documentary,favelacity,jagatá novela,city of god brazil,the real city of god,cities,cities:skylines,... Highlights MTA MTA RP HIGHLIGHTS qbug litefoot tripleswitch longlitefoot \\nmacrolitefoot macroqbug macrolonglitefoot macrotripleswitch highlights RP Logitech Macrologitech Highlights MTA #ticomta roi? tags ignorem: mta tactics,tactics mta,tactics,mta,n1 tactics,tactics fzk,fzk tactics,tactics frags,mta sa,fzk tactics frags,tactics highlight,mta top gta,random frags tactics,mta top-gta,fzk highlights tactics,particle mta,mata mata mta,h2k clan mta,mta hack,mta macro,mta x1,mta gz,bcg mta,pvp mta,fzk mta,feet mta,mta qbug,mta bugs,mta h1z1... mta,highlights,mta highlights,highlights mta,mta rp,mta bcg highlights,pubg highlights mta,highlight mta,highlight de mta,highlight samuca mta,samucamta highlights,highlight free fire mta,fivem highlights,mtarp,xl mta,dd mta,mta dd,melhores momentos mta,mta bcg,pvp mta,wild mta,1tap mta,pubg mta,mta 2021,raay mta,rayan mta,samuca mta,[wild] mta,xlteam mta,mtasa dd,mtasa cw,stealth mta,mta tactics,clan war mta,mta camp pubg mta,mta bcg,bcg,bcg mta,mta rp,mtarp,pubg mta,policia mta,mta bcg highlights,live mta,mta fivem,como tirar lag mta,mta sem lag,mta com mods,vídeo de mta,mta vida real,gameplay mta,xl mta,dup pubg mta,pvp mta,pvp bcg,mta bmr,live ao vivo mta rp,mtasa,kadu mta,fuga mta,melhores fugas mta rp,bcg fivem,xlteam mta,mta online,live de mta,mta tactics,stealth mta,bcg servidor,mta camp pubg,litefoot mta,mta litefoot\\noverdose Pack overdose GENRL Pack Genrl sombra Pack sombra MTA Pack Meu pack de MTA Pack GENRL GTA 3 Anti lag #genrl  #antlag  #antrp  #packmta                                                                                                                                                                                                                                                                                                                                                                                                     |null                                                                                                                                                                                                                                                                                                                                                                                                                                                                                                       |PT1M11S       |384                |31         |0              |9                |2023-10-27 08:15:18|1.18                 |60                   |0         |8            |Manhã         |1                    |\n",
      "|2023-10-27   |2023-10-22T04:05:12Z|UCDGo_s0I-2JpO3o3xlkMQVA|Simularies                  |20          |YKCXBP9dZso|🏙️ Papeando e testando CITIES SKYLINES 2 - Ao Vivo! 🏗️ | Gameplay PT BR ⭐               |⭐ Fala galera, beleza? ⭐\\n\\nSejam bem vindos ao meu canal no YouTube! 🔥 Leia a descrição! ⬇️ \\nHoje vamos testar Cities Skylines 2 em live pela primeira vez! Já sabemos que o jogo não está 100% e por isso decidi abrir uma live antes do lançamento e ver como meu PC vai segurar o jogo enquanto transmite a live simultaneamente. A configuração do meu setup está abaixo. Aproveita pra tirar suas dúvidas e trocar ideia, vamos papear! :D ♥\\n\\n\\nGameplay comentada em português - PT-BR.\\n\\n___\\n\\n➡️ TESTE O REQUERIMENTO DO CITIES 2 NO SEU PC:\\nAcesse o site e clique no botão em azul escrito \"Can You Run It?\", o site vai baixar um arquivo para executar e ler seu sistema. Com isso o site irá dizer se você pode ou não rodar algum jogo considerando os requerimentos dito pelos desenvolvedores.\\nhttps://www.systemrequirementslab.com/cyri/requirements/cities-skylines-2/22585\\n\\n➡️ LINK DO SITE OFICIAL DO GAME:\\nhttps://www.paradoxinteractive.com/games/cities-skylines-ii\\n\\n___\\n\\n⭐SEJA MEMBRO E APOIE O CANAL!\\n💻 https://bit.ly/SimuApoio\\n\\n_____\\n\\n⭐Me siga nas Redes Sociais!\\n\\n💻 Twitch: https://bit.ly/LiveSimu\\n💻 Instagram: https://bit.ly/InstaSimu\\n💻 Twitter: https://bit.ly/TwitterSimu\\n💻 Discord: https://bit.ly/DiscSimu\\n🎵 Playlist do Canal: https://spoti.fi/3McWrly\\n\\n_____\\n\\n🎮 Compre e jogue Cities Skylines 2:\\nSteam: https://store.steampowered.com/app/949230/Cities_Skylines_II/\\n\\n_____\\n\\n🔥 O Game:\\nErga uma cidade do chão e a transforme em uma metrópole próspera que só você é capaz de imaginar. Você nunca construiu nessa escala. Com uma simulação profunda e uma economia viva, Cities: Skylines II é a construção de mundos sem limites.\\n\\n_____\\n\\n#CitiesSkylines2 #Simularies #Analise #review #CitiesSkylines #gameplay #letsplay #ptbr #vamosjogar #comocomeçar #mods #jogando #acessoantecipado #beta #earlyaccess #cities2\\n\\n_____\\n\\n00:00 Início\\n\\n_____\\n\\nSetup usado no vídeo:\\nProcessador: Ryzen 7 5700X\\nPlaca de Vídeo: GTX 3060TI 8gb \\nMemória: 32GB Ram\\nGabinete: Nzxt S340\\nPlaca Mãe: Gigabyte AB550M-DS3H\\nSSD: 1x512GB, 1x480GB\\nHDD: 2Tb\\nMicrofone: Hyperx QuadCast\\nHeadset: Edifier w800BT Plus                                                                                                                                                                                                                                                                                                                                                                                                                                                                                                                                                                                                                                                                                                                                                                                                                                                                                                                                                           |[simularies, cities skylines 2, cities skylines ii, cities skylines 2 lançamento, cities skylines 2 novidades, cities 2, cities skylines 2 trailer, cities skylines 2 gameplay, cities: skylines, cities skylines, Cities skylines 2023, Cities Skylines 2 ptbr, Cities: Skylines 2 br, Cities: Skylines 2 pt br, Cities: Skylines 2 brasil, cities skylines 2 analise, cities skylines 2 review, cities skylines 2 ps5, cities skylines 2 xbox, cs2 update, cities skylines 2 live]                       |PT4H24M41S    |4766               |388        |0              |4                |2023-10-27 08:15:18|264.68               |73                   |21        |8            |Manhã         |1                    |\n",
      "|2023-10-27   |2023-10-25T16:55:39Z|UCEZ12_9vkxdT1BuZFqtfkfw|GxTec                       |20          |Z5JT2QG6vEI|COMO BAIXAR CITIES SKYLINES 2                                                             |Vá até a steam\\nPesquise por Cities Skylines 2\\nRealize a compra\\n\\n(ignore o que está aqui, é pra burlar a IA do youtube)                                                                                                                                                                                                                                                                                                                                                                                                                                                                                                                                                                                                                                                                                                                                                                                                                                                                                                                                                                                                                                                                                                                                                                                                                                                                                                                                                                                                                                                                                                                                                                                                                                                                                                                                                                                                                                                                                                                                                                                                                                                                                                                                                                                                                                                                                                                                                                                                                                                                                                                                                                                                                                                                                                                                                                                                                                                                                                                                                                                                                                                     |[Cities Skylines 2, Cities: Skylines II, Como Baixar Cities Skylines 2, Cities: Skylines II como baixar]                                                                                                                                                                                                                                                                                                                                                                                                   |PT13S         |85                 |2          |0              |1                |2023-10-27 08:15:18|0.22                 |29                   |4         |8            |Manhã         |1                    |\n",
      "|2023-10-27   |2023-10-25T15:07:10Z|UCrOH1V-FyMunBIMrKL0y0xQ|ChratosGameplay             |20          |6RgEh-9KAgY|PREFEITURA E PREVIDÊNCIA CHEGAM A CIDADE! 🏙️ - Cities Skylines 2 #7                      |Nossa PRIMEIRA CIDADE em Cities Skylines 2 começa e nessa futuru metrópole iremos explorar todas as novas mecânicas do jogo, como a progressão está funcionando e se os conceitos e ideia que utilizavamos no Cities Skylines 1 ainda funcionam bem na nova versão do melhor city builder já feito!\\n\\n🔴 LIVE SEG-SEX: https://www.twitch.tv/chratosgameplay 🔴 \\n\\n🚩PLAYLISTS INDICADAS \\n➡ Cities Skylines - A ILHA: https://www.youtube.com/playlist?list=PLLRbhMO86fzs0VyBF3oTRWDRRQFvm3R36\\n➡ Cities Skylines - A CIDADE INDUSTRIAL PESADA: https://www.youtube.com/playlist?list=PLLRbhMO86fzu75npH37z0aRLCGvZN3523\\n➡ Cities Skylines - Showcases da comunidade: https://www.youtube.com/playlist?list=PLLRbhMO86fzsd-Q-xL5fvE-XjeDCahRNL\\n➡ Cities Skylines - CONSERTANDO O TRÂNSITO: https://youtube.com/playlist?list=PLLRbhMO86fzsBbAkHcfNFvnrNQHza59hu\\n➡ O BRASIL QUE NÓS QUEREMOS: https://www.youtube.com/playlist?list=PLLRbhMO86fzt13AHmisDfQDvsFoDIFggS\\n➡ Workers & Resources: Soviet Republic - https://www.youtube.com/playlist?list=PLLRbhMO86fzv-Y91_5fZPK5BgUEI5J0E-\\n➡ Transport Fever 2 - https://www.youtube.com/playlist?list=PLLRbhMO86fzuhy3_wfzKL9LJfXx9wlb3C\\n➡ Prison Architect Island Bound: https://www.youtube.com/playlist?list=PLLRbhMO86fzuOg_z_e8f1IY_2QOmzUAEh\\n\\n📲 CONECTE-SE COMIGO\\nTudo sobre o Chratos (LINKS, MIDIAS SOCIAIS, ETC): https://linktr.ee/ChratosGameplay \\n\\n👥 MEMBRO (PADRIN)\\n Seja membro deste canal, se torne um PADRIN e ganhe benefícios: https://www.youtube.com/channel/UCrOH1V-FyMunBIMrKL0y0xQ/join\\n\\n👾 SOBRE O JOGO\\nConstrua uma metrópole do zero com o jogo de construção de cidades mais realista já criado. Leve a criatividade e capacidade de resolver problemas a uma escala inédita. Simulação profunda e economia viva. Jogo de construção de cidades sem limites. \\nhttps://store.steampowered.com/app/949230/Cities_Skylines_II/\\n\\n📍 O CANAL\\n\"Jovem\" da década de 90, gosto muito de jogos de estratégia e gerenciamento desde minha infância com os clássicos SimCity 2000 e Age of Empires 2. Jogos de estratégia, jogos de simulação, jogos de gerenciamento e jogos de sobrevivência \\n\\n🎬 RECURSOS\\n Edição de vídeo: Adobe Premiere CC 2023\\nEdição de Imagem: Photoshop CC 2023\\nGravação de vídeo: Xplit Gamecaster, Mirillis Action, OBS \\n\\nEste vídeo foi editado por  @IgorFradi : https://igorfra.de/\\n✅ HASHTAGS DO CANAL: \\n#citiesskylines2 #citiesskylines #simcity  #jogosdeestratégia #jogosdesimulação #jogosdesobrevivência #estrategia  #chratos #medieval #feudal #citybuilding #chratosgameplay                                                                                                                                                                                                                                                                                                                                                                                                                                                                                                                                                          |[cities skylines, cities skylines 2, cities skylines gameplay, cities skylines 2 gameplay, cities, skylines, gameplay, city builder, cities skylines como começar, cities skylines tutorial, city skylines, tutorial, citybuilder, brasil, cities: skylines, mods, cities skylines pt br, cidade, chratos, cities skylines 2 vs 1, cities skylines 2 tutorial, cities skylines 2 mods, cities skylines ii, cities 2, cs2, city skylines 2, cities skylines 2 ptbr, cities: skylines 2 pt br, pt, br, ptbr] |PT26M53S      |41271              |5455       |0              |218              |2023-10-27 08:15:18|26.88                |67                   |31        |8            |Manhã         |1                    |\n",
      "|2023-10-27   |2023-10-26T18:25:00Z|UCayiH2Y5JBEOSubqoQhufDA|Lives do Chratos            |20          |MEafMxF9AHc|Nosso novo DISTRITO INDUSTRIAL!!! | Cities Skylines 2 #09                                 |Leia a descrição  ⬇ \\n\\nCities: Skylines II\\n\\nCria e gere a tua cidade sem restrições. Cities: Skylines II põe à prova a tua capacidade de tomar decisões e permite-te construir as cidades dos teus sonhos. Prepara-te para uma nova escala épica no construtor de cidades mais realista de sempre.\\n\\n Live realizada em: 24/10/2023\\n\\n🎯LIVE SEG-SEX:https://www.twitch.tv/chratosgameplay\\n🎯Canal: https://www.youtube.com/c/ChratosGameplay\\n🎯Canal de Lives: https://www.youtube.com/c/LivesdoChratos\\n🎯Canal de Cortes: https://www.youtube.com/channel/UCbEURxGNMpfHpWT7O7viPIw \\n\\n🚩PLAYLISTS INDICADAS \\n\\n🔝Shorts: https://youtube.com/playlist?list=PLmH3miZk5vcZd-6NoIeQh20qNQ-iivA5P\\n\\n🔝GTAIV: https://youtube.com/playlist?list=PLmH3miZk5vcbEaPh7tAmk2HfeX1e7wYKC\\n\\n🔝Software Inc. https://youtube.com/playlist?list=PLmH3miZk5vcbIsqB3rhYstlsE31_wJpCH\\n\\n🔝VictoriaII Saga - https://youtube.com/playlist?list=PLmH3miZk5vcbGE7IOF6AGWfzQPrM_XVrk\\n\\n🔝Geopolitical Simulator - Sudão do Sul - https://youtube.com/playlist?list=PLmH3miZk5vcaBFKmnbp7UpdyiHnITtlLD\\n\\n🔝Software Inc. - https://youtube.com/playlist?list=PLmH3miZk5vcbIsqB3rhYstlsE31_wJpCH\\n\\n🔝The Guild 3 - https://www.youtube.com/watch?v=DnCAnV2cRUQ&list=PLmH3miZk5vcaKMl9JjJBNM0iDRCFT2q-m\\n\\n🔝Project Zomboid Series - https://youtube.com/playlist?list=PLmH3miZk5vcYzEgYhZhs1zgw1NHd8GLaW\\n\\n🔝Kenshi - https://youtube.com/playlist?list=PLmH3miZk5vcZbezkzAu3NCmL8XKZtQjDW\\n\\n\\n📲 CONECTE-SE COMIGO\\nTudo sobre o Chratos (LINKS, MIDIAS SOCIAIS, ETC): https://linktr.ee/ChratosGameplay \\n\\n👥 MEMBRO (PADRIN)\\n Seja membro deste canal, se torne um PADRIN e ganhe benefícios: https://www.youtube.com/channel/UCrOH... \\n\\n👾 SOBRE O JOGO\\n\\nSe consegues sonhá-lo, consegues construí-lo!\\nCria e gere a tua própria cidade sem restrições. Por oferecer uma experiência de simulação aprofundada e economias vivas, Cities: Skylines II põe à prova a tua capacidade de tomar decisões e permite-te construir as cidades dos teus sonhos. Prepara-te para uma nova escala épica no construtor de cidades mais realista de sempre.\\n\\nSite: https://www.paradoxinteractive.com/games/cities-skylines-ii/about\\nCompre: https://store.steampowered.com/app/949230/Cities_Skylines_II/\\n\\n📍 O CANAL\\nTenho 26 anos, gosto muito de jogos de estratégia e gerenciamento desde minha infância com os clássicos SimCity 2000 e Age of Empires 2. Jogos de estratégia, jogos de simulação, jogos de gerenciamento e jogos de sobrevivência \\n\\n🎬 RECURSOS\\n Edição de vídeo: Adobe Premiere CS6 \\n Edição de Imagem: Photoshop CS6\\n Gravação de vídeo: Xplit Gamecaster, Mirillis Action, OBS \\n\\n✅ HASHTAGS DO CANAL: \\n\\n#chratosgameplay #cortesdochratos #livesdochratos #jogosdeestratégia #jogosdesimulação #jogosdesobrevivência #estrategia  #chratos #citybuilding #paradox #estratégia #gerenciamento #citybuilder  #citiesskylines #citiesskylines2 #citiesskylinesll                                                                                                                                                                             |[Chratos, Chratos Gameplay, Lives do Chratos, Cortes do Chratos, jogos de sobrevivencia, jogos de simulação, Chratos fora de contexto, RTS, simulação, sobrevivencia, Live, Glória, Baleia, política, entreterimento, geopolítica, twitch, imperialismo, citybuilder, jogo de construir cidades, jogo city builder, cities skylines, citiesskylines2]                                                                                                                                                      |PT1H7M49S     |3410               |225        |0              |10               |2023-10-27 08:15:18|67.82                |57                   |23        |8            |Manhã         |1                    |\n",
      "|2023-10-27   |2023-10-15T23:30:10Z|UC7v51W2NoLFawizgcNuVBOA|CANAL HAND - GAME WITH MUSIC|20          |M34bccK5G1U|CITIES SKYLINES | MAPA COSTA DIAMANTINA | HAND GREEN COAST | #51                          |- AJUDE O CANAL A CRESCER.. INSCREVA-SE E CURTA.. OBRIGADO PELA VISITA!!\\n \\n- CANAL DE GAMES.. SEMPRE NOS NÍVEIS MAIS DIFÍCEIS/HARD!!\\n\\n- LIVE TOSO OS DIAS NA TWITCH OU/E FACEBOOK \\n  facebook.com/canalhandgamewithmusic\\n  twitch.tv/canal_hand_game\\n\\n- INSTRAGRAM \\n  instagram.com/canalhandgamewithmusic                                                                                                                                                                                                                                                                                                                                                                                                                                                                                                                                                                                                                                                                                                                                                                                                                                                                                                                                                                                                                                                                                                                                                                                                                                                                                                                                                                                                                                                                                                                                                                                                                                                                                                                                                                                                                                                                                                                                                                                                                                                                                                                                                                                                                                                                                                                                                                                                                                                                                                                                                                                                                                                                                                                                                                                                                                                            |[cities skylines, cities skylines gameplay, cities: skylines, lets play cities skylines, cities skylines mods, cities skylines suburb, cities skylines how to start a city, cities skylines road layout, skylines, cities skylines beginners guide, real civil engineer cities skylines, cities skylines tutorial, city skylines, citys skylines, cities, cities sky lines, cities skylines how to start your city, cities skylines traffic, jogos full hd, jogos xbox series x, jogos grátis]             |PT3H55M5S     |44                 |4          |0              |1                |2023-10-27 08:15:18|235.08               |64                   |21        |8            |Manhã         |1                    |\n",
      "|2023-10-27   |2023-10-24T15:41:15Z|UCrOH1V-FyMunBIMrKL0y0xQ|ChratosGameplay             |20          |V_d6T_UKRDg|CITIES SKYLINES 2: LANÇAMENTO OFICIAL E EXPLORANDO A ECONOMIA DO JOGO! (LINK DESCRIÇÃO)   |LIVE SEG-SEX: https://www.twitch.tv/chratosgameplay\\n\\nApoie o canal/Padrim: https://www.padrim.com.br/chratosgameplay\\nDoe para suportar o canal: https://bityli.com/O8zJk\\nConverse com a gente/Discord: https://discord.gg/Wv64Sm5\\nReddit: https://www.reddit.com/r/ChratosGameplay/\\nInstagram: @chratosgameplay\\nPágina do Facebook: http://www.facebook.com/ChratosGameplay\\nTwitter: https://twitter.com/ChratosGameplay                                                                                                                                                                                                                                                                                                                                                                                                                                                                                                                                                                                                                                                                                                                                                                                                                                                                                                                                                                                                                                                                                                                                                                                                                                                                                                                                                                                                                                                                                                                                                                                                                                                                                                                                                                                                                                                                                                                                                                                                                                                                                                                                                                                                                                                                                                                                                                                                                                                                                                                                                                                                                                                                                                                                               |null                                                                                                                                                                                                                                                                                                                                                                                                                                                                                                       |P0D           |0                  |51         |0              |0                |2023-10-27 08:15:18|0.0                  |87                   |0         |8            |Manhã         |1                    |\n",
      "|2023-10-27   |2023-10-21T13:45:02Z|UCCe4Be21OPPltTTIHP4lDvg|Octopolis                   |20          |gYl77Ot9oDU|ESTÁDIO Moderno (ou seria uma ARENA?) | CORNELIA - EP19 | Cities: Skylines GAMEPLAY PT-BR |Hoje faço o estádio do Lancaster FC! Inspirado em estádios mais modernos pelo mundo, exploro como os estádios evoluíram com o tempo e os motivos!\\n\\nCornélia é uma antiga ilha pirata fictícia localizada em algum lugar na costa do Brasil. Junte-se a nós enquanto exploramos a construção de uma cidade detalhada, com muitas camadas de história em Cities: Skylines. Venha descobrir como vamos transformar Cornelia em um país incrível!\\n\\n*Está se sentindo generoso? CHAVE PIX: octopolis8@gmail.com*\\n\\n*Discord*: https://discord.gg/9crHx74F4d\\n\\n00:00 - Planos para hoje\\n00:30 - Origens de estádios e esportes\\n01:34 - BASES para o novo ESTÁDIO\\n04:22 - A EVOLUÇÃO dos estádios e seus MOTIVOS\\n06:09 - Uma ESPLANADA para chamar de nossa\\n17:56 - O GUIA de estádios da FIFA\\n18:19 - VLT e ESTACIONAMENTO SUBTERRÂNEO\\n23:56 - Detalhes\\n32:36 - Acesso para pedestres\\n35:58 - SEJA MEMBRO! E uma NOVIDADE!\\n\\n*COLEÇÃO COM MODS E ASSETS:* \\nFaça o download do meu perfil do Skyve aqui: https://drive.google.com/file/d/1u4a6tpiA47ce_Nw1vXUCb44uufrrxzwK/view?usp=sharing\\n\\nGuia de estádios da FIFA: https://publications.fifa.com/en/football-stadiums-guidelines\\n\\n*Músicas*\\n\\nProximity, de F0 - https://f0sound.bandcamp.com/track/proximity\\nLine, de F0 - https://f0sound.bandcamp.com/track/line\\nExecution, de F0 - https://f0sound.bandcamp.com/track/execution\\n\\n_YouTube Audio Library_ \\nSangria - Saidbysed\\n\\n*imagens*\\nhttps://www.americasquarterly.org/article/brazils-improbable-journey-to-win-the-1970-world-cup/\\nhttps://upload.wikimedia.org/wikipedia/commons/thumb/1/13/Munich_-_Frei_Otto_Tensed_structures_-_5302.jpg/2560px-Munich_-_Frei_Otto_Tensed_structures_-_5302.jpg\\nhttps://www.realmadrid.com/en/history/santiago-bernabeu-stadium/world-cup-1982\\nhttps://scroll.in/field/881814/a-brief-history-of-fifa-world-cup-france-1998-when-zidane-helped-les-bleus-break-world-cup-duck\\nhttps://www.chinadaily.com.cn/sports/2006-07/02/content_631004_5.htm                                                                                                                                                                                                                                                                                                                                                                                                                                                                                                                                                                                                                                                                                                                                                                                                                                                                                                                                                                                                                                                                                                                                                |[cities skylines, cities: skylines, cities skylines octopolis, cities skylines brasil, cities skylines gameplay, cities skylines pc, cities skylines pt br, cities skyline, cornelia, gameplay, city skylines, Porto de Lancaster, Octopolis, cities skylines detalhado, cities skylines mods, cities skylines realista, planejamento urbano, Tutorial Cities Skylines, cities skylines 2, estádio, stadium, copa do mundo, fifa stadium, stadio, estadio cities skylines, estadio realista]               |PT36M29S      |3155               |493        |0              |71               |2023-10-27 08:15:18|36.48                |89                   |26        |8            |Manhã         |1                    |\n",
      "|2023-10-27   |2023-10-19T16:00:08Z|UCfY4ggUDPeecGSCNePyyVSA|MetalBear                   |20          |ykt0QE2XxP0|Finalmente GAMEPLAY do jogo mais pesado do ano 😵 | Cities Skylines 2 PT-BR               |⭐ Lives: http://metalbear.pro/aovivo \\n⭐ Veja o canal de VODs: https://metalbear.pro/canal2\\n💝 Considere doar mensalmente no Apoia.se, e acesse o camarote: http://metalbear.pro/apoiase\\n\\n⭐ Converse comigo no Discord: http://metalbear.pro/discord\\n⭐ Compre 7 jogos por $12! http://metalbear.pro/humble-mensal\\n\\n💝 Seja um membro do canal e acesse o camarote: https://metalbear.pro/membro\\n\\n💝 Faça uma doação única pelo PayPal: http://metalbear.pro/doacao\\n\\n_____________________________________________________________\\n\\n🎮 Me siga na Steam: http://metalbear.pro/Curador_Steam\\n\\n📷 Instagram: http://metalbear.pro/instagram\\n\\n📘 Twitter: http://metalbear.pro/twitter\\n\\n_____________________________________________________________\\n\\n►Se quiser ver mais gameplays de Cities: Skylines II em português ptbr, deixe nos comentários!\\n\\n►Compre e baixe Cities: Skylines II aqui: \\nhttps://store.steampowered.com/app/949230/Cities_Skylines_II\\n\\n►Site Oficial do Cities: Skylines II:\\nhttps://www.paradoxinteractive.com/games/cities-skylines-ii/about\\n\\n►Cria e gere a tua cidade sem restrições. Cities: Skylines II põe à prova a tua capacidade de tomar decisões e permite-te construir as cidades dos teus sonhos. Prepara-te para uma nova escala épica no construtor de cidades mais realista de sempre.\\n\\n_____________________________________________________________\\n\\nMeu PC:\\nProcessador: Core i7 9700KF\\nPlaca de Vídeo: Asus RTX 3070\\nMemória: Corsair Vengeance (4x8Gb) 32Gb RAM\\nGabinete: Cooler Master MB500 Tuf\\nPlaca Mãe: Aorus Z390 Pro\\nSSD: 2x 240Gb Crucial + Kingston\\nHDD: 2Tb Barracuda\\nMicrofone: HyperX QuadCast\\nHeadset: Astro A50                                                                                                                                                                                                                                                                                                                                                                                                                                                                                                                                                                                                                                                                                                                                                                                                                                                                                                                                                                                                                                                                                                                                                                                                                                                                                                                                                                                                                                                              |[metalbear, Cities: Skylines II portugues, Cities: Skylines II gameplay, Cities: Skylines II gameplay ptbr, vamos jogar Cities: Skylines II, Cities: Skylines II ptbr, Cities: Skylines II, Cities: Skylines II br, Cities: Skylines II pt br, jogando Cities: Skylines II, Cities: Skylines II gameplay br, Cities: Skylines II brasil, Cities: Skylines II jogo, Cities: Skylines II série]                                                                                                              |PT27M54S      |23658              |1874       |0              |99               |2023-10-27 08:15:18|27.9                 |74                   |14        |8            |Manhã         |1                    |\n",
      "+-------------+--------------------+------------------------+----------------------------+------------+-----------+------------------------------------------------------------------------------------------+-------------------------------------------------------------------------------------------------------------------------------------------------------------------------------------------------------------------------------------------------------------------------------------------------------------------------------------------------------------------------------------------------------------------------------------------------------------------------------------------------------------------------------------------------------------------------------------------------------------------------------------------------------------------------------------------------------------------------------------------------------------------------------------------------------------------------------------------------------------------------------------------------------------------------------------------------------------------------------------------------------------------------------------------------------------------------------------------------------------------------------------------------------------------------------------------------------------------------------------------------------------------------------------------------------------------------------------------------------------------------------------------------------------------------------------------------------------------------------------------------------------------------------------------------------------------------------------------------------------------------------------------------------------------------------------------------------------------------------------------------------------------------------------------------------------------------------------------------------------------------------------------------------------------------------------------------------------------------------------------------------------------------------------------------------------------------------------------------------------------------------------------------------------------------------------------------------------------------------------------------------------------------------------------------------------------------------------------------------------------------------------------------------------------------------------------------------------------------------------------------------------------------------------------------------------------------------------------------------------------------------------------------------------------------------------------------------------------------------------------------------------------------------------------------------------------------------------------------------------------------------------------------------------------------------------------------------------------------------------------------------------------------------------------------------------------------------------------------------------------------------------------------------------------------------+-----------------------------------------------------------------------------------------------------------------------------------------------------------------------------------------------------------------------------------------------------------------------------------------------------------------------------------------------------------------------------------------------------------------------------------------------------------------------------------------------------------+--------------+-------------------+-----------+---------------+-----------------+-------------------+---------------------+---------------------+----------+-------------+--------------+---------------------+\n",
      "only showing top 20 rows\n",
      "\n"
     ]
    },
    {
     "name": "stderr",
     "output_type": "stream",
     "text": [
      "                                                                                \r"
     ]
    }
   ],
   "source": [
    "df_estatisticas_teste = carregar_dataframe_prata(spark_session=spark, assunto='assunto_cities_skylines', metrica='estatisticas')\n",
    "df_estatisticas_teste = transformacao_dataframe(df_estatisticas_teste)\n",
    "df_estatisticas_teste.show(truncate=False)"
   ]
  },
  {
   "cell_type": "markdown",
   "metadata": {},
   "source": [
    "<p>Depara Canal Vídeo</p>"
   ]
  },
  {
   "cell_type": "code",
   "execution_count": 16,
   "metadata": {},
   "outputs": [],
   "source": [
    "def construir_depara_canal(dataframe: DataFrame, assunto: str):\n",
    "    dataframe.select(\n",
    "        dataframe.ID_CANAL,\n",
    "        dataframe.NM_CANAL,\n",
    "        dataframe.ID_VIDEO,\n",
    "        dataframe.TITULO_VIDEO\n",
    "    ).distinct().sort('ID_CANAL').write.\\\n",
    "        parquet(f's3://youtubedatalake/ouro/depara/assunto_{assunto}/depara_canal.parquet')\n"
   ]
  },
  {
   "cell_type": "code",
   "execution_count": 17,
   "metadata": {},
   "outputs": [],
   "source": [
    "def obter_total_publicacao_video(dataframe : DataFrame) -> DataFrame:\n",
    "   dataframe =  dataframe.select(\n",
    "    'DATA_PUBLICACAO',\n",
    "    'ID_CANAL',\n",
    "    'NM_CANAL'\n",
    "    ).withColumn(\n",
    "       'DATA_PUBLICACAO', f.date_format('DATA_PUBLICACAO', 'yyyy-MM-dd')\n",
    "    ) \\\n",
    "        .sort('ID_CANAL') \\\n",
    "        .withColumn(\n",
    "            'SEMANA_TRADUZIDA', \n",
    "            traduzir_dia_da_semana(\n",
    "                f.date_format('DATA_PUBLICACAO', 'EEEE')\n",
    "            )\n",
    "            ).distinct() \\\n",
    "                .groupBy('DATA_PUBLICACAO','SEMANA_TRADUZIDA', 'ID_CANAL', 'NM_CANAL'). \\\n",
    "                    count(). \\\n",
    "                        alias('TOTAL_VIDEOS'). \\\n",
    "                            withColumn('INDICE_SEMANA', indice_semana('SEMANA_TRADUZIDA')) \\\n",
    "                    .sort('INDICE_SEMANA')\\\n",
    "                        .select('DATA_PUBLICACAO','SEMANA_TRADUZIDA' ,'ID_CANAL', 'NM_CANAL', f.col('TOTAL_VIDEOS.COUNT').alias('TOTAL_VIDEOS'))       \n",
    "   return dataframe"
   ]
  },
  {
   "cell_type": "code",
   "execution_count": 18,
   "metadata": {},
   "outputs": [
    {
     "name": "stderr",
     "output_type": "stream",
     "text": [
      "[Stage 4:=============================>                             (3 + 3) / 6]\r"
     ]
    },
    {
     "name": "stdout",
     "output_type": "stream",
     "text": [
      "+---------------+----------------+--------------------+--------------------+------------+\n",
      "|DATA_PUBLICACAO|SEMANA_TRADUZIDA|            ID_CANAL|            NM_CANAL|TOTAL_VIDEOS|\n",
      "+---------------+----------------+--------------------+--------------------+------------+\n",
      "|     2023-10-15|         Domingo|UCrOH1V-FyMunBIMr...|     ChratosGameplay|           1|\n",
      "|     2023-10-22|         Domingo|UC1mk6EtfMjxR4eEZ...|       Irmãos Cities|           1|\n",
      "|     2023-10-15|         Domingo|UC1mk6EtfMjxR4eEZ...|       Irmãos Cities|           1|\n",
      "|     2023-10-22|         Domingo|UCJ_PUBiy-NwJ-woO...|        silva tweaks|           1|\n",
      "|     2023-10-15|         Domingo|UCvEj9EurcC8q5hkV...|                Sr L|           1|\n",
      "|     2023-10-22|         Domingo|UCfY4ggUDPeecGSCN...|           MetalBear|           1|\n",
      "|     2023-10-22|         Domingo|UCDGo_s0I-2JpO3o3...|          Simularies|           1|\n",
      "|     2023-10-22|         Domingo|UCrUcdH_bCfX77xpX...|       Canal do Void|           1|\n",
      "|     2023-10-15|         Domingo|UC7v51W2NoLFawizg...|CANAL HAND - GAME...|           1|\n",
      "|     2023-10-22|         Domingo|UCDqzBrUOm7guqqyU...|          BUG CITIES|           1|\n",
      "|     2023-10-15|         Domingo|UCmg3_taw1BrGuo1I...|        O Construtor|           1|\n",
      "|     2023-10-22|         Domingo|UCOe_x5ararWwWajB...|        O Veio Games|           1|\n",
      "|     2023-10-22|         Domingo|UCrOH1V-FyMunBIMr...|     ChratosGameplay|           1|\n",
      "|     2023-10-15|         Domingo|UCOe_x5ararWwWajB...|        O Veio Games|           1|\n",
      "|     2023-10-15|         Domingo|UCTrNnXivZU_1-aJq...|              DILSÃO|           1|\n",
      "|     2023-10-22|         Domingo|UCayiH2Y5JBEOSubq...|    Lives do Chratos|           1|\n",
      "|     2023-10-15|         Domingo|UCEc5jA0NvvR-yJC0...|              GAC TV|           1|\n",
      "|     2023-10-22|         Domingo|UCEQkAgXk_T3sDMx9...|          Noob Cardo|           1|\n",
      "|     2023-10-22|         Domingo|UCTrNnXivZU_1-aJq...|              DILSÃO|           1|\n",
      "|     2023-10-15|         Domingo|UCOYJm7BsLV8VCkW2...|Lucas gameplays b...|           1|\n",
      "+---------------+----------------+--------------------+--------------------+------------+\n",
      "only showing top 20 rows\n",
      "\n"
     ]
    },
    {
     "name": "stderr",
     "output_type": "stream",
     "text": [
      "                                                                                \r"
     ]
    }
   ],
   "source": [
    "obter_total_publicacao_video(df_estatisticas_teste).show()"
   ]
  },
  {
   "cell_type": "code",
   "execution_count": 19,
   "metadata": {},
   "outputs": [],
   "source": [
    "lista_assunto = [\n",
    "        'Power BI',\n",
    "        'Python AND dados',\n",
    "        'Cities Skylines',\n",
    "        'Cities Skylines 2'\n",
    "    ]"
   ]
  },
  {
   "cell_type": "markdown",
   "metadata": {},
   "source": [
    "<p>ETL Para obter o total de vídeos públicado por semaba</p>"
   ]
  },
  {
   "cell_type": "code",
   "execution_count": 22,
   "metadata": {},
   "outputs": [
    {
     "name": "stdout",
     "output_type": "stream",
     "text": [
      "ETL PARA  Power BI\n"
     ]
    },
    {
     "ename": "Py4JJavaError",
     "evalue": "An error occurred while calling o1191.parquet.\n: java.lang.RuntimeException: java.lang.ClassNotFoundException: Class org.apache.hadoop.fs.s3a.S3AFileSystem not found\n\tat org.apache.hadoop.conf.Configuration.getClass(Configuration.java:2688)\n\tat org.apache.hadoop.fs.FileSystem.getFileSystemClass(FileSystem.java:3431)\n\tat org.apache.hadoop.fs.FileSystem.createFileSystem(FileSystem.java:3466)\n\tat org.apache.hadoop.fs.FileSystem.access$300(FileSystem.java:174)\n\tat org.apache.hadoop.fs.FileSystem$Cache.getInternal(FileSystem.java:3574)\n\tat org.apache.hadoop.fs.FileSystem$Cache.get(FileSystem.java:3521)\n\tat org.apache.hadoop.fs.FileSystem.get(FileSystem.java:540)\n\tat org.apache.hadoop.fs.Path.getFileSystem(Path.java:365)\n\tat org.apache.spark.sql.execution.datasources.DataSource.planForWritingFileFormat(DataSource.scala:461)\n\tat org.apache.spark.sql.execution.datasources.DataSource.planForWriting(DataSource.scala:558)\n\tat org.apache.spark.sql.DataFrameWriter.saveToV1Source(DataFrameWriter.scala:390)\n\tat org.apache.spark.sql.DataFrameWriter.saveInternal(DataFrameWriter.scala:363)\n\tat org.apache.spark.sql.DataFrameWriter.save(DataFrameWriter.scala:239)\n\tat org.apache.spark.sql.DataFrameWriter.parquet(DataFrameWriter.scala:793)\n\tat java.base/jdk.internal.reflect.NativeMethodAccessorImpl.invoke0(Native Method)\n\tat java.base/jdk.internal.reflect.NativeMethodAccessorImpl.invoke(NativeMethodAccessorImpl.java:62)\n\tat java.base/jdk.internal.reflect.DelegatingMethodAccessorImpl.invoke(DelegatingMethodAccessorImpl.java:43)\n\tat java.base/java.lang.reflect.Method.invoke(Method.java:566)\n\tat py4j.reflection.MethodInvoker.invoke(MethodInvoker.java:244)\n\tat py4j.reflection.ReflectionEngine.invoke(ReflectionEngine.java:357)\n\tat py4j.Gateway.invoke(Gateway.java:282)\n\tat py4j.commands.AbstractCommand.invokeMethod(AbstractCommand.java:132)\n\tat py4j.commands.CallCommand.execute(CallCommand.java:79)\n\tat py4j.ClientServerConnection.waitForCommands(ClientServerConnection.java:182)\n\tat py4j.ClientServerConnection.run(ClientServerConnection.java:106)\n\tat java.base/java.lang.Thread.run(Thread.java:829)\nCaused by: java.lang.ClassNotFoundException: Class org.apache.hadoop.fs.s3a.S3AFileSystem not found\n\tat org.apache.hadoop.conf.Configuration.getClassByName(Configuration.java:2592)\n\tat org.apache.hadoop.conf.Configuration.getClass(Configuration.java:2686)\n\t... 25 more\n",
     "output_type": "error",
     "traceback": [
      "\u001b[0;31m---------------------------------------------------------------------------\u001b[0m",
      "\u001b[0;31mPy4JJavaError\u001b[0m                             Traceback (most recent call last)",
      "Cell \u001b[0;32mIn[22], line 11\u001b[0m\n\u001b[1;32m      9\u001b[0m df_estatisticas_etl \u001b[38;5;241m=\u001b[39m transformacao_dataframe(df_estatisticas_etl)\n\u001b[1;32m     10\u001b[0m df_estatisticas_etl \u001b[38;5;241m=\u001b[39m obter_total_publicacao_video(df_estatisticas_etl)\n\u001b[0;32m---> 11\u001b[0m \u001b[43mcriar_particao_ouro\u001b[49m\u001b[43m(\u001b[49m\n\u001b[1;32m     12\u001b[0m \u001b[43m    \u001b[49m\u001b[43mdataframe\u001b[49m\u001b[38;5;241;43m=\u001b[39;49m\u001b[43mdf_estatisticas_etl\u001b[49m\u001b[43m,\u001b[49m\u001b[43m \u001b[49m\n\u001b[1;32m     13\u001b[0m \u001b[43m    \u001b[49m\u001b[43massunto_pesquisa\u001b[49m\u001b[38;5;241;43m=\u001b[39;49m\u001b[38;5;124;43mf\u001b[39;49m\u001b[38;5;124;43m'\u001b[39;49m\u001b[38;5;124;43massunto_\u001b[39;49m\u001b[38;5;132;43;01m{\u001b[39;49;00m\u001b[43massunto\u001b[49m\u001b[38;5;132;43;01m}\u001b[39;49;00m\u001b[38;5;124;43m'\u001b[39;49m\u001b[43m,\u001b[49m\u001b[43m \u001b[49m\n\u001b[1;32m     14\u001b[0m \u001b[43m    \u001b[49m\u001b[43mmetrica\u001b[49m\u001b[38;5;241;43m=\u001b[39;49m\u001b[38;5;124;43m'\u001b[39;49m\u001b[38;5;124;43mtotal_video_publicado_semana\u001b[39;49m\u001b[38;5;124;43m'\u001b[39;49m\u001b[43m,\u001b[49m\n\u001b[1;32m     15\u001b[0m \u001b[43m    \u001b[49m\u001b[43mnome_arquivo\u001b[49m\u001b[38;5;241;43m=\u001b[39;49m\u001b[38;5;124;43m'\u001b[39;49m\u001b[38;5;124;43mtotal_video_publicado_semana.parquet\u001b[39;49m\u001b[38;5;124;43m'\u001b[39;49m\u001b[43m,\u001b[49m\n\u001b[1;32m     16\u001b[0m \u001b[43m    \u001b[49m\u001b[43mcolunas_particao\u001b[49m\u001b[38;5;241;43m=\u001b[39;49m\u001b[43m(\u001b[49m\u001b[38;5;124;43m'\u001b[39;49m\u001b[38;5;124;43mDATA_PUBLICACAO\u001b[39;49m\u001b[38;5;124;43m'\u001b[39;49m\u001b[43m,\u001b[49m\u001b[43m \u001b[49m\u001b[38;5;124;43m'\u001b[39;49m\u001b[38;5;124;43mID_CANAL\u001b[39;49m\u001b[38;5;124;43m'\u001b[39;49m\u001b[43m)\u001b[49m\n\u001b[1;32m     17\u001b[0m \u001b[43m\u001b[49m\u001b[43m)\u001b[49m\n",
      "Cell \u001b[0;32mIn[21], line 11\u001b[0m, in \u001b[0;36mcriar_particao_ouro\u001b[0;34m(dataframe, assunto_pesquisa, metrica, nome_arquivo, colunas_particao)\u001b[0m\n\u001b[1;32m      7\u001b[0m \u001b[38;5;28;01melse\u001b[39;00m: \n\u001b[1;32m      8\u001b[0m     \u001b[38;5;28;01mif\u001b[39;00m \u001b[38;5;28misinstance\u001b[39m(colunas_particao, Tuple) :\n\u001b[1;32m      9\u001b[0m         \u001b[43mdataframe\u001b[49m\u001b[38;5;241;43m.\u001b[39;49m\u001b[43mwrite\u001b[49m\u001b[38;5;241;43m.\u001b[39;49m\u001b[43m \u001b[49m\u001b[43m\\\u001b[49m\n\u001b[1;32m     10\u001b[0m \u001b[43m            \u001b[49m\u001b[43mpartitionBy\u001b[49m\u001b[43m(\u001b[49m\u001b[38;5;241;43m*\u001b[39;49m\u001b[43mcolunas_particao\u001b[49m\u001b[43m)\u001b[49m\u001b[38;5;241;43m.\u001b[39;49m\u001b[43m \u001b[49m\u001b[43m\\\u001b[49m\n\u001b[0;32m---> 11\u001b[0m \u001b[43m            \u001b[49m\u001b[43mparquet\u001b[49m\u001b[43m(\u001b[49m\u001b[43mcaminho_completo\u001b[49m\u001b[43m)\u001b[49m\n\u001b[1;32m     12\u001b[0m     \u001b[38;5;28;01melse\u001b[39;00m:\n\u001b[1;32m     13\u001b[0m         dataframe\u001b[38;5;241m.\u001b[39mwrite\u001b[38;5;241m.\u001b[39m \\\n\u001b[1;32m     14\u001b[0m             partitionBy(colunas_particao)\u001b[38;5;241m.\u001b[39m \\\n\u001b[1;32m     15\u001b[0m             parquet(caminho_completo)\n",
      "File \u001b[0;32m~/projetos/analise_dados_youtube/venv/lib/python3.10/site-packages/pyspark/sql/readwriter.py:1140\u001b[0m, in \u001b[0;36mDataFrameWriter.parquet\u001b[0;34m(self, path, mode, partitionBy, compression)\u001b[0m\n\u001b[1;32m   1138\u001b[0m     \u001b[38;5;28mself\u001b[39m\u001b[38;5;241m.\u001b[39mpartitionBy(partitionBy)\n\u001b[1;32m   1139\u001b[0m \u001b[38;5;28mself\u001b[39m\u001b[38;5;241m.\u001b[39m_set_opts(compression\u001b[38;5;241m=\u001b[39mcompression)\n\u001b[0;32m-> 1140\u001b[0m \u001b[38;5;28;43mself\u001b[39;49m\u001b[38;5;241;43m.\u001b[39;49m\u001b[43m_jwrite\u001b[49m\u001b[38;5;241;43m.\u001b[39;49m\u001b[43mparquet\u001b[49m\u001b[43m(\u001b[49m\u001b[43mpath\u001b[49m\u001b[43m)\u001b[49m\n",
      "File \u001b[0;32m~/projetos/analise_dados_youtube/venv/lib/python3.10/site-packages/py4j/java_gateway.py:1321\u001b[0m, in \u001b[0;36mJavaMember.__call__\u001b[0;34m(self, *args)\u001b[0m\n\u001b[1;32m   1315\u001b[0m command \u001b[38;5;241m=\u001b[39m proto\u001b[38;5;241m.\u001b[39mCALL_COMMAND_NAME \u001b[38;5;241m+\u001b[39m\\\n\u001b[1;32m   1316\u001b[0m     \u001b[38;5;28mself\u001b[39m\u001b[38;5;241m.\u001b[39mcommand_header \u001b[38;5;241m+\u001b[39m\\\n\u001b[1;32m   1317\u001b[0m     args_command \u001b[38;5;241m+\u001b[39m\\\n\u001b[1;32m   1318\u001b[0m     proto\u001b[38;5;241m.\u001b[39mEND_COMMAND_PART\n\u001b[1;32m   1320\u001b[0m answer \u001b[38;5;241m=\u001b[39m \u001b[38;5;28mself\u001b[39m\u001b[38;5;241m.\u001b[39mgateway_client\u001b[38;5;241m.\u001b[39msend_command(command)\n\u001b[0;32m-> 1321\u001b[0m return_value \u001b[38;5;241m=\u001b[39m \u001b[43mget_return_value\u001b[49m\u001b[43m(\u001b[49m\n\u001b[1;32m   1322\u001b[0m \u001b[43m    \u001b[49m\u001b[43manswer\u001b[49m\u001b[43m,\u001b[49m\u001b[43m \u001b[49m\u001b[38;5;28;43mself\u001b[39;49m\u001b[38;5;241;43m.\u001b[39;49m\u001b[43mgateway_client\u001b[49m\u001b[43m,\u001b[49m\u001b[43m \u001b[49m\u001b[38;5;28;43mself\u001b[39;49m\u001b[38;5;241;43m.\u001b[39;49m\u001b[43mtarget_id\u001b[49m\u001b[43m,\u001b[49m\u001b[43m \u001b[49m\u001b[38;5;28;43mself\u001b[39;49m\u001b[38;5;241;43m.\u001b[39;49m\u001b[43mname\u001b[49m\u001b[43m)\u001b[49m\n\u001b[1;32m   1324\u001b[0m \u001b[38;5;28;01mfor\u001b[39;00m temp_arg \u001b[38;5;129;01min\u001b[39;00m temp_args:\n\u001b[1;32m   1325\u001b[0m     temp_arg\u001b[38;5;241m.\u001b[39m_detach()\n",
      "File \u001b[0;32m~/projetos/analise_dados_youtube/venv/lib/python3.10/site-packages/pyspark/sql/utils.py:190\u001b[0m, in \u001b[0;36mcapture_sql_exception.<locals>.deco\u001b[0;34m(*a, **kw)\u001b[0m\n\u001b[1;32m    188\u001b[0m \u001b[38;5;28;01mdef\u001b[39;00m \u001b[38;5;21mdeco\u001b[39m(\u001b[38;5;241m*\u001b[39ma: Any, \u001b[38;5;241m*\u001b[39m\u001b[38;5;241m*\u001b[39mkw: Any) \u001b[38;5;241m-\u001b[39m\u001b[38;5;241m>\u001b[39m Any:\n\u001b[1;32m    189\u001b[0m     \u001b[38;5;28;01mtry\u001b[39;00m:\n\u001b[0;32m--> 190\u001b[0m         \u001b[38;5;28;01mreturn\u001b[39;00m \u001b[43mf\u001b[49m\u001b[43m(\u001b[49m\u001b[38;5;241;43m*\u001b[39;49m\u001b[43ma\u001b[49m\u001b[43m,\u001b[49m\u001b[43m \u001b[49m\u001b[38;5;241;43m*\u001b[39;49m\u001b[38;5;241;43m*\u001b[39;49m\u001b[43mkw\u001b[49m\u001b[43m)\u001b[49m\n\u001b[1;32m    191\u001b[0m     \u001b[38;5;28;01mexcept\u001b[39;00m Py4JJavaError \u001b[38;5;28;01mas\u001b[39;00m e:\n\u001b[1;32m    192\u001b[0m         converted \u001b[38;5;241m=\u001b[39m convert_exception(e\u001b[38;5;241m.\u001b[39mjava_exception)\n",
      "File \u001b[0;32m~/projetos/analise_dados_youtube/venv/lib/python3.10/site-packages/py4j/protocol.py:326\u001b[0m, in \u001b[0;36mget_return_value\u001b[0;34m(answer, gateway_client, target_id, name)\u001b[0m\n\u001b[1;32m    324\u001b[0m value \u001b[38;5;241m=\u001b[39m OUTPUT_CONVERTER[\u001b[38;5;28mtype\u001b[39m](answer[\u001b[38;5;241m2\u001b[39m:], gateway_client)\n\u001b[1;32m    325\u001b[0m \u001b[38;5;28;01mif\u001b[39;00m answer[\u001b[38;5;241m1\u001b[39m] \u001b[38;5;241m==\u001b[39m REFERENCE_TYPE:\n\u001b[0;32m--> 326\u001b[0m     \u001b[38;5;28;01mraise\u001b[39;00m Py4JJavaError(\n\u001b[1;32m    327\u001b[0m         \u001b[38;5;124m\"\u001b[39m\u001b[38;5;124mAn error occurred while calling \u001b[39m\u001b[38;5;132;01m{0}\u001b[39;00m\u001b[38;5;132;01m{1}\u001b[39;00m\u001b[38;5;132;01m{2}\u001b[39;00m\u001b[38;5;124m.\u001b[39m\u001b[38;5;130;01m\\n\u001b[39;00m\u001b[38;5;124m\"\u001b[39m\u001b[38;5;241m.\u001b[39m\n\u001b[1;32m    328\u001b[0m         \u001b[38;5;28mformat\u001b[39m(target_id, \u001b[38;5;124m\"\u001b[39m\u001b[38;5;124m.\u001b[39m\u001b[38;5;124m\"\u001b[39m, name), value)\n\u001b[1;32m    329\u001b[0m \u001b[38;5;28;01melse\u001b[39;00m:\n\u001b[1;32m    330\u001b[0m     \u001b[38;5;28;01mraise\u001b[39;00m Py4JError(\n\u001b[1;32m    331\u001b[0m         \u001b[38;5;124m\"\u001b[39m\u001b[38;5;124mAn error occurred while calling \u001b[39m\u001b[38;5;132;01m{0}\u001b[39;00m\u001b[38;5;132;01m{1}\u001b[39;00m\u001b[38;5;132;01m{2}\u001b[39;00m\u001b[38;5;124m. Trace:\u001b[39m\u001b[38;5;130;01m\\n\u001b[39;00m\u001b[38;5;132;01m{3}\u001b[39;00m\u001b[38;5;130;01m\\n\u001b[39;00m\u001b[38;5;124m\"\u001b[39m\u001b[38;5;241m.\u001b[39m\n\u001b[1;32m    332\u001b[0m         \u001b[38;5;28mformat\u001b[39m(target_id, \u001b[38;5;124m\"\u001b[39m\u001b[38;5;124m.\u001b[39m\u001b[38;5;124m\"\u001b[39m, name, value))\n",
      "\u001b[0;31mPy4JJavaError\u001b[0m: An error occurred while calling o1191.parquet.\n: java.lang.RuntimeException: java.lang.ClassNotFoundException: Class org.apache.hadoop.fs.s3a.S3AFileSystem not found\n\tat org.apache.hadoop.conf.Configuration.getClass(Configuration.java:2688)\n\tat org.apache.hadoop.fs.FileSystem.getFileSystemClass(FileSystem.java:3431)\n\tat org.apache.hadoop.fs.FileSystem.createFileSystem(FileSystem.java:3466)\n\tat org.apache.hadoop.fs.FileSystem.access$300(FileSystem.java:174)\n\tat org.apache.hadoop.fs.FileSystem$Cache.getInternal(FileSystem.java:3574)\n\tat org.apache.hadoop.fs.FileSystem$Cache.get(FileSystem.java:3521)\n\tat org.apache.hadoop.fs.FileSystem.get(FileSystem.java:540)\n\tat org.apache.hadoop.fs.Path.getFileSystem(Path.java:365)\n\tat org.apache.spark.sql.execution.datasources.DataSource.planForWritingFileFormat(DataSource.scala:461)\n\tat org.apache.spark.sql.execution.datasources.DataSource.planForWriting(DataSource.scala:558)\n\tat org.apache.spark.sql.DataFrameWriter.saveToV1Source(DataFrameWriter.scala:390)\n\tat org.apache.spark.sql.DataFrameWriter.saveInternal(DataFrameWriter.scala:363)\n\tat org.apache.spark.sql.DataFrameWriter.save(DataFrameWriter.scala:239)\n\tat org.apache.spark.sql.DataFrameWriter.parquet(DataFrameWriter.scala:793)\n\tat java.base/jdk.internal.reflect.NativeMethodAccessorImpl.invoke0(Native Method)\n\tat java.base/jdk.internal.reflect.NativeMethodAccessorImpl.invoke(NativeMethodAccessorImpl.java:62)\n\tat java.base/jdk.internal.reflect.DelegatingMethodAccessorImpl.invoke(DelegatingMethodAccessorImpl.java:43)\n\tat java.base/java.lang.reflect.Method.invoke(Method.java:566)\n\tat py4j.reflection.MethodInvoker.invoke(MethodInvoker.java:244)\n\tat py4j.reflection.ReflectionEngine.invoke(ReflectionEngine.java:357)\n\tat py4j.Gateway.invoke(Gateway.java:282)\n\tat py4j.commands.AbstractCommand.invokeMethod(AbstractCommand.java:132)\n\tat py4j.commands.CallCommand.execute(CallCommand.java:79)\n\tat py4j.ClientServerConnection.waitForCommands(ClientServerConnection.java:182)\n\tat py4j.ClientServerConnection.run(ClientServerConnection.java:106)\n\tat java.base/java.lang.Thread.run(Thread.java:829)\nCaused by: java.lang.ClassNotFoundException: Class org.apache.hadoop.fs.s3a.S3AFileSystem not found\n\tat org.apache.hadoop.conf.Configuration.getClassByName(Configuration.java:2592)\n\tat org.apache.hadoop.conf.Configuration.getClass(Configuration.java:2686)\n\t... 25 more\n"
     ]
    }
   ],
   "source": [
    "for assunto in lista_assunto:\n",
    "    print('ETL PARA ', assunto)\n",
    "    assunto = assunto.replace(' ', '_').lower()\n",
    "    df_estatisticas_etl = carregar_dataframe_prata(\n",
    "        spark_session=spark, \n",
    "        assunto=f'assunto_{assunto}', \n",
    "        metrica='estatisticas'\n",
    "        )\n",
    "    df_estatisticas_etl = transformacao_dataframe(df_estatisticas_etl)\n",
    "    df_estatisticas_etl = obter_total_publicacao_video(df_estatisticas_etl)\n",
    "    criar_particao_ouro(\n",
    "        dataframe=df_estatisticas_etl, \n",
    "        assunto_pesquisa=f'assunto_{assunto}', \n",
    "        metrica='total_video_publicado_semana',\n",
    "        nome_arquivo='total_video_publicado_semana.parquet',\n",
    "        colunas_particao=('DATA_PUBLICACAO', 'ID_CANAL')\n",
    "    )\n",
    "    \n",
    "    "
   ]
  },
  {
   "cell_type": "code",
   "execution_count": 23,
   "metadata": {},
   "outputs": [],
   "source": [
    "spark.stop()"
   ]
  },
  {
   "cell_type": "markdown",
   "metadata": {},
   "source": [
    "<p>Dia da semana com mais visualização</p>"
   ]
  },
  {
   "cell_type": "code",
   "execution_count": 12,
   "metadata": {},
   "outputs": [],
   "source": [
    "@f.udf(returnType=t.StringType())\n",
    "def semana(indice: int) -> str:\n",
    "    semana = {\n",
    "        1: 'Domingo',\n",
    "        2: 'Segunda-feira',\n",
    "        3: 'Terça-feira',\n",
    "        4: 'Quarta-feira',\n",
    "        5: 'Quinta-feira',\n",
    "        6: 'Sexta-feira',\n",
    "        7: 'Sábado'\n",
    "    }\n",
    "    return semana.get(indice, indice)\n",
    "    "
   ]
  },
  {
   "cell_type": "markdown",
   "metadata": {},
   "source": [
    "<p>Vísualizações por semana</p>"
   ]
  },
  {
   "cell_type": "code",
   "execution_count": 13,
   "metadata": {},
   "outputs": [],
   "source": [
    "def obter_total_visualizacoes_semana(\n",
    "        dataframe: DataFrame, \n",
    "        colunas_agrupamento: Tuple, \n",
    "        lista_campos_agupamento: List[str],\n",
    "  \n",
    "        ) -> DataFrame:\n",
    "    window_coluna = Window.partitionBy('ID_VIDEO').orderBy('data_extracao')\n",
    "\n",
    "    op_agrupamento = [ \n",
    "        f.max(metrica).alias(metrica) \n",
    "        for metrica in lista_campos_agupamento\n",
    "        ]\n",
    "    df_estatisticas_etl = dataframe \\\n",
    "        .groupBy(*colunas_agrupamento) \\\n",
    "        .agg(\n",
    "            *op_agrupamento\n",
    "        )\n",
    "    \n",
    "    for atributo_agrupamento in lista_campos_agupamento:\n",
    "        df_estatisticas_etl = df_estatisticas_etl.withColumn(\n",
    "            f'VARIACAO_{atributo_agrupamento}', \n",
    "            f.coalesce(\n",
    "                f.lag(\n",
    "                    f.col(atributo_agrupamento)).over(window_coluna), f.col(atributo_agrupamento)\n",
    "            ) \n",
    "        ).withColumn(\n",
    "            f'{atributo_agrupamento}_DIA',\n",
    "            f.when(\n",
    "                f.col(atributo_agrupamento) - f.col(f'VARIACAO_{atributo_agrupamento}') > 0, \n",
    "                f.col(atributo_agrupamento) - f.col(f'VARIACAO_{atributo_agrupamento}')\n",
    "            ).otherwise(f.col(atributo_agrupamento)).cast('int')\n",
    "        ).drop(f'VARIACAO_{atributo_agrupamento}')\n",
    "\n",
    "    \n",
    "    \n",
    "    return df_estatisticas_etl"
   ]
  },
  {
   "cell_type": "code",
   "execution_count": 14,
   "metadata": {},
   "outputs": [],
   "source": [
    "def obter_total_visualizacoes_semana_turno(\n",
    "        dataframe: DataFrame, \n",
    "        colunas_agrupamento: Tuple, \n",
    "        lista_campos_agupamento: List[str],\n",
    "  \n",
    "        ) -> DataFrame:\n",
    "    op_agrupamento = [ \n",
    "        f.max(metrica).alias(metrica) \n",
    "        for metrica in lista_campos_agupamento\n",
    "        ]\n",
    "    df_estatisticas_etl = dataframe \\\n",
    "        .groupBy(*colunas_agrupamento) \\\n",
    "        .agg(\n",
    "            *op_agrupamento\n",
    "        )\n",
    "    window_coluna = Window.partitionBy('ID_VIDEO').orderBy(f.col('data_extracao'), f.col('INDICE_TURNO_EXTRACAO'))\n",
    "    for atributo_agrupamento in lista_campos_agupamento:\n",
    "        df_estatisticas_etl = df_estatisticas_etl.withColumn(\n",
    "            f'VARIACAO_{atributo_agrupamento}', \n",
    "            f.coalesce(\n",
    "                f.lag(\n",
    "                    f.col(atributo_agrupamento)).over(window_coluna), f.col(atributo_agrupamento)\n",
    "            ) \n",
    "        ).withColumn(\n",
    "            f'{atributo_agrupamento}_TURNO',\n",
    "            f.when(\n",
    "                f.col(atributo_agrupamento) - f.col(f'VARIACAO_{atributo_agrupamento}') > 0, \n",
    "                f.col(atributo_agrupamento) - f.col(f'VARIACAO_{atributo_agrupamento}')\n",
    "            ).otherwise(f.col(atributo_agrupamento)).cast('int')\n",
    "        ).drop(f'VARIACAO_{atributo_agrupamento}')\n",
    "      \n",
    "\n",
    "    \n",
    "    \n",
    "    return df_estatisticas_etl"
   ]
  },
  {
   "cell_type": "code",
   "execution_count": 17,
   "metadata": {},
   "outputs": [
    {
     "name": "stdout",
     "output_type": "stream",
     "text": [
      "+-------------+--------------------+--------------------+--------------------+------------+-----------+--------------------+--------------------+--------------------+--------------+-------------------+-----------+---------------+-----------------+-------------------+---------------------+---------------------+----------+-------------+--------------+---------------------+\n",
      "|data_extracao|     DATA_PUBLICACAO|            ID_CANAL|            NM_CANAL|ID_CATEGORIA|   ID_VIDEO|        TITULO_VIDEO|           DESCRICAO|                TAGS|DURACAO_VIDEOS|TOTAL_VISUALIZACOES|TOTAL_LIKES|TOTAL_FAVORITOS|TOTAL_COMENTARIOS| data_hora_extracao|DURACAO_VIDEO_MINUTOS|TOTAL_CARACTERE_VIDEO|TOTAL_TAGS|HORA_EXTRACAO|TURNO_EXTRACAO|INDICE_TURNO_EXTRACAO|\n",
      "+-------------+--------------------+--------------------+--------------------+------------+-----------+--------------------+--------------------+--------------------+--------------+-------------------+-----------+---------------+-----------------+-------------------+---------------------+---------------------+----------+-------------+--------------+---------------------+\n",
      "|   2023-10-27|2023-10-24T00:50:04Z|UCNv3_KHnWEzLc3BC...|     Quinto Controle|          24|ozbFzsakdGw|Quinto Controle #...|Quinto Controle #...|                null|    PT2H23M38S|                 29|          7|              0|                1|2023-10-27 08:15:16|               143.63|                   90|         0|            8|         Manhã|                    1|\n",
      "|   2023-10-27|2023-10-22T17:00:27Z|UCOe_x5ararWwWajB...|        O Veio Games|          20|lswkJnLdvHU|🎮 Imagina se dá ...|Vídeo Completo em...|[review, gameplay...|          PT1M|               2411|         84|              0|                0|2023-10-27 08:15:17|                  1.0|                   75|        31|            8|         Manhã|                    1|\n",
      "|   2023-10-27|2023-10-19T14:24:13Z|UCrOH1V-FyMunBIMr...|     ChratosGameplay|          20|mfCGsYnClDU|CITIES SKYLINES 2...|LIVE SEG-SEX: htt...|                null|           P0D|                  0|        149|              0|                0|2023-10-27 08:15:17|                  0.0|                   88|         0|            8|         Manhã|                    1|\n",
      "|   2023-10-27|2023-10-21T14:30:09Z|UCDGo_s0I-2JpO3o3...|          Simularies|          20|C1s-hsI9JaY|🏙️ PRIMEIRO BAIR...|⭐ Fala galera, be...|[simularies, citi...|       PT51M4S|               6667|        707|              0|               45|2023-10-27 08:15:17|                51.07|                   69|        21|            8|         Manhã|                    1|\n",
      "|   2023-10-27|2023-10-18T14:24:18Z|UColWqaBtRa6AEyDe...|               MONTE|          20|my8vZ-tMzVs|MONTEZINHOSO MTA ...|-----------------...|[gta rp, mta, gta...|         PT48S|                104|          7|              0|                9|2023-10-27 08:15:17|                  0.8|                   32|        43|            8|         Manhã|                    1|\n",
      "|   2023-10-27|2023-10-16T15:31:13Z|UCvEj9EurcC8q5hkV...|                Sr L|          20|EMJho5TI26w|HOTEIS DE L City ...|                    |[#shorts, #cities...|         PT58S|                 26|          2|              0|                1|2023-10-27 08:15:17|                 0.97|                   45|         5|            8|         Manhã|                    1|\n",
      "|   2023-10-27|2023-10-25T21:00:07Z|UCn7w7H6jL0G3TNpV...|  Lives do IVDMALUCO|          20|Nfd7IGFBEhM|CITIES SKYLINES: ...|Salve esse é o Jo...|[cities skylines,...|    PT1H56M28S|                 28|          2|              0|                1|2023-10-27 08:15:17|               116.47|                   63|        27|            8|         Manhã|                    1|\n",
      "|   2023-10-27|2023-10-16T16:00:08Z|UCOYJm7BsLV8VCkW2...|Lucas gameplays b...|          24|8p7ulXmubg8|Cities Skylines a...|garagem personali...|[euro truck 2, lu...|      PT17M35S|                 71|          2|              0|                0|2023-10-27 08:15:17|                17.58|                   69|        18|            8|         Manhã|                    1|\n",
      "|   2023-10-27|2023-10-26T14:09:33Z|UCmCavIluxnSwtPRL...|       TTauros Gamer|          20|rCwCKTDaoV8|Cities: Skylines ...|Começando hoje um...|[citiesskylines2,...|       PT24M7S|                106|         22|              0|                7|2023-10-27 08:15:17|                24.12|                   55|        12|            8|         Manhã|                    1|\n",
      "|   2023-10-27|2023-10-19T16:00:08Z|UCrUcdH_bCfX77xpX...|       Canal do Void|          20|ANa7la0wqNc|A Volta do Melhor...|★Série Completa: ...|[Cities Skylines ...|      PT35M36S|              21630|       2673|              0|               97|2023-10-27 08:15:17|                 35.6|                   85|        21|            8|         Manhã|                    1|\n",
      "|   2023-10-27|2023-10-19T19:00:24Z|UCp7gzkfbWE7jazP6...|      Ganso GamePlay|          20|tpBDkZWDK3o|Como Fazer Estaci...|Saaalve Saalveeee...|[cities skylines,...|      PT13M25S|                566|         22|              0|                0|2023-10-27 08:15:18|                13.42|                   76|        20|            8|         Manhã|                    1|\n",
      "|   2023-10-27|2023-10-19T20:51:18Z|UCoBbeu5bEvrJJDCC...|            Bruuninz|          20|rWncF2wcFWs|#47 ( MTA Highlig...|Iluminado Por Deu...|                null|       PT1M11S|                384|         31|              0|                9|2023-10-27 08:15:18|                 1.18|                   60|         0|            8|         Manhã|                    1|\n",
      "|   2023-10-27|2023-10-22T04:05:12Z|UCDGo_s0I-2JpO3o3...|          Simularies|          20|YKCXBP9dZso|🏙️ Papeando e te...|⭐ Fala galera, be...|[simularies, citi...|    PT4H24M41S|               4766|        388|              0|                4|2023-10-27 08:15:18|               264.68|                   73|        21|            8|         Manhã|                    1|\n",
      "|   2023-10-27|2023-10-25T16:55:39Z|UCEZ12_9vkxdT1BuZ...|               GxTec|          20|Z5JT2QG6vEI|COMO BAIXAR CITIE...|Vá até a steam\\nP...|[Cities Skylines ...|         PT13S|                 85|          2|              0|                1|2023-10-27 08:15:18|                 0.22|                   29|         4|            8|         Manhã|                    1|\n",
      "|   2023-10-27|2023-10-25T15:07:10Z|UCrOH1V-FyMunBIMr...|     ChratosGameplay|          20|6RgEh-9KAgY|PREFEITURA E PREV...|Nossa PRIMEIRA CI...|[cities skylines,...|      PT26M53S|              41271|       5455|              0|              218|2023-10-27 08:15:18|                26.88|                   67|        31|            8|         Manhã|                    1|\n",
      "|   2023-10-27|2023-10-26T18:25:00Z|UCayiH2Y5JBEOSubq...|    Lives do Chratos|          20|MEafMxF9AHc|Nosso novo DISTRI...|Leia a descrição ...|[Chratos, Chratos...|     PT1H7M49S|               3410|        225|              0|               10|2023-10-27 08:15:18|                67.82|                   57|        23|            8|         Manhã|                    1|\n",
      "|   2023-10-27|2023-10-15T23:30:10Z|UC7v51W2NoLFawizg...|CANAL HAND - GAME...|          20|M34bccK5G1U|CITIES SKYLINES |...|- AJUDE O CANAL A...|[cities skylines,...|     PT3H55M5S|                 44|          4|              0|                1|2023-10-27 08:15:18|               235.08|                   64|        21|            8|         Manhã|                    1|\n",
      "|   2023-10-27|2023-10-24T15:41:15Z|UCrOH1V-FyMunBIMr...|     ChratosGameplay|          20|V_d6T_UKRDg|CITIES SKYLINES 2...|LIVE SEG-SEX: htt...|                null|           P0D|                  0|         51|              0|                0|2023-10-27 08:15:18|                  0.0|                   87|         0|            8|         Manhã|                    1|\n",
      "|   2023-10-27|2023-10-21T13:45:02Z|UCCe4Be21OPPltTTI...|           Octopolis|          20|gYl77Ot9oDU|ESTÁDIO Moderno (...|Hoje faço o estád...|[cities skylines,...|      PT36M29S|               3155|        493|              0|               71|2023-10-27 08:15:18|                36.48|                   89|        26|            8|         Manhã|                    1|\n",
      "|   2023-10-27|2023-10-19T16:00:08Z|UCfY4ggUDPeecGSCN...|           MetalBear|          20|ykt0QE2XxP0|Finalmente GAMEPL...|⭐ Lives: http://m...|[metalbear, Citie...|      PT27M54S|              23658|       1874|              0|               99|2023-10-27 08:15:18|                 27.9|                   74|        14|            8|         Manhã|                    1|\n",
      "+-------------+--------------------+--------------------+--------------------+------------+-----------+--------------------+--------------------+--------------------+--------------+-------------------+-----------+---------------+-----------------+-------------------+---------------------+---------------------+----------+-------------+--------------+---------------------+\n",
      "only showing top 20 rows\n",
      "\n"
     ]
    }
   ],
   "source": [
    "df_estatisticas_teste.show()"
   ]
  },
  {
   "cell_type": "code",
   "execution_count": 18,
   "metadata": {},
   "outputs": [
    {
     "name": "stdout",
     "output_type": "stream",
     "text": [
      "root\n",
      " |-- data_extracao: string (nullable = true)\n",
      " |-- DATA_PUBLICACAO: string (nullable = true)\n",
      " |-- ID_CANAL: string (nullable = true)\n",
      " |-- NM_CANAL: string (nullable = true)\n",
      " |-- ID_CATEGORIA: string (nullable = true)\n",
      " |-- ID_VIDEO: string (nullable = true)\n",
      " |-- TITULO_VIDEO: string (nullable = true)\n",
      " |-- DESCRICAO: string (nullable = true)\n",
      " |-- TAGS: array (nullable = true)\n",
      " |    |-- element: string (containsNull = true)\n",
      " |-- DURACAO_VIDEOS: string (nullable = true)\n",
      " |-- TOTAL_VISUALIZACOES: integer (nullable = true)\n",
      " |-- TOTAL_LIKES: integer (nullable = true)\n",
      " |-- TOTAL_FAVORITOS: integer (nullable = true)\n",
      " |-- TOTAL_COMENTARIOS: integer (nullable = true)\n",
      " |-- data_hora_extracao: string (nullable = true)\n",
      " |-- DURACAO_VIDEO_MINUTOS: float (nullable = true)\n",
      " |-- TOTAL_CARACTERE_VIDEO: integer (nullable = true)\n",
      " |-- TOTAL_TAGS: integer (nullable = false)\n",
      " |-- HORA_EXTRACAO: integer (nullable = true)\n",
      " |-- TURNO_EXTRACAO: string (nullable = false)\n",
      " |-- INDICE_TURNO_EXTRACAO: integer (nullable = false)\n",
      "\n"
     ]
    }
   ],
   "source": [
    "df_estatisticas_teste.printSchema()"
   ]
  },
  {
   "cell_type": "code",
   "execution_count": 19,
   "metadata": {},
   "outputs": [
    {
     "name": "stderr",
     "output_type": "stream",
     "text": [
      "[Stage 8:=======================================>                   (4 + 2) / 6]\r"
     ]
    },
    {
     "name": "stdout",
     "output_type": "stream",
     "text": [
      "+-------------+--------------+---------------------+-------------------+\n",
      "|data_extracao|TURNO_EXTRACAO|INDICE_TURNO_EXTRACAO|TOTAL_VISUALIZACOES|\n",
      "+-------------+--------------+---------------------+-------------------+\n",
      "|   2023-10-15|         Tarde|                    2|               2954|\n",
      "|   2023-10-15|         Tarde|                    2|               2723|\n",
      "|   2023-10-15|         Tarde|                    2|               2439|\n",
      "|   2023-10-15|         Tarde|                    2|               2242|\n",
      "|   2023-10-15|         Tarde|                    2|               2025|\n",
      "|   2023-10-15|         Tarde|                    2|               1777|\n",
      "|   2023-10-15|         Tarde|                    2|               1740|\n",
      "|   2023-10-15|         Tarde|                    2|               1676|\n",
      "|   2023-10-15|         Noite|                    3|               4562|\n",
      "|   2023-10-15|         Noite|                    3|               4251|\n",
      "|   2023-10-15|         Noite|                    3|               3967|\n",
      "|   2023-10-15|         Noite|                    3|               3745|\n",
      "|   2023-10-15|         Noite|                    3|               3571|\n",
      "|   2023-10-15|         Noite|                    3|               3561|\n",
      "|   2023-10-15|         Noite|                    3|               3561|\n",
      "|   2023-10-15|         Noite|                    3|               3184|\n",
      "|   2023-10-16|         Manhã|                    1|               6469|\n",
      "|   2023-10-16|         Manhã|                    1|               6404|\n",
      "|   2023-10-16|         Manhã|                    1|               6314|\n",
      "|   2023-10-16|         Manhã|                    1|               6263|\n",
      "|   2023-10-16|         Manhã|                    1|               6257|\n",
      "|   2023-10-16|         Tarde|                    2|               7130|\n",
      "|   2023-10-16|         Tarde|                    2|               7078|\n",
      "|   2023-10-16|         Tarde|                    2|               6720|\n",
      "|   2023-10-16|         Tarde|                    2|               6718|\n",
      "|   2023-10-16|         Tarde|                    2|               6583|\n",
      "|   2023-10-16|         Noite|                    3|               7399|\n",
      "|   2023-10-16|         Noite|                    3|               7322|\n",
      "|   2023-10-16|         Noite|                    3|               7247|\n",
      "|   2023-10-16|         Noite|                    3|               7197|\n",
      "|   2023-10-19|         Manhã|                    1|               8872|\n",
      "|   2023-10-19|         Manhã|                    1|               8867|\n",
      "|   2023-10-19|         Manhã|                    1|               8865|\n",
      "|   2023-10-19|         Manhã|                    1|               8862|\n",
      "|   2023-10-19|         Tarde|                    2|               8932|\n",
      "|   2023-10-19|         Tarde|                    2|               8921|\n",
      "|   2023-10-19|         Tarde|                    2|               8914|\n",
      "|   2023-10-19|         Tarde|                    2|               8896|\n",
      "|   2023-10-19|         Tarde|                    2|               8895|\n",
      "|   2023-10-19|         Tarde|                    2|               8884|\n",
      "+-------------+--------------+---------------------+-------------------+\n",
      "only showing top 40 rows\n",
      "\n"
     ]
    },
    {
     "name": "stderr",
     "output_type": "stream",
     "text": [
      "                                                                                \r"
     ]
    }
   ],
   "source": [
    "df_estatisticas_teste.select('data_extracao',  'TURNO_EXTRACAO', 'INDICE_TURNO_EXTRACAO', 'TOTAL_VISUALIZACOES') \\\n",
    ".filter(\n",
    "     df_estatisticas_teste.ID_VIDEO == 'XOUzWJ0bHuw'\n",
    ").sort('data_extracao', f.col('INDICE_TURNO_EXTRACAO'), f.col('TOTAL_VISUALIZACOES').desc()).show(40)"
   ]
  },
  {
   "cell_type": "code",
   "execution_count": 20,
   "metadata": {},
   "outputs": [
    {
     "name": "stderr",
     "output_type": "stream",
     "text": [
      "                                                                                \r"
     ]
    },
    {
     "name": "stdout",
     "output_type": "stream",
     "text": [
      "+-------------+--------------+-------------------+-------------------------+-----------+-----------------+\n",
      "|data_extracao|TURNO_EXTRACAO|TOTAL_VISUALIZACOES|TOTAL_VISUALIZACOES_TURNO|TOTAL_LIKES|TOTAL_LIKES_TURNO|\n",
      "+-------------+--------------+-------------------+-------------------------+-----------+-----------------+\n",
      "|   2023-10-15|         Tarde|               2954|                     2954|        531|              531|\n",
      "|   2023-10-15|         Noite|               4562|                     1608|        687|              156|\n",
      "|   2023-10-16|         Manhã|               6469|                     1907|        826|              139|\n",
      "|   2023-10-16|         Tarde|               7130|                      661|        892|               66|\n",
      "|   2023-10-16|         Noite|               7399|                      269|        923|               31|\n",
      "|   2023-10-19|         Manhã|               8872|                     1473|       1029|              106|\n",
      "|   2023-10-19|         Tarde|               8932|                       60|       1033|                4|\n",
      "|   2023-10-19|         Noite|               8949|                       17|       1036|                3|\n",
      "|   2023-10-20|         Manhã|               9085|                      136|       1044|                8|\n",
      "|   2023-10-20|         Tarde|               9112|                       27|       1049|                5|\n",
      "|   2023-10-21|         Manhã|               9198|                       86|       1055|                6|\n",
      "|   2023-10-21|         Tarde|               9231|                       33|       1057|                2|\n",
      "|   2023-10-21|         Noite|               9263|                       32|       1060|                3|\n",
      "|   2023-10-22|         Manhã|               9301|                       38|       1062|                2|\n",
      "|   2023-10-22|         Tarde|               9322|                       21|       1063|                1|\n",
      "|   2023-10-22|         Noite|               9351|                       29|       1063|             1063|\n",
      "|   2023-10-23|         Manhã|               9387|                       36|       1066|                3|\n",
      "|   2023-10-23|         Tarde|               9394|                        7|       1067|                1|\n",
      "|   2023-10-23|         Noite|               9404|                       10|       1070|                3|\n",
      "|   2023-10-24|         Manhã|               9429|                       25|       1071|                1|\n",
      "|   2023-10-24|         Tarde|               9440|                       11|       1072|                1|\n",
      "|   2023-10-24|         Noite|               9451|                       11|       1072|             1072|\n",
      "|   2023-10-25|         Manhã|               9472|                       21|       1074|                2|\n",
      "|   2023-10-25|         Tarde|               9479|                        7|       1076|                2|\n",
      "|   2023-10-25|         Noite|               9488|                        9|       1076|             1076|\n",
      "|   2023-10-26|         Manhã|               9503|                       15|       1076|             1076|\n",
      "|   2023-10-26|         Tarde|               9515|                       12|       1076|             1076|\n",
      "|   2023-10-26|         Noite|               9521|                        6|       1076|             1076|\n",
      "|   2023-10-27|         Manhã|               9531|                       10|       1076|             1076|\n",
      "|   2023-10-27|         Tarde|               9533|                        2|       1077|                1|\n",
      "|   2023-10-27|         Noite|               9540|                        7|       1078|                1|\n",
      "+-------------+--------------+-------------------+-------------------------+-----------+-----------------+\n",
      "\n"
     ]
    }
   ],
   "source": [
    "\n",
    "obter_total_visualizacoes_semana_turno(\n",
    "    dataframe=df_estatisticas_teste,\n",
    "    colunas_agrupamento=('data_extracao', 'NM_CANAL', 'TITULO_VIDEO', 'ID_VIDEO', 'TURNO_EXTRACAO','INDICE_TURNO_EXTRACAO' ),\n",
    "    lista_campos_agupamento=['TOTAL_VISUALIZACOES' ,'TOTAL_COMENTARIOS', 'TOTAL_LIKES'],\n",
    "\n",
    ").filter(\n",
    "    df_estatisticas_teste.ID_VIDEO == 'XOUzWJ0bHuw'\n",
    ").sort('data_extracao','INDICE_TURNO_EXTRACAO', f.col('TOTAL_VISUALIZACOES').desc()).select('data_extracao',  'TURNO_EXTRACAO', 'TOTAL_VISUALIZACOES', 'TOTAL_VISUALIZACOES_TURNO', 'TOTAL_LIKES', 'TOTAL_LIKES_TURNO').show(60)"
   ]
  },
  {
   "cell_type": "code",
   "execution_count": 191,
   "metadata": {},
   "outputs": [
    {
     "name": "stdout",
     "output_type": "stream",
     "text": [
      "+-------------+-------------------+-----------------------+-----------+---------------+\n",
      "|data_extracao|TOTAL_VISUALIZACOES|TOTAL_VISUALIZACOES_DIA|TOTAL_LIKES|TOTAL_LIKES_DIA|\n",
      "+-------------+-------------------+-----------------------+-----------+---------------+\n",
      "|   2023-10-15|               4562|                   4562|        687|            687|\n",
      "|   2023-10-16|               7399|                   2837|        923|            236|\n",
      "|   2023-10-19|               8949|                   1550|       1036|            113|\n",
      "|   2023-10-20|               9112|                    163|       1049|             13|\n",
      "|   2023-10-21|               9263|                    151|       1060|             11|\n",
      "|   2023-10-22|               9351|                     88|       1063|              3|\n",
      "|   2023-10-23|               9404|                     53|       1070|              7|\n",
      "|   2023-10-24|               9451|                     47|       1072|              2|\n",
      "|   2023-10-25|               9488|                     37|       1076|              4|\n",
      "|   2023-10-26|               9521|                     33|       1076|           1076|\n",
      "|   2023-10-27|               9540|                     19|       1078|              2|\n",
      "+-------------+-------------------+-----------------------+-----------+---------------+\n",
      "\n"
     ]
    }
   ],
   "source": [
    "\n",
    "obter_total_visualizacoes_semana(\n",
    "    dataframe=df_estatisticas_teste,\n",
    "    colunas_agrupamento=('data_extracao', 'NM_CANAL', 'TITULO_VIDEO', 'ID_VIDEO'),\n",
    "    lista_campos_agupamento=['TOTAL_VISUALIZACOES' ,'TOTAL_COMENTARIOS', 'TOTAL_LIKES' ],\n",
    "\n",
    ").filter(\n",
    "    df_estatisticas_teste.ID_VIDEO == 'XOUzWJ0bHuw'\n",
    ").sort('data_extracao').select('data_extracao', 'TOTAL_VISUALIZACOES', 'TOTAL_VISUALIZACOES_DIA', 'TOTAL_LIKES', 'TOTAL_LIKES_DIA').show()"
   ]
  },
  {
   "cell_type": "code",
   "execution_count": 80,
   "metadata": {},
   "outputs": [
    {
     "name": "stdout",
     "output_type": "stream",
     "text": [
      "+-------------+--------------------+--------------------+---------------+------------+-----------+--------------------+--------------------+--------------------+--------------+-------------------+-----------+---------------+-----------------+-------------------+---------------------+---------------------+----------+\n",
      "|data_extracao|     DATA_PUBLICACAO|            ID_CANAL|       NM_CANAL|ID_CATEGORIA|   ID_VIDEO|        TITULO_VIDEO|           DESCRICAO|                TAGS|DURACAO_VIDEOS|TOTAL_VISUALIZACOES|TOTAL_LIKES|TOTAL_FAVORITOS|TOTAL_COMENTARIOS| data_hora_extracao|DURACAO_VIDEO_MINUTOS|TOTAL_CARACTERE_VIDEO|TOTAL_TAGS|\n",
      "+-------------+--------------------+--------------------+---------------+------------+-----------+--------------------+--------------------+--------------------+--------------+-------------------+-----------+---------------+-----------------+-------------------+---------------------+---------------------+----------+\n",
      "|   2023-10-27|2023-10-24T00:50:04Z|UCNv3_KHnWEzLc3BC...|Quinto Controle|          24|ozbFzsakdGw|Quinto Controle #...|Quinto Controle #...|                null|    PT2H23M38S|                 29|          7|              0|                1|2023-10-27 08:15:16|               143.63|                   90|         0|\n",
      "|   2023-10-27|2023-10-22T17:00:27Z|UCOe_x5ararWwWajB...|   O Veio Games|          20|lswkJnLdvHU|🎮 Imagina se dá ...|Vídeo Completo em...|[review, gameplay...|          PT1M|               2411|         84|              0|                0|2023-10-27 08:15:17|                  1.0|                   75|        31|\n",
      "|   2023-10-27|2023-10-19T14:24:13Z|UCrOH1V-FyMunBIMr...|ChratosGameplay|          20|mfCGsYnClDU|CITIES SKYLINES 2...|LIVE SEG-SEX: htt...|                null|           P0D|                  0|        149|              0|                0|2023-10-27 08:15:17|                  0.0|                   88|         0|\n",
      "+-------------+--------------------+--------------------+---------------+------------+-----------+--------------------+--------------------+--------------------+--------------+-------------------+-----------+---------------+-----------------+-------------------+---------------------+---------------------+----------+\n",
      "only showing top 3 rows\n",
      "\n"
     ]
    }
   ],
   "source": [
    "df_estatisticas_teste.show(3)"
   ]
  },
  {
   "cell_type": "markdown",
   "metadata": {},
   "source": [
    "<p>ETL Para visializações por semana<P>"
   ]
  },
  {
   "cell_type": "code",
   "execution_count": 24,
   "metadata": {},
   "outputs": [
    {
     "name": "stdout",
     "output_type": "stream",
     "text": [
      "ETL PARA  Power BI\n"
     ]
    },
    {
     "name": "stderr",
     "output_type": "stream",
     "text": [
      "                                                                                \r"
     ]
    },
    {
     "name": "stdout",
     "output_type": "stream",
     "text": [
      "ETL PARA  Python AND dados\n"
     ]
    },
    {
     "name": "stderr",
     "output_type": "stream",
     "text": [
      "                                                                                \r"
     ]
    },
    {
     "name": "stdout",
     "output_type": "stream",
     "text": [
      "ETL PARA  Cities Skylines\n"
     ]
    },
    {
     "name": "stderr",
     "output_type": "stream",
     "text": [
      "                                                                                \r"
     ]
    },
    {
     "name": "stdout",
     "output_type": "stream",
     "text": [
      "ETL PARA  Cities Skylines 2\n"
     ]
    },
    {
     "name": "stderr",
     "output_type": "stream",
     "text": [
      "                                                                                \r"
     ]
    }
   ],
   "source": [
    "for assunto in lista_assunto:\n",
    "    print('ETL PARA ', assunto)\n",
    "    assunto = assunto.replace(' ', '_').lower()\n",
    "    df_estatisticas_etl = carregar_dataframe_prata(\n",
    "        spark_session=spark, \n",
    "        assunto=f'assunto_{assunto}', \n",
    "        metrica='estatisticas'\n",
    "        )\n",
    "    \n",
    "    df_estatisticas_etl = transformacao_dataframe(df_estatisticas_etl)\n",
    "\n",
    "    # df_estatisticas_etl_total_visualizacoes = obter_total_visualizacoes_semana(\n",
    "    #     dataframe=df_estatisticas_etl,\n",
    "    #     colunas_agrupamento=('data_extracao', 'ID_CANAL',  'NM_CANAL','ID_VIDEO',  'TITULO_VIDEO' , 'TOTAL_CARACTERE_VIDEO', 'TAGS', 'DURACAO_VIDEO_MINUTOS', 'TOTAL_TAGS'),\n",
    "    #     lista_campos_agupamento=['TOTAL_VISUALIZACOES' ,'TOTAL_COMENTARIOS', 'TOTAL_LIKES'],\n",
    "    # )\n",
    "\n",
    "\n",
    "    df_estatisticas_etl_total_visualizacoes = obter_total_visualizacoes_semana_turno(\n",
    "        dataframe=df_estatisticas_etl,\n",
    "        colunas_agrupamento=('data_extracao', 'ID_CANAL', 'INDICE_TURNO_EXTRACAO', 'NM_CANAL','ID_VIDEO',  'TITULO_VIDEO' , 'TOTAL_CARACTERE_VIDEO', 'TAGS', 'DURACAO_VIDEO_MINUTOS', 'TOTAL_TAGS', 'TURNO_EXTRACAO'),\n",
    "        lista_campos_agupamento=['TOTAL_VISUALIZACOES' ,'TOTAL_COMENTARIOS', 'TOTAL_LIKES'],\n",
    "    )\n",
    "\n",
    "    criar_particao_ouro(\n",
    "        dataframe=df_estatisticas_etl_total_visualizacoes, \n",
    "        assunto_pesquisa=f'assunto_{assunto}', \n",
    "        metrica='total_visualizacoes_por_semana',\n",
    "        colunas_particao=('data_extracao', 'TURNO_EXTRACAO', 'ID_CANAL'),\n",
    "        nome_arquivo='total_visualizacoes_por_semana.parquet',\n",
    "    )\n",
    "\n",
    "   \n",
    "\n",
    "    "
   ]
  },
  {
   "cell_type": "markdown",
   "metadata": {},
   "source": [
    "<p>Comentários</p>"
   ]
  },
  {
   "cell_type": "code",
   "execution_count": 25,
   "metadata": {},
   "outputs": [],
   "source": [
    "df_comentarios = carregar_dataframe_prata(\n",
    "        spark_session=spark, \n",
    "        assunto=f'assunto_power_bi', \n",
    "        metrica='comentarios'\n",
    ")"
   ]
  },
  {
   "cell_type": "code",
   "execution_count": 26,
   "metadata": {},
   "outputs": [],
   "source": [
    "def extrair_comentarios(dataframe: DataFrame) -> DataFrame:\n",
    "    dataframe = dataframe \\\n",
    "        .select('ID_CANAL', 'ID_COMENTARIO', 'ID_VIDEO', 'TEXTO_COMENTARIO')  \\\n",
    "        .distinct().sort('ID_VIDEO') \n",
    "    return dataframe\n",
    "# Ugw-AOQ6Kh-Qof2U9bd4AaABAg - Gl60rzPP9VQ"
   ]
  },
  {
   "cell_type": "code",
   "execution_count": 27,
   "metadata": {},
   "outputs": [
    {
     "name": "stderr",
     "output_type": "stream",
     "text": [
      "[Stage 45:======================================>                   (4 + 2) / 6]\r"
     ]
    },
    {
     "name": "stdout",
     "output_type": "stream",
     "text": [
      "+------------------------+--------------------------+-----------+-------------------------------------------------------------------------------------------------------------------------------------------------------------------------------------------------------------------+\n",
      "|ID_CANAL                |ID_COMENTARIO             |ID_VIDEO   |TEXTO_COMENTARIO                                                                                                                                                                                                   |\n",
      "+------------------------+--------------------------+-----------+-------------------------------------------------------------------------------------------------------------------------------------------------------------------------------------------------------------------+\n",
      "|UCg6yqeJJ2WMFVt9bXeUd-zA|UgwcmMNJM8lHN6YKgF94AaABAg|-Jg3j6EH7cg|Um tecnólogo com conhecimentos técnicos e proficiência em idiomas é suficiente, desde que também possua um portfólio impressionante.                                                                               |\n",
      "|UCcuLEJUZy4jo9iFvngkoBUg|UgyvPKGE5_pVB3TZnht4AaABAg|-lB67HbJ4_E|Último gole 😅                                                                                                                                                                                                     |\n",
      "|UCcuLEJUZy4jo9iFvngkoBUg|UgzJnX4H4ye4bcwKtOt4AaABAg|-lB67HbJ4_E|Excelentes dicas Rômulo valeu obrigado                                                                                                                                                                             |\n",
      "|UCcuLEJUZy4jo9iFvngkoBUg|UgzmPEZ9Q_F3Ocl2acJ4AaABAg|-lB67HbJ4_E|Gostaria de agradecer a você Rômulo, segui suas dicas e fui aprovado na entrevista<br>Muito obrigado <br>Que Deus continue te abençoando                                                                           |\n",
      "|UCcuLEJUZy4jo9iFvngkoBUg|Ugz-GOwf8RueeN0rCUp4AaABAg|-lB67HbJ4_E|ÚLTIMA GOLADA                                                                                                                                                                                                      |\n",
      "|UCcuLEJUZy4jo9iFvngkoBUg|UgxxIO5HauxVG2oY-6d4AaABAg|-lB67HbJ4_E|Última Golada <a href=\"https://www.youtube.com/watch?v=-lB67HbJ4_E&amp;t=7m15s\">7:15</a> 😂😂😂                                                                                                                    |\n",
      "|UCcuLEJUZy4jo9iFvngkoBUg|Ugx9InYQtqiNildaFRt4AaABAg|-lB67HbJ4_E|Excelente                                                                                                                                                                                                          |\n",
      "|UCcuLEJUZy4jo9iFvngkoBUg|UgwlYVrr_1eQr7KzPrR4AaABAg|-lB67HbJ4_E|Eu assistir vários vídeos. Fiz uma entrevista on-line e logo após mandaram e-mail informando que eu tinha passado e pediram alguns dados, isso foi dia 5, após isso, até o momento não me mandaram mais nada.      |\n",
      "|UCcuLEJUZy4jo9iFvngkoBUg|Ugxgg4-iS2fxSJ2wP994AaABAg|-lB67HbJ4_E|Excelente 💛                                                                                                                                                                                                       |\n",
      "|UCcuLEJUZy4jo9iFvngkoBUg|UgxVe52cJq_p_ArRrJh4AaABAg|-lB67HbJ4_E|Último gole❤                                                                                                                                                                                                       |\n",
      "|UCcuLEJUZy4jo9iFvngkoBUg|UgycuD2zcshmLQNqWl94AaABAg|-lB67HbJ4_E|Último gole....😁                                                                                                                                                                                                  |\n",
      "|UCcuLEJUZy4jo9iFvngkoBUg|Ugylsek8VvKF0ZpI1ep4AaABAg|-lB67HbJ4_E|Exemplos tops😊                                                                                                                                                                                                    |\n",
      "|UCcuLEJUZy4jo9iFvngkoBUg|UgyMF0aYA06D6nYIDJt4AaABAg|-lB67HbJ4_E|Vídeo Top Master!                                                                                                                                                                                                  |\n",
      "|UCcuLEJUZy4jo9iFvngkoBUg|UgwYbIUefwiqMZfk6px4AaABAg|-lB67HbJ4_E|Valeu!                                                                                                                                                                                                             |\n",
      "|UCcuLEJUZy4jo9iFvngkoBUg|Ugy8ZLZe_oFIU5rXs3N4AaABAg|-lB67HbJ4_E|Whatsapp do Rômulo CLIQUE NESTE LINK <a href=\"https://api.whatsapp.com/send?phone=5511977065417\">https://api.whatsapp.com/send?phone=5511977065417</a>   11 9 7706-5417  PREÇOS PEQUENOS PARA OS INSCRITOS NO CANAL|\n",
      "|UCcuLEJUZy4jo9iFvngkoBUg|UgwmFfK2JeTzdtXOVzR4AaABAg|-lB67HbJ4_E|Última Goladaaa 😂😂😂                                                                                                                                                                                             |\n",
      "|UCcuLEJUZy4jo9iFvngkoBUg|UgyYjtoX_M72LQ062yN4AaABAg|-lB67HbJ4_E|Rômulo, the best na consultoria. Podem fechar com ele, pois abaixo de Deus ele foi peça chave na minha admissão em uma empresa onde atuei. O cara domina pessoal! 🏆🚀                                             |\n",
      "|UCcuLEJUZy4jo9iFvngkoBUg|Ugygq55T199mVCHdFIN4AaABAg|-lB67HbJ4_E|Ultima golada!                                                                                                                                                                                                     |\n",
      "|UCcuLEJUZy4jo9iFvngkoBUg|UgzjN-vobm7igF1ovZ14AaABAg|-lB67HbJ4_E|Otimo                                                                                                                                                                                                              |\n",
      "|UCcuLEJUZy4jo9iFvngkoBUg|Ugzyo1gtVNQTPzM4Jdp4AaABAg|-lB67HbJ4_E|boa                                                                                                                                                                                                                |\n",
      "+------------------------+--------------------------+-----------+-------------------------------------------------------------------------------------------------------------------------------------------------------------------------------------------------------------------+\n",
      "only showing top 20 rows\n",
      "\n"
     ]
    },
    {
     "name": "stderr",
     "output_type": "stream",
     "text": [
      "                                                                                \r"
     ]
    }
   ],
   "source": [
    "extrair_comentarios(df_comentarios).show(truncate=False)"
   ]
  },
  {
   "cell_type": "markdown",
   "metadata": {},
   "source": [
    "<p>Extacao comentário</p>"
   ]
  },
  {
   "cell_type": "code",
   "execution_count": 28,
   "metadata": {},
   "outputs": [
    {
     "name": "stdout",
     "output_type": "stream",
     "text": [
      "ETL PARA  Power BI\n"
     ]
    },
    {
     "name": "stderr",
     "output_type": "stream",
     "text": [
      "                                                                                \r"
     ]
    },
    {
     "name": "stdout",
     "output_type": "stream",
     "text": [
      "ETL PARA  Python AND dados\n"
     ]
    },
    {
     "name": "stderr",
     "output_type": "stream",
     "text": [
      "                                                                                \r"
     ]
    },
    {
     "name": "stdout",
     "output_type": "stream",
     "text": [
      "ETL PARA  Cities Skylines\n"
     ]
    },
    {
     "name": "stderr",
     "output_type": "stream",
     "text": [
      "                                                                                \r"
     ]
    },
    {
     "name": "stdout",
     "output_type": "stream",
     "text": [
      "ETL PARA  Cities Skylines 2\n"
     ]
    },
    {
     "name": "stderr",
     "output_type": "stream",
     "text": [
      "                                                                                \r"
     ]
    }
   ],
   "source": [
    "for assunto in lista_assunto:\n",
    "    print('ETL PARA ', assunto)\n",
    "    assunto = assunto.replace(' ', '_').lower()\n",
    "    df_comentarios = carregar_dataframe_prata(\n",
    "        spark_session=spark, \n",
    "        assunto=f'assunto_{assunto}', \n",
    "        metrica='comentarios'\n",
    "    )\n",
    "    df_comentarios = extrair_comentarios(df_comentarios)\n",
    "    criar_particao_ouro(\n",
    "        dataframe=df_comentarios, \n",
    "        assunto_pesquisa=f'assunto_{assunto}', \n",
    "        metrica='comentarios',\n",
    "        colunas_particao=('ID_CANAL', 'ID_VIDEO'),\n",
    "        nome_arquivo='comentarios.parquet',\n",
    "    )"
   ]
  },
  {
   "cell_type": "code",
   "execution_count": 29,
   "metadata": {},
   "outputs": [
    {
     "name": "stdout",
     "output_type": "stream",
     "text": [
      "ETL PARA  Power BI\n"
     ]
    },
    {
     "name": "stderr",
     "output_type": "stream",
     "text": [
      "                                                                                \r"
     ]
    },
    {
     "name": "stdout",
     "output_type": "stream",
     "text": [
      "ETL PARA  Python AND dados\n"
     ]
    },
    {
     "name": "stderr",
     "output_type": "stream",
     "text": [
      "                                                                                \r"
     ]
    },
    {
     "name": "stdout",
     "output_type": "stream",
     "text": [
      "ETL PARA  Cities Skylines\n"
     ]
    },
    {
     "name": "stderr",
     "output_type": "stream",
     "text": [
      "                                                                                \r"
     ]
    },
    {
     "name": "stdout",
     "output_type": "stream",
     "text": [
      "ETL PARA  Cities Skylines 2\n"
     ]
    },
    {
     "name": "stderr",
     "output_type": "stream",
     "text": [
      "                                                                                \r"
     ]
    }
   ],
   "source": [
    "for assunto in lista_assunto:\n",
    "    print('ETL PARA ', assunto)\n",
    "    assunto = assunto.replace(' ', '_').lower()\n",
    "\n",
    "    df_resposta_comentarios = carregar_dataframe_prata(\n",
    "        assunto=f'assunto_{assunto}',\n",
    "        spark_session=spark,\n",
    "        metrica='resposta_comentarios'\n",
    "    )   \n",
    "\n",
    "\n",
    "    df_resposta_comentarios = df_resposta_comentarios.select(\n",
    "        'ID_CANAL', \n",
    "        'ID_RESPOSTA_COMENTARIOS', \n",
    "        'TEXTO').withColumnRenamed(\n",
    "            'ID_CANAL', 'ID_CANAL'\n",
    "        ).distinct()\n",
    "    criar_particao_ouro(\n",
    "        dataframe=df_resposta_comentarios, \n",
    "        assunto_pesquisa=f'assunto_{assunto}', \n",
    "        metrica='reposta_comentarios',\n",
    "        colunas_particao=('ID_CANAL', 'ID_RESPOSTA_COMENTARIOS'),\n",
    "        nome_arquivo='reposta_comentarios.parquet',\n",
    "    )"
   ]
  },
  {
   "cell_type": "code",
   "execution_count": 30,
   "metadata": {},
   "outputs": [
    {
     "name": "stdout",
     "output_type": "stream",
     "text": [
      "+------------------------+-------------------------------------------------+------------------------------------------------------------------------------------------------------------------------------------------------------------------------------------------------------------------------------------------------------------------------------------------------------------------------------+\n",
      "|ID_CANAL                |ID_RESPOSTA_COMENTARIOS                          |TEXTO                                                                                                                                                                                                                                                                                                                         |\n",
      "+------------------------+-------------------------------------------------+------------------------------------------------------------------------------------------------------------------------------------------------------------------------------------------------------------------------------------------------------------------------------------------------------------------------------+\n",
      "|UCrOH1V-FyMunBIMrKL0y0xQ|Ugx8DgeGGf2r7HsrPKF4AaABAg.9wIQXTxKNt89wIS3ElEr83|Estacionamentos tambem ajuda                                                                                                                                                                                                                                                                                                  |\n",
      "|UCrOH1V-FyMunBIMrKL0y0xQ|Ugwtb0MSIh1mdFeTh6d4AaABAg.9w86ovG3Icp9w87GkRV32Y|Se n tiver 8 de vram nem pensa em joga esse cs                                                                                                                                                                                                                                                                                |\n",
      "|UCrOH1V-FyMunBIMrKL0y0xQ|UgwH8BtufUQtS-tu5sB4AaABAg.9wNdglYn5bu9wNlPgsU-y3|@Jonas D. não tem nada a ver, os acidentes são um problema sério, mas de acordo com o problema que o charuto fala é a IA nova que citei acima                                                                                                                                                                                 |\n",
      "|UCOYJm7BsLV8VCkW2DC1MI5w|UgxLOUCbBhD4HL3sa-l4AaABAg.9w37sKiEBxV9w3N2AWTu_t|opa vlw pela dica, realmente essa cidade ja n consegue crescer , vou tentar salvar ela                                                                                                                                                                                                                                        |\n",
      "|UCfY4ggUDPeecGSCNePyyVSA|Ugw3e2uRx3JdCpOc51d4AaABAg.9w5HQkRZ8MC9w5NUnxyu6d|vai rodar, mas em 1080 com gráficos no baixo e sem alguns elementos visuais tipo sombra                                                                                                                                                                                                                                       |\n",
      "|UCrOH1V-FyMunBIMrKL0y0xQ|UgyZb7P9u-CJDa1eadZ4AaABAg.9wAiCw_KBtg9wBUgZ_GhKq|caaaara, duas pessoas totalmente diferentes kkkkkkkkkkkkkk                                                                                                                                                                                                                                                                    |\n",
      "|UC1mk6EtfMjxR4eEZ7C43zTQ|Ugxc6yLDT9g3poSToUN4AaABAg.9w1U3Nb84un9w3lZWJsU4L|Estamos muito felizes com a resposta de vocês. Rumo a próxima meta !                                                                                                                                                                                                                                                          |\n",
      "|UCEfL_pp3h8Ul-LIL1C4o34w|UgwaCYf5yEODk4GRgAh4AaABAg.9w5UCRWvjcC9w6ExrORlpo|Ficou sim                                                                                                                                                                                                                                                                                                                     |\n",
      "|UCe9jrI0YQ5SM6h5QRZ9FZlA|Ugy4mQXLiT6PUO3EN214AaABAg.9wAScQ5aFWH9wAUGdk7G4n|Na descrição do vídeo tem as configurações do PC dele.                                                                                                                                                                                                                                                                        |\n",
      "|UCDGo_s0I-2JpO3o3xlkMQVA|UgwUXGu9W-P0HawBDqV4AaABAg.9w54xCih8Jb9w6OEB7knvP|Oi Paulo! Bem vindo por aqui querido! O nome do canal é uma mistura de duas palavras: Simulação, que é meu gênero de jogo preferido, e Áries, que é meu signo e apesar de eu não acreditar muito nisso bastante gente fala que sou muito do que falam de áries então pela brincadeira eu coloquei as duas misturadas hahaha :)|\n",
      "|UCZJCKa3l5khIWKLJI2j4KzA|UgwQ8QssIOdGWE2ngIJ4AaABAg.9wM192BxQ8J9wMCURBp_dp|😍😍😍😍                                                                                                                                                                                                                                                                                                                      |\n",
      "|UCrOH1V-FyMunBIMrKL0y0xQ|UgwqhnbIKxhwusa6WOZ4AaABAg.9w0T6ZU7FK_9w0TCDy23F0|Suspeito a redoviaria                                                                                                                                                                                                                                                                                                         |\n",
      "|UCrOH1V-FyMunBIMrKL0y0xQ|UgyI--hUg0boHKo_R4p4AaABAg.9w87aHO-Vk29w8LO61MxLI|​@Pablo Rodriguesele não ignorou apenas dise que não era viável mudar agora e também não tinha espaço                                                                                                                                                                                                                         |\n",
      "|UCfY4ggUDPeecGSCNePyyVSA|UgyinSqqQm8AElB7A7V4AaABAg.9w5nun4sV1r9w8-XSJSR82|Cara, eu vou comprar só por causa disso. Vou comprar mas não vou jogar. Vou comprar só pra garantir o valor baixo. Pq depois eles vão aumentar. Então vou deixar ele \"guardado\"                                                                                                                                               |\n",
      "|UCrOH1V-FyMunBIMrKL0y0xQ|UgzdC-GoPYlBm1QYO014AaABAg.9wNb0vQEE3W9wNgbOp-JUJ|não compre agora, baixei pelo game pass, tenho uma rx5600xt, tava jogando 1080p  de boa, mas agora ta crashando quando tento entrar no jogo                                                                                                                                                                                   |\n",
      "|UCrOH1V-FyMunBIMrKL0y0xQ|UgzANBoWT8fsEjZbeTJ4AaABAg.9w8IxpUkE0r9w8QHhgrims|acho q ele não pesquisou                                                                                                                                                                                                                                                                                                      |\n",
      "|UCfY4ggUDPeecGSCNePyyVSA|UgzWpIl51EHPb3wsxpN4AaABAg.9w5pAg8BCVx9w5wwNdLnCV|Ele não pode reclamar e avisar a comunidade só porque a Colossal já avisou?\\nNão entendi o seu ponto. E isso não é só ele, todo mundo de acesso antecipado tá falando sobre o problema.                                                                                                                                       |\n",
      "|UCrOH1V-FyMunBIMrKL0y0xQ|UgxdyVex8HinQdQ7QyZ4AaABAg.9vtg-CDu61r9vv6xwHcOWt|​@Cultosaurus Erectuskkkkkkkkkkkk                                                                                                                                                                                                                                                                                             |\n",
      "|UCrOH1V-FyMunBIMrKL0y0xQ|UgyI--hUg0boHKo_R4p4AaABAg.9w87aHO-Vk29w8Ci5rFgUs|quando tiver com 100k de habitantes ele percebe                                                                                                                                                                                                                                                                               |\n",
      "|UCJYFuFymG6_6TLUxC-4YHzA|UgzektWeMdeathsWBl94AaABAg.9wH0J0uoDR39wIPq-J9fgc|Boaa!@Allysson Stankowicz                                                                                                                                                                                                                                                                                                     |\n",
      "+------------------------+-------------------------------------------------+------------------------------------------------------------------------------------------------------------------------------------------------------------------------------------------------------------------------------------------------------------------------------------------------------------------------------+\n",
      "only showing top 20 rows\n",
      "\n"
     ]
    }
   ],
   "source": [
    "df_resposta_comentarios.select('ID_CANAL', 'ID_RESPOSTA_COMENTARIOS', 'TEXTO').distinct().show(truncate=False)"
   ]
  },
  {
   "cell_type": "markdown",
   "metadata": {},
   "source": [
    "<p>Trends do Youtube</p>"
   ]
  },
  {
   "cell_type": "code",
   "execution_count": 23,
   "metadata": {},
   "outputs": [
    {
     "name": "stdout",
     "output_type": "stream",
     "text": [
      "+-------------------+------------+--------------------+------------------+-----------+----------------------+--------+-------------------------+-----------------+---------------+-----------+-------------------+\n",
      "|      data_extracao|ID_CATEGORIA|            ID_CANAL|          NM_CANAL|   ID_VIDEO|          TITULO_VIDEO| DURACAO|                DESCRICAO|TOTAL_COMENTARIOS|TOTAL_FAVORITOS|TOTAL_LIKES|TOTAL_VISUALIZACOES|\n",
      "+-------------------+------------+--------------------+------------------+-----------+----------------------+--------+-------------------------+-----------------+---------------+-----------+-------------------+\n",
      "|2023-10-23 08:32:43|          20|UCHuZmQ0lSW8TG81d...|        LipaoGamer|qvgmMih8FOc|  SPIDER MAN 2 PS5 ...|PT26M59S|     Vídeos todos os d...|              295|              0|      17428|             500862|\n",
      "|2023-10-23 08:32:43|          17|UCv-Nx8pSfG_LxbVi...|Jovem Pan Esportes|Rq1RqHl2AO0|  \"CADÊ O 'PLANO' N...|PT21M28S|     CRISE NO PALMEIRA...|              864|              0|      10567|             335746|\n",
      "|2023-10-23 08:32:43|          26|UCuD2V9FCQiDTjTLZ...|   Maurício Arruda|ua1DsYjuavo|     TOUR NO MEU SÍTIO|PT29M48S|     Veio aí o tão agu...|             2120|              0|      16664|             184857|\n",
      "|2023-10-23 08:32:43|          17|UCv-Nx8pSfG_LxbVi...|Jovem Pan Esportes|l_tNmRX2DHM|  \"FOI UMA BOA ESTR...| PT20M7S|     O Flamengo venceu...|              479|              0|      16969|             470774|\n",
      "|2023-10-23 08:32:43|          24|UCvuJTWl_peL49CUf...|     Camila Loures|sgJ6EjZjZ2k|  CONTEI QUE ESTOU ...|PT10M42S|     ATENÇÃO ESTE VIDE...|              576|              0|      29055|             383363|\n",
      "|2023-10-23 08:32:43|          10|UCrm0LFyOM03IZrpb...|          CESAR MC|NDo-5Rm7gSg|  CESAR MC “LIGAÇÕE...|  PT3M4S|     Cesar Mc \"Ligaçõe...|              829|              0|      26054|             161064|\n",
      "|2023-10-23 08:32:43|          17|UCy7aeNy60EVhMwBz...|   Cruzeiro Sports|imMhGm8YwhA|  🔥 RESPOSTA DO DI...|PT11M11S|     Ouça a analise do...|             1120|              0|       5330|              78207|\n",
      "|2023-10-23 08:32:43|          22|UCuUUWPHIioyfmctn...|         POD DELAS|VYnUNWTP5Es|  MaterniDelas - El...|PT46M41S|     Quem aí estava an...|              691|              0|      30152|             435736|\n",
      "|2023-10-23 08:32:43|          17|UCZD5qcen7lbLPFTj...|           VascoTV|2-2vxtY_Gyg|  BASTIDORES VASCO ...| PT16M1S|     Inscreva-se na #V...|              654|              0|      19886|             159121|\n",
      "|2023-10-23 08:32:43|          26|UCrpLBn22arVETOO5...|   Amo Pão Caseiro|m81tmOx603Y|  MINI PÃO PITA - R...| PT5M39S|     🌟 Seja membro do...|              173|              0|       5785|             376665|\n",
      "|2023-10-23 08:32:43|          22|UClE9GGSO-HMiiKQU...|             EHXIS|jM1TGKYTIso|  Igão - X6 | Quebr...| PT2M13S|     Direção: Guilherm...|             1138|              0|      22138|             161401|\n",
      "|2023-10-23 08:32:43|          24|UCboK4EZXs0YRg_YV...|        Peter Aqui|hA0FpgPLNXk|  REAGINDO AS PEGAD...|PT15M30S|     #React #Pegadinha...|              688|              0|      24875|             204839|\n",
      "|2023-10-23 08:32:43|          20|UCn26TbctVxc6mUTe...|            MucaHD|z_gXMB2Qpl4|  CREATIVE SQUAD 4:...|PT13M51S|     📸INSTAGRAM: http...|              331|              0|      10429|             172467|\n",
      "|2023-10-23 08:32:43|          10|UCaO6TYtlC8U5ttz6...| JYP Entertainment|QlJHJa7phrU|Stray Kids ＜樂-STA...| PT1M16S|Stray Kids(스트레이 키...|            25944|              0|     476414|            2594799|\n",
      "|2023-10-23 08:32:43|          10|UC3jOd7GUMhpgJRBh...|       Nicki Minaj|8OVpDOvsLIk|  Nicki Minaj - FOR...| PT2M25S|     ►Connect with Nic...|             8602|              0|      94849|            1081731|\n",
      "|2023-10-23 08:32:43|          24|UCXUf_NoRtZcarN82...|              VIVA|IsHRe32DkcY|  RUTH REVELA QUE T...|  PT6M7S|     Ruth decide conta...|              263|              0|       7227|             824018|\n",
      "|2023-10-23 08:32:43|          17|UCFxjZDrLCOCHkUCu...|       Botafogo TV|318ZRQLUwBQ|  Bastidores | Amér...|PT15M49S|     Tem #Bastidores d...|              296|              0|       8568|              77990|\n",
      "|2023-10-23 08:32:43|          10|UCDVAzIDnbgElNB4X...|      Bruno Gadiol|fDbNLQSddTQ|  Bruno Gadiol, Gra...| PT2M55S|     Esse é o videocli...|              336|              0|       6700|              44412|\n",
      "|2023-10-23 08:32:43|          24|UC0LlPl_mWhIFqVxc...|   WebTVBrasileira|SpD3nKnUEd0|  🐔A FAZENDA 15 VÍ...| PT53M9S|     #AFazenda15 #Hora...|             1635|              0|      31205|             353756|\n",
      "|2023-10-23 08:32:43|          20|UCtXXSuHUWh1-PRC7...|           Saadhak|f9TbPK2KVrY|  TUDO sobre ISO NO...|PT13M30S|     Matias Delipetro ...|              552|              0|      15689|             190712|\n",
      "+-------------------+------------+--------------------+------------------+-----------+----------------------+--------+-------------------------+-----------------+---------------+-----------+-------------------+\n",
      "only showing top 20 rows\n",
      "\n"
     ]
    }
   ],
   "source": [
    "df_trends = carregar_dataframe_prata(\n",
    "    spark_session=spark,\n",
    "    assunto='top_brazil',\n",
    ")\n",
    "\n",
    "df_trends.show()"
   ]
  },
  {
   "cell_type": "code",
   "execution_count": 24,
   "metadata": {},
   "outputs": [],
   "source": [
    "df_trends = df_trends.withColumn('data_hora_extracao', df_trends['data_extracao'])\n",
    "df_trends = df_trends.withColumn(\"data_extracao\", f.date_format(f.unix_timestamp(\"data_extracao\", \"yyyy-MM-dd HH:mm:ss\").cast(\"timestamp\"), \"yyyy-MM-dd\"))\n",
    "df_trends = df_trends.withColumn('DURACAO', converter_minutos(f.col('DURACAO')))\n",
    "df_trends = df_trends.withColumn('TOTAL_VISUALIZACOES', f.col('TOTAL_VISUALIZACOES').cast('int'))\n"
   ]
  },
  {
   "cell_type": "code",
   "execution_count": 25,
   "metadata": {},
   "outputs": [
    {
     "name": "stderr",
     "output_type": "stream",
     "text": [
      "[Stage 14:>                                                         (0 + 1) / 1]\r"
     ]
    },
    {
     "name": "stdout",
     "output_type": "stream",
     "text": [
      "+-------------+------------+--------------------+------------------+-----------+----------------------+-------+-------------------------+-----------------+---------------+-----------+-------------------+-------------------+\n",
      "|data_extracao|ID_CATEGORIA|            ID_CANAL|          NM_CANAL|   ID_VIDEO|          TITULO_VIDEO|DURACAO|                DESCRICAO|TOTAL_COMENTARIOS|TOTAL_FAVORITOS|TOTAL_LIKES|TOTAL_VISUALIZACOES| data_hora_extracao|\n",
      "+-------------+------------+--------------------+------------------+-----------+----------------------+-------+-------------------------+-----------------+---------------+-----------+-------------------+-------------------+\n",
      "|   2023-10-23|          20|UCHuZmQ0lSW8TG81d...|        LipaoGamer|qvgmMih8FOc|  SPIDER MAN 2 PS5 ...|  26.98|     Vídeos todos os d...|              295|              0|      17428|             500862|2023-10-23 08:32:43|\n",
      "|   2023-10-23|          17|UCv-Nx8pSfG_LxbVi...|Jovem Pan Esportes|Rq1RqHl2AO0|  \"CADÊ O 'PLANO' N...|  21.47|     CRISE NO PALMEIRA...|              864|              0|      10567|             335746|2023-10-23 08:32:43|\n",
      "|   2023-10-23|          26|UCuD2V9FCQiDTjTLZ...|   Maurício Arruda|ua1DsYjuavo|     TOUR NO MEU SÍTIO|   29.8|     Veio aí o tão agu...|             2120|              0|      16664|             184857|2023-10-23 08:32:43|\n",
      "|   2023-10-23|          17|UCv-Nx8pSfG_LxbVi...|Jovem Pan Esportes|l_tNmRX2DHM|  \"FOI UMA BOA ESTR...|  20.12|     O Flamengo venceu...|              479|              0|      16969|             470774|2023-10-23 08:32:43|\n",
      "|   2023-10-23|          24|UCvuJTWl_peL49CUf...|     Camila Loures|sgJ6EjZjZ2k|  CONTEI QUE ESTOU ...|   10.7|     ATENÇÃO ESTE VIDE...|              576|              0|      29055|             383363|2023-10-23 08:32:43|\n",
      "|   2023-10-23|          10|UCrm0LFyOM03IZrpb...|          CESAR MC|NDo-5Rm7gSg|  CESAR MC “LIGAÇÕE...|   3.07|     Cesar Mc \"Ligaçõe...|              829|              0|      26054|             161064|2023-10-23 08:32:43|\n",
      "|   2023-10-23|          17|UCy7aeNy60EVhMwBz...|   Cruzeiro Sports|imMhGm8YwhA|  🔥 RESPOSTA DO DI...|  11.18|     Ouça a analise do...|             1120|              0|       5330|              78207|2023-10-23 08:32:43|\n",
      "|   2023-10-23|          22|UCuUUWPHIioyfmctn...|         POD DELAS|VYnUNWTP5Es|  MaterniDelas - El...|  46.68|     Quem aí estava an...|              691|              0|      30152|             435736|2023-10-23 08:32:43|\n",
      "|   2023-10-23|          17|UCZD5qcen7lbLPFTj...|           VascoTV|2-2vxtY_Gyg|  BASTIDORES VASCO ...|  16.02|     Inscreva-se na #V...|              654|              0|      19886|             159121|2023-10-23 08:32:43|\n",
      "|   2023-10-23|          26|UCrpLBn22arVETOO5...|   Amo Pão Caseiro|m81tmOx603Y|  MINI PÃO PITA - R...|   5.65|     🌟 Seja membro do...|              173|              0|       5785|             376665|2023-10-23 08:32:43|\n",
      "|   2023-10-23|          22|UClE9GGSO-HMiiKQU...|             EHXIS|jM1TGKYTIso|  Igão - X6 | Quebr...|   2.22|     Direção: Guilherm...|             1138|              0|      22138|             161401|2023-10-23 08:32:43|\n",
      "|   2023-10-23|          24|UCboK4EZXs0YRg_YV...|        Peter Aqui|hA0FpgPLNXk|  REAGINDO AS PEGAD...|   15.5|     #React #Pegadinha...|              688|              0|      24875|             204839|2023-10-23 08:32:43|\n",
      "|   2023-10-23|          20|UCn26TbctVxc6mUTe...|            MucaHD|z_gXMB2Qpl4|  CREATIVE SQUAD 4:...|  13.85|     📸INSTAGRAM: http...|              331|              0|      10429|             172467|2023-10-23 08:32:43|\n",
      "|   2023-10-23|          10|UCaO6TYtlC8U5ttz6...| JYP Entertainment|QlJHJa7phrU|Stray Kids ＜樂-STA...|   1.27|Stray Kids(스트레이 키...|            25944|              0|     476414|            2594799|2023-10-23 08:32:43|\n",
      "|   2023-10-23|          10|UC3jOd7GUMhpgJRBh...|       Nicki Minaj|8OVpDOvsLIk|  Nicki Minaj - FOR...|   2.42|     ►Connect with Nic...|             8602|              0|      94849|            1081731|2023-10-23 08:32:43|\n",
      "|   2023-10-23|          24|UCXUf_NoRtZcarN82...|              VIVA|IsHRe32DkcY|  RUTH REVELA QUE T...|   6.12|     Ruth decide conta...|              263|              0|       7227|             824018|2023-10-23 08:32:43|\n",
      "|   2023-10-23|          17|UCFxjZDrLCOCHkUCu...|       Botafogo TV|318ZRQLUwBQ|  Bastidores | Amér...|  15.82|     Tem #Bastidores d...|              296|              0|       8568|              77990|2023-10-23 08:32:43|\n",
      "|   2023-10-23|          10|UCDVAzIDnbgElNB4X...|      Bruno Gadiol|fDbNLQSddTQ|  Bruno Gadiol, Gra...|   2.92|     Esse é o videocli...|              336|              0|       6700|              44412|2023-10-23 08:32:43|\n",
      "|   2023-10-23|          24|UC0LlPl_mWhIFqVxc...|   WebTVBrasileira|SpD3nKnUEd0|  🐔A FAZENDA 15 VÍ...|  53.15|     #AFazenda15 #Hora...|             1635|              0|      31205|             353756|2023-10-23 08:32:43|\n",
      "|   2023-10-23|          20|UCtXXSuHUWh1-PRC7...|           Saadhak|f9TbPK2KVrY|  TUDO sobre ISO NO...|   13.5|     Matias Delipetro ...|              552|              0|      15689|             190712|2023-10-23 08:32:43|\n",
      "+-------------+------------+--------------------+------------------+-----------+----------------------+-------+-------------------------+-----------------+---------------+-----------+-------------------+-------------------+\n",
      "only showing top 20 rows\n",
      "\n"
     ]
    },
    {
     "name": "stderr",
     "output_type": "stream",
     "text": [
      "                                                                                \r"
     ]
    }
   ],
   "source": [
    "df_trends.show()"
   ]
  },
  {
   "cell_type": "code",
   "execution_count": 26,
   "metadata": {},
   "outputs": [
    {
     "name": "stdout",
     "output_type": "stream",
     "text": [
      "+-------------+------------+--------------------+------------------+-----------+----------------------+-------+-------------------------+-----------------+---------------+-----------+-------------------+-------------------+-------------+--------------+---------------------+\n",
      "|data_extracao|ID_CATEGORIA|            ID_CANAL|          NM_CANAL|   ID_VIDEO|          TITULO_VIDEO|DURACAO|                DESCRICAO|TOTAL_COMENTARIOS|TOTAL_FAVORITOS|TOTAL_LIKES|TOTAL_VISUALIZACOES| data_hora_extracao|HORA_EXTRACAO|TURNO_EXTRACAO|INDICE_TURNO_EXTRACAO|\n",
      "+-------------+------------+--------------------+------------------+-----------+----------------------+-------+-------------------------+-----------------+---------------+-----------+-------------------+-------------------+-------------+--------------+---------------------+\n",
      "|   2023-10-23|          20|UCHuZmQ0lSW8TG81d...|        LipaoGamer|qvgmMih8FOc|  SPIDER MAN 2 PS5 ...|  26.98|     Vídeos todos os d...|              295|              0|      17428|             500862|2023-10-23 08:32:43|            8|         Manhã|                    1|\n",
      "|   2023-10-23|          17|UCv-Nx8pSfG_LxbVi...|Jovem Pan Esportes|Rq1RqHl2AO0|  \"CADÊ O 'PLANO' N...|  21.47|     CRISE NO PALMEIRA...|              864|              0|      10567|             335746|2023-10-23 08:32:43|            8|         Manhã|                    1|\n",
      "|   2023-10-23|          26|UCuD2V9FCQiDTjTLZ...|   Maurício Arruda|ua1DsYjuavo|     TOUR NO MEU SÍTIO|   29.8|     Veio aí o tão agu...|             2120|              0|      16664|             184857|2023-10-23 08:32:43|            8|         Manhã|                    1|\n",
      "|   2023-10-23|          17|UCv-Nx8pSfG_LxbVi...|Jovem Pan Esportes|l_tNmRX2DHM|  \"FOI UMA BOA ESTR...|  20.12|     O Flamengo venceu...|              479|              0|      16969|             470774|2023-10-23 08:32:43|            8|         Manhã|                    1|\n",
      "|   2023-10-23|          24|UCvuJTWl_peL49CUf...|     Camila Loures|sgJ6EjZjZ2k|  CONTEI QUE ESTOU ...|   10.7|     ATENÇÃO ESTE VIDE...|              576|              0|      29055|             383363|2023-10-23 08:32:43|            8|         Manhã|                    1|\n",
      "|   2023-10-23|          10|UCrm0LFyOM03IZrpb...|          CESAR MC|NDo-5Rm7gSg|  CESAR MC “LIGAÇÕE...|   3.07|     Cesar Mc \"Ligaçõe...|              829|              0|      26054|             161064|2023-10-23 08:32:43|            8|         Manhã|                    1|\n",
      "|   2023-10-23|          17|UCy7aeNy60EVhMwBz...|   Cruzeiro Sports|imMhGm8YwhA|  🔥 RESPOSTA DO DI...|  11.18|     Ouça a analise do...|             1120|              0|       5330|              78207|2023-10-23 08:32:43|            8|         Manhã|                    1|\n",
      "|   2023-10-23|          22|UCuUUWPHIioyfmctn...|         POD DELAS|VYnUNWTP5Es|  MaterniDelas - El...|  46.68|     Quem aí estava an...|              691|              0|      30152|             435736|2023-10-23 08:32:43|            8|         Manhã|                    1|\n",
      "|   2023-10-23|          17|UCZD5qcen7lbLPFTj...|           VascoTV|2-2vxtY_Gyg|  BASTIDORES VASCO ...|  16.02|     Inscreva-se na #V...|              654|              0|      19886|             159121|2023-10-23 08:32:43|            8|         Manhã|                    1|\n",
      "|   2023-10-23|          26|UCrpLBn22arVETOO5...|   Amo Pão Caseiro|m81tmOx603Y|  MINI PÃO PITA - R...|   5.65|     🌟 Seja membro do...|              173|              0|       5785|             376665|2023-10-23 08:32:43|            8|         Manhã|                    1|\n",
      "|   2023-10-23|          22|UClE9GGSO-HMiiKQU...|             EHXIS|jM1TGKYTIso|  Igão - X6 | Quebr...|   2.22|     Direção: Guilherm...|             1138|              0|      22138|             161401|2023-10-23 08:32:43|            8|         Manhã|                    1|\n",
      "|   2023-10-23|          24|UCboK4EZXs0YRg_YV...|        Peter Aqui|hA0FpgPLNXk|  REAGINDO AS PEGAD...|   15.5|     #React #Pegadinha...|              688|              0|      24875|             204839|2023-10-23 08:32:43|            8|         Manhã|                    1|\n",
      "|   2023-10-23|          20|UCn26TbctVxc6mUTe...|            MucaHD|z_gXMB2Qpl4|  CREATIVE SQUAD 4:...|  13.85|     📸INSTAGRAM: http...|              331|              0|      10429|             172467|2023-10-23 08:32:43|            8|         Manhã|                    1|\n",
      "|   2023-10-23|          10|UCaO6TYtlC8U5ttz6...| JYP Entertainment|QlJHJa7phrU|Stray Kids ＜樂-STA...|   1.27|Stray Kids(스트레이 키...|            25944|              0|     476414|            2594799|2023-10-23 08:32:43|            8|         Manhã|                    1|\n",
      "|   2023-10-23|          10|UC3jOd7GUMhpgJRBh...|       Nicki Minaj|8OVpDOvsLIk|  Nicki Minaj - FOR...|   2.42|     ►Connect with Nic...|             8602|              0|      94849|            1081731|2023-10-23 08:32:43|            8|         Manhã|                    1|\n",
      "|   2023-10-23|          24|UCXUf_NoRtZcarN82...|              VIVA|IsHRe32DkcY|  RUTH REVELA QUE T...|   6.12|     Ruth decide conta...|              263|              0|       7227|             824018|2023-10-23 08:32:43|            8|         Manhã|                    1|\n",
      "|   2023-10-23|          17|UCFxjZDrLCOCHkUCu...|       Botafogo TV|318ZRQLUwBQ|  Bastidores | Amér...|  15.82|     Tem #Bastidores d...|              296|              0|       8568|              77990|2023-10-23 08:32:43|            8|         Manhã|                    1|\n",
      "|   2023-10-23|          10|UCDVAzIDnbgElNB4X...|      Bruno Gadiol|fDbNLQSddTQ|  Bruno Gadiol, Gra...|   2.92|     Esse é o videocli...|              336|              0|       6700|              44412|2023-10-23 08:32:43|            8|         Manhã|                    1|\n",
      "|   2023-10-23|          24|UC0LlPl_mWhIFqVxc...|   WebTVBrasileira|SpD3nKnUEd0|  🐔A FAZENDA 15 VÍ...|  53.15|     #AFazenda15 #Hora...|             1635|              0|      31205|             353756|2023-10-23 08:32:43|            8|         Manhã|                    1|\n",
      "|   2023-10-23|          20|UCtXXSuHUWh1-PRC7...|           Saadhak|f9TbPK2KVrY|  TUDO sobre ISO NO...|   13.5|     Matias Delipetro ...|              552|              0|      15689|             190712|2023-10-23 08:32:43|            8|         Manhã|                    1|\n",
      "+-------------+------------+--------------------+------------------+-----------+----------------------+-------+-------------------------+-----------------+---------------+-----------+-------------------+-------------------+-------------+--------------+---------------------+\n",
      "only showing top 20 rows\n",
      "\n"
     ]
    },
    {
     "name": "stderr",
     "output_type": "stream",
     "text": [
      "                                                                                \r"
     ]
    }
   ],
   "source": [
    "df_trends = df_trends.withColumn('HORA_EXTRACAO', f.hour(\"data_hora_extracao\"))\n",
    "df_trends = df_trends.withColumn(\n",
    "        'TURNO_EXTRACAO',\n",
    "        (\n",
    "            f.when(\n",
    "                (df_trends.HORA_EXTRACAO >=6) & (df_trends.HORA_EXTRACAO < 12), 'Manhã')\n",
    "            .when((df_trends.HORA_EXTRACAO >= 12) & (df_trends.HORA_EXTRACAO < 18), 'Tarde')\n",
    "            .otherwise('Noite')\n",
    "        )\n",
    "    )\n",
    "df_trends = df_trends.withColumn(\n",
    "        'INDICE_TURNO_EXTRACAO',\n",
    "        (\n",
    "            f.when(\n",
    "                (df_trends.TURNO_EXTRACAO == 'Manhã'), 1)\n",
    "            .when((df_trends.TURNO_EXTRACAO == 'Tarde'), 2)\n",
    "            .otherwise(3)\n",
    "        )\n",
    "    )\n",
    "\n",
    "df_trends.show()"
   ]
  },
  {
   "cell_type": "code",
   "execution_count": 27,
   "metadata": {},
   "outputs": [
    {
     "data": {
      "text/plain": [
       "['data_extracao',\n",
       " 'ID_CATEGORIA',\n",
       " 'ID_CANAL',\n",
       " 'NM_CANAL',\n",
       " 'ID_VIDEO',\n",
       " 'TITULO_VIDEO',\n",
       " 'DURACAO',\n",
       " 'DESCRICAO',\n",
       " 'TOTAL_COMENTARIOS',\n",
       " 'TOTAL_FAVORITOS',\n",
       " 'TOTAL_LIKES',\n",
       " 'TOTAL_VISUALIZACOES',\n",
       " 'data_hora_extracao',\n",
       " 'HORA_EXTRACAO',\n",
       " 'TURNO_EXTRACAO',\n",
       " 'INDICE_TURNO_EXTRACAO']"
      ]
     },
     "execution_count": 27,
     "metadata": {},
     "output_type": "execute_result"
    }
   ],
   "source": [
    "df_trends.columns"
   ]
  },
  {
   "cell_type": "code",
   "execution_count": 28,
   "metadata": {},
   "outputs": [
    {
     "name": "stderr",
     "output_type": "stream",
     "text": [
      "[Stage 18:>                                                         (0 + 1) / 1]\r"
     ]
    },
    {
     "name": "stdout",
     "output_type": "stream",
     "text": [
      "+-------------+------------+--------------------+------------+-----------+--------------------+---------------------+--------------+-------------------+---------------+-----------------+-----------+-------------------------+---------------------+-----------------------+-----------------+\n",
      "|data_extracao|ID_CATEGORIA|            ID_CANAL|    NM_CANAL|   ID_VIDEO|        TITULO_VIDEO|INDICE_TURNO_EXTRACAO|TURNO_EXTRACAO|TOTAL_VISUALIZACOES|TOTAL_FAVORITOS|TOTAL_COMENTARIOS|TOTAL_LIKES|TOTAL_VISUALIZACOES_TURNO|TOTAL_FAVORITOS_TURNO|TOTAL_COMENTARIOS_TURNO|TOTAL_LIKES_TURNO|\n",
      "+-------------+------------+--------------------+------------+-----------+--------------------+---------------------+--------------+-------------------+---------------+-----------------+-----------+-------------------------+---------------------+-----------------------+-----------------+\n",
      "|   2023-10-15|          20|UCOPi8iWwV6BkL-bo...|     HeyDavi|-8A4gKs9CxE|ENTREI NO CÉREBRO...|                    2|         Tarde|             128590|              0|              160|       5195|                   128590|                    0|                    160|             5195|\n",
      "|   2023-10-15|          20|UCOPi8iWwV6BkL-bo...|     HeyDavi|-8A4gKs9CxE|ENTREI NO CÉREBRO...|                    3|         Noite|             133464|              0|              168|       5392|                     4874|                    0|                      8|              197|\n",
      "|   2023-10-16|          20|UCOPi8iWwV6BkL-bo...|     HeyDavi|-8A4gKs9CxE|ENTREI NO CÉREBRO...|                    1|         Manhã|             139498|              0|              169|       5562|                     6034|                    0|                      1|              170|\n",
      "|   2023-10-16|          20|UCOPi8iWwV6BkL-bo...|     HeyDavi|-8A4gKs9CxE|ENTREI NO CÉREBRO...|                    2|         Tarde|             148783|              0|              171|       5811|                     9285|                    0|                      2|              249|\n",
      "|   2023-10-16|          20|UCOPi8iWwV6BkL-bo...|     HeyDavi|-8A4gKs9CxE|ENTREI NO CÉREBRO...|                    3|         Noite|             161525|              0|              174|       6173|                    12742|                    0|                      3|              362|\n",
      "|   2023-10-19|          20|UCOPi8iWwV6BkL-bo...|     HeyDavi|-8A4gKs9CxE|ENTREI NO CÉREBRO...|                    1|         Manhã|             248800|              0|              186|       7839|                    87275|                    0|                     12|             1666|\n",
      "|   2023-10-19|          20|UCOPi8iWwV6BkL-bo...|     HeyDavi|-8A4gKs9CxE|ENTREI NO CÉREBRO...|                    2|         Tarde|             280151|              0|              187|       8428|                    31351|                    0|                      1|              589|\n",
      "|   2023-10-19|          20|UCOPi8iWwV6BkL-bo...|     HeyDavi|-8A4gKs9CxE|ENTREI NO CÉREBRO...|                    3|         Noite|             284886|              0|              187|       8533|                     4735|                    0|                    187|              105|\n",
      "|   2023-10-20|          20|UCOPi8iWwV6BkL-bo...|     HeyDavi|-8A4gKs9CxE|ENTREI NO CÉREBRO...|                    1|         Manhã|             328891|              0|              197|       9444|                    44005|                    0|                     10|              911|\n",
      "|   2023-10-20|          20|UCOPi8iWwV6BkL-bo...|     HeyDavi|-8A4gKs9CxE|ENTREI NO CÉREBRO...|                    2|         Tarde|             346730|              0|              197|       9790|                    17839|                    0|                    197|              346|\n",
      "|   2023-10-21|          20|UCOPi8iWwV6BkL-bo...|     HeyDavi|-8A4gKs9CxE|ENTREI NO CÉREBRO...|                    1|         Manhã|             396143|              0|              198|      10736|                    49413|                    0|                      1|              946|\n",
      "|   2023-10-21|          20|UCOPi8iWwV6BkL-bo...|     HeyDavi|-8A4gKs9CxE|ENTREI NO CÉREBRO...|                    2|         Tarde|             418351|              0|              204|      11254|                    22208|                    0|                      6|              518|\n",
      "|   2023-10-21|          20|UCOPi8iWwV6BkL-bo...|     HeyDavi|-8A4gKs9CxE|ENTREI NO CÉREBRO...|                    3|         Noite|             452444|              0|              209|      11836|                    34093|                    0|                      5|              582|\n",
      "|   2023-10-22|          20|UCOPi8iWwV6BkL-bo...|     HeyDavi|-8A4gKs9CxE|ENTREI NO CÉREBRO...|                    1|         Manhã|             486328|              0|              217|      12394|                    33884|                    0|                      8|              558|\n",
      "|   2023-10-22|          20|UCOPi8iWwV6BkL-bo...|     HeyDavi|-8A4gKs9CxE|ENTREI NO CÉREBRO...|                    2|         Tarde|             520472|              0|              233|      12971|                    34144|                    0|                     16|              577|\n",
      "|   2023-10-22|          20|UCOPi8iWwV6BkL-bo...|     HeyDavi|-8A4gKs9CxE|ENTREI NO CÉREBRO...|                    3|         Noite|             544631|              0|              235|      13420|                    24159|                    0|                      2|              449|\n",
      "|   2023-10-19|          24|UCsSsgPaZ2GSmO6il...|DaFuq!?Boom!|-BXItmWzWNE|   skibidi toilet 66|                    3|         Noite|           10476171|              0|            44069|     956913|                 10476171|                    0|                  44069|           956913|\n",
      "|   2023-10-20|          24|UCsSsgPaZ2GSmO6il...|DaFuq!?Boom!|-BXItmWzWNE|   skibidi toilet 66|                    1|         Manhã|           26672132|              0|           159386|    1500141|                 16195961|                    0|                 115317|           543228|\n",
      "|   2023-10-20|          24|UCsSsgPaZ2GSmO6il...|DaFuq!?Boom!|-BXItmWzWNE|   skibidi toilet 66|                    2|         Tarde|           29684999|              0|           163211|    1552518|                  3012867|                    0|                   3825|            52377|\n",
      "|   2023-10-21|          24|UCsSsgPaZ2GSmO6il...|DaFuq!?Boom!|-BXItmWzWNE|   skibidi toilet 66|                    2|         Tarde|           38116985|              0|           174485|    1692847|                  8431986|                    0|                  11274|           140329|\n",
      "+-------------+------------+--------------------+------------+-----------+--------------------+---------------------+--------------+-------------------+---------------+-----------------+-----------+-------------------------+---------------------+-----------------------+-----------------+\n",
      "only showing top 20 rows\n",
      "\n"
     ]
    },
    {
     "name": "stderr",
     "output_type": "stream",
     "text": [
      "                                                                                \r"
     ]
    }
   ],
   "source": [
    "df_trends = obter_total_visualizacoes_semana_turno(\n",
    "    dataframe=df_trends,\n",
    "    colunas_agrupamento=('data_extracao', 'ID_CATEGORIA','ID_CANAL', 'NM_CANAL',  'ID_VIDEO', 'TITULO_VIDEO', 'INDICE_TURNO_EXTRACAO', 'TURNO_EXTRACAO'),\n",
    "    lista_campos_agupamento=['TOTAL_VISUALIZACOES', 'TOTAL_FAVORITOS', 'TOTAL_COMENTARIOS', 'TOTAL_LIKES'],\n",
    ")\n",
    "df_trends.show()"
   ]
  },
  {
   "cell_type": "code",
   "execution_count": 35,
   "metadata": {},
   "outputs": [
    {
     "name": "stdout",
     "output_type": "stream",
     "text": [
      "+-------------+------------+--------------------+---------------+-----------+--------------------+-------------------+---------------+-----------------+-----------+-----------------------+-------------------+---------------------+---------------+\n",
      "|data_extracao|ID_CATEGORIA|            ID_CANAL|       NM_CANAL|   ID_VIDEO|        TITULO_VIDEO|TOTAL_VISUALIZACOES|TOTAL_FAVORITOS|TOTAL_COMENTARIOS|TOTAL_LIKES|TOTAL_VISUALIZACOES_DIA|TOTAL_FAVORITOS_DIA|TOTAL_COMENTARIOS_DIA|TOTAL_LIKES_DIA|\n",
      "+-------------+------------+--------------------+---------------+-----------+--------------------+-------------------+---------------+-----------------+-----------+-----------------------+-------------------+---------------------+---------------+\n",
      "|   2023-10-15|          20|UCOPi8iWwV6BkL-bo...|        HeyDavi|-8A4gKs9CxE|ENTREI NO CÉREBRO...|             133464|              0|              168|       5392|                 133464|                  0|                  168|           5392|\n",
      "|   2023-10-16|          20|UCOPi8iWwV6BkL-bo...|        HeyDavi|-8A4gKs9CxE|ENTREI NO CÉREBRO...|             161525|              0|              174|       6173|                  28061|                  0|                    6|            781|\n",
      "|   2023-10-19|          20|UCOPi8iWwV6BkL-bo...|        HeyDavi|-8A4gKs9CxE|ENTREI NO CÉREBRO...|             284886|              0|              187|       8533|                 123361|                  0|                   13|           2360|\n",
      "|   2023-10-20|          20|UCOPi8iWwV6BkL-bo...|        HeyDavi|-8A4gKs9CxE|ENTREI NO CÉREBRO...|             346730|              0|              197|       9790|                  61844|                  0|                   10|           1257|\n",
      "|   2023-10-21|          20|UCOPi8iWwV6BkL-bo...|        HeyDavi|-8A4gKs9CxE|ENTREI NO CÉREBRO...|             452444|              0|              209|      11836|                 105714|                  0|                   12|           2046|\n",
      "|   2023-10-22|          20|UCOPi8iWwV6BkL-bo...|        HeyDavi|-8A4gKs9CxE|ENTREI NO CÉREBRO...|             544631|              0|              235|      13420|                  92187|                  0|                   26|           1584|\n",
      "|   2023-10-19|          24|UCsSsgPaZ2GSmO6il...|   DaFuq!?Boom!|-BXItmWzWNE|   skibidi toilet 66|           10476171|              0|            44069|     956913|               10476171|                  0|                44069|         956913|\n",
      "|   2023-10-20|          24|UCsSsgPaZ2GSmO6il...|   DaFuq!?Boom!|-BXItmWzWNE|   skibidi toilet 66|           29684999|              0|           163211|    1552518|               19208828|                  0|               119142|         595605|\n",
      "|   2023-10-21|          24|UCsSsgPaZ2GSmO6il...|   DaFuq!?Boom!|-BXItmWzWNE|   skibidi toilet 66|           39102892|              0|           175630|    1706637|                9417893|                  0|                12419|         154119|\n",
      "|   2023-10-22|          24|UCsSsgPaZ2GSmO6il...|   DaFuq!?Boom!|-BXItmWzWNE|   skibidi toilet 66|           44361845|              0|           181024|    1773829|                5258953|                  0|                 5394|          67192|\n",
      "|   2023-10-23|          24|UCsSsgPaZ2GSmO6il...|   DaFuq!?Boom!|-BXItmWzWNE|   skibidi toilet 66|           47972663|              0|           182218|    1813582|                3610818|                  0|                 1194|          39753|\n",
      "|   2023-10-24|          24|UCsSsgPaZ2GSmO6il...|   DaFuq!?Boom!|-BXItmWzWNE|   skibidi toilet 66|           51071485|              0|           184816|    1844063|                3098822|                  0|                 2598|          30481|\n",
      "|   2023-10-25|          24|UCsSsgPaZ2GSmO6il...|   DaFuq!?Boom!|-BXItmWzWNE|   skibidi toilet 66|           53698760|              0|           186936|    1867466|                2627275|                  0|                 2120|          23403|\n",
      "|   2023-10-26|          24|UCsSsgPaZ2GSmO6il...|   DaFuq!?Boom!|-BXItmWzWNE|   skibidi toilet 66|           56102805|              0|           188900|    1888399|                2404045|                  0|                 1964|          20933|\n",
      "|   2023-10-27|          24|UCsSsgPaZ2GSmO6il...|   DaFuq!?Boom!|-BXItmWzWNE|   skibidi toilet 66|           58424407|              0|           189500|    1908039|                2321602|                  0|                  600|          19640|\n",
      "|   2023-10-27|          10|UCr2xjaS7CIx1OY7h...|       TylaVEVO|-DkJMa7QkGY|Tyla - Water (Liv...|             403054|              0|              839|      23705|                 403054|                  0|                  839|          23705|\n",
      "|   2023-10-15|          17|UCV5UiFF5AlNKW4sL...|TV Leão Novibet|-FGiCPBn0oI|🎥 BASTIDORES | F...|              72069|              0|              510|       8164|                  72069|                  0|                  510|           8164|\n",
      "|   2023-10-16|          17|UCV5UiFF5AlNKW4sL...|TV Leão Novibet|-FGiCPBn0oI|🎥 BASTIDORES | F...|              75882|              0|              516|       8355|                   3813|                  0|                    6|            191|\n",
      "|   2023-10-19|          17|UCV5UiFF5AlNKW4sL...|TV Leão Novibet|-FGiCPBn0oI|🎥 BASTIDORES | F...|              81436|              0|              525|       8621|                   5554|                  0|                    9|            266|\n",
      "|   2023-10-20|          17|UCV5UiFF5AlNKW4sL...|TV Leão Novibet|-FGiCPBn0oI|🎥 BASTIDORES | F...|              81886|              0|              526|       8630|                    450|                  0|                    1|              9|\n",
      "+-------------+------------+--------------------+---------------+-----------+--------------------+-------------------+---------------+-----------------+-----------+-----------------------+-------------------+---------------------+---------------+\n",
      "only showing top 20 rows\n",
      "\n"
     ]
    }
   ],
   "source": [
    "df_total_vis_sem_trend = obter_total_visualizacoes_semana(\n",
    "    dataframe=df_trends,\n",
    "    colunas_agrupamento=('data_extracao', 'ID_CATEGORIA','ID_CANAL', 'NM_CANAL',  'ID_VIDEO', 'TITULO_VIDEO'),\n",
    "    lista_campos_agupamento=['TOTAL_VISUALIZACOES', 'TOTAL_FAVORITOS', 'TOTAL_COMENTARIOS', 'TOTAL_LIKES'],\n",
    "    )\n",
    "\n",
    "df_total_vis_sem_trend.show()"
   ]
  },
  {
   "cell_type": "code",
   "execution_count": 29,
   "metadata": {},
   "outputs": [
    {
     "data": {
      "text/plain": [
       "['data_extracao',\n",
       " 'ID_CATEGORIA',\n",
       " 'ID_CANAL',\n",
       " 'NM_CANAL',\n",
       " 'ID_VIDEO',\n",
       " 'TITULO_VIDEO',\n",
       " 'INDICE_TURNO_EXTRACAO',\n",
       " 'TURNO_EXTRACAO',\n",
       " 'TOTAL_VISUALIZACOES',\n",
       " 'TOTAL_FAVORITOS',\n",
       " 'TOTAL_COMENTARIOS',\n",
       " 'TOTAL_LIKES',\n",
       " 'TOTAL_VISUALIZACOES_TURNO',\n",
       " 'TOTAL_FAVORITOS_TURNO',\n",
       " 'TOTAL_COMENTARIOS_TURNO',\n",
       " 'TOTAL_LIKES_TURNO']"
      ]
     },
     "execution_count": 29,
     "metadata": {},
     "output_type": "execute_result"
    }
   ],
   "source": [
    "df_trends.columns"
   ]
  },
  {
   "cell_type": "code",
   "execution_count": 31,
   "metadata": {},
   "outputs": [],
   "source": [
    "df_trends = df_trends.select(\n",
    "    'data_extracao',\n",
    "    'NM_CANAL',\n",
    "    'TITULO_VIDEO',\n",
    "    'INDICE_TURNO_EXTRACAO',\n",
    "    'TOTAL_VISUALIZACOES',\n",
    "    'TOTAL_FAVORITOS',\n",
    "    'TOTAL_COMENTARIOS',\n",
    "    'TOTAL_LIKES',\n",
    "    'TOTAL_VISUALIZACOES_TURNO',\n",
    "    'TOTAL_FAVORITOS_TURNO',\n",
    "    'TOTAL_COMENTARIOS_TURNO',\n",
    "    'TOTAL_LIKES_TURNO',\n",
    "    'ID_CATEGORIA',\n",
    "    'ID_CANAL',\n",
    "    'ID_VIDEO',\n",
    "    'TURNO_EXTRACAO',\n",
    ")"
   ]
  },
  {
   "cell_type": "code",
   "execution_count": 33,
   "metadata": {},
   "outputs": [
    {
     "name": "stderr",
     "output_type": "stream",
     "text": [
      "                                                                                \r"
     ]
    }
   ],
   "source": [
    "criar_particao_ouro(\n",
    "    dataframe=df_trends,\n",
    "    assunto_pesquisa='trends_brazil',\n",
    "    colunas_particao=('data_extracao', 'ID_CATEGORIA', 'ID_CANAL', 'ID_VIDEO','TURNO_EXTRACAO'),\n",
    "    metrica='trends_brazil',\n",
    "    nome_arquivo='trends_brazil.parquet'\n",
    ")"
   ]
  },
  {
   "cell_type": "code",
   "execution_count": 37,
   "metadata": {},
   "outputs": [
    {
     "name": "stdout",
     "output_type": "stream",
     "text": [
      "+-------------+--------------------+-----------------------+------------------------+\n",
      "|data_extracao|            ID_CANAL|max(data_hora_extracao)|max(TOTAL_VISUALIZACOES)|\n",
      "+-------------+--------------------+-----------------------+------------------------+\n",
      "|   2023-10-15|UC-2Y8dQb0S6DtpxN...|    2023-10-15 22:01:13|                 1481250|\n",
      "|   2023-10-15|UC-4TwmWQShd0R6YZ...|    2023-10-15 22:01:13|                  708858|\n",
      "|   2023-10-15|UC-JrEOZQwdI5nvlo...|    2023-10-15 22:01:13|                 1729415|\n",
      "|   2023-10-15|UC-bOPhs_XA5bETT3...|    2023-10-15 22:01:13|                 1756861|\n",
      "|   2023-10-15|UC0bC92gFO25qcJcE...|    2023-10-15 22:01:13|                  195887|\n",
      "|   2023-10-15|UC0uRT_armQXqds_r...|    2023-10-15 22:01:13|                  214528|\n",
      "|   2023-10-15|UC12HMtO5MYph9dCZ...|    2023-10-15 16:30:58|                 1273114|\n",
      "|   2023-10-15|UC1H-sZk-cj-tDpfT...|    2023-10-15 22:01:12|                  165818|\n",
      "|   2023-10-15|UC2EWGw-KBjEReUbX...|    2023-10-15 22:01:13|                 1422581|\n",
      "|   2023-10-15|UC2HvWg5ROXZrfBK1...|    2023-10-15 22:01:13|                  303509|\n",
      "|   2023-10-15|UC2bYhAHyaqfWlPXW...|    2023-10-15 22:01:13|                 1309642|\n",
      "|   2023-10-15|UC376n347Ob5Lwzq2...|    2023-10-15 22:01:12|                 1067481|\n",
      "|   2023-10-15|UC3KHYFWeB0WimMBf...|    2023-10-15 22:01:13|                  106760|\n",
      "|   2023-10-15|UC3RpTX6fEMJ6KBNT...|    2023-10-15 22:01:13|                  165650|\n",
      "|   2023-10-15|UC3nU0d4kEhtljMLh...|    2023-10-15 22:01:12|                   90064|\n",
      "|   2023-10-15|UC48rkTlXjRd6pnqq...|    2023-10-15 22:01:13|                  348735|\n",
      "|   2023-10-15|UC5BMQOsAB8hKUyHu...|    2023-10-15 22:01:13|                 1499730|\n",
      "|   2023-10-15|UC607Gii1uo93qDqi...|    2023-10-15 22:01:12|                  880390|\n",
      "|   2023-10-15|UC63iwP6BtIjxB6xn...|    2023-10-15 22:01:13|                 3576563|\n",
      "|   2023-10-15|UC6AcCnhqe1QUdM-m...|    2023-10-15 22:01:13|                  821646|\n",
      "+-------------+--------------------+-----------------------+------------------------+\n",
      "only showing top 20 rows\n",
      "\n"
     ]
    }
   ],
   "source": [
    "df_trends \\\n",
    "    .groupBy('data_extracao', 'ID_CANAL') \\\n",
    "    .agg(\n",
    "        f.max('data_hora_extracao'),\n",
    "        f.max('TOTAL_VISUALIZACOES')\n",
    "    ).show()"
   ]
  },
  {
   "cell_type": "code",
   "execution_count": 35,
   "metadata": {},
   "outputs": [],
   "source": [
    "spark.stop()"
   ]
  }
 ],
 "metadata": {
  "kernelspec": {
   "display_name": "venv",
   "language": "python",
   "name": "python3"
  },
  "language_info": {
   "codemirror_mode": {
    "name": "ipython",
    "version": 3
   },
   "file_extension": ".py",
   "mimetype": "text/x-python",
   "name": "python",
   "nbconvert_exporter": "python",
   "pygments_lexer": "ipython3",
   "version": "3.10.12"
  }
 },
 "nbformat": 4,
 "nbformat_minor": 2
}

{
 "cells": [
  {
   "cell_type": "code",
   "execution_count": 40,
   "metadata": {},
   "outputs": [],
   "source": [
    "from pyhive import hive\n",
    "import plotly.express as px\n",
    "from plotly.subplots import make_subplots\n",
    "import plotly.graph_objects as go\n",
    "import pandas as pd\n",
    "from sqlalchemy import create_engine"
   ]
  },
  {
   "cell_type": "code",
   "execution_count": 41,
   "metadata": {},
   "outputs": [
    {
     "name": "stderr",
     "output_type": "stream",
     "text": [
      "Could not connect to any of [('127.0.0.1', 10000)]\n"
     ]
    },
    {
     "ename": "TTransportException",
     "evalue": "Could not connect to any of [('127.0.0.1', 10000)]",
     "output_type": "error",
     "traceback": [
      "\u001b[0;31m---------------------------------------------------------------------------\u001b[0m",
      "\u001b[0;31mTTransportException\u001b[0m                       Traceback (most recent call last)",
      "Cell \u001b[0;32mIn[41], line 1\u001b[0m\n\u001b[0;32m----> 1\u001b[0m conn \u001b[38;5;241m=\u001b[39m \u001b[43mhive\u001b[49m\u001b[38;5;241;43m.\u001b[39;49m\u001b[43mConnection\u001b[49m\u001b[43m(\u001b[49m\u001b[43mhost\u001b[49m\u001b[38;5;241;43m=\u001b[39;49m\u001b[38;5;124;43m'\u001b[39;49m\u001b[38;5;124;43mlocalhost\u001b[39;49m\u001b[38;5;124;43m'\u001b[39;49m\u001b[43m,\u001b[49m\u001b[43m \u001b[49m\u001b[43mport\u001b[49m\u001b[38;5;241;43m=\u001b[39;49m\u001b[38;5;241;43m10000\u001b[39;49m\u001b[43m,\u001b[49m\u001b[43m \u001b[49m\u001b[43musername\u001b[49m\u001b[38;5;241;43m=\u001b[39;49m\u001b[38;5;124;43m'\u001b[39;49m\u001b[38;5;124;43mrodrigo\u001b[39;49m\u001b[38;5;124;43m'\u001b[39;49m\u001b[43m,\u001b[49m\u001b[43m \u001b[49m\u001b[43mdatabase\u001b[49m\u001b[38;5;241;43m=\u001b[39;49m\u001b[38;5;124;43m'\u001b[39;49m\u001b[38;5;124;43myoutube\u001b[39;49m\u001b[38;5;124;43m'\u001b[39;49m\u001b[43m)\u001b[49m\n\u001b[1;32m      2\u001b[0m engine \u001b[38;5;241m=\u001b[39m create_engine(\u001b[38;5;124m'\u001b[39m\u001b[38;5;124mhive://\u001b[39m\u001b[38;5;124m'\u001b[39m, creator\u001b[38;5;241m=\u001b[39m\u001b[38;5;28;01mlambda\u001b[39;00m: conn)\n",
      "File \u001b[0;32m~/Documentos/projetos/open_weather_api_apache/analise_dados_youtube/venv/lib/python3.10/site-packages/pyhive/hive.py:269\u001b[0m, in \u001b[0;36mConnection.__init__\u001b[0;34m(self, host, port, scheme, username, database, auth, configuration, kerberos_service_name, password, check_hostname, ssl_cert, thrift_transport)\u001b[0m\n\u001b[1;32m    266\u001b[0m protocol_version \u001b[38;5;241m=\u001b[39m ttypes\u001b[38;5;241m.\u001b[39mTProtocolVersion\u001b[38;5;241m.\u001b[39mHIVE_CLI_SERVICE_PROTOCOL_V6\n\u001b[1;32m    268\u001b[0m \u001b[38;5;28;01mtry\u001b[39;00m:\n\u001b[0;32m--> 269\u001b[0m     \u001b[38;5;28;43mself\u001b[39;49m\u001b[38;5;241;43m.\u001b[39;49m\u001b[43m_transport\u001b[49m\u001b[38;5;241;43m.\u001b[39;49m\u001b[43mopen\u001b[49m\u001b[43m(\u001b[49m\u001b[43m)\u001b[49m\n\u001b[1;32m    270\u001b[0m     open_session_req \u001b[38;5;241m=\u001b[39m ttypes\u001b[38;5;241m.\u001b[39mTOpenSessionReq(\n\u001b[1;32m    271\u001b[0m         client_protocol\u001b[38;5;241m=\u001b[39mprotocol_version,\n\u001b[1;32m    272\u001b[0m         configuration\u001b[38;5;241m=\u001b[39mconfiguration,\n\u001b[1;32m    273\u001b[0m         username\u001b[38;5;241m=\u001b[39musername,\n\u001b[1;32m    274\u001b[0m     )\n\u001b[1;32m    275\u001b[0m     response \u001b[38;5;241m=\u001b[39m \u001b[38;5;28mself\u001b[39m\u001b[38;5;241m.\u001b[39m_client\u001b[38;5;241m.\u001b[39mOpenSession(open_session_req)\n",
      "File \u001b[0;32m~/Documentos/projetos/open_weather_api_apache/analise_dados_youtube/venv/lib/python3.10/site-packages/thrift_sasl/__init__.py:74\u001b[0m, in \u001b[0;36mTSaslClientTransport.open\u001b[0;34m(self)\u001b[0m\n\u001b[1;32m     72\u001b[0m \u001b[38;5;28;01mdef\u001b[39;00m \u001b[38;5;21mopen\u001b[39m(\u001b[38;5;28mself\u001b[39m):\n\u001b[1;32m     73\u001b[0m   \u001b[38;5;28;01mif\u001b[39;00m \u001b[38;5;129;01mnot\u001b[39;00m \u001b[38;5;28mself\u001b[39m\u001b[38;5;241m.\u001b[39misOpen():\n\u001b[0;32m---> 74\u001b[0m     \u001b[38;5;28;43mself\u001b[39;49m\u001b[38;5;241;43m.\u001b[39;49m\u001b[43m_trans\u001b[49m\u001b[38;5;241;43m.\u001b[39;49m\u001b[43mopen\u001b[49m\u001b[43m(\u001b[49m\u001b[43m)\u001b[49m\n\u001b[1;32m     76\u001b[0m   \u001b[38;5;28;01mif\u001b[39;00m \u001b[38;5;28mself\u001b[39m\u001b[38;5;241m.\u001b[39msasl \u001b[38;5;129;01mis\u001b[39;00m \u001b[38;5;129;01mnot\u001b[39;00m \u001b[38;5;28;01mNone\u001b[39;00m:\n\u001b[1;32m     77\u001b[0m     \u001b[38;5;28;01mraise\u001b[39;00m TTransportException(\n\u001b[1;32m     78\u001b[0m       \u001b[38;5;28mtype\u001b[39m\u001b[38;5;241m=\u001b[39mTTransportException\u001b[38;5;241m.\u001b[39mNOT_OPEN,\n\u001b[1;32m     79\u001b[0m       message\u001b[38;5;241m=\u001b[39m\u001b[38;5;124m\"\u001b[39m\u001b[38;5;124mAlready open!\u001b[39m\u001b[38;5;124m\"\u001b[39m)\n",
      "File \u001b[0;32m~/Documentos/projetos/open_weather_api_apache/analise_dados_youtube/venv/lib/python3.10/site-packages/thrift/transport/TSocket.py:146\u001b[0m, in \u001b[0;36mTSocket.open\u001b[0;34m(self)\u001b[0m\n\u001b[1;32m    143\u001b[0m msg \u001b[38;5;241m=\u001b[39m \u001b[38;5;124m'\u001b[39m\u001b[38;5;124mCould not connect to any of \u001b[39m\u001b[38;5;132;01m%s\u001b[39;00m\u001b[38;5;124m'\u001b[39m \u001b[38;5;241m%\u001b[39m \u001b[38;5;28mlist\u001b[39m(\u001b[38;5;28mmap\u001b[39m(\u001b[38;5;28;01mlambda\u001b[39;00m a: a[\u001b[38;5;241m4\u001b[39m],\n\u001b[1;32m    144\u001b[0m                                                   addrs))\n\u001b[1;32m    145\u001b[0m logger\u001b[38;5;241m.\u001b[39merror(msg)\n\u001b[0;32m--> 146\u001b[0m \u001b[38;5;28;01mraise\u001b[39;00m TTransportException(\u001b[38;5;28mtype\u001b[39m\u001b[38;5;241m=\u001b[39mTTransportException\u001b[38;5;241m.\u001b[39mNOT_OPEN, message\u001b[38;5;241m=\u001b[39mmsg)\n",
      "\u001b[0;31mTTransportException\u001b[0m: Could not connect to any of [('127.0.0.1', 10000)]"
     ]
    }
   ],
   "source": [
    "conn = hive.Connection(host='localhost', port=10000, username='rodrigo', database='youtube')\n",
    "engine = create_engine('hive://', creator=lambda: conn)"
   ]
  },
  {
   "cell_type": "code",
   "execution_count": null,
   "metadata": {},
   "outputs": [],
   "source": [
    "tipos = {\n",
    "    'data_extracao':  'datetime64[ns]',\n",
    "    'total_tags': 'int32',\n",
    "    'total_visualizacoes_turno': 'int32',\n",
    "    'total_comentarios_turno' :  'int32',\n",
    "    'total_likes_turno' : 'float',\n",
    "    'total_caractere_video': 'int32',\n",
    "    'turno_extracao': 'string'\n",
    "\n",
    "}"
   ]
  },
  {
   "cell_type": "code",
   "execution_count": null,
   "metadata": {},
   "outputs": [],
   "source": [
    "df_result = pd.read_sql_query(\n",
    "    ' SELECT data_extracao, '\n",
    "    ' total_caractere_video, '\n",
    "    ' total_tags, '\n",
    "    ' total_visualizacoes_turno,  '\n",
    "    ' total_comentarios_turno,\t '\n",
    "    ' total_likes_turno, '\n",
    "    ' turno_extracao '\n",
    "    ' FROM TOTAL_VISUALIZACOES_POR_SEMANA '\n",
    "    ' where TOTAL_VISUALIZACOES_POR_SEMANA.assunto = \"assunto_cities_skylines\" '\n",
    "    ' AND TOTAL_VISUALIZACOES_POR_SEMANA.data_extracao = \"2023-10-27\"', \n",
    "    con=engine,\n",
    "    dtype=tipos\n",
    ")"
   ]
  },
  {
   "cell_type": "markdown",
   "metadata": {},
   "source": [
    "# Comparação de views/likes/comentários em relação ao dia anterior"
   ]
  },
  {
   "cell_type": "markdown",
   "metadata": {},
   "source": [
    "- views"
   ]
  },
  {
   "cell_type": "code",
   "execution_count": null,
   "metadata": {},
   "outputs": [],
   "source": [
    "tipos = {\n",
    "    'data_extracao':  'datetime64[ns]',\n",
    "    'total_visualizacoes_turno': 'int32',\n",
    "    'turno_extracao': 'string',\n",
    "\n",
    "}"
   ]
  },
  {
   "cell_type": "code",
   "execution_count": null,
   "metadata": {},
   "outputs": [
    {
     "data": {
      "text/html": [
       "<div>\n",
       "<style scoped>\n",
       "    .dataframe tbody tr th:only-of-type {\n",
       "        vertical-align: middle;\n",
       "    }\n",
       "\n",
       "    .dataframe tbody tr th {\n",
       "        vertical-align: top;\n",
       "    }\n",
       "\n",
       "    .dataframe thead th {\n",
       "        text-align: right;\n",
       "    }\n",
       "</style>\n",
       "<table border=\"1\" class=\"dataframe\">\n",
       "  <thead>\n",
       "    <tr style=\"text-align: right;\">\n",
       "      <th></th>\n",
       "      <th>data_extracao</th>\n",
       "      <th>turno_extracao</th>\n",
       "      <th>total_visualizacoes_turno</th>\n",
       "    </tr>\n",
       "  </thead>\n",
       "  <tbody>\n",
       "  </tbody>\n",
       "</table>\n",
       "</div>"
      ],
      "text/plain": [
       "Empty DataFrame\n",
       "Columns: [data_extracao, turno_extracao, total_visualizacoes_turno]\n",
       "Index: []"
      ]
     },
     "execution_count": 6,
     "metadata": {},
     "output_type": "execute_result"
    }
   ],
   "source": [
    "df_result = pd.read_sql_query(\n",
    "    ' SELECT data_extracao, '\n",
    "    ' turno_extracao, '\n",
    "    ' total_visualizacoes_turno '\n",
    "    ' FROM TOTAL_VISUALIZACOES_POR_SEMANA '\n",
    "    ' where TOTAL_VISUALIZACOES_POR_SEMANA.assunto = \"assunto_cities_skylines\" '\n",
    "    ' AND ID_CANAL=\"UCrOH1V-FyMunBIMrKL0y0xQ\" '\n",
    "    ' AND  data_extracao in (\"2023-10-15\", \"2023-10-16\")', \n",
    "    con=engine,\n",
    "    dtype=tipos\n",
    ")\n",
    "df_result.head(20)"
   ]
  },
  {
   "cell_type": "code",
   "execution_count": null,
   "metadata": {},
   "outputs": [
    {
     "data": {
      "text/plain": [
       "DatetimeIndex(['2023-10-15', '2023-10-16', '2023-10-17', '2023-10-18',\n",
       "               '2023-10-19', '2023-10-20', '2023-10-21', '2023-10-22',\n",
       "               '2023-10-23', '2023-10-24', '2023-10-25', '2023-10-26',\n",
       "               '2023-10-27'],\n",
       "              dtype='datetime64[ns]', freq='D')"
      ]
     },
     "execution_count": 46,
     "metadata": {},
     "output_type": "execute_result"
    }
   ],
   "source": [
    "date_range = pd.date_range(start='2023-10-15', periods=13, freq='D')\n",
    "date_range"
   ]
  },
  {
   "cell_type": "code",
   "execution_count": null,
   "metadata": {},
   "outputs": [
    {
     "data": {
      "text/html": [
       "<div>\n",
       "<style scoped>\n",
       "    .dataframe tbody tr th:only-of-type {\n",
       "        vertical-align: middle;\n",
       "    }\n",
       "\n",
       "    .dataframe tbody tr th {\n",
       "        vertical-align: top;\n",
       "    }\n",
       "\n",
       "    .dataframe thead th {\n",
       "        text-align: right;\n",
       "    }\n",
       "</style>\n",
       "<table border=\"1\" class=\"dataframe\">\n",
       "  <thead>\n",
       "    <tr style=\"text-align: right;\">\n",
       "      <th></th>\n",
       "      <th>data_extracao</th>\n",
       "      <th>total_visualizacoes</th>\n",
       "      <th>total_visualizacoes_dia_anterior</th>\n",
       "    </tr>\n",
       "  </thead>\n",
       "  <tbody>\n",
       "    <tr>\n",
       "      <th>0</th>\n",
       "      <td>2023-10-15</td>\n",
       "      <td>4562</td>\n",
       "      <td>0.0</td>\n",
       "    </tr>\n",
       "    <tr>\n",
       "      <th>1</th>\n",
       "      <td>2023-10-16</td>\n",
       "      <td>10751</td>\n",
       "      <td>4562.0</td>\n",
       "    </tr>\n",
       "  </tbody>\n",
       "</table>\n",
       "</div>"
      ],
      "text/plain": [
       "  data_extracao  total_visualizacoes  total_visualizacoes_dia_anterior\n",
       "0    2023-10-15                 4562                               0.0\n",
       "1    2023-10-16                10751                            4562.0"
      ]
     },
     "execution_count": 49,
     "metadata": {},
     "output_type": "execute_result"
    }
   ],
   "source": [
    "df_percentual_variacao = df_result.groupby('data_extracao') \\\n",
    "    .agg(total_visualizacoes=('total_visualizacoes_turno', 'sum')).reset_index() \n",
    "df_percentual_variacao['total_visualizacoes_dia_anterior'] = df_percentual_variacao['total_visualizacoes'].shift(1)\n",
    "# df_percentual_variacao['PERCENTUAL_VISUALIZACAO'] = (df_percentual_variacao['total_visualizacoes_dia_anterior'] / df_percentual_variacao['total_visualizacoes']) * 100 \n",
    "df_percentual_variacao.dropna(0, inplace=True)\n",
    "# df_percentual_variacao.drop('total_visualizacoes_dia_anterior', axis=1, inplace=True)\n",
    "df_percentual_variacao.head(25)"
   ]
  },
  {
   "cell_type": "code",
   "execution_count": null,
   "metadata": {},
   "outputs": [],
   "source": [
    "df_percentual_variacao = df_percentual_variacao[df_percentual_variacao['data_extracao'] == '2023-10-16\t']"
   ]
  },
  {
   "cell_type": "code",
   "execution_count": null,
   "metadata": {},
   "outputs": [
    {
     "data": {
      "application/vnd.plotly.v1+json": {
       "config": {
        "plotlyServerURL": "https://plot.ly"
       },
       "data": [
        {
         "delta": {
          "position": "bottom",
          "reference": 4562,
          "relative": true,
          "valueformat": ".2%"
         },
         "mode": "number+delta",
         "type": "indicator",
         "value": 10751
        }
       ],
       "layout": {
        "template": {
         "data": {
          "bar": [
           {
            "error_x": {
             "color": "#2a3f5f"
            },
            "error_y": {
             "color": "#2a3f5f"
            },
            "marker": {
             "line": {
              "color": "#E5ECF6",
              "width": 0.5
             },
             "pattern": {
              "fillmode": "overlay",
              "size": 10,
              "solidity": 0.2
             }
            },
            "type": "bar"
           }
          ],
          "barpolar": [
           {
            "marker": {
             "line": {
              "color": "#E5ECF6",
              "width": 0.5
             },
             "pattern": {
              "fillmode": "overlay",
              "size": 10,
              "solidity": 0.2
             }
            },
            "type": "barpolar"
           }
          ],
          "carpet": [
           {
            "aaxis": {
             "endlinecolor": "#2a3f5f",
             "gridcolor": "white",
             "linecolor": "white",
             "minorgridcolor": "white",
             "startlinecolor": "#2a3f5f"
            },
            "baxis": {
             "endlinecolor": "#2a3f5f",
             "gridcolor": "white",
             "linecolor": "white",
             "minorgridcolor": "white",
             "startlinecolor": "#2a3f5f"
            },
            "type": "carpet"
           }
          ],
          "choropleth": [
           {
            "colorbar": {
             "outlinewidth": 0,
             "ticks": ""
            },
            "type": "choropleth"
           }
          ],
          "contour": [
           {
            "colorbar": {
             "outlinewidth": 0,
             "ticks": ""
            },
            "colorscale": [
             [
              0,
              "#0d0887"
             ],
             [
              0.1111111111111111,
              "#46039f"
             ],
             [
              0.2222222222222222,
              "#7201a8"
             ],
             [
              0.3333333333333333,
              "#9c179e"
             ],
             [
              0.4444444444444444,
              "#bd3786"
             ],
             [
              0.5555555555555556,
              "#d8576b"
             ],
             [
              0.6666666666666666,
              "#ed7953"
             ],
             [
              0.7777777777777778,
              "#fb9f3a"
             ],
             [
              0.8888888888888888,
              "#fdca26"
             ],
             [
              1,
              "#f0f921"
             ]
            ],
            "type": "contour"
           }
          ],
          "contourcarpet": [
           {
            "colorbar": {
             "outlinewidth": 0,
             "ticks": ""
            },
            "type": "contourcarpet"
           }
          ],
          "heatmap": [
           {
            "colorbar": {
             "outlinewidth": 0,
             "ticks": ""
            },
            "colorscale": [
             [
              0,
              "#0d0887"
             ],
             [
              0.1111111111111111,
              "#46039f"
             ],
             [
              0.2222222222222222,
              "#7201a8"
             ],
             [
              0.3333333333333333,
              "#9c179e"
             ],
             [
              0.4444444444444444,
              "#bd3786"
             ],
             [
              0.5555555555555556,
              "#d8576b"
             ],
             [
              0.6666666666666666,
              "#ed7953"
             ],
             [
              0.7777777777777778,
              "#fb9f3a"
             ],
             [
              0.8888888888888888,
              "#fdca26"
             ],
             [
              1,
              "#f0f921"
             ]
            ],
            "type": "heatmap"
           }
          ],
          "heatmapgl": [
           {
            "colorbar": {
             "outlinewidth": 0,
             "ticks": ""
            },
            "colorscale": [
             [
              0,
              "#0d0887"
             ],
             [
              0.1111111111111111,
              "#46039f"
             ],
             [
              0.2222222222222222,
              "#7201a8"
             ],
             [
              0.3333333333333333,
              "#9c179e"
             ],
             [
              0.4444444444444444,
              "#bd3786"
             ],
             [
              0.5555555555555556,
              "#d8576b"
             ],
             [
              0.6666666666666666,
              "#ed7953"
             ],
             [
              0.7777777777777778,
              "#fb9f3a"
             ],
             [
              0.8888888888888888,
              "#fdca26"
             ],
             [
              1,
              "#f0f921"
             ]
            ],
            "type": "heatmapgl"
           }
          ],
          "histogram": [
           {
            "marker": {
             "pattern": {
              "fillmode": "overlay",
              "size": 10,
              "solidity": 0.2
             }
            },
            "type": "histogram"
           }
          ],
          "histogram2d": [
           {
            "colorbar": {
             "outlinewidth": 0,
             "ticks": ""
            },
            "colorscale": [
             [
              0,
              "#0d0887"
             ],
             [
              0.1111111111111111,
              "#46039f"
             ],
             [
              0.2222222222222222,
              "#7201a8"
             ],
             [
              0.3333333333333333,
              "#9c179e"
             ],
             [
              0.4444444444444444,
              "#bd3786"
             ],
             [
              0.5555555555555556,
              "#d8576b"
             ],
             [
              0.6666666666666666,
              "#ed7953"
             ],
             [
              0.7777777777777778,
              "#fb9f3a"
             ],
             [
              0.8888888888888888,
              "#fdca26"
             ],
             [
              1,
              "#f0f921"
             ]
            ],
            "type": "histogram2d"
           }
          ],
          "histogram2dcontour": [
           {
            "colorbar": {
             "outlinewidth": 0,
             "ticks": ""
            },
            "colorscale": [
             [
              0,
              "#0d0887"
             ],
             [
              0.1111111111111111,
              "#46039f"
             ],
             [
              0.2222222222222222,
              "#7201a8"
             ],
             [
              0.3333333333333333,
              "#9c179e"
             ],
             [
              0.4444444444444444,
              "#bd3786"
             ],
             [
              0.5555555555555556,
              "#d8576b"
             ],
             [
              0.6666666666666666,
              "#ed7953"
             ],
             [
              0.7777777777777778,
              "#fb9f3a"
             ],
             [
              0.8888888888888888,
              "#fdca26"
             ],
             [
              1,
              "#f0f921"
             ]
            ],
            "type": "histogram2dcontour"
           }
          ],
          "mesh3d": [
           {
            "colorbar": {
             "outlinewidth": 0,
             "ticks": ""
            },
            "type": "mesh3d"
           }
          ],
          "parcoords": [
           {
            "line": {
             "colorbar": {
              "outlinewidth": 0,
              "ticks": ""
             }
            },
            "type": "parcoords"
           }
          ],
          "pie": [
           {
            "automargin": true,
            "type": "pie"
           }
          ],
          "scatter": [
           {
            "fillpattern": {
             "fillmode": "overlay",
             "size": 10,
             "solidity": 0.2
            },
            "type": "scatter"
           }
          ],
          "scatter3d": [
           {
            "line": {
             "colorbar": {
              "outlinewidth": 0,
              "ticks": ""
             }
            },
            "marker": {
             "colorbar": {
              "outlinewidth": 0,
              "ticks": ""
             }
            },
            "type": "scatter3d"
           }
          ],
          "scattercarpet": [
           {
            "marker": {
             "colorbar": {
              "outlinewidth": 0,
              "ticks": ""
             }
            },
            "type": "scattercarpet"
           }
          ],
          "scattergeo": [
           {
            "marker": {
             "colorbar": {
              "outlinewidth": 0,
              "ticks": ""
             }
            },
            "type": "scattergeo"
           }
          ],
          "scattergl": [
           {
            "marker": {
             "colorbar": {
              "outlinewidth": 0,
              "ticks": ""
             }
            },
            "type": "scattergl"
           }
          ],
          "scattermapbox": [
           {
            "marker": {
             "colorbar": {
              "outlinewidth": 0,
              "ticks": ""
             }
            },
            "type": "scattermapbox"
           }
          ],
          "scatterpolar": [
           {
            "marker": {
             "colorbar": {
              "outlinewidth": 0,
              "ticks": ""
             }
            },
            "type": "scatterpolar"
           }
          ],
          "scatterpolargl": [
           {
            "marker": {
             "colorbar": {
              "outlinewidth": 0,
              "ticks": ""
             }
            },
            "type": "scatterpolargl"
           }
          ],
          "scatterternary": [
           {
            "marker": {
             "colorbar": {
              "outlinewidth": 0,
              "ticks": ""
             }
            },
            "type": "scatterternary"
           }
          ],
          "surface": [
           {
            "colorbar": {
             "outlinewidth": 0,
             "ticks": ""
            },
            "colorscale": [
             [
              0,
              "#0d0887"
             ],
             [
              0.1111111111111111,
              "#46039f"
             ],
             [
              0.2222222222222222,
              "#7201a8"
             ],
             [
              0.3333333333333333,
              "#9c179e"
             ],
             [
              0.4444444444444444,
              "#bd3786"
             ],
             [
              0.5555555555555556,
              "#d8576b"
             ],
             [
              0.6666666666666666,
              "#ed7953"
             ],
             [
              0.7777777777777778,
              "#fb9f3a"
             ],
             [
              0.8888888888888888,
              "#fdca26"
             ],
             [
              1,
              "#f0f921"
             ]
            ],
            "type": "surface"
           }
          ],
          "table": [
           {
            "cells": {
             "fill": {
              "color": "#EBF0F8"
             },
             "line": {
              "color": "white"
             }
            },
            "header": {
             "fill": {
              "color": "#C8D4E3"
             },
             "line": {
              "color": "white"
             }
            },
            "type": "table"
           }
          ]
         },
         "layout": {
          "annotationdefaults": {
           "arrowcolor": "#2a3f5f",
           "arrowhead": 0,
           "arrowwidth": 1
          },
          "autotypenumbers": "strict",
          "coloraxis": {
           "colorbar": {
            "outlinewidth": 0,
            "ticks": ""
           }
          },
          "colorscale": {
           "diverging": [
            [
             0,
             "#8e0152"
            ],
            [
             0.1,
             "#c51b7d"
            ],
            [
             0.2,
             "#de77ae"
            ],
            [
             0.3,
             "#f1b6da"
            ],
            [
             0.4,
             "#fde0ef"
            ],
            [
             0.5,
             "#f7f7f7"
            ],
            [
             0.6,
             "#e6f5d0"
            ],
            [
             0.7,
             "#b8e186"
            ],
            [
             0.8,
             "#7fbc41"
            ],
            [
             0.9,
             "#4d9221"
            ],
            [
             1,
             "#276419"
            ]
           ],
           "sequential": [
            [
             0,
             "#0d0887"
            ],
            [
             0.1111111111111111,
             "#46039f"
            ],
            [
             0.2222222222222222,
             "#7201a8"
            ],
            [
             0.3333333333333333,
             "#9c179e"
            ],
            [
             0.4444444444444444,
             "#bd3786"
            ],
            [
             0.5555555555555556,
             "#d8576b"
            ],
            [
             0.6666666666666666,
             "#ed7953"
            ],
            [
             0.7777777777777778,
             "#fb9f3a"
            ],
            [
             0.8888888888888888,
             "#fdca26"
            ],
            [
             1,
             "#f0f921"
            ]
           ],
           "sequentialminus": [
            [
             0,
             "#0d0887"
            ],
            [
             0.1111111111111111,
             "#46039f"
            ],
            [
             0.2222222222222222,
             "#7201a8"
            ],
            [
             0.3333333333333333,
             "#9c179e"
            ],
            [
             0.4444444444444444,
             "#bd3786"
            ],
            [
             0.5555555555555556,
             "#d8576b"
            ],
            [
             0.6666666666666666,
             "#ed7953"
            ],
            [
             0.7777777777777778,
             "#fb9f3a"
            ],
            [
             0.8888888888888888,
             "#fdca26"
            ],
            [
             1,
             "#f0f921"
            ]
           ]
          },
          "colorway": [
           "#636efa",
           "#EF553B",
           "#00cc96",
           "#ab63fa",
           "#FFA15A",
           "#19d3f3",
           "#FF6692",
           "#B6E880",
           "#FF97FF",
           "#FECB52"
          ],
          "font": {
           "color": "#2a3f5f"
          },
          "geo": {
           "bgcolor": "white",
           "lakecolor": "white",
           "landcolor": "#E5ECF6",
           "showlakes": true,
           "showland": true,
           "subunitcolor": "white"
          },
          "hoverlabel": {
           "align": "left"
          },
          "hovermode": "closest",
          "mapbox": {
           "style": "light"
          },
          "paper_bgcolor": "white",
          "plot_bgcolor": "#E5ECF6",
          "polar": {
           "angularaxis": {
            "gridcolor": "white",
            "linecolor": "white",
            "ticks": ""
           },
           "bgcolor": "#E5ECF6",
           "radialaxis": {
            "gridcolor": "white",
            "linecolor": "white",
            "ticks": ""
           }
          },
          "scene": {
           "xaxis": {
            "backgroundcolor": "#E5ECF6",
            "gridcolor": "white",
            "gridwidth": 2,
            "linecolor": "white",
            "showbackground": true,
            "ticks": "",
            "zerolinecolor": "white"
           },
           "yaxis": {
            "backgroundcolor": "#E5ECF6",
            "gridcolor": "white",
            "gridwidth": 2,
            "linecolor": "white",
            "showbackground": true,
            "ticks": "",
            "zerolinecolor": "white"
           },
           "zaxis": {
            "backgroundcolor": "#E5ECF6",
            "gridcolor": "white",
            "gridwidth": 2,
            "linecolor": "white",
            "showbackground": true,
            "ticks": "",
            "zerolinecolor": "white"
           }
          },
          "shapedefaults": {
           "line": {
            "color": "#2a3f5f"
           }
          },
          "ternary": {
           "aaxis": {
            "gridcolor": "white",
            "linecolor": "white",
            "ticks": ""
           },
           "baxis": {
            "gridcolor": "white",
            "linecolor": "white",
            "ticks": ""
           },
           "bgcolor": "#E5ECF6",
           "caxis": {
            "gridcolor": "white",
            "linecolor": "white",
            "ticks": ""
           }
          },
          "title": {
           "x": 0.05
          },
          "xaxis": {
           "automargin": true,
           "gridcolor": "white",
           "linecolor": "white",
           "ticks": "",
           "title": {
            "standoff": 15
           },
           "zerolinecolor": "white",
           "zerolinewidth": 2
          },
          "yaxis": {
           "automargin": true,
           "gridcolor": "white",
           "linecolor": "white",
           "ticks": "",
           "title": {
            "standoff": 15
           },
           "zerolinecolor": "white",
           "zerolinewidth": 2
          }
         }
        }
       }
      }
     },
     "metadata": {},
     "output_type": "display_data"
    }
   ],
   "source": [
    "import plotly.graph_objects as go\n",
    "\n",
    "fig = go.Figure()\n",
    "fig.add_trace(\n",
    "    go.Indicator(\n",
    "        mode='number+delta',\n",
    "        value=df_percentual_variacao['total_visualizacoes'].iloc[0],\n",
    "        delta={\n",
    "            'reference':  round(int(df_percentual_variacao['total_visualizacoes_dia_anterior'].iloc[0]), 2) ,\n",
    "            'relative': True,\n",
    "            'position': 'bottom',\n",
    "            'valueformat': '.2%',\n",
    "            },\n",
    "    )\n",
    ")\n",
    "fig.show()"
   ]
  },
  {
   "cell_type": "code",
   "execution_count": null,
   "metadata": {},
   "outputs": [
    {
     "data": {
      "text/plain": [
       "0.000331878662109375"
      ]
     },
     "execution_count": 10,
     "metadata": {},
     "output_type": "execute_result"
    }
   ],
   "source": [
    "df_percentual_variacao.memory_usage(deep=True).sum() / (1024 ** 2)"
   ]
  },
  {
   "cell_type": "markdown",
   "metadata": {},
   "source": [
    "-  comentários"
   ]
  },
  {
   "cell_type": "code",
   "execution_count": null,
   "metadata": {},
   "outputs": [],
   "source": [
    "tipos = {\n",
    "    'data_extracao':  'datetime64[ns]',\n",
    "    'total_comentarios_turno': 'int32',\n",
    "    'turno_extracao': 'string',\n",
    "\n",
    "}"
   ]
  },
  {
   "cell_type": "code",
   "execution_count": null,
   "metadata": {},
   "outputs": [
    {
     "data": {
      "text/html": [
       "<div>\n",
       "<style scoped>\n",
       "    .dataframe tbody tr th:only-of-type {\n",
       "        vertical-align: middle;\n",
       "    }\n",
       "\n",
       "    .dataframe tbody tr th {\n",
       "        vertical-align: top;\n",
       "    }\n",
       "\n",
       "    .dataframe thead th {\n",
       "        text-align: right;\n",
       "    }\n",
       "</style>\n",
       "<table border=\"1\" class=\"dataframe\">\n",
       "  <thead>\n",
       "    <tr style=\"text-align: right;\">\n",
       "      <th></th>\n",
       "      <th>data_extracao</th>\n",
       "      <th>turno_extracao</th>\n",
       "      <th>total_comentarios_turno</th>\n",
       "    </tr>\n",
       "  </thead>\n",
       "  <tbody>\n",
       "    <tr>\n",
       "      <th>0</th>\n",
       "      <td>2023-10-15</td>\n",
       "      <td>Noite</td>\n",
       "      <td>23</td>\n",
       "    </tr>\n",
       "    <tr>\n",
       "      <th>1</th>\n",
       "      <td>2023-10-15</td>\n",
       "      <td>Tarde</td>\n",
       "      <td>23</td>\n",
       "    </tr>\n",
       "    <tr>\n",
       "      <th>2</th>\n",
       "      <td>2023-10-16</td>\n",
       "      <td>Manhã</td>\n",
       "      <td>4</td>\n",
       "    </tr>\n",
       "    <tr>\n",
       "      <th>3</th>\n",
       "      <td>2023-10-16</td>\n",
       "      <td>Noite</td>\n",
       "      <td>1</td>\n",
       "    </tr>\n",
       "    <tr>\n",
       "      <th>4</th>\n",
       "      <td>2023-10-16</td>\n",
       "      <td>Tarde</td>\n",
       "      <td>1</td>\n",
       "    </tr>\n",
       "  </tbody>\n",
       "</table>\n",
       "</div>"
      ],
      "text/plain": [
       "  data_extracao turno_extracao  total_comentarios_turno\n",
       "0    2023-10-15          Noite                       23\n",
       "1    2023-10-15          Tarde                       23\n",
       "2    2023-10-16          Manhã                        4\n",
       "3    2023-10-16          Noite                        1\n",
       "4    2023-10-16          Tarde                        1"
      ]
     },
     "execution_count": 83,
     "metadata": {},
     "output_type": "execute_result"
    }
   ],
   "source": [
    "df_result = pd.read_sql_query(\n",
    "    ' SELECT data_extracao, '\n",
    "    ' turno_extracao, '\n",
    "    ' total_comentarios_turno '\n",
    "    ' FROM TOTAL_VISUALIZACOES_POR_SEMANA '\n",
    "    ' where TOTAL_VISUALIZACOES_POR_SEMANA.assunto = \"assunto_cities_skylines\" '\n",
    "    ' AND ID_CANAL=\"UCrOH1V-FyMunBIMrKL0y0xQ\"', \n",
    "    con=engine,\n",
    "    dtype=tipos\n",
    ")\n",
    "df_result.head()"
   ]
  },
  {
   "cell_type": "code",
   "execution_count": null,
   "metadata": {},
   "outputs": [
    {
     "data": {
      "text/html": [
       "<div>\n",
       "<style scoped>\n",
       "    .dataframe tbody tr th:only-of-type {\n",
       "        vertical-align: middle;\n",
       "    }\n",
       "\n",
       "    .dataframe tbody tr th {\n",
       "        vertical-align: top;\n",
       "    }\n",
       "\n",
       "    .dataframe thead th {\n",
       "        text-align: right;\n",
       "    }\n",
       "</style>\n",
       "<table border=\"1\" class=\"dataframe\">\n",
       "  <thead>\n",
       "    <tr style=\"text-align: right;\">\n",
       "      <th></th>\n",
       "      <th>data_extracao</th>\n",
       "      <th>total_comentarios</th>\n",
       "      <th>PERCENTUAL_COMENTARIOS</th>\n",
       "    </tr>\n",
       "  </thead>\n",
       "  <tbody>\n",
       "    <tr>\n",
       "      <th>0</th>\n",
       "      <td>2023-10-15</td>\n",
       "      <td>46</td>\n",
       "      <td>0.000000</td>\n",
       "    </tr>\n",
       "    <tr>\n",
       "      <th>1</th>\n",
       "      <td>2023-10-16</td>\n",
       "      <td>61</td>\n",
       "      <td>24.590164</td>\n",
       "    </tr>\n",
       "    <tr>\n",
       "      <th>2</th>\n",
       "      <td>2023-10-19</td>\n",
       "      <td>732</td>\n",
       "      <td>91.666667</td>\n",
       "    </tr>\n",
       "    <tr>\n",
       "      <th>3</th>\n",
       "      <td>2023-10-20</td>\n",
       "      <td>575</td>\n",
       "      <td>-27.304348</td>\n",
       "    </tr>\n",
       "    <tr>\n",
       "      <th>4</th>\n",
       "      <td>2023-10-21</td>\n",
       "      <td>560</td>\n",
       "      <td>-2.678571</td>\n",
       "    </tr>\n",
       "    <tr>\n",
       "      <th>5</th>\n",
       "      <td>2023-10-22</td>\n",
       "      <td>835</td>\n",
       "      <td>32.934132</td>\n",
       "    </tr>\n",
       "    <tr>\n",
       "      <th>6</th>\n",
       "      <td>2023-10-23</td>\n",
       "      <td>1729</td>\n",
       "      <td>51.706189</td>\n",
       "    </tr>\n",
       "    <tr>\n",
       "      <th>7</th>\n",
       "      <td>2023-10-24</td>\n",
       "      <td>1251</td>\n",
       "      <td>-38.209432</td>\n",
       "    </tr>\n",
       "    <tr>\n",
       "      <th>8</th>\n",
       "      <td>2023-10-25</td>\n",
       "      <td>1980</td>\n",
       "      <td>36.818182</td>\n",
       "    </tr>\n",
       "    <tr>\n",
       "      <th>9</th>\n",
       "      <td>2023-10-26</td>\n",
       "      <td>3761</td>\n",
       "      <td>47.354427</td>\n",
       "    </tr>\n",
       "    <tr>\n",
       "      <th>10</th>\n",
       "      <td>2023-10-27</td>\n",
       "      <td>3649</td>\n",
       "      <td>-3.069334</td>\n",
       "    </tr>\n",
       "  </tbody>\n",
       "</table>\n",
       "</div>"
      ],
      "text/plain": [
       "   data_extracao  total_comentarios  PERCENTUAL_COMENTARIOS\n",
       "0     2023-10-15                 46                0.000000\n",
       "1     2023-10-16                 61               24.590164\n",
       "2     2023-10-19                732               91.666667\n",
       "3     2023-10-20                575              -27.304348\n",
       "4     2023-10-21                560               -2.678571\n",
       "5     2023-10-22                835               32.934132\n",
       "6     2023-10-23               1729               51.706189\n",
       "7     2023-10-24               1251              -38.209432\n",
       "8     2023-10-25               1980               36.818182\n",
       "9     2023-10-26               3761               47.354427\n",
       "10    2023-10-27               3649               -3.069334"
      ]
     },
     "execution_count": 84,
     "metadata": {},
     "output_type": "execute_result"
    }
   ],
   "source": [
    "df_percentual_variacao = df_result.groupby('data_extracao') \\\n",
    "    .agg(total_comentarios=('total_comentarios_turno', 'sum')).reset_index() \n",
    "df_percentual_variacao['total_comentarios_dia_anterior'] = df_percentual_variacao['total_comentarios'].diff()\n",
    "df_percentual_variacao['PERCENTUAL_COMENTARIOS'] = (df_percentual_variacao['total_comentarios_dia_anterior'] / df_percentual_variacao['total_comentarios']) * 100 \n",
    "df_percentual_variacao.fillna(0, inplace=True)\n",
    "df_percentual_variacao.drop('total_comentarios_dia_anterior', axis=1, inplace=True)\n",
    "df_percentual_variacao.head(25)"
   ]
  },
  {
   "cell_type": "markdown",
   "metadata": {},
   "source": [
    "- Likes "
   ]
  },
  {
   "cell_type": "code",
   "execution_count": null,
   "metadata": {},
   "outputs": [],
   "source": [
    "tipos = {\n",
    "    'data_extracao':  'datetime64[ns]',\n",
    "    'total_likes_turno': 'int32',\n",
    "    'turno_extracao': 'string',\n",
    "\n",
    "}"
   ]
  },
  {
   "cell_type": "code",
   "execution_count": null,
   "metadata": {},
   "outputs": [
    {
     "data": {
      "text/html": [
       "<div>\n",
       "<style scoped>\n",
       "    .dataframe tbody tr th:only-of-type {\n",
       "        vertical-align: middle;\n",
       "    }\n",
       "\n",
       "    .dataframe tbody tr th {\n",
       "        vertical-align: top;\n",
       "    }\n",
       "\n",
       "    .dataframe thead th {\n",
       "        text-align: right;\n",
       "    }\n",
       "</style>\n",
       "<table border=\"1\" class=\"dataframe\">\n",
       "  <thead>\n",
       "    <tr style=\"text-align: right;\">\n",
       "      <th></th>\n",
       "      <th>data_extracao</th>\n",
       "      <th>turno_extracao</th>\n",
       "      <th>total_likes_turno</th>\n",
       "    </tr>\n",
       "  </thead>\n",
       "  <tbody>\n",
       "    <tr>\n",
       "      <th>0</th>\n",
       "      <td>2023-10-15</td>\n",
       "      <td>Noite</td>\n",
       "      <td>156</td>\n",
       "    </tr>\n",
       "    <tr>\n",
       "      <th>1</th>\n",
       "      <td>2023-10-15</td>\n",
       "      <td>Tarde</td>\n",
       "      <td>531</td>\n",
       "    </tr>\n",
       "    <tr>\n",
       "      <th>2</th>\n",
       "      <td>2023-10-16</td>\n",
       "      <td>Manhã</td>\n",
       "      <td>139</td>\n",
       "    </tr>\n",
       "    <tr>\n",
       "      <th>3</th>\n",
       "      <td>2023-10-16</td>\n",
       "      <td>Noite</td>\n",
       "      <td>31</td>\n",
       "    </tr>\n",
       "    <tr>\n",
       "      <th>4</th>\n",
       "      <td>2023-10-16</td>\n",
       "      <td>Tarde</td>\n",
       "      <td>66</td>\n",
       "    </tr>\n",
       "  </tbody>\n",
       "</table>\n",
       "</div>"
      ],
      "text/plain": [
       "  data_extracao turno_extracao  total_likes_turno\n",
       "0    2023-10-15          Noite                156\n",
       "1    2023-10-15          Tarde                531\n",
       "2    2023-10-16          Manhã                139\n",
       "3    2023-10-16          Noite                 31\n",
       "4    2023-10-16          Tarde                 66"
      ]
     },
     "execution_count": 86,
     "metadata": {},
     "output_type": "execute_result"
    }
   ],
   "source": [
    "df_result = pd.read_sql_query(\n",
    "    ' SELECT data_extracao, '\n",
    "    ' turno_extracao, '\n",
    "    ' total_likes_turno '\n",
    "    ' FROM TOTAL_VISUALIZACOES_POR_SEMANA '\n",
    "    ' where TOTAL_VISUALIZACOES_POR_SEMANA.assunto = \"assunto_cities_skylines\" '\n",
    "    ' AND ID_CANAL=\"UCrOH1V-FyMunBIMrKL0y0xQ\"', \n",
    "    con=engine,\n",
    "    dtype=tipos\n",
    ")\n",
    "df_result.head()"
   ]
  },
  {
   "cell_type": "code",
   "execution_count": null,
   "metadata": {},
   "outputs": [
    {
     "data": {
      "text/html": [
       "<div>\n",
       "<style scoped>\n",
       "    .dataframe tbody tr th:only-of-type {\n",
       "        vertical-align: middle;\n",
       "    }\n",
       "\n",
       "    .dataframe tbody tr th {\n",
       "        vertical-align: top;\n",
       "    }\n",
       "\n",
       "    .dataframe thead th {\n",
       "        text-align: right;\n",
       "    }\n",
       "</style>\n",
       "<table border=\"1\" class=\"dataframe\">\n",
       "  <thead>\n",
       "    <tr style=\"text-align: right;\">\n",
       "      <th></th>\n",
       "      <th>data_extracao</th>\n",
       "      <th>total_likes</th>\n",
       "      <th>PERCENTUAL_LIKES</th>\n",
       "    </tr>\n",
       "  </thead>\n",
       "  <tbody>\n",
       "    <tr>\n",
       "      <th>0</th>\n",
       "      <td>2023-10-15</td>\n",
       "      <td>687</td>\n",
       "      <td>0.000000</td>\n",
       "    </tr>\n",
       "    <tr>\n",
       "      <th>1</th>\n",
       "      <td>2023-10-16</td>\n",
       "      <td>1753</td>\n",
       "      <td>60.810040</td>\n",
       "    </tr>\n",
       "    <tr>\n",
       "      <th>2</th>\n",
       "      <td>2023-10-19</td>\n",
       "      <td>10675</td>\n",
       "      <td>83.578454</td>\n",
       "    </tr>\n",
       "    <tr>\n",
       "      <th>3</th>\n",
       "      <td>2023-10-20</td>\n",
       "      <td>7585</td>\n",
       "      <td>-40.738299</td>\n",
       "    </tr>\n",
       "    <tr>\n",
       "      <th>4</th>\n",
       "      <td>2023-10-21</td>\n",
       "      <td>10044</td>\n",
       "      <td>24.482278</td>\n",
       "    </tr>\n",
       "    <tr>\n",
       "      <th>5</th>\n",
       "      <td>2023-10-22</td>\n",
       "      <td>10181</td>\n",
       "      <td>1.345644</td>\n",
       "    </tr>\n",
       "    <tr>\n",
       "      <th>6</th>\n",
       "      <td>2023-10-23</td>\n",
       "      <td>9333</td>\n",
       "      <td>-9.086039</td>\n",
       "    </tr>\n",
       "    <tr>\n",
       "      <th>7</th>\n",
       "      <td>2023-10-24</td>\n",
       "      <td>9334</td>\n",
       "      <td>0.010714</td>\n",
       "    </tr>\n",
       "    <tr>\n",
       "      <th>8</th>\n",
       "      <td>2023-10-25</td>\n",
       "      <td>9709</td>\n",
       "      <td>3.862396</td>\n",
       "    </tr>\n",
       "    <tr>\n",
       "      <th>9</th>\n",
       "      <td>2023-10-26</td>\n",
       "      <td>13994</td>\n",
       "      <td>30.620266</td>\n",
       "    </tr>\n",
       "    <tr>\n",
       "      <th>10</th>\n",
       "      <td>2023-10-27</td>\n",
       "      <td>7065</td>\n",
       "      <td>-98.075018</td>\n",
       "    </tr>\n",
       "  </tbody>\n",
       "</table>\n",
       "</div>"
      ],
      "text/plain": [
       "   data_extracao  total_likes  PERCENTUAL_LIKES\n",
       "0     2023-10-15          687          0.000000\n",
       "1     2023-10-16         1753         60.810040\n",
       "2     2023-10-19        10675         83.578454\n",
       "3     2023-10-20         7585        -40.738299\n",
       "4     2023-10-21        10044         24.482278\n",
       "5     2023-10-22        10181          1.345644\n",
       "6     2023-10-23         9333         -9.086039\n",
       "7     2023-10-24         9334          0.010714\n",
       "8     2023-10-25         9709          3.862396\n",
       "9     2023-10-26        13994         30.620266\n",
       "10    2023-10-27         7065        -98.075018"
      ]
     },
     "execution_count": 90,
     "metadata": {},
     "output_type": "execute_result"
    }
   ],
   "source": [
    "df_percentual_variacao = df_result.groupby('data_extracao') \\\n",
    "    .agg(total_likes=('total_likes_turno', 'sum')).reset_index() \n",
    "df_percentual_variacao['total_likes_dia_anterior'] = df_percentual_variacao['total_likes'].diff()\n",
    "df_percentual_variacao['PERCENTUAL_LIKES'] = (df_percentual_variacao['total_likes_dia_anterior'] / df_percentual_variacao['total_likes']) * 100 \n",
    "df_percentual_variacao.fillna(0, inplace=True)\n",
    "df_percentual_variacao.drop('total_likes_dia_anterior', axis=1, inplace=True)\n",
    "df_percentual_variacao.head(25)"
   ]
  },
  {
   "cell_type": "markdown",
   "metadata": {},
   "source": [
    "# Dia em que os vídeos são Públicados com alta frequência"
   ]
  },
  {
   "cell_type": "code",
   "execution_count": null,
   "metadata": {},
   "outputs": [],
   "source": [
    "tipos = {\n",
    "    'semana_traduzida': 'string',\n",
    "    'nm_canal': 'string',\n",
    "    'total_videos' : 'int32',\n",
    "    'data_publicacao' : 'datetime64[ns]',\n",
    "}"
   ]
  },
  {
   "cell_type": "code",
   "execution_count": null,
   "metadata": {},
   "outputs": [],
   "source": [
    "df_publicacao_video = pd.read_sql_query(\n",
    "    'SELECT semana_traduzida, '\n",
    "    ' nm_canal,  '\n",
    "    ' total_videos, '\n",
    "    ' data_publicacao '\n",
    "    ' FROM youtube.total_video_publicado_semana'\n",
    "    ' WHERE assunto = \"assunto_cities_skylines\" ',\n",
    "\n",
    "    dtype=tipos,\n",
    "    con=engine\n",
    ")"
   ]
  },
  {
   "cell_type": "code",
   "execution_count": null,
   "metadata": {},
   "outputs": [
    {
     "data": {
      "text/html": [
       "<div>\n",
       "<style scoped>\n",
       "    .dataframe tbody tr th:only-of-type {\n",
       "        vertical-align: middle;\n",
       "    }\n",
       "\n",
       "    .dataframe tbody tr th {\n",
       "        vertical-align: top;\n",
       "    }\n",
       "\n",
       "    .dataframe thead th {\n",
       "        text-align: right;\n",
       "    }\n",
       "</style>\n",
       "<table border=\"1\" class=\"dataframe\">\n",
       "  <thead>\n",
       "    <tr style=\"text-align: right;\">\n",
       "      <th></th>\n",
       "      <th>semana_traduzida</th>\n",
       "      <th>nm_canal</th>\n",
       "      <th>total_videos</th>\n",
       "      <th>data_publicacao</th>\n",
       "    </tr>\n",
       "  </thead>\n",
       "  <tbody>\n",
       "    <tr>\n",
       "      <th>0</th>\n",
       "      <td>Domingo</td>\n",
       "      <td>Irmãos Cities</td>\n",
       "      <td>1</td>\n",
       "      <td>2023-10-15</td>\n",
       "    </tr>\n",
       "    <tr>\n",
       "      <th>1</th>\n",
       "      <td>Domingo</td>\n",
       "      <td>CANAL HAND - GAME WITH MUSIC</td>\n",
       "      <td>1</td>\n",
       "      <td>2023-10-15</td>\n",
       "    </tr>\n",
       "    <tr>\n",
       "      <th>2</th>\n",
       "      <td>Domingo</td>\n",
       "      <td>GAC TV</td>\n",
       "      <td>1</td>\n",
       "      <td>2023-10-15</td>\n",
       "    </tr>\n",
       "    <tr>\n",
       "      <th>3</th>\n",
       "      <td>Domingo</td>\n",
       "      <td>Lucas gameplays brasil</td>\n",
       "      <td>1</td>\n",
       "      <td>2023-10-15</td>\n",
       "    </tr>\n",
       "    <tr>\n",
       "      <th>4</th>\n",
       "      <td>Domingo</td>\n",
       "      <td>O Veio Games</td>\n",
       "      <td>1</td>\n",
       "      <td>2023-10-15</td>\n",
       "    </tr>\n",
       "  </tbody>\n",
       "</table>\n",
       "</div>"
      ],
      "text/plain": [
       "  semana_traduzida                      nm_canal  total_videos data_publicacao\n",
       "0          Domingo                 Irmãos Cities             1      2023-10-15\n",
       "1          Domingo  CANAL HAND - GAME WITH MUSIC             1      2023-10-15\n",
       "2          Domingo                        GAC TV             1      2023-10-15\n",
       "3          Domingo        Lucas gameplays brasil             1      2023-10-15\n",
       "4          Domingo                  O Veio Games             1      2023-10-15"
      ]
     },
     "execution_count": 101,
     "metadata": {},
     "output_type": "execute_result"
    }
   ],
   "source": [
    "df_publicacao_video.head()"
   ]
  },
  {
   "cell_type": "code",
   "execution_count": null,
   "metadata": {},
   "outputs": [],
   "source": []
  },
  {
   "cell_type": "code",
   "execution_count": null,
   "metadata": {},
   "outputs": [],
   "source": [
    "def indice_semana(dia: str) -> int: \n",
    "    dias_semana = {\n",
    "        'Domingo': 1,\n",
    "        'Segunda-feira' : 2,\n",
    "        'Terça-feira' : 3,\n",
    "        'Quarta-feira' : 4,\n",
    "        'Quinta-feira': 5,\n",
    "        'Sexta-feira': 6,\n",
    "        'Sábado' : 7\n",
    "    }\n",
    "\n",
    "    return dias_semana.get(dia)\n"
   ]
  },
  {
   "cell_type": "code",
   "execution_count": null,
   "metadata": {},
   "outputs": [
    {
     "data": {
      "text/html": [
       "<div>\n",
       "<style scoped>\n",
       "    .dataframe tbody tr th:only-of-type {\n",
       "        vertical-align: middle;\n",
       "    }\n",
       "\n",
       "    .dataframe tbody tr th {\n",
       "        vertical-align: top;\n",
       "    }\n",
       "\n",
       "    .dataframe thead th {\n",
       "        text-align: right;\n",
       "    }\n",
       "</style>\n",
       "<table border=\"1\" class=\"dataframe\">\n",
       "  <thead>\n",
       "    <tr style=\"text-align: right;\">\n",
       "      <th></th>\n",
       "      <th>semana_traduzida</th>\n",
       "      <th>nm_canal</th>\n",
       "      <th>total_videos</th>\n",
       "      <th>data_publicacao</th>\n",
       "    </tr>\n",
       "  </thead>\n",
       "  <tbody>\n",
       "    <tr>\n",
       "      <th>0</th>\n",
       "      <td>Domingo</td>\n",
       "      <td>Irmãos Cities</td>\n",
       "      <td>1</td>\n",
       "      <td>2023-10-15</td>\n",
       "    </tr>\n",
       "    <tr>\n",
       "      <th>1</th>\n",
       "      <td>Domingo</td>\n",
       "      <td>CANAL HAND - GAME WITH MUSIC</td>\n",
       "      <td>1</td>\n",
       "      <td>2023-10-15</td>\n",
       "    </tr>\n",
       "    <tr>\n",
       "      <th>2</th>\n",
       "      <td>Domingo</td>\n",
       "      <td>GAC TV</td>\n",
       "      <td>1</td>\n",
       "      <td>2023-10-15</td>\n",
       "    </tr>\n",
       "    <tr>\n",
       "      <th>3</th>\n",
       "      <td>Domingo</td>\n",
       "      <td>Lucas gameplays brasil</td>\n",
       "      <td>1</td>\n",
       "      <td>2023-10-15</td>\n",
       "    </tr>\n",
       "    <tr>\n",
       "      <th>4</th>\n",
       "      <td>Domingo</td>\n",
       "      <td>O Veio Games</td>\n",
       "      <td>1</td>\n",
       "      <td>2023-10-15</td>\n",
       "    </tr>\n",
       "  </tbody>\n",
       "</table>\n",
       "</div>"
      ],
      "text/plain": [
       "  semana_traduzida                      nm_canal  total_videos data_publicacao\n",
       "0          Domingo                 Irmãos Cities             1      2023-10-15\n",
       "1          Domingo  CANAL HAND - GAME WITH MUSIC             1      2023-10-15\n",
       "2          Domingo                        GAC TV             1      2023-10-15\n",
       "3          Domingo        Lucas gameplays brasil             1      2023-10-15\n",
       "4          Domingo                  O Veio Games             1      2023-10-15"
      ]
     },
     "execution_count": 103,
     "metadata": {},
     "output_type": "execute_result"
    }
   ],
   "source": [
    "df_publicacao_video.head()"
   ]
  },
  {
   "cell_type": "code",
   "execution_count": null,
   "metadata": {},
   "outputs": [
    {
     "data": {
      "text/html": [
       "<div>\n",
       "<style scoped>\n",
       "    .dataframe tbody tr th:only-of-type {\n",
       "        vertical-align: middle;\n",
       "    }\n",
       "\n",
       "    .dataframe tbody tr th {\n",
       "        vertical-align: top;\n",
       "    }\n",
       "\n",
       "    .dataframe thead th {\n",
       "        text-align: right;\n",
       "    }\n",
       "</style>\n",
       "<table border=\"1\" class=\"dataframe\">\n",
       "  <thead>\n",
       "    <tr style=\"text-align: right;\">\n",
       "      <th></th>\n",
       "      <th>semana_traduzida</th>\n",
       "      <th>total_videos</th>\n",
       "    </tr>\n",
       "  </thead>\n",
       "  <tbody>\n",
       "    <tr>\n",
       "      <th>0</th>\n",
       "      <td>Domingo</td>\n",
       "      <td>25</td>\n",
       "    </tr>\n",
       "    <tr>\n",
       "      <th>3</th>\n",
       "      <td>Segunda-feira</td>\n",
       "      <td>40</td>\n",
       "    </tr>\n",
       "    <tr>\n",
       "      <th>6</th>\n",
       "      <td>Terça-feira</td>\n",
       "      <td>39</td>\n",
       "    </tr>\n",
       "    <tr>\n",
       "      <th>1</th>\n",
       "      <td>Quarta-feira</td>\n",
       "      <td>37</td>\n",
       "    </tr>\n",
       "    <tr>\n",
       "      <th>2</th>\n",
       "      <td>Quinta-feira</td>\n",
       "      <td>39</td>\n",
       "    </tr>\n",
       "    <tr>\n",
       "      <th>4</th>\n",
       "      <td>Sexta-feira</td>\n",
       "      <td>34</td>\n",
       "    </tr>\n",
       "    <tr>\n",
       "      <th>5</th>\n",
       "      <td>Sábado</td>\n",
       "      <td>21</td>\n",
       "    </tr>\n",
       "  </tbody>\n",
       "</table>\n",
       "</div>"
      ],
      "text/plain": [
       "  semana_traduzida  total_videos\n",
       "0          Domingo            25\n",
       "3    Segunda-feira            40\n",
       "6      Terça-feira            39\n",
       "1     Quarta-feira            37\n",
       "2     Quinta-feira            39\n",
       "4      Sexta-feira            34\n",
       "5           Sábado            21"
      ]
     },
     "execution_count": 104,
     "metadata": {},
     "output_type": "execute_result"
    }
   ],
   "source": [
    "\n",
    "# df_publicacao_video['indice_semana'] = df_publicacao_video['semana_traduzida'].apply(indice_semana)\n",
    "# df_publicacao_video.sort_values(by='indice_semana', inplace=True)\n",
    "df_publicacao_video = df_publicacao_video.groupby('semana_traduzida').sum('total_videos').reset_index()\n",
    "df_publicacao_video['indice_semana'] = df_publicacao_video['semana_traduzida'].apply(indice_semana)\n",
    "df_publicacao_video.sort_values(by='indice_semana', inplace=True)\n",
    "df_publicacao_video.drop(['indice_semana'], axis=1, inplace=True)\n",
    "df_publicacao_video.head(7)"
   ]
  },
  {
   "cell_type": "markdown",
   "metadata": {},
   "source": [
    "- Cor dia de publicação"
   ]
  },
  {
   "cell_type": "code",
   "execution_count": null,
   "metadata": {},
   "outputs": [
    {
     "data": {
      "application/vnd.plotly.v1+json": {
       "config": {
        "plotlyServerURL": "https://plot.ly"
       },
       "data": [
        {
         "alignmentgroup": "True",
         "hovertemplate": "semana_traduzida=%{x}<br>total_videos=%{y}<extra></extra>",
         "legendgroup": "",
         "marker": {
          "color": "#636efa",
          "pattern": {
           "shape": ""
          }
         },
         "name": "",
         "offsetgroup": "",
         "orientation": "v",
         "showlegend": false,
         "textposition": "auto",
         "texttemplate": "%{y}",
         "type": "bar",
         "x": [
          "Domingo",
          "Segunda-feira",
          "Terça-feira",
          "Quarta-feira",
          "Quinta-feira",
          "Sexta-feira",
          "Sábado"
         ],
         "xaxis": "x",
         "y": [
          25,
          40,
          39,
          37,
          39,
          34,
          21
         ],
         "yaxis": "y"
        }
       ],
       "layout": {
        "barmode": "relative",
        "legend": {
         "tracegroupgap": 0
        },
        "margin": {
         "b": 20,
         "l": 20,
         "pad": 4,
         "r": 20,
         "t": 40
        },
        "paper_bgcolor": "LightSteelBlue",
        "showlegend": true,
        "template": {
         "data": {
          "bar": [
           {
            "error_x": {
             "color": "#2a3f5f"
            },
            "error_y": {
             "color": "#2a3f5f"
            },
            "marker": {
             "line": {
              "color": "#E5ECF6",
              "width": 0.5
             },
             "pattern": {
              "fillmode": "overlay",
              "size": 10,
              "solidity": 0.2
             }
            },
            "type": "bar"
           }
          ],
          "barpolar": [
           {
            "marker": {
             "line": {
              "color": "#E5ECF6",
              "width": 0.5
             },
             "pattern": {
              "fillmode": "overlay",
              "size": 10,
              "solidity": 0.2
             }
            },
            "type": "barpolar"
           }
          ],
          "carpet": [
           {
            "aaxis": {
             "endlinecolor": "#2a3f5f",
             "gridcolor": "white",
             "linecolor": "white",
             "minorgridcolor": "white",
             "startlinecolor": "#2a3f5f"
            },
            "baxis": {
             "endlinecolor": "#2a3f5f",
             "gridcolor": "white",
             "linecolor": "white",
             "minorgridcolor": "white",
             "startlinecolor": "#2a3f5f"
            },
            "type": "carpet"
           }
          ],
          "choropleth": [
           {
            "colorbar": {
             "outlinewidth": 0,
             "ticks": ""
            },
            "type": "choropleth"
           }
          ],
          "contour": [
           {
            "colorbar": {
             "outlinewidth": 0,
             "ticks": ""
            },
            "colorscale": [
             [
              0,
              "#0d0887"
             ],
             [
              0.1111111111111111,
              "#46039f"
             ],
             [
              0.2222222222222222,
              "#7201a8"
             ],
             [
              0.3333333333333333,
              "#9c179e"
             ],
             [
              0.4444444444444444,
              "#bd3786"
             ],
             [
              0.5555555555555556,
              "#d8576b"
             ],
             [
              0.6666666666666666,
              "#ed7953"
             ],
             [
              0.7777777777777778,
              "#fb9f3a"
             ],
             [
              0.8888888888888888,
              "#fdca26"
             ],
             [
              1,
              "#f0f921"
             ]
            ],
            "type": "contour"
           }
          ],
          "contourcarpet": [
           {
            "colorbar": {
             "outlinewidth": 0,
             "ticks": ""
            },
            "type": "contourcarpet"
           }
          ],
          "heatmap": [
           {
            "colorbar": {
             "outlinewidth": 0,
             "ticks": ""
            },
            "colorscale": [
             [
              0,
              "#0d0887"
             ],
             [
              0.1111111111111111,
              "#46039f"
             ],
             [
              0.2222222222222222,
              "#7201a8"
             ],
             [
              0.3333333333333333,
              "#9c179e"
             ],
             [
              0.4444444444444444,
              "#bd3786"
             ],
             [
              0.5555555555555556,
              "#d8576b"
             ],
             [
              0.6666666666666666,
              "#ed7953"
             ],
             [
              0.7777777777777778,
              "#fb9f3a"
             ],
             [
              0.8888888888888888,
              "#fdca26"
             ],
             [
              1,
              "#f0f921"
             ]
            ],
            "type": "heatmap"
           }
          ],
          "heatmapgl": [
           {
            "colorbar": {
             "outlinewidth": 0,
             "ticks": ""
            },
            "colorscale": [
             [
              0,
              "#0d0887"
             ],
             [
              0.1111111111111111,
              "#46039f"
             ],
             [
              0.2222222222222222,
              "#7201a8"
             ],
             [
              0.3333333333333333,
              "#9c179e"
             ],
             [
              0.4444444444444444,
              "#bd3786"
             ],
             [
              0.5555555555555556,
              "#d8576b"
             ],
             [
              0.6666666666666666,
              "#ed7953"
             ],
             [
              0.7777777777777778,
              "#fb9f3a"
             ],
             [
              0.8888888888888888,
              "#fdca26"
             ],
             [
              1,
              "#f0f921"
             ]
            ],
            "type": "heatmapgl"
           }
          ],
          "histogram": [
           {
            "marker": {
             "pattern": {
              "fillmode": "overlay",
              "size": 10,
              "solidity": 0.2
             }
            },
            "type": "histogram"
           }
          ],
          "histogram2d": [
           {
            "colorbar": {
             "outlinewidth": 0,
             "ticks": ""
            },
            "colorscale": [
             [
              0,
              "#0d0887"
             ],
             [
              0.1111111111111111,
              "#46039f"
             ],
             [
              0.2222222222222222,
              "#7201a8"
             ],
             [
              0.3333333333333333,
              "#9c179e"
             ],
             [
              0.4444444444444444,
              "#bd3786"
             ],
             [
              0.5555555555555556,
              "#d8576b"
             ],
             [
              0.6666666666666666,
              "#ed7953"
             ],
             [
              0.7777777777777778,
              "#fb9f3a"
             ],
             [
              0.8888888888888888,
              "#fdca26"
             ],
             [
              1,
              "#f0f921"
             ]
            ],
            "type": "histogram2d"
           }
          ],
          "histogram2dcontour": [
           {
            "colorbar": {
             "outlinewidth": 0,
             "ticks": ""
            },
            "colorscale": [
             [
              0,
              "#0d0887"
             ],
             [
              0.1111111111111111,
              "#46039f"
             ],
             [
              0.2222222222222222,
              "#7201a8"
             ],
             [
              0.3333333333333333,
              "#9c179e"
             ],
             [
              0.4444444444444444,
              "#bd3786"
             ],
             [
              0.5555555555555556,
              "#d8576b"
             ],
             [
              0.6666666666666666,
              "#ed7953"
             ],
             [
              0.7777777777777778,
              "#fb9f3a"
             ],
             [
              0.8888888888888888,
              "#fdca26"
             ],
             [
              1,
              "#f0f921"
             ]
            ],
            "type": "histogram2dcontour"
           }
          ],
          "mesh3d": [
           {
            "colorbar": {
             "outlinewidth": 0,
             "ticks": ""
            },
            "type": "mesh3d"
           }
          ],
          "parcoords": [
           {
            "line": {
             "colorbar": {
              "outlinewidth": 0,
              "ticks": ""
             }
            },
            "type": "parcoords"
           }
          ],
          "pie": [
           {
            "automargin": true,
            "type": "pie"
           }
          ],
          "scatter": [
           {
            "fillpattern": {
             "fillmode": "overlay",
             "size": 10,
             "solidity": 0.2
            },
            "type": "scatter"
           }
          ],
          "scatter3d": [
           {
            "line": {
             "colorbar": {
              "outlinewidth": 0,
              "ticks": ""
             }
            },
            "marker": {
             "colorbar": {
              "outlinewidth": 0,
              "ticks": ""
             }
            },
            "type": "scatter3d"
           }
          ],
          "scattercarpet": [
           {
            "marker": {
             "colorbar": {
              "outlinewidth": 0,
              "ticks": ""
             }
            },
            "type": "scattercarpet"
           }
          ],
          "scattergeo": [
           {
            "marker": {
             "colorbar": {
              "outlinewidth": 0,
              "ticks": ""
             }
            },
            "type": "scattergeo"
           }
          ],
          "scattergl": [
           {
            "marker": {
             "colorbar": {
              "outlinewidth": 0,
              "ticks": ""
             }
            },
            "type": "scattergl"
           }
          ],
          "scattermapbox": [
           {
            "marker": {
             "colorbar": {
              "outlinewidth": 0,
              "ticks": ""
             }
            },
            "type": "scattermapbox"
           }
          ],
          "scatterpolar": [
           {
            "marker": {
             "colorbar": {
              "outlinewidth": 0,
              "ticks": ""
             }
            },
            "type": "scatterpolar"
           }
          ],
          "scatterpolargl": [
           {
            "marker": {
             "colorbar": {
              "outlinewidth": 0,
              "ticks": ""
             }
            },
            "type": "scatterpolargl"
           }
          ],
          "scatterternary": [
           {
            "marker": {
             "colorbar": {
              "outlinewidth": 0,
              "ticks": ""
             }
            },
            "type": "scatterternary"
           }
          ],
          "surface": [
           {
            "colorbar": {
             "outlinewidth": 0,
             "ticks": ""
            },
            "colorscale": [
             [
              0,
              "#0d0887"
             ],
             [
              0.1111111111111111,
              "#46039f"
             ],
             [
              0.2222222222222222,
              "#7201a8"
             ],
             [
              0.3333333333333333,
              "#9c179e"
             ],
             [
              0.4444444444444444,
              "#bd3786"
             ],
             [
              0.5555555555555556,
              "#d8576b"
             ],
             [
              0.6666666666666666,
              "#ed7953"
             ],
             [
              0.7777777777777778,
              "#fb9f3a"
             ],
             [
              0.8888888888888888,
              "#fdca26"
             ],
             [
              1,
              "#f0f921"
             ]
            ],
            "type": "surface"
           }
          ],
          "table": [
           {
            "cells": {
             "fill": {
              "color": "#EBF0F8"
             },
             "line": {
              "color": "white"
             }
            },
            "header": {
             "fill": {
              "color": "#C8D4E3"
             },
             "line": {
              "color": "white"
             }
            },
            "type": "table"
           }
          ]
         },
         "layout": {
          "annotationdefaults": {
           "arrowcolor": "#2a3f5f",
           "arrowhead": 0,
           "arrowwidth": 1
          },
          "autotypenumbers": "strict",
          "coloraxis": {
           "colorbar": {
            "outlinewidth": 0,
            "ticks": ""
           }
          },
          "colorscale": {
           "diverging": [
            [
             0,
             "#8e0152"
            ],
            [
             0.1,
             "#c51b7d"
            ],
            [
             0.2,
             "#de77ae"
            ],
            [
             0.3,
             "#f1b6da"
            ],
            [
             0.4,
             "#fde0ef"
            ],
            [
             0.5,
             "#f7f7f7"
            ],
            [
             0.6,
             "#e6f5d0"
            ],
            [
             0.7,
             "#b8e186"
            ],
            [
             0.8,
             "#7fbc41"
            ],
            [
             0.9,
             "#4d9221"
            ],
            [
             1,
             "#276419"
            ]
           ],
           "sequential": [
            [
             0,
             "#0d0887"
            ],
            [
             0.1111111111111111,
             "#46039f"
            ],
            [
             0.2222222222222222,
             "#7201a8"
            ],
            [
             0.3333333333333333,
             "#9c179e"
            ],
            [
             0.4444444444444444,
             "#bd3786"
            ],
            [
             0.5555555555555556,
             "#d8576b"
            ],
            [
             0.6666666666666666,
             "#ed7953"
            ],
            [
             0.7777777777777778,
             "#fb9f3a"
            ],
            [
             0.8888888888888888,
             "#fdca26"
            ],
            [
             1,
             "#f0f921"
            ]
           ],
           "sequentialminus": [
            [
             0,
             "#0d0887"
            ],
            [
             0.1111111111111111,
             "#46039f"
            ],
            [
             0.2222222222222222,
             "#7201a8"
            ],
            [
             0.3333333333333333,
             "#9c179e"
            ],
            [
             0.4444444444444444,
             "#bd3786"
            ],
            [
             0.5555555555555556,
             "#d8576b"
            ],
            [
             0.6666666666666666,
             "#ed7953"
            ],
            [
             0.7777777777777778,
             "#fb9f3a"
            ],
            [
             0.8888888888888888,
             "#fdca26"
            ],
            [
             1,
             "#f0f921"
            ]
           ]
          },
          "colorway": [
           "#636efa",
           "#EF553B",
           "#00cc96",
           "#ab63fa",
           "#FFA15A",
           "#19d3f3",
           "#FF6692",
           "#B6E880",
           "#FF97FF",
           "#FECB52"
          ],
          "font": {
           "color": "#2a3f5f"
          },
          "geo": {
           "bgcolor": "white",
           "lakecolor": "white",
           "landcolor": "#E5ECF6",
           "showlakes": true,
           "showland": true,
           "subunitcolor": "white"
          },
          "hoverlabel": {
           "align": "left"
          },
          "hovermode": "closest",
          "mapbox": {
           "style": "light"
          },
          "paper_bgcolor": "white",
          "plot_bgcolor": "#E5ECF6",
          "polar": {
           "angularaxis": {
            "gridcolor": "white",
            "linecolor": "white",
            "ticks": ""
           },
           "bgcolor": "#E5ECF6",
           "radialaxis": {
            "gridcolor": "white",
            "linecolor": "white",
            "ticks": ""
           }
          },
          "scene": {
           "xaxis": {
            "backgroundcolor": "#E5ECF6",
            "gridcolor": "white",
            "gridwidth": 2,
            "linecolor": "white",
            "showbackground": true,
            "ticks": "",
            "zerolinecolor": "white"
           },
           "yaxis": {
            "backgroundcolor": "#E5ECF6",
            "gridcolor": "white",
            "gridwidth": 2,
            "linecolor": "white",
            "showbackground": true,
            "ticks": "",
            "zerolinecolor": "white"
           },
           "zaxis": {
            "backgroundcolor": "#E5ECF6",
            "gridcolor": "white",
            "gridwidth": 2,
            "linecolor": "white",
            "showbackground": true,
            "ticks": "",
            "zerolinecolor": "white"
           }
          },
          "shapedefaults": {
           "line": {
            "color": "#2a3f5f"
           }
          },
          "ternary": {
           "aaxis": {
            "gridcolor": "white",
            "linecolor": "white",
            "ticks": ""
           },
           "baxis": {
            "gridcolor": "white",
            "linecolor": "white",
            "ticks": ""
           },
           "bgcolor": "#E5ECF6",
           "caxis": {
            "gridcolor": "white",
            "linecolor": "white",
            "ticks": ""
           }
          },
          "title": {
           "x": 0.05
          },
          "xaxis": {
           "automargin": true,
           "gridcolor": "white",
           "linecolor": "white",
           "ticks": "",
           "title": {
            "standoff": 15
           },
           "zerolinecolor": "white",
           "zerolinewidth": 2
          },
          "yaxis": {
           "automargin": true,
           "gridcolor": "white",
           "linecolor": "white",
           "ticks": "",
           "title": {
            "standoff": 15
           },
           "zerolinecolor": "white",
           "zerolinewidth": 2
          }
         }
        },
        "title": {
         "text": "Envio de Vídeo por Semana",
         "x": 0.5
        },
        "xaxis": {
         "anchor": "y",
         "domain": [
          0,
          1
         ],
         "title": {
          "text": "semana_traduzida"
         }
        },
        "yaxis": {
         "anchor": "x",
         "domain": [
          0,
          1
         ],
         "title": {
          "text": "total_videos"
         }
        }
       }
      }
     },
     "metadata": {},
     "output_type": "display_data"
    }
   ],
   "source": [
    "fig = px.bar(df_publicacao_video, x='semana_traduzida',y='total_videos', text_auto=True)\n",
    "fig.update_layout(title_text='Envio de Vídeo por Semana', showlegend=True, title=dict(x=0.5) )\n",
    "\n",
    "fig.update_layout(\n",
    "    margin=dict(l=20, r=20, t=40, b=20, pad=4),\n",
    "    paper_bgcolor='LightSteelBlue'\n",
    "    \n",
    ")\n",
    "\n",
    "fig.show()"
   ]
  },
  {
   "cell_type": "markdown",
   "metadata": {},
   "source": [
    "- Ajuste automático de Layout"
   ]
  },
  {
   "cell_type": "code",
   "execution_count": null,
   "metadata": {},
   "outputs": [
    {
     "data": {
      "application/vnd.plotly.v1+json": {
       "config": {
        "plotlyServerURL": "https://plot.ly"
       },
       "data": [
        {
         "alignmentgroup": "True",
         "hovertemplate": "semana_traduzida=%{x}<br>total_videos=%{y}<extra></extra>",
         "legendgroup": "",
         "marker": {
          "color": "#FFA500",
          "pattern": {
           "shape": ""
          }
         },
         "name": "",
         "offsetgroup": "",
         "orientation": "v",
         "showlegend": false,
         "textfont": {
          "color": "white",
          "size": 16
         },
         "textposition": "auto",
         "texttemplate": "%{y}",
         "type": "bar",
         "x": [
          "Domingo",
          "Segunda-feira",
          "Terça-feira",
          "Quarta-feira",
          "Quinta-feira",
          "Sexta-feira",
          "Sábado"
         ],
         "xaxis": "x",
         "y": [
          25,
          40,
          39,
          37,
          39,
          34,
          21
         ],
         "yaxis": "y"
        }
       ],
       "layout": {
        "barmode": "relative",
        "legend": {
         "font": {
          "color": "white"
         },
         "tracegroupgap": 0
        },
        "margin": {
         "b": 20,
         "l": 20,
         "pad": 4,
         "r": 20,
         "t": 40
        },
        "paper_bgcolor": "#1F2326",
        "plot_bgcolor": "#1F2326",
        "showlegend": true,
        "template": {
         "data": {
          "bar": [
           {
            "error_x": {
             "color": "#2a3f5f"
            },
            "error_y": {
             "color": "#2a3f5f"
            },
            "marker": {
             "line": {
              "color": "#E5ECF6",
              "width": 0.5
             },
             "pattern": {
              "fillmode": "overlay",
              "size": 10,
              "solidity": 0.2
             }
            },
            "type": "bar"
           }
          ],
          "barpolar": [
           {
            "marker": {
             "line": {
              "color": "#E5ECF6",
              "width": 0.5
             },
             "pattern": {
              "fillmode": "overlay",
              "size": 10,
              "solidity": 0.2
             }
            },
            "type": "barpolar"
           }
          ],
          "carpet": [
           {
            "aaxis": {
             "endlinecolor": "#2a3f5f",
             "gridcolor": "white",
             "linecolor": "white",
             "minorgridcolor": "white",
             "startlinecolor": "#2a3f5f"
            },
            "baxis": {
             "endlinecolor": "#2a3f5f",
             "gridcolor": "white",
             "linecolor": "white",
             "minorgridcolor": "white",
             "startlinecolor": "#2a3f5f"
            },
            "type": "carpet"
           }
          ],
          "choropleth": [
           {
            "colorbar": {
             "outlinewidth": 0,
             "ticks": ""
            },
            "type": "choropleth"
           }
          ],
          "contour": [
           {
            "colorbar": {
             "outlinewidth": 0,
             "ticks": ""
            },
            "colorscale": [
             [
              0,
              "#0d0887"
             ],
             [
              0.1111111111111111,
              "#46039f"
             ],
             [
              0.2222222222222222,
              "#7201a8"
             ],
             [
              0.3333333333333333,
              "#9c179e"
             ],
             [
              0.4444444444444444,
              "#bd3786"
             ],
             [
              0.5555555555555556,
              "#d8576b"
             ],
             [
              0.6666666666666666,
              "#ed7953"
             ],
             [
              0.7777777777777778,
              "#fb9f3a"
             ],
             [
              0.8888888888888888,
              "#fdca26"
             ],
             [
              1,
              "#f0f921"
             ]
            ],
            "type": "contour"
           }
          ],
          "contourcarpet": [
           {
            "colorbar": {
             "outlinewidth": 0,
             "ticks": ""
            },
            "type": "contourcarpet"
           }
          ],
          "heatmap": [
           {
            "colorbar": {
             "outlinewidth": 0,
             "ticks": ""
            },
            "colorscale": [
             [
              0,
              "#0d0887"
             ],
             [
              0.1111111111111111,
              "#46039f"
             ],
             [
              0.2222222222222222,
              "#7201a8"
             ],
             [
              0.3333333333333333,
              "#9c179e"
             ],
             [
              0.4444444444444444,
              "#bd3786"
             ],
             [
              0.5555555555555556,
              "#d8576b"
             ],
             [
              0.6666666666666666,
              "#ed7953"
             ],
             [
              0.7777777777777778,
              "#fb9f3a"
             ],
             [
              0.8888888888888888,
              "#fdca26"
             ],
             [
              1,
              "#f0f921"
             ]
            ],
            "type": "heatmap"
           }
          ],
          "heatmapgl": [
           {
            "colorbar": {
             "outlinewidth": 0,
             "ticks": ""
            },
            "colorscale": [
             [
              0,
              "#0d0887"
             ],
             [
              0.1111111111111111,
              "#46039f"
             ],
             [
              0.2222222222222222,
              "#7201a8"
             ],
             [
              0.3333333333333333,
              "#9c179e"
             ],
             [
              0.4444444444444444,
              "#bd3786"
             ],
             [
              0.5555555555555556,
              "#d8576b"
             ],
             [
              0.6666666666666666,
              "#ed7953"
             ],
             [
              0.7777777777777778,
              "#fb9f3a"
             ],
             [
              0.8888888888888888,
              "#fdca26"
             ],
             [
              1,
              "#f0f921"
             ]
            ],
            "type": "heatmapgl"
           }
          ],
          "histogram": [
           {
            "marker": {
             "pattern": {
              "fillmode": "overlay",
              "size": 10,
              "solidity": 0.2
             }
            },
            "type": "histogram"
           }
          ],
          "histogram2d": [
           {
            "colorbar": {
             "outlinewidth": 0,
             "ticks": ""
            },
            "colorscale": [
             [
              0,
              "#0d0887"
             ],
             [
              0.1111111111111111,
              "#46039f"
             ],
             [
              0.2222222222222222,
              "#7201a8"
             ],
             [
              0.3333333333333333,
              "#9c179e"
             ],
             [
              0.4444444444444444,
              "#bd3786"
             ],
             [
              0.5555555555555556,
              "#d8576b"
             ],
             [
              0.6666666666666666,
              "#ed7953"
             ],
             [
              0.7777777777777778,
              "#fb9f3a"
             ],
             [
              0.8888888888888888,
              "#fdca26"
             ],
             [
              1,
              "#f0f921"
             ]
            ],
            "type": "histogram2d"
           }
          ],
          "histogram2dcontour": [
           {
            "colorbar": {
             "outlinewidth": 0,
             "ticks": ""
            },
            "colorscale": [
             [
              0,
              "#0d0887"
             ],
             [
              0.1111111111111111,
              "#46039f"
             ],
             [
              0.2222222222222222,
              "#7201a8"
             ],
             [
              0.3333333333333333,
              "#9c179e"
             ],
             [
              0.4444444444444444,
              "#bd3786"
             ],
             [
              0.5555555555555556,
              "#d8576b"
             ],
             [
              0.6666666666666666,
              "#ed7953"
             ],
             [
              0.7777777777777778,
              "#fb9f3a"
             ],
             [
              0.8888888888888888,
              "#fdca26"
             ],
             [
              1,
              "#f0f921"
             ]
            ],
            "type": "histogram2dcontour"
           }
          ],
          "mesh3d": [
           {
            "colorbar": {
             "outlinewidth": 0,
             "ticks": ""
            },
            "type": "mesh3d"
           }
          ],
          "parcoords": [
           {
            "line": {
             "colorbar": {
              "outlinewidth": 0,
              "ticks": ""
             }
            },
            "type": "parcoords"
           }
          ],
          "pie": [
           {
            "automargin": true,
            "type": "pie"
           }
          ],
          "scatter": [
           {
            "fillpattern": {
             "fillmode": "overlay",
             "size": 10,
             "solidity": 0.2
            },
            "type": "scatter"
           }
          ],
          "scatter3d": [
           {
            "line": {
             "colorbar": {
              "outlinewidth": 0,
              "ticks": ""
             }
            },
            "marker": {
             "colorbar": {
              "outlinewidth": 0,
              "ticks": ""
             }
            },
            "type": "scatter3d"
           }
          ],
          "scattercarpet": [
           {
            "marker": {
             "colorbar": {
              "outlinewidth": 0,
              "ticks": ""
             }
            },
            "type": "scattercarpet"
           }
          ],
          "scattergeo": [
           {
            "marker": {
             "colorbar": {
              "outlinewidth": 0,
              "ticks": ""
             }
            },
            "type": "scattergeo"
           }
          ],
          "scattergl": [
           {
            "marker": {
             "colorbar": {
              "outlinewidth": 0,
              "ticks": ""
             }
            },
            "type": "scattergl"
           }
          ],
          "scattermapbox": [
           {
            "marker": {
             "colorbar": {
              "outlinewidth": 0,
              "ticks": ""
             }
            },
            "type": "scattermapbox"
           }
          ],
          "scatterpolar": [
           {
            "marker": {
             "colorbar": {
              "outlinewidth": 0,
              "ticks": ""
             }
            },
            "type": "scatterpolar"
           }
          ],
          "scatterpolargl": [
           {
            "marker": {
             "colorbar": {
              "outlinewidth": 0,
              "ticks": ""
             }
            },
            "type": "scatterpolargl"
           }
          ],
          "scatterternary": [
           {
            "marker": {
             "colorbar": {
              "outlinewidth": 0,
              "ticks": ""
             }
            },
            "type": "scatterternary"
           }
          ],
          "surface": [
           {
            "colorbar": {
             "outlinewidth": 0,
             "ticks": ""
            },
            "colorscale": [
             [
              0,
              "#0d0887"
             ],
             [
              0.1111111111111111,
              "#46039f"
             ],
             [
              0.2222222222222222,
              "#7201a8"
             ],
             [
              0.3333333333333333,
              "#9c179e"
             ],
             [
              0.4444444444444444,
              "#bd3786"
             ],
             [
              0.5555555555555556,
              "#d8576b"
             ],
             [
              0.6666666666666666,
              "#ed7953"
             ],
             [
              0.7777777777777778,
              "#fb9f3a"
             ],
             [
              0.8888888888888888,
              "#fdca26"
             ],
             [
              1,
              "#f0f921"
             ]
            ],
            "type": "surface"
           }
          ],
          "table": [
           {
            "cells": {
             "fill": {
              "color": "#EBF0F8"
             },
             "line": {
              "color": "white"
             }
            },
            "header": {
             "fill": {
              "color": "#C8D4E3"
             },
             "line": {
              "color": "white"
             }
            },
            "type": "table"
           }
          ]
         },
         "layout": {
          "annotationdefaults": {
           "arrowcolor": "#2a3f5f",
           "arrowhead": 0,
           "arrowwidth": 1
          },
          "autotypenumbers": "strict",
          "coloraxis": {
           "colorbar": {
            "outlinewidth": 0,
            "ticks": ""
           }
          },
          "colorscale": {
           "diverging": [
            [
             0,
             "#8e0152"
            ],
            [
             0.1,
             "#c51b7d"
            ],
            [
             0.2,
             "#de77ae"
            ],
            [
             0.3,
             "#f1b6da"
            ],
            [
             0.4,
             "#fde0ef"
            ],
            [
             0.5,
             "#f7f7f7"
            ],
            [
             0.6,
             "#e6f5d0"
            ],
            [
             0.7,
             "#b8e186"
            ],
            [
             0.8,
             "#7fbc41"
            ],
            [
             0.9,
             "#4d9221"
            ],
            [
             1,
             "#276419"
            ]
           ],
           "sequential": [
            [
             0,
             "#0d0887"
            ],
            [
             0.1111111111111111,
             "#46039f"
            ],
            [
             0.2222222222222222,
             "#7201a8"
            ],
            [
             0.3333333333333333,
             "#9c179e"
            ],
            [
             0.4444444444444444,
             "#bd3786"
            ],
            [
             0.5555555555555556,
             "#d8576b"
            ],
            [
             0.6666666666666666,
             "#ed7953"
            ],
            [
             0.7777777777777778,
             "#fb9f3a"
            ],
            [
             0.8888888888888888,
             "#fdca26"
            ],
            [
             1,
             "#f0f921"
            ]
           ],
           "sequentialminus": [
            [
             0,
             "#0d0887"
            ],
            [
             0.1111111111111111,
             "#46039f"
            ],
            [
             0.2222222222222222,
             "#7201a8"
            ],
            [
             0.3333333333333333,
             "#9c179e"
            ],
            [
             0.4444444444444444,
             "#bd3786"
            ],
            [
             0.5555555555555556,
             "#d8576b"
            ],
            [
             0.6666666666666666,
             "#ed7953"
            ],
            [
             0.7777777777777778,
             "#fb9f3a"
            ],
            [
             0.8888888888888888,
             "#fdca26"
            ],
            [
             1,
             "#f0f921"
            ]
           ]
          },
          "colorway": [
           "#636efa",
           "#EF553B",
           "#00cc96",
           "#ab63fa",
           "#FFA15A",
           "#19d3f3",
           "#FF6692",
           "#B6E880",
           "#FF97FF",
           "#FECB52"
          ],
          "font": {
           "color": "#2a3f5f"
          },
          "geo": {
           "bgcolor": "white",
           "lakecolor": "white",
           "landcolor": "#E5ECF6",
           "showlakes": true,
           "showland": true,
           "subunitcolor": "white"
          },
          "hoverlabel": {
           "align": "left"
          },
          "hovermode": "closest",
          "mapbox": {
           "style": "light"
          },
          "paper_bgcolor": "white",
          "plot_bgcolor": "#E5ECF6",
          "polar": {
           "angularaxis": {
            "gridcolor": "white",
            "linecolor": "white",
            "ticks": ""
           },
           "bgcolor": "#E5ECF6",
           "radialaxis": {
            "gridcolor": "white",
            "linecolor": "white",
            "ticks": ""
           }
          },
          "scene": {
           "xaxis": {
            "backgroundcolor": "#E5ECF6",
            "gridcolor": "white",
            "gridwidth": 2,
            "linecolor": "white",
            "showbackground": true,
            "ticks": "",
            "zerolinecolor": "white"
           },
           "yaxis": {
            "backgroundcolor": "#E5ECF6",
            "gridcolor": "white",
            "gridwidth": 2,
            "linecolor": "white",
            "showbackground": true,
            "ticks": "",
            "zerolinecolor": "white"
           },
           "zaxis": {
            "backgroundcolor": "#E5ECF6",
            "gridcolor": "white",
            "gridwidth": 2,
            "linecolor": "white",
            "showbackground": true,
            "ticks": "",
            "zerolinecolor": "white"
           }
          },
          "shapedefaults": {
           "line": {
            "color": "#2a3f5f"
           }
          },
          "ternary": {
           "aaxis": {
            "gridcolor": "white",
            "linecolor": "white",
            "ticks": ""
           },
           "baxis": {
            "gridcolor": "white",
            "linecolor": "white",
            "ticks": ""
           },
           "bgcolor": "#E5ECF6",
           "caxis": {
            "gridcolor": "white",
            "linecolor": "white",
            "ticks": ""
           }
          },
          "title": {
           "x": 0.05
          },
          "xaxis": {
           "automargin": true,
           "gridcolor": "white",
           "linecolor": "white",
           "ticks": "",
           "title": {
            "standoff": 15
           },
           "zerolinecolor": "white",
           "zerolinewidth": 2
          },
          "yaxis": {
           "automargin": true,
           "gridcolor": "white",
           "linecolor": "white",
           "ticks": "",
           "title": {
            "standoff": 15
           },
           "zerolinecolor": "white",
           "zerolinewidth": 2
          }
         }
        },
        "title": {
         "font": {
          "color": "white"
         },
         "text": "Envio de Vídeo por Semana",
         "x": 0.5
        },
        "xaxis": {
         "anchor": "y",
         "domain": [
          0,
          1
         ],
         "tickfont": {
          "color": "white"
         },
         "title": {
          "text": ""
         }
        },
        "yaxis": {
         "anchor": "x",
         "domain": [
          0,
          1
         ],
         "title": {
          "text": "total_videos"
         },
         "visible": false
        }
       }
      }
     },
     "metadata": {},
     "output_type": "display_data"
    }
   ],
   "source": [
    "fig = px.bar(df_publicacao_video, x='semana_traduzida',y='total_videos', text_auto=True)\n",
    "\n",
    "\n",
    "fig.update_layout(\n",
    "    title_text='Envio de Vídeo por Semana',\n",
    "    showlegend=True,\n",
    "    title=dict(x=0.5, font=dict(color='white')),\n",
    "    plot_bgcolor='#1F2326',\n",
    "    yaxis=dict(visible=False),  \n",
    "    margin=dict(l=20, r=20, t=40, b=20, pad=4),\n",
    "    paper_bgcolor='#1F2326',\n",
    "    xaxis=dict(title='', tickfont=dict(color='white')),\n",
    "    legend=dict(font=dict(color='white')),\n",
    ")\n",
    "fig.update_traces(\n",
    "    textfont_color='white',\n",
    "    marker_color='#FFA500',\n",
    "    textfont_size=16  \n",
    ")\n",
    "\n",
    "fig.show()"
   ]
  },
  {
   "cell_type": "markdown",
   "metadata": {},
   "source": [
    "# Total Víews DIA por Vídeo"
   ]
  },
  {
   "cell_type": "code",
   "execution_count": null,
   "metadata": {},
   "outputs": [],
   "source": [
    "tipo = {\n",
    "    'turno_extracao': 'string',\n",
    "    'titulo_video': 'string',\n",
    "    'id_video': 'string',\n",
    "    'total_visualizacoes_turno': 'int32',\n",
    "    'indice_turno': 'int32'\n",
    "}"
   ]
  },
  {
   "cell_type": "code",
   "execution_count": null,
   "metadata": {},
   "outputs": [],
   "source": [
    "def indice_turno(turno: str):\n",
    "    ds_turno = {\n",
    "        'Manhã': '1',\n",
    "        'Tarde' : '2',\n",
    "        'Noite' : '3'\n",
    "    }\n",
    "    return ds_turno.get(turno)"
   ]
  },
  {
   "cell_type": "code",
   "execution_count": null,
   "metadata": {},
   "outputs": [
    {
     "data": {
      "text/html": [
       "<div>\n",
       "<style scoped>\n",
       "    .dataframe tbody tr th:only-of-type {\n",
       "        vertical-align: middle;\n",
       "    }\n",
       "\n",
       "    .dataframe tbody tr th {\n",
       "        vertical-align: top;\n",
       "    }\n",
       "\n",
       "    .dataframe thead th {\n",
       "        text-align: right;\n",
       "    }\n",
       "</style>\n",
       "<table border=\"1\" class=\"dataframe\">\n",
       "  <thead>\n",
       "    <tr style=\"text-align: right;\">\n",
       "      <th></th>\n",
       "      <th>turno_extracao</th>\n",
       "      <th>titulo_video</th>\n",
       "      <th>id_video</th>\n",
       "      <th>total_visualizacoes_turno</th>\n",
       "      <th>indice_turno</th>\n",
       "    </tr>\n",
       "  </thead>\n",
       "  <tbody>\n",
       "    <tr>\n",
       "      <th>0</th>\n",
       "      <td>Manhã</td>\n",
       "      <td>MODDERS decidem fazer O MELHOR JOGO DE GERENCI...</td>\n",
       "      <td>XOUzWJ0bHuw</td>\n",
       "      <td>86</td>\n",
       "      <td>1</td>\n",
       "    </tr>\n",
       "    <tr>\n",
       "      <th>1</th>\n",
       "      <td>Noite</td>\n",
       "      <td>MODDERS decidem fazer O MELHOR JOGO DE GERENCI...</td>\n",
       "      <td>XOUzWJ0bHuw</td>\n",
       "      <td>32</td>\n",
       "      <td>3</td>\n",
       "    </tr>\n",
       "    <tr>\n",
       "      <th>2</th>\n",
       "      <td>Tarde</td>\n",
       "      <td>MODDERS decidem fazer O MELHOR JOGO DE GERENCI...</td>\n",
       "      <td>XOUzWJ0bHuw</td>\n",
       "      <td>33</td>\n",
       "      <td>2</td>\n",
       "    </tr>\n",
       "    <tr>\n",
       "      <th>3</th>\n",
       "      <td>Manhã</td>\n",
       "      <td>Planejamento inicial PODE SALVAR SUA CIDADE! 🚗...</td>\n",
       "      <td>dRzwiPwGH_M</td>\n",
       "      <td>274</td>\n",
       "      <td>1</td>\n",
       "    </tr>\n",
       "    <tr>\n",
       "      <th>4</th>\n",
       "      <td>Noite</td>\n",
       "      <td>Planejamento inicial PODE SALVAR SUA CIDADE! 🚗...</td>\n",
       "      <td>dRzwiPwGH_M</td>\n",
       "      <td>67</td>\n",
       "      <td>3</td>\n",
       "    </tr>\n",
       "  </tbody>\n",
       "</table>\n",
       "</div>"
      ],
      "text/plain": [
       "  turno_extracao                                       titulo_video  \\\n",
       "0          Manhã  MODDERS decidem fazer O MELHOR JOGO DE GERENCI...   \n",
       "1          Noite  MODDERS decidem fazer O MELHOR JOGO DE GERENCI...   \n",
       "2          Tarde  MODDERS decidem fazer O MELHOR JOGO DE GERENCI...   \n",
       "3          Manhã  Planejamento inicial PODE SALVAR SUA CIDADE! 🚗...   \n",
       "4          Noite  Planejamento inicial PODE SALVAR SUA CIDADE! 🚗...   \n",
       "\n",
       "      id_video  total_visualizacoes_turno  indice_turno  \n",
       "0  XOUzWJ0bHuw                         86             1  \n",
       "1  XOUzWJ0bHuw                         32             3  \n",
       "2  XOUzWJ0bHuw                         33             2  \n",
       "3  dRzwiPwGH_M                        274             1  \n",
       "4  dRzwiPwGH_M                         67             3  "
      ]
     },
     "execution_count": 117,
     "metadata": {},
     "output_type": "execute_result"
    }
   ],
   "source": [
    "df_views_video = pd.read_sql_query(\n",
    "    ' SELECT  '\n",
    "    ' turno_extracao, '\n",
    "    ' titulo_video, '\n",
    "    ' id_video, '\n",
    "    ' total_visualizacoes_turno , '\n",
    "    ' CASE WHEN turno_extracao == \"Manhã\" Then 1 when turno_extracao == \"Tarde\" then 2 else 3 end as indice_turno  '\n",
    "    ' FROM total_visualizacoes_por_semana tvps '\n",
    "    ' where id_canal  = \"UCrOH1V-FyMunBIMrKL0y0xQ\" '\n",
    "    ' AND data_extracao = \"2023-10-21\" '\n",
    "    ' AND total_visualizacoes  > 0 ',\n",
    "    con=engine,\n",
    "    dtype=tipo\n",
    ")\n",
    "df_views_video.head() "
   ]
  },
  {
   "cell_type": "code",
   "execution_count": null,
   "metadata": {},
   "outputs": [
    {
     "data": {
      "text/plain": [
       "(40, 5)"
      ]
     },
     "execution_count": 107,
     "metadata": {},
     "output_type": "execute_result"
    }
   ],
   "source": [
    "df_views_video.shape"
   ]
  },
  {
   "cell_type": "code",
   "execution_count": null,
   "metadata": {},
   "outputs": [
    {
     "data": {
      "text/html": [
       "<div>\n",
       "<style scoped>\n",
       "    .dataframe tbody tr th:only-of-type {\n",
       "        vertical-align: middle;\n",
       "    }\n",
       "\n",
       "    .dataframe tbody tr th {\n",
       "        vertical-align: top;\n",
       "    }\n",
       "\n",
       "    .dataframe thead th {\n",
       "        text-align: right;\n",
       "    }\n",
       "</style>\n",
       "<table border=\"1\" class=\"dataframe\">\n",
       "  <thead>\n",
       "    <tr style=\"text-align: right;\">\n",
       "      <th></th>\n",
       "      <th>turno_extracao</th>\n",
       "      <th>titulo_video</th>\n",
       "      <th>id_video</th>\n",
       "      <th>total_visualizacoes_turno</th>\n",
       "      <th>indice_turno</th>\n",
       "    </tr>\n",
       "  </thead>\n",
       "  <tbody>\n",
       "    <tr>\n",
       "      <th>0</th>\n",
       "      <td>Manhã</td>\n",
       "      <td>MODDERS decidem fazer O MELHOR JOGO DE GERENCI...</td>\n",
       "      <td>XOUzWJ0bHuw</td>\n",
       "      <td>86</td>\n",
       "      <td>1</td>\n",
       "    </tr>\n",
       "    <tr>\n",
       "      <th>1</th>\n",
       "      <td>Noite</td>\n",
       "      <td>MODDERS decidem fazer O MELHOR JOGO DE GERENCI...</td>\n",
       "      <td>XOUzWJ0bHuw</td>\n",
       "      <td>32</td>\n",
       "      <td>3</td>\n",
       "    </tr>\n",
       "    <tr>\n",
       "      <th>2</th>\n",
       "      <td>Tarde</td>\n",
       "      <td>MODDERS decidem fazer O MELHOR JOGO DE GERENCI...</td>\n",
       "      <td>XOUzWJ0bHuw</td>\n",
       "      <td>33</td>\n",
       "      <td>2</td>\n",
       "    </tr>\n",
       "    <tr>\n",
       "      <th>3</th>\n",
       "      <td>Manhã</td>\n",
       "      <td>Planejamento inicial PODE SALVAR SUA CIDADE! 🚗...</td>\n",
       "      <td>dRzwiPwGH_M</td>\n",
       "      <td>274</td>\n",
       "      <td>1</td>\n",
       "    </tr>\n",
       "    <tr>\n",
       "      <th>4</th>\n",
       "      <td>Noite</td>\n",
       "      <td>Planejamento inicial PODE SALVAR SUA CIDADE! 🚗...</td>\n",
       "      <td>dRzwiPwGH_M</td>\n",
       "      <td>67</td>\n",
       "      <td>3</td>\n",
       "    </tr>\n",
       "  </tbody>\n",
       "</table>\n",
       "</div>"
      ],
      "text/plain": [
       "  turno_extracao                                       titulo_video  \\\n",
       "0          Manhã  MODDERS decidem fazer O MELHOR JOGO DE GERENCI...   \n",
       "1          Noite  MODDERS decidem fazer O MELHOR JOGO DE GERENCI...   \n",
       "2          Tarde  MODDERS decidem fazer O MELHOR JOGO DE GERENCI...   \n",
       "3          Manhã  Planejamento inicial PODE SALVAR SUA CIDADE! 🚗...   \n",
       "4          Noite  Planejamento inicial PODE SALVAR SUA CIDADE! 🚗...   \n",
       "\n",
       "      id_video  total_visualizacoes_turno  indice_turno  \n",
       "0  XOUzWJ0bHuw                         86             1  \n",
       "1  XOUzWJ0bHuw                         32             3  \n",
       "2  XOUzWJ0bHuw                         33             2  \n",
       "3  dRzwiPwGH_M                        274             1  \n",
       "4  dRzwiPwGH_M                         67             3  "
      ]
     },
     "execution_count": 108,
     "metadata": {},
     "output_type": "execute_result"
    }
   ],
   "source": [
    "df_views_video.head()"
   ]
  },
  {
   "cell_type": "code",
   "execution_count": null,
   "metadata": {},
   "outputs": [
    {
     "name": "stdout",
     "output_type": "stream",
     "text": [
      "<class 'pandas.core.frame.DataFrame'>\n",
      "RangeIndex: 40 entries, 0 to 39\n",
      "Data columns (total 5 columns):\n",
      " #   Column                     Non-Null Count  Dtype \n",
      "---  ------                     --------------  ----- \n",
      " 0   turno_extracao             40 non-null     string\n",
      " 1   titulo_video               40 non-null     string\n",
      " 2   id_video                   40 non-null     string\n",
      " 3   total_visualizacoes_turno  40 non-null     int32 \n",
      " 4   indice_turno               40 non-null     int64 \n",
      "dtypes: int32(1), int64(1), string(3)\n",
      "memory usage: 1.5 KB\n"
     ]
    }
   ],
   "source": [
    "df_views_video.info()"
   ]
  },
  {
   "cell_type": "code",
   "execution_count": null,
   "metadata": {},
   "outputs": [
    {
     "data": {
      "text/html": [
       "<div>\n",
       "<style scoped>\n",
       "    .dataframe tbody tr th:only-of-type {\n",
       "        vertical-align: middle;\n",
       "    }\n",
       "\n",
       "    .dataframe tbody tr th {\n",
       "        vertical-align: top;\n",
       "    }\n",
       "\n",
       "    .dataframe thead th {\n",
       "        text-align: right;\n",
       "    }\n",
       "</style>\n",
       "<table border=\"1\" class=\"dataframe\">\n",
       "  <thead>\n",
       "    <tr style=\"text-align: right;\">\n",
       "      <th></th>\n",
       "      <th>id_video</th>\n",
       "      <th>titulo_video</th>\n",
       "      <th>total_visualizacoes_turno</th>\n",
       "      <th>indice_turno</th>\n",
       "    </tr>\n",
       "  </thead>\n",
       "  <tbody>\n",
       "    <tr>\n",
       "      <th>0</th>\n",
       "      <td>XOUzWJ0bHuw</td>\n",
       "      <td>MODDERS decidem fazer O MELHOR JOGO DE GERENCI...</td>\n",
       "      <td>302</td>\n",
       "      <td>12</td>\n",
       "    </tr>\n",
       "    <tr>\n",
       "      <th>1</th>\n",
       "      <td>dRzwiPwGH_M</td>\n",
       "      <td>Planejamento inicial PODE SALVAR SUA CIDADE! 🚗...</td>\n",
       "      <td>880</td>\n",
       "      <td>12</td>\n",
       "    </tr>\n",
       "    <tr>\n",
       "      <th>2</th>\n",
       "      <td>totHMIv6_hI</td>\n",
       "      <td>PEQUENA FORTUNA EM SERVIÇOS PÚBLICOS BÁSICOS 🏙...</td>\n",
       "      <td>64184</td>\n",
       "      <td>12</td>\n",
       "    </tr>\n",
       "    <tr>\n",
       "      <th>3</th>\n",
       "      <td>up4KrHrRwLY</td>\n",
       "      <td>DO CRIADOR DA MELHOR CIDADE JÁ FEITA, A NOVA M...</td>\n",
       "      <td>4476</td>\n",
       "      <td>12</td>\n",
       "    </tr>\n",
       "    <tr>\n",
       "      <th>4</th>\n",
       "      <td>vy-upTpchig</td>\n",
       "      <td>PRIMEIRA PRAÇA DA CIDADE SAI DO PAPEL 🏙️ - Cit...</td>\n",
       "      <td>49262</td>\n",
       "      <td>10</td>\n",
       "    </tr>\n",
       "  </tbody>\n",
       "</table>\n",
       "</div>"
      ],
      "text/plain": [
       "      id_video                                       titulo_video  \\\n",
       "0  XOUzWJ0bHuw  MODDERS decidem fazer O MELHOR JOGO DE GERENCI...   \n",
       "1  dRzwiPwGH_M  Planejamento inicial PODE SALVAR SUA CIDADE! 🚗...   \n",
       "2  totHMIv6_hI  PEQUENA FORTUNA EM SERVIÇOS PÚBLICOS BÁSICOS 🏙...   \n",
       "3  up4KrHrRwLY  DO CRIADOR DA MELHOR CIDADE JÁ FEITA, A NOVA M...   \n",
       "4  vy-upTpchig  PRIMEIRA PRAÇA DA CIDADE SAI DO PAPEL 🏙️ - Cit...   \n",
       "\n",
       "   total_visualizacoes_turno  indice_turno  \n",
       "0                        302            12  \n",
       "1                        880            12  \n",
       "2                      64184            12  \n",
       "3                       4476            12  \n",
       "4                      49262            10  "
      ]
     },
     "execution_count": 110,
     "metadata": {},
     "output_type": "execute_result"
    }
   ],
   "source": [
    "df_views_video = df_views_video.groupby(['id_video', 'titulo_video']).sum('total_visualizacoes_turno').reset_index()\n",
    "df_views_video.head()"
   ]
  },
  {
   "cell_type": "code",
   "execution_count": null,
   "metadata": {},
   "outputs": [
    {
     "data": {
      "application/vnd.plotly.v1+json": {
       "config": {
        "plotlyServerURL": "https://plot.ly"
       },
       "data": [
        {
         "alignmentgroup": "True",
         "hovertemplate": "total_visualizacoes_turno=%{x}<br>id_video=%{y}<extra></extra>",
         "legendgroup": "",
         "marker": {
          "color": "#04BE5F",
          "pattern": {
           "shape": ""
          }
         },
         "name": "",
         "offsetgroup": "",
         "orientation": "h",
         "showlegend": false,
         "textfont": {
          "color": "white",
          "size": 18
         },
         "textposition": "outside",
         "texttemplate": "%{x}",
         "type": "bar",
         "x": [
          302,
          880,
          2460,
          4476,
          47764,
          49262,
          64184
         ],
         "xaxis": "x",
         "y": [
          "XOUzWJ0bHuw",
          "dRzwiPwGH_M",
          "zyG3nFm9BB8",
          "up4KrHrRwLY",
          "wCLSZxLfUAk",
          "vy-upTpchig",
          "totHMIv6_hI"
         ],
         "yaxis": "y"
        }
       ],
       "layout": {
        "barmode": "relative",
        "legend": {
         "font": {
          "color": "white"
         },
         "orientation": "h",
         "tracegroupgap": 0,
         "y": 4
        },
        "margin": {
         "b": 20,
         "l": 10,
         "pad": 2,
         "r": 20,
         "t": 40
        },
        "paper_bgcolor": "#1F2326",
        "plot_bgcolor": "#1F2326",
        "showlegend": true,
        "template": {
         "data": {
          "bar": [
           {
            "error_x": {
             "color": "#2a3f5f"
            },
            "error_y": {
             "color": "#2a3f5f"
            },
            "marker": {
             "line": {
              "color": "#E5ECF6",
              "width": 0.5
             },
             "pattern": {
              "fillmode": "overlay",
              "size": 10,
              "solidity": 0.2
             }
            },
            "type": "bar"
           }
          ],
          "barpolar": [
           {
            "marker": {
             "line": {
              "color": "#E5ECF6",
              "width": 0.5
             },
             "pattern": {
              "fillmode": "overlay",
              "size": 10,
              "solidity": 0.2
             }
            },
            "type": "barpolar"
           }
          ],
          "carpet": [
           {
            "aaxis": {
             "endlinecolor": "#2a3f5f",
             "gridcolor": "white",
             "linecolor": "white",
             "minorgridcolor": "white",
             "startlinecolor": "#2a3f5f"
            },
            "baxis": {
             "endlinecolor": "#2a3f5f",
             "gridcolor": "white",
             "linecolor": "white",
             "minorgridcolor": "white",
             "startlinecolor": "#2a3f5f"
            },
            "type": "carpet"
           }
          ],
          "choropleth": [
           {
            "colorbar": {
             "outlinewidth": 0,
             "ticks": ""
            },
            "type": "choropleth"
           }
          ],
          "contour": [
           {
            "colorbar": {
             "outlinewidth": 0,
             "ticks": ""
            },
            "colorscale": [
             [
              0,
              "#0d0887"
             ],
             [
              0.1111111111111111,
              "#46039f"
             ],
             [
              0.2222222222222222,
              "#7201a8"
             ],
             [
              0.3333333333333333,
              "#9c179e"
             ],
             [
              0.4444444444444444,
              "#bd3786"
             ],
             [
              0.5555555555555556,
              "#d8576b"
             ],
             [
              0.6666666666666666,
              "#ed7953"
             ],
             [
              0.7777777777777778,
              "#fb9f3a"
             ],
             [
              0.8888888888888888,
              "#fdca26"
             ],
             [
              1,
              "#f0f921"
             ]
            ],
            "type": "contour"
           }
          ],
          "contourcarpet": [
           {
            "colorbar": {
             "outlinewidth": 0,
             "ticks": ""
            },
            "type": "contourcarpet"
           }
          ],
          "heatmap": [
           {
            "colorbar": {
             "outlinewidth": 0,
             "ticks": ""
            },
            "colorscale": [
             [
              0,
              "#0d0887"
             ],
             [
              0.1111111111111111,
              "#46039f"
             ],
             [
              0.2222222222222222,
              "#7201a8"
             ],
             [
              0.3333333333333333,
              "#9c179e"
             ],
             [
              0.4444444444444444,
              "#bd3786"
             ],
             [
              0.5555555555555556,
              "#d8576b"
             ],
             [
              0.6666666666666666,
              "#ed7953"
             ],
             [
              0.7777777777777778,
              "#fb9f3a"
             ],
             [
              0.8888888888888888,
              "#fdca26"
             ],
             [
              1,
              "#f0f921"
             ]
            ],
            "type": "heatmap"
           }
          ],
          "heatmapgl": [
           {
            "colorbar": {
             "outlinewidth": 0,
             "ticks": ""
            },
            "colorscale": [
             [
              0,
              "#0d0887"
             ],
             [
              0.1111111111111111,
              "#46039f"
             ],
             [
              0.2222222222222222,
              "#7201a8"
             ],
             [
              0.3333333333333333,
              "#9c179e"
             ],
             [
              0.4444444444444444,
              "#bd3786"
             ],
             [
              0.5555555555555556,
              "#d8576b"
             ],
             [
              0.6666666666666666,
              "#ed7953"
             ],
             [
              0.7777777777777778,
              "#fb9f3a"
             ],
             [
              0.8888888888888888,
              "#fdca26"
             ],
             [
              1,
              "#f0f921"
             ]
            ],
            "type": "heatmapgl"
           }
          ],
          "histogram": [
           {
            "marker": {
             "pattern": {
              "fillmode": "overlay",
              "size": 10,
              "solidity": 0.2
             }
            },
            "type": "histogram"
           }
          ],
          "histogram2d": [
           {
            "colorbar": {
             "outlinewidth": 0,
             "ticks": ""
            },
            "colorscale": [
             [
              0,
              "#0d0887"
             ],
             [
              0.1111111111111111,
              "#46039f"
             ],
             [
              0.2222222222222222,
              "#7201a8"
             ],
             [
              0.3333333333333333,
              "#9c179e"
             ],
             [
              0.4444444444444444,
              "#bd3786"
             ],
             [
              0.5555555555555556,
              "#d8576b"
             ],
             [
              0.6666666666666666,
              "#ed7953"
             ],
             [
              0.7777777777777778,
              "#fb9f3a"
             ],
             [
              0.8888888888888888,
              "#fdca26"
             ],
             [
              1,
              "#f0f921"
             ]
            ],
            "type": "histogram2d"
           }
          ],
          "histogram2dcontour": [
           {
            "colorbar": {
             "outlinewidth": 0,
             "ticks": ""
            },
            "colorscale": [
             [
              0,
              "#0d0887"
             ],
             [
              0.1111111111111111,
              "#46039f"
             ],
             [
              0.2222222222222222,
              "#7201a8"
             ],
             [
              0.3333333333333333,
              "#9c179e"
             ],
             [
              0.4444444444444444,
              "#bd3786"
             ],
             [
              0.5555555555555556,
              "#d8576b"
             ],
             [
              0.6666666666666666,
              "#ed7953"
             ],
             [
              0.7777777777777778,
              "#fb9f3a"
             ],
             [
              0.8888888888888888,
              "#fdca26"
             ],
             [
              1,
              "#f0f921"
             ]
            ],
            "type": "histogram2dcontour"
           }
          ],
          "mesh3d": [
           {
            "colorbar": {
             "outlinewidth": 0,
             "ticks": ""
            },
            "type": "mesh3d"
           }
          ],
          "parcoords": [
           {
            "line": {
             "colorbar": {
              "outlinewidth": 0,
              "ticks": ""
             }
            },
            "type": "parcoords"
           }
          ],
          "pie": [
           {
            "automargin": true,
            "type": "pie"
           }
          ],
          "scatter": [
           {
            "fillpattern": {
             "fillmode": "overlay",
             "size": 10,
             "solidity": 0.2
            },
            "type": "scatter"
           }
          ],
          "scatter3d": [
           {
            "line": {
             "colorbar": {
              "outlinewidth": 0,
              "ticks": ""
             }
            },
            "marker": {
             "colorbar": {
              "outlinewidth": 0,
              "ticks": ""
             }
            },
            "type": "scatter3d"
           }
          ],
          "scattercarpet": [
           {
            "marker": {
             "colorbar": {
              "outlinewidth": 0,
              "ticks": ""
             }
            },
            "type": "scattercarpet"
           }
          ],
          "scattergeo": [
           {
            "marker": {
             "colorbar": {
              "outlinewidth": 0,
              "ticks": ""
             }
            },
            "type": "scattergeo"
           }
          ],
          "scattergl": [
           {
            "marker": {
             "colorbar": {
              "outlinewidth": 0,
              "ticks": ""
             }
            },
            "type": "scattergl"
           }
          ],
          "scattermapbox": [
           {
            "marker": {
             "colorbar": {
              "outlinewidth": 0,
              "ticks": ""
             }
            },
            "type": "scattermapbox"
           }
          ],
          "scatterpolar": [
           {
            "marker": {
             "colorbar": {
              "outlinewidth": 0,
              "ticks": ""
             }
            },
            "type": "scatterpolar"
           }
          ],
          "scatterpolargl": [
           {
            "marker": {
             "colorbar": {
              "outlinewidth": 0,
              "ticks": ""
             }
            },
            "type": "scatterpolargl"
           }
          ],
          "scatterternary": [
           {
            "marker": {
             "colorbar": {
              "outlinewidth": 0,
              "ticks": ""
             }
            },
            "type": "scatterternary"
           }
          ],
          "surface": [
           {
            "colorbar": {
             "outlinewidth": 0,
             "ticks": ""
            },
            "colorscale": [
             [
              0,
              "#0d0887"
             ],
             [
              0.1111111111111111,
              "#46039f"
             ],
             [
              0.2222222222222222,
              "#7201a8"
             ],
             [
              0.3333333333333333,
              "#9c179e"
             ],
             [
              0.4444444444444444,
              "#bd3786"
             ],
             [
              0.5555555555555556,
              "#d8576b"
             ],
             [
              0.6666666666666666,
              "#ed7953"
             ],
             [
              0.7777777777777778,
              "#fb9f3a"
             ],
             [
              0.8888888888888888,
              "#fdca26"
             ],
             [
              1,
              "#f0f921"
             ]
            ],
            "type": "surface"
           }
          ],
          "table": [
           {
            "cells": {
             "fill": {
              "color": "#EBF0F8"
             },
             "line": {
              "color": "white"
             }
            },
            "header": {
             "fill": {
              "color": "#C8D4E3"
             },
             "line": {
              "color": "white"
             }
            },
            "type": "table"
           }
          ]
         },
         "layout": {
          "annotationdefaults": {
           "arrowcolor": "#2a3f5f",
           "arrowhead": 0,
           "arrowwidth": 1
          },
          "autotypenumbers": "strict",
          "coloraxis": {
           "colorbar": {
            "outlinewidth": 0,
            "ticks": ""
           }
          },
          "colorscale": {
           "diverging": [
            [
             0,
             "#8e0152"
            ],
            [
             0.1,
             "#c51b7d"
            ],
            [
             0.2,
             "#de77ae"
            ],
            [
             0.3,
             "#f1b6da"
            ],
            [
             0.4,
             "#fde0ef"
            ],
            [
             0.5,
             "#f7f7f7"
            ],
            [
             0.6,
             "#e6f5d0"
            ],
            [
             0.7,
             "#b8e186"
            ],
            [
             0.8,
             "#7fbc41"
            ],
            [
             0.9,
             "#4d9221"
            ],
            [
             1,
             "#276419"
            ]
           ],
           "sequential": [
            [
             0,
             "#0d0887"
            ],
            [
             0.1111111111111111,
             "#46039f"
            ],
            [
             0.2222222222222222,
             "#7201a8"
            ],
            [
             0.3333333333333333,
             "#9c179e"
            ],
            [
             0.4444444444444444,
             "#bd3786"
            ],
            [
             0.5555555555555556,
             "#d8576b"
            ],
            [
             0.6666666666666666,
             "#ed7953"
            ],
            [
             0.7777777777777778,
             "#fb9f3a"
            ],
            [
             0.8888888888888888,
             "#fdca26"
            ],
            [
             1,
             "#f0f921"
            ]
           ],
           "sequentialminus": [
            [
             0,
             "#0d0887"
            ],
            [
             0.1111111111111111,
             "#46039f"
            ],
            [
             0.2222222222222222,
             "#7201a8"
            ],
            [
             0.3333333333333333,
             "#9c179e"
            ],
            [
             0.4444444444444444,
             "#bd3786"
            ],
            [
             0.5555555555555556,
             "#d8576b"
            ],
            [
             0.6666666666666666,
             "#ed7953"
            ],
            [
             0.7777777777777778,
             "#fb9f3a"
            ],
            [
             0.8888888888888888,
             "#fdca26"
            ],
            [
             1,
             "#f0f921"
            ]
           ]
          },
          "colorway": [
           "#636efa",
           "#EF553B",
           "#00cc96",
           "#ab63fa",
           "#FFA15A",
           "#19d3f3",
           "#FF6692",
           "#B6E880",
           "#FF97FF",
           "#FECB52"
          ],
          "font": {
           "color": "#2a3f5f"
          },
          "geo": {
           "bgcolor": "white",
           "lakecolor": "white",
           "landcolor": "#E5ECF6",
           "showlakes": true,
           "showland": true,
           "subunitcolor": "white"
          },
          "hoverlabel": {
           "align": "left"
          },
          "hovermode": "closest",
          "mapbox": {
           "style": "light"
          },
          "paper_bgcolor": "white",
          "plot_bgcolor": "#E5ECF6",
          "polar": {
           "angularaxis": {
            "gridcolor": "white",
            "linecolor": "white",
            "ticks": ""
           },
           "bgcolor": "#E5ECF6",
           "radialaxis": {
            "gridcolor": "white",
            "linecolor": "white",
            "ticks": ""
           }
          },
          "scene": {
           "xaxis": {
            "backgroundcolor": "#E5ECF6",
            "gridcolor": "white",
            "gridwidth": 2,
            "linecolor": "white",
            "showbackground": true,
            "ticks": "",
            "zerolinecolor": "white"
           },
           "yaxis": {
            "backgroundcolor": "#E5ECF6",
            "gridcolor": "white",
            "gridwidth": 2,
            "linecolor": "white",
            "showbackground": true,
            "ticks": "",
            "zerolinecolor": "white"
           },
           "zaxis": {
            "backgroundcolor": "#E5ECF6",
            "gridcolor": "white",
            "gridwidth": 2,
            "linecolor": "white",
            "showbackground": true,
            "ticks": "",
            "zerolinecolor": "white"
           }
          },
          "shapedefaults": {
           "line": {
            "color": "#2a3f5f"
           }
          },
          "ternary": {
           "aaxis": {
            "gridcolor": "white",
            "linecolor": "white",
            "ticks": ""
           },
           "baxis": {
            "gridcolor": "white",
            "linecolor": "white",
            "ticks": ""
           },
           "bgcolor": "#E5ECF6",
           "caxis": {
            "gridcolor": "white",
            "linecolor": "white",
            "ticks": ""
           }
          },
          "title": {
           "x": 0.05
          },
          "xaxis": {
           "automargin": true,
           "gridcolor": "white",
           "linecolor": "white",
           "ticks": "",
           "title": {
            "standoff": 15
           },
           "zerolinecolor": "white",
           "zerolinewidth": 2
          },
          "yaxis": {
           "automargin": true,
           "gridcolor": "white",
           "linecolor": "white",
           "ticks": "",
           "title": {
            "standoff": 15
           },
           "zerolinecolor": "white",
           "zerolinewidth": 2
          }
         }
        },
        "title": {
         "font": {
          "color": "white"
         },
         "text": "Total Visualizações",
         "x": 0.5
        },
        "xaxis": {
         "anchor": "y",
         "domain": [
          0,
          1
         ],
         "tickfont": {
          "color": "white"
         },
         "title": {
          "text": ""
         },
         "visible": false
        },
        "yaxis": {
         "anchor": "x",
         "domain": [
          0,
          1
         ],
         "tickfont": {
          "color": "white",
          "size": 16
         },
         "ticklen": 1,
         "tickmode": "array",
         "title": {
          "text": ""
         }
        }
       }
      }
     },
     "metadata": {},
     "output_type": "display_data"
    }
   ],
   "source": [
    "\n",
    "df_views_video.sort_values(by='total_visualizacoes_turno', ascending=True, inplace=True)\n",
    "fig = px.bar(df_views_video, x='total_visualizacoes_turno', y='id_video', orientation='h', text_auto=True)\n",
    "\n",
    "\n",
    "fig.update_layout(\n",
    "    title_text='Total Visualizações',\n",
    "    showlegend=True,\n",
    "    title=dict(x=0.5, font=dict(color='white')),\n",
    "    plot_bgcolor='#1F2326',\n",
    "    margin=dict(l=10, r=20, t=40, b=20, pad=2),\n",
    "    paper_bgcolor='#1F2326',\n",
    "    yaxis=dict(title='', tickfont=dict(color='white', size=16), tickmode='array', ticklen=1),\n",
    "    xaxis=dict(title='', tickfont=dict(color='white'), visible=False),\n",
    "    legend=dict(font=dict(color='white'), orientation='h', y=4)\n",
    ")\n",
    "    \n",
    "fig.update_traces(\n",
    "    textfont_color='white',\n",
    "    marker_color='#04BE5F',\n",
    "    textfont_size=18 ,\n",
    "    textposition='outside',  \n",
    ")\n",
    "\n",
    "\n",
    "fig.show()\n"
   ]
  },
  {
   "cell_type": "markdown",
   "metadata": {},
   "source": [
    "- Selecionando Vídeo - (visualização, vídeo, comentário, likes)"
   ]
  },
  {
   "cell_type": "code",
   "execution_count": null,
   "metadata": {},
   "outputs": [],
   "source": [
    "tipos = {\n",
    "    'data_extracao' : 'datetime64[ns]',\n",
    "    'turno_extracao' : 'string',\n",
    "    'total_visualizacoes_turno' : 'int'\n",
    "}"
   ]
  },
  {
   "cell_type": "markdown",
   "metadata": {},
   "source": [
    "- Desempenho Vídeo\n",
    "    "
   ]
  },
  {
   "cell_type": "code",
   "execution_count": null,
   "metadata": {},
   "outputs": [
    {
     "data": {
      "text/html": [
       "<div>\n",
       "<style scoped>\n",
       "    .dataframe tbody tr th:only-of-type {\n",
       "        vertical-align: middle;\n",
       "    }\n",
       "\n",
       "    .dataframe tbody tr th {\n",
       "        vertical-align: top;\n",
       "    }\n",
       "\n",
       "    .dataframe thead th {\n",
       "        text-align: right;\n",
       "    }\n",
       "</style>\n",
       "<table border=\"1\" class=\"dataframe\">\n",
       "  <thead>\n",
       "    <tr style=\"text-align: right;\">\n",
       "      <th></th>\n",
       "      <th>data_extracao</th>\n",
       "      <th>turno_extracao</th>\n",
       "      <th>total_visualizacoes_turno</th>\n",
       "      <th>indice_turno</th>\n",
       "    </tr>\n",
       "  </thead>\n",
       "  <tbody>\n",
       "    <tr>\n",
       "      <th>0</th>\n",
       "      <td>2023-10-19</td>\n",
       "      <td>Noite</td>\n",
       "      <td>7568</td>\n",
       "      <td>3</td>\n",
       "    </tr>\n",
       "    <tr>\n",
       "      <th>1</th>\n",
       "      <td>2023-10-19</td>\n",
       "      <td>Tarde</td>\n",
       "      <td>10393</td>\n",
       "      <td>2</td>\n",
       "    </tr>\n",
       "    <tr>\n",
       "      <th>2</th>\n",
       "      <td>2023-10-20</td>\n",
       "      <td>Manhã</td>\n",
       "      <td>27387</td>\n",
       "      <td>1</td>\n",
       "    </tr>\n",
       "    <tr>\n",
       "      <th>3</th>\n",
       "      <td>2023-10-20</td>\n",
       "      <td>Tarde</td>\n",
       "      <td>6808</td>\n",
       "      <td>2</td>\n",
       "    </tr>\n",
       "    <tr>\n",
       "      <th>4</th>\n",
       "      <td>2023-10-21</td>\n",
       "      <td>Manhã</td>\n",
       "      <td>13250</td>\n",
       "      <td>1</td>\n",
       "    </tr>\n",
       "  </tbody>\n",
       "</table>\n",
       "</div>"
      ],
      "text/plain": [
       "  data_extracao turno_extracao  total_visualizacoes_turno  indice_turno\n",
       "0    2023-10-19          Noite                       7568             3\n",
       "1    2023-10-19          Tarde                      10393             2\n",
       "2    2023-10-20          Manhã                      27387             1\n",
       "3    2023-10-20          Tarde                       6808             2\n",
       "4    2023-10-21          Manhã                      13250             1"
      ]
     },
     "execution_count": 5,
     "metadata": {},
     "output_type": "execute_result"
    }
   ],
   "source": [
    "df_desempenho_video = pd.read_sql_query(\n",
    "    ' SELECT data_extracao, '\n",
    "    ' turno_extracao, '\n",
    "    ' total_visualizacoes_turno,'\n",
    "    ' CASE WHEN turno_extracao == \"Manhã\" Then 1 when turno_extracao == \"Tarde\" then 2 else 3 end as INDICE_TURNO  '\n",
    "    ' FROM total_visualizacoes_por_semana tvps '\n",
    "    ' where tvps.assunto  = \"assunto_cities_skylines\" '\n",
    "    ' AND tvps.id_video = \"wCLSZxLfUAk\" ' ,\n",
    "    con=engine,\n",
    "    dtype=tipos\n",
    ")\n",
    "df_desempenho_video.head()"
   ]
  },
  {
   "cell_type": "code",
   "execution_count": null,
   "metadata": {},
   "outputs": [],
   "source": [
    "df_desempenho_video.sort_values(by='indice_turno', inplace=True)"
   ]
  },
  {
   "cell_type": "code",
   "execution_count": null,
   "metadata": {},
   "outputs": [
    {
     "data": {
      "text/plain": [
       "data_extracao                datetime64[ns]\n",
       "turno_extracao               string[python]\n",
       "total_visualizacoes_turno             int64\n",
       "indice_turno                          int64\n",
       "dtype: object"
      ]
     },
     "execution_count": 9,
     "metadata": {},
     "output_type": "execute_result"
    }
   ],
   "source": [
    "df_desempenho_video.dtypes"
   ]
  },
  {
   "cell_type": "code",
   "execution_count": null,
   "metadata": {},
   "outputs": [],
   "source": [
    "cores = ['#FFA500', '#00FF00', '#FF00FF']"
   ]
  },
  {
   "cell_type": "code",
   "execution_count": null,
   "metadata": {},
   "outputs": [
    {
     "data": {
      "application/vnd.plotly.v1+json": {
       "config": {
        "plotlyServerURL": "https://plot.ly"
       },
       "data": [
        {
         "alignmentgroup": "True",
         "hovertemplate": "turno_extracao=Manhã<br>data_extracao=%{x}<br>total_visualizacoes_turno=%{y}<extra></extra>",
         "legendgroup": "Manhã",
         "marker": {
          "color": "#FFA500",
          "pattern": {
           "shape": ""
          }
         },
         "name": "Manhã",
         "offsetgroup": "Manhã",
         "orientation": "v",
         "showlegend": true,
         "textfont": {
          "color": "white",
          "size": 14
         },
         "textposition": "outside",
         "texttemplate": "%{y}",
         "type": "bar",
         "x": [
          "2023-10-27T00:00:00",
          "2023-10-20T00:00:00",
          "2023-10-21T00:00:00",
          "2023-10-26T00:00:00",
          "2023-10-22T00:00:00",
          "2023-10-25T00:00:00",
          "2023-10-23T00:00:00",
          "2023-10-24T00:00:00"
         ],
         "xaxis": "x",
         "y": [
          1957,
          27387,
          13250,
          2678,
          5739,
          3764,
          4667,
          2943
         ],
         "yaxis": "y"
        },
        {
         "alignmentgroup": "True",
         "hovertemplate": "turno_extracao=Tarde<br>data_extracao=%{x}<br>total_visualizacoes_turno=%{y}<extra></extra>",
         "legendgroup": "Tarde",
         "marker": {
          "color": "#00FF00",
          "pattern": {
           "shape": ""
          }
         },
         "name": "Tarde",
         "offsetgroup": "Tarde",
         "orientation": "v",
         "showlegend": true,
         "textfont": {
          "color": "white",
          "size": 14
         },
         "textposition": "outside",
         "texttemplate": "%{y}",
         "type": "bar",
         "x": [
          "2023-10-23T00:00:00",
          "2023-10-26T00:00:00",
          "2023-10-25T00:00:00",
          "2023-10-24T00:00:00",
          "2023-10-27T00:00:00",
          "2023-10-22T00:00:00",
          "2023-10-21T00:00:00",
          "2023-10-20T00:00:00",
          "2023-10-19T00:00:00"
         ],
         "xaxis": "x",
         "y": [
          1816,
          1464,
          1594,
          1950,
          1072,
          4322,
          6075,
          6808,
          10393
         ],
         "yaxis": "y"
        },
        {
         "alignmentgroup": "True",
         "hovertemplate": "turno_extracao=Noite<br>data_extracao=%{x}<br>total_visualizacoes_turno=%{y}<extra></extra>",
         "legendgroup": "Noite",
         "marker": {
          "color": "#FF00FF",
          "pattern": {
           "shape": ""
          }
         },
         "name": "Noite",
         "offsetgroup": "Noite",
         "orientation": "v",
         "showlegend": true,
         "textfont": {
          "color": "white",
          "size": 14
         },
         "textposition": "outside",
         "texttemplate": "%{y}",
         "type": "bar",
         "x": [
          "2023-10-23T00:00:00",
          "2023-10-24T00:00:00",
          "2023-10-22T00:00:00",
          "2023-10-25T00:00:00",
          "2023-10-21T00:00:00",
          "2023-10-26T00:00:00",
          "2023-10-27T00:00:00",
          "2023-10-19T00:00:00"
         ],
         "xaxis": "x",
         "y": [
          1718,
          2477,
          2739,
          2075,
          4557,
          1391,
          408,
          7568
         ],
         "yaxis": "y"
        }
       ],
       "layout": {
        "bargap": 0.2,
        "barmode": "group",
        "legend": {
         "font": {
          "color": "white"
         },
         "title": {
          "text": "turno_extracao"
         },
         "tracegroupgap": 0
        },
        "margin": {
         "b": 20,
         "l": 20,
         "pad": 4,
         "r": 20,
         "t": 40
        },
        "paper_bgcolor": "#1F2326",
        "plot_bgcolor": "#1F2326",
        "showlegend": true,
        "template": {
         "data": {
          "bar": [
           {
            "error_x": {
             "color": "#2a3f5f"
            },
            "error_y": {
             "color": "#2a3f5f"
            },
            "marker": {
             "line": {
              "color": "#E5ECF6",
              "width": 0.5
             },
             "pattern": {
              "fillmode": "overlay",
              "size": 10,
              "solidity": 0.2
             }
            },
            "type": "bar"
           }
          ],
          "barpolar": [
           {
            "marker": {
             "line": {
              "color": "#E5ECF6",
              "width": 0.5
             },
             "pattern": {
              "fillmode": "overlay",
              "size": 10,
              "solidity": 0.2
             }
            },
            "type": "barpolar"
           }
          ],
          "carpet": [
           {
            "aaxis": {
             "endlinecolor": "#2a3f5f",
             "gridcolor": "white",
             "linecolor": "white",
             "minorgridcolor": "white",
             "startlinecolor": "#2a3f5f"
            },
            "baxis": {
             "endlinecolor": "#2a3f5f",
             "gridcolor": "white",
             "linecolor": "white",
             "minorgridcolor": "white",
             "startlinecolor": "#2a3f5f"
            },
            "type": "carpet"
           }
          ],
          "choropleth": [
           {
            "colorbar": {
             "outlinewidth": 0,
             "ticks": ""
            },
            "type": "choropleth"
           }
          ],
          "contour": [
           {
            "colorbar": {
             "outlinewidth": 0,
             "ticks": ""
            },
            "colorscale": [
             [
              0,
              "#0d0887"
             ],
             [
              0.1111111111111111,
              "#46039f"
             ],
             [
              0.2222222222222222,
              "#7201a8"
             ],
             [
              0.3333333333333333,
              "#9c179e"
             ],
             [
              0.4444444444444444,
              "#bd3786"
             ],
             [
              0.5555555555555556,
              "#d8576b"
             ],
             [
              0.6666666666666666,
              "#ed7953"
             ],
             [
              0.7777777777777778,
              "#fb9f3a"
             ],
             [
              0.8888888888888888,
              "#fdca26"
             ],
             [
              1,
              "#f0f921"
             ]
            ],
            "type": "contour"
           }
          ],
          "contourcarpet": [
           {
            "colorbar": {
             "outlinewidth": 0,
             "ticks": ""
            },
            "type": "contourcarpet"
           }
          ],
          "heatmap": [
           {
            "colorbar": {
             "outlinewidth": 0,
             "ticks": ""
            },
            "colorscale": [
             [
              0,
              "#0d0887"
             ],
             [
              0.1111111111111111,
              "#46039f"
             ],
             [
              0.2222222222222222,
              "#7201a8"
             ],
             [
              0.3333333333333333,
              "#9c179e"
             ],
             [
              0.4444444444444444,
              "#bd3786"
             ],
             [
              0.5555555555555556,
              "#d8576b"
             ],
             [
              0.6666666666666666,
              "#ed7953"
             ],
             [
              0.7777777777777778,
              "#fb9f3a"
             ],
             [
              0.8888888888888888,
              "#fdca26"
             ],
             [
              1,
              "#f0f921"
             ]
            ],
            "type": "heatmap"
           }
          ],
          "heatmapgl": [
           {
            "colorbar": {
             "outlinewidth": 0,
             "ticks": ""
            },
            "colorscale": [
             [
              0,
              "#0d0887"
             ],
             [
              0.1111111111111111,
              "#46039f"
             ],
             [
              0.2222222222222222,
              "#7201a8"
             ],
             [
              0.3333333333333333,
              "#9c179e"
             ],
             [
              0.4444444444444444,
              "#bd3786"
             ],
             [
              0.5555555555555556,
              "#d8576b"
             ],
             [
              0.6666666666666666,
              "#ed7953"
             ],
             [
              0.7777777777777778,
              "#fb9f3a"
             ],
             [
              0.8888888888888888,
              "#fdca26"
             ],
             [
              1,
              "#f0f921"
             ]
            ],
            "type": "heatmapgl"
           }
          ],
          "histogram": [
           {
            "marker": {
             "pattern": {
              "fillmode": "overlay",
              "size": 10,
              "solidity": 0.2
             }
            },
            "type": "histogram"
           }
          ],
          "histogram2d": [
           {
            "colorbar": {
             "outlinewidth": 0,
             "ticks": ""
            },
            "colorscale": [
             [
              0,
              "#0d0887"
             ],
             [
              0.1111111111111111,
              "#46039f"
             ],
             [
              0.2222222222222222,
              "#7201a8"
             ],
             [
              0.3333333333333333,
              "#9c179e"
             ],
             [
              0.4444444444444444,
              "#bd3786"
             ],
             [
              0.5555555555555556,
              "#d8576b"
             ],
             [
              0.6666666666666666,
              "#ed7953"
             ],
             [
              0.7777777777777778,
              "#fb9f3a"
             ],
             [
              0.8888888888888888,
              "#fdca26"
             ],
             [
              1,
              "#f0f921"
             ]
            ],
            "type": "histogram2d"
           }
          ],
          "histogram2dcontour": [
           {
            "colorbar": {
             "outlinewidth": 0,
             "ticks": ""
            },
            "colorscale": [
             [
              0,
              "#0d0887"
             ],
             [
              0.1111111111111111,
              "#46039f"
             ],
             [
              0.2222222222222222,
              "#7201a8"
             ],
             [
              0.3333333333333333,
              "#9c179e"
             ],
             [
              0.4444444444444444,
              "#bd3786"
             ],
             [
              0.5555555555555556,
              "#d8576b"
             ],
             [
              0.6666666666666666,
              "#ed7953"
             ],
             [
              0.7777777777777778,
              "#fb9f3a"
             ],
             [
              0.8888888888888888,
              "#fdca26"
             ],
             [
              1,
              "#f0f921"
             ]
            ],
            "type": "histogram2dcontour"
           }
          ],
          "mesh3d": [
           {
            "colorbar": {
             "outlinewidth": 0,
             "ticks": ""
            },
            "type": "mesh3d"
           }
          ],
          "parcoords": [
           {
            "line": {
             "colorbar": {
              "outlinewidth": 0,
              "ticks": ""
             }
            },
            "type": "parcoords"
           }
          ],
          "pie": [
           {
            "automargin": true,
            "type": "pie"
           }
          ],
          "scatter": [
           {
            "fillpattern": {
             "fillmode": "overlay",
             "size": 10,
             "solidity": 0.2
            },
            "type": "scatter"
           }
          ],
          "scatter3d": [
           {
            "line": {
             "colorbar": {
              "outlinewidth": 0,
              "ticks": ""
             }
            },
            "marker": {
             "colorbar": {
              "outlinewidth": 0,
              "ticks": ""
             }
            },
            "type": "scatter3d"
           }
          ],
          "scattercarpet": [
           {
            "marker": {
             "colorbar": {
              "outlinewidth": 0,
              "ticks": ""
             }
            },
            "type": "scattercarpet"
           }
          ],
          "scattergeo": [
           {
            "marker": {
             "colorbar": {
              "outlinewidth": 0,
              "ticks": ""
             }
            },
            "type": "scattergeo"
           }
          ],
          "scattergl": [
           {
            "marker": {
             "colorbar": {
              "outlinewidth": 0,
              "ticks": ""
             }
            },
            "type": "scattergl"
           }
          ],
          "scattermapbox": [
           {
            "marker": {
             "colorbar": {
              "outlinewidth": 0,
              "ticks": ""
             }
            },
            "type": "scattermapbox"
           }
          ],
          "scatterpolar": [
           {
            "marker": {
             "colorbar": {
              "outlinewidth": 0,
              "ticks": ""
             }
            },
            "type": "scatterpolar"
           }
          ],
          "scatterpolargl": [
           {
            "marker": {
             "colorbar": {
              "outlinewidth": 0,
              "ticks": ""
             }
            },
            "type": "scatterpolargl"
           }
          ],
          "scatterternary": [
           {
            "marker": {
             "colorbar": {
              "outlinewidth": 0,
              "ticks": ""
             }
            },
            "type": "scatterternary"
           }
          ],
          "surface": [
           {
            "colorbar": {
             "outlinewidth": 0,
             "ticks": ""
            },
            "colorscale": [
             [
              0,
              "#0d0887"
             ],
             [
              0.1111111111111111,
              "#46039f"
             ],
             [
              0.2222222222222222,
              "#7201a8"
             ],
             [
              0.3333333333333333,
              "#9c179e"
             ],
             [
              0.4444444444444444,
              "#bd3786"
             ],
             [
              0.5555555555555556,
              "#d8576b"
             ],
             [
              0.6666666666666666,
              "#ed7953"
             ],
             [
              0.7777777777777778,
              "#fb9f3a"
             ],
             [
              0.8888888888888888,
              "#fdca26"
             ],
             [
              1,
              "#f0f921"
             ]
            ],
            "type": "surface"
           }
          ],
          "table": [
           {
            "cells": {
             "fill": {
              "color": "#EBF0F8"
             },
             "line": {
              "color": "white"
             }
            },
            "header": {
             "fill": {
              "color": "#C8D4E3"
             },
             "line": {
              "color": "white"
             }
            },
            "type": "table"
           }
          ]
         },
         "layout": {
          "annotationdefaults": {
           "arrowcolor": "#2a3f5f",
           "arrowhead": 0,
           "arrowwidth": 1
          },
          "autotypenumbers": "strict",
          "coloraxis": {
           "colorbar": {
            "outlinewidth": 0,
            "ticks": ""
           }
          },
          "colorscale": {
           "diverging": [
            [
             0,
             "#8e0152"
            ],
            [
             0.1,
             "#c51b7d"
            ],
            [
             0.2,
             "#de77ae"
            ],
            [
             0.3,
             "#f1b6da"
            ],
            [
             0.4,
             "#fde0ef"
            ],
            [
             0.5,
             "#f7f7f7"
            ],
            [
             0.6,
             "#e6f5d0"
            ],
            [
             0.7,
             "#b8e186"
            ],
            [
             0.8,
             "#7fbc41"
            ],
            [
             0.9,
             "#4d9221"
            ],
            [
             1,
             "#276419"
            ]
           ],
           "sequential": [
            [
             0,
             "#0d0887"
            ],
            [
             0.1111111111111111,
             "#46039f"
            ],
            [
             0.2222222222222222,
             "#7201a8"
            ],
            [
             0.3333333333333333,
             "#9c179e"
            ],
            [
             0.4444444444444444,
             "#bd3786"
            ],
            [
             0.5555555555555556,
             "#d8576b"
            ],
            [
             0.6666666666666666,
             "#ed7953"
            ],
            [
             0.7777777777777778,
             "#fb9f3a"
            ],
            [
             0.8888888888888888,
             "#fdca26"
            ],
            [
             1,
             "#f0f921"
            ]
           ],
           "sequentialminus": [
            [
             0,
             "#0d0887"
            ],
            [
             0.1111111111111111,
             "#46039f"
            ],
            [
             0.2222222222222222,
             "#7201a8"
            ],
            [
             0.3333333333333333,
             "#9c179e"
            ],
            [
             0.4444444444444444,
             "#bd3786"
            ],
            [
             0.5555555555555556,
             "#d8576b"
            ],
            [
             0.6666666666666666,
             "#ed7953"
            ],
            [
             0.7777777777777778,
             "#fb9f3a"
            ],
            [
             0.8888888888888888,
             "#fdca26"
            ],
            [
             1,
             "#f0f921"
            ]
           ]
          },
          "colorway": [
           "#636efa",
           "#EF553B",
           "#00cc96",
           "#ab63fa",
           "#FFA15A",
           "#19d3f3",
           "#FF6692",
           "#B6E880",
           "#FF97FF",
           "#FECB52"
          ],
          "font": {
           "color": "#2a3f5f"
          },
          "geo": {
           "bgcolor": "white",
           "lakecolor": "white",
           "landcolor": "#E5ECF6",
           "showlakes": true,
           "showland": true,
           "subunitcolor": "white"
          },
          "hoverlabel": {
           "align": "left"
          },
          "hovermode": "closest",
          "mapbox": {
           "style": "light"
          },
          "paper_bgcolor": "white",
          "plot_bgcolor": "#E5ECF6",
          "polar": {
           "angularaxis": {
            "gridcolor": "white",
            "linecolor": "white",
            "ticks": ""
           },
           "bgcolor": "#E5ECF6",
           "radialaxis": {
            "gridcolor": "white",
            "linecolor": "white",
            "ticks": ""
           }
          },
          "scene": {
           "xaxis": {
            "backgroundcolor": "#E5ECF6",
            "gridcolor": "white",
            "gridwidth": 2,
            "linecolor": "white",
            "showbackground": true,
            "ticks": "",
            "zerolinecolor": "white"
           },
           "yaxis": {
            "backgroundcolor": "#E5ECF6",
            "gridcolor": "white",
            "gridwidth": 2,
            "linecolor": "white",
            "showbackground": true,
            "ticks": "",
            "zerolinecolor": "white"
           },
           "zaxis": {
            "backgroundcolor": "#E5ECF6",
            "gridcolor": "white",
            "gridwidth": 2,
            "linecolor": "white",
            "showbackground": true,
            "ticks": "",
            "zerolinecolor": "white"
           }
          },
          "shapedefaults": {
           "line": {
            "color": "#2a3f5f"
           }
          },
          "ternary": {
           "aaxis": {
            "gridcolor": "white",
            "linecolor": "white",
            "ticks": ""
           },
           "baxis": {
            "gridcolor": "white",
            "linecolor": "white",
            "ticks": ""
           },
           "bgcolor": "#E5ECF6",
           "caxis": {
            "gridcolor": "white",
            "linecolor": "white",
            "ticks": ""
           }
          },
          "title": {
           "x": 0.05
          },
          "xaxis": {
           "automargin": true,
           "gridcolor": "white",
           "linecolor": "white",
           "ticks": "",
           "title": {
            "standoff": 15
           },
           "zerolinecolor": "white",
           "zerolinewidth": 2
          },
          "yaxis": {
           "automargin": true,
           "gridcolor": "white",
           "linecolor": "white",
           "ticks": "",
           "title": {
            "standoff": 15
           },
           "zerolinecolor": "white",
           "zerolinewidth": 2
          }
         }
        },
        "title": {
         "font": {
          "color": "white"
         },
         "text": "Desempenho Vídeo",
         "x": 0.5
        },
        "xaxis": {
         "anchor": "y",
         "domain": [
          0,
          1
         ],
         "tickfont": {
          "color": "white"
         },
         "tickformat": "%d/%m/%Y",
         "title": {
          "text": ""
         }
        },
        "yaxis": {
         "anchor": "x",
         "domain": [
          0,
          1
         ],
         "title": {
          "text": "total_visualizacoes_turno"
         },
         "visible": false
        }
       }
      }
     },
     "metadata": {},
     "output_type": "display_data"
    }
   ],
   "source": [
    "fig = px.bar(\n",
    "        data_frame=df_desempenho_video, \n",
    "        x='data_extracao', \n",
    "        y='total_visualizacoes_turno',\n",
    "        text_auto=True, \n",
    "        color='turno_extracao',\n",
    "        barmode='group',\n",
    "        color_discrete_sequence=cores\n",
    "    )\n",
    "fig.update_layout(\n",
    "    title_text='Desempenho Vídeo',\n",
    "    showlegend=True,\n",
    "    title=dict(x=0.5, font=dict(color='white')),\n",
    "    plot_bgcolor='#1F2326',\n",
    "    yaxis=dict(visible=False),  \n",
    "    margin=dict(l=20, r=20, t=40, b=20, pad=4),\n",
    "    paper_bgcolor='#1F2326',\n",
    "    xaxis=dict(title='', tickfont=dict(color='white')),\n",
    "    legend=dict(font=dict(color='white')),\n",
    "    xaxis_tickformat = '%d/%m/%Y',\n",
    "    bargap= 0.2\n",
    ")\n",
    "fig.update_traces(\n",
    "    textfont_color='white',\n",
    "    # marker_color='#246DFB',\n",
    "    textfont_size=14 ,\n",
    "    textposition='outside', \n",
    "    \n",
    ")\n"
   ]
  },
  {
   "cell_type": "markdown",
   "metadata": {},
   "source": [
    "# Total Víews/likes/comentarios DIA por Canal"
   ]
  },
  {
   "cell_type": "code",
   "execution_count": null,
   "metadata": {},
   "outputs": [],
   "source": [
    "tipos = {\n",
    "    'id_canal' : 'string',\n",
    "    'total_visualizacoes_turno': 'int32'\n",
    "}"
   ]
  },
  {
   "cell_type": "code",
   "execution_count": null,
   "metadata": {},
   "outputs": [
    {
     "data": {
      "text/html": [
       "<div>\n",
       "<style scoped>\n",
       "    .dataframe tbody tr th:only-of-type {\n",
       "        vertical-align: middle;\n",
       "    }\n",
       "\n",
       "    .dataframe tbody tr th {\n",
       "        vertical-align: top;\n",
       "    }\n",
       "\n",
       "    .dataframe thead th {\n",
       "        text-align: right;\n",
       "    }\n",
       "</style>\n",
       "<table border=\"1\" class=\"dataframe\">\n",
       "  <thead>\n",
       "    <tr style=\"text-align: right;\">\n",
       "      <th></th>\n",
       "      <th>id_canal</th>\n",
       "      <th>total_visualizacoes_turno</th>\n",
       "    </tr>\n",
       "  </thead>\n",
       "  <tbody>\n",
       "    <tr>\n",
       "      <th>0</th>\n",
       "      <td>Uc-n8y8iut8b44h-iqqamq4w</td>\n",
       "      <td>4</td>\n",
       "    </tr>\n",
       "    <tr>\n",
       "      <th>1</th>\n",
       "      <td>Uc1mk6etfmjxr4eez7c43ztq</td>\n",
       "      <td>480</td>\n",
       "    </tr>\n",
       "    <tr>\n",
       "      <th>2</th>\n",
       "      <td>Uc1mk6etfmjxr4eez7c43ztq</td>\n",
       "      <td>481</td>\n",
       "    </tr>\n",
       "    <tr>\n",
       "      <th>3</th>\n",
       "      <td>Uc1mk6etfmjxr4eez7c43ztq</td>\n",
       "      <td>1</td>\n",
       "    </tr>\n",
       "    <tr>\n",
       "      <th>4</th>\n",
       "      <td>Uc1mk6etfmjxr4eez7c43ztq</td>\n",
       "      <td>342</td>\n",
       "    </tr>\n",
       "  </tbody>\n",
       "</table>\n",
       "</div>"
      ],
      "text/plain": [
       "                   id_canal  total_visualizacoes_turno\n",
       "0  Uc-n8y8iut8b44h-iqqamq4w                          4\n",
       "1  Uc1mk6etfmjxr4eez7c43ztq                        480\n",
       "2  Uc1mk6etfmjxr4eez7c43ztq                        481\n",
       "3  Uc1mk6etfmjxr4eez7c43ztq                          1\n",
       "4  Uc1mk6etfmjxr4eez7c43ztq                        342"
      ]
     },
     "execution_count": 26,
     "metadata": {},
     "output_type": "execute_result"
    }
   ],
   "source": [
    "df_views_canal = pd.read_sql_query(\n",
    "    ' SELECT '\n",
    "    '    id_canal, '\n",
    "    '    total_visualizacoes_turno '\n",
    "    '    FROM total_visualizacoes_por_semana  '\n",
    "    '    WHERE data_extracao=\"2023-10-27\"  '\n",
    "    '    AND ASSUNTO = \"assunto_cities_skylines\" '\n",
    "    '    AND total_visualizacoes_turno > 0  ',\n",
    "    con=engine,\n",
    "    dtype=tipos\n",
    ")\n",
    "\n",
    "df_views_canal['id_canal'] = df_views_canal['id_canal'].apply(lambda x: x.capitalize())\n",
    "df_views_canal.head()"
   ]
  },
  {
   "cell_type": "code",
   "execution_count": null,
   "metadata": {},
   "outputs": [],
   "source": [
    "df_views_canal = df_views_canal.groupby('id_canal').sum('total_visualizacoes_turno').sort_values(by='total_visualizacoes_turno', ascending=False).reset_index()\n"
   ]
  },
  {
   "cell_type": "code",
   "execution_count": null,
   "metadata": {},
   "outputs": [
    {
     "data": {
      "text/html": [
       "<div>\n",
       "<style scoped>\n",
       "    .dataframe tbody tr th:only-of-type {\n",
       "        vertical-align: middle;\n",
       "    }\n",
       "\n",
       "    .dataframe tbody tr th {\n",
       "        vertical-align: top;\n",
       "    }\n",
       "\n",
       "    .dataframe thead th {\n",
       "        text-align: right;\n",
       "    }\n",
       "</style>\n",
       "<table border=\"1\" class=\"dataframe\">\n",
       "  <thead>\n",
       "    <tr style=\"text-align: right;\">\n",
       "      <th></th>\n",
       "      <th>id_canal</th>\n",
       "      <th>total_visualizacoes_turno</th>\n",
       "    </tr>\n",
       "  </thead>\n",
       "  <tbody>\n",
       "    <tr>\n",
       "      <th>0</th>\n",
       "      <td>Ucroh1v-fymunbimrkl0y0xq</td>\n",
       "      <td>49697</td>\n",
       "    </tr>\n",
       "    <tr>\n",
       "      <th>1</th>\n",
       "      <td>Ucfy4ggudpeecgscnepyyvsa</td>\n",
       "      <td>18613</td>\n",
       "    </tr>\n",
       "    <tr>\n",
       "      <th>2</th>\n",
       "      <td>Ucayih2y5jbeosubqoqhufda</td>\n",
       "      <td>15020</td>\n",
       "    </tr>\n",
       "    <tr>\n",
       "      <th>3</th>\n",
       "      <td>Ucotipyf8_rgzj1lptmvadaa</td>\n",
       "      <td>13960</td>\n",
       "    </tr>\n",
       "    <tr>\n",
       "      <th>4</th>\n",
       "      <td>Uce9jri0yq5sm6h5qrz9fzla</td>\n",
       "      <td>10397</td>\n",
       "    </tr>\n",
       "  </tbody>\n",
       "</table>\n",
       "</div>"
      ],
      "text/plain": [
       "                   id_canal  total_visualizacoes_turno\n",
       "0  Ucroh1v-fymunbimrkl0y0xq                      49697\n",
       "1  Ucfy4ggudpeecgscnepyyvsa                      18613\n",
       "2  Ucayih2y5jbeosubqoqhufda                      15020\n",
       "3  Ucotipyf8_rgzj1lptmvadaa                      13960\n",
       "4  Uce9jri0yq5sm6h5qrz9fzla                      10397"
      ]
     },
     "execution_count": 29,
     "metadata": {},
     "output_type": "execute_result"
    }
   ],
   "source": [
    "df_views_canal.head()"
   ]
  },
  {
   "cell_type": "code",
   "execution_count": null,
   "metadata": {},
   "outputs": [
    {
     "data": {
      "text/plain": [
       "id_canal                     string[python]\n",
       "total_visualizacoes_turno             int32\n",
       "dtype: object"
      ]
     },
     "execution_count": 32,
     "metadata": {},
     "output_type": "execute_result"
    }
   ],
   "source": [
    "df_views_canal.dtypes"
   ]
  },
  {
   "cell_type": "code",
   "execution_count": null,
   "metadata": {},
   "outputs": [],
   "source": [
    "df_views_canal['id_canal'] = df_views_canal['id_canal'].astype('string')"
   ]
  },
  {
   "cell_type": "code",
   "execution_count": null,
   "metadata": {},
   "outputs": [
    {
     "name": "stdout",
     "output_type": "stream",
     "text": [
      "<class 'pandas.core.frame.DataFrame'>\n",
      "RangeIndex: 102 entries, 0 to 101\n",
      "Data columns (total 2 columns):\n",
      " #   Column                     Non-Null Count  Dtype \n",
      "---  ------                     --------------  ----- \n",
      " 0   id_canal                   102 non-null    string\n",
      " 1   total_visualizacoes_turno  102 non-null    int32 \n",
      "dtypes: int32(1), string(1)\n",
      "memory usage: 1.3 KB\n"
     ]
    }
   ],
   "source": [
    "df_views_canal.info()"
   ]
  },
  {
   "cell_type": "code",
   "execution_count": null,
   "metadata": {},
   "outputs": [
    {
     "data": {
      "text/html": [
       "<div>\n",
       "<style scoped>\n",
       "    .dataframe tbody tr th:only-of-type {\n",
       "        vertical-align: middle;\n",
       "    }\n",
       "\n",
       "    .dataframe tbody tr th {\n",
       "        vertical-align: top;\n",
       "    }\n",
       "\n",
       "    .dataframe thead th {\n",
       "        text-align: right;\n",
       "    }\n",
       "</style>\n",
       "<table border=\"1\" class=\"dataframe\">\n",
       "  <thead>\n",
       "    <tr style=\"text-align: right;\">\n",
       "      <th></th>\n",
       "      <th>id_canal</th>\n",
       "      <th>total_visualizacoes_turno</th>\n",
       "    </tr>\n",
       "  </thead>\n",
       "  <tbody>\n",
       "    <tr>\n",
       "      <th>0</th>\n",
       "      <td>Ucroh1v-fymunbimrkl0y0xq</td>\n",
       "      <td>49697</td>\n",
       "    </tr>\n",
       "    <tr>\n",
       "      <th>1</th>\n",
       "      <td>Ucfy4ggudpeecgscnepyyvsa</td>\n",
       "      <td>18613</td>\n",
       "    </tr>\n",
       "    <tr>\n",
       "      <th>2</th>\n",
       "      <td>Ucayih2y5jbeosubqoqhufda</td>\n",
       "      <td>15020</td>\n",
       "    </tr>\n",
       "    <tr>\n",
       "      <th>3</th>\n",
       "      <td>Ucotipyf8_rgzj1lptmvadaa</td>\n",
       "      <td>13960</td>\n",
       "    </tr>\n",
       "    <tr>\n",
       "      <th>4</th>\n",
       "      <td>Uce9jri0yq5sm6h5qrz9fzla</td>\n",
       "      <td>10397</td>\n",
       "    </tr>\n",
       "  </tbody>\n",
       "</table>\n",
       "</div>"
      ],
      "text/plain": [
       "                   id_canal  total_visualizacoes_turno\n",
       "0  Ucroh1v-fymunbimrkl0y0xq                      49697\n",
       "1  Ucfy4ggudpeecgscnepyyvsa                      18613\n",
       "2  Ucayih2y5jbeosubqoqhufda                      15020\n",
       "3  Ucotipyf8_rgzj1lptmvadaa                      13960\n",
       "4  Uce9jri0yq5sm6h5qrz9fzla                      10397"
      ]
     },
     "execution_count": 34,
     "metadata": {},
     "output_type": "execute_result"
    }
   ],
   "source": [
    "df_views_canal.head()"
   ]
  },
  {
   "cell_type": "code",
   "execution_count": null,
   "metadata": {},
   "outputs": [],
   "source": [
    "df_views_canal = df_views_canal.head(10)"
   ]
  },
  {
   "cell_type": "code",
   "execution_count": null,
   "metadata": {},
   "outputs": [
    {
     "data": {
      "text/html": [
       "<div>\n",
       "<style scoped>\n",
       "    .dataframe tbody tr th:only-of-type {\n",
       "        vertical-align: middle;\n",
       "    }\n",
       "\n",
       "    .dataframe tbody tr th {\n",
       "        vertical-align: top;\n",
       "    }\n",
       "\n",
       "    .dataframe thead th {\n",
       "        text-align: right;\n",
       "    }\n",
       "</style>\n",
       "<table border=\"1\" class=\"dataframe\">\n",
       "  <thead>\n",
       "    <tr style=\"text-align: right;\">\n",
       "      <th></th>\n",
       "      <th>id_canal</th>\n",
       "      <th>total_visualizacoes_turno</th>\n",
       "    </tr>\n",
       "  </thead>\n",
       "  <tbody>\n",
       "    <tr>\n",
       "      <th>0</th>\n",
       "      <td>Ucroh1v-fymunbimrkl0y0xq</td>\n",
       "      <td>49697</td>\n",
       "    </tr>\n",
       "    <tr>\n",
       "      <th>1</th>\n",
       "      <td>Ucfy4ggudpeecgscnepyyvsa</td>\n",
       "      <td>18613</td>\n",
       "    </tr>\n",
       "    <tr>\n",
       "      <th>2</th>\n",
       "      <td>Ucayih2y5jbeosubqoqhufda</td>\n",
       "      <td>15020</td>\n",
       "    </tr>\n",
       "    <tr>\n",
       "      <th>3</th>\n",
       "      <td>Ucotipyf8_rgzj1lptmvadaa</td>\n",
       "      <td>13960</td>\n",
       "    </tr>\n",
       "    <tr>\n",
       "      <th>4</th>\n",
       "      <td>Uce9jri0yq5sm6h5qrz9fzla</td>\n",
       "      <td>10397</td>\n",
       "    </tr>\n",
       "  </tbody>\n",
       "</table>\n",
       "</div>"
      ],
      "text/plain": [
       "                   id_canal  total_visualizacoes_turno\n",
       "0  Ucroh1v-fymunbimrkl0y0xq                      49697\n",
       "1  Ucfy4ggudpeecgscnepyyvsa                      18613\n",
       "2  Ucayih2y5jbeosubqoqhufda                      15020\n",
       "3  Ucotipyf8_rgzj1lptmvadaa                      13960\n",
       "4  Uce9jri0yq5sm6h5qrz9fzla                      10397"
      ]
     },
     "execution_count": 36,
     "metadata": {},
     "output_type": "execute_result"
    }
   ],
   "source": [
    "df_views_canal.head()"
   ]
  },
  {
   "cell_type": "code",
   "execution_count": null,
   "metadata": {},
   "outputs": [
    {
     "data": {
      "application/vnd.plotly.v1+json": {
       "config": {
        "plotlyServerURL": "https://plot.ly"
       },
       "data": [
        {
         "alignmentgroup": "True",
         "hovertemplate": "total_visualizacoes_turno=%{x}<br>id_canal=%{y}<extra></extra>",
         "legendgroup": "",
         "marker": {
          "color": "#F11A8E",
          "pattern": {
           "shape": ""
          }
         },
         "name": "",
         "offsetgroup": "",
         "orientation": "h",
         "showlegend": false,
         "textfont": {
          "color": "white",
          "size": 18
         },
         "textposition": "outside",
         "texttemplate": "%{x}",
         "type": "bar",
         "x": [
          49697,
          18613,
          15020,
          13960,
          10397,
          9367,
          6168,
          6136,
          4824,
          4333
         ],
         "xaxis": "x",
         "y": [
          "Ucroh1v-fymunbimrkl0y0xq",
          "Ucfy4ggudpeecgscnepyyvsa",
          "Ucayih2y5jbeosubqoqhufda",
          "Ucotipyf8_rgzj1lptmvadaa",
          "Uce9jri0yq5sm6h5qrz9fzla",
          "Uc1mk6etfmjxr4eez7c43ztq",
          "Ucyeb5mbkz5jjzn0xbukyaig",
          "Ucrucdh_bcfx77xpxhyq2fjw",
          "Ucla_gqerstts74gxhms6tzw",
          "Ucximgc-gmz2pxe_jggw2c9a"
         ],
         "yaxis": "y"
        }
       ],
       "layout": {
        "barmode": "relative",
        "legend": {
         "font": {
          "color": "white"
         },
         "orientation": "h",
         "tracegroupgap": 0,
         "y": 4
        },
        "margin": {
         "b": 20,
         "l": 10,
         "pad": 2,
         "r": 20,
         "t": 40
        },
        "paper_bgcolor": "#1F2326",
        "plot_bgcolor": "#1F2326",
        "showlegend": true,
        "template": {
         "data": {
          "bar": [
           {
            "error_x": {
             "color": "#2a3f5f"
            },
            "error_y": {
             "color": "#2a3f5f"
            },
            "marker": {
             "line": {
              "color": "#E5ECF6",
              "width": 0.5
             },
             "pattern": {
              "fillmode": "overlay",
              "size": 10,
              "solidity": 0.2
             }
            },
            "type": "bar"
           }
          ],
          "barpolar": [
           {
            "marker": {
             "line": {
              "color": "#E5ECF6",
              "width": 0.5
             },
             "pattern": {
              "fillmode": "overlay",
              "size": 10,
              "solidity": 0.2
             }
            },
            "type": "barpolar"
           }
          ],
          "carpet": [
           {
            "aaxis": {
             "endlinecolor": "#2a3f5f",
             "gridcolor": "white",
             "linecolor": "white",
             "minorgridcolor": "white",
             "startlinecolor": "#2a3f5f"
            },
            "baxis": {
             "endlinecolor": "#2a3f5f",
             "gridcolor": "white",
             "linecolor": "white",
             "minorgridcolor": "white",
             "startlinecolor": "#2a3f5f"
            },
            "type": "carpet"
           }
          ],
          "choropleth": [
           {
            "colorbar": {
             "outlinewidth": 0,
             "ticks": ""
            },
            "type": "choropleth"
           }
          ],
          "contour": [
           {
            "colorbar": {
             "outlinewidth": 0,
             "ticks": ""
            },
            "colorscale": [
             [
              0,
              "#0d0887"
             ],
             [
              0.1111111111111111,
              "#46039f"
             ],
             [
              0.2222222222222222,
              "#7201a8"
             ],
             [
              0.3333333333333333,
              "#9c179e"
             ],
             [
              0.4444444444444444,
              "#bd3786"
             ],
             [
              0.5555555555555556,
              "#d8576b"
             ],
             [
              0.6666666666666666,
              "#ed7953"
             ],
             [
              0.7777777777777778,
              "#fb9f3a"
             ],
             [
              0.8888888888888888,
              "#fdca26"
             ],
             [
              1,
              "#f0f921"
             ]
            ],
            "type": "contour"
           }
          ],
          "contourcarpet": [
           {
            "colorbar": {
             "outlinewidth": 0,
             "ticks": ""
            },
            "type": "contourcarpet"
           }
          ],
          "heatmap": [
           {
            "colorbar": {
             "outlinewidth": 0,
             "ticks": ""
            },
            "colorscale": [
             [
              0,
              "#0d0887"
             ],
             [
              0.1111111111111111,
              "#46039f"
             ],
             [
              0.2222222222222222,
              "#7201a8"
             ],
             [
              0.3333333333333333,
              "#9c179e"
             ],
             [
              0.4444444444444444,
              "#bd3786"
             ],
             [
              0.5555555555555556,
              "#d8576b"
             ],
             [
              0.6666666666666666,
              "#ed7953"
             ],
             [
              0.7777777777777778,
              "#fb9f3a"
             ],
             [
              0.8888888888888888,
              "#fdca26"
             ],
             [
              1,
              "#f0f921"
             ]
            ],
            "type": "heatmap"
           }
          ],
          "heatmapgl": [
           {
            "colorbar": {
             "outlinewidth": 0,
             "ticks": ""
            },
            "colorscale": [
             [
              0,
              "#0d0887"
             ],
             [
              0.1111111111111111,
              "#46039f"
             ],
             [
              0.2222222222222222,
              "#7201a8"
             ],
             [
              0.3333333333333333,
              "#9c179e"
             ],
             [
              0.4444444444444444,
              "#bd3786"
             ],
             [
              0.5555555555555556,
              "#d8576b"
             ],
             [
              0.6666666666666666,
              "#ed7953"
             ],
             [
              0.7777777777777778,
              "#fb9f3a"
             ],
             [
              0.8888888888888888,
              "#fdca26"
             ],
             [
              1,
              "#f0f921"
             ]
            ],
            "type": "heatmapgl"
           }
          ],
          "histogram": [
           {
            "marker": {
             "pattern": {
              "fillmode": "overlay",
              "size": 10,
              "solidity": 0.2
             }
            },
            "type": "histogram"
           }
          ],
          "histogram2d": [
           {
            "colorbar": {
             "outlinewidth": 0,
             "ticks": ""
            },
            "colorscale": [
             [
              0,
              "#0d0887"
             ],
             [
              0.1111111111111111,
              "#46039f"
             ],
             [
              0.2222222222222222,
              "#7201a8"
             ],
             [
              0.3333333333333333,
              "#9c179e"
             ],
             [
              0.4444444444444444,
              "#bd3786"
             ],
             [
              0.5555555555555556,
              "#d8576b"
             ],
             [
              0.6666666666666666,
              "#ed7953"
             ],
             [
              0.7777777777777778,
              "#fb9f3a"
             ],
             [
              0.8888888888888888,
              "#fdca26"
             ],
             [
              1,
              "#f0f921"
             ]
            ],
            "type": "histogram2d"
           }
          ],
          "histogram2dcontour": [
           {
            "colorbar": {
             "outlinewidth": 0,
             "ticks": ""
            },
            "colorscale": [
             [
              0,
              "#0d0887"
             ],
             [
              0.1111111111111111,
              "#46039f"
             ],
             [
              0.2222222222222222,
              "#7201a8"
             ],
             [
              0.3333333333333333,
              "#9c179e"
             ],
             [
              0.4444444444444444,
              "#bd3786"
             ],
             [
              0.5555555555555556,
              "#d8576b"
             ],
             [
              0.6666666666666666,
              "#ed7953"
             ],
             [
              0.7777777777777778,
              "#fb9f3a"
             ],
             [
              0.8888888888888888,
              "#fdca26"
             ],
             [
              1,
              "#f0f921"
             ]
            ],
            "type": "histogram2dcontour"
           }
          ],
          "mesh3d": [
           {
            "colorbar": {
             "outlinewidth": 0,
             "ticks": ""
            },
            "type": "mesh3d"
           }
          ],
          "parcoords": [
           {
            "line": {
             "colorbar": {
              "outlinewidth": 0,
              "ticks": ""
             }
            },
            "type": "parcoords"
           }
          ],
          "pie": [
           {
            "automargin": true,
            "type": "pie"
           }
          ],
          "scatter": [
           {
            "fillpattern": {
             "fillmode": "overlay",
             "size": 10,
             "solidity": 0.2
            },
            "type": "scatter"
           }
          ],
          "scatter3d": [
           {
            "line": {
             "colorbar": {
              "outlinewidth": 0,
              "ticks": ""
             }
            },
            "marker": {
             "colorbar": {
              "outlinewidth": 0,
              "ticks": ""
             }
            },
            "type": "scatter3d"
           }
          ],
          "scattercarpet": [
           {
            "marker": {
             "colorbar": {
              "outlinewidth": 0,
              "ticks": ""
             }
            },
            "type": "scattercarpet"
           }
          ],
          "scattergeo": [
           {
            "marker": {
             "colorbar": {
              "outlinewidth": 0,
              "ticks": ""
             }
            },
            "type": "scattergeo"
           }
          ],
          "scattergl": [
           {
            "marker": {
             "colorbar": {
              "outlinewidth": 0,
              "ticks": ""
             }
            },
            "type": "scattergl"
           }
          ],
          "scattermapbox": [
           {
            "marker": {
             "colorbar": {
              "outlinewidth": 0,
              "ticks": ""
             }
            },
            "type": "scattermapbox"
           }
          ],
          "scatterpolar": [
           {
            "marker": {
             "colorbar": {
              "outlinewidth": 0,
              "ticks": ""
             }
            },
            "type": "scatterpolar"
           }
          ],
          "scatterpolargl": [
           {
            "marker": {
             "colorbar": {
              "outlinewidth": 0,
              "ticks": ""
             }
            },
            "type": "scatterpolargl"
           }
          ],
          "scatterternary": [
           {
            "marker": {
             "colorbar": {
              "outlinewidth": 0,
              "ticks": ""
             }
            },
            "type": "scatterternary"
           }
          ],
          "surface": [
           {
            "colorbar": {
             "outlinewidth": 0,
             "ticks": ""
            },
            "colorscale": [
             [
              0,
              "#0d0887"
             ],
             [
              0.1111111111111111,
              "#46039f"
             ],
             [
              0.2222222222222222,
              "#7201a8"
             ],
             [
              0.3333333333333333,
              "#9c179e"
             ],
             [
              0.4444444444444444,
              "#bd3786"
             ],
             [
              0.5555555555555556,
              "#d8576b"
             ],
             [
              0.6666666666666666,
              "#ed7953"
             ],
             [
              0.7777777777777778,
              "#fb9f3a"
             ],
             [
              0.8888888888888888,
              "#fdca26"
             ],
             [
              1,
              "#f0f921"
             ]
            ],
            "type": "surface"
           }
          ],
          "table": [
           {
            "cells": {
             "fill": {
              "color": "#EBF0F8"
             },
             "line": {
              "color": "white"
             }
            },
            "header": {
             "fill": {
              "color": "#C8D4E3"
             },
             "line": {
              "color": "white"
             }
            },
            "type": "table"
           }
          ]
         },
         "layout": {
          "annotationdefaults": {
           "arrowcolor": "#2a3f5f",
           "arrowhead": 0,
           "arrowwidth": 1
          },
          "autotypenumbers": "strict",
          "coloraxis": {
           "colorbar": {
            "outlinewidth": 0,
            "ticks": ""
           }
          },
          "colorscale": {
           "diverging": [
            [
             0,
             "#8e0152"
            ],
            [
             0.1,
             "#c51b7d"
            ],
            [
             0.2,
             "#de77ae"
            ],
            [
             0.3,
             "#f1b6da"
            ],
            [
             0.4,
             "#fde0ef"
            ],
            [
             0.5,
             "#f7f7f7"
            ],
            [
             0.6,
             "#e6f5d0"
            ],
            [
             0.7,
             "#b8e186"
            ],
            [
             0.8,
             "#7fbc41"
            ],
            [
             0.9,
             "#4d9221"
            ],
            [
             1,
             "#276419"
            ]
           ],
           "sequential": [
            [
             0,
             "#0d0887"
            ],
            [
             0.1111111111111111,
             "#46039f"
            ],
            [
             0.2222222222222222,
             "#7201a8"
            ],
            [
             0.3333333333333333,
             "#9c179e"
            ],
            [
             0.4444444444444444,
             "#bd3786"
            ],
            [
             0.5555555555555556,
             "#d8576b"
            ],
            [
             0.6666666666666666,
             "#ed7953"
            ],
            [
             0.7777777777777778,
             "#fb9f3a"
            ],
            [
             0.8888888888888888,
             "#fdca26"
            ],
            [
             1,
             "#f0f921"
            ]
           ],
           "sequentialminus": [
            [
             0,
             "#0d0887"
            ],
            [
             0.1111111111111111,
             "#46039f"
            ],
            [
             0.2222222222222222,
             "#7201a8"
            ],
            [
             0.3333333333333333,
             "#9c179e"
            ],
            [
             0.4444444444444444,
             "#bd3786"
            ],
            [
             0.5555555555555556,
             "#d8576b"
            ],
            [
             0.6666666666666666,
             "#ed7953"
            ],
            [
             0.7777777777777778,
             "#fb9f3a"
            ],
            [
             0.8888888888888888,
             "#fdca26"
            ],
            [
             1,
             "#f0f921"
            ]
           ]
          },
          "colorway": [
           "#636efa",
           "#EF553B",
           "#00cc96",
           "#ab63fa",
           "#FFA15A",
           "#19d3f3",
           "#FF6692",
           "#B6E880",
           "#FF97FF",
           "#FECB52"
          ],
          "font": {
           "color": "#2a3f5f"
          },
          "geo": {
           "bgcolor": "white",
           "lakecolor": "white",
           "landcolor": "#E5ECF6",
           "showlakes": true,
           "showland": true,
           "subunitcolor": "white"
          },
          "hoverlabel": {
           "align": "left"
          },
          "hovermode": "closest",
          "mapbox": {
           "style": "light"
          },
          "paper_bgcolor": "white",
          "plot_bgcolor": "#E5ECF6",
          "polar": {
           "angularaxis": {
            "gridcolor": "white",
            "linecolor": "white",
            "ticks": ""
           },
           "bgcolor": "#E5ECF6",
           "radialaxis": {
            "gridcolor": "white",
            "linecolor": "white",
            "ticks": ""
           }
          },
          "scene": {
           "xaxis": {
            "backgroundcolor": "#E5ECF6",
            "gridcolor": "white",
            "gridwidth": 2,
            "linecolor": "white",
            "showbackground": true,
            "ticks": "",
            "zerolinecolor": "white"
           },
           "yaxis": {
            "backgroundcolor": "#E5ECF6",
            "gridcolor": "white",
            "gridwidth": 2,
            "linecolor": "white",
            "showbackground": true,
            "ticks": "",
            "zerolinecolor": "white"
           },
           "zaxis": {
            "backgroundcolor": "#E5ECF6",
            "gridcolor": "white",
            "gridwidth": 2,
            "linecolor": "white",
            "showbackground": true,
            "ticks": "",
            "zerolinecolor": "white"
           }
          },
          "shapedefaults": {
           "line": {
            "color": "#2a3f5f"
           }
          },
          "ternary": {
           "aaxis": {
            "gridcolor": "white",
            "linecolor": "white",
            "ticks": ""
           },
           "baxis": {
            "gridcolor": "white",
            "linecolor": "white",
            "ticks": ""
           },
           "bgcolor": "#E5ECF6",
           "caxis": {
            "gridcolor": "white",
            "linecolor": "white",
            "ticks": ""
           }
          },
          "title": {
           "x": 0.05
          },
          "xaxis": {
           "automargin": true,
           "gridcolor": "white",
           "linecolor": "white",
           "ticks": "",
           "title": {
            "standoff": 15
           },
           "zerolinecolor": "white",
           "zerolinewidth": 2
          },
          "yaxis": {
           "automargin": true,
           "gridcolor": "white",
           "linecolor": "white",
           "ticks": "",
           "title": {
            "standoff": 15
           },
           "zerolinecolor": "white",
           "zerolinewidth": 2
          }
         }
        },
        "title": {
         "font": {
          "color": "white"
         },
         "text": "TOP 10 VIEWS dia",
         "x": 0.5
        },
        "xaxis": {
         "anchor": "y",
         "domain": [
          0,
          1
         ],
         "tickfont": {
          "color": "white"
         },
         "title": {
          "text": ""
         },
         "visible": false
        },
        "yaxis": {
         "anchor": "x",
         "categoryarray": [
          "Ucximgc-gmz2pxe_jggw2c9a",
          "Ucla_gqerstts74gxhms6tzw",
          "Ucrucdh_bcfx77xpxhyq2fjw",
          "Ucyeb5mbkz5jjzn0xbukyaig",
          "Uc1mk6etfmjxr4eez7c43ztq",
          "Uce9jri0yq5sm6h5qrz9fzla",
          "Ucotipyf8_rgzj1lptmvadaa",
          "Ucayih2y5jbeosubqoqhufda",
          "Ucfy4ggudpeecgscnepyyvsa",
          "Ucroh1v-fymunbimrkl0y0xq"
         ],
         "categoryorder": "array",
         "domain": [
          0,
          1
         ],
         "tickfont": {
          "color": "white",
          "size": 16
         },
         "ticklen": 1,
         "tickmode": "array",
         "title": {
          "text": ""
         }
        }
       }
      }
     },
     "metadata": {},
     "output_type": "display_data"
    }
   ],
   "source": [
    "fig = px.bar(\n",
    "    df_views_canal, \n",
    "    x='total_visualizacoes_turno',\n",
    "    y='id_canal', \n",
    "    orientation='h', \n",
    "    text_auto=True, \n",
    "    category_orders={'id_canal': df_views_canal['id_canal']}\n",
    ")\n",
    "fig.update_layout(\n",
    "    title_text='TOP 10 VIEWS dia',\n",
    "    showlegend=True,\n",
    "    title=dict(x=0.5, font=dict(color='white')),\n",
    "    plot_bgcolor='#1F2326',\n",
    "    margin=dict(l=10, r=20, t=40, b=20, pad=2),\n",
    "    paper_bgcolor='#1F2326',\n",
    "    yaxis=dict(title='', tickfont=dict(color='white', size=16), tickmode='array', ticklen=1),\n",
    "    xaxis=dict(title='', tickfont=dict(color='white'), visible=False),\n",
    "    legend=dict(font=dict(color='white'), orientation='h', y=4)\n",
    ")\n",
    "    \n",
    "fig.update_traces(\n",
    "    textfont_color='white',\n",
    "    marker_color='#F11A8E',\n",
    "    textfont_size=18,\n",
    "    textposition='outside',  \n",
    ")\n",
    "fig.show() "
   ]
  },
  {
   "cell_type": "markdown",
   "metadata": {},
   "source": [
    "# A duração do vídeo é importante para visualizações e interação (curtidas/comentários)?"
   ]
  },
  {
   "cell_type": "code",
   "execution_count": null,
   "metadata": {},
   "outputs": [],
   "source": [
    "tipos = {\n",
    "    'duracao_video_minutos': 'float',\n",
    "    'total_comentarios_turno' : 'int32',\n",
    "    'total_likes_turno': 'int32',\n",
    "    'total_visualizacoes_turno': 'int32'\n",
    "}"
   ]
  },
  {
   "cell_type": "code",
   "execution_count": null,
   "metadata": {},
   "outputs": [
    {
     "data": {
      "text/html": [
       "<div>\n",
       "<style scoped>\n",
       "    .dataframe tbody tr th:only-of-type {\n",
       "        vertical-align: middle;\n",
       "    }\n",
       "\n",
       "    .dataframe tbody tr th {\n",
       "        vertical-align: top;\n",
       "    }\n",
       "\n",
       "    .dataframe thead th {\n",
       "        text-align: right;\n",
       "    }\n",
       "</style>\n",
       "<table border=\"1\" class=\"dataframe\">\n",
       "  <thead>\n",
       "    <tr style=\"text-align: right;\">\n",
       "      <th></th>\n",
       "      <th>duracao_video_minutos</th>\n",
       "      <th>total_comentarios_turno</th>\n",
       "      <th>total_likes_turno</th>\n",
       "      <th>total_visualizacoes_turno</th>\n",
       "    </tr>\n",
       "  </thead>\n",
       "  <tbody>\n",
       "    <tr>\n",
       "      <th>0</th>\n",
       "      <td>0.00</td>\n",
       "      <td>0</td>\n",
       "      <td>50</td>\n",
       "      <td>0</td>\n",
       "    </tr>\n",
       "    <tr>\n",
       "      <th>1</th>\n",
       "      <td>0.00</td>\n",
       "      <td>0</td>\n",
       "      <td>50</td>\n",
       "      <td>0</td>\n",
       "    </tr>\n",
       "    <tr>\n",
       "      <th>2</th>\n",
       "      <td>0.00</td>\n",
       "      <td>0</td>\n",
       "      <td>50</td>\n",
       "      <td>0</td>\n",
       "    </tr>\n",
       "    <tr>\n",
       "      <th>3</th>\n",
       "      <td>26.88</td>\n",
       "      <td>3</td>\n",
       "      <td>165</td>\n",
       "      <td>2095</td>\n",
       "    </tr>\n",
       "    <tr>\n",
       "      <th>4</th>\n",
       "      <td>26.88</td>\n",
       "      <td>220</td>\n",
       "      <td>28</td>\n",
       "      <td>251</td>\n",
       "    </tr>\n",
       "  </tbody>\n",
       "</table>\n",
       "</div>"
      ],
      "text/plain": [
       "   duracao_video_minutos  total_comentarios_turno  total_likes_turno  \\\n",
       "0                   0.00                        0                 50   \n",
       "1                   0.00                        0                 50   \n",
       "2                   0.00                        0                 50   \n",
       "3                  26.88                        3                165   \n",
       "4                  26.88                      220                 28   \n",
       "\n",
       "   total_visualizacoes_turno  \n",
       "0                          0  \n",
       "1                          0  \n",
       "2                          0  \n",
       "3                       2095  \n",
       "4                        251  "
      ]
     },
     "execution_count": 42,
     "metadata": {},
     "output_type": "execute_result"
    }
   ],
   "source": [
    "df_duracao_video = pd.read_sql_query(\n",
    "    ' SELECT duracao_video_minutos, '\n",
    "    ' total_comentarios_turno,'\n",
    "    ' total_likes_turno, '\n",
    "    ' total_visualizacoes_turno'\n",
    "    ' FROM total_visualizacoes_por_semana '\n",
    "    ' WHERE ID_CANAL IN (\"UCrOH1V-FyMunBIMrKL0y0xQ\") '\n",
    "    '    AND data_extracao=\"2023-10-27\"  '\n",
    "    ,\n",
    "    con=engine,\n",
    "    dtype=tipos\n",
    "    )\n",
    "df_duracao_video.head()"
   ]
  },
  {
   "cell_type": "code",
   "execution_count": null,
   "metadata": {},
   "outputs": [
    {
     "data": {
      "application/vnd.plotly.v1+json": {
       "config": {
        "plotlyServerURL": "https://plot.ly"
       },
       "data": [
        {
         "hovertemplate": "duracao_video_minutos=%{x}<br>total_comentarios_turno=%{y}<extra></extra>",
         "legendgroup": "",
         "marker": {
          "color": "#636efa",
          "symbol": "circle"
         },
         "mode": "markers",
         "name": "",
         "orientation": "v",
         "showlegend": false,
         "type": "scatter",
         "x": [
          0,
          0,
          0,
          26.88,
          26.88,
          26.88,
          25.67,
          25.67,
          25.67,
          28.43,
          28.43,
          28.43,
          32.28,
          32.28,
          32.28,
          29.13,
          29.13,
          29.13,
          0,
          0,
          0,
          23.25,
          23.25,
          23.25,
          25.22,
          25.22,
          25.22,
          0,
          0,
          0,
          31.92,
          31.92,
          31.92,
          42.43,
          42.43,
          42.43,
          22.95,
          22.95,
          22.95,
          19.63,
          19.63,
          19.63,
          19.02,
          19.02,
          19.02,
          26.32,
          26.32,
          16.78,
          16.78,
          16.78,
          34.05,
          34.05,
          34.05,
          0,
          0,
          0,
          26.88,
          26.88,
          26.88,
          25.67,
          25.67,
          25.67,
          28.43,
          28.43,
          28.43,
          32.28,
          32.28,
          32.28,
          29.13,
          29.13,
          29.13,
          0,
          0,
          0,
          23.25,
          23.25,
          23.25,
          25.22,
          25.22,
          25.22,
          0,
          0,
          0,
          31.92,
          31.92,
          31.92,
          42.43,
          42.43,
          42.43,
          22.95,
          22.95,
          22.95,
          19.63,
          19.63,
          19.63,
          19.02,
          19.02,
          19.02,
          26.32,
          26.32,
          16.78,
          16.78,
          16.78,
          34.05,
          34.05,
          34.05
         ],
         "xaxis": "x",
         "y": [
          0,
          0,
          0,
          3,
          220,
          2,
          213,
          213,
          213,
          124,
          124,
          124,
          27,
          5,
          5,
          155,
          157,
          2,
          0,
          0,
          0,
          33,
          33,
          33,
          79,
          79,
          79,
          0,
          0,
          0,
          1,
          1,
          187,
          110,
          111,
          1,
          200,
          1,
          200,
          416,
          1,
          1,
          3,
          54,
          54,
          26,
          113,
          62,
          63,
          1,
          40,
          40,
          40,
          0,
          0,
          0,
          3,
          220,
          2,
          213,
          213,
          213,
          124,
          124,
          124,
          27,
          5,
          5,
          155,
          157,
          2,
          0,
          0,
          0,
          33,
          33,
          33,
          79,
          79,
          79,
          0,
          0,
          0,
          1,
          1,
          187,
          110,
          111,
          1,
          200,
          1,
          200,
          416,
          1,
          1,
          3,
          54,
          54,
          26,
          113,
          62,
          63,
          1,
          40,
          40,
          40
         ],
         "yaxis": "y"
        },
        {
         "hovertemplate": "<b>OLS trendline</b><br>total_comentarios_turno = 2.05203 * duracao_video_minutos + 22.9472<br>R<sup>2</sup>=0.077119<br><br>duracao_video_minutos=%{x}<br>total_comentarios_turno=%{y} <b>(trend)</b><extra></extra>",
         "legendgroup": "",
         "marker": {
          "color": "#636efa",
          "symbol": "circle"
         },
         "mode": "lines",
         "name": "",
         "showlegend": false,
         "type": "scatter",
         "x": [
          0,
          0,
          0,
          0,
          0,
          0,
          0,
          0,
          0,
          0,
          0,
          0,
          0,
          0,
          0,
          0,
          0,
          0,
          16.78,
          16.78,
          16.78,
          16.78,
          16.78,
          16.78,
          19.02,
          19.02,
          19.02,
          19.02,
          19.02,
          19.02,
          19.63,
          19.63,
          19.63,
          19.63,
          19.63,
          19.63,
          22.95,
          22.95,
          22.95,
          22.95,
          22.95,
          22.95,
          23.25,
          23.25,
          23.25,
          23.25,
          23.25,
          23.25,
          25.22,
          25.22,
          25.22,
          25.22,
          25.22,
          25.22,
          25.67,
          25.67,
          25.67,
          25.67,
          25.67,
          25.67,
          26.32,
          26.32,
          26.32,
          26.32,
          26.88,
          26.88,
          26.88,
          26.88,
          26.88,
          26.88,
          28.43,
          28.43,
          28.43,
          28.43,
          28.43,
          28.43,
          29.13,
          29.13,
          29.13,
          29.13,
          29.13,
          29.13,
          31.92,
          31.92,
          31.92,
          31.92,
          31.92,
          31.92,
          32.28,
          32.28,
          32.28,
          32.28,
          32.28,
          32.28,
          34.05,
          34.05,
          34.05,
          34.05,
          34.05,
          34.05,
          42.43,
          42.43,
          42.43,
          42.43,
          42.43,
          42.43
         ],
         "xaxis": "x",
         "y": [
          22.947187918227584,
          22.947187918227584,
          22.947187918227584,
          22.947187918227584,
          22.947187918227584,
          22.947187918227584,
          22.947187918227584,
          22.947187918227584,
          22.947187918227584,
          22.947187918227584,
          22.947187918227584,
          22.947187918227584,
          22.947187918227584,
          22.947187918227584,
          22.947187918227584,
          22.947187918227584,
          22.947187918227584,
          22.947187918227584,
          57.38017140012934,
          57.38017140012934,
          57.38017140012934,
          57.38017140012934,
          57.38017140012934,
          57.38017140012934,
          61.97670793168238,
          61.97670793168238,
          61.97670793168238,
          61.97670793168238,
          61.97670793168238,
          61.97670793168238,
          63.22844332643566,
          63.22844332643566,
          63.22844332643566,
          63.22844332643566,
          63.22844332643566,
          63.22844332643566,
          70.0411671142732,
          70.0411671142732,
          70.0411671142732,
          70.0411671142732,
          70.0411671142732,
          70.0411671142732,
          70.65677468546333,
          70.65677468546333,
          70.65677468546333,
          70.65677468546333,
          70.65677468546333,
          70.65677468546333,
          74.69926440294525,
          74.69926440294525,
          74.69926440294525,
          74.69926440294525,
          74.69926440294525,
          74.69926440294525,
          75.62267575973046,
          75.62267575973046,
          75.62267575973046,
          75.62267575973046,
          75.62267575973046,
          75.62267575973046,
          76.95649216397575,
          76.95649216397575,
          76.95649216397575,
          76.95649216397575,
          78.10562629686402,
          78.10562629686402,
          78.10562629686402,
          78.10562629686402,
          78.10562629686402,
          78.10562629686402,
          81.28626541467973,
          81.28626541467973,
          81.28626541467973,
          81.28626541467973,
          81.28626541467973,
          81.28626541467973,
          82.72268308079005,
          82.72268308079005,
          82.72268308079005,
          82.72268308079005,
          82.72268308079005,
          82.72268308079005,
          88.44783349285835,
          88.44783349285835,
          88.44783349285835,
          88.44783349285835,
          88.44783349285835,
          88.44783349285835,
          89.18656257828651,
          89.18656257828651,
          89.18656257828651,
          89.18656257828651,
          89.18656257828651,
          89.18656257828651,
          92.81864724830832,
          92.81864724830832,
          92.81864724830832,
          92.81864724830832,
          92.81864724830832,
          92.81864724830832,
          110.0146187368862,
          110.0146187368862,
          110.0146187368862,
          110.0146187368862,
          110.0146187368862,
          110.0146187368862
         ],
         "yaxis": "y"
        }
       ],
       "layout": {
        "legend": {
         "tracegroupgap": 0
        },
        "margin": {
         "t": 60
        },
        "template": {
         "data": {
          "bar": [
           {
            "error_x": {
             "color": "#2a3f5f"
            },
            "error_y": {
             "color": "#2a3f5f"
            },
            "marker": {
             "line": {
              "color": "#E5ECF6",
              "width": 0.5
             },
             "pattern": {
              "fillmode": "overlay",
              "size": 10,
              "solidity": 0.2
             }
            },
            "type": "bar"
           }
          ],
          "barpolar": [
           {
            "marker": {
             "line": {
              "color": "#E5ECF6",
              "width": 0.5
             },
             "pattern": {
              "fillmode": "overlay",
              "size": 10,
              "solidity": 0.2
             }
            },
            "type": "barpolar"
           }
          ],
          "carpet": [
           {
            "aaxis": {
             "endlinecolor": "#2a3f5f",
             "gridcolor": "white",
             "linecolor": "white",
             "minorgridcolor": "white",
             "startlinecolor": "#2a3f5f"
            },
            "baxis": {
             "endlinecolor": "#2a3f5f",
             "gridcolor": "white",
             "linecolor": "white",
             "minorgridcolor": "white",
             "startlinecolor": "#2a3f5f"
            },
            "type": "carpet"
           }
          ],
          "choropleth": [
           {
            "colorbar": {
             "outlinewidth": 0,
             "ticks": ""
            },
            "type": "choropleth"
           }
          ],
          "contour": [
           {
            "colorbar": {
             "outlinewidth": 0,
             "ticks": ""
            },
            "colorscale": [
             [
              0,
              "#0d0887"
             ],
             [
              0.1111111111111111,
              "#46039f"
             ],
             [
              0.2222222222222222,
              "#7201a8"
             ],
             [
              0.3333333333333333,
              "#9c179e"
             ],
             [
              0.4444444444444444,
              "#bd3786"
             ],
             [
              0.5555555555555556,
              "#d8576b"
             ],
             [
              0.6666666666666666,
              "#ed7953"
             ],
             [
              0.7777777777777778,
              "#fb9f3a"
             ],
             [
              0.8888888888888888,
              "#fdca26"
             ],
             [
              1,
              "#f0f921"
             ]
            ],
            "type": "contour"
           }
          ],
          "contourcarpet": [
           {
            "colorbar": {
             "outlinewidth": 0,
             "ticks": ""
            },
            "type": "contourcarpet"
           }
          ],
          "heatmap": [
           {
            "colorbar": {
             "outlinewidth": 0,
             "ticks": ""
            },
            "colorscale": [
             [
              0,
              "#0d0887"
             ],
             [
              0.1111111111111111,
              "#46039f"
             ],
             [
              0.2222222222222222,
              "#7201a8"
             ],
             [
              0.3333333333333333,
              "#9c179e"
             ],
             [
              0.4444444444444444,
              "#bd3786"
             ],
             [
              0.5555555555555556,
              "#d8576b"
             ],
             [
              0.6666666666666666,
              "#ed7953"
             ],
             [
              0.7777777777777778,
              "#fb9f3a"
             ],
             [
              0.8888888888888888,
              "#fdca26"
             ],
             [
              1,
              "#f0f921"
             ]
            ],
            "type": "heatmap"
           }
          ],
          "heatmapgl": [
           {
            "colorbar": {
             "outlinewidth": 0,
             "ticks": ""
            },
            "colorscale": [
             [
              0,
              "#0d0887"
             ],
             [
              0.1111111111111111,
              "#46039f"
             ],
             [
              0.2222222222222222,
              "#7201a8"
             ],
             [
              0.3333333333333333,
              "#9c179e"
             ],
             [
              0.4444444444444444,
              "#bd3786"
             ],
             [
              0.5555555555555556,
              "#d8576b"
             ],
             [
              0.6666666666666666,
              "#ed7953"
             ],
             [
              0.7777777777777778,
              "#fb9f3a"
             ],
             [
              0.8888888888888888,
              "#fdca26"
             ],
             [
              1,
              "#f0f921"
             ]
            ],
            "type": "heatmapgl"
           }
          ],
          "histogram": [
           {
            "marker": {
             "pattern": {
              "fillmode": "overlay",
              "size": 10,
              "solidity": 0.2
             }
            },
            "type": "histogram"
           }
          ],
          "histogram2d": [
           {
            "colorbar": {
             "outlinewidth": 0,
             "ticks": ""
            },
            "colorscale": [
             [
              0,
              "#0d0887"
             ],
             [
              0.1111111111111111,
              "#46039f"
             ],
             [
              0.2222222222222222,
              "#7201a8"
             ],
             [
              0.3333333333333333,
              "#9c179e"
             ],
             [
              0.4444444444444444,
              "#bd3786"
             ],
             [
              0.5555555555555556,
              "#d8576b"
             ],
             [
              0.6666666666666666,
              "#ed7953"
             ],
             [
              0.7777777777777778,
              "#fb9f3a"
             ],
             [
              0.8888888888888888,
              "#fdca26"
             ],
             [
              1,
              "#f0f921"
             ]
            ],
            "type": "histogram2d"
           }
          ],
          "histogram2dcontour": [
           {
            "colorbar": {
             "outlinewidth": 0,
             "ticks": ""
            },
            "colorscale": [
             [
              0,
              "#0d0887"
             ],
             [
              0.1111111111111111,
              "#46039f"
             ],
             [
              0.2222222222222222,
              "#7201a8"
             ],
             [
              0.3333333333333333,
              "#9c179e"
             ],
             [
              0.4444444444444444,
              "#bd3786"
             ],
             [
              0.5555555555555556,
              "#d8576b"
             ],
             [
              0.6666666666666666,
              "#ed7953"
             ],
             [
              0.7777777777777778,
              "#fb9f3a"
             ],
             [
              0.8888888888888888,
              "#fdca26"
             ],
             [
              1,
              "#f0f921"
             ]
            ],
            "type": "histogram2dcontour"
           }
          ],
          "mesh3d": [
           {
            "colorbar": {
             "outlinewidth": 0,
             "ticks": ""
            },
            "type": "mesh3d"
           }
          ],
          "parcoords": [
           {
            "line": {
             "colorbar": {
              "outlinewidth": 0,
              "ticks": ""
             }
            },
            "type": "parcoords"
           }
          ],
          "pie": [
           {
            "automargin": true,
            "type": "pie"
           }
          ],
          "scatter": [
           {
            "fillpattern": {
             "fillmode": "overlay",
             "size": 10,
             "solidity": 0.2
            },
            "type": "scatter"
           }
          ],
          "scatter3d": [
           {
            "line": {
             "colorbar": {
              "outlinewidth": 0,
              "ticks": ""
             }
            },
            "marker": {
             "colorbar": {
              "outlinewidth": 0,
              "ticks": ""
             }
            },
            "type": "scatter3d"
           }
          ],
          "scattercarpet": [
           {
            "marker": {
             "colorbar": {
              "outlinewidth": 0,
              "ticks": ""
             }
            },
            "type": "scattercarpet"
           }
          ],
          "scattergeo": [
           {
            "marker": {
             "colorbar": {
              "outlinewidth": 0,
              "ticks": ""
             }
            },
            "type": "scattergeo"
           }
          ],
          "scattergl": [
           {
            "marker": {
             "colorbar": {
              "outlinewidth": 0,
              "ticks": ""
             }
            },
            "type": "scattergl"
           }
          ],
          "scattermapbox": [
           {
            "marker": {
             "colorbar": {
              "outlinewidth": 0,
              "ticks": ""
             }
            },
            "type": "scattermapbox"
           }
          ],
          "scatterpolar": [
           {
            "marker": {
             "colorbar": {
              "outlinewidth": 0,
              "ticks": ""
             }
            },
            "type": "scatterpolar"
           }
          ],
          "scatterpolargl": [
           {
            "marker": {
             "colorbar": {
              "outlinewidth": 0,
              "ticks": ""
             }
            },
            "type": "scatterpolargl"
           }
          ],
          "scatterternary": [
           {
            "marker": {
             "colorbar": {
              "outlinewidth": 0,
              "ticks": ""
             }
            },
            "type": "scatterternary"
           }
          ],
          "surface": [
           {
            "colorbar": {
             "outlinewidth": 0,
             "ticks": ""
            },
            "colorscale": [
             [
              0,
              "#0d0887"
             ],
             [
              0.1111111111111111,
              "#46039f"
             ],
             [
              0.2222222222222222,
              "#7201a8"
             ],
             [
              0.3333333333333333,
              "#9c179e"
             ],
             [
              0.4444444444444444,
              "#bd3786"
             ],
             [
              0.5555555555555556,
              "#d8576b"
             ],
             [
              0.6666666666666666,
              "#ed7953"
             ],
             [
              0.7777777777777778,
              "#fb9f3a"
             ],
             [
              0.8888888888888888,
              "#fdca26"
             ],
             [
              1,
              "#f0f921"
             ]
            ],
            "type": "surface"
           }
          ],
          "table": [
           {
            "cells": {
             "fill": {
              "color": "#EBF0F8"
             },
             "line": {
              "color": "white"
             }
            },
            "header": {
             "fill": {
              "color": "#C8D4E3"
             },
             "line": {
              "color": "white"
             }
            },
            "type": "table"
           }
          ]
         },
         "layout": {
          "annotationdefaults": {
           "arrowcolor": "#2a3f5f",
           "arrowhead": 0,
           "arrowwidth": 1
          },
          "autotypenumbers": "strict",
          "coloraxis": {
           "colorbar": {
            "outlinewidth": 0,
            "ticks": ""
           }
          },
          "colorscale": {
           "diverging": [
            [
             0,
             "#8e0152"
            ],
            [
             0.1,
             "#c51b7d"
            ],
            [
             0.2,
             "#de77ae"
            ],
            [
             0.3,
             "#f1b6da"
            ],
            [
             0.4,
             "#fde0ef"
            ],
            [
             0.5,
             "#f7f7f7"
            ],
            [
             0.6,
             "#e6f5d0"
            ],
            [
             0.7,
             "#b8e186"
            ],
            [
             0.8,
             "#7fbc41"
            ],
            [
             0.9,
             "#4d9221"
            ],
            [
             1,
             "#276419"
            ]
           ],
           "sequential": [
            [
             0,
             "#0d0887"
            ],
            [
             0.1111111111111111,
             "#46039f"
            ],
            [
             0.2222222222222222,
             "#7201a8"
            ],
            [
             0.3333333333333333,
             "#9c179e"
            ],
            [
             0.4444444444444444,
             "#bd3786"
            ],
            [
             0.5555555555555556,
             "#d8576b"
            ],
            [
             0.6666666666666666,
             "#ed7953"
            ],
            [
             0.7777777777777778,
             "#fb9f3a"
            ],
            [
             0.8888888888888888,
             "#fdca26"
            ],
            [
             1,
             "#f0f921"
            ]
           ],
           "sequentialminus": [
            [
             0,
             "#0d0887"
            ],
            [
             0.1111111111111111,
             "#46039f"
            ],
            [
             0.2222222222222222,
             "#7201a8"
            ],
            [
             0.3333333333333333,
             "#9c179e"
            ],
            [
             0.4444444444444444,
             "#bd3786"
            ],
            [
             0.5555555555555556,
             "#d8576b"
            ],
            [
             0.6666666666666666,
             "#ed7953"
            ],
            [
             0.7777777777777778,
             "#fb9f3a"
            ],
            [
             0.8888888888888888,
             "#fdca26"
            ],
            [
             1,
             "#f0f921"
            ]
           ]
          },
          "colorway": [
           "#636efa",
           "#EF553B",
           "#00cc96",
           "#ab63fa",
           "#FFA15A",
           "#19d3f3",
           "#FF6692",
           "#B6E880",
           "#FF97FF",
           "#FECB52"
          ],
          "font": {
           "color": "#2a3f5f"
          },
          "geo": {
           "bgcolor": "white",
           "lakecolor": "white",
           "landcolor": "#E5ECF6",
           "showlakes": true,
           "showland": true,
           "subunitcolor": "white"
          },
          "hoverlabel": {
           "align": "left"
          },
          "hovermode": "closest",
          "mapbox": {
           "style": "light"
          },
          "paper_bgcolor": "white",
          "plot_bgcolor": "#E5ECF6",
          "polar": {
           "angularaxis": {
            "gridcolor": "white",
            "linecolor": "white",
            "ticks": ""
           },
           "bgcolor": "#E5ECF6",
           "radialaxis": {
            "gridcolor": "white",
            "linecolor": "white",
            "ticks": ""
           }
          },
          "scene": {
           "xaxis": {
            "backgroundcolor": "#E5ECF6",
            "gridcolor": "white",
            "gridwidth": 2,
            "linecolor": "white",
            "showbackground": true,
            "ticks": "",
            "zerolinecolor": "white"
           },
           "yaxis": {
            "backgroundcolor": "#E5ECF6",
            "gridcolor": "white",
            "gridwidth": 2,
            "linecolor": "white",
            "showbackground": true,
            "ticks": "",
            "zerolinecolor": "white"
           },
           "zaxis": {
            "backgroundcolor": "#E5ECF6",
            "gridcolor": "white",
            "gridwidth": 2,
            "linecolor": "white",
            "showbackground": true,
            "ticks": "",
            "zerolinecolor": "white"
           }
          },
          "shapedefaults": {
           "line": {
            "color": "#2a3f5f"
           }
          },
          "ternary": {
           "aaxis": {
            "gridcolor": "white",
            "linecolor": "white",
            "ticks": ""
           },
           "baxis": {
            "gridcolor": "white",
            "linecolor": "white",
            "ticks": ""
           },
           "bgcolor": "#E5ECF6",
           "caxis": {
            "gridcolor": "white",
            "linecolor": "white",
            "ticks": ""
           }
          },
          "title": {
           "x": 0.05
          },
          "xaxis": {
           "automargin": true,
           "gridcolor": "white",
           "linecolor": "white",
           "ticks": "",
           "title": {
            "standoff": 15
           },
           "zerolinecolor": "white",
           "zerolinewidth": 2
          },
          "yaxis": {
           "automargin": true,
           "gridcolor": "white",
           "linecolor": "white",
           "ticks": "",
           "title": {
            "standoff": 15
           },
           "zerolinecolor": "white",
           "zerolinewidth": 2
          }
         }
        },
        "xaxis": {
         "anchor": "y",
         "domain": [
          0,
          1
         ],
         "title": {
          "text": "DURACAO_VIDEO_MINUTOS"
         }
        },
        "yaxis": {
         "anchor": "x",
         "domain": [
          0,
          1
         ],
         "title": {
          "text": "TOTAL_LIKES"
         }
        }
       }
      }
     },
     "metadata": {},
     "output_type": "display_data"
    }
   ],
   "source": [
    "fig = px.scatter(df_duracao_video, x='duracao_video_minutos', y='total_comentarios_turno', trendline='ols')\n",
    "fig.update_xaxes(title_text='DURACAO_VIDEO_MINUTOS', row=1, col=1)\n",
    "fig.update_yaxes(title_text='TOTAL_LIKES', row=1, col=1)\n",
    "fig.show()"
   ]
  },
  {
   "cell_type": "code",
   "execution_count": null,
   "metadata": {},
   "outputs": [
    {
     "name": "stdout",
     "output_type": "stream",
     "text": [
      "                            OLS Regression Results                            \n",
      "==============================================================================\n",
      "Dep. Variable:                      y   R-squared:                       0.077\n",
      "Model:                            OLS   Adj. R-squared:                  0.068\n",
      "Method:                 Least Squares   F-statistic:                     8.691\n",
      "Date:                Mon, 11 Dec 2023   Prob (F-statistic):            0.00395\n",
      "Time:                        21:11:09   Log-Likelihood:                -618.75\n",
      "No. Observations:                 106   AIC:                             1241.\n",
      "Df Residuals:                     104   BIC:                             1247.\n",
      "Df Model:                           1                                         \n",
      "Covariance Type:            nonrobust                                         \n",
      "==============================================================================\n",
      "                 coef    std err          t      P>|t|      [0.025      0.975]\n",
      "------------------------------------------------------------------------------\n",
      "const         22.9472     17.567      1.306      0.194     -11.890      57.784\n",
      "x1             2.0520      0.696      2.948      0.004       0.672       3.432\n",
      "==============================================================================\n",
      "Omnibus:                       50.043   Durbin-Watson:                   1.781\n",
      "Prob(Omnibus):                  0.000   Jarque-Bera (JB):              136.303\n",
      "Skew:                           1.767   Prob(JB):                     2.52e-30\n",
      "Kurtosis:                       7.287   Cond. No.                         54.6\n",
      "==============================================================================\n",
      "\n",
      "Notes:\n",
      "[1] Standard Errors assume that the covariance matrix of the errors is correctly specified.\n"
     ]
    }
   ],
   "source": [
    "results = px.get_trendline_results(fig)\n",
    "\n",
    "print(results.px_fit_results.iloc[0].summary())"
   ]
  },
  {
   "cell_type": "code",
   "execution_count": null,
   "metadata": {},
   "outputs": [
    {
     "data": {
      "application/vnd.plotly.v1+json": {
       "config": {
        "plotlyServerURL": "https://plot.ly"
       },
       "data": [
        {
         "hovertemplate": "duracao_video_minutos=%{x}<br>total_likes=%{y}<extra></extra>",
         "legendgroup": "",
         "marker": {
          "color": "#636efa",
          "symbol": "circle"
         },
         "mode": "markers",
         "name": "",
         "orientation": "v",
         "showlegend": false,
         "type": "scatter",
         "x": [
          0,
          26.88,
          25.67,
          28.43,
          32.28,
          29.13,
          0,
          23.25,
          25.22,
          0,
          31.92,
          42.43,
          22.95,
          19.63,
          19.02,
          26.32,
          16.78,
          34.05,
          0,
          26.88,
          25.67,
          28.43,
          32.28,
          29.13,
          0,
          23.25,
          25.22,
          0,
          31.92,
          42.43,
          22.95,
          19.63,
          19.02,
          26.32,
          16.78,
          34.05
         ],
         "xaxis": "x",
         "y": [
          50,
          5600,
          6855,
          6448,
          5046,
          6330,
          51,
          1078,
          2418,
          149,
          8978,
          3382,
          7321,
          13988,
          1368,
          2753,
          1950,
          2441,
          50,
          5600,
          6855,
          6448,
          5046,
          6330,
          51,
          1078,
          2418,
          149,
          8978,
          3382,
          7321,
          13988,
          1368,
          2753,
          1950,
          2441
         ],
         "yaxis": "y"
        },
        {
         "hovertemplate": "duracao_video_minutos=%{x}<br>total_comentarios=%{y}<extra></extra>",
         "legendgroup": "",
         "marker": {
          "color": "#636efa",
          "symbol": "circle"
         },
         "mode": "markers",
         "name": "",
         "orientation": "v",
         "showlegend": false,
         "type": "scatter",
         "x": [
          0,
          26.88,
          25.67,
          28.43,
          32.28,
          29.13,
          0,
          23.25,
          25.22,
          0,
          31.92,
          42.43,
          22.95,
          19.63,
          19.02,
          26.32,
          16.78,
          34.05,
          0,
          26.88,
          25.67,
          28.43,
          32.28,
          29.13,
          0,
          23.25,
          25.22,
          0,
          31.92,
          42.43,
          22.95,
          19.63,
          19.02,
          26.32,
          16.78,
          34.05
         ],
         "xaxis": "x2",
         "y": [
          0,
          220,
          213,
          124,
          180,
          157,
          0,
          33,
          79,
          0,
          188,
          111,
          201,
          418,
          54,
          139,
          63,
          40,
          0,
          220,
          213,
          124,
          180,
          157,
          0,
          33,
          79,
          0,
          188,
          111,
          201,
          418,
          54,
          139,
          63,
          40
         ],
         "yaxis": "y2"
        },
        {
         "hovertemplate": "duracao_video_minutos=%{x}<br>total_visualizacoes=%{y}<extra></extra>",
         "legendgroup": "",
         "marker": {
          "color": "#636efa",
          "symbol": "circle"
         },
         "mode": "markers",
         "name": "",
         "orientation": "v",
         "showlegend": false,
         "type": "scatter",
         "x": [
          0,
          26.88,
          25.67,
          28.43,
          32.28,
          29.13,
          0,
          23.25,
          25.22,
          0,
          31.92,
          42.43,
          22.95,
          19.63,
          19.02,
          26.32,
          16.78,
          34.05,
          0,
          26.88,
          25.67,
          28.43,
          32.28,
          29.13,
          0,
          23.25,
          25.22,
          0,
          31.92,
          42.43,
          22.95,
          19.63,
          19.02,
          26.32,
          16.78,
          34.05
         ],
         "xaxis": "x3",
         "y": [
          0,
          42650,
          54375,
          50789,
          39265,
          50480,
          0,
          9540,
          18599,
          0,
          71357,
          33628,
          60786,
          120812,
          18620,
          15805,
          19942,
          24021,
          0,
          42650,
          54375,
          50789,
          39265,
          50480,
          0,
          9540,
          18599,
          0,
          71357,
          33628,
          60786,
          120812,
          18620,
          15805,
          19942,
          24021
         ],
         "yaxis": "y3"
        }
       ],
       "layout": {
        "annotations": [
         {
          "font": {
           "size": 16
          },
          "showarrow": false,
          "text": "DURACAO_VIDEO_MINUTOS X TOTAL_LIKES",
          "x": 0.14444444444444446,
          "xanchor": "center",
          "xref": "paper",
          "y": 1,
          "yanchor": "bottom",
          "yref": "paper"
         },
         {
          "font": {
           "size": 16
          },
          "showarrow": false,
          "text": "DURACAO_VIDEO_MINUTOS X TOTAL_COMENTARIOS",
          "x": 0.5,
          "xanchor": "center",
          "xref": "paper",
          "y": 1,
          "yanchor": "bottom",
          "yref": "paper"
         },
         {
          "font": {
           "size": 16
          },
          "showarrow": false,
          "text": "DURACAO_VIDEO_MINUTOS X TOTAL_VISUALIZACOES",
          "x": 0.8555555555555556,
          "xanchor": "center",
          "xref": "paper",
          "y": 1,
          "yanchor": "bottom",
          "yref": "paper"
         }
        ],
        "showlegend": true,
        "template": {
         "data": {
          "bar": [
           {
            "error_x": {
             "color": "#2a3f5f"
            },
            "error_y": {
             "color": "#2a3f5f"
            },
            "marker": {
             "line": {
              "color": "#E5ECF6",
              "width": 0.5
             },
             "pattern": {
              "fillmode": "overlay",
              "size": 10,
              "solidity": 0.2
             }
            },
            "type": "bar"
           }
          ],
          "barpolar": [
           {
            "marker": {
             "line": {
              "color": "#E5ECF6",
              "width": 0.5
             },
             "pattern": {
              "fillmode": "overlay",
              "size": 10,
              "solidity": 0.2
             }
            },
            "type": "barpolar"
           }
          ],
          "carpet": [
           {
            "aaxis": {
             "endlinecolor": "#2a3f5f",
             "gridcolor": "white",
             "linecolor": "white",
             "minorgridcolor": "white",
             "startlinecolor": "#2a3f5f"
            },
            "baxis": {
             "endlinecolor": "#2a3f5f",
             "gridcolor": "white",
             "linecolor": "white",
             "minorgridcolor": "white",
             "startlinecolor": "#2a3f5f"
            },
            "type": "carpet"
           }
          ],
          "choropleth": [
           {
            "colorbar": {
             "outlinewidth": 0,
             "ticks": ""
            },
            "type": "choropleth"
           }
          ],
          "contour": [
           {
            "colorbar": {
             "outlinewidth": 0,
             "ticks": ""
            },
            "colorscale": [
             [
              0,
              "#0d0887"
             ],
             [
              0.1111111111111111,
              "#46039f"
             ],
             [
              0.2222222222222222,
              "#7201a8"
             ],
             [
              0.3333333333333333,
              "#9c179e"
             ],
             [
              0.4444444444444444,
              "#bd3786"
             ],
             [
              0.5555555555555556,
              "#d8576b"
             ],
             [
              0.6666666666666666,
              "#ed7953"
             ],
             [
              0.7777777777777778,
              "#fb9f3a"
             ],
             [
              0.8888888888888888,
              "#fdca26"
             ],
             [
              1,
              "#f0f921"
             ]
            ],
            "type": "contour"
           }
          ],
          "contourcarpet": [
           {
            "colorbar": {
             "outlinewidth": 0,
             "ticks": ""
            },
            "type": "contourcarpet"
           }
          ],
          "heatmap": [
           {
            "colorbar": {
             "outlinewidth": 0,
             "ticks": ""
            },
            "colorscale": [
             [
              0,
              "#0d0887"
             ],
             [
              0.1111111111111111,
              "#46039f"
             ],
             [
              0.2222222222222222,
              "#7201a8"
             ],
             [
              0.3333333333333333,
              "#9c179e"
             ],
             [
              0.4444444444444444,
              "#bd3786"
             ],
             [
              0.5555555555555556,
              "#d8576b"
             ],
             [
              0.6666666666666666,
              "#ed7953"
             ],
             [
              0.7777777777777778,
              "#fb9f3a"
             ],
             [
              0.8888888888888888,
              "#fdca26"
             ],
             [
              1,
              "#f0f921"
             ]
            ],
            "type": "heatmap"
           }
          ],
          "heatmapgl": [
           {
            "colorbar": {
             "outlinewidth": 0,
             "ticks": ""
            },
            "colorscale": [
             [
              0,
              "#0d0887"
             ],
             [
              0.1111111111111111,
              "#46039f"
             ],
             [
              0.2222222222222222,
              "#7201a8"
             ],
             [
              0.3333333333333333,
              "#9c179e"
             ],
             [
              0.4444444444444444,
              "#bd3786"
             ],
             [
              0.5555555555555556,
              "#d8576b"
             ],
             [
              0.6666666666666666,
              "#ed7953"
             ],
             [
              0.7777777777777778,
              "#fb9f3a"
             ],
             [
              0.8888888888888888,
              "#fdca26"
             ],
             [
              1,
              "#f0f921"
             ]
            ],
            "type": "heatmapgl"
           }
          ],
          "histogram": [
           {
            "marker": {
             "pattern": {
              "fillmode": "overlay",
              "size": 10,
              "solidity": 0.2
             }
            },
            "type": "histogram"
           }
          ],
          "histogram2d": [
           {
            "colorbar": {
             "outlinewidth": 0,
             "ticks": ""
            },
            "colorscale": [
             [
              0,
              "#0d0887"
             ],
             [
              0.1111111111111111,
              "#46039f"
             ],
             [
              0.2222222222222222,
              "#7201a8"
             ],
             [
              0.3333333333333333,
              "#9c179e"
             ],
             [
              0.4444444444444444,
              "#bd3786"
             ],
             [
              0.5555555555555556,
              "#d8576b"
             ],
             [
              0.6666666666666666,
              "#ed7953"
             ],
             [
              0.7777777777777778,
              "#fb9f3a"
             ],
             [
              0.8888888888888888,
              "#fdca26"
             ],
             [
              1,
              "#f0f921"
             ]
            ],
            "type": "histogram2d"
           }
          ],
          "histogram2dcontour": [
           {
            "colorbar": {
             "outlinewidth": 0,
             "ticks": ""
            },
            "colorscale": [
             [
              0,
              "#0d0887"
             ],
             [
              0.1111111111111111,
              "#46039f"
             ],
             [
              0.2222222222222222,
              "#7201a8"
             ],
             [
              0.3333333333333333,
              "#9c179e"
             ],
             [
              0.4444444444444444,
              "#bd3786"
             ],
             [
              0.5555555555555556,
              "#d8576b"
             ],
             [
              0.6666666666666666,
              "#ed7953"
             ],
             [
              0.7777777777777778,
              "#fb9f3a"
             ],
             [
              0.8888888888888888,
              "#fdca26"
             ],
             [
              1,
              "#f0f921"
             ]
            ],
            "type": "histogram2dcontour"
           }
          ],
          "mesh3d": [
           {
            "colorbar": {
             "outlinewidth": 0,
             "ticks": ""
            },
            "type": "mesh3d"
           }
          ],
          "parcoords": [
           {
            "line": {
             "colorbar": {
              "outlinewidth": 0,
              "ticks": ""
             }
            },
            "type": "parcoords"
           }
          ],
          "pie": [
           {
            "automargin": true,
            "type": "pie"
           }
          ],
          "scatter": [
           {
            "fillpattern": {
             "fillmode": "overlay",
             "size": 10,
             "solidity": 0.2
            },
            "type": "scatter"
           }
          ],
          "scatter3d": [
           {
            "line": {
             "colorbar": {
              "outlinewidth": 0,
              "ticks": ""
             }
            },
            "marker": {
             "colorbar": {
              "outlinewidth": 0,
              "ticks": ""
             }
            },
            "type": "scatter3d"
           }
          ],
          "scattercarpet": [
           {
            "marker": {
             "colorbar": {
              "outlinewidth": 0,
              "ticks": ""
             }
            },
            "type": "scattercarpet"
           }
          ],
          "scattergeo": [
           {
            "marker": {
             "colorbar": {
              "outlinewidth": 0,
              "ticks": ""
             }
            },
            "type": "scattergeo"
           }
          ],
          "scattergl": [
           {
            "marker": {
             "colorbar": {
              "outlinewidth": 0,
              "ticks": ""
             }
            },
            "type": "scattergl"
           }
          ],
          "scattermapbox": [
           {
            "marker": {
             "colorbar": {
              "outlinewidth": 0,
              "ticks": ""
             }
            },
            "type": "scattermapbox"
           }
          ],
          "scatterpolar": [
           {
            "marker": {
             "colorbar": {
              "outlinewidth": 0,
              "ticks": ""
             }
            },
            "type": "scatterpolar"
           }
          ],
          "scatterpolargl": [
           {
            "marker": {
             "colorbar": {
              "outlinewidth": 0,
              "ticks": ""
             }
            },
            "type": "scatterpolargl"
           }
          ],
          "scatterternary": [
           {
            "marker": {
             "colorbar": {
              "outlinewidth": 0,
              "ticks": ""
             }
            },
            "type": "scatterternary"
           }
          ],
          "surface": [
           {
            "colorbar": {
             "outlinewidth": 0,
             "ticks": ""
            },
            "colorscale": [
             [
              0,
              "#0d0887"
             ],
             [
              0.1111111111111111,
              "#46039f"
             ],
             [
              0.2222222222222222,
              "#7201a8"
             ],
             [
              0.3333333333333333,
              "#9c179e"
             ],
             [
              0.4444444444444444,
              "#bd3786"
             ],
             [
              0.5555555555555556,
              "#d8576b"
             ],
             [
              0.6666666666666666,
              "#ed7953"
             ],
             [
              0.7777777777777778,
              "#fb9f3a"
             ],
             [
              0.8888888888888888,
              "#fdca26"
             ],
             [
              1,
              "#f0f921"
             ]
            ],
            "type": "surface"
           }
          ],
          "table": [
           {
            "cells": {
             "fill": {
              "color": "#EBF0F8"
             },
             "line": {
              "color": "white"
             }
            },
            "header": {
             "fill": {
              "color": "#C8D4E3"
             },
             "line": {
              "color": "white"
             }
            },
            "type": "table"
           }
          ]
         },
         "layout": {
          "annotationdefaults": {
           "arrowcolor": "#2a3f5f",
           "arrowhead": 0,
           "arrowwidth": 1
          },
          "autotypenumbers": "strict",
          "coloraxis": {
           "colorbar": {
            "outlinewidth": 0,
            "ticks": ""
           }
          },
          "colorscale": {
           "diverging": [
            [
             0,
             "#8e0152"
            ],
            [
             0.1,
             "#c51b7d"
            ],
            [
             0.2,
             "#de77ae"
            ],
            [
             0.3,
             "#f1b6da"
            ],
            [
             0.4,
             "#fde0ef"
            ],
            [
             0.5,
             "#f7f7f7"
            ],
            [
             0.6,
             "#e6f5d0"
            ],
            [
             0.7,
             "#b8e186"
            ],
            [
             0.8,
             "#7fbc41"
            ],
            [
             0.9,
             "#4d9221"
            ],
            [
             1,
             "#276419"
            ]
           ],
           "sequential": [
            [
             0,
             "#0d0887"
            ],
            [
             0.1111111111111111,
             "#46039f"
            ],
            [
             0.2222222222222222,
             "#7201a8"
            ],
            [
             0.3333333333333333,
             "#9c179e"
            ],
            [
             0.4444444444444444,
             "#bd3786"
            ],
            [
             0.5555555555555556,
             "#d8576b"
            ],
            [
             0.6666666666666666,
             "#ed7953"
            ],
            [
             0.7777777777777778,
             "#fb9f3a"
            ],
            [
             0.8888888888888888,
             "#fdca26"
            ],
            [
             1,
             "#f0f921"
            ]
           ],
           "sequentialminus": [
            [
             0,
             "#0d0887"
            ],
            [
             0.1111111111111111,
             "#46039f"
            ],
            [
             0.2222222222222222,
             "#7201a8"
            ],
            [
             0.3333333333333333,
             "#9c179e"
            ],
            [
             0.4444444444444444,
             "#bd3786"
            ],
            [
             0.5555555555555556,
             "#d8576b"
            ],
            [
             0.6666666666666666,
             "#ed7953"
            ],
            [
             0.7777777777777778,
             "#fb9f3a"
            ],
            [
             0.8888888888888888,
             "#fdca26"
            ],
            [
             1,
             "#f0f921"
            ]
           ]
          },
          "colorway": [
           "#636efa",
           "#EF553B",
           "#00cc96",
           "#ab63fa",
           "#FFA15A",
           "#19d3f3",
           "#FF6692",
           "#B6E880",
           "#FF97FF",
           "#FECB52"
          ],
          "font": {
           "color": "#2a3f5f"
          },
          "geo": {
           "bgcolor": "white",
           "lakecolor": "white",
           "landcolor": "#E5ECF6",
           "showlakes": true,
           "showland": true,
           "subunitcolor": "white"
          },
          "hoverlabel": {
           "align": "left"
          },
          "hovermode": "closest",
          "mapbox": {
           "style": "light"
          },
          "paper_bgcolor": "white",
          "plot_bgcolor": "#E5ECF6",
          "polar": {
           "angularaxis": {
            "gridcolor": "white",
            "linecolor": "white",
            "ticks": ""
           },
           "bgcolor": "#E5ECF6",
           "radialaxis": {
            "gridcolor": "white",
            "linecolor": "white",
            "ticks": ""
           }
          },
          "scene": {
           "xaxis": {
            "backgroundcolor": "#E5ECF6",
            "gridcolor": "white",
            "gridwidth": 2,
            "linecolor": "white",
            "showbackground": true,
            "ticks": "",
            "zerolinecolor": "white"
           },
           "yaxis": {
            "backgroundcolor": "#E5ECF6",
            "gridcolor": "white",
            "gridwidth": 2,
            "linecolor": "white",
            "showbackground": true,
            "ticks": "",
            "zerolinecolor": "white"
           },
           "zaxis": {
            "backgroundcolor": "#E5ECF6",
            "gridcolor": "white",
            "gridwidth": 2,
            "linecolor": "white",
            "showbackground": true,
            "ticks": "",
            "zerolinecolor": "white"
           }
          },
          "shapedefaults": {
           "line": {
            "color": "#2a3f5f"
           }
          },
          "ternary": {
           "aaxis": {
            "gridcolor": "white",
            "linecolor": "white",
            "ticks": ""
           },
           "baxis": {
            "gridcolor": "white",
            "linecolor": "white",
            "ticks": ""
           },
           "bgcolor": "#E5ECF6",
           "caxis": {
            "gridcolor": "white",
            "linecolor": "white",
            "ticks": ""
           }
          },
          "title": {
           "x": 0.05
          },
          "xaxis": {
           "automargin": true,
           "gridcolor": "white",
           "linecolor": "white",
           "ticks": "",
           "title": {
            "standoff": 15
           },
           "zerolinecolor": "white",
           "zerolinewidth": 2
          },
          "yaxis": {
           "automargin": true,
           "gridcolor": "white",
           "linecolor": "white",
           "ticks": "",
           "title": {
            "standoff": 15
           },
           "zerolinecolor": "white",
           "zerolinewidth": 2
          }
         }
        },
        "title": {
         "text": "Desenpenho Canal"
        },
        "xaxis": {
         "anchor": "y",
         "domain": [
          0,
          0.2888888888888889
         ],
         "title": {
          "text": "DURACAO_VIDEO_MINUTOS"
         }
        },
        "xaxis2": {
         "anchor": "y2",
         "domain": [
          0.35555555555555557,
          0.6444444444444445
         ],
         "title": {
          "text": "DURACAO_VIDEO_MINUTOS"
         }
        },
        "xaxis3": {
         "anchor": "y3",
         "domain": [
          0.7111111111111111,
          1
         ],
         "title": {
          "text": "DURACAO_VIDEO_MINUTOS"
         }
        },
        "yaxis": {
         "anchor": "x",
         "domain": [
          0,
          1
         ],
         "title": {
          "text": "TOTAL_LIKES"
         }
        },
        "yaxis2": {
         "anchor": "x2",
         "domain": [
          0,
          1
         ],
         "title": {
          "text": "TOTAL_COMENTARIOS"
         }
        },
        "yaxis3": {
         "anchor": "x3",
         "domain": [
          0,
          1
         ],
         "title": {
          "text": "TOTAL_VISUALIZACOES"
         }
        }
       }
      }
     },
     "metadata": {},
     "output_type": "display_data"
    }
   ],
   "source": [
    "fig = make_subplots(rows=1, cols=3, subplot_titles=['DURACAO_VIDEO_MINUTOS X TOTAL_LIKES', 'DURACAO_VIDEO_MINUTOS X TOTAL_COMENTARIOS', 'DURACAO_VIDEO_MINUTOS X TOTAL_VISUALIZACOES'])\n",
    "sc1 = px.scatter(df_duracao_video, x='duracao_video_minutos', y='total_likes',)\n",
    "fig.add_trace(sc1['data'][0], row=1, col=1)\n",
    "fig.update_xaxes(title_text='DURACAO_VIDEO_MINUTOS', row=1, col=1)\n",
    "fig.update_yaxes(title_text='TOTAL_LIKES', row=1, col=1)\n",
    "\n",
    "sc2 = px.scatter(df_duracao_video, x='duracao_video_minutos', y='total_comentarios')\n",
    "fig.add_trace(sc2['data'][0], row=1, col=2)\n",
    "fig.update_xaxes(title_text='DURACAO_VIDEO_MINUTOS', row=1, col=2)\n",
    "fig.update_yaxes(title_text='TOTAL_COMENTARIOS', row=1, col=2)\n",
    "fig.update_layout(title_text='Desenpenho Canal', showlegend=True)\n",
    "\n",
    "sc3 = px.scatter(df_duracao_video, x='duracao_video_minutos', y='total_visualizacoes')\n",
    "fig.add_trace(sc3['data'][0], row=1, col=3)\n",
    "fig.update_xaxes(title_text='DURACAO_VIDEO_MINUTOS', row=1, col=3)\n",
    "fig.update_yaxes(title_text='TOTAL_VISUALIZACOES', row=1, col=3)\n",
    "fig.update_layout(title_text='Desenpenho Canal', showlegend=True)\n"
   ]
  },
  {
   "cell_type": "markdown",
   "metadata": {},
   "source": [
    "# Desepenho dos Canais (like, comentários, vísualizações) Faça Comparação\n"
   ]
  },
  {
   "cell_type": "code",
   "execution_count": null,
   "metadata": {},
   "outputs": [],
   "source": [
    "tipos = {\n",
    "    'data_extracao': 'datetime64[ns]',\n",
    "    'id_canal': 'string',\n",
    "    'total_visualizacoes_turno' : 'int32',\n",
    "    'total_likes_turno' : 'int32',\n",
    "    'total_comentarios_turno' : 'int32'\n",
    "}"
   ]
  },
  {
   "cell_type": "code",
   "execution_count": null,
   "metadata": {},
   "outputs": [
    {
     "data": {
      "text/html": [
       "<div>\n",
       "<style scoped>\n",
       "    .dataframe tbody tr th:only-of-type {\n",
       "        vertical-align: middle;\n",
       "    }\n",
       "\n",
       "    .dataframe tbody tr th {\n",
       "        vertical-align: top;\n",
       "    }\n",
       "\n",
       "    .dataframe thead th {\n",
       "        text-align: right;\n",
       "    }\n",
       "</style>\n",
       "<table border=\"1\" class=\"dataframe\">\n",
       "  <thead>\n",
       "    <tr style=\"text-align: right;\">\n",
       "      <th></th>\n",
       "      <th>data_extracao</th>\n",
       "      <th>id_canal</th>\n",
       "      <th>total_visualizacoes_turno</th>\n",
       "      <th>total_likes_turno</th>\n",
       "      <th>total_comentarios_turno</th>\n",
       "    </tr>\n",
       "  </thead>\n",
       "  <tbody>\n",
       "    <tr>\n",
       "      <th>0</th>\n",
       "      <td>2023-10-15</td>\n",
       "      <td>UCrOH1V-FyMunBIMrKL0y0xQ</td>\n",
       "      <td>1608</td>\n",
       "      <td>156</td>\n",
       "      <td>23</td>\n",
       "    </tr>\n",
       "    <tr>\n",
       "      <th>1</th>\n",
       "      <td>2023-10-15</td>\n",
       "      <td>UCrOH1V-FyMunBIMrKL0y0xQ</td>\n",
       "      <td>2954</td>\n",
       "      <td>531</td>\n",
       "      <td>23</td>\n",
       "    </tr>\n",
       "    <tr>\n",
       "      <th>2</th>\n",
       "      <td>2023-10-16</td>\n",
       "      <td>UCrOH1V-FyMunBIMrKL0y0xQ</td>\n",
       "      <td>1907</td>\n",
       "      <td>139</td>\n",
       "      <td>4</td>\n",
       "    </tr>\n",
       "    <tr>\n",
       "      <th>3</th>\n",
       "      <td>2023-10-16</td>\n",
       "      <td>UCrOH1V-FyMunBIMrKL0y0xQ</td>\n",
       "      <td>269</td>\n",
       "      <td>31</td>\n",
       "      <td>1</td>\n",
       "    </tr>\n",
       "    <tr>\n",
       "      <th>4</th>\n",
       "      <td>2023-10-16</td>\n",
       "      <td>UCrOH1V-FyMunBIMrKL0y0xQ</td>\n",
       "      <td>661</td>\n",
       "      <td>66</td>\n",
       "      <td>1</td>\n",
       "    </tr>\n",
       "  </tbody>\n",
       "</table>\n",
       "</div>"
      ],
      "text/plain": [
       "  data_extracao                  id_canal  total_visualizacoes_turno  \\\n",
       "0    2023-10-15  UCrOH1V-FyMunBIMrKL0y0xQ                       1608   \n",
       "1    2023-10-15  UCrOH1V-FyMunBIMrKL0y0xQ                       2954   \n",
       "2    2023-10-16  UCrOH1V-FyMunBIMrKL0y0xQ                       1907   \n",
       "3    2023-10-16  UCrOH1V-FyMunBIMrKL0y0xQ                        269   \n",
       "4    2023-10-16  UCrOH1V-FyMunBIMrKL0y0xQ                        661   \n",
       "\n",
       "   total_likes_turno  total_comentarios_turno  \n",
       "0                156                       23  \n",
       "1                531                       23  \n",
       "2                139                        4  \n",
       "3                 31                        1  \n",
       "4                 66                        1  "
      ]
     },
     "execution_count": 48,
     "metadata": {},
     "output_type": "execute_result"
    }
   ],
   "source": [
    "df_duracao_video = pd.read_sql_query(\n",
    "    ' SELECT data_extracao, ' \n",
    "    ' id_canal, ' \n",
    "    ' total_visualizacoes_turno, ' \n",
    "    ' total_likes_turno  , ' \n",
    "    ' total_comentarios_turno '\n",
    "    ' FROM total_visualizacoes_por_semana '\n",
    "    ' WHERE  ID_CANAL IN (\"UCrOH1V-FyMunBIMrKL0y0xQ\" , \"UCe9jrI0YQ5SM6h5QRZ9FZlA\")  ',\n",
    "    dtype=tipos,\n",
    "    con=engine\n",
    "    )\n",
    "\n",
    "df_duracao_video.head()"
   ]
  },
  {
   "cell_type": "code",
   "execution_count": null,
   "metadata": {},
   "outputs": [],
   "source": [
    "df_duracao_video = df_duracao_video.groupby(['data_extracao', 'id_canal']) \\\n",
    "    .agg(\n",
    "        total__visualizacoes=('total_visualizacoes_turno', 'sum'),\n",
    "        total_likes=('total_likes_turno', 'sum'),\n",
    "        total_comentarios=('total_comentarios_turno', 'sum')\n",
    "    ).reset_index()"
   ]
  },
  {
   "cell_type": "code",
   "execution_count": null,
   "metadata": {},
   "outputs": [
    {
     "data": {
      "text/html": [
       "<div>\n",
       "<style scoped>\n",
       "    .dataframe tbody tr th:only-of-type {\n",
       "        vertical-align: middle;\n",
       "    }\n",
       "\n",
       "    .dataframe tbody tr th {\n",
       "        vertical-align: top;\n",
       "    }\n",
       "\n",
       "    .dataframe thead th {\n",
       "        text-align: right;\n",
       "    }\n",
       "</style>\n",
       "<table border=\"1\" class=\"dataframe\">\n",
       "  <thead>\n",
       "    <tr style=\"text-align: right;\">\n",
       "      <th></th>\n",
       "      <th>data_extracao</th>\n",
       "      <th>id_canal</th>\n",
       "      <th>total__visualizacoes</th>\n",
       "      <th>total_likes</th>\n",
       "      <th>total_comentarios</th>\n",
       "    </tr>\n",
       "  </thead>\n",
       "  <tbody>\n",
       "    <tr>\n",
       "      <th>0</th>\n",
       "      <td>2023-10-15</td>\n",
       "      <td>UCrOH1V-FyMunBIMrKL0y0xQ</td>\n",
       "      <td>9124</td>\n",
       "      <td>1374</td>\n",
       "      <td>92</td>\n",
       "    </tr>\n",
       "    <tr>\n",
       "      <th>1</th>\n",
       "      <td>2023-10-16</td>\n",
       "      <td>UCrOH1V-FyMunBIMrKL0y0xQ</td>\n",
       "      <td>21502</td>\n",
       "      <td>3506</td>\n",
       "      <td>122</td>\n",
       "    </tr>\n",
       "    <tr>\n",
       "      <th>2</th>\n",
       "      <td>2023-10-19</td>\n",
       "      <td>UCe9jrI0YQ5SM6h5QRZ9FZlA</td>\n",
       "      <td>20649</td>\n",
       "      <td>4817</td>\n",
       "      <td>336</td>\n",
       "    </tr>\n",
       "    <tr>\n",
       "      <th>3</th>\n",
       "      <td>2023-10-19</td>\n",
       "      <td>UCrOH1V-FyMunBIMrKL0y0xQ</td>\n",
       "      <td>133688</td>\n",
       "      <td>21350</td>\n",
       "      <td>1464</td>\n",
       "    </tr>\n",
       "    <tr>\n",
       "      <th>4</th>\n",
       "      <td>2023-10-20</td>\n",
       "      <td>UCe9jrI0YQ5SM6h5QRZ9FZlA</td>\n",
       "      <td>28906</td>\n",
       "      <td>3486</td>\n",
       "      <td>272</td>\n",
       "    </tr>\n",
       "  </tbody>\n",
       "</table>\n",
       "</div>"
      ],
      "text/plain": [
       "  data_extracao                  id_canal  total__visualizacoes  total_likes  \\\n",
       "0    2023-10-15  UCrOH1V-FyMunBIMrKL0y0xQ                  9124         1374   \n",
       "1    2023-10-16  UCrOH1V-FyMunBIMrKL0y0xQ                 21502         3506   \n",
       "2    2023-10-19  UCe9jrI0YQ5SM6h5QRZ9FZlA                 20649         4817   \n",
       "3    2023-10-19  UCrOH1V-FyMunBIMrKL0y0xQ                133688        21350   \n",
       "4    2023-10-20  UCe9jrI0YQ5SM6h5QRZ9FZlA                 28906         3486   \n",
       "\n",
       "   total_comentarios  \n",
       "0                 92  \n",
       "1                122  \n",
       "2                336  \n",
       "3               1464  \n",
       "4                272  "
      ]
     },
     "execution_count": 51,
     "metadata": {},
     "output_type": "execute_result"
    }
   ],
   "source": [
    "df_duracao_video.head()"
   ]
  },
  {
   "cell_type": "code",
   "execution_count": null,
   "metadata": {},
   "outputs": [
    {
     "data": {
      "application/vnd.plotly.v1+json": {
       "config": {
        "plotlyServerURL": "https://plot.ly"
       },
       "data": [
        {
         "hovertemplate": "id_canal=UCrOH1V-FyMunBIMrKL0y0xQ<br>data_extracao=%{x}<br>total__visualizacoes=%{y}<extra></extra>",
         "legendgroup": "UCrOH1V-FyMunBIMrKL0y0xQ",
         "line": {
          "color": "#636efa",
          "dash": "solid"
         },
         "marker": {
          "symbol": "circle"
         },
         "mode": "lines",
         "name": "UCrOH1V-FyMunBIMrKL0y0xQ",
         "orientation": "v",
         "showlegend": true,
         "textfont": {
          "color": "white",
          "size": 16
         },
         "type": "scatter",
         "x": [
          "2023-10-15T00:00:00",
          "2023-10-16T00:00:00",
          "2023-10-19T00:00:00",
          "2023-10-20T00:00:00",
          "2023-10-21T00:00:00",
          "2023-10-22T00:00:00",
          "2023-10-23T00:00:00",
          "2023-10-24T00:00:00",
          "2023-10-25T00:00:00",
          "2023-10-26T00:00:00",
          "2023-10-27T00:00:00"
         ],
         "xaxis": "x",
         "y": [
          9124,
          21502,
          133688,
          101900,
          169328,
          143196,
          154960,
          138054,
          141473,
          148719,
          99394
         ],
         "yaxis": "y"
        },
        {
         "hovertemplate": "id_canal=UCe9jrI0YQ5SM6h5QRZ9FZlA<br>data_extracao=%{x}<br>total__visualizacoes=%{y}<extra></extra>",
         "legendgroup": "UCe9jrI0YQ5SM6h5QRZ9FZlA",
         "line": {
          "color": "#EF553B",
          "dash": "solid"
         },
         "marker": {
          "symbol": "circle"
         },
         "mode": "lines",
         "name": "UCe9jrI0YQ5SM6h5QRZ9FZlA",
         "orientation": "v",
         "showlegend": true,
         "textfont": {
          "color": "white",
          "size": 16
         },
         "type": "scatter",
         "x": [
          "2023-10-19T00:00:00",
          "2023-10-20T00:00:00",
          "2023-10-21T00:00:00",
          "2023-10-22T00:00:00",
          "2023-10-23T00:00:00",
          "2023-10-24T00:00:00",
          "2023-10-25T00:00:00",
          "2023-10-26T00:00:00",
          "2023-10-27T00:00:00"
         ],
         "xaxis": "x",
         "y": [
          20649,
          28906,
          15176,
          28938,
          17845,
          8483,
          26464,
          16411,
          20731
         ],
         "yaxis": "y"
        }
       ],
       "layout": {
        "bargap": 0.09,
        "legend": {
         "font": {
          "color": "white"
         },
         "title": {
          "text": "id_canal"
         },
         "tracegroupgap": 0
        },
        "margin": {
         "b": 20,
         "l": 20,
         "pad": 6,
         "r": 20,
         "t": 40
        },
        "paper_bgcolor": "#1F2326",
        "plot_bgcolor": "#1F2326",
        "showlegend": true,
        "template": {
         "data": {
          "bar": [
           {
            "error_x": {
             "color": "#2a3f5f"
            },
            "error_y": {
             "color": "#2a3f5f"
            },
            "marker": {
             "line": {
              "color": "#E5ECF6",
              "width": 0.5
             },
             "pattern": {
              "fillmode": "overlay",
              "size": 10,
              "solidity": 0.2
             }
            },
            "type": "bar"
           }
          ],
          "barpolar": [
           {
            "marker": {
             "line": {
              "color": "#E5ECF6",
              "width": 0.5
             },
             "pattern": {
              "fillmode": "overlay",
              "size": 10,
              "solidity": 0.2
             }
            },
            "type": "barpolar"
           }
          ],
          "carpet": [
           {
            "aaxis": {
             "endlinecolor": "#2a3f5f",
             "gridcolor": "white",
             "linecolor": "white",
             "minorgridcolor": "white",
             "startlinecolor": "#2a3f5f"
            },
            "baxis": {
             "endlinecolor": "#2a3f5f",
             "gridcolor": "white",
             "linecolor": "white",
             "minorgridcolor": "white",
             "startlinecolor": "#2a3f5f"
            },
            "type": "carpet"
           }
          ],
          "choropleth": [
           {
            "colorbar": {
             "outlinewidth": 0,
             "ticks": ""
            },
            "type": "choropleth"
           }
          ],
          "contour": [
           {
            "colorbar": {
             "outlinewidth": 0,
             "ticks": ""
            },
            "colorscale": [
             [
              0,
              "#0d0887"
             ],
             [
              0.1111111111111111,
              "#46039f"
             ],
             [
              0.2222222222222222,
              "#7201a8"
             ],
             [
              0.3333333333333333,
              "#9c179e"
             ],
             [
              0.4444444444444444,
              "#bd3786"
             ],
             [
              0.5555555555555556,
              "#d8576b"
             ],
             [
              0.6666666666666666,
              "#ed7953"
             ],
             [
              0.7777777777777778,
              "#fb9f3a"
             ],
             [
              0.8888888888888888,
              "#fdca26"
             ],
             [
              1,
              "#f0f921"
             ]
            ],
            "type": "contour"
           }
          ],
          "contourcarpet": [
           {
            "colorbar": {
             "outlinewidth": 0,
             "ticks": ""
            },
            "type": "contourcarpet"
           }
          ],
          "heatmap": [
           {
            "colorbar": {
             "outlinewidth": 0,
             "ticks": ""
            },
            "colorscale": [
             [
              0,
              "#0d0887"
             ],
             [
              0.1111111111111111,
              "#46039f"
             ],
             [
              0.2222222222222222,
              "#7201a8"
             ],
             [
              0.3333333333333333,
              "#9c179e"
             ],
             [
              0.4444444444444444,
              "#bd3786"
             ],
             [
              0.5555555555555556,
              "#d8576b"
             ],
             [
              0.6666666666666666,
              "#ed7953"
             ],
             [
              0.7777777777777778,
              "#fb9f3a"
             ],
             [
              0.8888888888888888,
              "#fdca26"
             ],
             [
              1,
              "#f0f921"
             ]
            ],
            "type": "heatmap"
           }
          ],
          "heatmapgl": [
           {
            "colorbar": {
             "outlinewidth": 0,
             "ticks": ""
            },
            "colorscale": [
             [
              0,
              "#0d0887"
             ],
             [
              0.1111111111111111,
              "#46039f"
             ],
             [
              0.2222222222222222,
              "#7201a8"
             ],
             [
              0.3333333333333333,
              "#9c179e"
             ],
             [
              0.4444444444444444,
              "#bd3786"
             ],
             [
              0.5555555555555556,
              "#d8576b"
             ],
             [
              0.6666666666666666,
              "#ed7953"
             ],
             [
              0.7777777777777778,
              "#fb9f3a"
             ],
             [
              0.8888888888888888,
              "#fdca26"
             ],
             [
              1,
              "#f0f921"
             ]
            ],
            "type": "heatmapgl"
           }
          ],
          "histogram": [
           {
            "marker": {
             "pattern": {
              "fillmode": "overlay",
              "size": 10,
              "solidity": 0.2
             }
            },
            "type": "histogram"
           }
          ],
          "histogram2d": [
           {
            "colorbar": {
             "outlinewidth": 0,
             "ticks": ""
            },
            "colorscale": [
             [
              0,
              "#0d0887"
             ],
             [
              0.1111111111111111,
              "#46039f"
             ],
             [
              0.2222222222222222,
              "#7201a8"
             ],
             [
              0.3333333333333333,
              "#9c179e"
             ],
             [
              0.4444444444444444,
              "#bd3786"
             ],
             [
              0.5555555555555556,
              "#d8576b"
             ],
             [
              0.6666666666666666,
              "#ed7953"
             ],
             [
              0.7777777777777778,
              "#fb9f3a"
             ],
             [
              0.8888888888888888,
              "#fdca26"
             ],
             [
              1,
              "#f0f921"
             ]
            ],
            "type": "histogram2d"
           }
          ],
          "histogram2dcontour": [
           {
            "colorbar": {
             "outlinewidth": 0,
             "ticks": ""
            },
            "colorscale": [
             [
              0,
              "#0d0887"
             ],
             [
              0.1111111111111111,
              "#46039f"
             ],
             [
              0.2222222222222222,
              "#7201a8"
             ],
             [
              0.3333333333333333,
              "#9c179e"
             ],
             [
              0.4444444444444444,
              "#bd3786"
             ],
             [
              0.5555555555555556,
              "#d8576b"
             ],
             [
              0.6666666666666666,
              "#ed7953"
             ],
             [
              0.7777777777777778,
              "#fb9f3a"
             ],
             [
              0.8888888888888888,
              "#fdca26"
             ],
             [
              1,
              "#f0f921"
             ]
            ],
            "type": "histogram2dcontour"
           }
          ],
          "mesh3d": [
           {
            "colorbar": {
             "outlinewidth": 0,
             "ticks": ""
            },
            "type": "mesh3d"
           }
          ],
          "parcoords": [
           {
            "line": {
             "colorbar": {
              "outlinewidth": 0,
              "ticks": ""
             }
            },
            "type": "parcoords"
           }
          ],
          "pie": [
           {
            "automargin": true,
            "type": "pie"
           }
          ],
          "scatter": [
           {
            "fillpattern": {
             "fillmode": "overlay",
             "size": 10,
             "solidity": 0.2
            },
            "type": "scatter"
           }
          ],
          "scatter3d": [
           {
            "line": {
             "colorbar": {
              "outlinewidth": 0,
              "ticks": ""
             }
            },
            "marker": {
             "colorbar": {
              "outlinewidth": 0,
              "ticks": ""
             }
            },
            "type": "scatter3d"
           }
          ],
          "scattercarpet": [
           {
            "marker": {
             "colorbar": {
              "outlinewidth": 0,
              "ticks": ""
             }
            },
            "type": "scattercarpet"
           }
          ],
          "scattergeo": [
           {
            "marker": {
             "colorbar": {
              "outlinewidth": 0,
              "ticks": ""
             }
            },
            "type": "scattergeo"
           }
          ],
          "scattergl": [
           {
            "marker": {
             "colorbar": {
              "outlinewidth": 0,
              "ticks": ""
             }
            },
            "type": "scattergl"
           }
          ],
          "scattermapbox": [
           {
            "marker": {
             "colorbar": {
              "outlinewidth": 0,
              "ticks": ""
             }
            },
            "type": "scattermapbox"
           }
          ],
          "scatterpolar": [
           {
            "marker": {
             "colorbar": {
              "outlinewidth": 0,
              "ticks": ""
             }
            },
            "type": "scatterpolar"
           }
          ],
          "scatterpolargl": [
           {
            "marker": {
             "colorbar": {
              "outlinewidth": 0,
              "ticks": ""
             }
            },
            "type": "scatterpolargl"
           }
          ],
          "scatterternary": [
           {
            "marker": {
             "colorbar": {
              "outlinewidth": 0,
              "ticks": ""
             }
            },
            "type": "scatterternary"
           }
          ],
          "surface": [
           {
            "colorbar": {
             "outlinewidth": 0,
             "ticks": ""
            },
            "colorscale": [
             [
              0,
              "#0d0887"
             ],
             [
              0.1111111111111111,
              "#46039f"
             ],
             [
              0.2222222222222222,
              "#7201a8"
             ],
             [
              0.3333333333333333,
              "#9c179e"
             ],
             [
              0.4444444444444444,
              "#bd3786"
             ],
             [
              0.5555555555555556,
              "#d8576b"
             ],
             [
              0.6666666666666666,
              "#ed7953"
             ],
             [
              0.7777777777777778,
              "#fb9f3a"
             ],
             [
              0.8888888888888888,
              "#fdca26"
             ],
             [
              1,
              "#f0f921"
             ]
            ],
            "type": "surface"
           }
          ],
          "table": [
           {
            "cells": {
             "fill": {
              "color": "#EBF0F8"
             },
             "line": {
              "color": "white"
             }
            },
            "header": {
             "fill": {
              "color": "#C8D4E3"
             },
             "line": {
              "color": "white"
             }
            },
            "type": "table"
           }
          ]
         },
         "layout": {
          "annotationdefaults": {
           "arrowcolor": "#2a3f5f",
           "arrowhead": 0,
           "arrowwidth": 1
          },
          "autotypenumbers": "strict",
          "coloraxis": {
           "colorbar": {
            "outlinewidth": 0,
            "ticks": ""
           }
          },
          "colorscale": {
           "diverging": [
            [
             0,
             "#8e0152"
            ],
            [
             0.1,
             "#c51b7d"
            ],
            [
             0.2,
             "#de77ae"
            ],
            [
             0.3,
             "#f1b6da"
            ],
            [
             0.4,
             "#fde0ef"
            ],
            [
             0.5,
             "#f7f7f7"
            ],
            [
             0.6,
             "#e6f5d0"
            ],
            [
             0.7,
             "#b8e186"
            ],
            [
             0.8,
             "#7fbc41"
            ],
            [
             0.9,
             "#4d9221"
            ],
            [
             1,
             "#276419"
            ]
           ],
           "sequential": [
            [
             0,
             "#0d0887"
            ],
            [
             0.1111111111111111,
             "#46039f"
            ],
            [
             0.2222222222222222,
             "#7201a8"
            ],
            [
             0.3333333333333333,
             "#9c179e"
            ],
            [
             0.4444444444444444,
             "#bd3786"
            ],
            [
             0.5555555555555556,
             "#d8576b"
            ],
            [
             0.6666666666666666,
             "#ed7953"
            ],
            [
             0.7777777777777778,
             "#fb9f3a"
            ],
            [
             0.8888888888888888,
             "#fdca26"
            ],
            [
             1,
             "#f0f921"
            ]
           ],
           "sequentialminus": [
            [
             0,
             "#0d0887"
            ],
            [
             0.1111111111111111,
             "#46039f"
            ],
            [
             0.2222222222222222,
             "#7201a8"
            ],
            [
             0.3333333333333333,
             "#9c179e"
            ],
            [
             0.4444444444444444,
             "#bd3786"
            ],
            [
             0.5555555555555556,
             "#d8576b"
            ],
            [
             0.6666666666666666,
             "#ed7953"
            ],
            [
             0.7777777777777778,
             "#fb9f3a"
            ],
            [
             0.8888888888888888,
             "#fdca26"
            ],
            [
             1,
             "#f0f921"
            ]
           ]
          },
          "colorway": [
           "#636efa",
           "#EF553B",
           "#00cc96",
           "#ab63fa",
           "#FFA15A",
           "#19d3f3",
           "#FF6692",
           "#B6E880",
           "#FF97FF",
           "#FECB52"
          ],
          "font": {
           "color": "#2a3f5f"
          },
          "geo": {
           "bgcolor": "white",
           "lakecolor": "white",
           "landcolor": "#E5ECF6",
           "showlakes": true,
           "showland": true,
           "subunitcolor": "white"
          },
          "hoverlabel": {
           "align": "left"
          },
          "hovermode": "closest",
          "mapbox": {
           "style": "light"
          },
          "paper_bgcolor": "white",
          "plot_bgcolor": "#E5ECF6",
          "polar": {
           "angularaxis": {
            "gridcolor": "white",
            "linecolor": "white",
            "ticks": ""
           },
           "bgcolor": "#E5ECF6",
           "radialaxis": {
            "gridcolor": "white",
            "linecolor": "white",
            "ticks": ""
           }
          },
          "scene": {
           "xaxis": {
            "backgroundcolor": "#E5ECF6",
            "gridcolor": "white",
            "gridwidth": 2,
            "linecolor": "white",
            "showbackground": true,
            "ticks": "",
            "zerolinecolor": "white"
           },
           "yaxis": {
            "backgroundcolor": "#E5ECF6",
            "gridcolor": "white",
            "gridwidth": 2,
            "linecolor": "white",
            "showbackground": true,
            "ticks": "",
            "zerolinecolor": "white"
           },
           "zaxis": {
            "backgroundcolor": "#E5ECF6",
            "gridcolor": "white",
            "gridwidth": 2,
            "linecolor": "white",
            "showbackground": true,
            "ticks": "",
            "zerolinecolor": "white"
           }
          },
          "shapedefaults": {
           "line": {
            "color": "#2a3f5f"
           }
          },
          "ternary": {
           "aaxis": {
            "gridcolor": "white",
            "linecolor": "white",
            "ticks": ""
           },
           "baxis": {
            "gridcolor": "white",
            "linecolor": "white",
            "ticks": ""
           },
           "bgcolor": "#E5ECF6",
           "caxis": {
            "gridcolor": "white",
            "linecolor": "white",
            "ticks": ""
           }
          },
          "title": {
           "x": 0.05
          },
          "xaxis": {
           "automargin": true,
           "gridcolor": "white",
           "linecolor": "white",
           "ticks": "",
           "title": {
            "standoff": 15
           },
           "zerolinecolor": "white",
           "zerolinewidth": 2
          },
          "yaxis": {
           "automargin": true,
           "gridcolor": "white",
           "linecolor": "white",
           "ticks": "",
           "title": {
            "standoff": 15
           },
           "zerolinecolor": "white",
           "zerolinewidth": 2
          }
         }
        },
        "title": {
         "font": {
          "color": "white"
         },
         "text": "Comparação Visualizacao",
         "x": 0.5
        },
        "xaxis": {
         "anchor": "y",
         "domain": [
          0,
          1
         ],
         "showgrid": false,
         "tickfont": {
          "color": "white"
         },
         "tickformat": "%d/%m/%Y",
         "title": {
          "text": ""
         }
        },
        "yaxis": {
         "anchor": "x",
         "domain": [
          0,
          1
         ],
         "title": {
          "text": "total__visualizacoes"
         },
         "visible": false
        }
       }
      }
     },
     "metadata": {},
     "output_type": "display_data"
    }
   ],
   "source": [
    "fig = px.line(df_duracao_video, x='data_extracao', y='total__visualizacoes', color='id_canal')\n",
    "fig.update_layout(\n",
    "    title_text='Comparação Visualizacao',\n",
    "    showlegend=True,\n",
    "    title=dict(x=0.5, font=dict(color='white')),\n",
    "    plot_bgcolor='#1F2326',\n",
    "    yaxis=dict(visible=False),  \n",
    "    margin=dict(l=20, r=20, t=40, b=20, pad=6),\n",
    "    paper_bgcolor='#1F2326',\n",
    "    xaxis=dict(title='', tickfont=dict(color='white'), showgrid=False),\n",
    "    legend=dict(font=dict(color='white')),\n",
    "    xaxis_tickformat = '%d/%m/%Y',\n",
    "    bargap=0.09\n",
    "\n",
    ")\n",
    "fig.update_traces(\n",
    "    textfont_color='white',\n",
    "    textfont_size=16 ,\n",
    "     \n",
    ")\n",
    "fig.show()"
   ]
  },
  {
   "cell_type": "markdown",
   "metadata": {},
   "source": [
    "# Wordcloud TAGS"
   ]
  },
  {
   "cell_type": "code",
   "execution_count": null,
   "metadata": {},
   "outputs": [
    {
     "data": {
      "text/html": [
       "<div>\n",
       "<style scoped>\n",
       "    .dataframe tbody tr th:only-of-type {\n",
       "        vertical-align: middle;\n",
       "    }\n",
       "\n",
       "    .dataframe tbody tr th {\n",
       "        vertical-align: top;\n",
       "    }\n",
       "\n",
       "    .dataframe thead th {\n",
       "        text-align: right;\n",
       "    }\n",
       "</style>\n",
       "<table border=\"1\" class=\"dataframe\">\n",
       "  <thead>\n",
       "    <tr style=\"text-align: right;\">\n",
       "      <th></th>\n",
       "      <th>tags</th>\n",
       "    </tr>\n",
       "  </thead>\n",
       "  <tbody>\n",
       "    <tr>\n",
       "      <th>0</th>\n",
       "      <td>[]</td>\n",
       "    </tr>\n",
       "    <tr>\n",
       "      <th>1</th>\n",
       "      <td>[\"cities skylines\",\"cities skylines gameplay\",...</td>\n",
       "    </tr>\n",
       "    <tr>\n",
       "      <th>2</th>\n",
       "      <td>[\"xbae8vvXZp1LBYAKst0k\",\"Machinimas\",\"GAC\",\"Ga...</td>\n",
       "    </tr>\n",
       "    <tr>\n",
       "      <th>3</th>\n",
       "      <td>[\"euro truck 2\",\"lucas gameplays brasil\",\"mapa...</td>\n",
       "    </tr>\n",
       "    <tr>\n",
       "      <th>4</th>\n",
       "      <td>[\"review\",\"gameplay\",\"jogo pc\",\"jogos pc\",\"pc ...</td>\n",
       "    </tr>\n",
       "  </tbody>\n",
       "</table>\n",
       "</div>"
      ],
      "text/plain": [
       "                                                tags\n",
       "0                                                 []\n",
       "1  [\"cities skylines\",\"cities skylines gameplay\",...\n",
       "2  [\"xbae8vvXZp1LBYAKst0k\",\"Machinimas\",\"GAC\",\"Ga...\n",
       "3  [\"euro truck 2\",\"lucas gameplays brasil\",\"mapa...\n",
       "4  [\"review\",\"gameplay\",\"jogo pc\",\"jogos pc\",\"pc ..."
      ]
     },
     "execution_count": 60,
     "metadata": {},
     "output_type": "execute_result"
    }
   ],
   "source": [
    "df_wordcloud_tags = pd.read_sql_query(\n",
    "    ' SELECT tags '\n",
    "    ' FROM total_visualizacoes_por_semana '\n",
    "    ' WHERE assunto = \"assunto_cities_skylines\" ',\n",
    "    con=engine\n",
    ")\n",
    "df_wordcloud_tags.head()"
   ]
  },
  {
   "cell_type": "code",
   "execution_count": null,
   "metadata": {},
   "outputs": [],
   "source": [
    "df_wordcloud_tags_copy = df_wordcloud_tags.copy()"
   ]
  },
  {
   "cell_type": "code",
   "execution_count": null,
   "metadata": {},
   "outputs": [],
   "source": [
    "df_wordcloud_tags_copy.drop_duplicates(inplace=True)"
   ]
  },
  {
   "cell_type": "code",
   "execution_count": null,
   "metadata": {},
   "outputs": [
    {
     "data": {
      "text/html": [
       "<div>\n",
       "<style scoped>\n",
       "    .dataframe tbody tr th:only-of-type {\n",
       "        vertical-align: middle;\n",
       "    }\n",
       "\n",
       "    .dataframe tbody tr th {\n",
       "        vertical-align: top;\n",
       "    }\n",
       "\n",
       "    .dataframe thead th {\n",
       "        text-align: right;\n",
       "    }\n",
       "</style>\n",
       "<table border=\"1\" class=\"dataframe\">\n",
       "  <thead>\n",
       "    <tr style=\"text-align: right;\">\n",
       "      <th></th>\n",
       "      <th>tags</th>\n",
       "    </tr>\n",
       "  </thead>\n",
       "  <tbody>\n",
       "    <tr>\n",
       "      <th>0</th>\n",
       "      <td>[]</td>\n",
       "    </tr>\n",
       "    <tr>\n",
       "      <th>1</th>\n",
       "      <td>[\"cities skylines\",\"cities skylines gameplay\",...</td>\n",
       "    </tr>\n",
       "    <tr>\n",
       "      <th>2</th>\n",
       "      <td>[\"xbae8vvXZp1LBYAKst0k\",\"Machinimas\",\"GAC\",\"Ga...</td>\n",
       "    </tr>\n",
       "    <tr>\n",
       "      <th>3</th>\n",
       "      <td>[\"euro truck 2\",\"lucas gameplays brasil\",\"mapa...</td>\n",
       "    </tr>\n",
       "    <tr>\n",
       "      <th>4</th>\n",
       "      <td>[\"review\",\"gameplay\",\"jogo pc\",\"jogos pc\",\"pc ...</td>\n",
       "    </tr>\n",
       "  </tbody>\n",
       "</table>\n",
       "</div>"
      ],
      "text/plain": [
       "                                                tags\n",
       "0                                                 []\n",
       "1  [\"cities skylines\",\"cities skylines gameplay\",...\n",
       "2  [\"xbae8vvXZp1LBYAKst0k\",\"Machinimas\",\"GAC\",\"Ga...\n",
       "3  [\"euro truck 2\",\"lucas gameplays brasil\",\"mapa...\n",
       "4  [\"review\",\"gameplay\",\"jogo pc\",\"jogos pc\",\"pc ..."
      ]
     },
     "execution_count": 154,
     "metadata": {},
     "output_type": "execute_result"
    }
   ],
   "source": [
    "df_wordcloud_tags_copy.head()"
   ]
  },
  {
   "cell_type": "code",
   "execution_count": null,
   "metadata": {},
   "outputs": [
    {
     "data": {
      "text/plain": [
       "'cities skylines,cities skylines gameplay'"
      ]
     },
     "execution_count": 155,
     "metadata": {},
     "output_type": "execute_result"
    }
   ],
   "source": [
    "teste = [\"cities skylines\",\"cities skylines gameplay\"]\n",
    "\n",
    "def partir_lista(teste):\n",
    "     return ','.join(str(item) for item in teste)\n",
    "\n",
    "partir_lista(teste=teste)"
   ]
  },
  {
   "cell_type": "code",
   "execution_count": null,
   "metadata": {},
   "outputs": [],
   "source": [
    "def converter_para_lista(texto):\n",
    "    texto = texto.replace('[', '').replace(']', '').replace('\"', '')\n",
    "    lista = texto.split(', ')\n",
    "    return lista\n"
   ]
  },
  {
   "cell_type": "code",
   "execution_count": null,
   "metadata": {},
   "outputs": [
    {
     "name": "stdout",
     "output_type": "stream",
     "text": [
      "<class 'pandas.core.frame.DataFrame'>\n",
      "Index: 108 entries, 0 to 1446\n",
      "Data columns (total 1 columns):\n",
      " #   Column  Non-Null Count  Dtype \n",
      "---  ------  --------------  ----- \n",
      " 0   tags    108 non-null    object\n",
      "dtypes: object(1)\n",
      "memory usage: 1.7+ KB\n"
     ]
    }
   ],
   "source": [
    "df_wordcloud_tags_copy.info()"
   ]
  },
  {
   "cell_type": "code",
   "execution_count": null,
   "metadata": {},
   "outputs": [],
   "source": [
    "df_wordcloud_tags_copy['tags'] = df_wordcloud_tags_copy['tags'].apply(converter_para_lista)"
   ]
  },
  {
   "cell_type": "code",
   "execution_count": null,
   "metadata": {},
   "outputs": [
    {
     "data": {
      "text/html": [
       "<div>\n",
       "<style scoped>\n",
       "    .dataframe tbody tr th:only-of-type {\n",
       "        vertical-align: middle;\n",
       "    }\n",
       "\n",
       "    .dataframe tbody tr th {\n",
       "        vertical-align: top;\n",
       "    }\n",
       "\n",
       "    .dataframe thead th {\n",
       "        text-align: right;\n",
       "    }\n",
       "</style>\n",
       "<table border=\"1\" class=\"dataframe\">\n",
       "  <thead>\n",
       "    <tr style=\"text-align: right;\">\n",
       "      <th></th>\n",
       "      <th>tags</th>\n",
       "    </tr>\n",
       "  </thead>\n",
       "  <tbody>\n",
       "    <tr>\n",
       "      <th>0</th>\n",
       "      <td>[]</td>\n",
       "    </tr>\n",
       "    <tr>\n",
       "      <th>1</th>\n",
       "      <td>[cities skylines,cities skylines gameplay,citi...</td>\n",
       "    </tr>\n",
       "    <tr>\n",
       "      <th>2</th>\n",
       "      <td>[xbae8vvXZp1LBYAKst0k,Machinimas,GAC,Gameplay,...</td>\n",
       "    </tr>\n",
       "    <tr>\n",
       "      <th>3</th>\n",
       "      <td>[euro truck 2,lucas gameplays brasil,mapa eaa,...</td>\n",
       "    </tr>\n",
       "    <tr>\n",
       "      <th>4</th>\n",
       "      <td>[review,gameplay,jogo pc,jogos pc,pc game,joga...</td>\n",
       "    </tr>\n",
       "  </tbody>\n",
       "</table>\n",
       "</div>"
      ],
      "text/plain": [
       "                                                tags\n",
       "0                                                 []\n",
       "1  [cities skylines,cities skylines gameplay,citi...\n",
       "2  [xbae8vvXZp1LBYAKst0k,Machinimas,GAC,Gameplay,...\n",
       "3  [euro truck 2,lucas gameplays brasil,mapa eaa,...\n",
       "4  [review,gameplay,jogo pc,jogos pc,pc game,joga..."
      ]
     },
     "execution_count": 159,
     "metadata": {},
     "output_type": "execute_result"
    }
   ],
   "source": [
    "df_wordcloud_tags_copy.head()"
   ]
  },
  {
   "cell_type": "code",
   "execution_count": null,
   "metadata": {},
   "outputs": [
    {
     "data": {
      "text/html": [
       "<div>\n",
       "<style scoped>\n",
       "    .dataframe tbody tr th:only-of-type {\n",
       "        vertical-align: middle;\n",
       "    }\n",
       "\n",
       "    .dataframe tbody tr th {\n",
       "        vertical-align: top;\n",
       "    }\n",
       "\n",
       "    .dataframe thead th {\n",
       "        text-align: right;\n",
       "    }\n",
       "</style>\n",
       "<table border=\"1\" class=\"dataframe\">\n",
       "  <thead>\n",
       "    <tr style=\"text-align: right;\">\n",
       "      <th></th>\n",
       "      <th>tags</th>\n",
       "      <th>tags_str</th>\n",
       "    </tr>\n",
       "  </thead>\n",
       "  <tbody>\n",
       "    <tr>\n",
       "      <th>0</th>\n",
       "      <td>[]</td>\n",
       "      <td></td>\n",
       "    </tr>\n",
       "    <tr>\n",
       "      <th>1</th>\n",
       "      <td>[cities skylines,cities skylines gameplay,citi...</td>\n",
       "      <td>cities skylines,cities skylines gameplay,citie...</td>\n",
       "    </tr>\n",
       "    <tr>\n",
       "      <th>2</th>\n",
       "      <td>[xbae8vvXZp1LBYAKst0k,Machinimas,GAC,Gameplay,...</td>\n",
       "      <td>xbae8vvXZp1LBYAKst0k,Machinimas,GAC,Gameplay,P...</td>\n",
       "    </tr>\n",
       "    <tr>\n",
       "      <th>3</th>\n",
       "      <td>[euro truck 2,lucas gameplays brasil,mapa eaa,...</td>\n",
       "      <td>euro truck 2,lucas gameplays brasil,mapa eaa,m...</td>\n",
       "    </tr>\n",
       "    <tr>\n",
       "      <th>4</th>\n",
       "      <td>[review,gameplay,jogo pc,jogos pc,pc game,joga...</td>\n",
       "      <td>review,gameplay,jogo pc,jogos pc,pc game,jogan...</td>\n",
       "    </tr>\n",
       "  </tbody>\n",
       "</table>\n",
       "</div>"
      ],
      "text/plain": [
       "                                                tags  \\\n",
       "0                                                 []   \n",
       "1  [cities skylines,cities skylines gameplay,citi...   \n",
       "2  [xbae8vvXZp1LBYAKst0k,Machinimas,GAC,Gameplay,...   \n",
       "3  [euro truck 2,lucas gameplays brasil,mapa eaa,...   \n",
       "4  [review,gameplay,jogo pc,jogos pc,pc game,joga...   \n",
       "\n",
       "                                            tags_str  \n",
       "0                                                     \n",
       "1  cities skylines,cities skylines gameplay,citie...  \n",
       "2  xbae8vvXZp1LBYAKst0k,Machinimas,GAC,Gameplay,P...  \n",
       "3  euro truck 2,lucas gameplays brasil,mapa eaa,m...  \n",
       "4  review,gameplay,jogo pc,jogos pc,pc game,jogan...  "
      ]
     },
     "execution_count": 160,
     "metadata": {},
     "output_type": "execute_result"
    }
   ],
   "source": [
    "df_wordcloud_tags_copy['tags_str'] = df_wordcloud_tags_copy['tags'].apply(partir_lista)\n",
    "df_wordcloud_tags_copy.head()"
   ]
  },
  {
   "cell_type": "markdown",
   "metadata": {},
   "source": [
    "- Média likes, comentarios like / visualizacoes ou likes / visualizacoes"
   ]
  },
  {
   "cell_type": "markdown",
   "metadata": {},
   "source": [
    "# Métricas especificas TRENDS"
   ]
  },
  {
   "cell_type": "markdown",
   "metadata": {},
   "source": [
    "# Categrias Populares por data de extração"
   ]
  },
  {
   "cell_type": "code",
   "execution_count": null,
   "metadata": {},
   "outputs": [],
   "source": [
    "tipos = {\n",
    "    'data_extracao': 'datetime64[ns]',\n",
    "    'nm_canal': 'string',\n",
    "    'titulo_video': 'string',\n",
    "    'id_categoria': 'string',\n",
    "    'total_visualizacoes_turno': 'int32',\n",
    "    'total_likes_turno' : 'float32',\n",
    "    'total_comentarios_turno': 'float32',\n",
    "    'turno_extracao' : 'string'\n",
    "}"
   ]
  },
  {
   "cell_type": "code",
   "execution_count": null,
   "metadata": {},
   "outputs": [
    {
     "data": {
      "text/html": [
       "<div>\n",
       "<style scoped>\n",
       "    .dataframe tbody tr th:only-of-type {\n",
       "        vertical-align: middle;\n",
       "    }\n",
       "\n",
       "    .dataframe tbody tr th {\n",
       "        vertical-align: top;\n",
       "    }\n",
       "\n",
       "    .dataframe thead th {\n",
       "        text-align: right;\n",
       "    }\n",
       "</style>\n",
       "<table border=\"1\" class=\"dataframe\">\n",
       "  <thead>\n",
       "    <tr style=\"text-align: right;\">\n",
       "      <th></th>\n",
       "      <th>data_extracao</th>\n",
       "      <th>nm_canal</th>\n",
       "      <th>titulo_video</th>\n",
       "      <th>id_categoria</th>\n",
       "      <th>total_visualizacoes_turno</th>\n",
       "      <th>total_likes_turno</th>\n",
       "      <th>total_comentarios_turno</th>\n",
       "      <th>turno_extracao</th>\n",
       "    </tr>\n",
       "  </thead>\n",
       "  <tbody>\n",
       "    <tr>\n",
       "      <th>0</th>\n",
       "      <td>2023-10-15</td>\n",
       "      <td>東映アニメーション公式YouTubeチャンネル</td>\n",
       "      <td>“Dragon Ball DAIMA” Teaser Trailer / Fall 2024</td>\n",
       "      <td>1</td>\n",
       "      <td>70675</td>\n",
       "      <td>1693.0</td>\n",
       "      <td>107.0</td>\n",
       "      <td>Noite</td>\n",
       "    </tr>\n",
       "    <tr>\n",
       "      <th>1</th>\n",
       "      <td>2023-10-15</td>\n",
       "      <td>東映アニメーション公式YouTubeチャンネル</td>\n",
       "      <td>“Dragon Ball DAIMA” Teaser Trailer / Fall 2024</td>\n",
       "      <td>1</td>\n",
       "      <td>4070343</td>\n",
       "      <td>170259.0</td>\n",
       "      <td>17651.0</td>\n",
       "      <td>Tarde</td>\n",
       "    </tr>\n",
       "    <tr>\n",
       "      <th>2</th>\n",
       "      <td>2023-10-15</td>\n",
       "      <td>Paulinho e Toquinho Family</td>\n",
       "      <td>INCRÍVEL PISCINA de BOLINHAS DENTRO do CARRO</td>\n",
       "      <td>1</td>\n",
       "      <td>1457</td>\n",
       "      <td>13.0</td>\n",
       "      <td>114.0</td>\n",
       "      <td>Noite</td>\n",
       "    </tr>\n",
       "    <tr>\n",
       "      <th>3</th>\n",
       "      <td>2023-10-15</td>\n",
       "      <td>Paulinho e Toquinho Family</td>\n",
       "      <td>INCRÍVEL PISCINA de BOLINHAS DENTRO do CARRO</td>\n",
       "      <td>1</td>\n",
       "      <td>268434</td>\n",
       "      <td>3671.0</td>\n",
       "      <td>114.0</td>\n",
       "      <td>Tarde</td>\n",
       "    </tr>\n",
       "    <tr>\n",
       "      <th>4</th>\n",
       "      <td>2023-10-15</td>\n",
       "      <td>A24</td>\n",
       "      <td>The Iron Claw | Official Trailer HD | A24</td>\n",
       "      <td>1</td>\n",
       "      <td>133788</td>\n",
       "      <td>1996.0</td>\n",
       "      <td>92.0</td>\n",
       "      <td>Noite</td>\n",
       "    </tr>\n",
       "  </tbody>\n",
       "</table>\n",
       "</div>"
      ],
      "text/plain": [
       "  data_extracao                    nm_canal  \\\n",
       "0    2023-10-15     東映アニメーション公式YouTubeチャンネル   \n",
       "1    2023-10-15     東映アニメーション公式YouTubeチャンネル   \n",
       "2    2023-10-15  Paulinho e Toquinho Family   \n",
       "3    2023-10-15  Paulinho e Toquinho Family   \n",
       "4    2023-10-15                         A24   \n",
       "\n",
       "                                     titulo_video id_categoria  \\\n",
       "0  “Dragon Ball DAIMA” Teaser Trailer / Fall 2024            1   \n",
       "1  “Dragon Ball DAIMA” Teaser Trailer / Fall 2024            1   \n",
       "2    INCRÍVEL PISCINA de BOLINHAS DENTRO do CARRO            1   \n",
       "3    INCRÍVEL PISCINA de BOLINHAS DENTRO do CARRO            1   \n",
       "4       The Iron Claw | Official Trailer HD | A24            1   \n",
       "\n",
       "   total_visualizacoes_turno  total_likes_turno  total_comentarios_turno  \\\n",
       "0                      70675             1693.0                    107.0   \n",
       "1                    4070343           170259.0                  17651.0   \n",
       "2                       1457               13.0                    114.0   \n",
       "3                     268434             3671.0                    114.0   \n",
       "4                     133788             1996.0                     92.0   \n",
       "\n",
       "  turno_extracao  \n",
       "0          Noite  \n",
       "1          Tarde  \n",
       "2          Noite  \n",
       "3          Tarde  \n",
       "4          Noite  "
      ]
     },
     "execution_count": 58,
     "metadata": {},
     "output_type": "execute_result"
    }
   ],
   "source": [
    "df_categoria_populares = pd.read_sql_query(\n",
    "    ' SELECT data_extracao, ' \n",
    "    ' nm_canal, '\n",
    "    ' titulo_video, '\n",
    "    ' id_categoria, ' \n",
    "    ' total_visualizacoes_turno, '  \n",
    "    ' total_likes_turno, '\n",
    "    ' total_comentarios_turno, '\n",
    "    ' turno_extracao '\n",
    "    '  FROM trends_youtube '\n",
    "    ' where data_extracao = \"2023-10-15\" ',\n",
    "    con=engine,\n",
    "    dtype=tipos\n",
    "    )\n",
    "df_categoria_populares.head()"
   ]
  },
  {
   "cell_type": "code",
   "execution_count": null,
   "metadata": {},
   "outputs": [
    {
     "data": {
      "text/plain": [
       "Index                          128\n",
       "data_extracao                 3464\n",
       "nm_canal                     30932\n",
       "titulo_video                 60367\n",
       "id_categoria                 25537\n",
       "total_visualizacoes_turno     1732\n",
       "total_likes_turno             1732\n",
       "total_comentarios_turno       1732\n",
       "turno_extracao               26846\n",
       "dtype: int64"
      ]
     },
     "execution_count": 59,
     "metadata": {},
     "output_type": "execute_result"
    }
   ],
   "source": [
    "df_categoria_populares.memory_usage(deep=True)"
   ]
  },
  {
   "cell_type": "code",
   "execution_count": null,
   "metadata": {},
   "outputs": [
    {
     "name": "stdout",
     "output_type": "stream",
     "text": [
      "<class 'pandas.core.frame.DataFrame'>\n",
      "RangeIndex: 433 entries, 0 to 432\n",
      "Data columns (total 8 columns):\n",
      " #   Column                     Non-Null Count  Dtype         \n",
      "---  ------                     --------------  -----         \n",
      " 0   data_extracao              433 non-null    datetime64[ns]\n",
      " 1   nm_canal                   433 non-null    string        \n",
      " 2   titulo_video               433 non-null    string        \n",
      " 3   id_categoria               433 non-null    string        \n",
      " 4   total_visualizacoes_turno  433 non-null    int32         \n",
      " 5   total_likes_turno          423 non-null    float32       \n",
      " 6   total_comentarios_turno    416 non-null    float32       \n",
      " 7   turno_extracao             433 non-null    string        \n",
      "dtypes: datetime64[ns](1), float32(2), int32(1), string(4)\n",
      "memory usage: 22.1 KB\n"
     ]
    }
   ],
   "source": [
    "df_categoria_populares.info()"
   ]
  },
  {
   "cell_type": "code",
   "execution_count": null,
   "metadata": {},
   "outputs": [
    {
     "data": {
      "text/html": [
       "<div>\n",
       "<style scoped>\n",
       "    .dataframe tbody tr th:only-of-type {\n",
       "        vertical-align: middle;\n",
       "    }\n",
       "\n",
       "    .dataframe tbody tr th {\n",
       "        vertical-align: top;\n",
       "    }\n",
       "\n",
       "    .dataframe thead th {\n",
       "        text-align: right;\n",
       "    }\n",
       "</style>\n",
       "<table border=\"1\" class=\"dataframe\">\n",
       "  <thead>\n",
       "    <tr style=\"text-align: right;\">\n",
       "      <th></th>\n",
       "      <th>data_extracao</th>\n",
       "      <th>id_categoria</th>\n",
       "      <th>total_visualizacoes</th>\n",
       "      <th>total_likes</th>\n",
       "      <th>total_comentarios_dia</th>\n",
       "    </tr>\n",
       "  </thead>\n",
       "  <tbody>\n",
       "    <tr>\n",
       "      <th>0</th>\n",
       "      <td>2023-10-15</td>\n",
       "      <td>1</td>\n",
       "      <td>10646952</td>\n",
       "      <td>487262.0</td>\n",
       "      <td>36906.0</td>\n",
       "    </tr>\n",
       "    <tr>\n",
       "      <th>1</th>\n",
       "      <td>2023-10-15</td>\n",
       "      <td>10</td>\n",
       "      <td>188470120</td>\n",
       "      <td>8054410.0</td>\n",
       "      <td>505272.0</td>\n",
       "    </tr>\n",
       "    <tr>\n",
       "      <th>2</th>\n",
       "      <td>2023-10-15</td>\n",
       "      <td>17</td>\n",
       "      <td>25971018</td>\n",
       "      <td>959911.0</td>\n",
       "      <td>61992.0</td>\n",
       "    </tr>\n",
       "    <tr>\n",
       "      <th>3</th>\n",
       "      <td>2023-10-15</td>\n",
       "      <td>20</td>\n",
       "      <td>29314189</td>\n",
       "      <td>1754983.0</td>\n",
       "      <td>117554.0</td>\n",
       "    </tr>\n",
       "    <tr>\n",
       "      <th>4</th>\n",
       "      <td>2023-10-15</td>\n",
       "      <td>22</td>\n",
       "      <td>6772581</td>\n",
       "      <td>620345.0</td>\n",
       "      <td>51419.0</td>\n",
       "    </tr>\n",
       "    <tr>\n",
       "      <th>5</th>\n",
       "      <td>2023-10-15</td>\n",
       "      <td>23</td>\n",
       "      <td>1361139</td>\n",
       "      <td>68949.0</td>\n",
       "      <td>2195.0</td>\n",
       "    </tr>\n",
       "    <tr>\n",
       "      <th>6</th>\n",
       "      <td>2023-10-15</td>\n",
       "      <td>24</td>\n",
       "      <td>285267745</td>\n",
       "      <td>11749035.0</td>\n",
       "      <td>575284.0</td>\n",
       "    </tr>\n",
       "    <tr>\n",
       "      <th>7</th>\n",
       "      <td>2023-10-15</td>\n",
       "      <td>25</td>\n",
       "      <td>11520764</td>\n",
       "      <td>253153.0</td>\n",
       "      <td>13780.0</td>\n",
       "    </tr>\n",
       "    <tr>\n",
       "      <th>8</th>\n",
       "      <td>2023-10-15</td>\n",
       "      <td>26</td>\n",
       "      <td>49953</td>\n",
       "      <td>9076.0</td>\n",
       "      <td>690.0</td>\n",
       "    </tr>\n",
       "    <tr>\n",
       "      <th>9</th>\n",
       "      <td>2023-10-15</td>\n",
       "      <td>27</td>\n",
       "      <td>5215689</td>\n",
       "      <td>263761.0</td>\n",
       "      <td>12350.0</td>\n",
       "    </tr>\n",
       "    <tr>\n",
       "      <th>10</th>\n",
       "      <td>2023-10-15</td>\n",
       "      <td>28</td>\n",
       "      <td>6273526</td>\n",
       "      <td>2956.0</td>\n",
       "      <td>14644.0</td>\n",
       "    </tr>\n",
       "  </tbody>\n",
       "</table>\n",
       "</div>"
      ],
      "text/plain": [
       "   data_extracao id_categoria  total_visualizacoes  total_likes  \\\n",
       "0     2023-10-15            1             10646952     487262.0   \n",
       "1     2023-10-15           10            188470120    8054410.0   \n",
       "2     2023-10-15           17             25971018     959911.0   \n",
       "3     2023-10-15           20             29314189    1754983.0   \n",
       "4     2023-10-15           22              6772581     620345.0   \n",
       "5     2023-10-15           23              1361139      68949.0   \n",
       "6     2023-10-15           24            285267745   11749035.0   \n",
       "7     2023-10-15           25             11520764     253153.0   \n",
       "8     2023-10-15           26                49953       9076.0   \n",
       "9     2023-10-15           27              5215689     263761.0   \n",
       "10    2023-10-15           28              6273526       2956.0   \n",
       "\n",
       "    total_comentarios_dia  \n",
       "0                 36906.0  \n",
       "1                505272.0  \n",
       "2                 61992.0  \n",
       "3                117554.0  \n",
       "4                 51419.0  \n",
       "5                  2195.0  \n",
       "6                575284.0  \n",
       "7                 13780.0  \n",
       "8                   690.0  \n",
       "9                 12350.0  \n",
       "10                14644.0  "
      ]
     },
     "execution_count": 62,
     "metadata": {},
     "output_type": "execute_result"
    }
   ],
   "source": [
    "df_categoria_populares.groupby(['data_extracao', 'id_categoria']) \\\n",
    "    .agg(\n",
    "        total_visualizacoes=('total_visualizacoes_turno', 'sum'),\n",
    "        total_likes = ('total_likes_turno', 'sum'),\n",
    "        total_comentarios_dia=('total_comentarios_turno', 'sum')\n",
    "    ).reset_index()"
   ]
  },
  {
   "cell_type": "markdown",
   "metadata": {},
   "source": [
    "- Vídeo populares (likes, comentarios e visualizações)"
   ]
  },
  {
   "cell_type": "code",
   "execution_count": null,
   "metadata": {},
   "outputs": [
    {
     "data": {
      "text/html": [
       "<div>\n",
       "<style scoped>\n",
       "    .dataframe tbody tr th:only-of-type {\n",
       "        vertical-align: middle;\n",
       "    }\n",
       "\n",
       "    .dataframe tbody tr th {\n",
       "        vertical-align: top;\n",
       "    }\n",
       "\n",
       "    .dataframe thead th {\n",
       "        text-align: right;\n",
       "    }\n",
       "</style>\n",
       "<table border=\"1\" class=\"dataframe\">\n",
       "  <thead>\n",
       "    <tr style=\"text-align: right;\">\n",
       "      <th></th>\n",
       "      <th>data_extracao</th>\n",
       "      <th>nm_canal</th>\n",
       "      <th>titulo_video</th>\n",
       "      <th>id_categoria</th>\n",
       "      <th>total_visualizacoes_turno</th>\n",
       "      <th>total_likes_turno</th>\n",
       "      <th>total_comentarios_turno</th>\n",
       "      <th>turno_extracao</th>\n",
       "    </tr>\n",
       "  </thead>\n",
       "  <tbody>\n",
       "    <tr>\n",
       "      <th>0</th>\n",
       "      <td>2023-10-15</td>\n",
       "      <td>東映アニメーション公式YouTubeチャンネル</td>\n",
       "      <td>“Dragon Ball DAIMA” Teaser Trailer / Fall 2024</td>\n",
       "      <td>1</td>\n",
       "      <td>70675</td>\n",
       "      <td>1693.0</td>\n",
       "      <td>107.0</td>\n",
       "      <td>Noite</td>\n",
       "    </tr>\n",
       "    <tr>\n",
       "      <th>1</th>\n",
       "      <td>2023-10-15</td>\n",
       "      <td>東映アニメーション公式YouTubeチャンネル</td>\n",
       "      <td>“Dragon Ball DAIMA” Teaser Trailer / Fall 2024</td>\n",
       "      <td>1</td>\n",
       "      <td>4070343</td>\n",
       "      <td>170259.0</td>\n",
       "      <td>17651.0</td>\n",
       "      <td>Tarde</td>\n",
       "    </tr>\n",
       "    <tr>\n",
       "      <th>2</th>\n",
       "      <td>2023-10-15</td>\n",
       "      <td>Paulinho e Toquinho Family</td>\n",
       "      <td>INCRÍVEL PISCINA de BOLINHAS DENTRO do CARRO</td>\n",
       "      <td>1</td>\n",
       "      <td>1457</td>\n",
       "      <td>13.0</td>\n",
       "      <td>114.0</td>\n",
       "      <td>Noite</td>\n",
       "    </tr>\n",
       "    <tr>\n",
       "      <th>3</th>\n",
       "      <td>2023-10-15</td>\n",
       "      <td>Paulinho e Toquinho Family</td>\n",
       "      <td>INCRÍVEL PISCINA de BOLINHAS DENTRO do CARRO</td>\n",
       "      <td>1</td>\n",
       "      <td>268434</td>\n",
       "      <td>3671.0</td>\n",
       "      <td>114.0</td>\n",
       "      <td>Tarde</td>\n",
       "    </tr>\n",
       "    <tr>\n",
       "      <th>4</th>\n",
       "      <td>2023-10-15</td>\n",
       "      <td>A24</td>\n",
       "      <td>The Iron Claw | Official Trailer HD | A24</td>\n",
       "      <td>1</td>\n",
       "      <td>133788</td>\n",
       "      <td>1996.0</td>\n",
       "      <td>92.0</td>\n",
       "      <td>Noite</td>\n",
       "    </tr>\n",
       "  </tbody>\n",
       "</table>\n",
       "</div>"
      ],
      "text/plain": [
       "  data_extracao                    nm_canal  \\\n",
       "0    2023-10-15     東映アニメーション公式YouTubeチャンネル   \n",
       "1    2023-10-15     東映アニメーション公式YouTubeチャンネル   \n",
       "2    2023-10-15  Paulinho e Toquinho Family   \n",
       "3    2023-10-15  Paulinho e Toquinho Family   \n",
       "4    2023-10-15                         A24   \n",
       "\n",
       "                                     titulo_video id_categoria  \\\n",
       "0  “Dragon Ball DAIMA” Teaser Trailer / Fall 2024            1   \n",
       "1  “Dragon Ball DAIMA” Teaser Trailer / Fall 2024            1   \n",
       "2    INCRÍVEL PISCINA de BOLINHAS DENTRO do CARRO            1   \n",
       "3    INCRÍVEL PISCINA de BOLINHAS DENTRO do CARRO            1   \n",
       "4       The Iron Claw | Official Trailer HD | A24            1   \n",
       "\n",
       "   total_visualizacoes_turno  total_likes_turno  total_comentarios_turno  \\\n",
       "0                      70675             1693.0                    107.0   \n",
       "1                    4070343           170259.0                  17651.0   \n",
       "2                       1457               13.0                    114.0   \n",
       "3                     268434             3671.0                    114.0   \n",
       "4                     133788             1996.0                     92.0   \n",
       "\n",
       "  turno_extracao  \n",
       "0          Noite  \n",
       "1          Tarde  \n",
       "2          Noite  \n",
       "3          Tarde  \n",
       "4          Noite  "
      ]
     },
     "execution_count": 63,
     "metadata": {},
     "output_type": "execute_result"
    }
   ],
   "source": [
    "df_categoria_populares.head()"
   ]
  },
  {
   "cell_type": "markdown",
   "metadata": {},
   "source": [
    "- Canais populares (likes, comentarios e visualizações)"
   ]
  },
  {
   "cell_type": "code",
   "execution_count": null,
   "metadata": {},
   "outputs": [
    {
     "data": {
      "text/html": [
       "<div>\n",
       "<style scoped>\n",
       "    .dataframe tbody tr th:only-of-type {\n",
       "        vertical-align: middle;\n",
       "    }\n",
       "\n",
       "    .dataframe tbody tr th {\n",
       "        vertical-align: top;\n",
       "    }\n",
       "\n",
       "    .dataframe thead th {\n",
       "        text-align: right;\n",
       "    }\n",
       "</style>\n",
       "<table border=\"1\" class=\"dataframe\">\n",
       "  <thead>\n",
       "    <tr style=\"text-align: right;\">\n",
       "      <th></th>\n",
       "      <th>data_extracao</th>\n",
       "      <th>nm_canal</th>\n",
       "      <th>total_visualizacoes</th>\n",
       "      <th>total_likes</th>\n",
       "      <th>total_comentarios_dia</th>\n",
       "    </tr>\n",
       "  </thead>\n",
       "  <tbody>\n",
       "    <tr>\n",
       "      <th>0</th>\n",
       "      <td>2023-10-15</td>\n",
       "      <td>(G)I-DLE (여자)아이들 (Official YouTube Channel)</td>\n",
       "      <td>8627209</td>\n",
       "      <td>476803.0</td>\n",
       "      <td>19048.0</td>\n",
       "    </tr>\n",
       "    <tr>\n",
       "      <th>1</th>\n",
       "      <td>2023-10-15</td>\n",
       "      <td>30PRAUM</td>\n",
       "      <td>932037</td>\n",
       "      <td>116511.0</td>\n",
       "      <td>9296.0</td>\n",
       "    </tr>\n",
       "    <tr>\n",
       "      <th>2</th>\n",
       "      <td>2023-10-15</td>\n",
       "      <td>5incominutos</td>\n",
       "      <td>165650</td>\n",
       "      <td>27148.0</td>\n",
       "      <td>1994.0</td>\n",
       "    </tr>\n",
       "    <tr>\n",
       "      <th>3</th>\n",
       "      <td>2023-10-15</td>\n",
       "      <td>A Fazenda</td>\n",
       "      <td>1190662</td>\n",
       "      <td>25723.0</td>\n",
       "      <td>0.0</td>\n",
       "    </tr>\n",
       "    <tr>\n",
       "      <th>4</th>\n",
       "      <td>2023-10-15</td>\n",
       "      <td>A24</td>\n",
       "      <td>4279413</td>\n",
       "      <td>78174.0</td>\n",
       "      <td>5415.0</td>\n",
       "    </tr>\n",
       "    <tr>\n",
       "      <th>...</th>\n",
       "      <td>...</td>\n",
       "      <td>...</td>\n",
       "      <td>...</td>\n",
       "      <td>...</td>\n",
       "      <td>...</td>\n",
       "    </tr>\n",
       "    <tr>\n",
       "      <th>183</th>\n",
       "      <td>2023-10-15</td>\n",
       "      <td>ge</td>\n",
       "      <td>3921474</td>\n",
       "      <td>109948.0</td>\n",
       "      <td>9405.0</td>\n",
       "    </tr>\n",
       "    <tr>\n",
       "      <th>184</th>\n",
       "      <td>2023-10-15</td>\n",
       "      <td>k a m a i t a c h i</td>\n",
       "      <td>113624</td>\n",
       "      <td>28687.0</td>\n",
       "      <td>2104.0</td>\n",
       "    </tr>\n",
       "    <tr>\n",
       "      <th>185</th>\n",
       "      <td>2023-10-15</td>\n",
       "      <td>starshipTV</td>\n",
       "      <td>29838674</td>\n",
       "      <td>780081.0</td>\n",
       "      <td>45617.0</td>\n",
       "    </tr>\n",
       "    <tr>\n",
       "      <th>186</th>\n",
       "      <td>2023-10-15</td>\n",
       "      <td>viniccius13</td>\n",
       "      <td>1607585</td>\n",
       "      <td>259444.0</td>\n",
       "      <td>10361.0</td>\n",
       "    </tr>\n",
       "    <tr>\n",
       "      <th>187</th>\n",
       "      <td>2023-10-15</td>\n",
       "      <td>東映アニメーション公式YouTubeチャンネル</td>\n",
       "      <td>4141018</td>\n",
       "      <td>171952.0</td>\n",
       "      <td>17758.0</td>\n",
       "    </tr>\n",
       "  </tbody>\n",
       "</table>\n",
       "<p>188 rows × 5 columns</p>\n",
       "</div>"
      ],
      "text/plain": [
       "    data_extracao                                     nm_canal  \\\n",
       "0      2023-10-15  (G)I-DLE (여자)아이들 (Official YouTube Channel)   \n",
       "1      2023-10-15                                      30PRAUM   \n",
       "2      2023-10-15                                 5incominutos   \n",
       "3      2023-10-15                                    A Fazenda   \n",
       "4      2023-10-15                                          A24   \n",
       "..            ...                                          ...   \n",
       "183    2023-10-15                                           ge   \n",
       "184    2023-10-15                          k a m a i t a c h i   \n",
       "185    2023-10-15                                   starshipTV   \n",
       "186    2023-10-15                                  viniccius13   \n",
       "187    2023-10-15                      東映アニメーション公式YouTubeチャンネル   \n",
       "\n",
       "     total_visualizacoes  total_likes  total_comentarios_dia  \n",
       "0                8627209     476803.0                19048.0  \n",
       "1                 932037     116511.0                 9296.0  \n",
       "2                 165650      27148.0                 1994.0  \n",
       "3                1190662      25723.0                    0.0  \n",
       "4                4279413      78174.0                 5415.0  \n",
       "..                   ...          ...                    ...  \n",
       "183              3921474     109948.0                 9405.0  \n",
       "184               113624      28687.0                 2104.0  \n",
       "185             29838674     780081.0                45617.0  \n",
       "186              1607585     259444.0                10361.0  \n",
       "187              4141018     171952.0                17758.0  \n",
       "\n",
       "[188 rows x 5 columns]"
      ]
     },
     "execution_count": 64,
     "metadata": {},
     "output_type": "execute_result"
    }
   ],
   "source": [
    "df_categoria_populares.groupby(['data_extracao', 'nm_canal']) \\\n",
    "    .agg(\n",
    "        total_visualizacoes=('total_visualizacoes_turno', 'sum'),\n",
    "        total_likes = ('total_likes_turno', 'sum'),\n",
    "        total_comentarios_dia=('total_comentarios_turno', 'sum')\n",
    "    ).reset_index()"
   ]
  },
  {
   "cell_type": "markdown",
   "metadata": {},
   "source": [
    "- Desempenho da categoria por dia"
   ]
  },
  {
   "cell_type": "code",
   "execution_count": null,
   "metadata": {},
   "outputs": [],
   "source": [
    "tipos = {\n",
    "    'data_extracao': 'datetime64[ns]',\n",
    "    'nm_canal': 'string',\n",
    "    'titulo_video': 'string',\n",
    "    'id_categoria': 'integer',\n",
    "    'total_visualizacoes_turno': 'int32',\n",
    "    'total_likes_turno' : 'float32',\n",
    "    'total_comentarios_turno': 'float32',\n",
    "    'turno_extracao' : 'string'\n",
    "}"
   ]
  },
  {
   "cell_type": "code",
   "execution_count": null,
   "metadata": {},
   "outputs": [
    {
     "data": {
      "text/html": [
       "<div>\n",
       "<style scoped>\n",
       "    .dataframe tbody tr th:only-of-type {\n",
       "        vertical-align: middle;\n",
       "    }\n",
       "\n",
       "    .dataframe tbody tr th {\n",
       "        vertical-align: top;\n",
       "    }\n",
       "\n",
       "    .dataframe thead th {\n",
       "        text-align: right;\n",
       "    }\n",
       "</style>\n",
       "<table border=\"1\" class=\"dataframe\">\n",
       "  <thead>\n",
       "    <tr style=\"text-align: right;\">\n",
       "      <th></th>\n",
       "      <th>data_extracao</th>\n",
       "      <th>nm_canal</th>\n",
       "      <th>titulo_video</th>\n",
       "      <th>id_categoria</th>\n",
       "      <th>total_visualizacoes_turno</th>\n",
       "      <th>total_likes_turno</th>\n",
       "      <th>total_comentarios_turno</th>\n",
       "      <th>turno_extracao</th>\n",
       "    </tr>\n",
       "  </thead>\n",
       "  <tbody>\n",
       "    <tr>\n",
       "      <th>0</th>\n",
       "      <td>2023-10-15</td>\n",
       "      <td>PlayStation</td>\n",
       "      <td>PlayStation 5 - Same Immersive Power. New Slim...</td>\n",
       "      <td>20</td>\n",
       "      <td>9680</td>\n",
       "      <td>106.0</td>\n",
       "      <td>6.0</td>\n",
       "      <td>Noite</td>\n",
       "    </tr>\n",
       "    <tr>\n",
       "      <th>1</th>\n",
       "      <td>2023-10-15</td>\n",
       "      <td>PlayStation</td>\n",
       "      <td>PlayStation 5 - Same Immersive Power. New Slim...</td>\n",
       "      <td>20</td>\n",
       "      <td>1471570</td>\n",
       "      <td>38517.0</td>\n",
       "      <td>3771.0</td>\n",
       "      <td>Tarde</td>\n",
       "    </tr>\n",
       "    <tr>\n",
       "      <th>2</th>\n",
       "      <td>2023-10-15</td>\n",
       "      <td>Flakes Power</td>\n",
       "      <td>URGENTE!!! FORTNITE</td>\n",
       "      <td>20</td>\n",
       "      <td>1054</td>\n",
       "      <td>42.0</td>\n",
       "      <td>3.0</td>\n",
       "      <td>Noite</td>\n",
       "    </tr>\n",
       "    <tr>\n",
       "      <th>3</th>\n",
       "      <td>2023-10-15</td>\n",
       "      <td>Flakes Power</td>\n",
       "      <td>URGENTE!!! FORTNITE</td>\n",
       "      <td>20</td>\n",
       "      <td>194833</td>\n",
       "      <td>10562.0</td>\n",
       "      <td>488.0</td>\n",
       "      <td>Tarde</td>\n",
       "    </tr>\n",
       "    <tr>\n",
       "      <th>4</th>\n",
       "      <td>2023-10-15</td>\n",
       "      <td>Ana Toys games</td>\n",
       "      <td>COMO ACHAR TODOS OS DOCES EXTREME, HARD E INSA...</td>\n",
       "      <td>20</td>\n",
       "      <td>3204</td>\n",
       "      <td>75.0</td>\n",
       "      <td>2.0</td>\n",
       "      <td>Noite</td>\n",
       "    </tr>\n",
       "  </tbody>\n",
       "</table>\n",
       "</div>"
      ],
      "text/plain": [
       "  data_extracao        nm_canal  \\\n",
       "0    2023-10-15     PlayStation   \n",
       "1    2023-10-15     PlayStation   \n",
       "2    2023-10-15    Flakes Power   \n",
       "3    2023-10-15    Flakes Power   \n",
       "4    2023-10-15  Ana Toys games   \n",
       "\n",
       "                                        titulo_video id_categoria  \\\n",
       "0  PlayStation 5 - Same Immersive Power. New Slim...           20   \n",
       "1  PlayStation 5 - Same Immersive Power. New Slim...           20   \n",
       "2                                URGENTE!!! FORTNITE           20   \n",
       "3                                URGENTE!!! FORTNITE           20   \n",
       "4  COMO ACHAR TODOS OS DOCES EXTREME, HARD E INSA...           20   \n",
       "\n",
       "   total_visualizacoes_turno  total_likes_turno  total_comentarios_turno  \\\n",
       "0                       9680              106.0                      6.0   \n",
       "1                    1471570            38517.0                   3771.0   \n",
       "2                       1054               42.0                      3.0   \n",
       "3                     194833            10562.0                    488.0   \n",
       "4                       3204               75.0                      2.0   \n",
       "\n",
       "  turno_extracao  \n",
       "0          Noite  \n",
       "1          Tarde  \n",
       "2          Noite  \n",
       "3          Tarde  \n",
       "4          Noite  "
      ]
     },
     "execution_count": 71,
     "metadata": {},
     "output_type": "execute_result"
    }
   ],
   "source": [
    "df_desempenho_categoria_dia = pd.read_sql_query(\n",
    "    ' SELECT data_extracao, ' \n",
    "    ' nm_canal, '\n",
    "    ' titulo_video, '\n",
    "    ' id_categoria, ' \n",
    "    ' total_visualizacoes_turno, '  \n",
    "    ' total_likes_turno, '\n",
    "    ' total_comentarios_turno, '\n",
    "    ' turno_extracao ' \n",
    "    ' FROM trends_youtube '\n",
    "    ' where id_categoria = 20  ',\n",
    "    con=engine,\n",
    "    dtype=tipos\n",
    "    )\n",
    "df_desempenho_categoria_dia.head()"
   ]
  },
  {
   "cell_type": "code",
   "execution_count": null,
   "metadata": {},
   "outputs": [
    {
     "data": {
      "text/html": [
       "<div>\n",
       "<style scoped>\n",
       "    .dataframe tbody tr th:only-of-type {\n",
       "        vertical-align: middle;\n",
       "    }\n",
       "\n",
       "    .dataframe tbody tr th {\n",
       "        vertical-align: top;\n",
       "    }\n",
       "\n",
       "    .dataframe thead th {\n",
       "        text-align: right;\n",
       "    }\n",
       "</style>\n",
       "<table border=\"1\" class=\"dataframe\">\n",
       "  <thead>\n",
       "    <tr style=\"text-align: right;\">\n",
       "      <th></th>\n",
       "      <th>data_extracao</th>\n",
       "      <th>total_visualizacoes</th>\n",
       "      <th>total_likes</th>\n",
       "      <th>total_comentarios</th>\n",
       "    </tr>\n",
       "  </thead>\n",
       "  <tbody>\n",
       "    <tr>\n",
       "      <th>0</th>\n",
       "      <td>2023-10-15</td>\n",
       "      <td>29314189</td>\n",
       "      <td>1754983.0</td>\n",
       "      <td>117554.0</td>\n",
       "    </tr>\n",
       "    <tr>\n",
       "      <th>1</th>\n",
       "      <td>2023-10-16</td>\n",
       "      <td>8864341</td>\n",
       "      <td>495852.0</td>\n",
       "      <td>48893.0</td>\n",
       "    </tr>\n",
       "    <tr>\n",
       "      <th>2</th>\n",
       "      <td>2023-10-19</td>\n",
       "      <td>8804495</td>\n",
       "      <td>430599.0</td>\n",
       "      <td>51034.0</td>\n",
       "    </tr>\n",
       "    <tr>\n",
       "      <th>3</th>\n",
       "      <td>2023-10-20</td>\n",
       "      <td>3520689</td>\n",
       "      <td>89122.0</td>\n",
       "      <td>10135.0</td>\n",
       "    </tr>\n",
       "    <tr>\n",
       "      <th>4</th>\n",
       "      <td>2023-10-21</td>\n",
       "      <td>6227678</td>\n",
       "      <td>257911.0</td>\n",
       "      <td>18309.0</td>\n",
       "    </tr>\n",
       "    <tr>\n",
       "      <th>5</th>\n",
       "      <td>2023-10-22</td>\n",
       "      <td>8052190</td>\n",
       "      <td>428650.0</td>\n",
       "      <td>43622.0</td>\n",
       "    </tr>\n",
       "    <tr>\n",
       "      <th>6</th>\n",
       "      <td>2023-10-23</td>\n",
       "      <td>8572491</td>\n",
       "      <td>713170.0</td>\n",
       "      <td>54658.0</td>\n",
       "    </tr>\n",
       "    <tr>\n",
       "      <th>7</th>\n",
       "      <td>2023-10-24</td>\n",
       "      <td>9262972</td>\n",
       "      <td>450165.0</td>\n",
       "      <td>41689.0</td>\n",
       "    </tr>\n",
       "    <tr>\n",
       "      <th>8</th>\n",
       "      <td>2023-10-25</td>\n",
       "      <td>4755872</td>\n",
       "      <td>183938.0</td>\n",
       "      <td>45592.0</td>\n",
       "    </tr>\n",
       "    <tr>\n",
       "      <th>9</th>\n",
       "      <td>2023-10-26</td>\n",
       "      <td>6484170</td>\n",
       "      <td>255852.0</td>\n",
       "      <td>60162.0</td>\n",
       "    </tr>\n",
       "    <tr>\n",
       "      <th>10</th>\n",
       "      <td>2023-10-27</td>\n",
       "      <td>3270856</td>\n",
       "      <td>103924.0</td>\n",
       "      <td>47863.0</td>\n",
       "    </tr>\n",
       "  </tbody>\n",
       "</table>\n",
       "</div>"
      ],
      "text/plain": [
       "   data_extracao  total_visualizacoes  total_likes  total_comentarios\n",
       "0     2023-10-15             29314189    1754983.0           117554.0\n",
       "1     2023-10-16              8864341     495852.0            48893.0\n",
       "2     2023-10-19              8804495     430599.0            51034.0\n",
       "3     2023-10-20              3520689      89122.0            10135.0\n",
       "4     2023-10-21              6227678     257911.0            18309.0\n",
       "5     2023-10-22              8052190     428650.0            43622.0\n",
       "6     2023-10-23              8572491     713170.0            54658.0\n",
       "7     2023-10-24              9262972     450165.0            41689.0\n",
       "8     2023-10-25              4755872     183938.0            45592.0\n",
       "9     2023-10-26              6484170     255852.0            60162.0\n",
       "10    2023-10-27              3270856     103924.0            47863.0"
      ]
     },
     "execution_count": 72,
     "metadata": {},
     "output_type": "execute_result"
    }
   ],
   "source": [
    "df_desempenho_categoria_dia.groupby('data_extracao').agg(\n",
    "    total_visualizacoes=('total_visualizacoes_turno', 'sum'),\n",
    "    total_likes=('total_likes_turno', 'sum'),\n",
    "    total_comentarios=('total_comentarios_turno', 'sum')\n",
    ").reset_index()"
   ]
  },
  {
   "cell_type": "markdown",
   "metadata": {},
   "source": [
    "- Top 10 vídeo em alta por categoria"
   ]
  },
  {
   "cell_type": "code",
   "execution_count": null,
   "metadata": {},
   "outputs": [],
   "source": [
    "tipos = {\n",
    "    'data_extracao': 'datetime64[ns]',\n",
    "    'turno_extracao' : 'string',\n",
    "    'nm_canal': 'string',\n",
    "    'titulo_video': 'string',\n",
    "    'id_categoria': 'string',\n",
    "    'total_visualizacoes_turno': 'int32',\n",
    "    'total_likes_turno' : 'float32',\n",
    "    'total_comentarios_turno': 'float32'\n",
    "}"
   ]
  },
  {
   "cell_type": "code",
   "execution_count": null,
   "metadata": {},
   "outputs": [
    {
     "data": {
      "text/html": [
       "<div>\n",
       "<style scoped>\n",
       "    .dataframe tbody tr th:only-of-type {\n",
       "        vertical-align: middle;\n",
       "    }\n",
       "\n",
       "    .dataframe tbody tr th {\n",
       "        vertical-align: top;\n",
       "    }\n",
       "\n",
       "    .dataframe thead th {\n",
       "        text-align: right;\n",
       "    }\n",
       "</style>\n",
       "<table border=\"1\" class=\"dataframe\">\n",
       "  <thead>\n",
       "    <tr style=\"text-align: right;\">\n",
       "      <th></th>\n",
       "      <th>data_extracao</th>\n",
       "      <th>turno_extracao</th>\n",
       "      <th>nm_canal</th>\n",
       "      <th>titulo_video</th>\n",
       "      <th>id_categoria</th>\n",
       "      <th>total_visualizacoes_turno</th>\n",
       "      <th>total_likes_turno</th>\n",
       "      <th>total_comentarios_turno</th>\n",
       "    </tr>\n",
       "  </thead>\n",
       "  <tbody>\n",
       "    <tr>\n",
       "      <th>0</th>\n",
       "      <td>2023-10-26</td>\n",
       "      <td>Manhã</td>\n",
       "      <td>Apex Legends</td>\n",
       "      <td>Apex Legends: Ignite Launch Trailer</td>\n",
       "      <td>20</td>\n",
       "      <td>72260</td>\n",
       "      <td>1642.0</td>\n",
       "      <td>180.0</td>\n",
       "    </tr>\n",
       "    <tr>\n",
       "      <th>1</th>\n",
       "      <td>2023-10-26</td>\n",
       "      <td>Noite</td>\n",
       "      <td>Apex Legends</td>\n",
       "      <td>Apex Legends: Ignite Launch Trailer</td>\n",
       "      <td>20</td>\n",
       "      <td>24690</td>\n",
       "      <td>537.0</td>\n",
       "      <td>15.0</td>\n",
       "    </tr>\n",
       "    <tr>\n",
       "      <th>2</th>\n",
       "      <td>2023-10-26</td>\n",
       "      <td>Tarde</td>\n",
       "      <td>Apex Legends</td>\n",
       "      <td>Apex Legends: Ignite Launch Trailer</td>\n",
       "      <td>20</td>\n",
       "      <td>50593</td>\n",
       "      <td>1069.0</td>\n",
       "      <td>25.0</td>\n",
       "    </tr>\n",
       "    <tr>\n",
       "      <th>3</th>\n",
       "      <td>2023-10-26</td>\n",
       "      <td>Noite</td>\n",
       "      <td>Apex Legends</td>\n",
       "      <td>Apex Legends: Ignite Gameplay Trailer</td>\n",
       "      <td>20</td>\n",
       "      <td>840241</td>\n",
       "      <td>41044.0</td>\n",
       "      <td>3831.0</td>\n",
       "    </tr>\n",
       "    <tr>\n",
       "      <th>4</th>\n",
       "      <td>2023-10-26</td>\n",
       "      <td>Manhã</td>\n",
       "      <td>League of Legends</td>\n",
       "      <td>HEARTSTEEL - PARANOIA ft. BAEKHYUN, tobi lou, ...</td>\n",
       "      <td>20</td>\n",
       "      <td>988062</td>\n",
       "      <td>18454.0</td>\n",
       "      <td>982.0</td>\n",
       "    </tr>\n",
       "    <tr>\n",
       "      <th>5</th>\n",
       "      <td>2023-10-26</td>\n",
       "      <td>Noite</td>\n",
       "      <td>League of Legends</td>\n",
       "      <td>HEARTSTEEL - PARANOIA ft. BAEKHYUN, tobi lou, ...</td>\n",
       "      <td>20</td>\n",
       "      <td>405627</td>\n",
       "      <td>5923.0</td>\n",
       "      <td>399.0</td>\n",
       "    </tr>\n",
       "    <tr>\n",
       "      <th>6</th>\n",
       "      <td>2023-10-26</td>\n",
       "      <td>Tarde</td>\n",
       "      <td>League of Legends</td>\n",
       "      <td>HEARTSTEEL - PARANOIA ft. BAEKHYUN, tobi lou, ...</td>\n",
       "      <td>20</td>\n",
       "      <td>542301</td>\n",
       "      <td>9670.0</td>\n",
       "      <td>386.0</td>\n",
       "    </tr>\n",
       "    <tr>\n",
       "      <th>7</th>\n",
       "      <td>2023-10-26</td>\n",
       "      <td>Manhã</td>\n",
       "      <td>League of Legends</td>\n",
       "      <td>HEARTSTEEL - PARANOIA Music Video Teaser | Lea...</td>\n",
       "      <td>20</td>\n",
       "      <td>7181</td>\n",
       "      <td>369.0</td>\n",
       "      <td>2.0</td>\n",
       "    </tr>\n",
       "    <tr>\n",
       "      <th>8</th>\n",
       "      <td>2023-10-26</td>\n",
       "      <td>Noite</td>\n",
       "      <td>League of Legends</td>\n",
       "      <td>HEARTSTEEL - PARANOIA Music Video Teaser | Lea...</td>\n",
       "      <td>20</td>\n",
       "      <td>3371</td>\n",
       "      <td>93.0</td>\n",
       "      <td>2150.0</td>\n",
       "    </tr>\n",
       "    <tr>\n",
       "      <th>9</th>\n",
       "      <td>2023-10-26</td>\n",
       "      <td>Tarde</td>\n",
       "      <td>League of Legends</td>\n",
       "      <td>HEARTSTEEL - PARANOIA Music Video Teaser | Lea...</td>\n",
       "      <td>20</td>\n",
       "      <td>5464</td>\n",
       "      <td>135.0</td>\n",
       "      <td>1.0</td>\n",
       "    </tr>\n",
       "  </tbody>\n",
       "</table>\n",
       "</div>"
      ],
      "text/plain": [
       "  data_extracao turno_extracao           nm_canal  \\\n",
       "0    2023-10-26          Manhã       Apex Legends   \n",
       "1    2023-10-26          Noite       Apex Legends   \n",
       "2    2023-10-26          Tarde       Apex Legends   \n",
       "3    2023-10-26          Noite       Apex Legends   \n",
       "4    2023-10-26          Manhã  League of Legends   \n",
       "5    2023-10-26          Noite  League of Legends   \n",
       "6    2023-10-26          Tarde  League of Legends   \n",
       "7    2023-10-26          Manhã  League of Legends   \n",
       "8    2023-10-26          Noite  League of Legends   \n",
       "9    2023-10-26          Tarde  League of Legends   \n",
       "\n",
       "                                        titulo_video id_categoria  \\\n",
       "0                Apex Legends: Ignite Launch Trailer           20   \n",
       "1                Apex Legends: Ignite Launch Trailer           20   \n",
       "2                Apex Legends: Ignite Launch Trailer           20   \n",
       "3              Apex Legends: Ignite Gameplay Trailer           20   \n",
       "4  HEARTSTEEL - PARANOIA ft. BAEKHYUN, tobi lou, ...           20   \n",
       "5  HEARTSTEEL - PARANOIA ft. BAEKHYUN, tobi lou, ...           20   \n",
       "6  HEARTSTEEL - PARANOIA ft. BAEKHYUN, tobi lou, ...           20   \n",
       "7  HEARTSTEEL - PARANOIA Music Video Teaser | Lea...           20   \n",
       "8  HEARTSTEEL - PARANOIA Music Video Teaser | Lea...           20   \n",
       "9  HEARTSTEEL - PARANOIA Music Video Teaser | Lea...           20   \n",
       "\n",
       "   total_visualizacoes_turno  total_likes_turno  total_comentarios_turno  \n",
       "0                      72260             1642.0                    180.0  \n",
       "1                      24690              537.0                     15.0  \n",
       "2                      50593             1069.0                     25.0  \n",
       "3                     840241            41044.0                   3831.0  \n",
       "4                     988062            18454.0                    982.0  \n",
       "5                     405627             5923.0                    399.0  \n",
       "6                     542301             9670.0                    386.0  \n",
       "7                       7181              369.0                      2.0  \n",
       "8                       3371               93.0                   2150.0  \n",
       "9                       5464              135.0                      1.0  "
      ]
     },
     "execution_count": 83,
     "metadata": {},
     "output_type": "execute_result"
    }
   ],
   "source": [
    "df_top_10 = pd.read_sql_query(\n",
    "    ' SELECT  ' \n",
    "    ' data_extracao, '\n",
    "    ' turno_extracao,'\n",
    "    ' nm_canal, '\n",
    "    ' titulo_video, '\n",
    "    ' id_categoria, ' \n",
    "    ' total_visualizacoes_turno, '  \n",
    "    ' total_likes_turno, '\n",
    "    ' total_comentarios_turno '\n",
    "    '  FROM trends_youtube '\n",
    "    ' where id_categoria = 20 '\n",
    "    ' AND data_extracao = \"2023-10-26\" ',\n",
    "    con=engine,\n",
    "    dtype=tipos\n",
    "    )\n",
    "df_top_10.head(10)"
   ]
  },
  {
   "cell_type": "code",
   "execution_count": null,
   "metadata": {},
   "outputs": [
    {
     "data": {
      "text/html": [
       "<div>\n",
       "<style scoped>\n",
       "    .dataframe tbody tr th:only-of-type {\n",
       "        vertical-align: middle;\n",
       "    }\n",
       "\n",
       "    .dataframe tbody tr th {\n",
       "        vertical-align: top;\n",
       "    }\n",
       "\n",
       "    .dataframe thead th {\n",
       "        text-align: right;\n",
       "    }\n",
       "</style>\n",
       "<table border=\"1\" class=\"dataframe\">\n",
       "  <thead>\n",
       "    <tr style=\"text-align: right;\">\n",
       "      <th></th>\n",
       "      <th>data_extracao</th>\n",
       "      <th>nm_canal</th>\n",
       "      <th>titulo_video</th>\n",
       "      <th>total_visualizacoes</th>\n",
       "      <th>total_likes</th>\n",
       "      <th>total_comentarios</th>\n",
       "    </tr>\n",
       "  </thead>\n",
       "  <tbody>\n",
       "    <tr>\n",
       "      <th>0</th>\n",
       "      <td>2023-10-26</td>\n",
       "      <td>ARK: Survival Ascended</td>\n",
       "      <td>ARK: Survival Ascended Launch Trailer</td>\n",
       "      <td>1322140</td>\n",
       "      <td>66120.0</td>\n",
       "      <td>7019.0</td>\n",
       "    </tr>\n",
       "    <tr>\n",
       "      <th>1</th>\n",
       "      <td>2023-10-26</td>\n",
       "      <td>Apex Legends</td>\n",
       "      <td>Apex Legends: Ignite Gameplay Trailer</td>\n",
       "      <td>840241</td>\n",
       "      <td>41044.0</td>\n",
       "      <td>3831.0</td>\n",
       "    </tr>\n",
       "    <tr>\n",
       "      <th>2</th>\n",
       "      <td>2023-10-26</td>\n",
       "      <td>Apex Legends</td>\n",
       "      <td>Apex Legends: Ignite Launch Trailer</td>\n",
       "      <td>147543</td>\n",
       "      <td>3248.0</td>\n",
       "      <td>220.0</td>\n",
       "    </tr>\n",
       "    <tr>\n",
       "      <th>3</th>\n",
       "      <td>2023-10-26</td>\n",
       "      <td>BREN0RJ</td>\n",
       "      <td>CONSEGUI O NOVO ESTILO DE LUTA DO BLOX FRUITS ...</td>\n",
       "      <td>8120</td>\n",
       "      <td>443.0</td>\n",
       "      <td>147.0</td>\n",
       "    </tr>\n",
       "    <tr>\n",
       "      <th>4</th>\n",
       "      <td>2023-10-26</td>\n",
       "      <td>BREN0RJ</td>\n",
       "      <td>UPEI DO 1 AO 700 COM A NOVA FRUTA MAMUTE DO BL...</td>\n",
       "      <td>31674</td>\n",
       "      <td>1356.0</td>\n",
       "      <td>26.0</td>\n",
       "    </tr>\n",
       "    <tr>\n",
       "      <th>5</th>\n",
       "      <td>2023-10-26</td>\n",
       "      <td>BRKsEDU</td>\n",
       "      <td>SPIDER-MAN 2 - O Início de Gameplay, em Portug...</td>\n",
       "      <td>28297</td>\n",
       "      <td>1007.0</td>\n",
       "      <td>7.0</td>\n",
       "    </tr>\n",
       "    <tr>\n",
       "      <th>6</th>\n",
       "      <td>2023-10-26</td>\n",
       "      <td>Bern</td>\n",
       "      <td>Eu EXPULSEI o GELEIA da CREATIVE SQUAD</td>\n",
       "      <td>3567</td>\n",
       "      <td>113.0</td>\n",
       "      <td>417.0</td>\n",
       "    </tr>\n",
       "    <tr>\n",
       "      <th>7</th>\n",
       "      <td>2023-10-26</td>\n",
       "      <td>Brawl Stars</td>\n",
       "      <td>Brawl Stars Animation - The Bizarre Circus Spe...</td>\n",
       "      <td>75088</td>\n",
       "      <td>1358.0</td>\n",
       "      <td>72.0</td>\n",
       "    </tr>\n",
       "    <tr>\n",
       "      <th>8</th>\n",
       "      <td>2023-10-26</td>\n",
       "      <td>Brawl Stars</td>\n",
       "      <td>Brawl Stars: Brawl Talk - MEGA PIG, Spider Bra...</td>\n",
       "      <td>123645</td>\n",
       "      <td>1671.0</td>\n",
       "      <td>164.0</td>\n",
       "    </tr>\n",
       "    <tr>\n",
       "      <th>9</th>\n",
       "      <td>2023-10-26</td>\n",
       "      <td>ChratosGameplay</td>\n",
       "      <td>PEQUENA FORTUNA EM SERVIÇOS PÚBLICOS BÁSICOS 🏙...</td>\n",
       "      <td>2813</td>\n",
       "      <td>214.0</td>\n",
       "      <td>372.0</td>\n",
       "    </tr>\n",
       "    <tr>\n",
       "      <th>10</th>\n",
       "      <td>2023-10-26</td>\n",
       "      <td>Cortes do Mylon</td>\n",
       "      <td>MYLON REAGE: AS 20 PIORES PLAYS DA HISTÓRIA DO...</td>\n",
       "      <td>58108</td>\n",
       "      <td>3342.0</td>\n",
       "      <td>33.0</td>\n",
       "    </tr>\n",
       "    <tr>\n",
       "      <th>11</th>\n",
       "      <td>2023-10-26</td>\n",
       "      <td>Daishikawa</td>\n",
       "      <td>O QUE ESTÁ ACONTECENDO COM ESSA ANIMAÇÃO??? - ...</td>\n",
       "      <td>96999</td>\n",
       "      <td>11396.0</td>\n",
       "      <td>577.0</td>\n",
       "    </tr>\n",
       "    <tr>\n",
       "      <th>12</th>\n",
       "      <td>2023-10-26</td>\n",
       "      <td>Davi</td>\n",
       "      <td>Em Busca do Campeão: 100 CAMADAS de SPLEEF! - ...</td>\n",
       "      <td>25356</td>\n",
       "      <td>1543.0</td>\n",
       "      <td>20.0</td>\n",
       "    </tr>\n",
       "    <tr>\n",
       "      <th>13</th>\n",
       "      <td>2023-10-26</td>\n",
       "      <td>GH0Ks</td>\n",
       "      <td>FINALMENTE DERROTEI O LEVIATHAN DO BLOX FRUITS!!!</td>\n",
       "      <td>2810</td>\n",
       "      <td>73.0</td>\n",
       "      <td>753.0</td>\n",
       "    </tr>\n",
       "    <tr>\n",
       "      <th>14</th>\n",
       "      <td>2023-10-26</td>\n",
       "      <td>Games EduUu</td>\n",
       "      <td>DUPLA DA BICUDA! - Spider-Man 2</td>\n",
       "      <td>104933</td>\n",
       "      <td>10862.0</td>\n",
       "      <td>94.0</td>\n",
       "    </tr>\n",
       "    <tr>\n",
       "      <th>15</th>\n",
       "      <td>2023-10-26</td>\n",
       "      <td>Games EduUu</td>\n",
       "      <td>MACACO PLAY 2 KKKKKKKKK! - Skull Island Rise o...</td>\n",
       "      <td>21888</td>\n",
       "      <td>1375.0</td>\n",
       "      <td>15.0</td>\n",
       "    </tr>\n",
       "    <tr>\n",
       "      <th>16</th>\n",
       "      <td>2023-10-26</td>\n",
       "      <td>Hidro</td>\n",
       "      <td>REVELEI TODO O PODER DAS NOVAS FRUTAS \"MAMUTE ...</td>\n",
       "      <td>22288</td>\n",
       "      <td>545.0</td>\n",
       "      <td>694.0</td>\n",
       "    </tr>\n",
       "    <tr>\n",
       "      <th>17</th>\n",
       "      <td>2023-10-26</td>\n",
       "      <td>Jazzghost</td>\n",
       "      <td>ELE PEGA ESSE TREM TODA MADRUGADA MAS PARECE Q...</td>\n",
       "      <td>26940</td>\n",
       "      <td>624.0</td>\n",
       "      <td>9.0</td>\n",
       "    </tr>\n",
       "    <tr>\n",
       "      <th>18</th>\n",
       "      <td>2023-10-26</td>\n",
       "      <td>Jazzghost</td>\n",
       "      <td>O BIZARRO EPISÓDIO PERDIDO DE UMA SÉRIE DE TER...</td>\n",
       "      <td>37526</td>\n",
       "      <td>847.0</td>\n",
       "      <td>17.0</td>\n",
       "    </tr>\n",
       "    <tr>\n",
       "      <th>19</th>\n",
       "      <td>2023-10-26</td>\n",
       "      <td>Jazzghost</td>\n",
       "      <td>SOBREVIVENDO NUMA ILHA DESERTA POR QUE O PLANE...</td>\n",
       "      <td>110827</td>\n",
       "      <td>2883.0</td>\n",
       "      <td>1330.0</td>\n",
       "    </tr>\n",
       "    <tr>\n",
       "      <th>20</th>\n",
       "      <td>2023-10-26</td>\n",
       "      <td>JeffBlox 2</td>\n",
       "      <td>LOCALIZAÇÃO E COMO PEGAR O ESTILO DE LUTA ARTE...</td>\n",
       "      <td>453</td>\n",
       "      <td>5.0</td>\n",
       "      <td>642.0</td>\n",
       "    </tr>\n",
       "    <tr>\n",
       "      <th>21</th>\n",
       "      <td>2023-10-26</td>\n",
       "      <td>Juaumzinho</td>\n",
       "      <td>COMO SPAWNAR o LEVIATHAN e COMO PEGAR ESTILO D...</td>\n",
       "      <td>392</td>\n",
       "      <td>5.0</td>\n",
       "      <td>1143.0</td>\n",
       "    </tr>\n",
       "    <tr>\n",
       "      <th>22</th>\n",
       "      <td>2023-10-26</td>\n",
       "      <td>Lanzito</td>\n",
       "      <td>24 Horas Rastreando as Novas Frutas da Atualiz...</td>\n",
       "      <td>39722</td>\n",
       "      <td>2782.0</td>\n",
       "      <td>84.0</td>\n",
       "    </tr>\n",
       "    <tr>\n",
       "      <th>23</th>\n",
       "      <td>2023-10-26</td>\n",
       "      <td>Lanzito</td>\n",
       "      <td>Finalmente Chegou a Atualização do Blox Fruits...</td>\n",
       "      <td>368</td>\n",
       "      <td>16.0</td>\n",
       "      <td>962.0</td>\n",
       "    </tr>\n",
       "    <tr>\n",
       "      <th>24</th>\n",
       "      <td>2023-10-26</td>\n",
       "      <td>League of Legends</td>\n",
       "      <td>HEARTSTEEL - PARANOIA Music Video Teaser | Lea...</td>\n",
       "      <td>16016</td>\n",
       "      <td>597.0</td>\n",
       "      <td>2153.0</td>\n",
       "    </tr>\n",
       "    <tr>\n",
       "      <th>25</th>\n",
       "      <td>2023-10-26</td>\n",
       "      <td>League of Legends</td>\n",
       "      <td>HEARTSTEEL - PARANOIA ft. BAEKHYUN, tobi lou, ...</td>\n",
       "      <td>1935990</td>\n",
       "      <td>34047.0</td>\n",
       "      <td>1767.0</td>\n",
       "    </tr>\n",
       "    <tr>\n",
       "      <th>26</th>\n",
       "      <td>2023-10-26</td>\n",
       "      <td>LipaoGamer</td>\n",
       "      <td>SPIDER MAN 2 PS5 - O inicio do jogo em MUNDO A...</td>\n",
       "      <td>31933</td>\n",
       "      <td>726.0</td>\n",
       "      <td>966.0</td>\n",
       "    </tr>\n",
       "    <tr>\n",
       "      <th>27</th>\n",
       "      <td>2023-10-26</td>\n",
       "      <td>Lucas Clash ON</td>\n",
       "      <td>fazendo troca até conseguir a nova fruta do SO...</td>\n",
       "      <td>19761</td>\n",
       "      <td>2238.0</td>\n",
       "      <td>1355.0</td>\n",
       "    </tr>\n",
       "    <tr>\n",
       "      <th>28</th>\n",
       "      <td>2023-10-26</td>\n",
       "      <td>Mendrake</td>\n",
       "      <td>COMO CONSEGUI 1000 NÍVEIS DE XP NO MINECRAFT</td>\n",
       "      <td>28872</td>\n",
       "      <td>664.0</td>\n",
       "      <td>10.0</td>\n",
       "    </tr>\n",
       "    <tr>\n",
       "      <th>29</th>\n",
       "      <td>2023-10-26</td>\n",
       "      <td>Mendrake</td>\n",
       "      <td>O DIA QUE CONSEGUI 1000 NÍVEIS DE XP</td>\n",
       "      <td>97206</td>\n",
       "      <td>2135.0</td>\n",
       "      <td>39.0</td>\n",
       "    </tr>\n",
       "    <tr>\n",
       "      <th>30</th>\n",
       "      <td>2023-10-26</td>\n",
       "      <td>MucaHD</td>\n",
       "      <td>CREATIVE SQUAD 4: 1 CAÇADOR vs 12 SPEEDRUNNERS</td>\n",
       "      <td>5080</td>\n",
       "      <td>226.0</td>\n",
       "      <td>4.0</td>\n",
       "    </tr>\n",
       "    <tr>\n",
       "      <th>31</th>\n",
       "      <td>2023-10-26</td>\n",
       "      <td>NOBRU</td>\n",
       "      <td>CPN X DIA 1 💜 NOISE - CRIAS - LOS - FLAMENGO 💜</td>\n",
       "      <td>1651</td>\n",
       "      <td>62.0</td>\n",
       "      <td>372.0</td>\n",
       "    </tr>\n",
       "    <tr>\n",
       "      <th>32</th>\n",
       "      <td>2023-10-26</td>\n",
       "      <td>Patricio Games</td>\n",
       "      <td>CORRE!! NOVO CÓDIGO DA FRUTA MAMUTE + 31 CÓDIG...</td>\n",
       "      <td>763</td>\n",
       "      <td>26.0</td>\n",
       "      <td>19113.0</td>\n",
       "    </tr>\n",
       "    <tr>\n",
       "      <th>33</th>\n",
       "      <td>2023-10-26</td>\n",
       "      <td>Plique</td>\n",
       "      <td>TUDO QUE MUDOU NA ATUALIZAÇÃO DO BLOX FRUITS</td>\n",
       "      <td>5884</td>\n",
       "      <td>77.0</td>\n",
       "      <td>1118.0</td>\n",
       "    </tr>\n",
       "    <tr>\n",
       "      <th>34</th>\n",
       "      <td>2023-10-26</td>\n",
       "      <td>Problems</td>\n",
       "      <td>Evolui Pet de Youtubers do Começo Até o Final!</td>\n",
       "      <td>11401</td>\n",
       "      <td>128.0</td>\n",
       "      <td>3.0</td>\n",
       "    </tr>\n",
       "    <tr>\n",
       "      <th>35</th>\n",
       "      <td>2023-10-26</td>\n",
       "      <td>Robin Hood Gamer</td>\n",
       "      <td>ESCAPE DA PRISÃO SEGURA DO SMURF CAT NO ROBLOX!!</td>\n",
       "      <td>36172</td>\n",
       "      <td>1022.0</td>\n",
       "      <td>3.0</td>\n",
       "    </tr>\n",
       "    <tr>\n",
       "      <th>36</th>\n",
       "      <td>2023-10-26</td>\n",
       "      <td>Rockstar Games</td>\n",
       "      <td>Halloween in GTA Online</td>\n",
       "      <td>345895</td>\n",
       "      <td>17159.0</td>\n",
       "      <td>8217.0</td>\n",
       "    </tr>\n",
       "    <tr>\n",
       "      <th>37</th>\n",
       "      <td>2023-10-26</td>\n",
       "      <td>Saadhak</td>\n",
       "      <td>TUDO sobre ISO NOVO AGENTE  do VALORANT | LOUD...</td>\n",
       "      <td>2126</td>\n",
       "      <td>75.0</td>\n",
       "      <td>572.0</td>\n",
       "    </tr>\n",
       "    <tr>\n",
       "      <th>38</th>\n",
       "      <td>2023-10-26</td>\n",
       "      <td>SanInPlay</td>\n",
       "      <td>GTA 6: VAZ0U! Assim SERÁ o TRAILER... Funcioná...</td>\n",
       "      <td>73916</td>\n",
       "      <td>6451.0</td>\n",
       "      <td>635.0</td>\n",
       "    </tr>\n",
       "    <tr>\n",
       "      <th>39</th>\n",
       "      <td>2023-10-26</td>\n",
       "      <td>Tex HS</td>\n",
       "      <td>A EXPERIÊNCIA DO AVIÃO ft CRIS MINEGIRL (Roblo...</td>\n",
       "      <td>53286</td>\n",
       "      <td>829.0</td>\n",
       "      <td>45.0</td>\n",
       "    </tr>\n",
       "    <tr>\n",
       "      <th>40</th>\n",
       "      <td>2023-10-26</td>\n",
       "      <td>Tigre TV</td>\n",
       "      <td>O DIA CHEGOU!!! ATUALIZAÇÃO 20 do BLOX FRUITS ...</td>\n",
       "      <td>67</td>\n",
       "      <td>4835.0</td>\n",
       "      <td>1506.0</td>\n",
       "    </tr>\n",
       "    <tr>\n",
       "      <th>41</th>\n",
       "      <td>2023-10-26</td>\n",
       "      <td>United Sz</td>\n",
       "      <td>BUGOU!!! BRAWL STARS NÃO ENTRA E SÓ FICA EM MA...</td>\n",
       "      <td>1677</td>\n",
       "      <td>12.0</td>\n",
       "      <td>1364.0</td>\n",
       "    </tr>\n",
       "    <tr>\n",
       "      <th>42</th>\n",
       "      <td>2023-10-26</td>\n",
       "      <td>VALORANT // Brasil</td>\n",
       "      <td>MITOS // Trailer de Agente: Iso – VALORANT</td>\n",
       "      <td>3545</td>\n",
       "      <td>127.0</td>\n",
       "      <td>669.0</td>\n",
       "    </tr>\n",
       "    <tr>\n",
       "      <th>43</th>\n",
       "      <td>2023-10-26</td>\n",
       "      <td>Xbox</td>\n",
       "      <td>METAL GEAR SOLID Δ: SNAKE EATER - First In-Eng...</td>\n",
       "      <td>545709</td>\n",
       "      <td>16943.0</td>\n",
       "      <td>996.0</td>\n",
       "    </tr>\n",
       "    <tr>\n",
       "      <th>44</th>\n",
       "      <td>2023-10-26</td>\n",
       "      <td>YoshiGamer</td>\n",
       "      <td>ARK SURVIVAL ASCENDED - Minha Primeira GAMEPLAY!</td>\n",
       "      <td>40420</td>\n",
       "      <td>4451.0</td>\n",
       "      <td>256.0</td>\n",
       "    </tr>\n",
       "    <tr>\n",
       "      <th>45</th>\n",
       "      <td>2023-10-26</td>\n",
       "      <td>Zangado</td>\n",
       "      <td>Skull Island: Rise of Kong : A Primeira Mei......</td>\n",
       "      <td>35836</td>\n",
       "      <td>6280.0</td>\n",
       "      <td>282.0</td>\n",
       "    </tr>\n",
       "    <tr>\n",
       "      <th>46</th>\n",
       "      <td>2023-10-26</td>\n",
       "      <td>viniccius13</td>\n",
       "      <td>Farm de Sniffer - Minecraft Em busca da casa a...</td>\n",
       "      <td>59226</td>\n",
       "      <td>3870.0</td>\n",
       "      <td>69.0</td>\n",
       "    </tr>\n",
       "  </tbody>\n",
       "</table>\n",
       "</div>"
      ],
      "text/plain": [
       "   data_extracao                nm_canal  \\\n",
       "0     2023-10-26  ARK: Survival Ascended   \n",
       "1     2023-10-26            Apex Legends   \n",
       "2     2023-10-26            Apex Legends   \n",
       "3     2023-10-26                 BREN0RJ   \n",
       "4     2023-10-26                 BREN0RJ   \n",
       "5     2023-10-26                 BRKsEDU   \n",
       "6     2023-10-26                    Bern   \n",
       "7     2023-10-26             Brawl Stars   \n",
       "8     2023-10-26             Brawl Stars   \n",
       "9     2023-10-26         ChratosGameplay   \n",
       "10    2023-10-26         Cortes do Mylon   \n",
       "11    2023-10-26              Daishikawa   \n",
       "12    2023-10-26                    Davi   \n",
       "13    2023-10-26                   GH0Ks   \n",
       "14    2023-10-26             Games EduUu   \n",
       "15    2023-10-26             Games EduUu   \n",
       "16    2023-10-26                   Hidro   \n",
       "17    2023-10-26               Jazzghost   \n",
       "18    2023-10-26               Jazzghost   \n",
       "19    2023-10-26               Jazzghost   \n",
       "20    2023-10-26              JeffBlox 2   \n",
       "21    2023-10-26              Juaumzinho   \n",
       "22    2023-10-26                 Lanzito   \n",
       "23    2023-10-26                 Lanzito   \n",
       "24    2023-10-26       League of Legends   \n",
       "25    2023-10-26       League of Legends   \n",
       "26    2023-10-26              LipaoGamer   \n",
       "27    2023-10-26          Lucas Clash ON   \n",
       "28    2023-10-26                Mendrake   \n",
       "29    2023-10-26                Mendrake   \n",
       "30    2023-10-26                  MucaHD   \n",
       "31    2023-10-26                   NOBRU   \n",
       "32    2023-10-26          Patricio Games   \n",
       "33    2023-10-26                  Plique   \n",
       "34    2023-10-26                Problems   \n",
       "35    2023-10-26        Robin Hood Gamer   \n",
       "36    2023-10-26          Rockstar Games   \n",
       "37    2023-10-26                 Saadhak   \n",
       "38    2023-10-26               SanInPlay   \n",
       "39    2023-10-26                  Tex HS   \n",
       "40    2023-10-26                Tigre TV   \n",
       "41    2023-10-26               United Sz   \n",
       "42    2023-10-26      VALORANT // Brasil   \n",
       "43    2023-10-26                    Xbox   \n",
       "44    2023-10-26              YoshiGamer   \n",
       "45    2023-10-26                 Zangado   \n",
       "46    2023-10-26             viniccius13   \n",
       "\n",
       "                                         titulo_video  total_visualizacoes  \\\n",
       "0               ARK: Survival Ascended Launch Trailer              1322140   \n",
       "1               Apex Legends: Ignite Gameplay Trailer               840241   \n",
       "2                 Apex Legends: Ignite Launch Trailer               147543   \n",
       "3   CONSEGUI O NOVO ESTILO DE LUTA DO BLOX FRUITS ...                 8120   \n",
       "4   UPEI DO 1 AO 700 COM A NOVA FRUTA MAMUTE DO BL...                31674   \n",
       "5   SPIDER-MAN 2 - O Início de Gameplay, em Portug...                28297   \n",
       "6              Eu EXPULSEI o GELEIA da CREATIVE SQUAD                 3567   \n",
       "7   Brawl Stars Animation - The Bizarre Circus Spe...                75088   \n",
       "8   Brawl Stars: Brawl Talk - MEGA PIG, Spider Bra...               123645   \n",
       "9   PEQUENA FORTUNA EM SERVIÇOS PÚBLICOS BÁSICOS 🏙...                 2813   \n",
       "10  MYLON REAGE: AS 20 PIORES PLAYS DA HISTÓRIA DO...                58108   \n",
       "11  O QUE ESTÁ ACONTECENDO COM ESSA ANIMAÇÃO??? - ...                96999   \n",
       "12  Em Busca do Campeão: 100 CAMADAS de SPLEEF! - ...                25356   \n",
       "13  FINALMENTE DERROTEI O LEVIATHAN DO BLOX FRUITS!!!                 2810   \n",
       "14                    DUPLA DA BICUDA! - Spider-Man 2               104933   \n",
       "15  MACACO PLAY 2 KKKKKKKKK! - Skull Island Rise o...                21888   \n",
       "16  REVELEI TODO O PODER DAS NOVAS FRUTAS \"MAMUTE ...                22288   \n",
       "17  ELE PEGA ESSE TREM TODA MADRUGADA MAS PARECE Q...                26940   \n",
       "18  O BIZARRO EPISÓDIO PERDIDO DE UMA SÉRIE DE TER...                37526   \n",
       "19  SOBREVIVENDO NUMA ILHA DESERTA POR QUE O PLANE...               110827   \n",
       "20  LOCALIZAÇÃO E COMO PEGAR O ESTILO DE LUTA ARTE...                  453   \n",
       "21  COMO SPAWNAR o LEVIATHAN e COMO PEGAR ESTILO D...                  392   \n",
       "22  24 Horas Rastreando as Novas Frutas da Atualiz...                39722   \n",
       "23  Finalmente Chegou a Atualização do Blox Fruits...                  368   \n",
       "24  HEARTSTEEL - PARANOIA Music Video Teaser | Lea...                16016   \n",
       "25  HEARTSTEEL - PARANOIA ft. BAEKHYUN, tobi lou, ...              1935990   \n",
       "26  SPIDER MAN 2 PS5 - O inicio do jogo em MUNDO A...                31933   \n",
       "27  fazendo troca até conseguir a nova fruta do SO...                19761   \n",
       "28       COMO CONSEGUI 1000 NÍVEIS DE XP NO MINECRAFT                28872   \n",
       "29               O DIA QUE CONSEGUI 1000 NÍVEIS DE XP                97206   \n",
       "30     CREATIVE SQUAD 4: 1 CAÇADOR vs 12 SPEEDRUNNERS                 5080   \n",
       "31     CPN X DIA 1 💜 NOISE - CRIAS - LOS - FLAMENGO 💜                 1651   \n",
       "32  CORRE!! NOVO CÓDIGO DA FRUTA MAMUTE + 31 CÓDIG...                  763   \n",
       "33       TUDO QUE MUDOU NA ATUALIZAÇÃO DO BLOX FRUITS                 5884   \n",
       "34     Evolui Pet de Youtubers do Começo Até o Final!                11401   \n",
       "35   ESCAPE DA PRISÃO SEGURA DO SMURF CAT NO ROBLOX!!                36172   \n",
       "36                            Halloween in GTA Online               345895   \n",
       "37  TUDO sobre ISO NOVO AGENTE  do VALORANT | LOUD...                 2126   \n",
       "38  GTA 6: VAZ0U! Assim SERÁ o TRAILER... Funcioná...                73916   \n",
       "39  A EXPERIÊNCIA DO AVIÃO ft CRIS MINEGIRL (Roblo...                53286   \n",
       "40  O DIA CHEGOU!!! ATUALIZAÇÃO 20 do BLOX FRUITS ...                   67   \n",
       "41  BUGOU!!! BRAWL STARS NÃO ENTRA E SÓ FICA EM MA...                 1677   \n",
       "42         MITOS // Trailer de Agente: Iso – VALORANT                 3545   \n",
       "43  METAL GEAR SOLID Δ: SNAKE EATER - First In-Eng...               545709   \n",
       "44   ARK SURVIVAL ASCENDED - Minha Primeira GAMEPLAY!                40420   \n",
       "45  Skull Island: Rise of Kong : A Primeira Mei......                35836   \n",
       "46  Farm de Sniffer - Minecraft Em busca da casa a...                59226   \n",
       "\n",
       "    total_likes  total_comentarios  \n",
       "0       66120.0             7019.0  \n",
       "1       41044.0             3831.0  \n",
       "2        3248.0              220.0  \n",
       "3         443.0              147.0  \n",
       "4        1356.0               26.0  \n",
       "5        1007.0                7.0  \n",
       "6         113.0              417.0  \n",
       "7        1358.0               72.0  \n",
       "8        1671.0              164.0  \n",
       "9         214.0              372.0  \n",
       "10       3342.0               33.0  \n",
       "11      11396.0              577.0  \n",
       "12       1543.0               20.0  \n",
       "13         73.0              753.0  \n",
       "14      10862.0               94.0  \n",
       "15       1375.0               15.0  \n",
       "16        545.0              694.0  \n",
       "17        624.0                9.0  \n",
       "18        847.0               17.0  \n",
       "19       2883.0             1330.0  \n",
       "20          5.0              642.0  \n",
       "21          5.0             1143.0  \n",
       "22       2782.0               84.0  \n",
       "23         16.0              962.0  \n",
       "24        597.0             2153.0  \n",
       "25      34047.0             1767.0  \n",
       "26        726.0              966.0  \n",
       "27       2238.0             1355.0  \n",
       "28        664.0               10.0  \n",
       "29       2135.0               39.0  \n",
       "30        226.0                4.0  \n",
       "31         62.0              372.0  \n",
       "32         26.0            19113.0  \n",
       "33         77.0             1118.0  \n",
       "34        128.0                3.0  \n",
       "35       1022.0                3.0  \n",
       "36      17159.0             8217.0  \n",
       "37         75.0              572.0  \n",
       "38       6451.0              635.0  \n",
       "39        829.0               45.0  \n",
       "40       4835.0             1506.0  \n",
       "41         12.0             1364.0  \n",
       "42        127.0              669.0  \n",
       "43      16943.0              996.0  \n",
       "44       4451.0              256.0  \n",
       "45       6280.0              282.0  \n",
       "46       3870.0               69.0  "
      ]
     },
     "execution_count": 85,
     "metadata": {},
     "output_type": "execute_result"
    }
   ],
   "source": [
    "df_top_10.groupby(['data_extracao', 'nm_canal', 'titulo_video']).agg(\n",
    "    total_visualizacoes=('total_visualizacoes_turno', 'sum'),\n",
    "    total_likes=('total_likes_turno', 'sum'),\n",
    "    total_comentarios=('total_comentarios_turno', 'sum')\n",
    ").reset_index()"
   ]
  },
  {
   "cell_type": "code",
   "execution_count": null,
   "metadata": {},
   "outputs": [],
   "source": []
  },
  {
   "cell_type": "markdown",
   "metadata": {},
   "source": [
    "- Encontre o máximo min e média baseada por palavra chave"
   ]
  },
  {
   "cell_type": "markdown",
   "metadata": {},
   "source": [
    "- Total de Visualizacoes, comentários e likes por assunto x data"
   ]
  },
  {
   "cell_type": "code",
   "execution_count": 59,
   "metadata": {},
   "outputs": [
    {
     "data": {
      "text/plain": [
       "Index(['INDICE_TURNO_EXTRACAO', 'NM_CANAL', 'ID_VIDEO', 'TITULO_VIDEO',\n",
       "       'TOTAL_CARACTERE_VIDEO', 'TAGS', 'DURACAO_VIDEO_MINUTOS', 'TOTAL_TAGS',\n",
       "       'TOTAL_VISUALIZACOES', 'TOTAL_COMENTARIOS', 'TOTAL_LIKES',\n",
       "       'TOTAL_VISUALIZACOES_TURNO', 'TOTAL_COMENTARIOS_TURNO',\n",
       "       'TOTAL_LIKES_TURNO', 'data_extracao', 'TURNO_EXTRACAO', 'ID_CANAL'],\n",
       "      dtype='object')"
      ]
     },
     "execution_count": 59,
     "metadata": {},
     "output_type": "execute_result"
    }
   ],
   "source": [
    "base_desempenho = pd.read_parquet('/home/rodrigo/Documentos/projetos/open_weather_api_apache/analise_dados_youtube/data/projetos_youtube_v2/ouro/assunto_cities_skylines/total_visualizacoes_por_semana/total_visualizacoes_por_semana.parquet')\n",
    "base_desempenho.columns\n"
   ]
  },
  {
   "cell_type": "code",
   "execution_count": 60,
   "metadata": {},
   "outputs": [
    {
     "name": "stdout",
     "output_type": "stream",
     "text": [
      "<class 'pandas.core.frame.DataFrame'>\n",
      "RangeIndex: 3951 entries, 0 to 3950\n",
      "Data columns (total 17 columns):\n",
      " #   Column                     Non-Null Count  Dtype   \n",
      "---  ------                     --------------  -----   \n",
      " 0   INDICE_TURNO_EXTRACAO      3951 non-null   int32   \n",
      " 1   NM_CANAL                   3951 non-null   object  \n",
      " 2   ID_VIDEO                   3951 non-null   object  \n",
      " 3   TITULO_VIDEO               3951 non-null   object  \n",
      " 4   TOTAL_CARACTERE_VIDEO      3951 non-null   int32   \n",
      " 5   TAGS                       2916 non-null   object  \n",
      " 6   DURACAO_VIDEO_MINUTOS      3951 non-null   float32 \n",
      " 7   TOTAL_TAGS                 3951 non-null   int32   \n",
      " 8   TOTAL_VISUALIZACOES        3951 non-null   int32   \n",
      " 9   TOTAL_COMENTARIOS          3951 non-null   int32   \n",
      " 10  TOTAL_LIKES                3896 non-null   float64 \n",
      " 11  TOTAL_VISUALIZACOES_TURNO  3951 non-null   int32   \n",
      " 12  TOTAL_COMENTARIOS_TURNO    3951 non-null   int32   \n",
      " 13  TOTAL_LIKES_TURNO          3896 non-null   float64 \n",
      " 14  data_extracao              3951 non-null   category\n",
      " 15  TURNO_EXTRACAO             3951 non-null   category\n",
      " 16  ID_CANAL                   3951 non-null   category\n",
      "dtypes: category(3), float32(1), float64(2), int32(7), object(4)\n",
      "memory usage: 325.8+ KB\n"
     ]
    }
   ],
   "source": [
    "base_desempenho.info()"
   ]
  },
  {
   "cell_type": "code",
   "execution_count": 61,
   "metadata": {},
   "outputs": [],
   "source": [
    "def indice_semana( dia: str) -> int | None:\n",
    "        dias_semana = {\n",
    "            'Domingo': 1,\n",
    "            'Segunda-feira': 2,\n",
    "            'Terça-feira': 3,\n",
    "            'Quarta-feira': 4,\n",
    "            'Quinta-feira': 5,\n",
    "            'Sexta-feira': 6,\n",
    "            'Sábado': 7\n",
    "        }\n",
    "\n",
    "        return dias_semana.get(dia)"
   ]
  },
  {
   "cell_type": "code",
   "execution_count": 62,
   "metadata": {},
   "outputs": [],
   "source": [
    "base_desempenho = base_desempenho[[ 'TOTAL_VISUALIZACOES_TURNO', 'data_extracao']]"
   ]
  },
  {
   "cell_type": "code",
   "execution_count": 63,
   "metadata": {},
   "outputs": [
    {
     "name": "stdout",
     "output_type": "stream",
     "text": [
      "<class 'pandas.core.frame.DataFrame'>\n",
      "RangeIndex: 3951 entries, 0 to 3950\n",
      "Data columns (total 2 columns):\n",
      " #   Column                     Non-Null Count  Dtype   \n",
      "---  ------                     --------------  -----   \n",
      " 0   TOTAL_VISUALIZACOES_TURNO  3951 non-null   int32   \n",
      " 1   data_extracao              3951 non-null   category\n",
      "dtypes: category(1), int32(1)\n",
      "memory usage: 19.8 KB\n"
     ]
    }
   ],
   "source": [
    "base_desempenho.info()"
   ]
  },
  {
   "cell_type": "code",
   "execution_count": 64,
   "metadata": {},
   "outputs": [
    {
     "data": {
      "text/html": [
       "<div>\n",
       "<style scoped>\n",
       "    .dataframe tbody tr th:only-of-type {\n",
       "        vertical-align: middle;\n",
       "    }\n",
       "\n",
       "    .dataframe tbody tr th {\n",
       "        vertical-align: top;\n",
       "    }\n",
       "\n",
       "    .dataframe thead th {\n",
       "        text-align: right;\n",
       "    }\n",
       "</style>\n",
       "<table border=\"1\" class=\"dataframe\">\n",
       "  <thead>\n",
       "    <tr style=\"text-align: right;\">\n",
       "      <th></th>\n",
       "      <th>TOTAL_VISUALIZACOES_TURNO</th>\n",
       "      <th>data_extracao</th>\n",
       "    </tr>\n",
       "  </thead>\n",
       "  <tbody>\n",
       "    <tr>\n",
       "      <th>0</th>\n",
       "      <td>97</td>\n",
       "      <td>2023-10-15</td>\n",
       "    </tr>\n",
       "    <tr>\n",
       "      <th>1</th>\n",
       "      <td>1</td>\n",
       "      <td>2023-10-15</td>\n",
       "    </tr>\n",
       "    <tr>\n",
       "      <th>2</th>\n",
       "      <td>4</td>\n",
       "      <td>2023-10-15</td>\n",
       "    </tr>\n",
       "    <tr>\n",
       "      <th>3</th>\n",
       "      <td>3</td>\n",
       "      <td>2023-10-15</td>\n",
       "    </tr>\n",
       "    <tr>\n",
       "      <th>4</th>\n",
       "      <td>100</td>\n",
       "      <td>2023-10-15</td>\n",
       "    </tr>\n",
       "  </tbody>\n",
       "</table>\n",
       "</div>"
      ],
      "text/plain": [
       "   TOTAL_VISUALIZACOES_TURNO data_extracao\n",
       "0                         97    2023-10-15\n",
       "1                          1    2023-10-15\n",
       "2                          4    2023-10-15\n",
       "3                          3    2023-10-15\n",
       "4                        100    2023-10-15"
      ]
     },
     "execution_count": 64,
     "metadata": {},
     "output_type": "execute_result"
    }
   ],
   "source": [
    "base_desempenho.head()"
   ]
  },
  {
   "cell_type": "code",
   "execution_count": 65,
   "metadata": {},
   "outputs": [
    {
     "data": {
      "text/html": [
       "<div>\n",
       "<style scoped>\n",
       "    .dataframe tbody tr th:only-of-type {\n",
       "        vertical-align: middle;\n",
       "    }\n",
       "\n",
       "    .dataframe tbody tr th {\n",
       "        vertical-align: top;\n",
       "    }\n",
       "\n",
       "    .dataframe thead th {\n",
       "        text-align: right;\n",
       "    }\n",
       "</style>\n",
       "<table border=\"1\" class=\"dataframe\">\n",
       "  <thead>\n",
       "    <tr style=\"text-align: right;\">\n",
       "      <th></th>\n",
       "      <th>data_extracao</th>\n",
       "      <th>TOTAL_VISUALIZACOES</th>\n",
       "    </tr>\n",
       "  </thead>\n",
       "  <tbody>\n",
       "    <tr>\n",
       "      <th>0</th>\n",
       "      <td>2023-10-15</td>\n",
       "      <td>6454</td>\n",
       "    </tr>\n",
       "    <tr>\n",
       "      <th>1</th>\n",
       "      <td>2023-10-16</td>\n",
       "      <td>14432</td>\n",
       "    </tr>\n",
       "    <tr>\n",
       "      <th>2</th>\n",
       "      <td>2023-10-19</td>\n",
       "      <td>105004</td>\n",
       "    </tr>\n",
       "    <tr>\n",
       "      <th>3</th>\n",
       "      <td>2023-10-20</td>\n",
       "      <td>104625</td>\n",
       "    </tr>\n",
       "    <tr>\n",
       "      <th>4</th>\n",
       "      <td>2023-10-21</td>\n",
       "      <td>156661</td>\n",
       "    </tr>\n",
       "  </tbody>\n",
       "</table>\n",
       "</div>"
      ],
      "text/plain": [
       "  data_extracao  TOTAL_VISUALIZACOES\n",
       "0    2023-10-15                 6454\n",
       "1    2023-10-16                14432\n",
       "2    2023-10-19               105004\n",
       "3    2023-10-20               104625\n",
       "4    2023-10-21               156661"
      ]
     },
     "execution_count": 65,
     "metadata": {},
     "output_type": "execute_result"
    }
   ],
   "source": [
    "base_desempenho = base_desempenho.groupby('data_extracao', observed=False).agg(\n",
    "    TOTAL_VISUALIZACOES=('TOTAL_VISUALIZACOES_TURNO', 'sum')\n",
    ").reset_index()\n",
    "base_desempenho.head()"
   ]
  }
 ],
 "metadata": {
  "kernelspec": {
   "display_name": "venv",
   "language": "python",
   "name": "python3"
  },
  "language_info": {
   "codemirror_mode": {
    "name": "ipython",
    "version": 3
   },
   "file_extension": ".py",
   "mimetype": "text/x-python",
   "name": "python",
   "nbconvert_exporter": "python",
   "pygments_lexer": "ipython3",
   "version": "3.10.12"
  }
 },
 "nbformat": 4,
 "nbformat_minor": 2
}
